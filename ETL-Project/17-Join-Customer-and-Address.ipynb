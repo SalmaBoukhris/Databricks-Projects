{
 "cells": [
  {
   "cell_type": "markdown",
   "metadata": {
    "application/vnd.databricks.v1+cell": {
     "cellMetadata": {},
     "inputWidgets": {},
     "nuid": "9e6000c4-5336-4f78-b514-c92edef4275f",
     "showTitle": false,
     "tableResultSettingsMap": {},
     "title": ""
    }
   },
   "source": [
    "## Join Customer and Address"
   ]
  },
  {
   "cell_type": "code",
   "execution_count": 0,
   "metadata": {
    "application/vnd.databricks.v1+cell": {
     "cellMetadata": {
      "byteLimit": 2048000,
      "implicitDf": true,
      "rowLimit": 10000
     },
     "inputWidgets": {},
     "nuid": "299a7f14-b7e8-4d3e-bafa-8afc90eb9e0b",
     "showTitle": false,
     "tableResultSettingsMap": {},
     "title": ""
    }
   },
   "outputs": [
    {
     "output_type": "display_data",
     "data": {
      "text/html": [
       "<style scoped>\n",
       "  .table-result-container {\n",
       "    max-height: 300px;\n",
       "    overflow: auto;\n",
       "  }\n",
       "  table, th, td {\n",
       "    border: 1px solid black;\n",
       "    border-collapse: collapse;\n",
       "  }\n",
       "  th, td {\n",
       "    padding: 5px;\n",
       "  }\n",
       "  th {\n",
       "    text-align: left;\n",
       "  }\n",
       "</style><div class='table-result-container'><table class='table-result'><thead style='background-color: white'><tr><th>created_timestamp</th><th>customer_id</th><th>customer_name</th><th>date_of_birth</th><th>email</th><th>member_since</th><th>telephone</th></tr></thead><tbody><tr><td>2024-10-01T00:50:29.000Z</td><td>4858</td><td>Carla Morton</td><td>2004-06-21</td><td>joseph88@mail.com</td><td>2024-09-15</td><td>+1 8616454195</td></tr><tr><td>2024-10-15T02:48:29.000Z</td><td>5011</td><td>Rachel Thomas</td><td>2003-02-17</td><td>lauren59@yahoo.com</td><td>2024-09-24</td><td>+1 5437271621</td></tr><tr><td>2024-10-06T19:55:52.000Z</td><td>5028</td><td>Jessica Harris</td><td>2004-04-19</td><td>null</td><td>2024-09-10</td><td>+1 8604009935</td></tr><tr><td>2024-10-26T15:14:33.000Z</td><td>2344</td><td>Martin Thomas DDS</td><td>2002-05-01</td><td>billy42@outlook.com</td><td>2024-10-13</td><td>+1 0201457151</td></tr><tr><td>2024-10-28T00:57:09.000Z</td><td>9247</td><td>Dr. Daniel Hall</td><td>2004-03-21</td><td>tamara30@gmail.com</td><td>2024-10-03</td><td>+1 7544137170</td></tr><tr><td>2024-10-24T13:03:13.000Z</td><td>9706</td><td>Jennifer Haas</td><td>2001-04-03</td><td>benjamin55@mail.com</td><td>2024-10-05</td><td>+1 4725460000</td></tr><tr><td>2024-10-21T13:20:26.000Z</td><td>8580</td><td>Shannon Austin</td><td>2002-03-22</td><td>john30@gmail.com</td><td>2024-10-07</td><td>+1 4594705629</td></tr><tr><td>2024-10-23T22:03:08.000Z</td><td>7207</td><td>Billy Scott</td><td>1997-03-17</td><td>christopher30@mail.com</td><td>2024-09-23</td><td>+1 5544387564</td></tr><tr><td>2024-10-22T05:52:57.000Z</td><td>6627</td><td>Candice Rosales</td><td>2004-04-03</td><td>amber79@example.org</td><td>2024-10-15</td><td>+1 4788451559</td></tr><tr><td>2024-10-18T23:24:52.000Z</td><td>9018</td><td>William Carter</td><td>2003-09-05</td><td>james70@gmail.com</td><td>2024-10-08</td><td>+1 1448753611</td></tr><tr><td>2024-10-08T22:49:25.000Z</td><td>9263</td><td>Joseph Keller</td><td>2003-02-11</td><td>null</td><td>2024-10-04</td><td>+1 3817867756</td></tr><tr><td>2024-10-02T14:53:40.000Z</td><td>3409</td><td>Andrew Phillips</td><td>2003-04-17</td><td>peter73@yahoo.com</td><td>2024-09-30</td><td>+1 4079273853</td></tr><tr><td>2024-10-17T16:12:27.000Z</td><td>9179</td><td>Richard Cox</td><td>1996-10-25</td><td>devon84@mail.com</td><td>2024-09-26</td><td>+1 6680703335</td></tr><tr><td>2024-10-12T06:02:27.000Z</td><td>8539</td><td>Lori Mason</td><td>2002-11-01</td><td>stephanie7@mail.com</td><td>2024-09-12</td><td>+1 0498301620</td></tr><tr><td>2024-11-09T14:52:31.000Z</td><td>5204</td><td>Jennifer Nichols DDS</td><td>1997-02-17</td><td>joseph8@example.org</td><td>2024-11-04</td><td>+1 0383356328</td></tr><tr><td>2024-11-19T14:03:09.000Z</td><td>5816</td><td>Amy Morales</td><td>1999-12-11</td><td>katelyn82@example.org</td><td>2024-11-04</td><td>+1 4140982719</td></tr><tr><td>2024-11-09T07:14:17.000Z</td><td>7123</td><td>Edgar Stevens</td><td>2003-02-15</td><td>kevin68@example.org</td><td>2024-10-27</td><td>+1 0793189847</td></tr><tr><td>2024-11-07T22:20:00.000Z</td><td>2703</td><td>Anthony Miller</td><td>1997-11-02</td><td>null</td><td>2024-11-05</td><td>+1 1586310752</td></tr><tr><td>2024-11-12T12:57:38.000Z</td><td>4914</td><td>Samantha Johnson</td><td>1997-03-26</td><td>theresa14@mail.com</td><td>2024-10-13</td><td>+1 4095003738</td></tr><tr><td>2024-11-23T18:16:18.000Z</td><td>4468</td><td>Mrs. Roberta Salas PhD</td><td>1997-05-10</td><td>null</td><td>2024-10-25</td><td>+1 4679955118</td></tr><tr><td>2024-11-24T11:14:03.000Z</td><td>3712</td><td>Robin Chavez</td><td>1997-03-16</td><td>lisa15@gmail.com</td><td>2024-11-24</td><td>+1 2654756919</td></tr><tr><td>2024-11-03T17:22:56.000Z</td><td>2054</td><td>Alan Price</td><td>1998-08-25</td><td>connor40@yahoo.com</td><td>2024-10-14</td><td>+1 3745642936</td></tr><tr><td>2024-11-16T01:47:25.000Z</td><td>1987</td><td>Amanda Alvarez</td><td>1995-10-11</td><td>eric40@outlook.com</td><td>2024-10-27</td><td>+1 9673066300</td></tr><tr><td>2024-11-08T02:26:42.000Z</td><td>7295</td><td>Lauren Reed</td><td>2001-08-11</td><td>jeanette48@example.org</td><td>2024-10-10</td><td>+1 0104088765</td></tr><tr><td>2024-11-14T16:41:14.000Z</td><td>4761</td><td>Timothy Smith</td><td>1996-11-07</td><td>joshua40@yahoo.com</td><td>2024-11-03</td><td>+1 9450920858</td></tr><tr><td>2024-11-14T20:41:18.000Z</td><td>3892</td><td>Jason Bridges</td><td>2004-01-01</td><td>nicole29@gmail.com</td><td>2024-10-29</td><td>+1 8220011928</td></tr><tr><td>2024-11-09T20:24:30.000Z</td><td>7803</td><td>Katherine Lee</td><td>2000-03-09</td><td>jennifer85@mail.com</td><td>2024-10-27</td><td>+1 3119886866</td></tr><tr><td>2024-12-05T08:58:52.000Z</td><td>9687</td><td>Micheal Perez MD</td><td>2002-07-18</td><td>christopher65@example.org</td><td>2024-11-22</td><td>+1 3079718622</td></tr><tr><td>2024-12-24T14:46:04.000Z</td><td>6384</td><td>Jennifer Carrillo</td><td>1994-12-18</td><td>james34@yahoo.com</td><td>2024-12-22</td><td>+1 5592179843</td></tr><tr><td>2024-12-04T13:16:03.000Z</td><td>5592</td><td>Richard Neal</td><td>1995-11-05</td><td>eric52@gmail.com</td><td>2024-11-15</td><td>+1 4425187397</td></tr><tr><td>2024-12-17T15:05:15.000Z</td><td>2141</td><td>Zachary Lopez</td><td>2002-09-20</td><td>glenn87@example.org</td><td>2024-12-14</td><td>+1 7431190983</td></tr><tr><td>2024-12-25T11:06:35.000Z</td><td>6973</td><td>Tracy Cole</td><td>1998-07-24</td><td>tony46@mail.com</td><td>2024-12-16</td><td>+1 5515836612</td></tr><tr><td>2024-12-13T14:23:27.000Z</td><td>6406</td><td>Christopher Ritter</td><td>2004-07-12</td><td>null</td><td>2024-11-24</td><td>+1 1752511241</td></tr><tr><td>2024-12-22T23:00:48.000Z</td><td>7997</td><td>Patricia Abbott</td><td>1997-07-31</td><td>angela97@mail.com</td><td>2024-11-28</td><td>+1 4053366448</td></tr><tr><td>2024-12-07T18:09:58.000Z</td><td>7829</td><td>Daniel Black</td><td>1998-04-13</td><td>sandra54@example.org</td><td>2024-11-16</td><td>+1 0933795082</td></tr><tr><td>2024-12-26T09:29:16.000Z</td><td>3532</td><td>Holly Wilkinson</td><td>2003-03-06</td><td>lindsey61@yahoo.com</td><td>2024-12-22</td><td>null</td></tr><tr><td>2024-12-16T16:54:10.000Z</td><td>1211</td><td>Jeremy Ball</td><td>2002-03-26</td><td>megan86@yahoo.com</td><td>2024-12-01</td><td>+1 5793543882</td></tr><tr><td>2024-12-20T12:32:29.000Z</td><td>3084</td><td>Tyler Simmons</td><td>2003-02-20</td><td>brian94@mail.com</td><td>2024-12-02</td><td>null</td></tr><tr><td>2024-12-21T07:08:28.000Z</td><td>2639</td><td>Jessica Deleon</td><td>1995-06-04</td><td>jeremiah96@gmail.com</td><td>2024-11-22</td><td>+1 1304435999</td></tr><tr><td>2025-01-14T13:30:57.000Z</td><td>9605</td><td>Tiffany Rocha</td><td>2003-04-25</td><td>michael82@yahoo.com</td><td>2024-12-22</td><td>+1 6232811506</td></tr><tr><td>2025-01-25T13:28:31.000Z</td><td>3889</td><td>Jennifer Jackson</td><td>1995-10-30</td><td>catherine77@example.org</td><td>2025-01-07</td><td>+1 5932456755</td></tr><tr><td>2025-01-17T07:50:48.000Z</td><td>3295</td><td>Drew Hanson</td><td>1996-11-21</td><td>cathy31@gmail.com</td><td>2025-01-01</td><td>+1 6521792889</td></tr><tr><td>2025-01-12T20:13:31.000Z</td><td>4996</td><td>Brandon Reed</td><td>1997-05-11</td><td>stacey71@yahoo.com</td><td>2024-12-13</td><td>null</td></tr><tr><td>2025-01-03T03:28:34.000Z</td><td>9084</td><td>Olivia Lyons</td><td>1997-06-17</td><td>patty47@outlook.com</td><td>2024-12-16</td><td>+1 2909899135</td></tr><tr><td>2025-01-23T02:07:26.000Z</td><td>9150</td><td>Alison Davis</td><td>2004-01-17</td><td>jacob31@yahoo.com</td><td>2024-12-26</td><td>+1 7119851149</td></tr><tr><td>2025-01-14T18:31:28.000Z</td><td>6167</td><td>Leslie Smith</td><td>2001-10-28</td><td>angela16@mail.com</td><td>2024-12-16</td><td>+1 2978446880</td></tr><tr><td>2025-01-05T17:29:34.000Z</td><td>7007</td><td>Joe Castaneda</td><td>1999-04-27</td><td>michael34@mail.com</td><td>2024-12-31</td><td>+1 1767970338</td></tr><tr><td>2025-01-26T09:46:03.000Z</td><td>4973</td><td>Daniel Thompson</td><td>1999-07-17</td><td>connor32@example.org</td><td>2024-12-27</td><td>+1 5823046206</td></tr><tr><td>2025-01-17T15:59:39.000Z</td><td>5953</td><td>Kevin Harris</td><td>2003-01-23</td><td>timothy99@mail.com</td><td>2024-12-31</td><td>+1 6517763640</td></tr><tr><td>2025-01-16T21:17:22.000Z</td><td>8845</td><td>Joseph Robbins</td><td>1997-04-04</td><td>derek53@yahoo.com</td><td>2025-01-12</td><td>+1 9513893820</td></tr></tbody></table></div>"
      ]
     },
     "metadata": {
      "application/vnd.databricks.v1+output": {
       "addedWidgets": {},
       "aggData": [],
       "aggError": "",
       "aggOverflow": false,
       "aggSchema": [],
       "aggSeriesLimitReached": false,
       "aggType": "",
       "arguments": {},
       "columnCustomDisplayInfos": {},
       "data": [
        [
         "2024-10-01T00:50:29.000Z",
         4858,
         "Carla Morton",
         "2004-06-21",
         "joseph88@mail.com",
         "2024-09-15",
         "+1 8616454195"
        ],
        [
         "2024-10-15T02:48:29.000Z",
         5011,
         "Rachel Thomas",
         "2003-02-17",
         "lauren59@yahoo.com",
         "2024-09-24",
         "+1 5437271621"
        ],
        [
         "2024-10-06T19:55:52.000Z",
         5028,
         "Jessica Harris",
         "2004-04-19",
         null,
         "2024-09-10",
         "+1 8604009935"
        ],
        [
         "2024-10-26T15:14:33.000Z",
         2344,
         "Martin Thomas DDS",
         "2002-05-01",
         "billy42@outlook.com",
         "2024-10-13",
         "+1 0201457151"
        ],
        [
         "2024-10-28T00:57:09.000Z",
         9247,
         "Dr. Daniel Hall",
         "2004-03-21",
         "tamara30@gmail.com",
         "2024-10-03",
         "+1 7544137170"
        ],
        [
         "2024-10-24T13:03:13.000Z",
         9706,
         "Jennifer Haas",
         "2001-04-03",
         "benjamin55@mail.com",
         "2024-10-05",
         "+1 4725460000"
        ],
        [
         "2024-10-21T13:20:26.000Z",
         8580,
         "Shannon Austin",
         "2002-03-22",
         "john30@gmail.com",
         "2024-10-07",
         "+1 4594705629"
        ],
        [
         "2024-10-23T22:03:08.000Z",
         7207,
         "Billy Scott",
         "1997-03-17",
         "christopher30@mail.com",
         "2024-09-23",
         "+1 5544387564"
        ],
        [
         "2024-10-22T05:52:57.000Z",
         6627,
         "Candice Rosales",
         "2004-04-03",
         "amber79@example.org",
         "2024-10-15",
         "+1 4788451559"
        ],
        [
         "2024-10-18T23:24:52.000Z",
         9018,
         "William Carter",
         "2003-09-05",
         "james70@gmail.com",
         "2024-10-08",
         "+1 1448753611"
        ],
        [
         "2024-10-08T22:49:25.000Z",
         9263,
         "Joseph Keller",
         "2003-02-11",
         null,
         "2024-10-04",
         "+1 3817867756"
        ],
        [
         "2024-10-02T14:53:40.000Z",
         3409,
         "Andrew Phillips",
         "2003-04-17",
         "peter73@yahoo.com",
         "2024-09-30",
         "+1 4079273853"
        ],
        [
         "2024-10-17T16:12:27.000Z",
         9179,
         "Richard Cox",
         "1996-10-25",
         "devon84@mail.com",
         "2024-09-26",
         "+1 6680703335"
        ],
        [
         "2024-10-12T06:02:27.000Z",
         8539,
         "Lori Mason",
         "2002-11-01",
         "stephanie7@mail.com",
         "2024-09-12",
         "+1 0498301620"
        ],
        [
         "2024-11-09T14:52:31.000Z",
         5204,
         "Jennifer Nichols DDS",
         "1997-02-17",
         "joseph8@example.org",
         "2024-11-04",
         "+1 0383356328"
        ],
        [
         "2024-11-19T14:03:09.000Z",
         5816,
         "Amy Morales",
         "1999-12-11",
         "katelyn82@example.org",
         "2024-11-04",
         "+1 4140982719"
        ],
        [
         "2024-11-09T07:14:17.000Z",
         7123,
         "Edgar Stevens",
         "2003-02-15",
         "kevin68@example.org",
         "2024-10-27",
         "+1 0793189847"
        ],
        [
         "2024-11-07T22:20:00.000Z",
         2703,
         "Anthony Miller",
         "1997-11-02",
         null,
         "2024-11-05",
         "+1 1586310752"
        ],
        [
         "2024-11-12T12:57:38.000Z",
         4914,
         "Samantha Johnson",
         "1997-03-26",
         "theresa14@mail.com",
         "2024-10-13",
         "+1 4095003738"
        ],
        [
         "2024-11-23T18:16:18.000Z",
         4468,
         "Mrs. Roberta Salas PhD",
         "1997-05-10",
         null,
         "2024-10-25",
         "+1 4679955118"
        ],
        [
         "2024-11-24T11:14:03.000Z",
         3712,
         "Robin Chavez",
         "1997-03-16",
         "lisa15@gmail.com",
         "2024-11-24",
         "+1 2654756919"
        ],
        [
         "2024-11-03T17:22:56.000Z",
         2054,
         "Alan Price",
         "1998-08-25",
         "connor40@yahoo.com",
         "2024-10-14",
         "+1 3745642936"
        ],
        [
         "2024-11-16T01:47:25.000Z",
         1987,
         "Amanda Alvarez",
         "1995-10-11",
         "eric40@outlook.com",
         "2024-10-27",
         "+1 9673066300"
        ],
        [
         "2024-11-08T02:26:42.000Z",
         7295,
         "Lauren Reed",
         "2001-08-11",
         "jeanette48@example.org",
         "2024-10-10",
         "+1 0104088765"
        ],
        [
         "2024-11-14T16:41:14.000Z",
         4761,
         "Timothy Smith",
         "1996-11-07",
         "joshua40@yahoo.com",
         "2024-11-03",
         "+1 9450920858"
        ],
        [
         "2024-11-14T20:41:18.000Z",
         3892,
         "Jason Bridges",
         "2004-01-01",
         "nicole29@gmail.com",
         "2024-10-29",
         "+1 8220011928"
        ],
        [
         "2024-11-09T20:24:30.000Z",
         7803,
         "Katherine Lee",
         "2000-03-09",
         "jennifer85@mail.com",
         "2024-10-27",
         "+1 3119886866"
        ],
        [
         "2024-12-05T08:58:52.000Z",
         9687,
         "Micheal Perez MD",
         "2002-07-18",
         "christopher65@example.org",
         "2024-11-22",
         "+1 3079718622"
        ],
        [
         "2024-12-24T14:46:04.000Z",
         6384,
         "Jennifer Carrillo",
         "1994-12-18",
         "james34@yahoo.com",
         "2024-12-22",
         "+1 5592179843"
        ],
        [
         "2024-12-04T13:16:03.000Z",
         5592,
         "Richard Neal",
         "1995-11-05",
         "eric52@gmail.com",
         "2024-11-15",
         "+1 4425187397"
        ],
        [
         "2024-12-17T15:05:15.000Z",
         2141,
         "Zachary Lopez",
         "2002-09-20",
         "glenn87@example.org",
         "2024-12-14",
         "+1 7431190983"
        ],
        [
         "2024-12-25T11:06:35.000Z",
         6973,
         "Tracy Cole",
         "1998-07-24",
         "tony46@mail.com",
         "2024-12-16",
         "+1 5515836612"
        ],
        [
         "2024-12-13T14:23:27.000Z",
         6406,
         "Christopher Ritter",
         "2004-07-12",
         null,
         "2024-11-24",
         "+1 1752511241"
        ],
        [
         "2024-12-22T23:00:48.000Z",
         7997,
         "Patricia Abbott",
         "1997-07-31",
         "angela97@mail.com",
         "2024-11-28",
         "+1 4053366448"
        ],
        [
         "2024-12-07T18:09:58.000Z",
         7829,
         "Daniel Black",
         "1998-04-13",
         "sandra54@example.org",
         "2024-11-16",
         "+1 0933795082"
        ],
        [
         "2024-12-26T09:29:16.000Z",
         3532,
         "Holly Wilkinson",
         "2003-03-06",
         "lindsey61@yahoo.com",
         "2024-12-22",
         null
        ],
        [
         "2024-12-16T16:54:10.000Z",
         1211,
         "Jeremy Ball",
         "2002-03-26",
         "megan86@yahoo.com",
         "2024-12-01",
         "+1 5793543882"
        ],
        [
         "2024-12-20T12:32:29.000Z",
         3084,
         "Tyler Simmons",
         "2003-02-20",
         "brian94@mail.com",
         "2024-12-02",
         null
        ],
        [
         "2024-12-21T07:08:28.000Z",
         2639,
         "Jessica Deleon",
         "1995-06-04",
         "jeremiah96@gmail.com",
         "2024-11-22",
         "+1 1304435999"
        ],
        [
         "2025-01-14T13:30:57.000Z",
         9605,
         "Tiffany Rocha",
         "2003-04-25",
         "michael82@yahoo.com",
         "2024-12-22",
         "+1 6232811506"
        ],
        [
         "2025-01-25T13:28:31.000Z",
         3889,
         "Jennifer Jackson",
         "1995-10-30",
         "catherine77@example.org",
         "2025-01-07",
         "+1 5932456755"
        ],
        [
         "2025-01-17T07:50:48.000Z",
         3295,
         "Drew Hanson",
         "1996-11-21",
         "cathy31@gmail.com",
         "2025-01-01",
         "+1 6521792889"
        ],
        [
         "2025-01-12T20:13:31.000Z",
         4996,
         "Brandon Reed",
         "1997-05-11",
         "stacey71@yahoo.com",
         "2024-12-13",
         null
        ],
        [
         "2025-01-03T03:28:34.000Z",
         9084,
         "Olivia Lyons",
         "1997-06-17",
         "patty47@outlook.com",
         "2024-12-16",
         "+1 2909899135"
        ],
        [
         "2025-01-23T02:07:26.000Z",
         9150,
         "Alison Davis",
         "2004-01-17",
         "jacob31@yahoo.com",
         "2024-12-26",
         "+1 7119851149"
        ],
        [
         "2025-01-14T18:31:28.000Z",
         6167,
         "Leslie Smith",
         "2001-10-28",
         "angela16@mail.com",
         "2024-12-16",
         "+1 2978446880"
        ],
        [
         "2025-01-05T17:29:34.000Z",
         7007,
         "Joe Castaneda",
         "1999-04-27",
         "michael34@mail.com",
         "2024-12-31",
         "+1 1767970338"
        ],
        [
         "2025-01-26T09:46:03.000Z",
         4973,
         "Daniel Thompson",
         "1999-07-17",
         "connor32@example.org",
         "2024-12-27",
         "+1 5823046206"
        ],
        [
         "2025-01-17T15:59:39.000Z",
         5953,
         "Kevin Harris",
         "2003-01-23",
         "timothy99@mail.com",
         "2024-12-31",
         "+1 6517763640"
        ],
        [
         "2025-01-16T21:17:22.000Z",
         8845,
         "Joseph Robbins",
         "1997-04-04",
         "derek53@yahoo.com",
         "2025-01-12",
         "+1 9513893820"
        ]
       ],
       "datasetInfos": [
        {
         "name": "_sqldf",
         "schema": {
          "fields": [
           {
            "metadata": {},
            "name": "created_timestamp",
            "nullable": true,
            "type": "timestamp"
           },
           {
            "metadata": {},
            "name": "customer_id",
            "nullable": true,
            "type": "long"
           },
           {
            "metadata": {},
            "name": "customer_name",
            "nullable": true,
            "type": "string"
           },
           {
            "metadata": {},
            "name": "date_of_birth",
            "nullable": true,
            "type": "date"
           },
           {
            "metadata": {},
            "name": "email",
            "nullable": true,
            "type": "string"
           },
           {
            "metadata": {},
            "name": "member_since",
            "nullable": true,
            "type": "date"
           },
           {
            "metadata": {},
            "name": "telephone",
            "nullable": true,
            "type": "string"
           }
          ],
          "type": "struct"
         },
         "tableIdentifier": null,
         "typeStr": "pyspark.sql.connect.dataframe.DataFrame"
        }
       ],
       "dbfsResultPath": null,
       "isJsonSchema": true,
       "metadata": {
        "createTempViewForImplicitDf": true,
        "dataframeName": "_sqldf",
        "executionCount": 2
       },
       "overflow": false,
       "plotOptions": {
        "customPlotOptions": {},
        "displayType": "table",
        "pivotAggregation": null,
        "pivotColumns": null,
        "xColumns": null,
        "yColumns": null
       },
       "removedWidgets": [],
       "schema": [
        {
         "metadata": "{}",
         "name": "created_timestamp",
         "type": "\"timestamp\""
        },
        {
         "metadata": "{}",
         "name": "customer_id",
         "type": "\"long\""
        },
        {
         "metadata": "{}",
         "name": "customer_name",
         "type": "\"string\""
        },
        {
         "metadata": "{}",
         "name": "date_of_birth",
         "type": "\"date\""
        },
        {
         "metadata": "{}",
         "name": "email",
         "type": "\"string\""
        },
        {
         "metadata": "{}",
         "name": "member_since",
         "type": "\"date\""
        },
        {
         "metadata": "{}",
         "name": "telephone",
         "type": "\"string\""
        }
       ],
       "type": "table"
      }
     },
     "output_type": "display_data"
    }
   ],
   "source": [
    "%sql\n",
    "select * from gizmobox.silver.customers;"
   ]
  },
  {
   "cell_type": "code",
   "execution_count": 0,
   "metadata": {
    "application/vnd.databricks.v1+cell": {
     "cellMetadata": {
      "byteLimit": 2048000,
      "implicitDf": true,
      "rowLimit": 10000
     },
     "inputWidgets": {},
     "nuid": "13ab4695-4c96-4d1b-bf8f-0ae10a752efd",
     "showTitle": false,
     "tableResultSettingsMap": {},
     "title": ""
    }
   },
   "outputs": [
    {
     "output_type": "display_data",
     "data": {
      "text/html": [
       "<style scoped>\n",
       "  .table-result-container {\n",
       "    max-height: 300px;\n",
       "    overflow: auto;\n",
       "  }\n",
       "  table, th, td {\n",
       "    border: 1px solid black;\n",
       "    border-collapse: collapse;\n",
       "  }\n",
       "  th, td {\n",
       "    padding: 5px;\n",
       "  }\n",
       "  th {\n",
       "    text-align: left;\n",
       "  }\n",
       "</style><div class='table-result-container'><table class='table-result'><thead style='background-color: white'><tr><th>customer_id</th><th>shipping_address_line_1</th><th>shipping_city</th><th>shipping_state</th><th>shipping_postcode</th><th>billing_address_line_1</th><th>billing_city</th><th>billing_state</th><th>billing_postcode</th></tr></thead><tbody><tr><td>6627</td><td>76810 Mcintosh Forge Suite 885</td><td>Gregoryport</td><td>South Dakota</td><td>41885</td><td>35855 Haas Centers Apt. 931</td><td>West Andreaville</td><td>Virginia</td><td>82397</td></tr><tr><td>9179</td><td>9713 Medina Mountains Apt. 813</td><td>Lake Erika</td><td>Mississippi</td><td>91945</td><td>084 Anne Hollow Apt. 064</td><td>East Jasontown</td><td>Minnesota</td><td>77329</td></tr><tr><td>2344</td><td>97619 Sanchez Prairie Suite 359</td><td>Kelleyfurt</td><td>Louisiana</td><td>64906</td><td>5008 Corey Landing Apt. 475</td><td>South Christinaburgh</td><td>New Mexico</td><td>3650</td></tr><tr><td>5816</td><td>8400 Rebecca Lodge Suite 011</td><td>Lake Lisatown</td><td>Montana</td><td>11354</td><td>869 Linda Locks Apt. 105</td><td>West Melissabury</td><td>Michigan</td><td>37662</td></tr><tr><td>8580</td><td>17549 Lisa Mission Suite 987</td><td>Vasquezstad</td><td>Virginia</td><td>40641</td><td>6150 Jessica Park</td><td>Bellmouth</td><td>Pennsylvania</td><td>82370</td></tr><tr><td>9084</td><td>411 Joseph Park</td><td>Ericside</td><td>South Dakota</td><td>45339</td><td>649 Jessica Parks</td><td>North Tommyland</td><td>Illinois</td><td>88048</td></tr><tr><td>5028</td><td>955 Montgomery Mountain Suite 167</td><td>Jameschester</td><td>Kentucky</td><td>9013</td><td>5094 Ayala Falls</td><td>Greenmouth</td><td>North Carolina</td><td>2638</td></tr><tr><td>7207</td><td>75470 Richardson Mission Apt. 147</td><td>New Rachelhaven</td><td>Hawaii</td><td>38857</td><td>4450 Michelle Mission Suite 663</td><td>North Justin</td><td>Kentucky</td><td>91757</td></tr><tr><td>9706</td><td>2856 Jeremy Wall Apt. 985</td><td>East Elizabeth</td><td>Oklahoma</td><td>66460</td><td>14540 Moody Tunnel</td><td>West Shellybury</td><td>Kentucky</td><td>83151</td></tr><tr><td>4858</td><td>4838 Jacob Neck</td><td>Jamesview</td><td>Wisconsin</td><td>58657</td><td>4558 Cabrera Islands</td><td>Lake David</td><td>Rhode Island</td><td>6133</td></tr><tr><td>9247</td><td>196 Thomas Shore Apt. 768</td><td>Bobbymouth</td><td>Louisiana</td><td>91533</td><td>0034 Fleming Hollow Suite 295</td><td>Wadefurt</td><td>Montana</td><td>34460</td></tr><tr><td>3889</td><td>90408 Connie Pines Suite 258</td><td>Catherinehaven</td><td>Texas</td><td>33736</td><td>7908 Walker Track</td><td>North Jose</td><td>Virginia</td><td>84099</td></tr><tr><td>5011</td><td>828 Michele Spring</td><td>Duffyshire</td><td>Tennessee</td><td>93025</td><td>8066 Smith Ports</td><td>Port Cheryl</td><td>Florida</td><td>97952</td></tr><tr><td>8539</td><td>331 Monica Route Apt. 022</td><td>Michellechester</td><td>Texas</td><td>14637</td><td>48794 Aguirre Ferry Apt. 952</td><td>North Amy</td><td>Washington</td><td>92507</td></tr><tr><td>3409</td><td>918 April Junctions</td><td>New Theresa</td><td>Indiana</td><td>46004</td><td>1294 Edward Inlet</td><td>North Alison</td><td>Indiana</td><td>82752</td></tr><tr><td>9018</td><td>2099 Francisco Spring</td><td>Beanshire</td><td>South Carolina</td><td>87684</td><td>207 Tracy Gateway</td><td>Cookberg</td><td>Delaware</td><td>14011</td></tr><tr><td>9263</td><td>5733 Richards Ferry Suite 995</td><td>East Angelafort</td><td>Indiana</td><td>79556</td><td>13677 Garcia Ports</td><td>Shelleyland</td><td>Rhode Island</td><td>3719</td></tr><tr><td>5204</td><td>73225 Davis Island</td><td>Robertville</td><td>Florida</td><td>30994</td><td>8191 Jennifer Shoals</td><td>Friedmanstad</td><td>North Dakota</td><td>97678</td></tr><tr><td>3712</td><td>35807 Kaylee View</td><td>Lake Melanieburgh</td><td>Utah</td><td>86406</td><td>91984 Rodney Fork Suite 290</td><td>Maryland</td><td>Missouri</td><td>37082</td></tr><tr><td>2703</td><td>5385 Paul Port Suite 963</td><td>Richardsonton</td><td>Florida</td><td>6432</td><td>7639 Derek Streets</td><td>New Mary</td><td>California</td><td>68610</td></tr><tr><td>4996</td><td>5566 Good Harbor Suite 047</td><td>North Crystalfurt</td><td>Maine</td><td>30274</td><td>102 Coleman Centers</td><td>West Paulberg</td><td>Arizona</td><td>55699</td></tr><tr><td>7123</td><td>6149 Adam Meadows</td><td>South Lisa</td><td>New York</td><td>96138</td><td>3975 Short Trail Suite 332</td><td>North Alexandra</td><td>South Dakota</td><td>47448</td></tr><tr><td>4761</td><td>55640 Yolanda Brooks</td><td>Andrewfurt</td><td>Missouri</td><td>30615</td><td>492 Jose Knoll Apt. 836</td><td>Lake Sydney</td><td>Wyoming</td><td>51511</td></tr><tr><td>3892</td><td>5001 Castro Creek</td><td>Watsonberg</td><td>South Dakota</td><td>3805</td><td>322 Dan Lock</td><td>Terriport</td><td>Missouri</td><td>25276</td></tr><tr><td>1987</td><td>944 Smith Squares</td><td>Port Jennifer</td><td>Maryland</td><td>28646</td><td>3440 Beck Parkways</td><td>West Jennifer</td><td>Alaska</td><td>79766</td></tr><tr><td>7295</td><td>240 Tammy Bypass Suite 433</td><td>New Hayden</td><td>Minnesota</td><td>55632</td><td>0087 Smith Square Suite 127</td><td>West Kristenside</td><td>Idaho</td><td>795</td></tr><tr><td>4468</td><td>96501 Michelle Wall</td><td>Andersonmouth</td><td>New York</td><td>40416</td><td>790 Jones Neck</td><td>Jenniferville</td><td>Florida</td><td>72949</td></tr><tr><td>7803</td><td>39194 Le Underpass</td><td>Davidtown</td><td>Virginia</td><td>41382</td><td>529 Bobby Squares Apt. 225</td><td>Lake Michelle</td><td>Kansas</td><td>18094</td></tr><tr><td>2054</td><td>225 Lopez Bridge Suite 386</td><td>South Monica</td><td>Indiana</td><td>34134</td><td>890 Brandon Brook Suite 774</td><td>North Nicoleborough</td><td>Wyoming</td><td>15077</td></tr><tr><td>4914</td><td>750 Oliver Shore Suite 402</td><td>Reedbury</td><td>Kentucky</td><td>33755</td><td>639 Matthew Forge</td><td>South Lisaburgh</td><td>Alaska</td><td>26693</td></tr><tr><td>2639</td><td>5383 Albert Grove Apt. 804</td><td>North Destinyland</td><td>Illinois</td><td>60150</td><td>222 Dominique Springs Apt. 942</td><td>Colechester</td><td>Louisiana</td><td>96258</td></tr><tr><td>6973</td><td>5780 Ashley Row</td><td>Larachester</td><td>Alaska</td><td>96580</td><td>757 Amy Motorway</td><td>Stephaniemouth</td><td>Massachusetts</td><td>55102</td></tr><tr><td>3084</td><td>3337 Gregory Island</td><td>Mitchellbury</td><td>Tennessee</td><td>70603</td><td>78828 Montgomery Branch Suite 316</td><td>South Chelsea</td><td>Wisconsin</td><td>61054</td></tr><tr><td>7829</td><td>3242 Kelly Forks Suite 810</td><td>Lake Sierraside</td><td>Nebraska</td><td>10629</td><td>0722 Gregory Turnpike</td><td>East Jacksonport</td><td>Indiana</td><td>5138</td></tr><tr><td>9687</td><td>3044 Scott Row</td><td>North Noah</td><td>Oregon</td><td>73984</td><td>146 Smith Coves Apt. 738</td><td>North Lisaton</td><td>West Virginia</td><td>46429</td></tr><tr><td>7997</td><td>8166 Anthony Lodge Suite 528</td><td>Richardmouth</td><td>Mississippi</td><td>48790</td><td>425 Keith Motorway</td><td>West Lawrencemouth</td><td>Nebraska</td><td>76674</td></tr><tr><td>3532</td><td>18892 Benson Lake</td><td>Mitchellland</td><td>Minnesota</td><td>80110</td><td>87297 Davis Bypass Apt. 742</td><td>Mannshire</td><td>Colorado</td><td>19139</td></tr><tr><td>1211</td><td>580 Samantha Lodge</td><td>New Christinaborough</td><td>Louisiana</td><td>4251</td><td>7938 Cervantes Mountain Suite 159</td><td>Oconnorhaven</td><td>Indiana</td><td>44129</td></tr><tr><td>6406</td><td>613 Hart Rapid Apt. 447</td><td>Shannonmouth</td><td>Wyoming</td><td>83119</td><td>5706 Adam Forges Suite 567</td><td>Josephburgh</td><td>South Dakota</td><td>7359</td></tr><tr><td>2141</td><td>098 Sellers Station</td><td>South Javierstad</td><td>Texas</td><td>59689</td><td>7451 Lisa Stravenue Suite 994</td><td>South Victor</td><td>Kansas</td><td>49835</td></tr><tr><td>5592</td><td>754 Ricky Corners Apt. 629</td><td>Jonland</td><td>South Carolina</td><td>2070</td><td>9688 Elizabeth Plains</td><td>South Theodoreburgh</td><td>Massachusetts</td><td>97146</td></tr><tr><td>6384</td><td>750 Lisa Valleys</td><td>Heatherton</td><td>Michigan</td><td>22885</td><td>3915 Reyes Islands Apt. 261</td><td>New Emily</td><td>Massachusetts</td><td>95275</td></tr><tr><td>8845</td><td>95689 Jeffrey Expressway</td><td>East Lanceborough</td><td>Pennsylvania</td><td>79251</td><td>556 Christensen Pike</td><td>North Jeremyview</td><td>California</td><td>90786</td></tr><tr><td>9605</td><td>4123 Solomon Oval Apt. 648</td><td>Mccormickside</td><td>Indiana</td><td>90659</td><td>67373 David Plains Suite 457</td><td>East Stevenfort</td><td>Nevada</td><td>84183</td></tr><tr><td>6167</td><td>179 Vang Street</td><td>Jessicastad</td><td>Connecticut</td><td>40919</td><td>58676 Keith Coves</td><td>New Erichaven</td><td>Kentucky</td><td>25297</td></tr><tr><td>7007</td><td>64918 Lee Ports Apt. 269</td><td>Jasonview</td><td>Maryland</td><td>18994</td><td>201 Danielle Hollow Apt. 665</td><td>Jerryport</td><td>South Dakota</td><td>12363</td></tr><tr><td>5953</td><td>1393 White Wells Suite 722</td><td>North Karen</td><td>Connecticut</td><td>47802</td><td>470 Casey Pines Suite 957</td><td>Deanmouth</td><td>Arkansas</td><td>96860</td></tr><tr><td>3295</td><td>9569 Dennis Way Suite 047</td><td>North Amy</td><td>New York</td><td>17867</td><td>36789 Hatfield Landing</td><td>Haydenton</td><td>Tennessee</td><td>60950</td></tr><tr><td>4973</td><td>3013 Michelle Mountain Apt. 214</td><td>South Patrickburgh</td><td>Arizona</td><td>45875</td><td>748 John Curve</td><td>Fritzberg</td><td>Maryland</td><td>36128</td></tr><tr><td>9150</td><td>819 Campbell Ville</td><td>South Ian</td><td>California</td><td>35549</td><td>48219 Kurt Hollow</td><td>South Ravenberg</td><td>Rhode Island</td><td>8078</td></tr></tbody></table></div>"
      ]
     },
     "metadata": {
      "application/vnd.databricks.v1+output": {
       "addedWidgets": {},
       "aggData": [],
       "aggError": "",
       "aggOverflow": false,
       "aggSchema": [],
       "aggSeriesLimitReached": false,
       "aggType": "",
       "arguments": {},
       "columnCustomDisplayInfos": {},
       "data": [
        [
         6627,
         "76810 Mcintosh Forge Suite 885",
         "Gregoryport",
         "South Dakota",
         41885,
         "35855 Haas Centers Apt. 931",
         "West Andreaville",
         "Virginia",
         82397
        ],
        [
         9179,
         "9713 Medina Mountains Apt. 813",
         "Lake Erika",
         "Mississippi",
         91945,
         "084 Anne Hollow Apt. 064",
         "East Jasontown",
         "Minnesota",
         77329
        ],
        [
         2344,
         "97619 Sanchez Prairie Suite 359",
         "Kelleyfurt",
         "Louisiana",
         64906,
         "5008 Corey Landing Apt. 475",
         "South Christinaburgh",
         "New Mexico",
         3650
        ],
        [
         5816,
         "8400 Rebecca Lodge Suite 011",
         "Lake Lisatown",
         "Montana",
         11354,
         "869 Linda Locks Apt. 105",
         "West Melissabury",
         "Michigan",
         37662
        ],
        [
         8580,
         "17549 Lisa Mission Suite 987",
         "Vasquezstad",
         "Virginia",
         40641,
         "6150 Jessica Park",
         "Bellmouth",
         "Pennsylvania",
         82370
        ],
        [
         9084,
         "411 Joseph Park",
         "Ericside",
         "South Dakota",
         45339,
         "649 Jessica Parks",
         "North Tommyland",
         "Illinois",
         88048
        ],
        [
         5028,
         "955 Montgomery Mountain Suite 167",
         "Jameschester",
         "Kentucky",
         9013,
         "5094 Ayala Falls",
         "Greenmouth",
         "North Carolina",
         2638
        ],
        [
         7207,
         "75470 Richardson Mission Apt. 147",
         "New Rachelhaven",
         "Hawaii",
         38857,
         "4450 Michelle Mission Suite 663",
         "North Justin",
         "Kentucky",
         91757
        ],
        [
         9706,
         "2856 Jeremy Wall Apt. 985",
         "East Elizabeth",
         "Oklahoma",
         66460,
         "14540 Moody Tunnel",
         "West Shellybury",
         "Kentucky",
         83151
        ],
        [
         4858,
         "4838 Jacob Neck",
         "Jamesview",
         "Wisconsin",
         58657,
         "4558 Cabrera Islands",
         "Lake David",
         "Rhode Island",
         6133
        ],
        [
         9247,
         "196 Thomas Shore Apt. 768",
         "Bobbymouth",
         "Louisiana",
         91533,
         "0034 Fleming Hollow Suite 295",
         "Wadefurt",
         "Montana",
         34460
        ],
        [
         3889,
         "90408 Connie Pines Suite 258",
         "Catherinehaven",
         "Texas",
         33736,
         "7908 Walker Track",
         "North Jose",
         "Virginia",
         84099
        ],
        [
         5011,
         "828 Michele Spring",
         "Duffyshire",
         "Tennessee",
         93025,
         "8066 Smith Ports",
         "Port Cheryl",
         "Florida",
         97952
        ],
        [
         8539,
         "331 Monica Route Apt. 022",
         "Michellechester",
         "Texas",
         14637,
         "48794 Aguirre Ferry Apt. 952",
         "North Amy",
         "Washington",
         92507
        ],
        [
         3409,
         "918 April Junctions",
         "New Theresa",
         "Indiana",
         46004,
         "1294 Edward Inlet",
         "North Alison",
         "Indiana",
         82752
        ],
        [
         9018,
         "2099 Francisco Spring",
         "Beanshire",
         "South Carolina",
         87684,
         "207 Tracy Gateway",
         "Cookberg",
         "Delaware",
         14011
        ],
        [
         9263,
         "5733 Richards Ferry Suite 995",
         "East Angelafort",
         "Indiana",
         79556,
         "13677 Garcia Ports",
         "Shelleyland",
         "Rhode Island",
         3719
        ],
        [
         5204,
         "73225 Davis Island",
         "Robertville",
         "Florida",
         30994,
         "8191 Jennifer Shoals",
         "Friedmanstad",
         "North Dakota",
         97678
        ],
        [
         3712,
         "35807 Kaylee View",
         "Lake Melanieburgh",
         "Utah",
         86406,
         "91984 Rodney Fork Suite 290",
         "Maryland",
         "Missouri",
         37082
        ],
        [
         2703,
         "5385 Paul Port Suite 963",
         "Richardsonton",
         "Florida",
         6432,
         "7639 Derek Streets",
         "New Mary",
         "California",
         68610
        ],
        [
         4996,
         "5566 Good Harbor Suite 047",
         "North Crystalfurt",
         "Maine",
         30274,
         "102 Coleman Centers",
         "West Paulberg",
         "Arizona",
         55699
        ],
        [
         7123,
         "6149 Adam Meadows",
         "South Lisa",
         "New York",
         96138,
         "3975 Short Trail Suite 332",
         "North Alexandra",
         "South Dakota",
         47448
        ],
        [
         4761,
         "55640 Yolanda Brooks",
         "Andrewfurt",
         "Missouri",
         30615,
         "492 Jose Knoll Apt. 836",
         "Lake Sydney",
         "Wyoming",
         51511
        ],
        [
         3892,
         "5001 Castro Creek",
         "Watsonberg",
         "South Dakota",
         3805,
         "322 Dan Lock",
         "Terriport",
         "Missouri",
         25276
        ],
        [
         1987,
         "944 Smith Squares",
         "Port Jennifer",
         "Maryland",
         28646,
         "3440 Beck Parkways",
         "West Jennifer",
         "Alaska",
         79766
        ],
        [
         7295,
         "240 Tammy Bypass Suite 433",
         "New Hayden",
         "Minnesota",
         55632,
         "0087 Smith Square Suite 127",
         "West Kristenside",
         "Idaho",
         795
        ],
        [
         4468,
         "96501 Michelle Wall",
         "Andersonmouth",
         "New York",
         40416,
         "790 Jones Neck",
         "Jenniferville",
         "Florida",
         72949
        ],
        [
         7803,
         "39194 Le Underpass",
         "Davidtown",
         "Virginia",
         41382,
         "529 Bobby Squares Apt. 225",
         "Lake Michelle",
         "Kansas",
         18094
        ],
        [
         2054,
         "225 Lopez Bridge Suite 386",
         "South Monica",
         "Indiana",
         34134,
         "890 Brandon Brook Suite 774",
         "North Nicoleborough",
         "Wyoming",
         15077
        ],
        [
         4914,
         "750 Oliver Shore Suite 402",
         "Reedbury",
         "Kentucky",
         33755,
         "639 Matthew Forge",
         "South Lisaburgh",
         "Alaska",
         26693
        ],
        [
         2639,
         "5383 Albert Grove Apt. 804",
         "North Destinyland",
         "Illinois",
         60150,
         "222 Dominique Springs Apt. 942",
         "Colechester",
         "Louisiana",
         96258
        ],
        [
         6973,
         "5780 Ashley Row",
         "Larachester",
         "Alaska",
         96580,
         "757 Amy Motorway",
         "Stephaniemouth",
         "Massachusetts",
         55102
        ],
        [
         3084,
         "3337 Gregory Island",
         "Mitchellbury",
         "Tennessee",
         70603,
         "78828 Montgomery Branch Suite 316",
         "South Chelsea",
         "Wisconsin",
         61054
        ],
        [
         7829,
         "3242 Kelly Forks Suite 810",
         "Lake Sierraside",
         "Nebraska",
         10629,
         "0722 Gregory Turnpike",
         "East Jacksonport",
         "Indiana",
         5138
        ],
        [
         9687,
         "3044 Scott Row",
         "North Noah",
         "Oregon",
         73984,
         "146 Smith Coves Apt. 738",
         "North Lisaton",
         "West Virginia",
         46429
        ],
        [
         7997,
         "8166 Anthony Lodge Suite 528",
         "Richardmouth",
         "Mississippi",
         48790,
         "425 Keith Motorway",
         "West Lawrencemouth",
         "Nebraska",
         76674
        ],
        [
         3532,
         "18892 Benson Lake",
         "Mitchellland",
         "Minnesota",
         80110,
         "87297 Davis Bypass Apt. 742",
         "Mannshire",
         "Colorado",
         19139
        ],
        [
         1211,
         "580 Samantha Lodge",
         "New Christinaborough",
         "Louisiana",
         4251,
         "7938 Cervantes Mountain Suite 159",
         "Oconnorhaven",
         "Indiana",
         44129
        ],
        [
         6406,
         "613 Hart Rapid Apt. 447",
         "Shannonmouth",
         "Wyoming",
         83119,
         "5706 Adam Forges Suite 567",
         "Josephburgh",
         "South Dakota",
         7359
        ],
        [
         2141,
         "098 Sellers Station",
         "South Javierstad",
         "Texas",
         59689,
         "7451 Lisa Stravenue Suite 994",
         "South Victor",
         "Kansas",
         49835
        ],
        [
         5592,
         "754 Ricky Corners Apt. 629",
         "Jonland",
         "South Carolina",
         2070,
         "9688 Elizabeth Plains",
         "South Theodoreburgh",
         "Massachusetts",
         97146
        ],
        [
         6384,
         "750 Lisa Valleys",
         "Heatherton",
         "Michigan",
         22885,
         "3915 Reyes Islands Apt. 261",
         "New Emily",
         "Massachusetts",
         95275
        ],
        [
         8845,
         "95689 Jeffrey Expressway",
         "East Lanceborough",
         "Pennsylvania",
         79251,
         "556 Christensen Pike",
         "North Jeremyview",
         "California",
         90786
        ],
        [
         9605,
         "4123 Solomon Oval Apt. 648",
         "Mccormickside",
         "Indiana",
         90659,
         "67373 David Plains Suite 457",
         "East Stevenfort",
         "Nevada",
         84183
        ],
        [
         6167,
         "179 Vang Street",
         "Jessicastad",
         "Connecticut",
         40919,
         "58676 Keith Coves",
         "New Erichaven",
         "Kentucky",
         25297
        ],
        [
         7007,
         "64918 Lee Ports Apt. 269",
         "Jasonview",
         "Maryland",
         18994,
         "201 Danielle Hollow Apt. 665",
         "Jerryport",
         "South Dakota",
         12363
        ],
        [
         5953,
         "1393 White Wells Suite 722",
         "North Karen",
         "Connecticut",
         47802,
         "470 Casey Pines Suite 957",
         "Deanmouth",
         "Arkansas",
         96860
        ],
        [
         3295,
         "9569 Dennis Way Suite 047",
         "North Amy",
         "New York",
         17867,
         "36789 Hatfield Landing",
         "Haydenton",
         "Tennessee",
         60950
        ],
        [
         4973,
         "3013 Michelle Mountain Apt. 214",
         "South Patrickburgh",
         "Arizona",
         45875,
         "748 John Curve",
         "Fritzberg",
         "Maryland",
         36128
        ],
        [
         9150,
         "819 Campbell Ville",
         "South Ian",
         "California",
         35549,
         "48219 Kurt Hollow",
         "South Ravenberg",
         "Rhode Island",
         8078
        ]
       ],
       "datasetInfos": [
        {
         "name": "_sqldf",
         "schema": {
          "fields": [
           {
            "metadata": {},
            "name": "customer_id",
            "nullable": true,
            "type": "integer"
           },
           {
            "metadata": {},
            "name": "shipping_address_line_1",
            "nullable": true,
            "type": "string"
           },
           {
            "metadata": {},
            "name": "shipping_city",
            "nullable": true,
            "type": "string"
           },
           {
            "metadata": {},
            "name": "shipping_state",
            "nullable": true,
            "type": "string"
           },
           {
            "metadata": {},
            "name": "shipping_postcode",
            "nullable": true,
            "type": "integer"
           },
           {
            "metadata": {},
            "name": "billing_address_line_1",
            "nullable": true,
            "type": "string"
           },
           {
            "metadata": {},
            "name": "billing_city",
            "nullable": true,
            "type": "string"
           },
           {
            "metadata": {},
            "name": "billing_state",
            "nullable": true,
            "type": "string"
           },
           {
            "metadata": {},
            "name": "billing_postcode",
            "nullable": true,
            "type": "integer"
           }
          ],
          "type": "struct"
         },
         "tableIdentifier": null,
         "typeStr": "pyspark.sql.connect.dataframe.DataFrame"
        }
       ],
       "dbfsResultPath": null,
       "isJsonSchema": true,
       "metadata": {
        "createTempViewForImplicitDf": true,
        "dataframeName": "_sqldf",
        "executionCount": 3
       },
       "overflow": false,
       "plotOptions": {
        "customPlotOptions": {},
        "displayType": "table",
        "pivotAggregation": null,
        "pivotColumns": null,
        "xColumns": null,
        "yColumns": null
       },
       "removedWidgets": [],
       "schema": [
        {
         "metadata": "{}",
         "name": "customer_id",
         "type": "\"integer\""
        },
        {
         "metadata": "{}",
         "name": "shipping_address_line_1",
         "type": "\"string\""
        },
        {
         "metadata": "{}",
         "name": "shipping_city",
         "type": "\"string\""
        },
        {
         "metadata": "{}",
         "name": "shipping_state",
         "type": "\"string\""
        },
        {
         "metadata": "{}",
         "name": "shipping_postcode",
         "type": "\"integer\""
        },
        {
         "metadata": "{}",
         "name": "billing_address_line_1",
         "type": "\"string\""
        },
        {
         "metadata": "{}",
         "name": "billing_city",
         "type": "\"string\""
        },
        {
         "metadata": "{}",
         "name": "billing_state",
         "type": "\"string\""
        },
        {
         "metadata": "{}",
         "name": "billing_postcode",
         "type": "\"integer\""
        }
       ],
       "type": "table"
      }
     },
     "output_type": "display_data"
    }
   ],
   "source": [
    "%sql\n",
    "select * from gizmobox.silver.addresses;"
   ]
  },
  {
   "cell_type": "code",
   "execution_count": 0,
   "metadata": {
    "application/vnd.databricks.v1+cell": {
     "cellMetadata": {
      "byteLimit": 2048000,
      "implicitDf": true,
      "rowLimit": 10000
     },
     "inputWidgets": {},
     "nuid": "638f6f6f-6f13-4881-8962-0f6a1352b8a8",
     "showTitle": false,
     "tableResultSettingsMap": {},
     "title": ""
    }
   },
   "outputs": [
    {
     "output_type": "display_data",
     "data": {
      "text/html": [
       "<style scoped>\n",
       "  .table-result-container {\n",
       "    max-height: 300px;\n",
       "    overflow: auto;\n",
       "  }\n",
       "  table, th, td {\n",
       "    border: 1px solid black;\n",
       "    border-collapse: collapse;\n",
       "  }\n",
       "  th, td {\n",
       "    padding: 5px;\n",
       "  }\n",
       "  th {\n",
       "    text-align: left;\n",
       "  }\n",
       "</style><div class='table-result-container'><table class='table-result'><thead style='background-color: white'><tr><th>customer_id</th><th>customer_name</th><th>email</th><th>date_of_birth</th><th>member_since</th><th>telephone</th><th>shipping_address_line_1</th><th>shipping_city</th><th>shipping_state</th><th>shipping_postcode</th><th>billing_address_line_1</th><th>billing_city</th><th>billing_state</th><th>billing_postcode</th></tr></thead><tbody><tr><td>6627</td><td>Candice Rosales</td><td>amber79@example.org</td><td>2004-04-03</td><td>2024-10-15</td><td>+1 4788451559</td><td>76810 Mcintosh Forge Suite 885</td><td>Gregoryport</td><td>South Dakota</td><td>41885</td><td>35855 Haas Centers Apt. 931</td><td>West Andreaville</td><td>Virginia</td><td>82397</td></tr><tr><td>9179</td><td>Richard Cox</td><td>devon84@mail.com</td><td>1996-10-25</td><td>2024-09-26</td><td>+1 6680703335</td><td>9713 Medina Mountains Apt. 813</td><td>Lake Erika</td><td>Mississippi</td><td>91945</td><td>084 Anne Hollow Apt. 064</td><td>East Jasontown</td><td>Minnesota</td><td>77329</td></tr><tr><td>2344</td><td>Martin Thomas DDS</td><td>billy42@outlook.com</td><td>2002-05-01</td><td>2024-10-13</td><td>+1 0201457151</td><td>97619 Sanchez Prairie Suite 359</td><td>Kelleyfurt</td><td>Louisiana</td><td>64906</td><td>5008 Corey Landing Apt. 475</td><td>South Christinaburgh</td><td>New Mexico</td><td>3650</td></tr><tr><td>5816</td><td>Amy Morales</td><td>katelyn82@example.org</td><td>1999-12-11</td><td>2024-11-04</td><td>+1 4140982719</td><td>8400 Rebecca Lodge Suite 011</td><td>Lake Lisatown</td><td>Montana</td><td>11354</td><td>869 Linda Locks Apt. 105</td><td>West Melissabury</td><td>Michigan</td><td>37662</td></tr><tr><td>8580</td><td>Shannon Austin</td><td>john30@gmail.com</td><td>2002-03-22</td><td>2024-10-07</td><td>+1 4594705629</td><td>17549 Lisa Mission Suite 987</td><td>Vasquezstad</td><td>Virginia</td><td>40641</td><td>6150 Jessica Park</td><td>Bellmouth</td><td>Pennsylvania</td><td>82370</td></tr><tr><td>9084</td><td>Olivia Lyons</td><td>patty47@outlook.com</td><td>1997-06-17</td><td>2024-12-16</td><td>+1 2909899135</td><td>411 Joseph Park</td><td>Ericside</td><td>South Dakota</td><td>45339</td><td>649 Jessica Parks</td><td>North Tommyland</td><td>Illinois</td><td>88048</td></tr><tr><td>5028</td><td>Jessica Harris</td><td>null</td><td>2004-04-19</td><td>2024-09-10</td><td>+1 8604009935</td><td>955 Montgomery Mountain Suite 167</td><td>Jameschester</td><td>Kentucky</td><td>9013</td><td>5094 Ayala Falls</td><td>Greenmouth</td><td>North Carolina</td><td>2638</td></tr><tr><td>7207</td><td>Billy Scott</td><td>christopher30@mail.com</td><td>1997-03-17</td><td>2024-09-23</td><td>+1 5544387564</td><td>75470 Richardson Mission Apt. 147</td><td>New Rachelhaven</td><td>Hawaii</td><td>38857</td><td>4450 Michelle Mission Suite 663</td><td>North Justin</td><td>Kentucky</td><td>91757</td></tr><tr><td>9706</td><td>Jennifer Haas</td><td>benjamin55@mail.com</td><td>2001-04-03</td><td>2024-10-05</td><td>+1 4725460000</td><td>2856 Jeremy Wall Apt. 985</td><td>East Elizabeth</td><td>Oklahoma</td><td>66460</td><td>14540 Moody Tunnel</td><td>West Shellybury</td><td>Kentucky</td><td>83151</td></tr><tr><td>4858</td><td>Carla Morton</td><td>joseph88@mail.com</td><td>2004-06-21</td><td>2024-09-15</td><td>+1 8616454195</td><td>4838 Jacob Neck</td><td>Jamesview</td><td>Wisconsin</td><td>58657</td><td>4558 Cabrera Islands</td><td>Lake David</td><td>Rhode Island</td><td>6133</td></tr><tr><td>9247</td><td>Dr. Daniel Hall</td><td>tamara30@gmail.com</td><td>2004-03-21</td><td>2024-10-03</td><td>+1 7544137170</td><td>196 Thomas Shore Apt. 768</td><td>Bobbymouth</td><td>Louisiana</td><td>91533</td><td>0034 Fleming Hollow Suite 295</td><td>Wadefurt</td><td>Montana</td><td>34460</td></tr><tr><td>3889</td><td>Jennifer Jackson</td><td>catherine77@example.org</td><td>1995-10-30</td><td>2025-01-07</td><td>+1 5932456755</td><td>90408 Connie Pines Suite 258</td><td>Catherinehaven</td><td>Texas</td><td>33736</td><td>7908 Walker Track</td><td>North Jose</td><td>Virginia</td><td>84099</td></tr><tr><td>5011</td><td>Rachel Thomas</td><td>lauren59@yahoo.com</td><td>2003-02-17</td><td>2024-09-24</td><td>+1 5437271621</td><td>828 Michele Spring</td><td>Duffyshire</td><td>Tennessee</td><td>93025</td><td>8066 Smith Ports</td><td>Port Cheryl</td><td>Florida</td><td>97952</td></tr><tr><td>8539</td><td>Lori Mason</td><td>stephanie7@mail.com</td><td>2002-11-01</td><td>2024-09-12</td><td>+1 0498301620</td><td>331 Monica Route Apt. 022</td><td>Michellechester</td><td>Texas</td><td>14637</td><td>48794 Aguirre Ferry Apt. 952</td><td>North Amy</td><td>Washington</td><td>92507</td></tr><tr><td>3409</td><td>Andrew Phillips</td><td>peter73@yahoo.com</td><td>2003-04-17</td><td>2024-09-30</td><td>+1 4079273853</td><td>918 April Junctions</td><td>New Theresa</td><td>Indiana</td><td>46004</td><td>1294 Edward Inlet</td><td>North Alison</td><td>Indiana</td><td>82752</td></tr><tr><td>9018</td><td>William Carter</td><td>james70@gmail.com</td><td>2003-09-05</td><td>2024-10-08</td><td>+1 1448753611</td><td>2099 Francisco Spring</td><td>Beanshire</td><td>South Carolina</td><td>87684</td><td>207 Tracy Gateway</td><td>Cookberg</td><td>Delaware</td><td>14011</td></tr><tr><td>9263</td><td>Joseph Keller</td><td>null</td><td>2003-02-11</td><td>2024-10-04</td><td>+1 3817867756</td><td>5733 Richards Ferry Suite 995</td><td>East Angelafort</td><td>Indiana</td><td>79556</td><td>13677 Garcia Ports</td><td>Shelleyland</td><td>Rhode Island</td><td>3719</td></tr><tr><td>5204</td><td>Jennifer Nichols DDS</td><td>joseph8@example.org</td><td>1997-02-17</td><td>2024-11-04</td><td>+1 0383356328</td><td>73225 Davis Island</td><td>Robertville</td><td>Florida</td><td>30994</td><td>8191 Jennifer Shoals</td><td>Friedmanstad</td><td>North Dakota</td><td>97678</td></tr><tr><td>3712</td><td>Robin Chavez</td><td>lisa15@gmail.com</td><td>1997-03-16</td><td>2024-11-24</td><td>+1 2654756919</td><td>35807 Kaylee View</td><td>Lake Melanieburgh</td><td>Utah</td><td>86406</td><td>91984 Rodney Fork Suite 290</td><td>Maryland</td><td>Missouri</td><td>37082</td></tr><tr><td>2703</td><td>Anthony Miller</td><td>null</td><td>1997-11-02</td><td>2024-11-05</td><td>+1 1586310752</td><td>5385 Paul Port Suite 963</td><td>Richardsonton</td><td>Florida</td><td>6432</td><td>7639 Derek Streets</td><td>New Mary</td><td>California</td><td>68610</td></tr><tr><td>4996</td><td>Brandon Reed</td><td>stacey71@yahoo.com</td><td>1997-05-11</td><td>2024-12-13</td><td>null</td><td>5566 Good Harbor Suite 047</td><td>North Crystalfurt</td><td>Maine</td><td>30274</td><td>102 Coleman Centers</td><td>West Paulberg</td><td>Arizona</td><td>55699</td></tr><tr><td>7123</td><td>Edgar Stevens</td><td>kevin68@example.org</td><td>2003-02-15</td><td>2024-10-27</td><td>+1 0793189847</td><td>6149 Adam Meadows</td><td>South Lisa</td><td>New York</td><td>96138</td><td>3975 Short Trail Suite 332</td><td>North Alexandra</td><td>South Dakota</td><td>47448</td></tr><tr><td>4761</td><td>Timothy Smith</td><td>joshua40@yahoo.com</td><td>1996-11-07</td><td>2024-11-03</td><td>+1 9450920858</td><td>55640 Yolanda Brooks</td><td>Andrewfurt</td><td>Missouri</td><td>30615</td><td>492 Jose Knoll Apt. 836</td><td>Lake Sydney</td><td>Wyoming</td><td>51511</td></tr><tr><td>3892</td><td>Jason Bridges</td><td>nicole29@gmail.com</td><td>2004-01-01</td><td>2024-10-29</td><td>+1 8220011928</td><td>5001 Castro Creek</td><td>Watsonberg</td><td>South Dakota</td><td>3805</td><td>322 Dan Lock</td><td>Terriport</td><td>Missouri</td><td>25276</td></tr><tr><td>1987</td><td>Amanda Alvarez</td><td>eric40@outlook.com</td><td>1995-10-11</td><td>2024-10-27</td><td>+1 9673066300</td><td>944 Smith Squares</td><td>Port Jennifer</td><td>Maryland</td><td>28646</td><td>3440 Beck Parkways</td><td>West Jennifer</td><td>Alaska</td><td>79766</td></tr><tr><td>7295</td><td>Lauren Reed</td><td>jeanette48@example.org</td><td>2001-08-11</td><td>2024-10-10</td><td>+1 0104088765</td><td>240 Tammy Bypass Suite 433</td><td>New Hayden</td><td>Minnesota</td><td>55632</td><td>0087 Smith Square Suite 127</td><td>West Kristenside</td><td>Idaho</td><td>795</td></tr><tr><td>4468</td><td>Mrs. Roberta Salas PhD</td><td>null</td><td>1997-05-10</td><td>2024-10-25</td><td>+1 4679955118</td><td>96501 Michelle Wall</td><td>Andersonmouth</td><td>New York</td><td>40416</td><td>790 Jones Neck</td><td>Jenniferville</td><td>Florida</td><td>72949</td></tr><tr><td>7803</td><td>Katherine Lee</td><td>jennifer85@mail.com</td><td>2000-03-09</td><td>2024-10-27</td><td>+1 3119886866</td><td>39194 Le Underpass</td><td>Davidtown</td><td>Virginia</td><td>41382</td><td>529 Bobby Squares Apt. 225</td><td>Lake Michelle</td><td>Kansas</td><td>18094</td></tr><tr><td>2054</td><td>Alan Price</td><td>connor40@yahoo.com</td><td>1998-08-25</td><td>2024-10-14</td><td>+1 3745642936</td><td>225 Lopez Bridge Suite 386</td><td>South Monica</td><td>Indiana</td><td>34134</td><td>890 Brandon Brook Suite 774</td><td>North Nicoleborough</td><td>Wyoming</td><td>15077</td></tr><tr><td>4914</td><td>Samantha Johnson</td><td>theresa14@mail.com</td><td>1997-03-26</td><td>2024-10-13</td><td>+1 4095003738</td><td>750 Oliver Shore Suite 402</td><td>Reedbury</td><td>Kentucky</td><td>33755</td><td>639 Matthew Forge</td><td>South Lisaburgh</td><td>Alaska</td><td>26693</td></tr><tr><td>2639</td><td>Jessica Deleon</td><td>jeremiah96@gmail.com</td><td>1995-06-04</td><td>2024-11-22</td><td>+1 1304435999</td><td>5383 Albert Grove Apt. 804</td><td>North Destinyland</td><td>Illinois</td><td>60150</td><td>222 Dominique Springs Apt. 942</td><td>Colechester</td><td>Louisiana</td><td>96258</td></tr><tr><td>6973</td><td>Tracy Cole</td><td>tony46@mail.com</td><td>1998-07-24</td><td>2024-12-16</td><td>+1 5515836612</td><td>5780 Ashley Row</td><td>Larachester</td><td>Alaska</td><td>96580</td><td>757 Amy Motorway</td><td>Stephaniemouth</td><td>Massachusetts</td><td>55102</td></tr><tr><td>3084</td><td>Tyler Simmons</td><td>brian94@mail.com</td><td>2003-02-20</td><td>2024-12-02</td><td>null</td><td>3337 Gregory Island</td><td>Mitchellbury</td><td>Tennessee</td><td>70603</td><td>78828 Montgomery Branch Suite 316</td><td>South Chelsea</td><td>Wisconsin</td><td>61054</td></tr><tr><td>7829</td><td>Daniel Black</td><td>sandra54@example.org</td><td>1998-04-13</td><td>2024-11-16</td><td>+1 0933795082</td><td>3242 Kelly Forks Suite 810</td><td>Lake Sierraside</td><td>Nebraska</td><td>10629</td><td>0722 Gregory Turnpike</td><td>East Jacksonport</td><td>Indiana</td><td>5138</td></tr><tr><td>9687</td><td>Micheal Perez MD</td><td>christopher65@example.org</td><td>2002-07-18</td><td>2024-11-22</td><td>+1 3079718622</td><td>3044 Scott Row</td><td>North Noah</td><td>Oregon</td><td>73984</td><td>146 Smith Coves Apt. 738</td><td>North Lisaton</td><td>West Virginia</td><td>46429</td></tr><tr><td>7997</td><td>Patricia Abbott</td><td>angela97@mail.com</td><td>1997-07-31</td><td>2024-11-28</td><td>+1 4053366448</td><td>8166 Anthony Lodge Suite 528</td><td>Richardmouth</td><td>Mississippi</td><td>48790</td><td>425 Keith Motorway</td><td>West Lawrencemouth</td><td>Nebraska</td><td>76674</td></tr><tr><td>3532</td><td>Holly Wilkinson</td><td>lindsey61@yahoo.com</td><td>2003-03-06</td><td>2024-12-22</td><td>null</td><td>18892 Benson Lake</td><td>Mitchellland</td><td>Minnesota</td><td>80110</td><td>87297 Davis Bypass Apt. 742</td><td>Mannshire</td><td>Colorado</td><td>19139</td></tr><tr><td>1211</td><td>Jeremy Ball</td><td>megan86@yahoo.com</td><td>2002-03-26</td><td>2024-12-01</td><td>+1 5793543882</td><td>580 Samantha Lodge</td><td>New Christinaborough</td><td>Louisiana</td><td>4251</td><td>7938 Cervantes Mountain Suite 159</td><td>Oconnorhaven</td><td>Indiana</td><td>44129</td></tr><tr><td>6406</td><td>Christopher Ritter</td><td>null</td><td>2004-07-12</td><td>2024-11-24</td><td>+1 1752511241</td><td>613 Hart Rapid Apt. 447</td><td>Shannonmouth</td><td>Wyoming</td><td>83119</td><td>5706 Adam Forges Suite 567</td><td>Josephburgh</td><td>South Dakota</td><td>7359</td></tr><tr><td>2141</td><td>Zachary Lopez</td><td>glenn87@example.org</td><td>2002-09-20</td><td>2024-12-14</td><td>+1 7431190983</td><td>098 Sellers Station</td><td>South Javierstad</td><td>Texas</td><td>59689</td><td>7451 Lisa Stravenue Suite 994</td><td>South Victor</td><td>Kansas</td><td>49835</td></tr><tr><td>5592</td><td>Richard Neal</td><td>eric52@gmail.com</td><td>1995-11-05</td><td>2024-11-15</td><td>+1 4425187397</td><td>754 Ricky Corners Apt. 629</td><td>Jonland</td><td>South Carolina</td><td>2070</td><td>9688 Elizabeth Plains</td><td>South Theodoreburgh</td><td>Massachusetts</td><td>97146</td></tr><tr><td>6384</td><td>Jennifer Carrillo</td><td>james34@yahoo.com</td><td>1994-12-18</td><td>2024-12-22</td><td>+1 5592179843</td><td>750 Lisa Valleys</td><td>Heatherton</td><td>Michigan</td><td>22885</td><td>3915 Reyes Islands Apt. 261</td><td>New Emily</td><td>Massachusetts</td><td>95275</td></tr><tr><td>8845</td><td>Joseph Robbins</td><td>derek53@yahoo.com</td><td>1997-04-04</td><td>2025-01-12</td><td>+1 9513893820</td><td>95689 Jeffrey Expressway</td><td>East Lanceborough</td><td>Pennsylvania</td><td>79251</td><td>556 Christensen Pike</td><td>North Jeremyview</td><td>California</td><td>90786</td></tr><tr><td>9605</td><td>Tiffany Rocha</td><td>michael82@yahoo.com</td><td>2003-04-25</td><td>2024-12-22</td><td>+1 6232811506</td><td>4123 Solomon Oval Apt. 648</td><td>Mccormickside</td><td>Indiana</td><td>90659</td><td>67373 David Plains Suite 457</td><td>East Stevenfort</td><td>Nevada</td><td>84183</td></tr><tr><td>6167</td><td>Leslie Smith</td><td>angela16@mail.com</td><td>2001-10-28</td><td>2024-12-16</td><td>+1 2978446880</td><td>179 Vang Street</td><td>Jessicastad</td><td>Connecticut</td><td>40919</td><td>58676 Keith Coves</td><td>New Erichaven</td><td>Kentucky</td><td>25297</td></tr><tr><td>7007</td><td>Joe Castaneda</td><td>michael34@mail.com</td><td>1999-04-27</td><td>2024-12-31</td><td>+1 1767970338</td><td>64918 Lee Ports Apt. 269</td><td>Jasonview</td><td>Maryland</td><td>18994</td><td>201 Danielle Hollow Apt. 665</td><td>Jerryport</td><td>South Dakota</td><td>12363</td></tr><tr><td>5953</td><td>Kevin Harris</td><td>timothy99@mail.com</td><td>2003-01-23</td><td>2024-12-31</td><td>+1 6517763640</td><td>1393 White Wells Suite 722</td><td>North Karen</td><td>Connecticut</td><td>47802</td><td>470 Casey Pines Suite 957</td><td>Deanmouth</td><td>Arkansas</td><td>96860</td></tr><tr><td>3295</td><td>Drew Hanson</td><td>cathy31@gmail.com</td><td>1996-11-21</td><td>2025-01-01</td><td>+1 6521792889</td><td>9569 Dennis Way Suite 047</td><td>North Amy</td><td>New York</td><td>17867</td><td>36789 Hatfield Landing</td><td>Haydenton</td><td>Tennessee</td><td>60950</td></tr><tr><td>4973</td><td>Daniel Thompson</td><td>connor32@example.org</td><td>1999-07-17</td><td>2024-12-27</td><td>+1 5823046206</td><td>3013 Michelle Mountain Apt. 214</td><td>South Patrickburgh</td><td>Arizona</td><td>45875</td><td>748 John Curve</td><td>Fritzberg</td><td>Maryland</td><td>36128</td></tr><tr><td>9150</td><td>Alison Davis</td><td>jacob31@yahoo.com</td><td>2004-01-17</td><td>2024-12-26</td><td>+1 7119851149</td><td>819 Campbell Ville</td><td>South Ian</td><td>California</td><td>35549</td><td>48219 Kurt Hollow</td><td>South Ravenberg</td><td>Rhode Island</td><td>8078</td></tr></tbody></table></div>"
      ]
     },
     "metadata": {
      "application/vnd.databricks.v1+output": {
       "addedWidgets": {},
       "aggData": [],
       "aggError": "",
       "aggOverflow": false,
       "aggSchema": [],
       "aggSeriesLimitReached": false,
       "aggType": "",
       "arguments": {},
       "columnCustomDisplayInfos": {},
       "data": [
        [
         6627,
         "Candice Rosales",
         "amber79@example.org",
         "2004-04-03",
         "2024-10-15",
         "+1 4788451559",
         "76810 Mcintosh Forge Suite 885",
         "Gregoryport",
         "South Dakota",
         41885,
         "35855 Haas Centers Apt. 931",
         "West Andreaville",
         "Virginia",
         82397
        ],
        [
         9179,
         "Richard Cox",
         "devon84@mail.com",
         "1996-10-25",
         "2024-09-26",
         "+1 6680703335",
         "9713 Medina Mountains Apt. 813",
         "Lake Erika",
         "Mississippi",
         91945,
         "084 Anne Hollow Apt. 064",
         "East Jasontown",
         "Minnesota",
         77329
        ],
        [
         2344,
         "Martin Thomas DDS",
         "billy42@outlook.com",
         "2002-05-01",
         "2024-10-13",
         "+1 0201457151",
         "97619 Sanchez Prairie Suite 359",
         "Kelleyfurt",
         "Louisiana",
         64906,
         "5008 Corey Landing Apt. 475",
         "South Christinaburgh",
         "New Mexico",
         3650
        ],
        [
         5816,
         "Amy Morales",
         "katelyn82@example.org",
         "1999-12-11",
         "2024-11-04",
         "+1 4140982719",
         "8400 Rebecca Lodge Suite 011",
         "Lake Lisatown",
         "Montana",
         11354,
         "869 Linda Locks Apt. 105",
         "West Melissabury",
         "Michigan",
         37662
        ],
        [
         8580,
         "Shannon Austin",
         "john30@gmail.com",
         "2002-03-22",
         "2024-10-07",
         "+1 4594705629",
         "17549 Lisa Mission Suite 987",
         "Vasquezstad",
         "Virginia",
         40641,
         "6150 Jessica Park",
         "Bellmouth",
         "Pennsylvania",
         82370
        ],
        [
         9084,
         "Olivia Lyons",
         "patty47@outlook.com",
         "1997-06-17",
         "2024-12-16",
         "+1 2909899135",
         "411 Joseph Park",
         "Ericside",
         "South Dakota",
         45339,
         "649 Jessica Parks",
         "North Tommyland",
         "Illinois",
         88048
        ],
        [
         5028,
         "Jessica Harris",
         null,
         "2004-04-19",
         "2024-09-10",
         "+1 8604009935",
         "955 Montgomery Mountain Suite 167",
         "Jameschester",
         "Kentucky",
         9013,
         "5094 Ayala Falls",
         "Greenmouth",
         "North Carolina",
         2638
        ],
        [
         7207,
         "Billy Scott",
         "christopher30@mail.com",
         "1997-03-17",
         "2024-09-23",
         "+1 5544387564",
         "75470 Richardson Mission Apt. 147",
         "New Rachelhaven",
         "Hawaii",
         38857,
         "4450 Michelle Mission Suite 663",
         "North Justin",
         "Kentucky",
         91757
        ],
        [
         9706,
         "Jennifer Haas",
         "benjamin55@mail.com",
         "2001-04-03",
         "2024-10-05",
         "+1 4725460000",
         "2856 Jeremy Wall Apt. 985",
         "East Elizabeth",
         "Oklahoma",
         66460,
         "14540 Moody Tunnel",
         "West Shellybury",
         "Kentucky",
         83151
        ],
        [
         4858,
         "Carla Morton",
         "joseph88@mail.com",
         "2004-06-21",
         "2024-09-15",
         "+1 8616454195",
         "4838 Jacob Neck",
         "Jamesview",
         "Wisconsin",
         58657,
         "4558 Cabrera Islands",
         "Lake David",
         "Rhode Island",
         6133
        ],
        [
         9247,
         "Dr. Daniel Hall",
         "tamara30@gmail.com",
         "2004-03-21",
         "2024-10-03",
         "+1 7544137170",
         "196 Thomas Shore Apt. 768",
         "Bobbymouth",
         "Louisiana",
         91533,
         "0034 Fleming Hollow Suite 295",
         "Wadefurt",
         "Montana",
         34460
        ],
        [
         3889,
         "Jennifer Jackson",
         "catherine77@example.org",
         "1995-10-30",
         "2025-01-07",
         "+1 5932456755",
         "90408 Connie Pines Suite 258",
         "Catherinehaven",
         "Texas",
         33736,
         "7908 Walker Track",
         "North Jose",
         "Virginia",
         84099
        ],
        [
         5011,
         "Rachel Thomas",
         "lauren59@yahoo.com",
         "2003-02-17",
         "2024-09-24",
         "+1 5437271621",
         "828 Michele Spring",
         "Duffyshire",
         "Tennessee",
         93025,
         "8066 Smith Ports",
         "Port Cheryl",
         "Florida",
         97952
        ],
        [
         8539,
         "Lori Mason",
         "stephanie7@mail.com",
         "2002-11-01",
         "2024-09-12",
         "+1 0498301620",
         "331 Monica Route Apt. 022",
         "Michellechester",
         "Texas",
         14637,
         "48794 Aguirre Ferry Apt. 952",
         "North Amy",
         "Washington",
         92507
        ],
        [
         3409,
         "Andrew Phillips",
         "peter73@yahoo.com",
         "2003-04-17",
         "2024-09-30",
         "+1 4079273853",
         "918 April Junctions",
         "New Theresa",
         "Indiana",
         46004,
         "1294 Edward Inlet",
         "North Alison",
         "Indiana",
         82752
        ],
        [
         9018,
         "William Carter",
         "james70@gmail.com",
         "2003-09-05",
         "2024-10-08",
         "+1 1448753611",
         "2099 Francisco Spring",
         "Beanshire",
         "South Carolina",
         87684,
         "207 Tracy Gateway",
         "Cookberg",
         "Delaware",
         14011
        ],
        [
         9263,
         "Joseph Keller",
         null,
         "2003-02-11",
         "2024-10-04",
         "+1 3817867756",
         "5733 Richards Ferry Suite 995",
         "East Angelafort",
         "Indiana",
         79556,
         "13677 Garcia Ports",
         "Shelleyland",
         "Rhode Island",
         3719
        ],
        [
         5204,
         "Jennifer Nichols DDS",
         "joseph8@example.org",
         "1997-02-17",
         "2024-11-04",
         "+1 0383356328",
         "73225 Davis Island",
         "Robertville",
         "Florida",
         30994,
         "8191 Jennifer Shoals",
         "Friedmanstad",
         "North Dakota",
         97678
        ],
        [
         3712,
         "Robin Chavez",
         "lisa15@gmail.com",
         "1997-03-16",
         "2024-11-24",
         "+1 2654756919",
         "35807 Kaylee View",
         "Lake Melanieburgh",
         "Utah",
         86406,
         "91984 Rodney Fork Suite 290",
         "Maryland",
         "Missouri",
         37082
        ],
        [
         2703,
         "Anthony Miller",
         null,
         "1997-11-02",
         "2024-11-05",
         "+1 1586310752",
         "5385 Paul Port Suite 963",
         "Richardsonton",
         "Florida",
         6432,
         "7639 Derek Streets",
         "New Mary",
         "California",
         68610
        ],
        [
         4996,
         "Brandon Reed",
         "stacey71@yahoo.com",
         "1997-05-11",
         "2024-12-13",
         null,
         "5566 Good Harbor Suite 047",
         "North Crystalfurt",
         "Maine",
         30274,
         "102 Coleman Centers",
         "West Paulberg",
         "Arizona",
         55699
        ],
        [
         7123,
         "Edgar Stevens",
         "kevin68@example.org",
         "2003-02-15",
         "2024-10-27",
         "+1 0793189847",
         "6149 Adam Meadows",
         "South Lisa",
         "New York",
         96138,
         "3975 Short Trail Suite 332",
         "North Alexandra",
         "South Dakota",
         47448
        ],
        [
         4761,
         "Timothy Smith",
         "joshua40@yahoo.com",
         "1996-11-07",
         "2024-11-03",
         "+1 9450920858",
         "55640 Yolanda Brooks",
         "Andrewfurt",
         "Missouri",
         30615,
         "492 Jose Knoll Apt. 836",
         "Lake Sydney",
         "Wyoming",
         51511
        ],
        [
         3892,
         "Jason Bridges",
         "nicole29@gmail.com",
         "2004-01-01",
         "2024-10-29",
         "+1 8220011928",
         "5001 Castro Creek",
         "Watsonberg",
         "South Dakota",
         3805,
         "322 Dan Lock",
         "Terriport",
         "Missouri",
         25276
        ],
        [
         1987,
         "Amanda Alvarez",
         "eric40@outlook.com",
         "1995-10-11",
         "2024-10-27",
         "+1 9673066300",
         "944 Smith Squares",
         "Port Jennifer",
         "Maryland",
         28646,
         "3440 Beck Parkways",
         "West Jennifer",
         "Alaska",
         79766
        ],
        [
         7295,
         "Lauren Reed",
         "jeanette48@example.org",
         "2001-08-11",
         "2024-10-10",
         "+1 0104088765",
         "240 Tammy Bypass Suite 433",
         "New Hayden",
         "Minnesota",
         55632,
         "0087 Smith Square Suite 127",
         "West Kristenside",
         "Idaho",
         795
        ],
        [
         4468,
         "Mrs. Roberta Salas PhD",
         null,
         "1997-05-10",
         "2024-10-25",
         "+1 4679955118",
         "96501 Michelle Wall",
         "Andersonmouth",
         "New York",
         40416,
         "790 Jones Neck",
         "Jenniferville",
         "Florida",
         72949
        ],
        [
         7803,
         "Katherine Lee",
         "jennifer85@mail.com",
         "2000-03-09",
         "2024-10-27",
         "+1 3119886866",
         "39194 Le Underpass",
         "Davidtown",
         "Virginia",
         41382,
         "529 Bobby Squares Apt. 225",
         "Lake Michelle",
         "Kansas",
         18094
        ],
        [
         2054,
         "Alan Price",
         "connor40@yahoo.com",
         "1998-08-25",
         "2024-10-14",
         "+1 3745642936",
         "225 Lopez Bridge Suite 386",
         "South Monica",
         "Indiana",
         34134,
         "890 Brandon Brook Suite 774",
         "North Nicoleborough",
         "Wyoming",
         15077
        ],
        [
         4914,
         "Samantha Johnson",
         "theresa14@mail.com",
         "1997-03-26",
         "2024-10-13",
         "+1 4095003738",
         "750 Oliver Shore Suite 402",
         "Reedbury",
         "Kentucky",
         33755,
         "639 Matthew Forge",
         "South Lisaburgh",
         "Alaska",
         26693
        ],
        [
         2639,
         "Jessica Deleon",
         "jeremiah96@gmail.com",
         "1995-06-04",
         "2024-11-22",
         "+1 1304435999",
         "5383 Albert Grove Apt. 804",
         "North Destinyland",
         "Illinois",
         60150,
         "222 Dominique Springs Apt. 942",
         "Colechester",
         "Louisiana",
         96258
        ],
        [
         6973,
         "Tracy Cole",
         "tony46@mail.com",
         "1998-07-24",
         "2024-12-16",
         "+1 5515836612",
         "5780 Ashley Row",
         "Larachester",
         "Alaska",
         96580,
         "757 Amy Motorway",
         "Stephaniemouth",
         "Massachusetts",
         55102
        ],
        [
         3084,
         "Tyler Simmons",
         "brian94@mail.com",
         "2003-02-20",
         "2024-12-02",
         null,
         "3337 Gregory Island",
         "Mitchellbury",
         "Tennessee",
         70603,
         "78828 Montgomery Branch Suite 316",
         "South Chelsea",
         "Wisconsin",
         61054
        ],
        [
         7829,
         "Daniel Black",
         "sandra54@example.org",
         "1998-04-13",
         "2024-11-16",
         "+1 0933795082",
         "3242 Kelly Forks Suite 810",
         "Lake Sierraside",
         "Nebraska",
         10629,
         "0722 Gregory Turnpike",
         "East Jacksonport",
         "Indiana",
         5138
        ],
        [
         9687,
         "Micheal Perez MD",
         "christopher65@example.org",
         "2002-07-18",
         "2024-11-22",
         "+1 3079718622",
         "3044 Scott Row",
         "North Noah",
         "Oregon",
         73984,
         "146 Smith Coves Apt. 738",
         "North Lisaton",
         "West Virginia",
         46429
        ],
        [
         7997,
         "Patricia Abbott",
         "angela97@mail.com",
         "1997-07-31",
         "2024-11-28",
         "+1 4053366448",
         "8166 Anthony Lodge Suite 528",
         "Richardmouth",
         "Mississippi",
         48790,
         "425 Keith Motorway",
         "West Lawrencemouth",
         "Nebraska",
         76674
        ],
        [
         3532,
         "Holly Wilkinson",
         "lindsey61@yahoo.com",
         "2003-03-06",
         "2024-12-22",
         null,
         "18892 Benson Lake",
         "Mitchellland",
         "Minnesota",
         80110,
         "87297 Davis Bypass Apt. 742",
         "Mannshire",
         "Colorado",
         19139
        ],
        [
         1211,
         "Jeremy Ball",
         "megan86@yahoo.com",
         "2002-03-26",
         "2024-12-01",
         "+1 5793543882",
         "580 Samantha Lodge",
         "New Christinaborough",
         "Louisiana",
         4251,
         "7938 Cervantes Mountain Suite 159",
         "Oconnorhaven",
         "Indiana",
         44129
        ],
        [
         6406,
         "Christopher Ritter",
         null,
         "2004-07-12",
         "2024-11-24",
         "+1 1752511241",
         "613 Hart Rapid Apt. 447",
         "Shannonmouth",
         "Wyoming",
         83119,
         "5706 Adam Forges Suite 567",
         "Josephburgh",
         "South Dakota",
         7359
        ],
        [
         2141,
         "Zachary Lopez",
         "glenn87@example.org",
         "2002-09-20",
         "2024-12-14",
         "+1 7431190983",
         "098 Sellers Station",
         "South Javierstad",
         "Texas",
         59689,
         "7451 Lisa Stravenue Suite 994",
         "South Victor",
         "Kansas",
         49835
        ],
        [
         5592,
         "Richard Neal",
         "eric52@gmail.com",
         "1995-11-05",
         "2024-11-15",
         "+1 4425187397",
         "754 Ricky Corners Apt. 629",
         "Jonland",
         "South Carolina",
         2070,
         "9688 Elizabeth Plains",
         "South Theodoreburgh",
         "Massachusetts",
         97146
        ],
        [
         6384,
         "Jennifer Carrillo",
         "james34@yahoo.com",
         "1994-12-18",
         "2024-12-22",
         "+1 5592179843",
         "750 Lisa Valleys",
         "Heatherton",
         "Michigan",
         22885,
         "3915 Reyes Islands Apt. 261",
         "New Emily",
         "Massachusetts",
         95275
        ],
        [
         8845,
         "Joseph Robbins",
         "derek53@yahoo.com",
         "1997-04-04",
         "2025-01-12",
         "+1 9513893820",
         "95689 Jeffrey Expressway",
         "East Lanceborough",
         "Pennsylvania",
         79251,
         "556 Christensen Pike",
         "North Jeremyview",
         "California",
         90786
        ],
        [
         9605,
         "Tiffany Rocha",
         "michael82@yahoo.com",
         "2003-04-25",
         "2024-12-22",
         "+1 6232811506",
         "4123 Solomon Oval Apt. 648",
         "Mccormickside",
         "Indiana",
         90659,
         "67373 David Plains Suite 457",
         "East Stevenfort",
         "Nevada",
         84183
        ],
        [
         6167,
         "Leslie Smith",
         "angela16@mail.com",
         "2001-10-28",
         "2024-12-16",
         "+1 2978446880",
         "179 Vang Street",
         "Jessicastad",
         "Connecticut",
         40919,
         "58676 Keith Coves",
         "New Erichaven",
         "Kentucky",
         25297
        ],
        [
         7007,
         "Joe Castaneda",
         "michael34@mail.com",
         "1999-04-27",
         "2024-12-31",
         "+1 1767970338",
         "64918 Lee Ports Apt. 269",
         "Jasonview",
         "Maryland",
         18994,
         "201 Danielle Hollow Apt. 665",
         "Jerryport",
         "South Dakota",
         12363
        ],
        [
         5953,
         "Kevin Harris",
         "timothy99@mail.com",
         "2003-01-23",
         "2024-12-31",
         "+1 6517763640",
         "1393 White Wells Suite 722",
         "North Karen",
         "Connecticut",
         47802,
         "470 Casey Pines Suite 957",
         "Deanmouth",
         "Arkansas",
         96860
        ],
        [
         3295,
         "Drew Hanson",
         "cathy31@gmail.com",
         "1996-11-21",
         "2025-01-01",
         "+1 6521792889",
         "9569 Dennis Way Suite 047",
         "North Amy",
         "New York",
         17867,
         "36789 Hatfield Landing",
         "Haydenton",
         "Tennessee",
         60950
        ],
        [
         4973,
         "Daniel Thompson",
         "connor32@example.org",
         "1999-07-17",
         "2024-12-27",
         "+1 5823046206",
         "3013 Michelle Mountain Apt. 214",
         "South Patrickburgh",
         "Arizona",
         45875,
         "748 John Curve",
         "Fritzberg",
         "Maryland",
         36128
        ],
        [
         9150,
         "Alison Davis",
         "jacob31@yahoo.com",
         "2004-01-17",
         "2024-12-26",
         "+1 7119851149",
         "819 Campbell Ville",
         "South Ian",
         "California",
         35549,
         "48219 Kurt Hollow",
         "South Ravenberg",
         "Rhode Island",
         8078
        ]
       ],
       "datasetInfos": [
        {
         "name": "_sqldf",
         "schema": {
          "fields": [
           {
            "metadata": {},
            "name": "customer_id",
            "nullable": true,
            "type": "long"
           },
           {
            "metadata": {},
            "name": "customer_name",
            "nullable": true,
            "type": "string"
           },
           {
            "metadata": {},
            "name": "email",
            "nullable": true,
            "type": "string"
           },
           {
            "metadata": {},
            "name": "date_of_birth",
            "nullable": true,
            "type": "date"
           },
           {
            "metadata": {},
            "name": "member_since",
            "nullable": true,
            "type": "date"
           },
           {
            "metadata": {},
            "name": "telephone",
            "nullable": true,
            "type": "string"
           },
           {
            "metadata": {},
            "name": "shipping_address_line_1",
            "nullable": true,
            "type": "string"
           },
           {
            "metadata": {},
            "name": "shipping_city",
            "nullable": true,
            "type": "string"
           },
           {
            "metadata": {},
            "name": "shipping_state",
            "nullable": true,
            "type": "string"
           },
           {
            "metadata": {},
            "name": "shipping_postcode",
            "nullable": true,
            "type": "integer"
           },
           {
            "metadata": {},
            "name": "billing_address_line_1",
            "nullable": true,
            "type": "string"
           },
           {
            "metadata": {},
            "name": "billing_city",
            "nullable": true,
            "type": "string"
           },
           {
            "metadata": {},
            "name": "billing_state",
            "nullable": true,
            "type": "string"
           },
           {
            "metadata": {},
            "name": "billing_postcode",
            "nullable": true,
            "type": "integer"
           }
          ],
          "type": "struct"
         },
         "tableIdentifier": null,
         "typeStr": "pyspark.sql.connect.dataframe.DataFrame"
        }
       ],
       "dbfsResultPath": null,
       "isJsonSchema": true,
       "metadata": {
        "createTempViewForImplicitDf": true,
        "dataframeName": "_sqldf",
        "executionCount": 7
       },
       "overflow": false,
       "plotOptions": {
        "customPlotOptions": {},
        "displayType": "table",
        "pivotAggregation": null,
        "pivotColumns": null,
        "xColumns": null,
        "yColumns": null
       },
       "removedWidgets": [],
       "schema": [
        {
         "metadata": "{}",
         "name": "customer_id",
         "type": "\"long\""
        },
        {
         "metadata": "{}",
         "name": "customer_name",
         "type": "\"string\""
        },
        {
         "metadata": "{}",
         "name": "email",
         "type": "\"string\""
        },
        {
         "metadata": "{}",
         "name": "date_of_birth",
         "type": "\"date\""
        },
        {
         "metadata": "{}",
         "name": "member_since",
         "type": "\"date\""
        },
        {
         "metadata": "{}",
         "name": "telephone",
         "type": "\"string\""
        },
        {
         "metadata": "{}",
         "name": "shipping_address_line_1",
         "type": "\"string\""
        },
        {
         "metadata": "{}",
         "name": "shipping_city",
         "type": "\"string\""
        },
        {
         "metadata": "{}",
         "name": "shipping_state",
         "type": "\"string\""
        },
        {
         "metadata": "{}",
         "name": "shipping_postcode",
         "type": "\"integer\""
        },
        {
         "metadata": "{}",
         "name": "billing_address_line_1",
         "type": "\"string\""
        },
        {
         "metadata": "{}",
         "name": "billing_city",
         "type": "\"string\""
        },
        {
         "metadata": "{}",
         "name": "billing_state",
         "type": "\"string\""
        },
        {
         "metadata": "{}",
         "name": "billing_postcode",
         "type": "\"integer\""
        }
       ],
       "type": "table"
      }
     },
     "output_type": "display_data"
    }
   ],
   "source": [
    "%sql\n",
    "select c.customer_id,\n",
    "       c.customer_name,\n",
    "       c.email,\n",
    "       c.date_of_birth,\n",
    "       c.member_since,\n",
    "       c.telephone,\n",
    "       a.shipping_address_line_1,\n",
    "       a.shipping_city,\n",
    "       a.shipping_state,\n",
    "       a.shipping_postcode,\n",
    "       a.billing_address_line_1,\n",
    "       a.billing_city,\n",
    "       a.billing_state,\n",
    "       a.billing_postcode\n",
    "  from gizmobox.silver.customers c\n",
    "  inner join gizmobox.silver.addresses a\n",
    "    on c.customer_id = a.customer_id\n"
   ]
  },
  {
   "cell_type": "code",
   "execution_count": 0,
   "metadata": {
    "application/vnd.databricks.v1+cell": {
     "cellMetadata": {
      "byteLimit": 2048000,
      "implicitDf": true,
      "rowLimit": 10000
     },
     "inputWidgets": {},
     "nuid": "b2a9226f-0a41-4c6d-9cf0-706b526c6817",
     "showTitle": false,
     "tableResultSettingsMap": {},
     "title": ""
    }
   },
   "outputs": [
    {
     "output_type": "display_data",
     "data": {
      "text/html": [
       "<style scoped>\n",
       "  .table-result-container {\n",
       "    max-height: 300px;\n",
       "    overflow: auto;\n",
       "  }\n",
       "  table, th, td {\n",
       "    border: 1px solid black;\n",
       "    border-collapse: collapse;\n",
       "  }\n",
       "  th, td {\n",
       "    padding: 5px;\n",
       "  }\n",
       "  th {\n",
       "    text-align: left;\n",
       "  }\n",
       "</style><div class='table-result-container'><table class='table-result'><thead style='background-color: white'><tr><th>num_affected_rows</th><th>num_inserted_rows</th></tr></thead><tbody></tbody></table></div>"
      ]
     },
     "metadata": {
      "application/vnd.databricks.v1+output": {
       "addedWidgets": {},
       "aggData": [],
       "aggError": "",
       "aggOverflow": false,
       "aggSchema": [],
       "aggSeriesLimitReached": false,
       "aggType": "",
       "arguments": {},
       "columnCustomDisplayInfos": {},
       "data": [],
       "datasetInfos": [
        {
         "name": "_sqldf",
         "schema": {
          "fields": [
           {
            "metadata": {},
            "name": "num_affected_rows",
            "nullable": true,
            "type": "long"
           },
           {
            "metadata": {},
            "name": "num_inserted_rows",
            "nullable": true,
            "type": "long"
           }
          ],
          "type": "struct"
         },
         "tableIdentifier": null,
         "typeStr": "pyspark.sql.connect.dataframe.DataFrame"
        }
       ],
       "dbfsResultPath": null,
       "isJsonSchema": true,
       "metadata": {
        "createTempViewForImplicitDf": true,
        "dataframeName": "_sqldf",
        "executionCount": 10
       },
       "overflow": false,
       "plotOptions": {
        "customPlotOptions": {},
        "displayType": "table",
        "pivotAggregation": null,
        "pivotColumns": null,
        "xColumns": null,
        "yColumns": null
       },
       "removedWidgets": [],
       "schema": [
        {
         "metadata": "{}",
         "name": "num_affected_rows",
         "type": "\"long\""
        },
        {
         "metadata": "{}",
         "name": "num_inserted_rows",
         "type": "\"long\""
        }
       ],
       "type": "table"
      }
     },
     "output_type": "display_data"
    }
   ],
   "source": [
    "%sql\n",
    "create table if not exists gizmobox.gold.customers_address\n",
    "as \n",
    "select c.customer_id,\n",
    "       c.customer_name,\n",
    "       c.email,\n",
    "       c.date_of_birth,\n",
    "       c.member_since,\n",
    "       c.telephone,\n",
    "       a.shipping_address_line_1,\n",
    "       a.shipping_city,\n",
    "       a.shipping_state,\n",
    "       a.shipping_postcode,\n",
    "       a.billing_address_line_1,\n",
    "       a.billing_city,\n",
    "       a.billing_state,\n",
    "       a.billing_postcode\n",
    "  from gizmobox.silver.customers c\n",
    "  inner join gizmobox.silver.addresses a\n",
    "    on c.customer_id = a.customer_id"
   ]
  },
  {
   "cell_type": "code",
   "execution_count": 0,
   "metadata": {
    "application/vnd.databricks.v1+cell": {
     "cellMetadata": {
      "byteLimit": 2048000,
      "implicitDf": true,
      "rowLimit": 10000
     },
     "inputWidgets": {},
     "nuid": "87ac8fdb-bb64-4d6f-b347-d30640ea6bd1",
     "showTitle": false,
     "tableResultSettingsMap": {},
     "title": ""
    }
   },
   "outputs": [
    {
     "output_type": "display_data",
     "data": {
      "text/html": [
       "<style scoped>\n",
       "  .table-result-container {\n",
       "    max-height: 300px;\n",
       "    overflow: auto;\n",
       "  }\n",
       "  table, th, td {\n",
       "    border: 1px solid black;\n",
       "    border-collapse: collapse;\n",
       "  }\n",
       "  th, td {\n",
       "    padding: 5px;\n",
       "  }\n",
       "  th {\n",
       "    text-align: left;\n",
       "  }\n",
       "</style><div class='table-result-container'><table class='table-result'><thead style='background-color: white'><tr><th>customer_id</th><th>customer_name</th><th>email</th><th>date_of_birth</th><th>member_since</th><th>telephone</th><th>shipping_address_line_1</th><th>shipping_city</th><th>shipping_state</th><th>shipping_postcode</th><th>billing_address_line_1</th><th>billing_city</th><th>billing_state</th><th>billing_postcode</th></tr></thead><tbody><tr><td>6627</td><td>Candice Rosales</td><td>amber79@example.org</td><td>2004-04-03</td><td>2024-10-15</td><td>+1 4788451559</td><td>76810 Mcintosh Forge Suite 885</td><td>Gregoryport</td><td>South Dakota</td><td>41885</td><td>35855 Haas Centers Apt. 931</td><td>West Andreaville</td><td>Virginia</td><td>82397</td></tr><tr><td>9179</td><td>Richard Cox</td><td>devon84@mail.com</td><td>1996-10-25</td><td>2024-09-26</td><td>+1 6680703335</td><td>9713 Medina Mountains Apt. 813</td><td>Lake Erika</td><td>Mississippi</td><td>91945</td><td>084 Anne Hollow Apt. 064</td><td>East Jasontown</td><td>Minnesota</td><td>77329</td></tr><tr><td>2344</td><td>Martin Thomas DDS</td><td>billy42@outlook.com</td><td>2002-05-01</td><td>2024-10-13</td><td>+1 0201457151</td><td>97619 Sanchez Prairie Suite 359</td><td>Kelleyfurt</td><td>Louisiana</td><td>64906</td><td>5008 Corey Landing Apt. 475</td><td>South Christinaburgh</td><td>New Mexico</td><td>3650</td></tr><tr><td>5816</td><td>Amy Morales</td><td>katelyn82@example.org</td><td>1999-12-11</td><td>2024-11-04</td><td>+1 4140982719</td><td>8400 Rebecca Lodge Suite 011</td><td>Lake Lisatown</td><td>Montana</td><td>11354</td><td>869 Linda Locks Apt. 105</td><td>West Melissabury</td><td>Michigan</td><td>37662</td></tr><tr><td>8580</td><td>Shannon Austin</td><td>john30@gmail.com</td><td>2002-03-22</td><td>2024-10-07</td><td>+1 4594705629</td><td>17549 Lisa Mission Suite 987</td><td>Vasquezstad</td><td>Virginia</td><td>40641</td><td>6150 Jessica Park</td><td>Bellmouth</td><td>Pennsylvania</td><td>82370</td></tr><tr><td>9084</td><td>Olivia Lyons</td><td>patty47@outlook.com</td><td>1997-06-17</td><td>2024-12-16</td><td>+1 2909899135</td><td>411 Joseph Park</td><td>Ericside</td><td>South Dakota</td><td>45339</td><td>649 Jessica Parks</td><td>North Tommyland</td><td>Illinois</td><td>88048</td></tr><tr><td>5028</td><td>Jessica Harris</td><td>null</td><td>2004-04-19</td><td>2024-09-10</td><td>+1 8604009935</td><td>955 Montgomery Mountain Suite 167</td><td>Jameschester</td><td>Kentucky</td><td>9013</td><td>5094 Ayala Falls</td><td>Greenmouth</td><td>North Carolina</td><td>2638</td></tr><tr><td>7207</td><td>Billy Scott</td><td>christopher30@mail.com</td><td>1997-03-17</td><td>2024-09-23</td><td>+1 5544387564</td><td>75470 Richardson Mission Apt. 147</td><td>New Rachelhaven</td><td>Hawaii</td><td>38857</td><td>4450 Michelle Mission Suite 663</td><td>North Justin</td><td>Kentucky</td><td>91757</td></tr><tr><td>9706</td><td>Jennifer Haas</td><td>benjamin55@mail.com</td><td>2001-04-03</td><td>2024-10-05</td><td>+1 4725460000</td><td>2856 Jeremy Wall Apt. 985</td><td>East Elizabeth</td><td>Oklahoma</td><td>66460</td><td>14540 Moody Tunnel</td><td>West Shellybury</td><td>Kentucky</td><td>83151</td></tr><tr><td>4858</td><td>Carla Morton</td><td>joseph88@mail.com</td><td>2004-06-21</td><td>2024-09-15</td><td>+1 8616454195</td><td>4838 Jacob Neck</td><td>Jamesview</td><td>Wisconsin</td><td>58657</td><td>4558 Cabrera Islands</td><td>Lake David</td><td>Rhode Island</td><td>6133</td></tr><tr><td>9247</td><td>Dr. Daniel Hall</td><td>tamara30@gmail.com</td><td>2004-03-21</td><td>2024-10-03</td><td>+1 7544137170</td><td>196 Thomas Shore Apt. 768</td><td>Bobbymouth</td><td>Louisiana</td><td>91533</td><td>0034 Fleming Hollow Suite 295</td><td>Wadefurt</td><td>Montana</td><td>34460</td></tr><tr><td>3889</td><td>Jennifer Jackson</td><td>catherine77@example.org</td><td>1995-10-30</td><td>2025-01-07</td><td>+1 5932456755</td><td>90408 Connie Pines Suite 258</td><td>Catherinehaven</td><td>Texas</td><td>33736</td><td>7908 Walker Track</td><td>North Jose</td><td>Virginia</td><td>84099</td></tr><tr><td>5011</td><td>Rachel Thomas</td><td>lauren59@yahoo.com</td><td>2003-02-17</td><td>2024-09-24</td><td>+1 5437271621</td><td>828 Michele Spring</td><td>Duffyshire</td><td>Tennessee</td><td>93025</td><td>8066 Smith Ports</td><td>Port Cheryl</td><td>Florida</td><td>97952</td></tr><tr><td>8539</td><td>Lori Mason</td><td>stephanie7@mail.com</td><td>2002-11-01</td><td>2024-09-12</td><td>+1 0498301620</td><td>331 Monica Route Apt. 022</td><td>Michellechester</td><td>Texas</td><td>14637</td><td>48794 Aguirre Ferry Apt. 952</td><td>North Amy</td><td>Washington</td><td>92507</td></tr><tr><td>3409</td><td>Andrew Phillips</td><td>peter73@yahoo.com</td><td>2003-04-17</td><td>2024-09-30</td><td>+1 4079273853</td><td>918 April Junctions</td><td>New Theresa</td><td>Indiana</td><td>46004</td><td>1294 Edward Inlet</td><td>North Alison</td><td>Indiana</td><td>82752</td></tr><tr><td>9018</td><td>William Carter</td><td>james70@gmail.com</td><td>2003-09-05</td><td>2024-10-08</td><td>+1 1448753611</td><td>2099 Francisco Spring</td><td>Beanshire</td><td>South Carolina</td><td>87684</td><td>207 Tracy Gateway</td><td>Cookberg</td><td>Delaware</td><td>14011</td></tr><tr><td>9263</td><td>Joseph Keller</td><td>null</td><td>2003-02-11</td><td>2024-10-04</td><td>+1 3817867756</td><td>5733 Richards Ferry Suite 995</td><td>East Angelafort</td><td>Indiana</td><td>79556</td><td>13677 Garcia Ports</td><td>Shelleyland</td><td>Rhode Island</td><td>3719</td></tr><tr><td>5204</td><td>Jennifer Nichols DDS</td><td>joseph8@example.org</td><td>1997-02-17</td><td>2024-11-04</td><td>+1 0383356328</td><td>73225 Davis Island</td><td>Robertville</td><td>Florida</td><td>30994</td><td>8191 Jennifer Shoals</td><td>Friedmanstad</td><td>North Dakota</td><td>97678</td></tr><tr><td>3712</td><td>Robin Chavez</td><td>lisa15@gmail.com</td><td>1997-03-16</td><td>2024-11-24</td><td>+1 2654756919</td><td>35807 Kaylee View</td><td>Lake Melanieburgh</td><td>Utah</td><td>86406</td><td>91984 Rodney Fork Suite 290</td><td>Maryland</td><td>Missouri</td><td>37082</td></tr><tr><td>2703</td><td>Anthony Miller</td><td>null</td><td>1997-11-02</td><td>2024-11-05</td><td>+1 1586310752</td><td>5385 Paul Port Suite 963</td><td>Richardsonton</td><td>Florida</td><td>6432</td><td>7639 Derek Streets</td><td>New Mary</td><td>California</td><td>68610</td></tr><tr><td>4996</td><td>Brandon Reed</td><td>stacey71@yahoo.com</td><td>1997-05-11</td><td>2024-12-13</td><td>null</td><td>5566 Good Harbor Suite 047</td><td>North Crystalfurt</td><td>Maine</td><td>30274</td><td>102 Coleman Centers</td><td>West Paulberg</td><td>Arizona</td><td>55699</td></tr><tr><td>7123</td><td>Edgar Stevens</td><td>kevin68@example.org</td><td>2003-02-15</td><td>2024-10-27</td><td>+1 0793189847</td><td>6149 Adam Meadows</td><td>South Lisa</td><td>New York</td><td>96138</td><td>3975 Short Trail Suite 332</td><td>North Alexandra</td><td>South Dakota</td><td>47448</td></tr><tr><td>4761</td><td>Timothy Smith</td><td>joshua40@yahoo.com</td><td>1996-11-07</td><td>2024-11-03</td><td>+1 9450920858</td><td>55640 Yolanda Brooks</td><td>Andrewfurt</td><td>Missouri</td><td>30615</td><td>492 Jose Knoll Apt. 836</td><td>Lake Sydney</td><td>Wyoming</td><td>51511</td></tr><tr><td>3892</td><td>Jason Bridges</td><td>nicole29@gmail.com</td><td>2004-01-01</td><td>2024-10-29</td><td>+1 8220011928</td><td>5001 Castro Creek</td><td>Watsonberg</td><td>South Dakota</td><td>3805</td><td>322 Dan Lock</td><td>Terriport</td><td>Missouri</td><td>25276</td></tr><tr><td>1987</td><td>Amanda Alvarez</td><td>eric40@outlook.com</td><td>1995-10-11</td><td>2024-10-27</td><td>+1 9673066300</td><td>944 Smith Squares</td><td>Port Jennifer</td><td>Maryland</td><td>28646</td><td>3440 Beck Parkways</td><td>West Jennifer</td><td>Alaska</td><td>79766</td></tr><tr><td>7295</td><td>Lauren Reed</td><td>jeanette48@example.org</td><td>2001-08-11</td><td>2024-10-10</td><td>+1 0104088765</td><td>240 Tammy Bypass Suite 433</td><td>New Hayden</td><td>Minnesota</td><td>55632</td><td>0087 Smith Square Suite 127</td><td>West Kristenside</td><td>Idaho</td><td>795</td></tr><tr><td>4468</td><td>Mrs. Roberta Salas PhD</td><td>null</td><td>1997-05-10</td><td>2024-10-25</td><td>+1 4679955118</td><td>96501 Michelle Wall</td><td>Andersonmouth</td><td>New York</td><td>40416</td><td>790 Jones Neck</td><td>Jenniferville</td><td>Florida</td><td>72949</td></tr><tr><td>7803</td><td>Katherine Lee</td><td>jennifer85@mail.com</td><td>2000-03-09</td><td>2024-10-27</td><td>+1 3119886866</td><td>39194 Le Underpass</td><td>Davidtown</td><td>Virginia</td><td>41382</td><td>529 Bobby Squares Apt. 225</td><td>Lake Michelle</td><td>Kansas</td><td>18094</td></tr><tr><td>2054</td><td>Alan Price</td><td>connor40@yahoo.com</td><td>1998-08-25</td><td>2024-10-14</td><td>+1 3745642936</td><td>225 Lopez Bridge Suite 386</td><td>South Monica</td><td>Indiana</td><td>34134</td><td>890 Brandon Brook Suite 774</td><td>North Nicoleborough</td><td>Wyoming</td><td>15077</td></tr><tr><td>4914</td><td>Samantha Johnson</td><td>theresa14@mail.com</td><td>1997-03-26</td><td>2024-10-13</td><td>+1 4095003738</td><td>750 Oliver Shore Suite 402</td><td>Reedbury</td><td>Kentucky</td><td>33755</td><td>639 Matthew Forge</td><td>South Lisaburgh</td><td>Alaska</td><td>26693</td></tr><tr><td>2639</td><td>Jessica Deleon</td><td>jeremiah96@gmail.com</td><td>1995-06-04</td><td>2024-11-22</td><td>+1 1304435999</td><td>5383 Albert Grove Apt. 804</td><td>North Destinyland</td><td>Illinois</td><td>60150</td><td>222 Dominique Springs Apt. 942</td><td>Colechester</td><td>Louisiana</td><td>96258</td></tr><tr><td>6973</td><td>Tracy Cole</td><td>tony46@mail.com</td><td>1998-07-24</td><td>2024-12-16</td><td>+1 5515836612</td><td>5780 Ashley Row</td><td>Larachester</td><td>Alaska</td><td>96580</td><td>757 Amy Motorway</td><td>Stephaniemouth</td><td>Massachusetts</td><td>55102</td></tr><tr><td>3084</td><td>Tyler Simmons</td><td>brian94@mail.com</td><td>2003-02-20</td><td>2024-12-02</td><td>null</td><td>3337 Gregory Island</td><td>Mitchellbury</td><td>Tennessee</td><td>70603</td><td>78828 Montgomery Branch Suite 316</td><td>South Chelsea</td><td>Wisconsin</td><td>61054</td></tr><tr><td>7829</td><td>Daniel Black</td><td>sandra54@example.org</td><td>1998-04-13</td><td>2024-11-16</td><td>+1 0933795082</td><td>3242 Kelly Forks Suite 810</td><td>Lake Sierraside</td><td>Nebraska</td><td>10629</td><td>0722 Gregory Turnpike</td><td>East Jacksonport</td><td>Indiana</td><td>5138</td></tr><tr><td>9687</td><td>Micheal Perez MD</td><td>christopher65@example.org</td><td>2002-07-18</td><td>2024-11-22</td><td>+1 3079718622</td><td>3044 Scott Row</td><td>North Noah</td><td>Oregon</td><td>73984</td><td>146 Smith Coves Apt. 738</td><td>North Lisaton</td><td>West Virginia</td><td>46429</td></tr><tr><td>7997</td><td>Patricia Abbott</td><td>angela97@mail.com</td><td>1997-07-31</td><td>2024-11-28</td><td>+1 4053366448</td><td>8166 Anthony Lodge Suite 528</td><td>Richardmouth</td><td>Mississippi</td><td>48790</td><td>425 Keith Motorway</td><td>West Lawrencemouth</td><td>Nebraska</td><td>76674</td></tr><tr><td>3532</td><td>Holly Wilkinson</td><td>lindsey61@yahoo.com</td><td>2003-03-06</td><td>2024-12-22</td><td>null</td><td>18892 Benson Lake</td><td>Mitchellland</td><td>Minnesota</td><td>80110</td><td>87297 Davis Bypass Apt. 742</td><td>Mannshire</td><td>Colorado</td><td>19139</td></tr><tr><td>1211</td><td>Jeremy Ball</td><td>megan86@yahoo.com</td><td>2002-03-26</td><td>2024-12-01</td><td>+1 5793543882</td><td>580 Samantha Lodge</td><td>New Christinaborough</td><td>Louisiana</td><td>4251</td><td>7938 Cervantes Mountain Suite 159</td><td>Oconnorhaven</td><td>Indiana</td><td>44129</td></tr><tr><td>6406</td><td>Christopher Ritter</td><td>null</td><td>2004-07-12</td><td>2024-11-24</td><td>+1 1752511241</td><td>613 Hart Rapid Apt. 447</td><td>Shannonmouth</td><td>Wyoming</td><td>83119</td><td>5706 Adam Forges Suite 567</td><td>Josephburgh</td><td>South Dakota</td><td>7359</td></tr><tr><td>2141</td><td>Zachary Lopez</td><td>glenn87@example.org</td><td>2002-09-20</td><td>2024-12-14</td><td>+1 7431190983</td><td>098 Sellers Station</td><td>South Javierstad</td><td>Texas</td><td>59689</td><td>7451 Lisa Stravenue Suite 994</td><td>South Victor</td><td>Kansas</td><td>49835</td></tr><tr><td>5592</td><td>Richard Neal</td><td>eric52@gmail.com</td><td>1995-11-05</td><td>2024-11-15</td><td>+1 4425187397</td><td>754 Ricky Corners Apt. 629</td><td>Jonland</td><td>South Carolina</td><td>2070</td><td>9688 Elizabeth Plains</td><td>South Theodoreburgh</td><td>Massachusetts</td><td>97146</td></tr><tr><td>6384</td><td>Jennifer Carrillo</td><td>james34@yahoo.com</td><td>1994-12-18</td><td>2024-12-22</td><td>+1 5592179843</td><td>750 Lisa Valleys</td><td>Heatherton</td><td>Michigan</td><td>22885</td><td>3915 Reyes Islands Apt. 261</td><td>New Emily</td><td>Massachusetts</td><td>95275</td></tr><tr><td>8845</td><td>Joseph Robbins</td><td>derek53@yahoo.com</td><td>1997-04-04</td><td>2025-01-12</td><td>+1 9513893820</td><td>95689 Jeffrey Expressway</td><td>East Lanceborough</td><td>Pennsylvania</td><td>79251</td><td>556 Christensen Pike</td><td>North Jeremyview</td><td>California</td><td>90786</td></tr><tr><td>9605</td><td>Tiffany Rocha</td><td>michael82@yahoo.com</td><td>2003-04-25</td><td>2024-12-22</td><td>+1 6232811506</td><td>4123 Solomon Oval Apt. 648</td><td>Mccormickside</td><td>Indiana</td><td>90659</td><td>67373 David Plains Suite 457</td><td>East Stevenfort</td><td>Nevada</td><td>84183</td></tr><tr><td>6167</td><td>Leslie Smith</td><td>angela16@mail.com</td><td>2001-10-28</td><td>2024-12-16</td><td>+1 2978446880</td><td>179 Vang Street</td><td>Jessicastad</td><td>Connecticut</td><td>40919</td><td>58676 Keith Coves</td><td>New Erichaven</td><td>Kentucky</td><td>25297</td></tr><tr><td>7007</td><td>Joe Castaneda</td><td>michael34@mail.com</td><td>1999-04-27</td><td>2024-12-31</td><td>+1 1767970338</td><td>64918 Lee Ports Apt. 269</td><td>Jasonview</td><td>Maryland</td><td>18994</td><td>201 Danielle Hollow Apt. 665</td><td>Jerryport</td><td>South Dakota</td><td>12363</td></tr><tr><td>5953</td><td>Kevin Harris</td><td>timothy99@mail.com</td><td>2003-01-23</td><td>2024-12-31</td><td>+1 6517763640</td><td>1393 White Wells Suite 722</td><td>North Karen</td><td>Connecticut</td><td>47802</td><td>470 Casey Pines Suite 957</td><td>Deanmouth</td><td>Arkansas</td><td>96860</td></tr><tr><td>3295</td><td>Drew Hanson</td><td>cathy31@gmail.com</td><td>1996-11-21</td><td>2025-01-01</td><td>+1 6521792889</td><td>9569 Dennis Way Suite 047</td><td>North Amy</td><td>New York</td><td>17867</td><td>36789 Hatfield Landing</td><td>Haydenton</td><td>Tennessee</td><td>60950</td></tr><tr><td>4973</td><td>Daniel Thompson</td><td>connor32@example.org</td><td>1999-07-17</td><td>2024-12-27</td><td>+1 5823046206</td><td>3013 Michelle Mountain Apt. 214</td><td>South Patrickburgh</td><td>Arizona</td><td>45875</td><td>748 John Curve</td><td>Fritzberg</td><td>Maryland</td><td>36128</td></tr><tr><td>9150</td><td>Alison Davis</td><td>jacob31@yahoo.com</td><td>2004-01-17</td><td>2024-12-26</td><td>+1 7119851149</td><td>819 Campbell Ville</td><td>South Ian</td><td>California</td><td>35549</td><td>48219 Kurt Hollow</td><td>South Ravenberg</td><td>Rhode Island</td><td>8078</td></tr></tbody></table></div>"
      ]
     },
     "metadata": {
      "application/vnd.databricks.v1+output": {
       "addedWidgets": {},
       "aggData": [],
       "aggError": "",
       "aggOverflow": false,
       "aggSchema": [],
       "aggSeriesLimitReached": false,
       "aggType": "",
       "arguments": {},
       "columnCustomDisplayInfos": {},
       "data": [
        [
         6627,
         "Candice Rosales",
         "amber79@example.org",
         "2004-04-03",
         "2024-10-15",
         "+1 4788451559",
         "76810 Mcintosh Forge Suite 885",
         "Gregoryport",
         "South Dakota",
         41885,
         "35855 Haas Centers Apt. 931",
         "West Andreaville",
         "Virginia",
         82397
        ],
        [
         9179,
         "Richard Cox",
         "devon84@mail.com",
         "1996-10-25",
         "2024-09-26",
         "+1 6680703335",
         "9713 Medina Mountains Apt. 813",
         "Lake Erika",
         "Mississippi",
         91945,
         "084 Anne Hollow Apt. 064",
         "East Jasontown",
         "Minnesota",
         77329
        ],
        [
         2344,
         "Martin Thomas DDS",
         "billy42@outlook.com",
         "2002-05-01",
         "2024-10-13",
         "+1 0201457151",
         "97619 Sanchez Prairie Suite 359",
         "Kelleyfurt",
         "Louisiana",
         64906,
         "5008 Corey Landing Apt. 475",
         "South Christinaburgh",
         "New Mexico",
         3650
        ],
        [
         5816,
         "Amy Morales",
         "katelyn82@example.org",
         "1999-12-11",
         "2024-11-04",
         "+1 4140982719",
         "8400 Rebecca Lodge Suite 011",
         "Lake Lisatown",
         "Montana",
         11354,
         "869 Linda Locks Apt. 105",
         "West Melissabury",
         "Michigan",
         37662
        ],
        [
         8580,
         "Shannon Austin",
         "john30@gmail.com",
         "2002-03-22",
         "2024-10-07",
         "+1 4594705629",
         "17549 Lisa Mission Suite 987",
         "Vasquezstad",
         "Virginia",
         40641,
         "6150 Jessica Park",
         "Bellmouth",
         "Pennsylvania",
         82370
        ],
        [
         9084,
         "Olivia Lyons",
         "patty47@outlook.com",
         "1997-06-17",
         "2024-12-16",
         "+1 2909899135",
         "411 Joseph Park",
         "Ericside",
         "South Dakota",
         45339,
         "649 Jessica Parks",
         "North Tommyland",
         "Illinois",
         88048
        ],
        [
         5028,
         "Jessica Harris",
         null,
         "2004-04-19",
         "2024-09-10",
         "+1 8604009935",
         "955 Montgomery Mountain Suite 167",
         "Jameschester",
         "Kentucky",
         9013,
         "5094 Ayala Falls",
         "Greenmouth",
         "North Carolina",
         2638
        ],
        [
         7207,
         "Billy Scott",
         "christopher30@mail.com",
         "1997-03-17",
         "2024-09-23",
         "+1 5544387564",
         "75470 Richardson Mission Apt. 147",
         "New Rachelhaven",
         "Hawaii",
         38857,
         "4450 Michelle Mission Suite 663",
         "North Justin",
         "Kentucky",
         91757
        ],
        [
         9706,
         "Jennifer Haas",
         "benjamin55@mail.com",
         "2001-04-03",
         "2024-10-05",
         "+1 4725460000",
         "2856 Jeremy Wall Apt. 985",
         "East Elizabeth",
         "Oklahoma",
         66460,
         "14540 Moody Tunnel",
         "West Shellybury",
         "Kentucky",
         83151
        ],
        [
         4858,
         "Carla Morton",
         "joseph88@mail.com",
         "2004-06-21",
         "2024-09-15",
         "+1 8616454195",
         "4838 Jacob Neck",
         "Jamesview",
         "Wisconsin",
         58657,
         "4558 Cabrera Islands",
         "Lake David",
         "Rhode Island",
         6133
        ],
        [
         9247,
         "Dr. Daniel Hall",
         "tamara30@gmail.com",
         "2004-03-21",
         "2024-10-03",
         "+1 7544137170",
         "196 Thomas Shore Apt. 768",
         "Bobbymouth",
         "Louisiana",
         91533,
         "0034 Fleming Hollow Suite 295",
         "Wadefurt",
         "Montana",
         34460
        ],
        [
         3889,
         "Jennifer Jackson",
         "catherine77@example.org",
         "1995-10-30",
         "2025-01-07",
         "+1 5932456755",
         "90408 Connie Pines Suite 258",
         "Catherinehaven",
         "Texas",
         33736,
         "7908 Walker Track",
         "North Jose",
         "Virginia",
         84099
        ],
        [
         5011,
         "Rachel Thomas",
         "lauren59@yahoo.com",
         "2003-02-17",
         "2024-09-24",
         "+1 5437271621",
         "828 Michele Spring",
         "Duffyshire",
         "Tennessee",
         93025,
         "8066 Smith Ports",
         "Port Cheryl",
         "Florida",
         97952
        ],
        [
         8539,
         "Lori Mason",
         "stephanie7@mail.com",
         "2002-11-01",
         "2024-09-12",
         "+1 0498301620",
         "331 Monica Route Apt. 022",
         "Michellechester",
         "Texas",
         14637,
         "48794 Aguirre Ferry Apt. 952",
         "North Amy",
         "Washington",
         92507
        ],
        [
         3409,
         "Andrew Phillips",
         "peter73@yahoo.com",
         "2003-04-17",
         "2024-09-30",
         "+1 4079273853",
         "918 April Junctions",
         "New Theresa",
         "Indiana",
         46004,
         "1294 Edward Inlet",
         "North Alison",
         "Indiana",
         82752
        ],
        [
         9018,
         "William Carter",
         "james70@gmail.com",
         "2003-09-05",
         "2024-10-08",
         "+1 1448753611",
         "2099 Francisco Spring",
         "Beanshire",
         "South Carolina",
         87684,
         "207 Tracy Gateway",
         "Cookberg",
         "Delaware",
         14011
        ],
        [
         9263,
         "Joseph Keller",
         null,
         "2003-02-11",
         "2024-10-04",
         "+1 3817867756",
         "5733 Richards Ferry Suite 995",
         "East Angelafort",
         "Indiana",
         79556,
         "13677 Garcia Ports",
         "Shelleyland",
         "Rhode Island",
         3719
        ],
        [
         5204,
         "Jennifer Nichols DDS",
         "joseph8@example.org",
         "1997-02-17",
         "2024-11-04",
         "+1 0383356328",
         "73225 Davis Island",
         "Robertville",
         "Florida",
         30994,
         "8191 Jennifer Shoals",
         "Friedmanstad",
         "North Dakota",
         97678
        ],
        [
         3712,
         "Robin Chavez",
         "lisa15@gmail.com",
         "1997-03-16",
         "2024-11-24",
         "+1 2654756919",
         "35807 Kaylee View",
         "Lake Melanieburgh",
         "Utah",
         86406,
         "91984 Rodney Fork Suite 290",
         "Maryland",
         "Missouri",
         37082
        ],
        [
         2703,
         "Anthony Miller",
         null,
         "1997-11-02",
         "2024-11-05",
         "+1 1586310752",
         "5385 Paul Port Suite 963",
         "Richardsonton",
         "Florida",
         6432,
         "7639 Derek Streets",
         "New Mary",
         "California",
         68610
        ],
        [
         4996,
         "Brandon Reed",
         "stacey71@yahoo.com",
         "1997-05-11",
         "2024-12-13",
         null,
         "5566 Good Harbor Suite 047",
         "North Crystalfurt",
         "Maine",
         30274,
         "102 Coleman Centers",
         "West Paulberg",
         "Arizona",
         55699
        ],
        [
         7123,
         "Edgar Stevens",
         "kevin68@example.org",
         "2003-02-15",
         "2024-10-27",
         "+1 0793189847",
         "6149 Adam Meadows",
         "South Lisa",
         "New York",
         96138,
         "3975 Short Trail Suite 332",
         "North Alexandra",
         "South Dakota",
         47448
        ],
        [
         4761,
         "Timothy Smith",
         "joshua40@yahoo.com",
         "1996-11-07",
         "2024-11-03",
         "+1 9450920858",
         "55640 Yolanda Brooks",
         "Andrewfurt",
         "Missouri",
         30615,
         "492 Jose Knoll Apt. 836",
         "Lake Sydney",
         "Wyoming",
         51511
        ],
        [
         3892,
         "Jason Bridges",
         "nicole29@gmail.com",
         "2004-01-01",
         "2024-10-29",
         "+1 8220011928",
         "5001 Castro Creek",
         "Watsonberg",
         "South Dakota",
         3805,
         "322 Dan Lock",
         "Terriport",
         "Missouri",
         25276
        ],
        [
         1987,
         "Amanda Alvarez",
         "eric40@outlook.com",
         "1995-10-11",
         "2024-10-27",
         "+1 9673066300",
         "944 Smith Squares",
         "Port Jennifer",
         "Maryland",
         28646,
         "3440 Beck Parkways",
         "West Jennifer",
         "Alaska",
         79766
        ],
        [
         7295,
         "Lauren Reed",
         "jeanette48@example.org",
         "2001-08-11",
         "2024-10-10",
         "+1 0104088765",
         "240 Tammy Bypass Suite 433",
         "New Hayden",
         "Minnesota",
         55632,
         "0087 Smith Square Suite 127",
         "West Kristenside",
         "Idaho",
         795
        ],
        [
         4468,
         "Mrs. Roberta Salas PhD",
         null,
         "1997-05-10",
         "2024-10-25",
         "+1 4679955118",
         "96501 Michelle Wall",
         "Andersonmouth",
         "New York",
         40416,
         "790 Jones Neck",
         "Jenniferville",
         "Florida",
         72949
        ],
        [
         7803,
         "Katherine Lee",
         "jennifer85@mail.com",
         "2000-03-09",
         "2024-10-27",
         "+1 3119886866",
         "39194 Le Underpass",
         "Davidtown",
         "Virginia",
         41382,
         "529 Bobby Squares Apt. 225",
         "Lake Michelle",
         "Kansas",
         18094
        ],
        [
         2054,
         "Alan Price",
         "connor40@yahoo.com",
         "1998-08-25",
         "2024-10-14",
         "+1 3745642936",
         "225 Lopez Bridge Suite 386",
         "South Monica",
         "Indiana",
         34134,
         "890 Brandon Brook Suite 774",
         "North Nicoleborough",
         "Wyoming",
         15077
        ],
        [
         4914,
         "Samantha Johnson",
         "theresa14@mail.com",
         "1997-03-26",
         "2024-10-13",
         "+1 4095003738",
         "750 Oliver Shore Suite 402",
         "Reedbury",
         "Kentucky",
         33755,
         "639 Matthew Forge",
         "South Lisaburgh",
         "Alaska",
         26693
        ],
        [
         2639,
         "Jessica Deleon",
         "jeremiah96@gmail.com",
         "1995-06-04",
         "2024-11-22",
         "+1 1304435999",
         "5383 Albert Grove Apt. 804",
         "North Destinyland",
         "Illinois",
         60150,
         "222 Dominique Springs Apt. 942",
         "Colechester",
         "Louisiana",
         96258
        ],
        [
         6973,
         "Tracy Cole",
         "tony46@mail.com",
         "1998-07-24",
         "2024-12-16",
         "+1 5515836612",
         "5780 Ashley Row",
         "Larachester",
         "Alaska",
         96580,
         "757 Amy Motorway",
         "Stephaniemouth",
         "Massachusetts",
         55102
        ],
        [
         3084,
         "Tyler Simmons",
         "brian94@mail.com",
         "2003-02-20",
         "2024-12-02",
         null,
         "3337 Gregory Island",
         "Mitchellbury",
         "Tennessee",
         70603,
         "78828 Montgomery Branch Suite 316",
         "South Chelsea",
         "Wisconsin",
         61054
        ],
        [
         7829,
         "Daniel Black",
         "sandra54@example.org",
         "1998-04-13",
         "2024-11-16",
         "+1 0933795082",
         "3242 Kelly Forks Suite 810",
         "Lake Sierraside",
         "Nebraska",
         10629,
         "0722 Gregory Turnpike",
         "East Jacksonport",
         "Indiana",
         5138
        ],
        [
         9687,
         "Micheal Perez MD",
         "christopher65@example.org",
         "2002-07-18",
         "2024-11-22",
         "+1 3079718622",
         "3044 Scott Row",
         "North Noah",
         "Oregon",
         73984,
         "146 Smith Coves Apt. 738",
         "North Lisaton",
         "West Virginia",
         46429
        ],
        [
         7997,
         "Patricia Abbott",
         "angela97@mail.com",
         "1997-07-31",
         "2024-11-28",
         "+1 4053366448",
         "8166 Anthony Lodge Suite 528",
         "Richardmouth",
         "Mississippi",
         48790,
         "425 Keith Motorway",
         "West Lawrencemouth",
         "Nebraska",
         76674
        ],
        [
         3532,
         "Holly Wilkinson",
         "lindsey61@yahoo.com",
         "2003-03-06",
         "2024-12-22",
         null,
         "18892 Benson Lake",
         "Mitchellland",
         "Minnesota",
         80110,
         "87297 Davis Bypass Apt. 742",
         "Mannshire",
         "Colorado",
         19139
        ],
        [
         1211,
         "Jeremy Ball",
         "megan86@yahoo.com",
         "2002-03-26",
         "2024-12-01",
         "+1 5793543882",
         "580 Samantha Lodge",
         "New Christinaborough",
         "Louisiana",
         4251,
         "7938 Cervantes Mountain Suite 159",
         "Oconnorhaven",
         "Indiana",
         44129
        ],
        [
         6406,
         "Christopher Ritter",
         null,
         "2004-07-12",
         "2024-11-24",
         "+1 1752511241",
         "613 Hart Rapid Apt. 447",
         "Shannonmouth",
         "Wyoming",
         83119,
         "5706 Adam Forges Suite 567",
         "Josephburgh",
         "South Dakota",
         7359
        ],
        [
         2141,
         "Zachary Lopez",
         "glenn87@example.org",
         "2002-09-20",
         "2024-12-14",
         "+1 7431190983",
         "098 Sellers Station",
         "South Javierstad",
         "Texas",
         59689,
         "7451 Lisa Stravenue Suite 994",
         "South Victor",
         "Kansas",
         49835
        ],
        [
         5592,
         "Richard Neal",
         "eric52@gmail.com",
         "1995-11-05",
         "2024-11-15",
         "+1 4425187397",
         "754 Ricky Corners Apt. 629",
         "Jonland",
         "South Carolina",
         2070,
         "9688 Elizabeth Plains",
         "South Theodoreburgh",
         "Massachusetts",
         97146
        ],
        [
         6384,
         "Jennifer Carrillo",
         "james34@yahoo.com",
         "1994-12-18",
         "2024-12-22",
         "+1 5592179843",
         "750 Lisa Valleys",
         "Heatherton",
         "Michigan",
         22885,
         "3915 Reyes Islands Apt. 261",
         "New Emily",
         "Massachusetts",
         95275
        ],
        [
         8845,
         "Joseph Robbins",
         "derek53@yahoo.com",
         "1997-04-04",
         "2025-01-12",
         "+1 9513893820",
         "95689 Jeffrey Expressway",
         "East Lanceborough",
         "Pennsylvania",
         79251,
         "556 Christensen Pike",
         "North Jeremyview",
         "California",
         90786
        ],
        [
         9605,
         "Tiffany Rocha",
         "michael82@yahoo.com",
         "2003-04-25",
         "2024-12-22",
         "+1 6232811506",
         "4123 Solomon Oval Apt. 648",
         "Mccormickside",
         "Indiana",
         90659,
         "67373 David Plains Suite 457",
         "East Stevenfort",
         "Nevada",
         84183
        ],
        [
         6167,
         "Leslie Smith",
         "angela16@mail.com",
         "2001-10-28",
         "2024-12-16",
         "+1 2978446880",
         "179 Vang Street",
         "Jessicastad",
         "Connecticut",
         40919,
         "58676 Keith Coves",
         "New Erichaven",
         "Kentucky",
         25297
        ],
        [
         7007,
         "Joe Castaneda",
         "michael34@mail.com",
         "1999-04-27",
         "2024-12-31",
         "+1 1767970338",
         "64918 Lee Ports Apt. 269",
         "Jasonview",
         "Maryland",
         18994,
         "201 Danielle Hollow Apt. 665",
         "Jerryport",
         "South Dakota",
         12363
        ],
        [
         5953,
         "Kevin Harris",
         "timothy99@mail.com",
         "2003-01-23",
         "2024-12-31",
         "+1 6517763640",
         "1393 White Wells Suite 722",
         "North Karen",
         "Connecticut",
         47802,
         "470 Casey Pines Suite 957",
         "Deanmouth",
         "Arkansas",
         96860
        ],
        [
         3295,
         "Drew Hanson",
         "cathy31@gmail.com",
         "1996-11-21",
         "2025-01-01",
         "+1 6521792889",
         "9569 Dennis Way Suite 047",
         "North Amy",
         "New York",
         17867,
         "36789 Hatfield Landing",
         "Haydenton",
         "Tennessee",
         60950
        ],
        [
         4973,
         "Daniel Thompson",
         "connor32@example.org",
         "1999-07-17",
         "2024-12-27",
         "+1 5823046206",
         "3013 Michelle Mountain Apt. 214",
         "South Patrickburgh",
         "Arizona",
         45875,
         "748 John Curve",
         "Fritzberg",
         "Maryland",
         36128
        ],
        [
         9150,
         "Alison Davis",
         "jacob31@yahoo.com",
         "2004-01-17",
         "2024-12-26",
         "+1 7119851149",
         "819 Campbell Ville",
         "South Ian",
         "California",
         35549,
         "48219 Kurt Hollow",
         "South Ravenberg",
         "Rhode Island",
         8078
        ]
       ],
       "datasetInfos": [
        {
         "name": "_sqldf",
         "schema": {
          "fields": [
           {
            "metadata": {},
            "name": "customer_id",
            "nullable": true,
            "type": "long"
           },
           {
            "metadata": {},
            "name": "customer_name",
            "nullable": true,
            "type": "string"
           },
           {
            "metadata": {},
            "name": "email",
            "nullable": true,
            "type": "string"
           },
           {
            "metadata": {},
            "name": "date_of_birth",
            "nullable": true,
            "type": "date"
           },
           {
            "metadata": {},
            "name": "member_since",
            "nullable": true,
            "type": "date"
           },
           {
            "metadata": {},
            "name": "telephone",
            "nullable": true,
            "type": "string"
           },
           {
            "metadata": {},
            "name": "shipping_address_line_1",
            "nullable": true,
            "type": "string"
           },
           {
            "metadata": {},
            "name": "shipping_city",
            "nullable": true,
            "type": "string"
           },
           {
            "metadata": {},
            "name": "shipping_state",
            "nullable": true,
            "type": "string"
           },
           {
            "metadata": {},
            "name": "shipping_postcode",
            "nullable": true,
            "type": "integer"
           },
           {
            "metadata": {},
            "name": "billing_address_line_1",
            "nullable": true,
            "type": "string"
           },
           {
            "metadata": {},
            "name": "billing_city",
            "nullable": true,
            "type": "string"
           },
           {
            "metadata": {},
            "name": "billing_state",
            "nullable": true,
            "type": "string"
           },
           {
            "metadata": {},
            "name": "billing_postcode",
            "nullable": true,
            "type": "integer"
           }
          ],
          "type": "struct"
         },
         "tableIdentifier": null,
         "typeStr": "pyspark.sql.connect.dataframe.DataFrame"
        }
       ],
       "dbfsResultPath": null,
       "isJsonSchema": true,
       "metadata": {
        "createTempViewForImplicitDf": true,
        "dataframeName": "_sqldf",
        "executionCount": 11
       },
       "overflow": false,
       "plotOptions": {
        "customPlotOptions": {},
        "displayType": "table",
        "pivotAggregation": null,
        "pivotColumns": null,
        "xColumns": null,
        "yColumns": null
       },
       "removedWidgets": [],
       "schema": [
        {
         "metadata": "{}",
         "name": "customer_id",
         "type": "\"long\""
        },
        {
         "metadata": "{}",
         "name": "customer_name",
         "type": "\"string\""
        },
        {
         "metadata": "{}",
         "name": "email",
         "type": "\"string\""
        },
        {
         "metadata": "{}",
         "name": "date_of_birth",
         "type": "\"date\""
        },
        {
         "metadata": "{}",
         "name": "member_since",
         "type": "\"date\""
        },
        {
         "metadata": "{}",
         "name": "telephone",
         "type": "\"string\""
        },
        {
         "metadata": "{}",
         "name": "shipping_address_line_1",
         "type": "\"string\""
        },
        {
         "metadata": "{}",
         "name": "shipping_city",
         "type": "\"string\""
        },
        {
         "metadata": "{}",
         "name": "shipping_state",
         "type": "\"string\""
        },
        {
         "metadata": "{}",
         "name": "shipping_postcode",
         "type": "\"integer\""
        },
        {
         "metadata": "{}",
         "name": "billing_address_line_1",
         "type": "\"string\""
        },
        {
         "metadata": "{}",
         "name": "billing_city",
         "type": "\"string\""
        },
        {
         "metadata": "{}",
         "name": "billing_state",
         "type": "\"string\""
        },
        {
         "metadata": "{}",
         "name": "billing_postcode",
         "type": "\"integer\""
        }
       ],
       "type": "table"
      }
     },
     "output_type": "display_data"
    }
   ],
   "source": [
    "%sql\n",
    "select * from gizmobox.gold.customers_address"
   ]
  }
 ],
 "metadata": {
  "application/vnd.databricks.v1+notebook": {
   "computePreferences": null,
   "dashboards": [],
   "environmentMetadata": {
    "base_environment": "",
    "environment_version": "3"
   },
   "inputWidgetPreferences": null,
   "language": "python",
   "notebookMetadata": {
    "mostRecentlyExecutedCommandWithImplicitDF": {
     "commandId": 8026278857225562,
     "dataframes": [
      "_sqldf"
     ]
    },
    "pythonIndentUnit": 4
   },
   "notebookName": "17-Join-Customer-and-Address",
   "widgets": {}
  },
  "language_info": {
   "name": "python"
  }
 },
 "nbformat": 4,
 "nbformat_minor": 0
}
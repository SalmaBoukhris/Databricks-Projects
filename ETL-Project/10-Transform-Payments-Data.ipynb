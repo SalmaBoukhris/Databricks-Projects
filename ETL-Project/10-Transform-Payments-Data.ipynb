{
 "cells": [
  {
   "cell_type": "markdown",
   "metadata": {
    "application/vnd.databricks.v1+cell": {
     "cellMetadata": {},
     "inputWidgets": {},
     "nuid": "a9a3110c-3360-4ada-8f0f-bafc8fe83374",
     "showTitle": false,
     "tableResultSettingsMap": {},
     "title": ""
    }
   },
   "source": [
    "## Transfrom Payments Data\n",
    "##### 1- Extract Date and Time from payment_timestamp and create new columns payement_date and payment_time\n",
    "##### 2- Map payment_status to contain descriptive values (1-Success, 2- Pending, 3-Failed)\n",
    "##### 3- Write transformed data to the siler schema"
   ]
  },
  {
   "cell_type": "code",
   "execution_count": 0,
   "metadata": {
    "application/vnd.databricks.v1+cell": {
     "cellMetadata": {
      "byteLimit": 2048000,
      "implicitDf": true,
      "rowLimit": 10000
     },
     "inputWidgets": {},
     "nuid": "bd57d058-e5df-4a18-809e-aeb70233eebc",
     "showTitle": false,
     "tableResultSettingsMap": {},
     "title": ""
    }
   },
   "outputs": [
    {
     "output_type": "display_data",
     "data": {
      "text/html": [
       "<style scoped>\n",
       "  .table-result-container {\n",
       "    max-height: 300px;\n",
       "    overflow: auto;\n",
       "  }\n",
       "  table, th, td {\n",
       "    border: 1px solid black;\n",
       "    border-collapse: collapse;\n",
       "  }\n",
       "  th, td {\n",
       "    padding: 5px;\n",
       "  }\n",
       "  th {\n",
       "    text-align: left;\n",
       "  }\n",
       "</style><div class='table-result-container'><table class='table-result'><thead style='background-color: white'><tr><th>payment_id</th><th>order_id</th><th>payment_timestamp</th><th>payment_status</th><th>payment_method</th></tr></thead><tbody><tr><td>1</td><td>6</td><td>2024-10-30T04:47:27.000Z</td><td>1</td><td>Credit Card</td></tr><tr><td>2</td><td>10</td><td>2024-10-09T22:09:27.000Z</td><td>2</td><td>Credit Card</td></tr><tr><td>3</td><td>11</td><td>2024-10-15T17:34:19.000Z</td><td>4</td><td>Bank Transfer</td></tr><tr><td>4</td><td>15</td><td>2024-10-22T01:47:25.000Z</td><td>1</td><td>Bank Transfer</td></tr><tr><td>5</td><td>19</td><td>2024-10-15T12:40:26.000Z</td><td>2</td><td>PayPal</td></tr><tr><td>6</td><td>39</td><td>2024-10-31T21:39:19.000Z</td><td>4</td><td>PayPal</td></tr><tr><td>7</td><td>55</td><td>2024-10-27T05:49:16.000Z</td><td>1</td><td>Bank Transfer</td></tr><tr><td>8</td><td>59</td><td>2024-10-25T02:51:05.000Z</td><td>2</td><td>PayPal</td></tr><tr><td>9</td><td>72</td><td>2024-10-08T10:23:28.000Z</td><td>3</td><td>PayPal</td></tr><tr><td>10</td><td>77</td><td>2024-10-17T13:09:33.000Z</td><td>1</td><td>Credit Card</td></tr><tr><td>11</td><td>84</td><td>2024-10-27T03:37:42.000Z</td><td>1</td><td>PayPal</td></tr><tr><td>12</td><td>85</td><td>2024-10-25T20:06:42.000Z</td><td>4</td><td>Bank Transfer</td></tr><tr><td>13</td><td>86</td><td>2024-10-21T13:30:47.000Z</td><td>1</td><td>PayPal</td></tr><tr><td>14</td><td>5</td><td>2024-11-16T23:07:31.000Z</td><td>1</td><td>Bank Transfer</td></tr><tr><td>15</td><td>7</td><td>2024-11-19T19:18:48.000Z</td><td>2</td><td>Credit Card</td></tr><tr><td>16</td><td>9</td><td>2024-11-27T13:15:29.000Z</td><td>4</td><td>Bank Transfer</td></tr><tr><td>17</td><td>20</td><td>2024-11-18T02:38:21.000Z</td><td>1</td><td>PayPal</td></tr><tr><td>18</td><td>21</td><td>2024-11-21T11:25:35.000Z</td><td>1</td><td>Bank Transfer</td></tr><tr><td>19</td><td>23</td><td>2024-11-22T16:04:05.000Z</td><td>1</td><td>PayPal</td></tr><tr><td>20</td><td>25</td><td>2024-11-05T11:45:31.000Z</td><td>2</td><td>PayPal</td></tr><tr><td>21</td><td>30</td><td>2024-11-12T03:20:29.000Z</td><td>1</td><td>Bank Transfer</td></tr><tr><td>22</td><td>35</td><td>2024-11-20T19:09:04.000Z</td><td>4</td><td>Bank Transfer</td></tr><tr><td>23</td><td>36</td><td>2024-11-02T10:39:46.000Z</td><td>1</td><td>PayPal</td></tr><tr><td>24</td><td>38</td><td>2024-11-15T15:12:23.000Z</td><td>1</td><td>Credit Card</td></tr><tr><td>25</td><td>42</td><td>2024-11-26T09:40:55.000Z</td><td>2</td><td>PayPal</td></tr><tr><td>26</td><td>47</td><td>2024-11-28T12:18:39.000Z</td><td>4</td><td>Bank Transfer</td></tr><tr><td>27</td><td>52</td><td>2024-11-17T07:45:14.000Z</td><td>1</td><td>PayPal</td></tr><tr><td>28</td><td>56</td><td>2024-11-23T14:03:20.000Z</td><td>1</td><td>Credit Card</td></tr><tr><td>29</td><td>59</td><td>2024-11-19T18:22:33.000Z</td><td>2</td><td>PayPal</td></tr><tr><td>30</td><td>63</td><td>2024-11-20T20:40:09.000Z</td><td>1</td><td>Bank Transfer</td></tr><tr><td>31</td><td>67</td><td>2024-11-13T16:50:26.000Z</td><td>4</td><td>Credit Card</td></tr><tr><td>32</td><td>71</td><td>2024-11-18T11:09:18.000Z</td><td>1</td><td>PayPal</td></tr><tr><td>33</td><td>74</td><td>2024-11-12T08:05:46.000Z</td><td>2</td><td>Bank Transfer</td></tr><tr><td>34</td><td>12</td><td>2024-12-06T22:30:12.000Z</td><td>1</td><td>PayPal</td></tr><tr><td>35</td><td>13</td><td>2024-12-17T05:25:34.000Z</td><td>2</td><td>PayPal</td></tr><tr><td>36</td><td>16</td><td>2024-12-09T10:45:56.000Z</td><td>4</td><td>Bank Transfer</td></tr><tr><td>37</td><td>17</td><td>2024-12-02T13:50:20.000Z</td><td>1</td><td>Bank Transfer</td></tr><tr><td>38</td><td>24</td><td>2024-12-22T08:30:55.000Z</td><td>1</td><td>PayPal</td></tr><tr><td>39</td><td>27</td><td>2024-12-03T11:45:30.000Z</td><td>2</td><td>Credit Card</td></tr><tr><td>40</td><td>28</td><td>2024-12-27T05:40:10.000Z</td><td>4</td><td>Credit Card</td></tr><tr><td>41</td><td>32</td><td>2024-12-29T09:20:40.000Z</td><td>1</td><td>PayPal</td></tr><tr><td>42</td><td>37</td><td>2024-12-23T12:10:05.000Z</td><td>2</td><td>Credit Card</td></tr><tr><td>43</td><td>38</td><td>2024-12-26T20:15:15.000Z</td><td>1</td><td>Credit Card</td></tr><tr><td>44</td><td>44</td><td>2024-12-21T14:25:45.000Z</td><td>1</td><td>Credit Card</td></tr><tr><td>45</td><td>49</td><td>2024-12-08T16:40:35.000Z</td><td>4</td><td>PayPal</td></tr><tr><td>46</td><td>54</td><td>2024-12-21T13:10:25.000Z</td><td>2</td><td>Credit Card</td></tr><tr><td>47</td><td>58</td><td>2024-12-10T11:50:20.000Z</td><td>1</td><td>PayPal</td></tr><tr><td>48</td><td>60</td><td>2024-12-14T18:30:15.000Z</td><td>1</td><td>Bank Transfer</td></tr><tr><td>49</td><td>61</td><td>2024-12-08T14:45:50.000Z</td><td>2</td><td>Bank Transfer</td></tr><tr><td>50</td><td>65</td><td>2024-12-10T12:35:05.000Z</td><td>4</td><td>Bank Transfer</td></tr><tr><td>51</td><td>67</td><td>2024-12-20T09:40:25.000Z</td><td>1</td><td>PayPal</td></tr><tr><td>52</td><td>69</td><td>2024-12-31T10:15:50.000Z</td><td>1</td><td>Bank Transfer</td></tr><tr><td>53</td><td>70</td><td>2024-12-05T13:50:35.000Z</td><td>2</td><td>PayPal</td></tr><tr><td>54</td><td>71</td><td>2024-12-28T11:05:40.000Z</td><td>1</td><td>Bank Transfer</td></tr><tr><td>55</td><td>74</td><td>2024-12-23T14:25:25.000Z</td><td>1</td><td>PayPal</td></tr><tr><td>56</td><td>80</td><td>2024-12-12T08:30:55.000Z</td><td>4</td><td>Bank Transfer</td></tr><tr><td>57</td><td>81</td><td>2024-12-28T16:45:30.000Z</td><td>1</td><td>PayPal</td></tr><tr><td>58</td><td>82</td><td>2024-12-29T18:50:10.000Z</td><td>2</td><td>PayPal</td></tr><tr><td>59</td><td>91</td><td>2024-12-18T19:20:40.000Z</td><td>4</td><td>Bank Transfer</td></tr><tr><td>60</td><td>93</td><td>2024-12-23T11:10:05.000Z</td><td>1</td><td>PayPal</td></tr><tr><td>61</td><td>95</td><td>2024-12-29T13:15:15.000Z</td><td>2</td><td>Bank Transfer</td></tr><tr><td>62</td><td>96</td><td>2024-12-03T15:25:45.000Z</td><td>1</td><td>PayPal</td></tr><tr><td>63</td><td>97</td><td>2024-12-08T12:10:35.000Z</td><td>4</td><td>Bank Transfer</td></tr><tr><td>64</td><td>1</td><td>2025-01-05T13:13:59.000Z</td><td>1</td><td>Bank Transfer</td></tr><tr><td>65</td><td>2</td><td>2025-01-19T05:05:13.000Z</td><td>2</td><td>PayPal</td></tr><tr><td>66</td><td>3</td><td>2025-01-08T23:45:00.000Z</td><td>4</td><td>Bank Transfer</td></tr><tr><td>67</td><td>4</td><td>2025-01-05T10:49:26.000Z</td><td>1</td><td>Bank Transfer</td></tr><tr><td>68</td><td>8</td><td>2025-01-02T16:11:15.000Z</td><td>2</td><td>PayPal</td></tr><tr><td>69</td><td>14</td><td>2025-01-01T22:22:26.000Z</td><td>4</td><td>PayPal</td></tr><tr><td>70</td><td>18</td><td>2025-01-22T23:12:08.000Z</td><td>1</td><td>Credit Card</td></tr><tr><td>71</td><td>22</td><td>2025-01-01T18:49:19.000Z</td><td>1</td><td>PayPal</td></tr><tr><td>72</td><td>26</td><td>2025-01-05T22:01:25.000Z</td><td>2</td><td>Bank Transfer</td></tr><tr><td>73</td><td>29</td><td>2025-01-18T05:05:04.000Z</td><td>4</td><td>Bank Transfer</td></tr><tr><td>74</td><td>34</td><td>2025-01-12T11:30:15.000Z</td><td>1</td><td>Credit Card</td></tr><tr><td>75</td><td>36</td><td>2025-01-16T23:15:43.000Z</td><td>2</td><td>PayPal</td></tr><tr><td>76</td><td>40</td><td>2025-01-08T13:22:51.000Z</td><td>4</td><td>Bank Transfer</td></tr><tr><td>77</td><td>45</td><td>2025-01-03T15:10:25.000Z</td><td>1</td><td>PayPal</td></tr><tr><td>78</td><td>47</td><td>2025-01-11T20:20:20.000Z</td><td>1</td><td>Bank Transfer</td></tr><tr><td>79</td><td>50</td><td>2025-01-17T12:30:00.000Z</td><td>2</td><td>Bank Transfer</td></tr><tr><td>80</td><td>53</td><td>2025-01-15T07:40:19.000Z</td><td>4</td><td>Credit Card</td></tr><tr><td>81</td><td>58</td><td>2025-01-04T18:49:33.000Z</td><td>1</td><td>PayPal</td></tr><tr><td>82</td><td>60</td><td>2025-01-20T14:10:25.000Z</td><td>2</td><td>Bank Transfer</td></tr><tr><td>83</td><td>65</td><td>2025-01-06T20:30:10.000Z</td><td>4</td><td>PayPal</td></tr><tr><td>84</td><td>67</td><td>2025-01-14T16:00:00.000Z</td><td>1</td><td>Bank Transfer</td></tr><tr><td>85</td><td>71</td><td>2025-01-07T19:15:15.000Z</td><td>2</td><td>Credit Card</td></tr><tr><td>86</td><td>75</td><td>2025-01-21T12:50:30.000Z</td><td>1</td><td>PayPal</td></tr><tr><td>87</td><td>80</td><td>2025-01-19T09:40:40.000Z</td><td>4</td><td>PayPal</td></tr><tr><td>88</td><td>82</td><td>2025-01-10T08:20:00.000Z</td><td>1</td><td>Credit Card</td></tr><tr><td>89</td><td>85</td><td>2025-01-16T15:50:45.000Z</td><td>2</td><td>Bank Transfer</td></tr><tr><td>90</td><td>90</td><td>2025-01-22T21:00:15.000Z</td><td>1</td><td>Bank Transfer</td></tr><tr><td>91</td><td>92</td><td>2025-01-03T16:20:25.000Z</td><td>4</td><td>PayPal</td></tr></tbody></table></div>"
      ]
     },
     "metadata": {
      "application/vnd.databricks.v1+output": {
       "addedWidgets": {},
       "aggData": [],
       "aggError": "",
       "aggOverflow": false,
       "aggSchema": [],
       "aggSeriesLimitReached": false,
       "aggType": "",
       "arguments": {},
       "columnCustomDisplayInfos": {},
       "data": [
        [
         1,
         6,
         "2024-10-30T04:47:27.000Z",
         1,
         "Credit Card"
        ],
        [
         2,
         10,
         "2024-10-09T22:09:27.000Z",
         2,
         "Credit Card"
        ],
        [
         3,
         11,
         "2024-10-15T17:34:19.000Z",
         4,
         "Bank Transfer"
        ],
        [
         4,
         15,
         "2024-10-22T01:47:25.000Z",
         1,
         "Bank Transfer"
        ],
        [
         5,
         19,
         "2024-10-15T12:40:26.000Z",
         2,
         "PayPal"
        ],
        [
         6,
         39,
         "2024-10-31T21:39:19.000Z",
         4,
         "PayPal"
        ],
        [
         7,
         55,
         "2024-10-27T05:49:16.000Z",
         1,
         "Bank Transfer"
        ],
        [
         8,
         59,
         "2024-10-25T02:51:05.000Z",
         2,
         "PayPal"
        ],
        [
         9,
         72,
         "2024-10-08T10:23:28.000Z",
         3,
         "PayPal"
        ],
        [
         10,
         77,
         "2024-10-17T13:09:33.000Z",
         1,
         "Credit Card"
        ],
        [
         11,
         84,
         "2024-10-27T03:37:42.000Z",
         1,
         "PayPal"
        ],
        [
         12,
         85,
         "2024-10-25T20:06:42.000Z",
         4,
         "Bank Transfer"
        ],
        [
         13,
         86,
         "2024-10-21T13:30:47.000Z",
         1,
         "PayPal"
        ],
        [
         14,
         5,
         "2024-11-16T23:07:31.000Z",
         1,
         "Bank Transfer"
        ],
        [
         15,
         7,
         "2024-11-19T19:18:48.000Z",
         2,
         "Credit Card"
        ],
        [
         16,
         9,
         "2024-11-27T13:15:29.000Z",
         4,
         "Bank Transfer"
        ],
        [
         17,
         20,
         "2024-11-18T02:38:21.000Z",
         1,
         "PayPal"
        ],
        [
         18,
         21,
         "2024-11-21T11:25:35.000Z",
         1,
         "Bank Transfer"
        ],
        [
         19,
         23,
         "2024-11-22T16:04:05.000Z",
         1,
         "PayPal"
        ],
        [
         20,
         25,
         "2024-11-05T11:45:31.000Z",
         2,
         "PayPal"
        ],
        [
         21,
         30,
         "2024-11-12T03:20:29.000Z",
         1,
         "Bank Transfer"
        ],
        [
         22,
         35,
         "2024-11-20T19:09:04.000Z",
         4,
         "Bank Transfer"
        ],
        [
         23,
         36,
         "2024-11-02T10:39:46.000Z",
         1,
         "PayPal"
        ],
        [
         24,
         38,
         "2024-11-15T15:12:23.000Z",
         1,
         "Credit Card"
        ],
        [
         25,
         42,
         "2024-11-26T09:40:55.000Z",
         2,
         "PayPal"
        ],
        [
         26,
         47,
         "2024-11-28T12:18:39.000Z",
         4,
         "Bank Transfer"
        ],
        [
         27,
         52,
         "2024-11-17T07:45:14.000Z",
         1,
         "PayPal"
        ],
        [
         28,
         56,
         "2024-11-23T14:03:20.000Z",
         1,
         "Credit Card"
        ],
        [
         29,
         59,
         "2024-11-19T18:22:33.000Z",
         2,
         "PayPal"
        ],
        [
         30,
         63,
         "2024-11-20T20:40:09.000Z",
         1,
         "Bank Transfer"
        ],
        [
         31,
         67,
         "2024-11-13T16:50:26.000Z",
         4,
         "Credit Card"
        ],
        [
         32,
         71,
         "2024-11-18T11:09:18.000Z",
         1,
         "PayPal"
        ],
        [
         33,
         74,
         "2024-11-12T08:05:46.000Z",
         2,
         "Bank Transfer"
        ],
        [
         34,
         12,
         "2024-12-06T22:30:12.000Z",
         1,
         "PayPal"
        ],
        [
         35,
         13,
         "2024-12-17T05:25:34.000Z",
         2,
         "PayPal"
        ],
        [
         36,
         16,
         "2024-12-09T10:45:56.000Z",
         4,
         "Bank Transfer"
        ],
        [
         37,
         17,
         "2024-12-02T13:50:20.000Z",
         1,
         "Bank Transfer"
        ],
        [
         38,
         24,
         "2024-12-22T08:30:55.000Z",
         1,
         "PayPal"
        ],
        [
         39,
         27,
         "2024-12-03T11:45:30.000Z",
         2,
         "Credit Card"
        ],
        [
         40,
         28,
         "2024-12-27T05:40:10.000Z",
         4,
         "Credit Card"
        ],
        [
         41,
         32,
         "2024-12-29T09:20:40.000Z",
         1,
         "PayPal"
        ],
        [
         42,
         37,
         "2024-12-23T12:10:05.000Z",
         2,
         "Credit Card"
        ],
        [
         43,
         38,
         "2024-12-26T20:15:15.000Z",
         1,
         "Credit Card"
        ],
        [
         44,
         44,
         "2024-12-21T14:25:45.000Z",
         1,
         "Credit Card"
        ],
        [
         45,
         49,
         "2024-12-08T16:40:35.000Z",
         4,
         "PayPal"
        ],
        [
         46,
         54,
         "2024-12-21T13:10:25.000Z",
         2,
         "Credit Card"
        ],
        [
         47,
         58,
         "2024-12-10T11:50:20.000Z",
         1,
         "PayPal"
        ],
        [
         48,
         60,
         "2024-12-14T18:30:15.000Z",
         1,
         "Bank Transfer"
        ],
        [
         49,
         61,
         "2024-12-08T14:45:50.000Z",
         2,
         "Bank Transfer"
        ],
        [
         50,
         65,
         "2024-12-10T12:35:05.000Z",
         4,
         "Bank Transfer"
        ],
        [
         51,
         67,
         "2024-12-20T09:40:25.000Z",
         1,
         "PayPal"
        ],
        [
         52,
         69,
         "2024-12-31T10:15:50.000Z",
         1,
         "Bank Transfer"
        ],
        [
         53,
         70,
         "2024-12-05T13:50:35.000Z",
         2,
         "PayPal"
        ],
        [
         54,
         71,
         "2024-12-28T11:05:40.000Z",
         1,
         "Bank Transfer"
        ],
        [
         55,
         74,
         "2024-12-23T14:25:25.000Z",
         1,
         "PayPal"
        ],
        [
         56,
         80,
         "2024-12-12T08:30:55.000Z",
         4,
         "Bank Transfer"
        ],
        [
         57,
         81,
         "2024-12-28T16:45:30.000Z",
         1,
         "PayPal"
        ],
        [
         58,
         82,
         "2024-12-29T18:50:10.000Z",
         2,
         "PayPal"
        ],
        [
         59,
         91,
         "2024-12-18T19:20:40.000Z",
         4,
         "Bank Transfer"
        ],
        [
         60,
         93,
         "2024-12-23T11:10:05.000Z",
         1,
         "PayPal"
        ],
        [
         61,
         95,
         "2024-12-29T13:15:15.000Z",
         2,
         "Bank Transfer"
        ],
        [
         62,
         96,
         "2024-12-03T15:25:45.000Z",
         1,
         "PayPal"
        ],
        [
         63,
         97,
         "2024-12-08T12:10:35.000Z",
         4,
         "Bank Transfer"
        ],
        [
         64,
         1,
         "2025-01-05T13:13:59.000Z",
         1,
         "Bank Transfer"
        ],
        [
         65,
         2,
         "2025-01-19T05:05:13.000Z",
         2,
         "PayPal"
        ],
        [
         66,
         3,
         "2025-01-08T23:45:00.000Z",
         4,
         "Bank Transfer"
        ],
        [
         67,
         4,
         "2025-01-05T10:49:26.000Z",
         1,
         "Bank Transfer"
        ],
        [
         68,
         8,
         "2025-01-02T16:11:15.000Z",
         2,
         "PayPal"
        ],
        [
         69,
         14,
         "2025-01-01T22:22:26.000Z",
         4,
         "PayPal"
        ],
        [
         70,
         18,
         "2025-01-22T23:12:08.000Z",
         1,
         "Credit Card"
        ],
        [
         71,
         22,
         "2025-01-01T18:49:19.000Z",
         1,
         "PayPal"
        ],
        [
         72,
         26,
         "2025-01-05T22:01:25.000Z",
         2,
         "Bank Transfer"
        ],
        [
         73,
         29,
         "2025-01-18T05:05:04.000Z",
         4,
         "Bank Transfer"
        ],
        [
         74,
         34,
         "2025-01-12T11:30:15.000Z",
         1,
         "Credit Card"
        ],
        [
         75,
         36,
         "2025-01-16T23:15:43.000Z",
         2,
         "PayPal"
        ],
        [
         76,
         40,
         "2025-01-08T13:22:51.000Z",
         4,
         "Bank Transfer"
        ],
        [
         77,
         45,
         "2025-01-03T15:10:25.000Z",
         1,
         "PayPal"
        ],
        [
         78,
         47,
         "2025-01-11T20:20:20.000Z",
         1,
         "Bank Transfer"
        ],
        [
         79,
         50,
         "2025-01-17T12:30:00.000Z",
         2,
         "Bank Transfer"
        ],
        [
         80,
         53,
         "2025-01-15T07:40:19.000Z",
         4,
         "Credit Card"
        ],
        [
         81,
         58,
         "2025-01-04T18:49:33.000Z",
         1,
         "PayPal"
        ],
        [
         82,
         60,
         "2025-01-20T14:10:25.000Z",
         2,
         "Bank Transfer"
        ],
        [
         83,
         65,
         "2025-01-06T20:30:10.000Z",
         4,
         "PayPal"
        ],
        [
         84,
         67,
         "2025-01-14T16:00:00.000Z",
         1,
         "Bank Transfer"
        ],
        [
         85,
         71,
         "2025-01-07T19:15:15.000Z",
         2,
         "Credit Card"
        ],
        [
         86,
         75,
         "2025-01-21T12:50:30.000Z",
         1,
         "PayPal"
        ],
        [
         87,
         80,
         "2025-01-19T09:40:40.000Z",
         4,
         "PayPal"
        ],
        [
         88,
         82,
         "2025-01-10T08:20:00.000Z",
         1,
         "Credit Card"
        ],
        [
         89,
         85,
         "2025-01-16T15:50:45.000Z",
         2,
         "Bank Transfer"
        ],
        [
         90,
         90,
         "2025-01-22T21:00:15.000Z",
         1,
         "Bank Transfer"
        ],
        [
         91,
         92,
         "2025-01-03T16:20:25.000Z",
         4,
         "PayPal"
        ]
       ],
       "datasetInfos": [
        {
         "name": "_sqldf",
         "schema": {
          "fields": [
           {
            "metadata": {},
            "name": "payment_id",
            "nullable": true,
            "type": "integer"
           },
           {
            "metadata": {},
            "name": "order_id",
            "nullable": true,
            "type": "integer"
           },
           {
            "metadata": {},
            "name": "payment_timestamp",
            "nullable": true,
            "type": "timestamp"
           },
           {
            "metadata": {},
            "name": "payment_status",
            "nullable": true,
            "type": "integer"
           },
           {
            "metadata": {},
            "name": "payment_method",
            "nullable": true,
            "type": "string"
           }
          ],
          "type": "struct"
         },
         "tableIdentifier": null,
         "typeStr": "pyspark.sql.connect.dataframe.DataFrame"
        }
       ],
       "dbfsResultPath": null,
       "isJsonSchema": true,
       "metadata": {
        "createTempViewForImplicitDf": true,
        "dataframeName": "_sqldf",
        "executionCount": 2
       },
       "overflow": false,
       "plotOptions": {
        "customPlotOptions": {},
        "displayType": "table",
        "pivotAggregation": null,
        "pivotColumns": null,
        "xColumns": null,
        "yColumns": null
       },
       "removedWidgets": [],
       "schema": [
        {
         "metadata": "{}",
         "name": "payment_id",
         "type": "\"integer\""
        },
        {
         "metadata": "{}",
         "name": "order_id",
         "type": "\"integer\""
        },
        {
         "metadata": "{}",
         "name": "payment_timestamp",
         "type": "\"timestamp\""
        },
        {
         "metadata": "{}",
         "name": "payment_status",
         "type": "\"integer\""
        },
        {
         "metadata": "{}",
         "name": "payment_method",
         "type": "\"string\""
        }
       ],
       "type": "table"
      }
     },
     "output_type": "display_data"
    }
   ],
   "source": [
    "%sql\n",
    "select payment_id,\n",
    "      order_id,\n",
    "      payment_timestamp,\n",
    "      payment_status,\n",
    "      payment_method\n",
    "  From gizmobox.bronze.payments;"
   ]
  },
  {
   "cell_type": "markdown",
   "metadata": {
    "application/vnd.databricks.v1+cell": {
     "cellMetadata": {},
     "inputWidgets": {},
     "nuid": "c26057e1-fdde-4841-a734-3ed016425c48",
     "showTitle": false,
     "tableResultSettingsMap": {},
     "title": ""
    }
   },
   "source": [
    "##### 1- Extract Date and Time from payment_timestamp"
   ]
  },
  {
   "cell_type": "code",
   "execution_count": 0,
   "metadata": {
    "application/vnd.databricks.v1+cell": {
     "cellMetadata": {
      "byteLimit": 2048000,
      "implicitDf": true,
      "rowLimit": 10000
     },
     "inputWidgets": {},
     "nuid": "9c8bf70a-0179-44de-8b4c-f50217d4bff8",
     "showTitle": false,
     "tableResultSettingsMap": {},
     "title": ""
    }
   },
   "outputs": [
    {
     "output_type": "display_data",
     "data": {
      "text/html": [
       "<style scoped>\n",
       "  .table-result-container {\n",
       "    max-height: 300px;\n",
       "    overflow: auto;\n",
       "  }\n",
       "  table, th, td {\n",
       "    border: 1px solid black;\n",
       "    border-collapse: collapse;\n",
       "  }\n",
       "  th, td {\n",
       "    padding: 5px;\n",
       "  }\n",
       "  th {\n",
       "    text-align: left;\n",
       "  }\n",
       "</style><div class='table-result-container'><table class='table-result'><thead style='background-color: white'><tr><th>payment_id</th><th>order_id</th><th>payment_timestamp</th><th>payment_date</th><th>payment_time</th><th>payment_status</th><th>payment_method</th></tr></thead><tbody><tr><td>1</td><td>6</td><td>2024-10-30T04:47:27.000Z</td><td>2024-10-30</td><td>04:47:27</td><td>1</td><td>Credit Card</td></tr><tr><td>2</td><td>10</td><td>2024-10-09T22:09:27.000Z</td><td>2024-10-09</td><td>22:09:27</td><td>2</td><td>Credit Card</td></tr><tr><td>3</td><td>11</td><td>2024-10-15T17:34:19.000Z</td><td>2024-10-15</td><td>17:34:19</td><td>4</td><td>Bank Transfer</td></tr><tr><td>4</td><td>15</td><td>2024-10-22T01:47:25.000Z</td><td>2024-10-22</td><td>01:47:25</td><td>1</td><td>Bank Transfer</td></tr><tr><td>5</td><td>19</td><td>2024-10-15T12:40:26.000Z</td><td>2024-10-15</td><td>12:40:26</td><td>2</td><td>PayPal</td></tr><tr><td>6</td><td>39</td><td>2024-10-31T21:39:19.000Z</td><td>2024-10-31</td><td>21:39:19</td><td>4</td><td>PayPal</td></tr><tr><td>7</td><td>55</td><td>2024-10-27T05:49:16.000Z</td><td>2024-10-27</td><td>05:49:16</td><td>1</td><td>Bank Transfer</td></tr><tr><td>8</td><td>59</td><td>2024-10-25T02:51:05.000Z</td><td>2024-10-25</td><td>02:51:05</td><td>2</td><td>PayPal</td></tr><tr><td>9</td><td>72</td><td>2024-10-08T10:23:28.000Z</td><td>2024-10-08</td><td>10:23:28</td><td>3</td><td>PayPal</td></tr><tr><td>10</td><td>77</td><td>2024-10-17T13:09:33.000Z</td><td>2024-10-17</td><td>13:09:33</td><td>1</td><td>Credit Card</td></tr><tr><td>11</td><td>84</td><td>2024-10-27T03:37:42.000Z</td><td>2024-10-27</td><td>03:37:42</td><td>1</td><td>PayPal</td></tr><tr><td>12</td><td>85</td><td>2024-10-25T20:06:42.000Z</td><td>2024-10-25</td><td>20:06:42</td><td>4</td><td>Bank Transfer</td></tr><tr><td>13</td><td>86</td><td>2024-10-21T13:30:47.000Z</td><td>2024-10-21</td><td>13:30:47</td><td>1</td><td>PayPal</td></tr><tr><td>14</td><td>5</td><td>2024-11-16T23:07:31.000Z</td><td>2024-11-16</td><td>23:07:31</td><td>1</td><td>Bank Transfer</td></tr><tr><td>15</td><td>7</td><td>2024-11-19T19:18:48.000Z</td><td>2024-11-19</td><td>19:18:48</td><td>2</td><td>Credit Card</td></tr><tr><td>16</td><td>9</td><td>2024-11-27T13:15:29.000Z</td><td>2024-11-27</td><td>13:15:29</td><td>4</td><td>Bank Transfer</td></tr><tr><td>17</td><td>20</td><td>2024-11-18T02:38:21.000Z</td><td>2024-11-18</td><td>02:38:21</td><td>1</td><td>PayPal</td></tr><tr><td>18</td><td>21</td><td>2024-11-21T11:25:35.000Z</td><td>2024-11-21</td><td>11:25:35</td><td>1</td><td>Bank Transfer</td></tr><tr><td>19</td><td>23</td><td>2024-11-22T16:04:05.000Z</td><td>2024-11-22</td><td>16:04:05</td><td>1</td><td>PayPal</td></tr><tr><td>20</td><td>25</td><td>2024-11-05T11:45:31.000Z</td><td>2024-11-05</td><td>11:45:31</td><td>2</td><td>PayPal</td></tr><tr><td>21</td><td>30</td><td>2024-11-12T03:20:29.000Z</td><td>2024-11-12</td><td>03:20:29</td><td>1</td><td>Bank Transfer</td></tr><tr><td>22</td><td>35</td><td>2024-11-20T19:09:04.000Z</td><td>2024-11-20</td><td>19:09:04</td><td>4</td><td>Bank Transfer</td></tr><tr><td>23</td><td>36</td><td>2024-11-02T10:39:46.000Z</td><td>2024-11-02</td><td>10:39:46</td><td>1</td><td>PayPal</td></tr><tr><td>24</td><td>38</td><td>2024-11-15T15:12:23.000Z</td><td>2024-11-15</td><td>15:12:23</td><td>1</td><td>Credit Card</td></tr><tr><td>25</td><td>42</td><td>2024-11-26T09:40:55.000Z</td><td>2024-11-26</td><td>09:40:55</td><td>2</td><td>PayPal</td></tr><tr><td>26</td><td>47</td><td>2024-11-28T12:18:39.000Z</td><td>2024-11-28</td><td>12:18:39</td><td>4</td><td>Bank Transfer</td></tr><tr><td>27</td><td>52</td><td>2024-11-17T07:45:14.000Z</td><td>2024-11-17</td><td>07:45:14</td><td>1</td><td>PayPal</td></tr><tr><td>28</td><td>56</td><td>2024-11-23T14:03:20.000Z</td><td>2024-11-23</td><td>14:03:20</td><td>1</td><td>Credit Card</td></tr><tr><td>29</td><td>59</td><td>2024-11-19T18:22:33.000Z</td><td>2024-11-19</td><td>18:22:33</td><td>2</td><td>PayPal</td></tr><tr><td>30</td><td>63</td><td>2024-11-20T20:40:09.000Z</td><td>2024-11-20</td><td>20:40:09</td><td>1</td><td>Bank Transfer</td></tr><tr><td>31</td><td>67</td><td>2024-11-13T16:50:26.000Z</td><td>2024-11-13</td><td>16:50:26</td><td>4</td><td>Credit Card</td></tr><tr><td>32</td><td>71</td><td>2024-11-18T11:09:18.000Z</td><td>2024-11-18</td><td>11:09:18</td><td>1</td><td>PayPal</td></tr><tr><td>33</td><td>74</td><td>2024-11-12T08:05:46.000Z</td><td>2024-11-12</td><td>08:05:46</td><td>2</td><td>Bank Transfer</td></tr><tr><td>34</td><td>12</td><td>2024-12-06T22:30:12.000Z</td><td>2024-12-06</td><td>22:30:12</td><td>1</td><td>PayPal</td></tr><tr><td>35</td><td>13</td><td>2024-12-17T05:25:34.000Z</td><td>2024-12-17</td><td>05:25:34</td><td>2</td><td>PayPal</td></tr><tr><td>36</td><td>16</td><td>2024-12-09T10:45:56.000Z</td><td>2024-12-09</td><td>10:45:56</td><td>4</td><td>Bank Transfer</td></tr><tr><td>37</td><td>17</td><td>2024-12-02T13:50:20.000Z</td><td>2024-12-02</td><td>13:50:20</td><td>1</td><td>Bank Transfer</td></tr><tr><td>38</td><td>24</td><td>2024-12-22T08:30:55.000Z</td><td>2024-12-22</td><td>08:30:55</td><td>1</td><td>PayPal</td></tr><tr><td>39</td><td>27</td><td>2024-12-03T11:45:30.000Z</td><td>2024-12-03</td><td>11:45:30</td><td>2</td><td>Credit Card</td></tr><tr><td>40</td><td>28</td><td>2024-12-27T05:40:10.000Z</td><td>2024-12-27</td><td>05:40:10</td><td>4</td><td>Credit Card</td></tr><tr><td>41</td><td>32</td><td>2024-12-29T09:20:40.000Z</td><td>2024-12-29</td><td>09:20:40</td><td>1</td><td>PayPal</td></tr><tr><td>42</td><td>37</td><td>2024-12-23T12:10:05.000Z</td><td>2024-12-23</td><td>12:10:05</td><td>2</td><td>Credit Card</td></tr><tr><td>43</td><td>38</td><td>2024-12-26T20:15:15.000Z</td><td>2024-12-26</td><td>20:15:15</td><td>1</td><td>Credit Card</td></tr><tr><td>44</td><td>44</td><td>2024-12-21T14:25:45.000Z</td><td>2024-12-21</td><td>14:25:45</td><td>1</td><td>Credit Card</td></tr><tr><td>45</td><td>49</td><td>2024-12-08T16:40:35.000Z</td><td>2024-12-08</td><td>16:40:35</td><td>4</td><td>PayPal</td></tr><tr><td>46</td><td>54</td><td>2024-12-21T13:10:25.000Z</td><td>2024-12-21</td><td>13:10:25</td><td>2</td><td>Credit Card</td></tr><tr><td>47</td><td>58</td><td>2024-12-10T11:50:20.000Z</td><td>2024-12-10</td><td>11:50:20</td><td>1</td><td>PayPal</td></tr><tr><td>48</td><td>60</td><td>2024-12-14T18:30:15.000Z</td><td>2024-12-14</td><td>18:30:15</td><td>1</td><td>Bank Transfer</td></tr><tr><td>49</td><td>61</td><td>2024-12-08T14:45:50.000Z</td><td>2024-12-08</td><td>14:45:50</td><td>2</td><td>Bank Transfer</td></tr><tr><td>50</td><td>65</td><td>2024-12-10T12:35:05.000Z</td><td>2024-12-10</td><td>12:35:05</td><td>4</td><td>Bank Transfer</td></tr><tr><td>51</td><td>67</td><td>2024-12-20T09:40:25.000Z</td><td>2024-12-20</td><td>09:40:25</td><td>1</td><td>PayPal</td></tr><tr><td>52</td><td>69</td><td>2024-12-31T10:15:50.000Z</td><td>2024-12-31</td><td>10:15:50</td><td>1</td><td>Bank Transfer</td></tr><tr><td>53</td><td>70</td><td>2024-12-05T13:50:35.000Z</td><td>2024-12-05</td><td>13:50:35</td><td>2</td><td>PayPal</td></tr><tr><td>54</td><td>71</td><td>2024-12-28T11:05:40.000Z</td><td>2024-12-28</td><td>11:05:40</td><td>1</td><td>Bank Transfer</td></tr><tr><td>55</td><td>74</td><td>2024-12-23T14:25:25.000Z</td><td>2024-12-23</td><td>14:25:25</td><td>1</td><td>PayPal</td></tr><tr><td>56</td><td>80</td><td>2024-12-12T08:30:55.000Z</td><td>2024-12-12</td><td>08:30:55</td><td>4</td><td>Bank Transfer</td></tr><tr><td>57</td><td>81</td><td>2024-12-28T16:45:30.000Z</td><td>2024-12-28</td><td>16:45:30</td><td>1</td><td>PayPal</td></tr><tr><td>58</td><td>82</td><td>2024-12-29T18:50:10.000Z</td><td>2024-12-29</td><td>18:50:10</td><td>2</td><td>PayPal</td></tr><tr><td>59</td><td>91</td><td>2024-12-18T19:20:40.000Z</td><td>2024-12-18</td><td>19:20:40</td><td>4</td><td>Bank Transfer</td></tr><tr><td>60</td><td>93</td><td>2024-12-23T11:10:05.000Z</td><td>2024-12-23</td><td>11:10:05</td><td>1</td><td>PayPal</td></tr><tr><td>61</td><td>95</td><td>2024-12-29T13:15:15.000Z</td><td>2024-12-29</td><td>13:15:15</td><td>2</td><td>Bank Transfer</td></tr><tr><td>62</td><td>96</td><td>2024-12-03T15:25:45.000Z</td><td>2024-12-03</td><td>15:25:45</td><td>1</td><td>PayPal</td></tr><tr><td>63</td><td>97</td><td>2024-12-08T12:10:35.000Z</td><td>2024-12-08</td><td>12:10:35</td><td>4</td><td>Bank Transfer</td></tr><tr><td>64</td><td>1</td><td>2025-01-05T13:13:59.000Z</td><td>2025-01-05</td><td>13:13:59</td><td>1</td><td>Bank Transfer</td></tr><tr><td>65</td><td>2</td><td>2025-01-19T05:05:13.000Z</td><td>2025-01-19</td><td>05:05:13</td><td>2</td><td>PayPal</td></tr><tr><td>66</td><td>3</td><td>2025-01-08T23:45:00.000Z</td><td>2025-01-08</td><td>23:45:00</td><td>4</td><td>Bank Transfer</td></tr><tr><td>67</td><td>4</td><td>2025-01-05T10:49:26.000Z</td><td>2025-01-05</td><td>10:49:26</td><td>1</td><td>Bank Transfer</td></tr><tr><td>68</td><td>8</td><td>2025-01-02T16:11:15.000Z</td><td>2025-01-02</td><td>16:11:15</td><td>2</td><td>PayPal</td></tr><tr><td>69</td><td>14</td><td>2025-01-01T22:22:26.000Z</td><td>2025-01-01</td><td>22:22:26</td><td>4</td><td>PayPal</td></tr><tr><td>70</td><td>18</td><td>2025-01-22T23:12:08.000Z</td><td>2025-01-22</td><td>23:12:08</td><td>1</td><td>Credit Card</td></tr><tr><td>71</td><td>22</td><td>2025-01-01T18:49:19.000Z</td><td>2025-01-01</td><td>18:49:19</td><td>1</td><td>PayPal</td></tr><tr><td>72</td><td>26</td><td>2025-01-05T22:01:25.000Z</td><td>2025-01-05</td><td>22:01:25</td><td>2</td><td>Bank Transfer</td></tr><tr><td>73</td><td>29</td><td>2025-01-18T05:05:04.000Z</td><td>2025-01-18</td><td>05:05:04</td><td>4</td><td>Bank Transfer</td></tr><tr><td>74</td><td>34</td><td>2025-01-12T11:30:15.000Z</td><td>2025-01-12</td><td>11:30:15</td><td>1</td><td>Credit Card</td></tr><tr><td>75</td><td>36</td><td>2025-01-16T23:15:43.000Z</td><td>2025-01-16</td><td>23:15:43</td><td>2</td><td>PayPal</td></tr><tr><td>76</td><td>40</td><td>2025-01-08T13:22:51.000Z</td><td>2025-01-08</td><td>13:22:51</td><td>4</td><td>Bank Transfer</td></tr><tr><td>77</td><td>45</td><td>2025-01-03T15:10:25.000Z</td><td>2025-01-03</td><td>15:10:25</td><td>1</td><td>PayPal</td></tr><tr><td>78</td><td>47</td><td>2025-01-11T20:20:20.000Z</td><td>2025-01-11</td><td>20:20:20</td><td>1</td><td>Bank Transfer</td></tr><tr><td>79</td><td>50</td><td>2025-01-17T12:30:00.000Z</td><td>2025-01-17</td><td>12:30:00</td><td>2</td><td>Bank Transfer</td></tr><tr><td>80</td><td>53</td><td>2025-01-15T07:40:19.000Z</td><td>2025-01-15</td><td>07:40:19</td><td>4</td><td>Credit Card</td></tr><tr><td>81</td><td>58</td><td>2025-01-04T18:49:33.000Z</td><td>2025-01-04</td><td>18:49:33</td><td>1</td><td>PayPal</td></tr><tr><td>82</td><td>60</td><td>2025-01-20T14:10:25.000Z</td><td>2025-01-20</td><td>14:10:25</td><td>2</td><td>Bank Transfer</td></tr><tr><td>83</td><td>65</td><td>2025-01-06T20:30:10.000Z</td><td>2025-01-06</td><td>20:30:10</td><td>4</td><td>PayPal</td></tr><tr><td>84</td><td>67</td><td>2025-01-14T16:00:00.000Z</td><td>2025-01-14</td><td>16:00:00</td><td>1</td><td>Bank Transfer</td></tr><tr><td>85</td><td>71</td><td>2025-01-07T19:15:15.000Z</td><td>2025-01-07</td><td>19:15:15</td><td>2</td><td>Credit Card</td></tr><tr><td>86</td><td>75</td><td>2025-01-21T12:50:30.000Z</td><td>2025-01-21</td><td>12:50:30</td><td>1</td><td>PayPal</td></tr><tr><td>87</td><td>80</td><td>2025-01-19T09:40:40.000Z</td><td>2025-01-19</td><td>09:40:40</td><td>4</td><td>PayPal</td></tr><tr><td>88</td><td>82</td><td>2025-01-10T08:20:00.000Z</td><td>2025-01-10</td><td>08:20:00</td><td>1</td><td>Credit Card</td></tr><tr><td>89</td><td>85</td><td>2025-01-16T15:50:45.000Z</td><td>2025-01-16</td><td>15:50:45</td><td>2</td><td>Bank Transfer</td></tr><tr><td>90</td><td>90</td><td>2025-01-22T21:00:15.000Z</td><td>2025-01-22</td><td>21:00:15</td><td>1</td><td>Bank Transfer</td></tr><tr><td>91</td><td>92</td><td>2025-01-03T16:20:25.000Z</td><td>2025-01-03</td><td>16:20:25</td><td>4</td><td>PayPal</td></tr></tbody></table></div>"
      ]
     },
     "metadata": {
      "application/vnd.databricks.v1+output": {
       "addedWidgets": {},
       "aggData": [],
       "aggError": "",
       "aggOverflow": false,
       "aggSchema": [],
       "aggSeriesLimitReached": false,
       "aggType": "",
       "arguments": {},
       "columnCustomDisplayInfos": {},
       "data": [
        [
         1,
         6,
         "2024-10-30T04:47:27.000Z",
         "2024-10-30",
         "04:47:27",
         1,
         "Credit Card"
        ],
        [
         2,
         10,
         "2024-10-09T22:09:27.000Z",
         "2024-10-09",
         "22:09:27",
         2,
         "Credit Card"
        ],
        [
         3,
         11,
         "2024-10-15T17:34:19.000Z",
         "2024-10-15",
         "17:34:19",
         4,
         "Bank Transfer"
        ],
        [
         4,
         15,
         "2024-10-22T01:47:25.000Z",
         "2024-10-22",
         "01:47:25",
         1,
         "Bank Transfer"
        ],
        [
         5,
         19,
         "2024-10-15T12:40:26.000Z",
         "2024-10-15",
         "12:40:26",
         2,
         "PayPal"
        ],
        [
         6,
         39,
         "2024-10-31T21:39:19.000Z",
         "2024-10-31",
         "21:39:19",
         4,
         "PayPal"
        ],
        [
         7,
         55,
         "2024-10-27T05:49:16.000Z",
         "2024-10-27",
         "05:49:16",
         1,
         "Bank Transfer"
        ],
        [
         8,
         59,
         "2024-10-25T02:51:05.000Z",
         "2024-10-25",
         "02:51:05",
         2,
         "PayPal"
        ],
        [
         9,
         72,
         "2024-10-08T10:23:28.000Z",
         "2024-10-08",
         "10:23:28",
         3,
         "PayPal"
        ],
        [
         10,
         77,
         "2024-10-17T13:09:33.000Z",
         "2024-10-17",
         "13:09:33",
         1,
         "Credit Card"
        ],
        [
         11,
         84,
         "2024-10-27T03:37:42.000Z",
         "2024-10-27",
         "03:37:42",
         1,
         "PayPal"
        ],
        [
         12,
         85,
         "2024-10-25T20:06:42.000Z",
         "2024-10-25",
         "20:06:42",
         4,
         "Bank Transfer"
        ],
        [
         13,
         86,
         "2024-10-21T13:30:47.000Z",
         "2024-10-21",
         "13:30:47",
         1,
         "PayPal"
        ],
        [
         14,
         5,
         "2024-11-16T23:07:31.000Z",
         "2024-11-16",
         "23:07:31",
         1,
         "Bank Transfer"
        ],
        [
         15,
         7,
         "2024-11-19T19:18:48.000Z",
         "2024-11-19",
         "19:18:48",
         2,
         "Credit Card"
        ],
        [
         16,
         9,
         "2024-11-27T13:15:29.000Z",
         "2024-11-27",
         "13:15:29",
         4,
         "Bank Transfer"
        ],
        [
         17,
         20,
         "2024-11-18T02:38:21.000Z",
         "2024-11-18",
         "02:38:21",
         1,
         "PayPal"
        ],
        [
         18,
         21,
         "2024-11-21T11:25:35.000Z",
         "2024-11-21",
         "11:25:35",
         1,
         "Bank Transfer"
        ],
        [
         19,
         23,
         "2024-11-22T16:04:05.000Z",
         "2024-11-22",
         "16:04:05",
         1,
         "PayPal"
        ],
        [
         20,
         25,
         "2024-11-05T11:45:31.000Z",
         "2024-11-05",
         "11:45:31",
         2,
         "PayPal"
        ],
        [
         21,
         30,
         "2024-11-12T03:20:29.000Z",
         "2024-11-12",
         "03:20:29",
         1,
         "Bank Transfer"
        ],
        [
         22,
         35,
         "2024-11-20T19:09:04.000Z",
         "2024-11-20",
         "19:09:04",
         4,
         "Bank Transfer"
        ],
        [
         23,
         36,
         "2024-11-02T10:39:46.000Z",
         "2024-11-02",
         "10:39:46",
         1,
         "PayPal"
        ],
        [
         24,
         38,
         "2024-11-15T15:12:23.000Z",
         "2024-11-15",
         "15:12:23",
         1,
         "Credit Card"
        ],
        [
         25,
         42,
         "2024-11-26T09:40:55.000Z",
         "2024-11-26",
         "09:40:55",
         2,
         "PayPal"
        ],
        [
         26,
         47,
         "2024-11-28T12:18:39.000Z",
         "2024-11-28",
         "12:18:39",
         4,
         "Bank Transfer"
        ],
        [
         27,
         52,
         "2024-11-17T07:45:14.000Z",
         "2024-11-17",
         "07:45:14",
         1,
         "PayPal"
        ],
        [
         28,
         56,
         "2024-11-23T14:03:20.000Z",
         "2024-11-23",
         "14:03:20",
         1,
         "Credit Card"
        ],
        [
         29,
         59,
         "2024-11-19T18:22:33.000Z",
         "2024-11-19",
         "18:22:33",
         2,
         "PayPal"
        ],
        [
         30,
         63,
         "2024-11-20T20:40:09.000Z",
         "2024-11-20",
         "20:40:09",
         1,
         "Bank Transfer"
        ],
        [
         31,
         67,
         "2024-11-13T16:50:26.000Z",
         "2024-11-13",
         "16:50:26",
         4,
         "Credit Card"
        ],
        [
         32,
         71,
         "2024-11-18T11:09:18.000Z",
         "2024-11-18",
         "11:09:18",
         1,
         "PayPal"
        ],
        [
         33,
         74,
         "2024-11-12T08:05:46.000Z",
         "2024-11-12",
         "08:05:46",
         2,
         "Bank Transfer"
        ],
        [
         34,
         12,
         "2024-12-06T22:30:12.000Z",
         "2024-12-06",
         "22:30:12",
         1,
         "PayPal"
        ],
        [
         35,
         13,
         "2024-12-17T05:25:34.000Z",
         "2024-12-17",
         "05:25:34",
         2,
         "PayPal"
        ],
        [
         36,
         16,
         "2024-12-09T10:45:56.000Z",
         "2024-12-09",
         "10:45:56",
         4,
         "Bank Transfer"
        ],
        [
         37,
         17,
         "2024-12-02T13:50:20.000Z",
         "2024-12-02",
         "13:50:20",
         1,
         "Bank Transfer"
        ],
        [
         38,
         24,
         "2024-12-22T08:30:55.000Z",
         "2024-12-22",
         "08:30:55",
         1,
         "PayPal"
        ],
        [
         39,
         27,
         "2024-12-03T11:45:30.000Z",
         "2024-12-03",
         "11:45:30",
         2,
         "Credit Card"
        ],
        [
         40,
         28,
         "2024-12-27T05:40:10.000Z",
         "2024-12-27",
         "05:40:10",
         4,
         "Credit Card"
        ],
        [
         41,
         32,
         "2024-12-29T09:20:40.000Z",
         "2024-12-29",
         "09:20:40",
         1,
         "PayPal"
        ],
        [
         42,
         37,
         "2024-12-23T12:10:05.000Z",
         "2024-12-23",
         "12:10:05",
         2,
         "Credit Card"
        ],
        [
         43,
         38,
         "2024-12-26T20:15:15.000Z",
         "2024-12-26",
         "20:15:15",
         1,
         "Credit Card"
        ],
        [
         44,
         44,
         "2024-12-21T14:25:45.000Z",
         "2024-12-21",
         "14:25:45",
         1,
         "Credit Card"
        ],
        [
         45,
         49,
         "2024-12-08T16:40:35.000Z",
         "2024-12-08",
         "16:40:35",
         4,
         "PayPal"
        ],
        [
         46,
         54,
         "2024-12-21T13:10:25.000Z",
         "2024-12-21",
         "13:10:25",
         2,
         "Credit Card"
        ],
        [
         47,
         58,
         "2024-12-10T11:50:20.000Z",
         "2024-12-10",
         "11:50:20",
         1,
         "PayPal"
        ],
        [
         48,
         60,
         "2024-12-14T18:30:15.000Z",
         "2024-12-14",
         "18:30:15",
         1,
         "Bank Transfer"
        ],
        [
         49,
         61,
         "2024-12-08T14:45:50.000Z",
         "2024-12-08",
         "14:45:50",
         2,
         "Bank Transfer"
        ],
        [
         50,
         65,
         "2024-12-10T12:35:05.000Z",
         "2024-12-10",
         "12:35:05",
         4,
         "Bank Transfer"
        ],
        [
         51,
         67,
         "2024-12-20T09:40:25.000Z",
         "2024-12-20",
         "09:40:25",
         1,
         "PayPal"
        ],
        [
         52,
         69,
         "2024-12-31T10:15:50.000Z",
         "2024-12-31",
         "10:15:50",
         1,
         "Bank Transfer"
        ],
        [
         53,
         70,
         "2024-12-05T13:50:35.000Z",
         "2024-12-05",
         "13:50:35",
         2,
         "PayPal"
        ],
        [
         54,
         71,
         "2024-12-28T11:05:40.000Z",
         "2024-12-28",
         "11:05:40",
         1,
         "Bank Transfer"
        ],
        [
         55,
         74,
         "2024-12-23T14:25:25.000Z",
         "2024-12-23",
         "14:25:25",
         1,
         "PayPal"
        ],
        [
         56,
         80,
         "2024-12-12T08:30:55.000Z",
         "2024-12-12",
         "08:30:55",
         4,
         "Bank Transfer"
        ],
        [
         57,
         81,
         "2024-12-28T16:45:30.000Z",
         "2024-12-28",
         "16:45:30",
         1,
         "PayPal"
        ],
        [
         58,
         82,
         "2024-12-29T18:50:10.000Z",
         "2024-12-29",
         "18:50:10",
         2,
         "PayPal"
        ],
        [
         59,
         91,
         "2024-12-18T19:20:40.000Z",
         "2024-12-18",
         "19:20:40",
         4,
         "Bank Transfer"
        ],
        [
         60,
         93,
         "2024-12-23T11:10:05.000Z",
         "2024-12-23",
         "11:10:05",
         1,
         "PayPal"
        ],
        [
         61,
         95,
         "2024-12-29T13:15:15.000Z",
         "2024-12-29",
         "13:15:15",
         2,
         "Bank Transfer"
        ],
        [
         62,
         96,
         "2024-12-03T15:25:45.000Z",
         "2024-12-03",
         "15:25:45",
         1,
         "PayPal"
        ],
        [
         63,
         97,
         "2024-12-08T12:10:35.000Z",
         "2024-12-08",
         "12:10:35",
         4,
         "Bank Transfer"
        ],
        [
         64,
         1,
         "2025-01-05T13:13:59.000Z",
         "2025-01-05",
         "13:13:59",
         1,
         "Bank Transfer"
        ],
        [
         65,
         2,
         "2025-01-19T05:05:13.000Z",
         "2025-01-19",
         "05:05:13",
         2,
         "PayPal"
        ],
        [
         66,
         3,
         "2025-01-08T23:45:00.000Z",
         "2025-01-08",
         "23:45:00",
         4,
         "Bank Transfer"
        ],
        [
         67,
         4,
         "2025-01-05T10:49:26.000Z",
         "2025-01-05",
         "10:49:26",
         1,
         "Bank Transfer"
        ],
        [
         68,
         8,
         "2025-01-02T16:11:15.000Z",
         "2025-01-02",
         "16:11:15",
         2,
         "PayPal"
        ],
        [
         69,
         14,
         "2025-01-01T22:22:26.000Z",
         "2025-01-01",
         "22:22:26",
         4,
         "PayPal"
        ],
        [
         70,
         18,
         "2025-01-22T23:12:08.000Z",
         "2025-01-22",
         "23:12:08",
         1,
         "Credit Card"
        ],
        [
         71,
         22,
         "2025-01-01T18:49:19.000Z",
         "2025-01-01",
         "18:49:19",
         1,
         "PayPal"
        ],
        [
         72,
         26,
         "2025-01-05T22:01:25.000Z",
         "2025-01-05",
         "22:01:25",
         2,
         "Bank Transfer"
        ],
        [
         73,
         29,
         "2025-01-18T05:05:04.000Z",
         "2025-01-18",
         "05:05:04",
         4,
         "Bank Transfer"
        ],
        [
         74,
         34,
         "2025-01-12T11:30:15.000Z",
         "2025-01-12",
         "11:30:15",
         1,
         "Credit Card"
        ],
        [
         75,
         36,
         "2025-01-16T23:15:43.000Z",
         "2025-01-16",
         "23:15:43",
         2,
         "PayPal"
        ],
        [
         76,
         40,
         "2025-01-08T13:22:51.000Z",
         "2025-01-08",
         "13:22:51",
         4,
         "Bank Transfer"
        ],
        [
         77,
         45,
         "2025-01-03T15:10:25.000Z",
         "2025-01-03",
         "15:10:25",
         1,
         "PayPal"
        ],
        [
         78,
         47,
         "2025-01-11T20:20:20.000Z",
         "2025-01-11",
         "20:20:20",
         1,
         "Bank Transfer"
        ],
        [
         79,
         50,
         "2025-01-17T12:30:00.000Z",
         "2025-01-17",
         "12:30:00",
         2,
         "Bank Transfer"
        ],
        [
         80,
         53,
         "2025-01-15T07:40:19.000Z",
         "2025-01-15",
         "07:40:19",
         4,
         "Credit Card"
        ],
        [
         81,
         58,
         "2025-01-04T18:49:33.000Z",
         "2025-01-04",
         "18:49:33",
         1,
         "PayPal"
        ],
        [
         82,
         60,
         "2025-01-20T14:10:25.000Z",
         "2025-01-20",
         "14:10:25",
         2,
         "Bank Transfer"
        ],
        [
         83,
         65,
         "2025-01-06T20:30:10.000Z",
         "2025-01-06",
         "20:30:10",
         4,
         "PayPal"
        ],
        [
         84,
         67,
         "2025-01-14T16:00:00.000Z",
         "2025-01-14",
         "16:00:00",
         1,
         "Bank Transfer"
        ],
        [
         85,
         71,
         "2025-01-07T19:15:15.000Z",
         "2025-01-07",
         "19:15:15",
         2,
         "Credit Card"
        ],
        [
         86,
         75,
         "2025-01-21T12:50:30.000Z",
         "2025-01-21",
         "12:50:30",
         1,
         "PayPal"
        ],
        [
         87,
         80,
         "2025-01-19T09:40:40.000Z",
         "2025-01-19",
         "09:40:40",
         4,
         "PayPal"
        ],
        [
         88,
         82,
         "2025-01-10T08:20:00.000Z",
         "2025-01-10",
         "08:20:00",
         1,
         "Credit Card"
        ],
        [
         89,
         85,
         "2025-01-16T15:50:45.000Z",
         "2025-01-16",
         "15:50:45",
         2,
         "Bank Transfer"
        ],
        [
         90,
         90,
         "2025-01-22T21:00:15.000Z",
         "2025-01-22",
         "21:00:15",
         1,
         "Bank Transfer"
        ],
        [
         91,
         92,
         "2025-01-03T16:20:25.000Z",
         "2025-01-03",
         "16:20:25",
         4,
         "PayPal"
        ]
       ],
       "datasetInfos": [
        {
         "name": "_sqldf",
         "schema": {
          "fields": [
           {
            "metadata": {},
            "name": "payment_id",
            "nullable": true,
            "type": "integer"
           },
           {
            "metadata": {},
            "name": "order_id",
            "nullable": true,
            "type": "integer"
           },
           {
            "metadata": {},
            "name": "payment_timestamp",
            "nullable": true,
            "type": "timestamp"
           },
           {
            "metadata": {},
            "name": "payment_date",
            "nullable": true,
            "type": "string"
           },
           {
            "metadata": {},
            "name": "payment_time",
            "nullable": true,
            "type": "string"
           },
           {
            "metadata": {},
            "name": "payment_status",
            "nullable": true,
            "type": "integer"
           },
           {
            "metadata": {},
            "name": "payment_method",
            "nullable": true,
            "type": "string"
           }
          ],
          "type": "struct"
         },
         "tableIdentifier": null,
         "typeStr": "pyspark.sql.connect.dataframe.DataFrame"
        }
       ],
       "dbfsResultPath": null,
       "isJsonSchema": true,
       "metadata": {
        "createTempViewForImplicitDf": true,
        "dataframeName": "_sqldf",
        "executionCount": 12
       },
       "overflow": false,
       "plotOptions": {
        "customPlotOptions": {},
        "displayType": "table",
        "pivotAggregation": null,
        "pivotColumns": null,
        "xColumns": null,
        "yColumns": null
       },
       "removedWidgets": [],
       "schema": [
        {
         "metadata": "{}",
         "name": "payment_id",
         "type": "\"integer\""
        },
        {
         "metadata": "{}",
         "name": "order_id",
         "type": "\"integer\""
        },
        {
         "metadata": "{}",
         "name": "payment_timestamp",
         "type": "\"timestamp\""
        },
        {
         "metadata": "{}",
         "name": "payment_date",
         "type": "\"string\""
        },
        {
         "metadata": "{}",
         "name": "payment_time",
         "type": "\"string\""
        },
        {
         "metadata": "{}",
         "name": "payment_status",
         "type": "\"integer\""
        },
        {
         "metadata": "{}",
         "name": "payment_method",
         "type": "\"string\""
        }
       ],
       "type": "table"
      }
     },
     "output_type": "display_data"
    }
   ],
   "source": [
    "%sql\n",
    "select payment_id,\n",
    "       order_id,\n",
    "       payment_timestamp,\n",
    "       date_format(payment_timestamp, 'yyyy-MM-dd') as payment_date, \n",
    "       date_format(payment_timestamp, 'HH:mm:ss') as payment_time, \n",
    "       payment_status,\n",
    "       payment_method\n",
    "  From gizmobox.bronze.payments;"
   ]
  },
  {
   "cell_type": "markdown",
   "metadata": {
    "application/vnd.databricks.v1+cell": {
     "cellMetadata": {},
     "inputWidgets": {},
     "nuid": "93f769dc-d011-4804-89f6-9f36d31b8439",
     "showTitle": false,
     "tableResultSettingsMap": {},
     "title": ""
    }
   },
   "source": [
    "#### 2-Map payment_status to contain descriptive values"
   ]
  },
  {
   "cell_type": "code",
   "execution_count": 0,
   "metadata": {
    "application/vnd.databricks.v1+cell": {
     "cellMetadata": {
      "byteLimit": 2048000,
      "implicitDf": true,
      "rowLimit": 10000
     },
     "inputWidgets": {},
     "nuid": "f4e4ac0e-1a80-45e1-883c-5c394bc43f34",
     "showTitle": false,
     "tableResultSettingsMap": {},
     "title": ""
    }
   },
   "outputs": [
    {
     "output_type": "display_data",
     "data": {
      "text/html": [
       "<style scoped>\n",
       "  .table-result-container {\n",
       "    max-height: 300px;\n",
       "    overflow: auto;\n",
       "  }\n",
       "  table, th, td {\n",
       "    border: 1px solid black;\n",
       "    border-collapse: collapse;\n",
       "  }\n",
       "  th, td {\n",
       "    padding: 5px;\n",
       "  }\n",
       "  th {\n",
       "    text-align: left;\n",
       "  }\n",
       "</style><div class='table-result-container'><table class='table-result'><thead style='background-color: white'><tr><th>payment_id</th><th>order_id</th><th>payment_timestamp</th><th>payment_date</th><th>payment_time</th><th>payment_status</th><th>payment_method</th></tr></thead><tbody><tr><td>1</td><td>6</td><td>2024-10-30T04:47:27.000Z</td><td>2024-10-30</td><td>04:47:27</td><td>Success</td><td>Credit Card</td></tr><tr><td>2</td><td>10</td><td>2024-10-09T22:09:27.000Z</td><td>2024-10-09</td><td>22:09:27</td><td>Failed</td><td>Credit Card</td></tr><tr><td>3</td><td>11</td><td>2024-10-15T17:34:19.000Z</td><td>2024-10-15</td><td>17:34:19</td><td>Unpaid</td><td>Bank Transfer</td></tr><tr><td>4</td><td>15</td><td>2024-10-22T01:47:25.000Z</td><td>2024-10-22</td><td>01:47:25</td><td>Success</td><td>Bank Transfer</td></tr><tr><td>5</td><td>19</td><td>2024-10-15T12:40:26.000Z</td><td>2024-10-15</td><td>12:40:26</td><td>Failed</td><td>PayPal</td></tr><tr><td>6</td><td>39</td><td>2024-10-31T21:39:19.000Z</td><td>2024-10-31</td><td>21:39:19</td><td>Unpaid</td><td>PayPal</td></tr><tr><td>7</td><td>55</td><td>2024-10-27T05:49:16.000Z</td><td>2024-10-27</td><td>05:49:16</td><td>Success</td><td>Bank Transfer</td></tr><tr><td>8</td><td>59</td><td>2024-10-25T02:51:05.000Z</td><td>2024-10-25</td><td>02:51:05</td><td>Failed</td><td>PayPal</td></tr><tr><td>9</td><td>72</td><td>2024-10-08T10:23:28.000Z</td><td>2024-10-08</td><td>10:23:28</td><td>Cancelled</td><td>PayPal</td></tr><tr><td>10</td><td>77</td><td>2024-10-17T13:09:33.000Z</td><td>2024-10-17</td><td>13:09:33</td><td>Success</td><td>Credit Card</td></tr><tr><td>11</td><td>84</td><td>2024-10-27T03:37:42.000Z</td><td>2024-10-27</td><td>03:37:42</td><td>Success</td><td>PayPal</td></tr><tr><td>12</td><td>85</td><td>2024-10-25T20:06:42.000Z</td><td>2024-10-25</td><td>20:06:42</td><td>Unpaid</td><td>Bank Transfer</td></tr><tr><td>13</td><td>86</td><td>2024-10-21T13:30:47.000Z</td><td>2024-10-21</td><td>13:30:47</td><td>Success</td><td>PayPal</td></tr><tr><td>14</td><td>5</td><td>2024-11-16T23:07:31.000Z</td><td>2024-11-16</td><td>23:07:31</td><td>Success</td><td>Bank Transfer</td></tr><tr><td>15</td><td>7</td><td>2024-11-19T19:18:48.000Z</td><td>2024-11-19</td><td>19:18:48</td><td>Failed</td><td>Credit Card</td></tr><tr><td>16</td><td>9</td><td>2024-11-27T13:15:29.000Z</td><td>2024-11-27</td><td>13:15:29</td><td>Unpaid</td><td>Bank Transfer</td></tr><tr><td>17</td><td>20</td><td>2024-11-18T02:38:21.000Z</td><td>2024-11-18</td><td>02:38:21</td><td>Success</td><td>PayPal</td></tr><tr><td>18</td><td>21</td><td>2024-11-21T11:25:35.000Z</td><td>2024-11-21</td><td>11:25:35</td><td>Success</td><td>Bank Transfer</td></tr><tr><td>19</td><td>23</td><td>2024-11-22T16:04:05.000Z</td><td>2024-11-22</td><td>16:04:05</td><td>Success</td><td>PayPal</td></tr><tr><td>20</td><td>25</td><td>2024-11-05T11:45:31.000Z</td><td>2024-11-05</td><td>11:45:31</td><td>Failed</td><td>PayPal</td></tr><tr><td>21</td><td>30</td><td>2024-11-12T03:20:29.000Z</td><td>2024-11-12</td><td>03:20:29</td><td>Success</td><td>Bank Transfer</td></tr><tr><td>22</td><td>35</td><td>2024-11-20T19:09:04.000Z</td><td>2024-11-20</td><td>19:09:04</td><td>Unpaid</td><td>Bank Transfer</td></tr><tr><td>23</td><td>36</td><td>2024-11-02T10:39:46.000Z</td><td>2024-11-02</td><td>10:39:46</td><td>Success</td><td>PayPal</td></tr><tr><td>24</td><td>38</td><td>2024-11-15T15:12:23.000Z</td><td>2024-11-15</td><td>15:12:23</td><td>Success</td><td>Credit Card</td></tr><tr><td>25</td><td>42</td><td>2024-11-26T09:40:55.000Z</td><td>2024-11-26</td><td>09:40:55</td><td>Failed</td><td>PayPal</td></tr><tr><td>26</td><td>47</td><td>2024-11-28T12:18:39.000Z</td><td>2024-11-28</td><td>12:18:39</td><td>Unpaid</td><td>Bank Transfer</td></tr><tr><td>27</td><td>52</td><td>2024-11-17T07:45:14.000Z</td><td>2024-11-17</td><td>07:45:14</td><td>Success</td><td>PayPal</td></tr><tr><td>28</td><td>56</td><td>2024-11-23T14:03:20.000Z</td><td>2024-11-23</td><td>14:03:20</td><td>Success</td><td>Credit Card</td></tr><tr><td>29</td><td>59</td><td>2024-11-19T18:22:33.000Z</td><td>2024-11-19</td><td>18:22:33</td><td>Failed</td><td>PayPal</td></tr><tr><td>30</td><td>63</td><td>2024-11-20T20:40:09.000Z</td><td>2024-11-20</td><td>20:40:09</td><td>Success</td><td>Bank Transfer</td></tr><tr><td>31</td><td>67</td><td>2024-11-13T16:50:26.000Z</td><td>2024-11-13</td><td>16:50:26</td><td>Unpaid</td><td>Credit Card</td></tr><tr><td>32</td><td>71</td><td>2024-11-18T11:09:18.000Z</td><td>2024-11-18</td><td>11:09:18</td><td>Success</td><td>PayPal</td></tr><tr><td>33</td><td>74</td><td>2024-11-12T08:05:46.000Z</td><td>2024-11-12</td><td>08:05:46</td><td>Failed</td><td>Bank Transfer</td></tr><tr><td>34</td><td>12</td><td>2024-12-06T22:30:12.000Z</td><td>2024-12-06</td><td>22:30:12</td><td>Success</td><td>PayPal</td></tr><tr><td>35</td><td>13</td><td>2024-12-17T05:25:34.000Z</td><td>2024-12-17</td><td>05:25:34</td><td>Failed</td><td>PayPal</td></tr><tr><td>36</td><td>16</td><td>2024-12-09T10:45:56.000Z</td><td>2024-12-09</td><td>10:45:56</td><td>Unpaid</td><td>Bank Transfer</td></tr><tr><td>37</td><td>17</td><td>2024-12-02T13:50:20.000Z</td><td>2024-12-02</td><td>13:50:20</td><td>Success</td><td>Bank Transfer</td></tr><tr><td>38</td><td>24</td><td>2024-12-22T08:30:55.000Z</td><td>2024-12-22</td><td>08:30:55</td><td>Success</td><td>PayPal</td></tr><tr><td>39</td><td>27</td><td>2024-12-03T11:45:30.000Z</td><td>2024-12-03</td><td>11:45:30</td><td>Failed</td><td>Credit Card</td></tr><tr><td>40</td><td>28</td><td>2024-12-27T05:40:10.000Z</td><td>2024-12-27</td><td>05:40:10</td><td>Unpaid</td><td>Credit Card</td></tr><tr><td>41</td><td>32</td><td>2024-12-29T09:20:40.000Z</td><td>2024-12-29</td><td>09:20:40</td><td>Success</td><td>PayPal</td></tr><tr><td>42</td><td>37</td><td>2024-12-23T12:10:05.000Z</td><td>2024-12-23</td><td>12:10:05</td><td>Failed</td><td>Credit Card</td></tr><tr><td>43</td><td>38</td><td>2024-12-26T20:15:15.000Z</td><td>2024-12-26</td><td>20:15:15</td><td>Success</td><td>Credit Card</td></tr><tr><td>44</td><td>44</td><td>2024-12-21T14:25:45.000Z</td><td>2024-12-21</td><td>14:25:45</td><td>Success</td><td>Credit Card</td></tr><tr><td>45</td><td>49</td><td>2024-12-08T16:40:35.000Z</td><td>2024-12-08</td><td>16:40:35</td><td>Unpaid</td><td>PayPal</td></tr><tr><td>46</td><td>54</td><td>2024-12-21T13:10:25.000Z</td><td>2024-12-21</td><td>13:10:25</td><td>Failed</td><td>Credit Card</td></tr><tr><td>47</td><td>58</td><td>2024-12-10T11:50:20.000Z</td><td>2024-12-10</td><td>11:50:20</td><td>Success</td><td>PayPal</td></tr><tr><td>48</td><td>60</td><td>2024-12-14T18:30:15.000Z</td><td>2024-12-14</td><td>18:30:15</td><td>Success</td><td>Bank Transfer</td></tr><tr><td>49</td><td>61</td><td>2024-12-08T14:45:50.000Z</td><td>2024-12-08</td><td>14:45:50</td><td>Failed</td><td>Bank Transfer</td></tr><tr><td>50</td><td>65</td><td>2024-12-10T12:35:05.000Z</td><td>2024-12-10</td><td>12:35:05</td><td>Unpaid</td><td>Bank Transfer</td></tr><tr><td>51</td><td>67</td><td>2024-12-20T09:40:25.000Z</td><td>2024-12-20</td><td>09:40:25</td><td>Success</td><td>PayPal</td></tr><tr><td>52</td><td>69</td><td>2024-12-31T10:15:50.000Z</td><td>2024-12-31</td><td>10:15:50</td><td>Success</td><td>Bank Transfer</td></tr><tr><td>53</td><td>70</td><td>2024-12-05T13:50:35.000Z</td><td>2024-12-05</td><td>13:50:35</td><td>Failed</td><td>PayPal</td></tr><tr><td>54</td><td>71</td><td>2024-12-28T11:05:40.000Z</td><td>2024-12-28</td><td>11:05:40</td><td>Success</td><td>Bank Transfer</td></tr><tr><td>55</td><td>74</td><td>2024-12-23T14:25:25.000Z</td><td>2024-12-23</td><td>14:25:25</td><td>Success</td><td>PayPal</td></tr><tr><td>56</td><td>80</td><td>2024-12-12T08:30:55.000Z</td><td>2024-12-12</td><td>08:30:55</td><td>Unpaid</td><td>Bank Transfer</td></tr><tr><td>57</td><td>81</td><td>2024-12-28T16:45:30.000Z</td><td>2024-12-28</td><td>16:45:30</td><td>Success</td><td>PayPal</td></tr><tr><td>58</td><td>82</td><td>2024-12-29T18:50:10.000Z</td><td>2024-12-29</td><td>18:50:10</td><td>Failed</td><td>PayPal</td></tr><tr><td>59</td><td>91</td><td>2024-12-18T19:20:40.000Z</td><td>2024-12-18</td><td>19:20:40</td><td>Unpaid</td><td>Bank Transfer</td></tr><tr><td>60</td><td>93</td><td>2024-12-23T11:10:05.000Z</td><td>2024-12-23</td><td>11:10:05</td><td>Success</td><td>PayPal</td></tr><tr><td>61</td><td>95</td><td>2024-12-29T13:15:15.000Z</td><td>2024-12-29</td><td>13:15:15</td><td>Failed</td><td>Bank Transfer</td></tr><tr><td>62</td><td>96</td><td>2024-12-03T15:25:45.000Z</td><td>2024-12-03</td><td>15:25:45</td><td>Success</td><td>PayPal</td></tr><tr><td>63</td><td>97</td><td>2024-12-08T12:10:35.000Z</td><td>2024-12-08</td><td>12:10:35</td><td>Unpaid</td><td>Bank Transfer</td></tr><tr><td>64</td><td>1</td><td>2025-01-05T13:13:59.000Z</td><td>2025-01-05</td><td>13:13:59</td><td>Success</td><td>Bank Transfer</td></tr><tr><td>65</td><td>2</td><td>2025-01-19T05:05:13.000Z</td><td>2025-01-19</td><td>05:05:13</td><td>Failed</td><td>PayPal</td></tr><tr><td>66</td><td>3</td><td>2025-01-08T23:45:00.000Z</td><td>2025-01-08</td><td>23:45:00</td><td>Unpaid</td><td>Bank Transfer</td></tr><tr><td>67</td><td>4</td><td>2025-01-05T10:49:26.000Z</td><td>2025-01-05</td><td>10:49:26</td><td>Success</td><td>Bank Transfer</td></tr><tr><td>68</td><td>8</td><td>2025-01-02T16:11:15.000Z</td><td>2025-01-02</td><td>16:11:15</td><td>Failed</td><td>PayPal</td></tr><tr><td>69</td><td>14</td><td>2025-01-01T22:22:26.000Z</td><td>2025-01-01</td><td>22:22:26</td><td>Unpaid</td><td>PayPal</td></tr><tr><td>70</td><td>18</td><td>2025-01-22T23:12:08.000Z</td><td>2025-01-22</td><td>23:12:08</td><td>Success</td><td>Credit Card</td></tr><tr><td>71</td><td>22</td><td>2025-01-01T18:49:19.000Z</td><td>2025-01-01</td><td>18:49:19</td><td>Success</td><td>PayPal</td></tr><tr><td>72</td><td>26</td><td>2025-01-05T22:01:25.000Z</td><td>2025-01-05</td><td>22:01:25</td><td>Failed</td><td>Bank Transfer</td></tr><tr><td>73</td><td>29</td><td>2025-01-18T05:05:04.000Z</td><td>2025-01-18</td><td>05:05:04</td><td>Unpaid</td><td>Bank Transfer</td></tr><tr><td>74</td><td>34</td><td>2025-01-12T11:30:15.000Z</td><td>2025-01-12</td><td>11:30:15</td><td>Success</td><td>Credit Card</td></tr><tr><td>75</td><td>36</td><td>2025-01-16T23:15:43.000Z</td><td>2025-01-16</td><td>23:15:43</td><td>Failed</td><td>PayPal</td></tr><tr><td>76</td><td>40</td><td>2025-01-08T13:22:51.000Z</td><td>2025-01-08</td><td>13:22:51</td><td>Unpaid</td><td>Bank Transfer</td></tr><tr><td>77</td><td>45</td><td>2025-01-03T15:10:25.000Z</td><td>2025-01-03</td><td>15:10:25</td><td>Success</td><td>PayPal</td></tr><tr><td>78</td><td>47</td><td>2025-01-11T20:20:20.000Z</td><td>2025-01-11</td><td>20:20:20</td><td>Success</td><td>Bank Transfer</td></tr><tr><td>79</td><td>50</td><td>2025-01-17T12:30:00.000Z</td><td>2025-01-17</td><td>12:30:00</td><td>Failed</td><td>Bank Transfer</td></tr><tr><td>80</td><td>53</td><td>2025-01-15T07:40:19.000Z</td><td>2025-01-15</td><td>07:40:19</td><td>Unpaid</td><td>Credit Card</td></tr><tr><td>81</td><td>58</td><td>2025-01-04T18:49:33.000Z</td><td>2025-01-04</td><td>18:49:33</td><td>Success</td><td>PayPal</td></tr><tr><td>82</td><td>60</td><td>2025-01-20T14:10:25.000Z</td><td>2025-01-20</td><td>14:10:25</td><td>Failed</td><td>Bank Transfer</td></tr><tr><td>83</td><td>65</td><td>2025-01-06T20:30:10.000Z</td><td>2025-01-06</td><td>20:30:10</td><td>Unpaid</td><td>PayPal</td></tr><tr><td>84</td><td>67</td><td>2025-01-14T16:00:00.000Z</td><td>2025-01-14</td><td>16:00:00</td><td>Success</td><td>Bank Transfer</td></tr><tr><td>85</td><td>71</td><td>2025-01-07T19:15:15.000Z</td><td>2025-01-07</td><td>19:15:15</td><td>Failed</td><td>Credit Card</td></tr><tr><td>86</td><td>75</td><td>2025-01-21T12:50:30.000Z</td><td>2025-01-21</td><td>12:50:30</td><td>Success</td><td>PayPal</td></tr><tr><td>87</td><td>80</td><td>2025-01-19T09:40:40.000Z</td><td>2025-01-19</td><td>09:40:40</td><td>Unpaid</td><td>PayPal</td></tr><tr><td>88</td><td>82</td><td>2025-01-10T08:20:00.000Z</td><td>2025-01-10</td><td>08:20:00</td><td>Success</td><td>Credit Card</td></tr><tr><td>89</td><td>85</td><td>2025-01-16T15:50:45.000Z</td><td>2025-01-16</td><td>15:50:45</td><td>Failed</td><td>Bank Transfer</td></tr><tr><td>90</td><td>90</td><td>2025-01-22T21:00:15.000Z</td><td>2025-01-22</td><td>21:00:15</td><td>Success</td><td>Bank Transfer</td></tr><tr><td>91</td><td>92</td><td>2025-01-03T16:20:25.000Z</td><td>2025-01-03</td><td>16:20:25</td><td>Unpaid</td><td>PayPal</td></tr></tbody></table></div>"
      ]
     },
     "metadata": {
      "application/vnd.databricks.v1+output": {
       "addedWidgets": {},
       "aggData": [],
       "aggError": "",
       "aggOverflow": false,
       "aggSchema": [],
       "aggSeriesLimitReached": false,
       "aggType": "",
       "arguments": {},
       "columnCustomDisplayInfos": {},
       "data": [
        [
         1,
         6,
         "2024-10-30T04:47:27.000Z",
         "2024-10-30",
         "04:47:27",
         "Success",
         "Credit Card"
        ],
        [
         2,
         10,
         "2024-10-09T22:09:27.000Z",
         "2024-10-09",
         "22:09:27",
         "Failed",
         "Credit Card"
        ],
        [
         3,
         11,
         "2024-10-15T17:34:19.000Z",
         "2024-10-15",
         "17:34:19",
         "Unpaid",
         "Bank Transfer"
        ],
        [
         4,
         15,
         "2024-10-22T01:47:25.000Z",
         "2024-10-22",
         "01:47:25",
         "Success",
         "Bank Transfer"
        ],
        [
         5,
         19,
         "2024-10-15T12:40:26.000Z",
         "2024-10-15",
         "12:40:26",
         "Failed",
         "PayPal"
        ],
        [
         6,
         39,
         "2024-10-31T21:39:19.000Z",
         "2024-10-31",
         "21:39:19",
         "Unpaid",
         "PayPal"
        ],
        [
         7,
         55,
         "2024-10-27T05:49:16.000Z",
         "2024-10-27",
         "05:49:16",
         "Success",
         "Bank Transfer"
        ],
        [
         8,
         59,
         "2024-10-25T02:51:05.000Z",
         "2024-10-25",
         "02:51:05",
         "Failed",
         "PayPal"
        ],
        [
         9,
         72,
         "2024-10-08T10:23:28.000Z",
         "2024-10-08",
         "10:23:28",
         "Cancelled",
         "PayPal"
        ],
        [
         10,
         77,
         "2024-10-17T13:09:33.000Z",
         "2024-10-17",
         "13:09:33",
         "Success",
         "Credit Card"
        ],
        [
         11,
         84,
         "2024-10-27T03:37:42.000Z",
         "2024-10-27",
         "03:37:42",
         "Success",
         "PayPal"
        ],
        [
         12,
         85,
         "2024-10-25T20:06:42.000Z",
         "2024-10-25",
         "20:06:42",
         "Unpaid",
         "Bank Transfer"
        ],
        [
         13,
         86,
         "2024-10-21T13:30:47.000Z",
         "2024-10-21",
         "13:30:47",
         "Success",
         "PayPal"
        ],
        [
         14,
         5,
         "2024-11-16T23:07:31.000Z",
         "2024-11-16",
         "23:07:31",
         "Success",
         "Bank Transfer"
        ],
        [
         15,
         7,
         "2024-11-19T19:18:48.000Z",
         "2024-11-19",
         "19:18:48",
         "Failed",
         "Credit Card"
        ],
        [
         16,
         9,
         "2024-11-27T13:15:29.000Z",
         "2024-11-27",
         "13:15:29",
         "Unpaid",
         "Bank Transfer"
        ],
        [
         17,
         20,
         "2024-11-18T02:38:21.000Z",
         "2024-11-18",
         "02:38:21",
         "Success",
         "PayPal"
        ],
        [
         18,
         21,
         "2024-11-21T11:25:35.000Z",
         "2024-11-21",
         "11:25:35",
         "Success",
         "Bank Transfer"
        ],
        [
         19,
         23,
         "2024-11-22T16:04:05.000Z",
         "2024-11-22",
         "16:04:05",
         "Success",
         "PayPal"
        ],
        [
         20,
         25,
         "2024-11-05T11:45:31.000Z",
         "2024-11-05",
         "11:45:31",
         "Failed",
         "PayPal"
        ],
        [
         21,
         30,
         "2024-11-12T03:20:29.000Z",
         "2024-11-12",
         "03:20:29",
         "Success",
         "Bank Transfer"
        ],
        [
         22,
         35,
         "2024-11-20T19:09:04.000Z",
         "2024-11-20",
         "19:09:04",
         "Unpaid",
         "Bank Transfer"
        ],
        [
         23,
         36,
         "2024-11-02T10:39:46.000Z",
         "2024-11-02",
         "10:39:46",
         "Success",
         "PayPal"
        ],
        [
         24,
         38,
         "2024-11-15T15:12:23.000Z",
         "2024-11-15",
         "15:12:23",
         "Success",
         "Credit Card"
        ],
        [
         25,
         42,
         "2024-11-26T09:40:55.000Z",
         "2024-11-26",
         "09:40:55",
         "Failed",
         "PayPal"
        ],
        [
         26,
         47,
         "2024-11-28T12:18:39.000Z",
         "2024-11-28",
         "12:18:39",
         "Unpaid",
         "Bank Transfer"
        ],
        [
         27,
         52,
         "2024-11-17T07:45:14.000Z",
         "2024-11-17",
         "07:45:14",
         "Success",
         "PayPal"
        ],
        [
         28,
         56,
         "2024-11-23T14:03:20.000Z",
         "2024-11-23",
         "14:03:20",
         "Success",
         "Credit Card"
        ],
        [
         29,
         59,
         "2024-11-19T18:22:33.000Z",
         "2024-11-19",
         "18:22:33",
         "Failed",
         "PayPal"
        ],
        [
         30,
         63,
         "2024-11-20T20:40:09.000Z",
         "2024-11-20",
         "20:40:09",
         "Success",
         "Bank Transfer"
        ],
        [
         31,
         67,
         "2024-11-13T16:50:26.000Z",
         "2024-11-13",
         "16:50:26",
         "Unpaid",
         "Credit Card"
        ],
        [
         32,
         71,
         "2024-11-18T11:09:18.000Z",
         "2024-11-18",
         "11:09:18",
         "Success",
         "PayPal"
        ],
        [
         33,
         74,
         "2024-11-12T08:05:46.000Z",
         "2024-11-12",
         "08:05:46",
         "Failed",
         "Bank Transfer"
        ],
        [
         34,
         12,
         "2024-12-06T22:30:12.000Z",
         "2024-12-06",
         "22:30:12",
         "Success",
         "PayPal"
        ],
        [
         35,
         13,
         "2024-12-17T05:25:34.000Z",
         "2024-12-17",
         "05:25:34",
         "Failed",
         "PayPal"
        ],
        [
         36,
         16,
         "2024-12-09T10:45:56.000Z",
         "2024-12-09",
         "10:45:56",
         "Unpaid",
         "Bank Transfer"
        ],
        [
         37,
         17,
         "2024-12-02T13:50:20.000Z",
         "2024-12-02",
         "13:50:20",
         "Success",
         "Bank Transfer"
        ],
        [
         38,
         24,
         "2024-12-22T08:30:55.000Z",
         "2024-12-22",
         "08:30:55",
         "Success",
         "PayPal"
        ],
        [
         39,
         27,
         "2024-12-03T11:45:30.000Z",
         "2024-12-03",
         "11:45:30",
         "Failed",
         "Credit Card"
        ],
        [
         40,
         28,
         "2024-12-27T05:40:10.000Z",
         "2024-12-27",
         "05:40:10",
         "Unpaid",
         "Credit Card"
        ],
        [
         41,
         32,
         "2024-12-29T09:20:40.000Z",
         "2024-12-29",
         "09:20:40",
         "Success",
         "PayPal"
        ],
        [
         42,
         37,
         "2024-12-23T12:10:05.000Z",
         "2024-12-23",
         "12:10:05",
         "Failed",
         "Credit Card"
        ],
        [
         43,
         38,
         "2024-12-26T20:15:15.000Z",
         "2024-12-26",
         "20:15:15",
         "Success",
         "Credit Card"
        ],
        [
         44,
         44,
         "2024-12-21T14:25:45.000Z",
         "2024-12-21",
         "14:25:45",
         "Success",
         "Credit Card"
        ],
        [
         45,
         49,
         "2024-12-08T16:40:35.000Z",
         "2024-12-08",
         "16:40:35",
         "Unpaid",
         "PayPal"
        ],
        [
         46,
         54,
         "2024-12-21T13:10:25.000Z",
         "2024-12-21",
         "13:10:25",
         "Failed",
         "Credit Card"
        ],
        [
         47,
         58,
         "2024-12-10T11:50:20.000Z",
         "2024-12-10",
         "11:50:20",
         "Success",
         "PayPal"
        ],
        [
         48,
         60,
         "2024-12-14T18:30:15.000Z",
         "2024-12-14",
         "18:30:15",
         "Success",
         "Bank Transfer"
        ],
        [
         49,
         61,
         "2024-12-08T14:45:50.000Z",
         "2024-12-08",
         "14:45:50",
         "Failed",
         "Bank Transfer"
        ],
        [
         50,
         65,
         "2024-12-10T12:35:05.000Z",
         "2024-12-10",
         "12:35:05",
         "Unpaid",
         "Bank Transfer"
        ],
        [
         51,
         67,
         "2024-12-20T09:40:25.000Z",
         "2024-12-20",
         "09:40:25",
         "Success",
         "PayPal"
        ],
        [
         52,
         69,
         "2024-12-31T10:15:50.000Z",
         "2024-12-31",
         "10:15:50",
         "Success",
         "Bank Transfer"
        ],
        [
         53,
         70,
         "2024-12-05T13:50:35.000Z",
         "2024-12-05",
         "13:50:35",
         "Failed",
         "PayPal"
        ],
        [
         54,
         71,
         "2024-12-28T11:05:40.000Z",
         "2024-12-28",
         "11:05:40",
         "Success",
         "Bank Transfer"
        ],
        [
         55,
         74,
         "2024-12-23T14:25:25.000Z",
         "2024-12-23",
         "14:25:25",
         "Success",
         "PayPal"
        ],
        [
         56,
         80,
         "2024-12-12T08:30:55.000Z",
         "2024-12-12",
         "08:30:55",
         "Unpaid",
         "Bank Transfer"
        ],
        [
         57,
         81,
         "2024-12-28T16:45:30.000Z",
         "2024-12-28",
         "16:45:30",
         "Success",
         "PayPal"
        ],
        [
         58,
         82,
         "2024-12-29T18:50:10.000Z",
         "2024-12-29",
         "18:50:10",
         "Failed",
         "PayPal"
        ],
        [
         59,
         91,
         "2024-12-18T19:20:40.000Z",
         "2024-12-18",
         "19:20:40",
         "Unpaid",
         "Bank Transfer"
        ],
        [
         60,
         93,
         "2024-12-23T11:10:05.000Z",
         "2024-12-23",
         "11:10:05",
         "Success",
         "PayPal"
        ],
        [
         61,
         95,
         "2024-12-29T13:15:15.000Z",
         "2024-12-29",
         "13:15:15",
         "Failed",
         "Bank Transfer"
        ],
        [
         62,
         96,
         "2024-12-03T15:25:45.000Z",
         "2024-12-03",
         "15:25:45",
         "Success",
         "PayPal"
        ],
        [
         63,
         97,
         "2024-12-08T12:10:35.000Z",
         "2024-12-08",
         "12:10:35",
         "Unpaid",
         "Bank Transfer"
        ],
        [
         64,
         1,
         "2025-01-05T13:13:59.000Z",
         "2025-01-05",
         "13:13:59",
         "Success",
         "Bank Transfer"
        ],
        [
         65,
         2,
         "2025-01-19T05:05:13.000Z",
         "2025-01-19",
         "05:05:13",
         "Failed",
         "PayPal"
        ],
        [
         66,
         3,
         "2025-01-08T23:45:00.000Z",
         "2025-01-08",
         "23:45:00",
         "Unpaid",
         "Bank Transfer"
        ],
        [
         67,
         4,
         "2025-01-05T10:49:26.000Z",
         "2025-01-05",
         "10:49:26",
         "Success",
         "Bank Transfer"
        ],
        [
         68,
         8,
         "2025-01-02T16:11:15.000Z",
         "2025-01-02",
         "16:11:15",
         "Failed",
         "PayPal"
        ],
        [
         69,
         14,
         "2025-01-01T22:22:26.000Z",
         "2025-01-01",
         "22:22:26",
         "Unpaid",
         "PayPal"
        ],
        [
         70,
         18,
         "2025-01-22T23:12:08.000Z",
         "2025-01-22",
         "23:12:08",
         "Success",
         "Credit Card"
        ],
        [
         71,
         22,
         "2025-01-01T18:49:19.000Z",
         "2025-01-01",
         "18:49:19",
         "Success",
         "PayPal"
        ],
        [
         72,
         26,
         "2025-01-05T22:01:25.000Z",
         "2025-01-05",
         "22:01:25",
         "Failed",
         "Bank Transfer"
        ],
        [
         73,
         29,
         "2025-01-18T05:05:04.000Z",
         "2025-01-18",
         "05:05:04",
         "Unpaid",
         "Bank Transfer"
        ],
        [
         74,
         34,
         "2025-01-12T11:30:15.000Z",
         "2025-01-12",
         "11:30:15",
         "Success",
         "Credit Card"
        ],
        [
         75,
         36,
         "2025-01-16T23:15:43.000Z",
         "2025-01-16",
         "23:15:43",
         "Failed",
         "PayPal"
        ],
        [
         76,
         40,
         "2025-01-08T13:22:51.000Z",
         "2025-01-08",
         "13:22:51",
         "Unpaid",
         "Bank Transfer"
        ],
        [
         77,
         45,
         "2025-01-03T15:10:25.000Z",
         "2025-01-03",
         "15:10:25",
         "Success",
         "PayPal"
        ],
        [
         78,
         47,
         "2025-01-11T20:20:20.000Z",
         "2025-01-11",
         "20:20:20",
         "Success",
         "Bank Transfer"
        ],
        [
         79,
         50,
         "2025-01-17T12:30:00.000Z",
         "2025-01-17",
         "12:30:00",
         "Failed",
         "Bank Transfer"
        ],
        [
         80,
         53,
         "2025-01-15T07:40:19.000Z",
         "2025-01-15",
         "07:40:19",
         "Unpaid",
         "Credit Card"
        ],
        [
         81,
         58,
         "2025-01-04T18:49:33.000Z",
         "2025-01-04",
         "18:49:33",
         "Success",
         "PayPal"
        ],
        [
         82,
         60,
         "2025-01-20T14:10:25.000Z",
         "2025-01-20",
         "14:10:25",
         "Failed",
         "Bank Transfer"
        ],
        [
         83,
         65,
         "2025-01-06T20:30:10.000Z",
         "2025-01-06",
         "20:30:10",
         "Unpaid",
         "PayPal"
        ],
        [
         84,
         67,
         "2025-01-14T16:00:00.000Z",
         "2025-01-14",
         "16:00:00",
         "Success",
         "Bank Transfer"
        ],
        [
         85,
         71,
         "2025-01-07T19:15:15.000Z",
         "2025-01-07",
         "19:15:15",
         "Failed",
         "Credit Card"
        ],
        [
         86,
         75,
         "2025-01-21T12:50:30.000Z",
         "2025-01-21",
         "12:50:30",
         "Success",
         "PayPal"
        ],
        [
         87,
         80,
         "2025-01-19T09:40:40.000Z",
         "2025-01-19",
         "09:40:40",
         "Unpaid",
         "PayPal"
        ],
        [
         88,
         82,
         "2025-01-10T08:20:00.000Z",
         "2025-01-10",
         "08:20:00",
         "Success",
         "Credit Card"
        ],
        [
         89,
         85,
         "2025-01-16T15:50:45.000Z",
         "2025-01-16",
         "15:50:45",
         "Failed",
         "Bank Transfer"
        ],
        [
         90,
         90,
         "2025-01-22T21:00:15.000Z",
         "2025-01-22",
         "21:00:15",
         "Success",
         "Bank Transfer"
        ],
        [
         91,
         92,
         "2025-01-03T16:20:25.000Z",
         "2025-01-03",
         "16:20:25",
         "Unpaid",
         "PayPal"
        ]
       ],
       "datasetInfos": [
        {
         "name": "_sqldf",
         "schema": {
          "fields": [
           {
            "metadata": {},
            "name": "payment_id",
            "nullable": true,
            "type": "integer"
           },
           {
            "metadata": {},
            "name": "order_id",
            "nullable": true,
            "type": "integer"
           },
           {
            "metadata": {},
            "name": "payment_timestamp",
            "nullable": true,
            "type": "timestamp"
           },
           {
            "metadata": {},
            "name": "payment_date",
            "nullable": true,
            "type": "string"
           },
           {
            "metadata": {},
            "name": "payment_time",
            "nullable": true,
            "type": "string"
           },
           {
            "metadata": {},
            "name": "payment_status",
            "nullable": true,
            "type": "string"
           },
           {
            "metadata": {},
            "name": "payment_method",
            "nullable": true,
            "type": "string"
           }
          ],
          "type": "struct"
         },
         "tableIdentifier": null,
         "typeStr": "pyspark.sql.connect.dataframe.DataFrame"
        }
       ],
       "dbfsResultPath": null,
       "isJsonSchema": true,
       "metadata": {
        "createTempViewForImplicitDf": true,
        "dataframeName": "_sqldf",
        "executionCount": 5
       },
       "overflow": false,
       "plotOptions": {
        "customPlotOptions": {},
        "displayType": "table",
        "pivotAggregation": null,
        "pivotColumns": null,
        "xColumns": null,
        "yColumns": null
       },
       "removedWidgets": [],
       "schema": [
        {
         "metadata": "{}",
         "name": "payment_id",
         "type": "\"integer\""
        },
        {
         "metadata": "{}",
         "name": "order_id",
         "type": "\"integer\""
        },
        {
         "metadata": "{}",
         "name": "payment_timestamp",
         "type": "\"timestamp\""
        },
        {
         "metadata": "{}",
         "name": "payment_date",
         "type": "\"string\""
        },
        {
         "metadata": "{}",
         "name": "payment_time",
         "type": "\"string\""
        },
        {
         "metadata": "{}",
         "name": "payment_status",
         "type": "\"string\""
        },
        {
         "metadata": "{}",
         "name": "payment_method",
         "type": "\"string\""
        }
       ],
       "type": "table"
      }
     },
     "output_type": "display_data"
    }
   ],
   "source": [
    "%sql\n",
    "select  payment_id,\n",
    "        order_id,\n",
    "        payment_timestamp,\n",
    "        date_format(payment_timestamp, 'yyyy-MM-dd') as payment_date, \n",
    "        date_format(payment_timestamp, 'HH:mm:ss') as payment_time, \n",
    "        case payment_status\n",
    "         when 1 then 'Success'\n",
    "         when 2 then 'Failed'\n",
    "         when 3 then 'Cancelled'\n",
    "         when 4 then 'Unpaid'\n",
    "        end as payment_status,\n",
    "        payment_method\n",
    "  From gizmobox.bronze.payments;"
   ]
  },
  {
   "cell_type": "markdown",
   "metadata": {
    "application/vnd.databricks.v1+cell": {
     "cellMetadata": {},
     "inputWidgets": {},
     "nuid": "a0b61e6c-fe32-4af3-9d09-6e98c0814e1f",
     "showTitle": false,
     "tableResultSettingsMap": {},
     "title": ""
    }
   },
   "source": [
    "#### 3-Write transformed data to the silver schema"
   ]
  },
  {
   "cell_type": "code",
   "execution_count": 0,
   "metadata": {
    "application/vnd.databricks.v1+cell": {
     "cellMetadata": {
      "byteLimit": 2048000,
      "implicitDf": true,
      "rowLimit": 10000
     },
     "inputWidgets": {},
     "nuid": "26bd6633-61c2-4dd0-a332-8aa496609870",
     "showTitle": false,
     "tableResultSettingsMap": {},
     "title": ""
    }
   },
   "outputs": [
    {
     "output_type": "display_data",
     "data": {
      "text/html": [
       "<style scoped>\n",
       "  .table-result-container {\n",
       "    max-height: 300px;\n",
       "    overflow: auto;\n",
       "  }\n",
       "  table, th, td {\n",
       "    border: 1px solid black;\n",
       "    border-collapse: collapse;\n",
       "  }\n",
       "  th, td {\n",
       "    padding: 5px;\n",
       "  }\n",
       "  th {\n",
       "    text-align: left;\n",
       "  }\n",
       "</style><div class='table-result-container'><table class='table-result'><thead style='background-color: white'><tr><th>num_affected_rows</th><th>num_inserted_rows</th></tr></thead><tbody></tbody></table></div>"
      ]
     },
     "metadata": {
      "application/vnd.databricks.v1+output": {
       "addedWidgets": {},
       "aggData": [],
       "aggError": "",
       "aggOverflow": false,
       "aggSchema": [],
       "aggSeriesLimitReached": false,
       "aggType": "",
       "arguments": {},
       "columnCustomDisplayInfos": {},
       "data": [],
       "datasetInfos": [
        {
         "name": "_sqldf",
         "schema": {
          "fields": [
           {
            "metadata": {},
            "name": "num_affected_rows",
            "nullable": true,
            "type": "long"
           },
           {
            "metadata": {},
            "name": "num_inserted_rows",
            "nullable": true,
            "type": "long"
           }
          ],
          "type": "struct"
         },
         "tableIdentifier": null,
         "typeStr": "pyspark.sql.connect.dataframe.DataFrame"
        }
       ],
       "dbfsResultPath": null,
       "isJsonSchema": true,
       "metadata": {
        "createTempViewForImplicitDf": true,
        "dataframeName": "_sqldf",
        "executionCount": 8
       },
       "overflow": false,
       "plotOptions": {
        "customPlotOptions": {},
        "displayType": "table",
        "pivotAggregation": null,
        "pivotColumns": null,
        "xColumns": null,
        "yColumns": null
       },
       "removedWidgets": [],
       "schema": [
        {
         "metadata": "{}",
         "name": "num_affected_rows",
         "type": "\"long\""
        },
        {
         "metadata": "{}",
         "name": "num_inserted_rows",
         "type": "\"long\""
        }
       ],
       "type": "table"
      }
     },
     "output_type": "display_data"
    }
   ],
   "source": [
    "%sql\n",
    "create table gizmobox. silver.payments\n",
    "as\n",
    "select  payment_id,\n",
    "        order_id,\n",
    "        payment_timestamp,\n",
    "        date_format(payment_timestamp, 'yyyy-MM-dd') as payment_date, \n",
    "        date_format(payment_timestamp, 'HH:mm:ss') as payment_time, \n",
    "        case payment_status\n",
    "         when 1 then 'Success'\n",
    "         when 2 then 'Failed'\n",
    "         when 3 then 'Cancelled'\n",
    "         when 4 then 'Unpaid'\n",
    "        end as payment_status,\n",
    "        payment_method\n",
    "  From gizmobox.bronze.payments;"
   ]
  },
  {
   "cell_type": "code",
   "execution_count": 0,
   "metadata": {
    "application/vnd.databricks.v1+cell": {
     "cellMetadata": {
      "byteLimit": 2048000,
      "implicitDf": true,
      "rowLimit": 10000
     },
     "inputWidgets": {},
     "nuid": "c328bdd7-dd90-45b8-9f22-4ea6895ba38c",
     "showTitle": false,
     "tableResultSettingsMap": {},
     "title": ""
    }
   },
   "outputs": [
    {
     "output_type": "display_data",
     "data": {
      "text/html": [
       "<style scoped>\n",
       "  .table-result-container {\n",
       "    max-height: 300px;\n",
       "    overflow: auto;\n",
       "  }\n",
       "  table, th, td {\n",
       "    border: 1px solid black;\n",
       "    border-collapse: collapse;\n",
       "  }\n",
       "  th, td {\n",
       "    padding: 5px;\n",
       "  }\n",
       "  th {\n",
       "    text-align: left;\n",
       "  }\n",
       "</style><div class='table-result-container'><table class='table-result'><thead style='background-color: white'><tr><th>payment_id</th><th>order_id</th><th>payment_timestamp</th><th>payment_date</th><th>payment_time</th><th>payment_status</th><th>payment_method</th></tr></thead><tbody><tr><td>1</td><td>6</td><td>2024-10-30T04:47:27.000Z</td><td>2024-10-30</td><td>04:47:27</td><td>Success</td><td>Credit Card</td></tr><tr><td>2</td><td>10</td><td>2024-10-09T22:09:27.000Z</td><td>2024-10-09</td><td>22:09:27</td><td>Failed</td><td>Credit Card</td></tr><tr><td>3</td><td>11</td><td>2024-10-15T17:34:19.000Z</td><td>2024-10-15</td><td>17:34:19</td><td>Unpaid</td><td>Bank Transfer</td></tr><tr><td>4</td><td>15</td><td>2024-10-22T01:47:25.000Z</td><td>2024-10-22</td><td>01:47:25</td><td>Success</td><td>Bank Transfer</td></tr><tr><td>5</td><td>19</td><td>2024-10-15T12:40:26.000Z</td><td>2024-10-15</td><td>12:40:26</td><td>Failed</td><td>PayPal</td></tr><tr><td>6</td><td>39</td><td>2024-10-31T21:39:19.000Z</td><td>2024-10-31</td><td>21:39:19</td><td>Unpaid</td><td>PayPal</td></tr><tr><td>7</td><td>55</td><td>2024-10-27T05:49:16.000Z</td><td>2024-10-27</td><td>05:49:16</td><td>Success</td><td>Bank Transfer</td></tr><tr><td>8</td><td>59</td><td>2024-10-25T02:51:05.000Z</td><td>2024-10-25</td><td>02:51:05</td><td>Failed</td><td>PayPal</td></tr><tr><td>9</td><td>72</td><td>2024-10-08T10:23:28.000Z</td><td>2024-10-08</td><td>10:23:28</td><td>Cancelled</td><td>PayPal</td></tr><tr><td>10</td><td>77</td><td>2024-10-17T13:09:33.000Z</td><td>2024-10-17</td><td>13:09:33</td><td>Success</td><td>Credit Card</td></tr><tr><td>11</td><td>84</td><td>2024-10-27T03:37:42.000Z</td><td>2024-10-27</td><td>03:37:42</td><td>Success</td><td>PayPal</td></tr><tr><td>12</td><td>85</td><td>2024-10-25T20:06:42.000Z</td><td>2024-10-25</td><td>20:06:42</td><td>Unpaid</td><td>Bank Transfer</td></tr><tr><td>13</td><td>86</td><td>2024-10-21T13:30:47.000Z</td><td>2024-10-21</td><td>13:30:47</td><td>Success</td><td>PayPal</td></tr><tr><td>14</td><td>5</td><td>2024-11-16T23:07:31.000Z</td><td>2024-11-16</td><td>23:07:31</td><td>Success</td><td>Bank Transfer</td></tr><tr><td>15</td><td>7</td><td>2024-11-19T19:18:48.000Z</td><td>2024-11-19</td><td>19:18:48</td><td>Failed</td><td>Credit Card</td></tr><tr><td>16</td><td>9</td><td>2024-11-27T13:15:29.000Z</td><td>2024-11-27</td><td>13:15:29</td><td>Unpaid</td><td>Bank Transfer</td></tr><tr><td>17</td><td>20</td><td>2024-11-18T02:38:21.000Z</td><td>2024-11-18</td><td>02:38:21</td><td>Success</td><td>PayPal</td></tr><tr><td>18</td><td>21</td><td>2024-11-21T11:25:35.000Z</td><td>2024-11-21</td><td>11:25:35</td><td>Success</td><td>Bank Transfer</td></tr><tr><td>19</td><td>23</td><td>2024-11-22T16:04:05.000Z</td><td>2024-11-22</td><td>16:04:05</td><td>Success</td><td>PayPal</td></tr><tr><td>20</td><td>25</td><td>2024-11-05T11:45:31.000Z</td><td>2024-11-05</td><td>11:45:31</td><td>Failed</td><td>PayPal</td></tr><tr><td>21</td><td>30</td><td>2024-11-12T03:20:29.000Z</td><td>2024-11-12</td><td>03:20:29</td><td>Success</td><td>Bank Transfer</td></tr><tr><td>22</td><td>35</td><td>2024-11-20T19:09:04.000Z</td><td>2024-11-20</td><td>19:09:04</td><td>Unpaid</td><td>Bank Transfer</td></tr><tr><td>23</td><td>36</td><td>2024-11-02T10:39:46.000Z</td><td>2024-11-02</td><td>10:39:46</td><td>Success</td><td>PayPal</td></tr><tr><td>24</td><td>38</td><td>2024-11-15T15:12:23.000Z</td><td>2024-11-15</td><td>15:12:23</td><td>Success</td><td>Credit Card</td></tr><tr><td>25</td><td>42</td><td>2024-11-26T09:40:55.000Z</td><td>2024-11-26</td><td>09:40:55</td><td>Failed</td><td>PayPal</td></tr><tr><td>26</td><td>47</td><td>2024-11-28T12:18:39.000Z</td><td>2024-11-28</td><td>12:18:39</td><td>Unpaid</td><td>Bank Transfer</td></tr><tr><td>27</td><td>52</td><td>2024-11-17T07:45:14.000Z</td><td>2024-11-17</td><td>07:45:14</td><td>Success</td><td>PayPal</td></tr><tr><td>28</td><td>56</td><td>2024-11-23T14:03:20.000Z</td><td>2024-11-23</td><td>14:03:20</td><td>Success</td><td>Credit Card</td></tr><tr><td>29</td><td>59</td><td>2024-11-19T18:22:33.000Z</td><td>2024-11-19</td><td>18:22:33</td><td>Failed</td><td>PayPal</td></tr><tr><td>30</td><td>63</td><td>2024-11-20T20:40:09.000Z</td><td>2024-11-20</td><td>20:40:09</td><td>Success</td><td>Bank Transfer</td></tr><tr><td>31</td><td>67</td><td>2024-11-13T16:50:26.000Z</td><td>2024-11-13</td><td>16:50:26</td><td>Unpaid</td><td>Credit Card</td></tr><tr><td>32</td><td>71</td><td>2024-11-18T11:09:18.000Z</td><td>2024-11-18</td><td>11:09:18</td><td>Success</td><td>PayPal</td></tr><tr><td>33</td><td>74</td><td>2024-11-12T08:05:46.000Z</td><td>2024-11-12</td><td>08:05:46</td><td>Failed</td><td>Bank Transfer</td></tr><tr><td>34</td><td>12</td><td>2024-12-06T22:30:12.000Z</td><td>2024-12-06</td><td>22:30:12</td><td>Success</td><td>PayPal</td></tr><tr><td>35</td><td>13</td><td>2024-12-17T05:25:34.000Z</td><td>2024-12-17</td><td>05:25:34</td><td>Failed</td><td>PayPal</td></tr><tr><td>36</td><td>16</td><td>2024-12-09T10:45:56.000Z</td><td>2024-12-09</td><td>10:45:56</td><td>Unpaid</td><td>Bank Transfer</td></tr><tr><td>37</td><td>17</td><td>2024-12-02T13:50:20.000Z</td><td>2024-12-02</td><td>13:50:20</td><td>Success</td><td>Bank Transfer</td></tr><tr><td>38</td><td>24</td><td>2024-12-22T08:30:55.000Z</td><td>2024-12-22</td><td>08:30:55</td><td>Success</td><td>PayPal</td></tr><tr><td>39</td><td>27</td><td>2024-12-03T11:45:30.000Z</td><td>2024-12-03</td><td>11:45:30</td><td>Failed</td><td>Credit Card</td></tr><tr><td>40</td><td>28</td><td>2024-12-27T05:40:10.000Z</td><td>2024-12-27</td><td>05:40:10</td><td>Unpaid</td><td>Credit Card</td></tr><tr><td>41</td><td>32</td><td>2024-12-29T09:20:40.000Z</td><td>2024-12-29</td><td>09:20:40</td><td>Success</td><td>PayPal</td></tr><tr><td>42</td><td>37</td><td>2024-12-23T12:10:05.000Z</td><td>2024-12-23</td><td>12:10:05</td><td>Failed</td><td>Credit Card</td></tr><tr><td>43</td><td>38</td><td>2024-12-26T20:15:15.000Z</td><td>2024-12-26</td><td>20:15:15</td><td>Success</td><td>Credit Card</td></tr><tr><td>44</td><td>44</td><td>2024-12-21T14:25:45.000Z</td><td>2024-12-21</td><td>14:25:45</td><td>Success</td><td>Credit Card</td></tr><tr><td>45</td><td>49</td><td>2024-12-08T16:40:35.000Z</td><td>2024-12-08</td><td>16:40:35</td><td>Unpaid</td><td>PayPal</td></tr><tr><td>46</td><td>54</td><td>2024-12-21T13:10:25.000Z</td><td>2024-12-21</td><td>13:10:25</td><td>Failed</td><td>Credit Card</td></tr><tr><td>47</td><td>58</td><td>2024-12-10T11:50:20.000Z</td><td>2024-12-10</td><td>11:50:20</td><td>Success</td><td>PayPal</td></tr><tr><td>48</td><td>60</td><td>2024-12-14T18:30:15.000Z</td><td>2024-12-14</td><td>18:30:15</td><td>Success</td><td>Bank Transfer</td></tr><tr><td>49</td><td>61</td><td>2024-12-08T14:45:50.000Z</td><td>2024-12-08</td><td>14:45:50</td><td>Failed</td><td>Bank Transfer</td></tr><tr><td>50</td><td>65</td><td>2024-12-10T12:35:05.000Z</td><td>2024-12-10</td><td>12:35:05</td><td>Unpaid</td><td>Bank Transfer</td></tr><tr><td>51</td><td>67</td><td>2024-12-20T09:40:25.000Z</td><td>2024-12-20</td><td>09:40:25</td><td>Success</td><td>PayPal</td></tr><tr><td>52</td><td>69</td><td>2024-12-31T10:15:50.000Z</td><td>2024-12-31</td><td>10:15:50</td><td>Success</td><td>Bank Transfer</td></tr><tr><td>53</td><td>70</td><td>2024-12-05T13:50:35.000Z</td><td>2024-12-05</td><td>13:50:35</td><td>Failed</td><td>PayPal</td></tr><tr><td>54</td><td>71</td><td>2024-12-28T11:05:40.000Z</td><td>2024-12-28</td><td>11:05:40</td><td>Success</td><td>Bank Transfer</td></tr><tr><td>55</td><td>74</td><td>2024-12-23T14:25:25.000Z</td><td>2024-12-23</td><td>14:25:25</td><td>Success</td><td>PayPal</td></tr><tr><td>56</td><td>80</td><td>2024-12-12T08:30:55.000Z</td><td>2024-12-12</td><td>08:30:55</td><td>Unpaid</td><td>Bank Transfer</td></tr><tr><td>57</td><td>81</td><td>2024-12-28T16:45:30.000Z</td><td>2024-12-28</td><td>16:45:30</td><td>Success</td><td>PayPal</td></tr><tr><td>58</td><td>82</td><td>2024-12-29T18:50:10.000Z</td><td>2024-12-29</td><td>18:50:10</td><td>Failed</td><td>PayPal</td></tr><tr><td>59</td><td>91</td><td>2024-12-18T19:20:40.000Z</td><td>2024-12-18</td><td>19:20:40</td><td>Unpaid</td><td>Bank Transfer</td></tr><tr><td>60</td><td>93</td><td>2024-12-23T11:10:05.000Z</td><td>2024-12-23</td><td>11:10:05</td><td>Success</td><td>PayPal</td></tr><tr><td>61</td><td>95</td><td>2024-12-29T13:15:15.000Z</td><td>2024-12-29</td><td>13:15:15</td><td>Failed</td><td>Bank Transfer</td></tr><tr><td>62</td><td>96</td><td>2024-12-03T15:25:45.000Z</td><td>2024-12-03</td><td>15:25:45</td><td>Success</td><td>PayPal</td></tr><tr><td>63</td><td>97</td><td>2024-12-08T12:10:35.000Z</td><td>2024-12-08</td><td>12:10:35</td><td>Unpaid</td><td>Bank Transfer</td></tr><tr><td>64</td><td>1</td><td>2025-01-05T13:13:59.000Z</td><td>2025-01-05</td><td>13:13:59</td><td>Success</td><td>Bank Transfer</td></tr><tr><td>65</td><td>2</td><td>2025-01-19T05:05:13.000Z</td><td>2025-01-19</td><td>05:05:13</td><td>Failed</td><td>PayPal</td></tr><tr><td>66</td><td>3</td><td>2025-01-08T23:45:00.000Z</td><td>2025-01-08</td><td>23:45:00</td><td>Unpaid</td><td>Bank Transfer</td></tr><tr><td>67</td><td>4</td><td>2025-01-05T10:49:26.000Z</td><td>2025-01-05</td><td>10:49:26</td><td>Success</td><td>Bank Transfer</td></tr><tr><td>68</td><td>8</td><td>2025-01-02T16:11:15.000Z</td><td>2025-01-02</td><td>16:11:15</td><td>Failed</td><td>PayPal</td></tr><tr><td>69</td><td>14</td><td>2025-01-01T22:22:26.000Z</td><td>2025-01-01</td><td>22:22:26</td><td>Unpaid</td><td>PayPal</td></tr><tr><td>70</td><td>18</td><td>2025-01-22T23:12:08.000Z</td><td>2025-01-22</td><td>23:12:08</td><td>Success</td><td>Credit Card</td></tr><tr><td>71</td><td>22</td><td>2025-01-01T18:49:19.000Z</td><td>2025-01-01</td><td>18:49:19</td><td>Success</td><td>PayPal</td></tr><tr><td>72</td><td>26</td><td>2025-01-05T22:01:25.000Z</td><td>2025-01-05</td><td>22:01:25</td><td>Failed</td><td>Bank Transfer</td></tr><tr><td>73</td><td>29</td><td>2025-01-18T05:05:04.000Z</td><td>2025-01-18</td><td>05:05:04</td><td>Unpaid</td><td>Bank Transfer</td></tr><tr><td>74</td><td>34</td><td>2025-01-12T11:30:15.000Z</td><td>2025-01-12</td><td>11:30:15</td><td>Success</td><td>Credit Card</td></tr><tr><td>75</td><td>36</td><td>2025-01-16T23:15:43.000Z</td><td>2025-01-16</td><td>23:15:43</td><td>Failed</td><td>PayPal</td></tr><tr><td>76</td><td>40</td><td>2025-01-08T13:22:51.000Z</td><td>2025-01-08</td><td>13:22:51</td><td>Unpaid</td><td>Bank Transfer</td></tr><tr><td>77</td><td>45</td><td>2025-01-03T15:10:25.000Z</td><td>2025-01-03</td><td>15:10:25</td><td>Success</td><td>PayPal</td></tr><tr><td>78</td><td>47</td><td>2025-01-11T20:20:20.000Z</td><td>2025-01-11</td><td>20:20:20</td><td>Success</td><td>Bank Transfer</td></tr><tr><td>79</td><td>50</td><td>2025-01-17T12:30:00.000Z</td><td>2025-01-17</td><td>12:30:00</td><td>Failed</td><td>Bank Transfer</td></tr><tr><td>80</td><td>53</td><td>2025-01-15T07:40:19.000Z</td><td>2025-01-15</td><td>07:40:19</td><td>Unpaid</td><td>Credit Card</td></tr><tr><td>81</td><td>58</td><td>2025-01-04T18:49:33.000Z</td><td>2025-01-04</td><td>18:49:33</td><td>Success</td><td>PayPal</td></tr><tr><td>82</td><td>60</td><td>2025-01-20T14:10:25.000Z</td><td>2025-01-20</td><td>14:10:25</td><td>Failed</td><td>Bank Transfer</td></tr><tr><td>83</td><td>65</td><td>2025-01-06T20:30:10.000Z</td><td>2025-01-06</td><td>20:30:10</td><td>Unpaid</td><td>PayPal</td></tr><tr><td>84</td><td>67</td><td>2025-01-14T16:00:00.000Z</td><td>2025-01-14</td><td>16:00:00</td><td>Success</td><td>Bank Transfer</td></tr><tr><td>85</td><td>71</td><td>2025-01-07T19:15:15.000Z</td><td>2025-01-07</td><td>19:15:15</td><td>Failed</td><td>Credit Card</td></tr><tr><td>86</td><td>75</td><td>2025-01-21T12:50:30.000Z</td><td>2025-01-21</td><td>12:50:30</td><td>Success</td><td>PayPal</td></tr><tr><td>87</td><td>80</td><td>2025-01-19T09:40:40.000Z</td><td>2025-01-19</td><td>09:40:40</td><td>Unpaid</td><td>PayPal</td></tr><tr><td>88</td><td>82</td><td>2025-01-10T08:20:00.000Z</td><td>2025-01-10</td><td>08:20:00</td><td>Success</td><td>Credit Card</td></tr><tr><td>89</td><td>85</td><td>2025-01-16T15:50:45.000Z</td><td>2025-01-16</td><td>15:50:45</td><td>Failed</td><td>Bank Transfer</td></tr><tr><td>90</td><td>90</td><td>2025-01-22T21:00:15.000Z</td><td>2025-01-22</td><td>21:00:15</td><td>Success</td><td>Bank Transfer</td></tr><tr><td>91</td><td>92</td><td>2025-01-03T16:20:25.000Z</td><td>2025-01-03</td><td>16:20:25</td><td>Unpaid</td><td>PayPal</td></tr></tbody></table></div>"
      ]
     },
     "metadata": {
      "application/vnd.databricks.v1+output": {
       "addedWidgets": {},
       "aggData": [],
       "aggError": "",
       "aggOverflow": false,
       "aggSchema": [],
       "aggSeriesLimitReached": false,
       "aggType": "",
       "arguments": {},
       "columnCustomDisplayInfos": {},
       "data": [
        [
         1,
         6,
         "2024-10-30T04:47:27.000Z",
         "2024-10-30",
         "04:47:27",
         "Success",
         "Credit Card"
        ],
        [
         2,
         10,
         "2024-10-09T22:09:27.000Z",
         "2024-10-09",
         "22:09:27",
         "Failed",
         "Credit Card"
        ],
        [
         3,
         11,
         "2024-10-15T17:34:19.000Z",
         "2024-10-15",
         "17:34:19",
         "Unpaid",
         "Bank Transfer"
        ],
        [
         4,
         15,
         "2024-10-22T01:47:25.000Z",
         "2024-10-22",
         "01:47:25",
         "Success",
         "Bank Transfer"
        ],
        [
         5,
         19,
         "2024-10-15T12:40:26.000Z",
         "2024-10-15",
         "12:40:26",
         "Failed",
         "PayPal"
        ],
        [
         6,
         39,
         "2024-10-31T21:39:19.000Z",
         "2024-10-31",
         "21:39:19",
         "Unpaid",
         "PayPal"
        ],
        [
         7,
         55,
         "2024-10-27T05:49:16.000Z",
         "2024-10-27",
         "05:49:16",
         "Success",
         "Bank Transfer"
        ],
        [
         8,
         59,
         "2024-10-25T02:51:05.000Z",
         "2024-10-25",
         "02:51:05",
         "Failed",
         "PayPal"
        ],
        [
         9,
         72,
         "2024-10-08T10:23:28.000Z",
         "2024-10-08",
         "10:23:28",
         "Cancelled",
         "PayPal"
        ],
        [
         10,
         77,
         "2024-10-17T13:09:33.000Z",
         "2024-10-17",
         "13:09:33",
         "Success",
         "Credit Card"
        ],
        [
         11,
         84,
         "2024-10-27T03:37:42.000Z",
         "2024-10-27",
         "03:37:42",
         "Success",
         "PayPal"
        ],
        [
         12,
         85,
         "2024-10-25T20:06:42.000Z",
         "2024-10-25",
         "20:06:42",
         "Unpaid",
         "Bank Transfer"
        ],
        [
         13,
         86,
         "2024-10-21T13:30:47.000Z",
         "2024-10-21",
         "13:30:47",
         "Success",
         "PayPal"
        ],
        [
         14,
         5,
         "2024-11-16T23:07:31.000Z",
         "2024-11-16",
         "23:07:31",
         "Success",
         "Bank Transfer"
        ],
        [
         15,
         7,
         "2024-11-19T19:18:48.000Z",
         "2024-11-19",
         "19:18:48",
         "Failed",
         "Credit Card"
        ],
        [
         16,
         9,
         "2024-11-27T13:15:29.000Z",
         "2024-11-27",
         "13:15:29",
         "Unpaid",
         "Bank Transfer"
        ],
        [
         17,
         20,
         "2024-11-18T02:38:21.000Z",
         "2024-11-18",
         "02:38:21",
         "Success",
         "PayPal"
        ],
        [
         18,
         21,
         "2024-11-21T11:25:35.000Z",
         "2024-11-21",
         "11:25:35",
         "Success",
         "Bank Transfer"
        ],
        [
         19,
         23,
         "2024-11-22T16:04:05.000Z",
         "2024-11-22",
         "16:04:05",
         "Success",
         "PayPal"
        ],
        [
         20,
         25,
         "2024-11-05T11:45:31.000Z",
         "2024-11-05",
         "11:45:31",
         "Failed",
         "PayPal"
        ],
        [
         21,
         30,
         "2024-11-12T03:20:29.000Z",
         "2024-11-12",
         "03:20:29",
         "Success",
         "Bank Transfer"
        ],
        [
         22,
         35,
         "2024-11-20T19:09:04.000Z",
         "2024-11-20",
         "19:09:04",
         "Unpaid",
         "Bank Transfer"
        ],
        [
         23,
         36,
         "2024-11-02T10:39:46.000Z",
         "2024-11-02",
         "10:39:46",
         "Success",
         "PayPal"
        ],
        [
         24,
         38,
         "2024-11-15T15:12:23.000Z",
         "2024-11-15",
         "15:12:23",
         "Success",
         "Credit Card"
        ],
        [
         25,
         42,
         "2024-11-26T09:40:55.000Z",
         "2024-11-26",
         "09:40:55",
         "Failed",
         "PayPal"
        ],
        [
         26,
         47,
         "2024-11-28T12:18:39.000Z",
         "2024-11-28",
         "12:18:39",
         "Unpaid",
         "Bank Transfer"
        ],
        [
         27,
         52,
         "2024-11-17T07:45:14.000Z",
         "2024-11-17",
         "07:45:14",
         "Success",
         "PayPal"
        ],
        [
         28,
         56,
         "2024-11-23T14:03:20.000Z",
         "2024-11-23",
         "14:03:20",
         "Success",
         "Credit Card"
        ],
        [
         29,
         59,
         "2024-11-19T18:22:33.000Z",
         "2024-11-19",
         "18:22:33",
         "Failed",
         "PayPal"
        ],
        [
         30,
         63,
         "2024-11-20T20:40:09.000Z",
         "2024-11-20",
         "20:40:09",
         "Success",
         "Bank Transfer"
        ],
        [
         31,
         67,
         "2024-11-13T16:50:26.000Z",
         "2024-11-13",
         "16:50:26",
         "Unpaid",
         "Credit Card"
        ],
        [
         32,
         71,
         "2024-11-18T11:09:18.000Z",
         "2024-11-18",
         "11:09:18",
         "Success",
         "PayPal"
        ],
        [
         33,
         74,
         "2024-11-12T08:05:46.000Z",
         "2024-11-12",
         "08:05:46",
         "Failed",
         "Bank Transfer"
        ],
        [
         34,
         12,
         "2024-12-06T22:30:12.000Z",
         "2024-12-06",
         "22:30:12",
         "Success",
         "PayPal"
        ],
        [
         35,
         13,
         "2024-12-17T05:25:34.000Z",
         "2024-12-17",
         "05:25:34",
         "Failed",
         "PayPal"
        ],
        [
         36,
         16,
         "2024-12-09T10:45:56.000Z",
         "2024-12-09",
         "10:45:56",
         "Unpaid",
         "Bank Transfer"
        ],
        [
         37,
         17,
         "2024-12-02T13:50:20.000Z",
         "2024-12-02",
         "13:50:20",
         "Success",
         "Bank Transfer"
        ],
        [
         38,
         24,
         "2024-12-22T08:30:55.000Z",
         "2024-12-22",
         "08:30:55",
         "Success",
         "PayPal"
        ],
        [
         39,
         27,
         "2024-12-03T11:45:30.000Z",
         "2024-12-03",
         "11:45:30",
         "Failed",
         "Credit Card"
        ],
        [
         40,
         28,
         "2024-12-27T05:40:10.000Z",
         "2024-12-27",
         "05:40:10",
         "Unpaid",
         "Credit Card"
        ],
        [
         41,
         32,
         "2024-12-29T09:20:40.000Z",
         "2024-12-29",
         "09:20:40",
         "Success",
         "PayPal"
        ],
        [
         42,
         37,
         "2024-12-23T12:10:05.000Z",
         "2024-12-23",
         "12:10:05",
         "Failed",
         "Credit Card"
        ],
        [
         43,
         38,
         "2024-12-26T20:15:15.000Z",
         "2024-12-26",
         "20:15:15",
         "Success",
         "Credit Card"
        ],
        [
         44,
         44,
         "2024-12-21T14:25:45.000Z",
         "2024-12-21",
         "14:25:45",
         "Success",
         "Credit Card"
        ],
        [
         45,
         49,
         "2024-12-08T16:40:35.000Z",
         "2024-12-08",
         "16:40:35",
         "Unpaid",
         "PayPal"
        ],
        [
         46,
         54,
         "2024-12-21T13:10:25.000Z",
         "2024-12-21",
         "13:10:25",
         "Failed",
         "Credit Card"
        ],
        [
         47,
         58,
         "2024-12-10T11:50:20.000Z",
         "2024-12-10",
         "11:50:20",
         "Success",
         "PayPal"
        ],
        [
         48,
         60,
         "2024-12-14T18:30:15.000Z",
         "2024-12-14",
         "18:30:15",
         "Success",
         "Bank Transfer"
        ],
        [
         49,
         61,
         "2024-12-08T14:45:50.000Z",
         "2024-12-08",
         "14:45:50",
         "Failed",
         "Bank Transfer"
        ],
        [
         50,
         65,
         "2024-12-10T12:35:05.000Z",
         "2024-12-10",
         "12:35:05",
         "Unpaid",
         "Bank Transfer"
        ],
        [
         51,
         67,
         "2024-12-20T09:40:25.000Z",
         "2024-12-20",
         "09:40:25",
         "Success",
         "PayPal"
        ],
        [
         52,
         69,
         "2024-12-31T10:15:50.000Z",
         "2024-12-31",
         "10:15:50",
         "Success",
         "Bank Transfer"
        ],
        [
         53,
         70,
         "2024-12-05T13:50:35.000Z",
         "2024-12-05",
         "13:50:35",
         "Failed",
         "PayPal"
        ],
        [
         54,
         71,
         "2024-12-28T11:05:40.000Z",
         "2024-12-28",
         "11:05:40",
         "Success",
         "Bank Transfer"
        ],
        [
         55,
         74,
         "2024-12-23T14:25:25.000Z",
         "2024-12-23",
         "14:25:25",
         "Success",
         "PayPal"
        ],
        [
         56,
         80,
         "2024-12-12T08:30:55.000Z",
         "2024-12-12",
         "08:30:55",
         "Unpaid",
         "Bank Transfer"
        ],
        [
         57,
         81,
         "2024-12-28T16:45:30.000Z",
         "2024-12-28",
         "16:45:30",
         "Success",
         "PayPal"
        ],
        [
         58,
         82,
         "2024-12-29T18:50:10.000Z",
         "2024-12-29",
         "18:50:10",
         "Failed",
         "PayPal"
        ],
        [
         59,
         91,
         "2024-12-18T19:20:40.000Z",
         "2024-12-18",
         "19:20:40",
         "Unpaid",
         "Bank Transfer"
        ],
        [
         60,
         93,
         "2024-12-23T11:10:05.000Z",
         "2024-12-23",
         "11:10:05",
         "Success",
         "PayPal"
        ],
        [
         61,
         95,
         "2024-12-29T13:15:15.000Z",
         "2024-12-29",
         "13:15:15",
         "Failed",
         "Bank Transfer"
        ],
        [
         62,
         96,
         "2024-12-03T15:25:45.000Z",
         "2024-12-03",
         "15:25:45",
         "Success",
         "PayPal"
        ],
        [
         63,
         97,
         "2024-12-08T12:10:35.000Z",
         "2024-12-08",
         "12:10:35",
         "Unpaid",
         "Bank Transfer"
        ],
        [
         64,
         1,
         "2025-01-05T13:13:59.000Z",
         "2025-01-05",
         "13:13:59",
         "Success",
         "Bank Transfer"
        ],
        [
         65,
         2,
         "2025-01-19T05:05:13.000Z",
         "2025-01-19",
         "05:05:13",
         "Failed",
         "PayPal"
        ],
        [
         66,
         3,
         "2025-01-08T23:45:00.000Z",
         "2025-01-08",
         "23:45:00",
         "Unpaid",
         "Bank Transfer"
        ],
        [
         67,
         4,
         "2025-01-05T10:49:26.000Z",
         "2025-01-05",
         "10:49:26",
         "Success",
         "Bank Transfer"
        ],
        [
         68,
         8,
         "2025-01-02T16:11:15.000Z",
         "2025-01-02",
         "16:11:15",
         "Failed",
         "PayPal"
        ],
        [
         69,
         14,
         "2025-01-01T22:22:26.000Z",
         "2025-01-01",
         "22:22:26",
         "Unpaid",
         "PayPal"
        ],
        [
         70,
         18,
         "2025-01-22T23:12:08.000Z",
         "2025-01-22",
         "23:12:08",
         "Success",
         "Credit Card"
        ],
        [
         71,
         22,
         "2025-01-01T18:49:19.000Z",
         "2025-01-01",
         "18:49:19",
         "Success",
         "PayPal"
        ],
        [
         72,
         26,
         "2025-01-05T22:01:25.000Z",
         "2025-01-05",
         "22:01:25",
         "Failed",
         "Bank Transfer"
        ],
        [
         73,
         29,
         "2025-01-18T05:05:04.000Z",
         "2025-01-18",
         "05:05:04",
         "Unpaid",
         "Bank Transfer"
        ],
        [
         74,
         34,
         "2025-01-12T11:30:15.000Z",
         "2025-01-12",
         "11:30:15",
         "Success",
         "Credit Card"
        ],
        [
         75,
         36,
         "2025-01-16T23:15:43.000Z",
         "2025-01-16",
         "23:15:43",
         "Failed",
         "PayPal"
        ],
        [
         76,
         40,
         "2025-01-08T13:22:51.000Z",
         "2025-01-08",
         "13:22:51",
         "Unpaid",
         "Bank Transfer"
        ],
        [
         77,
         45,
         "2025-01-03T15:10:25.000Z",
         "2025-01-03",
         "15:10:25",
         "Success",
         "PayPal"
        ],
        [
         78,
         47,
         "2025-01-11T20:20:20.000Z",
         "2025-01-11",
         "20:20:20",
         "Success",
         "Bank Transfer"
        ],
        [
         79,
         50,
         "2025-01-17T12:30:00.000Z",
         "2025-01-17",
         "12:30:00",
         "Failed",
         "Bank Transfer"
        ],
        [
         80,
         53,
         "2025-01-15T07:40:19.000Z",
         "2025-01-15",
         "07:40:19",
         "Unpaid",
         "Credit Card"
        ],
        [
         81,
         58,
         "2025-01-04T18:49:33.000Z",
         "2025-01-04",
         "18:49:33",
         "Success",
         "PayPal"
        ],
        [
         82,
         60,
         "2025-01-20T14:10:25.000Z",
         "2025-01-20",
         "14:10:25",
         "Failed",
         "Bank Transfer"
        ],
        [
         83,
         65,
         "2025-01-06T20:30:10.000Z",
         "2025-01-06",
         "20:30:10",
         "Unpaid",
         "PayPal"
        ],
        [
         84,
         67,
         "2025-01-14T16:00:00.000Z",
         "2025-01-14",
         "16:00:00",
         "Success",
         "Bank Transfer"
        ],
        [
         85,
         71,
         "2025-01-07T19:15:15.000Z",
         "2025-01-07",
         "19:15:15",
         "Failed",
         "Credit Card"
        ],
        [
         86,
         75,
         "2025-01-21T12:50:30.000Z",
         "2025-01-21",
         "12:50:30",
         "Success",
         "PayPal"
        ],
        [
         87,
         80,
         "2025-01-19T09:40:40.000Z",
         "2025-01-19",
         "09:40:40",
         "Unpaid",
         "PayPal"
        ],
        [
         88,
         82,
         "2025-01-10T08:20:00.000Z",
         "2025-01-10",
         "08:20:00",
         "Success",
         "Credit Card"
        ],
        [
         89,
         85,
         "2025-01-16T15:50:45.000Z",
         "2025-01-16",
         "15:50:45",
         "Failed",
         "Bank Transfer"
        ],
        [
         90,
         90,
         "2025-01-22T21:00:15.000Z",
         "2025-01-22",
         "21:00:15",
         "Success",
         "Bank Transfer"
        ],
        [
         91,
         92,
         "2025-01-03T16:20:25.000Z",
         "2025-01-03",
         "16:20:25",
         "Unpaid",
         "PayPal"
        ]
       ],
       "datasetInfos": [
        {
         "name": "_sqldf",
         "schema": {
          "fields": [
           {
            "metadata": {},
            "name": "payment_id",
            "nullable": true,
            "type": "integer"
           },
           {
            "metadata": {},
            "name": "order_id",
            "nullable": true,
            "type": "integer"
           },
           {
            "metadata": {},
            "name": "payment_timestamp",
            "nullable": true,
            "type": "timestamp"
           },
           {
            "metadata": {},
            "name": "payment_date",
            "nullable": true,
            "type": "string"
           },
           {
            "metadata": {},
            "name": "payment_time",
            "nullable": true,
            "type": "string"
           },
           {
            "metadata": {},
            "name": "payment_status",
            "nullable": true,
            "type": "string"
           },
           {
            "metadata": {},
            "name": "payment_method",
            "nullable": true,
            "type": "string"
           }
          ],
          "type": "struct"
         },
         "tableIdentifier": null,
         "typeStr": "pyspark.sql.connect.dataframe.DataFrame"
        }
       ],
       "dbfsResultPath": null,
       "isJsonSchema": true,
       "metadata": {
        "createTempViewForImplicitDf": true,
        "dataframeName": "_sqldf",
        "executionCount": 9
       },
       "overflow": false,
       "plotOptions": {
        "customPlotOptions": {},
        "displayType": "table",
        "pivotAggregation": null,
        "pivotColumns": null,
        "xColumns": null,
        "yColumns": null
       },
       "removedWidgets": [],
       "schema": [
        {
         "metadata": "{}",
         "name": "payment_id",
         "type": "\"integer\""
        },
        {
         "metadata": "{}",
         "name": "order_id",
         "type": "\"integer\""
        },
        {
         "metadata": "{}",
         "name": "payment_timestamp",
         "type": "\"timestamp\""
        },
        {
         "metadata": "{}",
         "name": "payment_date",
         "type": "\"string\""
        },
        {
         "metadata": "{}",
         "name": "payment_time",
         "type": "\"string\""
        },
        {
         "metadata": "{}",
         "name": "payment_status",
         "type": "\"string\""
        },
        {
         "metadata": "{}",
         "name": "payment_method",
         "type": "\"string\""
        }
       ],
       "type": "table"
      }
     },
     "output_type": "display_data"
    }
   ],
   "source": [
    "%sql\n",
    "select * from gizmobox.silver.payments"
   ]
  }
 ],
 "metadata": {
  "application/vnd.databricks.v1+notebook": {
   "computePreferences": null,
   "dashboards": [],
   "environmentMetadata": {
    "base_environment": "",
    "environment_version": "3"
   },
   "inputWidgetPreferences": null,
   "language": "python",
   "notebookMetadata": {
    "mostRecentlyExecutedCommandWithImplicitDF": {
     "commandId": 4711023518250088,
     "dataframes": [
      "_sqldf"
     ]
    },
    "pythonIndentUnit": 4
   },
   "notebookName": "10-Transform-Payments-Data",
   "widgets": {}
  },
  "language_info": {
   "name": "python"
  }
 },
 "nbformat": 4,
 "nbformat_minor": 0
}
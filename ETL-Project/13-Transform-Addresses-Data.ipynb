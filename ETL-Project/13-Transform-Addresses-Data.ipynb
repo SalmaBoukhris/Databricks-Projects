{
 "cells": [
  {
   "cell_type": "markdown",
   "metadata": {
    "application/vnd.databricks.v1+cell": {
     "cellMetadata": {},
     "inputWidgets": {},
     "nuid": "db3a8790-8e92-492e-b32e-328436b3749a",
     "showTitle": false,
     "tableResultSettingsMap": {},
     "title": ""
    }
   },
   "source": [
    "#### 1-Create one record for each customer with 2 sets of address columns, 1 for shipping and 1 for billing address"
   ]
  },
  {
   "cell_type": "code",
   "execution_count": 0,
   "metadata": {
    "application/vnd.databricks.v1+cell": {
     "cellMetadata": {
      "byteLimit": 2048000,
      "implicitDf": true,
      "rowLimit": 10000
     },
     "inputWidgets": {},
     "nuid": "f7bb3c99-b59a-408e-833b-10f9d05379b0",
     "showTitle": false,
     "tableResultSettingsMap": {},
     "title": ""
    }
   },
   "outputs": [
    {
     "output_type": "display_data",
     "data": {
      "text/html": [
       "<style scoped>\n",
       "  .table-result-container {\n",
       "    max-height: 300px;\n",
       "    overflow: auto;\n",
       "  }\n",
       "  table, th, td {\n",
       "    border: 1px solid black;\n",
       "    border-collapse: collapse;\n",
       "  }\n",
       "  th, td {\n",
       "    padding: 5px;\n",
       "  }\n",
       "  th {\n",
       "    text-align: left;\n",
       "  }\n",
       "</style><div class='table-result-container'><table class='table-result'><thead style='background-color: white'><tr><th>customer_id</th><th>address_type</th><th>address_line_1</th><th>city</th><th>state</th><th>postcode</th></tr></thead><tbody><tr><td>9179</td><td>shipping</td><td>9713 Medina Mountains Apt. 813</td><td>Lake Erika</td><td>Mississippi</td><td>91945</td></tr><tr><td>9179</td><td>billing</td><td>084 Anne Hollow Apt. 064</td><td>East Jasontown</td><td>Minnesota</td><td>77329</td></tr><tr><td>5816</td><td>shipping</td><td>8400 Rebecca Lodge Suite 011</td><td>Lake Lisatown</td><td>Montana</td><td>11354</td></tr><tr><td>5816</td><td>billing</td><td>869 Linda Locks Apt. 105</td><td>West Melissabury</td><td>Michigan</td><td>37662</td></tr><tr><td>4858</td><td>shipping</td><td>4838 Jacob Neck</td><td>Jamesview</td><td>Wisconsin</td><td>58657</td></tr><tr><td>4858</td><td>billing</td><td>4558 Cabrera Islands</td><td>Lake David</td><td>Rhode Island</td><td>6133</td></tr><tr><td>7207</td><td>shipping</td><td>75470 Richardson Mission Apt. 147</td><td>New Rachelhaven</td><td>Hawaii</td><td>38857</td></tr><tr><td>7207</td><td>billing</td><td>4450 Michelle Mission Suite 663</td><td>North Justin</td><td>Kentucky</td><td>91757</td></tr><tr><td>8539</td><td>shipping</td><td>331 Monica Route Apt. 022</td><td>Michellechester</td><td>Texas</td><td>14637</td></tr><tr><td>8539</td><td>billing</td><td>48794 Aguirre Ferry Apt. 952</td><td>North Amy</td><td>Washington</td><td>92507</td></tr><tr><td>9706</td><td>shipping</td><td>2856 Jeremy Wall Apt. 985</td><td>East Elizabeth</td><td>Oklahoma</td><td>66460</td></tr><tr><td>9706</td><td>billing</td><td>14540 Moody Tunnel</td><td>West Shellybury</td><td>Kentucky</td><td>83151</td></tr><tr><td>9263</td><td>shipping</td><td>5733 Richards Ferry Suite 995</td><td>East Angelafort</td><td>Indiana</td><td>79556</td></tr><tr><td>9263</td><td>billing</td><td>13677 Garcia Ports</td><td>Shelleyland</td><td>Rhode Island</td><td>3719</td></tr><tr><td>5028</td><td>shipping</td><td>955 Montgomery Mountain Suite 167</td><td>Jameschester</td><td>Kentucky</td><td>9013</td></tr><tr><td>5028</td><td>billing</td><td>5094 Ayala Falls</td><td>Greenmouth</td><td>North Carolina</td><td>2638</td></tr><tr><td>9018</td><td>shipping</td><td>2099 Francisco Spring</td><td>Beanshire</td><td>South Carolina</td><td>87684</td></tr><tr><td>9018</td><td>billing</td><td>207 Tracy Gateway</td><td>Cookberg</td><td>Delaware</td><td>14011</td></tr><tr><td>8580</td><td>shipping</td><td>17549 Lisa Mission Suite 987</td><td>Vasquezstad</td><td>Virginia</td><td>40641</td></tr><tr><td>8580</td><td>billing</td><td>6150 Jessica Park</td><td>Bellmouth</td><td>Pennsylvania</td><td>82370</td></tr><tr><td>3409</td><td>shipping</td><td>918 April Junctions</td><td>New Theresa</td><td>Indiana</td><td>46004</td></tr><tr><td>3409</td><td>billing</td><td>1294 Edward Inlet</td><td>North Alison</td><td>Indiana</td><td>82752</td></tr><tr><td>3889</td><td>shipping</td><td>90408 Connie Pines Suite 258</td><td>Catherinehaven</td><td>Texas</td><td>33736</td></tr><tr><td>3889</td><td>billing</td><td>7908 Walker Track</td><td>North Jose</td><td>Virginia</td><td>84099</td></tr><tr><td>9084</td><td>shipping</td><td>411 Joseph Park</td><td>Ericside</td><td>South Dakota</td><td>45339</td></tr><tr><td>9084</td><td>billing</td><td>649 Jessica Parks</td><td>North Tommyland</td><td>Illinois</td><td>88048</td></tr><tr><td>2344</td><td>shipping</td><td>97619 Sanchez Prairie Suite 359</td><td>Kelleyfurt</td><td>Louisiana</td><td>64906</td></tr><tr><td>2344</td><td>billing</td><td>5008 Corey Landing Apt. 475</td><td>South Christinaburgh</td><td>New Mexico</td><td>3650</td></tr><tr><td>5011</td><td>shipping</td><td>828 Michele Spring</td><td>Duffyshire</td><td>Tennessee</td><td>93025</td></tr><tr><td>5011</td><td>billing</td><td>8066 Smith Ports</td><td>Port Cheryl</td><td>Florida</td><td>97952</td></tr><tr><td>9247</td><td>shipping</td><td>196 Thomas Shore Apt. 768</td><td>Bobbymouth</td><td>Louisiana</td><td>91533</td></tr><tr><td>9247</td><td>billing</td><td>0034 Fleming Hollow Suite 295</td><td>Wadefurt</td><td>Montana</td><td>34460</td></tr><tr><td>6627</td><td>shipping</td><td>76810 Mcintosh Forge Suite 885</td><td>Gregoryport</td><td>South Dakota</td><td>41885</td></tr><tr><td>6627</td><td>billing</td><td>35855 Haas Centers Apt. 931</td><td>West Andreaville</td><td>Virginia</td><td>82397</td></tr><tr><td>3892</td><td>shipping</td><td>5001 Castro Creek</td><td>Watsonberg</td><td>South Dakota</td><td>3805</td></tr><tr><td>3892</td><td>billing</td><td>322 Dan Lock</td><td>Terriport</td><td>Missouri</td><td>25276</td></tr><tr><td>1987</td><td>shipping</td><td>944 Smith Squares</td><td>Port Jennifer</td><td>Maryland</td><td>28646</td></tr><tr><td>1987</td><td>billing</td><td>3440 Beck Parkways</td><td>West Jennifer</td><td>Alaska</td><td>79766</td></tr><tr><td>5204</td><td>shipping</td><td>73225 Davis Island</td><td>Robertville</td><td>Florida</td><td>30994</td></tr><tr><td>5204</td><td>billing</td><td>8191 Jennifer Shoals</td><td>Friedmanstad</td><td>North Dakota</td><td>97678</td></tr><tr><td>4468</td><td>shipping</td><td>96501 Michelle Wall</td><td>Andersonmouth</td><td>New York</td><td>40416</td></tr><tr><td>4468</td><td>billing</td><td>790 Jones Neck</td><td>Jenniferville</td><td>Florida</td><td>72949</td></tr><tr><td>4761</td><td>shipping</td><td>55640 Yolanda Brooks</td><td>Andrewfurt</td><td>Missouri</td><td>30615</td></tr><tr><td>4761</td><td>billing</td><td>492 Jose Knoll Apt. 836</td><td>Lake Sydney</td><td>Wyoming</td><td>51511</td></tr><tr><td>2703</td><td>shipping</td><td>5385 Paul Port Suite 963</td><td>Richardsonton</td><td>Florida</td><td>6432</td></tr><tr><td>2703</td><td>billing</td><td>7639 Derek Streets</td><td>New Mary</td><td>California</td><td>68610</td></tr><tr><td>4996</td><td>shipping</td><td>5566 Good Harbor Suite 047</td><td>North Crystalfurt</td><td>Maine</td><td>30274</td></tr><tr><td>4996</td><td>billing</td><td>102 Coleman Centers</td><td>West Paulberg</td><td>Arizona</td><td>55699</td></tr><tr><td>4914</td><td>shipping</td><td>750 Oliver Shore Suite 402</td><td>Reedbury</td><td>Kentucky</td><td>33755</td></tr><tr><td>4914</td><td>billing</td><td>639 Matthew Forge</td><td>South Lisaburgh</td><td>Alaska</td><td>26693</td></tr><tr><td>7295</td><td>shipping</td><td>240 Tammy Bypass Suite 433</td><td>New Hayden</td><td>Minnesota</td><td>55632</td></tr><tr><td>7295</td><td>billing</td><td>0087 Smith Square Suite 127</td><td>West Kristenside</td><td>Idaho</td><td>795</td></tr><tr><td>7803</td><td>shipping</td><td>39194 Le Underpass</td><td>Davidtown</td><td>Virginia</td><td>41382</td></tr><tr><td>7803</td><td>billing</td><td>529 Bobby Squares Apt. 225</td><td>Lake Michelle</td><td>Kansas</td><td>18094</td></tr><tr><td>3712</td><td>shipping</td><td>35807 Kaylee View</td><td>Lake Melanieburgh</td><td>Utah</td><td>86406</td></tr><tr><td>3712</td><td>billing</td><td>91984 Rodney Fork Suite 290</td><td>Maryland</td><td>Missouri</td><td>37082</td></tr><tr><td>2054</td><td>shipping</td><td>225 Lopez Bridge Suite 386</td><td>South Monica</td><td>Indiana</td><td>34134</td></tr><tr><td>2054</td><td>billing</td><td>890 Brandon Brook Suite 774</td><td>North Nicoleborough</td><td>Wyoming</td><td>15077</td></tr><tr><td>7123</td><td>shipping</td><td>6149 Adam Meadows</td><td>South Lisa</td><td>New York</td><td>96138</td></tr><tr><td>7123</td><td>billing</td><td>3975 Short Trail Suite 332</td><td>North Alexandra</td><td>South Dakota</td><td>47448</td></tr><tr><td>6973</td><td>shipping</td><td>5780 Ashley Row</td><td>Larachester</td><td>Alaska</td><td>96580</td></tr><tr><td>6973</td><td>billing</td><td>757 Amy Motorway</td><td>Stephaniemouth</td><td>Massachusetts</td><td>55102</td></tr><tr><td>3532</td><td>shipping</td><td>18892 Benson Lake</td><td>Mitchellland</td><td>Minnesota</td><td>80110</td></tr><tr><td>3532</td><td>billing</td><td>87297 Davis Bypass Apt. 742</td><td>Mannshire</td><td>Colorado</td><td>19139</td></tr><tr><td>1211</td><td>shipping</td><td>580 Samantha Lodge</td><td>New Christinaborough</td><td>Louisiana</td><td>4251</td></tr><tr><td>1211</td><td>billing</td><td>7938 Cervantes Mountain Suite 159</td><td>Oconnorhaven</td><td>Indiana</td><td>44129</td></tr><tr><td>7829</td><td>shipping</td><td>3242 Kelly Forks Suite 810</td><td>Lake Sierraside</td><td>Nebraska</td><td>10629</td></tr><tr><td>7829</td><td>billing</td><td>0722 Gregory Turnpike</td><td>East Jacksonport</td><td>Indiana</td><td>5138</td></tr><tr><td>6384</td><td>shipping</td><td>750 Lisa Valleys</td><td>Heatherton</td><td>Michigan</td><td>22885</td></tr><tr><td>6384</td><td>billing</td><td>3915 Reyes Islands Apt. 261</td><td>New Emily</td><td>Massachusetts</td><td>95275</td></tr><tr><td>2639</td><td>shipping</td><td>5383 Albert Grove Apt. 804</td><td>North Destinyland</td><td>Illinois</td><td>60150</td></tr><tr><td>2639</td><td>billing</td><td>222 Dominique Springs Apt. 942</td><td>Colechester</td><td>Louisiana</td><td>96258</td></tr><tr><td>3084</td><td>shipping</td><td>3337 Gregory Island</td><td>Mitchellbury</td><td>Tennessee</td><td>70603</td></tr><tr><td>3084</td><td>billing</td><td>78828 Montgomery Branch Suite 316</td><td>South Chelsea</td><td>Wisconsin</td><td>61054</td></tr><tr><td>7997</td><td>shipping</td><td>8166 Anthony Lodge Suite 528</td><td>Richardmouth</td><td>Mississippi</td><td>48790</td></tr><tr><td>7997</td><td>billing</td><td>425 Keith Motorway</td><td>West Lawrencemouth</td><td>Nebraska</td><td>76674</td></tr><tr><td>9687</td><td>shipping</td><td>3044 Scott Row</td><td>North Noah</td><td>Oregon</td><td>73984</td></tr><tr><td>9687</td><td>billing</td><td>146 Smith Coves Apt. 738</td><td>North Lisaton</td><td>West Virginia</td><td>46429</td></tr><tr><td>2141</td><td>shipping</td><td>098 Sellers Station</td><td>South Javierstad</td><td>Texas</td><td>59689</td></tr><tr><td>2141</td><td>billing</td><td>7451 Lisa Stravenue Suite 994</td><td>South Victor</td><td>Kansas</td><td>49835</td></tr><tr><td>5592</td><td>shipping</td><td>754 Ricky Corners Apt. 629</td><td>Jonland</td><td>South Carolina</td><td>2070</td></tr><tr><td>5592</td><td>billing</td><td>9688 Elizabeth Plains</td><td>South Theodoreburgh</td><td>Massachusetts</td><td>97146</td></tr><tr><td>6406</td><td>shipping</td><td>613 Hart Rapid Apt. 447</td><td>Shannonmouth</td><td>Wyoming</td><td>83119</td></tr><tr><td>6406</td><td>billing</td><td>5706 Adam Forges Suite 567</td><td>Josephburgh</td><td>South Dakota</td><td>7359</td></tr><tr><td>7007</td><td>shipping</td><td>64918 Lee Ports Apt. 269</td><td>Jasonview</td><td>Maryland</td><td>18994</td></tr><tr><td>7007</td><td>billing</td><td>201 Danielle Hollow Apt. 665</td><td>Jerryport</td><td>South Dakota</td><td>12363</td></tr><tr><td>5953</td><td>shipping</td><td>1393 White Wells Suite 722</td><td>North Karen</td><td>Connecticut</td><td>47802</td></tr><tr><td>5953</td><td>billing</td><td>470 Casey Pines Suite 957</td><td>Deanmouth</td><td>Arkansas</td><td>96860</td></tr><tr><td>9605</td><td>shipping</td><td>4123 Solomon Oval Apt. 648</td><td>Mccormickside</td><td>Indiana</td><td>90659</td></tr><tr><td>9605</td><td>billing</td><td>67373 David Plains Suite 457</td><td>East Stevenfort</td><td>Nevada</td><td>84183</td></tr><tr><td>8845</td><td>shipping</td><td>95689 Jeffrey Expressway</td><td>East Lanceborough</td><td>Pennsylvania</td><td>79251</td></tr><tr><td>8845</td><td>billing</td><td>556 Christensen Pike</td><td>North Jeremyview</td><td>California</td><td>90786</td></tr><tr><td>4973</td><td>shipping</td><td>3013 Michelle Mountain Apt. 214</td><td>South Patrickburgh</td><td>Arizona</td><td>45875</td></tr><tr><td>4973</td><td>billing</td><td>748 John Curve</td><td>Fritzberg</td><td>Maryland</td><td>36128</td></tr><tr><td>6167</td><td>shipping</td><td>179 Vang Street</td><td>Jessicastad</td><td>Connecticut</td><td>40919</td></tr><tr><td>6167</td><td>billing</td><td>58676 Keith Coves</td><td>New Erichaven</td><td>Kentucky</td><td>25297</td></tr><tr><td>3295</td><td>shipping</td><td>9569 Dennis Way Suite 047</td><td>North Amy</td><td>New York</td><td>17867</td></tr><tr><td>3295</td><td>billing</td><td>36789 Hatfield Landing</td><td>Haydenton</td><td>Tennessee</td><td>60950</td></tr><tr><td>9150</td><td>shipping</td><td>819 Campbell Ville</td><td>South Ian</td><td>California</td><td>35549</td></tr><tr><td>9150</td><td>billing</td><td>48219 Kurt Hollow</td><td>South Ravenberg</td><td>Rhode Island</td><td>8078</td></tr></tbody></table></div>"
      ]
     },
     "metadata": {
      "application/vnd.databricks.v1+output": {
       "addedWidgets": {},
       "aggData": [],
       "aggError": "",
       "aggOverflow": false,
       "aggSchema": [],
       "aggSeriesLimitReached": false,
       "aggType": "",
       "arguments": {},
       "columnCustomDisplayInfos": {},
       "data": [
        [
         9179,
         "shipping",
         "9713 Medina Mountains Apt. 813",
         "Lake Erika",
         "Mississippi",
         91945
        ],
        [
         9179,
         "billing",
         "084 Anne Hollow Apt. 064",
         "East Jasontown",
         "Minnesota",
         77329
        ],
        [
         5816,
         "shipping",
         "8400 Rebecca Lodge Suite 011",
         "Lake Lisatown",
         "Montana",
         11354
        ],
        [
         5816,
         "billing",
         "869 Linda Locks Apt. 105",
         "West Melissabury",
         "Michigan",
         37662
        ],
        [
         4858,
         "shipping",
         "4838 Jacob Neck",
         "Jamesview",
         "Wisconsin",
         58657
        ],
        [
         4858,
         "billing",
         "4558 Cabrera Islands",
         "Lake David",
         "Rhode Island",
         6133
        ],
        [
         7207,
         "shipping",
         "75470 Richardson Mission Apt. 147",
         "New Rachelhaven",
         "Hawaii",
         38857
        ],
        [
         7207,
         "billing",
         "4450 Michelle Mission Suite 663",
         "North Justin",
         "Kentucky",
         91757
        ],
        [
         8539,
         "shipping",
         "331 Monica Route Apt. 022",
         "Michellechester",
         "Texas",
         14637
        ],
        [
         8539,
         "billing",
         "48794 Aguirre Ferry Apt. 952",
         "North Amy",
         "Washington",
         92507
        ],
        [
         9706,
         "shipping",
         "2856 Jeremy Wall Apt. 985",
         "East Elizabeth",
         "Oklahoma",
         66460
        ],
        [
         9706,
         "billing",
         "14540 Moody Tunnel",
         "West Shellybury",
         "Kentucky",
         83151
        ],
        [
         9263,
         "shipping",
         "5733 Richards Ferry Suite 995",
         "East Angelafort",
         "Indiana",
         79556
        ],
        [
         9263,
         "billing",
         "13677 Garcia Ports",
         "Shelleyland",
         "Rhode Island",
         3719
        ],
        [
         5028,
         "shipping",
         "955 Montgomery Mountain Suite 167",
         "Jameschester",
         "Kentucky",
         9013
        ],
        [
         5028,
         "billing",
         "5094 Ayala Falls",
         "Greenmouth",
         "North Carolina",
         2638
        ],
        [
         9018,
         "shipping",
         "2099 Francisco Spring",
         "Beanshire",
         "South Carolina",
         87684
        ],
        [
         9018,
         "billing",
         "207 Tracy Gateway",
         "Cookberg",
         "Delaware",
         14011
        ],
        [
         8580,
         "shipping",
         "17549 Lisa Mission Suite 987",
         "Vasquezstad",
         "Virginia",
         40641
        ],
        [
         8580,
         "billing",
         "6150 Jessica Park",
         "Bellmouth",
         "Pennsylvania",
         82370
        ],
        [
         3409,
         "shipping",
         "918 April Junctions",
         "New Theresa",
         "Indiana",
         46004
        ],
        [
         3409,
         "billing",
         "1294 Edward Inlet",
         "North Alison",
         "Indiana",
         82752
        ],
        [
         3889,
         "shipping",
         "90408 Connie Pines Suite 258",
         "Catherinehaven",
         "Texas",
         33736
        ],
        [
         3889,
         "billing",
         "7908 Walker Track",
         "North Jose",
         "Virginia",
         84099
        ],
        [
         9084,
         "shipping",
         "411 Joseph Park",
         "Ericside",
         "South Dakota",
         45339
        ],
        [
         9084,
         "billing",
         "649 Jessica Parks",
         "North Tommyland",
         "Illinois",
         88048
        ],
        [
         2344,
         "shipping",
         "97619 Sanchez Prairie Suite 359",
         "Kelleyfurt",
         "Louisiana",
         64906
        ],
        [
         2344,
         "billing",
         "5008 Corey Landing Apt. 475",
         "South Christinaburgh",
         "New Mexico",
         3650
        ],
        [
         5011,
         "shipping",
         "828 Michele Spring",
         "Duffyshire",
         "Tennessee",
         93025
        ],
        [
         5011,
         "billing",
         "8066 Smith Ports",
         "Port Cheryl",
         "Florida",
         97952
        ],
        [
         9247,
         "shipping",
         "196 Thomas Shore Apt. 768",
         "Bobbymouth",
         "Louisiana",
         91533
        ],
        [
         9247,
         "billing",
         "0034 Fleming Hollow Suite 295",
         "Wadefurt",
         "Montana",
         34460
        ],
        [
         6627,
         "shipping",
         "76810 Mcintosh Forge Suite 885",
         "Gregoryport",
         "South Dakota",
         41885
        ],
        [
         6627,
         "billing",
         "35855 Haas Centers Apt. 931",
         "West Andreaville",
         "Virginia",
         82397
        ],
        [
         3892,
         "shipping",
         "5001 Castro Creek",
         "Watsonberg",
         "South Dakota",
         3805
        ],
        [
         3892,
         "billing",
         "322 Dan Lock",
         "Terriport",
         "Missouri",
         25276
        ],
        [
         1987,
         "shipping",
         "944 Smith Squares",
         "Port Jennifer",
         "Maryland",
         28646
        ],
        [
         1987,
         "billing",
         "3440 Beck Parkways",
         "West Jennifer",
         "Alaska",
         79766
        ],
        [
         5204,
         "shipping",
         "73225 Davis Island",
         "Robertville",
         "Florida",
         30994
        ],
        [
         5204,
         "billing",
         "8191 Jennifer Shoals",
         "Friedmanstad",
         "North Dakota",
         97678
        ],
        [
         4468,
         "shipping",
         "96501 Michelle Wall",
         "Andersonmouth",
         "New York",
         40416
        ],
        [
         4468,
         "billing",
         "790 Jones Neck",
         "Jenniferville",
         "Florida",
         72949
        ],
        [
         4761,
         "shipping",
         "55640 Yolanda Brooks",
         "Andrewfurt",
         "Missouri",
         30615
        ],
        [
         4761,
         "billing",
         "492 Jose Knoll Apt. 836",
         "Lake Sydney",
         "Wyoming",
         51511
        ],
        [
         2703,
         "shipping",
         "5385 Paul Port Suite 963",
         "Richardsonton",
         "Florida",
         6432
        ],
        [
         2703,
         "billing",
         "7639 Derek Streets",
         "New Mary",
         "California",
         68610
        ],
        [
         4996,
         "shipping",
         "5566 Good Harbor Suite 047",
         "North Crystalfurt",
         "Maine",
         30274
        ],
        [
         4996,
         "billing",
         "102 Coleman Centers",
         "West Paulberg",
         "Arizona",
         55699
        ],
        [
         4914,
         "shipping",
         "750 Oliver Shore Suite 402",
         "Reedbury",
         "Kentucky",
         33755
        ],
        [
         4914,
         "billing",
         "639 Matthew Forge",
         "South Lisaburgh",
         "Alaska",
         26693
        ],
        [
         7295,
         "shipping",
         "240 Tammy Bypass Suite 433",
         "New Hayden",
         "Minnesota",
         55632
        ],
        [
         7295,
         "billing",
         "0087 Smith Square Suite 127",
         "West Kristenside",
         "Idaho",
         795
        ],
        [
         7803,
         "shipping",
         "39194 Le Underpass",
         "Davidtown",
         "Virginia",
         41382
        ],
        [
         7803,
         "billing",
         "529 Bobby Squares Apt. 225",
         "Lake Michelle",
         "Kansas",
         18094
        ],
        [
         3712,
         "shipping",
         "35807 Kaylee View",
         "Lake Melanieburgh",
         "Utah",
         86406
        ],
        [
         3712,
         "billing",
         "91984 Rodney Fork Suite 290",
         "Maryland",
         "Missouri",
         37082
        ],
        [
         2054,
         "shipping",
         "225 Lopez Bridge Suite 386",
         "South Monica",
         "Indiana",
         34134
        ],
        [
         2054,
         "billing",
         "890 Brandon Brook Suite 774",
         "North Nicoleborough",
         "Wyoming",
         15077
        ],
        [
         7123,
         "shipping",
         "6149 Adam Meadows",
         "South Lisa",
         "New York",
         96138
        ],
        [
         7123,
         "billing",
         "3975 Short Trail Suite 332",
         "North Alexandra",
         "South Dakota",
         47448
        ],
        [
         6973,
         "shipping",
         "5780 Ashley Row",
         "Larachester",
         "Alaska",
         96580
        ],
        [
         6973,
         "billing",
         "757 Amy Motorway",
         "Stephaniemouth",
         "Massachusetts",
         55102
        ],
        [
         3532,
         "shipping",
         "18892 Benson Lake",
         "Mitchellland",
         "Minnesota",
         80110
        ],
        [
         3532,
         "billing",
         "87297 Davis Bypass Apt. 742",
         "Mannshire",
         "Colorado",
         19139
        ],
        [
         1211,
         "shipping",
         "580 Samantha Lodge",
         "New Christinaborough",
         "Louisiana",
         4251
        ],
        [
         1211,
         "billing",
         "7938 Cervantes Mountain Suite 159",
         "Oconnorhaven",
         "Indiana",
         44129
        ],
        [
         7829,
         "shipping",
         "3242 Kelly Forks Suite 810",
         "Lake Sierraside",
         "Nebraska",
         10629
        ],
        [
         7829,
         "billing",
         "0722 Gregory Turnpike",
         "East Jacksonport",
         "Indiana",
         5138
        ],
        [
         6384,
         "shipping",
         "750 Lisa Valleys",
         "Heatherton",
         "Michigan",
         22885
        ],
        [
         6384,
         "billing",
         "3915 Reyes Islands Apt. 261",
         "New Emily",
         "Massachusetts",
         95275
        ],
        [
         2639,
         "shipping",
         "5383 Albert Grove Apt. 804",
         "North Destinyland",
         "Illinois",
         60150
        ],
        [
         2639,
         "billing",
         "222 Dominique Springs Apt. 942",
         "Colechester",
         "Louisiana",
         96258
        ],
        [
         3084,
         "shipping",
         "3337 Gregory Island",
         "Mitchellbury",
         "Tennessee",
         70603
        ],
        [
         3084,
         "billing",
         "78828 Montgomery Branch Suite 316",
         "South Chelsea",
         "Wisconsin",
         61054
        ],
        [
         7997,
         "shipping",
         "8166 Anthony Lodge Suite 528",
         "Richardmouth",
         "Mississippi",
         48790
        ],
        [
         7997,
         "billing",
         "425 Keith Motorway",
         "West Lawrencemouth",
         "Nebraska",
         76674
        ],
        [
         9687,
         "shipping",
         "3044 Scott Row",
         "North Noah",
         "Oregon",
         73984
        ],
        [
         9687,
         "billing",
         "146 Smith Coves Apt. 738",
         "North Lisaton",
         "West Virginia",
         46429
        ],
        [
         2141,
         "shipping",
         "098 Sellers Station",
         "South Javierstad",
         "Texas",
         59689
        ],
        [
         2141,
         "billing",
         "7451 Lisa Stravenue Suite 994",
         "South Victor",
         "Kansas",
         49835
        ],
        [
         5592,
         "shipping",
         "754 Ricky Corners Apt. 629",
         "Jonland",
         "South Carolina",
         2070
        ],
        [
         5592,
         "billing",
         "9688 Elizabeth Plains",
         "South Theodoreburgh",
         "Massachusetts",
         97146
        ],
        [
         6406,
         "shipping",
         "613 Hart Rapid Apt. 447",
         "Shannonmouth",
         "Wyoming",
         83119
        ],
        [
         6406,
         "billing",
         "5706 Adam Forges Suite 567",
         "Josephburgh",
         "South Dakota",
         7359
        ],
        [
         7007,
         "shipping",
         "64918 Lee Ports Apt. 269",
         "Jasonview",
         "Maryland",
         18994
        ],
        [
         7007,
         "billing",
         "201 Danielle Hollow Apt. 665",
         "Jerryport",
         "South Dakota",
         12363
        ],
        [
         5953,
         "shipping",
         "1393 White Wells Suite 722",
         "North Karen",
         "Connecticut",
         47802
        ],
        [
         5953,
         "billing",
         "470 Casey Pines Suite 957",
         "Deanmouth",
         "Arkansas",
         96860
        ],
        [
         9605,
         "shipping",
         "4123 Solomon Oval Apt. 648",
         "Mccormickside",
         "Indiana",
         90659
        ],
        [
         9605,
         "billing",
         "67373 David Plains Suite 457",
         "East Stevenfort",
         "Nevada",
         84183
        ],
        [
         8845,
         "shipping",
         "95689 Jeffrey Expressway",
         "East Lanceborough",
         "Pennsylvania",
         79251
        ],
        [
         8845,
         "billing",
         "556 Christensen Pike",
         "North Jeremyview",
         "California",
         90786
        ],
        [
         4973,
         "shipping",
         "3013 Michelle Mountain Apt. 214",
         "South Patrickburgh",
         "Arizona",
         45875
        ],
        [
         4973,
         "billing",
         "748 John Curve",
         "Fritzberg",
         "Maryland",
         36128
        ],
        [
         6167,
         "shipping",
         "179 Vang Street",
         "Jessicastad",
         "Connecticut",
         40919
        ],
        [
         6167,
         "billing",
         "58676 Keith Coves",
         "New Erichaven",
         "Kentucky",
         25297
        ],
        [
         3295,
         "shipping",
         "9569 Dennis Way Suite 047",
         "North Amy",
         "New York",
         17867
        ],
        [
         3295,
         "billing",
         "36789 Hatfield Landing",
         "Haydenton",
         "Tennessee",
         60950
        ],
        [
         9150,
         "shipping",
         "819 Campbell Ville",
         "South Ian",
         "California",
         35549
        ],
        [
         9150,
         "billing",
         "48219 Kurt Hollow",
         "South Ravenberg",
         "Rhode Island",
         8078
        ]
       ],
       "datasetInfos": [
        {
         "name": "_sqldf",
         "schema": {
          "fields": [
           {
            "metadata": {},
            "name": "customer_id",
            "nullable": true,
            "type": "integer"
           },
           {
            "metadata": {},
            "name": "address_type",
            "nullable": true,
            "type": "string"
           },
           {
            "metadata": {},
            "name": "address_line_1",
            "nullable": true,
            "type": "string"
           },
           {
            "metadata": {},
            "name": "city",
            "nullable": true,
            "type": "string"
           },
           {
            "metadata": {},
            "name": "state",
            "nullable": true,
            "type": "string"
           },
           {
            "metadata": {},
            "name": "postcode",
            "nullable": true,
            "type": "integer"
           }
          ],
          "type": "struct"
         },
         "tableIdentifier": null,
         "typeStr": "pyspark.sql.connect.dataframe.DataFrame"
        }
       ],
       "dbfsResultPath": null,
       "isJsonSchema": true,
       "metadata": {
        "createTempViewForImplicitDf": true,
        "dataframeName": "_sqldf",
        "executionCount": 2
       },
       "overflow": false,
       "plotOptions": {
        "customPlotOptions": {},
        "displayType": "table",
        "pivotAggregation": null,
        "pivotColumns": null,
        "xColumns": null,
        "yColumns": null
       },
       "removedWidgets": [],
       "schema": [
        {
         "metadata": "{}",
         "name": "customer_id",
         "type": "\"integer\""
        },
        {
         "metadata": "{}",
         "name": "address_type",
         "type": "\"string\""
        },
        {
         "metadata": "{}",
         "name": "address_line_1",
         "type": "\"string\""
        },
        {
         "metadata": "{}",
         "name": "city",
         "type": "\"string\""
        },
        {
         "metadata": "{}",
         "name": "state",
         "type": "\"string\""
        },
        {
         "metadata": "{}",
         "name": "postcode",
         "type": "\"integer\""
        }
       ],
       "type": "table"
      }
     },
     "output_type": "display_data"
    }
   ],
   "source": [
    "%sql\n",
    "select customer_id, \n",
    "       address_type,\n",
    "       address_line_1,\n",
    "       city,\n",
    "       state,\n",
    "       postcode\n",
    "  from gizmobox.bronze.v_addresses;"
   ]
  },
  {
   "cell_type": "code",
   "execution_count": 0,
   "metadata": {
    "application/vnd.databricks.v1+cell": {
     "cellMetadata": {
      "byteLimit": 2048000,
      "implicitDf": true,
      "rowLimit": 10000
     },
     "inputWidgets": {},
     "nuid": "551a930a-8b13-4f1c-852c-708f9b280d97",
     "showTitle": false,
     "tableResultSettingsMap": {},
     "title": ""
    }
   },
   "outputs": [
    {
     "output_type": "display_data",
     "data": {
      "text/html": [
       "<style scoped>\n",
       "  .table-result-container {\n",
       "    max-height: 300px;\n",
       "    overflow: auto;\n",
       "  }\n",
       "  table, th, td {\n",
       "    border: 1px solid black;\n",
       "    border-collapse: collapse;\n",
       "  }\n",
       "  th, td {\n",
       "    padding: 5px;\n",
       "  }\n",
       "  th {\n",
       "    text-align: left;\n",
       "  }\n",
       "</style><div class='table-result-container'><table class='table-result'><thead style='background-color: white'><tr><th>customer_id</th><th>shipping_address_line_1</th><th>shipping_city</th><th>shipping_state</th><th>shipping_postcode</th><th>billing_address_line_1</th><th>billing_city</th><th>billing_state</th><th>billing_postcode</th></tr></thead><tbody><tr><td>1211</td><td>580 Samantha Lodge</td><td>New Christinaborough</td><td>Louisiana</td><td>4251</td><td>7938 Cervantes Mountain Suite 159</td><td>Oconnorhaven</td><td>Indiana</td><td>44129</td></tr><tr><td>1987</td><td>944 Smith Squares</td><td>Port Jennifer</td><td>Maryland</td><td>28646</td><td>3440 Beck Parkways</td><td>West Jennifer</td><td>Alaska</td><td>79766</td></tr><tr><td>2054</td><td>225 Lopez Bridge Suite 386</td><td>South Monica</td><td>Indiana</td><td>34134</td><td>890 Brandon Brook Suite 774</td><td>North Nicoleborough</td><td>Wyoming</td><td>15077</td></tr><tr><td>2141</td><td>098 Sellers Station</td><td>South Javierstad</td><td>Texas</td><td>59689</td><td>7451 Lisa Stravenue Suite 994</td><td>South Victor</td><td>Kansas</td><td>49835</td></tr><tr><td>2344</td><td>97619 Sanchez Prairie Suite 359</td><td>Kelleyfurt</td><td>Louisiana</td><td>64906</td><td>5008 Corey Landing Apt. 475</td><td>South Christinaburgh</td><td>New Mexico</td><td>3650</td></tr><tr><td>2639</td><td>5383 Albert Grove Apt. 804</td><td>North Destinyland</td><td>Illinois</td><td>60150</td><td>222 Dominique Springs Apt. 942</td><td>Colechester</td><td>Louisiana</td><td>96258</td></tr><tr><td>2703</td><td>5385 Paul Port Suite 963</td><td>Richardsonton</td><td>Florida</td><td>6432</td><td>7639 Derek Streets</td><td>New Mary</td><td>California</td><td>68610</td></tr><tr><td>3084</td><td>3337 Gregory Island</td><td>Mitchellbury</td><td>Tennessee</td><td>70603</td><td>78828 Montgomery Branch Suite 316</td><td>South Chelsea</td><td>Wisconsin</td><td>61054</td></tr><tr><td>3295</td><td>9569 Dennis Way Suite 047</td><td>North Amy</td><td>New York</td><td>17867</td><td>36789 Hatfield Landing</td><td>Haydenton</td><td>Tennessee</td><td>60950</td></tr><tr><td>3409</td><td>918 April Junctions</td><td>New Theresa</td><td>Indiana</td><td>46004</td><td>1294 Edward Inlet</td><td>North Alison</td><td>Indiana</td><td>82752</td></tr><tr><td>3532</td><td>18892 Benson Lake</td><td>Mitchellland</td><td>Minnesota</td><td>80110</td><td>87297 Davis Bypass Apt. 742</td><td>Mannshire</td><td>Colorado</td><td>19139</td></tr><tr><td>3712</td><td>35807 Kaylee View</td><td>Lake Melanieburgh</td><td>Utah</td><td>86406</td><td>91984 Rodney Fork Suite 290</td><td>Maryland</td><td>Missouri</td><td>37082</td></tr><tr><td>3889</td><td>90408 Connie Pines Suite 258</td><td>Catherinehaven</td><td>Texas</td><td>33736</td><td>7908 Walker Track</td><td>North Jose</td><td>Virginia</td><td>84099</td></tr><tr><td>3892</td><td>5001 Castro Creek</td><td>Watsonberg</td><td>South Dakota</td><td>3805</td><td>322 Dan Lock</td><td>Terriport</td><td>Missouri</td><td>25276</td></tr><tr><td>4468</td><td>96501 Michelle Wall</td><td>Andersonmouth</td><td>New York</td><td>40416</td><td>790 Jones Neck</td><td>Jenniferville</td><td>Florida</td><td>72949</td></tr><tr><td>4761</td><td>55640 Yolanda Brooks</td><td>Andrewfurt</td><td>Missouri</td><td>30615</td><td>492 Jose Knoll Apt. 836</td><td>Lake Sydney</td><td>Wyoming</td><td>51511</td></tr><tr><td>4858</td><td>4838 Jacob Neck</td><td>Jamesview</td><td>Wisconsin</td><td>58657</td><td>4558 Cabrera Islands</td><td>Lake David</td><td>Rhode Island</td><td>6133</td></tr><tr><td>4914</td><td>750 Oliver Shore Suite 402</td><td>Reedbury</td><td>Kentucky</td><td>33755</td><td>639 Matthew Forge</td><td>South Lisaburgh</td><td>Alaska</td><td>26693</td></tr><tr><td>4973</td><td>3013 Michelle Mountain Apt. 214</td><td>South Patrickburgh</td><td>Arizona</td><td>45875</td><td>748 John Curve</td><td>Fritzberg</td><td>Maryland</td><td>36128</td></tr><tr><td>4996</td><td>5566 Good Harbor Suite 047</td><td>North Crystalfurt</td><td>Maine</td><td>30274</td><td>102 Coleman Centers</td><td>West Paulberg</td><td>Arizona</td><td>55699</td></tr><tr><td>5011</td><td>828 Michele Spring</td><td>Duffyshire</td><td>Tennessee</td><td>93025</td><td>8066 Smith Ports</td><td>Port Cheryl</td><td>Florida</td><td>97952</td></tr><tr><td>5028</td><td>955 Montgomery Mountain Suite 167</td><td>Jameschester</td><td>Kentucky</td><td>9013</td><td>5094 Ayala Falls</td><td>Greenmouth</td><td>North Carolina</td><td>2638</td></tr><tr><td>5204</td><td>73225 Davis Island</td><td>Robertville</td><td>Florida</td><td>30994</td><td>8191 Jennifer Shoals</td><td>Friedmanstad</td><td>North Dakota</td><td>97678</td></tr><tr><td>5592</td><td>754 Ricky Corners Apt. 629</td><td>Jonland</td><td>South Carolina</td><td>2070</td><td>9688 Elizabeth Plains</td><td>South Theodoreburgh</td><td>Massachusetts</td><td>97146</td></tr><tr><td>5816</td><td>8400 Rebecca Lodge Suite 011</td><td>Lake Lisatown</td><td>Montana</td><td>11354</td><td>869 Linda Locks Apt. 105</td><td>West Melissabury</td><td>Michigan</td><td>37662</td></tr><tr><td>5953</td><td>1393 White Wells Suite 722</td><td>North Karen</td><td>Connecticut</td><td>47802</td><td>470 Casey Pines Suite 957</td><td>Deanmouth</td><td>Arkansas</td><td>96860</td></tr><tr><td>6167</td><td>179 Vang Street</td><td>Jessicastad</td><td>Connecticut</td><td>40919</td><td>58676 Keith Coves</td><td>New Erichaven</td><td>Kentucky</td><td>25297</td></tr><tr><td>6384</td><td>750 Lisa Valleys</td><td>Heatherton</td><td>Michigan</td><td>22885</td><td>3915 Reyes Islands Apt. 261</td><td>New Emily</td><td>Massachusetts</td><td>95275</td></tr><tr><td>6406</td><td>613 Hart Rapid Apt. 447</td><td>Shannonmouth</td><td>Wyoming</td><td>83119</td><td>5706 Adam Forges Suite 567</td><td>Josephburgh</td><td>South Dakota</td><td>7359</td></tr><tr><td>6627</td><td>76810 Mcintosh Forge Suite 885</td><td>Gregoryport</td><td>South Dakota</td><td>41885</td><td>35855 Haas Centers Apt. 931</td><td>West Andreaville</td><td>Virginia</td><td>82397</td></tr><tr><td>6973</td><td>5780 Ashley Row</td><td>Larachester</td><td>Alaska</td><td>96580</td><td>757 Amy Motorway</td><td>Stephaniemouth</td><td>Massachusetts</td><td>55102</td></tr><tr><td>7007</td><td>64918 Lee Ports Apt. 269</td><td>Jasonview</td><td>Maryland</td><td>18994</td><td>201 Danielle Hollow Apt. 665</td><td>Jerryport</td><td>South Dakota</td><td>12363</td></tr><tr><td>7123</td><td>6149 Adam Meadows</td><td>South Lisa</td><td>New York</td><td>96138</td><td>3975 Short Trail Suite 332</td><td>North Alexandra</td><td>South Dakota</td><td>47448</td></tr><tr><td>7207</td><td>75470 Richardson Mission Apt. 147</td><td>New Rachelhaven</td><td>Hawaii</td><td>38857</td><td>4450 Michelle Mission Suite 663</td><td>North Justin</td><td>Kentucky</td><td>91757</td></tr><tr><td>7295</td><td>240 Tammy Bypass Suite 433</td><td>New Hayden</td><td>Minnesota</td><td>55632</td><td>0087 Smith Square Suite 127</td><td>West Kristenside</td><td>Idaho</td><td>795</td></tr><tr><td>7803</td><td>39194 Le Underpass</td><td>Davidtown</td><td>Virginia</td><td>41382</td><td>529 Bobby Squares Apt. 225</td><td>Lake Michelle</td><td>Kansas</td><td>18094</td></tr><tr><td>7829</td><td>3242 Kelly Forks Suite 810</td><td>Lake Sierraside</td><td>Nebraska</td><td>10629</td><td>0722 Gregory Turnpike</td><td>East Jacksonport</td><td>Indiana</td><td>5138</td></tr><tr><td>7997</td><td>8166 Anthony Lodge Suite 528</td><td>Richardmouth</td><td>Mississippi</td><td>48790</td><td>425 Keith Motorway</td><td>West Lawrencemouth</td><td>Nebraska</td><td>76674</td></tr><tr><td>8539</td><td>331 Monica Route Apt. 022</td><td>Michellechester</td><td>Texas</td><td>14637</td><td>48794 Aguirre Ferry Apt. 952</td><td>North Amy</td><td>Washington</td><td>92507</td></tr><tr><td>8580</td><td>17549 Lisa Mission Suite 987</td><td>Vasquezstad</td><td>Virginia</td><td>40641</td><td>6150 Jessica Park</td><td>Bellmouth</td><td>Pennsylvania</td><td>82370</td></tr><tr><td>8845</td><td>95689 Jeffrey Expressway</td><td>East Lanceborough</td><td>Pennsylvania</td><td>79251</td><td>556 Christensen Pike</td><td>North Jeremyview</td><td>California</td><td>90786</td></tr><tr><td>9018</td><td>2099 Francisco Spring</td><td>Beanshire</td><td>South Carolina</td><td>87684</td><td>207 Tracy Gateway</td><td>Cookberg</td><td>Delaware</td><td>14011</td></tr><tr><td>9084</td><td>411 Joseph Park</td><td>Ericside</td><td>South Dakota</td><td>45339</td><td>649 Jessica Parks</td><td>North Tommyland</td><td>Illinois</td><td>88048</td></tr><tr><td>9150</td><td>819 Campbell Ville</td><td>South Ian</td><td>California</td><td>35549</td><td>48219 Kurt Hollow</td><td>South Ravenberg</td><td>Rhode Island</td><td>8078</td></tr><tr><td>9179</td><td>9713 Medina Mountains Apt. 813</td><td>Lake Erika</td><td>Mississippi</td><td>91945</td><td>084 Anne Hollow Apt. 064</td><td>East Jasontown</td><td>Minnesota</td><td>77329</td></tr><tr><td>9247</td><td>196 Thomas Shore Apt. 768</td><td>Bobbymouth</td><td>Louisiana</td><td>91533</td><td>0034 Fleming Hollow Suite 295</td><td>Wadefurt</td><td>Montana</td><td>34460</td></tr><tr><td>9263</td><td>5733 Richards Ferry Suite 995</td><td>East Angelafort</td><td>Indiana</td><td>79556</td><td>13677 Garcia Ports</td><td>Shelleyland</td><td>Rhode Island</td><td>3719</td></tr><tr><td>9605</td><td>4123 Solomon Oval Apt. 648</td><td>Mccormickside</td><td>Indiana</td><td>90659</td><td>67373 David Plains Suite 457</td><td>East Stevenfort</td><td>Nevada</td><td>84183</td></tr><tr><td>9687</td><td>3044 Scott Row</td><td>North Noah</td><td>Oregon</td><td>73984</td><td>146 Smith Coves Apt. 738</td><td>North Lisaton</td><td>West Virginia</td><td>46429</td></tr><tr><td>9706</td><td>2856 Jeremy Wall Apt. 985</td><td>East Elizabeth</td><td>Oklahoma</td><td>66460</td><td>14540 Moody Tunnel</td><td>West Shellybury</td><td>Kentucky</td><td>83151</td></tr></tbody></table></div>"
      ]
     },
     "metadata": {
      "application/vnd.databricks.v1+output": {
       "addedWidgets": {},
       "aggData": [],
       "aggError": "",
       "aggOverflow": false,
       "aggSchema": [],
       "aggSeriesLimitReached": false,
       "aggType": "",
       "arguments": {},
       "columnCustomDisplayInfos": {},
       "data": [
        [
         1211,
         "580 Samantha Lodge",
         "New Christinaborough",
         "Louisiana",
         4251,
         "7938 Cervantes Mountain Suite 159",
         "Oconnorhaven",
         "Indiana",
         44129
        ],
        [
         1987,
         "944 Smith Squares",
         "Port Jennifer",
         "Maryland",
         28646,
         "3440 Beck Parkways",
         "West Jennifer",
         "Alaska",
         79766
        ],
        [
         2054,
         "225 Lopez Bridge Suite 386",
         "South Monica",
         "Indiana",
         34134,
         "890 Brandon Brook Suite 774",
         "North Nicoleborough",
         "Wyoming",
         15077
        ],
        [
         2141,
         "098 Sellers Station",
         "South Javierstad",
         "Texas",
         59689,
         "7451 Lisa Stravenue Suite 994",
         "South Victor",
         "Kansas",
         49835
        ],
        [
         2344,
         "97619 Sanchez Prairie Suite 359",
         "Kelleyfurt",
         "Louisiana",
         64906,
         "5008 Corey Landing Apt. 475",
         "South Christinaburgh",
         "New Mexico",
         3650
        ],
        [
         2639,
         "5383 Albert Grove Apt. 804",
         "North Destinyland",
         "Illinois",
         60150,
         "222 Dominique Springs Apt. 942",
         "Colechester",
         "Louisiana",
         96258
        ],
        [
         2703,
         "5385 Paul Port Suite 963",
         "Richardsonton",
         "Florida",
         6432,
         "7639 Derek Streets",
         "New Mary",
         "California",
         68610
        ],
        [
         3084,
         "3337 Gregory Island",
         "Mitchellbury",
         "Tennessee",
         70603,
         "78828 Montgomery Branch Suite 316",
         "South Chelsea",
         "Wisconsin",
         61054
        ],
        [
         3295,
         "9569 Dennis Way Suite 047",
         "North Amy",
         "New York",
         17867,
         "36789 Hatfield Landing",
         "Haydenton",
         "Tennessee",
         60950
        ],
        [
         3409,
         "918 April Junctions",
         "New Theresa",
         "Indiana",
         46004,
         "1294 Edward Inlet",
         "North Alison",
         "Indiana",
         82752
        ],
        [
         3532,
         "18892 Benson Lake",
         "Mitchellland",
         "Minnesota",
         80110,
         "87297 Davis Bypass Apt. 742",
         "Mannshire",
         "Colorado",
         19139
        ],
        [
         3712,
         "35807 Kaylee View",
         "Lake Melanieburgh",
         "Utah",
         86406,
         "91984 Rodney Fork Suite 290",
         "Maryland",
         "Missouri",
         37082
        ],
        [
         3889,
         "90408 Connie Pines Suite 258",
         "Catherinehaven",
         "Texas",
         33736,
         "7908 Walker Track",
         "North Jose",
         "Virginia",
         84099
        ],
        [
         3892,
         "5001 Castro Creek",
         "Watsonberg",
         "South Dakota",
         3805,
         "322 Dan Lock",
         "Terriport",
         "Missouri",
         25276
        ],
        [
         4468,
         "96501 Michelle Wall",
         "Andersonmouth",
         "New York",
         40416,
         "790 Jones Neck",
         "Jenniferville",
         "Florida",
         72949
        ],
        [
         4761,
         "55640 Yolanda Brooks",
         "Andrewfurt",
         "Missouri",
         30615,
         "492 Jose Knoll Apt. 836",
         "Lake Sydney",
         "Wyoming",
         51511
        ],
        [
         4858,
         "4838 Jacob Neck",
         "Jamesview",
         "Wisconsin",
         58657,
         "4558 Cabrera Islands",
         "Lake David",
         "Rhode Island",
         6133
        ],
        [
         4914,
         "750 Oliver Shore Suite 402",
         "Reedbury",
         "Kentucky",
         33755,
         "639 Matthew Forge",
         "South Lisaburgh",
         "Alaska",
         26693
        ],
        [
         4973,
         "3013 Michelle Mountain Apt. 214",
         "South Patrickburgh",
         "Arizona",
         45875,
         "748 John Curve",
         "Fritzberg",
         "Maryland",
         36128
        ],
        [
         4996,
         "5566 Good Harbor Suite 047",
         "North Crystalfurt",
         "Maine",
         30274,
         "102 Coleman Centers",
         "West Paulberg",
         "Arizona",
         55699
        ],
        [
         5011,
         "828 Michele Spring",
         "Duffyshire",
         "Tennessee",
         93025,
         "8066 Smith Ports",
         "Port Cheryl",
         "Florida",
         97952
        ],
        [
         5028,
         "955 Montgomery Mountain Suite 167",
         "Jameschester",
         "Kentucky",
         9013,
         "5094 Ayala Falls",
         "Greenmouth",
         "North Carolina",
         2638
        ],
        [
         5204,
         "73225 Davis Island",
         "Robertville",
         "Florida",
         30994,
         "8191 Jennifer Shoals",
         "Friedmanstad",
         "North Dakota",
         97678
        ],
        [
         5592,
         "754 Ricky Corners Apt. 629",
         "Jonland",
         "South Carolina",
         2070,
         "9688 Elizabeth Plains",
         "South Theodoreburgh",
         "Massachusetts",
         97146
        ],
        [
         5816,
         "8400 Rebecca Lodge Suite 011",
         "Lake Lisatown",
         "Montana",
         11354,
         "869 Linda Locks Apt. 105",
         "West Melissabury",
         "Michigan",
         37662
        ],
        [
         5953,
         "1393 White Wells Suite 722",
         "North Karen",
         "Connecticut",
         47802,
         "470 Casey Pines Suite 957",
         "Deanmouth",
         "Arkansas",
         96860
        ],
        [
         6167,
         "179 Vang Street",
         "Jessicastad",
         "Connecticut",
         40919,
         "58676 Keith Coves",
         "New Erichaven",
         "Kentucky",
         25297
        ],
        [
         6384,
         "750 Lisa Valleys",
         "Heatherton",
         "Michigan",
         22885,
         "3915 Reyes Islands Apt. 261",
         "New Emily",
         "Massachusetts",
         95275
        ],
        [
         6406,
         "613 Hart Rapid Apt. 447",
         "Shannonmouth",
         "Wyoming",
         83119,
         "5706 Adam Forges Suite 567",
         "Josephburgh",
         "South Dakota",
         7359
        ],
        [
         6627,
         "76810 Mcintosh Forge Suite 885",
         "Gregoryport",
         "South Dakota",
         41885,
         "35855 Haas Centers Apt. 931",
         "West Andreaville",
         "Virginia",
         82397
        ],
        [
         6973,
         "5780 Ashley Row",
         "Larachester",
         "Alaska",
         96580,
         "757 Amy Motorway",
         "Stephaniemouth",
         "Massachusetts",
         55102
        ],
        [
         7007,
         "64918 Lee Ports Apt. 269",
         "Jasonview",
         "Maryland",
         18994,
         "201 Danielle Hollow Apt. 665",
         "Jerryport",
         "South Dakota",
         12363
        ],
        [
         7123,
         "6149 Adam Meadows",
         "South Lisa",
         "New York",
         96138,
         "3975 Short Trail Suite 332",
         "North Alexandra",
         "South Dakota",
         47448
        ],
        [
         7207,
         "75470 Richardson Mission Apt. 147",
         "New Rachelhaven",
         "Hawaii",
         38857,
         "4450 Michelle Mission Suite 663",
         "North Justin",
         "Kentucky",
         91757
        ],
        [
         7295,
         "240 Tammy Bypass Suite 433",
         "New Hayden",
         "Minnesota",
         55632,
         "0087 Smith Square Suite 127",
         "West Kristenside",
         "Idaho",
         795
        ],
        [
         7803,
         "39194 Le Underpass",
         "Davidtown",
         "Virginia",
         41382,
         "529 Bobby Squares Apt. 225",
         "Lake Michelle",
         "Kansas",
         18094
        ],
        [
         7829,
         "3242 Kelly Forks Suite 810",
         "Lake Sierraside",
         "Nebraska",
         10629,
         "0722 Gregory Turnpike",
         "East Jacksonport",
         "Indiana",
         5138
        ],
        [
         7997,
         "8166 Anthony Lodge Suite 528",
         "Richardmouth",
         "Mississippi",
         48790,
         "425 Keith Motorway",
         "West Lawrencemouth",
         "Nebraska",
         76674
        ],
        [
         8539,
         "331 Monica Route Apt. 022",
         "Michellechester",
         "Texas",
         14637,
         "48794 Aguirre Ferry Apt. 952",
         "North Amy",
         "Washington",
         92507
        ],
        [
         8580,
         "17549 Lisa Mission Suite 987",
         "Vasquezstad",
         "Virginia",
         40641,
         "6150 Jessica Park",
         "Bellmouth",
         "Pennsylvania",
         82370
        ],
        [
         8845,
         "95689 Jeffrey Expressway",
         "East Lanceborough",
         "Pennsylvania",
         79251,
         "556 Christensen Pike",
         "North Jeremyview",
         "California",
         90786
        ],
        [
         9018,
         "2099 Francisco Spring",
         "Beanshire",
         "South Carolina",
         87684,
         "207 Tracy Gateway",
         "Cookberg",
         "Delaware",
         14011
        ],
        [
         9084,
         "411 Joseph Park",
         "Ericside",
         "South Dakota",
         45339,
         "649 Jessica Parks",
         "North Tommyland",
         "Illinois",
         88048
        ],
        [
         9150,
         "819 Campbell Ville",
         "South Ian",
         "California",
         35549,
         "48219 Kurt Hollow",
         "South Ravenberg",
         "Rhode Island",
         8078
        ],
        [
         9179,
         "9713 Medina Mountains Apt. 813",
         "Lake Erika",
         "Mississippi",
         91945,
         "084 Anne Hollow Apt. 064",
         "East Jasontown",
         "Minnesota",
         77329
        ],
        [
         9247,
         "196 Thomas Shore Apt. 768",
         "Bobbymouth",
         "Louisiana",
         91533,
         "0034 Fleming Hollow Suite 295",
         "Wadefurt",
         "Montana",
         34460
        ],
        [
         9263,
         "5733 Richards Ferry Suite 995",
         "East Angelafort",
         "Indiana",
         79556,
         "13677 Garcia Ports",
         "Shelleyland",
         "Rhode Island",
         3719
        ],
        [
         9605,
         "4123 Solomon Oval Apt. 648",
         "Mccormickside",
         "Indiana",
         90659,
         "67373 David Plains Suite 457",
         "East Stevenfort",
         "Nevada",
         84183
        ],
        [
         9687,
         "3044 Scott Row",
         "North Noah",
         "Oregon",
         73984,
         "146 Smith Coves Apt. 738",
         "North Lisaton",
         "West Virginia",
         46429
        ],
        [
         9706,
         "2856 Jeremy Wall Apt. 985",
         "East Elizabeth",
         "Oklahoma",
         66460,
         "14540 Moody Tunnel",
         "West Shellybury",
         "Kentucky",
         83151
        ]
       ],
       "datasetInfos": [
        {
         "name": "_sqldf",
         "schema": {
          "fields": [
           {
            "metadata": {},
            "name": "customer_id",
            "nullable": true,
            "type": "integer"
           },
           {
            "metadata": {},
            "name": "shipping_address_line_1",
            "nullable": true,
            "type": "string"
           },
           {
            "metadata": {},
            "name": "shipping_city",
            "nullable": true,
            "type": "string"
           },
           {
            "metadata": {},
            "name": "shipping_state",
            "nullable": true,
            "type": "string"
           },
           {
            "metadata": {},
            "name": "shipping_postcode",
            "nullable": true,
            "type": "integer"
           },
           {
            "metadata": {},
            "name": "billing_address_line_1",
            "nullable": true,
            "type": "string"
           },
           {
            "metadata": {},
            "name": "billing_city",
            "nullable": true,
            "type": "string"
           },
           {
            "metadata": {},
            "name": "billing_state",
            "nullable": true,
            "type": "string"
           },
           {
            "metadata": {},
            "name": "billing_postcode",
            "nullable": true,
            "type": "integer"
           }
          ],
          "type": "struct"
         },
         "tableIdentifier": null,
         "typeStr": "pyspark.sql.connect.dataframe.DataFrame"
        }
       ],
       "dbfsResultPath": null,
       "isJsonSchema": true,
       "metadata": {
        "createTempViewForImplicitDf": true,
        "dataframeName": "_sqldf",
        "executionCount": 12
       },
       "overflow": false,
       "plotOptions": {
        "customPlotOptions": {},
        "displayType": "table",
        "pivotAggregation": null,
        "pivotColumns": null,
        "xColumns": null,
        "yColumns": null
       },
       "removedWidgets": [],
       "schema": [
        {
         "metadata": "{}",
         "name": "customer_id",
         "type": "\"integer\""
        },
        {
         "metadata": "{}",
         "name": "shipping_address_line_1",
         "type": "\"string\""
        },
        {
         "metadata": "{}",
         "name": "shipping_city",
         "type": "\"string\""
        },
        {
         "metadata": "{}",
         "name": "shipping_state",
         "type": "\"string\""
        },
        {
         "metadata": "{}",
         "name": "shipping_postcode",
         "type": "\"integer\""
        },
        {
         "metadata": "{}",
         "name": "billing_address_line_1",
         "type": "\"string\""
        },
        {
         "metadata": "{}",
         "name": "billing_city",
         "type": "\"string\""
        },
        {
         "metadata": "{}",
         "name": "billing_state",
         "type": "\"string\""
        },
        {
         "metadata": "{}",
         "name": "billing_postcode",
         "type": "\"integer\""
        }
       ],
       "type": "table"
      }
     },
     "output_type": "display_data"
    }
   ],
   "source": [
    "%sql\n",
    "select *\n",
    "  from (select customer_id,\n",
    "               address_type,\n",
    "               address_line_1,\n",
    "               city,\n",
    "               state,\n",
    "               postcode\n",
    "          from gizmobox.bronze.v_addresses)\n",
    "pivot (MAX(address_line_1) as address_line_1,\n",
    "        MAX(city) as city,\n",
    "        MAX(state) as state,\n",
    "        MAX(postcode) as postcode\n",
    "        for address_type in ('shipping', 'billing')\n",
    "        );"
   ]
  },
  {
   "cell_type": "markdown",
   "metadata": {
    "application/vnd.databricks.v1+cell": {
     "cellMetadata": {},
     "inputWidgets": {},
     "nuid": "406945e0-cbde-45da-8d71-350941506365",
     "showTitle": false,
     "tableResultSettingsMap": {},
     "title": ""
    }
   },
   "source": [
    "#### 2-Write transformed data to the Silver Schema"
   ]
  },
  {
   "cell_type": "code",
   "execution_count": 0,
   "metadata": {
    "application/vnd.databricks.v1+cell": {
     "cellMetadata": {
      "byteLimit": 2048000,
      "implicitDf": true,
      "rowLimit": 10000
     },
     "inputWidgets": {},
     "nuid": "8293bf24-a295-4f7a-b98b-d9f79d65f0b0",
     "showTitle": false,
     "tableResultSettingsMap": {},
     "title": ""
    }
   },
   "outputs": [
    {
     "output_type": "display_data",
     "data": {
      "text/html": [
       "<style scoped>\n",
       "  .table-result-container {\n",
       "    max-height: 300px;\n",
       "    overflow: auto;\n",
       "  }\n",
       "  table, th, td {\n",
       "    border: 1px solid black;\n",
       "    border-collapse: collapse;\n",
       "  }\n",
       "  th, td {\n",
       "    padding: 5px;\n",
       "  }\n",
       "  th {\n",
       "    text-align: left;\n",
       "  }\n",
       "</style><div class='table-result-container'><table class='table-result'><thead style='background-color: white'><tr><th>num_affected_rows</th><th>num_inserted_rows</th></tr></thead><tbody></tbody></table></div>"
      ]
     },
     "metadata": {
      "application/vnd.databricks.v1+output": {
       "addedWidgets": {},
       "aggData": [],
       "aggError": "",
       "aggOverflow": false,
       "aggSchema": [],
       "aggSeriesLimitReached": false,
       "aggType": "",
       "arguments": {},
       "columnCustomDisplayInfos": {},
       "data": [],
       "datasetInfos": [
        {
         "name": "_sqldf",
         "schema": {
          "fields": [
           {
            "metadata": {},
            "name": "num_affected_rows",
            "nullable": true,
            "type": "long"
           },
           {
            "metadata": {},
            "name": "num_inserted_rows",
            "nullable": true,
            "type": "long"
           }
          ],
          "type": "struct"
         },
         "tableIdentifier": null,
         "typeStr": "pyspark.sql.connect.dataframe.DataFrame"
        }
       ],
       "dbfsResultPath": null,
       "isJsonSchema": true,
       "metadata": {
        "createTempViewForImplicitDf": true,
        "dataframeName": "_sqldf",
        "executionCount": 15
       },
       "overflow": false,
       "plotOptions": {
        "customPlotOptions": {},
        "displayType": "table",
        "pivotAggregation": null,
        "pivotColumns": null,
        "xColumns": null,
        "yColumns": null
       },
       "removedWidgets": [],
       "schema": [
        {
         "metadata": "{}",
         "name": "num_affected_rows",
         "type": "\"long\""
        },
        {
         "metadata": "{}",
         "name": "num_inserted_rows",
         "type": "\"long\""
        }
       ],
       "type": "table"
      }
     },
     "output_type": "display_data"
    }
   ],
   "source": [
    "%sql\n",
    "create table gizmobox.silver.addresses\n",
    "as\n",
    "select *\n",
    "  from (select customer_id,\n",
    "               address_type,\n",
    "               address_line_1,\n",
    "               city,\n",
    "               state,\n",
    "               postcode\n",
    "          from gizmobox.bronze.v_addresses)\n",
    "pivot (MAX(address_line_1) as address_line_1,\n",
    "        MAX(city) as city,\n",
    "        MAX(state) as state,\n",
    "        MAX(postcode) as postcode\n",
    "        for address_type in ('shipping', 'billing')\n",
    "        );"
   ]
  }
 ],
 "metadata": {
  "application/vnd.databricks.v1+notebook": {
   "computePreferences": null,
   "dashboards": [],
   "environmentMetadata": {
    "base_environment": "",
    "environment_version": "3"
   },
   "inputWidgetPreferences": null,
   "language": "python",
   "notebookMetadata": {
    "mostRecentlyExecutedCommandWithImplicitDF": {
     "commandId": 4711023518250123,
     "dataframes": [
      "_sqldf"
     ]
    },
    "pythonIndentUnit": 4
   },
   "notebookName": "13-Transform-Addresses-Data",
   "widgets": {}
  },
  "language_info": {
   "name": "python"
  }
 },
 "nbformat": 4,
 "nbformat_minor": 0
}
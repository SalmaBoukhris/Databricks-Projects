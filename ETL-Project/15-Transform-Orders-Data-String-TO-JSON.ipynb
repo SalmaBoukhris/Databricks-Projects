{
 "cells": [
  {
   "cell_type": "markdown",
   "metadata": {
    "application/vnd.databricks.v1+cell": {
     "cellMetadata": {},
     "inputWidgets": {},
     "nuid": "5b169a84-79d4-4b01-8b1f-c0c6c51e2bdc",
     "showTitle": false,
     "tableResultSettingsMap": {},
     "title": ""
    }
   },
   "source": [
    "## Transform Orders Data from String to JSON"
   ]
  },
  {
   "cell_type": "code",
   "execution_count": 0,
   "metadata": {
    "application/vnd.databricks.v1+cell": {
     "cellMetadata": {
      "byteLimit": 2048000,
      "implicitDf": true,
      "rowLimit": 10000
     },
     "inputWidgets": {},
     "nuid": "b574066d-c52a-4b5a-abc0-17ff6aeb9ac3",
     "showTitle": false,
     "tableResultSettingsMap": {},
     "title": ""
    }
   },
   "outputs": [
    {
     "output_type": "display_data",
     "data": {
      "text/html": [
       "<style scoped>\n",
       "  .table-result-container {\n",
       "    max-height: 300px;\n",
       "    overflow: auto;\n",
       "  }\n",
       "  table, th, td {\n",
       "    border: 1px solid black;\n",
       "    border-collapse: collapse;\n",
       "  }\n",
       "  th, td {\n",
       "    padding: 5px;\n",
       "  }\n",
       "  th {\n",
       "    text-align: left;\n",
       "  }\n",
       "</style><div class='table-result-container'><table class='table-result'><thead style='background-color: white'><tr><th>value</th></tr></thead><tbody><tr><td>{\"order_id\": 1, \"customer_id\": 6973, \"order_date\": \"2025-01-05\", \"transaction_timestamp\": \"2025-01-05 10:13:59\", \"total_amount\": 499, \"payment_method\": \"Bank Transfer\", \"items\": [{\"item_id\": 8, \"name\": \"Gaming Console\", \"category\": \"Electronics\", \"price\": 499, \"quantity\": 1, \"details\": {\"brand\": \"Sony\", \"color\": \"Blue\"}}], \"order_status\": \"Completed\"}</td></tr><tr><td>{\"order_id\": 2, \"customer_id\": 3532, \"order_date\": 2025-01-19, \"transaction_timestamp\": \"2025-01-19 00:05:13\", \"total_amount\": 985, \"payment_method\": \"PayPal\", \"items\": [{\"item_id\": 4, \"name\": \"Smartwatch\", \"category\": \"Electronics\", \"price\": 299, \"quantity\": 2, \"details\": {\"brand\": \"Canon\", \"color\": \"Gray\"}}, {\"item_id\": 7, \"name\": \"External Hard Drive\", \"category\": \"Electronics\", \"price\": 129, \"quantity\": 3, \"details\": {\"brand\": \"Dell\", \"color\": \"Blue\"}}], \"order_status\": \"Cancelled\"}</td></tr><tr><td>{\"order_id\": 3, \"customer_id\": 3532, \"order_date\": \"2025-01-08\", \"transaction_timestamp\": \"2025-01-08 23:11:00\", \"total_amount\": 597, \"payment_method\": \"Bank Transfer\", \"items\": [{\"item_id\": 3, \"name\": \"Wireless Headphones\", \"category\": \"Electronics\", \"price\": 199, \"quantity\": 3, \"details\": {\"brand\": \"Apple\", \"color\": \"White\"}}], \"order_status\": \"Completed\"}</td></tr><tr><td>{\"order_id\": 4, \"customer_id\": 3532, \"order_date\": \"2025-01-05\", \"transaction_timestamp\": \"2025-01-05 05:49:26\", \"total_amount\": 999, \"payment_method\": \"Bank Transfer\", \"items\": [{\"item_id\": 2, \"name\": \"Laptop\", \"category\": \"Electronics\", \"price\": 999, \"quantity\": 1, \"details\": {\"brand\": \"Microsoft\", \"color\": \"Black\"}}], \"order_status\": \"Cancelled\"}</td></tr><tr><td>{\"order_id\": 8, \"customer_id\": 9179, \"order_date\": \"2025-01-02\", \"transaction_timestamp\": \"2025-01-02 13:11:15\", \"total_amount\": 399, \"payment_method\": \"PayPal\", \"items\": [{\"item_id\": 5, \"name\": \"Tablet\", \"category\": \"Electronics\", \"price\": 399, \"quantity\": 1, \"details\": {\"brand\": \"LG\", \"color\": \"White\"}}], \"order_status\": \"Completed\"}</td></tr><tr><td>{\"order_id\": 14, \"customer_id\": 7207, \"order_date\": \"2025-01-01\", \"transaction_timestamp\": \"2025-01-01 18:22:26\", \"total_amount\": 597, \"payment_method\": \"PayPal\", \"items\": [{\"item_id\": 3, \"name\": \"Wireless Headphones\", \"category\": \"Electronics\", \"price\": 199, \"quantity\": 3, \"details\": {\"brand\": \"Bose\", \"color\": \"Blue\"}}], \"order_status\": \"Cancelled\"}</td></tr><tr><td>{\"order_id\": 18, \"customer_id\": 4468, \"order_date\": \"2025-01-22\", \"transaction_timestamp\": \"2025-01-22 21:12:08\", \"total_amount\": 799, \"payment_method\": \"Credit Card\", \"items\": [{\"item_id\": 10, \"name\": \"Drone\", \"category\": \"Electronics\", \"price\": 799, \"quantity\": 1, \"details\": {\"brand\": \"Dell\", \"color\": \"Black\"}}], \"order_status\": \"Pending\"}</td></tr><tr><td>{\"order_id\": 22, \"customer_id\": 4761, \"order_date\": 2025-01-01, \"transaction_timestamp\": \"2025-01-01 15:49:19\", \"total_amount\": 199, \"payment_method\": \"PayPal\", \"items\": [{\"item_id\": 3, \"name\": \"Wireless Headphones\", \"category\": \"Electronics\", \"price\": 199, \"quantity\": 1, \"details\": {\"brand\": \"HP\", \"color\": \"Silver\"}}], \"order_status\": \"Pending\"}</td></tr><tr><td>{\"order_id\": 26, \"customer_id\": 7007, \"order_date\": \"2025-01-05\", \"transaction_timestamp\": \"2025-01-05 19:01:25\", \"total_amount\": 699, \"payment_method\": \"Bank Transfer\", \"items\": [{\"item_id\": 1, \"name\": \"Smartphone\", \"category\": \"Electronics\", \"price\": 699, \"quantity\": 1, \"details\": {\"brand\": \"Samsung\", \"color\": \"Silver\"}}], \"order_status\": \"Shipped\"}</td></tr><tr><td>{\"order_id\": 29, \"customer_id\": 5953, \"order_date\": \"2025-01-18\", \"transaction_timestamp\": \"2025-01-18 03:05:04\", \"total_amount\": 129, \"payment_method\": \"Bank Transfer\", \"items\": [{\"item_id\": 7, \"name\": \"External Hard Drive\", \"category\": \"Electronics\", \"price\": 129, \"quantity\": 1, \"details\": {\"brand\": \"Bose\", \"color\": \"Gray\"}}, {\"item_id\": 7, \"name\": \"External Hard Drive\", \"category\": \"Electronics\", \"price\": 129, \"quantity\": 1, \"details\": {\"brand\": \"Bose\", \"color\": \"Gray\"}}], \"order_status\": \"Pending\"}</td></tr><tr><td>{\"order_id\": 31, \"customer_id\": 4996, \"order_date\": \"2025-01-18\", \"transaction_timestamp\": \"2025-01-18 03:13:29\", \"total_amount\": 299, \"payment_method\": \"Bank Transfer\", \"items\": [{\"item_id\": 4, \"name\": \"Smartwatch\", \"category\": \"Electronics\", \"price\": 299, \"quantity\": 1, \"details\": {\"brand\": \"Dell\", \"color\": \"White\"}}], \"order_status\": \"Shipped\"}</td></tr><tr><td>{\"order_id\": 33, \"customer_id\": 9605, \"order_date\": \"2025-01-13\", \"transaction_timestamp\": \"2025-01-13 04:47:43\", \"total_amount\": 897, \"payment_method\": \"PayPal\", \"items\": [{\"item_id\": 4, \"name\": \"Smartwatch\", \"category\": \"Electronics\", \"price\": 299, \"quantity\": 3, \"details\": {\"brand\": \"Canon\", \"color\": \"White\"}}], \"order_status\": \"Completed\"}</td></tr><tr><td>{\"order_id\": 34, \"customer_id\": 9605, \"order_date\": \"2025-01-21\", \"transaction_timestamp\": \"2025-01-21 00:25:01\", \"total_amount\": 926, \"payment_method\": \"PayPal\", \"items\": [{\"item_id\": 6, \"name\": \"Bluetooth Speaker\", \"category\": \"Electronics\", \"price\": 149, \"quantity\": 2, \"details\": {\"brand\": \"Bose\", \"color\": \"Silver\"}}, {\"item_id\": 8, \"name\": \"Gaming Console\", \"category\": \"Electronics\", \"price\": 499, \"quantity\": 1, \"details\": {\"brand\": \"LG\", \"color\": \"Black\"}}, {\"item_id\": 7, \"name\": \"External Hard Drive\", \"category\": \"Electronics\", \"price\": 129, \"quantity\": 1, \"details\": {\"brand\": \"Samsung\", \"color\": \"Black\"}}], \"order_status\": \"Cancelled\"}</td></tr><tr><td>{\"order_id\": 40, \"customer_id\": 6384, \"order_date\": \"2025-01-20\", \"transaction_timestamp\": \"2025-01-20 16:18:35\", \"total_amount\": 298, \"payment_method\": \"PayPal\", \"items\": [{\"item_id\": 6, \"name\": \"Bluetooth Speaker\", \"category\": \"Electronics\", \"price\": 149, \"quantity\": 2, \"details\": {\"brand\": \"Bose\", \"color\": \"Silver\"}}], \"order_status\": \"Completed\"}</td></tr><tr><td>{\"order_id\": 41, \"customer_id\": 6384, \"order_date\": \"2025-01-05\", \"transaction_timestamp\": \"2025-01-05 06:10:22\", \"total_amount\": 999, \"payment_method\": \"Credit Card\", \"items\": [{\"item_id\": 2, \"name\": \"Laptop\", \"category\": \"Electronics\", \"price\": 999, \"quantity\": 1, \"details\": {\"brand\": \"Sony\", \"color\": \"Silver\"}}], \"order_status\": \"Shipped\"}</td></tr><tr><td>{\"order_id\": 43, \"customer_id\": 5028, \"order_date\": \"2025-01-24\", \"transaction_timestamp\": \"2025-01-24 18:10:37\", \"total_amount\": 499, \"payment_method\": \"PayPal\", \"items\": [{\"item_id\": 8, \"name\": \"Gaming Console\", \"category\": \"Electronics\", \"price\": 499, \"quantity\": 1, \"details\": {\"brand\": \"LG\", \"color\": \"Black\"}}], \"order_status\": \"Pending\"}</td></tr><tr><td>{\"order_id\": 50, \"customer_id\": 3712, \"order_date\": \"2025-01-11\", \"transaction_timestamp\": \"2025-01-11 01:19:09\", \"total_amount\": 746, \"payment_method\": \"Credit Card\", \"items\": [{\"item_id\": 6, \"name\": \"Bluetooth Speaker\", \"category\": \"Electronics\", \"price\": 149, \"quantity\": 3, \"details\": {\"brand\": \"Apple\", \"color\": \"Gray\"}}, {\"item_id\": 4, \"name\": \"Smartwatch\", \"category\": \"Electronics\", \"price\": 299, \"quantity\": 1, \"details\": {\"brand\": \"Sony\", \"color\": \"White\"}}], \"order_status\": \"Shipped\"}</td></tr><tr><td>{\"order_id\": 51, \"customer_id\": 8845, \"order_date\": \"2025-01-21\", \"transaction_timestamp\": \"2025-01-21 13:19:59\", \"total_amount\": 149, \"payment_method\": \"PayPal\", \"items\": [{\"item_id\": 6, \"name\": \"Bluetooth Speaker\", \"category\": \"Electronics\", \"price\": 149, \"quantity\": 1, \"details\": {\"brand\": \"Samsung\", \"color\": \"Gray\"}}], \"order_status\": \"Completed\"}</td></tr><tr><td>{\"order_id\": 53, \"customer_id\": 8845, \"order_date\": \"2025-01-21\", \"transaction_timestamp\": \"2025-01-21 08:31:02\", \"total_amount\": 199, \"payment_method\": \"Bank Transfer\", \"items\": [{\"item_id\": 3, \"name\": \"Wireless Headphones\", \"category\": \"Electronics\", \"price\": 199, \"quantity\": 1, \"details\": {\"brand\": \"Apple\", \"color\": \"Black\"}}], \"order_status\": \"Pending\"}</td></tr><tr><td>{\"order_id\": 56, \"customer_id\": 8580, \"order_date\": \"2025-01-01\", \"transaction_timestamp\": \"2025-01-01 12:02:41\", \"total_amount\": 698, \"payment_method\": \"PayPal\", \"items\": [{\"item_id\": 3, \"name\": \"Wireless Headphones\", \"category\": \"Electronics\", \"price\": 199, \"quantity\": 1, \"details\": {\"brand\": \"HP\", \"color\": \"Silver\"}}, {\"item_id\": 8, \"name\": \"Gaming Console\", \"category\": \"Electronics\", \"price\": 499, \"quantity\": 1, \"details\": {\"brand\": \"LG\", \"color\": \"Gray\"}}], \"order_status\": \"Cancelled\"}</td></tr><tr><td>{\"order_id\": 62, \"customer_id\": 7123, \"order_date\": \"2025-01-24\", \"transaction_timestamp\": \"2025-01-24 12:00:54\", \"total_amount\": 985, \"payment_method\": \"Bank Transfer\", \"items\": [{\"item_id\": 7, \"name\": \"External Hard Drive\", \"category\": \"Electronics\", \"price\": 129, \"quantity\": 3, \"details\": {\"brand\": \"Dell\", \"color\": \"White\"}}, {\"item_id\": 4, \"name\": \"Smartwatch\", \"category\": \"Electronics\", \"price\": 299, \"quantity\": 2, \"details\": {\"brand\": \"GoPro\", \"color\": \"Blue\"}}], \"order_status\": \"Completed\"}</td></tr><tr><td>{\"order_id\": 66, \"customer_id\": 3084, \"order_date\": \"2025-01-17\", \"transaction_timestamp\": \"2025-01-17 21:16:11\", \"total_amount\": 598, \"payment_method\": \"Credit Card\", \"items\": [{\"item_id\": 4, \"name\": \"Smartwatch\", \"category\": \"Electronics\", \"price\": 299, \"quantity\": 1, \"details\": {\"brand\": \"Bose\", \"color\": \"Silver\"}}, {\"item_id\": 4, \"name\": \"Smartwatch\", \"category\": \"Electronics\", \"price\": 299, \"quantity\": 1, \"details\": {\"brand\": \"GoPro\", \"color\": \"White\"}}], \"order_status\": \"Cancelled\"}</td></tr><tr><td>{\"order_id\": 68, \"customer_id\": 4973, \"order_date\": \"2025-01-10\", \"transaction_timestamp\": \"2025-01-10 20:35:43\", \"total_amount\": 149, \"payment_method\": \"Bank Transfer\", \"items\": [{\"item_id\": 6, \"name\": \"Bluetooth Speaker\", \"category\": \"Electronics\", \"price\": 149, \"quantity\": 1, \"details\": {\"brand\": \"Bose\", \"color\": \"Gray\"}}], \"order_status\": \"Completed\"}</td></tr><tr><td>{\"order_id\": 73, \"customer_id\": 6167, \"order_date\": \"2025-01-07\", \"transaction_timestamp\": \"2025-01-07 01:02:26\", \"total_amount\": 387, \"payment_method\": \"Credit Card\", \"items\": [{\"item_id\": 7, \"name\": \"External Hard Drive\", \"category\": \"Electronics\", \"price\": 129, \"quantity\": 3, \"details\": {\"brand\": \"GoPro\", \"color\": \"Gray\"}}, {\"item_id\": 7, \"name\": \"External Hard Drive\", \"category\": \"Electronics\", \"price\": 129, \"quantity\": 3, \"details\": {\"brand\": \"GoPro\", \"color\": \"Gray\"}}], \"order_status\": \"Shipped\"}</td></tr><tr><td>{\"order_id\": 75, \"customer_id\": 6167, \"order_date\": \"2025-01-19\", \"transaction_timestamp\": \"2025-01-19 16:23:16\", \"total_amount\": 699, \"payment_method\": \"Credit Card\", \"items\": [{\"item_id\": 1, \"name\": \"Smartphone\", \"category\": \"Electronics\", \"price\": 699, \"quantity\": 1, \"details\": {\"brand\": \"GoPro\", \"color\": \"White\"}}], \"order_status\": \"Shipped\"}</td></tr><tr><td>{\"order_id\": 76, \"customer_id\": 3295, \"order_date\": \"2025-01-06\", \"transaction_timestamp\": \"2025-01-06 02:54:39\", \"total_amount\": 399, \"payment_method\": \"Bank Transfer\", \"items\": [{\"item_id\": 5, \"name\": \"Tablet\", \"category\": \"Electronics\", \"price\": 399, \"quantity\": 1, \"details\": {\"brand\": \"Microsoft\", \"color\": \"Silver\"}}], \"order_status\": \"Completed\"}</td></tr><tr><td>{\"order_id\": 78, \"customer_id\": 9084, \"order_date\": \"2025-01-21\", \"transaction_timestamp\": \"2025-01-21 11:42:51\", \"total_amount\": 798, \"payment_method\": \"PayPal\", \"items\": [{\"item_id\": 5, \"name\": \"Tablet\", \"category\": \"Electronics\", \"price\": 399, \"quantity\": 2, \"details\": {\"brand\": \"Dell\", \"color\": \"White\"}}], \"order_status\": \"Cancelled\"}</td></tr><tr><td>{\"order_id\": 79, \"customer_id\": 9084, \"order_date\": \"2025-01-25\", \"transaction_timestamp\": \"2025-01-25 03:52:05\", \"total_amount\": 998, \"payment_method\": \"Credit Card\", \"items\": [{\"item_id\": 8, \"name\": \"Gaming Console\", \"category\": \"Electronics\", \"price\": 499, \"quantity\": 2, \"details\": {\"brand\": \"Dell\", \"color\": \"Gray\"}}], \"order_status\": \"Cancelled\"}</td></tr><tr><td>{\"order_id\": 83, \"customer_id\": 2344, \"order_date\": \"2025-01-07\", \"transaction_timestamp\": \"2025-01-07 12:48:05\", \"total_amount\": 785, \"payment_method\": \"PayPal\", \"items\": [{\"item_id\": 7, \"name\": \"External Hard Drive\", \"category\": \"Electronics\", \"price\": 129, \"quantity\": 3, \"details\": {\"brand\": \"Canon\", \"color\": \"Gray\"}}, {\"item_id\": 3, \"name\": \"Wireless Headphones\", \"category\": \"Electronics\", \"price\": 199, \"quantity\": 2, \"details\": {\"brand\": \"Sony\", \"color\": \"Black\"}}], \"order_status\": \"Shipped\"}</td></tr><tr><td>{\"order_id\": 87, \"customer_id\": 2141, \"order_date\": \"2025-01-02\", \"transaction_timestamp\": \"2025-01-02 04:28:38\", \"total_amount\": 129, \"payment_method\": \"PayPal\", \"items\": [{\"item_id\": 7, \"name\": \"External Hard Drive\", \"category\": \"Electronics\", \"price\": 129, \"quantity\": 1, \"details\": {\"brand\": \"Apple\", \"color\": \"Blue\"}}], \"order_status\": \"Pending\"}</td></tr><tr><td>{\"order_id\": 90, \"customer_id\": 9247, \"order_date\": \"2025-01-17\", \"transaction_timestamp\": \"2025-01-17 14:30:54\", \"total_amount\": 258, \"payment_method\": \"Credit Card\", \"items\": [{\"item_id\": 7, \"name\": \"External Hard Drive\", \"category\": \"Electronics\", \"price\": 129, \"quantity\": 1, \"details\": {\"brand\": \"Canon\", \"color\": \"White\"}}, {\"item_id\": 7, \"name\": \"External Hard Drive\", \"category\": \"Electronics\", \"price\": 129, \"quantity\": 1, \"details\": {\"brand\": \"Samsung\", \"color\": \"Black\"}}], \"order_status\": \"Pending\"}</td></tr><tr><td>{\"order_id\": 94, \"customer_id\": 6627, \"order_date\": \"2025-01-10\", \"transaction_timestamp\": \"2025-01-10 09:51:48\", \"total_amount\": 895, \"payment_method\": \"Credit Card\", \"items\": [{\"item_id\": 6, \"name\": \"Bluetooth Speaker\", \"category\": \"Electronics\", \"price\": 149, \"quantity\": 2, \"details\": {\"brand\": \"Sony\", \"color\": \"Black\"}}, {\"item_id\": 3, \"name\": \"Wireless Headphones\", \"category\": \"Electronics\", \"price\": 199, \"quantity\": 3, \"details\": {\"brand\": \"Apple\", \"color\": \"Blue\"}}], \"order_status\": \"Pending\"}</td></tr><tr><td>{\"order_id\": 98, \"customer_id\": 9150, \"order_date\": \"2025-01-08\", \"transaction_timestamp\": \"2025-01-08 05:57:55\", \"total_amount\": 985, \"payment_method\": \"Credit Card\", \"items\": [{\"item_id\": 7, \"name\": \"External Hard Drive\", \"category\": \"Electronics\", \"price\": 129, \"quantity\": 3, \"details\": {\"brand\": \"HP\", \"color\": \"Blue\"}}, {\"item_id\": 4, \"name\": \"Smartwatch\", \"category\": \"Electronics\", \"price\": 299, \"quantity\": 2, \"details\": {\"brand\": \"Samsung\", \"color\": \"Gray\"}}], \"order_status\": \"Completed\"}</td></tr><tr><td>{\"order_id\": 99, \"customer_id\": 9150, \"order_date\": \"2025-01-10\", \"transaction_timestamp\": \"2025-01-10 21:43:46\", \"total_amount\": 699, \"payment_method\": \"Credit Card\", \"items\": [{\"item_id\": 1, \"name\": \"Smartphone\", \"category\": \"Electronics\", \"price\": 699, \"quantity\": 1, \"details\": {\"brand\": \"Bose\", \"color\": \"Gray\"}}], \"order_status\": \"Shipped\"}</td></tr><tr><td>{\"order_id\": 100, \"customer_id\": 9150, \"order_date\": \"2025-01-04\", \"transaction_timestamp\": \"2025-01-04 06:40:13\", \"total_amount\": 447, \"payment_method\": \"PayPal\", \"items\": [{\"item_id\": 6, \"name\": \"Bluetooth Speaker\", \"category\": \"Electronics\", \"price\": 149, \"quantity\": 3, \"details\": {\"brand\": \"LG\", \"color\": \"Silver\"}}], \"order_status\": \"Shipped\"}</td></tr><tr><td>{\"order_id\": 12, \"customer_id\": 5816, \"order_date\": \"2024-12-06\", \"transaction_timestamp\": \"2024-12-06 20:26:49\", \"total_amount\": 999, \"payment_method\": \"PayPal\", \"items\": [{\"item_id\": 2, \"name\": \"Laptop\", \"category\": \"Electronics\", \"price\": 999, \"quantity\": 1, \"details\": {\"brand\": \"Sony\", \"color\": \"White\"}}], \"order_status\": \"Cancelled\"}</td></tr><tr><td>{\"order_id\": 13, \"customer_id\": 4858, \"order_date\": \"2024-12-17\", \"transaction_timestamp\": \"2024-12-17 03:41:37\", \"total_amount\": 999, \"payment_method\": \"PayPal\", \"items\": [{\"item_id\": 2, \"name\": \"Laptop\", \"category\": \"Electronics\", \"price\": 999, \"quantity\": 1, \"details\": {\"brand\": \"GoPro\", \"color\": \"Black\"}}], \"order_status\": \"Pending\"}</td></tr><tr><td>{\"order_id\": 16, \"customer_id\": 5204, \"order_date\": \"2024-12-08\", \"transaction_timestamp\": \"2024-12-08 22:59:48\", \"total_amount\": 597, \"payment_method\": \"Bank Transfer\", \"items\": [{\"item_id\": 3, \"name\": \"Wireless Headphones\", \"category\": \"Electronics\", \"price\": 199, \"quantity\": 3, \"details\": {\"brand\": \"Sony\", \"color\": \"Silver\"}}], \"order_status\": \"Pending\"}</td></tr><tr><td>{\"order_id\": 17, \"customer_id\": 5204, \"order_date\": \"2024-12-02\", \"transaction_timestamp\": \"2024-12-02 12:00:50\", \"total_amount\": 998, \"payment_method\": \"Bank Transfer\", \"items\": [{\"item_id\": 8, \"name\": \"Gaming Console\", \"category\": \"Electronics\", \"price\": 499, \"quantity\": 2, \"details\": {\"brand\": \"Dell\", \"color\": \"Black\"}}], \"order_status\": \"Pending\"}</td></tr><tr><td>{\"order_id\": 24, \"customer_id\": 1211, \"order_date\": \"2024-12-21\", \"transaction_timestamp\": \"2024-12-21 03:24:26\", \"total_amount\": 1199, \"payment_method\": \"PayPal\", \"items\": [{\"item_id\": 9, \"name\": \"Smart TV\", \"category\": \"Electronics\", \"price\": 1199, \"quantity\": 1, \"details\": {\"brand\": \"GoPro\", \"color\": \"Gray\"}}], \"order_status\": \"Completed\"}</td></tr><tr><td>{\"order_id\": 27, \"customer_id\": 2703, \"order_date\": \"2024-12-02\", \"transaction_timestamp\": \"2024-12-02 11:24:21\", \"total_amount\": 904, \"payment_method\": \"Credit Card\", \"items\": [{\"item_id\": 7, \"name\": \"External Hard Drive\", \"category\": \"Electronics\", \"price\": 129, \"quantity\": 2, \"details\": {\"brand\": \"Dell\", \"color\": \"White\"}}, {\"item_id\": 6, \"name\": \"Bluetooth Speaker\", \"category\": \"Electronics\", \"price\": 149, \"quantity\": 3, \"details\": {\"brand\": \"Canon\", \"color\": \"Black\"}}, {\"item_id\": 3, \"name\": \"Wireless Headphones\", \"category\": \"Electronics\", \"price\": 199, \"quantity\": 1, \"details\": {\"brand\": \"Microsoft\", \"color\": \"Silver\"}}], \"order_status\": \"Completed\"}</td></tr><tr><td>{\"order_id\": 28, \"customer_id\": 2703, \"order_date\": \"2024-12-26\", \"transaction_timestamp\": \"2024-12-26 03:17:50\", \"total_amount\": 129, \"payment_method\": \"Credit Card\", \"items\": [{\"item_id\": 7, \"name\": \"External Hard Drive\", \"category\": \"Electronics\", \"price\": 129, \"quantity\": 1, \"details\": {\"brand\": \"GoPro\", \"color\": \"Blue\"}}], \"order_status\": \"Cancelled\"}</td></tr><tr><td>{\"order_id\": 32, \"customer_id\": 4996, \"order_date\": \"2024-12-28\", \"transaction_timestamp\": \"2024-12-28 08:55:57\", \"total_amount\": 399, \"payment_method\": \"PayPal\", \"items\": [{\"item_id\": 5, \"name\": \"Tablet\", \"category\": \"Electronics\", \"price\": 399, \"quantity\": 1, \"details\": {\"brand\": \"Apple\", \"color\": \"Silver\"}}], \"order_status\": \"Pending\"}</td></tr><tr><td>{\"order_id\": 37, \"customer_id\": 7829, \"order_date\": \"2024-12-22\", \"transaction_timestamp\": \"2024-12-22 10:11:49\", \"total_amount\": 258, \"payment_method\": \"Credit Card\", \"items\": [{\"item_id\": 7, \"name\": \"External Hard Drive\", \"category\": \"Electronics\", \"price\": 129, \"quantity\": 2, \"details\": {\"brand\": \"HP\", \"color\": \"Silver\"}}], \"order_status\": \"Shipped\"}</td></tr><tr><td>{\"order_id\": 38, \"customer_id\": 7829, \"order_date\": \"2024-12-25\", \"transaction_timestamp\": \"2024-12-25 22:05:19\", \"total_amount\": 447, \"payment_method\": \"Credit Card\", \"items\": [{\"item_id\": 6, \"name\": \"Bluetooth Speaker\", \"category\": \"Electronics\", \"price\": 149, \"quantity\": 3, \"details\": {\"brand\": \"Apple\", \"color\": \"Gray\"}}], \"order_status\": \"Shipped\"}</td></tr><tr><td>{\"order_id\": 44, \"customer_id\": 7295, \"order_date\": \"2024-12-20\", \"transaction_timestamp\": \"2024-12-20 08:05:43\", \"total_amount\": 129, \"payment_method\": \"Credit Card\", \"items\": [{\"item_id\": 7, \"name\": \"External Hard Drive\", \"category\": \"Electronics\", \"price\": 129, \"quantity\": 1, \"details\": {\"brand\": \"Bose\", \"color\": \"Blue\"}}], \"order_status\": \"Completed\"}</td></tr><tr><td>{\"order_id\": 49, \"customer_id\": 7803, \"order_date\": \"2024-12-07\", \"transaction_timestamp\": \"2024-12-07 23:24:11\", \"total_amount\": 747, \"payment_method\": \"PayPal\", \"items\": [{\"item_id\": 4, \"name\": \"Smartwatch\", \"category\": \"Electronics\", \"price\": 299, \"quantity\": 1, \"details\": {\"brand\": \"HP\", \"color\": \"White\"}}, {\"item_id\": 4, \"name\": \"Smartwatch\", \"category\": \"Electronics\", \"price\": 299, \"quantity\": 1, \"details\": {\"brand\": \"Canon\", \"color\": \"Blue\"}}, {\"item_id\": 6, \"name\": \"Bluetooth Speaker\", \"category\": \"Electronics\", \"price\": 149, \"quantity\": 1, \"details\": {\"brand\": \"Samsung\", \"color\": \"White\"}}], \"order_status\": \"Cancelled\"}</td></tr><tr><td>{\"order_id\": 54, \"customer_id\": 2054, \"order_date\": \"2024-12-20\", \"transaction_timestamp\": \"2024-12-20 12:04:27\", \"total_amount\": 398, \"payment_method\": \"Credit Card\", \"items\": [{\"item_id\": 3, \"name\": \"Wireless Headphones\", \"category\": \"Electronics\", \"price\": 199, \"quantity\": 2, \"details\": {\"brand\": \"Bose\", \"color\": \"Gray\"}}], \"order_status\": \"Pending\"}</td></tr><tr><td>{\"order_id\": 58, \"customer_id\": 8580, \"order_date\": \"2024-12-09\", \"transaction_timestamp\": \"2024-12-09 22:40:58\", \"total_amount\": 699, \"payment_method\": \"PayPal\", \"items\": [{\"item_id\": 1, \"name\": \"Smartphone\", \"category\": \"Electronics\", \"price\": 699, \"quantity\": 1, \"details\": {\"brand\": \"Microsoft\", \"color\": \"Gray\"}}], \"order_status\": \"Completed\"}</td></tr><tr><td>{\"order_id\": 60, \"customer_id\": 3409, \"order_date\": \"2024-12-13\", \"transaction_timestamp\": \"2024-12-13 13:10:12\", \"total_amount\": 199, \"payment_method\": \"Bank Transfer\", \"items\": [{\"item_id\": 3, \"name\": \"Wireless Headphones\", \"category\": \"Electronics\", \"price\": 199, \"quantity\": 1, \"details\": {\"brand\": \"Samsung\", \"color\": \"Blue\"}}], \"order_status\": \"Shipped\"}</td></tr><tr><td>{\"order_id\": 61, \"customer_id\": 7123, \"order_date\": \"2024-12-07\", \"transaction_timestamp\": \"2024-12-07 07:47:19\", \"total_amount\": 699, \"payment_method\": \"Bank Transfer\", \"items\": [{\"item_id\": 1, \"name\": \"Smartphone\", \"category\": \"Electronics\", \"price\": 699, \"quantity\": 1, \"details\": {\"brand\": \"Canon\", \"color\": \"Black\"}}], \"order_status\": \"Completed\"}</td></tr><tr><td>{\"order_id\": 65, \"customer_id\": 3084, \"order_date\": \"2024-12-09\", \"transaction_timestamp\": \"2024-12-09 13:04:13\", \"total_amount\": 399, \"payment_method\": \"Bank Transfer\", \"items\": [{\"item_id\": 5, \"name\": \"Tablet\", \"category\": \"Electronics\", \"price\": 399, \"quantity\": 1, \"details\": {\"brand\": \"Microsoft\", \"color\": \"Gray\"}}], \"order_status\": \"Cancelled\"}</td></tr><tr><td>{\"order_id\": 67, \"customer_id\": 3084, \"order_date\": \"2024-12-19\", \"transaction_timestamp\": \"2024-12-19 07:11:09\", \"total_amount\": 897, \"payment_method\": \"PayPal\", \"items\": [{\"item_id\": 4, \"name\": \"Smartwatch\", \"category\": \"Electronics\", \"price\": 299, \"quantity\": 3, \"details\": {\"brand\": \"LG\", \"color\": \"Blue\"}}], \"order_status\": \"Shipped\"}</td></tr><tr><td>{\"order_id\": 69, \"customer_id\": 4973, \"order_date\": \"2024-12-30\", \"transaction_timestamp\": \"2024-12-30 02:42:01\", \"total_amount\": 699, \"payment_method\": \"Bank Transfer\", \"items\": [{\"item_id\": 1, \"name\": \"Smartphone\", \"category\": \"Electronics\", \"price\": 699, \"quantity\": 1, \"details\": {\"brand\": \"Dell\", \"color\": \"Gray\"}}], \"order_status\": \"Completed\"}</td></tr><tr><td>{\"order_id\": 70, \"customer_id\": 7997, \"order_date\": \"2024-12-04\", \"transaction_timestamp\": \"2024-12-04 17:17:24\", \"total_amount\": 897, \"payment_method\": \"PayPal\", \"items\": [{\"item_id\": 4, \"name\": \"Smartwatch\", \"category\": \"Electronics\", \"price\": 299, \"quantity\": 3, \"details\": {\"brand\": \"Sony\", \"color\": \"Black\"}}], \"order_status\": \"Shipped\"}</td></tr><tr><td>{\"order_id\": 71, \"customer_id\": 7997, \"order_date\": 2024-12-27, \"transaction_timestamp\": \"2024-12-27 11:16:39\", \"total_amount\": 199, \"payment_method\": \"Bank Transfer\", \"items\": [{\"item_id\": 3, \"name\": \"Wireless Headphones\", \"category\": \"Electronics\", \"price\": 199, \"quantity\": 1, \"details\": {\"brand\": \"Microsoft\", \"color\": \"Black\"}}], \"order_status\": \"Completed\"}</td></tr><tr><td>{\"order_id\": 74, \"customer_id\": 6167, \"order_date\": \"2024-12-22\", \"transaction_timestamp\": \"2024-12-22 15:54:11\", \"total_amount\": 699, \"payment_method\": \"PayPal\", \"items\": [{\"item_id\": 1, \"name\": \"Smartphone\", \"category\": \"Electronics\", \"price\": 699, \"quantity\": 1, \"details\": {\"brand\": \"Samsung\", \"color\": \"Blue\"}}], \"order_status\": \"Pending\"}</td></tr><tr><td>{\"order_id\": 80, \"customer_id\": 9687, \"order_date\": \"2024-12-11\", \"transaction_timestamp\": \"2024-12-11 07:43:54\", \"total_amount\": 998, \"payment_method\": \"Bank Transfer\", \"items\": [{\"item_id\": 8, \"name\": \"Gaming Console\", \"category\": \"Electronics\", \"price\": 499, \"quantity\": 2, \"details\": {\"brand\": \"Samsung\", \"color\": \"White\"}}], \"order_status\": \"Cancelled\"}</td></tr><tr><td>{\"order_id\": 81, \"customer_id\": 9687, \"order_date\": \"2024-12-27\", \"transaction_timestamp\": \"2024-12-27 02:27:45\", \"total_amount\": 699, \"payment_method\": \"PayPal\", \"items\": [{\"item_id\": 1, \"name\": \"Smartphone\", \"category\": \"Electronics\", \"price\": 699, \"quantity\": 1, \"details\": {\"brand\": \"GoPro\", \"color\": \"Blue\"}}], \"order_status\": \"Completed\"}</td></tr><tr><td>{\"order_id\": 82, \"customer_id\": 2344, \"order_date\": \"2024-12-28\", \"transaction_timestamp\": \"2024-12-28 00:54:08\", \"total_amount\": 387, \"payment_method\": \"PayPal\", \"items\": [{\"item_id\": 7, \"name\": \"External Hard Drive\", \"category\": \"Electronics\", \"price\": 129, \"quantity\": 3, \"details\": {\"brand\": \"Sony\", \"color\": \"Blue\"}}], \"order_status\": \"Completed\"}</td></tr><tr><td>{\"order_id\": 91, \"customer_id\": 5592, \"order_date\": \"2024-12-17\", \"transaction_timestamp\": \"2024-12-17 00:09:53\", \"total_amount\": 699, \"payment_method\": \"Bank Transfer\", \"items\": [{\"item_id\": 1, \"name\": \"Smartphone\", \"category\": \"Electronics\", \"price\": 699, \"quantity\": 1, \"details\": {\"brand\": \"Canon\", \"color\": \"Silver\"}}], \"order_status\": \"Cancelled\"}</td></tr><tr><td>{\"order_id\": 93, \"customer_id\": 6627, \"order_date\": \"2024-12-22\", \"transaction_timestamp\": \"2024-12-22 05:07:46\", \"total_amount\": 598, \"payment_method\": \"PayPal\", \"items\": [{\"item_id\": 4, \"name\": \"Smartwatch\", \"category\": \"Electronics\", \"price\": 299, \"quantity\": 2, \"details\": {\"brand\": \"LG\", \"color\": \"Silver\"}}], \"order_status\": \"Pending\"}</td></tr><tr><td>{\"order_id\": 95, \"customer_id\": 6627, \"order_date\": \"2024-12-28\", \"transaction_timestamp\": \"2024-12-28 04:28:30\", \"total_amount\": 946, \"payment_method\": \"Bank Transfer\", \"items\": [{\"item_id\": 4, \"name\": \"Smartwatch\", \"category\": \"Electronics\", \"price\": 299, \"quantity\": 2, \"details\": {\"brand\": \"GoPro\", \"color\": \"White\"}}, {\"item_id\": 3, \"name\": \"Wireless Headphones\", \"category\": \"Electronics\", \"price\": 199, \"quantity\": 1, \"details\": {\"brand\": \"Bose\", \"color\": \"Gray\"}}, {\"item_id\": 6, \"name\": \"Bluetooth Speaker\", \"category\": \"Electronics\", \"price\": 149, \"quantity\": 1, \"details\": {\"brand\": \"Dell\", \"color\": \"Silver\"}}], \"order_status\": \"Completed\"}</td></tr><tr><td>{\"order_id\": 96, \"customer_id\": 6406, \"order_date\": \"2024-12-02\", \"transaction_timestamp\": \"2024-12-02 12:27:45\", \"total_amount\": 149, \"payment_method\": \"PayPal\", \"items\": [{\"item_id\": 6, \"name\": \"Bluetooth Speaker\", \"category\": \"Electronics\", \"price\": 149, \"quantity\": 1, \"details\": {\"brand\": \"Microsoft\", \"color\": \"Black\"}}], \"order_status\": \"Shipped\"}</td></tr><tr><td>{\"order_id\": 97, \"customer_id\": 6406, \"order_date\": \"2024-12-07\", \"transaction_timestamp\": \"2024-12-07 16:14:34\", \"total_amount\": 499, \"payment_method\": \"Bank Transfer\", \"items\": [{\"item_id\": 8, \"name\": \"Gaming Console\", \"category\": \"Electronics\", \"price\": 499, \"quantity\": 1, \"details\": {\"brand\": \"Sony\", \"color\": \"Silver\"}}], \"order_status\": \"Completed\"}</td></tr><tr><td>{\"order_id\": 5, \"customer_id\": 3892, \"order_date\": \"2024-11-16\", \"transaction_timestamp\": \"2024-11-16 23:07:31\", \"total_amount\": 998, \"payment_method\": \"Bank Transfer\", \"items\": [{\"item_id\": 8, \"name\": \"Gaming Console\", \"category\": \"Electronics\", \"price\": 499, \"quantity\": 2, \"details\": {\"brand\": \"Dell\", \"color\": \"Blue\"}}], \"order_status\": \"Cancelled\"}</td></tr><tr><td>{\"order_id\": 7, \"customer_id\": 1987, \"order_date\": \"2024-11-19\", \"transaction_timestamp\": \"2024-11-19 19:18:48\", \"total_amount\": 645, \"payment_method\": \"Credit Card\", \"items\": [{\"item_id\": 7, \"name\": \"External Hard Drive\", \"category\": \"Electronics\", \"price\": 129, \"quantity\": 2, \"details\": {\"brand\": \"LG\", \"color\": \"Blue\"}}, {\"item_id\": 7, \"name\": \"External Hard Drive\", \"category\": \"Electronics\", \"price\": 129, \"quantity\": 3, \"details\": {\"brand\": \"HP\", \"color\": \"Gray\"}}], \"order_status\": \"Pending\"}</td></tr><tr><td>{\"order_id\": 9, \"customer_id\": 9179, \"order_date\": \"2024-11-27\", \"transaction_timestamp\": \"2024-11-27 13:15:29\", \"total_amount\": 999, \"payment_method\": \"Bank Transfer\", \"items\": [{\"item_id\": 2, \"name\": \"Laptop\", \"category\": \"Electronics\", \"price\": 999, \"quantity\": 1, \"details\": {\"brand\": \"Apple\", \"color\": \"Black\"}}], \"order_status\": \"Shipped\"}</td></tr><tr><td>{\"order_id\": 20, \"customer_id\": 8539, \"order_date\": \"2024-11-18\", \"transaction_timestamp\": \"2024-11-18 02:38:21\", \"total_amount\": 798, \"payment_method\": \"PayPal\", \"items\": [{\"item_id\": 5, \"name\": \"Tablet\", \"category\": \"Electronics\", \"price\": 399, \"quantity\": 2, \"details\": {\"brand\": \"Sony\", \"color\": \"Silver\"}}], \"order_status\": \"Pending\"}</td></tr><tr><td>{\"order_id\": 21, \"customer_id\": 8539, \"order_date\": \"2024-11-21\", \"transaction_timestamp\": \"2024-11-21 11:25:35\", \"total_amount\": 298, \"payment_method\": \"Bank Transfer\", \"items\": [{\"item_id\": 6, \"name\": \"Bluetooth Speaker\", \"category\": \"Electronics\", \"price\": 149, \"quantity\": 2, \"details\": {\"brand\": \"GoPro\", \"color\": \"Blue\"}}], \"order_status\": \"Cancelled\"}</td></tr><tr><td>{\"order_id\": 23, \"customer_id\": 4761, \"order_date\": \"2024-11-22\", \"transaction_timestamp\": \"2024-11-22 16:04:05\", \"total_amount\": 997, \"payment_method\": \"PayPal\", \"items\": [{\"item_id\": 5, \"name\": \"Tablet\", \"category\": \"Electronics\", \"price\": 399, \"quantity\": 1, \"details\": {\"brand\": \"Apple\", \"color\": \"Gray\"}}, {\"item_id\": 4, \"name\": \"Smartwatch\", \"category\": \"Electronics\", \"price\": 299, \"quantity\": 2, \"details\": {\"brand\": \"Dell\", \"color\": \"Gray\"}}], \"order_status\": \"Shipped\"}</td></tr><tr><td>{\"order_id\": 25, \"customer_id\": 9706, \"order_date\": \"2024-11-05\", \"transaction_timestamp\": \"2024-11-05 11:45:31\", \"total_amount\": 999, \"payment_method\": \"PayPal\", \"items\": [{\"item_id\": 2, \"name\": \"Laptop\", \"category\": \"Electronics\", \"price\": 999, \"quantity\": 1, \"details\": {\"brand\": \"LG\", \"color\": \"Gray\"}}], \"order_status\": \"Completed\"}</td></tr><tr><td>{\"order_id\": 30, \"customer_id\": 4996, \"order_date\": \"2024-11-12\", \"transaction_timestamp\": \"2024-11-12 03:20:29\", \"total_amount\": 199, \"payment_method\": \"Bank Transfer\", \"items\": [{\"item_id\": 3, \"name\": \"Wireless Headphones\", \"category\": \"Electronics\", \"price\": 199, \"quantity\": 1, \"details\": {\"brand\": \"GoPro\", \"color\": \"White\"}}], \"order_status\": \"Shipped\"}</td></tr><tr><td>{\"order_id\": 35, \"customer_id\": 4914, \"order_date\": \"2024-11-20\", \"transaction_timestamp\": \"2024-11-20 19:09:04\", \"total_amount\": 199, \"payment_method\": \"Bank Transfer\", \"items\": [{\"item_id\": 3, \"name\": \"Wireless Headphones\", \"category\": \"Electronics\", \"price\": 199, \"quantity\": 1, \"details\": {\"brand\": \"Dell\", \"color\": \"Gray\"}}], \"order_status\": \"Shipped\"}</td></tr><tr><td>{\"order_id\": 36, \"customer_id\": 4914, \"order_date\": \"2024-11-02\", \"transaction_timestamp\": \"2024-11-02 10:39:46\", \"total_amount\": 199, \"payment_method\": \"PayPal\", \"items\": [{\"item_id\": 3, \"name\": \"Wireless Headphones\", \"category\": \"Electronics\", \"price\": 199, \"quantity\": 1, \"details\": {\"brand\": \"Canon\", \"color\": \"Silver\"}}], \"order_status\": \"Completed\"}</td></tr><tr><td>{\"order_id\": 42, \"customer_id\": 5028, \"order_date\": 2024-11-08, \"transaction_timestamp\": \"2024-11-08 18:32:25\", \"total_amount\": 149, \"payment_method\": \"Credit Card\", \"items\": [{\"item_id\": 6, \"name\": \"Bluetooth Speaker\", \"category\": \"Electronics\", \"price\": 149, \"quantity\": 1, \"details\": {\"brand\": \"Bose\", \"color\": \"Gray\"}}], \"order_status\": \"Completed\"}</td></tr><tr><td>{\"order_id\": 45, \"customer_id\": 7295, \"order_date\": \"2024-11-07\", \"transaction_timestamp\": \"2024-11-07 15:41:43\", \"total_amount\": 799, \"payment_method\": \"Credit Card\", \"items\": [{\"item_id\": 10, \"name\": \"Drone\", \"category\": \"Electronics\", \"price\": 799, \"quantity\": 1, \"details\": {\"brand\": \"Dell\", \"color\": \"White\"}}], \"order_status\": \"Shipped\"}</td></tr><tr><td>{\"order_id\": 46, \"customer_id\": 7295, \"order_date\": \"2024-11-26\", \"transaction_timestamp\": \"2024-11-26 17:16:53\", \"total_amount\": 199, \"payment_method\": \"PayPal\", \"items\": [{\"item_id\": 3, \"name\": \"Wireless Headphones\", \"category\": \"Electronics\", \"price\": 199, \"quantity\": 1, \"details\": {\"brand\": \"Samsung\", \"color\": \"Black\"}}], \"order_status\": \"Pending\"}</td></tr><tr><td>{\"order_id\": 47, \"customer_id\": 7803, \"order_date\": \"2024-11-22\", \"transaction_timestamp\": \"2024-11-22 02:01:19\", \"total_amount\": 298, \"payment_method\": \"Credit Card\", \"items\": [{\"item_id\": 6, \"name\": \"Bluetooth Speaker\", \"category\": \"Electronics\", \"price\": 149, \"quantity\": 2, \"details\": {\"brand\": \"LG\", \"color\": \"Blue\"}}], \"order_status\": \"Shipped\"}</td></tr><tr><td>{\"order_id\": 48, \"customer_id\": 7803, \"order_date\": \"2024-11-13\", \"transaction_timestamp\": \"2024-11-13 06:35:56\", \"total_amount\": 387, \"payment_method\": \"PayPal\", \"items\": [{\"item_id\": 7, \"name\": \"External Hard Drive\", \"category\": \"Electronics\", \"price\": 129, \"quantity\": 3, \"details\": {\"brand\": \"Apple\", \"color\": \"Black\"}}], \"order_status\": \"Completed\"}</td></tr><tr><td>{\"order_id\": 52, \"customer_id\": 8845, \"order_date\": \"2024-11-19\", \"transaction_timestamp\": \"2024-11-19 21:23:45\", \"total_amount\": 998, \"payment_method\": \"PayPal\", \"items\": [{\"item_id\": 8, \"name\": \"Gaming Console\", \"category\": \"Electronics\", \"price\": 499, \"quantity\": 2, \"details\": {\"brand\": \"GoPro\", \"color\": \"White\"}}], \"order_status\": \"Completed\"}</td></tr><tr><td>{\"order_id\": 57, \"customer_id\": 8580, \"order_date\": \"2024-11-19\", \"transaction_timestamp\": \"2024-11-19 11:32:44\", \"total_amount\": 586, \"payment_method\": \"Bank Transfer\", \"items\": [{\"item_id\": 3, \"name\": \"Wireless Headphones\", \"category\": \"Electronics\", \"price\": 199, \"quantity\": 1, \"details\": {\"brand\": \"HP\", \"color\": \"Silver\"}}, {\"item_id\": 7, \"name\": \"External Hard Drive\", \"category\": \"Electronics\", \"price\": 129, \"quantity\": 3, \"details\": {\"brand\": \"Sony\", \"color\": \"Silver\"}}], \"order_status\": \"Cancelled\"}</td></tr><tr><td>{\"order_id\": 63, \"customer_id\": 7123, \"order_date\": \"2024-11-24\", \"transaction_timestamp\": \"2024-11-24 08:41:28\", \"total_amount\": 646, \"payment_method\": \"Bank Transfer\", \"items\": [{\"item_id\": 3, \"name\": \"Wireless Headphones\", \"category\": \"Electronics\", \"price\": 199, \"quantity\": 1, \"details\": {\"brand\": \"GoPro\", \"color\": \"Blue\"}}, {\"item_id\": 6, \"name\": \"Bluetooth Speaker\", \"category\": \"Electronics\", \"price\": 149, \"quantity\": 3, \"details\": {\"brand\": \"Bose\", \"color\": \"Silver\"}}], \"order_status\": \"Cancelled\"}</td></tr><tr><td>{\"order_id\": 64, \"customer_id\": 2639, \"order_date\": \"2024-11-28\", \"transaction_timestamp\": \"2024-11-28 12:23:21\", \"total_amount\": 984, \"payment_method\": \"Bank Transfer\", \"items\": [{\"item_id\": 7, \"name\": \"External Hard Drive\", \"category\": \"Electronics\", \"price\": 129, \"quantity\": 3, \"details\": {\"brand\": \"Microsoft\", \"color\": \"White\"}}, {\"item_id\": 3, \"name\": \"Wireless Headphones\", \"category\": \"Electronics\", \"price\": 199, \"quantity\": 3, \"details\": {\"brand\": \"Canon\", \"color\": \"Blue\"}}], \"order_status\": \"Completed\"}</td></tr><tr><td>{\"order_id\": 88, \"customer_id\": 9247, \"order_date\": \"2024-11-15\", \"transaction_timestamp\": \"2024-11-15 11:39:44\", \"total_amount\": 387, \"payment_method\": \"Bank Transfer\", \"items\": [{\"item_id\": 7, \"name\": \"External Hard Drive\", \"category\": \"Electronics\", \"price\": 129, \"quantity\": 3, \"details\": {\"brand\": \"Bose\", \"color\": \"White\"}}], \"order_status\": \"Cancelled\"}</td></tr><tr><td>{\"order_id\": 89, \"customer_id\": 9247, \"order_date\": \"2024-11-22\", \"transaction_timestamp\": \"2024-11-22 12:09:15\", \"total_amount\": 149, \"payment_method\": \"Bank Transfer\", \"items\": [{\"item_id\": 6, \"name\": \"Bluetooth Speaker\", \"category\": \"Electronics\", \"price\": 149, \"quantity\": 1, \"details\": {\"brand\": \"GoPro\", \"color\": \"Silver\"}}], \"order_status\": \"Cancelled\"}</td></tr><tr><td>{\"order_id\": 92, \"customer_id\": 5592, \"order_date\": \"2024-11-24\", \"transaction_timestamp\": \"2024-11-24 23:33:21\", \"total_amount\": 258, \"payment_method\": \"PayPal\", \"items\": [{\"item_id\": 7, \"name\": \"External Hard Drive\", \"category\": \"Electronics\", \"price\": 129, \"quantity\": 2, \"details\": {\"brand\": \"Sony\", \"color\": \"Black\"}}], \"order_status\": \"Shipped\"}</td></tr><tr><td>{\"order_id\": 6, \"customer_id\": 1987, \"order_date\": \"2024-10-28\", \"transaction_timestamp\": \"2024-10-28 04:47:27\", \"total_amount\": 799, \"payment_method\": \"Credit Card\", \"items\": [{\"item_id\": 10, \"name\": \"Drone\", \"category\": \"Electronics\", \"price\": 799, \"quantity\": 1, \"details\": {\"brand\": \"GoPro\", \"color\": \"Black\"}}], \"order_status\": \"Pending\"}</td></tr><tr><td>{\"order_id\": 10, \"customer_id\": 5816, \"order_date\": \"2024-10-07\", \"transaction_timestamp\": \"2024-10-07 22:09:27\", \"total_amount\": 399, \"payment_method\": \"Credit Card\", \"items\": [{\"item_id\": 5, \"name\": \"Tablet\", \"category\": \"Electronics\", \"price\": 399, \"quantity\": 1, \"details\": {\"brand\": \"GoPro\", \"color\": \"White\"}}], \"order_status\": \"Pending\"}</td></tr><tr><td>{\"order_id\": 11, \"customer_id\": 5816, \"order_date\": \"2024-10-13\", \"transaction_timestamp\": \"2024-10-13 17:34:19\", \"total_amount\": 897, \"payment_method\": \"Bank Transfer\", \"items\": [{\"item_id\": 4, \"name\": \"Smartwatch\", \"category\": \"Electronics\", \"price\": 299, \"quantity\": 3, \"details\": {\"brand\": \"Canon\", \"color\": \"White\"}}], \"order_status\": \"Pending\"}</td></tr><tr><td>{\"order_id\": 15, \"customer_id\": 7207, \"order_date\": \"2024-10-20\", \"transaction_timestamp\": \"2024-10-20 01:47:25\", \"total_amount\": 1199, \"payment_method\": \"Bank Transfer\", \"items\": [{\"item_id\": 9, \"name\": \"Smart TV\", \"category\": \"Electronics\", \"price\": 1199, \"quantity\": 1, \"details\": {\"brand\": \"GoPro\", \"color\": \"White\"}}], \"order_status\": \"Completed\"}</td></tr><tr><td>{\"order_id\": 19, \"customer_id\": 8539, \"order_date\": \"2024-10-13\", \"transaction_timestamp\": \"2024-10-13 12:40:26\", \"total_amount\": 499, \"payment_method\": \"PayPal\", \"items\": [{\"item_id\": 8, \"name\": \"Gaming Console\", \"category\": \"Electronics\", \"price\": 499, \"quantity\": 1, \"details\": {\"brand\": \"Dell\", \"color\": \"Silver\"}}], \"order_status\": \"Shipped\"}</td></tr><tr><td>{\"order_id\": 39, \"customer_id\": 9263, \"order_date\": \"2024-10-29\", \"transaction_timestamp\": \"2024-10-29 21:39:19\", \"total_amount\": 387, \"payment_method\": \"PayPal\", \"items\": [{\"item_id\": 7, \"name\": \"External Hard Drive\", \"category\": \"Electronics\", \"price\": 129, \"quantity\": 3, \"details\": {\"brand\": \"Sony\", \"color\": \"Black\"}}], \"order_status\": \"Shipped\"}</td></tr><tr><td>{\"order_id\": 55, \"customer_id\": 9018, \"order_date\": \"2024-10-25\", \"transaction_timestamp\": \"2024-10-25 05:49:16\", \"total_amount\": 699, \"payment_method\": \"Bank Transfer\", \"items\": [{\"item_id\": 1, \"name\": \"Smartphone\", \"category\": \"Electronics\", \"price\": 699, \"quantity\": 1, \"details\": {\"brand\": \"HP\", \"color\": \"Black\"}}], \"order_status\": \"Shipped\"}</td></tr><tr><td>{\"order_id\": 59, \"customer_id\": 3409, \"order_date\": \"2024-10-23\", \"transaction_timestamp\": \"2024-10-23 02:51:05\", \"total_amount\": 499, \"payment_method\": \"PayPal\", \"items\": [{\"item_id\": 8, \"name\": \"Gaming Console\", \"category\": \"Electronics\", \"price\": 499, \"quantity\": 1, \"details\": {\"brand\": \"Dell\", \"color\": \"Black\"}}], \"order_status\": \"Pending\"}</td></tr><tr><td>{\"order_id\": 72, \"customer_id\": 3889, \"order_date\": 2024-10-06, \"transaction_timestamp\": \"2024-10-06 10:23:28\", \"total_amount\": 328, \"payment_method\": \"PayPal\", \"items\": [{\"item_id\": 3, \"name\": \"Wireless Headphones\", \"category\": \"Electronics\", \"price\": 199, \"quantity\": 1, \"details\": {\"brand\": \"Microsoft\", \"color\": \"Gray\"}}, {\"item_id\": 7, \"name\": \"External Hard Drive\", \"category\": \"Electronics\", \"price\": 129, \"quantity\": 1, \"details\": {\"brand\": \"Samsung\", \"color\": \"Silver\"}}], \"order_status\": \"Cancelled\"}</td></tr><tr><td>{\"order_id\": 77, \"customer_id\": 9084, \"order_date\": \"2024-10-15\", \"transaction_timestamp\": \"2024-10-15 13:09:33\", \"total_amount\": 398, \"payment_method\": \"Credit Card\", \"items\": [{\"item_id\": 3, \"name\": \"Wireless Headphones\", \"category\": \"Electronics\", \"price\": 199, \"quantity\": 2, \"details\": {\"brand\": \"HP\", \"color\": \"Silver\"}}], \"order_status\": \"Pending\"}</td></tr><tr><td>{\"order_id\": 84, \"customer_id\": 2344, \"order_date\": \"2024-10-25\", \"transaction_timestamp\": \"2024-10-25 03:37:42\", \"total_amount\": 998, \"payment_method\": \"PayPal\", \"items\": [{\"item_id\": 10, \"name\": \"Drone\", \"category\": \"Electronics\", \"price\": 799, \"quantity\": 1, \"details\": {\"brand\": \"Sony\", \"color\": \"Black\"}}, {\"item_id\": 3, \"name\": \"Wireless Headphones\", \"category\": \"Electronics\", \"price\": 199, \"quantity\": 1, \"details\": {\"brand\": \"LG\", \"color\": \"Black\"}}], \"order_status\": \"Completed\"}</td></tr><tr><td>{\"order_id\": 85, \"customer_id\": 5011, \"order_date\": \"2024-10-23\", \"transaction_timestamp\": \"2024-10-23 20:06:42\", \"total_amount\": 998, \"payment_method\": \"Bank Transfer\", \"items\": [{\"item_id\": 8, \"name\": \"Gaming Console\", \"category\": \"Electronics\", \"price\": 499, \"quantity\": 2, \"details\": {\"brand\": \"GoPro\", \"color\": \"Black\"}}], \"order_status\": \"Shipped\"}</td></tr><tr><td>{\"order_id\": 86, \"customer_id\": 5011, \"order_date\": \"2024-10-19\", \"transaction_timestamp\": \"2024-10-19 13:30:47\", \"total_amount\": 1199, \"payment_method\": \"PayPal\", \"items\": [{\"item_id\": 9, \"name\": \"Smart TV\", \"category\": \"Electronics\", \"price\": 1199, \"quantity\": 1, \"details\": {\"brand\": \"Dell\", \"color\": \"White\"}}], \"order_status\": \"Completed\"}</td></tr></tbody></table></div>"
      ]
     },
     "metadata": {
      "application/vnd.databricks.v1+output": {
       "addedWidgets": {},
       "aggData": [],
       "aggError": "",
       "aggOverflow": false,
       "aggSchema": [],
       "aggSeriesLimitReached": false,
       "aggType": "",
       "arguments": {},
       "columnCustomDisplayInfos": {},
       "data": [
        [
         "{\"order_id\": 1, \"customer_id\": 6973, \"order_date\": \"2025-01-05\", \"transaction_timestamp\": \"2025-01-05 10:13:59\", \"total_amount\": 499, \"payment_method\": \"Bank Transfer\", \"items\": [{\"item_id\": 8, \"name\": \"Gaming Console\", \"category\": \"Electronics\", \"price\": 499, \"quantity\": 1, \"details\": {\"brand\": \"Sony\", \"color\": \"Blue\"}}], \"order_status\": \"Completed\"}"
        ],
        [
         "{\"order_id\": 2, \"customer_id\": 3532, \"order_date\": 2025-01-19, \"transaction_timestamp\": \"2025-01-19 00:05:13\", \"total_amount\": 985, \"payment_method\": \"PayPal\", \"items\": [{\"item_id\": 4, \"name\": \"Smartwatch\", \"category\": \"Electronics\", \"price\": 299, \"quantity\": 2, \"details\": {\"brand\": \"Canon\", \"color\": \"Gray\"}}, {\"item_id\": 7, \"name\": \"External Hard Drive\", \"category\": \"Electronics\", \"price\": 129, \"quantity\": 3, \"details\": {\"brand\": \"Dell\", \"color\": \"Blue\"}}], \"order_status\": \"Cancelled\"}"
        ],
        [
         "{\"order_id\": 3, \"customer_id\": 3532, \"order_date\": \"2025-01-08\", \"transaction_timestamp\": \"2025-01-08 23:11:00\", \"total_amount\": 597, \"payment_method\": \"Bank Transfer\", \"items\": [{\"item_id\": 3, \"name\": \"Wireless Headphones\", \"category\": \"Electronics\", \"price\": 199, \"quantity\": 3, \"details\": {\"brand\": \"Apple\", \"color\": \"White\"}}], \"order_status\": \"Completed\"}"
        ],
        [
         "{\"order_id\": 4, \"customer_id\": 3532, \"order_date\": \"2025-01-05\", \"transaction_timestamp\": \"2025-01-05 05:49:26\", \"total_amount\": 999, \"payment_method\": \"Bank Transfer\", \"items\": [{\"item_id\": 2, \"name\": \"Laptop\", \"category\": \"Electronics\", \"price\": 999, \"quantity\": 1, \"details\": {\"brand\": \"Microsoft\", \"color\": \"Black\"}}], \"order_status\": \"Cancelled\"}"
        ],
        [
         "{\"order_id\": 8, \"customer_id\": 9179, \"order_date\": \"2025-01-02\", \"transaction_timestamp\": \"2025-01-02 13:11:15\", \"total_amount\": 399, \"payment_method\": \"PayPal\", \"items\": [{\"item_id\": 5, \"name\": \"Tablet\", \"category\": \"Electronics\", \"price\": 399, \"quantity\": 1, \"details\": {\"brand\": \"LG\", \"color\": \"White\"}}], \"order_status\": \"Completed\"}"
        ],
        [
         "{\"order_id\": 14, \"customer_id\": 7207, \"order_date\": \"2025-01-01\", \"transaction_timestamp\": \"2025-01-01 18:22:26\", \"total_amount\": 597, \"payment_method\": \"PayPal\", \"items\": [{\"item_id\": 3, \"name\": \"Wireless Headphones\", \"category\": \"Electronics\", \"price\": 199, \"quantity\": 3, \"details\": {\"brand\": \"Bose\", \"color\": \"Blue\"}}], \"order_status\": \"Cancelled\"}"
        ],
        [
         "{\"order_id\": 18, \"customer_id\": 4468, \"order_date\": \"2025-01-22\", \"transaction_timestamp\": \"2025-01-22 21:12:08\", \"total_amount\": 799, \"payment_method\": \"Credit Card\", \"items\": [{\"item_id\": 10, \"name\": \"Drone\", \"category\": \"Electronics\", \"price\": 799, \"quantity\": 1, \"details\": {\"brand\": \"Dell\", \"color\": \"Black\"}}], \"order_status\": \"Pending\"}"
        ],
        [
         "{\"order_id\": 22, \"customer_id\": 4761, \"order_date\": 2025-01-01, \"transaction_timestamp\": \"2025-01-01 15:49:19\", \"total_amount\": 199, \"payment_method\": \"PayPal\", \"items\": [{\"item_id\": 3, \"name\": \"Wireless Headphones\", \"category\": \"Electronics\", \"price\": 199, \"quantity\": 1, \"details\": {\"brand\": \"HP\", \"color\": \"Silver\"}}], \"order_status\": \"Pending\"}"
        ],
        [
         "{\"order_id\": 26, \"customer_id\": 7007, \"order_date\": \"2025-01-05\", \"transaction_timestamp\": \"2025-01-05 19:01:25\", \"total_amount\": 699, \"payment_method\": \"Bank Transfer\", \"items\": [{\"item_id\": 1, \"name\": \"Smartphone\", \"category\": \"Electronics\", \"price\": 699, \"quantity\": 1, \"details\": {\"brand\": \"Samsung\", \"color\": \"Silver\"}}], \"order_status\": \"Shipped\"}"
        ],
        [
         "{\"order_id\": 29, \"customer_id\": 5953, \"order_date\": \"2025-01-18\", \"transaction_timestamp\": \"2025-01-18 03:05:04\", \"total_amount\": 129, \"payment_method\": \"Bank Transfer\", \"items\": [{\"item_id\": 7, \"name\": \"External Hard Drive\", \"category\": \"Electronics\", \"price\": 129, \"quantity\": 1, \"details\": {\"brand\": \"Bose\", \"color\": \"Gray\"}}, {\"item_id\": 7, \"name\": \"External Hard Drive\", \"category\": \"Electronics\", \"price\": 129, \"quantity\": 1, \"details\": {\"brand\": \"Bose\", \"color\": \"Gray\"}}], \"order_status\": \"Pending\"}"
        ],
        [
         "{\"order_id\": 31, \"customer_id\": 4996, \"order_date\": \"2025-01-18\", \"transaction_timestamp\": \"2025-01-18 03:13:29\", \"total_amount\": 299, \"payment_method\": \"Bank Transfer\", \"items\": [{\"item_id\": 4, \"name\": \"Smartwatch\", \"category\": \"Electronics\", \"price\": 299, \"quantity\": 1, \"details\": {\"brand\": \"Dell\", \"color\": \"White\"}}], \"order_status\": \"Shipped\"}"
        ],
        [
         "{\"order_id\": 33, \"customer_id\": 9605, \"order_date\": \"2025-01-13\", \"transaction_timestamp\": \"2025-01-13 04:47:43\", \"total_amount\": 897, \"payment_method\": \"PayPal\", \"items\": [{\"item_id\": 4, \"name\": \"Smartwatch\", \"category\": \"Electronics\", \"price\": 299, \"quantity\": 3, \"details\": {\"brand\": \"Canon\", \"color\": \"White\"}}], \"order_status\": \"Completed\"}"
        ],
        [
         "{\"order_id\": 34, \"customer_id\": 9605, \"order_date\": \"2025-01-21\", \"transaction_timestamp\": \"2025-01-21 00:25:01\", \"total_amount\": 926, \"payment_method\": \"PayPal\", \"items\": [{\"item_id\": 6, \"name\": \"Bluetooth Speaker\", \"category\": \"Electronics\", \"price\": 149, \"quantity\": 2, \"details\": {\"brand\": \"Bose\", \"color\": \"Silver\"}}, {\"item_id\": 8, \"name\": \"Gaming Console\", \"category\": \"Electronics\", \"price\": 499, \"quantity\": 1, \"details\": {\"brand\": \"LG\", \"color\": \"Black\"}}, {\"item_id\": 7, \"name\": \"External Hard Drive\", \"category\": \"Electronics\", \"price\": 129, \"quantity\": 1, \"details\": {\"brand\": \"Samsung\", \"color\": \"Black\"}}], \"order_status\": \"Cancelled\"}"
        ],
        [
         "{\"order_id\": 40, \"customer_id\": 6384, \"order_date\": \"2025-01-20\", \"transaction_timestamp\": \"2025-01-20 16:18:35\", \"total_amount\": 298, \"payment_method\": \"PayPal\", \"items\": [{\"item_id\": 6, \"name\": \"Bluetooth Speaker\", \"category\": \"Electronics\", \"price\": 149, \"quantity\": 2, \"details\": {\"brand\": \"Bose\", \"color\": \"Silver\"}}], \"order_status\": \"Completed\"}"
        ],
        [
         "{\"order_id\": 41, \"customer_id\": 6384, \"order_date\": \"2025-01-05\", \"transaction_timestamp\": \"2025-01-05 06:10:22\", \"total_amount\": 999, \"payment_method\": \"Credit Card\", \"items\": [{\"item_id\": 2, \"name\": \"Laptop\", \"category\": \"Electronics\", \"price\": 999, \"quantity\": 1, \"details\": {\"brand\": \"Sony\", \"color\": \"Silver\"}}], \"order_status\": \"Shipped\"}"
        ],
        [
         "{\"order_id\": 43, \"customer_id\": 5028, \"order_date\": \"2025-01-24\", \"transaction_timestamp\": \"2025-01-24 18:10:37\", \"total_amount\": 499, \"payment_method\": \"PayPal\", \"items\": [{\"item_id\": 8, \"name\": \"Gaming Console\", \"category\": \"Electronics\", \"price\": 499, \"quantity\": 1, \"details\": {\"brand\": \"LG\", \"color\": \"Black\"}}], \"order_status\": \"Pending\"}"
        ],
        [
         "{\"order_id\": 50, \"customer_id\": 3712, \"order_date\": \"2025-01-11\", \"transaction_timestamp\": \"2025-01-11 01:19:09\", \"total_amount\": 746, \"payment_method\": \"Credit Card\", \"items\": [{\"item_id\": 6, \"name\": \"Bluetooth Speaker\", \"category\": \"Electronics\", \"price\": 149, \"quantity\": 3, \"details\": {\"brand\": \"Apple\", \"color\": \"Gray\"}}, {\"item_id\": 4, \"name\": \"Smartwatch\", \"category\": \"Electronics\", \"price\": 299, \"quantity\": 1, \"details\": {\"brand\": \"Sony\", \"color\": \"White\"}}], \"order_status\": \"Shipped\"}"
        ],
        [
         "{\"order_id\": 51, \"customer_id\": 8845, \"order_date\": \"2025-01-21\", \"transaction_timestamp\": \"2025-01-21 13:19:59\", \"total_amount\": 149, \"payment_method\": \"PayPal\", \"items\": [{\"item_id\": 6, \"name\": \"Bluetooth Speaker\", \"category\": \"Electronics\", \"price\": 149, \"quantity\": 1, \"details\": {\"brand\": \"Samsung\", \"color\": \"Gray\"}}], \"order_status\": \"Completed\"}"
        ],
        [
         "{\"order_id\": 53, \"customer_id\": 8845, \"order_date\": \"2025-01-21\", \"transaction_timestamp\": \"2025-01-21 08:31:02\", \"total_amount\": 199, \"payment_method\": \"Bank Transfer\", \"items\": [{\"item_id\": 3, \"name\": \"Wireless Headphones\", \"category\": \"Electronics\", \"price\": 199, \"quantity\": 1, \"details\": {\"brand\": \"Apple\", \"color\": \"Black\"}}], \"order_status\": \"Pending\"}"
        ],
        [
         "{\"order_id\": 56, \"customer_id\": 8580, \"order_date\": \"2025-01-01\", \"transaction_timestamp\": \"2025-01-01 12:02:41\", \"total_amount\": 698, \"payment_method\": \"PayPal\", \"items\": [{\"item_id\": 3, \"name\": \"Wireless Headphones\", \"category\": \"Electronics\", \"price\": 199, \"quantity\": 1, \"details\": {\"brand\": \"HP\", \"color\": \"Silver\"}}, {\"item_id\": 8, \"name\": \"Gaming Console\", \"category\": \"Electronics\", \"price\": 499, \"quantity\": 1, \"details\": {\"brand\": \"LG\", \"color\": \"Gray\"}}], \"order_status\": \"Cancelled\"}"
        ],
        [
         "{\"order_id\": 62, \"customer_id\": 7123, \"order_date\": \"2025-01-24\", \"transaction_timestamp\": \"2025-01-24 12:00:54\", \"total_amount\": 985, \"payment_method\": \"Bank Transfer\", \"items\": [{\"item_id\": 7, \"name\": \"External Hard Drive\", \"category\": \"Electronics\", \"price\": 129, \"quantity\": 3, \"details\": {\"brand\": \"Dell\", \"color\": \"White\"}}, {\"item_id\": 4, \"name\": \"Smartwatch\", \"category\": \"Electronics\", \"price\": 299, \"quantity\": 2, \"details\": {\"brand\": \"GoPro\", \"color\": \"Blue\"}}], \"order_status\": \"Completed\"}"
        ],
        [
         "{\"order_id\": 66, \"customer_id\": 3084, \"order_date\": \"2025-01-17\", \"transaction_timestamp\": \"2025-01-17 21:16:11\", \"total_amount\": 598, \"payment_method\": \"Credit Card\", \"items\": [{\"item_id\": 4, \"name\": \"Smartwatch\", \"category\": \"Electronics\", \"price\": 299, \"quantity\": 1, \"details\": {\"brand\": \"Bose\", \"color\": \"Silver\"}}, {\"item_id\": 4, \"name\": \"Smartwatch\", \"category\": \"Electronics\", \"price\": 299, \"quantity\": 1, \"details\": {\"brand\": \"GoPro\", \"color\": \"White\"}}], \"order_status\": \"Cancelled\"}"
        ],
        [
         "{\"order_id\": 68, \"customer_id\": 4973, \"order_date\": \"2025-01-10\", \"transaction_timestamp\": \"2025-01-10 20:35:43\", \"total_amount\": 149, \"payment_method\": \"Bank Transfer\", \"items\": [{\"item_id\": 6, \"name\": \"Bluetooth Speaker\", \"category\": \"Electronics\", \"price\": 149, \"quantity\": 1, \"details\": {\"brand\": \"Bose\", \"color\": \"Gray\"}}], \"order_status\": \"Completed\"}"
        ],
        [
         "{\"order_id\": 73, \"customer_id\": 6167, \"order_date\": \"2025-01-07\", \"transaction_timestamp\": \"2025-01-07 01:02:26\", \"total_amount\": 387, \"payment_method\": \"Credit Card\", \"items\": [{\"item_id\": 7, \"name\": \"External Hard Drive\", \"category\": \"Electronics\", \"price\": 129, \"quantity\": 3, \"details\": {\"brand\": \"GoPro\", \"color\": \"Gray\"}}, {\"item_id\": 7, \"name\": \"External Hard Drive\", \"category\": \"Electronics\", \"price\": 129, \"quantity\": 3, \"details\": {\"brand\": \"GoPro\", \"color\": \"Gray\"}}], \"order_status\": \"Shipped\"}"
        ],
        [
         "{\"order_id\": 75, \"customer_id\": 6167, \"order_date\": \"2025-01-19\", \"transaction_timestamp\": \"2025-01-19 16:23:16\", \"total_amount\": 699, \"payment_method\": \"Credit Card\", \"items\": [{\"item_id\": 1, \"name\": \"Smartphone\", \"category\": \"Electronics\", \"price\": 699, \"quantity\": 1, \"details\": {\"brand\": \"GoPro\", \"color\": \"White\"}}], \"order_status\": \"Shipped\"}"
        ],
        [
         "{\"order_id\": 76, \"customer_id\": 3295, \"order_date\": \"2025-01-06\", \"transaction_timestamp\": \"2025-01-06 02:54:39\", \"total_amount\": 399, \"payment_method\": \"Bank Transfer\", \"items\": [{\"item_id\": 5, \"name\": \"Tablet\", \"category\": \"Electronics\", \"price\": 399, \"quantity\": 1, \"details\": {\"brand\": \"Microsoft\", \"color\": \"Silver\"}}], \"order_status\": \"Completed\"}"
        ],
        [
         "{\"order_id\": 78, \"customer_id\": 9084, \"order_date\": \"2025-01-21\", \"transaction_timestamp\": \"2025-01-21 11:42:51\", \"total_amount\": 798, \"payment_method\": \"PayPal\", \"items\": [{\"item_id\": 5, \"name\": \"Tablet\", \"category\": \"Electronics\", \"price\": 399, \"quantity\": 2, \"details\": {\"brand\": \"Dell\", \"color\": \"White\"}}], \"order_status\": \"Cancelled\"}"
        ],
        [
         "{\"order_id\": 79, \"customer_id\": 9084, \"order_date\": \"2025-01-25\", \"transaction_timestamp\": \"2025-01-25 03:52:05\", \"total_amount\": 998, \"payment_method\": \"Credit Card\", \"items\": [{\"item_id\": 8, \"name\": \"Gaming Console\", \"category\": \"Electronics\", \"price\": 499, \"quantity\": 2, \"details\": {\"brand\": \"Dell\", \"color\": \"Gray\"}}], \"order_status\": \"Cancelled\"}"
        ],
        [
         "{\"order_id\": 83, \"customer_id\": 2344, \"order_date\": \"2025-01-07\", \"transaction_timestamp\": \"2025-01-07 12:48:05\", \"total_amount\": 785, \"payment_method\": \"PayPal\", \"items\": [{\"item_id\": 7, \"name\": \"External Hard Drive\", \"category\": \"Electronics\", \"price\": 129, \"quantity\": 3, \"details\": {\"brand\": \"Canon\", \"color\": \"Gray\"}}, {\"item_id\": 3, \"name\": \"Wireless Headphones\", \"category\": \"Electronics\", \"price\": 199, \"quantity\": 2, \"details\": {\"brand\": \"Sony\", \"color\": \"Black\"}}], \"order_status\": \"Shipped\"}"
        ],
        [
         "{\"order_id\": 87, \"customer_id\": 2141, \"order_date\": \"2025-01-02\", \"transaction_timestamp\": \"2025-01-02 04:28:38\", \"total_amount\": 129, \"payment_method\": \"PayPal\", \"items\": [{\"item_id\": 7, \"name\": \"External Hard Drive\", \"category\": \"Electronics\", \"price\": 129, \"quantity\": 1, \"details\": {\"brand\": \"Apple\", \"color\": \"Blue\"}}], \"order_status\": \"Pending\"}"
        ],
        [
         "{\"order_id\": 90, \"customer_id\": 9247, \"order_date\": \"2025-01-17\", \"transaction_timestamp\": \"2025-01-17 14:30:54\", \"total_amount\": 258, \"payment_method\": \"Credit Card\", \"items\": [{\"item_id\": 7, \"name\": \"External Hard Drive\", \"category\": \"Electronics\", \"price\": 129, \"quantity\": 1, \"details\": {\"brand\": \"Canon\", \"color\": \"White\"}}, {\"item_id\": 7, \"name\": \"External Hard Drive\", \"category\": \"Electronics\", \"price\": 129, \"quantity\": 1, \"details\": {\"brand\": \"Samsung\", \"color\": \"Black\"}}], \"order_status\": \"Pending\"}"
        ],
        [
         "{\"order_id\": 94, \"customer_id\": 6627, \"order_date\": \"2025-01-10\", \"transaction_timestamp\": \"2025-01-10 09:51:48\", \"total_amount\": 895, \"payment_method\": \"Credit Card\", \"items\": [{\"item_id\": 6, \"name\": \"Bluetooth Speaker\", \"category\": \"Electronics\", \"price\": 149, \"quantity\": 2, \"details\": {\"brand\": \"Sony\", \"color\": \"Black\"}}, {\"item_id\": 3, \"name\": \"Wireless Headphones\", \"category\": \"Electronics\", \"price\": 199, \"quantity\": 3, \"details\": {\"brand\": \"Apple\", \"color\": \"Blue\"}}], \"order_status\": \"Pending\"}"
        ],
        [
         "{\"order_id\": 98, \"customer_id\": 9150, \"order_date\": \"2025-01-08\", \"transaction_timestamp\": \"2025-01-08 05:57:55\", \"total_amount\": 985, \"payment_method\": \"Credit Card\", \"items\": [{\"item_id\": 7, \"name\": \"External Hard Drive\", \"category\": \"Electronics\", \"price\": 129, \"quantity\": 3, \"details\": {\"brand\": \"HP\", \"color\": \"Blue\"}}, {\"item_id\": 4, \"name\": \"Smartwatch\", \"category\": \"Electronics\", \"price\": 299, \"quantity\": 2, \"details\": {\"brand\": \"Samsung\", \"color\": \"Gray\"}}], \"order_status\": \"Completed\"}"
        ],
        [
         "{\"order_id\": 99, \"customer_id\": 9150, \"order_date\": \"2025-01-10\", \"transaction_timestamp\": \"2025-01-10 21:43:46\", \"total_amount\": 699, \"payment_method\": \"Credit Card\", \"items\": [{\"item_id\": 1, \"name\": \"Smartphone\", \"category\": \"Electronics\", \"price\": 699, \"quantity\": 1, \"details\": {\"brand\": \"Bose\", \"color\": \"Gray\"}}], \"order_status\": \"Shipped\"}"
        ],
        [
         "{\"order_id\": 100, \"customer_id\": 9150, \"order_date\": \"2025-01-04\", \"transaction_timestamp\": \"2025-01-04 06:40:13\", \"total_amount\": 447, \"payment_method\": \"PayPal\", \"items\": [{\"item_id\": 6, \"name\": \"Bluetooth Speaker\", \"category\": \"Electronics\", \"price\": 149, \"quantity\": 3, \"details\": {\"brand\": \"LG\", \"color\": \"Silver\"}}], \"order_status\": \"Shipped\"}"
        ],
        [
         "{\"order_id\": 12, \"customer_id\": 5816, \"order_date\": \"2024-12-06\", \"transaction_timestamp\": \"2024-12-06 20:26:49\", \"total_amount\": 999, \"payment_method\": \"PayPal\", \"items\": [{\"item_id\": 2, \"name\": \"Laptop\", \"category\": \"Electronics\", \"price\": 999, \"quantity\": 1, \"details\": {\"brand\": \"Sony\", \"color\": \"White\"}}], \"order_status\": \"Cancelled\"}"
        ],
        [
         "{\"order_id\": 13, \"customer_id\": 4858, \"order_date\": \"2024-12-17\", \"transaction_timestamp\": \"2024-12-17 03:41:37\", \"total_amount\": 999, \"payment_method\": \"PayPal\", \"items\": [{\"item_id\": 2, \"name\": \"Laptop\", \"category\": \"Electronics\", \"price\": 999, \"quantity\": 1, \"details\": {\"brand\": \"GoPro\", \"color\": \"Black\"}}], \"order_status\": \"Pending\"}"
        ],
        [
         "{\"order_id\": 16, \"customer_id\": 5204, \"order_date\": \"2024-12-08\", \"transaction_timestamp\": \"2024-12-08 22:59:48\", \"total_amount\": 597, \"payment_method\": \"Bank Transfer\", \"items\": [{\"item_id\": 3, \"name\": \"Wireless Headphones\", \"category\": \"Electronics\", \"price\": 199, \"quantity\": 3, \"details\": {\"brand\": \"Sony\", \"color\": \"Silver\"}}], \"order_status\": \"Pending\"}"
        ],
        [
         "{\"order_id\": 17, \"customer_id\": 5204, \"order_date\": \"2024-12-02\", \"transaction_timestamp\": \"2024-12-02 12:00:50\", \"total_amount\": 998, \"payment_method\": \"Bank Transfer\", \"items\": [{\"item_id\": 8, \"name\": \"Gaming Console\", \"category\": \"Electronics\", \"price\": 499, \"quantity\": 2, \"details\": {\"brand\": \"Dell\", \"color\": \"Black\"}}], \"order_status\": \"Pending\"}"
        ],
        [
         "{\"order_id\": 24, \"customer_id\": 1211, \"order_date\": \"2024-12-21\", \"transaction_timestamp\": \"2024-12-21 03:24:26\", \"total_amount\": 1199, \"payment_method\": \"PayPal\", \"items\": [{\"item_id\": 9, \"name\": \"Smart TV\", \"category\": \"Electronics\", \"price\": 1199, \"quantity\": 1, \"details\": {\"brand\": \"GoPro\", \"color\": \"Gray\"}}], \"order_status\": \"Completed\"}"
        ],
        [
         "{\"order_id\": 27, \"customer_id\": 2703, \"order_date\": \"2024-12-02\", \"transaction_timestamp\": \"2024-12-02 11:24:21\", \"total_amount\": 904, \"payment_method\": \"Credit Card\", \"items\": [{\"item_id\": 7, \"name\": \"External Hard Drive\", \"category\": \"Electronics\", \"price\": 129, \"quantity\": 2, \"details\": {\"brand\": \"Dell\", \"color\": \"White\"}}, {\"item_id\": 6, \"name\": \"Bluetooth Speaker\", \"category\": \"Electronics\", \"price\": 149, \"quantity\": 3, \"details\": {\"brand\": \"Canon\", \"color\": \"Black\"}}, {\"item_id\": 3, \"name\": \"Wireless Headphones\", \"category\": \"Electronics\", \"price\": 199, \"quantity\": 1, \"details\": {\"brand\": \"Microsoft\", \"color\": \"Silver\"}}], \"order_status\": \"Completed\"}"
        ],
        [
         "{\"order_id\": 28, \"customer_id\": 2703, \"order_date\": \"2024-12-26\", \"transaction_timestamp\": \"2024-12-26 03:17:50\", \"total_amount\": 129, \"payment_method\": \"Credit Card\", \"items\": [{\"item_id\": 7, \"name\": \"External Hard Drive\", \"category\": \"Electronics\", \"price\": 129, \"quantity\": 1, \"details\": {\"brand\": \"GoPro\", \"color\": \"Blue\"}}], \"order_status\": \"Cancelled\"}"
        ],
        [
         "{\"order_id\": 32, \"customer_id\": 4996, \"order_date\": \"2024-12-28\", \"transaction_timestamp\": \"2024-12-28 08:55:57\", \"total_amount\": 399, \"payment_method\": \"PayPal\", \"items\": [{\"item_id\": 5, \"name\": \"Tablet\", \"category\": \"Electronics\", \"price\": 399, \"quantity\": 1, \"details\": {\"brand\": \"Apple\", \"color\": \"Silver\"}}], \"order_status\": \"Pending\"}"
        ],
        [
         "{\"order_id\": 37, \"customer_id\": 7829, \"order_date\": \"2024-12-22\", \"transaction_timestamp\": \"2024-12-22 10:11:49\", \"total_amount\": 258, \"payment_method\": \"Credit Card\", \"items\": [{\"item_id\": 7, \"name\": \"External Hard Drive\", \"category\": \"Electronics\", \"price\": 129, \"quantity\": 2, \"details\": {\"brand\": \"HP\", \"color\": \"Silver\"}}], \"order_status\": \"Shipped\"}"
        ],
        [
         "{\"order_id\": 38, \"customer_id\": 7829, \"order_date\": \"2024-12-25\", \"transaction_timestamp\": \"2024-12-25 22:05:19\", \"total_amount\": 447, \"payment_method\": \"Credit Card\", \"items\": [{\"item_id\": 6, \"name\": \"Bluetooth Speaker\", \"category\": \"Electronics\", \"price\": 149, \"quantity\": 3, \"details\": {\"brand\": \"Apple\", \"color\": \"Gray\"}}], \"order_status\": \"Shipped\"}"
        ],
        [
         "{\"order_id\": 44, \"customer_id\": 7295, \"order_date\": \"2024-12-20\", \"transaction_timestamp\": \"2024-12-20 08:05:43\", \"total_amount\": 129, \"payment_method\": \"Credit Card\", \"items\": [{\"item_id\": 7, \"name\": \"External Hard Drive\", \"category\": \"Electronics\", \"price\": 129, \"quantity\": 1, \"details\": {\"brand\": \"Bose\", \"color\": \"Blue\"}}], \"order_status\": \"Completed\"}"
        ],
        [
         "{\"order_id\": 49, \"customer_id\": 7803, \"order_date\": \"2024-12-07\", \"transaction_timestamp\": \"2024-12-07 23:24:11\", \"total_amount\": 747, \"payment_method\": \"PayPal\", \"items\": [{\"item_id\": 4, \"name\": \"Smartwatch\", \"category\": \"Electronics\", \"price\": 299, \"quantity\": 1, \"details\": {\"brand\": \"HP\", \"color\": \"White\"}}, {\"item_id\": 4, \"name\": \"Smartwatch\", \"category\": \"Electronics\", \"price\": 299, \"quantity\": 1, \"details\": {\"brand\": \"Canon\", \"color\": \"Blue\"}}, {\"item_id\": 6, \"name\": \"Bluetooth Speaker\", \"category\": \"Electronics\", \"price\": 149, \"quantity\": 1, \"details\": {\"brand\": \"Samsung\", \"color\": \"White\"}}], \"order_status\": \"Cancelled\"}"
        ],
        [
         "{\"order_id\": 54, \"customer_id\": 2054, \"order_date\": \"2024-12-20\", \"transaction_timestamp\": \"2024-12-20 12:04:27\", \"total_amount\": 398, \"payment_method\": \"Credit Card\", \"items\": [{\"item_id\": 3, \"name\": \"Wireless Headphones\", \"category\": \"Electronics\", \"price\": 199, \"quantity\": 2, \"details\": {\"brand\": \"Bose\", \"color\": \"Gray\"}}], \"order_status\": \"Pending\"}"
        ],
        [
         "{\"order_id\": 58, \"customer_id\": 8580, \"order_date\": \"2024-12-09\", \"transaction_timestamp\": \"2024-12-09 22:40:58\", \"total_amount\": 699, \"payment_method\": \"PayPal\", \"items\": [{\"item_id\": 1, \"name\": \"Smartphone\", \"category\": \"Electronics\", \"price\": 699, \"quantity\": 1, \"details\": {\"brand\": \"Microsoft\", \"color\": \"Gray\"}}], \"order_status\": \"Completed\"}"
        ],
        [
         "{\"order_id\": 60, \"customer_id\": 3409, \"order_date\": \"2024-12-13\", \"transaction_timestamp\": \"2024-12-13 13:10:12\", \"total_amount\": 199, \"payment_method\": \"Bank Transfer\", \"items\": [{\"item_id\": 3, \"name\": \"Wireless Headphones\", \"category\": \"Electronics\", \"price\": 199, \"quantity\": 1, \"details\": {\"brand\": \"Samsung\", \"color\": \"Blue\"}}], \"order_status\": \"Shipped\"}"
        ],
        [
         "{\"order_id\": 61, \"customer_id\": 7123, \"order_date\": \"2024-12-07\", \"transaction_timestamp\": \"2024-12-07 07:47:19\", \"total_amount\": 699, \"payment_method\": \"Bank Transfer\", \"items\": [{\"item_id\": 1, \"name\": \"Smartphone\", \"category\": \"Electronics\", \"price\": 699, \"quantity\": 1, \"details\": {\"brand\": \"Canon\", \"color\": \"Black\"}}], \"order_status\": \"Completed\"}"
        ],
        [
         "{\"order_id\": 65, \"customer_id\": 3084, \"order_date\": \"2024-12-09\", \"transaction_timestamp\": \"2024-12-09 13:04:13\", \"total_amount\": 399, \"payment_method\": \"Bank Transfer\", \"items\": [{\"item_id\": 5, \"name\": \"Tablet\", \"category\": \"Electronics\", \"price\": 399, \"quantity\": 1, \"details\": {\"brand\": \"Microsoft\", \"color\": \"Gray\"}}], \"order_status\": \"Cancelled\"}"
        ],
        [
         "{\"order_id\": 67, \"customer_id\": 3084, \"order_date\": \"2024-12-19\", \"transaction_timestamp\": \"2024-12-19 07:11:09\", \"total_amount\": 897, \"payment_method\": \"PayPal\", \"items\": [{\"item_id\": 4, \"name\": \"Smartwatch\", \"category\": \"Electronics\", \"price\": 299, \"quantity\": 3, \"details\": {\"brand\": \"LG\", \"color\": \"Blue\"}}], \"order_status\": \"Shipped\"}"
        ],
        [
         "{\"order_id\": 69, \"customer_id\": 4973, \"order_date\": \"2024-12-30\", \"transaction_timestamp\": \"2024-12-30 02:42:01\", \"total_amount\": 699, \"payment_method\": \"Bank Transfer\", \"items\": [{\"item_id\": 1, \"name\": \"Smartphone\", \"category\": \"Electronics\", \"price\": 699, \"quantity\": 1, \"details\": {\"brand\": \"Dell\", \"color\": \"Gray\"}}], \"order_status\": \"Completed\"}"
        ],
        [
         "{\"order_id\": 70, \"customer_id\": 7997, \"order_date\": \"2024-12-04\", \"transaction_timestamp\": \"2024-12-04 17:17:24\", \"total_amount\": 897, \"payment_method\": \"PayPal\", \"items\": [{\"item_id\": 4, \"name\": \"Smartwatch\", \"category\": \"Electronics\", \"price\": 299, \"quantity\": 3, \"details\": {\"brand\": \"Sony\", \"color\": \"Black\"}}], \"order_status\": \"Shipped\"}"
        ],
        [
         "{\"order_id\": 71, \"customer_id\": 7997, \"order_date\": 2024-12-27, \"transaction_timestamp\": \"2024-12-27 11:16:39\", \"total_amount\": 199, \"payment_method\": \"Bank Transfer\", \"items\": [{\"item_id\": 3, \"name\": \"Wireless Headphones\", \"category\": \"Electronics\", \"price\": 199, \"quantity\": 1, \"details\": {\"brand\": \"Microsoft\", \"color\": \"Black\"}}], \"order_status\": \"Completed\"}"
        ],
        [
         "{\"order_id\": 74, \"customer_id\": 6167, \"order_date\": \"2024-12-22\", \"transaction_timestamp\": \"2024-12-22 15:54:11\", \"total_amount\": 699, \"payment_method\": \"PayPal\", \"items\": [{\"item_id\": 1, \"name\": \"Smartphone\", \"category\": \"Electronics\", \"price\": 699, \"quantity\": 1, \"details\": {\"brand\": \"Samsung\", \"color\": \"Blue\"}}], \"order_status\": \"Pending\"}"
        ],
        [
         "{\"order_id\": 80, \"customer_id\": 9687, \"order_date\": \"2024-12-11\", \"transaction_timestamp\": \"2024-12-11 07:43:54\", \"total_amount\": 998, \"payment_method\": \"Bank Transfer\", \"items\": [{\"item_id\": 8, \"name\": \"Gaming Console\", \"category\": \"Electronics\", \"price\": 499, \"quantity\": 2, \"details\": {\"brand\": \"Samsung\", \"color\": \"White\"}}], \"order_status\": \"Cancelled\"}"
        ],
        [
         "{\"order_id\": 81, \"customer_id\": 9687, \"order_date\": \"2024-12-27\", \"transaction_timestamp\": \"2024-12-27 02:27:45\", \"total_amount\": 699, \"payment_method\": \"PayPal\", \"items\": [{\"item_id\": 1, \"name\": \"Smartphone\", \"category\": \"Electronics\", \"price\": 699, \"quantity\": 1, \"details\": {\"brand\": \"GoPro\", \"color\": \"Blue\"}}], \"order_status\": \"Completed\"}"
        ],
        [
         "{\"order_id\": 82, \"customer_id\": 2344, \"order_date\": \"2024-12-28\", \"transaction_timestamp\": \"2024-12-28 00:54:08\", \"total_amount\": 387, \"payment_method\": \"PayPal\", \"items\": [{\"item_id\": 7, \"name\": \"External Hard Drive\", \"category\": \"Electronics\", \"price\": 129, \"quantity\": 3, \"details\": {\"brand\": \"Sony\", \"color\": \"Blue\"}}], \"order_status\": \"Completed\"}"
        ],
        [
         "{\"order_id\": 91, \"customer_id\": 5592, \"order_date\": \"2024-12-17\", \"transaction_timestamp\": \"2024-12-17 00:09:53\", \"total_amount\": 699, \"payment_method\": \"Bank Transfer\", \"items\": [{\"item_id\": 1, \"name\": \"Smartphone\", \"category\": \"Electronics\", \"price\": 699, \"quantity\": 1, \"details\": {\"brand\": \"Canon\", \"color\": \"Silver\"}}], \"order_status\": \"Cancelled\"}"
        ],
        [
         "{\"order_id\": 93, \"customer_id\": 6627, \"order_date\": \"2024-12-22\", \"transaction_timestamp\": \"2024-12-22 05:07:46\", \"total_amount\": 598, \"payment_method\": \"PayPal\", \"items\": [{\"item_id\": 4, \"name\": \"Smartwatch\", \"category\": \"Electronics\", \"price\": 299, \"quantity\": 2, \"details\": {\"brand\": \"LG\", \"color\": \"Silver\"}}], \"order_status\": \"Pending\"}"
        ],
        [
         "{\"order_id\": 95, \"customer_id\": 6627, \"order_date\": \"2024-12-28\", \"transaction_timestamp\": \"2024-12-28 04:28:30\", \"total_amount\": 946, \"payment_method\": \"Bank Transfer\", \"items\": [{\"item_id\": 4, \"name\": \"Smartwatch\", \"category\": \"Electronics\", \"price\": 299, \"quantity\": 2, \"details\": {\"brand\": \"GoPro\", \"color\": \"White\"}}, {\"item_id\": 3, \"name\": \"Wireless Headphones\", \"category\": \"Electronics\", \"price\": 199, \"quantity\": 1, \"details\": {\"brand\": \"Bose\", \"color\": \"Gray\"}}, {\"item_id\": 6, \"name\": \"Bluetooth Speaker\", \"category\": \"Electronics\", \"price\": 149, \"quantity\": 1, \"details\": {\"brand\": \"Dell\", \"color\": \"Silver\"}}], \"order_status\": \"Completed\"}"
        ],
        [
         "{\"order_id\": 96, \"customer_id\": 6406, \"order_date\": \"2024-12-02\", \"transaction_timestamp\": \"2024-12-02 12:27:45\", \"total_amount\": 149, \"payment_method\": \"PayPal\", \"items\": [{\"item_id\": 6, \"name\": \"Bluetooth Speaker\", \"category\": \"Electronics\", \"price\": 149, \"quantity\": 1, \"details\": {\"brand\": \"Microsoft\", \"color\": \"Black\"}}], \"order_status\": \"Shipped\"}"
        ],
        [
         "{\"order_id\": 97, \"customer_id\": 6406, \"order_date\": \"2024-12-07\", \"transaction_timestamp\": \"2024-12-07 16:14:34\", \"total_amount\": 499, \"payment_method\": \"Bank Transfer\", \"items\": [{\"item_id\": 8, \"name\": \"Gaming Console\", \"category\": \"Electronics\", \"price\": 499, \"quantity\": 1, \"details\": {\"brand\": \"Sony\", \"color\": \"Silver\"}}], \"order_status\": \"Completed\"}"
        ],
        [
         "{\"order_id\": 5, \"customer_id\": 3892, \"order_date\": \"2024-11-16\", \"transaction_timestamp\": \"2024-11-16 23:07:31\", \"total_amount\": 998, \"payment_method\": \"Bank Transfer\", \"items\": [{\"item_id\": 8, \"name\": \"Gaming Console\", \"category\": \"Electronics\", \"price\": 499, \"quantity\": 2, \"details\": {\"brand\": \"Dell\", \"color\": \"Blue\"}}], \"order_status\": \"Cancelled\"}"
        ],
        [
         "{\"order_id\": 7, \"customer_id\": 1987, \"order_date\": \"2024-11-19\", \"transaction_timestamp\": \"2024-11-19 19:18:48\", \"total_amount\": 645, \"payment_method\": \"Credit Card\", \"items\": [{\"item_id\": 7, \"name\": \"External Hard Drive\", \"category\": \"Electronics\", \"price\": 129, \"quantity\": 2, \"details\": {\"brand\": \"LG\", \"color\": \"Blue\"}}, {\"item_id\": 7, \"name\": \"External Hard Drive\", \"category\": \"Electronics\", \"price\": 129, \"quantity\": 3, \"details\": {\"brand\": \"HP\", \"color\": \"Gray\"}}], \"order_status\": \"Pending\"}"
        ],
        [
         "{\"order_id\": 9, \"customer_id\": 9179, \"order_date\": \"2024-11-27\", \"transaction_timestamp\": \"2024-11-27 13:15:29\", \"total_amount\": 999, \"payment_method\": \"Bank Transfer\", \"items\": [{\"item_id\": 2, \"name\": \"Laptop\", \"category\": \"Electronics\", \"price\": 999, \"quantity\": 1, \"details\": {\"brand\": \"Apple\", \"color\": \"Black\"}}], \"order_status\": \"Shipped\"}"
        ],
        [
         "{\"order_id\": 20, \"customer_id\": 8539, \"order_date\": \"2024-11-18\", \"transaction_timestamp\": \"2024-11-18 02:38:21\", \"total_amount\": 798, \"payment_method\": \"PayPal\", \"items\": [{\"item_id\": 5, \"name\": \"Tablet\", \"category\": \"Electronics\", \"price\": 399, \"quantity\": 2, \"details\": {\"brand\": \"Sony\", \"color\": \"Silver\"}}], \"order_status\": \"Pending\"}"
        ],
        [
         "{\"order_id\": 21, \"customer_id\": 8539, \"order_date\": \"2024-11-21\", \"transaction_timestamp\": \"2024-11-21 11:25:35\", \"total_amount\": 298, \"payment_method\": \"Bank Transfer\", \"items\": [{\"item_id\": 6, \"name\": \"Bluetooth Speaker\", \"category\": \"Electronics\", \"price\": 149, \"quantity\": 2, \"details\": {\"brand\": \"GoPro\", \"color\": \"Blue\"}}], \"order_status\": \"Cancelled\"}"
        ],
        [
         "{\"order_id\": 23, \"customer_id\": 4761, \"order_date\": \"2024-11-22\", \"transaction_timestamp\": \"2024-11-22 16:04:05\", \"total_amount\": 997, \"payment_method\": \"PayPal\", \"items\": [{\"item_id\": 5, \"name\": \"Tablet\", \"category\": \"Electronics\", \"price\": 399, \"quantity\": 1, \"details\": {\"brand\": \"Apple\", \"color\": \"Gray\"}}, {\"item_id\": 4, \"name\": \"Smartwatch\", \"category\": \"Electronics\", \"price\": 299, \"quantity\": 2, \"details\": {\"brand\": \"Dell\", \"color\": \"Gray\"}}], \"order_status\": \"Shipped\"}"
        ],
        [
         "{\"order_id\": 25, \"customer_id\": 9706, \"order_date\": \"2024-11-05\", \"transaction_timestamp\": \"2024-11-05 11:45:31\", \"total_amount\": 999, \"payment_method\": \"PayPal\", \"items\": [{\"item_id\": 2, \"name\": \"Laptop\", \"category\": \"Electronics\", \"price\": 999, \"quantity\": 1, \"details\": {\"brand\": \"LG\", \"color\": \"Gray\"}}], \"order_status\": \"Completed\"}"
        ],
        [
         "{\"order_id\": 30, \"customer_id\": 4996, \"order_date\": \"2024-11-12\", \"transaction_timestamp\": \"2024-11-12 03:20:29\", \"total_amount\": 199, \"payment_method\": \"Bank Transfer\", \"items\": [{\"item_id\": 3, \"name\": \"Wireless Headphones\", \"category\": \"Electronics\", \"price\": 199, \"quantity\": 1, \"details\": {\"brand\": \"GoPro\", \"color\": \"White\"}}], \"order_status\": \"Shipped\"}"
        ],
        [
         "{\"order_id\": 35, \"customer_id\": 4914, \"order_date\": \"2024-11-20\", \"transaction_timestamp\": \"2024-11-20 19:09:04\", \"total_amount\": 199, \"payment_method\": \"Bank Transfer\", \"items\": [{\"item_id\": 3, \"name\": \"Wireless Headphones\", \"category\": \"Electronics\", \"price\": 199, \"quantity\": 1, \"details\": {\"brand\": \"Dell\", \"color\": \"Gray\"}}], \"order_status\": \"Shipped\"}"
        ],
        [
         "{\"order_id\": 36, \"customer_id\": 4914, \"order_date\": \"2024-11-02\", \"transaction_timestamp\": \"2024-11-02 10:39:46\", \"total_amount\": 199, \"payment_method\": \"PayPal\", \"items\": [{\"item_id\": 3, \"name\": \"Wireless Headphones\", \"category\": \"Electronics\", \"price\": 199, \"quantity\": 1, \"details\": {\"brand\": \"Canon\", \"color\": \"Silver\"}}], \"order_status\": \"Completed\"}"
        ],
        [
         "{\"order_id\": 42, \"customer_id\": 5028, \"order_date\": 2024-11-08, \"transaction_timestamp\": \"2024-11-08 18:32:25\", \"total_amount\": 149, \"payment_method\": \"Credit Card\", \"items\": [{\"item_id\": 6, \"name\": \"Bluetooth Speaker\", \"category\": \"Electronics\", \"price\": 149, \"quantity\": 1, \"details\": {\"brand\": \"Bose\", \"color\": \"Gray\"}}], \"order_status\": \"Completed\"}"
        ],
        [
         "{\"order_id\": 45, \"customer_id\": 7295, \"order_date\": \"2024-11-07\", \"transaction_timestamp\": \"2024-11-07 15:41:43\", \"total_amount\": 799, \"payment_method\": \"Credit Card\", \"items\": [{\"item_id\": 10, \"name\": \"Drone\", \"category\": \"Electronics\", \"price\": 799, \"quantity\": 1, \"details\": {\"brand\": \"Dell\", \"color\": \"White\"}}], \"order_status\": \"Shipped\"}"
        ],
        [
         "{\"order_id\": 46, \"customer_id\": 7295, \"order_date\": \"2024-11-26\", \"transaction_timestamp\": \"2024-11-26 17:16:53\", \"total_amount\": 199, \"payment_method\": \"PayPal\", \"items\": [{\"item_id\": 3, \"name\": \"Wireless Headphones\", \"category\": \"Electronics\", \"price\": 199, \"quantity\": 1, \"details\": {\"brand\": \"Samsung\", \"color\": \"Black\"}}], \"order_status\": \"Pending\"}"
        ],
        [
         "{\"order_id\": 47, \"customer_id\": 7803, \"order_date\": \"2024-11-22\", \"transaction_timestamp\": \"2024-11-22 02:01:19\", \"total_amount\": 298, \"payment_method\": \"Credit Card\", \"items\": [{\"item_id\": 6, \"name\": \"Bluetooth Speaker\", \"category\": \"Electronics\", \"price\": 149, \"quantity\": 2, \"details\": {\"brand\": \"LG\", \"color\": \"Blue\"}}], \"order_status\": \"Shipped\"}"
        ],
        [
         "{\"order_id\": 48, \"customer_id\": 7803, \"order_date\": \"2024-11-13\", \"transaction_timestamp\": \"2024-11-13 06:35:56\", \"total_amount\": 387, \"payment_method\": \"PayPal\", \"items\": [{\"item_id\": 7, \"name\": \"External Hard Drive\", \"category\": \"Electronics\", \"price\": 129, \"quantity\": 3, \"details\": {\"brand\": \"Apple\", \"color\": \"Black\"}}], \"order_status\": \"Completed\"}"
        ],
        [
         "{\"order_id\": 52, \"customer_id\": 8845, \"order_date\": \"2024-11-19\", \"transaction_timestamp\": \"2024-11-19 21:23:45\", \"total_amount\": 998, \"payment_method\": \"PayPal\", \"items\": [{\"item_id\": 8, \"name\": \"Gaming Console\", \"category\": \"Electronics\", \"price\": 499, \"quantity\": 2, \"details\": {\"brand\": \"GoPro\", \"color\": \"White\"}}], \"order_status\": \"Completed\"}"
        ],
        [
         "{\"order_id\": 57, \"customer_id\": 8580, \"order_date\": \"2024-11-19\", \"transaction_timestamp\": \"2024-11-19 11:32:44\", \"total_amount\": 586, \"payment_method\": \"Bank Transfer\", \"items\": [{\"item_id\": 3, \"name\": \"Wireless Headphones\", \"category\": \"Electronics\", \"price\": 199, \"quantity\": 1, \"details\": {\"brand\": \"HP\", \"color\": \"Silver\"}}, {\"item_id\": 7, \"name\": \"External Hard Drive\", \"category\": \"Electronics\", \"price\": 129, \"quantity\": 3, \"details\": {\"brand\": \"Sony\", \"color\": \"Silver\"}}], \"order_status\": \"Cancelled\"}"
        ],
        [
         "{\"order_id\": 63, \"customer_id\": 7123, \"order_date\": \"2024-11-24\", \"transaction_timestamp\": \"2024-11-24 08:41:28\", \"total_amount\": 646, \"payment_method\": \"Bank Transfer\", \"items\": [{\"item_id\": 3, \"name\": \"Wireless Headphones\", \"category\": \"Electronics\", \"price\": 199, \"quantity\": 1, \"details\": {\"brand\": \"GoPro\", \"color\": \"Blue\"}}, {\"item_id\": 6, \"name\": \"Bluetooth Speaker\", \"category\": \"Electronics\", \"price\": 149, \"quantity\": 3, \"details\": {\"brand\": \"Bose\", \"color\": \"Silver\"}}], \"order_status\": \"Cancelled\"}"
        ],
        [
         "{\"order_id\": 64, \"customer_id\": 2639, \"order_date\": \"2024-11-28\", \"transaction_timestamp\": \"2024-11-28 12:23:21\", \"total_amount\": 984, \"payment_method\": \"Bank Transfer\", \"items\": [{\"item_id\": 7, \"name\": \"External Hard Drive\", \"category\": \"Electronics\", \"price\": 129, \"quantity\": 3, \"details\": {\"brand\": \"Microsoft\", \"color\": \"White\"}}, {\"item_id\": 3, \"name\": \"Wireless Headphones\", \"category\": \"Electronics\", \"price\": 199, \"quantity\": 3, \"details\": {\"brand\": \"Canon\", \"color\": \"Blue\"}}], \"order_status\": \"Completed\"}"
        ],
        [
         "{\"order_id\": 88, \"customer_id\": 9247, \"order_date\": \"2024-11-15\", \"transaction_timestamp\": \"2024-11-15 11:39:44\", \"total_amount\": 387, \"payment_method\": \"Bank Transfer\", \"items\": [{\"item_id\": 7, \"name\": \"External Hard Drive\", \"category\": \"Electronics\", \"price\": 129, \"quantity\": 3, \"details\": {\"brand\": \"Bose\", \"color\": \"White\"}}], \"order_status\": \"Cancelled\"}"
        ],
        [
         "{\"order_id\": 89, \"customer_id\": 9247, \"order_date\": \"2024-11-22\", \"transaction_timestamp\": \"2024-11-22 12:09:15\", \"total_amount\": 149, \"payment_method\": \"Bank Transfer\", \"items\": [{\"item_id\": 6, \"name\": \"Bluetooth Speaker\", \"category\": \"Electronics\", \"price\": 149, \"quantity\": 1, \"details\": {\"brand\": \"GoPro\", \"color\": \"Silver\"}}], \"order_status\": \"Cancelled\"}"
        ],
        [
         "{\"order_id\": 92, \"customer_id\": 5592, \"order_date\": \"2024-11-24\", \"transaction_timestamp\": \"2024-11-24 23:33:21\", \"total_amount\": 258, \"payment_method\": \"PayPal\", \"items\": [{\"item_id\": 7, \"name\": \"External Hard Drive\", \"category\": \"Electronics\", \"price\": 129, \"quantity\": 2, \"details\": {\"brand\": \"Sony\", \"color\": \"Black\"}}], \"order_status\": \"Shipped\"}"
        ],
        [
         "{\"order_id\": 6, \"customer_id\": 1987, \"order_date\": \"2024-10-28\", \"transaction_timestamp\": \"2024-10-28 04:47:27\", \"total_amount\": 799, \"payment_method\": \"Credit Card\", \"items\": [{\"item_id\": 10, \"name\": \"Drone\", \"category\": \"Electronics\", \"price\": 799, \"quantity\": 1, \"details\": {\"brand\": \"GoPro\", \"color\": \"Black\"}}], \"order_status\": \"Pending\"}"
        ],
        [
         "{\"order_id\": 10, \"customer_id\": 5816, \"order_date\": \"2024-10-07\", \"transaction_timestamp\": \"2024-10-07 22:09:27\", \"total_amount\": 399, \"payment_method\": \"Credit Card\", \"items\": [{\"item_id\": 5, \"name\": \"Tablet\", \"category\": \"Electronics\", \"price\": 399, \"quantity\": 1, \"details\": {\"brand\": \"GoPro\", \"color\": \"White\"}}], \"order_status\": \"Pending\"}"
        ],
        [
         "{\"order_id\": 11, \"customer_id\": 5816, \"order_date\": \"2024-10-13\", \"transaction_timestamp\": \"2024-10-13 17:34:19\", \"total_amount\": 897, \"payment_method\": \"Bank Transfer\", \"items\": [{\"item_id\": 4, \"name\": \"Smartwatch\", \"category\": \"Electronics\", \"price\": 299, \"quantity\": 3, \"details\": {\"brand\": \"Canon\", \"color\": \"White\"}}], \"order_status\": \"Pending\"}"
        ],
        [
         "{\"order_id\": 15, \"customer_id\": 7207, \"order_date\": \"2024-10-20\", \"transaction_timestamp\": \"2024-10-20 01:47:25\", \"total_amount\": 1199, \"payment_method\": \"Bank Transfer\", \"items\": [{\"item_id\": 9, \"name\": \"Smart TV\", \"category\": \"Electronics\", \"price\": 1199, \"quantity\": 1, \"details\": {\"brand\": \"GoPro\", \"color\": \"White\"}}], \"order_status\": \"Completed\"}"
        ],
        [
         "{\"order_id\": 19, \"customer_id\": 8539, \"order_date\": \"2024-10-13\", \"transaction_timestamp\": \"2024-10-13 12:40:26\", \"total_amount\": 499, \"payment_method\": \"PayPal\", \"items\": [{\"item_id\": 8, \"name\": \"Gaming Console\", \"category\": \"Electronics\", \"price\": 499, \"quantity\": 1, \"details\": {\"brand\": \"Dell\", \"color\": \"Silver\"}}], \"order_status\": \"Shipped\"}"
        ],
        [
         "{\"order_id\": 39, \"customer_id\": 9263, \"order_date\": \"2024-10-29\", \"transaction_timestamp\": \"2024-10-29 21:39:19\", \"total_amount\": 387, \"payment_method\": \"PayPal\", \"items\": [{\"item_id\": 7, \"name\": \"External Hard Drive\", \"category\": \"Electronics\", \"price\": 129, \"quantity\": 3, \"details\": {\"brand\": \"Sony\", \"color\": \"Black\"}}], \"order_status\": \"Shipped\"}"
        ],
        [
         "{\"order_id\": 55, \"customer_id\": 9018, \"order_date\": \"2024-10-25\", \"transaction_timestamp\": \"2024-10-25 05:49:16\", \"total_amount\": 699, \"payment_method\": \"Bank Transfer\", \"items\": [{\"item_id\": 1, \"name\": \"Smartphone\", \"category\": \"Electronics\", \"price\": 699, \"quantity\": 1, \"details\": {\"brand\": \"HP\", \"color\": \"Black\"}}], \"order_status\": \"Shipped\"}"
        ],
        [
         "{\"order_id\": 59, \"customer_id\": 3409, \"order_date\": \"2024-10-23\", \"transaction_timestamp\": \"2024-10-23 02:51:05\", \"total_amount\": 499, \"payment_method\": \"PayPal\", \"items\": [{\"item_id\": 8, \"name\": \"Gaming Console\", \"category\": \"Electronics\", \"price\": 499, \"quantity\": 1, \"details\": {\"brand\": \"Dell\", \"color\": \"Black\"}}], \"order_status\": \"Pending\"}"
        ],
        [
         "{\"order_id\": 72, \"customer_id\": 3889, \"order_date\": 2024-10-06, \"transaction_timestamp\": \"2024-10-06 10:23:28\", \"total_amount\": 328, \"payment_method\": \"PayPal\", \"items\": [{\"item_id\": 3, \"name\": \"Wireless Headphones\", \"category\": \"Electronics\", \"price\": 199, \"quantity\": 1, \"details\": {\"brand\": \"Microsoft\", \"color\": \"Gray\"}}, {\"item_id\": 7, \"name\": \"External Hard Drive\", \"category\": \"Electronics\", \"price\": 129, \"quantity\": 1, \"details\": {\"brand\": \"Samsung\", \"color\": \"Silver\"}}], \"order_status\": \"Cancelled\"}"
        ],
        [
         "{\"order_id\": 77, \"customer_id\": 9084, \"order_date\": \"2024-10-15\", \"transaction_timestamp\": \"2024-10-15 13:09:33\", \"total_amount\": 398, \"payment_method\": \"Credit Card\", \"items\": [{\"item_id\": 3, \"name\": \"Wireless Headphones\", \"category\": \"Electronics\", \"price\": 199, \"quantity\": 2, \"details\": {\"brand\": \"HP\", \"color\": \"Silver\"}}], \"order_status\": \"Pending\"}"
        ],
        [
         "{\"order_id\": 84, \"customer_id\": 2344, \"order_date\": \"2024-10-25\", \"transaction_timestamp\": \"2024-10-25 03:37:42\", \"total_amount\": 998, \"payment_method\": \"PayPal\", \"items\": [{\"item_id\": 10, \"name\": \"Drone\", \"category\": \"Electronics\", \"price\": 799, \"quantity\": 1, \"details\": {\"brand\": \"Sony\", \"color\": \"Black\"}}, {\"item_id\": 3, \"name\": \"Wireless Headphones\", \"category\": \"Electronics\", \"price\": 199, \"quantity\": 1, \"details\": {\"brand\": \"LG\", \"color\": \"Black\"}}], \"order_status\": \"Completed\"}"
        ],
        [
         "{\"order_id\": 85, \"customer_id\": 5011, \"order_date\": \"2024-10-23\", \"transaction_timestamp\": \"2024-10-23 20:06:42\", \"total_amount\": 998, \"payment_method\": \"Bank Transfer\", \"items\": [{\"item_id\": 8, \"name\": \"Gaming Console\", \"category\": \"Electronics\", \"price\": 499, \"quantity\": 2, \"details\": {\"brand\": \"GoPro\", \"color\": \"Black\"}}], \"order_status\": \"Shipped\"}"
        ],
        [
         "{\"order_id\": 86, \"customer_id\": 5011, \"order_date\": \"2024-10-19\", \"transaction_timestamp\": \"2024-10-19 13:30:47\", \"total_amount\": 1199, \"payment_method\": \"PayPal\", \"items\": [{\"item_id\": 9, \"name\": \"Smart TV\", \"category\": \"Electronics\", \"price\": 1199, \"quantity\": 1, \"details\": {\"brand\": \"Dell\", \"color\": \"White\"}}], \"order_status\": \"Completed\"}"
        ]
       ],
       "datasetInfos": [
        {
         "name": "_sqldf",
         "schema": {
          "fields": [
           {
            "metadata": {},
            "name": "value",
            "nullable": true,
            "type": "string"
           }
          ],
          "type": "struct"
         },
         "tableIdentifier": null,
         "typeStr": "pyspark.sql.connect.dataframe.DataFrame"
        }
       ],
       "dbfsResultPath": null,
       "isJsonSchema": true,
       "metadata": {
        "createTempViewForImplicitDf": true,
        "dataframeName": "_sqldf",
        "executionCount": 2
       },
       "overflow": false,
       "plotOptions": {
        "customPlotOptions": {},
        "displayType": "table",
        "pivotAggregation": null,
        "pivotColumns": null,
        "xColumns": null,
        "yColumns": null
       },
       "removedWidgets": [],
       "schema": [
        {
         "metadata": "{}",
         "name": "value",
         "type": "\"string\""
        }
       ],
       "type": "table"
      }
     },
     "output_type": "display_data"
    }
   ],
   "source": [
    "%sql\n",
    "select *\n",
    "  from gizmobox.bronze.v_orders;"
   ]
  },
  {
   "cell_type": "markdown",
   "metadata": {
    "application/vnd.databricks.v1+cell": {
     "cellMetadata": {},
     "inputWidgets": {},
     "nuid": "742938f5-685b-41bd-ab4b-0153db691c6b",
     "showTitle": false,
     "tableResultSettingsMap": {},
     "title": ""
    }
   },
   "source": [
    "#### 1-Pre-process the JSON string to fix the Data Quality Issues"
   ]
  },
  {
   "cell_type": "code",
   "execution_count": 0,
   "metadata": {
    "application/vnd.databricks.v1+cell": {
     "cellMetadata": {
      "byteLimit": 2048000,
      "implicitDf": true,
      "rowLimit": 10000
     },
     "inputWidgets": {},
     "nuid": "6ca53386-576f-4cfa-94a0-8cfce52500dc",
     "showTitle": false,
     "tableResultSettingsMap": {},
     "title": ""
    }
   },
   "outputs": [
    {
     "output_type": "display_data",
     "data": {
      "text/html": [
       "<style scoped>\n",
       "  .table-result-container {\n",
       "    max-height: 300px;\n",
       "    overflow: auto;\n",
       "  }\n",
       "  table, th, td {\n",
       "    border: 1px solid black;\n",
       "    border-collapse: collapse;\n",
       "  }\n",
       "  th, td {\n",
       "    padding: 5px;\n",
       "  }\n",
       "  th {\n",
       "    text-align: left;\n",
       "  }\n",
       "</style><div class='table-result-container'><table class='table-result'><thead style='background-color: white'><tr><th>value</th><th>fixed_value</th></tr></thead><tbody><tr><td>{\"order_id\": 1, \"customer_id\": 6973, \"order_date\": \"2025-01-05\", \"transaction_timestamp\": \"2025-01-05 10:13:59\", \"total_amount\": 499, \"payment_method\": \"Bank Transfer\", \"items\": [{\"item_id\": 8, \"name\": \"Gaming Console\", \"category\": \"Electronics\", \"price\": 499, \"quantity\": 1, \"details\": {\"brand\": \"Sony\", \"color\": \"Blue\"}}], \"order_status\": \"Completed\"}</td><td>{\"order_id\": 1, \"customer_id\": 6973, \"order_date\": \"2025-01-05\", \"transaction_timestamp\": \"2025-01-05 10:13:59\", \"total_amount\": 499, \"payment_method\": \"Bank Transfer\", \"items\": [{\"item_id\": 8, \"name\": \"Gaming Console\", \"category\": \"Electronics\", \"price\": 499, \"quantity\": 1, \"details\": {\"brand\": \"Sony\", \"color\": \"Blue\"}}], \"order_status\": \"Completed\"}</td></tr><tr><td>{\"order_id\": 2, \"customer_id\": 3532, \"order_date\": 2025-01-19, \"transaction_timestamp\": \"2025-01-19 00:05:13\", \"total_amount\": 985, \"payment_method\": \"PayPal\", \"items\": [{\"item_id\": 4, \"name\": \"Smartwatch\", \"category\": \"Electronics\", \"price\": 299, \"quantity\": 2, \"details\": {\"brand\": \"Canon\", \"color\": \"Gray\"}}, {\"item_id\": 7, \"name\": \"External Hard Drive\", \"category\": \"Electronics\", \"price\": 129, \"quantity\": 3, \"details\": {\"brand\": \"Dell\", \"color\": \"Blue\"}}], \"order_status\": \"Cancelled\"}</td><td>{\"order_id\": 2, \"customer_id\": 3532, \"order_date\": \"2025-01-19\", \"transaction_timestamp\": \"2025-01-19 00:05:13\", \"total_amount\": 985, \"payment_method\": \"PayPal\", \"items\": [{\"item_id\": 4, \"name\": \"Smartwatch\", \"category\": \"Electronics\", \"price\": 299, \"quantity\": 2, \"details\": {\"brand\": \"Canon\", \"color\": \"Gray\"}}, {\"item_id\": 7, \"name\": \"External Hard Drive\", \"category\": \"Electronics\", \"price\": 129, \"quantity\": 3, \"details\": {\"brand\": \"Dell\", \"color\": \"Blue\"}}], \"order_status\": \"Cancelled\"}</td></tr><tr><td>{\"order_id\": 3, \"customer_id\": 3532, \"order_date\": \"2025-01-08\", \"transaction_timestamp\": \"2025-01-08 23:11:00\", \"total_amount\": 597, \"payment_method\": \"Bank Transfer\", \"items\": [{\"item_id\": 3, \"name\": \"Wireless Headphones\", \"category\": \"Electronics\", \"price\": 199, \"quantity\": 3, \"details\": {\"brand\": \"Apple\", \"color\": \"White\"}}], \"order_status\": \"Completed\"}</td><td>{\"order_id\": 3, \"customer_id\": 3532, \"order_date\": \"2025-01-08\", \"transaction_timestamp\": \"2025-01-08 23:11:00\", \"total_amount\": 597, \"payment_method\": \"Bank Transfer\", \"items\": [{\"item_id\": 3, \"name\": \"Wireless Headphones\", \"category\": \"Electronics\", \"price\": 199, \"quantity\": 3, \"details\": {\"brand\": \"Apple\", \"color\": \"White\"}}], \"order_status\": \"Completed\"}</td></tr><tr><td>{\"order_id\": 4, \"customer_id\": 3532, \"order_date\": \"2025-01-05\", \"transaction_timestamp\": \"2025-01-05 05:49:26\", \"total_amount\": 999, \"payment_method\": \"Bank Transfer\", \"items\": [{\"item_id\": 2, \"name\": \"Laptop\", \"category\": \"Electronics\", \"price\": 999, \"quantity\": 1, \"details\": {\"brand\": \"Microsoft\", \"color\": \"Black\"}}], \"order_status\": \"Cancelled\"}</td><td>{\"order_id\": 4, \"customer_id\": 3532, \"order_date\": \"2025-01-05\", \"transaction_timestamp\": \"2025-01-05 05:49:26\", \"total_amount\": 999, \"payment_method\": \"Bank Transfer\", \"items\": [{\"item_id\": 2, \"name\": \"Laptop\", \"category\": \"Electronics\", \"price\": 999, \"quantity\": 1, \"details\": {\"brand\": \"Microsoft\", \"color\": \"Black\"}}], \"order_status\": \"Cancelled\"}</td></tr><tr><td>{\"order_id\": 8, \"customer_id\": 9179, \"order_date\": \"2025-01-02\", \"transaction_timestamp\": \"2025-01-02 13:11:15\", \"total_amount\": 399, \"payment_method\": \"PayPal\", \"items\": [{\"item_id\": 5, \"name\": \"Tablet\", \"category\": \"Electronics\", \"price\": 399, \"quantity\": 1, \"details\": {\"brand\": \"LG\", \"color\": \"White\"}}], \"order_status\": \"Completed\"}</td><td>{\"order_id\": 8, \"customer_id\": 9179, \"order_date\": \"2025-01-02\", \"transaction_timestamp\": \"2025-01-02 13:11:15\", \"total_amount\": 399, \"payment_method\": \"PayPal\", \"items\": [{\"item_id\": 5, \"name\": \"Tablet\", \"category\": \"Electronics\", \"price\": 399, \"quantity\": 1, \"details\": {\"brand\": \"LG\", \"color\": \"White\"}}], \"order_status\": \"Completed\"}</td></tr><tr><td>{\"order_id\": 14, \"customer_id\": 7207, \"order_date\": \"2025-01-01\", \"transaction_timestamp\": \"2025-01-01 18:22:26\", \"total_amount\": 597, \"payment_method\": \"PayPal\", \"items\": [{\"item_id\": 3, \"name\": \"Wireless Headphones\", \"category\": \"Electronics\", \"price\": 199, \"quantity\": 3, \"details\": {\"brand\": \"Bose\", \"color\": \"Blue\"}}], \"order_status\": \"Cancelled\"}</td><td>{\"order_id\": 14, \"customer_id\": 7207, \"order_date\": \"2025-01-01\", \"transaction_timestamp\": \"2025-01-01 18:22:26\", \"total_amount\": 597, \"payment_method\": \"PayPal\", \"items\": [{\"item_id\": 3, \"name\": \"Wireless Headphones\", \"category\": \"Electronics\", \"price\": 199, \"quantity\": 3, \"details\": {\"brand\": \"Bose\", \"color\": \"Blue\"}}], \"order_status\": \"Cancelled\"}</td></tr><tr><td>{\"order_id\": 18, \"customer_id\": 4468, \"order_date\": \"2025-01-22\", \"transaction_timestamp\": \"2025-01-22 21:12:08\", \"total_amount\": 799, \"payment_method\": \"Credit Card\", \"items\": [{\"item_id\": 10, \"name\": \"Drone\", \"category\": \"Electronics\", \"price\": 799, \"quantity\": 1, \"details\": {\"brand\": \"Dell\", \"color\": \"Black\"}}], \"order_status\": \"Pending\"}</td><td>{\"order_id\": 18, \"customer_id\": 4468, \"order_date\": \"2025-01-22\", \"transaction_timestamp\": \"2025-01-22 21:12:08\", \"total_amount\": 799, \"payment_method\": \"Credit Card\", \"items\": [{\"item_id\": 10, \"name\": \"Drone\", \"category\": \"Electronics\", \"price\": 799, \"quantity\": 1, \"details\": {\"brand\": \"Dell\", \"color\": \"Black\"}}], \"order_status\": \"Pending\"}</td></tr><tr><td>{\"order_id\": 22, \"customer_id\": 4761, \"order_date\": 2025-01-01, \"transaction_timestamp\": \"2025-01-01 15:49:19\", \"total_amount\": 199, \"payment_method\": \"PayPal\", \"items\": [{\"item_id\": 3, \"name\": \"Wireless Headphones\", \"category\": \"Electronics\", \"price\": 199, \"quantity\": 1, \"details\": {\"brand\": \"HP\", \"color\": \"Silver\"}}], \"order_status\": \"Pending\"}</td><td>{\"order_id\": 22, \"customer_id\": 4761, \"order_date\": \"2025-01-01\", \"transaction_timestamp\": \"2025-01-01 15:49:19\", \"total_amount\": 199, \"payment_method\": \"PayPal\", \"items\": [{\"item_id\": 3, \"name\": \"Wireless Headphones\", \"category\": \"Electronics\", \"price\": 199, \"quantity\": 1, \"details\": {\"brand\": \"HP\", \"color\": \"Silver\"}}], \"order_status\": \"Pending\"}</td></tr><tr><td>{\"order_id\": 26, \"customer_id\": 7007, \"order_date\": \"2025-01-05\", \"transaction_timestamp\": \"2025-01-05 19:01:25\", \"total_amount\": 699, \"payment_method\": \"Bank Transfer\", \"items\": [{\"item_id\": 1, \"name\": \"Smartphone\", \"category\": \"Electronics\", \"price\": 699, \"quantity\": 1, \"details\": {\"brand\": \"Samsung\", \"color\": \"Silver\"}}], \"order_status\": \"Shipped\"}</td><td>{\"order_id\": 26, \"customer_id\": 7007, \"order_date\": \"2025-01-05\", \"transaction_timestamp\": \"2025-01-05 19:01:25\", \"total_amount\": 699, \"payment_method\": \"Bank Transfer\", \"items\": [{\"item_id\": 1, \"name\": \"Smartphone\", \"category\": \"Electronics\", \"price\": 699, \"quantity\": 1, \"details\": {\"brand\": \"Samsung\", \"color\": \"Silver\"}}], \"order_status\": \"Shipped\"}</td></tr><tr><td>{\"order_id\": 29, \"customer_id\": 5953, \"order_date\": \"2025-01-18\", \"transaction_timestamp\": \"2025-01-18 03:05:04\", \"total_amount\": 129, \"payment_method\": \"Bank Transfer\", \"items\": [{\"item_id\": 7, \"name\": \"External Hard Drive\", \"category\": \"Electronics\", \"price\": 129, \"quantity\": 1, \"details\": {\"brand\": \"Bose\", \"color\": \"Gray\"}}, {\"item_id\": 7, \"name\": \"External Hard Drive\", \"category\": \"Electronics\", \"price\": 129, \"quantity\": 1, \"details\": {\"brand\": \"Bose\", \"color\": \"Gray\"}}], \"order_status\": \"Pending\"}</td><td>{\"order_id\": 29, \"customer_id\": 5953, \"order_date\": \"2025-01-18\", \"transaction_timestamp\": \"2025-01-18 03:05:04\", \"total_amount\": 129, \"payment_method\": \"Bank Transfer\", \"items\": [{\"item_id\": 7, \"name\": \"External Hard Drive\", \"category\": \"Electronics\", \"price\": 129, \"quantity\": 1, \"details\": {\"brand\": \"Bose\", \"color\": \"Gray\"}}, {\"item_id\": 7, \"name\": \"External Hard Drive\", \"category\": \"Electronics\", \"price\": 129, \"quantity\": 1, \"details\": {\"brand\": \"Bose\", \"color\": \"Gray\"}}], \"order_status\": \"Pending\"}</td></tr><tr><td>{\"order_id\": 31, \"customer_id\": 4996, \"order_date\": \"2025-01-18\", \"transaction_timestamp\": \"2025-01-18 03:13:29\", \"total_amount\": 299, \"payment_method\": \"Bank Transfer\", \"items\": [{\"item_id\": 4, \"name\": \"Smartwatch\", \"category\": \"Electronics\", \"price\": 299, \"quantity\": 1, \"details\": {\"brand\": \"Dell\", \"color\": \"White\"}}], \"order_status\": \"Shipped\"}</td><td>{\"order_id\": 31, \"customer_id\": 4996, \"order_date\": \"2025-01-18\", \"transaction_timestamp\": \"2025-01-18 03:13:29\", \"total_amount\": 299, \"payment_method\": \"Bank Transfer\", \"items\": [{\"item_id\": 4, \"name\": \"Smartwatch\", \"category\": \"Electronics\", \"price\": 299, \"quantity\": 1, \"details\": {\"brand\": \"Dell\", \"color\": \"White\"}}], \"order_status\": \"Shipped\"}</td></tr><tr><td>{\"order_id\": 33, \"customer_id\": 9605, \"order_date\": \"2025-01-13\", \"transaction_timestamp\": \"2025-01-13 04:47:43\", \"total_amount\": 897, \"payment_method\": \"PayPal\", \"items\": [{\"item_id\": 4, \"name\": \"Smartwatch\", \"category\": \"Electronics\", \"price\": 299, \"quantity\": 3, \"details\": {\"brand\": \"Canon\", \"color\": \"White\"}}], \"order_status\": \"Completed\"}</td><td>{\"order_id\": 33, \"customer_id\": 9605, \"order_date\": \"2025-01-13\", \"transaction_timestamp\": \"2025-01-13 04:47:43\", \"total_amount\": 897, \"payment_method\": \"PayPal\", \"items\": [{\"item_id\": 4, \"name\": \"Smartwatch\", \"category\": \"Electronics\", \"price\": 299, \"quantity\": 3, \"details\": {\"brand\": \"Canon\", \"color\": \"White\"}}], \"order_status\": \"Completed\"}</td></tr><tr><td>{\"order_id\": 34, \"customer_id\": 9605, \"order_date\": \"2025-01-21\", \"transaction_timestamp\": \"2025-01-21 00:25:01\", \"total_amount\": 926, \"payment_method\": \"PayPal\", \"items\": [{\"item_id\": 6, \"name\": \"Bluetooth Speaker\", \"category\": \"Electronics\", \"price\": 149, \"quantity\": 2, \"details\": {\"brand\": \"Bose\", \"color\": \"Silver\"}}, {\"item_id\": 8, \"name\": \"Gaming Console\", \"category\": \"Electronics\", \"price\": 499, \"quantity\": 1, \"details\": {\"brand\": \"LG\", \"color\": \"Black\"}}, {\"item_id\": 7, \"name\": \"External Hard Drive\", \"category\": \"Electronics\", \"price\": 129, \"quantity\": 1, \"details\": {\"brand\": \"Samsung\", \"color\": \"Black\"}}], \"order_status\": \"Cancelled\"}</td><td>{\"order_id\": 34, \"customer_id\": 9605, \"order_date\": \"2025-01-21\", \"transaction_timestamp\": \"2025-01-21 00:25:01\", \"total_amount\": 926, \"payment_method\": \"PayPal\", \"items\": [{\"item_id\": 6, \"name\": \"Bluetooth Speaker\", \"category\": \"Electronics\", \"price\": 149, \"quantity\": 2, \"details\": {\"brand\": \"Bose\", \"color\": \"Silver\"}}, {\"item_id\": 8, \"name\": \"Gaming Console\", \"category\": \"Electronics\", \"price\": 499, \"quantity\": 1, \"details\": {\"brand\": \"LG\", \"color\": \"Black\"}}, {\"item_id\": 7, \"name\": \"External Hard Drive\", \"category\": \"Electronics\", \"price\": 129, \"quantity\": 1, \"details\": {\"brand\": \"Samsung\", \"color\": \"Black\"}}], \"order_status\": \"Cancelled\"}</td></tr><tr><td>{\"order_id\": 40, \"customer_id\": 6384, \"order_date\": \"2025-01-20\", \"transaction_timestamp\": \"2025-01-20 16:18:35\", \"total_amount\": 298, \"payment_method\": \"PayPal\", \"items\": [{\"item_id\": 6, \"name\": \"Bluetooth Speaker\", \"category\": \"Electronics\", \"price\": 149, \"quantity\": 2, \"details\": {\"brand\": \"Bose\", \"color\": \"Silver\"}}], \"order_status\": \"Completed\"}</td><td>{\"order_id\": 40, \"customer_id\": 6384, \"order_date\": \"2025-01-20\", \"transaction_timestamp\": \"2025-01-20 16:18:35\", \"total_amount\": 298, \"payment_method\": \"PayPal\", \"items\": [{\"item_id\": 6, \"name\": \"Bluetooth Speaker\", \"category\": \"Electronics\", \"price\": 149, \"quantity\": 2, \"details\": {\"brand\": \"Bose\", \"color\": \"Silver\"}}], \"order_status\": \"Completed\"}</td></tr><tr><td>{\"order_id\": 41, \"customer_id\": 6384, \"order_date\": \"2025-01-05\", \"transaction_timestamp\": \"2025-01-05 06:10:22\", \"total_amount\": 999, \"payment_method\": \"Credit Card\", \"items\": [{\"item_id\": 2, \"name\": \"Laptop\", \"category\": \"Electronics\", \"price\": 999, \"quantity\": 1, \"details\": {\"brand\": \"Sony\", \"color\": \"Silver\"}}], \"order_status\": \"Shipped\"}</td><td>{\"order_id\": 41, \"customer_id\": 6384, \"order_date\": \"2025-01-05\", \"transaction_timestamp\": \"2025-01-05 06:10:22\", \"total_amount\": 999, \"payment_method\": \"Credit Card\", \"items\": [{\"item_id\": 2, \"name\": \"Laptop\", \"category\": \"Electronics\", \"price\": 999, \"quantity\": 1, \"details\": {\"brand\": \"Sony\", \"color\": \"Silver\"}}], \"order_status\": \"Shipped\"}</td></tr><tr><td>{\"order_id\": 43, \"customer_id\": 5028, \"order_date\": \"2025-01-24\", \"transaction_timestamp\": \"2025-01-24 18:10:37\", \"total_amount\": 499, \"payment_method\": \"PayPal\", \"items\": [{\"item_id\": 8, \"name\": \"Gaming Console\", \"category\": \"Electronics\", \"price\": 499, \"quantity\": 1, \"details\": {\"brand\": \"LG\", \"color\": \"Black\"}}], \"order_status\": \"Pending\"}</td><td>{\"order_id\": 43, \"customer_id\": 5028, \"order_date\": \"2025-01-24\", \"transaction_timestamp\": \"2025-01-24 18:10:37\", \"total_amount\": 499, \"payment_method\": \"PayPal\", \"items\": [{\"item_id\": 8, \"name\": \"Gaming Console\", \"category\": \"Electronics\", \"price\": 499, \"quantity\": 1, \"details\": {\"brand\": \"LG\", \"color\": \"Black\"}}], \"order_status\": \"Pending\"}</td></tr><tr><td>{\"order_id\": 50, \"customer_id\": 3712, \"order_date\": \"2025-01-11\", \"transaction_timestamp\": \"2025-01-11 01:19:09\", \"total_amount\": 746, \"payment_method\": \"Credit Card\", \"items\": [{\"item_id\": 6, \"name\": \"Bluetooth Speaker\", \"category\": \"Electronics\", \"price\": 149, \"quantity\": 3, \"details\": {\"brand\": \"Apple\", \"color\": \"Gray\"}}, {\"item_id\": 4, \"name\": \"Smartwatch\", \"category\": \"Electronics\", \"price\": 299, \"quantity\": 1, \"details\": {\"brand\": \"Sony\", \"color\": \"White\"}}], \"order_status\": \"Shipped\"}</td><td>{\"order_id\": 50, \"customer_id\": 3712, \"order_date\": \"2025-01-11\", \"transaction_timestamp\": \"2025-01-11 01:19:09\", \"total_amount\": 746, \"payment_method\": \"Credit Card\", \"items\": [{\"item_id\": 6, \"name\": \"Bluetooth Speaker\", \"category\": \"Electronics\", \"price\": 149, \"quantity\": 3, \"details\": {\"brand\": \"Apple\", \"color\": \"Gray\"}}, {\"item_id\": 4, \"name\": \"Smartwatch\", \"category\": \"Electronics\", \"price\": 299, \"quantity\": 1, \"details\": {\"brand\": \"Sony\", \"color\": \"White\"}}], \"order_status\": \"Shipped\"}</td></tr><tr><td>{\"order_id\": 51, \"customer_id\": 8845, \"order_date\": \"2025-01-21\", \"transaction_timestamp\": \"2025-01-21 13:19:59\", \"total_amount\": 149, \"payment_method\": \"PayPal\", \"items\": [{\"item_id\": 6, \"name\": \"Bluetooth Speaker\", \"category\": \"Electronics\", \"price\": 149, \"quantity\": 1, \"details\": {\"brand\": \"Samsung\", \"color\": \"Gray\"}}], \"order_status\": \"Completed\"}</td><td>{\"order_id\": 51, \"customer_id\": 8845, \"order_date\": \"2025-01-21\", \"transaction_timestamp\": \"2025-01-21 13:19:59\", \"total_amount\": 149, \"payment_method\": \"PayPal\", \"items\": [{\"item_id\": 6, \"name\": \"Bluetooth Speaker\", \"category\": \"Electronics\", \"price\": 149, \"quantity\": 1, \"details\": {\"brand\": \"Samsung\", \"color\": \"Gray\"}}], \"order_status\": \"Completed\"}</td></tr><tr><td>{\"order_id\": 53, \"customer_id\": 8845, \"order_date\": \"2025-01-21\", \"transaction_timestamp\": \"2025-01-21 08:31:02\", \"total_amount\": 199, \"payment_method\": \"Bank Transfer\", \"items\": [{\"item_id\": 3, \"name\": \"Wireless Headphones\", \"category\": \"Electronics\", \"price\": 199, \"quantity\": 1, \"details\": {\"brand\": \"Apple\", \"color\": \"Black\"}}], \"order_status\": \"Pending\"}</td><td>{\"order_id\": 53, \"customer_id\": 8845, \"order_date\": \"2025-01-21\", \"transaction_timestamp\": \"2025-01-21 08:31:02\", \"total_amount\": 199, \"payment_method\": \"Bank Transfer\", \"items\": [{\"item_id\": 3, \"name\": \"Wireless Headphones\", \"category\": \"Electronics\", \"price\": 199, \"quantity\": 1, \"details\": {\"brand\": \"Apple\", \"color\": \"Black\"}}], \"order_status\": \"Pending\"}</td></tr><tr><td>{\"order_id\": 56, \"customer_id\": 8580, \"order_date\": \"2025-01-01\", \"transaction_timestamp\": \"2025-01-01 12:02:41\", \"total_amount\": 698, \"payment_method\": \"PayPal\", \"items\": [{\"item_id\": 3, \"name\": \"Wireless Headphones\", \"category\": \"Electronics\", \"price\": 199, \"quantity\": 1, \"details\": {\"brand\": \"HP\", \"color\": \"Silver\"}}, {\"item_id\": 8, \"name\": \"Gaming Console\", \"category\": \"Electronics\", \"price\": 499, \"quantity\": 1, \"details\": {\"brand\": \"LG\", \"color\": \"Gray\"}}], \"order_status\": \"Cancelled\"}</td><td>{\"order_id\": 56, \"customer_id\": 8580, \"order_date\": \"2025-01-01\", \"transaction_timestamp\": \"2025-01-01 12:02:41\", \"total_amount\": 698, \"payment_method\": \"PayPal\", \"items\": [{\"item_id\": 3, \"name\": \"Wireless Headphones\", \"category\": \"Electronics\", \"price\": 199, \"quantity\": 1, \"details\": {\"brand\": \"HP\", \"color\": \"Silver\"}}, {\"item_id\": 8, \"name\": \"Gaming Console\", \"category\": \"Electronics\", \"price\": 499, \"quantity\": 1, \"details\": {\"brand\": \"LG\", \"color\": \"Gray\"}}], \"order_status\": \"Cancelled\"}</td></tr><tr><td>{\"order_id\": 62, \"customer_id\": 7123, \"order_date\": \"2025-01-24\", \"transaction_timestamp\": \"2025-01-24 12:00:54\", \"total_amount\": 985, \"payment_method\": \"Bank Transfer\", \"items\": [{\"item_id\": 7, \"name\": \"External Hard Drive\", \"category\": \"Electronics\", \"price\": 129, \"quantity\": 3, \"details\": {\"brand\": \"Dell\", \"color\": \"White\"}}, {\"item_id\": 4, \"name\": \"Smartwatch\", \"category\": \"Electronics\", \"price\": 299, \"quantity\": 2, \"details\": {\"brand\": \"GoPro\", \"color\": \"Blue\"}}], \"order_status\": \"Completed\"}</td><td>{\"order_id\": 62, \"customer_id\": 7123, \"order_date\": \"2025-01-24\", \"transaction_timestamp\": \"2025-01-24 12:00:54\", \"total_amount\": 985, \"payment_method\": \"Bank Transfer\", \"items\": [{\"item_id\": 7, \"name\": \"External Hard Drive\", \"category\": \"Electronics\", \"price\": 129, \"quantity\": 3, \"details\": {\"brand\": \"Dell\", \"color\": \"White\"}}, {\"item_id\": 4, \"name\": \"Smartwatch\", \"category\": \"Electronics\", \"price\": 299, \"quantity\": 2, \"details\": {\"brand\": \"GoPro\", \"color\": \"Blue\"}}], \"order_status\": \"Completed\"}</td></tr><tr><td>{\"order_id\": 66, \"customer_id\": 3084, \"order_date\": \"2025-01-17\", \"transaction_timestamp\": \"2025-01-17 21:16:11\", \"total_amount\": 598, \"payment_method\": \"Credit Card\", \"items\": [{\"item_id\": 4, \"name\": \"Smartwatch\", \"category\": \"Electronics\", \"price\": 299, \"quantity\": 1, \"details\": {\"brand\": \"Bose\", \"color\": \"Silver\"}}, {\"item_id\": 4, \"name\": \"Smartwatch\", \"category\": \"Electronics\", \"price\": 299, \"quantity\": 1, \"details\": {\"brand\": \"GoPro\", \"color\": \"White\"}}], \"order_status\": \"Cancelled\"}</td><td>{\"order_id\": 66, \"customer_id\": 3084, \"order_date\": \"2025-01-17\", \"transaction_timestamp\": \"2025-01-17 21:16:11\", \"total_amount\": 598, \"payment_method\": \"Credit Card\", \"items\": [{\"item_id\": 4, \"name\": \"Smartwatch\", \"category\": \"Electronics\", \"price\": 299, \"quantity\": 1, \"details\": {\"brand\": \"Bose\", \"color\": \"Silver\"}}, {\"item_id\": 4, \"name\": \"Smartwatch\", \"category\": \"Electronics\", \"price\": 299, \"quantity\": 1, \"details\": {\"brand\": \"GoPro\", \"color\": \"White\"}}], \"order_status\": \"Cancelled\"}</td></tr><tr><td>{\"order_id\": 68, \"customer_id\": 4973, \"order_date\": \"2025-01-10\", \"transaction_timestamp\": \"2025-01-10 20:35:43\", \"total_amount\": 149, \"payment_method\": \"Bank Transfer\", \"items\": [{\"item_id\": 6, \"name\": \"Bluetooth Speaker\", \"category\": \"Electronics\", \"price\": 149, \"quantity\": 1, \"details\": {\"brand\": \"Bose\", \"color\": \"Gray\"}}], \"order_status\": \"Completed\"}</td><td>{\"order_id\": 68, \"customer_id\": 4973, \"order_date\": \"2025-01-10\", \"transaction_timestamp\": \"2025-01-10 20:35:43\", \"total_amount\": 149, \"payment_method\": \"Bank Transfer\", \"items\": [{\"item_id\": 6, \"name\": \"Bluetooth Speaker\", \"category\": \"Electronics\", \"price\": 149, \"quantity\": 1, \"details\": {\"brand\": \"Bose\", \"color\": \"Gray\"}}], \"order_status\": \"Completed\"}</td></tr><tr><td>{\"order_id\": 73, \"customer_id\": 6167, \"order_date\": \"2025-01-07\", \"transaction_timestamp\": \"2025-01-07 01:02:26\", \"total_amount\": 387, \"payment_method\": \"Credit Card\", \"items\": [{\"item_id\": 7, \"name\": \"External Hard Drive\", \"category\": \"Electronics\", \"price\": 129, \"quantity\": 3, \"details\": {\"brand\": \"GoPro\", \"color\": \"Gray\"}}, {\"item_id\": 7, \"name\": \"External Hard Drive\", \"category\": \"Electronics\", \"price\": 129, \"quantity\": 3, \"details\": {\"brand\": \"GoPro\", \"color\": \"Gray\"}}], \"order_status\": \"Shipped\"}</td><td>{\"order_id\": 73, \"customer_id\": 6167, \"order_date\": \"2025-01-07\", \"transaction_timestamp\": \"2025-01-07 01:02:26\", \"total_amount\": 387, \"payment_method\": \"Credit Card\", \"items\": [{\"item_id\": 7, \"name\": \"External Hard Drive\", \"category\": \"Electronics\", \"price\": 129, \"quantity\": 3, \"details\": {\"brand\": \"GoPro\", \"color\": \"Gray\"}}, {\"item_id\": 7, \"name\": \"External Hard Drive\", \"category\": \"Electronics\", \"price\": 129, \"quantity\": 3, \"details\": {\"brand\": \"GoPro\", \"color\": \"Gray\"}}], \"order_status\": \"Shipped\"}</td></tr><tr><td>{\"order_id\": 75, \"customer_id\": 6167, \"order_date\": \"2025-01-19\", \"transaction_timestamp\": \"2025-01-19 16:23:16\", \"total_amount\": 699, \"payment_method\": \"Credit Card\", \"items\": [{\"item_id\": 1, \"name\": \"Smartphone\", \"category\": \"Electronics\", \"price\": 699, \"quantity\": 1, \"details\": {\"brand\": \"GoPro\", \"color\": \"White\"}}], \"order_status\": \"Shipped\"}</td><td>{\"order_id\": 75, \"customer_id\": 6167, \"order_date\": \"2025-01-19\", \"transaction_timestamp\": \"2025-01-19 16:23:16\", \"total_amount\": 699, \"payment_method\": \"Credit Card\", \"items\": [{\"item_id\": 1, \"name\": \"Smartphone\", \"category\": \"Electronics\", \"price\": 699, \"quantity\": 1, \"details\": {\"brand\": \"GoPro\", \"color\": \"White\"}}], \"order_status\": \"Shipped\"}</td></tr><tr><td>{\"order_id\": 76, \"customer_id\": 3295, \"order_date\": \"2025-01-06\", \"transaction_timestamp\": \"2025-01-06 02:54:39\", \"total_amount\": 399, \"payment_method\": \"Bank Transfer\", \"items\": [{\"item_id\": 5, \"name\": \"Tablet\", \"category\": \"Electronics\", \"price\": 399, \"quantity\": 1, \"details\": {\"brand\": \"Microsoft\", \"color\": \"Silver\"}}], \"order_status\": \"Completed\"}</td><td>{\"order_id\": 76, \"customer_id\": 3295, \"order_date\": \"2025-01-06\", \"transaction_timestamp\": \"2025-01-06 02:54:39\", \"total_amount\": 399, \"payment_method\": \"Bank Transfer\", \"items\": [{\"item_id\": 5, \"name\": \"Tablet\", \"category\": \"Electronics\", \"price\": 399, \"quantity\": 1, \"details\": {\"brand\": \"Microsoft\", \"color\": \"Silver\"}}], \"order_status\": \"Completed\"}</td></tr><tr><td>{\"order_id\": 78, \"customer_id\": 9084, \"order_date\": \"2025-01-21\", \"transaction_timestamp\": \"2025-01-21 11:42:51\", \"total_amount\": 798, \"payment_method\": \"PayPal\", \"items\": [{\"item_id\": 5, \"name\": \"Tablet\", \"category\": \"Electronics\", \"price\": 399, \"quantity\": 2, \"details\": {\"brand\": \"Dell\", \"color\": \"White\"}}], \"order_status\": \"Cancelled\"}</td><td>{\"order_id\": 78, \"customer_id\": 9084, \"order_date\": \"2025-01-21\", \"transaction_timestamp\": \"2025-01-21 11:42:51\", \"total_amount\": 798, \"payment_method\": \"PayPal\", \"items\": [{\"item_id\": 5, \"name\": \"Tablet\", \"category\": \"Electronics\", \"price\": 399, \"quantity\": 2, \"details\": {\"brand\": \"Dell\", \"color\": \"White\"}}], \"order_status\": \"Cancelled\"}</td></tr><tr><td>{\"order_id\": 79, \"customer_id\": 9084, \"order_date\": \"2025-01-25\", \"transaction_timestamp\": \"2025-01-25 03:52:05\", \"total_amount\": 998, \"payment_method\": \"Credit Card\", \"items\": [{\"item_id\": 8, \"name\": \"Gaming Console\", \"category\": \"Electronics\", \"price\": 499, \"quantity\": 2, \"details\": {\"brand\": \"Dell\", \"color\": \"Gray\"}}], \"order_status\": \"Cancelled\"}</td><td>{\"order_id\": 79, \"customer_id\": 9084, \"order_date\": \"2025-01-25\", \"transaction_timestamp\": \"2025-01-25 03:52:05\", \"total_amount\": 998, \"payment_method\": \"Credit Card\", \"items\": [{\"item_id\": 8, \"name\": \"Gaming Console\", \"category\": \"Electronics\", \"price\": 499, \"quantity\": 2, \"details\": {\"brand\": \"Dell\", \"color\": \"Gray\"}}], \"order_status\": \"Cancelled\"}</td></tr><tr><td>{\"order_id\": 83, \"customer_id\": 2344, \"order_date\": \"2025-01-07\", \"transaction_timestamp\": \"2025-01-07 12:48:05\", \"total_amount\": 785, \"payment_method\": \"PayPal\", \"items\": [{\"item_id\": 7, \"name\": \"External Hard Drive\", \"category\": \"Electronics\", \"price\": 129, \"quantity\": 3, \"details\": {\"brand\": \"Canon\", \"color\": \"Gray\"}}, {\"item_id\": 3, \"name\": \"Wireless Headphones\", \"category\": \"Electronics\", \"price\": 199, \"quantity\": 2, \"details\": {\"brand\": \"Sony\", \"color\": \"Black\"}}], \"order_status\": \"Shipped\"}</td><td>{\"order_id\": 83, \"customer_id\": 2344, \"order_date\": \"2025-01-07\", \"transaction_timestamp\": \"2025-01-07 12:48:05\", \"total_amount\": 785, \"payment_method\": \"PayPal\", \"items\": [{\"item_id\": 7, \"name\": \"External Hard Drive\", \"category\": \"Electronics\", \"price\": 129, \"quantity\": 3, \"details\": {\"brand\": \"Canon\", \"color\": \"Gray\"}}, {\"item_id\": 3, \"name\": \"Wireless Headphones\", \"category\": \"Electronics\", \"price\": 199, \"quantity\": 2, \"details\": {\"brand\": \"Sony\", \"color\": \"Black\"}}], \"order_status\": \"Shipped\"}</td></tr><tr><td>{\"order_id\": 87, \"customer_id\": 2141, \"order_date\": \"2025-01-02\", \"transaction_timestamp\": \"2025-01-02 04:28:38\", \"total_amount\": 129, \"payment_method\": \"PayPal\", \"items\": [{\"item_id\": 7, \"name\": \"External Hard Drive\", \"category\": \"Electronics\", \"price\": 129, \"quantity\": 1, \"details\": {\"brand\": \"Apple\", \"color\": \"Blue\"}}], \"order_status\": \"Pending\"}</td><td>{\"order_id\": 87, \"customer_id\": 2141, \"order_date\": \"2025-01-02\", \"transaction_timestamp\": \"2025-01-02 04:28:38\", \"total_amount\": 129, \"payment_method\": \"PayPal\", \"items\": [{\"item_id\": 7, \"name\": \"External Hard Drive\", \"category\": \"Electronics\", \"price\": 129, \"quantity\": 1, \"details\": {\"brand\": \"Apple\", \"color\": \"Blue\"}}], \"order_status\": \"Pending\"}</td></tr><tr><td>{\"order_id\": 90, \"customer_id\": 9247, \"order_date\": \"2025-01-17\", \"transaction_timestamp\": \"2025-01-17 14:30:54\", \"total_amount\": 258, \"payment_method\": \"Credit Card\", \"items\": [{\"item_id\": 7, \"name\": \"External Hard Drive\", \"category\": \"Electronics\", \"price\": 129, \"quantity\": 1, \"details\": {\"brand\": \"Canon\", \"color\": \"White\"}}, {\"item_id\": 7, \"name\": \"External Hard Drive\", \"category\": \"Electronics\", \"price\": 129, \"quantity\": 1, \"details\": {\"brand\": \"Samsung\", \"color\": \"Black\"}}], \"order_status\": \"Pending\"}</td><td>{\"order_id\": 90, \"customer_id\": 9247, \"order_date\": \"2025-01-17\", \"transaction_timestamp\": \"2025-01-17 14:30:54\", \"total_amount\": 258, \"payment_method\": \"Credit Card\", \"items\": [{\"item_id\": 7, \"name\": \"External Hard Drive\", \"category\": \"Electronics\", \"price\": 129, \"quantity\": 1, \"details\": {\"brand\": \"Canon\", \"color\": \"White\"}}, {\"item_id\": 7, \"name\": \"External Hard Drive\", \"category\": \"Electronics\", \"price\": 129, \"quantity\": 1, \"details\": {\"brand\": \"Samsung\", \"color\": \"Black\"}}], \"order_status\": \"Pending\"}</td></tr><tr><td>{\"order_id\": 94, \"customer_id\": 6627, \"order_date\": \"2025-01-10\", \"transaction_timestamp\": \"2025-01-10 09:51:48\", \"total_amount\": 895, \"payment_method\": \"Credit Card\", \"items\": [{\"item_id\": 6, \"name\": \"Bluetooth Speaker\", \"category\": \"Electronics\", \"price\": 149, \"quantity\": 2, \"details\": {\"brand\": \"Sony\", \"color\": \"Black\"}}, {\"item_id\": 3, \"name\": \"Wireless Headphones\", \"category\": \"Electronics\", \"price\": 199, \"quantity\": 3, \"details\": {\"brand\": \"Apple\", \"color\": \"Blue\"}}], \"order_status\": \"Pending\"}</td><td>{\"order_id\": 94, \"customer_id\": 6627, \"order_date\": \"2025-01-10\", \"transaction_timestamp\": \"2025-01-10 09:51:48\", \"total_amount\": 895, \"payment_method\": \"Credit Card\", \"items\": [{\"item_id\": 6, \"name\": \"Bluetooth Speaker\", \"category\": \"Electronics\", \"price\": 149, \"quantity\": 2, \"details\": {\"brand\": \"Sony\", \"color\": \"Black\"}}, {\"item_id\": 3, \"name\": \"Wireless Headphones\", \"category\": \"Electronics\", \"price\": 199, \"quantity\": 3, \"details\": {\"brand\": \"Apple\", \"color\": \"Blue\"}}], \"order_status\": \"Pending\"}</td></tr><tr><td>{\"order_id\": 98, \"customer_id\": 9150, \"order_date\": \"2025-01-08\", \"transaction_timestamp\": \"2025-01-08 05:57:55\", \"total_amount\": 985, \"payment_method\": \"Credit Card\", \"items\": [{\"item_id\": 7, \"name\": \"External Hard Drive\", \"category\": \"Electronics\", \"price\": 129, \"quantity\": 3, \"details\": {\"brand\": \"HP\", \"color\": \"Blue\"}}, {\"item_id\": 4, \"name\": \"Smartwatch\", \"category\": \"Electronics\", \"price\": 299, \"quantity\": 2, \"details\": {\"brand\": \"Samsung\", \"color\": \"Gray\"}}], \"order_status\": \"Completed\"}</td><td>{\"order_id\": 98, \"customer_id\": 9150, \"order_date\": \"2025-01-08\", \"transaction_timestamp\": \"2025-01-08 05:57:55\", \"total_amount\": 985, \"payment_method\": \"Credit Card\", \"items\": [{\"item_id\": 7, \"name\": \"External Hard Drive\", \"category\": \"Electronics\", \"price\": 129, \"quantity\": 3, \"details\": {\"brand\": \"HP\", \"color\": \"Blue\"}}, {\"item_id\": 4, \"name\": \"Smartwatch\", \"category\": \"Electronics\", \"price\": 299, \"quantity\": 2, \"details\": {\"brand\": \"Samsung\", \"color\": \"Gray\"}}], \"order_status\": \"Completed\"}</td></tr><tr><td>{\"order_id\": 99, \"customer_id\": 9150, \"order_date\": \"2025-01-10\", \"transaction_timestamp\": \"2025-01-10 21:43:46\", \"total_amount\": 699, \"payment_method\": \"Credit Card\", \"items\": [{\"item_id\": 1, \"name\": \"Smartphone\", \"category\": \"Electronics\", \"price\": 699, \"quantity\": 1, \"details\": {\"brand\": \"Bose\", \"color\": \"Gray\"}}], \"order_status\": \"Shipped\"}</td><td>{\"order_id\": 99, \"customer_id\": 9150, \"order_date\": \"2025-01-10\", \"transaction_timestamp\": \"2025-01-10 21:43:46\", \"total_amount\": 699, \"payment_method\": \"Credit Card\", \"items\": [{\"item_id\": 1, \"name\": \"Smartphone\", \"category\": \"Electronics\", \"price\": 699, \"quantity\": 1, \"details\": {\"brand\": \"Bose\", \"color\": \"Gray\"}}], \"order_status\": \"Shipped\"}</td></tr><tr><td>{\"order_id\": 100, \"customer_id\": 9150, \"order_date\": \"2025-01-04\", \"transaction_timestamp\": \"2025-01-04 06:40:13\", \"total_amount\": 447, \"payment_method\": \"PayPal\", \"items\": [{\"item_id\": 6, \"name\": \"Bluetooth Speaker\", \"category\": \"Electronics\", \"price\": 149, \"quantity\": 3, \"details\": {\"brand\": \"LG\", \"color\": \"Silver\"}}], \"order_status\": \"Shipped\"}</td><td>{\"order_id\": 100, \"customer_id\": 9150, \"order_date\": \"2025-01-04\", \"transaction_timestamp\": \"2025-01-04 06:40:13\", \"total_amount\": 447, \"payment_method\": \"PayPal\", \"items\": [{\"item_id\": 6, \"name\": \"Bluetooth Speaker\", \"category\": \"Electronics\", \"price\": 149, \"quantity\": 3, \"details\": {\"brand\": \"LG\", \"color\": \"Silver\"}}], \"order_status\": \"Shipped\"}</td></tr><tr><td>{\"order_id\": 12, \"customer_id\": 5816, \"order_date\": \"2024-12-06\", \"transaction_timestamp\": \"2024-12-06 20:26:49\", \"total_amount\": 999, \"payment_method\": \"PayPal\", \"items\": [{\"item_id\": 2, \"name\": \"Laptop\", \"category\": \"Electronics\", \"price\": 999, \"quantity\": 1, \"details\": {\"brand\": \"Sony\", \"color\": \"White\"}}], \"order_status\": \"Cancelled\"}</td><td>{\"order_id\": 12, \"customer_id\": 5816, \"order_date\": \"2024-12-06\", \"transaction_timestamp\": \"2024-12-06 20:26:49\", \"total_amount\": 999, \"payment_method\": \"PayPal\", \"items\": [{\"item_id\": 2, \"name\": \"Laptop\", \"category\": \"Electronics\", \"price\": 999, \"quantity\": 1, \"details\": {\"brand\": \"Sony\", \"color\": \"White\"}}], \"order_status\": \"Cancelled\"}</td></tr><tr><td>{\"order_id\": 13, \"customer_id\": 4858, \"order_date\": \"2024-12-17\", \"transaction_timestamp\": \"2024-12-17 03:41:37\", \"total_amount\": 999, \"payment_method\": \"PayPal\", \"items\": [{\"item_id\": 2, \"name\": \"Laptop\", \"category\": \"Electronics\", \"price\": 999, \"quantity\": 1, \"details\": {\"brand\": \"GoPro\", \"color\": \"Black\"}}], \"order_status\": \"Pending\"}</td><td>{\"order_id\": 13, \"customer_id\": 4858, \"order_date\": \"2024-12-17\", \"transaction_timestamp\": \"2024-12-17 03:41:37\", \"total_amount\": 999, \"payment_method\": \"PayPal\", \"items\": [{\"item_id\": 2, \"name\": \"Laptop\", \"category\": \"Electronics\", \"price\": 999, \"quantity\": 1, \"details\": {\"brand\": \"GoPro\", \"color\": \"Black\"}}], \"order_status\": \"Pending\"}</td></tr><tr><td>{\"order_id\": 16, \"customer_id\": 5204, \"order_date\": \"2024-12-08\", \"transaction_timestamp\": \"2024-12-08 22:59:48\", \"total_amount\": 597, \"payment_method\": \"Bank Transfer\", \"items\": [{\"item_id\": 3, \"name\": \"Wireless Headphones\", \"category\": \"Electronics\", \"price\": 199, \"quantity\": 3, \"details\": {\"brand\": \"Sony\", \"color\": \"Silver\"}}], \"order_status\": \"Pending\"}</td><td>{\"order_id\": 16, \"customer_id\": 5204, \"order_date\": \"2024-12-08\", \"transaction_timestamp\": \"2024-12-08 22:59:48\", \"total_amount\": 597, \"payment_method\": \"Bank Transfer\", \"items\": [{\"item_id\": 3, \"name\": \"Wireless Headphones\", \"category\": \"Electronics\", \"price\": 199, \"quantity\": 3, \"details\": {\"brand\": \"Sony\", \"color\": \"Silver\"}}], \"order_status\": \"Pending\"}</td></tr><tr><td>{\"order_id\": 17, \"customer_id\": 5204, \"order_date\": \"2024-12-02\", \"transaction_timestamp\": \"2024-12-02 12:00:50\", \"total_amount\": 998, \"payment_method\": \"Bank Transfer\", \"items\": [{\"item_id\": 8, \"name\": \"Gaming Console\", \"category\": \"Electronics\", \"price\": 499, \"quantity\": 2, \"details\": {\"brand\": \"Dell\", \"color\": \"Black\"}}], \"order_status\": \"Pending\"}</td><td>{\"order_id\": 17, \"customer_id\": 5204, \"order_date\": \"2024-12-02\", \"transaction_timestamp\": \"2024-12-02 12:00:50\", \"total_amount\": 998, \"payment_method\": \"Bank Transfer\", \"items\": [{\"item_id\": 8, \"name\": \"Gaming Console\", \"category\": \"Electronics\", \"price\": 499, \"quantity\": 2, \"details\": {\"brand\": \"Dell\", \"color\": \"Black\"}}], \"order_status\": \"Pending\"}</td></tr><tr><td>{\"order_id\": 24, \"customer_id\": 1211, \"order_date\": \"2024-12-21\", \"transaction_timestamp\": \"2024-12-21 03:24:26\", \"total_amount\": 1199, \"payment_method\": \"PayPal\", \"items\": [{\"item_id\": 9, \"name\": \"Smart TV\", \"category\": \"Electronics\", \"price\": 1199, \"quantity\": 1, \"details\": {\"brand\": \"GoPro\", \"color\": \"Gray\"}}], \"order_status\": \"Completed\"}</td><td>{\"order_id\": 24, \"customer_id\": 1211, \"order_date\": \"2024-12-21\", \"transaction_timestamp\": \"2024-12-21 03:24:26\", \"total_amount\": 1199, \"payment_method\": \"PayPal\", \"items\": [{\"item_id\": 9, \"name\": \"Smart TV\", \"category\": \"Electronics\", \"price\": 1199, \"quantity\": 1, \"details\": {\"brand\": \"GoPro\", \"color\": \"Gray\"}}], \"order_status\": \"Completed\"}</td></tr><tr><td>{\"order_id\": 27, \"customer_id\": 2703, \"order_date\": \"2024-12-02\", \"transaction_timestamp\": \"2024-12-02 11:24:21\", \"total_amount\": 904, \"payment_method\": \"Credit Card\", \"items\": [{\"item_id\": 7, \"name\": \"External Hard Drive\", \"category\": \"Electronics\", \"price\": 129, \"quantity\": 2, \"details\": {\"brand\": \"Dell\", \"color\": \"White\"}}, {\"item_id\": 6, \"name\": \"Bluetooth Speaker\", \"category\": \"Electronics\", \"price\": 149, \"quantity\": 3, \"details\": {\"brand\": \"Canon\", \"color\": \"Black\"}}, {\"item_id\": 3, \"name\": \"Wireless Headphones\", \"category\": \"Electronics\", \"price\": 199, \"quantity\": 1, \"details\": {\"brand\": \"Microsoft\", \"color\": \"Silver\"}}], \"order_status\": \"Completed\"}</td><td>{\"order_id\": 27, \"customer_id\": 2703, \"order_date\": \"2024-12-02\", \"transaction_timestamp\": \"2024-12-02 11:24:21\", \"total_amount\": 904, \"payment_method\": \"Credit Card\", \"items\": [{\"item_id\": 7, \"name\": \"External Hard Drive\", \"category\": \"Electronics\", \"price\": 129, \"quantity\": 2, \"details\": {\"brand\": \"Dell\", \"color\": \"White\"}}, {\"item_id\": 6, \"name\": \"Bluetooth Speaker\", \"category\": \"Electronics\", \"price\": 149, \"quantity\": 3, \"details\": {\"brand\": \"Canon\", \"color\": \"Black\"}}, {\"item_id\": 3, \"name\": \"Wireless Headphones\", \"category\": \"Electronics\", \"price\": 199, \"quantity\": 1, \"details\": {\"brand\": \"Microsoft\", \"color\": \"Silver\"}}], \"order_status\": \"Completed\"}</td></tr><tr><td>{\"order_id\": 28, \"customer_id\": 2703, \"order_date\": \"2024-12-26\", \"transaction_timestamp\": \"2024-12-26 03:17:50\", \"total_amount\": 129, \"payment_method\": \"Credit Card\", \"items\": [{\"item_id\": 7, \"name\": \"External Hard Drive\", \"category\": \"Electronics\", \"price\": 129, \"quantity\": 1, \"details\": {\"brand\": \"GoPro\", \"color\": \"Blue\"}}], \"order_status\": \"Cancelled\"}</td><td>{\"order_id\": 28, \"customer_id\": 2703, \"order_date\": \"2024-12-26\", \"transaction_timestamp\": \"2024-12-26 03:17:50\", \"total_amount\": 129, \"payment_method\": \"Credit Card\", \"items\": [{\"item_id\": 7, \"name\": \"External Hard Drive\", \"category\": \"Electronics\", \"price\": 129, \"quantity\": 1, \"details\": {\"brand\": \"GoPro\", \"color\": \"Blue\"}}], \"order_status\": \"Cancelled\"}</td></tr><tr><td>{\"order_id\": 32, \"customer_id\": 4996, \"order_date\": \"2024-12-28\", \"transaction_timestamp\": \"2024-12-28 08:55:57\", \"total_amount\": 399, \"payment_method\": \"PayPal\", \"items\": [{\"item_id\": 5, \"name\": \"Tablet\", \"category\": \"Electronics\", \"price\": 399, \"quantity\": 1, \"details\": {\"brand\": \"Apple\", \"color\": \"Silver\"}}], \"order_status\": \"Pending\"}</td><td>{\"order_id\": 32, \"customer_id\": 4996, \"order_date\": \"2024-12-28\", \"transaction_timestamp\": \"2024-12-28 08:55:57\", \"total_amount\": 399, \"payment_method\": \"PayPal\", \"items\": [{\"item_id\": 5, \"name\": \"Tablet\", \"category\": \"Electronics\", \"price\": 399, \"quantity\": 1, \"details\": {\"brand\": \"Apple\", \"color\": \"Silver\"}}], \"order_status\": \"Pending\"}</td></tr><tr><td>{\"order_id\": 37, \"customer_id\": 7829, \"order_date\": \"2024-12-22\", \"transaction_timestamp\": \"2024-12-22 10:11:49\", \"total_amount\": 258, \"payment_method\": \"Credit Card\", \"items\": [{\"item_id\": 7, \"name\": \"External Hard Drive\", \"category\": \"Electronics\", \"price\": 129, \"quantity\": 2, \"details\": {\"brand\": \"HP\", \"color\": \"Silver\"}}], \"order_status\": \"Shipped\"}</td><td>{\"order_id\": 37, \"customer_id\": 7829, \"order_date\": \"2024-12-22\", \"transaction_timestamp\": \"2024-12-22 10:11:49\", \"total_amount\": 258, \"payment_method\": \"Credit Card\", \"items\": [{\"item_id\": 7, \"name\": \"External Hard Drive\", \"category\": \"Electronics\", \"price\": 129, \"quantity\": 2, \"details\": {\"brand\": \"HP\", \"color\": \"Silver\"}}], \"order_status\": \"Shipped\"}</td></tr><tr><td>{\"order_id\": 38, \"customer_id\": 7829, \"order_date\": \"2024-12-25\", \"transaction_timestamp\": \"2024-12-25 22:05:19\", \"total_amount\": 447, \"payment_method\": \"Credit Card\", \"items\": [{\"item_id\": 6, \"name\": \"Bluetooth Speaker\", \"category\": \"Electronics\", \"price\": 149, \"quantity\": 3, \"details\": {\"brand\": \"Apple\", \"color\": \"Gray\"}}], \"order_status\": \"Shipped\"}</td><td>{\"order_id\": 38, \"customer_id\": 7829, \"order_date\": \"2024-12-25\", \"transaction_timestamp\": \"2024-12-25 22:05:19\", \"total_amount\": 447, \"payment_method\": \"Credit Card\", \"items\": [{\"item_id\": 6, \"name\": \"Bluetooth Speaker\", \"category\": \"Electronics\", \"price\": 149, \"quantity\": 3, \"details\": {\"brand\": \"Apple\", \"color\": \"Gray\"}}], \"order_status\": \"Shipped\"}</td></tr><tr><td>{\"order_id\": 44, \"customer_id\": 7295, \"order_date\": \"2024-12-20\", \"transaction_timestamp\": \"2024-12-20 08:05:43\", \"total_amount\": 129, \"payment_method\": \"Credit Card\", \"items\": [{\"item_id\": 7, \"name\": \"External Hard Drive\", \"category\": \"Electronics\", \"price\": 129, \"quantity\": 1, \"details\": {\"brand\": \"Bose\", \"color\": \"Blue\"}}], \"order_status\": \"Completed\"}</td><td>{\"order_id\": 44, \"customer_id\": 7295, \"order_date\": \"2024-12-20\", \"transaction_timestamp\": \"2024-12-20 08:05:43\", \"total_amount\": 129, \"payment_method\": \"Credit Card\", \"items\": [{\"item_id\": 7, \"name\": \"External Hard Drive\", \"category\": \"Electronics\", \"price\": 129, \"quantity\": 1, \"details\": {\"brand\": \"Bose\", \"color\": \"Blue\"}}], \"order_status\": \"Completed\"}</td></tr><tr><td>{\"order_id\": 49, \"customer_id\": 7803, \"order_date\": \"2024-12-07\", \"transaction_timestamp\": \"2024-12-07 23:24:11\", \"total_amount\": 747, \"payment_method\": \"PayPal\", \"items\": [{\"item_id\": 4, \"name\": \"Smartwatch\", \"category\": \"Electronics\", \"price\": 299, \"quantity\": 1, \"details\": {\"brand\": \"HP\", \"color\": \"White\"}}, {\"item_id\": 4, \"name\": \"Smartwatch\", \"category\": \"Electronics\", \"price\": 299, \"quantity\": 1, \"details\": {\"brand\": \"Canon\", \"color\": \"Blue\"}}, {\"item_id\": 6, \"name\": \"Bluetooth Speaker\", \"category\": \"Electronics\", \"price\": 149, \"quantity\": 1, \"details\": {\"brand\": \"Samsung\", \"color\": \"White\"}}], \"order_status\": \"Cancelled\"}</td><td>{\"order_id\": 49, \"customer_id\": 7803, \"order_date\": \"2024-12-07\", \"transaction_timestamp\": \"2024-12-07 23:24:11\", \"total_amount\": 747, \"payment_method\": \"PayPal\", \"items\": [{\"item_id\": 4, \"name\": \"Smartwatch\", \"category\": \"Electronics\", \"price\": 299, \"quantity\": 1, \"details\": {\"brand\": \"HP\", \"color\": \"White\"}}, {\"item_id\": 4, \"name\": \"Smartwatch\", \"category\": \"Electronics\", \"price\": 299, \"quantity\": 1, \"details\": {\"brand\": \"Canon\", \"color\": \"Blue\"}}, {\"item_id\": 6, \"name\": \"Bluetooth Speaker\", \"category\": \"Electronics\", \"price\": 149, \"quantity\": 1, \"details\": {\"brand\": \"Samsung\", \"color\": \"White\"}}], \"order_status\": \"Cancelled\"}</td></tr><tr><td>{\"order_id\": 54, \"customer_id\": 2054, \"order_date\": \"2024-12-20\", \"transaction_timestamp\": \"2024-12-20 12:04:27\", \"total_amount\": 398, \"payment_method\": \"Credit Card\", \"items\": [{\"item_id\": 3, \"name\": \"Wireless Headphones\", \"category\": \"Electronics\", \"price\": 199, \"quantity\": 2, \"details\": {\"brand\": \"Bose\", \"color\": \"Gray\"}}], \"order_status\": \"Pending\"}</td><td>{\"order_id\": 54, \"customer_id\": 2054, \"order_date\": \"2024-12-20\", \"transaction_timestamp\": \"2024-12-20 12:04:27\", \"total_amount\": 398, \"payment_method\": \"Credit Card\", \"items\": [{\"item_id\": 3, \"name\": \"Wireless Headphones\", \"category\": \"Electronics\", \"price\": 199, \"quantity\": 2, \"details\": {\"brand\": \"Bose\", \"color\": \"Gray\"}}], \"order_status\": \"Pending\"}</td></tr><tr><td>{\"order_id\": 58, \"customer_id\": 8580, \"order_date\": \"2024-12-09\", \"transaction_timestamp\": \"2024-12-09 22:40:58\", \"total_amount\": 699, \"payment_method\": \"PayPal\", \"items\": [{\"item_id\": 1, \"name\": \"Smartphone\", \"category\": \"Electronics\", \"price\": 699, \"quantity\": 1, \"details\": {\"brand\": \"Microsoft\", \"color\": \"Gray\"}}], \"order_status\": \"Completed\"}</td><td>{\"order_id\": 58, \"customer_id\": 8580, \"order_date\": \"2024-12-09\", \"transaction_timestamp\": \"2024-12-09 22:40:58\", \"total_amount\": 699, \"payment_method\": \"PayPal\", \"items\": [{\"item_id\": 1, \"name\": \"Smartphone\", \"category\": \"Electronics\", \"price\": 699, \"quantity\": 1, \"details\": {\"brand\": \"Microsoft\", \"color\": \"Gray\"}}], \"order_status\": \"Completed\"}</td></tr><tr><td>{\"order_id\": 60, \"customer_id\": 3409, \"order_date\": \"2024-12-13\", \"transaction_timestamp\": \"2024-12-13 13:10:12\", \"total_amount\": 199, \"payment_method\": \"Bank Transfer\", \"items\": [{\"item_id\": 3, \"name\": \"Wireless Headphones\", \"category\": \"Electronics\", \"price\": 199, \"quantity\": 1, \"details\": {\"brand\": \"Samsung\", \"color\": \"Blue\"}}], \"order_status\": \"Shipped\"}</td><td>{\"order_id\": 60, \"customer_id\": 3409, \"order_date\": \"2024-12-13\", \"transaction_timestamp\": \"2024-12-13 13:10:12\", \"total_amount\": 199, \"payment_method\": \"Bank Transfer\", \"items\": [{\"item_id\": 3, \"name\": \"Wireless Headphones\", \"category\": \"Electronics\", \"price\": 199, \"quantity\": 1, \"details\": {\"brand\": \"Samsung\", \"color\": \"Blue\"}}], \"order_status\": \"Shipped\"}</td></tr><tr><td>{\"order_id\": 61, \"customer_id\": 7123, \"order_date\": \"2024-12-07\", \"transaction_timestamp\": \"2024-12-07 07:47:19\", \"total_amount\": 699, \"payment_method\": \"Bank Transfer\", \"items\": [{\"item_id\": 1, \"name\": \"Smartphone\", \"category\": \"Electronics\", \"price\": 699, \"quantity\": 1, \"details\": {\"brand\": \"Canon\", \"color\": \"Black\"}}], \"order_status\": \"Completed\"}</td><td>{\"order_id\": 61, \"customer_id\": 7123, \"order_date\": \"2024-12-07\", \"transaction_timestamp\": \"2024-12-07 07:47:19\", \"total_amount\": 699, \"payment_method\": \"Bank Transfer\", \"items\": [{\"item_id\": 1, \"name\": \"Smartphone\", \"category\": \"Electronics\", \"price\": 699, \"quantity\": 1, \"details\": {\"brand\": \"Canon\", \"color\": \"Black\"}}], \"order_status\": \"Completed\"}</td></tr><tr><td>{\"order_id\": 65, \"customer_id\": 3084, \"order_date\": \"2024-12-09\", \"transaction_timestamp\": \"2024-12-09 13:04:13\", \"total_amount\": 399, \"payment_method\": \"Bank Transfer\", \"items\": [{\"item_id\": 5, \"name\": \"Tablet\", \"category\": \"Electronics\", \"price\": 399, \"quantity\": 1, \"details\": {\"brand\": \"Microsoft\", \"color\": \"Gray\"}}], \"order_status\": \"Cancelled\"}</td><td>{\"order_id\": 65, \"customer_id\": 3084, \"order_date\": \"2024-12-09\", \"transaction_timestamp\": \"2024-12-09 13:04:13\", \"total_amount\": 399, \"payment_method\": \"Bank Transfer\", \"items\": [{\"item_id\": 5, \"name\": \"Tablet\", \"category\": \"Electronics\", \"price\": 399, \"quantity\": 1, \"details\": {\"brand\": \"Microsoft\", \"color\": \"Gray\"}}], \"order_status\": \"Cancelled\"}</td></tr><tr><td>{\"order_id\": 67, \"customer_id\": 3084, \"order_date\": \"2024-12-19\", \"transaction_timestamp\": \"2024-12-19 07:11:09\", \"total_amount\": 897, \"payment_method\": \"PayPal\", \"items\": [{\"item_id\": 4, \"name\": \"Smartwatch\", \"category\": \"Electronics\", \"price\": 299, \"quantity\": 3, \"details\": {\"brand\": \"LG\", \"color\": \"Blue\"}}], \"order_status\": \"Shipped\"}</td><td>{\"order_id\": 67, \"customer_id\": 3084, \"order_date\": \"2024-12-19\", \"transaction_timestamp\": \"2024-12-19 07:11:09\", \"total_amount\": 897, \"payment_method\": \"PayPal\", \"items\": [{\"item_id\": 4, \"name\": \"Smartwatch\", \"category\": \"Electronics\", \"price\": 299, \"quantity\": 3, \"details\": {\"brand\": \"LG\", \"color\": \"Blue\"}}], \"order_status\": \"Shipped\"}</td></tr><tr><td>{\"order_id\": 69, \"customer_id\": 4973, \"order_date\": \"2024-12-30\", \"transaction_timestamp\": \"2024-12-30 02:42:01\", \"total_amount\": 699, \"payment_method\": \"Bank Transfer\", \"items\": [{\"item_id\": 1, \"name\": \"Smartphone\", \"category\": \"Electronics\", \"price\": 699, \"quantity\": 1, \"details\": {\"brand\": \"Dell\", \"color\": \"Gray\"}}], \"order_status\": \"Completed\"}</td><td>{\"order_id\": 69, \"customer_id\": 4973, \"order_date\": \"2024-12-30\", \"transaction_timestamp\": \"2024-12-30 02:42:01\", \"total_amount\": 699, \"payment_method\": \"Bank Transfer\", \"items\": [{\"item_id\": 1, \"name\": \"Smartphone\", \"category\": \"Electronics\", \"price\": 699, \"quantity\": 1, \"details\": {\"brand\": \"Dell\", \"color\": \"Gray\"}}], \"order_status\": \"Completed\"}</td></tr><tr><td>{\"order_id\": 70, \"customer_id\": 7997, \"order_date\": \"2024-12-04\", \"transaction_timestamp\": \"2024-12-04 17:17:24\", \"total_amount\": 897, \"payment_method\": \"PayPal\", \"items\": [{\"item_id\": 4, \"name\": \"Smartwatch\", \"category\": \"Electronics\", \"price\": 299, \"quantity\": 3, \"details\": {\"brand\": \"Sony\", \"color\": \"Black\"}}], \"order_status\": \"Shipped\"}</td><td>{\"order_id\": 70, \"customer_id\": 7997, \"order_date\": \"2024-12-04\", \"transaction_timestamp\": \"2024-12-04 17:17:24\", \"total_amount\": 897, \"payment_method\": \"PayPal\", \"items\": [{\"item_id\": 4, \"name\": \"Smartwatch\", \"category\": \"Electronics\", \"price\": 299, \"quantity\": 3, \"details\": {\"brand\": \"Sony\", \"color\": \"Black\"}}], \"order_status\": \"Shipped\"}</td></tr><tr><td>{\"order_id\": 71, \"customer_id\": 7997, \"order_date\": 2024-12-27, \"transaction_timestamp\": \"2024-12-27 11:16:39\", \"total_amount\": 199, \"payment_method\": \"Bank Transfer\", \"items\": [{\"item_id\": 3, \"name\": \"Wireless Headphones\", \"category\": \"Electronics\", \"price\": 199, \"quantity\": 1, \"details\": {\"brand\": \"Microsoft\", \"color\": \"Black\"}}], \"order_status\": \"Completed\"}</td><td>{\"order_id\": 71, \"customer_id\": 7997, \"order_date\": \"2024-12-27\", \"transaction_timestamp\": \"2024-12-27 11:16:39\", \"total_amount\": 199, \"payment_method\": \"Bank Transfer\", \"items\": [{\"item_id\": 3, \"name\": \"Wireless Headphones\", \"category\": \"Electronics\", \"price\": 199, \"quantity\": 1, \"details\": {\"brand\": \"Microsoft\", \"color\": \"Black\"}}], \"order_status\": \"Completed\"}</td></tr><tr><td>{\"order_id\": 74, \"customer_id\": 6167, \"order_date\": \"2024-12-22\", \"transaction_timestamp\": \"2024-12-22 15:54:11\", \"total_amount\": 699, \"payment_method\": \"PayPal\", \"items\": [{\"item_id\": 1, \"name\": \"Smartphone\", \"category\": \"Electronics\", \"price\": 699, \"quantity\": 1, \"details\": {\"brand\": \"Samsung\", \"color\": \"Blue\"}}], \"order_status\": \"Pending\"}</td><td>{\"order_id\": 74, \"customer_id\": 6167, \"order_date\": \"2024-12-22\", \"transaction_timestamp\": \"2024-12-22 15:54:11\", \"total_amount\": 699, \"payment_method\": \"PayPal\", \"items\": [{\"item_id\": 1, \"name\": \"Smartphone\", \"category\": \"Electronics\", \"price\": 699, \"quantity\": 1, \"details\": {\"brand\": \"Samsung\", \"color\": \"Blue\"}}], \"order_status\": \"Pending\"}</td></tr><tr><td>{\"order_id\": 80, \"customer_id\": 9687, \"order_date\": \"2024-12-11\", \"transaction_timestamp\": \"2024-12-11 07:43:54\", \"total_amount\": 998, \"payment_method\": \"Bank Transfer\", \"items\": [{\"item_id\": 8, \"name\": \"Gaming Console\", \"category\": \"Electronics\", \"price\": 499, \"quantity\": 2, \"details\": {\"brand\": \"Samsung\", \"color\": \"White\"}}], \"order_status\": \"Cancelled\"}</td><td>{\"order_id\": 80, \"customer_id\": 9687, \"order_date\": \"2024-12-11\", \"transaction_timestamp\": \"2024-12-11 07:43:54\", \"total_amount\": 998, \"payment_method\": \"Bank Transfer\", \"items\": [{\"item_id\": 8, \"name\": \"Gaming Console\", \"category\": \"Electronics\", \"price\": 499, \"quantity\": 2, \"details\": {\"brand\": \"Samsung\", \"color\": \"White\"}}], \"order_status\": \"Cancelled\"}</td></tr><tr><td>{\"order_id\": 81, \"customer_id\": 9687, \"order_date\": \"2024-12-27\", \"transaction_timestamp\": \"2024-12-27 02:27:45\", \"total_amount\": 699, \"payment_method\": \"PayPal\", \"items\": [{\"item_id\": 1, \"name\": \"Smartphone\", \"category\": \"Electronics\", \"price\": 699, \"quantity\": 1, \"details\": {\"brand\": \"GoPro\", \"color\": \"Blue\"}}], \"order_status\": \"Completed\"}</td><td>{\"order_id\": 81, \"customer_id\": 9687, \"order_date\": \"2024-12-27\", \"transaction_timestamp\": \"2024-12-27 02:27:45\", \"total_amount\": 699, \"payment_method\": \"PayPal\", \"items\": [{\"item_id\": 1, \"name\": \"Smartphone\", \"category\": \"Electronics\", \"price\": 699, \"quantity\": 1, \"details\": {\"brand\": \"GoPro\", \"color\": \"Blue\"}}], \"order_status\": \"Completed\"}</td></tr><tr><td>{\"order_id\": 82, \"customer_id\": 2344, \"order_date\": \"2024-12-28\", \"transaction_timestamp\": \"2024-12-28 00:54:08\", \"total_amount\": 387, \"payment_method\": \"PayPal\", \"items\": [{\"item_id\": 7, \"name\": \"External Hard Drive\", \"category\": \"Electronics\", \"price\": 129, \"quantity\": 3, \"details\": {\"brand\": \"Sony\", \"color\": \"Blue\"}}], \"order_status\": \"Completed\"}</td><td>{\"order_id\": 82, \"customer_id\": 2344, \"order_date\": \"2024-12-28\", \"transaction_timestamp\": \"2024-12-28 00:54:08\", \"total_amount\": 387, \"payment_method\": \"PayPal\", \"items\": [{\"item_id\": 7, \"name\": \"External Hard Drive\", \"category\": \"Electronics\", \"price\": 129, \"quantity\": 3, \"details\": {\"brand\": \"Sony\", \"color\": \"Blue\"}}], \"order_status\": \"Completed\"}</td></tr><tr><td>{\"order_id\": 91, \"customer_id\": 5592, \"order_date\": \"2024-12-17\", \"transaction_timestamp\": \"2024-12-17 00:09:53\", \"total_amount\": 699, \"payment_method\": \"Bank Transfer\", \"items\": [{\"item_id\": 1, \"name\": \"Smartphone\", \"category\": \"Electronics\", \"price\": 699, \"quantity\": 1, \"details\": {\"brand\": \"Canon\", \"color\": \"Silver\"}}], \"order_status\": \"Cancelled\"}</td><td>{\"order_id\": 91, \"customer_id\": 5592, \"order_date\": \"2024-12-17\", \"transaction_timestamp\": \"2024-12-17 00:09:53\", \"total_amount\": 699, \"payment_method\": \"Bank Transfer\", \"items\": [{\"item_id\": 1, \"name\": \"Smartphone\", \"category\": \"Electronics\", \"price\": 699, \"quantity\": 1, \"details\": {\"brand\": \"Canon\", \"color\": \"Silver\"}}], \"order_status\": \"Cancelled\"}</td></tr><tr><td>{\"order_id\": 93, \"customer_id\": 6627, \"order_date\": \"2024-12-22\", \"transaction_timestamp\": \"2024-12-22 05:07:46\", \"total_amount\": 598, \"payment_method\": \"PayPal\", \"items\": [{\"item_id\": 4, \"name\": \"Smartwatch\", \"category\": \"Electronics\", \"price\": 299, \"quantity\": 2, \"details\": {\"brand\": \"LG\", \"color\": \"Silver\"}}], \"order_status\": \"Pending\"}</td><td>{\"order_id\": 93, \"customer_id\": 6627, \"order_date\": \"2024-12-22\", \"transaction_timestamp\": \"2024-12-22 05:07:46\", \"total_amount\": 598, \"payment_method\": \"PayPal\", \"items\": [{\"item_id\": 4, \"name\": \"Smartwatch\", \"category\": \"Electronics\", \"price\": 299, \"quantity\": 2, \"details\": {\"brand\": \"LG\", \"color\": \"Silver\"}}], \"order_status\": \"Pending\"}</td></tr><tr><td>{\"order_id\": 95, \"customer_id\": 6627, \"order_date\": \"2024-12-28\", \"transaction_timestamp\": \"2024-12-28 04:28:30\", \"total_amount\": 946, \"payment_method\": \"Bank Transfer\", \"items\": [{\"item_id\": 4, \"name\": \"Smartwatch\", \"category\": \"Electronics\", \"price\": 299, \"quantity\": 2, \"details\": {\"brand\": \"GoPro\", \"color\": \"White\"}}, {\"item_id\": 3, \"name\": \"Wireless Headphones\", \"category\": \"Electronics\", \"price\": 199, \"quantity\": 1, \"details\": {\"brand\": \"Bose\", \"color\": \"Gray\"}}, {\"item_id\": 6, \"name\": \"Bluetooth Speaker\", \"category\": \"Electronics\", \"price\": 149, \"quantity\": 1, \"details\": {\"brand\": \"Dell\", \"color\": \"Silver\"}}], \"order_status\": \"Completed\"}</td><td>{\"order_id\": 95, \"customer_id\": 6627, \"order_date\": \"2024-12-28\", \"transaction_timestamp\": \"2024-12-28 04:28:30\", \"total_amount\": 946, \"payment_method\": \"Bank Transfer\", \"items\": [{\"item_id\": 4, \"name\": \"Smartwatch\", \"category\": \"Electronics\", \"price\": 299, \"quantity\": 2, \"details\": {\"brand\": \"GoPro\", \"color\": \"White\"}}, {\"item_id\": 3, \"name\": \"Wireless Headphones\", \"category\": \"Electronics\", \"price\": 199, \"quantity\": 1, \"details\": {\"brand\": \"Bose\", \"color\": \"Gray\"}}, {\"item_id\": 6, \"name\": \"Bluetooth Speaker\", \"category\": \"Electronics\", \"price\": 149, \"quantity\": 1, \"details\": {\"brand\": \"Dell\", \"color\": \"Silver\"}}], \"order_status\": \"Completed\"}</td></tr><tr><td>{\"order_id\": 96, \"customer_id\": 6406, \"order_date\": \"2024-12-02\", \"transaction_timestamp\": \"2024-12-02 12:27:45\", \"total_amount\": 149, \"payment_method\": \"PayPal\", \"items\": [{\"item_id\": 6, \"name\": \"Bluetooth Speaker\", \"category\": \"Electronics\", \"price\": 149, \"quantity\": 1, \"details\": {\"brand\": \"Microsoft\", \"color\": \"Black\"}}], \"order_status\": \"Shipped\"}</td><td>{\"order_id\": 96, \"customer_id\": 6406, \"order_date\": \"2024-12-02\", \"transaction_timestamp\": \"2024-12-02 12:27:45\", \"total_amount\": 149, \"payment_method\": \"PayPal\", \"items\": [{\"item_id\": 6, \"name\": \"Bluetooth Speaker\", \"category\": \"Electronics\", \"price\": 149, \"quantity\": 1, \"details\": {\"brand\": \"Microsoft\", \"color\": \"Black\"}}], \"order_status\": \"Shipped\"}</td></tr><tr><td>{\"order_id\": 97, \"customer_id\": 6406, \"order_date\": \"2024-12-07\", \"transaction_timestamp\": \"2024-12-07 16:14:34\", \"total_amount\": 499, \"payment_method\": \"Bank Transfer\", \"items\": [{\"item_id\": 8, \"name\": \"Gaming Console\", \"category\": \"Electronics\", \"price\": 499, \"quantity\": 1, \"details\": {\"brand\": \"Sony\", \"color\": \"Silver\"}}], \"order_status\": \"Completed\"}</td><td>{\"order_id\": 97, \"customer_id\": 6406, \"order_date\": \"2024-12-07\", \"transaction_timestamp\": \"2024-12-07 16:14:34\", \"total_amount\": 499, \"payment_method\": \"Bank Transfer\", \"items\": [{\"item_id\": 8, \"name\": \"Gaming Console\", \"category\": \"Electronics\", \"price\": 499, \"quantity\": 1, \"details\": {\"brand\": \"Sony\", \"color\": \"Silver\"}}], \"order_status\": \"Completed\"}</td></tr><tr><td>{\"order_id\": 5, \"customer_id\": 3892, \"order_date\": \"2024-11-16\", \"transaction_timestamp\": \"2024-11-16 23:07:31\", \"total_amount\": 998, \"payment_method\": \"Bank Transfer\", \"items\": [{\"item_id\": 8, \"name\": \"Gaming Console\", \"category\": \"Electronics\", \"price\": 499, \"quantity\": 2, \"details\": {\"brand\": \"Dell\", \"color\": \"Blue\"}}], \"order_status\": \"Cancelled\"}</td><td>{\"order_id\": 5, \"customer_id\": 3892, \"order_date\": \"2024-11-16\", \"transaction_timestamp\": \"2024-11-16 23:07:31\", \"total_amount\": 998, \"payment_method\": \"Bank Transfer\", \"items\": [{\"item_id\": 8, \"name\": \"Gaming Console\", \"category\": \"Electronics\", \"price\": 499, \"quantity\": 2, \"details\": {\"brand\": \"Dell\", \"color\": \"Blue\"}}], \"order_status\": \"Cancelled\"}</td></tr><tr><td>{\"order_id\": 7, \"customer_id\": 1987, \"order_date\": \"2024-11-19\", \"transaction_timestamp\": \"2024-11-19 19:18:48\", \"total_amount\": 645, \"payment_method\": \"Credit Card\", \"items\": [{\"item_id\": 7, \"name\": \"External Hard Drive\", \"category\": \"Electronics\", \"price\": 129, \"quantity\": 2, \"details\": {\"brand\": \"LG\", \"color\": \"Blue\"}}, {\"item_id\": 7, \"name\": \"External Hard Drive\", \"category\": \"Electronics\", \"price\": 129, \"quantity\": 3, \"details\": {\"brand\": \"HP\", \"color\": \"Gray\"}}], \"order_status\": \"Pending\"}</td><td>{\"order_id\": 7, \"customer_id\": 1987, \"order_date\": \"2024-11-19\", \"transaction_timestamp\": \"2024-11-19 19:18:48\", \"total_amount\": 645, \"payment_method\": \"Credit Card\", \"items\": [{\"item_id\": 7, \"name\": \"External Hard Drive\", \"category\": \"Electronics\", \"price\": 129, \"quantity\": 2, \"details\": {\"brand\": \"LG\", \"color\": \"Blue\"}}, {\"item_id\": 7, \"name\": \"External Hard Drive\", \"category\": \"Electronics\", \"price\": 129, \"quantity\": 3, \"details\": {\"brand\": \"HP\", \"color\": \"Gray\"}}], \"order_status\": \"Pending\"}</td></tr><tr><td>{\"order_id\": 9, \"customer_id\": 9179, \"order_date\": \"2024-11-27\", \"transaction_timestamp\": \"2024-11-27 13:15:29\", \"total_amount\": 999, \"payment_method\": \"Bank Transfer\", \"items\": [{\"item_id\": 2, \"name\": \"Laptop\", \"category\": \"Electronics\", \"price\": 999, \"quantity\": 1, \"details\": {\"brand\": \"Apple\", \"color\": \"Black\"}}], \"order_status\": \"Shipped\"}</td><td>{\"order_id\": 9, \"customer_id\": 9179, \"order_date\": \"2024-11-27\", \"transaction_timestamp\": \"2024-11-27 13:15:29\", \"total_amount\": 999, \"payment_method\": \"Bank Transfer\", \"items\": [{\"item_id\": 2, \"name\": \"Laptop\", \"category\": \"Electronics\", \"price\": 999, \"quantity\": 1, \"details\": {\"brand\": \"Apple\", \"color\": \"Black\"}}], \"order_status\": \"Shipped\"}</td></tr><tr><td>{\"order_id\": 20, \"customer_id\": 8539, \"order_date\": \"2024-11-18\", \"transaction_timestamp\": \"2024-11-18 02:38:21\", \"total_amount\": 798, \"payment_method\": \"PayPal\", \"items\": [{\"item_id\": 5, \"name\": \"Tablet\", \"category\": \"Electronics\", \"price\": 399, \"quantity\": 2, \"details\": {\"brand\": \"Sony\", \"color\": \"Silver\"}}], \"order_status\": \"Pending\"}</td><td>{\"order_id\": 20, \"customer_id\": 8539, \"order_date\": \"2024-11-18\", \"transaction_timestamp\": \"2024-11-18 02:38:21\", \"total_amount\": 798, \"payment_method\": \"PayPal\", \"items\": [{\"item_id\": 5, \"name\": \"Tablet\", \"category\": \"Electronics\", \"price\": 399, \"quantity\": 2, \"details\": {\"brand\": \"Sony\", \"color\": \"Silver\"}}], \"order_status\": \"Pending\"}</td></tr><tr><td>{\"order_id\": 21, \"customer_id\": 8539, \"order_date\": \"2024-11-21\", \"transaction_timestamp\": \"2024-11-21 11:25:35\", \"total_amount\": 298, \"payment_method\": \"Bank Transfer\", \"items\": [{\"item_id\": 6, \"name\": \"Bluetooth Speaker\", \"category\": \"Electronics\", \"price\": 149, \"quantity\": 2, \"details\": {\"brand\": \"GoPro\", \"color\": \"Blue\"}}], \"order_status\": \"Cancelled\"}</td><td>{\"order_id\": 21, \"customer_id\": 8539, \"order_date\": \"2024-11-21\", \"transaction_timestamp\": \"2024-11-21 11:25:35\", \"total_amount\": 298, \"payment_method\": \"Bank Transfer\", \"items\": [{\"item_id\": 6, \"name\": \"Bluetooth Speaker\", \"category\": \"Electronics\", \"price\": 149, \"quantity\": 2, \"details\": {\"brand\": \"GoPro\", \"color\": \"Blue\"}}], \"order_status\": \"Cancelled\"}</td></tr><tr><td>{\"order_id\": 23, \"customer_id\": 4761, \"order_date\": \"2024-11-22\", \"transaction_timestamp\": \"2024-11-22 16:04:05\", \"total_amount\": 997, \"payment_method\": \"PayPal\", \"items\": [{\"item_id\": 5, \"name\": \"Tablet\", \"category\": \"Electronics\", \"price\": 399, \"quantity\": 1, \"details\": {\"brand\": \"Apple\", \"color\": \"Gray\"}}, {\"item_id\": 4, \"name\": \"Smartwatch\", \"category\": \"Electronics\", \"price\": 299, \"quantity\": 2, \"details\": {\"brand\": \"Dell\", \"color\": \"Gray\"}}], \"order_status\": \"Shipped\"}</td><td>{\"order_id\": 23, \"customer_id\": 4761, \"order_date\": \"2024-11-22\", \"transaction_timestamp\": \"2024-11-22 16:04:05\", \"total_amount\": 997, \"payment_method\": \"PayPal\", \"items\": [{\"item_id\": 5, \"name\": \"Tablet\", \"category\": \"Electronics\", \"price\": 399, \"quantity\": 1, \"details\": {\"brand\": \"Apple\", \"color\": \"Gray\"}}, {\"item_id\": 4, \"name\": \"Smartwatch\", \"category\": \"Electronics\", \"price\": 299, \"quantity\": 2, \"details\": {\"brand\": \"Dell\", \"color\": \"Gray\"}}], \"order_status\": \"Shipped\"}</td></tr><tr><td>{\"order_id\": 25, \"customer_id\": 9706, \"order_date\": \"2024-11-05\", \"transaction_timestamp\": \"2024-11-05 11:45:31\", \"total_amount\": 999, \"payment_method\": \"PayPal\", \"items\": [{\"item_id\": 2, \"name\": \"Laptop\", \"category\": \"Electronics\", \"price\": 999, \"quantity\": 1, \"details\": {\"brand\": \"LG\", \"color\": \"Gray\"}}], \"order_status\": \"Completed\"}</td><td>{\"order_id\": 25, \"customer_id\": 9706, \"order_date\": \"2024-11-05\", \"transaction_timestamp\": \"2024-11-05 11:45:31\", \"total_amount\": 999, \"payment_method\": \"PayPal\", \"items\": [{\"item_id\": 2, \"name\": \"Laptop\", \"category\": \"Electronics\", \"price\": 999, \"quantity\": 1, \"details\": {\"brand\": \"LG\", \"color\": \"Gray\"}}], \"order_status\": \"Completed\"}</td></tr><tr><td>{\"order_id\": 30, \"customer_id\": 4996, \"order_date\": \"2024-11-12\", \"transaction_timestamp\": \"2024-11-12 03:20:29\", \"total_amount\": 199, \"payment_method\": \"Bank Transfer\", \"items\": [{\"item_id\": 3, \"name\": \"Wireless Headphones\", \"category\": \"Electronics\", \"price\": 199, \"quantity\": 1, \"details\": {\"brand\": \"GoPro\", \"color\": \"White\"}}], \"order_status\": \"Shipped\"}</td><td>{\"order_id\": 30, \"customer_id\": 4996, \"order_date\": \"2024-11-12\", \"transaction_timestamp\": \"2024-11-12 03:20:29\", \"total_amount\": 199, \"payment_method\": \"Bank Transfer\", \"items\": [{\"item_id\": 3, \"name\": \"Wireless Headphones\", \"category\": \"Electronics\", \"price\": 199, \"quantity\": 1, \"details\": {\"brand\": \"GoPro\", \"color\": \"White\"}}], \"order_status\": \"Shipped\"}</td></tr><tr><td>{\"order_id\": 35, \"customer_id\": 4914, \"order_date\": \"2024-11-20\", \"transaction_timestamp\": \"2024-11-20 19:09:04\", \"total_amount\": 199, \"payment_method\": \"Bank Transfer\", \"items\": [{\"item_id\": 3, \"name\": \"Wireless Headphones\", \"category\": \"Electronics\", \"price\": 199, \"quantity\": 1, \"details\": {\"brand\": \"Dell\", \"color\": \"Gray\"}}], \"order_status\": \"Shipped\"}</td><td>{\"order_id\": 35, \"customer_id\": 4914, \"order_date\": \"2024-11-20\", \"transaction_timestamp\": \"2024-11-20 19:09:04\", \"total_amount\": 199, \"payment_method\": \"Bank Transfer\", \"items\": [{\"item_id\": 3, \"name\": \"Wireless Headphones\", \"category\": \"Electronics\", \"price\": 199, \"quantity\": 1, \"details\": {\"brand\": \"Dell\", \"color\": \"Gray\"}}], \"order_status\": \"Shipped\"}</td></tr><tr><td>{\"order_id\": 36, \"customer_id\": 4914, \"order_date\": \"2024-11-02\", \"transaction_timestamp\": \"2024-11-02 10:39:46\", \"total_amount\": 199, \"payment_method\": \"PayPal\", \"items\": [{\"item_id\": 3, \"name\": \"Wireless Headphones\", \"category\": \"Electronics\", \"price\": 199, \"quantity\": 1, \"details\": {\"brand\": \"Canon\", \"color\": \"Silver\"}}], \"order_status\": \"Completed\"}</td><td>{\"order_id\": 36, \"customer_id\": 4914, \"order_date\": \"2024-11-02\", \"transaction_timestamp\": \"2024-11-02 10:39:46\", \"total_amount\": 199, \"payment_method\": \"PayPal\", \"items\": [{\"item_id\": 3, \"name\": \"Wireless Headphones\", \"category\": \"Electronics\", \"price\": 199, \"quantity\": 1, \"details\": {\"brand\": \"Canon\", \"color\": \"Silver\"}}], \"order_status\": \"Completed\"}</td></tr><tr><td>{\"order_id\": 42, \"customer_id\": 5028, \"order_date\": 2024-11-08, \"transaction_timestamp\": \"2024-11-08 18:32:25\", \"total_amount\": 149, \"payment_method\": \"Credit Card\", \"items\": [{\"item_id\": 6, \"name\": \"Bluetooth Speaker\", \"category\": \"Electronics\", \"price\": 149, \"quantity\": 1, \"details\": {\"brand\": \"Bose\", \"color\": \"Gray\"}}], \"order_status\": \"Completed\"}</td><td>{\"order_id\": 42, \"customer_id\": 5028, \"order_date\": \"2024-11-08\", \"transaction_timestamp\": \"2024-11-08 18:32:25\", \"total_amount\": 149, \"payment_method\": \"Credit Card\", \"items\": [{\"item_id\": 6, \"name\": \"Bluetooth Speaker\", \"category\": \"Electronics\", \"price\": 149, \"quantity\": 1, \"details\": {\"brand\": \"Bose\", \"color\": \"Gray\"}}], \"order_status\": \"Completed\"}</td></tr><tr><td>{\"order_id\": 45, \"customer_id\": 7295, \"order_date\": \"2024-11-07\", \"transaction_timestamp\": \"2024-11-07 15:41:43\", \"total_amount\": 799, \"payment_method\": \"Credit Card\", \"items\": [{\"item_id\": 10, \"name\": \"Drone\", \"category\": \"Electronics\", \"price\": 799, \"quantity\": 1, \"details\": {\"brand\": \"Dell\", \"color\": \"White\"}}], \"order_status\": \"Shipped\"}</td><td>{\"order_id\": 45, \"customer_id\": 7295, \"order_date\": \"2024-11-07\", \"transaction_timestamp\": \"2024-11-07 15:41:43\", \"total_amount\": 799, \"payment_method\": \"Credit Card\", \"items\": [{\"item_id\": 10, \"name\": \"Drone\", \"category\": \"Electronics\", \"price\": 799, \"quantity\": 1, \"details\": {\"brand\": \"Dell\", \"color\": \"White\"}}], \"order_status\": \"Shipped\"}</td></tr><tr><td>{\"order_id\": 46, \"customer_id\": 7295, \"order_date\": \"2024-11-26\", \"transaction_timestamp\": \"2024-11-26 17:16:53\", \"total_amount\": 199, \"payment_method\": \"PayPal\", \"items\": [{\"item_id\": 3, \"name\": \"Wireless Headphones\", \"category\": \"Electronics\", \"price\": 199, \"quantity\": 1, \"details\": {\"brand\": \"Samsung\", \"color\": \"Black\"}}], \"order_status\": \"Pending\"}</td><td>{\"order_id\": 46, \"customer_id\": 7295, \"order_date\": \"2024-11-26\", \"transaction_timestamp\": \"2024-11-26 17:16:53\", \"total_amount\": 199, \"payment_method\": \"PayPal\", \"items\": [{\"item_id\": 3, \"name\": \"Wireless Headphones\", \"category\": \"Electronics\", \"price\": 199, \"quantity\": 1, \"details\": {\"brand\": \"Samsung\", \"color\": \"Black\"}}], \"order_status\": \"Pending\"}</td></tr><tr><td>{\"order_id\": 47, \"customer_id\": 7803, \"order_date\": \"2024-11-22\", \"transaction_timestamp\": \"2024-11-22 02:01:19\", \"total_amount\": 298, \"payment_method\": \"Credit Card\", \"items\": [{\"item_id\": 6, \"name\": \"Bluetooth Speaker\", \"category\": \"Electronics\", \"price\": 149, \"quantity\": 2, \"details\": {\"brand\": \"LG\", \"color\": \"Blue\"}}], \"order_status\": \"Shipped\"}</td><td>{\"order_id\": 47, \"customer_id\": 7803, \"order_date\": \"2024-11-22\", \"transaction_timestamp\": \"2024-11-22 02:01:19\", \"total_amount\": 298, \"payment_method\": \"Credit Card\", \"items\": [{\"item_id\": 6, \"name\": \"Bluetooth Speaker\", \"category\": \"Electronics\", \"price\": 149, \"quantity\": 2, \"details\": {\"brand\": \"LG\", \"color\": \"Blue\"}}], \"order_status\": \"Shipped\"}</td></tr><tr><td>{\"order_id\": 48, \"customer_id\": 7803, \"order_date\": \"2024-11-13\", \"transaction_timestamp\": \"2024-11-13 06:35:56\", \"total_amount\": 387, \"payment_method\": \"PayPal\", \"items\": [{\"item_id\": 7, \"name\": \"External Hard Drive\", \"category\": \"Electronics\", \"price\": 129, \"quantity\": 3, \"details\": {\"brand\": \"Apple\", \"color\": \"Black\"}}], \"order_status\": \"Completed\"}</td><td>{\"order_id\": 48, \"customer_id\": 7803, \"order_date\": \"2024-11-13\", \"transaction_timestamp\": \"2024-11-13 06:35:56\", \"total_amount\": 387, \"payment_method\": \"PayPal\", \"items\": [{\"item_id\": 7, \"name\": \"External Hard Drive\", \"category\": \"Electronics\", \"price\": 129, \"quantity\": 3, \"details\": {\"brand\": \"Apple\", \"color\": \"Black\"}}], \"order_status\": \"Completed\"}</td></tr><tr><td>{\"order_id\": 52, \"customer_id\": 8845, \"order_date\": \"2024-11-19\", \"transaction_timestamp\": \"2024-11-19 21:23:45\", \"total_amount\": 998, \"payment_method\": \"PayPal\", \"items\": [{\"item_id\": 8, \"name\": \"Gaming Console\", \"category\": \"Electronics\", \"price\": 499, \"quantity\": 2, \"details\": {\"brand\": \"GoPro\", \"color\": \"White\"}}], \"order_status\": \"Completed\"}</td><td>{\"order_id\": 52, \"customer_id\": 8845, \"order_date\": \"2024-11-19\", \"transaction_timestamp\": \"2024-11-19 21:23:45\", \"total_amount\": 998, \"payment_method\": \"PayPal\", \"items\": [{\"item_id\": 8, \"name\": \"Gaming Console\", \"category\": \"Electronics\", \"price\": 499, \"quantity\": 2, \"details\": {\"brand\": \"GoPro\", \"color\": \"White\"}}], \"order_status\": \"Completed\"}</td></tr><tr><td>{\"order_id\": 57, \"customer_id\": 8580, \"order_date\": \"2024-11-19\", \"transaction_timestamp\": \"2024-11-19 11:32:44\", \"total_amount\": 586, \"payment_method\": \"Bank Transfer\", \"items\": [{\"item_id\": 3, \"name\": \"Wireless Headphones\", \"category\": \"Electronics\", \"price\": 199, \"quantity\": 1, \"details\": {\"brand\": \"HP\", \"color\": \"Silver\"}}, {\"item_id\": 7, \"name\": \"External Hard Drive\", \"category\": \"Electronics\", \"price\": 129, \"quantity\": 3, \"details\": {\"brand\": \"Sony\", \"color\": \"Silver\"}}], \"order_status\": \"Cancelled\"}</td><td>{\"order_id\": 57, \"customer_id\": 8580, \"order_date\": \"2024-11-19\", \"transaction_timestamp\": \"2024-11-19 11:32:44\", \"total_amount\": 586, \"payment_method\": \"Bank Transfer\", \"items\": [{\"item_id\": 3, \"name\": \"Wireless Headphones\", \"category\": \"Electronics\", \"price\": 199, \"quantity\": 1, \"details\": {\"brand\": \"HP\", \"color\": \"Silver\"}}, {\"item_id\": 7, \"name\": \"External Hard Drive\", \"category\": \"Electronics\", \"price\": 129, \"quantity\": 3, \"details\": {\"brand\": \"Sony\", \"color\": \"Silver\"}}], \"order_status\": \"Cancelled\"}</td></tr><tr><td>{\"order_id\": 63, \"customer_id\": 7123, \"order_date\": \"2024-11-24\", \"transaction_timestamp\": \"2024-11-24 08:41:28\", \"total_amount\": 646, \"payment_method\": \"Bank Transfer\", \"items\": [{\"item_id\": 3, \"name\": \"Wireless Headphones\", \"category\": \"Electronics\", \"price\": 199, \"quantity\": 1, \"details\": {\"brand\": \"GoPro\", \"color\": \"Blue\"}}, {\"item_id\": 6, \"name\": \"Bluetooth Speaker\", \"category\": \"Electronics\", \"price\": 149, \"quantity\": 3, \"details\": {\"brand\": \"Bose\", \"color\": \"Silver\"}}], \"order_status\": \"Cancelled\"}</td><td>{\"order_id\": 63, \"customer_id\": 7123, \"order_date\": \"2024-11-24\", \"transaction_timestamp\": \"2024-11-24 08:41:28\", \"total_amount\": 646, \"payment_method\": \"Bank Transfer\", \"items\": [{\"item_id\": 3, \"name\": \"Wireless Headphones\", \"category\": \"Electronics\", \"price\": 199, \"quantity\": 1, \"details\": {\"brand\": \"GoPro\", \"color\": \"Blue\"}}, {\"item_id\": 6, \"name\": \"Bluetooth Speaker\", \"category\": \"Electronics\", \"price\": 149, \"quantity\": 3, \"details\": {\"brand\": \"Bose\", \"color\": \"Silver\"}}], \"order_status\": \"Cancelled\"}</td></tr><tr><td>{\"order_id\": 64, \"customer_id\": 2639, \"order_date\": \"2024-11-28\", \"transaction_timestamp\": \"2024-11-28 12:23:21\", \"total_amount\": 984, \"payment_method\": \"Bank Transfer\", \"items\": [{\"item_id\": 7, \"name\": \"External Hard Drive\", \"category\": \"Electronics\", \"price\": 129, \"quantity\": 3, \"details\": {\"brand\": \"Microsoft\", \"color\": \"White\"}}, {\"item_id\": 3, \"name\": \"Wireless Headphones\", \"category\": \"Electronics\", \"price\": 199, \"quantity\": 3, \"details\": {\"brand\": \"Canon\", \"color\": \"Blue\"}}], \"order_status\": \"Completed\"}</td><td>{\"order_id\": 64, \"customer_id\": 2639, \"order_date\": \"2024-11-28\", \"transaction_timestamp\": \"2024-11-28 12:23:21\", \"total_amount\": 984, \"payment_method\": \"Bank Transfer\", \"items\": [{\"item_id\": 7, \"name\": \"External Hard Drive\", \"category\": \"Electronics\", \"price\": 129, \"quantity\": 3, \"details\": {\"brand\": \"Microsoft\", \"color\": \"White\"}}, {\"item_id\": 3, \"name\": \"Wireless Headphones\", \"category\": \"Electronics\", \"price\": 199, \"quantity\": 3, \"details\": {\"brand\": \"Canon\", \"color\": \"Blue\"}}], \"order_status\": \"Completed\"}</td></tr><tr><td>{\"order_id\": 88, \"customer_id\": 9247, \"order_date\": \"2024-11-15\", \"transaction_timestamp\": \"2024-11-15 11:39:44\", \"total_amount\": 387, \"payment_method\": \"Bank Transfer\", \"items\": [{\"item_id\": 7, \"name\": \"External Hard Drive\", \"category\": \"Electronics\", \"price\": 129, \"quantity\": 3, \"details\": {\"brand\": \"Bose\", \"color\": \"White\"}}], \"order_status\": \"Cancelled\"}</td><td>{\"order_id\": 88, \"customer_id\": 9247, \"order_date\": \"2024-11-15\", \"transaction_timestamp\": \"2024-11-15 11:39:44\", \"total_amount\": 387, \"payment_method\": \"Bank Transfer\", \"items\": [{\"item_id\": 7, \"name\": \"External Hard Drive\", \"category\": \"Electronics\", \"price\": 129, \"quantity\": 3, \"details\": {\"brand\": \"Bose\", \"color\": \"White\"}}], \"order_status\": \"Cancelled\"}</td></tr><tr><td>{\"order_id\": 89, \"customer_id\": 9247, \"order_date\": \"2024-11-22\", \"transaction_timestamp\": \"2024-11-22 12:09:15\", \"total_amount\": 149, \"payment_method\": \"Bank Transfer\", \"items\": [{\"item_id\": 6, \"name\": \"Bluetooth Speaker\", \"category\": \"Electronics\", \"price\": 149, \"quantity\": 1, \"details\": {\"brand\": \"GoPro\", \"color\": \"Silver\"}}], \"order_status\": \"Cancelled\"}</td><td>{\"order_id\": 89, \"customer_id\": 9247, \"order_date\": \"2024-11-22\", \"transaction_timestamp\": \"2024-11-22 12:09:15\", \"total_amount\": 149, \"payment_method\": \"Bank Transfer\", \"items\": [{\"item_id\": 6, \"name\": \"Bluetooth Speaker\", \"category\": \"Electronics\", \"price\": 149, \"quantity\": 1, \"details\": {\"brand\": \"GoPro\", \"color\": \"Silver\"}}], \"order_status\": \"Cancelled\"}</td></tr><tr><td>{\"order_id\": 92, \"customer_id\": 5592, \"order_date\": \"2024-11-24\", \"transaction_timestamp\": \"2024-11-24 23:33:21\", \"total_amount\": 258, \"payment_method\": \"PayPal\", \"items\": [{\"item_id\": 7, \"name\": \"External Hard Drive\", \"category\": \"Electronics\", \"price\": 129, \"quantity\": 2, \"details\": {\"brand\": \"Sony\", \"color\": \"Black\"}}], \"order_status\": \"Shipped\"}</td><td>{\"order_id\": 92, \"customer_id\": 5592, \"order_date\": \"2024-11-24\", \"transaction_timestamp\": \"2024-11-24 23:33:21\", \"total_amount\": 258, \"payment_method\": \"PayPal\", \"items\": [{\"item_id\": 7, \"name\": \"External Hard Drive\", \"category\": \"Electronics\", \"price\": 129, \"quantity\": 2, \"details\": {\"brand\": \"Sony\", \"color\": \"Black\"}}], \"order_status\": \"Shipped\"}</td></tr><tr><td>{\"order_id\": 6, \"customer_id\": 1987, \"order_date\": \"2024-10-28\", \"transaction_timestamp\": \"2024-10-28 04:47:27\", \"total_amount\": 799, \"payment_method\": \"Credit Card\", \"items\": [{\"item_id\": 10, \"name\": \"Drone\", \"category\": \"Electronics\", \"price\": 799, \"quantity\": 1, \"details\": {\"brand\": \"GoPro\", \"color\": \"Black\"}}], \"order_status\": \"Pending\"}</td><td>{\"order_id\": 6, \"customer_id\": 1987, \"order_date\": \"2024-10-28\", \"transaction_timestamp\": \"2024-10-28 04:47:27\", \"total_amount\": 799, \"payment_method\": \"Credit Card\", \"items\": [{\"item_id\": 10, \"name\": \"Drone\", \"category\": \"Electronics\", \"price\": 799, \"quantity\": 1, \"details\": {\"brand\": \"GoPro\", \"color\": \"Black\"}}], \"order_status\": \"Pending\"}</td></tr><tr><td>{\"order_id\": 10, \"customer_id\": 5816, \"order_date\": \"2024-10-07\", \"transaction_timestamp\": \"2024-10-07 22:09:27\", \"total_amount\": 399, \"payment_method\": \"Credit Card\", \"items\": [{\"item_id\": 5, \"name\": \"Tablet\", \"category\": \"Electronics\", \"price\": 399, \"quantity\": 1, \"details\": {\"brand\": \"GoPro\", \"color\": \"White\"}}], \"order_status\": \"Pending\"}</td><td>{\"order_id\": 10, \"customer_id\": 5816, \"order_date\": \"2024-10-07\", \"transaction_timestamp\": \"2024-10-07 22:09:27\", \"total_amount\": 399, \"payment_method\": \"Credit Card\", \"items\": [{\"item_id\": 5, \"name\": \"Tablet\", \"category\": \"Electronics\", \"price\": 399, \"quantity\": 1, \"details\": {\"brand\": \"GoPro\", \"color\": \"White\"}}], \"order_status\": \"Pending\"}</td></tr><tr><td>{\"order_id\": 11, \"customer_id\": 5816, \"order_date\": \"2024-10-13\", \"transaction_timestamp\": \"2024-10-13 17:34:19\", \"total_amount\": 897, \"payment_method\": \"Bank Transfer\", \"items\": [{\"item_id\": 4, \"name\": \"Smartwatch\", \"category\": \"Electronics\", \"price\": 299, \"quantity\": 3, \"details\": {\"brand\": \"Canon\", \"color\": \"White\"}}], \"order_status\": \"Pending\"}</td><td>{\"order_id\": 11, \"customer_id\": 5816, \"order_date\": \"2024-10-13\", \"transaction_timestamp\": \"2024-10-13 17:34:19\", \"total_amount\": 897, \"payment_method\": \"Bank Transfer\", \"items\": [{\"item_id\": 4, \"name\": \"Smartwatch\", \"category\": \"Electronics\", \"price\": 299, \"quantity\": 3, \"details\": {\"brand\": \"Canon\", \"color\": \"White\"}}], \"order_status\": \"Pending\"}</td></tr><tr><td>{\"order_id\": 15, \"customer_id\": 7207, \"order_date\": \"2024-10-20\", \"transaction_timestamp\": \"2024-10-20 01:47:25\", \"total_amount\": 1199, \"payment_method\": \"Bank Transfer\", \"items\": [{\"item_id\": 9, \"name\": \"Smart TV\", \"category\": \"Electronics\", \"price\": 1199, \"quantity\": 1, \"details\": {\"brand\": \"GoPro\", \"color\": \"White\"}}], \"order_status\": \"Completed\"}</td><td>{\"order_id\": 15, \"customer_id\": 7207, \"order_date\": \"2024-10-20\", \"transaction_timestamp\": \"2024-10-20 01:47:25\", \"total_amount\": 1199, \"payment_method\": \"Bank Transfer\", \"items\": [{\"item_id\": 9, \"name\": \"Smart TV\", \"category\": \"Electronics\", \"price\": 1199, \"quantity\": 1, \"details\": {\"brand\": \"GoPro\", \"color\": \"White\"}}], \"order_status\": \"Completed\"}</td></tr><tr><td>{\"order_id\": 19, \"customer_id\": 8539, \"order_date\": \"2024-10-13\", \"transaction_timestamp\": \"2024-10-13 12:40:26\", \"total_amount\": 499, \"payment_method\": \"PayPal\", \"items\": [{\"item_id\": 8, \"name\": \"Gaming Console\", \"category\": \"Electronics\", \"price\": 499, \"quantity\": 1, \"details\": {\"brand\": \"Dell\", \"color\": \"Silver\"}}], \"order_status\": \"Shipped\"}</td><td>{\"order_id\": 19, \"customer_id\": 8539, \"order_date\": \"2024-10-13\", \"transaction_timestamp\": \"2024-10-13 12:40:26\", \"total_amount\": 499, \"payment_method\": \"PayPal\", \"items\": [{\"item_id\": 8, \"name\": \"Gaming Console\", \"category\": \"Electronics\", \"price\": 499, \"quantity\": 1, \"details\": {\"brand\": \"Dell\", \"color\": \"Silver\"}}], \"order_status\": \"Shipped\"}</td></tr><tr><td>{\"order_id\": 39, \"customer_id\": 9263, \"order_date\": \"2024-10-29\", \"transaction_timestamp\": \"2024-10-29 21:39:19\", \"total_amount\": 387, \"payment_method\": \"PayPal\", \"items\": [{\"item_id\": 7, \"name\": \"External Hard Drive\", \"category\": \"Electronics\", \"price\": 129, \"quantity\": 3, \"details\": {\"brand\": \"Sony\", \"color\": \"Black\"}}], \"order_status\": \"Shipped\"}</td><td>{\"order_id\": 39, \"customer_id\": 9263, \"order_date\": \"2024-10-29\", \"transaction_timestamp\": \"2024-10-29 21:39:19\", \"total_amount\": 387, \"payment_method\": \"PayPal\", \"items\": [{\"item_id\": 7, \"name\": \"External Hard Drive\", \"category\": \"Electronics\", \"price\": 129, \"quantity\": 3, \"details\": {\"brand\": \"Sony\", \"color\": \"Black\"}}], \"order_status\": \"Shipped\"}</td></tr><tr><td>{\"order_id\": 55, \"customer_id\": 9018, \"order_date\": \"2024-10-25\", \"transaction_timestamp\": \"2024-10-25 05:49:16\", \"total_amount\": 699, \"payment_method\": \"Bank Transfer\", \"items\": [{\"item_id\": 1, \"name\": \"Smartphone\", \"category\": \"Electronics\", \"price\": 699, \"quantity\": 1, \"details\": {\"brand\": \"HP\", \"color\": \"Black\"}}], \"order_status\": \"Shipped\"}</td><td>{\"order_id\": 55, \"customer_id\": 9018, \"order_date\": \"2024-10-25\", \"transaction_timestamp\": \"2024-10-25 05:49:16\", \"total_amount\": 699, \"payment_method\": \"Bank Transfer\", \"items\": [{\"item_id\": 1, \"name\": \"Smartphone\", \"category\": \"Electronics\", \"price\": 699, \"quantity\": 1, \"details\": {\"brand\": \"HP\", \"color\": \"Black\"}}], \"order_status\": \"Shipped\"}</td></tr><tr><td>{\"order_id\": 59, \"customer_id\": 3409, \"order_date\": \"2024-10-23\", \"transaction_timestamp\": \"2024-10-23 02:51:05\", \"total_amount\": 499, \"payment_method\": \"PayPal\", \"items\": [{\"item_id\": 8, \"name\": \"Gaming Console\", \"category\": \"Electronics\", \"price\": 499, \"quantity\": 1, \"details\": {\"brand\": \"Dell\", \"color\": \"Black\"}}], \"order_status\": \"Pending\"}</td><td>{\"order_id\": 59, \"customer_id\": 3409, \"order_date\": \"2024-10-23\", \"transaction_timestamp\": \"2024-10-23 02:51:05\", \"total_amount\": 499, \"payment_method\": \"PayPal\", \"items\": [{\"item_id\": 8, \"name\": \"Gaming Console\", \"category\": \"Electronics\", \"price\": 499, \"quantity\": 1, \"details\": {\"brand\": \"Dell\", \"color\": \"Black\"}}], \"order_status\": \"Pending\"}</td></tr><tr><td>{\"order_id\": 72, \"customer_id\": 3889, \"order_date\": 2024-10-06, \"transaction_timestamp\": \"2024-10-06 10:23:28\", \"total_amount\": 328, \"payment_method\": \"PayPal\", \"items\": [{\"item_id\": 3, \"name\": \"Wireless Headphones\", \"category\": \"Electronics\", \"price\": 199, \"quantity\": 1, \"details\": {\"brand\": \"Microsoft\", \"color\": \"Gray\"}}, {\"item_id\": 7, \"name\": \"External Hard Drive\", \"category\": \"Electronics\", \"price\": 129, \"quantity\": 1, \"details\": {\"brand\": \"Samsung\", \"color\": \"Silver\"}}], \"order_status\": \"Cancelled\"}</td><td>{\"order_id\": 72, \"customer_id\": 3889, \"order_date\": \"2024-10-06\", \"transaction_timestamp\": \"2024-10-06 10:23:28\", \"total_amount\": 328, \"payment_method\": \"PayPal\", \"items\": [{\"item_id\": 3, \"name\": \"Wireless Headphones\", \"category\": \"Electronics\", \"price\": 199, \"quantity\": 1, \"details\": {\"brand\": \"Microsoft\", \"color\": \"Gray\"}}, {\"item_id\": 7, \"name\": \"External Hard Drive\", \"category\": \"Electronics\", \"price\": 129, \"quantity\": 1, \"details\": {\"brand\": \"Samsung\", \"color\": \"Silver\"}}], \"order_status\": \"Cancelled\"}</td></tr><tr><td>{\"order_id\": 77, \"customer_id\": 9084, \"order_date\": \"2024-10-15\", \"transaction_timestamp\": \"2024-10-15 13:09:33\", \"total_amount\": 398, \"payment_method\": \"Credit Card\", \"items\": [{\"item_id\": 3, \"name\": \"Wireless Headphones\", \"category\": \"Electronics\", \"price\": 199, \"quantity\": 2, \"details\": {\"brand\": \"HP\", \"color\": \"Silver\"}}], \"order_status\": \"Pending\"}</td><td>{\"order_id\": 77, \"customer_id\": 9084, \"order_date\": \"2024-10-15\", \"transaction_timestamp\": \"2024-10-15 13:09:33\", \"total_amount\": 398, \"payment_method\": \"Credit Card\", \"items\": [{\"item_id\": 3, \"name\": \"Wireless Headphones\", \"category\": \"Electronics\", \"price\": 199, \"quantity\": 2, \"details\": {\"brand\": \"HP\", \"color\": \"Silver\"}}], \"order_status\": \"Pending\"}</td></tr><tr><td>{\"order_id\": 84, \"customer_id\": 2344, \"order_date\": \"2024-10-25\", \"transaction_timestamp\": \"2024-10-25 03:37:42\", \"total_amount\": 998, \"payment_method\": \"PayPal\", \"items\": [{\"item_id\": 10, \"name\": \"Drone\", \"category\": \"Electronics\", \"price\": 799, \"quantity\": 1, \"details\": {\"brand\": \"Sony\", \"color\": \"Black\"}}, {\"item_id\": 3, \"name\": \"Wireless Headphones\", \"category\": \"Electronics\", \"price\": 199, \"quantity\": 1, \"details\": {\"brand\": \"LG\", \"color\": \"Black\"}}], \"order_status\": \"Completed\"}</td><td>{\"order_id\": 84, \"customer_id\": 2344, \"order_date\": \"2024-10-25\", \"transaction_timestamp\": \"2024-10-25 03:37:42\", \"total_amount\": 998, \"payment_method\": \"PayPal\", \"items\": [{\"item_id\": 10, \"name\": \"Drone\", \"category\": \"Electronics\", \"price\": 799, \"quantity\": 1, \"details\": {\"brand\": \"Sony\", \"color\": \"Black\"}}, {\"item_id\": 3, \"name\": \"Wireless Headphones\", \"category\": \"Electronics\", \"price\": 199, \"quantity\": 1, \"details\": {\"brand\": \"LG\", \"color\": \"Black\"}}], \"order_status\": \"Completed\"}</td></tr><tr><td>{\"order_id\": 85, \"customer_id\": 5011, \"order_date\": \"2024-10-23\", \"transaction_timestamp\": \"2024-10-23 20:06:42\", \"total_amount\": 998, \"payment_method\": \"Bank Transfer\", \"items\": [{\"item_id\": 8, \"name\": \"Gaming Console\", \"category\": \"Electronics\", \"price\": 499, \"quantity\": 2, \"details\": {\"brand\": \"GoPro\", \"color\": \"Black\"}}], \"order_status\": \"Shipped\"}</td><td>{\"order_id\": 85, \"customer_id\": 5011, \"order_date\": \"2024-10-23\", \"transaction_timestamp\": \"2024-10-23 20:06:42\", \"total_amount\": 998, \"payment_method\": \"Bank Transfer\", \"items\": [{\"item_id\": 8, \"name\": \"Gaming Console\", \"category\": \"Electronics\", \"price\": 499, \"quantity\": 2, \"details\": {\"brand\": \"GoPro\", \"color\": \"Black\"}}], \"order_status\": \"Shipped\"}</td></tr><tr><td>{\"order_id\": 86, \"customer_id\": 5011, \"order_date\": \"2024-10-19\", \"transaction_timestamp\": \"2024-10-19 13:30:47\", \"total_amount\": 1199, \"payment_method\": \"PayPal\", \"items\": [{\"item_id\": 9, \"name\": \"Smart TV\", \"category\": \"Electronics\", \"price\": 1199, \"quantity\": 1, \"details\": {\"brand\": \"Dell\", \"color\": \"White\"}}], \"order_status\": \"Completed\"}</td><td>{\"order_id\": 86, \"customer_id\": 5011, \"order_date\": \"2024-10-19\", \"transaction_timestamp\": \"2024-10-19 13:30:47\", \"total_amount\": 1199, \"payment_method\": \"PayPal\", \"items\": [{\"item_id\": 9, \"name\": \"Smart TV\", \"category\": \"Electronics\", \"price\": 1199, \"quantity\": 1, \"details\": {\"brand\": \"Dell\", \"color\": \"White\"}}], \"order_status\": \"Completed\"}</td></tr></tbody></table></div>"
      ]
     },
     "metadata": {
      "application/vnd.databricks.v1+output": {
       "addedWidgets": {},
       "aggData": [],
       "aggError": "",
       "aggOverflow": false,
       "aggSchema": [],
       "aggSeriesLimitReached": false,
       "aggType": "",
       "arguments": {},
       "columnCustomDisplayInfos": {},
       "data": [
        [
         "{\"order_id\": 1, \"customer_id\": 6973, \"order_date\": \"2025-01-05\", \"transaction_timestamp\": \"2025-01-05 10:13:59\", \"total_amount\": 499, \"payment_method\": \"Bank Transfer\", \"items\": [{\"item_id\": 8, \"name\": \"Gaming Console\", \"category\": \"Electronics\", \"price\": 499, \"quantity\": 1, \"details\": {\"brand\": \"Sony\", \"color\": \"Blue\"}}], \"order_status\": \"Completed\"}",
         "{\"order_id\": 1, \"customer_id\": 6973, \"order_date\": \"2025-01-05\", \"transaction_timestamp\": \"2025-01-05 10:13:59\", \"total_amount\": 499, \"payment_method\": \"Bank Transfer\", \"items\": [{\"item_id\": 8, \"name\": \"Gaming Console\", \"category\": \"Electronics\", \"price\": 499, \"quantity\": 1, \"details\": {\"brand\": \"Sony\", \"color\": \"Blue\"}}], \"order_status\": \"Completed\"}"
        ],
        [
         "{\"order_id\": 2, \"customer_id\": 3532, \"order_date\": 2025-01-19, \"transaction_timestamp\": \"2025-01-19 00:05:13\", \"total_amount\": 985, \"payment_method\": \"PayPal\", \"items\": [{\"item_id\": 4, \"name\": \"Smartwatch\", \"category\": \"Electronics\", \"price\": 299, \"quantity\": 2, \"details\": {\"brand\": \"Canon\", \"color\": \"Gray\"}}, {\"item_id\": 7, \"name\": \"External Hard Drive\", \"category\": \"Electronics\", \"price\": 129, \"quantity\": 3, \"details\": {\"brand\": \"Dell\", \"color\": \"Blue\"}}], \"order_status\": \"Cancelled\"}",
         "{\"order_id\": 2, \"customer_id\": 3532, \"order_date\": \"2025-01-19\", \"transaction_timestamp\": \"2025-01-19 00:05:13\", \"total_amount\": 985, \"payment_method\": \"PayPal\", \"items\": [{\"item_id\": 4, \"name\": \"Smartwatch\", \"category\": \"Electronics\", \"price\": 299, \"quantity\": 2, \"details\": {\"brand\": \"Canon\", \"color\": \"Gray\"}}, {\"item_id\": 7, \"name\": \"External Hard Drive\", \"category\": \"Electronics\", \"price\": 129, \"quantity\": 3, \"details\": {\"brand\": \"Dell\", \"color\": \"Blue\"}}], \"order_status\": \"Cancelled\"}"
        ],
        [
         "{\"order_id\": 3, \"customer_id\": 3532, \"order_date\": \"2025-01-08\", \"transaction_timestamp\": \"2025-01-08 23:11:00\", \"total_amount\": 597, \"payment_method\": \"Bank Transfer\", \"items\": [{\"item_id\": 3, \"name\": \"Wireless Headphones\", \"category\": \"Electronics\", \"price\": 199, \"quantity\": 3, \"details\": {\"brand\": \"Apple\", \"color\": \"White\"}}], \"order_status\": \"Completed\"}",
         "{\"order_id\": 3, \"customer_id\": 3532, \"order_date\": \"2025-01-08\", \"transaction_timestamp\": \"2025-01-08 23:11:00\", \"total_amount\": 597, \"payment_method\": \"Bank Transfer\", \"items\": [{\"item_id\": 3, \"name\": \"Wireless Headphones\", \"category\": \"Electronics\", \"price\": 199, \"quantity\": 3, \"details\": {\"brand\": \"Apple\", \"color\": \"White\"}}], \"order_status\": \"Completed\"}"
        ],
        [
         "{\"order_id\": 4, \"customer_id\": 3532, \"order_date\": \"2025-01-05\", \"transaction_timestamp\": \"2025-01-05 05:49:26\", \"total_amount\": 999, \"payment_method\": \"Bank Transfer\", \"items\": [{\"item_id\": 2, \"name\": \"Laptop\", \"category\": \"Electronics\", \"price\": 999, \"quantity\": 1, \"details\": {\"brand\": \"Microsoft\", \"color\": \"Black\"}}], \"order_status\": \"Cancelled\"}",
         "{\"order_id\": 4, \"customer_id\": 3532, \"order_date\": \"2025-01-05\", \"transaction_timestamp\": \"2025-01-05 05:49:26\", \"total_amount\": 999, \"payment_method\": \"Bank Transfer\", \"items\": [{\"item_id\": 2, \"name\": \"Laptop\", \"category\": \"Electronics\", \"price\": 999, \"quantity\": 1, \"details\": {\"brand\": \"Microsoft\", \"color\": \"Black\"}}], \"order_status\": \"Cancelled\"}"
        ],
        [
         "{\"order_id\": 8, \"customer_id\": 9179, \"order_date\": \"2025-01-02\", \"transaction_timestamp\": \"2025-01-02 13:11:15\", \"total_amount\": 399, \"payment_method\": \"PayPal\", \"items\": [{\"item_id\": 5, \"name\": \"Tablet\", \"category\": \"Electronics\", \"price\": 399, \"quantity\": 1, \"details\": {\"brand\": \"LG\", \"color\": \"White\"}}], \"order_status\": \"Completed\"}",
         "{\"order_id\": 8, \"customer_id\": 9179, \"order_date\": \"2025-01-02\", \"transaction_timestamp\": \"2025-01-02 13:11:15\", \"total_amount\": 399, \"payment_method\": \"PayPal\", \"items\": [{\"item_id\": 5, \"name\": \"Tablet\", \"category\": \"Electronics\", \"price\": 399, \"quantity\": 1, \"details\": {\"brand\": \"LG\", \"color\": \"White\"}}], \"order_status\": \"Completed\"}"
        ],
        [
         "{\"order_id\": 14, \"customer_id\": 7207, \"order_date\": \"2025-01-01\", \"transaction_timestamp\": \"2025-01-01 18:22:26\", \"total_amount\": 597, \"payment_method\": \"PayPal\", \"items\": [{\"item_id\": 3, \"name\": \"Wireless Headphones\", \"category\": \"Electronics\", \"price\": 199, \"quantity\": 3, \"details\": {\"brand\": \"Bose\", \"color\": \"Blue\"}}], \"order_status\": \"Cancelled\"}",
         "{\"order_id\": 14, \"customer_id\": 7207, \"order_date\": \"2025-01-01\", \"transaction_timestamp\": \"2025-01-01 18:22:26\", \"total_amount\": 597, \"payment_method\": \"PayPal\", \"items\": [{\"item_id\": 3, \"name\": \"Wireless Headphones\", \"category\": \"Electronics\", \"price\": 199, \"quantity\": 3, \"details\": {\"brand\": \"Bose\", \"color\": \"Blue\"}}], \"order_status\": \"Cancelled\"}"
        ],
        [
         "{\"order_id\": 18, \"customer_id\": 4468, \"order_date\": \"2025-01-22\", \"transaction_timestamp\": \"2025-01-22 21:12:08\", \"total_amount\": 799, \"payment_method\": \"Credit Card\", \"items\": [{\"item_id\": 10, \"name\": \"Drone\", \"category\": \"Electronics\", \"price\": 799, \"quantity\": 1, \"details\": {\"brand\": \"Dell\", \"color\": \"Black\"}}], \"order_status\": \"Pending\"}",
         "{\"order_id\": 18, \"customer_id\": 4468, \"order_date\": \"2025-01-22\", \"transaction_timestamp\": \"2025-01-22 21:12:08\", \"total_amount\": 799, \"payment_method\": \"Credit Card\", \"items\": [{\"item_id\": 10, \"name\": \"Drone\", \"category\": \"Electronics\", \"price\": 799, \"quantity\": 1, \"details\": {\"brand\": \"Dell\", \"color\": \"Black\"}}], \"order_status\": \"Pending\"}"
        ],
        [
         "{\"order_id\": 22, \"customer_id\": 4761, \"order_date\": 2025-01-01, \"transaction_timestamp\": \"2025-01-01 15:49:19\", \"total_amount\": 199, \"payment_method\": \"PayPal\", \"items\": [{\"item_id\": 3, \"name\": \"Wireless Headphones\", \"category\": \"Electronics\", \"price\": 199, \"quantity\": 1, \"details\": {\"brand\": \"HP\", \"color\": \"Silver\"}}], \"order_status\": \"Pending\"}",
         "{\"order_id\": 22, \"customer_id\": 4761, \"order_date\": \"2025-01-01\", \"transaction_timestamp\": \"2025-01-01 15:49:19\", \"total_amount\": 199, \"payment_method\": \"PayPal\", \"items\": [{\"item_id\": 3, \"name\": \"Wireless Headphones\", \"category\": \"Electronics\", \"price\": 199, \"quantity\": 1, \"details\": {\"brand\": \"HP\", \"color\": \"Silver\"}}], \"order_status\": \"Pending\"}"
        ],
        [
         "{\"order_id\": 26, \"customer_id\": 7007, \"order_date\": \"2025-01-05\", \"transaction_timestamp\": \"2025-01-05 19:01:25\", \"total_amount\": 699, \"payment_method\": \"Bank Transfer\", \"items\": [{\"item_id\": 1, \"name\": \"Smartphone\", \"category\": \"Electronics\", \"price\": 699, \"quantity\": 1, \"details\": {\"brand\": \"Samsung\", \"color\": \"Silver\"}}], \"order_status\": \"Shipped\"}",
         "{\"order_id\": 26, \"customer_id\": 7007, \"order_date\": \"2025-01-05\", \"transaction_timestamp\": \"2025-01-05 19:01:25\", \"total_amount\": 699, \"payment_method\": \"Bank Transfer\", \"items\": [{\"item_id\": 1, \"name\": \"Smartphone\", \"category\": \"Electronics\", \"price\": 699, \"quantity\": 1, \"details\": {\"brand\": \"Samsung\", \"color\": \"Silver\"}}], \"order_status\": \"Shipped\"}"
        ],
        [
         "{\"order_id\": 29, \"customer_id\": 5953, \"order_date\": \"2025-01-18\", \"transaction_timestamp\": \"2025-01-18 03:05:04\", \"total_amount\": 129, \"payment_method\": \"Bank Transfer\", \"items\": [{\"item_id\": 7, \"name\": \"External Hard Drive\", \"category\": \"Electronics\", \"price\": 129, \"quantity\": 1, \"details\": {\"brand\": \"Bose\", \"color\": \"Gray\"}}, {\"item_id\": 7, \"name\": \"External Hard Drive\", \"category\": \"Electronics\", \"price\": 129, \"quantity\": 1, \"details\": {\"brand\": \"Bose\", \"color\": \"Gray\"}}], \"order_status\": \"Pending\"}",
         "{\"order_id\": 29, \"customer_id\": 5953, \"order_date\": \"2025-01-18\", \"transaction_timestamp\": \"2025-01-18 03:05:04\", \"total_amount\": 129, \"payment_method\": \"Bank Transfer\", \"items\": [{\"item_id\": 7, \"name\": \"External Hard Drive\", \"category\": \"Electronics\", \"price\": 129, \"quantity\": 1, \"details\": {\"brand\": \"Bose\", \"color\": \"Gray\"}}, {\"item_id\": 7, \"name\": \"External Hard Drive\", \"category\": \"Electronics\", \"price\": 129, \"quantity\": 1, \"details\": {\"brand\": \"Bose\", \"color\": \"Gray\"}}], \"order_status\": \"Pending\"}"
        ],
        [
         "{\"order_id\": 31, \"customer_id\": 4996, \"order_date\": \"2025-01-18\", \"transaction_timestamp\": \"2025-01-18 03:13:29\", \"total_amount\": 299, \"payment_method\": \"Bank Transfer\", \"items\": [{\"item_id\": 4, \"name\": \"Smartwatch\", \"category\": \"Electronics\", \"price\": 299, \"quantity\": 1, \"details\": {\"brand\": \"Dell\", \"color\": \"White\"}}], \"order_status\": \"Shipped\"}",
         "{\"order_id\": 31, \"customer_id\": 4996, \"order_date\": \"2025-01-18\", \"transaction_timestamp\": \"2025-01-18 03:13:29\", \"total_amount\": 299, \"payment_method\": \"Bank Transfer\", \"items\": [{\"item_id\": 4, \"name\": \"Smartwatch\", \"category\": \"Electronics\", \"price\": 299, \"quantity\": 1, \"details\": {\"brand\": \"Dell\", \"color\": \"White\"}}], \"order_status\": \"Shipped\"}"
        ],
        [
         "{\"order_id\": 33, \"customer_id\": 9605, \"order_date\": \"2025-01-13\", \"transaction_timestamp\": \"2025-01-13 04:47:43\", \"total_amount\": 897, \"payment_method\": \"PayPal\", \"items\": [{\"item_id\": 4, \"name\": \"Smartwatch\", \"category\": \"Electronics\", \"price\": 299, \"quantity\": 3, \"details\": {\"brand\": \"Canon\", \"color\": \"White\"}}], \"order_status\": \"Completed\"}",
         "{\"order_id\": 33, \"customer_id\": 9605, \"order_date\": \"2025-01-13\", \"transaction_timestamp\": \"2025-01-13 04:47:43\", \"total_amount\": 897, \"payment_method\": \"PayPal\", \"items\": [{\"item_id\": 4, \"name\": \"Smartwatch\", \"category\": \"Electronics\", \"price\": 299, \"quantity\": 3, \"details\": {\"brand\": \"Canon\", \"color\": \"White\"}}], \"order_status\": \"Completed\"}"
        ],
        [
         "{\"order_id\": 34, \"customer_id\": 9605, \"order_date\": \"2025-01-21\", \"transaction_timestamp\": \"2025-01-21 00:25:01\", \"total_amount\": 926, \"payment_method\": \"PayPal\", \"items\": [{\"item_id\": 6, \"name\": \"Bluetooth Speaker\", \"category\": \"Electronics\", \"price\": 149, \"quantity\": 2, \"details\": {\"brand\": \"Bose\", \"color\": \"Silver\"}}, {\"item_id\": 8, \"name\": \"Gaming Console\", \"category\": \"Electronics\", \"price\": 499, \"quantity\": 1, \"details\": {\"brand\": \"LG\", \"color\": \"Black\"}}, {\"item_id\": 7, \"name\": \"External Hard Drive\", \"category\": \"Electronics\", \"price\": 129, \"quantity\": 1, \"details\": {\"brand\": \"Samsung\", \"color\": \"Black\"}}], \"order_status\": \"Cancelled\"}",
         "{\"order_id\": 34, \"customer_id\": 9605, \"order_date\": \"2025-01-21\", \"transaction_timestamp\": \"2025-01-21 00:25:01\", \"total_amount\": 926, \"payment_method\": \"PayPal\", \"items\": [{\"item_id\": 6, \"name\": \"Bluetooth Speaker\", \"category\": \"Electronics\", \"price\": 149, \"quantity\": 2, \"details\": {\"brand\": \"Bose\", \"color\": \"Silver\"}}, {\"item_id\": 8, \"name\": \"Gaming Console\", \"category\": \"Electronics\", \"price\": 499, \"quantity\": 1, \"details\": {\"brand\": \"LG\", \"color\": \"Black\"}}, {\"item_id\": 7, \"name\": \"External Hard Drive\", \"category\": \"Electronics\", \"price\": 129, \"quantity\": 1, \"details\": {\"brand\": \"Samsung\", \"color\": \"Black\"}}], \"order_status\": \"Cancelled\"}"
        ],
        [
         "{\"order_id\": 40, \"customer_id\": 6384, \"order_date\": \"2025-01-20\", \"transaction_timestamp\": \"2025-01-20 16:18:35\", \"total_amount\": 298, \"payment_method\": \"PayPal\", \"items\": [{\"item_id\": 6, \"name\": \"Bluetooth Speaker\", \"category\": \"Electronics\", \"price\": 149, \"quantity\": 2, \"details\": {\"brand\": \"Bose\", \"color\": \"Silver\"}}], \"order_status\": \"Completed\"}",
         "{\"order_id\": 40, \"customer_id\": 6384, \"order_date\": \"2025-01-20\", \"transaction_timestamp\": \"2025-01-20 16:18:35\", \"total_amount\": 298, \"payment_method\": \"PayPal\", \"items\": [{\"item_id\": 6, \"name\": \"Bluetooth Speaker\", \"category\": \"Electronics\", \"price\": 149, \"quantity\": 2, \"details\": {\"brand\": \"Bose\", \"color\": \"Silver\"}}], \"order_status\": \"Completed\"}"
        ],
        [
         "{\"order_id\": 41, \"customer_id\": 6384, \"order_date\": \"2025-01-05\", \"transaction_timestamp\": \"2025-01-05 06:10:22\", \"total_amount\": 999, \"payment_method\": \"Credit Card\", \"items\": [{\"item_id\": 2, \"name\": \"Laptop\", \"category\": \"Electronics\", \"price\": 999, \"quantity\": 1, \"details\": {\"brand\": \"Sony\", \"color\": \"Silver\"}}], \"order_status\": \"Shipped\"}",
         "{\"order_id\": 41, \"customer_id\": 6384, \"order_date\": \"2025-01-05\", \"transaction_timestamp\": \"2025-01-05 06:10:22\", \"total_amount\": 999, \"payment_method\": \"Credit Card\", \"items\": [{\"item_id\": 2, \"name\": \"Laptop\", \"category\": \"Electronics\", \"price\": 999, \"quantity\": 1, \"details\": {\"brand\": \"Sony\", \"color\": \"Silver\"}}], \"order_status\": \"Shipped\"}"
        ],
        [
         "{\"order_id\": 43, \"customer_id\": 5028, \"order_date\": \"2025-01-24\", \"transaction_timestamp\": \"2025-01-24 18:10:37\", \"total_amount\": 499, \"payment_method\": \"PayPal\", \"items\": [{\"item_id\": 8, \"name\": \"Gaming Console\", \"category\": \"Electronics\", \"price\": 499, \"quantity\": 1, \"details\": {\"brand\": \"LG\", \"color\": \"Black\"}}], \"order_status\": \"Pending\"}",
         "{\"order_id\": 43, \"customer_id\": 5028, \"order_date\": \"2025-01-24\", \"transaction_timestamp\": \"2025-01-24 18:10:37\", \"total_amount\": 499, \"payment_method\": \"PayPal\", \"items\": [{\"item_id\": 8, \"name\": \"Gaming Console\", \"category\": \"Electronics\", \"price\": 499, \"quantity\": 1, \"details\": {\"brand\": \"LG\", \"color\": \"Black\"}}], \"order_status\": \"Pending\"}"
        ],
        [
         "{\"order_id\": 50, \"customer_id\": 3712, \"order_date\": \"2025-01-11\", \"transaction_timestamp\": \"2025-01-11 01:19:09\", \"total_amount\": 746, \"payment_method\": \"Credit Card\", \"items\": [{\"item_id\": 6, \"name\": \"Bluetooth Speaker\", \"category\": \"Electronics\", \"price\": 149, \"quantity\": 3, \"details\": {\"brand\": \"Apple\", \"color\": \"Gray\"}}, {\"item_id\": 4, \"name\": \"Smartwatch\", \"category\": \"Electronics\", \"price\": 299, \"quantity\": 1, \"details\": {\"brand\": \"Sony\", \"color\": \"White\"}}], \"order_status\": \"Shipped\"}",
         "{\"order_id\": 50, \"customer_id\": 3712, \"order_date\": \"2025-01-11\", \"transaction_timestamp\": \"2025-01-11 01:19:09\", \"total_amount\": 746, \"payment_method\": \"Credit Card\", \"items\": [{\"item_id\": 6, \"name\": \"Bluetooth Speaker\", \"category\": \"Electronics\", \"price\": 149, \"quantity\": 3, \"details\": {\"brand\": \"Apple\", \"color\": \"Gray\"}}, {\"item_id\": 4, \"name\": \"Smartwatch\", \"category\": \"Electronics\", \"price\": 299, \"quantity\": 1, \"details\": {\"brand\": \"Sony\", \"color\": \"White\"}}], \"order_status\": \"Shipped\"}"
        ],
        [
         "{\"order_id\": 51, \"customer_id\": 8845, \"order_date\": \"2025-01-21\", \"transaction_timestamp\": \"2025-01-21 13:19:59\", \"total_amount\": 149, \"payment_method\": \"PayPal\", \"items\": [{\"item_id\": 6, \"name\": \"Bluetooth Speaker\", \"category\": \"Electronics\", \"price\": 149, \"quantity\": 1, \"details\": {\"brand\": \"Samsung\", \"color\": \"Gray\"}}], \"order_status\": \"Completed\"}",
         "{\"order_id\": 51, \"customer_id\": 8845, \"order_date\": \"2025-01-21\", \"transaction_timestamp\": \"2025-01-21 13:19:59\", \"total_amount\": 149, \"payment_method\": \"PayPal\", \"items\": [{\"item_id\": 6, \"name\": \"Bluetooth Speaker\", \"category\": \"Electronics\", \"price\": 149, \"quantity\": 1, \"details\": {\"brand\": \"Samsung\", \"color\": \"Gray\"}}], \"order_status\": \"Completed\"}"
        ],
        [
         "{\"order_id\": 53, \"customer_id\": 8845, \"order_date\": \"2025-01-21\", \"transaction_timestamp\": \"2025-01-21 08:31:02\", \"total_amount\": 199, \"payment_method\": \"Bank Transfer\", \"items\": [{\"item_id\": 3, \"name\": \"Wireless Headphones\", \"category\": \"Electronics\", \"price\": 199, \"quantity\": 1, \"details\": {\"brand\": \"Apple\", \"color\": \"Black\"}}], \"order_status\": \"Pending\"}",
         "{\"order_id\": 53, \"customer_id\": 8845, \"order_date\": \"2025-01-21\", \"transaction_timestamp\": \"2025-01-21 08:31:02\", \"total_amount\": 199, \"payment_method\": \"Bank Transfer\", \"items\": [{\"item_id\": 3, \"name\": \"Wireless Headphones\", \"category\": \"Electronics\", \"price\": 199, \"quantity\": 1, \"details\": {\"brand\": \"Apple\", \"color\": \"Black\"}}], \"order_status\": \"Pending\"}"
        ],
        [
         "{\"order_id\": 56, \"customer_id\": 8580, \"order_date\": \"2025-01-01\", \"transaction_timestamp\": \"2025-01-01 12:02:41\", \"total_amount\": 698, \"payment_method\": \"PayPal\", \"items\": [{\"item_id\": 3, \"name\": \"Wireless Headphones\", \"category\": \"Electronics\", \"price\": 199, \"quantity\": 1, \"details\": {\"brand\": \"HP\", \"color\": \"Silver\"}}, {\"item_id\": 8, \"name\": \"Gaming Console\", \"category\": \"Electronics\", \"price\": 499, \"quantity\": 1, \"details\": {\"brand\": \"LG\", \"color\": \"Gray\"}}], \"order_status\": \"Cancelled\"}",
         "{\"order_id\": 56, \"customer_id\": 8580, \"order_date\": \"2025-01-01\", \"transaction_timestamp\": \"2025-01-01 12:02:41\", \"total_amount\": 698, \"payment_method\": \"PayPal\", \"items\": [{\"item_id\": 3, \"name\": \"Wireless Headphones\", \"category\": \"Electronics\", \"price\": 199, \"quantity\": 1, \"details\": {\"brand\": \"HP\", \"color\": \"Silver\"}}, {\"item_id\": 8, \"name\": \"Gaming Console\", \"category\": \"Electronics\", \"price\": 499, \"quantity\": 1, \"details\": {\"brand\": \"LG\", \"color\": \"Gray\"}}], \"order_status\": \"Cancelled\"}"
        ],
        [
         "{\"order_id\": 62, \"customer_id\": 7123, \"order_date\": \"2025-01-24\", \"transaction_timestamp\": \"2025-01-24 12:00:54\", \"total_amount\": 985, \"payment_method\": \"Bank Transfer\", \"items\": [{\"item_id\": 7, \"name\": \"External Hard Drive\", \"category\": \"Electronics\", \"price\": 129, \"quantity\": 3, \"details\": {\"brand\": \"Dell\", \"color\": \"White\"}}, {\"item_id\": 4, \"name\": \"Smartwatch\", \"category\": \"Electronics\", \"price\": 299, \"quantity\": 2, \"details\": {\"brand\": \"GoPro\", \"color\": \"Blue\"}}], \"order_status\": \"Completed\"}",
         "{\"order_id\": 62, \"customer_id\": 7123, \"order_date\": \"2025-01-24\", \"transaction_timestamp\": \"2025-01-24 12:00:54\", \"total_amount\": 985, \"payment_method\": \"Bank Transfer\", \"items\": [{\"item_id\": 7, \"name\": \"External Hard Drive\", \"category\": \"Electronics\", \"price\": 129, \"quantity\": 3, \"details\": {\"brand\": \"Dell\", \"color\": \"White\"}}, {\"item_id\": 4, \"name\": \"Smartwatch\", \"category\": \"Electronics\", \"price\": 299, \"quantity\": 2, \"details\": {\"brand\": \"GoPro\", \"color\": \"Blue\"}}], \"order_status\": \"Completed\"}"
        ],
        [
         "{\"order_id\": 66, \"customer_id\": 3084, \"order_date\": \"2025-01-17\", \"transaction_timestamp\": \"2025-01-17 21:16:11\", \"total_amount\": 598, \"payment_method\": \"Credit Card\", \"items\": [{\"item_id\": 4, \"name\": \"Smartwatch\", \"category\": \"Electronics\", \"price\": 299, \"quantity\": 1, \"details\": {\"brand\": \"Bose\", \"color\": \"Silver\"}}, {\"item_id\": 4, \"name\": \"Smartwatch\", \"category\": \"Electronics\", \"price\": 299, \"quantity\": 1, \"details\": {\"brand\": \"GoPro\", \"color\": \"White\"}}], \"order_status\": \"Cancelled\"}",
         "{\"order_id\": 66, \"customer_id\": 3084, \"order_date\": \"2025-01-17\", \"transaction_timestamp\": \"2025-01-17 21:16:11\", \"total_amount\": 598, \"payment_method\": \"Credit Card\", \"items\": [{\"item_id\": 4, \"name\": \"Smartwatch\", \"category\": \"Electronics\", \"price\": 299, \"quantity\": 1, \"details\": {\"brand\": \"Bose\", \"color\": \"Silver\"}}, {\"item_id\": 4, \"name\": \"Smartwatch\", \"category\": \"Electronics\", \"price\": 299, \"quantity\": 1, \"details\": {\"brand\": \"GoPro\", \"color\": \"White\"}}], \"order_status\": \"Cancelled\"}"
        ],
        [
         "{\"order_id\": 68, \"customer_id\": 4973, \"order_date\": \"2025-01-10\", \"transaction_timestamp\": \"2025-01-10 20:35:43\", \"total_amount\": 149, \"payment_method\": \"Bank Transfer\", \"items\": [{\"item_id\": 6, \"name\": \"Bluetooth Speaker\", \"category\": \"Electronics\", \"price\": 149, \"quantity\": 1, \"details\": {\"brand\": \"Bose\", \"color\": \"Gray\"}}], \"order_status\": \"Completed\"}",
         "{\"order_id\": 68, \"customer_id\": 4973, \"order_date\": \"2025-01-10\", \"transaction_timestamp\": \"2025-01-10 20:35:43\", \"total_amount\": 149, \"payment_method\": \"Bank Transfer\", \"items\": [{\"item_id\": 6, \"name\": \"Bluetooth Speaker\", \"category\": \"Electronics\", \"price\": 149, \"quantity\": 1, \"details\": {\"brand\": \"Bose\", \"color\": \"Gray\"}}], \"order_status\": \"Completed\"}"
        ],
        [
         "{\"order_id\": 73, \"customer_id\": 6167, \"order_date\": \"2025-01-07\", \"transaction_timestamp\": \"2025-01-07 01:02:26\", \"total_amount\": 387, \"payment_method\": \"Credit Card\", \"items\": [{\"item_id\": 7, \"name\": \"External Hard Drive\", \"category\": \"Electronics\", \"price\": 129, \"quantity\": 3, \"details\": {\"brand\": \"GoPro\", \"color\": \"Gray\"}}, {\"item_id\": 7, \"name\": \"External Hard Drive\", \"category\": \"Electronics\", \"price\": 129, \"quantity\": 3, \"details\": {\"brand\": \"GoPro\", \"color\": \"Gray\"}}], \"order_status\": \"Shipped\"}",
         "{\"order_id\": 73, \"customer_id\": 6167, \"order_date\": \"2025-01-07\", \"transaction_timestamp\": \"2025-01-07 01:02:26\", \"total_amount\": 387, \"payment_method\": \"Credit Card\", \"items\": [{\"item_id\": 7, \"name\": \"External Hard Drive\", \"category\": \"Electronics\", \"price\": 129, \"quantity\": 3, \"details\": {\"brand\": \"GoPro\", \"color\": \"Gray\"}}, {\"item_id\": 7, \"name\": \"External Hard Drive\", \"category\": \"Electronics\", \"price\": 129, \"quantity\": 3, \"details\": {\"brand\": \"GoPro\", \"color\": \"Gray\"}}], \"order_status\": \"Shipped\"}"
        ],
        [
         "{\"order_id\": 75, \"customer_id\": 6167, \"order_date\": \"2025-01-19\", \"transaction_timestamp\": \"2025-01-19 16:23:16\", \"total_amount\": 699, \"payment_method\": \"Credit Card\", \"items\": [{\"item_id\": 1, \"name\": \"Smartphone\", \"category\": \"Electronics\", \"price\": 699, \"quantity\": 1, \"details\": {\"brand\": \"GoPro\", \"color\": \"White\"}}], \"order_status\": \"Shipped\"}",
         "{\"order_id\": 75, \"customer_id\": 6167, \"order_date\": \"2025-01-19\", \"transaction_timestamp\": \"2025-01-19 16:23:16\", \"total_amount\": 699, \"payment_method\": \"Credit Card\", \"items\": [{\"item_id\": 1, \"name\": \"Smartphone\", \"category\": \"Electronics\", \"price\": 699, \"quantity\": 1, \"details\": {\"brand\": \"GoPro\", \"color\": \"White\"}}], \"order_status\": \"Shipped\"}"
        ],
        [
         "{\"order_id\": 76, \"customer_id\": 3295, \"order_date\": \"2025-01-06\", \"transaction_timestamp\": \"2025-01-06 02:54:39\", \"total_amount\": 399, \"payment_method\": \"Bank Transfer\", \"items\": [{\"item_id\": 5, \"name\": \"Tablet\", \"category\": \"Electronics\", \"price\": 399, \"quantity\": 1, \"details\": {\"brand\": \"Microsoft\", \"color\": \"Silver\"}}], \"order_status\": \"Completed\"}",
         "{\"order_id\": 76, \"customer_id\": 3295, \"order_date\": \"2025-01-06\", \"transaction_timestamp\": \"2025-01-06 02:54:39\", \"total_amount\": 399, \"payment_method\": \"Bank Transfer\", \"items\": [{\"item_id\": 5, \"name\": \"Tablet\", \"category\": \"Electronics\", \"price\": 399, \"quantity\": 1, \"details\": {\"brand\": \"Microsoft\", \"color\": \"Silver\"}}], \"order_status\": \"Completed\"}"
        ],
        [
         "{\"order_id\": 78, \"customer_id\": 9084, \"order_date\": \"2025-01-21\", \"transaction_timestamp\": \"2025-01-21 11:42:51\", \"total_amount\": 798, \"payment_method\": \"PayPal\", \"items\": [{\"item_id\": 5, \"name\": \"Tablet\", \"category\": \"Electronics\", \"price\": 399, \"quantity\": 2, \"details\": {\"brand\": \"Dell\", \"color\": \"White\"}}], \"order_status\": \"Cancelled\"}",
         "{\"order_id\": 78, \"customer_id\": 9084, \"order_date\": \"2025-01-21\", \"transaction_timestamp\": \"2025-01-21 11:42:51\", \"total_amount\": 798, \"payment_method\": \"PayPal\", \"items\": [{\"item_id\": 5, \"name\": \"Tablet\", \"category\": \"Electronics\", \"price\": 399, \"quantity\": 2, \"details\": {\"brand\": \"Dell\", \"color\": \"White\"}}], \"order_status\": \"Cancelled\"}"
        ],
        [
         "{\"order_id\": 79, \"customer_id\": 9084, \"order_date\": \"2025-01-25\", \"transaction_timestamp\": \"2025-01-25 03:52:05\", \"total_amount\": 998, \"payment_method\": \"Credit Card\", \"items\": [{\"item_id\": 8, \"name\": \"Gaming Console\", \"category\": \"Electronics\", \"price\": 499, \"quantity\": 2, \"details\": {\"brand\": \"Dell\", \"color\": \"Gray\"}}], \"order_status\": \"Cancelled\"}",
         "{\"order_id\": 79, \"customer_id\": 9084, \"order_date\": \"2025-01-25\", \"transaction_timestamp\": \"2025-01-25 03:52:05\", \"total_amount\": 998, \"payment_method\": \"Credit Card\", \"items\": [{\"item_id\": 8, \"name\": \"Gaming Console\", \"category\": \"Electronics\", \"price\": 499, \"quantity\": 2, \"details\": {\"brand\": \"Dell\", \"color\": \"Gray\"}}], \"order_status\": \"Cancelled\"}"
        ],
        [
         "{\"order_id\": 83, \"customer_id\": 2344, \"order_date\": \"2025-01-07\", \"transaction_timestamp\": \"2025-01-07 12:48:05\", \"total_amount\": 785, \"payment_method\": \"PayPal\", \"items\": [{\"item_id\": 7, \"name\": \"External Hard Drive\", \"category\": \"Electronics\", \"price\": 129, \"quantity\": 3, \"details\": {\"brand\": \"Canon\", \"color\": \"Gray\"}}, {\"item_id\": 3, \"name\": \"Wireless Headphones\", \"category\": \"Electronics\", \"price\": 199, \"quantity\": 2, \"details\": {\"brand\": \"Sony\", \"color\": \"Black\"}}], \"order_status\": \"Shipped\"}",
         "{\"order_id\": 83, \"customer_id\": 2344, \"order_date\": \"2025-01-07\", \"transaction_timestamp\": \"2025-01-07 12:48:05\", \"total_amount\": 785, \"payment_method\": \"PayPal\", \"items\": [{\"item_id\": 7, \"name\": \"External Hard Drive\", \"category\": \"Electronics\", \"price\": 129, \"quantity\": 3, \"details\": {\"brand\": \"Canon\", \"color\": \"Gray\"}}, {\"item_id\": 3, \"name\": \"Wireless Headphones\", \"category\": \"Electronics\", \"price\": 199, \"quantity\": 2, \"details\": {\"brand\": \"Sony\", \"color\": \"Black\"}}], \"order_status\": \"Shipped\"}"
        ],
        [
         "{\"order_id\": 87, \"customer_id\": 2141, \"order_date\": \"2025-01-02\", \"transaction_timestamp\": \"2025-01-02 04:28:38\", \"total_amount\": 129, \"payment_method\": \"PayPal\", \"items\": [{\"item_id\": 7, \"name\": \"External Hard Drive\", \"category\": \"Electronics\", \"price\": 129, \"quantity\": 1, \"details\": {\"brand\": \"Apple\", \"color\": \"Blue\"}}], \"order_status\": \"Pending\"}",
         "{\"order_id\": 87, \"customer_id\": 2141, \"order_date\": \"2025-01-02\", \"transaction_timestamp\": \"2025-01-02 04:28:38\", \"total_amount\": 129, \"payment_method\": \"PayPal\", \"items\": [{\"item_id\": 7, \"name\": \"External Hard Drive\", \"category\": \"Electronics\", \"price\": 129, \"quantity\": 1, \"details\": {\"brand\": \"Apple\", \"color\": \"Blue\"}}], \"order_status\": \"Pending\"}"
        ],
        [
         "{\"order_id\": 90, \"customer_id\": 9247, \"order_date\": \"2025-01-17\", \"transaction_timestamp\": \"2025-01-17 14:30:54\", \"total_amount\": 258, \"payment_method\": \"Credit Card\", \"items\": [{\"item_id\": 7, \"name\": \"External Hard Drive\", \"category\": \"Electronics\", \"price\": 129, \"quantity\": 1, \"details\": {\"brand\": \"Canon\", \"color\": \"White\"}}, {\"item_id\": 7, \"name\": \"External Hard Drive\", \"category\": \"Electronics\", \"price\": 129, \"quantity\": 1, \"details\": {\"brand\": \"Samsung\", \"color\": \"Black\"}}], \"order_status\": \"Pending\"}",
         "{\"order_id\": 90, \"customer_id\": 9247, \"order_date\": \"2025-01-17\", \"transaction_timestamp\": \"2025-01-17 14:30:54\", \"total_amount\": 258, \"payment_method\": \"Credit Card\", \"items\": [{\"item_id\": 7, \"name\": \"External Hard Drive\", \"category\": \"Electronics\", \"price\": 129, \"quantity\": 1, \"details\": {\"brand\": \"Canon\", \"color\": \"White\"}}, {\"item_id\": 7, \"name\": \"External Hard Drive\", \"category\": \"Electronics\", \"price\": 129, \"quantity\": 1, \"details\": {\"brand\": \"Samsung\", \"color\": \"Black\"}}], \"order_status\": \"Pending\"}"
        ],
        [
         "{\"order_id\": 94, \"customer_id\": 6627, \"order_date\": \"2025-01-10\", \"transaction_timestamp\": \"2025-01-10 09:51:48\", \"total_amount\": 895, \"payment_method\": \"Credit Card\", \"items\": [{\"item_id\": 6, \"name\": \"Bluetooth Speaker\", \"category\": \"Electronics\", \"price\": 149, \"quantity\": 2, \"details\": {\"brand\": \"Sony\", \"color\": \"Black\"}}, {\"item_id\": 3, \"name\": \"Wireless Headphones\", \"category\": \"Electronics\", \"price\": 199, \"quantity\": 3, \"details\": {\"brand\": \"Apple\", \"color\": \"Blue\"}}], \"order_status\": \"Pending\"}",
         "{\"order_id\": 94, \"customer_id\": 6627, \"order_date\": \"2025-01-10\", \"transaction_timestamp\": \"2025-01-10 09:51:48\", \"total_amount\": 895, \"payment_method\": \"Credit Card\", \"items\": [{\"item_id\": 6, \"name\": \"Bluetooth Speaker\", \"category\": \"Electronics\", \"price\": 149, \"quantity\": 2, \"details\": {\"brand\": \"Sony\", \"color\": \"Black\"}}, {\"item_id\": 3, \"name\": \"Wireless Headphones\", \"category\": \"Electronics\", \"price\": 199, \"quantity\": 3, \"details\": {\"brand\": \"Apple\", \"color\": \"Blue\"}}], \"order_status\": \"Pending\"}"
        ],
        [
         "{\"order_id\": 98, \"customer_id\": 9150, \"order_date\": \"2025-01-08\", \"transaction_timestamp\": \"2025-01-08 05:57:55\", \"total_amount\": 985, \"payment_method\": \"Credit Card\", \"items\": [{\"item_id\": 7, \"name\": \"External Hard Drive\", \"category\": \"Electronics\", \"price\": 129, \"quantity\": 3, \"details\": {\"brand\": \"HP\", \"color\": \"Blue\"}}, {\"item_id\": 4, \"name\": \"Smartwatch\", \"category\": \"Electronics\", \"price\": 299, \"quantity\": 2, \"details\": {\"brand\": \"Samsung\", \"color\": \"Gray\"}}], \"order_status\": \"Completed\"}",
         "{\"order_id\": 98, \"customer_id\": 9150, \"order_date\": \"2025-01-08\", \"transaction_timestamp\": \"2025-01-08 05:57:55\", \"total_amount\": 985, \"payment_method\": \"Credit Card\", \"items\": [{\"item_id\": 7, \"name\": \"External Hard Drive\", \"category\": \"Electronics\", \"price\": 129, \"quantity\": 3, \"details\": {\"brand\": \"HP\", \"color\": \"Blue\"}}, {\"item_id\": 4, \"name\": \"Smartwatch\", \"category\": \"Electronics\", \"price\": 299, \"quantity\": 2, \"details\": {\"brand\": \"Samsung\", \"color\": \"Gray\"}}], \"order_status\": \"Completed\"}"
        ],
        [
         "{\"order_id\": 99, \"customer_id\": 9150, \"order_date\": \"2025-01-10\", \"transaction_timestamp\": \"2025-01-10 21:43:46\", \"total_amount\": 699, \"payment_method\": \"Credit Card\", \"items\": [{\"item_id\": 1, \"name\": \"Smartphone\", \"category\": \"Electronics\", \"price\": 699, \"quantity\": 1, \"details\": {\"brand\": \"Bose\", \"color\": \"Gray\"}}], \"order_status\": \"Shipped\"}",
         "{\"order_id\": 99, \"customer_id\": 9150, \"order_date\": \"2025-01-10\", \"transaction_timestamp\": \"2025-01-10 21:43:46\", \"total_amount\": 699, \"payment_method\": \"Credit Card\", \"items\": [{\"item_id\": 1, \"name\": \"Smartphone\", \"category\": \"Electronics\", \"price\": 699, \"quantity\": 1, \"details\": {\"brand\": \"Bose\", \"color\": \"Gray\"}}], \"order_status\": \"Shipped\"}"
        ],
        [
         "{\"order_id\": 100, \"customer_id\": 9150, \"order_date\": \"2025-01-04\", \"transaction_timestamp\": \"2025-01-04 06:40:13\", \"total_amount\": 447, \"payment_method\": \"PayPal\", \"items\": [{\"item_id\": 6, \"name\": \"Bluetooth Speaker\", \"category\": \"Electronics\", \"price\": 149, \"quantity\": 3, \"details\": {\"brand\": \"LG\", \"color\": \"Silver\"}}], \"order_status\": \"Shipped\"}",
         "{\"order_id\": 100, \"customer_id\": 9150, \"order_date\": \"2025-01-04\", \"transaction_timestamp\": \"2025-01-04 06:40:13\", \"total_amount\": 447, \"payment_method\": \"PayPal\", \"items\": [{\"item_id\": 6, \"name\": \"Bluetooth Speaker\", \"category\": \"Electronics\", \"price\": 149, \"quantity\": 3, \"details\": {\"brand\": \"LG\", \"color\": \"Silver\"}}], \"order_status\": \"Shipped\"}"
        ],
        [
         "{\"order_id\": 12, \"customer_id\": 5816, \"order_date\": \"2024-12-06\", \"transaction_timestamp\": \"2024-12-06 20:26:49\", \"total_amount\": 999, \"payment_method\": \"PayPal\", \"items\": [{\"item_id\": 2, \"name\": \"Laptop\", \"category\": \"Electronics\", \"price\": 999, \"quantity\": 1, \"details\": {\"brand\": \"Sony\", \"color\": \"White\"}}], \"order_status\": \"Cancelled\"}",
         "{\"order_id\": 12, \"customer_id\": 5816, \"order_date\": \"2024-12-06\", \"transaction_timestamp\": \"2024-12-06 20:26:49\", \"total_amount\": 999, \"payment_method\": \"PayPal\", \"items\": [{\"item_id\": 2, \"name\": \"Laptop\", \"category\": \"Electronics\", \"price\": 999, \"quantity\": 1, \"details\": {\"brand\": \"Sony\", \"color\": \"White\"}}], \"order_status\": \"Cancelled\"}"
        ],
        [
         "{\"order_id\": 13, \"customer_id\": 4858, \"order_date\": \"2024-12-17\", \"transaction_timestamp\": \"2024-12-17 03:41:37\", \"total_amount\": 999, \"payment_method\": \"PayPal\", \"items\": [{\"item_id\": 2, \"name\": \"Laptop\", \"category\": \"Electronics\", \"price\": 999, \"quantity\": 1, \"details\": {\"brand\": \"GoPro\", \"color\": \"Black\"}}], \"order_status\": \"Pending\"}",
         "{\"order_id\": 13, \"customer_id\": 4858, \"order_date\": \"2024-12-17\", \"transaction_timestamp\": \"2024-12-17 03:41:37\", \"total_amount\": 999, \"payment_method\": \"PayPal\", \"items\": [{\"item_id\": 2, \"name\": \"Laptop\", \"category\": \"Electronics\", \"price\": 999, \"quantity\": 1, \"details\": {\"brand\": \"GoPro\", \"color\": \"Black\"}}], \"order_status\": \"Pending\"}"
        ],
        [
         "{\"order_id\": 16, \"customer_id\": 5204, \"order_date\": \"2024-12-08\", \"transaction_timestamp\": \"2024-12-08 22:59:48\", \"total_amount\": 597, \"payment_method\": \"Bank Transfer\", \"items\": [{\"item_id\": 3, \"name\": \"Wireless Headphones\", \"category\": \"Electronics\", \"price\": 199, \"quantity\": 3, \"details\": {\"brand\": \"Sony\", \"color\": \"Silver\"}}], \"order_status\": \"Pending\"}",
         "{\"order_id\": 16, \"customer_id\": 5204, \"order_date\": \"2024-12-08\", \"transaction_timestamp\": \"2024-12-08 22:59:48\", \"total_amount\": 597, \"payment_method\": \"Bank Transfer\", \"items\": [{\"item_id\": 3, \"name\": \"Wireless Headphones\", \"category\": \"Electronics\", \"price\": 199, \"quantity\": 3, \"details\": {\"brand\": \"Sony\", \"color\": \"Silver\"}}], \"order_status\": \"Pending\"}"
        ],
        [
         "{\"order_id\": 17, \"customer_id\": 5204, \"order_date\": \"2024-12-02\", \"transaction_timestamp\": \"2024-12-02 12:00:50\", \"total_amount\": 998, \"payment_method\": \"Bank Transfer\", \"items\": [{\"item_id\": 8, \"name\": \"Gaming Console\", \"category\": \"Electronics\", \"price\": 499, \"quantity\": 2, \"details\": {\"brand\": \"Dell\", \"color\": \"Black\"}}], \"order_status\": \"Pending\"}",
         "{\"order_id\": 17, \"customer_id\": 5204, \"order_date\": \"2024-12-02\", \"transaction_timestamp\": \"2024-12-02 12:00:50\", \"total_amount\": 998, \"payment_method\": \"Bank Transfer\", \"items\": [{\"item_id\": 8, \"name\": \"Gaming Console\", \"category\": \"Electronics\", \"price\": 499, \"quantity\": 2, \"details\": {\"brand\": \"Dell\", \"color\": \"Black\"}}], \"order_status\": \"Pending\"}"
        ],
        [
         "{\"order_id\": 24, \"customer_id\": 1211, \"order_date\": \"2024-12-21\", \"transaction_timestamp\": \"2024-12-21 03:24:26\", \"total_amount\": 1199, \"payment_method\": \"PayPal\", \"items\": [{\"item_id\": 9, \"name\": \"Smart TV\", \"category\": \"Electronics\", \"price\": 1199, \"quantity\": 1, \"details\": {\"brand\": \"GoPro\", \"color\": \"Gray\"}}], \"order_status\": \"Completed\"}",
         "{\"order_id\": 24, \"customer_id\": 1211, \"order_date\": \"2024-12-21\", \"transaction_timestamp\": \"2024-12-21 03:24:26\", \"total_amount\": 1199, \"payment_method\": \"PayPal\", \"items\": [{\"item_id\": 9, \"name\": \"Smart TV\", \"category\": \"Electronics\", \"price\": 1199, \"quantity\": 1, \"details\": {\"brand\": \"GoPro\", \"color\": \"Gray\"}}], \"order_status\": \"Completed\"}"
        ],
        [
         "{\"order_id\": 27, \"customer_id\": 2703, \"order_date\": \"2024-12-02\", \"transaction_timestamp\": \"2024-12-02 11:24:21\", \"total_amount\": 904, \"payment_method\": \"Credit Card\", \"items\": [{\"item_id\": 7, \"name\": \"External Hard Drive\", \"category\": \"Electronics\", \"price\": 129, \"quantity\": 2, \"details\": {\"brand\": \"Dell\", \"color\": \"White\"}}, {\"item_id\": 6, \"name\": \"Bluetooth Speaker\", \"category\": \"Electronics\", \"price\": 149, \"quantity\": 3, \"details\": {\"brand\": \"Canon\", \"color\": \"Black\"}}, {\"item_id\": 3, \"name\": \"Wireless Headphones\", \"category\": \"Electronics\", \"price\": 199, \"quantity\": 1, \"details\": {\"brand\": \"Microsoft\", \"color\": \"Silver\"}}], \"order_status\": \"Completed\"}",
         "{\"order_id\": 27, \"customer_id\": 2703, \"order_date\": \"2024-12-02\", \"transaction_timestamp\": \"2024-12-02 11:24:21\", \"total_amount\": 904, \"payment_method\": \"Credit Card\", \"items\": [{\"item_id\": 7, \"name\": \"External Hard Drive\", \"category\": \"Electronics\", \"price\": 129, \"quantity\": 2, \"details\": {\"brand\": \"Dell\", \"color\": \"White\"}}, {\"item_id\": 6, \"name\": \"Bluetooth Speaker\", \"category\": \"Electronics\", \"price\": 149, \"quantity\": 3, \"details\": {\"brand\": \"Canon\", \"color\": \"Black\"}}, {\"item_id\": 3, \"name\": \"Wireless Headphones\", \"category\": \"Electronics\", \"price\": 199, \"quantity\": 1, \"details\": {\"brand\": \"Microsoft\", \"color\": \"Silver\"}}], \"order_status\": \"Completed\"}"
        ],
        [
         "{\"order_id\": 28, \"customer_id\": 2703, \"order_date\": \"2024-12-26\", \"transaction_timestamp\": \"2024-12-26 03:17:50\", \"total_amount\": 129, \"payment_method\": \"Credit Card\", \"items\": [{\"item_id\": 7, \"name\": \"External Hard Drive\", \"category\": \"Electronics\", \"price\": 129, \"quantity\": 1, \"details\": {\"brand\": \"GoPro\", \"color\": \"Blue\"}}], \"order_status\": \"Cancelled\"}",
         "{\"order_id\": 28, \"customer_id\": 2703, \"order_date\": \"2024-12-26\", \"transaction_timestamp\": \"2024-12-26 03:17:50\", \"total_amount\": 129, \"payment_method\": \"Credit Card\", \"items\": [{\"item_id\": 7, \"name\": \"External Hard Drive\", \"category\": \"Electronics\", \"price\": 129, \"quantity\": 1, \"details\": {\"brand\": \"GoPro\", \"color\": \"Blue\"}}], \"order_status\": \"Cancelled\"}"
        ],
        [
         "{\"order_id\": 32, \"customer_id\": 4996, \"order_date\": \"2024-12-28\", \"transaction_timestamp\": \"2024-12-28 08:55:57\", \"total_amount\": 399, \"payment_method\": \"PayPal\", \"items\": [{\"item_id\": 5, \"name\": \"Tablet\", \"category\": \"Electronics\", \"price\": 399, \"quantity\": 1, \"details\": {\"brand\": \"Apple\", \"color\": \"Silver\"}}], \"order_status\": \"Pending\"}",
         "{\"order_id\": 32, \"customer_id\": 4996, \"order_date\": \"2024-12-28\", \"transaction_timestamp\": \"2024-12-28 08:55:57\", \"total_amount\": 399, \"payment_method\": \"PayPal\", \"items\": [{\"item_id\": 5, \"name\": \"Tablet\", \"category\": \"Electronics\", \"price\": 399, \"quantity\": 1, \"details\": {\"brand\": \"Apple\", \"color\": \"Silver\"}}], \"order_status\": \"Pending\"}"
        ],
        [
         "{\"order_id\": 37, \"customer_id\": 7829, \"order_date\": \"2024-12-22\", \"transaction_timestamp\": \"2024-12-22 10:11:49\", \"total_amount\": 258, \"payment_method\": \"Credit Card\", \"items\": [{\"item_id\": 7, \"name\": \"External Hard Drive\", \"category\": \"Electronics\", \"price\": 129, \"quantity\": 2, \"details\": {\"brand\": \"HP\", \"color\": \"Silver\"}}], \"order_status\": \"Shipped\"}",
         "{\"order_id\": 37, \"customer_id\": 7829, \"order_date\": \"2024-12-22\", \"transaction_timestamp\": \"2024-12-22 10:11:49\", \"total_amount\": 258, \"payment_method\": \"Credit Card\", \"items\": [{\"item_id\": 7, \"name\": \"External Hard Drive\", \"category\": \"Electronics\", \"price\": 129, \"quantity\": 2, \"details\": {\"brand\": \"HP\", \"color\": \"Silver\"}}], \"order_status\": \"Shipped\"}"
        ],
        [
         "{\"order_id\": 38, \"customer_id\": 7829, \"order_date\": \"2024-12-25\", \"transaction_timestamp\": \"2024-12-25 22:05:19\", \"total_amount\": 447, \"payment_method\": \"Credit Card\", \"items\": [{\"item_id\": 6, \"name\": \"Bluetooth Speaker\", \"category\": \"Electronics\", \"price\": 149, \"quantity\": 3, \"details\": {\"brand\": \"Apple\", \"color\": \"Gray\"}}], \"order_status\": \"Shipped\"}",
         "{\"order_id\": 38, \"customer_id\": 7829, \"order_date\": \"2024-12-25\", \"transaction_timestamp\": \"2024-12-25 22:05:19\", \"total_amount\": 447, \"payment_method\": \"Credit Card\", \"items\": [{\"item_id\": 6, \"name\": \"Bluetooth Speaker\", \"category\": \"Electronics\", \"price\": 149, \"quantity\": 3, \"details\": {\"brand\": \"Apple\", \"color\": \"Gray\"}}], \"order_status\": \"Shipped\"}"
        ],
        [
         "{\"order_id\": 44, \"customer_id\": 7295, \"order_date\": \"2024-12-20\", \"transaction_timestamp\": \"2024-12-20 08:05:43\", \"total_amount\": 129, \"payment_method\": \"Credit Card\", \"items\": [{\"item_id\": 7, \"name\": \"External Hard Drive\", \"category\": \"Electronics\", \"price\": 129, \"quantity\": 1, \"details\": {\"brand\": \"Bose\", \"color\": \"Blue\"}}], \"order_status\": \"Completed\"}",
         "{\"order_id\": 44, \"customer_id\": 7295, \"order_date\": \"2024-12-20\", \"transaction_timestamp\": \"2024-12-20 08:05:43\", \"total_amount\": 129, \"payment_method\": \"Credit Card\", \"items\": [{\"item_id\": 7, \"name\": \"External Hard Drive\", \"category\": \"Electronics\", \"price\": 129, \"quantity\": 1, \"details\": {\"brand\": \"Bose\", \"color\": \"Blue\"}}], \"order_status\": \"Completed\"}"
        ],
        [
         "{\"order_id\": 49, \"customer_id\": 7803, \"order_date\": \"2024-12-07\", \"transaction_timestamp\": \"2024-12-07 23:24:11\", \"total_amount\": 747, \"payment_method\": \"PayPal\", \"items\": [{\"item_id\": 4, \"name\": \"Smartwatch\", \"category\": \"Electronics\", \"price\": 299, \"quantity\": 1, \"details\": {\"brand\": \"HP\", \"color\": \"White\"}}, {\"item_id\": 4, \"name\": \"Smartwatch\", \"category\": \"Electronics\", \"price\": 299, \"quantity\": 1, \"details\": {\"brand\": \"Canon\", \"color\": \"Blue\"}}, {\"item_id\": 6, \"name\": \"Bluetooth Speaker\", \"category\": \"Electronics\", \"price\": 149, \"quantity\": 1, \"details\": {\"brand\": \"Samsung\", \"color\": \"White\"}}], \"order_status\": \"Cancelled\"}",
         "{\"order_id\": 49, \"customer_id\": 7803, \"order_date\": \"2024-12-07\", \"transaction_timestamp\": \"2024-12-07 23:24:11\", \"total_amount\": 747, \"payment_method\": \"PayPal\", \"items\": [{\"item_id\": 4, \"name\": \"Smartwatch\", \"category\": \"Electronics\", \"price\": 299, \"quantity\": 1, \"details\": {\"brand\": \"HP\", \"color\": \"White\"}}, {\"item_id\": 4, \"name\": \"Smartwatch\", \"category\": \"Electronics\", \"price\": 299, \"quantity\": 1, \"details\": {\"brand\": \"Canon\", \"color\": \"Blue\"}}, {\"item_id\": 6, \"name\": \"Bluetooth Speaker\", \"category\": \"Electronics\", \"price\": 149, \"quantity\": 1, \"details\": {\"brand\": \"Samsung\", \"color\": \"White\"}}], \"order_status\": \"Cancelled\"}"
        ],
        [
         "{\"order_id\": 54, \"customer_id\": 2054, \"order_date\": \"2024-12-20\", \"transaction_timestamp\": \"2024-12-20 12:04:27\", \"total_amount\": 398, \"payment_method\": \"Credit Card\", \"items\": [{\"item_id\": 3, \"name\": \"Wireless Headphones\", \"category\": \"Electronics\", \"price\": 199, \"quantity\": 2, \"details\": {\"brand\": \"Bose\", \"color\": \"Gray\"}}], \"order_status\": \"Pending\"}",
         "{\"order_id\": 54, \"customer_id\": 2054, \"order_date\": \"2024-12-20\", \"transaction_timestamp\": \"2024-12-20 12:04:27\", \"total_amount\": 398, \"payment_method\": \"Credit Card\", \"items\": [{\"item_id\": 3, \"name\": \"Wireless Headphones\", \"category\": \"Electronics\", \"price\": 199, \"quantity\": 2, \"details\": {\"brand\": \"Bose\", \"color\": \"Gray\"}}], \"order_status\": \"Pending\"}"
        ],
        [
         "{\"order_id\": 58, \"customer_id\": 8580, \"order_date\": \"2024-12-09\", \"transaction_timestamp\": \"2024-12-09 22:40:58\", \"total_amount\": 699, \"payment_method\": \"PayPal\", \"items\": [{\"item_id\": 1, \"name\": \"Smartphone\", \"category\": \"Electronics\", \"price\": 699, \"quantity\": 1, \"details\": {\"brand\": \"Microsoft\", \"color\": \"Gray\"}}], \"order_status\": \"Completed\"}",
         "{\"order_id\": 58, \"customer_id\": 8580, \"order_date\": \"2024-12-09\", \"transaction_timestamp\": \"2024-12-09 22:40:58\", \"total_amount\": 699, \"payment_method\": \"PayPal\", \"items\": [{\"item_id\": 1, \"name\": \"Smartphone\", \"category\": \"Electronics\", \"price\": 699, \"quantity\": 1, \"details\": {\"brand\": \"Microsoft\", \"color\": \"Gray\"}}], \"order_status\": \"Completed\"}"
        ],
        [
         "{\"order_id\": 60, \"customer_id\": 3409, \"order_date\": \"2024-12-13\", \"transaction_timestamp\": \"2024-12-13 13:10:12\", \"total_amount\": 199, \"payment_method\": \"Bank Transfer\", \"items\": [{\"item_id\": 3, \"name\": \"Wireless Headphones\", \"category\": \"Electronics\", \"price\": 199, \"quantity\": 1, \"details\": {\"brand\": \"Samsung\", \"color\": \"Blue\"}}], \"order_status\": \"Shipped\"}",
         "{\"order_id\": 60, \"customer_id\": 3409, \"order_date\": \"2024-12-13\", \"transaction_timestamp\": \"2024-12-13 13:10:12\", \"total_amount\": 199, \"payment_method\": \"Bank Transfer\", \"items\": [{\"item_id\": 3, \"name\": \"Wireless Headphones\", \"category\": \"Electronics\", \"price\": 199, \"quantity\": 1, \"details\": {\"brand\": \"Samsung\", \"color\": \"Blue\"}}], \"order_status\": \"Shipped\"}"
        ],
        [
         "{\"order_id\": 61, \"customer_id\": 7123, \"order_date\": \"2024-12-07\", \"transaction_timestamp\": \"2024-12-07 07:47:19\", \"total_amount\": 699, \"payment_method\": \"Bank Transfer\", \"items\": [{\"item_id\": 1, \"name\": \"Smartphone\", \"category\": \"Electronics\", \"price\": 699, \"quantity\": 1, \"details\": {\"brand\": \"Canon\", \"color\": \"Black\"}}], \"order_status\": \"Completed\"}",
         "{\"order_id\": 61, \"customer_id\": 7123, \"order_date\": \"2024-12-07\", \"transaction_timestamp\": \"2024-12-07 07:47:19\", \"total_amount\": 699, \"payment_method\": \"Bank Transfer\", \"items\": [{\"item_id\": 1, \"name\": \"Smartphone\", \"category\": \"Electronics\", \"price\": 699, \"quantity\": 1, \"details\": {\"brand\": \"Canon\", \"color\": \"Black\"}}], \"order_status\": \"Completed\"}"
        ],
        [
         "{\"order_id\": 65, \"customer_id\": 3084, \"order_date\": \"2024-12-09\", \"transaction_timestamp\": \"2024-12-09 13:04:13\", \"total_amount\": 399, \"payment_method\": \"Bank Transfer\", \"items\": [{\"item_id\": 5, \"name\": \"Tablet\", \"category\": \"Electronics\", \"price\": 399, \"quantity\": 1, \"details\": {\"brand\": \"Microsoft\", \"color\": \"Gray\"}}], \"order_status\": \"Cancelled\"}",
         "{\"order_id\": 65, \"customer_id\": 3084, \"order_date\": \"2024-12-09\", \"transaction_timestamp\": \"2024-12-09 13:04:13\", \"total_amount\": 399, \"payment_method\": \"Bank Transfer\", \"items\": [{\"item_id\": 5, \"name\": \"Tablet\", \"category\": \"Electronics\", \"price\": 399, \"quantity\": 1, \"details\": {\"brand\": \"Microsoft\", \"color\": \"Gray\"}}], \"order_status\": \"Cancelled\"}"
        ],
        [
         "{\"order_id\": 67, \"customer_id\": 3084, \"order_date\": \"2024-12-19\", \"transaction_timestamp\": \"2024-12-19 07:11:09\", \"total_amount\": 897, \"payment_method\": \"PayPal\", \"items\": [{\"item_id\": 4, \"name\": \"Smartwatch\", \"category\": \"Electronics\", \"price\": 299, \"quantity\": 3, \"details\": {\"brand\": \"LG\", \"color\": \"Blue\"}}], \"order_status\": \"Shipped\"}",
         "{\"order_id\": 67, \"customer_id\": 3084, \"order_date\": \"2024-12-19\", \"transaction_timestamp\": \"2024-12-19 07:11:09\", \"total_amount\": 897, \"payment_method\": \"PayPal\", \"items\": [{\"item_id\": 4, \"name\": \"Smartwatch\", \"category\": \"Electronics\", \"price\": 299, \"quantity\": 3, \"details\": {\"brand\": \"LG\", \"color\": \"Blue\"}}], \"order_status\": \"Shipped\"}"
        ],
        [
         "{\"order_id\": 69, \"customer_id\": 4973, \"order_date\": \"2024-12-30\", \"transaction_timestamp\": \"2024-12-30 02:42:01\", \"total_amount\": 699, \"payment_method\": \"Bank Transfer\", \"items\": [{\"item_id\": 1, \"name\": \"Smartphone\", \"category\": \"Electronics\", \"price\": 699, \"quantity\": 1, \"details\": {\"brand\": \"Dell\", \"color\": \"Gray\"}}], \"order_status\": \"Completed\"}",
         "{\"order_id\": 69, \"customer_id\": 4973, \"order_date\": \"2024-12-30\", \"transaction_timestamp\": \"2024-12-30 02:42:01\", \"total_amount\": 699, \"payment_method\": \"Bank Transfer\", \"items\": [{\"item_id\": 1, \"name\": \"Smartphone\", \"category\": \"Electronics\", \"price\": 699, \"quantity\": 1, \"details\": {\"brand\": \"Dell\", \"color\": \"Gray\"}}], \"order_status\": \"Completed\"}"
        ],
        [
         "{\"order_id\": 70, \"customer_id\": 7997, \"order_date\": \"2024-12-04\", \"transaction_timestamp\": \"2024-12-04 17:17:24\", \"total_amount\": 897, \"payment_method\": \"PayPal\", \"items\": [{\"item_id\": 4, \"name\": \"Smartwatch\", \"category\": \"Electronics\", \"price\": 299, \"quantity\": 3, \"details\": {\"brand\": \"Sony\", \"color\": \"Black\"}}], \"order_status\": \"Shipped\"}",
         "{\"order_id\": 70, \"customer_id\": 7997, \"order_date\": \"2024-12-04\", \"transaction_timestamp\": \"2024-12-04 17:17:24\", \"total_amount\": 897, \"payment_method\": \"PayPal\", \"items\": [{\"item_id\": 4, \"name\": \"Smartwatch\", \"category\": \"Electronics\", \"price\": 299, \"quantity\": 3, \"details\": {\"brand\": \"Sony\", \"color\": \"Black\"}}], \"order_status\": \"Shipped\"}"
        ],
        [
         "{\"order_id\": 71, \"customer_id\": 7997, \"order_date\": 2024-12-27, \"transaction_timestamp\": \"2024-12-27 11:16:39\", \"total_amount\": 199, \"payment_method\": \"Bank Transfer\", \"items\": [{\"item_id\": 3, \"name\": \"Wireless Headphones\", \"category\": \"Electronics\", \"price\": 199, \"quantity\": 1, \"details\": {\"brand\": \"Microsoft\", \"color\": \"Black\"}}], \"order_status\": \"Completed\"}",
         "{\"order_id\": 71, \"customer_id\": 7997, \"order_date\": \"2024-12-27\", \"transaction_timestamp\": \"2024-12-27 11:16:39\", \"total_amount\": 199, \"payment_method\": \"Bank Transfer\", \"items\": [{\"item_id\": 3, \"name\": \"Wireless Headphones\", \"category\": \"Electronics\", \"price\": 199, \"quantity\": 1, \"details\": {\"brand\": \"Microsoft\", \"color\": \"Black\"}}], \"order_status\": \"Completed\"}"
        ],
        [
         "{\"order_id\": 74, \"customer_id\": 6167, \"order_date\": \"2024-12-22\", \"transaction_timestamp\": \"2024-12-22 15:54:11\", \"total_amount\": 699, \"payment_method\": \"PayPal\", \"items\": [{\"item_id\": 1, \"name\": \"Smartphone\", \"category\": \"Electronics\", \"price\": 699, \"quantity\": 1, \"details\": {\"brand\": \"Samsung\", \"color\": \"Blue\"}}], \"order_status\": \"Pending\"}",
         "{\"order_id\": 74, \"customer_id\": 6167, \"order_date\": \"2024-12-22\", \"transaction_timestamp\": \"2024-12-22 15:54:11\", \"total_amount\": 699, \"payment_method\": \"PayPal\", \"items\": [{\"item_id\": 1, \"name\": \"Smartphone\", \"category\": \"Electronics\", \"price\": 699, \"quantity\": 1, \"details\": {\"brand\": \"Samsung\", \"color\": \"Blue\"}}], \"order_status\": \"Pending\"}"
        ],
        [
         "{\"order_id\": 80, \"customer_id\": 9687, \"order_date\": \"2024-12-11\", \"transaction_timestamp\": \"2024-12-11 07:43:54\", \"total_amount\": 998, \"payment_method\": \"Bank Transfer\", \"items\": [{\"item_id\": 8, \"name\": \"Gaming Console\", \"category\": \"Electronics\", \"price\": 499, \"quantity\": 2, \"details\": {\"brand\": \"Samsung\", \"color\": \"White\"}}], \"order_status\": \"Cancelled\"}",
         "{\"order_id\": 80, \"customer_id\": 9687, \"order_date\": \"2024-12-11\", \"transaction_timestamp\": \"2024-12-11 07:43:54\", \"total_amount\": 998, \"payment_method\": \"Bank Transfer\", \"items\": [{\"item_id\": 8, \"name\": \"Gaming Console\", \"category\": \"Electronics\", \"price\": 499, \"quantity\": 2, \"details\": {\"brand\": \"Samsung\", \"color\": \"White\"}}], \"order_status\": \"Cancelled\"}"
        ],
        [
         "{\"order_id\": 81, \"customer_id\": 9687, \"order_date\": \"2024-12-27\", \"transaction_timestamp\": \"2024-12-27 02:27:45\", \"total_amount\": 699, \"payment_method\": \"PayPal\", \"items\": [{\"item_id\": 1, \"name\": \"Smartphone\", \"category\": \"Electronics\", \"price\": 699, \"quantity\": 1, \"details\": {\"brand\": \"GoPro\", \"color\": \"Blue\"}}], \"order_status\": \"Completed\"}",
         "{\"order_id\": 81, \"customer_id\": 9687, \"order_date\": \"2024-12-27\", \"transaction_timestamp\": \"2024-12-27 02:27:45\", \"total_amount\": 699, \"payment_method\": \"PayPal\", \"items\": [{\"item_id\": 1, \"name\": \"Smartphone\", \"category\": \"Electronics\", \"price\": 699, \"quantity\": 1, \"details\": {\"brand\": \"GoPro\", \"color\": \"Blue\"}}], \"order_status\": \"Completed\"}"
        ],
        [
         "{\"order_id\": 82, \"customer_id\": 2344, \"order_date\": \"2024-12-28\", \"transaction_timestamp\": \"2024-12-28 00:54:08\", \"total_amount\": 387, \"payment_method\": \"PayPal\", \"items\": [{\"item_id\": 7, \"name\": \"External Hard Drive\", \"category\": \"Electronics\", \"price\": 129, \"quantity\": 3, \"details\": {\"brand\": \"Sony\", \"color\": \"Blue\"}}], \"order_status\": \"Completed\"}",
         "{\"order_id\": 82, \"customer_id\": 2344, \"order_date\": \"2024-12-28\", \"transaction_timestamp\": \"2024-12-28 00:54:08\", \"total_amount\": 387, \"payment_method\": \"PayPal\", \"items\": [{\"item_id\": 7, \"name\": \"External Hard Drive\", \"category\": \"Electronics\", \"price\": 129, \"quantity\": 3, \"details\": {\"brand\": \"Sony\", \"color\": \"Blue\"}}], \"order_status\": \"Completed\"}"
        ],
        [
         "{\"order_id\": 91, \"customer_id\": 5592, \"order_date\": \"2024-12-17\", \"transaction_timestamp\": \"2024-12-17 00:09:53\", \"total_amount\": 699, \"payment_method\": \"Bank Transfer\", \"items\": [{\"item_id\": 1, \"name\": \"Smartphone\", \"category\": \"Electronics\", \"price\": 699, \"quantity\": 1, \"details\": {\"brand\": \"Canon\", \"color\": \"Silver\"}}], \"order_status\": \"Cancelled\"}",
         "{\"order_id\": 91, \"customer_id\": 5592, \"order_date\": \"2024-12-17\", \"transaction_timestamp\": \"2024-12-17 00:09:53\", \"total_amount\": 699, \"payment_method\": \"Bank Transfer\", \"items\": [{\"item_id\": 1, \"name\": \"Smartphone\", \"category\": \"Electronics\", \"price\": 699, \"quantity\": 1, \"details\": {\"brand\": \"Canon\", \"color\": \"Silver\"}}], \"order_status\": \"Cancelled\"}"
        ],
        [
         "{\"order_id\": 93, \"customer_id\": 6627, \"order_date\": \"2024-12-22\", \"transaction_timestamp\": \"2024-12-22 05:07:46\", \"total_amount\": 598, \"payment_method\": \"PayPal\", \"items\": [{\"item_id\": 4, \"name\": \"Smartwatch\", \"category\": \"Electronics\", \"price\": 299, \"quantity\": 2, \"details\": {\"brand\": \"LG\", \"color\": \"Silver\"}}], \"order_status\": \"Pending\"}",
         "{\"order_id\": 93, \"customer_id\": 6627, \"order_date\": \"2024-12-22\", \"transaction_timestamp\": \"2024-12-22 05:07:46\", \"total_amount\": 598, \"payment_method\": \"PayPal\", \"items\": [{\"item_id\": 4, \"name\": \"Smartwatch\", \"category\": \"Electronics\", \"price\": 299, \"quantity\": 2, \"details\": {\"brand\": \"LG\", \"color\": \"Silver\"}}], \"order_status\": \"Pending\"}"
        ],
        [
         "{\"order_id\": 95, \"customer_id\": 6627, \"order_date\": \"2024-12-28\", \"transaction_timestamp\": \"2024-12-28 04:28:30\", \"total_amount\": 946, \"payment_method\": \"Bank Transfer\", \"items\": [{\"item_id\": 4, \"name\": \"Smartwatch\", \"category\": \"Electronics\", \"price\": 299, \"quantity\": 2, \"details\": {\"brand\": \"GoPro\", \"color\": \"White\"}}, {\"item_id\": 3, \"name\": \"Wireless Headphones\", \"category\": \"Electronics\", \"price\": 199, \"quantity\": 1, \"details\": {\"brand\": \"Bose\", \"color\": \"Gray\"}}, {\"item_id\": 6, \"name\": \"Bluetooth Speaker\", \"category\": \"Electronics\", \"price\": 149, \"quantity\": 1, \"details\": {\"brand\": \"Dell\", \"color\": \"Silver\"}}], \"order_status\": \"Completed\"}",
         "{\"order_id\": 95, \"customer_id\": 6627, \"order_date\": \"2024-12-28\", \"transaction_timestamp\": \"2024-12-28 04:28:30\", \"total_amount\": 946, \"payment_method\": \"Bank Transfer\", \"items\": [{\"item_id\": 4, \"name\": \"Smartwatch\", \"category\": \"Electronics\", \"price\": 299, \"quantity\": 2, \"details\": {\"brand\": \"GoPro\", \"color\": \"White\"}}, {\"item_id\": 3, \"name\": \"Wireless Headphones\", \"category\": \"Electronics\", \"price\": 199, \"quantity\": 1, \"details\": {\"brand\": \"Bose\", \"color\": \"Gray\"}}, {\"item_id\": 6, \"name\": \"Bluetooth Speaker\", \"category\": \"Electronics\", \"price\": 149, \"quantity\": 1, \"details\": {\"brand\": \"Dell\", \"color\": \"Silver\"}}], \"order_status\": \"Completed\"}"
        ],
        [
         "{\"order_id\": 96, \"customer_id\": 6406, \"order_date\": \"2024-12-02\", \"transaction_timestamp\": \"2024-12-02 12:27:45\", \"total_amount\": 149, \"payment_method\": \"PayPal\", \"items\": [{\"item_id\": 6, \"name\": \"Bluetooth Speaker\", \"category\": \"Electronics\", \"price\": 149, \"quantity\": 1, \"details\": {\"brand\": \"Microsoft\", \"color\": \"Black\"}}], \"order_status\": \"Shipped\"}",
         "{\"order_id\": 96, \"customer_id\": 6406, \"order_date\": \"2024-12-02\", \"transaction_timestamp\": \"2024-12-02 12:27:45\", \"total_amount\": 149, \"payment_method\": \"PayPal\", \"items\": [{\"item_id\": 6, \"name\": \"Bluetooth Speaker\", \"category\": \"Electronics\", \"price\": 149, \"quantity\": 1, \"details\": {\"brand\": \"Microsoft\", \"color\": \"Black\"}}], \"order_status\": \"Shipped\"}"
        ],
        [
         "{\"order_id\": 97, \"customer_id\": 6406, \"order_date\": \"2024-12-07\", \"transaction_timestamp\": \"2024-12-07 16:14:34\", \"total_amount\": 499, \"payment_method\": \"Bank Transfer\", \"items\": [{\"item_id\": 8, \"name\": \"Gaming Console\", \"category\": \"Electronics\", \"price\": 499, \"quantity\": 1, \"details\": {\"brand\": \"Sony\", \"color\": \"Silver\"}}], \"order_status\": \"Completed\"}",
         "{\"order_id\": 97, \"customer_id\": 6406, \"order_date\": \"2024-12-07\", \"transaction_timestamp\": \"2024-12-07 16:14:34\", \"total_amount\": 499, \"payment_method\": \"Bank Transfer\", \"items\": [{\"item_id\": 8, \"name\": \"Gaming Console\", \"category\": \"Electronics\", \"price\": 499, \"quantity\": 1, \"details\": {\"brand\": \"Sony\", \"color\": \"Silver\"}}], \"order_status\": \"Completed\"}"
        ],
        [
         "{\"order_id\": 5, \"customer_id\": 3892, \"order_date\": \"2024-11-16\", \"transaction_timestamp\": \"2024-11-16 23:07:31\", \"total_amount\": 998, \"payment_method\": \"Bank Transfer\", \"items\": [{\"item_id\": 8, \"name\": \"Gaming Console\", \"category\": \"Electronics\", \"price\": 499, \"quantity\": 2, \"details\": {\"brand\": \"Dell\", \"color\": \"Blue\"}}], \"order_status\": \"Cancelled\"}",
         "{\"order_id\": 5, \"customer_id\": 3892, \"order_date\": \"2024-11-16\", \"transaction_timestamp\": \"2024-11-16 23:07:31\", \"total_amount\": 998, \"payment_method\": \"Bank Transfer\", \"items\": [{\"item_id\": 8, \"name\": \"Gaming Console\", \"category\": \"Electronics\", \"price\": 499, \"quantity\": 2, \"details\": {\"brand\": \"Dell\", \"color\": \"Blue\"}}], \"order_status\": \"Cancelled\"}"
        ],
        [
         "{\"order_id\": 7, \"customer_id\": 1987, \"order_date\": \"2024-11-19\", \"transaction_timestamp\": \"2024-11-19 19:18:48\", \"total_amount\": 645, \"payment_method\": \"Credit Card\", \"items\": [{\"item_id\": 7, \"name\": \"External Hard Drive\", \"category\": \"Electronics\", \"price\": 129, \"quantity\": 2, \"details\": {\"brand\": \"LG\", \"color\": \"Blue\"}}, {\"item_id\": 7, \"name\": \"External Hard Drive\", \"category\": \"Electronics\", \"price\": 129, \"quantity\": 3, \"details\": {\"brand\": \"HP\", \"color\": \"Gray\"}}], \"order_status\": \"Pending\"}",
         "{\"order_id\": 7, \"customer_id\": 1987, \"order_date\": \"2024-11-19\", \"transaction_timestamp\": \"2024-11-19 19:18:48\", \"total_amount\": 645, \"payment_method\": \"Credit Card\", \"items\": [{\"item_id\": 7, \"name\": \"External Hard Drive\", \"category\": \"Electronics\", \"price\": 129, \"quantity\": 2, \"details\": {\"brand\": \"LG\", \"color\": \"Blue\"}}, {\"item_id\": 7, \"name\": \"External Hard Drive\", \"category\": \"Electronics\", \"price\": 129, \"quantity\": 3, \"details\": {\"brand\": \"HP\", \"color\": \"Gray\"}}], \"order_status\": \"Pending\"}"
        ],
        [
         "{\"order_id\": 9, \"customer_id\": 9179, \"order_date\": \"2024-11-27\", \"transaction_timestamp\": \"2024-11-27 13:15:29\", \"total_amount\": 999, \"payment_method\": \"Bank Transfer\", \"items\": [{\"item_id\": 2, \"name\": \"Laptop\", \"category\": \"Electronics\", \"price\": 999, \"quantity\": 1, \"details\": {\"brand\": \"Apple\", \"color\": \"Black\"}}], \"order_status\": \"Shipped\"}",
         "{\"order_id\": 9, \"customer_id\": 9179, \"order_date\": \"2024-11-27\", \"transaction_timestamp\": \"2024-11-27 13:15:29\", \"total_amount\": 999, \"payment_method\": \"Bank Transfer\", \"items\": [{\"item_id\": 2, \"name\": \"Laptop\", \"category\": \"Electronics\", \"price\": 999, \"quantity\": 1, \"details\": {\"brand\": \"Apple\", \"color\": \"Black\"}}], \"order_status\": \"Shipped\"}"
        ],
        [
         "{\"order_id\": 20, \"customer_id\": 8539, \"order_date\": \"2024-11-18\", \"transaction_timestamp\": \"2024-11-18 02:38:21\", \"total_amount\": 798, \"payment_method\": \"PayPal\", \"items\": [{\"item_id\": 5, \"name\": \"Tablet\", \"category\": \"Electronics\", \"price\": 399, \"quantity\": 2, \"details\": {\"brand\": \"Sony\", \"color\": \"Silver\"}}], \"order_status\": \"Pending\"}",
         "{\"order_id\": 20, \"customer_id\": 8539, \"order_date\": \"2024-11-18\", \"transaction_timestamp\": \"2024-11-18 02:38:21\", \"total_amount\": 798, \"payment_method\": \"PayPal\", \"items\": [{\"item_id\": 5, \"name\": \"Tablet\", \"category\": \"Electronics\", \"price\": 399, \"quantity\": 2, \"details\": {\"brand\": \"Sony\", \"color\": \"Silver\"}}], \"order_status\": \"Pending\"}"
        ],
        [
         "{\"order_id\": 21, \"customer_id\": 8539, \"order_date\": \"2024-11-21\", \"transaction_timestamp\": \"2024-11-21 11:25:35\", \"total_amount\": 298, \"payment_method\": \"Bank Transfer\", \"items\": [{\"item_id\": 6, \"name\": \"Bluetooth Speaker\", \"category\": \"Electronics\", \"price\": 149, \"quantity\": 2, \"details\": {\"brand\": \"GoPro\", \"color\": \"Blue\"}}], \"order_status\": \"Cancelled\"}",
         "{\"order_id\": 21, \"customer_id\": 8539, \"order_date\": \"2024-11-21\", \"transaction_timestamp\": \"2024-11-21 11:25:35\", \"total_amount\": 298, \"payment_method\": \"Bank Transfer\", \"items\": [{\"item_id\": 6, \"name\": \"Bluetooth Speaker\", \"category\": \"Electronics\", \"price\": 149, \"quantity\": 2, \"details\": {\"brand\": \"GoPro\", \"color\": \"Blue\"}}], \"order_status\": \"Cancelled\"}"
        ],
        [
         "{\"order_id\": 23, \"customer_id\": 4761, \"order_date\": \"2024-11-22\", \"transaction_timestamp\": \"2024-11-22 16:04:05\", \"total_amount\": 997, \"payment_method\": \"PayPal\", \"items\": [{\"item_id\": 5, \"name\": \"Tablet\", \"category\": \"Electronics\", \"price\": 399, \"quantity\": 1, \"details\": {\"brand\": \"Apple\", \"color\": \"Gray\"}}, {\"item_id\": 4, \"name\": \"Smartwatch\", \"category\": \"Electronics\", \"price\": 299, \"quantity\": 2, \"details\": {\"brand\": \"Dell\", \"color\": \"Gray\"}}], \"order_status\": \"Shipped\"}",
         "{\"order_id\": 23, \"customer_id\": 4761, \"order_date\": \"2024-11-22\", \"transaction_timestamp\": \"2024-11-22 16:04:05\", \"total_amount\": 997, \"payment_method\": \"PayPal\", \"items\": [{\"item_id\": 5, \"name\": \"Tablet\", \"category\": \"Electronics\", \"price\": 399, \"quantity\": 1, \"details\": {\"brand\": \"Apple\", \"color\": \"Gray\"}}, {\"item_id\": 4, \"name\": \"Smartwatch\", \"category\": \"Electronics\", \"price\": 299, \"quantity\": 2, \"details\": {\"brand\": \"Dell\", \"color\": \"Gray\"}}], \"order_status\": \"Shipped\"}"
        ],
        [
         "{\"order_id\": 25, \"customer_id\": 9706, \"order_date\": \"2024-11-05\", \"transaction_timestamp\": \"2024-11-05 11:45:31\", \"total_amount\": 999, \"payment_method\": \"PayPal\", \"items\": [{\"item_id\": 2, \"name\": \"Laptop\", \"category\": \"Electronics\", \"price\": 999, \"quantity\": 1, \"details\": {\"brand\": \"LG\", \"color\": \"Gray\"}}], \"order_status\": \"Completed\"}",
         "{\"order_id\": 25, \"customer_id\": 9706, \"order_date\": \"2024-11-05\", \"transaction_timestamp\": \"2024-11-05 11:45:31\", \"total_amount\": 999, \"payment_method\": \"PayPal\", \"items\": [{\"item_id\": 2, \"name\": \"Laptop\", \"category\": \"Electronics\", \"price\": 999, \"quantity\": 1, \"details\": {\"brand\": \"LG\", \"color\": \"Gray\"}}], \"order_status\": \"Completed\"}"
        ],
        [
         "{\"order_id\": 30, \"customer_id\": 4996, \"order_date\": \"2024-11-12\", \"transaction_timestamp\": \"2024-11-12 03:20:29\", \"total_amount\": 199, \"payment_method\": \"Bank Transfer\", \"items\": [{\"item_id\": 3, \"name\": \"Wireless Headphones\", \"category\": \"Electronics\", \"price\": 199, \"quantity\": 1, \"details\": {\"brand\": \"GoPro\", \"color\": \"White\"}}], \"order_status\": \"Shipped\"}",
         "{\"order_id\": 30, \"customer_id\": 4996, \"order_date\": \"2024-11-12\", \"transaction_timestamp\": \"2024-11-12 03:20:29\", \"total_amount\": 199, \"payment_method\": \"Bank Transfer\", \"items\": [{\"item_id\": 3, \"name\": \"Wireless Headphones\", \"category\": \"Electronics\", \"price\": 199, \"quantity\": 1, \"details\": {\"brand\": \"GoPro\", \"color\": \"White\"}}], \"order_status\": \"Shipped\"}"
        ],
        [
         "{\"order_id\": 35, \"customer_id\": 4914, \"order_date\": \"2024-11-20\", \"transaction_timestamp\": \"2024-11-20 19:09:04\", \"total_amount\": 199, \"payment_method\": \"Bank Transfer\", \"items\": [{\"item_id\": 3, \"name\": \"Wireless Headphones\", \"category\": \"Electronics\", \"price\": 199, \"quantity\": 1, \"details\": {\"brand\": \"Dell\", \"color\": \"Gray\"}}], \"order_status\": \"Shipped\"}",
         "{\"order_id\": 35, \"customer_id\": 4914, \"order_date\": \"2024-11-20\", \"transaction_timestamp\": \"2024-11-20 19:09:04\", \"total_amount\": 199, \"payment_method\": \"Bank Transfer\", \"items\": [{\"item_id\": 3, \"name\": \"Wireless Headphones\", \"category\": \"Electronics\", \"price\": 199, \"quantity\": 1, \"details\": {\"brand\": \"Dell\", \"color\": \"Gray\"}}], \"order_status\": \"Shipped\"}"
        ],
        [
         "{\"order_id\": 36, \"customer_id\": 4914, \"order_date\": \"2024-11-02\", \"transaction_timestamp\": \"2024-11-02 10:39:46\", \"total_amount\": 199, \"payment_method\": \"PayPal\", \"items\": [{\"item_id\": 3, \"name\": \"Wireless Headphones\", \"category\": \"Electronics\", \"price\": 199, \"quantity\": 1, \"details\": {\"brand\": \"Canon\", \"color\": \"Silver\"}}], \"order_status\": \"Completed\"}",
         "{\"order_id\": 36, \"customer_id\": 4914, \"order_date\": \"2024-11-02\", \"transaction_timestamp\": \"2024-11-02 10:39:46\", \"total_amount\": 199, \"payment_method\": \"PayPal\", \"items\": [{\"item_id\": 3, \"name\": \"Wireless Headphones\", \"category\": \"Electronics\", \"price\": 199, \"quantity\": 1, \"details\": {\"brand\": \"Canon\", \"color\": \"Silver\"}}], \"order_status\": \"Completed\"}"
        ],
        [
         "{\"order_id\": 42, \"customer_id\": 5028, \"order_date\": 2024-11-08, \"transaction_timestamp\": \"2024-11-08 18:32:25\", \"total_amount\": 149, \"payment_method\": \"Credit Card\", \"items\": [{\"item_id\": 6, \"name\": \"Bluetooth Speaker\", \"category\": \"Electronics\", \"price\": 149, \"quantity\": 1, \"details\": {\"brand\": \"Bose\", \"color\": \"Gray\"}}], \"order_status\": \"Completed\"}",
         "{\"order_id\": 42, \"customer_id\": 5028, \"order_date\": \"2024-11-08\", \"transaction_timestamp\": \"2024-11-08 18:32:25\", \"total_amount\": 149, \"payment_method\": \"Credit Card\", \"items\": [{\"item_id\": 6, \"name\": \"Bluetooth Speaker\", \"category\": \"Electronics\", \"price\": 149, \"quantity\": 1, \"details\": {\"brand\": \"Bose\", \"color\": \"Gray\"}}], \"order_status\": \"Completed\"}"
        ],
        [
         "{\"order_id\": 45, \"customer_id\": 7295, \"order_date\": \"2024-11-07\", \"transaction_timestamp\": \"2024-11-07 15:41:43\", \"total_amount\": 799, \"payment_method\": \"Credit Card\", \"items\": [{\"item_id\": 10, \"name\": \"Drone\", \"category\": \"Electronics\", \"price\": 799, \"quantity\": 1, \"details\": {\"brand\": \"Dell\", \"color\": \"White\"}}], \"order_status\": \"Shipped\"}",
         "{\"order_id\": 45, \"customer_id\": 7295, \"order_date\": \"2024-11-07\", \"transaction_timestamp\": \"2024-11-07 15:41:43\", \"total_amount\": 799, \"payment_method\": \"Credit Card\", \"items\": [{\"item_id\": 10, \"name\": \"Drone\", \"category\": \"Electronics\", \"price\": 799, \"quantity\": 1, \"details\": {\"brand\": \"Dell\", \"color\": \"White\"}}], \"order_status\": \"Shipped\"}"
        ],
        [
         "{\"order_id\": 46, \"customer_id\": 7295, \"order_date\": \"2024-11-26\", \"transaction_timestamp\": \"2024-11-26 17:16:53\", \"total_amount\": 199, \"payment_method\": \"PayPal\", \"items\": [{\"item_id\": 3, \"name\": \"Wireless Headphones\", \"category\": \"Electronics\", \"price\": 199, \"quantity\": 1, \"details\": {\"brand\": \"Samsung\", \"color\": \"Black\"}}], \"order_status\": \"Pending\"}",
         "{\"order_id\": 46, \"customer_id\": 7295, \"order_date\": \"2024-11-26\", \"transaction_timestamp\": \"2024-11-26 17:16:53\", \"total_amount\": 199, \"payment_method\": \"PayPal\", \"items\": [{\"item_id\": 3, \"name\": \"Wireless Headphones\", \"category\": \"Electronics\", \"price\": 199, \"quantity\": 1, \"details\": {\"brand\": \"Samsung\", \"color\": \"Black\"}}], \"order_status\": \"Pending\"}"
        ],
        [
         "{\"order_id\": 47, \"customer_id\": 7803, \"order_date\": \"2024-11-22\", \"transaction_timestamp\": \"2024-11-22 02:01:19\", \"total_amount\": 298, \"payment_method\": \"Credit Card\", \"items\": [{\"item_id\": 6, \"name\": \"Bluetooth Speaker\", \"category\": \"Electronics\", \"price\": 149, \"quantity\": 2, \"details\": {\"brand\": \"LG\", \"color\": \"Blue\"}}], \"order_status\": \"Shipped\"}",
         "{\"order_id\": 47, \"customer_id\": 7803, \"order_date\": \"2024-11-22\", \"transaction_timestamp\": \"2024-11-22 02:01:19\", \"total_amount\": 298, \"payment_method\": \"Credit Card\", \"items\": [{\"item_id\": 6, \"name\": \"Bluetooth Speaker\", \"category\": \"Electronics\", \"price\": 149, \"quantity\": 2, \"details\": {\"brand\": \"LG\", \"color\": \"Blue\"}}], \"order_status\": \"Shipped\"}"
        ],
        [
         "{\"order_id\": 48, \"customer_id\": 7803, \"order_date\": \"2024-11-13\", \"transaction_timestamp\": \"2024-11-13 06:35:56\", \"total_amount\": 387, \"payment_method\": \"PayPal\", \"items\": [{\"item_id\": 7, \"name\": \"External Hard Drive\", \"category\": \"Electronics\", \"price\": 129, \"quantity\": 3, \"details\": {\"brand\": \"Apple\", \"color\": \"Black\"}}], \"order_status\": \"Completed\"}",
         "{\"order_id\": 48, \"customer_id\": 7803, \"order_date\": \"2024-11-13\", \"transaction_timestamp\": \"2024-11-13 06:35:56\", \"total_amount\": 387, \"payment_method\": \"PayPal\", \"items\": [{\"item_id\": 7, \"name\": \"External Hard Drive\", \"category\": \"Electronics\", \"price\": 129, \"quantity\": 3, \"details\": {\"brand\": \"Apple\", \"color\": \"Black\"}}], \"order_status\": \"Completed\"}"
        ],
        [
         "{\"order_id\": 52, \"customer_id\": 8845, \"order_date\": \"2024-11-19\", \"transaction_timestamp\": \"2024-11-19 21:23:45\", \"total_amount\": 998, \"payment_method\": \"PayPal\", \"items\": [{\"item_id\": 8, \"name\": \"Gaming Console\", \"category\": \"Electronics\", \"price\": 499, \"quantity\": 2, \"details\": {\"brand\": \"GoPro\", \"color\": \"White\"}}], \"order_status\": \"Completed\"}",
         "{\"order_id\": 52, \"customer_id\": 8845, \"order_date\": \"2024-11-19\", \"transaction_timestamp\": \"2024-11-19 21:23:45\", \"total_amount\": 998, \"payment_method\": \"PayPal\", \"items\": [{\"item_id\": 8, \"name\": \"Gaming Console\", \"category\": \"Electronics\", \"price\": 499, \"quantity\": 2, \"details\": {\"brand\": \"GoPro\", \"color\": \"White\"}}], \"order_status\": \"Completed\"}"
        ],
        [
         "{\"order_id\": 57, \"customer_id\": 8580, \"order_date\": \"2024-11-19\", \"transaction_timestamp\": \"2024-11-19 11:32:44\", \"total_amount\": 586, \"payment_method\": \"Bank Transfer\", \"items\": [{\"item_id\": 3, \"name\": \"Wireless Headphones\", \"category\": \"Electronics\", \"price\": 199, \"quantity\": 1, \"details\": {\"brand\": \"HP\", \"color\": \"Silver\"}}, {\"item_id\": 7, \"name\": \"External Hard Drive\", \"category\": \"Electronics\", \"price\": 129, \"quantity\": 3, \"details\": {\"brand\": \"Sony\", \"color\": \"Silver\"}}], \"order_status\": \"Cancelled\"}",
         "{\"order_id\": 57, \"customer_id\": 8580, \"order_date\": \"2024-11-19\", \"transaction_timestamp\": \"2024-11-19 11:32:44\", \"total_amount\": 586, \"payment_method\": \"Bank Transfer\", \"items\": [{\"item_id\": 3, \"name\": \"Wireless Headphones\", \"category\": \"Electronics\", \"price\": 199, \"quantity\": 1, \"details\": {\"brand\": \"HP\", \"color\": \"Silver\"}}, {\"item_id\": 7, \"name\": \"External Hard Drive\", \"category\": \"Electronics\", \"price\": 129, \"quantity\": 3, \"details\": {\"brand\": \"Sony\", \"color\": \"Silver\"}}], \"order_status\": \"Cancelled\"}"
        ],
        [
         "{\"order_id\": 63, \"customer_id\": 7123, \"order_date\": \"2024-11-24\", \"transaction_timestamp\": \"2024-11-24 08:41:28\", \"total_amount\": 646, \"payment_method\": \"Bank Transfer\", \"items\": [{\"item_id\": 3, \"name\": \"Wireless Headphones\", \"category\": \"Electronics\", \"price\": 199, \"quantity\": 1, \"details\": {\"brand\": \"GoPro\", \"color\": \"Blue\"}}, {\"item_id\": 6, \"name\": \"Bluetooth Speaker\", \"category\": \"Electronics\", \"price\": 149, \"quantity\": 3, \"details\": {\"brand\": \"Bose\", \"color\": \"Silver\"}}], \"order_status\": \"Cancelled\"}",
         "{\"order_id\": 63, \"customer_id\": 7123, \"order_date\": \"2024-11-24\", \"transaction_timestamp\": \"2024-11-24 08:41:28\", \"total_amount\": 646, \"payment_method\": \"Bank Transfer\", \"items\": [{\"item_id\": 3, \"name\": \"Wireless Headphones\", \"category\": \"Electronics\", \"price\": 199, \"quantity\": 1, \"details\": {\"brand\": \"GoPro\", \"color\": \"Blue\"}}, {\"item_id\": 6, \"name\": \"Bluetooth Speaker\", \"category\": \"Electronics\", \"price\": 149, \"quantity\": 3, \"details\": {\"brand\": \"Bose\", \"color\": \"Silver\"}}], \"order_status\": \"Cancelled\"}"
        ],
        [
         "{\"order_id\": 64, \"customer_id\": 2639, \"order_date\": \"2024-11-28\", \"transaction_timestamp\": \"2024-11-28 12:23:21\", \"total_amount\": 984, \"payment_method\": \"Bank Transfer\", \"items\": [{\"item_id\": 7, \"name\": \"External Hard Drive\", \"category\": \"Electronics\", \"price\": 129, \"quantity\": 3, \"details\": {\"brand\": \"Microsoft\", \"color\": \"White\"}}, {\"item_id\": 3, \"name\": \"Wireless Headphones\", \"category\": \"Electronics\", \"price\": 199, \"quantity\": 3, \"details\": {\"brand\": \"Canon\", \"color\": \"Blue\"}}], \"order_status\": \"Completed\"}",
         "{\"order_id\": 64, \"customer_id\": 2639, \"order_date\": \"2024-11-28\", \"transaction_timestamp\": \"2024-11-28 12:23:21\", \"total_amount\": 984, \"payment_method\": \"Bank Transfer\", \"items\": [{\"item_id\": 7, \"name\": \"External Hard Drive\", \"category\": \"Electronics\", \"price\": 129, \"quantity\": 3, \"details\": {\"brand\": \"Microsoft\", \"color\": \"White\"}}, {\"item_id\": 3, \"name\": \"Wireless Headphones\", \"category\": \"Electronics\", \"price\": 199, \"quantity\": 3, \"details\": {\"brand\": \"Canon\", \"color\": \"Blue\"}}], \"order_status\": \"Completed\"}"
        ],
        [
         "{\"order_id\": 88, \"customer_id\": 9247, \"order_date\": \"2024-11-15\", \"transaction_timestamp\": \"2024-11-15 11:39:44\", \"total_amount\": 387, \"payment_method\": \"Bank Transfer\", \"items\": [{\"item_id\": 7, \"name\": \"External Hard Drive\", \"category\": \"Electronics\", \"price\": 129, \"quantity\": 3, \"details\": {\"brand\": \"Bose\", \"color\": \"White\"}}], \"order_status\": \"Cancelled\"}",
         "{\"order_id\": 88, \"customer_id\": 9247, \"order_date\": \"2024-11-15\", \"transaction_timestamp\": \"2024-11-15 11:39:44\", \"total_amount\": 387, \"payment_method\": \"Bank Transfer\", \"items\": [{\"item_id\": 7, \"name\": \"External Hard Drive\", \"category\": \"Electronics\", \"price\": 129, \"quantity\": 3, \"details\": {\"brand\": \"Bose\", \"color\": \"White\"}}], \"order_status\": \"Cancelled\"}"
        ],
        [
         "{\"order_id\": 89, \"customer_id\": 9247, \"order_date\": \"2024-11-22\", \"transaction_timestamp\": \"2024-11-22 12:09:15\", \"total_amount\": 149, \"payment_method\": \"Bank Transfer\", \"items\": [{\"item_id\": 6, \"name\": \"Bluetooth Speaker\", \"category\": \"Electronics\", \"price\": 149, \"quantity\": 1, \"details\": {\"brand\": \"GoPro\", \"color\": \"Silver\"}}], \"order_status\": \"Cancelled\"}",
         "{\"order_id\": 89, \"customer_id\": 9247, \"order_date\": \"2024-11-22\", \"transaction_timestamp\": \"2024-11-22 12:09:15\", \"total_amount\": 149, \"payment_method\": \"Bank Transfer\", \"items\": [{\"item_id\": 6, \"name\": \"Bluetooth Speaker\", \"category\": \"Electronics\", \"price\": 149, \"quantity\": 1, \"details\": {\"brand\": \"GoPro\", \"color\": \"Silver\"}}], \"order_status\": \"Cancelled\"}"
        ],
        [
         "{\"order_id\": 92, \"customer_id\": 5592, \"order_date\": \"2024-11-24\", \"transaction_timestamp\": \"2024-11-24 23:33:21\", \"total_amount\": 258, \"payment_method\": \"PayPal\", \"items\": [{\"item_id\": 7, \"name\": \"External Hard Drive\", \"category\": \"Electronics\", \"price\": 129, \"quantity\": 2, \"details\": {\"brand\": \"Sony\", \"color\": \"Black\"}}], \"order_status\": \"Shipped\"}",
         "{\"order_id\": 92, \"customer_id\": 5592, \"order_date\": \"2024-11-24\", \"transaction_timestamp\": \"2024-11-24 23:33:21\", \"total_amount\": 258, \"payment_method\": \"PayPal\", \"items\": [{\"item_id\": 7, \"name\": \"External Hard Drive\", \"category\": \"Electronics\", \"price\": 129, \"quantity\": 2, \"details\": {\"brand\": \"Sony\", \"color\": \"Black\"}}], \"order_status\": \"Shipped\"}"
        ],
        [
         "{\"order_id\": 6, \"customer_id\": 1987, \"order_date\": \"2024-10-28\", \"transaction_timestamp\": \"2024-10-28 04:47:27\", \"total_amount\": 799, \"payment_method\": \"Credit Card\", \"items\": [{\"item_id\": 10, \"name\": \"Drone\", \"category\": \"Electronics\", \"price\": 799, \"quantity\": 1, \"details\": {\"brand\": \"GoPro\", \"color\": \"Black\"}}], \"order_status\": \"Pending\"}",
         "{\"order_id\": 6, \"customer_id\": 1987, \"order_date\": \"2024-10-28\", \"transaction_timestamp\": \"2024-10-28 04:47:27\", \"total_amount\": 799, \"payment_method\": \"Credit Card\", \"items\": [{\"item_id\": 10, \"name\": \"Drone\", \"category\": \"Electronics\", \"price\": 799, \"quantity\": 1, \"details\": {\"brand\": \"GoPro\", \"color\": \"Black\"}}], \"order_status\": \"Pending\"}"
        ],
        [
         "{\"order_id\": 10, \"customer_id\": 5816, \"order_date\": \"2024-10-07\", \"transaction_timestamp\": \"2024-10-07 22:09:27\", \"total_amount\": 399, \"payment_method\": \"Credit Card\", \"items\": [{\"item_id\": 5, \"name\": \"Tablet\", \"category\": \"Electronics\", \"price\": 399, \"quantity\": 1, \"details\": {\"brand\": \"GoPro\", \"color\": \"White\"}}], \"order_status\": \"Pending\"}",
         "{\"order_id\": 10, \"customer_id\": 5816, \"order_date\": \"2024-10-07\", \"transaction_timestamp\": \"2024-10-07 22:09:27\", \"total_amount\": 399, \"payment_method\": \"Credit Card\", \"items\": [{\"item_id\": 5, \"name\": \"Tablet\", \"category\": \"Electronics\", \"price\": 399, \"quantity\": 1, \"details\": {\"brand\": \"GoPro\", \"color\": \"White\"}}], \"order_status\": \"Pending\"}"
        ],
        [
         "{\"order_id\": 11, \"customer_id\": 5816, \"order_date\": \"2024-10-13\", \"transaction_timestamp\": \"2024-10-13 17:34:19\", \"total_amount\": 897, \"payment_method\": \"Bank Transfer\", \"items\": [{\"item_id\": 4, \"name\": \"Smartwatch\", \"category\": \"Electronics\", \"price\": 299, \"quantity\": 3, \"details\": {\"brand\": \"Canon\", \"color\": \"White\"}}], \"order_status\": \"Pending\"}",
         "{\"order_id\": 11, \"customer_id\": 5816, \"order_date\": \"2024-10-13\", \"transaction_timestamp\": \"2024-10-13 17:34:19\", \"total_amount\": 897, \"payment_method\": \"Bank Transfer\", \"items\": [{\"item_id\": 4, \"name\": \"Smartwatch\", \"category\": \"Electronics\", \"price\": 299, \"quantity\": 3, \"details\": {\"brand\": \"Canon\", \"color\": \"White\"}}], \"order_status\": \"Pending\"}"
        ],
        [
         "{\"order_id\": 15, \"customer_id\": 7207, \"order_date\": \"2024-10-20\", \"transaction_timestamp\": \"2024-10-20 01:47:25\", \"total_amount\": 1199, \"payment_method\": \"Bank Transfer\", \"items\": [{\"item_id\": 9, \"name\": \"Smart TV\", \"category\": \"Electronics\", \"price\": 1199, \"quantity\": 1, \"details\": {\"brand\": \"GoPro\", \"color\": \"White\"}}], \"order_status\": \"Completed\"}",
         "{\"order_id\": 15, \"customer_id\": 7207, \"order_date\": \"2024-10-20\", \"transaction_timestamp\": \"2024-10-20 01:47:25\", \"total_amount\": 1199, \"payment_method\": \"Bank Transfer\", \"items\": [{\"item_id\": 9, \"name\": \"Smart TV\", \"category\": \"Electronics\", \"price\": 1199, \"quantity\": 1, \"details\": {\"brand\": \"GoPro\", \"color\": \"White\"}}], \"order_status\": \"Completed\"}"
        ],
        [
         "{\"order_id\": 19, \"customer_id\": 8539, \"order_date\": \"2024-10-13\", \"transaction_timestamp\": \"2024-10-13 12:40:26\", \"total_amount\": 499, \"payment_method\": \"PayPal\", \"items\": [{\"item_id\": 8, \"name\": \"Gaming Console\", \"category\": \"Electronics\", \"price\": 499, \"quantity\": 1, \"details\": {\"brand\": \"Dell\", \"color\": \"Silver\"}}], \"order_status\": \"Shipped\"}",
         "{\"order_id\": 19, \"customer_id\": 8539, \"order_date\": \"2024-10-13\", \"transaction_timestamp\": \"2024-10-13 12:40:26\", \"total_amount\": 499, \"payment_method\": \"PayPal\", \"items\": [{\"item_id\": 8, \"name\": \"Gaming Console\", \"category\": \"Electronics\", \"price\": 499, \"quantity\": 1, \"details\": {\"brand\": \"Dell\", \"color\": \"Silver\"}}], \"order_status\": \"Shipped\"}"
        ],
        [
         "{\"order_id\": 39, \"customer_id\": 9263, \"order_date\": \"2024-10-29\", \"transaction_timestamp\": \"2024-10-29 21:39:19\", \"total_amount\": 387, \"payment_method\": \"PayPal\", \"items\": [{\"item_id\": 7, \"name\": \"External Hard Drive\", \"category\": \"Electronics\", \"price\": 129, \"quantity\": 3, \"details\": {\"brand\": \"Sony\", \"color\": \"Black\"}}], \"order_status\": \"Shipped\"}",
         "{\"order_id\": 39, \"customer_id\": 9263, \"order_date\": \"2024-10-29\", \"transaction_timestamp\": \"2024-10-29 21:39:19\", \"total_amount\": 387, \"payment_method\": \"PayPal\", \"items\": [{\"item_id\": 7, \"name\": \"External Hard Drive\", \"category\": \"Electronics\", \"price\": 129, \"quantity\": 3, \"details\": {\"brand\": \"Sony\", \"color\": \"Black\"}}], \"order_status\": \"Shipped\"}"
        ],
        [
         "{\"order_id\": 55, \"customer_id\": 9018, \"order_date\": \"2024-10-25\", \"transaction_timestamp\": \"2024-10-25 05:49:16\", \"total_amount\": 699, \"payment_method\": \"Bank Transfer\", \"items\": [{\"item_id\": 1, \"name\": \"Smartphone\", \"category\": \"Electronics\", \"price\": 699, \"quantity\": 1, \"details\": {\"brand\": \"HP\", \"color\": \"Black\"}}], \"order_status\": \"Shipped\"}",
         "{\"order_id\": 55, \"customer_id\": 9018, \"order_date\": \"2024-10-25\", \"transaction_timestamp\": \"2024-10-25 05:49:16\", \"total_amount\": 699, \"payment_method\": \"Bank Transfer\", \"items\": [{\"item_id\": 1, \"name\": \"Smartphone\", \"category\": \"Electronics\", \"price\": 699, \"quantity\": 1, \"details\": {\"brand\": \"HP\", \"color\": \"Black\"}}], \"order_status\": \"Shipped\"}"
        ],
        [
         "{\"order_id\": 59, \"customer_id\": 3409, \"order_date\": \"2024-10-23\", \"transaction_timestamp\": \"2024-10-23 02:51:05\", \"total_amount\": 499, \"payment_method\": \"PayPal\", \"items\": [{\"item_id\": 8, \"name\": \"Gaming Console\", \"category\": \"Electronics\", \"price\": 499, \"quantity\": 1, \"details\": {\"brand\": \"Dell\", \"color\": \"Black\"}}], \"order_status\": \"Pending\"}",
         "{\"order_id\": 59, \"customer_id\": 3409, \"order_date\": \"2024-10-23\", \"transaction_timestamp\": \"2024-10-23 02:51:05\", \"total_amount\": 499, \"payment_method\": \"PayPal\", \"items\": [{\"item_id\": 8, \"name\": \"Gaming Console\", \"category\": \"Electronics\", \"price\": 499, \"quantity\": 1, \"details\": {\"brand\": \"Dell\", \"color\": \"Black\"}}], \"order_status\": \"Pending\"}"
        ],
        [
         "{\"order_id\": 72, \"customer_id\": 3889, \"order_date\": 2024-10-06, \"transaction_timestamp\": \"2024-10-06 10:23:28\", \"total_amount\": 328, \"payment_method\": \"PayPal\", \"items\": [{\"item_id\": 3, \"name\": \"Wireless Headphones\", \"category\": \"Electronics\", \"price\": 199, \"quantity\": 1, \"details\": {\"brand\": \"Microsoft\", \"color\": \"Gray\"}}, {\"item_id\": 7, \"name\": \"External Hard Drive\", \"category\": \"Electronics\", \"price\": 129, \"quantity\": 1, \"details\": {\"brand\": \"Samsung\", \"color\": \"Silver\"}}], \"order_status\": \"Cancelled\"}",
         "{\"order_id\": 72, \"customer_id\": 3889, \"order_date\": \"2024-10-06\", \"transaction_timestamp\": \"2024-10-06 10:23:28\", \"total_amount\": 328, \"payment_method\": \"PayPal\", \"items\": [{\"item_id\": 3, \"name\": \"Wireless Headphones\", \"category\": \"Electronics\", \"price\": 199, \"quantity\": 1, \"details\": {\"brand\": \"Microsoft\", \"color\": \"Gray\"}}, {\"item_id\": 7, \"name\": \"External Hard Drive\", \"category\": \"Electronics\", \"price\": 129, \"quantity\": 1, \"details\": {\"brand\": \"Samsung\", \"color\": \"Silver\"}}], \"order_status\": \"Cancelled\"}"
        ],
        [
         "{\"order_id\": 77, \"customer_id\": 9084, \"order_date\": \"2024-10-15\", \"transaction_timestamp\": \"2024-10-15 13:09:33\", \"total_amount\": 398, \"payment_method\": \"Credit Card\", \"items\": [{\"item_id\": 3, \"name\": \"Wireless Headphones\", \"category\": \"Electronics\", \"price\": 199, \"quantity\": 2, \"details\": {\"brand\": \"HP\", \"color\": \"Silver\"}}], \"order_status\": \"Pending\"}",
         "{\"order_id\": 77, \"customer_id\": 9084, \"order_date\": \"2024-10-15\", \"transaction_timestamp\": \"2024-10-15 13:09:33\", \"total_amount\": 398, \"payment_method\": \"Credit Card\", \"items\": [{\"item_id\": 3, \"name\": \"Wireless Headphones\", \"category\": \"Electronics\", \"price\": 199, \"quantity\": 2, \"details\": {\"brand\": \"HP\", \"color\": \"Silver\"}}], \"order_status\": \"Pending\"}"
        ],
        [
         "{\"order_id\": 84, \"customer_id\": 2344, \"order_date\": \"2024-10-25\", \"transaction_timestamp\": \"2024-10-25 03:37:42\", \"total_amount\": 998, \"payment_method\": \"PayPal\", \"items\": [{\"item_id\": 10, \"name\": \"Drone\", \"category\": \"Electronics\", \"price\": 799, \"quantity\": 1, \"details\": {\"brand\": \"Sony\", \"color\": \"Black\"}}, {\"item_id\": 3, \"name\": \"Wireless Headphones\", \"category\": \"Electronics\", \"price\": 199, \"quantity\": 1, \"details\": {\"brand\": \"LG\", \"color\": \"Black\"}}], \"order_status\": \"Completed\"}",
         "{\"order_id\": 84, \"customer_id\": 2344, \"order_date\": \"2024-10-25\", \"transaction_timestamp\": \"2024-10-25 03:37:42\", \"total_amount\": 998, \"payment_method\": \"PayPal\", \"items\": [{\"item_id\": 10, \"name\": \"Drone\", \"category\": \"Electronics\", \"price\": 799, \"quantity\": 1, \"details\": {\"brand\": \"Sony\", \"color\": \"Black\"}}, {\"item_id\": 3, \"name\": \"Wireless Headphones\", \"category\": \"Electronics\", \"price\": 199, \"quantity\": 1, \"details\": {\"brand\": \"LG\", \"color\": \"Black\"}}], \"order_status\": \"Completed\"}"
        ],
        [
         "{\"order_id\": 85, \"customer_id\": 5011, \"order_date\": \"2024-10-23\", \"transaction_timestamp\": \"2024-10-23 20:06:42\", \"total_amount\": 998, \"payment_method\": \"Bank Transfer\", \"items\": [{\"item_id\": 8, \"name\": \"Gaming Console\", \"category\": \"Electronics\", \"price\": 499, \"quantity\": 2, \"details\": {\"brand\": \"GoPro\", \"color\": \"Black\"}}], \"order_status\": \"Shipped\"}",
         "{\"order_id\": 85, \"customer_id\": 5011, \"order_date\": \"2024-10-23\", \"transaction_timestamp\": \"2024-10-23 20:06:42\", \"total_amount\": 998, \"payment_method\": \"Bank Transfer\", \"items\": [{\"item_id\": 8, \"name\": \"Gaming Console\", \"category\": \"Electronics\", \"price\": 499, \"quantity\": 2, \"details\": {\"brand\": \"GoPro\", \"color\": \"Black\"}}], \"order_status\": \"Shipped\"}"
        ],
        [
         "{\"order_id\": 86, \"customer_id\": 5011, \"order_date\": \"2024-10-19\", \"transaction_timestamp\": \"2024-10-19 13:30:47\", \"total_amount\": 1199, \"payment_method\": \"PayPal\", \"items\": [{\"item_id\": 9, \"name\": \"Smart TV\", \"category\": \"Electronics\", \"price\": 1199, \"quantity\": 1, \"details\": {\"brand\": \"Dell\", \"color\": \"White\"}}], \"order_status\": \"Completed\"}",
         "{\"order_id\": 86, \"customer_id\": 5011, \"order_date\": \"2024-10-19\", \"transaction_timestamp\": \"2024-10-19 13:30:47\", \"total_amount\": 1199, \"payment_method\": \"PayPal\", \"items\": [{\"item_id\": 9, \"name\": \"Smart TV\", \"category\": \"Electronics\", \"price\": 1199, \"quantity\": 1, \"details\": {\"brand\": \"Dell\", \"color\": \"White\"}}], \"order_status\": \"Completed\"}"
        ]
       ],
       "datasetInfos": [
        {
         "name": "_sqldf",
         "schema": {
          "fields": [
           {
            "metadata": {},
            "name": "value",
            "nullable": true,
            "type": "string"
           },
           {
            "metadata": {},
            "name": "fixed_value",
            "nullable": true,
            "type": "string"
           }
          ],
          "type": "struct"
         },
         "tableIdentifier": null,
         "typeStr": "pyspark.sql.connect.dataframe.DataFrame"
        }
       ],
       "dbfsResultPath": null,
       "isJsonSchema": true,
       "metadata": {
        "createTempViewForImplicitDf": true,
        "dataframeName": "_sqldf",
        "executionCount": 11
       },
       "overflow": false,
       "plotOptions": {
        "customPlotOptions": {},
        "displayType": "table",
        "pivotAggregation": null,
        "pivotColumns": null,
        "xColumns": null,
        "yColumns": null
       },
       "removedWidgets": [],
       "schema": [
        {
         "metadata": "{}",
         "name": "value",
         "type": "\"string\""
        },
        {
         "metadata": "{}",
         "name": "fixed_value",
         "type": "\"string\""
        }
       ],
       "type": "table"
      }
     },
     "output_type": "display_data"
    }
   ],
   "source": [
    "%sql\n",
    "select value,\n",
    "   regexp_replace(value,'\"order_date\": (\\\\d{4}-\\\\d{2}-\\\\d{2})' , '\"order_date\": \"\\$1\"') as fixed_value\n",
    "  from gizmobox.bronze.v_orders;"
   ]
  },
  {
   "cell_type": "code",
   "execution_count": 0,
   "metadata": {
    "application/vnd.databricks.v1+cell": {
     "cellMetadata": {
      "byteLimit": 2048000,
      "implicitDf": true,
      "rowLimit": 10000
     },
     "inputWidgets": {},
     "nuid": "d3d16d7d-0fee-4b1d-b90b-ee9311838e09",
     "showTitle": false,
     "tableResultSettingsMap": {},
     "title": ""
    }
   },
   "outputs": [],
   "source": [
    "%sql\n",
    "create or replace temp view tv_orders_fixed\n",
    "as\n",
    "select value,\n",
    "   regexp_replace(value,'\"order_date\": (\\\\d{4}-\\\\d{2}-\\\\d{2})' , '\"order_date\": \"\\$1\"') as fixed_value\n",
    "  from gizmobox.bronze.v_orders;"
   ]
  },
  {
   "cell_type": "markdown",
   "metadata": {
    "application/vnd.databricks.v1+cell": {
     "cellMetadata": {},
     "inputWidgets": {},
     "nuid": "451dbfa9-fcf5-40fe-8236-b000c1cfcedd",
     "showTitle": false,
     "tableResultSettingsMap": {},
     "title": ""
    }
   },
   "source": [
    "#### 2-Transform JSON String to JSON Object"
   ]
  },
  {
   "cell_type": "code",
   "execution_count": 0,
   "metadata": {
    "application/vnd.databricks.v1+cell": {
     "cellMetadata": {
      "byteLimit": 2048000,
      "implicitDf": true,
      "rowLimit": 10000
     },
     "inputWidgets": {},
     "nuid": "73961d5a-4ac4-46c0-a1ec-daede1d67471",
     "showTitle": false,
     "tableResultSettingsMap": {},
     "title": ""
    }
   },
   "outputs": [
    {
     "output_type": "display_data",
     "data": {
      "text/html": [
       "<style scoped>\n",
       "  .table-result-container {\n",
       "    max-height: 300px;\n",
       "    overflow: auto;\n",
       "  }\n",
       "  table, th, td {\n",
       "    border: 1px solid black;\n",
       "    border-collapse: collapse;\n",
       "  }\n",
       "  th, td {\n",
       "    padding: 5px;\n",
       "  }\n",
       "  th {\n",
       "    text-align: left;\n",
       "  }\n",
       "</style><div class='table-result-container'><table class='table-result'><thead style='background-color: white'><tr><th>schema</th><th>fixed_value</th></tr></thead><tbody><tr><td>STRUCT<customer_id: BIGINT, items: ARRAY<STRUCT<category: STRING, details: STRUCT<brand: STRING, color: STRING>, item_id: BIGINT, name: STRING, price: BIGINT, quantity: BIGINT>>, order_date: STRING, order_id: BIGINT, order_status: STRING, payment_method: STRING, total_amount: BIGINT, transaction_timestamp: STRING></td><td>{\"order_id\": 1, \"customer_id\": 6973, \"order_date\": \"2025-01-05\", \"transaction_timestamp\": \"2025-01-05 10:13:59\", \"total_amount\": 499, \"payment_method\": \"Bank Transfer\", \"items\": [{\"item_id\": 8, \"name\": \"Gaming Console\", \"category\": \"Electronics\", \"price\": 499, \"quantity\": 1, \"details\": {\"brand\": \"Sony\", \"color\": \"Blue\"}}], \"order_status\": \"Completed\"}</td></tr></tbody></table></div>"
      ]
     },
     "metadata": {
      "application/vnd.databricks.v1+output": {
       "addedWidgets": {},
       "aggData": [],
       "aggError": "",
       "aggOverflow": false,
       "aggSchema": [],
       "aggSeriesLimitReached": false,
       "aggType": "",
       "arguments": {},
       "columnCustomDisplayInfos": {},
       "data": [
        [
         "STRUCT<customer_id: BIGINT, items: ARRAY<STRUCT<category: STRING, details: STRUCT<brand: STRING, color: STRING>, item_id: BIGINT, name: STRING, price: BIGINT, quantity: BIGINT>>, order_date: STRING, order_id: BIGINT, order_status: STRING, payment_method: STRING, total_amount: BIGINT, transaction_timestamp: STRING>",
         "{\"order_id\": 1, \"customer_id\": 6973, \"order_date\": \"2025-01-05\", \"transaction_timestamp\": \"2025-01-05 10:13:59\", \"total_amount\": 499, \"payment_method\": \"Bank Transfer\", \"items\": [{\"item_id\": 8, \"name\": \"Gaming Console\", \"category\": \"Electronics\", \"price\": 499, \"quantity\": 1, \"details\": {\"brand\": \"Sony\", \"color\": \"Blue\"}}], \"order_status\": \"Completed\"}"
        ]
       ],
       "datasetInfos": [
        {
         "name": "_sqldf",
         "schema": {
          "fields": [
           {
            "metadata": {},
            "name": "schema",
            "nullable": true,
            "type": "string"
           },
           {
            "metadata": {},
            "name": "fixed_value",
            "nullable": true,
            "type": "string"
           }
          ],
          "type": "struct"
         },
         "tableIdentifier": null,
         "typeStr": "pyspark.sql.connect.dataframe.DataFrame"
        }
       ],
       "dbfsResultPath": null,
       "isJsonSchema": true,
       "metadata": {
        "createTempViewForImplicitDf": true,
        "dataframeName": "_sqldf",
        "executionCount": 20
       },
       "overflow": false,
       "plotOptions": {
        "customPlotOptions": {},
        "displayType": "table",
        "pivotAggregation": null,
        "pivotColumns": null,
        "xColumns": null,
        "yColumns": null
       },
       "removedWidgets": [],
       "schema": [
        {
         "metadata": "{}",
         "name": "schema",
         "type": "\"string\""
        },
        {
         "metadata": "{}",
         "name": "fixed_value",
         "type": "\"string\""
        }
       ],
       "type": "table"
      }
     },
     "output_type": "display_data"
    }
   ],
   "source": [
    "%sql\n",
    "select schema_of_json(fixed_value) as schema,\n",
    "       fixed_value\n",
    "  from tv_orders_fixed\n",
    "  limit 1;"
   ]
  },
  {
   "cell_type": "code",
   "execution_count": 0,
   "metadata": {
    "application/vnd.databricks.v1+cell": {
     "cellMetadata": {},
     "inputWidgets": {},
     "nuid": "0b8f707a-d9bc-464e-a503-8a497fc5664d",
     "showTitle": false,
     "tableResultSettingsMap": {},
     "title": ""
    }
   },
   "outputs": [],
   "source": [
    "%sql\n",
    "select \n",
    "  from_json(\n",
    "    fixed_value, \n",
    "    'STRUCT<\n",
    "      customer_id: BIGINT, \n",
    "      items: ARRAY<\n",
    "        STRUCT<\n",
    "          category: STRING, \n",
    "          details: STRUCT<brand: STRING, color: STRING>, \n",
    "          item_id: BIGINT, \n",
    "          name: STRING, \n",
    "          price: BIGINT, \n",
    "          quantity: BIGINT\n",
    "        >\n",
    "      >, \n",
    "      order_date: STRING, \n",
    "      order_id: BIGINT, \n",
    "      order_status: STRING, \n",
    "      payment_method: STRING, \n",
    "      total_amount: BIGINT, \n",
    "      transaction_timestamp: STRING\n",
    "    >'\n",
    "  ) as json_value,\n",
    "  fixed_value\n",
    "from tv_orders_fixed\n",
    "limit 1;"
   ]
  },
  {
   "cell_type": "code",
   "execution_count": 0,
   "metadata": {
    "application/vnd.databricks.v1+cell": {
     "cellMetadata": {
      "byteLimit": 2048000,
      "implicitDf": true,
      "rowLimit": 10000
     },
     "inputWidgets": {},
     "nuid": "840f5cac-a3a3-4f1a-9e5d-3ce9c31a97dc",
     "showTitle": false,
     "tableResultSettingsMap": {},
     "title": ""
    }
   },
   "outputs": [
    {
     "output_type": "display_data",
     "data": {
      "text/html": [
       "<style scoped>\n",
       "  .table-result-container {\n",
       "    max-height: 300px;\n",
       "    overflow: auto;\n",
       "  }\n",
       "  table, th, td {\n",
       "    border: 1px solid black;\n",
       "    border-collapse: collapse;\n",
       "  }\n",
       "  th, td {\n",
       "    padding: 5px;\n",
       "  }\n",
       "  th {\n",
       "    text-align: left;\n",
       "  }\n",
       "</style><div class='table-result-container'><table class='table-result'><thead style='background-color: white'><tr><th>json_value</th><th>fixed_value</th></tr></thead><tbody><tr><td>List(6973, List(List(Electronics, List(Sony, Blue), 8, Gaming Console, 499, 1)), 2025-01-05, 1, Completed, Bank Transfer, 499, 2025-01-05 10:13:59)</td><td>{\"order_id\": 1, \"customer_id\": 6973, \"order_date\": \"2025-01-05\", \"transaction_timestamp\": \"2025-01-05 10:13:59\", \"total_amount\": 499, \"payment_method\": \"Bank Transfer\", \"items\": [{\"item_id\": 8, \"name\": \"Gaming Console\", \"category\": \"Electronics\", \"price\": 499, \"quantity\": 1, \"details\": {\"brand\": \"Sony\", \"color\": \"Blue\"}}], \"order_status\": \"Completed\"}</td></tr></tbody></table></div>"
      ]
     },
     "metadata": {
      "application/vnd.databricks.v1+output": {
       "addedWidgets": {},
       "aggData": [],
       "aggError": "",
       "aggOverflow": false,
       "aggSchema": [],
       "aggSeriesLimitReached": false,
       "aggType": "",
       "arguments": {},
       "columnCustomDisplayInfos": {},
       "data": [
        [
         [
          6973,
          [
           [
            "Electronics",
            [
             "Sony",
             "Blue"
            ],
            8,
            "Gaming Console",
            499,
            1
           ]
          ],
          "2025-01-05",
          1,
          "Completed",
          "Bank Transfer",
          499,
          "2025-01-05 10:13:59"
         ],
         "{\"order_id\": 1, \"customer_id\": 6973, \"order_date\": \"2025-01-05\", \"transaction_timestamp\": \"2025-01-05 10:13:59\", \"total_amount\": 499, \"payment_method\": \"Bank Transfer\", \"items\": [{\"item_id\": 8, \"name\": \"Gaming Console\", \"category\": \"Electronics\", \"price\": 499, \"quantity\": 1, \"details\": {\"brand\": \"Sony\", \"color\": \"Blue\"}}], \"order_status\": \"Completed\"}"
        ]
       ],
       "datasetInfos": [
        {
         "name": "_sqldf",
         "schema": {
          "fields": [
           {
            "metadata": {},
            "name": "json_value",
            "nullable": true,
            "type": {
             "fields": [
              {
               "metadata": {},
               "name": "customer_id",
               "nullable": true,
               "type": "long"
              },
              {
               "metadata": {},
               "name": "items",
               "nullable": true,
               "type": {
                "containsNull": true,
                "elementType": {
                 "fields": [
                  {
                   "metadata": {},
                   "name": "category",
                   "nullable": true,
                   "type": "string"
                  },
                  {
                   "metadata": {},
                   "name": "details",
                   "nullable": true,
                   "type": {
                    "fields": [
                     {
                      "metadata": {},
                      "name": "brand",
                      "nullable": true,
                      "type": "string"
                     },
                     {
                      "metadata": {},
                      "name": "color",
                      "nullable": true,
                      "type": "string"
                     }
                    ],
                    "type": "struct"
                   }
                  },
                  {
                   "metadata": {},
                   "name": "item_id",
                   "nullable": true,
                   "type": "long"
                  },
                  {
                   "metadata": {},
                   "name": "name",
                   "nullable": true,
                   "type": "string"
                  },
                  {
                   "metadata": {},
                   "name": "price",
                   "nullable": true,
                   "type": "long"
                  },
                  {
                   "metadata": {},
                   "name": "quantity",
                   "nullable": true,
                   "type": "long"
                  }
                 ],
                 "type": "struct"
                },
                "type": "array"
               }
              },
              {
               "metadata": {},
               "name": "order_date",
               "nullable": true,
               "type": "string"
              },
              {
               "metadata": {},
               "name": "order_id",
               "nullable": true,
               "type": "long"
              },
              {
               "metadata": {},
               "name": "order_status",
               "nullable": true,
               "type": "string"
              },
              {
               "metadata": {},
               "name": "payment_method",
               "nullable": true,
               "type": "string"
              },
              {
               "metadata": {},
               "name": "total_amount",
               "nullable": true,
               "type": "long"
              },
              {
               "metadata": {},
               "name": "transaction_timestamp",
               "nullable": true,
               "type": "string"
              }
             ],
             "type": "struct"
            }
           },
           {
            "metadata": {},
            "name": "fixed_value",
            "nullable": true,
            "type": "string"
           }
          ],
          "type": "struct"
         },
         "tableIdentifier": null,
         "typeStr": "pyspark.sql.connect.dataframe.DataFrame"
        }
       ],
       "dbfsResultPath": null,
       "isJsonSchema": true,
       "metadata": {
        "createTempViewForImplicitDf": true,
        "dataframeName": "_sqldf",
        "executionCount": 41
       },
       "overflow": false,
       "plotOptions": {
        "customPlotOptions": {},
        "displayType": "table",
        "pivotAggregation": null,
        "pivotColumns": null,
        "xColumns": null,
        "yColumns": null
       },
       "removedWidgets": [],
       "schema": [
        {
         "metadata": "{}",
         "name": "json_value",
         "type": "{\"fields\":[{\"metadata\":{},\"name\":\"customer_id\",\"nullable\":true,\"type\":\"long\"},{\"metadata\":{},\"name\":\"items\",\"nullable\":true,\"type\":{\"containsNull\":true,\"elementType\":{\"fields\":[{\"metadata\":{},\"name\":\"category\",\"nullable\":true,\"type\":\"string\"},{\"metadata\":{},\"name\":\"details\",\"nullable\":true,\"type\":{\"fields\":[{\"metadata\":{},\"name\":\"brand\",\"nullable\":true,\"type\":\"string\"},{\"metadata\":{},\"name\":\"color\",\"nullable\":true,\"type\":\"string\"}],\"type\":\"struct\"}},{\"metadata\":{},\"name\":\"item_id\",\"nullable\":true,\"type\":\"long\"},{\"metadata\":{},\"name\":\"name\",\"nullable\":true,\"type\":\"string\"},{\"metadata\":{},\"name\":\"price\",\"nullable\":true,\"type\":\"long\"},{\"metadata\":{},\"name\":\"quantity\",\"nullable\":true,\"type\":\"long\"}],\"type\":\"struct\"},\"type\":\"array\"}},{\"metadata\":{},\"name\":\"order_date\",\"nullable\":true,\"type\":\"string\"},{\"metadata\":{},\"name\":\"order_id\",\"nullable\":true,\"type\":\"long\"},{\"metadata\":{},\"name\":\"order_status\",\"nullable\":true,\"type\":\"string\"},{\"metadata\":{},\"name\":\"payment_method\",\"nullable\":true,\"type\":\"string\"},{\"metadata\":{},\"name\":\"total_amount\",\"nullable\":true,\"type\":\"long\"},{\"metadata\":{},\"name\":\"transaction_timestamp\",\"nullable\":true,\"type\":\"string\"}],\"type\":\"struct\"}"
        },
        {
         "metadata": "{}",
         "name": "fixed_value",
         "type": "\"string\""
        }
       ],
       "type": "table"
      }
     },
     "output_type": "display_data"
    }
   ],
   "source": [
    "%sql\n",
    "select from_json (fixed_value, \n",
    "                  'STRUCT<customer_id: BIGINT, items: ARRAY<STRUCT<category: STRING, details: STRUCT<brand: STRING, color: STRING>, item_id: BIGINT, name: STRING, price: BIGINT, quantity: BIGINT>>, order_date: STRING, order_id: BIGINT, order_status: STRING, payment_method: STRING, total_amount: BIGINT, transaction_timestamp: \n",
    "                  STRING>'\n",
    "                  ) as json_value,\n",
    "     fixed_value\n",
    "  from tv_orders_fixed\n",
    "limit 1;"
   ]
  },
  {
   "cell_type": "markdown",
   "metadata": {
    "application/vnd.databricks.v1+cell": {
     "cellMetadata": {},
     "inputWidgets": {},
     "nuid": "c8fee69f-2818-4158-81ce-86edc4149f46",
     "showTitle": false,
     "tableResultSettingsMap": {},
     "title": ""
    }
   },
   "source": [
    "#### 3-Write transformed data to the silver schema"
   ]
  },
  {
   "cell_type": "code",
   "execution_count": 0,
   "metadata": {
    "application/vnd.databricks.v1+cell": {
     "cellMetadata": {
      "byteLimit": 2048000,
      "implicitDf": true,
      "rowLimit": 10000
     },
     "inputWidgets": {},
     "nuid": "f5d07768-5dec-42ce-807c-6148575d528e",
     "showTitle": false,
     "tableResultSettingsMap": {},
     "title": ""
    }
   },
   "outputs": [
    {
     "output_type": "display_data",
     "data": {
      "text/html": [
       "<style scoped>\n",
       "  .table-result-container {\n",
       "    max-height: 300px;\n",
       "    overflow: auto;\n",
       "  }\n",
       "  table, th, td {\n",
       "    border: 1px solid black;\n",
       "    border-collapse: collapse;\n",
       "  }\n",
       "  th, td {\n",
       "    padding: 5px;\n",
       "  }\n",
       "  th {\n",
       "    text-align: left;\n",
       "  }\n",
       "</style><div class='table-result-container'><table class='table-result'><thead style='background-color: white'><tr><th>num_affected_rows</th><th>num_inserted_rows</th></tr></thead><tbody></tbody></table></div>"
      ]
     },
     "metadata": {
      "application/vnd.databricks.v1+output": {
       "addedWidgets": {},
       "aggData": [],
       "aggError": "",
       "aggOverflow": false,
       "aggSchema": [],
       "aggSeriesLimitReached": false,
       "aggType": "",
       "arguments": {},
       "columnCustomDisplayInfos": {},
       "data": [],
       "datasetInfos": [
        {
         "name": "_sqldf",
         "schema": {
          "fields": [
           {
            "metadata": {},
            "name": "num_affected_rows",
            "nullable": true,
            "type": "long"
           },
           {
            "metadata": {},
            "name": "num_inserted_rows",
            "nullable": true,
            "type": "long"
           }
          ],
          "type": "struct"
         },
         "tableIdentifier": null,
         "typeStr": "pyspark.sql.connect.dataframe.DataFrame"
        }
       ],
       "dbfsResultPath": null,
       "isJsonSchema": true,
       "metadata": {
        "createTempViewForImplicitDf": true,
        "dataframeName": "_sqldf",
        "executionCount": 44
       },
       "overflow": false,
       "plotOptions": {
        "customPlotOptions": {},
        "displayType": "table",
        "pivotAggregation": null,
        "pivotColumns": null,
        "xColumns": null,
        "yColumns": null
       },
       "removedWidgets": [],
       "schema": [
        {
         "metadata": "{}",
         "name": "num_affected_rows",
         "type": "\"long\""
        },
        {
         "metadata": "{}",
         "name": "num_inserted_rows",
         "type": "\"long\""
        }
       ],
       "type": "table"
      }
     },
     "output_type": "display_data"
    }
   ],
   "source": [
    "%sql\n",
    "DROP TABLE IF EXISTS gizmobox.silver.orders_json;\n",
    "create table if not exists gizmobox.silver.orders_json\n",
    "AS\n",
    "select from_json (fixed_value, \n",
    "                  'STRUCT<customer_id: BIGINT, items: ARRAY<STRUCT<category: STRING, details: STRUCT<brand: STRING, color: STRING>, item_id: BIGINT, name: STRING, price: BIGINT, quantity: BIGINT>>, order_date: STRING, order_id: BIGINT, order_status: STRING, payment_method: STRING, total_amount: BIGINT, transaction_timestamp: \n",
    "                  STRING>'\n",
    "                  ) as json_value\n",
    "      from tv_orders_fixed;"
   ]
  },
  {
   "cell_type": "code",
   "execution_count": 0,
   "metadata": {
    "application/vnd.databricks.v1+cell": {
     "cellMetadata": {
      "byteLimit": 2048000,
      "implicitDf": true,
      "rowLimit": 10000
     },
     "inputWidgets": {},
     "nuid": "77344226-497c-4cf9-9926-8146c1b67b38",
     "showTitle": false,
     "tableResultSettingsMap": {},
     "title": ""
    }
   },
   "outputs": [
    {
     "output_type": "display_data",
     "data": {
      "text/html": [
       "<style scoped>\n",
       "  .table-result-container {\n",
       "    max-height: 300px;\n",
       "    overflow: auto;\n",
       "  }\n",
       "  table, th, td {\n",
       "    border: 1px solid black;\n",
       "    border-collapse: collapse;\n",
       "  }\n",
       "  th, td {\n",
       "    padding: 5px;\n",
       "  }\n",
       "  th {\n",
       "    text-align: left;\n",
       "  }\n",
       "</style><div class='table-result-container'><table class='table-result'><thead style='background-color: white'><tr><th>json_value</th></tr></thead><tbody><tr><td>List(1987, List(List(Electronics, List(GoPro, Black), 10, Drone, 799, 1)), 2024-10-28, 6, Pending, Credit Card, 799, 2024-10-28 04:47:27)</td></tr><tr><td>List(5816, List(List(Electronics, List(GoPro, White), 5, Tablet, 399, 1)), 2024-10-07, 10, Pending, Credit Card, 399, 2024-10-07 22:09:27)</td></tr><tr><td>List(5816, List(List(Electronics, List(Canon, White), 4, Smartwatch, 299, 3)), 2024-10-13, 11, Pending, Bank Transfer, 897, 2024-10-13 17:34:19)</td></tr><tr><td>List(7207, List(List(Electronics, List(GoPro, White), 9, Smart TV, 1199, 1)), 2024-10-20, 15, Completed, Bank Transfer, 1199, 2024-10-20 01:47:25)</td></tr><tr><td>List(8539, List(List(Electronics, List(Dell, Silver), 8, Gaming Console, 499, 1)), 2024-10-13, 19, Shipped, PayPal, 499, 2024-10-13 12:40:26)</td></tr><tr><td>List(9263, List(List(Electronics, List(Sony, Black), 7, External Hard Drive, 129, 3)), 2024-10-29, 39, Shipped, PayPal, 387, 2024-10-29 21:39:19)</td></tr><tr><td>List(9018, List(List(Electronics, List(HP, Black), 1, Smartphone, 699, 1)), 2024-10-25, 55, Shipped, Bank Transfer, 699, 2024-10-25 05:49:16)</td></tr><tr><td>List(3409, List(List(Electronics, List(Dell, Black), 8, Gaming Console, 499, 1)), 2024-10-23, 59, Pending, PayPal, 499, 2024-10-23 02:51:05)</td></tr><tr><td>List(3889, List(List(Electronics, List(Microsoft, Gray), 3, Wireless Headphones, 199, 1), List(Electronics, List(Samsung, Silver), 7, External Hard Drive, 129, 1)), 2024-10-06, 72, Cancelled, PayPal, 328, 2024-10-06 10:23:28)</td></tr><tr><td>List(9084, List(List(Electronics, List(HP, Silver), 3, Wireless Headphones, 199, 2)), 2024-10-15, 77, Pending, Credit Card, 398, 2024-10-15 13:09:33)</td></tr><tr><td>List(2344, List(List(Electronics, List(Sony, Black), 10, Drone, 799, 1), List(Electronics, List(LG, Black), 3, Wireless Headphones, 199, 1)), 2024-10-25, 84, Completed, PayPal, 998, 2024-10-25 03:37:42)</td></tr><tr><td>List(5011, List(List(Electronics, List(GoPro, Black), 8, Gaming Console, 499, 2)), 2024-10-23, 85, Shipped, Bank Transfer, 998, 2024-10-23 20:06:42)</td></tr><tr><td>List(5011, List(List(Electronics, List(Dell, White), 9, Smart TV, 1199, 1)), 2024-10-19, 86, Completed, PayPal, 1199, 2024-10-19 13:30:47)</td></tr><tr><td>List(3892, List(List(Electronics, List(Dell, Blue), 8, Gaming Console, 499, 2)), 2024-11-16, 5, Cancelled, Bank Transfer, 998, 2024-11-16 23:07:31)</td></tr><tr><td>List(1987, List(List(Electronics, List(LG, Blue), 7, External Hard Drive, 129, 2), List(Electronics, List(HP, Gray), 7, External Hard Drive, 129, 3)), 2024-11-19, 7, Pending, Credit Card, 645, 2024-11-19 19:18:48)</td></tr><tr><td>List(9179, List(List(Electronics, List(Apple, Black), 2, Laptop, 999, 1)), 2024-11-27, 9, Shipped, Bank Transfer, 999, 2024-11-27 13:15:29)</td></tr><tr><td>List(8539, List(List(Electronics, List(Sony, Silver), 5, Tablet, 399, 2)), 2024-11-18, 20, Pending, PayPal, 798, 2024-11-18 02:38:21)</td></tr><tr><td>List(8539, List(List(Electronics, List(GoPro, Blue), 6, Bluetooth Speaker, 149, 2)), 2024-11-21, 21, Cancelled, Bank Transfer, 298, 2024-11-21 11:25:35)</td></tr><tr><td>List(4761, List(List(Electronics, List(Apple, Gray), 5, Tablet, 399, 1), List(Electronics, List(Dell, Gray), 4, Smartwatch, 299, 2)), 2024-11-22, 23, Shipped, PayPal, 997, 2024-11-22 16:04:05)</td></tr><tr><td>List(9706, List(List(Electronics, List(LG, Gray), 2, Laptop, 999, 1)), 2024-11-05, 25, Completed, PayPal, 999, 2024-11-05 11:45:31)</td></tr><tr><td>List(4996, List(List(Electronics, List(GoPro, White), 3, Wireless Headphones, 199, 1)), 2024-11-12, 30, Shipped, Bank Transfer, 199, 2024-11-12 03:20:29)</td></tr><tr><td>List(4914, List(List(Electronics, List(Dell, Gray), 3, Wireless Headphones, 199, 1)), 2024-11-20, 35, Shipped, Bank Transfer, 199, 2024-11-20 19:09:04)</td></tr><tr><td>List(4914, List(List(Electronics, List(Canon, Silver), 3, Wireless Headphones, 199, 1)), 2024-11-02, 36, Completed, PayPal, 199, 2024-11-02 10:39:46)</td></tr><tr><td>List(5028, List(List(Electronics, List(Bose, Gray), 6, Bluetooth Speaker, 149, 1)), 2024-11-08, 42, Completed, Credit Card, 149, 2024-11-08 18:32:25)</td></tr><tr><td>List(7295, List(List(Electronics, List(Dell, White), 10, Drone, 799, 1)), 2024-11-07, 45, Shipped, Credit Card, 799, 2024-11-07 15:41:43)</td></tr><tr><td>List(7295, List(List(Electronics, List(Samsung, Black), 3, Wireless Headphones, 199, 1)), 2024-11-26, 46, Pending, PayPal, 199, 2024-11-26 17:16:53)</td></tr><tr><td>List(7803, List(List(Electronics, List(LG, Blue), 6, Bluetooth Speaker, 149, 2)), 2024-11-22, 47, Shipped, Credit Card, 298, 2024-11-22 02:01:19)</td></tr><tr><td>List(7803, List(List(Electronics, List(Apple, Black), 7, External Hard Drive, 129, 3)), 2024-11-13, 48, Completed, PayPal, 387, 2024-11-13 06:35:56)</td></tr><tr><td>List(8845, List(List(Electronics, List(GoPro, White), 8, Gaming Console, 499, 2)), 2024-11-19, 52, Completed, PayPal, 998, 2024-11-19 21:23:45)</td></tr><tr><td>List(8580, List(List(Electronics, List(HP, Silver), 3, Wireless Headphones, 199, 1), List(Electronics, List(Sony, Silver), 7, External Hard Drive, 129, 3)), 2024-11-19, 57, Cancelled, Bank Transfer, 586, 2024-11-19 11:32:44)</td></tr><tr><td>List(7123, List(List(Electronics, List(GoPro, Blue), 3, Wireless Headphones, 199, 1), List(Electronics, List(Bose, Silver), 6, Bluetooth Speaker, 149, 3)), 2024-11-24, 63, Cancelled, Bank Transfer, 646, 2024-11-24 08:41:28)</td></tr><tr><td>List(2639, List(List(Electronics, List(Microsoft, White), 7, External Hard Drive, 129, 3), List(Electronics, List(Canon, Blue), 3, Wireless Headphones, 199, 3)), 2024-11-28, 64, Completed, Bank Transfer, 984, 2024-11-28 12:23:21)</td></tr><tr><td>List(9247, List(List(Electronics, List(Bose, White), 7, External Hard Drive, 129, 3)), 2024-11-15, 88, Cancelled, Bank Transfer, 387, 2024-11-15 11:39:44)</td></tr><tr><td>List(9247, List(List(Electronics, List(GoPro, Silver), 6, Bluetooth Speaker, 149, 1)), 2024-11-22, 89, Cancelled, Bank Transfer, 149, 2024-11-22 12:09:15)</td></tr><tr><td>List(5592, List(List(Electronics, List(Sony, Black), 7, External Hard Drive, 129, 2)), 2024-11-24, 92, Shipped, PayPal, 258, 2024-11-24 23:33:21)</td></tr><tr><td>List(5816, List(List(Electronics, List(Sony, White), 2, Laptop, 999, 1)), 2024-12-06, 12, Cancelled, PayPal, 999, 2024-12-06 20:26:49)</td></tr><tr><td>List(4858, List(List(Electronics, List(GoPro, Black), 2, Laptop, 999, 1)), 2024-12-17, 13, Pending, PayPal, 999, 2024-12-17 03:41:37)</td></tr><tr><td>List(5204, List(List(Electronics, List(Sony, Silver), 3, Wireless Headphones, 199, 3)), 2024-12-08, 16, Pending, Bank Transfer, 597, 2024-12-08 22:59:48)</td></tr><tr><td>List(5204, List(List(Electronics, List(Dell, Black), 8, Gaming Console, 499, 2)), 2024-12-02, 17, Pending, Bank Transfer, 998, 2024-12-02 12:00:50)</td></tr><tr><td>List(1211, List(List(Electronics, List(GoPro, Gray), 9, Smart TV, 1199, 1)), 2024-12-21, 24, Completed, PayPal, 1199, 2024-12-21 03:24:26)</td></tr><tr><td>List(2703, List(List(Electronics, List(Dell, White), 7, External Hard Drive, 129, 2), List(Electronics, List(Canon, Black), 6, Bluetooth Speaker, 149, 3), List(Electronics, List(Microsoft, Silver), 3, Wireless Headphones, 199, 1)), 2024-12-02, 27, Completed, Credit Card, 904, 2024-12-02 11:24:21)</td></tr><tr><td>List(2703, List(List(Electronics, List(GoPro, Blue), 7, External Hard Drive, 129, 1)), 2024-12-26, 28, Cancelled, Credit Card, 129, 2024-12-26 03:17:50)</td></tr><tr><td>List(4996, List(List(Electronics, List(Apple, Silver), 5, Tablet, 399, 1)), 2024-12-28, 32, Pending, PayPal, 399, 2024-12-28 08:55:57)</td></tr><tr><td>List(7829, List(List(Electronics, List(HP, Silver), 7, External Hard Drive, 129, 2)), 2024-12-22, 37, Shipped, Credit Card, 258, 2024-12-22 10:11:49)</td></tr><tr><td>List(7829, List(List(Electronics, List(Apple, Gray), 6, Bluetooth Speaker, 149, 3)), 2024-12-25, 38, Shipped, Credit Card, 447, 2024-12-25 22:05:19)</td></tr><tr><td>List(7295, List(List(Electronics, List(Bose, Blue), 7, External Hard Drive, 129, 1)), 2024-12-20, 44, Completed, Credit Card, 129, 2024-12-20 08:05:43)</td></tr><tr><td>List(7803, List(List(Electronics, List(HP, White), 4, Smartwatch, 299, 1), List(Electronics, List(Canon, Blue), 4, Smartwatch, 299, 1), List(Electronics, List(Samsung, White), 6, Bluetooth Speaker, 149, 1)), 2024-12-07, 49, Cancelled, PayPal, 747, 2024-12-07 23:24:11)</td></tr><tr><td>List(2054, List(List(Electronics, List(Bose, Gray), 3, Wireless Headphones, 199, 2)), 2024-12-20, 54, Pending, Credit Card, 398, 2024-12-20 12:04:27)</td></tr><tr><td>List(8580, List(List(Electronics, List(Microsoft, Gray), 1, Smartphone, 699, 1)), 2024-12-09, 58, Completed, PayPal, 699, 2024-12-09 22:40:58)</td></tr><tr><td>List(3409, List(List(Electronics, List(Samsung, Blue), 3, Wireless Headphones, 199, 1)), 2024-12-13, 60, Shipped, Bank Transfer, 199, 2024-12-13 13:10:12)</td></tr><tr><td>List(7123, List(List(Electronics, List(Canon, Black), 1, Smartphone, 699, 1)), 2024-12-07, 61, Completed, Bank Transfer, 699, 2024-12-07 07:47:19)</td></tr><tr><td>List(3084, List(List(Electronics, List(Microsoft, Gray), 5, Tablet, 399, 1)), 2024-12-09, 65, Cancelled, Bank Transfer, 399, 2024-12-09 13:04:13)</td></tr><tr><td>List(3084, List(List(Electronics, List(LG, Blue), 4, Smartwatch, 299, 3)), 2024-12-19, 67, Shipped, PayPal, 897, 2024-12-19 07:11:09)</td></tr><tr><td>List(4973, List(List(Electronics, List(Dell, Gray), 1, Smartphone, 699, 1)), 2024-12-30, 69, Completed, Bank Transfer, 699, 2024-12-30 02:42:01)</td></tr><tr><td>List(7997, List(List(Electronics, List(Sony, Black), 4, Smartwatch, 299, 3)), 2024-12-04, 70, Shipped, PayPal, 897, 2024-12-04 17:17:24)</td></tr><tr><td>List(7997, List(List(Electronics, List(Microsoft, Black), 3, Wireless Headphones, 199, 1)), 2024-12-27, 71, Completed, Bank Transfer, 199, 2024-12-27 11:16:39)</td></tr><tr><td>List(6167, List(List(Electronics, List(Samsung, Blue), 1, Smartphone, 699, 1)), 2024-12-22, 74, Pending, PayPal, 699, 2024-12-22 15:54:11)</td></tr><tr><td>List(9687, List(List(Electronics, List(Samsung, White), 8, Gaming Console, 499, 2)), 2024-12-11, 80, Cancelled, Bank Transfer, 998, 2024-12-11 07:43:54)</td></tr><tr><td>List(9687, List(List(Electronics, List(GoPro, Blue), 1, Smartphone, 699, 1)), 2024-12-27, 81, Completed, PayPal, 699, 2024-12-27 02:27:45)</td></tr><tr><td>List(2344, List(List(Electronics, List(Sony, Blue), 7, External Hard Drive, 129, 3)), 2024-12-28, 82, Completed, PayPal, 387, 2024-12-28 00:54:08)</td></tr><tr><td>List(5592, List(List(Electronics, List(Canon, Silver), 1, Smartphone, 699, 1)), 2024-12-17, 91, Cancelled, Bank Transfer, 699, 2024-12-17 00:09:53)</td></tr><tr><td>List(6627, List(List(Electronics, List(LG, Silver), 4, Smartwatch, 299, 2)), 2024-12-22, 93, Pending, PayPal, 598, 2024-12-22 05:07:46)</td></tr><tr><td>List(6627, List(List(Electronics, List(GoPro, White), 4, Smartwatch, 299, 2), List(Electronics, List(Bose, Gray), 3, Wireless Headphones, 199, 1), List(Electronics, List(Dell, Silver), 6, Bluetooth Speaker, 149, 1)), 2024-12-28, 95, Completed, Bank Transfer, 946, 2024-12-28 04:28:30)</td></tr><tr><td>List(6406, List(List(Electronics, List(Microsoft, Black), 6, Bluetooth Speaker, 149, 1)), 2024-12-02, 96, Shipped, PayPal, 149, 2024-12-02 12:27:45)</td></tr><tr><td>List(6406, List(List(Electronics, List(Sony, Silver), 8, Gaming Console, 499, 1)), 2024-12-07, 97, Completed, Bank Transfer, 499, 2024-12-07 16:14:34)</td></tr><tr><td>List(6973, List(List(Electronics, List(Sony, Blue), 8, Gaming Console, 499, 1)), 2025-01-05, 1, Completed, Bank Transfer, 499, 2025-01-05 10:13:59)</td></tr><tr><td>List(3532, List(List(Electronics, List(Canon, Gray), 4, Smartwatch, 299, 2), List(Electronics, List(Dell, Blue), 7, External Hard Drive, 129, 3)), 2025-01-19, 2, Cancelled, PayPal, 985, 2025-01-19 00:05:13)</td></tr><tr><td>List(3532, List(List(Electronics, List(Apple, White), 3, Wireless Headphones, 199, 3)), 2025-01-08, 3, Completed, Bank Transfer, 597, 2025-01-08 23:11:00)</td></tr><tr><td>List(3532, List(List(Electronics, List(Microsoft, Black), 2, Laptop, 999, 1)), 2025-01-05, 4, Cancelled, Bank Transfer, 999, 2025-01-05 05:49:26)</td></tr><tr><td>List(9179, List(List(Electronics, List(LG, White), 5, Tablet, 399, 1)), 2025-01-02, 8, Completed, PayPal, 399, 2025-01-02 13:11:15)</td></tr><tr><td>List(7207, List(List(Electronics, List(Bose, Blue), 3, Wireless Headphones, 199, 3)), 2025-01-01, 14, Cancelled, PayPal, 597, 2025-01-01 18:22:26)</td></tr><tr><td>List(4468, List(List(Electronics, List(Dell, Black), 10, Drone, 799, 1)), 2025-01-22, 18, Pending, Credit Card, 799, 2025-01-22 21:12:08)</td></tr><tr><td>List(4761, List(List(Electronics, List(HP, Silver), 3, Wireless Headphones, 199, 1)), 2025-01-01, 22, Pending, PayPal, 199, 2025-01-01 15:49:19)</td></tr><tr><td>List(7007, List(List(Electronics, List(Samsung, Silver), 1, Smartphone, 699, 1)), 2025-01-05, 26, Shipped, Bank Transfer, 699, 2025-01-05 19:01:25)</td></tr><tr><td>List(5953, List(List(Electronics, List(Bose, Gray), 7, External Hard Drive, 129, 1), List(Electronics, List(Bose, Gray), 7, External Hard Drive, 129, 1)), 2025-01-18, 29, Pending, Bank Transfer, 129, 2025-01-18 03:05:04)</td></tr><tr><td>List(4996, List(List(Electronics, List(Dell, White), 4, Smartwatch, 299, 1)), 2025-01-18, 31, Shipped, Bank Transfer, 299, 2025-01-18 03:13:29)</td></tr><tr><td>List(9605, List(List(Electronics, List(Canon, White), 4, Smartwatch, 299, 3)), 2025-01-13, 33, Completed, PayPal, 897, 2025-01-13 04:47:43)</td></tr><tr><td>List(9605, List(List(Electronics, List(Bose, Silver), 6, Bluetooth Speaker, 149, 2), List(Electronics, List(LG, Black), 8, Gaming Console, 499, 1), List(Electronics, List(Samsung, Black), 7, External Hard Drive, 129, 1)), 2025-01-21, 34, Cancelled, PayPal, 926, 2025-01-21 00:25:01)</td></tr><tr><td>List(6384, List(List(Electronics, List(Bose, Silver), 6, Bluetooth Speaker, 149, 2)), 2025-01-20, 40, Completed, PayPal, 298, 2025-01-20 16:18:35)</td></tr><tr><td>List(6384, List(List(Electronics, List(Sony, Silver), 2, Laptop, 999, 1)), 2025-01-05, 41, Shipped, Credit Card, 999, 2025-01-05 06:10:22)</td></tr><tr><td>List(5028, List(List(Electronics, List(LG, Black), 8, Gaming Console, 499, 1)), 2025-01-24, 43, Pending, PayPal, 499, 2025-01-24 18:10:37)</td></tr><tr><td>List(3712, List(List(Electronics, List(Apple, Gray), 6, Bluetooth Speaker, 149, 3), List(Electronics, List(Sony, White), 4, Smartwatch, 299, 1)), 2025-01-11, 50, Shipped, Credit Card, 746, 2025-01-11 01:19:09)</td></tr><tr><td>List(8845, List(List(Electronics, List(Samsung, Gray), 6, Bluetooth Speaker, 149, 1)), 2025-01-21, 51, Completed, PayPal, 149, 2025-01-21 13:19:59)</td></tr><tr><td>List(8845, List(List(Electronics, List(Apple, Black), 3, Wireless Headphones, 199, 1)), 2025-01-21, 53, Pending, Bank Transfer, 199, 2025-01-21 08:31:02)</td></tr><tr><td>List(8580, List(List(Electronics, List(HP, Silver), 3, Wireless Headphones, 199, 1), List(Electronics, List(LG, Gray), 8, Gaming Console, 499, 1)), 2025-01-01, 56, Cancelled, PayPal, 698, 2025-01-01 12:02:41)</td></tr><tr><td>List(7123, List(List(Electronics, List(Dell, White), 7, External Hard Drive, 129, 3), List(Electronics, List(GoPro, Blue), 4, Smartwatch, 299, 2)), 2025-01-24, 62, Completed, Bank Transfer, 985, 2025-01-24 12:00:54)</td></tr><tr><td>List(3084, List(List(Electronics, List(Bose, Silver), 4, Smartwatch, 299, 1), List(Electronics, List(GoPro, White), 4, Smartwatch, 299, 1)), 2025-01-17, 66, Cancelled, Credit Card, 598, 2025-01-17 21:16:11)</td></tr><tr><td>List(4973, List(List(Electronics, List(Bose, Gray), 6, Bluetooth Speaker, 149, 1)), 2025-01-10, 68, Completed, Bank Transfer, 149, 2025-01-10 20:35:43)</td></tr><tr><td>List(6167, List(List(Electronics, List(GoPro, Gray), 7, External Hard Drive, 129, 3), List(Electronics, List(GoPro, Gray), 7, External Hard Drive, 129, 3)), 2025-01-07, 73, Shipped, Credit Card, 387, 2025-01-07 01:02:26)</td></tr><tr><td>List(6167, List(List(Electronics, List(GoPro, White), 1, Smartphone, 699, 1)), 2025-01-19, 75, Shipped, Credit Card, 699, 2025-01-19 16:23:16)</td></tr><tr><td>List(3295, List(List(Electronics, List(Microsoft, Silver), 5, Tablet, 399, 1)), 2025-01-06, 76, Completed, Bank Transfer, 399, 2025-01-06 02:54:39)</td></tr><tr><td>List(9084, List(List(Electronics, List(Dell, White), 5, Tablet, 399, 2)), 2025-01-21, 78, Cancelled, PayPal, 798, 2025-01-21 11:42:51)</td></tr><tr><td>List(9084, List(List(Electronics, List(Dell, Gray), 8, Gaming Console, 499, 2)), 2025-01-25, 79, Cancelled, Credit Card, 998, 2025-01-25 03:52:05)</td></tr><tr><td>List(2344, List(List(Electronics, List(Canon, Gray), 7, External Hard Drive, 129, 3), List(Electronics, List(Sony, Black), 3, Wireless Headphones, 199, 2)), 2025-01-07, 83, Shipped, PayPal, 785, 2025-01-07 12:48:05)</td></tr><tr><td>List(2141, List(List(Electronics, List(Apple, Blue), 7, External Hard Drive, 129, 1)), 2025-01-02, 87, Pending, PayPal, 129, 2025-01-02 04:28:38)</td></tr><tr><td>List(9247, List(List(Electronics, List(Canon, White), 7, External Hard Drive, 129, 1), List(Electronics, List(Samsung, Black), 7, External Hard Drive, 129, 1)), 2025-01-17, 90, Pending, Credit Card, 258, 2025-01-17 14:30:54)</td></tr><tr><td>List(6627, List(List(Electronics, List(Sony, Black), 6, Bluetooth Speaker, 149, 2), List(Electronics, List(Apple, Blue), 3, Wireless Headphones, 199, 3)), 2025-01-10, 94, Pending, Credit Card, 895, 2025-01-10 09:51:48)</td></tr><tr><td>List(9150, List(List(Electronics, List(HP, Blue), 7, External Hard Drive, 129, 3), List(Electronics, List(Samsung, Gray), 4, Smartwatch, 299, 2)), 2025-01-08, 98, Completed, Credit Card, 985, 2025-01-08 05:57:55)</td></tr><tr><td>List(9150, List(List(Electronics, List(Bose, Gray), 1, Smartphone, 699, 1)), 2025-01-10, 99, Shipped, Credit Card, 699, 2025-01-10 21:43:46)</td></tr><tr><td>List(9150, List(List(Electronics, List(LG, Silver), 6, Bluetooth Speaker, 149, 3)), 2025-01-04, 100, Shipped, PayPal, 447, 2025-01-04 06:40:13)</td></tr></tbody></table></div>"
      ]
     },
     "metadata": {
      "application/vnd.databricks.v1+output": {
       "addedWidgets": {},
       "aggData": [],
       "aggError": "",
       "aggOverflow": false,
       "aggSchema": [],
       "aggSeriesLimitReached": false,
       "aggType": "",
       "arguments": {},
       "columnCustomDisplayInfos": {},
       "data": [
        [
         [
          1987,
          [
           [
            "Electronics",
            [
             "GoPro",
             "Black"
            ],
            10,
            "Drone",
            799,
            1
           ]
          ],
          "2024-10-28",
          6,
          "Pending",
          "Credit Card",
          799,
          "2024-10-28 04:47:27"
         ]
        ],
        [
         [
          5816,
          [
           [
            "Electronics",
            [
             "GoPro",
             "White"
            ],
            5,
            "Tablet",
            399,
            1
           ]
          ],
          "2024-10-07",
          10,
          "Pending",
          "Credit Card",
          399,
          "2024-10-07 22:09:27"
         ]
        ],
        [
         [
          5816,
          [
           [
            "Electronics",
            [
             "Canon",
             "White"
            ],
            4,
            "Smartwatch",
            299,
            3
           ]
          ],
          "2024-10-13",
          11,
          "Pending",
          "Bank Transfer",
          897,
          "2024-10-13 17:34:19"
         ]
        ],
        [
         [
          7207,
          [
           [
            "Electronics",
            [
             "GoPro",
             "White"
            ],
            9,
            "Smart TV",
            1199,
            1
           ]
          ],
          "2024-10-20",
          15,
          "Completed",
          "Bank Transfer",
          1199,
          "2024-10-20 01:47:25"
         ]
        ],
        [
         [
          8539,
          [
           [
            "Electronics",
            [
             "Dell",
             "Silver"
            ],
            8,
            "Gaming Console",
            499,
            1
           ]
          ],
          "2024-10-13",
          19,
          "Shipped",
          "PayPal",
          499,
          "2024-10-13 12:40:26"
         ]
        ],
        [
         [
          9263,
          [
           [
            "Electronics",
            [
             "Sony",
             "Black"
            ],
            7,
            "External Hard Drive",
            129,
            3
           ]
          ],
          "2024-10-29",
          39,
          "Shipped",
          "PayPal",
          387,
          "2024-10-29 21:39:19"
         ]
        ],
        [
         [
          9018,
          [
           [
            "Electronics",
            [
             "HP",
             "Black"
            ],
            1,
            "Smartphone",
            699,
            1
           ]
          ],
          "2024-10-25",
          55,
          "Shipped",
          "Bank Transfer",
          699,
          "2024-10-25 05:49:16"
         ]
        ],
        [
         [
          3409,
          [
           [
            "Electronics",
            [
             "Dell",
             "Black"
            ],
            8,
            "Gaming Console",
            499,
            1
           ]
          ],
          "2024-10-23",
          59,
          "Pending",
          "PayPal",
          499,
          "2024-10-23 02:51:05"
         ]
        ],
        [
         [
          3889,
          [
           [
            "Electronics",
            [
             "Microsoft",
             "Gray"
            ],
            3,
            "Wireless Headphones",
            199,
            1
           ],
           [
            "Electronics",
            [
             "Samsung",
             "Silver"
            ],
            7,
            "External Hard Drive",
            129,
            1
           ]
          ],
          "2024-10-06",
          72,
          "Cancelled",
          "PayPal",
          328,
          "2024-10-06 10:23:28"
         ]
        ],
        [
         [
          9084,
          [
           [
            "Electronics",
            [
             "HP",
             "Silver"
            ],
            3,
            "Wireless Headphones",
            199,
            2
           ]
          ],
          "2024-10-15",
          77,
          "Pending",
          "Credit Card",
          398,
          "2024-10-15 13:09:33"
         ]
        ],
        [
         [
          2344,
          [
           [
            "Electronics",
            [
             "Sony",
             "Black"
            ],
            10,
            "Drone",
            799,
            1
           ],
           [
            "Electronics",
            [
             "LG",
             "Black"
            ],
            3,
            "Wireless Headphones",
            199,
            1
           ]
          ],
          "2024-10-25",
          84,
          "Completed",
          "PayPal",
          998,
          "2024-10-25 03:37:42"
         ]
        ],
        [
         [
          5011,
          [
           [
            "Electronics",
            [
             "GoPro",
             "Black"
            ],
            8,
            "Gaming Console",
            499,
            2
           ]
          ],
          "2024-10-23",
          85,
          "Shipped",
          "Bank Transfer",
          998,
          "2024-10-23 20:06:42"
         ]
        ],
        [
         [
          5011,
          [
           [
            "Electronics",
            [
             "Dell",
             "White"
            ],
            9,
            "Smart TV",
            1199,
            1
           ]
          ],
          "2024-10-19",
          86,
          "Completed",
          "PayPal",
          1199,
          "2024-10-19 13:30:47"
         ]
        ],
        [
         [
          3892,
          [
           [
            "Electronics",
            [
             "Dell",
             "Blue"
            ],
            8,
            "Gaming Console",
            499,
            2
           ]
          ],
          "2024-11-16",
          5,
          "Cancelled",
          "Bank Transfer",
          998,
          "2024-11-16 23:07:31"
         ]
        ],
        [
         [
          1987,
          [
           [
            "Electronics",
            [
             "LG",
             "Blue"
            ],
            7,
            "External Hard Drive",
            129,
            2
           ],
           [
            "Electronics",
            [
             "HP",
             "Gray"
            ],
            7,
            "External Hard Drive",
            129,
            3
           ]
          ],
          "2024-11-19",
          7,
          "Pending",
          "Credit Card",
          645,
          "2024-11-19 19:18:48"
         ]
        ],
        [
         [
          9179,
          [
           [
            "Electronics",
            [
             "Apple",
             "Black"
            ],
            2,
            "Laptop",
            999,
            1
           ]
          ],
          "2024-11-27",
          9,
          "Shipped",
          "Bank Transfer",
          999,
          "2024-11-27 13:15:29"
         ]
        ],
        [
         [
          8539,
          [
           [
            "Electronics",
            [
             "Sony",
             "Silver"
            ],
            5,
            "Tablet",
            399,
            2
           ]
          ],
          "2024-11-18",
          20,
          "Pending",
          "PayPal",
          798,
          "2024-11-18 02:38:21"
         ]
        ],
        [
         [
          8539,
          [
           [
            "Electronics",
            [
             "GoPro",
             "Blue"
            ],
            6,
            "Bluetooth Speaker",
            149,
            2
           ]
          ],
          "2024-11-21",
          21,
          "Cancelled",
          "Bank Transfer",
          298,
          "2024-11-21 11:25:35"
         ]
        ],
        [
         [
          4761,
          [
           [
            "Electronics",
            [
             "Apple",
             "Gray"
            ],
            5,
            "Tablet",
            399,
            1
           ],
           [
            "Electronics",
            [
             "Dell",
             "Gray"
            ],
            4,
            "Smartwatch",
            299,
            2
           ]
          ],
          "2024-11-22",
          23,
          "Shipped",
          "PayPal",
          997,
          "2024-11-22 16:04:05"
         ]
        ],
        [
         [
          9706,
          [
           [
            "Electronics",
            [
             "LG",
             "Gray"
            ],
            2,
            "Laptop",
            999,
            1
           ]
          ],
          "2024-11-05",
          25,
          "Completed",
          "PayPal",
          999,
          "2024-11-05 11:45:31"
         ]
        ],
        [
         [
          4996,
          [
           [
            "Electronics",
            [
             "GoPro",
             "White"
            ],
            3,
            "Wireless Headphones",
            199,
            1
           ]
          ],
          "2024-11-12",
          30,
          "Shipped",
          "Bank Transfer",
          199,
          "2024-11-12 03:20:29"
         ]
        ],
        [
         [
          4914,
          [
           [
            "Electronics",
            [
             "Dell",
             "Gray"
            ],
            3,
            "Wireless Headphones",
            199,
            1
           ]
          ],
          "2024-11-20",
          35,
          "Shipped",
          "Bank Transfer",
          199,
          "2024-11-20 19:09:04"
         ]
        ],
        [
         [
          4914,
          [
           [
            "Electronics",
            [
             "Canon",
             "Silver"
            ],
            3,
            "Wireless Headphones",
            199,
            1
           ]
          ],
          "2024-11-02",
          36,
          "Completed",
          "PayPal",
          199,
          "2024-11-02 10:39:46"
         ]
        ],
        [
         [
          5028,
          [
           [
            "Electronics",
            [
             "Bose",
             "Gray"
            ],
            6,
            "Bluetooth Speaker",
            149,
            1
           ]
          ],
          "2024-11-08",
          42,
          "Completed",
          "Credit Card",
          149,
          "2024-11-08 18:32:25"
         ]
        ],
        [
         [
          7295,
          [
           [
            "Electronics",
            [
             "Dell",
             "White"
            ],
            10,
            "Drone",
            799,
            1
           ]
          ],
          "2024-11-07",
          45,
          "Shipped",
          "Credit Card",
          799,
          "2024-11-07 15:41:43"
         ]
        ],
        [
         [
          7295,
          [
           [
            "Electronics",
            [
             "Samsung",
             "Black"
            ],
            3,
            "Wireless Headphones",
            199,
            1
           ]
          ],
          "2024-11-26",
          46,
          "Pending",
          "PayPal",
          199,
          "2024-11-26 17:16:53"
         ]
        ],
        [
         [
          7803,
          [
           [
            "Electronics",
            [
             "LG",
             "Blue"
            ],
            6,
            "Bluetooth Speaker",
            149,
            2
           ]
          ],
          "2024-11-22",
          47,
          "Shipped",
          "Credit Card",
          298,
          "2024-11-22 02:01:19"
         ]
        ],
        [
         [
          7803,
          [
           [
            "Electronics",
            [
             "Apple",
             "Black"
            ],
            7,
            "External Hard Drive",
            129,
            3
           ]
          ],
          "2024-11-13",
          48,
          "Completed",
          "PayPal",
          387,
          "2024-11-13 06:35:56"
         ]
        ],
        [
         [
          8845,
          [
           [
            "Electronics",
            [
             "GoPro",
             "White"
            ],
            8,
            "Gaming Console",
            499,
            2
           ]
          ],
          "2024-11-19",
          52,
          "Completed",
          "PayPal",
          998,
          "2024-11-19 21:23:45"
         ]
        ],
        [
         [
          8580,
          [
           [
            "Electronics",
            [
             "HP",
             "Silver"
            ],
            3,
            "Wireless Headphones",
            199,
            1
           ],
           [
            "Electronics",
            [
             "Sony",
             "Silver"
            ],
            7,
            "External Hard Drive",
            129,
            3
           ]
          ],
          "2024-11-19",
          57,
          "Cancelled",
          "Bank Transfer",
          586,
          "2024-11-19 11:32:44"
         ]
        ],
        [
         [
          7123,
          [
           [
            "Electronics",
            [
             "GoPro",
             "Blue"
            ],
            3,
            "Wireless Headphones",
            199,
            1
           ],
           [
            "Electronics",
            [
             "Bose",
             "Silver"
            ],
            6,
            "Bluetooth Speaker",
            149,
            3
           ]
          ],
          "2024-11-24",
          63,
          "Cancelled",
          "Bank Transfer",
          646,
          "2024-11-24 08:41:28"
         ]
        ],
        [
         [
          2639,
          [
           [
            "Electronics",
            [
             "Microsoft",
             "White"
            ],
            7,
            "External Hard Drive",
            129,
            3
           ],
           [
            "Electronics",
            [
             "Canon",
             "Blue"
            ],
            3,
            "Wireless Headphones",
            199,
            3
           ]
          ],
          "2024-11-28",
          64,
          "Completed",
          "Bank Transfer",
          984,
          "2024-11-28 12:23:21"
         ]
        ],
        [
         [
          9247,
          [
           [
            "Electronics",
            [
             "Bose",
             "White"
            ],
            7,
            "External Hard Drive",
            129,
            3
           ]
          ],
          "2024-11-15",
          88,
          "Cancelled",
          "Bank Transfer",
          387,
          "2024-11-15 11:39:44"
         ]
        ],
        [
         [
          9247,
          [
           [
            "Electronics",
            [
             "GoPro",
             "Silver"
            ],
            6,
            "Bluetooth Speaker",
            149,
            1
           ]
          ],
          "2024-11-22",
          89,
          "Cancelled",
          "Bank Transfer",
          149,
          "2024-11-22 12:09:15"
         ]
        ],
        [
         [
          5592,
          [
           [
            "Electronics",
            [
             "Sony",
             "Black"
            ],
            7,
            "External Hard Drive",
            129,
            2
           ]
          ],
          "2024-11-24",
          92,
          "Shipped",
          "PayPal",
          258,
          "2024-11-24 23:33:21"
         ]
        ],
        [
         [
          5816,
          [
           [
            "Electronics",
            [
             "Sony",
             "White"
            ],
            2,
            "Laptop",
            999,
            1
           ]
          ],
          "2024-12-06",
          12,
          "Cancelled",
          "PayPal",
          999,
          "2024-12-06 20:26:49"
         ]
        ],
        [
         [
          4858,
          [
           [
            "Electronics",
            [
             "GoPro",
             "Black"
            ],
            2,
            "Laptop",
            999,
            1
           ]
          ],
          "2024-12-17",
          13,
          "Pending",
          "PayPal",
          999,
          "2024-12-17 03:41:37"
         ]
        ],
        [
         [
          5204,
          [
           [
            "Electronics",
            [
             "Sony",
             "Silver"
            ],
            3,
            "Wireless Headphones",
            199,
            3
           ]
          ],
          "2024-12-08",
          16,
          "Pending",
          "Bank Transfer",
          597,
          "2024-12-08 22:59:48"
         ]
        ],
        [
         [
          5204,
          [
           [
            "Electronics",
            [
             "Dell",
             "Black"
            ],
            8,
            "Gaming Console",
            499,
            2
           ]
          ],
          "2024-12-02",
          17,
          "Pending",
          "Bank Transfer",
          998,
          "2024-12-02 12:00:50"
         ]
        ],
        [
         [
          1211,
          [
           [
            "Electronics",
            [
             "GoPro",
             "Gray"
            ],
            9,
            "Smart TV",
            1199,
            1
           ]
          ],
          "2024-12-21",
          24,
          "Completed",
          "PayPal",
          1199,
          "2024-12-21 03:24:26"
         ]
        ],
        [
         [
          2703,
          [
           [
            "Electronics",
            [
             "Dell",
             "White"
            ],
            7,
            "External Hard Drive",
            129,
            2
           ],
           [
            "Electronics",
            [
             "Canon",
             "Black"
            ],
            6,
            "Bluetooth Speaker",
            149,
            3
           ],
           [
            "Electronics",
            [
             "Microsoft",
             "Silver"
            ],
            3,
            "Wireless Headphones",
            199,
            1
           ]
          ],
          "2024-12-02",
          27,
          "Completed",
          "Credit Card",
          904,
          "2024-12-02 11:24:21"
         ]
        ],
        [
         [
          2703,
          [
           [
            "Electronics",
            [
             "GoPro",
             "Blue"
            ],
            7,
            "External Hard Drive",
            129,
            1
           ]
          ],
          "2024-12-26",
          28,
          "Cancelled",
          "Credit Card",
          129,
          "2024-12-26 03:17:50"
         ]
        ],
        [
         [
          4996,
          [
           [
            "Electronics",
            [
             "Apple",
             "Silver"
            ],
            5,
            "Tablet",
            399,
            1
           ]
          ],
          "2024-12-28",
          32,
          "Pending",
          "PayPal",
          399,
          "2024-12-28 08:55:57"
         ]
        ],
        [
         [
          7829,
          [
           [
            "Electronics",
            [
             "HP",
             "Silver"
            ],
            7,
            "External Hard Drive",
            129,
            2
           ]
          ],
          "2024-12-22",
          37,
          "Shipped",
          "Credit Card",
          258,
          "2024-12-22 10:11:49"
         ]
        ],
        [
         [
          7829,
          [
           [
            "Electronics",
            [
             "Apple",
             "Gray"
            ],
            6,
            "Bluetooth Speaker",
            149,
            3
           ]
          ],
          "2024-12-25",
          38,
          "Shipped",
          "Credit Card",
          447,
          "2024-12-25 22:05:19"
         ]
        ],
        [
         [
          7295,
          [
           [
            "Electronics",
            [
             "Bose",
             "Blue"
            ],
            7,
            "External Hard Drive",
            129,
            1
           ]
          ],
          "2024-12-20",
          44,
          "Completed",
          "Credit Card",
          129,
          "2024-12-20 08:05:43"
         ]
        ],
        [
         [
          7803,
          [
           [
            "Electronics",
            [
             "HP",
             "White"
            ],
            4,
            "Smartwatch",
            299,
            1
           ],
           [
            "Electronics",
            [
             "Canon",
             "Blue"
            ],
            4,
            "Smartwatch",
            299,
            1
           ],
           [
            "Electronics",
            [
             "Samsung",
             "White"
            ],
            6,
            "Bluetooth Speaker",
            149,
            1
           ]
          ],
          "2024-12-07",
          49,
          "Cancelled",
          "PayPal",
          747,
          "2024-12-07 23:24:11"
         ]
        ],
        [
         [
          2054,
          [
           [
            "Electronics",
            [
             "Bose",
             "Gray"
            ],
            3,
            "Wireless Headphones",
            199,
            2
           ]
          ],
          "2024-12-20",
          54,
          "Pending",
          "Credit Card",
          398,
          "2024-12-20 12:04:27"
         ]
        ],
        [
         [
          8580,
          [
           [
            "Electronics",
            [
             "Microsoft",
             "Gray"
            ],
            1,
            "Smartphone",
            699,
            1
           ]
          ],
          "2024-12-09",
          58,
          "Completed",
          "PayPal",
          699,
          "2024-12-09 22:40:58"
         ]
        ],
        [
         [
          3409,
          [
           [
            "Electronics",
            [
             "Samsung",
             "Blue"
            ],
            3,
            "Wireless Headphones",
            199,
            1
           ]
          ],
          "2024-12-13",
          60,
          "Shipped",
          "Bank Transfer",
          199,
          "2024-12-13 13:10:12"
         ]
        ],
        [
         [
          7123,
          [
           [
            "Electronics",
            [
             "Canon",
             "Black"
            ],
            1,
            "Smartphone",
            699,
            1
           ]
          ],
          "2024-12-07",
          61,
          "Completed",
          "Bank Transfer",
          699,
          "2024-12-07 07:47:19"
         ]
        ],
        [
         [
          3084,
          [
           [
            "Electronics",
            [
             "Microsoft",
             "Gray"
            ],
            5,
            "Tablet",
            399,
            1
           ]
          ],
          "2024-12-09",
          65,
          "Cancelled",
          "Bank Transfer",
          399,
          "2024-12-09 13:04:13"
         ]
        ],
        [
         [
          3084,
          [
           [
            "Electronics",
            [
             "LG",
             "Blue"
            ],
            4,
            "Smartwatch",
            299,
            3
           ]
          ],
          "2024-12-19",
          67,
          "Shipped",
          "PayPal",
          897,
          "2024-12-19 07:11:09"
         ]
        ],
        [
         [
          4973,
          [
           [
            "Electronics",
            [
             "Dell",
             "Gray"
            ],
            1,
            "Smartphone",
            699,
            1
           ]
          ],
          "2024-12-30",
          69,
          "Completed",
          "Bank Transfer",
          699,
          "2024-12-30 02:42:01"
         ]
        ],
        [
         [
          7997,
          [
           [
            "Electronics",
            [
             "Sony",
             "Black"
            ],
            4,
            "Smartwatch",
            299,
            3
           ]
          ],
          "2024-12-04",
          70,
          "Shipped",
          "PayPal",
          897,
          "2024-12-04 17:17:24"
         ]
        ],
        [
         [
          7997,
          [
           [
            "Electronics",
            [
             "Microsoft",
             "Black"
            ],
            3,
            "Wireless Headphones",
            199,
            1
           ]
          ],
          "2024-12-27",
          71,
          "Completed",
          "Bank Transfer",
          199,
          "2024-12-27 11:16:39"
         ]
        ],
        [
         [
          6167,
          [
           [
            "Electronics",
            [
             "Samsung",
             "Blue"
            ],
            1,
            "Smartphone",
            699,
            1
           ]
          ],
          "2024-12-22",
          74,
          "Pending",
          "PayPal",
          699,
          "2024-12-22 15:54:11"
         ]
        ],
        [
         [
          9687,
          [
           [
            "Electronics",
            [
             "Samsung",
             "White"
            ],
            8,
            "Gaming Console",
            499,
            2
           ]
          ],
          "2024-12-11",
          80,
          "Cancelled",
          "Bank Transfer",
          998,
          "2024-12-11 07:43:54"
         ]
        ],
        [
         [
          9687,
          [
           [
            "Electronics",
            [
             "GoPro",
             "Blue"
            ],
            1,
            "Smartphone",
            699,
            1
           ]
          ],
          "2024-12-27",
          81,
          "Completed",
          "PayPal",
          699,
          "2024-12-27 02:27:45"
         ]
        ],
        [
         [
          2344,
          [
           [
            "Electronics",
            [
             "Sony",
             "Blue"
            ],
            7,
            "External Hard Drive",
            129,
            3
           ]
          ],
          "2024-12-28",
          82,
          "Completed",
          "PayPal",
          387,
          "2024-12-28 00:54:08"
         ]
        ],
        [
         [
          5592,
          [
           [
            "Electronics",
            [
             "Canon",
             "Silver"
            ],
            1,
            "Smartphone",
            699,
            1
           ]
          ],
          "2024-12-17",
          91,
          "Cancelled",
          "Bank Transfer",
          699,
          "2024-12-17 00:09:53"
         ]
        ],
        [
         [
          6627,
          [
           [
            "Electronics",
            [
             "LG",
             "Silver"
            ],
            4,
            "Smartwatch",
            299,
            2
           ]
          ],
          "2024-12-22",
          93,
          "Pending",
          "PayPal",
          598,
          "2024-12-22 05:07:46"
         ]
        ],
        [
         [
          6627,
          [
           [
            "Electronics",
            [
             "GoPro",
             "White"
            ],
            4,
            "Smartwatch",
            299,
            2
           ],
           [
            "Electronics",
            [
             "Bose",
             "Gray"
            ],
            3,
            "Wireless Headphones",
            199,
            1
           ],
           [
            "Electronics",
            [
             "Dell",
             "Silver"
            ],
            6,
            "Bluetooth Speaker",
            149,
            1
           ]
          ],
          "2024-12-28",
          95,
          "Completed",
          "Bank Transfer",
          946,
          "2024-12-28 04:28:30"
         ]
        ],
        [
         [
          6406,
          [
           [
            "Electronics",
            [
             "Microsoft",
             "Black"
            ],
            6,
            "Bluetooth Speaker",
            149,
            1
           ]
          ],
          "2024-12-02",
          96,
          "Shipped",
          "PayPal",
          149,
          "2024-12-02 12:27:45"
         ]
        ],
        [
         [
          6406,
          [
           [
            "Electronics",
            [
             "Sony",
             "Silver"
            ],
            8,
            "Gaming Console",
            499,
            1
           ]
          ],
          "2024-12-07",
          97,
          "Completed",
          "Bank Transfer",
          499,
          "2024-12-07 16:14:34"
         ]
        ],
        [
         [
          6973,
          [
           [
            "Electronics",
            [
             "Sony",
             "Blue"
            ],
            8,
            "Gaming Console",
            499,
            1
           ]
          ],
          "2025-01-05",
          1,
          "Completed",
          "Bank Transfer",
          499,
          "2025-01-05 10:13:59"
         ]
        ],
        [
         [
          3532,
          [
           [
            "Electronics",
            [
             "Canon",
             "Gray"
            ],
            4,
            "Smartwatch",
            299,
            2
           ],
           [
            "Electronics",
            [
             "Dell",
             "Blue"
            ],
            7,
            "External Hard Drive",
            129,
            3
           ]
          ],
          "2025-01-19",
          2,
          "Cancelled",
          "PayPal",
          985,
          "2025-01-19 00:05:13"
         ]
        ],
        [
         [
          3532,
          [
           [
            "Electronics",
            [
             "Apple",
             "White"
            ],
            3,
            "Wireless Headphones",
            199,
            3
           ]
          ],
          "2025-01-08",
          3,
          "Completed",
          "Bank Transfer",
          597,
          "2025-01-08 23:11:00"
         ]
        ],
        [
         [
          3532,
          [
           [
            "Electronics",
            [
             "Microsoft",
             "Black"
            ],
            2,
            "Laptop",
            999,
            1
           ]
          ],
          "2025-01-05",
          4,
          "Cancelled",
          "Bank Transfer",
          999,
          "2025-01-05 05:49:26"
         ]
        ],
        [
         [
          9179,
          [
           [
            "Electronics",
            [
             "LG",
             "White"
            ],
            5,
            "Tablet",
            399,
            1
           ]
          ],
          "2025-01-02",
          8,
          "Completed",
          "PayPal",
          399,
          "2025-01-02 13:11:15"
         ]
        ],
        [
         [
          7207,
          [
           [
            "Electronics",
            [
             "Bose",
             "Blue"
            ],
            3,
            "Wireless Headphones",
            199,
            3
           ]
          ],
          "2025-01-01",
          14,
          "Cancelled",
          "PayPal",
          597,
          "2025-01-01 18:22:26"
         ]
        ],
        [
         [
          4468,
          [
           [
            "Electronics",
            [
             "Dell",
             "Black"
            ],
            10,
            "Drone",
            799,
            1
           ]
          ],
          "2025-01-22",
          18,
          "Pending",
          "Credit Card",
          799,
          "2025-01-22 21:12:08"
         ]
        ],
        [
         [
          4761,
          [
           [
            "Electronics",
            [
             "HP",
             "Silver"
            ],
            3,
            "Wireless Headphones",
            199,
            1
           ]
          ],
          "2025-01-01",
          22,
          "Pending",
          "PayPal",
          199,
          "2025-01-01 15:49:19"
         ]
        ],
        [
         [
          7007,
          [
           [
            "Electronics",
            [
             "Samsung",
             "Silver"
            ],
            1,
            "Smartphone",
            699,
            1
           ]
          ],
          "2025-01-05",
          26,
          "Shipped",
          "Bank Transfer",
          699,
          "2025-01-05 19:01:25"
         ]
        ],
        [
         [
          5953,
          [
           [
            "Electronics",
            [
             "Bose",
             "Gray"
            ],
            7,
            "External Hard Drive",
            129,
            1
           ],
           [
            "Electronics",
            [
             "Bose",
             "Gray"
            ],
            7,
            "External Hard Drive",
            129,
            1
           ]
          ],
          "2025-01-18",
          29,
          "Pending",
          "Bank Transfer",
          129,
          "2025-01-18 03:05:04"
         ]
        ],
        [
         [
          4996,
          [
           [
            "Electronics",
            [
             "Dell",
             "White"
            ],
            4,
            "Smartwatch",
            299,
            1
           ]
          ],
          "2025-01-18",
          31,
          "Shipped",
          "Bank Transfer",
          299,
          "2025-01-18 03:13:29"
         ]
        ],
        [
         [
          9605,
          [
           [
            "Electronics",
            [
             "Canon",
             "White"
            ],
            4,
            "Smartwatch",
            299,
            3
           ]
          ],
          "2025-01-13",
          33,
          "Completed",
          "PayPal",
          897,
          "2025-01-13 04:47:43"
         ]
        ],
        [
         [
          9605,
          [
           [
            "Electronics",
            [
             "Bose",
             "Silver"
            ],
            6,
            "Bluetooth Speaker",
            149,
            2
           ],
           [
            "Electronics",
            [
             "LG",
             "Black"
            ],
            8,
            "Gaming Console",
            499,
            1
           ],
           [
            "Electronics",
            [
             "Samsung",
             "Black"
            ],
            7,
            "External Hard Drive",
            129,
            1
           ]
          ],
          "2025-01-21",
          34,
          "Cancelled",
          "PayPal",
          926,
          "2025-01-21 00:25:01"
         ]
        ],
        [
         [
          6384,
          [
           [
            "Electronics",
            [
             "Bose",
             "Silver"
            ],
            6,
            "Bluetooth Speaker",
            149,
            2
           ]
          ],
          "2025-01-20",
          40,
          "Completed",
          "PayPal",
          298,
          "2025-01-20 16:18:35"
         ]
        ],
        [
         [
          6384,
          [
           [
            "Electronics",
            [
             "Sony",
             "Silver"
            ],
            2,
            "Laptop",
            999,
            1
           ]
          ],
          "2025-01-05",
          41,
          "Shipped",
          "Credit Card",
          999,
          "2025-01-05 06:10:22"
         ]
        ],
        [
         [
          5028,
          [
           [
            "Electronics",
            [
             "LG",
             "Black"
            ],
            8,
            "Gaming Console",
            499,
            1
           ]
          ],
          "2025-01-24",
          43,
          "Pending",
          "PayPal",
          499,
          "2025-01-24 18:10:37"
         ]
        ],
        [
         [
          3712,
          [
           [
            "Electronics",
            [
             "Apple",
             "Gray"
            ],
            6,
            "Bluetooth Speaker",
            149,
            3
           ],
           [
            "Electronics",
            [
             "Sony",
             "White"
            ],
            4,
            "Smartwatch",
            299,
            1
           ]
          ],
          "2025-01-11",
          50,
          "Shipped",
          "Credit Card",
          746,
          "2025-01-11 01:19:09"
         ]
        ],
        [
         [
          8845,
          [
           [
            "Electronics",
            [
             "Samsung",
             "Gray"
            ],
            6,
            "Bluetooth Speaker",
            149,
            1
           ]
          ],
          "2025-01-21",
          51,
          "Completed",
          "PayPal",
          149,
          "2025-01-21 13:19:59"
         ]
        ],
        [
         [
          8845,
          [
           [
            "Electronics",
            [
             "Apple",
             "Black"
            ],
            3,
            "Wireless Headphones",
            199,
            1
           ]
          ],
          "2025-01-21",
          53,
          "Pending",
          "Bank Transfer",
          199,
          "2025-01-21 08:31:02"
         ]
        ],
        [
         [
          8580,
          [
           [
            "Electronics",
            [
             "HP",
             "Silver"
            ],
            3,
            "Wireless Headphones",
            199,
            1
           ],
           [
            "Electronics",
            [
             "LG",
             "Gray"
            ],
            8,
            "Gaming Console",
            499,
            1
           ]
          ],
          "2025-01-01",
          56,
          "Cancelled",
          "PayPal",
          698,
          "2025-01-01 12:02:41"
         ]
        ],
        [
         [
          7123,
          [
           [
            "Electronics",
            [
             "Dell",
             "White"
            ],
            7,
            "External Hard Drive",
            129,
            3
           ],
           [
            "Electronics",
            [
             "GoPro",
             "Blue"
            ],
            4,
            "Smartwatch",
            299,
            2
           ]
          ],
          "2025-01-24",
          62,
          "Completed",
          "Bank Transfer",
          985,
          "2025-01-24 12:00:54"
         ]
        ],
        [
         [
          3084,
          [
           [
            "Electronics",
            [
             "Bose",
             "Silver"
            ],
            4,
            "Smartwatch",
            299,
            1
           ],
           [
            "Electronics",
            [
             "GoPro",
             "White"
            ],
            4,
            "Smartwatch",
            299,
            1
           ]
          ],
          "2025-01-17",
          66,
          "Cancelled",
          "Credit Card",
          598,
          "2025-01-17 21:16:11"
         ]
        ],
        [
         [
          4973,
          [
           [
            "Electronics",
            [
             "Bose",
             "Gray"
            ],
            6,
            "Bluetooth Speaker",
            149,
            1
           ]
          ],
          "2025-01-10",
          68,
          "Completed",
          "Bank Transfer",
          149,
          "2025-01-10 20:35:43"
         ]
        ],
        [
         [
          6167,
          [
           [
            "Electronics",
            [
             "GoPro",
             "Gray"
            ],
            7,
            "External Hard Drive",
            129,
            3
           ],
           [
            "Electronics",
            [
             "GoPro",
             "Gray"
            ],
            7,
            "External Hard Drive",
            129,
            3
           ]
          ],
          "2025-01-07",
          73,
          "Shipped",
          "Credit Card",
          387,
          "2025-01-07 01:02:26"
         ]
        ],
        [
         [
          6167,
          [
           [
            "Electronics",
            [
             "GoPro",
             "White"
            ],
            1,
            "Smartphone",
            699,
            1
           ]
          ],
          "2025-01-19",
          75,
          "Shipped",
          "Credit Card",
          699,
          "2025-01-19 16:23:16"
         ]
        ],
        [
         [
          3295,
          [
           [
            "Electronics",
            [
             "Microsoft",
             "Silver"
            ],
            5,
            "Tablet",
            399,
            1
           ]
          ],
          "2025-01-06",
          76,
          "Completed",
          "Bank Transfer",
          399,
          "2025-01-06 02:54:39"
         ]
        ],
        [
         [
          9084,
          [
           [
            "Electronics",
            [
             "Dell",
             "White"
            ],
            5,
            "Tablet",
            399,
            2
           ]
          ],
          "2025-01-21",
          78,
          "Cancelled",
          "PayPal",
          798,
          "2025-01-21 11:42:51"
         ]
        ],
        [
         [
          9084,
          [
           [
            "Electronics",
            [
             "Dell",
             "Gray"
            ],
            8,
            "Gaming Console",
            499,
            2
           ]
          ],
          "2025-01-25",
          79,
          "Cancelled",
          "Credit Card",
          998,
          "2025-01-25 03:52:05"
         ]
        ],
        [
         [
          2344,
          [
           [
            "Electronics",
            [
             "Canon",
             "Gray"
            ],
            7,
            "External Hard Drive",
            129,
            3
           ],
           [
            "Electronics",
            [
             "Sony",
             "Black"
            ],
            3,
            "Wireless Headphones",
            199,
            2
           ]
          ],
          "2025-01-07",
          83,
          "Shipped",
          "PayPal",
          785,
          "2025-01-07 12:48:05"
         ]
        ],
        [
         [
          2141,
          [
           [
            "Electronics",
            [
             "Apple",
             "Blue"
            ],
            7,
            "External Hard Drive",
            129,
            1
           ]
          ],
          "2025-01-02",
          87,
          "Pending",
          "PayPal",
          129,
          "2025-01-02 04:28:38"
         ]
        ],
        [
         [
          9247,
          [
           [
            "Electronics",
            [
             "Canon",
             "White"
            ],
            7,
            "External Hard Drive",
            129,
            1
           ],
           [
            "Electronics",
            [
             "Samsung",
             "Black"
            ],
            7,
            "External Hard Drive",
            129,
            1
           ]
          ],
          "2025-01-17",
          90,
          "Pending",
          "Credit Card",
          258,
          "2025-01-17 14:30:54"
         ]
        ],
        [
         [
          6627,
          [
           [
            "Electronics",
            [
             "Sony",
             "Black"
            ],
            6,
            "Bluetooth Speaker",
            149,
            2
           ],
           [
            "Electronics",
            [
             "Apple",
             "Blue"
            ],
            3,
            "Wireless Headphones",
            199,
            3
           ]
          ],
          "2025-01-10",
          94,
          "Pending",
          "Credit Card",
          895,
          "2025-01-10 09:51:48"
         ]
        ],
        [
         [
          9150,
          [
           [
            "Electronics",
            [
             "HP",
             "Blue"
            ],
            7,
            "External Hard Drive",
            129,
            3
           ],
           [
            "Electronics",
            [
             "Samsung",
             "Gray"
            ],
            4,
            "Smartwatch",
            299,
            2
           ]
          ],
          "2025-01-08",
          98,
          "Completed",
          "Credit Card",
          985,
          "2025-01-08 05:57:55"
         ]
        ],
        [
         [
          9150,
          [
           [
            "Electronics",
            [
             "Bose",
             "Gray"
            ],
            1,
            "Smartphone",
            699,
            1
           ]
          ],
          "2025-01-10",
          99,
          "Shipped",
          "Credit Card",
          699,
          "2025-01-10 21:43:46"
         ]
        ],
        [
         [
          9150,
          [
           [
            "Electronics",
            [
             "LG",
             "Silver"
            ],
            6,
            "Bluetooth Speaker",
            149,
            3
           ]
          ],
          "2025-01-04",
          100,
          "Shipped",
          "PayPal",
          447,
          "2025-01-04 06:40:13"
         ]
        ]
       ],
       "datasetInfos": [
        {
         "name": "_sqldf",
         "schema": {
          "fields": [
           {
            "metadata": {},
            "name": "json_value",
            "nullable": true,
            "type": {
             "fields": [
              {
               "metadata": {},
               "name": "customer_id",
               "nullable": true,
               "type": "long"
              },
              {
               "metadata": {},
               "name": "items",
               "nullable": true,
               "type": {
                "containsNull": true,
                "elementType": {
                 "fields": [
                  {
                   "metadata": {},
                   "name": "category",
                   "nullable": true,
                   "type": "string"
                  },
                  {
                   "metadata": {},
                   "name": "details",
                   "nullable": true,
                   "type": {
                    "fields": [
                     {
                      "metadata": {},
                      "name": "brand",
                      "nullable": true,
                      "type": "string"
                     },
                     {
                      "metadata": {},
                      "name": "color",
                      "nullable": true,
                      "type": "string"
                     }
                    ],
                    "type": "struct"
                   }
                  },
                  {
                   "metadata": {},
                   "name": "item_id",
                   "nullable": true,
                   "type": "long"
                  },
                  {
                   "metadata": {},
                   "name": "name",
                   "nullable": true,
                   "type": "string"
                  },
                  {
                   "metadata": {},
                   "name": "price",
                   "nullable": true,
                   "type": "long"
                  },
                  {
                   "metadata": {},
                   "name": "quantity",
                   "nullable": true,
                   "type": "long"
                  }
                 ],
                 "type": "struct"
                },
                "type": "array"
               }
              },
              {
               "metadata": {},
               "name": "order_date",
               "nullable": true,
               "type": "string"
              },
              {
               "metadata": {},
               "name": "order_id",
               "nullable": true,
               "type": "long"
              },
              {
               "metadata": {},
               "name": "order_status",
               "nullable": true,
               "type": "string"
              },
              {
               "metadata": {},
               "name": "payment_method",
               "nullable": true,
               "type": "string"
              },
              {
               "metadata": {},
               "name": "total_amount",
               "nullable": true,
               "type": "long"
              },
              {
               "metadata": {},
               "name": "transaction_timestamp",
               "nullable": true,
               "type": "string"
              }
             ],
             "type": "struct"
            }
           }
          ],
          "type": "struct"
         },
         "tableIdentifier": null,
         "typeStr": "pyspark.sql.connect.dataframe.DataFrame"
        }
       ],
       "dbfsResultPath": null,
       "isJsonSchema": true,
       "metadata": {
        "createTempViewForImplicitDf": true,
        "dataframeName": "_sqldf",
        "executionCount": 45
       },
       "overflow": false,
       "plotOptions": {
        "customPlotOptions": {},
        "displayType": "table",
        "pivotAggregation": null,
        "pivotColumns": null,
        "xColumns": null,
        "yColumns": null
       },
       "removedWidgets": [],
       "schema": [
        {
         "metadata": "{}",
         "name": "json_value",
         "type": "{\"fields\":[{\"metadata\":{},\"name\":\"customer_id\",\"nullable\":true,\"type\":\"long\"},{\"metadata\":{},\"name\":\"items\",\"nullable\":true,\"type\":{\"containsNull\":true,\"elementType\":{\"fields\":[{\"metadata\":{},\"name\":\"category\",\"nullable\":true,\"type\":\"string\"},{\"metadata\":{},\"name\":\"details\",\"nullable\":true,\"type\":{\"fields\":[{\"metadata\":{},\"name\":\"brand\",\"nullable\":true,\"type\":\"string\"},{\"metadata\":{},\"name\":\"color\",\"nullable\":true,\"type\":\"string\"}],\"type\":\"struct\"}},{\"metadata\":{},\"name\":\"item_id\",\"nullable\":true,\"type\":\"long\"},{\"metadata\":{},\"name\":\"name\",\"nullable\":true,\"type\":\"string\"},{\"metadata\":{},\"name\":\"price\",\"nullable\":true,\"type\":\"long\"},{\"metadata\":{},\"name\":\"quantity\",\"nullable\":true,\"type\":\"long\"}],\"type\":\"struct\"},\"type\":\"array\"}},{\"metadata\":{},\"name\":\"order_date\",\"nullable\":true,\"type\":\"string\"},{\"metadata\":{},\"name\":\"order_id\",\"nullable\":true,\"type\":\"long\"},{\"metadata\":{},\"name\":\"order_status\",\"nullable\":true,\"type\":\"string\"},{\"metadata\":{},\"name\":\"payment_method\",\"nullable\":true,\"type\":\"string\"},{\"metadata\":{},\"name\":\"total_amount\",\"nullable\":true,\"type\":\"long\"},{\"metadata\":{},\"name\":\"transaction_timestamp\",\"nullable\":true,\"type\":\"string\"}],\"type\":\"struct\"}"
        }
       ],
       "type": "table"
      }
     },
     "output_type": "display_data"
    }
   ],
   "source": [
    "%sql\n",
    "SELECT * FROM gizmobox.silver.orders_json"
   ]
  }
 ],
 "metadata": {
  "application/vnd.databricks.v1+notebook": {
   "computePreferences": null,
   "dashboards": [],
   "environmentMetadata": {
    "base_environment": "",
    "environment_version": "3"
   },
   "inputWidgetPreferences": null,
   "language": "python",
   "notebookMetadata": {
    "mostRecentlyExecutedCommandWithImplicitDF": {
     "commandId": 6395036089896639,
     "dataframes": [
      "_sqldf"
     ]
    },
    "pythonIndentUnit": 4
   },
   "notebookName": "15-Transform-Orders-Data-String-TO-JSON",
   "widgets": {}
  },
  "language_info": {
   "name": "python"
  }
 },
 "nbformat": 4,
 "nbformat_minor": 0
}
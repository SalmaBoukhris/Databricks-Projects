{
 "cells": [
  {
   "cell_type": "markdown",
   "metadata": {
    "application/vnd.databricks.v1+cell": {
     "cellMetadata": {},
     "inputWidgets": {},
     "nuid": "55dd22fb-430b-48e5-8af5-5e70534c7293",
     "showTitle": false,
     "tableResultSettingsMap": {},
     "title": ""
    }
   },
   "source": [
    "## Transform Refunds Data"
   ]
  },
  {
   "cell_type": "markdown",
   "metadata": {
    "application/vnd.databricks.v1+cell": {
     "cellMetadata": {},
     "inputWidgets": {},
     "nuid": "4ba18548-1c25-4ff9-af52-0b36518194e6",
     "showTitle": false,
     "tableResultSettingsMap": {},
     "title": ""
    }
   },
   "source": [
    "#### 1-Extract specific portion of the string from refund_reason using spilt function "
   ]
  },
  {
   "cell_type": "code",
   "execution_count": 0,
   "metadata": {
    "application/vnd.databricks.v1+cell": {
     "cellMetadata": {},
     "inputWidgets": {},
     "nuid": "a696b355-1e57-4245-8c8b-1623af8ca411",
     "showTitle": false,
     "tableResultSettingsMap": {},
     "title": ""
    }
   },
   "outputs": [],
   "source": [
    "%sql\n",
    "select refund_id,\n",
    "       payment_id,\n",
    "       order_id,\n",
    "       refund_timestamp,\n",
    "       refund_amount,\n",
    "       refund_reason\n",
    "  from hive_metastore.bronze.refunds;"
   ]
  },
  {
   "cell_type": "code",
   "execution_count": 0,
   "metadata": {
    "application/vnd.databricks.v1+cell": {
     "cellMetadata": {
      "byteLimit": 2048000,
      "implicitDf": true,
      "rowLimit": 10000
     },
     "inputWidgets": {},
     "nuid": "19409907-4286-4e52-b69d-4c997014834d",
     "showTitle": false,
     "tableResultSettingsMap": {},
     "title": ""
    }
   },
   "outputs": [
    {
     "output_type": "display_data",
     "data": {
      "text/html": [
       "<style scoped>\n",
       "  .table-result-container {\n",
       "    max-height: 300px;\n",
       "    overflow: auto;\n",
       "  }\n",
       "  table, th, td {\n",
       "    border: 1px solid black;\n",
       "    border-collapse: collapse;\n",
       "  }\n",
       "  th, td {\n",
       "    padding: 5px;\n",
       "  }\n",
       "  th {\n",
       "    text-align: left;\n",
       "  }\n",
       "</style><div class='table-result-container'><table class='table-result'><thead style='background-color: white'><tr><th>refund_id</th><th>payment_id</th><th>refund_timestamp</th><th>refund_amount</th><th>refund_reason</th></tr></thead><tbody><tr><td>1</td><td>66</td><td>2025-01-10T11:30:00.000Z</td><td>85.75</td><td>Payment Error:Retailer</td></tr><tr><td>2</td><td>69</td><td>2025-01-01T12:40:15.000Z</td><td>120.50</td><td>Order Cancelled:Customer</td></tr><tr><td>3</td><td>72</td><td>2025-01-06T14:45:30.000Z</td><td>65.00</td><td>Product Returned:Customer</td></tr><tr><td>4</td><td>73</td><td>2025-01-07T16:10:45.000Z</td><td>210.99</td><td>Order Cancelled:Customer</td></tr><tr><td>5</td><td>75</td><td>2025-01-09T18:25:00.000Z</td><td>45.20</td><td>Payment Error:Retailer</td></tr><tr><td>6</td><td>80</td><td>2025-01-10T09:35:20.000Z</td><td>130.15</td><td>Order Cancelled:Customer</td></tr><tr><td>7</td><td>83</td><td>2025-01-12T11:20:40.000Z</td><td>100.00</td><td>Product Returned:Customer</td></tr><tr><td>8</td><td>85</td><td>2025-01-14T13:15:30.000Z</td><td>89.99</td><td>Order Cancelled:Customer</td></tr><tr><td>9</td><td>89</td><td>2025-01-15T15:00:00.000Z</td><td>78.50</td><td>Payment Error:Retailer</td></tr><tr><td>10</td><td>91</td><td>2025-01-17T16:45:15.000Z</td><td>250.75</td><td>Product Returned:Customer</td></tr></tbody></table></div>"
      ]
     },
     "metadata": {
      "application/vnd.databricks.v1+output": {
       "addedWidgets": {},
       "aggData": [],
       "aggError": "",
       "aggOverflow": false,
       "aggSchema": [],
       "aggSeriesLimitReached": false,
       "aggType": "",
       "arguments": {},
       "columnCustomDisplayInfos": {},
       "data": [
        [
         1,
         66,
         "2025-01-10T11:30:00.000Z",
         "85.75",
         "Payment Error:Retailer"
        ],
        [
         2,
         69,
         "2025-01-01T12:40:15.000Z",
         "120.50",
         "Order Cancelled:Customer"
        ],
        [
         3,
         72,
         "2025-01-06T14:45:30.000Z",
         "65.00",
         "Product Returned:Customer"
        ],
        [
         4,
         73,
         "2025-01-07T16:10:45.000Z",
         "210.99",
         "Order Cancelled:Customer"
        ],
        [
         5,
         75,
         "2025-01-09T18:25:00.000Z",
         "45.20",
         "Payment Error:Retailer"
        ],
        [
         6,
         80,
         "2025-01-10T09:35:20.000Z",
         "130.15",
         "Order Cancelled:Customer"
        ],
        [
         7,
         83,
         "2025-01-12T11:20:40.000Z",
         "100.00",
         "Product Returned:Customer"
        ],
        [
         8,
         85,
         "2025-01-14T13:15:30.000Z",
         "89.99",
         "Order Cancelled:Customer"
        ],
        [
         9,
         89,
         "2025-01-15T15:00:00.000Z",
         "78.50",
         "Payment Error:Retailer"
        ],
        [
         10,
         91,
         "2025-01-17T16:45:15.000Z",
         "250.75",
         "Product Returned:Customer"
        ]
       ],
       "datasetInfos": [
        {
         "name": "_sqldf",
         "schema": {
          "fields": [
           {
            "metadata": {},
            "name": "refund_id",
            "nullable": true,
            "type": "integer"
           },
           {
            "metadata": {},
            "name": "payment_id",
            "nullable": true,
            "type": "integer"
           },
           {
            "metadata": {},
            "name": "refund_timestamp",
            "nullable": true,
            "type": "timestamp"
           },
           {
            "metadata": {},
            "name": "refund_amount",
            "nullable": true,
            "type": "decimal(10,2)"
           },
           {
            "metadata": {},
            "name": "refund_reason",
            "nullable": true,
            "type": "string"
           }
          ],
          "type": "struct"
         },
         "tableIdentifier": null,
         "typeStr": "pyspark.sql.connect.dataframe.DataFrame"
        }
       ],
       "dbfsResultPath": null,
       "isJsonSchema": true,
       "metadata": {
        "createTempViewForImplicitDf": true,
        "dataframeName": "_sqldf",
        "executionCount": 3
       },
       "overflow": false,
       "plotOptions": {
        "customPlotOptions": {},
        "displayType": "table",
        "pivotAggregation": null,
        "pivotColumns": null,
        "xColumns": null,
        "yColumns": null
       },
       "removedWidgets": [],
       "schema": [
        {
         "metadata": "{}",
         "name": "refund_id",
         "type": "\"integer\""
        },
        {
         "metadata": "{}",
         "name": "payment_id",
         "type": "\"integer\""
        },
        {
         "metadata": "{}",
         "name": "refund_timestamp",
         "type": "\"timestamp\""
        },
        {
         "metadata": "{}",
         "name": "refund_amount",
         "type": "\"decimal(10,2)\""
        },
        {
         "metadata": "{}",
         "name": "refund_reason",
         "type": "\"string\""
        }
       ],
       "type": "table"
      }
     },
     "output_type": "display_data"
    }
   ],
   "source": [
    "%sql\n",
    "-- M2\n",
    "select refund_id,\n",
    "       payment_id,\n",
    "       refund_timestamp,\n",
    "       refund_amount,\n",
    "       refund_reason\n",
    "  from gizmobox.bronze.refunds;"
   ]
  },
  {
   "cell_type": "code",
   "execution_count": 0,
   "metadata": {
    "application/vnd.databricks.v1+cell": {
     "cellMetadata": {
      "byteLimit": 2048000,
      "implicitDf": true,
      "rowLimit": 10000
     },
     "inputWidgets": {},
     "nuid": "c2e5c37d-9e45-4bcb-92e7-57c8f29a8cb7",
     "showTitle": false,
     "tableResultSettingsMap": {},
     "title": ""
    }
   },
   "outputs": [
    {
     "output_type": "display_data",
     "data": {
      "text/html": [
       "<style scoped>\n",
       "  .table-result-container {\n",
       "    max-height: 300px;\n",
       "    overflow: auto;\n",
       "  }\n",
       "  table, th, td {\n",
       "    border: 1px solid black;\n",
       "    border-collapse: collapse;\n",
       "  }\n",
       "  th, td {\n",
       "    padding: 5px;\n",
       "  }\n",
       "  th {\n",
       "    text-align: left;\n",
       "  }\n",
       "</style><div class='table-result-container'><table class='table-result'><thead style='background-color: white'><tr><th>refund_id</th><th>payment_id</th><th>refund_timestamp</th><th>refund_amount</th><th>split(refund_reason,':')</th></tr></thead><tbody><tr><td>1</td><td>66</td><td>2025-01-10T11:30:00.000Z</td><td>85.75</td><td>List(Payment Error, Retailer)</td></tr><tr><td>2</td><td>69</td><td>2025-01-01T12:40:15.000Z</td><td>120.50</td><td>List(Order Cancelled, Customer)</td></tr><tr><td>3</td><td>72</td><td>2025-01-06T14:45:30.000Z</td><td>65.00</td><td>List(Product Returned, Customer)</td></tr><tr><td>4</td><td>73</td><td>2025-01-07T16:10:45.000Z</td><td>210.99</td><td>List(Order Cancelled, Customer)</td></tr><tr><td>5</td><td>75</td><td>2025-01-09T18:25:00.000Z</td><td>45.20</td><td>List(Payment Error, Retailer)</td></tr><tr><td>6</td><td>80</td><td>2025-01-10T09:35:20.000Z</td><td>130.15</td><td>List(Order Cancelled, Customer)</td></tr><tr><td>7</td><td>83</td><td>2025-01-12T11:20:40.000Z</td><td>100.00</td><td>List(Product Returned, Customer)</td></tr><tr><td>8</td><td>85</td><td>2025-01-14T13:15:30.000Z</td><td>89.99</td><td>List(Order Cancelled, Customer)</td></tr><tr><td>9</td><td>89</td><td>2025-01-15T15:00:00.000Z</td><td>78.50</td><td>List(Payment Error, Retailer)</td></tr><tr><td>10</td><td>91</td><td>2025-01-17T16:45:15.000Z</td><td>250.75</td><td>List(Product Returned, Customer)</td></tr></tbody></table></div>"
      ]
     },
     "metadata": {
      "application/vnd.databricks.v1+output": {
       "addedWidgets": {},
       "aggData": [],
       "aggError": "",
       "aggOverflow": false,
       "aggSchema": [],
       "aggSeriesLimitReached": false,
       "aggType": "",
       "arguments": {},
       "columnCustomDisplayInfos": {},
       "data": [
        [
         1,
         66,
         "2025-01-10T11:30:00.000Z",
         "85.75",
         [
          "Payment Error",
          "Retailer"
         ]
        ],
        [
         2,
         69,
         "2025-01-01T12:40:15.000Z",
         "120.50",
         [
          "Order Cancelled",
          "Customer"
         ]
        ],
        [
         3,
         72,
         "2025-01-06T14:45:30.000Z",
         "65.00",
         [
          "Product Returned",
          "Customer"
         ]
        ],
        [
         4,
         73,
         "2025-01-07T16:10:45.000Z",
         "210.99",
         [
          "Order Cancelled",
          "Customer"
         ]
        ],
        [
         5,
         75,
         "2025-01-09T18:25:00.000Z",
         "45.20",
         [
          "Payment Error",
          "Retailer"
         ]
        ],
        [
         6,
         80,
         "2025-01-10T09:35:20.000Z",
         "130.15",
         [
          "Order Cancelled",
          "Customer"
         ]
        ],
        [
         7,
         83,
         "2025-01-12T11:20:40.000Z",
         "100.00",
         [
          "Product Returned",
          "Customer"
         ]
        ],
        [
         8,
         85,
         "2025-01-14T13:15:30.000Z",
         "89.99",
         [
          "Order Cancelled",
          "Customer"
         ]
        ],
        [
         9,
         89,
         "2025-01-15T15:00:00.000Z",
         "78.50",
         [
          "Payment Error",
          "Retailer"
         ]
        ],
        [
         10,
         91,
         "2025-01-17T16:45:15.000Z",
         "250.75",
         [
          "Product Returned",
          "Customer"
         ]
        ]
       ],
       "datasetInfos": [
        {
         "name": "_sqldf",
         "schema": {
          "fields": [
           {
            "metadata": {},
            "name": "refund_id",
            "nullable": true,
            "type": "integer"
           },
           {
            "metadata": {},
            "name": "payment_id",
            "nullable": true,
            "type": "integer"
           },
           {
            "metadata": {},
            "name": "refund_timestamp",
            "nullable": true,
            "type": "timestamp"
           },
           {
            "metadata": {},
            "name": "refund_amount",
            "nullable": true,
            "type": "decimal(10,2)"
           },
           {
            "metadata": {},
            "name": "split(refund_reason,':')",
            "nullable": true,
            "type": {
             "containsNull": false,
             "elementType": "string",
             "type": "array"
            }
           }
          ],
          "type": "struct"
         },
         "tableIdentifier": null,
         "typeStr": "pyspark.sql.connect.dataframe.DataFrame"
        }
       ],
       "dbfsResultPath": null,
       "isJsonSchema": true,
       "metadata": {
        "createTempViewForImplicitDf": true,
        "dataframeName": "_sqldf",
        "executionCount": 10
       },
       "overflow": false,
       "plotOptions": {
        "customPlotOptions": {},
        "displayType": "table",
        "pivotAggregation": null,
        "pivotColumns": null,
        "xColumns": null,
        "yColumns": null
       },
       "removedWidgets": [],
       "schema": [
        {
         "metadata": "{}",
         "name": "refund_id",
         "type": "\"integer\""
        },
        {
         "metadata": "{}",
         "name": "payment_id",
         "type": "\"integer\""
        },
        {
         "metadata": "{}",
         "name": "refund_timestamp",
         "type": "\"timestamp\""
        },
        {
         "metadata": "{}",
         "name": "refund_amount",
         "type": "\"decimal(10,2)\""
        },
        {
         "metadata": "{}",
         "name": "split(refund_reason,':')",
         "type": "{\"containsNull\":false,\"elementType\":\"string\",\"type\":\"array\"}"
        }
       ],
       "type": "table"
      }
     },
     "output_type": "display_data"
    }
   ],
   "source": [
    "%sql\n",
    "select refund_id,\n",
    "       payment_id,\n",
    "       refund_timestamp,\n",
    "       refund_amount,\n",
    "       split (refund_reason, ':')\n",
    "       \n",
    "  from gizmobox.bronze.refunds;"
   ]
  },
  {
   "cell_type": "code",
   "execution_count": 0,
   "metadata": {
    "application/vnd.databricks.v1+cell": {
     "cellMetadata": {
      "byteLimit": 2048000,
      "implicitDf": true,
      "rowLimit": 10000
     },
     "inputWidgets": {},
     "nuid": "391c7773-245a-4322-b7d5-9ee9ee11903d",
     "showTitle": false,
     "tableResultSettingsMap": {},
     "title": ""
    }
   },
   "outputs": [
    {
     "output_type": "display_data",
     "data": {
      "text/html": [
       "<style scoped>\n",
       "  .table-result-container {\n",
       "    max-height: 300px;\n",
       "    overflow: auto;\n",
       "  }\n",
       "  table, th, td {\n",
       "    border: 1px solid black;\n",
       "    border-collapse: collapse;\n",
       "  }\n",
       "  th, td {\n",
       "    padding: 5px;\n",
       "  }\n",
       "  th {\n",
       "    text-align: left;\n",
       "  }\n",
       "</style><div class='table-result-container'><table class='table-result'><thead style='background-color: white'><tr><th>refund_id</th><th>payment_id</th><th>refund_timestamp</th><th>refund_amount</th><th>refund_reason</th><th>refund_source</th></tr></thead><tbody><tr><td>1</td><td>66</td><td>2025-01-10T11:30:00.000Z</td><td>85.75</td><td>Payment Error</td><td>Retailer</td></tr><tr><td>2</td><td>69</td><td>2025-01-01T12:40:15.000Z</td><td>120.50</td><td>Order Cancelled</td><td>Customer</td></tr><tr><td>3</td><td>72</td><td>2025-01-06T14:45:30.000Z</td><td>65.00</td><td>Product Returned</td><td>Customer</td></tr><tr><td>4</td><td>73</td><td>2025-01-07T16:10:45.000Z</td><td>210.99</td><td>Order Cancelled</td><td>Customer</td></tr><tr><td>5</td><td>75</td><td>2025-01-09T18:25:00.000Z</td><td>45.20</td><td>Payment Error</td><td>Retailer</td></tr><tr><td>6</td><td>80</td><td>2025-01-10T09:35:20.000Z</td><td>130.15</td><td>Order Cancelled</td><td>Customer</td></tr><tr><td>7</td><td>83</td><td>2025-01-12T11:20:40.000Z</td><td>100.00</td><td>Product Returned</td><td>Customer</td></tr><tr><td>8</td><td>85</td><td>2025-01-14T13:15:30.000Z</td><td>89.99</td><td>Order Cancelled</td><td>Customer</td></tr><tr><td>9</td><td>89</td><td>2025-01-15T15:00:00.000Z</td><td>78.50</td><td>Payment Error</td><td>Retailer</td></tr><tr><td>10</td><td>91</td><td>2025-01-17T16:45:15.000Z</td><td>250.75</td><td>Product Returned</td><td>Customer</td></tr></tbody></table></div>"
      ]
     },
     "metadata": {
      "application/vnd.databricks.v1+output": {
       "addedWidgets": {},
       "aggData": [],
       "aggError": "",
       "aggOverflow": false,
       "aggSchema": [],
       "aggSeriesLimitReached": false,
       "aggType": "",
       "arguments": {},
       "columnCustomDisplayInfos": {},
       "data": [
        [
         1,
         66,
         "2025-01-10T11:30:00.000Z",
         "85.75",
         "Payment Error",
         "Retailer"
        ],
        [
         2,
         69,
         "2025-01-01T12:40:15.000Z",
         "120.50",
         "Order Cancelled",
         "Customer"
        ],
        [
         3,
         72,
         "2025-01-06T14:45:30.000Z",
         "65.00",
         "Product Returned",
         "Customer"
        ],
        [
         4,
         73,
         "2025-01-07T16:10:45.000Z",
         "210.99",
         "Order Cancelled",
         "Customer"
        ],
        [
         5,
         75,
         "2025-01-09T18:25:00.000Z",
         "45.20",
         "Payment Error",
         "Retailer"
        ],
        [
         6,
         80,
         "2025-01-10T09:35:20.000Z",
         "130.15",
         "Order Cancelled",
         "Customer"
        ],
        [
         7,
         83,
         "2025-01-12T11:20:40.000Z",
         "100.00",
         "Product Returned",
         "Customer"
        ],
        [
         8,
         85,
         "2025-01-14T13:15:30.000Z",
         "89.99",
         "Order Cancelled",
         "Customer"
        ],
        [
         9,
         89,
         "2025-01-15T15:00:00.000Z",
         "78.50",
         "Payment Error",
         "Retailer"
        ],
        [
         10,
         91,
         "2025-01-17T16:45:15.000Z",
         "250.75",
         "Product Returned",
         "Customer"
        ]
       ],
       "datasetInfos": [
        {
         "name": "_sqldf",
         "schema": {
          "fields": [
           {
            "metadata": {},
            "name": "refund_id",
            "nullable": true,
            "type": "integer"
           },
           {
            "metadata": {},
            "name": "payment_id",
            "nullable": true,
            "type": "integer"
           },
           {
            "metadata": {},
            "name": "refund_timestamp",
            "nullable": true,
            "type": "timestamp"
           },
           {
            "metadata": {},
            "name": "refund_amount",
            "nullable": true,
            "type": "decimal(10,2)"
           },
           {
            "metadata": {},
            "name": "refund_reason",
            "nullable": true,
            "type": "string"
           },
           {
            "metadata": {},
            "name": "refund_source",
            "nullable": true,
            "type": "string"
           }
          ],
          "type": "struct"
         },
         "tableIdentifier": null,
         "typeStr": "pyspark.sql.connect.dataframe.DataFrame"
        }
       ],
       "dbfsResultPath": null,
       "isJsonSchema": true,
       "metadata": {
        "createTempViewForImplicitDf": true,
        "dataframeName": "_sqldf",
        "executionCount": 12
       },
       "overflow": false,
       "plotOptions": {
        "customPlotOptions": {},
        "displayType": "table",
        "pivotAggregation": null,
        "pivotColumns": null,
        "xColumns": null,
        "yColumns": null
       },
       "removedWidgets": [],
       "schema": [
        {
         "metadata": "{}",
         "name": "refund_id",
         "type": "\"integer\""
        },
        {
         "metadata": "{}",
         "name": "payment_id",
         "type": "\"integer\""
        },
        {
         "metadata": "{}",
         "name": "refund_timestamp",
         "type": "\"timestamp\""
        },
        {
         "metadata": "{}",
         "name": "refund_amount",
         "type": "\"decimal(10,2)\""
        },
        {
         "metadata": "{}",
         "name": "refund_reason",
         "type": "\"string\""
        },
        {
         "metadata": "{}",
         "name": "refund_source",
         "type": "\"string\""
        }
       ],
       "type": "table"
      }
     },
     "output_type": "display_data"
    }
   ],
   "source": [
    "%sql\n",
    "select refund_id,\n",
    "       payment_id,\n",
    "       refund_timestamp,\n",
    "       refund_amount,\n",
    "       split (refund_reason, ':')[0] as refund_reason,\n",
    "       split (refund_reason, ':')[1] as refund_source\n",
    "  from gizmobox.bronze.refunds;"
   ]
  },
  {
   "cell_type": "markdown",
   "metadata": {
    "application/vnd.databricks.v1+cell": {
     "cellMetadata": {},
     "inputWidgets": {},
     "nuid": "2d3290c9-b5e4-4a44-849d-67fd87dfba90",
     "showTitle": false,
     "tableResultSettingsMap": {},
     "title": ""
    }
   },
   "source": [
    "#### 2-Extract specific portion of the string from refund_reason using regexp_extract function"
   ]
  },
  {
   "cell_type": "code",
   "execution_count": 0,
   "metadata": {
    "application/vnd.databricks.v1+cell": {
     "cellMetadata": {
      "byteLimit": 2048000,
      "implicitDf": true,
      "rowLimit": 10000
     },
     "inputWidgets": {},
     "nuid": "9863d2cc-e695-435f-854c-38e163b5e4dd",
     "showTitle": false,
     "tableResultSettingsMap": {},
     "title": ""
    }
   },
   "outputs": [
    {
     "output_type": "display_data",
     "data": {
      "text/html": [
       "<style scoped>\n",
       "  .table-result-container {\n",
       "    max-height: 300px;\n",
       "    overflow: auto;\n",
       "  }\n",
       "  table, th, td {\n",
       "    border: 1px solid black;\n",
       "    border-collapse: collapse;\n",
       "  }\n",
       "  th, td {\n",
       "    padding: 5px;\n",
       "  }\n",
       "  th {\n",
       "    text-align: left;\n",
       "  }\n",
       "</style><div class='table-result-container'><table class='table-result'><thead style='background-color: white'><tr><th>refund_id</th><th>payment_id</th><th>refund_timestamp</th><th>refund_amount</th><th>refund_reason</th><th>refund_source</th></tr></thead><tbody><tr><td>1</td><td>66</td><td>2025-01-10T11:30:00.000Z</td><td>85.75</td><td>Payment Error</td><td>Retailer</td></tr><tr><td>2</td><td>69</td><td>2025-01-01T12:40:15.000Z</td><td>120.50</td><td>Order Cancelled</td><td>Customer</td></tr><tr><td>3</td><td>72</td><td>2025-01-06T14:45:30.000Z</td><td>65.00</td><td>Product Returned</td><td>Customer</td></tr><tr><td>4</td><td>73</td><td>2025-01-07T16:10:45.000Z</td><td>210.99</td><td>Order Cancelled</td><td>Customer</td></tr><tr><td>5</td><td>75</td><td>2025-01-09T18:25:00.000Z</td><td>45.20</td><td>Payment Error</td><td>Retailer</td></tr><tr><td>6</td><td>80</td><td>2025-01-10T09:35:20.000Z</td><td>130.15</td><td>Order Cancelled</td><td>Customer</td></tr><tr><td>7</td><td>83</td><td>2025-01-12T11:20:40.000Z</td><td>100.00</td><td>Product Returned</td><td>Customer</td></tr><tr><td>8</td><td>85</td><td>2025-01-14T13:15:30.000Z</td><td>89.99</td><td>Order Cancelled</td><td>Customer</td></tr><tr><td>9</td><td>89</td><td>2025-01-15T15:00:00.000Z</td><td>78.50</td><td>Payment Error</td><td>Retailer</td></tr><tr><td>10</td><td>91</td><td>2025-01-17T16:45:15.000Z</td><td>250.75</td><td>Product Returned</td><td>Customer</td></tr></tbody></table></div>"
      ]
     },
     "metadata": {
      "application/vnd.databricks.v1+output": {
       "addedWidgets": {},
       "aggData": [],
       "aggError": "",
       "aggOverflow": false,
       "aggSchema": [],
       "aggSeriesLimitReached": false,
       "aggType": "",
       "arguments": {},
       "columnCustomDisplayInfos": {},
       "data": [
        [
         1,
         66,
         "2025-01-10T11:30:00.000Z",
         "85.75",
         "Payment Error",
         "Retailer"
        ],
        [
         2,
         69,
         "2025-01-01T12:40:15.000Z",
         "120.50",
         "Order Cancelled",
         "Customer"
        ],
        [
         3,
         72,
         "2025-01-06T14:45:30.000Z",
         "65.00",
         "Product Returned",
         "Customer"
        ],
        [
         4,
         73,
         "2025-01-07T16:10:45.000Z",
         "210.99",
         "Order Cancelled",
         "Customer"
        ],
        [
         5,
         75,
         "2025-01-09T18:25:00.000Z",
         "45.20",
         "Payment Error",
         "Retailer"
        ],
        [
         6,
         80,
         "2025-01-10T09:35:20.000Z",
         "130.15",
         "Order Cancelled",
         "Customer"
        ],
        [
         7,
         83,
         "2025-01-12T11:20:40.000Z",
         "100.00",
         "Product Returned",
         "Customer"
        ],
        [
         8,
         85,
         "2025-01-14T13:15:30.000Z",
         "89.99",
         "Order Cancelled",
         "Customer"
        ],
        [
         9,
         89,
         "2025-01-15T15:00:00.000Z",
         "78.50",
         "Payment Error",
         "Retailer"
        ],
        [
         10,
         91,
         "2025-01-17T16:45:15.000Z",
         "250.75",
         "Product Returned",
         "Customer"
        ]
       ],
       "datasetInfos": [
        {
         "name": "_sqldf",
         "schema": {
          "fields": [
           {
            "metadata": {},
            "name": "refund_id",
            "nullable": true,
            "type": "integer"
           },
           {
            "metadata": {},
            "name": "payment_id",
            "nullable": true,
            "type": "integer"
           },
           {
            "metadata": {},
            "name": "refund_timestamp",
            "nullable": true,
            "type": "timestamp"
           },
           {
            "metadata": {},
            "name": "refund_amount",
            "nullable": true,
            "type": "decimal(10,2)"
           },
           {
            "metadata": {},
            "name": "refund_reason",
            "nullable": true,
            "type": "string"
           },
           {
            "metadata": {},
            "name": "refund_source",
            "nullable": true,
            "type": "string"
           }
          ],
          "type": "struct"
         },
         "tableIdentifier": null,
         "typeStr": "pyspark.sql.connect.dataframe.DataFrame"
        }
       ],
       "dbfsResultPath": null,
       "isJsonSchema": true,
       "metadata": {
        "createTempViewForImplicitDf": true,
        "dataframeName": "_sqldf",
        "executionCount": 20
       },
       "overflow": false,
       "plotOptions": {
        "customPlotOptions": {},
        "displayType": "table",
        "pivotAggregation": null,
        "pivotColumns": null,
        "xColumns": null,
        "yColumns": null
       },
       "removedWidgets": [],
       "schema": [
        {
         "metadata": "{}",
         "name": "refund_id",
         "type": "\"integer\""
        },
        {
         "metadata": "{}",
         "name": "payment_id",
         "type": "\"integer\""
        },
        {
         "metadata": "{}",
         "name": "refund_timestamp",
         "type": "\"timestamp\""
        },
        {
         "metadata": "{}",
         "name": "refund_amount",
         "type": "\"decimal(10,2)\""
        },
        {
         "metadata": "{}",
         "name": "refund_reason",
         "type": "\"string\""
        },
        {
         "metadata": "{}",
         "name": "refund_source",
         "type": "\"string\""
        }
       ],
       "type": "table"
      }
     },
     "output_type": "display_data"
    }
   ],
   "source": [
    "%sql\n",
    "select refund_id,\n",
    "       payment_id,\n",
    "       refund_timestamp,\n",
    "       refund_amount,\n",
    "       regexp_extract(refund_reason, '^([^:]+):', 1) as refund_reason,\n",
    "       regexp_extract(refund_reason, '^[^:]+:(.*)$') as refund_source\n",
    "  from gizmobox.bronze.refunds;"
   ]
  },
  {
   "cell_type": "markdown",
   "metadata": {
    "application/vnd.databricks.v1+cell": {
     "cellMetadata": {},
     "inputWidgets": {},
     "nuid": "7973e853-8c0d-477b-9628-ee7bf59ebde8",
     "showTitle": false,
     "tableResultSettingsMap": {},
     "title": ""
    }
   },
   "source": [
    "#### 3-Extract date and time from the refund_timestamp"
   ]
  },
  {
   "cell_type": "code",
   "execution_count": 0,
   "metadata": {
    "application/vnd.databricks.v1+cell": {
     "cellMetadata": {
      "byteLimit": 2048000,
      "implicitDf": true,
      "rowLimit": 10000
     },
     "inputWidgets": {},
     "nuid": "6d8969ec-66a8-4ab6-917c-adbe63f028be",
     "showTitle": false,
     "tableResultSettingsMap": {},
     "title": ""
    }
   },
   "outputs": [
    {
     "output_type": "display_data",
     "data": {
      "text/html": [
       "<style scoped>\n",
       "  .table-result-container {\n",
       "    max-height: 300px;\n",
       "    overflow: auto;\n",
       "  }\n",
       "  table, th, td {\n",
       "    border: 1px solid black;\n",
       "    border-collapse: collapse;\n",
       "  }\n",
       "  th, td {\n",
       "    padding: 5px;\n",
       "  }\n",
       "  th {\n",
       "    text-align: left;\n",
       "  }\n",
       "</style><div class='table-result-container'><table class='table-result'><thead style='background-color: white'><tr><th>refund_id</th><th>payment_id</th><th>refund_date</th><th>refund_time</th><th>refund_amount</th><th>refund_reason</th><th>refund_source</th></tr></thead><tbody><tr><td>1</td><td>66</td><td>2025-01-10</td><td>11:30:00</td><td>85.75</td><td>Payment Error</td><td>Retailer</td></tr><tr><td>2</td><td>69</td><td>2025-01-01</td><td>12:40:15</td><td>120.50</td><td>Order Cancelled</td><td>Customer</td></tr><tr><td>3</td><td>72</td><td>2025-01-06</td><td>14:45:30</td><td>65.00</td><td>Product Returned</td><td>Customer</td></tr><tr><td>4</td><td>73</td><td>2025-01-07</td><td>16:10:45</td><td>210.99</td><td>Order Cancelled</td><td>Customer</td></tr><tr><td>5</td><td>75</td><td>2025-01-09</td><td>18:25:00</td><td>45.20</td><td>Payment Error</td><td>Retailer</td></tr><tr><td>6</td><td>80</td><td>2025-01-10</td><td>09:35:20</td><td>130.15</td><td>Order Cancelled</td><td>Customer</td></tr><tr><td>7</td><td>83</td><td>2025-01-12</td><td>11:20:40</td><td>100.00</td><td>Product Returned</td><td>Customer</td></tr><tr><td>8</td><td>85</td><td>2025-01-14</td><td>13:15:30</td><td>89.99</td><td>Order Cancelled</td><td>Customer</td></tr><tr><td>9</td><td>89</td><td>2025-01-15</td><td>15:00:00</td><td>78.50</td><td>Payment Error</td><td>Retailer</td></tr><tr><td>10</td><td>91</td><td>2025-01-17</td><td>16:45:15</td><td>250.75</td><td>Product Returned</td><td>Customer</td></tr></tbody></table></div>"
      ]
     },
     "metadata": {
      "application/vnd.databricks.v1+output": {
       "addedWidgets": {},
       "aggData": [],
       "aggError": "",
       "aggOverflow": false,
       "aggSchema": [],
       "aggSeriesLimitReached": false,
       "aggType": "",
       "arguments": {},
       "columnCustomDisplayInfos": {},
       "data": [
        [
         1,
         66,
         "2025-01-10",
         "11:30:00",
         "85.75",
         "Payment Error",
         "Retailer"
        ],
        [
         2,
         69,
         "2025-01-01",
         "12:40:15",
         "120.50",
         "Order Cancelled",
         "Customer"
        ],
        [
         3,
         72,
         "2025-01-06",
         "14:45:30",
         "65.00",
         "Product Returned",
         "Customer"
        ],
        [
         4,
         73,
         "2025-01-07",
         "16:10:45",
         "210.99",
         "Order Cancelled",
         "Customer"
        ],
        [
         5,
         75,
         "2025-01-09",
         "18:25:00",
         "45.20",
         "Payment Error",
         "Retailer"
        ],
        [
         6,
         80,
         "2025-01-10",
         "09:35:20",
         "130.15",
         "Order Cancelled",
         "Customer"
        ],
        [
         7,
         83,
         "2025-01-12",
         "11:20:40",
         "100.00",
         "Product Returned",
         "Customer"
        ],
        [
         8,
         85,
         "2025-01-14",
         "13:15:30",
         "89.99",
         "Order Cancelled",
         "Customer"
        ],
        [
         9,
         89,
         "2025-01-15",
         "15:00:00",
         "78.50",
         "Payment Error",
         "Retailer"
        ],
        [
         10,
         91,
         "2025-01-17",
         "16:45:15",
         "250.75",
         "Product Returned",
         "Customer"
        ]
       ],
       "datasetInfos": [
        {
         "name": "_sqldf",
         "schema": {
          "fields": [
           {
            "metadata": {},
            "name": "refund_id",
            "nullable": true,
            "type": "integer"
           },
           {
            "metadata": {},
            "name": "payment_id",
            "nullable": true,
            "type": "integer"
           },
           {
            "metadata": {},
            "name": "refund_date",
            "nullable": true,
            "type": "date"
           },
           {
            "metadata": {},
            "name": "refund_time",
            "nullable": true,
            "type": "string"
           },
           {
            "metadata": {},
            "name": "refund_amount",
            "nullable": true,
            "type": "decimal(10,2)"
           },
           {
            "metadata": {},
            "name": "refund_reason",
            "nullable": true,
            "type": "string"
           },
           {
            "metadata": {},
            "name": "refund_source",
            "nullable": true,
            "type": "string"
           }
          ],
          "type": "struct"
         },
         "tableIdentifier": null,
         "typeStr": "pyspark.sql.connect.dataframe.DataFrame"
        }
       ],
       "dbfsResultPath": null,
       "isJsonSchema": true,
       "metadata": {
        "createTempViewForImplicitDf": true,
        "dataframeName": "_sqldf",
        "executionCount": 25
       },
       "overflow": false,
       "plotOptions": {
        "customPlotOptions": {},
        "displayType": "table",
        "pivotAggregation": null,
        "pivotColumns": null,
        "xColumns": null,
        "yColumns": null
       },
       "removedWidgets": [],
       "schema": [
        {
         "metadata": "{}",
         "name": "refund_id",
         "type": "\"integer\""
        },
        {
         "metadata": "{}",
         "name": "payment_id",
         "type": "\"integer\""
        },
        {
         "metadata": "{}",
         "name": "refund_date",
         "type": "\"date\""
        },
        {
         "metadata": "{}",
         "name": "refund_time",
         "type": "\"string\""
        },
        {
         "metadata": "{}",
         "name": "refund_amount",
         "type": "\"decimal(10,2)\""
        },
        {
         "metadata": "{}",
         "name": "refund_reason",
         "type": "\"string\""
        },
        {
         "metadata": "{}",
         "name": "refund_source",
         "type": "\"string\""
        }
       ],
       "type": "table"
      }
     },
     "output_type": "display_data"
    }
   ],
   "source": [
    "%sql\n",
    "select refund_id,\n",
    "       payment_id,\n",
    "       CAST (date_format(refund_timestamp, 'yyyy-MM-dd') as Date) refund_date,  \n",
    "       date_format(refund_timestamp, 'HH:mm:ss') as refund_time,\n",
    "       refund_amount,\n",
    "       regexp_extract(refund_reason, '^([^:]+):', 1) as refund_reason,\n",
    "       regexp_extract(refund_reason, '^[^:]+:(.*)$') as refund_source\n",
    "  from gizmobox.bronze.refunds;"
   ]
  },
  {
   "cell_type": "markdown",
   "metadata": {
    "application/vnd.databricks.v1+cell": {
     "cellMetadata": {},
     "inputWidgets": {},
     "nuid": "bef05186-9daf-4408-be94-0d06ba23a99b",
     "showTitle": false,
     "tableResultSettingsMap": {},
     "title": ""
    }
   },
   "source": [
    "#### 4-Write transformed data to the silver schema in hive metastore"
   ]
  },
  {
   "cell_type": "code",
   "execution_count": 0,
   "metadata": {
    "application/vnd.databricks.v1+cell": {
     "cellMetadata": {},
     "inputWidgets": {},
     "nuid": "d08e0764-b774-4eee-b26d-05bc8a3337c0",
     "showTitle": false,
     "tableResultSettingsMap": {},
     "title": ""
    }
   },
   "outputs": [],
   "source": [
    "%sql\n",
    "create schema hive_metastore.silver;"
   ]
  },
  {
   "cell_type": "code",
   "execution_count": 0,
   "metadata": {
    "application/vnd.databricks.v1+cell": {
     "cellMetadata": {},
     "inputWidgets": {},
     "nuid": "4bc266cc-def3-4637-932c-c6e40252bf3e",
     "showTitle": false,
     "tableResultSettingsMap": {},
     "title": ""
    }
   },
   "outputs": [],
   "source": [
    "%sql\n",
    "Create table hive_metastore.bronze.refunds\n",
    "as\n",
    "select refund_id,\n",
    "       payment_id,\n",
    "       CAST (date_format(refund_timestamp, 'yyyy-MM-dd') as Date) refund_date,  \n",
    "       date_format(refund_timestamp, 'HH:mm:ss') as refund_time,\n",
    "       refund_amount,\n",
    "       regexp_extract(refund_reason, '^([^:]+):', 1) as refund_reason,\n",
    "       regexp_extract(refund_reason, '^[^:]+:(.*)$') as refund_source\n",
    "  from gizmobox.bronze.refunds;"
   ]
  },
  {
   "cell_type": "code",
   "execution_count": 0,
   "metadata": {
    "application/vnd.databricks.v1+cell": {
     "cellMetadata": {},
     "inputWidgets": {},
     "nuid": "9515c6d6-8edf-489f-b1a7-7621e9bf4ec2",
     "showTitle": false,
     "tableResultSettingsMap": {},
     "title": ""
    }
   },
   "outputs": [],
   "source": [
    "%sql\n",
    "select * from hive_metastore.silver.refunds;"
   ]
  },
  {
   "cell_type": "code",
   "execution_count": 0,
   "metadata": {
    "application/vnd.databricks.v1+cell": {
     "cellMetadata": {},
     "inputWidgets": {},
     "nuid": "d5451cc3-e7d4-41d1-8f72-c6c1771b7d99",
     "showTitle": false,
     "tableResultSettingsMap": {},
     "title": ""
    }
   },
   "outputs": [],
   "source": [
    "%sql\n",
    "desc extended hive_metastore.silver.refunds;"
   ]
  },
  {
   "cell_type": "code",
   "execution_count": 0,
   "metadata": {
    "application/vnd.databricks.v1+cell": {
     "cellMetadata": {
      "byteLimit": 2048000,
      "implicitDf": true,
      "rowLimit": 10000
     },
     "inputWidgets": {},
     "nuid": "f06b14d6-72cd-4ac6-bb97-3dca15cad72b",
     "showTitle": false,
     "tableResultSettingsMap": {},
     "title": ""
    }
   },
   "outputs": [
    {
     "output_type": "display_data",
     "data": {
      "text/html": [
       "<style scoped>\n",
       "  .table-result-container {\n",
       "    max-height: 300px;\n",
       "    overflow: auto;\n",
       "  }\n",
       "  table, th, td {\n",
       "    border: 1px solid black;\n",
       "    border-collapse: collapse;\n",
       "  }\n",
       "  th, td {\n",
       "    padding: 5px;\n",
       "  }\n",
       "  th {\n",
       "    text-align: left;\n",
       "  }\n",
       "</style><div class='table-result-container'><table class='table-result'><thead style='background-color: white'><tr><th>num_affected_rows</th><th>num_inserted_rows</th></tr></thead><tbody></tbody></table></div>"
      ]
     },
     "metadata": {
      "application/vnd.databricks.v1+output": {
       "addedWidgets": {},
       "aggData": [],
       "aggError": "",
       "aggOverflow": false,
       "aggSchema": [],
       "aggSeriesLimitReached": false,
       "aggType": "",
       "arguments": {},
       "columnCustomDisplayInfos": {},
       "data": [],
       "datasetInfos": [
        {
         "name": "_sqldf",
         "schema": {
          "fields": [
           {
            "metadata": {},
            "name": "num_affected_rows",
            "nullable": true,
            "type": "long"
           },
           {
            "metadata": {},
            "name": "num_inserted_rows",
            "nullable": true,
            "type": "long"
           }
          ],
          "type": "struct"
         },
         "tableIdentifier": null,
         "typeStr": "pyspark.sql.connect.dataframe.DataFrame"
        }
       ],
       "dbfsResultPath": null,
       "isJsonSchema": true,
       "metadata": {
        "createTempViewForImplicitDf": true,
        "dataframeName": "_sqldf",
        "executionCount": 29
       },
       "overflow": false,
       "plotOptions": {
        "customPlotOptions": {},
        "displayType": "table",
        "pivotAggregation": null,
        "pivotColumns": null,
        "xColumns": null,
        "yColumns": null
       },
       "removedWidgets": [],
       "schema": [
        {
         "metadata": "{}",
         "name": "num_affected_rows",
         "type": "\"long\""
        },
        {
         "metadata": "{}",
         "name": "num_inserted_rows",
         "type": "\"long\""
        }
       ],
       "type": "table"
      }
     },
     "output_type": "display_data"
    }
   ],
   "source": [
    "%sql\n",
    "-- M2 \n",
    "Create table gizmobox.silver.refunds\n",
    "as\n",
    "select refund_id,\n",
    "       payment_id,\n",
    "       CAST (date_format(refund_timestamp, 'yyyy-MM-dd') as Date) refund_date,  \n",
    "       date_format(refund_timestamp, 'HH:mm:ss') as refund_time,\n",
    "       refund_amount,\n",
    "       regexp_extract(refund_reason, '^([^:]+):', 1) as refund_reason,\n",
    "       regexp_extract(refund_reason, '^[^:]+:(.*)$') as refund_source\n",
    "  from gizmobox.bronze.refunds;"
   ]
  },
  {
   "cell_type": "code",
   "execution_count": 0,
   "metadata": {
    "application/vnd.databricks.v1+cell": {
     "cellMetadata": {
      "byteLimit": 2048000,
      "implicitDf": true,
      "rowLimit": 10000
     },
     "inputWidgets": {},
     "nuid": "b6262faf-3e26-48d2-88a8-d94f3b52ada5",
     "showTitle": false,
     "tableResultSettingsMap": {},
     "title": ""
    }
   },
   "outputs": [
    {
     "output_type": "display_data",
     "data": {
      "text/html": [
       "<style scoped>\n",
       "  .table-result-container {\n",
       "    max-height: 300px;\n",
       "    overflow: auto;\n",
       "  }\n",
       "  table, th, td {\n",
       "    border: 1px solid black;\n",
       "    border-collapse: collapse;\n",
       "  }\n",
       "  th, td {\n",
       "    padding: 5px;\n",
       "  }\n",
       "  th {\n",
       "    text-align: left;\n",
       "  }\n",
       "</style><div class='table-result-container'><table class='table-result'><thead style='background-color: white'><tr><th>refund_id</th><th>payment_id</th><th>refund_date</th><th>refund_time</th><th>refund_amount</th><th>refund_reason</th><th>refund_source</th></tr></thead><tbody><tr><td>1</td><td>66</td><td>2025-01-10</td><td>11:30:00</td><td>85.75</td><td>Payment Error</td><td>Retailer</td></tr><tr><td>2</td><td>69</td><td>2025-01-01</td><td>12:40:15</td><td>120.50</td><td>Order Cancelled</td><td>Customer</td></tr><tr><td>3</td><td>72</td><td>2025-01-06</td><td>14:45:30</td><td>65.00</td><td>Product Returned</td><td>Customer</td></tr><tr><td>4</td><td>73</td><td>2025-01-07</td><td>16:10:45</td><td>210.99</td><td>Order Cancelled</td><td>Customer</td></tr><tr><td>5</td><td>75</td><td>2025-01-09</td><td>18:25:00</td><td>45.20</td><td>Payment Error</td><td>Retailer</td></tr><tr><td>6</td><td>80</td><td>2025-01-10</td><td>09:35:20</td><td>130.15</td><td>Order Cancelled</td><td>Customer</td></tr><tr><td>7</td><td>83</td><td>2025-01-12</td><td>11:20:40</td><td>100.00</td><td>Product Returned</td><td>Customer</td></tr><tr><td>8</td><td>85</td><td>2025-01-14</td><td>13:15:30</td><td>89.99</td><td>Order Cancelled</td><td>Customer</td></tr><tr><td>9</td><td>89</td><td>2025-01-15</td><td>15:00:00</td><td>78.50</td><td>Payment Error</td><td>Retailer</td></tr><tr><td>10</td><td>91</td><td>2025-01-17</td><td>16:45:15</td><td>250.75</td><td>Product Returned</td><td>Customer</td></tr></tbody></table></div>"
      ]
     },
     "metadata": {
      "application/vnd.databricks.v1+output": {
       "addedWidgets": {},
       "aggData": [],
       "aggError": "",
       "aggOverflow": false,
       "aggSchema": [],
       "aggSeriesLimitReached": false,
       "aggType": "",
       "arguments": {},
       "columnCustomDisplayInfos": {},
       "data": [
        [
         1,
         66,
         "2025-01-10",
         "11:30:00",
         "85.75",
         "Payment Error",
         "Retailer"
        ],
        [
         2,
         69,
         "2025-01-01",
         "12:40:15",
         "120.50",
         "Order Cancelled",
         "Customer"
        ],
        [
         3,
         72,
         "2025-01-06",
         "14:45:30",
         "65.00",
         "Product Returned",
         "Customer"
        ],
        [
         4,
         73,
         "2025-01-07",
         "16:10:45",
         "210.99",
         "Order Cancelled",
         "Customer"
        ],
        [
         5,
         75,
         "2025-01-09",
         "18:25:00",
         "45.20",
         "Payment Error",
         "Retailer"
        ],
        [
         6,
         80,
         "2025-01-10",
         "09:35:20",
         "130.15",
         "Order Cancelled",
         "Customer"
        ],
        [
         7,
         83,
         "2025-01-12",
         "11:20:40",
         "100.00",
         "Product Returned",
         "Customer"
        ],
        [
         8,
         85,
         "2025-01-14",
         "13:15:30",
         "89.99",
         "Order Cancelled",
         "Customer"
        ],
        [
         9,
         89,
         "2025-01-15",
         "15:00:00",
         "78.50",
         "Payment Error",
         "Retailer"
        ],
        [
         10,
         91,
         "2025-01-17",
         "16:45:15",
         "250.75",
         "Product Returned",
         "Customer"
        ]
       ],
       "datasetInfos": [
        {
         "name": "_sqldf",
         "schema": {
          "fields": [
           {
            "metadata": {},
            "name": "refund_id",
            "nullable": true,
            "type": "integer"
           },
           {
            "metadata": {},
            "name": "payment_id",
            "nullable": true,
            "type": "integer"
           },
           {
            "metadata": {},
            "name": "refund_date",
            "nullable": true,
            "type": "date"
           },
           {
            "metadata": {},
            "name": "refund_time",
            "nullable": true,
            "type": "string"
           },
           {
            "metadata": {},
            "name": "refund_amount",
            "nullable": true,
            "type": "decimal(10,2)"
           },
           {
            "metadata": {},
            "name": "refund_reason",
            "nullable": true,
            "type": "string"
           },
           {
            "metadata": {},
            "name": "refund_source",
            "nullable": true,
            "type": "string"
           }
          ],
          "type": "struct"
         },
         "tableIdentifier": null,
         "typeStr": "pyspark.sql.connect.dataframe.DataFrame"
        }
       ],
       "dbfsResultPath": null,
       "isJsonSchema": true,
       "metadata": {
        "createTempViewForImplicitDf": true,
        "dataframeName": "_sqldf",
        "executionCount": 30
       },
       "overflow": false,
       "plotOptions": {
        "customPlotOptions": {},
        "displayType": "table",
        "pivotAggregation": null,
        "pivotColumns": null,
        "xColumns": null,
        "yColumns": null
       },
       "removedWidgets": [],
       "schema": [
        {
         "metadata": "{}",
         "name": "refund_id",
         "type": "\"integer\""
        },
        {
         "metadata": "{}",
         "name": "payment_id",
         "type": "\"integer\""
        },
        {
         "metadata": "{}",
         "name": "refund_date",
         "type": "\"date\""
        },
        {
         "metadata": "{}",
         "name": "refund_time",
         "type": "\"string\""
        },
        {
         "metadata": "{}",
         "name": "refund_amount",
         "type": "\"decimal(10,2)\""
        },
        {
         "metadata": "{}",
         "name": "refund_reason",
         "type": "\"string\""
        },
        {
         "metadata": "{}",
         "name": "refund_source",
         "type": "\"string\""
        }
       ],
       "type": "table"
      }
     },
     "output_type": "display_data"
    }
   ],
   "source": [
    "%sql\n",
    "select * from gizmobox.silver.refunds;\n",
    "  "
   ]
  }
 ],
 "metadata": {
  "application/vnd.databricks.v1+notebook": {
   "computePreferences": null,
   "dashboards": [],
   "environmentMetadata": {
    "base_environment": "",
    "environment_version": "3"
   },
   "inputWidgetPreferences": null,
   "language": "python",
   "notebookMetadata": {
    "mostRecentlyExecutedCommandWithImplicitDF": {
     "commandId": 4711023518250106,
     "dataframes": [
      "_sqldf"
     ]
    },
    "pythonIndentUnit": 4
   },
   "notebookName": "11-Transform-Refunds-Data",
   "widgets": {}
  },
  "language_info": {
   "name": "python"
  }
 },
 "nbformat": 4,
 "nbformat_minor": 0
}
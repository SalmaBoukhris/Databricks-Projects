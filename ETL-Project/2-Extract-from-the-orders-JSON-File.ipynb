{
 "cells": [
  {
   "cell_type": "markdown",
   "metadata": {
    "application/vnd.databricks.v1+cell": {
     "cellMetadata": {},
     "inputWidgets": {},
     "nuid": "d0def6c7-349f-4fd0-9833-bf6d347eee26",
     "showTitle": false,
     "tableResultSettingsMap": {},
     "title": ""
    }
   },
   "source": [
    "#### 1- Query orders file usind JSON Format"
   ]
  },
  {
   "cell_type": "code",
   "execution_count": 0,
   "metadata": {
    "application/vnd.databricks.v1+cell": {
     "cellMetadata": {
      "byteLimit": 2048000,
      "implicitDf": true,
      "rowLimit": 10000
     },
     "inputWidgets": {},
     "nuid": "d03d01bd-1b73-4819-b934-f4319758125a",
     "showTitle": false,
     "tableResultSettingsMap": {},
     "title": ""
    }
   },
   "outputs": [
    {
     "output_type": "display_data",
     "data": {
      "text/html": [
       "<style scoped>\n",
       "  .table-result-container {\n",
       "    max-height: 300px;\n",
       "    overflow: auto;\n",
       "  }\n",
       "  table, th, td {\n",
       "    border: 1px solid black;\n",
       "    border-collapse: collapse;\n",
       "  }\n",
       "  th, td {\n",
       "    padding: 5px;\n",
       "  }\n",
       "  th {\n",
       "    text-align: left;\n",
       "  }\n",
       "</style><div class='table-result-container'><table class='table-result'><thead style='background-color: white'><tr><th>_corrupt_record</th><th>customer_id</th><th>items</th><th>order_date</th><th>order_id</th><th>order_status</th><th>payment_method</th><th>total_amount</th><th>transaction_timestamp</th></tr></thead><tbody><tr><td>null</td><td>6973</td><td>List(List(Electronics, List(Sony, Blue), 8, Gaming Console, 499, 1))</td><td>2025-01-05</td><td>1</td><td>Completed</td><td>Bank Transfer</td><td>499</td><td>2025-01-05 10:13:59</td></tr><tr><td>{\"order_id\": 2, \"customer_id\": 3532, \"order_date\": 2025-01-19, \"transaction_timestamp\": \"2025-01-19 00:05:13\", \"total_amount\": 985, \"payment_method\": \"PayPal\", \"items\": [{\"item_id\": 4, \"name\": \"Smartwatch\", \"category\": \"Electronics\", \"price\": 299, \"quantity\": 2, \"details\": {\"brand\": \"Canon\", \"color\": \"Gray\"}}, {\"item_id\": 7, \"name\": \"External Hard Drive\", \"category\": \"Electronics\", \"price\": 129, \"quantity\": 3, \"details\": {\"brand\": \"Dell\", \"color\": \"Blue\"}}], \"order_status\": \"Cancelled\"}</td><td>null</td><td>null</td><td>null</td><td>null</td><td>null</td><td>null</td><td>null</td><td>null</td></tr><tr><td>null</td><td>3532</td><td>List(List(Electronics, List(Apple, White), 3, Wireless Headphones, 199, 3))</td><td>2025-01-08</td><td>3</td><td>Completed</td><td>Bank Transfer</td><td>597</td><td>2025-01-08 23:11:00</td></tr><tr><td>null</td><td>3532</td><td>List(List(Electronics, List(Microsoft, Black), 2, Laptop, 999, 1))</td><td>2025-01-05</td><td>4</td><td>Cancelled</td><td>Bank Transfer</td><td>999</td><td>2025-01-05 05:49:26</td></tr><tr><td>null</td><td>9179</td><td>List(List(Electronics, List(LG, White), 5, Tablet, 399, 1))</td><td>2025-01-02</td><td>8</td><td>Completed</td><td>PayPal</td><td>399</td><td>2025-01-02 13:11:15</td></tr><tr><td>null</td><td>7207</td><td>List(List(Electronics, List(Bose, Blue), 3, Wireless Headphones, 199, 3))</td><td>2025-01-01</td><td>14</td><td>Cancelled</td><td>PayPal</td><td>597</td><td>2025-01-01 18:22:26</td></tr><tr><td>null</td><td>4468</td><td>List(List(Electronics, List(Dell, Black), 10, Drone, 799, 1))</td><td>2025-01-22</td><td>18</td><td>Pending</td><td>Credit Card</td><td>799</td><td>2025-01-22 21:12:08</td></tr><tr><td>{\"order_id\": 22, \"customer_id\": 4761, \"order_date\": 2025-01-01, \"transaction_timestamp\": \"2025-01-01 15:49:19\", \"total_amount\": 199, \"payment_method\": \"PayPal\", \"items\": [{\"item_id\": 3, \"name\": \"Wireless Headphones\", \"category\": \"Electronics\", \"price\": 199, \"quantity\": 1, \"details\": {\"brand\": \"HP\", \"color\": \"Silver\"}}], \"order_status\": \"Pending\"}</td><td>null</td><td>null</td><td>null</td><td>null</td><td>null</td><td>null</td><td>null</td><td>null</td></tr><tr><td>null</td><td>7007</td><td>List(List(Electronics, List(Samsung, Silver), 1, Smartphone, 699, 1))</td><td>2025-01-05</td><td>26</td><td>Shipped</td><td>Bank Transfer</td><td>699</td><td>2025-01-05 19:01:25</td></tr><tr><td>null</td><td>5953</td><td>List(List(Electronics, List(Bose, Gray), 7, External Hard Drive, 129, 1), List(Electronics, List(Bose, Gray), 7, External Hard Drive, 129, 1))</td><td>2025-01-18</td><td>29</td><td>Pending</td><td>Bank Transfer</td><td>129</td><td>2025-01-18 03:05:04</td></tr><tr><td>null</td><td>4996</td><td>List(List(Electronics, List(Dell, White), 4, Smartwatch, 299, 1))</td><td>2025-01-18</td><td>31</td><td>Shipped</td><td>Bank Transfer</td><td>299</td><td>2025-01-18 03:13:29</td></tr><tr><td>null</td><td>9605</td><td>List(List(Electronics, List(Canon, White), 4, Smartwatch, 299, 3))</td><td>2025-01-13</td><td>33</td><td>Completed</td><td>PayPal</td><td>897</td><td>2025-01-13 04:47:43</td></tr><tr><td>null</td><td>9605</td><td>List(List(Electronics, List(Bose, Silver), 6, Bluetooth Speaker, 149, 2), List(Electronics, List(LG, Black), 8, Gaming Console, 499, 1), List(Electronics, List(Samsung, Black), 7, External Hard Drive, 129, 1))</td><td>2025-01-21</td><td>34</td><td>Cancelled</td><td>PayPal</td><td>926</td><td>2025-01-21 00:25:01</td></tr><tr><td>null</td><td>6384</td><td>List(List(Electronics, List(Bose, Silver), 6, Bluetooth Speaker, 149, 2))</td><td>2025-01-20</td><td>40</td><td>Completed</td><td>PayPal</td><td>298</td><td>2025-01-20 16:18:35</td></tr><tr><td>null</td><td>6384</td><td>List(List(Electronics, List(Sony, Silver), 2, Laptop, 999, 1))</td><td>2025-01-05</td><td>41</td><td>Shipped</td><td>Credit Card</td><td>999</td><td>2025-01-05 06:10:22</td></tr><tr><td>null</td><td>5028</td><td>List(List(Electronics, List(LG, Black), 8, Gaming Console, 499, 1))</td><td>2025-01-24</td><td>43</td><td>Pending</td><td>PayPal</td><td>499</td><td>2025-01-24 18:10:37</td></tr><tr><td>null</td><td>3712</td><td>List(List(Electronics, List(Apple, Gray), 6, Bluetooth Speaker, 149, 3), List(Electronics, List(Sony, White), 4, Smartwatch, 299, 1))</td><td>2025-01-11</td><td>50</td><td>Shipped</td><td>Credit Card</td><td>746</td><td>2025-01-11 01:19:09</td></tr><tr><td>null</td><td>8845</td><td>List(List(Electronics, List(Samsung, Gray), 6, Bluetooth Speaker, 149, 1))</td><td>2025-01-21</td><td>51</td><td>Completed</td><td>PayPal</td><td>149</td><td>2025-01-21 13:19:59</td></tr><tr><td>null</td><td>8845</td><td>List(List(Electronics, List(Apple, Black), 3, Wireless Headphones, 199, 1))</td><td>2025-01-21</td><td>53</td><td>Pending</td><td>Bank Transfer</td><td>199</td><td>2025-01-21 08:31:02</td></tr><tr><td>null</td><td>8580</td><td>List(List(Electronics, List(HP, Silver), 3, Wireless Headphones, 199, 1), List(Electronics, List(LG, Gray), 8, Gaming Console, 499, 1))</td><td>2025-01-01</td><td>56</td><td>Cancelled</td><td>PayPal</td><td>698</td><td>2025-01-01 12:02:41</td></tr><tr><td>null</td><td>7123</td><td>List(List(Electronics, List(Dell, White), 7, External Hard Drive, 129, 3), List(Electronics, List(GoPro, Blue), 4, Smartwatch, 299, 2))</td><td>2025-01-24</td><td>62</td><td>Completed</td><td>Bank Transfer</td><td>985</td><td>2025-01-24 12:00:54</td></tr><tr><td>null</td><td>3084</td><td>List(List(Electronics, List(Bose, Silver), 4, Smartwatch, 299, 1), List(Electronics, List(GoPro, White), 4, Smartwatch, 299, 1))</td><td>2025-01-17</td><td>66</td><td>Cancelled</td><td>Credit Card</td><td>598</td><td>2025-01-17 21:16:11</td></tr><tr><td>null</td><td>4973</td><td>List(List(Electronics, List(Bose, Gray), 6, Bluetooth Speaker, 149, 1))</td><td>2025-01-10</td><td>68</td><td>Completed</td><td>Bank Transfer</td><td>149</td><td>2025-01-10 20:35:43</td></tr><tr><td>null</td><td>6167</td><td>List(List(Electronics, List(GoPro, Gray), 7, External Hard Drive, 129, 3), List(Electronics, List(GoPro, Gray), 7, External Hard Drive, 129, 3))</td><td>2025-01-07</td><td>73</td><td>Shipped</td><td>Credit Card</td><td>387</td><td>2025-01-07 01:02:26</td></tr><tr><td>null</td><td>6167</td><td>List(List(Electronics, List(GoPro, White), 1, Smartphone, 699, 1))</td><td>2025-01-19</td><td>75</td><td>Shipped</td><td>Credit Card</td><td>699</td><td>2025-01-19 16:23:16</td></tr><tr><td>null</td><td>3295</td><td>List(List(Electronics, List(Microsoft, Silver), 5, Tablet, 399, 1))</td><td>2025-01-06</td><td>76</td><td>Completed</td><td>Bank Transfer</td><td>399</td><td>2025-01-06 02:54:39</td></tr><tr><td>null</td><td>9084</td><td>List(List(Electronics, List(Dell, White), 5, Tablet, 399, 2))</td><td>2025-01-21</td><td>78</td><td>Cancelled</td><td>PayPal</td><td>798</td><td>2025-01-21 11:42:51</td></tr><tr><td>null</td><td>9084</td><td>List(List(Electronics, List(Dell, Gray), 8, Gaming Console, 499, 2))</td><td>2025-01-25</td><td>79</td><td>Cancelled</td><td>Credit Card</td><td>998</td><td>2025-01-25 03:52:05</td></tr><tr><td>null</td><td>2344</td><td>List(List(Electronics, List(Canon, Gray), 7, External Hard Drive, 129, 3), List(Electronics, List(Sony, Black), 3, Wireless Headphones, 199, 2))</td><td>2025-01-07</td><td>83</td><td>Shipped</td><td>PayPal</td><td>785</td><td>2025-01-07 12:48:05</td></tr><tr><td>null</td><td>2141</td><td>List(List(Electronics, List(Apple, Blue), 7, External Hard Drive, 129, 1))</td><td>2025-01-02</td><td>87</td><td>Pending</td><td>PayPal</td><td>129</td><td>2025-01-02 04:28:38</td></tr><tr><td>null</td><td>9247</td><td>List(List(Electronics, List(Canon, White), 7, External Hard Drive, 129, 1), List(Electronics, List(Samsung, Black), 7, External Hard Drive, 129, 1))</td><td>2025-01-17</td><td>90</td><td>Pending</td><td>Credit Card</td><td>258</td><td>2025-01-17 14:30:54</td></tr><tr><td>null</td><td>6627</td><td>List(List(Electronics, List(Sony, Black), 6, Bluetooth Speaker, 149, 2), List(Electronics, List(Apple, Blue), 3, Wireless Headphones, 199, 3))</td><td>2025-01-10</td><td>94</td><td>Pending</td><td>Credit Card</td><td>895</td><td>2025-01-10 09:51:48</td></tr><tr><td>null</td><td>9150</td><td>List(List(Electronics, List(HP, Blue), 7, External Hard Drive, 129, 3), List(Electronics, List(Samsung, Gray), 4, Smartwatch, 299, 2))</td><td>2025-01-08</td><td>98</td><td>Completed</td><td>Credit Card</td><td>985</td><td>2025-01-08 05:57:55</td></tr><tr><td>null</td><td>9150</td><td>List(List(Electronics, List(Bose, Gray), 1, Smartphone, 699, 1))</td><td>2025-01-10</td><td>99</td><td>Shipped</td><td>Credit Card</td><td>699</td><td>2025-01-10 21:43:46</td></tr><tr><td>null</td><td>9150</td><td>List(List(Electronics, List(LG, Silver), 6, Bluetooth Speaker, 149, 3))</td><td>2025-01-04</td><td>100</td><td>Shipped</td><td>PayPal</td><td>447</td><td>2025-01-04 06:40:13</td></tr><tr><td>null</td><td>5816</td><td>List(List(Electronics, List(Sony, White), 2, Laptop, 999, 1))</td><td>2024-12-06</td><td>12</td><td>Cancelled</td><td>PayPal</td><td>999</td><td>2024-12-06 20:26:49</td></tr><tr><td>null</td><td>4858</td><td>List(List(Electronics, List(GoPro, Black), 2, Laptop, 999, 1))</td><td>2024-12-17</td><td>13</td><td>Pending</td><td>PayPal</td><td>999</td><td>2024-12-17 03:41:37</td></tr><tr><td>null</td><td>5204</td><td>List(List(Electronics, List(Sony, Silver), 3, Wireless Headphones, 199, 3))</td><td>2024-12-08</td><td>16</td><td>Pending</td><td>Bank Transfer</td><td>597</td><td>2024-12-08 22:59:48</td></tr><tr><td>null</td><td>5204</td><td>List(List(Electronics, List(Dell, Black), 8, Gaming Console, 499, 2))</td><td>2024-12-02</td><td>17</td><td>Pending</td><td>Bank Transfer</td><td>998</td><td>2024-12-02 12:00:50</td></tr><tr><td>null</td><td>1211</td><td>List(List(Electronics, List(GoPro, Gray), 9, Smart TV, 1199, 1))</td><td>2024-12-21</td><td>24</td><td>Completed</td><td>PayPal</td><td>1199</td><td>2024-12-21 03:24:26</td></tr><tr><td>null</td><td>2703</td><td>List(List(Electronics, List(Dell, White), 7, External Hard Drive, 129, 2), List(Electronics, List(Canon, Black), 6, Bluetooth Speaker, 149, 3), List(Electronics, List(Microsoft, Silver), 3, Wireless Headphones, 199, 1))</td><td>2024-12-02</td><td>27</td><td>Completed</td><td>Credit Card</td><td>904</td><td>2024-12-02 11:24:21</td></tr><tr><td>null</td><td>2703</td><td>List(List(Electronics, List(GoPro, Blue), 7, External Hard Drive, 129, 1))</td><td>2024-12-26</td><td>28</td><td>Cancelled</td><td>Credit Card</td><td>129</td><td>2024-12-26 03:17:50</td></tr><tr><td>null</td><td>4996</td><td>List(List(Electronics, List(Apple, Silver), 5, Tablet, 399, 1))</td><td>2024-12-28</td><td>32</td><td>Pending</td><td>PayPal</td><td>399</td><td>2024-12-28 08:55:57</td></tr><tr><td>null</td><td>7829</td><td>List(List(Electronics, List(HP, Silver), 7, External Hard Drive, 129, 2))</td><td>2024-12-22</td><td>37</td><td>Shipped</td><td>Credit Card</td><td>258</td><td>2024-12-22 10:11:49</td></tr><tr><td>null</td><td>7829</td><td>List(List(Electronics, List(Apple, Gray), 6, Bluetooth Speaker, 149, 3))</td><td>2024-12-25</td><td>38</td><td>Shipped</td><td>Credit Card</td><td>447</td><td>2024-12-25 22:05:19</td></tr><tr><td>null</td><td>7295</td><td>List(List(Electronics, List(Bose, Blue), 7, External Hard Drive, 129, 1))</td><td>2024-12-20</td><td>44</td><td>Completed</td><td>Credit Card</td><td>129</td><td>2024-12-20 08:05:43</td></tr><tr><td>null</td><td>7803</td><td>List(List(Electronics, List(HP, White), 4, Smartwatch, 299, 1), List(Electronics, List(Canon, Blue), 4, Smartwatch, 299, 1), List(Electronics, List(Samsung, White), 6, Bluetooth Speaker, 149, 1))</td><td>2024-12-07</td><td>49</td><td>Cancelled</td><td>PayPal</td><td>747</td><td>2024-12-07 23:24:11</td></tr><tr><td>null</td><td>2054</td><td>List(List(Electronics, List(Bose, Gray), 3, Wireless Headphones, 199, 2))</td><td>2024-12-20</td><td>54</td><td>Pending</td><td>Credit Card</td><td>398</td><td>2024-12-20 12:04:27</td></tr><tr><td>null</td><td>8580</td><td>List(List(Electronics, List(Microsoft, Gray), 1, Smartphone, 699, 1))</td><td>2024-12-09</td><td>58</td><td>Completed</td><td>PayPal</td><td>699</td><td>2024-12-09 22:40:58</td></tr><tr><td>null</td><td>3409</td><td>List(List(Electronics, List(Samsung, Blue), 3, Wireless Headphones, 199, 1))</td><td>2024-12-13</td><td>60</td><td>Shipped</td><td>Bank Transfer</td><td>199</td><td>2024-12-13 13:10:12</td></tr><tr><td>null</td><td>7123</td><td>List(List(Electronics, List(Canon, Black), 1, Smartphone, 699, 1))</td><td>2024-12-07</td><td>61</td><td>Completed</td><td>Bank Transfer</td><td>699</td><td>2024-12-07 07:47:19</td></tr><tr><td>null</td><td>3084</td><td>List(List(Electronics, List(Microsoft, Gray), 5, Tablet, 399, 1))</td><td>2024-12-09</td><td>65</td><td>Cancelled</td><td>Bank Transfer</td><td>399</td><td>2024-12-09 13:04:13</td></tr><tr><td>null</td><td>3084</td><td>List(List(Electronics, List(LG, Blue), 4, Smartwatch, 299, 3))</td><td>2024-12-19</td><td>67</td><td>Shipped</td><td>PayPal</td><td>897</td><td>2024-12-19 07:11:09</td></tr><tr><td>null</td><td>4973</td><td>List(List(Electronics, List(Dell, Gray), 1, Smartphone, 699, 1))</td><td>2024-12-30</td><td>69</td><td>Completed</td><td>Bank Transfer</td><td>699</td><td>2024-12-30 02:42:01</td></tr><tr><td>null</td><td>7997</td><td>List(List(Electronics, List(Sony, Black), 4, Smartwatch, 299, 3))</td><td>2024-12-04</td><td>70</td><td>Shipped</td><td>PayPal</td><td>897</td><td>2024-12-04 17:17:24</td></tr><tr><td>{\"order_id\": 71, \"customer_id\": 7997, \"order_date\": 2024-12-27, \"transaction_timestamp\": \"2024-12-27 11:16:39\", \"total_amount\": 199, \"payment_method\": \"Bank Transfer\", \"items\": [{\"item_id\": 3, \"name\": \"Wireless Headphones\", \"category\": \"Electronics\", \"price\": 199, \"quantity\": 1, \"details\": {\"brand\": \"Microsoft\", \"color\": \"Black\"}}], \"order_status\": \"Completed\"}</td><td>null</td><td>null</td><td>null</td><td>null</td><td>null</td><td>null</td><td>null</td><td>null</td></tr><tr><td>null</td><td>6167</td><td>List(List(Electronics, List(Samsung, Blue), 1, Smartphone, 699, 1))</td><td>2024-12-22</td><td>74</td><td>Pending</td><td>PayPal</td><td>699</td><td>2024-12-22 15:54:11</td></tr><tr><td>null</td><td>9687</td><td>List(List(Electronics, List(Samsung, White), 8, Gaming Console, 499, 2))</td><td>2024-12-11</td><td>80</td><td>Cancelled</td><td>Bank Transfer</td><td>998</td><td>2024-12-11 07:43:54</td></tr><tr><td>null</td><td>9687</td><td>List(List(Electronics, List(GoPro, Blue), 1, Smartphone, 699, 1))</td><td>2024-12-27</td><td>81</td><td>Completed</td><td>PayPal</td><td>699</td><td>2024-12-27 02:27:45</td></tr><tr><td>null</td><td>2344</td><td>List(List(Electronics, List(Sony, Blue), 7, External Hard Drive, 129, 3))</td><td>2024-12-28</td><td>82</td><td>Completed</td><td>PayPal</td><td>387</td><td>2024-12-28 00:54:08</td></tr><tr><td>null</td><td>5592</td><td>List(List(Electronics, List(Canon, Silver), 1, Smartphone, 699, 1))</td><td>2024-12-17</td><td>91</td><td>Cancelled</td><td>Bank Transfer</td><td>699</td><td>2024-12-17 00:09:53</td></tr><tr><td>null</td><td>6627</td><td>List(List(Electronics, List(LG, Silver), 4, Smartwatch, 299, 2))</td><td>2024-12-22</td><td>93</td><td>Pending</td><td>PayPal</td><td>598</td><td>2024-12-22 05:07:46</td></tr><tr><td>null</td><td>6627</td><td>List(List(Electronics, List(GoPro, White), 4, Smartwatch, 299, 2), List(Electronics, List(Bose, Gray), 3, Wireless Headphones, 199, 1), List(Electronics, List(Dell, Silver), 6, Bluetooth Speaker, 149, 1))</td><td>2024-12-28</td><td>95</td><td>Completed</td><td>Bank Transfer</td><td>946</td><td>2024-12-28 04:28:30</td></tr><tr><td>null</td><td>6406</td><td>List(List(Electronics, List(Microsoft, Black), 6, Bluetooth Speaker, 149, 1))</td><td>2024-12-02</td><td>96</td><td>Shipped</td><td>PayPal</td><td>149</td><td>2024-12-02 12:27:45</td></tr><tr><td>null</td><td>6406</td><td>List(List(Electronics, List(Sony, Silver), 8, Gaming Console, 499, 1))</td><td>2024-12-07</td><td>97</td><td>Completed</td><td>Bank Transfer</td><td>499</td><td>2024-12-07 16:14:34</td></tr><tr><td>null</td><td>3892</td><td>List(List(Electronics, List(Dell, Blue), 8, Gaming Console, 499, 2))</td><td>2024-11-16</td><td>5</td><td>Cancelled</td><td>Bank Transfer</td><td>998</td><td>2024-11-16 23:07:31</td></tr><tr><td>null</td><td>1987</td><td>List(List(Electronics, List(LG, Blue), 7, External Hard Drive, 129, 2), List(Electronics, List(HP, Gray), 7, External Hard Drive, 129, 3))</td><td>2024-11-19</td><td>7</td><td>Pending</td><td>Credit Card</td><td>645</td><td>2024-11-19 19:18:48</td></tr><tr><td>null</td><td>9179</td><td>List(List(Electronics, List(Apple, Black), 2, Laptop, 999, 1))</td><td>2024-11-27</td><td>9</td><td>Shipped</td><td>Bank Transfer</td><td>999</td><td>2024-11-27 13:15:29</td></tr><tr><td>null</td><td>8539</td><td>List(List(Electronics, List(Sony, Silver), 5, Tablet, 399, 2))</td><td>2024-11-18</td><td>20</td><td>Pending</td><td>PayPal</td><td>798</td><td>2024-11-18 02:38:21</td></tr><tr><td>null</td><td>8539</td><td>List(List(Electronics, List(GoPro, Blue), 6, Bluetooth Speaker, 149, 2))</td><td>2024-11-21</td><td>21</td><td>Cancelled</td><td>Bank Transfer</td><td>298</td><td>2024-11-21 11:25:35</td></tr><tr><td>null</td><td>4761</td><td>List(List(Electronics, List(Apple, Gray), 5, Tablet, 399, 1), List(Electronics, List(Dell, Gray), 4, Smartwatch, 299, 2))</td><td>2024-11-22</td><td>23</td><td>Shipped</td><td>PayPal</td><td>997</td><td>2024-11-22 16:04:05</td></tr><tr><td>null</td><td>9706</td><td>List(List(Electronics, List(LG, Gray), 2, Laptop, 999, 1))</td><td>2024-11-05</td><td>25</td><td>Completed</td><td>PayPal</td><td>999</td><td>2024-11-05 11:45:31</td></tr><tr><td>null</td><td>4996</td><td>List(List(Electronics, List(GoPro, White), 3, Wireless Headphones, 199, 1))</td><td>2024-11-12</td><td>30</td><td>Shipped</td><td>Bank Transfer</td><td>199</td><td>2024-11-12 03:20:29</td></tr><tr><td>null</td><td>4914</td><td>List(List(Electronics, List(Dell, Gray), 3, Wireless Headphones, 199, 1))</td><td>2024-11-20</td><td>35</td><td>Shipped</td><td>Bank Transfer</td><td>199</td><td>2024-11-20 19:09:04</td></tr><tr><td>null</td><td>4914</td><td>List(List(Electronics, List(Canon, Silver), 3, Wireless Headphones, 199, 1))</td><td>2024-11-02</td><td>36</td><td>Completed</td><td>PayPal</td><td>199</td><td>2024-11-02 10:39:46</td></tr><tr><td>{\"order_id\": 42, \"customer_id\": 5028, \"order_date\": 2024-11-08, \"transaction_timestamp\": \"2024-11-08 18:32:25\", \"total_amount\": 149, \"payment_method\": \"Credit Card\", \"items\": [{\"item_id\": 6, \"name\": \"Bluetooth Speaker\", \"category\": \"Electronics\", \"price\": 149, \"quantity\": 1, \"details\": {\"brand\": \"Bose\", \"color\": \"Gray\"}}], \"order_status\": \"Completed\"}</td><td>null</td><td>null</td><td>null</td><td>null</td><td>null</td><td>null</td><td>null</td><td>null</td></tr><tr><td>null</td><td>7295</td><td>List(List(Electronics, List(Dell, White), 10, Drone, 799, 1))</td><td>2024-11-07</td><td>45</td><td>Shipped</td><td>Credit Card</td><td>799</td><td>2024-11-07 15:41:43</td></tr><tr><td>null</td><td>7295</td><td>List(List(Electronics, List(Samsung, Black), 3, Wireless Headphones, 199, 1))</td><td>2024-11-26</td><td>46</td><td>Pending</td><td>PayPal</td><td>199</td><td>2024-11-26 17:16:53</td></tr><tr><td>null</td><td>7803</td><td>List(List(Electronics, List(LG, Blue), 6, Bluetooth Speaker, 149, 2))</td><td>2024-11-22</td><td>47</td><td>Shipped</td><td>Credit Card</td><td>298</td><td>2024-11-22 02:01:19</td></tr><tr><td>null</td><td>7803</td><td>List(List(Electronics, List(Apple, Black), 7, External Hard Drive, 129, 3))</td><td>2024-11-13</td><td>48</td><td>Completed</td><td>PayPal</td><td>387</td><td>2024-11-13 06:35:56</td></tr><tr><td>null</td><td>8845</td><td>List(List(Electronics, List(GoPro, White), 8, Gaming Console, 499, 2))</td><td>2024-11-19</td><td>52</td><td>Completed</td><td>PayPal</td><td>998</td><td>2024-11-19 21:23:45</td></tr><tr><td>null</td><td>8580</td><td>List(List(Electronics, List(HP, Silver), 3, Wireless Headphones, 199, 1), List(Electronics, List(Sony, Silver), 7, External Hard Drive, 129, 3))</td><td>2024-11-19</td><td>57</td><td>Cancelled</td><td>Bank Transfer</td><td>586</td><td>2024-11-19 11:32:44</td></tr><tr><td>null</td><td>7123</td><td>List(List(Electronics, List(GoPro, Blue), 3, Wireless Headphones, 199, 1), List(Electronics, List(Bose, Silver), 6, Bluetooth Speaker, 149, 3))</td><td>2024-11-24</td><td>63</td><td>Cancelled</td><td>Bank Transfer</td><td>646</td><td>2024-11-24 08:41:28</td></tr><tr><td>null</td><td>2639</td><td>List(List(Electronics, List(Microsoft, White), 7, External Hard Drive, 129, 3), List(Electronics, List(Canon, Blue), 3, Wireless Headphones, 199, 3))</td><td>2024-11-28</td><td>64</td><td>Completed</td><td>Bank Transfer</td><td>984</td><td>2024-11-28 12:23:21</td></tr><tr><td>null</td><td>9247</td><td>List(List(Electronics, List(Bose, White), 7, External Hard Drive, 129, 3))</td><td>2024-11-15</td><td>88</td><td>Cancelled</td><td>Bank Transfer</td><td>387</td><td>2024-11-15 11:39:44</td></tr><tr><td>null</td><td>9247</td><td>List(List(Electronics, List(GoPro, Silver), 6, Bluetooth Speaker, 149, 1))</td><td>2024-11-22</td><td>89</td><td>Cancelled</td><td>Bank Transfer</td><td>149</td><td>2024-11-22 12:09:15</td></tr><tr><td>null</td><td>5592</td><td>List(List(Electronics, List(Sony, Black), 7, External Hard Drive, 129, 2))</td><td>2024-11-24</td><td>92</td><td>Shipped</td><td>PayPal</td><td>258</td><td>2024-11-24 23:33:21</td></tr><tr><td>null</td><td>1987</td><td>List(List(Electronics, List(GoPro, Black), 10, Drone, 799, 1))</td><td>2024-10-28</td><td>6</td><td>Pending</td><td>Credit Card</td><td>799</td><td>2024-10-28 04:47:27</td></tr><tr><td>null</td><td>5816</td><td>List(List(Electronics, List(GoPro, White), 5, Tablet, 399, 1))</td><td>2024-10-07</td><td>10</td><td>Pending</td><td>Credit Card</td><td>399</td><td>2024-10-07 22:09:27</td></tr><tr><td>null</td><td>5816</td><td>List(List(Electronics, List(Canon, White), 4, Smartwatch, 299, 3))</td><td>2024-10-13</td><td>11</td><td>Pending</td><td>Bank Transfer</td><td>897</td><td>2024-10-13 17:34:19</td></tr><tr><td>null</td><td>7207</td><td>List(List(Electronics, List(GoPro, White), 9, Smart TV, 1199, 1))</td><td>2024-10-20</td><td>15</td><td>Completed</td><td>Bank Transfer</td><td>1199</td><td>2024-10-20 01:47:25</td></tr><tr><td>null</td><td>8539</td><td>List(List(Electronics, List(Dell, Silver), 8, Gaming Console, 499, 1))</td><td>2024-10-13</td><td>19</td><td>Shipped</td><td>PayPal</td><td>499</td><td>2024-10-13 12:40:26</td></tr><tr><td>null</td><td>9263</td><td>List(List(Electronics, List(Sony, Black), 7, External Hard Drive, 129, 3))</td><td>2024-10-29</td><td>39</td><td>Shipped</td><td>PayPal</td><td>387</td><td>2024-10-29 21:39:19</td></tr><tr><td>null</td><td>9018</td><td>List(List(Electronics, List(HP, Black), 1, Smartphone, 699, 1))</td><td>2024-10-25</td><td>55</td><td>Shipped</td><td>Bank Transfer</td><td>699</td><td>2024-10-25 05:49:16</td></tr><tr><td>null</td><td>3409</td><td>List(List(Electronics, List(Dell, Black), 8, Gaming Console, 499, 1))</td><td>2024-10-23</td><td>59</td><td>Pending</td><td>PayPal</td><td>499</td><td>2024-10-23 02:51:05</td></tr><tr><td>{\"order_id\": 72, \"customer_id\": 3889, \"order_date\": 2024-10-06, \"transaction_timestamp\": \"2024-10-06 10:23:28\", \"total_amount\": 328, \"payment_method\": \"PayPal\", \"items\": [{\"item_id\": 3, \"name\": \"Wireless Headphones\", \"category\": \"Electronics\", \"price\": 199, \"quantity\": 1, \"details\": {\"brand\": \"Microsoft\", \"color\": \"Gray\"}}, {\"item_id\": 7, \"name\": \"External Hard Drive\", \"category\": \"Electronics\", \"price\": 129, \"quantity\": 1, \"details\": {\"brand\": \"Samsung\", \"color\": \"Silver\"}}], \"order_status\": \"Cancelled\"}</td><td>null</td><td>null</td><td>null</td><td>null</td><td>null</td><td>null</td><td>null</td><td>null</td></tr><tr><td>null</td><td>9084</td><td>List(List(Electronics, List(HP, Silver), 3, Wireless Headphones, 199, 2))</td><td>2024-10-15</td><td>77</td><td>Pending</td><td>Credit Card</td><td>398</td><td>2024-10-15 13:09:33</td></tr><tr><td>null</td><td>2344</td><td>List(List(Electronics, List(Sony, Black), 10, Drone, 799, 1), List(Electronics, List(LG, Black), 3, Wireless Headphones, 199, 1))</td><td>2024-10-25</td><td>84</td><td>Completed</td><td>PayPal</td><td>998</td><td>2024-10-25 03:37:42</td></tr><tr><td>null</td><td>5011</td><td>List(List(Electronics, List(GoPro, Black), 8, Gaming Console, 499, 2))</td><td>2024-10-23</td><td>85</td><td>Shipped</td><td>Bank Transfer</td><td>998</td><td>2024-10-23 20:06:42</td></tr><tr><td>null</td><td>5011</td><td>List(List(Electronics, List(Dell, White), 9, Smart TV, 1199, 1))</td><td>2024-10-19</td><td>86</td><td>Completed</td><td>PayPal</td><td>1199</td><td>2024-10-19 13:30:47</td></tr></tbody></table></div>"
      ]
     },
     "metadata": {
      "application/vnd.databricks.v1+output": {
       "addedWidgets": {},
       "aggData": [],
       "aggError": "",
       "aggOverflow": false,
       "aggSchema": [],
       "aggSeriesLimitReached": false,
       "aggType": "",
       "arguments": {},
       "columnCustomDisplayInfos": {},
       "data": [
        [
         null,
         6973,
         [
          [
           "Electronics",
           [
            "Sony",
            "Blue"
           ],
           8,
           "Gaming Console",
           499,
           1
          ]
         ],
         "2025-01-05",
         1,
         "Completed",
         "Bank Transfer",
         499,
         "2025-01-05 10:13:59"
        ],
        [
         "{\"order_id\": 2, \"customer_id\": 3532, \"order_date\": 2025-01-19, \"transaction_timestamp\": \"2025-01-19 00:05:13\", \"total_amount\": 985, \"payment_method\": \"PayPal\", \"items\": [{\"item_id\": 4, \"name\": \"Smartwatch\", \"category\": \"Electronics\", \"price\": 299, \"quantity\": 2, \"details\": {\"brand\": \"Canon\", \"color\": \"Gray\"}}, {\"item_id\": 7, \"name\": \"External Hard Drive\", \"category\": \"Electronics\", \"price\": 129, \"quantity\": 3, \"details\": {\"brand\": \"Dell\", \"color\": \"Blue\"}}], \"order_status\": \"Cancelled\"}",
         null,
         null,
         null,
         null,
         null,
         null,
         null,
         null
        ],
        [
         null,
         3532,
         [
          [
           "Electronics",
           [
            "Apple",
            "White"
           ],
           3,
           "Wireless Headphones",
           199,
           3
          ]
         ],
         "2025-01-08",
         3,
         "Completed",
         "Bank Transfer",
         597,
         "2025-01-08 23:11:00"
        ],
        [
         null,
         3532,
         [
          [
           "Electronics",
           [
            "Microsoft",
            "Black"
           ],
           2,
           "Laptop",
           999,
           1
          ]
         ],
         "2025-01-05",
         4,
         "Cancelled",
         "Bank Transfer",
         999,
         "2025-01-05 05:49:26"
        ],
        [
         null,
         9179,
         [
          [
           "Electronics",
           [
            "LG",
            "White"
           ],
           5,
           "Tablet",
           399,
           1
          ]
         ],
         "2025-01-02",
         8,
         "Completed",
         "PayPal",
         399,
         "2025-01-02 13:11:15"
        ],
        [
         null,
         7207,
         [
          [
           "Electronics",
           [
            "Bose",
            "Blue"
           ],
           3,
           "Wireless Headphones",
           199,
           3
          ]
         ],
         "2025-01-01",
         14,
         "Cancelled",
         "PayPal",
         597,
         "2025-01-01 18:22:26"
        ],
        [
         null,
         4468,
         [
          [
           "Electronics",
           [
            "Dell",
            "Black"
           ],
           10,
           "Drone",
           799,
           1
          ]
         ],
         "2025-01-22",
         18,
         "Pending",
         "Credit Card",
         799,
         "2025-01-22 21:12:08"
        ],
        [
         "{\"order_id\": 22, \"customer_id\": 4761, \"order_date\": 2025-01-01, \"transaction_timestamp\": \"2025-01-01 15:49:19\", \"total_amount\": 199, \"payment_method\": \"PayPal\", \"items\": [{\"item_id\": 3, \"name\": \"Wireless Headphones\", \"category\": \"Electronics\", \"price\": 199, \"quantity\": 1, \"details\": {\"brand\": \"HP\", \"color\": \"Silver\"}}], \"order_status\": \"Pending\"}",
         null,
         null,
         null,
         null,
         null,
         null,
         null,
         null
        ],
        [
         null,
         7007,
         [
          [
           "Electronics",
           [
            "Samsung",
            "Silver"
           ],
           1,
           "Smartphone",
           699,
           1
          ]
         ],
         "2025-01-05",
         26,
         "Shipped",
         "Bank Transfer",
         699,
         "2025-01-05 19:01:25"
        ],
        [
         null,
         5953,
         [
          [
           "Electronics",
           [
            "Bose",
            "Gray"
           ],
           7,
           "External Hard Drive",
           129,
           1
          ],
          [
           "Electronics",
           [
            "Bose",
            "Gray"
           ],
           7,
           "External Hard Drive",
           129,
           1
          ]
         ],
         "2025-01-18",
         29,
         "Pending",
         "Bank Transfer",
         129,
         "2025-01-18 03:05:04"
        ],
        [
         null,
         4996,
         [
          [
           "Electronics",
           [
            "Dell",
            "White"
           ],
           4,
           "Smartwatch",
           299,
           1
          ]
         ],
         "2025-01-18",
         31,
         "Shipped",
         "Bank Transfer",
         299,
         "2025-01-18 03:13:29"
        ],
        [
         null,
         9605,
         [
          [
           "Electronics",
           [
            "Canon",
            "White"
           ],
           4,
           "Smartwatch",
           299,
           3
          ]
         ],
         "2025-01-13",
         33,
         "Completed",
         "PayPal",
         897,
         "2025-01-13 04:47:43"
        ],
        [
         null,
         9605,
         [
          [
           "Electronics",
           [
            "Bose",
            "Silver"
           ],
           6,
           "Bluetooth Speaker",
           149,
           2
          ],
          [
           "Electronics",
           [
            "LG",
            "Black"
           ],
           8,
           "Gaming Console",
           499,
           1
          ],
          [
           "Electronics",
           [
            "Samsung",
            "Black"
           ],
           7,
           "External Hard Drive",
           129,
           1
          ]
         ],
         "2025-01-21",
         34,
         "Cancelled",
         "PayPal",
         926,
         "2025-01-21 00:25:01"
        ],
        [
         null,
         6384,
         [
          [
           "Electronics",
           [
            "Bose",
            "Silver"
           ],
           6,
           "Bluetooth Speaker",
           149,
           2
          ]
         ],
         "2025-01-20",
         40,
         "Completed",
         "PayPal",
         298,
         "2025-01-20 16:18:35"
        ],
        [
         null,
         6384,
         [
          [
           "Electronics",
           [
            "Sony",
            "Silver"
           ],
           2,
           "Laptop",
           999,
           1
          ]
         ],
         "2025-01-05",
         41,
         "Shipped",
         "Credit Card",
         999,
         "2025-01-05 06:10:22"
        ],
        [
         null,
         5028,
         [
          [
           "Electronics",
           [
            "LG",
            "Black"
           ],
           8,
           "Gaming Console",
           499,
           1
          ]
         ],
         "2025-01-24",
         43,
         "Pending",
         "PayPal",
         499,
         "2025-01-24 18:10:37"
        ],
        [
         null,
         3712,
         [
          [
           "Electronics",
           [
            "Apple",
            "Gray"
           ],
           6,
           "Bluetooth Speaker",
           149,
           3
          ],
          [
           "Electronics",
           [
            "Sony",
            "White"
           ],
           4,
           "Smartwatch",
           299,
           1
          ]
         ],
         "2025-01-11",
         50,
         "Shipped",
         "Credit Card",
         746,
         "2025-01-11 01:19:09"
        ],
        [
         null,
         8845,
         [
          [
           "Electronics",
           [
            "Samsung",
            "Gray"
           ],
           6,
           "Bluetooth Speaker",
           149,
           1
          ]
         ],
         "2025-01-21",
         51,
         "Completed",
         "PayPal",
         149,
         "2025-01-21 13:19:59"
        ],
        [
         null,
         8845,
         [
          [
           "Electronics",
           [
            "Apple",
            "Black"
           ],
           3,
           "Wireless Headphones",
           199,
           1
          ]
         ],
         "2025-01-21",
         53,
         "Pending",
         "Bank Transfer",
         199,
         "2025-01-21 08:31:02"
        ],
        [
         null,
         8580,
         [
          [
           "Electronics",
           [
            "HP",
            "Silver"
           ],
           3,
           "Wireless Headphones",
           199,
           1
          ],
          [
           "Electronics",
           [
            "LG",
            "Gray"
           ],
           8,
           "Gaming Console",
           499,
           1
          ]
         ],
         "2025-01-01",
         56,
         "Cancelled",
         "PayPal",
         698,
         "2025-01-01 12:02:41"
        ],
        [
         null,
         7123,
         [
          [
           "Electronics",
           [
            "Dell",
            "White"
           ],
           7,
           "External Hard Drive",
           129,
           3
          ],
          [
           "Electronics",
           [
            "GoPro",
            "Blue"
           ],
           4,
           "Smartwatch",
           299,
           2
          ]
         ],
         "2025-01-24",
         62,
         "Completed",
         "Bank Transfer",
         985,
         "2025-01-24 12:00:54"
        ],
        [
         null,
         3084,
         [
          [
           "Electronics",
           [
            "Bose",
            "Silver"
           ],
           4,
           "Smartwatch",
           299,
           1
          ],
          [
           "Electronics",
           [
            "GoPro",
            "White"
           ],
           4,
           "Smartwatch",
           299,
           1
          ]
         ],
         "2025-01-17",
         66,
         "Cancelled",
         "Credit Card",
         598,
         "2025-01-17 21:16:11"
        ],
        [
         null,
         4973,
         [
          [
           "Electronics",
           [
            "Bose",
            "Gray"
           ],
           6,
           "Bluetooth Speaker",
           149,
           1
          ]
         ],
         "2025-01-10",
         68,
         "Completed",
         "Bank Transfer",
         149,
         "2025-01-10 20:35:43"
        ],
        [
         null,
         6167,
         [
          [
           "Electronics",
           [
            "GoPro",
            "Gray"
           ],
           7,
           "External Hard Drive",
           129,
           3
          ],
          [
           "Electronics",
           [
            "GoPro",
            "Gray"
           ],
           7,
           "External Hard Drive",
           129,
           3
          ]
         ],
         "2025-01-07",
         73,
         "Shipped",
         "Credit Card",
         387,
         "2025-01-07 01:02:26"
        ],
        [
         null,
         6167,
         [
          [
           "Electronics",
           [
            "GoPro",
            "White"
           ],
           1,
           "Smartphone",
           699,
           1
          ]
         ],
         "2025-01-19",
         75,
         "Shipped",
         "Credit Card",
         699,
         "2025-01-19 16:23:16"
        ],
        [
         null,
         3295,
         [
          [
           "Electronics",
           [
            "Microsoft",
            "Silver"
           ],
           5,
           "Tablet",
           399,
           1
          ]
         ],
         "2025-01-06",
         76,
         "Completed",
         "Bank Transfer",
         399,
         "2025-01-06 02:54:39"
        ],
        [
         null,
         9084,
         [
          [
           "Electronics",
           [
            "Dell",
            "White"
           ],
           5,
           "Tablet",
           399,
           2
          ]
         ],
         "2025-01-21",
         78,
         "Cancelled",
         "PayPal",
         798,
         "2025-01-21 11:42:51"
        ],
        [
         null,
         9084,
         [
          [
           "Electronics",
           [
            "Dell",
            "Gray"
           ],
           8,
           "Gaming Console",
           499,
           2
          ]
         ],
         "2025-01-25",
         79,
         "Cancelled",
         "Credit Card",
         998,
         "2025-01-25 03:52:05"
        ],
        [
         null,
         2344,
         [
          [
           "Electronics",
           [
            "Canon",
            "Gray"
           ],
           7,
           "External Hard Drive",
           129,
           3
          ],
          [
           "Electronics",
           [
            "Sony",
            "Black"
           ],
           3,
           "Wireless Headphones",
           199,
           2
          ]
         ],
         "2025-01-07",
         83,
         "Shipped",
         "PayPal",
         785,
         "2025-01-07 12:48:05"
        ],
        [
         null,
         2141,
         [
          [
           "Electronics",
           [
            "Apple",
            "Blue"
           ],
           7,
           "External Hard Drive",
           129,
           1
          ]
         ],
         "2025-01-02",
         87,
         "Pending",
         "PayPal",
         129,
         "2025-01-02 04:28:38"
        ],
        [
         null,
         9247,
         [
          [
           "Electronics",
           [
            "Canon",
            "White"
           ],
           7,
           "External Hard Drive",
           129,
           1
          ],
          [
           "Electronics",
           [
            "Samsung",
            "Black"
           ],
           7,
           "External Hard Drive",
           129,
           1
          ]
         ],
         "2025-01-17",
         90,
         "Pending",
         "Credit Card",
         258,
         "2025-01-17 14:30:54"
        ],
        [
         null,
         6627,
         [
          [
           "Electronics",
           [
            "Sony",
            "Black"
           ],
           6,
           "Bluetooth Speaker",
           149,
           2
          ],
          [
           "Electronics",
           [
            "Apple",
            "Blue"
           ],
           3,
           "Wireless Headphones",
           199,
           3
          ]
         ],
         "2025-01-10",
         94,
         "Pending",
         "Credit Card",
         895,
         "2025-01-10 09:51:48"
        ],
        [
         null,
         9150,
         [
          [
           "Electronics",
           [
            "HP",
            "Blue"
           ],
           7,
           "External Hard Drive",
           129,
           3
          ],
          [
           "Electronics",
           [
            "Samsung",
            "Gray"
           ],
           4,
           "Smartwatch",
           299,
           2
          ]
         ],
         "2025-01-08",
         98,
         "Completed",
         "Credit Card",
         985,
         "2025-01-08 05:57:55"
        ],
        [
         null,
         9150,
         [
          [
           "Electronics",
           [
            "Bose",
            "Gray"
           ],
           1,
           "Smartphone",
           699,
           1
          ]
         ],
         "2025-01-10",
         99,
         "Shipped",
         "Credit Card",
         699,
         "2025-01-10 21:43:46"
        ],
        [
         null,
         9150,
         [
          [
           "Electronics",
           [
            "LG",
            "Silver"
           ],
           6,
           "Bluetooth Speaker",
           149,
           3
          ]
         ],
         "2025-01-04",
         100,
         "Shipped",
         "PayPal",
         447,
         "2025-01-04 06:40:13"
        ],
        [
         null,
         5816,
         [
          [
           "Electronics",
           [
            "Sony",
            "White"
           ],
           2,
           "Laptop",
           999,
           1
          ]
         ],
         "2024-12-06",
         12,
         "Cancelled",
         "PayPal",
         999,
         "2024-12-06 20:26:49"
        ],
        [
         null,
         4858,
         [
          [
           "Electronics",
           [
            "GoPro",
            "Black"
           ],
           2,
           "Laptop",
           999,
           1
          ]
         ],
         "2024-12-17",
         13,
         "Pending",
         "PayPal",
         999,
         "2024-12-17 03:41:37"
        ],
        [
         null,
         5204,
         [
          [
           "Electronics",
           [
            "Sony",
            "Silver"
           ],
           3,
           "Wireless Headphones",
           199,
           3
          ]
         ],
         "2024-12-08",
         16,
         "Pending",
         "Bank Transfer",
         597,
         "2024-12-08 22:59:48"
        ],
        [
         null,
         5204,
         [
          [
           "Electronics",
           [
            "Dell",
            "Black"
           ],
           8,
           "Gaming Console",
           499,
           2
          ]
         ],
         "2024-12-02",
         17,
         "Pending",
         "Bank Transfer",
         998,
         "2024-12-02 12:00:50"
        ],
        [
         null,
         1211,
         [
          [
           "Electronics",
           [
            "GoPro",
            "Gray"
           ],
           9,
           "Smart TV",
           1199,
           1
          ]
         ],
         "2024-12-21",
         24,
         "Completed",
         "PayPal",
         1199,
         "2024-12-21 03:24:26"
        ],
        [
         null,
         2703,
         [
          [
           "Electronics",
           [
            "Dell",
            "White"
           ],
           7,
           "External Hard Drive",
           129,
           2
          ],
          [
           "Electronics",
           [
            "Canon",
            "Black"
           ],
           6,
           "Bluetooth Speaker",
           149,
           3
          ],
          [
           "Electronics",
           [
            "Microsoft",
            "Silver"
           ],
           3,
           "Wireless Headphones",
           199,
           1
          ]
         ],
         "2024-12-02",
         27,
         "Completed",
         "Credit Card",
         904,
         "2024-12-02 11:24:21"
        ],
        [
         null,
         2703,
         [
          [
           "Electronics",
           [
            "GoPro",
            "Blue"
           ],
           7,
           "External Hard Drive",
           129,
           1
          ]
         ],
         "2024-12-26",
         28,
         "Cancelled",
         "Credit Card",
         129,
         "2024-12-26 03:17:50"
        ],
        [
         null,
         4996,
         [
          [
           "Electronics",
           [
            "Apple",
            "Silver"
           ],
           5,
           "Tablet",
           399,
           1
          ]
         ],
         "2024-12-28",
         32,
         "Pending",
         "PayPal",
         399,
         "2024-12-28 08:55:57"
        ],
        [
         null,
         7829,
         [
          [
           "Electronics",
           [
            "HP",
            "Silver"
           ],
           7,
           "External Hard Drive",
           129,
           2
          ]
         ],
         "2024-12-22",
         37,
         "Shipped",
         "Credit Card",
         258,
         "2024-12-22 10:11:49"
        ],
        [
         null,
         7829,
         [
          [
           "Electronics",
           [
            "Apple",
            "Gray"
           ],
           6,
           "Bluetooth Speaker",
           149,
           3
          ]
         ],
         "2024-12-25",
         38,
         "Shipped",
         "Credit Card",
         447,
         "2024-12-25 22:05:19"
        ],
        [
         null,
         7295,
         [
          [
           "Electronics",
           [
            "Bose",
            "Blue"
           ],
           7,
           "External Hard Drive",
           129,
           1
          ]
         ],
         "2024-12-20",
         44,
         "Completed",
         "Credit Card",
         129,
         "2024-12-20 08:05:43"
        ],
        [
         null,
         7803,
         [
          [
           "Electronics",
           [
            "HP",
            "White"
           ],
           4,
           "Smartwatch",
           299,
           1
          ],
          [
           "Electronics",
           [
            "Canon",
            "Blue"
           ],
           4,
           "Smartwatch",
           299,
           1
          ],
          [
           "Electronics",
           [
            "Samsung",
            "White"
           ],
           6,
           "Bluetooth Speaker",
           149,
           1
          ]
         ],
         "2024-12-07",
         49,
         "Cancelled",
         "PayPal",
         747,
         "2024-12-07 23:24:11"
        ],
        [
         null,
         2054,
         [
          [
           "Electronics",
           [
            "Bose",
            "Gray"
           ],
           3,
           "Wireless Headphones",
           199,
           2
          ]
         ],
         "2024-12-20",
         54,
         "Pending",
         "Credit Card",
         398,
         "2024-12-20 12:04:27"
        ],
        [
         null,
         8580,
         [
          [
           "Electronics",
           [
            "Microsoft",
            "Gray"
           ],
           1,
           "Smartphone",
           699,
           1
          ]
         ],
         "2024-12-09",
         58,
         "Completed",
         "PayPal",
         699,
         "2024-12-09 22:40:58"
        ],
        [
         null,
         3409,
         [
          [
           "Electronics",
           [
            "Samsung",
            "Blue"
           ],
           3,
           "Wireless Headphones",
           199,
           1
          ]
         ],
         "2024-12-13",
         60,
         "Shipped",
         "Bank Transfer",
         199,
         "2024-12-13 13:10:12"
        ],
        [
         null,
         7123,
         [
          [
           "Electronics",
           [
            "Canon",
            "Black"
           ],
           1,
           "Smartphone",
           699,
           1
          ]
         ],
         "2024-12-07",
         61,
         "Completed",
         "Bank Transfer",
         699,
         "2024-12-07 07:47:19"
        ],
        [
         null,
         3084,
         [
          [
           "Electronics",
           [
            "Microsoft",
            "Gray"
           ],
           5,
           "Tablet",
           399,
           1
          ]
         ],
         "2024-12-09",
         65,
         "Cancelled",
         "Bank Transfer",
         399,
         "2024-12-09 13:04:13"
        ],
        [
         null,
         3084,
         [
          [
           "Electronics",
           [
            "LG",
            "Blue"
           ],
           4,
           "Smartwatch",
           299,
           3
          ]
         ],
         "2024-12-19",
         67,
         "Shipped",
         "PayPal",
         897,
         "2024-12-19 07:11:09"
        ],
        [
         null,
         4973,
         [
          [
           "Electronics",
           [
            "Dell",
            "Gray"
           ],
           1,
           "Smartphone",
           699,
           1
          ]
         ],
         "2024-12-30",
         69,
         "Completed",
         "Bank Transfer",
         699,
         "2024-12-30 02:42:01"
        ],
        [
         null,
         7997,
         [
          [
           "Electronics",
           [
            "Sony",
            "Black"
           ],
           4,
           "Smartwatch",
           299,
           3
          ]
         ],
         "2024-12-04",
         70,
         "Shipped",
         "PayPal",
         897,
         "2024-12-04 17:17:24"
        ],
        [
         "{\"order_id\": 71, \"customer_id\": 7997, \"order_date\": 2024-12-27, \"transaction_timestamp\": \"2024-12-27 11:16:39\", \"total_amount\": 199, \"payment_method\": \"Bank Transfer\", \"items\": [{\"item_id\": 3, \"name\": \"Wireless Headphones\", \"category\": \"Electronics\", \"price\": 199, \"quantity\": 1, \"details\": {\"brand\": \"Microsoft\", \"color\": \"Black\"}}], \"order_status\": \"Completed\"}",
         null,
         null,
         null,
         null,
         null,
         null,
         null,
         null
        ],
        [
         null,
         6167,
         [
          [
           "Electronics",
           [
            "Samsung",
            "Blue"
           ],
           1,
           "Smartphone",
           699,
           1
          ]
         ],
         "2024-12-22",
         74,
         "Pending",
         "PayPal",
         699,
         "2024-12-22 15:54:11"
        ],
        [
         null,
         9687,
         [
          [
           "Electronics",
           [
            "Samsung",
            "White"
           ],
           8,
           "Gaming Console",
           499,
           2
          ]
         ],
         "2024-12-11",
         80,
         "Cancelled",
         "Bank Transfer",
         998,
         "2024-12-11 07:43:54"
        ],
        [
         null,
         9687,
         [
          [
           "Electronics",
           [
            "GoPro",
            "Blue"
           ],
           1,
           "Smartphone",
           699,
           1
          ]
         ],
         "2024-12-27",
         81,
         "Completed",
         "PayPal",
         699,
         "2024-12-27 02:27:45"
        ],
        [
         null,
         2344,
         [
          [
           "Electronics",
           [
            "Sony",
            "Blue"
           ],
           7,
           "External Hard Drive",
           129,
           3
          ]
         ],
         "2024-12-28",
         82,
         "Completed",
         "PayPal",
         387,
         "2024-12-28 00:54:08"
        ],
        [
         null,
         5592,
         [
          [
           "Electronics",
           [
            "Canon",
            "Silver"
           ],
           1,
           "Smartphone",
           699,
           1
          ]
         ],
         "2024-12-17",
         91,
         "Cancelled",
         "Bank Transfer",
         699,
         "2024-12-17 00:09:53"
        ],
        [
         null,
         6627,
         [
          [
           "Electronics",
           [
            "LG",
            "Silver"
           ],
           4,
           "Smartwatch",
           299,
           2
          ]
         ],
         "2024-12-22",
         93,
         "Pending",
         "PayPal",
         598,
         "2024-12-22 05:07:46"
        ],
        [
         null,
         6627,
         [
          [
           "Electronics",
           [
            "GoPro",
            "White"
           ],
           4,
           "Smartwatch",
           299,
           2
          ],
          [
           "Electronics",
           [
            "Bose",
            "Gray"
           ],
           3,
           "Wireless Headphones",
           199,
           1
          ],
          [
           "Electronics",
           [
            "Dell",
            "Silver"
           ],
           6,
           "Bluetooth Speaker",
           149,
           1
          ]
         ],
         "2024-12-28",
         95,
         "Completed",
         "Bank Transfer",
         946,
         "2024-12-28 04:28:30"
        ],
        [
         null,
         6406,
         [
          [
           "Electronics",
           [
            "Microsoft",
            "Black"
           ],
           6,
           "Bluetooth Speaker",
           149,
           1
          ]
         ],
         "2024-12-02",
         96,
         "Shipped",
         "PayPal",
         149,
         "2024-12-02 12:27:45"
        ],
        [
         null,
         6406,
         [
          [
           "Electronics",
           [
            "Sony",
            "Silver"
           ],
           8,
           "Gaming Console",
           499,
           1
          ]
         ],
         "2024-12-07",
         97,
         "Completed",
         "Bank Transfer",
         499,
         "2024-12-07 16:14:34"
        ],
        [
         null,
         3892,
         [
          [
           "Electronics",
           [
            "Dell",
            "Blue"
           ],
           8,
           "Gaming Console",
           499,
           2
          ]
         ],
         "2024-11-16",
         5,
         "Cancelled",
         "Bank Transfer",
         998,
         "2024-11-16 23:07:31"
        ],
        [
         null,
         1987,
         [
          [
           "Electronics",
           [
            "LG",
            "Blue"
           ],
           7,
           "External Hard Drive",
           129,
           2
          ],
          [
           "Electronics",
           [
            "HP",
            "Gray"
           ],
           7,
           "External Hard Drive",
           129,
           3
          ]
         ],
         "2024-11-19",
         7,
         "Pending",
         "Credit Card",
         645,
         "2024-11-19 19:18:48"
        ],
        [
         null,
         9179,
         [
          [
           "Electronics",
           [
            "Apple",
            "Black"
           ],
           2,
           "Laptop",
           999,
           1
          ]
         ],
         "2024-11-27",
         9,
         "Shipped",
         "Bank Transfer",
         999,
         "2024-11-27 13:15:29"
        ],
        [
         null,
         8539,
         [
          [
           "Electronics",
           [
            "Sony",
            "Silver"
           ],
           5,
           "Tablet",
           399,
           2
          ]
         ],
         "2024-11-18",
         20,
         "Pending",
         "PayPal",
         798,
         "2024-11-18 02:38:21"
        ],
        [
         null,
         8539,
         [
          [
           "Electronics",
           [
            "GoPro",
            "Blue"
           ],
           6,
           "Bluetooth Speaker",
           149,
           2
          ]
         ],
         "2024-11-21",
         21,
         "Cancelled",
         "Bank Transfer",
         298,
         "2024-11-21 11:25:35"
        ],
        [
         null,
         4761,
         [
          [
           "Electronics",
           [
            "Apple",
            "Gray"
           ],
           5,
           "Tablet",
           399,
           1
          ],
          [
           "Electronics",
           [
            "Dell",
            "Gray"
           ],
           4,
           "Smartwatch",
           299,
           2
          ]
         ],
         "2024-11-22",
         23,
         "Shipped",
         "PayPal",
         997,
         "2024-11-22 16:04:05"
        ],
        [
         null,
         9706,
         [
          [
           "Electronics",
           [
            "LG",
            "Gray"
           ],
           2,
           "Laptop",
           999,
           1
          ]
         ],
         "2024-11-05",
         25,
         "Completed",
         "PayPal",
         999,
         "2024-11-05 11:45:31"
        ],
        [
         null,
         4996,
         [
          [
           "Electronics",
           [
            "GoPro",
            "White"
           ],
           3,
           "Wireless Headphones",
           199,
           1
          ]
         ],
         "2024-11-12",
         30,
         "Shipped",
         "Bank Transfer",
         199,
         "2024-11-12 03:20:29"
        ],
        [
         null,
         4914,
         [
          [
           "Electronics",
           [
            "Dell",
            "Gray"
           ],
           3,
           "Wireless Headphones",
           199,
           1
          ]
         ],
         "2024-11-20",
         35,
         "Shipped",
         "Bank Transfer",
         199,
         "2024-11-20 19:09:04"
        ],
        [
         null,
         4914,
         [
          [
           "Electronics",
           [
            "Canon",
            "Silver"
           ],
           3,
           "Wireless Headphones",
           199,
           1
          ]
         ],
         "2024-11-02",
         36,
         "Completed",
         "PayPal",
         199,
         "2024-11-02 10:39:46"
        ],
        [
         "{\"order_id\": 42, \"customer_id\": 5028, \"order_date\": 2024-11-08, \"transaction_timestamp\": \"2024-11-08 18:32:25\", \"total_amount\": 149, \"payment_method\": \"Credit Card\", \"items\": [{\"item_id\": 6, \"name\": \"Bluetooth Speaker\", \"category\": \"Electronics\", \"price\": 149, \"quantity\": 1, \"details\": {\"brand\": \"Bose\", \"color\": \"Gray\"}}], \"order_status\": \"Completed\"}",
         null,
         null,
         null,
         null,
         null,
         null,
         null,
         null
        ],
        [
         null,
         7295,
         [
          [
           "Electronics",
           [
            "Dell",
            "White"
           ],
           10,
           "Drone",
           799,
           1
          ]
         ],
         "2024-11-07",
         45,
         "Shipped",
         "Credit Card",
         799,
         "2024-11-07 15:41:43"
        ],
        [
         null,
         7295,
         [
          [
           "Electronics",
           [
            "Samsung",
            "Black"
           ],
           3,
           "Wireless Headphones",
           199,
           1
          ]
         ],
         "2024-11-26",
         46,
         "Pending",
         "PayPal",
         199,
         "2024-11-26 17:16:53"
        ],
        [
         null,
         7803,
         [
          [
           "Electronics",
           [
            "LG",
            "Blue"
           ],
           6,
           "Bluetooth Speaker",
           149,
           2
          ]
         ],
         "2024-11-22",
         47,
         "Shipped",
         "Credit Card",
         298,
         "2024-11-22 02:01:19"
        ],
        [
         null,
         7803,
         [
          [
           "Electronics",
           [
            "Apple",
            "Black"
           ],
           7,
           "External Hard Drive",
           129,
           3
          ]
         ],
         "2024-11-13",
         48,
         "Completed",
         "PayPal",
         387,
         "2024-11-13 06:35:56"
        ],
        [
         null,
         8845,
         [
          [
           "Electronics",
           [
            "GoPro",
            "White"
           ],
           8,
           "Gaming Console",
           499,
           2
          ]
         ],
         "2024-11-19",
         52,
         "Completed",
         "PayPal",
         998,
         "2024-11-19 21:23:45"
        ],
        [
         null,
         8580,
         [
          [
           "Electronics",
           [
            "HP",
            "Silver"
           ],
           3,
           "Wireless Headphones",
           199,
           1
          ],
          [
           "Electronics",
           [
            "Sony",
            "Silver"
           ],
           7,
           "External Hard Drive",
           129,
           3
          ]
         ],
         "2024-11-19",
         57,
         "Cancelled",
         "Bank Transfer",
         586,
         "2024-11-19 11:32:44"
        ],
        [
         null,
         7123,
         [
          [
           "Electronics",
           [
            "GoPro",
            "Blue"
           ],
           3,
           "Wireless Headphones",
           199,
           1
          ],
          [
           "Electronics",
           [
            "Bose",
            "Silver"
           ],
           6,
           "Bluetooth Speaker",
           149,
           3
          ]
         ],
         "2024-11-24",
         63,
         "Cancelled",
         "Bank Transfer",
         646,
         "2024-11-24 08:41:28"
        ],
        [
         null,
         2639,
         [
          [
           "Electronics",
           [
            "Microsoft",
            "White"
           ],
           7,
           "External Hard Drive",
           129,
           3
          ],
          [
           "Electronics",
           [
            "Canon",
            "Blue"
           ],
           3,
           "Wireless Headphones",
           199,
           3
          ]
         ],
         "2024-11-28",
         64,
         "Completed",
         "Bank Transfer",
         984,
         "2024-11-28 12:23:21"
        ],
        [
         null,
         9247,
         [
          [
           "Electronics",
           [
            "Bose",
            "White"
           ],
           7,
           "External Hard Drive",
           129,
           3
          ]
         ],
         "2024-11-15",
         88,
         "Cancelled",
         "Bank Transfer",
         387,
         "2024-11-15 11:39:44"
        ],
        [
         null,
         9247,
         [
          [
           "Electronics",
           [
            "GoPro",
            "Silver"
           ],
           6,
           "Bluetooth Speaker",
           149,
           1
          ]
         ],
         "2024-11-22",
         89,
         "Cancelled",
         "Bank Transfer",
         149,
         "2024-11-22 12:09:15"
        ],
        [
         null,
         5592,
         [
          [
           "Electronics",
           [
            "Sony",
            "Black"
           ],
           7,
           "External Hard Drive",
           129,
           2
          ]
         ],
         "2024-11-24",
         92,
         "Shipped",
         "PayPal",
         258,
         "2024-11-24 23:33:21"
        ],
        [
         null,
         1987,
         [
          [
           "Electronics",
           [
            "GoPro",
            "Black"
           ],
           10,
           "Drone",
           799,
           1
          ]
         ],
         "2024-10-28",
         6,
         "Pending",
         "Credit Card",
         799,
         "2024-10-28 04:47:27"
        ],
        [
         null,
         5816,
         [
          [
           "Electronics",
           [
            "GoPro",
            "White"
           ],
           5,
           "Tablet",
           399,
           1
          ]
         ],
         "2024-10-07",
         10,
         "Pending",
         "Credit Card",
         399,
         "2024-10-07 22:09:27"
        ],
        [
         null,
         5816,
         [
          [
           "Electronics",
           [
            "Canon",
            "White"
           ],
           4,
           "Smartwatch",
           299,
           3
          ]
         ],
         "2024-10-13",
         11,
         "Pending",
         "Bank Transfer",
         897,
         "2024-10-13 17:34:19"
        ],
        [
         null,
         7207,
         [
          [
           "Electronics",
           [
            "GoPro",
            "White"
           ],
           9,
           "Smart TV",
           1199,
           1
          ]
         ],
         "2024-10-20",
         15,
         "Completed",
         "Bank Transfer",
         1199,
         "2024-10-20 01:47:25"
        ],
        [
         null,
         8539,
         [
          [
           "Electronics",
           [
            "Dell",
            "Silver"
           ],
           8,
           "Gaming Console",
           499,
           1
          ]
         ],
         "2024-10-13",
         19,
         "Shipped",
         "PayPal",
         499,
         "2024-10-13 12:40:26"
        ],
        [
         null,
         9263,
         [
          [
           "Electronics",
           [
            "Sony",
            "Black"
           ],
           7,
           "External Hard Drive",
           129,
           3
          ]
         ],
         "2024-10-29",
         39,
         "Shipped",
         "PayPal",
         387,
         "2024-10-29 21:39:19"
        ],
        [
         null,
         9018,
         [
          [
           "Electronics",
           [
            "HP",
            "Black"
           ],
           1,
           "Smartphone",
           699,
           1
          ]
         ],
         "2024-10-25",
         55,
         "Shipped",
         "Bank Transfer",
         699,
         "2024-10-25 05:49:16"
        ],
        [
         null,
         3409,
         [
          [
           "Electronics",
           [
            "Dell",
            "Black"
           ],
           8,
           "Gaming Console",
           499,
           1
          ]
         ],
         "2024-10-23",
         59,
         "Pending",
         "PayPal",
         499,
         "2024-10-23 02:51:05"
        ],
        [
         "{\"order_id\": 72, \"customer_id\": 3889, \"order_date\": 2024-10-06, \"transaction_timestamp\": \"2024-10-06 10:23:28\", \"total_amount\": 328, \"payment_method\": \"PayPal\", \"items\": [{\"item_id\": 3, \"name\": \"Wireless Headphones\", \"category\": \"Electronics\", \"price\": 199, \"quantity\": 1, \"details\": {\"brand\": \"Microsoft\", \"color\": \"Gray\"}}, {\"item_id\": 7, \"name\": \"External Hard Drive\", \"category\": \"Electronics\", \"price\": 129, \"quantity\": 1, \"details\": {\"brand\": \"Samsung\", \"color\": \"Silver\"}}], \"order_status\": \"Cancelled\"}",
         null,
         null,
         null,
         null,
         null,
         null,
         null,
         null
        ],
        [
         null,
         9084,
         [
          [
           "Electronics",
           [
            "HP",
            "Silver"
           ],
           3,
           "Wireless Headphones",
           199,
           2
          ]
         ],
         "2024-10-15",
         77,
         "Pending",
         "Credit Card",
         398,
         "2024-10-15 13:09:33"
        ],
        [
         null,
         2344,
         [
          [
           "Electronics",
           [
            "Sony",
            "Black"
           ],
           10,
           "Drone",
           799,
           1
          ],
          [
           "Electronics",
           [
            "LG",
            "Black"
           ],
           3,
           "Wireless Headphones",
           199,
           1
          ]
         ],
         "2024-10-25",
         84,
         "Completed",
         "PayPal",
         998,
         "2024-10-25 03:37:42"
        ],
        [
         null,
         5011,
         [
          [
           "Electronics",
           [
            "GoPro",
            "Black"
           ],
           8,
           "Gaming Console",
           499,
           2
          ]
         ],
         "2024-10-23",
         85,
         "Shipped",
         "Bank Transfer",
         998,
         "2024-10-23 20:06:42"
        ],
        [
         null,
         5011,
         [
          [
           "Electronics",
           [
            "Dell",
            "White"
           ],
           9,
           "Smart TV",
           1199,
           1
          ]
         ],
         "2024-10-19",
         86,
         "Completed",
         "PayPal",
         1199,
         "2024-10-19 13:30:47"
        ]
       ],
       "datasetInfos": [
        {
         "name": "_sqldf",
         "schema": {
          "fields": [
           {
            "metadata": {},
            "name": "_corrupt_record",
            "nullable": true,
            "type": "string"
           },
           {
            "metadata": {},
            "name": "customer_id",
            "nullable": true,
            "type": "long"
           },
           {
            "metadata": {},
            "name": "items",
            "nullable": true,
            "type": {
             "containsNull": true,
             "elementType": {
              "fields": [
               {
                "metadata": {},
                "name": "category",
                "nullable": true,
                "type": "string"
               },
               {
                "metadata": {},
                "name": "details",
                "nullable": true,
                "type": {
                 "fields": [
                  {
                   "metadata": {},
                   "name": "brand",
                   "nullable": true,
                   "type": "string"
                  },
                  {
                   "metadata": {},
                   "name": "color",
                   "nullable": true,
                   "type": "string"
                  }
                 ],
                 "type": "struct"
                }
               },
               {
                "metadata": {},
                "name": "item_id",
                "nullable": true,
                "type": "long"
               },
               {
                "metadata": {},
                "name": "name",
                "nullable": true,
                "type": "string"
               },
               {
                "metadata": {},
                "name": "price",
                "nullable": true,
                "type": "long"
               },
               {
                "metadata": {},
                "name": "quantity",
                "nullable": true,
                "type": "long"
               }
              ],
              "type": "struct"
             },
             "type": "array"
            }
           },
           {
            "metadata": {},
            "name": "order_date",
            "nullable": true,
            "type": "string"
           },
           {
            "metadata": {},
            "name": "order_id",
            "nullable": true,
            "type": "long"
           },
           {
            "metadata": {},
            "name": "order_status",
            "nullable": true,
            "type": "string"
           },
           {
            "metadata": {},
            "name": "payment_method",
            "nullable": true,
            "type": "string"
           },
           {
            "metadata": {},
            "name": "total_amount",
            "nullable": true,
            "type": "long"
           },
           {
            "metadata": {},
            "name": "transaction_timestamp",
            "nullable": true,
            "type": "string"
           }
          ],
          "type": "struct"
         },
         "tableIdentifier": null,
         "typeStr": "pyspark.sql.connect.dataframe.DataFrame"
        }
       ],
       "dbfsResultPath": null,
       "isJsonSchema": true,
       "metadata": {
        "createTempViewForImplicitDf": true,
        "dataframeName": "_sqldf",
        "executionCount": 2
       },
       "overflow": false,
       "plotOptions": {
        "customPlotOptions": {},
        "displayType": "table",
        "pivotAggregation": null,
        "pivotColumns": null,
        "xColumns": null,
        "yColumns": null
       },
       "removedWidgets": [],
       "schema": [
        {
         "metadata": "{}",
         "name": "_corrupt_record",
         "type": "\"string\""
        },
        {
         "metadata": "{}",
         "name": "customer_id",
         "type": "\"long\""
        },
        {
         "metadata": "{}",
         "name": "items",
         "type": "{\"containsNull\":true,\"elementType\":{\"fields\":[{\"metadata\":{},\"name\":\"category\",\"nullable\":true,\"type\":\"string\"},{\"metadata\":{},\"name\":\"details\",\"nullable\":true,\"type\":{\"fields\":[{\"metadata\":{},\"name\":\"brand\",\"nullable\":true,\"type\":\"string\"},{\"metadata\":{},\"name\":\"color\",\"nullable\":true,\"type\":\"string\"}],\"type\":\"struct\"}},{\"metadata\":{},\"name\":\"item_id\",\"nullable\":true,\"type\":\"long\"},{\"metadata\":{},\"name\":\"name\",\"nullable\":true,\"type\":\"string\"},{\"metadata\":{},\"name\":\"price\",\"nullable\":true,\"type\":\"long\"},{\"metadata\":{},\"name\":\"quantity\",\"nullable\":true,\"type\":\"long\"}],\"type\":\"struct\"},\"type\":\"array\"}"
        },
        {
         "metadata": "{}",
         "name": "order_date",
         "type": "\"string\""
        },
        {
         "metadata": "{}",
         "name": "order_id",
         "type": "\"long\""
        },
        {
         "metadata": "{}",
         "name": "order_status",
         "type": "\"string\""
        },
        {
         "metadata": "{}",
         "name": "payment_method",
         "type": "\"string\""
        },
        {
         "metadata": "{}",
         "name": "total_amount",
         "type": "\"long\""
        },
        {
         "metadata": "{}",
         "name": "transaction_timestamp",
         "type": "\"string\""
        }
       ],
       "type": "table"
      }
     },
     "output_type": "display_data"
    }
   ],
   "source": [
    "%sql\n",
    "select * from json.`/Volumes/gizmobox/landing/operational_data/orders/`"
   ]
  },
  {
   "cell_type": "markdown",
   "metadata": {
    "application/vnd.databricks.v1+cell": {
     "cellMetadata": {},
     "inputWidgets": {},
     "nuid": "59e64c1a-0203-4667-a6fc-090d865f58cb",
     "showTitle": false,
     "tableResultSettingsMap": {},
     "title": ""
    }
   },
   "source": [
    "#### 2- Query orders file using TEXT Format"
   ]
  },
  {
   "cell_type": "code",
   "execution_count": 0,
   "metadata": {
    "application/vnd.databricks.v1+cell": {
     "cellMetadata": {
      "byteLimit": 2048000,
      "implicitDf": true,
      "rowLimit": 10000
     },
     "inputWidgets": {},
     "nuid": "3f7cb845-8bd8-48f3-9d81-7b5d08ec11e8",
     "showTitle": false,
     "tableResultSettingsMap": {},
     "title": ""
    }
   },
   "outputs": [
    {
     "output_type": "display_data",
     "data": {
      "text/html": [
       "<style scoped>\n",
       "  .table-result-container {\n",
       "    max-height: 300px;\n",
       "    overflow: auto;\n",
       "  }\n",
       "  table, th, td {\n",
       "    border: 1px solid black;\n",
       "    border-collapse: collapse;\n",
       "  }\n",
       "  th, td {\n",
       "    padding: 5px;\n",
       "  }\n",
       "  th {\n",
       "    text-align: left;\n",
       "  }\n",
       "</style><div class='table-result-container'><table class='table-result'><thead style='background-color: white'><tr><th>value</th></tr></thead><tbody><tr><td>{\"order_id\": 1, \"customer_id\": 6973, \"order_date\": \"2025-01-05\", \"transaction_timestamp\": \"2025-01-05 10:13:59\", \"total_amount\": 499, \"payment_method\": \"Bank Transfer\", \"items\": [{\"item_id\": 8, \"name\": \"Gaming Console\", \"category\": \"Electronics\", \"price\": 499, \"quantity\": 1, \"details\": {\"brand\": \"Sony\", \"color\": \"Blue\"}}], \"order_status\": \"Completed\"}</td></tr><tr><td>{\"order_id\": 2, \"customer_id\": 3532, \"order_date\": 2025-01-19, \"transaction_timestamp\": \"2025-01-19 00:05:13\", \"total_amount\": 985, \"payment_method\": \"PayPal\", \"items\": [{\"item_id\": 4, \"name\": \"Smartwatch\", \"category\": \"Electronics\", \"price\": 299, \"quantity\": 2, \"details\": {\"brand\": \"Canon\", \"color\": \"Gray\"}}, {\"item_id\": 7, \"name\": \"External Hard Drive\", \"category\": \"Electronics\", \"price\": 129, \"quantity\": 3, \"details\": {\"brand\": \"Dell\", \"color\": \"Blue\"}}], \"order_status\": \"Cancelled\"}</td></tr><tr><td>{\"order_id\": 3, \"customer_id\": 3532, \"order_date\": \"2025-01-08\", \"transaction_timestamp\": \"2025-01-08 23:11:00\", \"total_amount\": 597, \"payment_method\": \"Bank Transfer\", \"items\": [{\"item_id\": 3, \"name\": \"Wireless Headphones\", \"category\": \"Electronics\", \"price\": 199, \"quantity\": 3, \"details\": {\"brand\": \"Apple\", \"color\": \"White\"}}], \"order_status\": \"Completed\"}</td></tr><tr><td>{\"order_id\": 4, \"customer_id\": 3532, \"order_date\": \"2025-01-05\", \"transaction_timestamp\": \"2025-01-05 05:49:26\", \"total_amount\": 999, \"payment_method\": \"Bank Transfer\", \"items\": [{\"item_id\": 2, \"name\": \"Laptop\", \"category\": \"Electronics\", \"price\": 999, \"quantity\": 1, \"details\": {\"brand\": \"Microsoft\", \"color\": \"Black\"}}], \"order_status\": \"Cancelled\"}</td></tr><tr><td>{\"order_id\": 8, \"customer_id\": 9179, \"order_date\": \"2025-01-02\", \"transaction_timestamp\": \"2025-01-02 13:11:15\", \"total_amount\": 399, \"payment_method\": \"PayPal\", \"items\": [{\"item_id\": 5, \"name\": \"Tablet\", \"category\": \"Electronics\", \"price\": 399, \"quantity\": 1, \"details\": {\"brand\": \"LG\", \"color\": \"White\"}}], \"order_status\": \"Completed\"}</td></tr><tr><td>{\"order_id\": 14, \"customer_id\": 7207, \"order_date\": \"2025-01-01\", \"transaction_timestamp\": \"2025-01-01 18:22:26\", \"total_amount\": 597, \"payment_method\": \"PayPal\", \"items\": [{\"item_id\": 3, \"name\": \"Wireless Headphones\", \"category\": \"Electronics\", \"price\": 199, \"quantity\": 3, \"details\": {\"brand\": \"Bose\", \"color\": \"Blue\"}}], \"order_status\": \"Cancelled\"}</td></tr><tr><td>{\"order_id\": 18, \"customer_id\": 4468, \"order_date\": \"2025-01-22\", \"transaction_timestamp\": \"2025-01-22 21:12:08\", \"total_amount\": 799, \"payment_method\": \"Credit Card\", \"items\": [{\"item_id\": 10, \"name\": \"Drone\", \"category\": \"Electronics\", \"price\": 799, \"quantity\": 1, \"details\": {\"brand\": \"Dell\", \"color\": \"Black\"}}], \"order_status\": \"Pending\"}</td></tr><tr><td>{\"order_id\": 22, \"customer_id\": 4761, \"order_date\": 2025-01-01, \"transaction_timestamp\": \"2025-01-01 15:49:19\", \"total_amount\": 199, \"payment_method\": \"PayPal\", \"items\": [{\"item_id\": 3, \"name\": \"Wireless Headphones\", \"category\": \"Electronics\", \"price\": 199, \"quantity\": 1, \"details\": {\"brand\": \"HP\", \"color\": \"Silver\"}}], \"order_status\": \"Pending\"}</td></tr><tr><td>{\"order_id\": 26, \"customer_id\": 7007, \"order_date\": \"2025-01-05\", \"transaction_timestamp\": \"2025-01-05 19:01:25\", \"total_amount\": 699, \"payment_method\": \"Bank Transfer\", \"items\": [{\"item_id\": 1, \"name\": \"Smartphone\", \"category\": \"Electronics\", \"price\": 699, \"quantity\": 1, \"details\": {\"brand\": \"Samsung\", \"color\": \"Silver\"}}], \"order_status\": \"Shipped\"}</td></tr><tr><td>{\"order_id\": 29, \"customer_id\": 5953, \"order_date\": \"2025-01-18\", \"transaction_timestamp\": \"2025-01-18 03:05:04\", \"total_amount\": 129, \"payment_method\": \"Bank Transfer\", \"items\": [{\"item_id\": 7, \"name\": \"External Hard Drive\", \"category\": \"Electronics\", \"price\": 129, \"quantity\": 1, \"details\": {\"brand\": \"Bose\", \"color\": \"Gray\"}}, {\"item_id\": 7, \"name\": \"External Hard Drive\", \"category\": \"Electronics\", \"price\": 129, \"quantity\": 1, \"details\": {\"brand\": \"Bose\", \"color\": \"Gray\"}}], \"order_status\": \"Pending\"}</td></tr><tr><td>{\"order_id\": 31, \"customer_id\": 4996, \"order_date\": \"2025-01-18\", \"transaction_timestamp\": \"2025-01-18 03:13:29\", \"total_amount\": 299, \"payment_method\": \"Bank Transfer\", \"items\": [{\"item_id\": 4, \"name\": \"Smartwatch\", \"category\": \"Electronics\", \"price\": 299, \"quantity\": 1, \"details\": {\"brand\": \"Dell\", \"color\": \"White\"}}], \"order_status\": \"Shipped\"}</td></tr><tr><td>{\"order_id\": 33, \"customer_id\": 9605, \"order_date\": \"2025-01-13\", \"transaction_timestamp\": \"2025-01-13 04:47:43\", \"total_amount\": 897, \"payment_method\": \"PayPal\", \"items\": [{\"item_id\": 4, \"name\": \"Smartwatch\", \"category\": \"Electronics\", \"price\": 299, \"quantity\": 3, \"details\": {\"brand\": \"Canon\", \"color\": \"White\"}}], \"order_status\": \"Completed\"}</td></tr><tr><td>{\"order_id\": 34, \"customer_id\": 9605, \"order_date\": \"2025-01-21\", \"transaction_timestamp\": \"2025-01-21 00:25:01\", \"total_amount\": 926, \"payment_method\": \"PayPal\", \"items\": [{\"item_id\": 6, \"name\": \"Bluetooth Speaker\", \"category\": \"Electronics\", \"price\": 149, \"quantity\": 2, \"details\": {\"brand\": \"Bose\", \"color\": \"Silver\"}}, {\"item_id\": 8, \"name\": \"Gaming Console\", \"category\": \"Electronics\", \"price\": 499, \"quantity\": 1, \"details\": {\"brand\": \"LG\", \"color\": \"Black\"}}, {\"item_id\": 7, \"name\": \"External Hard Drive\", \"category\": \"Electronics\", \"price\": 129, \"quantity\": 1, \"details\": {\"brand\": \"Samsung\", \"color\": \"Black\"}}], \"order_status\": \"Cancelled\"}</td></tr><tr><td>{\"order_id\": 40, \"customer_id\": 6384, \"order_date\": \"2025-01-20\", \"transaction_timestamp\": \"2025-01-20 16:18:35\", \"total_amount\": 298, \"payment_method\": \"PayPal\", \"items\": [{\"item_id\": 6, \"name\": \"Bluetooth Speaker\", \"category\": \"Electronics\", \"price\": 149, \"quantity\": 2, \"details\": {\"brand\": \"Bose\", \"color\": \"Silver\"}}], \"order_status\": \"Completed\"}</td></tr><tr><td>{\"order_id\": 41, \"customer_id\": 6384, \"order_date\": \"2025-01-05\", \"transaction_timestamp\": \"2025-01-05 06:10:22\", \"total_amount\": 999, \"payment_method\": \"Credit Card\", \"items\": [{\"item_id\": 2, \"name\": \"Laptop\", \"category\": \"Electronics\", \"price\": 999, \"quantity\": 1, \"details\": {\"brand\": \"Sony\", \"color\": \"Silver\"}}], \"order_status\": \"Shipped\"}</td></tr><tr><td>{\"order_id\": 43, \"customer_id\": 5028, \"order_date\": \"2025-01-24\", \"transaction_timestamp\": \"2025-01-24 18:10:37\", \"total_amount\": 499, \"payment_method\": \"PayPal\", \"items\": [{\"item_id\": 8, \"name\": \"Gaming Console\", \"category\": \"Electronics\", \"price\": 499, \"quantity\": 1, \"details\": {\"brand\": \"LG\", \"color\": \"Black\"}}], \"order_status\": \"Pending\"}</td></tr><tr><td>{\"order_id\": 50, \"customer_id\": 3712, \"order_date\": \"2025-01-11\", \"transaction_timestamp\": \"2025-01-11 01:19:09\", \"total_amount\": 746, \"payment_method\": \"Credit Card\", \"items\": [{\"item_id\": 6, \"name\": \"Bluetooth Speaker\", \"category\": \"Electronics\", \"price\": 149, \"quantity\": 3, \"details\": {\"brand\": \"Apple\", \"color\": \"Gray\"}}, {\"item_id\": 4, \"name\": \"Smartwatch\", \"category\": \"Electronics\", \"price\": 299, \"quantity\": 1, \"details\": {\"brand\": \"Sony\", \"color\": \"White\"}}], \"order_status\": \"Shipped\"}</td></tr><tr><td>{\"order_id\": 51, \"customer_id\": 8845, \"order_date\": \"2025-01-21\", \"transaction_timestamp\": \"2025-01-21 13:19:59\", \"total_amount\": 149, \"payment_method\": \"PayPal\", \"items\": [{\"item_id\": 6, \"name\": \"Bluetooth Speaker\", \"category\": \"Electronics\", \"price\": 149, \"quantity\": 1, \"details\": {\"brand\": \"Samsung\", \"color\": \"Gray\"}}], \"order_status\": \"Completed\"}</td></tr><tr><td>{\"order_id\": 53, \"customer_id\": 8845, \"order_date\": \"2025-01-21\", \"transaction_timestamp\": \"2025-01-21 08:31:02\", \"total_amount\": 199, \"payment_method\": \"Bank Transfer\", \"items\": [{\"item_id\": 3, \"name\": \"Wireless Headphones\", \"category\": \"Electronics\", \"price\": 199, \"quantity\": 1, \"details\": {\"brand\": \"Apple\", \"color\": \"Black\"}}], \"order_status\": \"Pending\"}</td></tr><tr><td>{\"order_id\": 56, \"customer_id\": 8580, \"order_date\": \"2025-01-01\", \"transaction_timestamp\": \"2025-01-01 12:02:41\", \"total_amount\": 698, \"payment_method\": \"PayPal\", \"items\": [{\"item_id\": 3, \"name\": \"Wireless Headphones\", \"category\": \"Electronics\", \"price\": 199, \"quantity\": 1, \"details\": {\"brand\": \"HP\", \"color\": \"Silver\"}}, {\"item_id\": 8, \"name\": \"Gaming Console\", \"category\": \"Electronics\", \"price\": 499, \"quantity\": 1, \"details\": {\"brand\": \"LG\", \"color\": \"Gray\"}}], \"order_status\": \"Cancelled\"}</td></tr><tr><td>{\"order_id\": 62, \"customer_id\": 7123, \"order_date\": \"2025-01-24\", \"transaction_timestamp\": \"2025-01-24 12:00:54\", \"total_amount\": 985, \"payment_method\": \"Bank Transfer\", \"items\": [{\"item_id\": 7, \"name\": \"External Hard Drive\", \"category\": \"Electronics\", \"price\": 129, \"quantity\": 3, \"details\": {\"brand\": \"Dell\", \"color\": \"White\"}}, {\"item_id\": 4, \"name\": \"Smartwatch\", \"category\": \"Electronics\", \"price\": 299, \"quantity\": 2, \"details\": {\"brand\": \"GoPro\", \"color\": \"Blue\"}}], \"order_status\": \"Completed\"}</td></tr><tr><td>{\"order_id\": 66, \"customer_id\": 3084, \"order_date\": \"2025-01-17\", \"transaction_timestamp\": \"2025-01-17 21:16:11\", \"total_amount\": 598, \"payment_method\": \"Credit Card\", \"items\": [{\"item_id\": 4, \"name\": \"Smartwatch\", \"category\": \"Electronics\", \"price\": 299, \"quantity\": 1, \"details\": {\"brand\": \"Bose\", \"color\": \"Silver\"}}, {\"item_id\": 4, \"name\": \"Smartwatch\", \"category\": \"Electronics\", \"price\": 299, \"quantity\": 1, \"details\": {\"brand\": \"GoPro\", \"color\": \"White\"}}], \"order_status\": \"Cancelled\"}</td></tr><tr><td>{\"order_id\": 68, \"customer_id\": 4973, \"order_date\": \"2025-01-10\", \"transaction_timestamp\": \"2025-01-10 20:35:43\", \"total_amount\": 149, \"payment_method\": \"Bank Transfer\", \"items\": [{\"item_id\": 6, \"name\": \"Bluetooth Speaker\", \"category\": \"Electronics\", \"price\": 149, \"quantity\": 1, \"details\": {\"brand\": \"Bose\", \"color\": \"Gray\"}}], \"order_status\": \"Completed\"}</td></tr><tr><td>{\"order_id\": 73, \"customer_id\": 6167, \"order_date\": \"2025-01-07\", \"transaction_timestamp\": \"2025-01-07 01:02:26\", \"total_amount\": 387, \"payment_method\": \"Credit Card\", \"items\": [{\"item_id\": 7, \"name\": \"External Hard Drive\", \"category\": \"Electronics\", \"price\": 129, \"quantity\": 3, \"details\": {\"brand\": \"GoPro\", \"color\": \"Gray\"}}, {\"item_id\": 7, \"name\": \"External Hard Drive\", \"category\": \"Electronics\", \"price\": 129, \"quantity\": 3, \"details\": {\"brand\": \"GoPro\", \"color\": \"Gray\"}}], \"order_status\": \"Shipped\"}</td></tr><tr><td>{\"order_id\": 75, \"customer_id\": 6167, \"order_date\": \"2025-01-19\", \"transaction_timestamp\": \"2025-01-19 16:23:16\", \"total_amount\": 699, \"payment_method\": \"Credit Card\", \"items\": [{\"item_id\": 1, \"name\": \"Smartphone\", \"category\": \"Electronics\", \"price\": 699, \"quantity\": 1, \"details\": {\"brand\": \"GoPro\", \"color\": \"White\"}}], \"order_status\": \"Shipped\"}</td></tr><tr><td>{\"order_id\": 76, \"customer_id\": 3295, \"order_date\": \"2025-01-06\", \"transaction_timestamp\": \"2025-01-06 02:54:39\", \"total_amount\": 399, \"payment_method\": \"Bank Transfer\", \"items\": [{\"item_id\": 5, \"name\": \"Tablet\", \"category\": \"Electronics\", \"price\": 399, \"quantity\": 1, \"details\": {\"brand\": \"Microsoft\", \"color\": \"Silver\"}}], \"order_status\": \"Completed\"}</td></tr><tr><td>{\"order_id\": 78, \"customer_id\": 9084, \"order_date\": \"2025-01-21\", \"transaction_timestamp\": \"2025-01-21 11:42:51\", \"total_amount\": 798, \"payment_method\": \"PayPal\", \"items\": [{\"item_id\": 5, \"name\": \"Tablet\", \"category\": \"Electronics\", \"price\": 399, \"quantity\": 2, \"details\": {\"brand\": \"Dell\", \"color\": \"White\"}}], \"order_status\": \"Cancelled\"}</td></tr><tr><td>{\"order_id\": 79, \"customer_id\": 9084, \"order_date\": \"2025-01-25\", \"transaction_timestamp\": \"2025-01-25 03:52:05\", \"total_amount\": 998, \"payment_method\": \"Credit Card\", \"items\": [{\"item_id\": 8, \"name\": \"Gaming Console\", \"category\": \"Electronics\", \"price\": 499, \"quantity\": 2, \"details\": {\"brand\": \"Dell\", \"color\": \"Gray\"}}], \"order_status\": \"Cancelled\"}</td></tr><tr><td>{\"order_id\": 83, \"customer_id\": 2344, \"order_date\": \"2025-01-07\", \"transaction_timestamp\": \"2025-01-07 12:48:05\", \"total_amount\": 785, \"payment_method\": \"PayPal\", \"items\": [{\"item_id\": 7, \"name\": \"External Hard Drive\", \"category\": \"Electronics\", \"price\": 129, \"quantity\": 3, \"details\": {\"brand\": \"Canon\", \"color\": \"Gray\"}}, {\"item_id\": 3, \"name\": \"Wireless Headphones\", \"category\": \"Electronics\", \"price\": 199, \"quantity\": 2, \"details\": {\"brand\": \"Sony\", \"color\": \"Black\"}}], \"order_status\": \"Shipped\"}</td></tr><tr><td>{\"order_id\": 87, \"customer_id\": 2141, \"order_date\": \"2025-01-02\", \"transaction_timestamp\": \"2025-01-02 04:28:38\", \"total_amount\": 129, \"payment_method\": \"PayPal\", \"items\": [{\"item_id\": 7, \"name\": \"External Hard Drive\", \"category\": \"Electronics\", \"price\": 129, \"quantity\": 1, \"details\": {\"brand\": \"Apple\", \"color\": \"Blue\"}}], \"order_status\": \"Pending\"}</td></tr><tr><td>{\"order_id\": 90, \"customer_id\": 9247, \"order_date\": \"2025-01-17\", \"transaction_timestamp\": \"2025-01-17 14:30:54\", \"total_amount\": 258, \"payment_method\": \"Credit Card\", \"items\": [{\"item_id\": 7, \"name\": \"External Hard Drive\", \"category\": \"Electronics\", \"price\": 129, \"quantity\": 1, \"details\": {\"brand\": \"Canon\", \"color\": \"White\"}}, {\"item_id\": 7, \"name\": \"External Hard Drive\", \"category\": \"Electronics\", \"price\": 129, \"quantity\": 1, \"details\": {\"brand\": \"Samsung\", \"color\": \"Black\"}}], \"order_status\": \"Pending\"}</td></tr><tr><td>{\"order_id\": 94, \"customer_id\": 6627, \"order_date\": \"2025-01-10\", \"transaction_timestamp\": \"2025-01-10 09:51:48\", \"total_amount\": 895, \"payment_method\": \"Credit Card\", \"items\": [{\"item_id\": 6, \"name\": \"Bluetooth Speaker\", \"category\": \"Electronics\", \"price\": 149, \"quantity\": 2, \"details\": {\"brand\": \"Sony\", \"color\": \"Black\"}}, {\"item_id\": 3, \"name\": \"Wireless Headphones\", \"category\": \"Electronics\", \"price\": 199, \"quantity\": 3, \"details\": {\"brand\": \"Apple\", \"color\": \"Blue\"}}], \"order_status\": \"Pending\"}</td></tr><tr><td>{\"order_id\": 98, \"customer_id\": 9150, \"order_date\": \"2025-01-08\", \"transaction_timestamp\": \"2025-01-08 05:57:55\", \"total_amount\": 985, \"payment_method\": \"Credit Card\", \"items\": [{\"item_id\": 7, \"name\": \"External Hard Drive\", \"category\": \"Electronics\", \"price\": 129, \"quantity\": 3, \"details\": {\"brand\": \"HP\", \"color\": \"Blue\"}}, {\"item_id\": 4, \"name\": \"Smartwatch\", \"category\": \"Electronics\", \"price\": 299, \"quantity\": 2, \"details\": {\"brand\": \"Samsung\", \"color\": \"Gray\"}}], \"order_status\": \"Completed\"}</td></tr><tr><td>{\"order_id\": 99, \"customer_id\": 9150, \"order_date\": \"2025-01-10\", \"transaction_timestamp\": \"2025-01-10 21:43:46\", \"total_amount\": 699, \"payment_method\": \"Credit Card\", \"items\": [{\"item_id\": 1, \"name\": \"Smartphone\", \"category\": \"Electronics\", \"price\": 699, \"quantity\": 1, \"details\": {\"brand\": \"Bose\", \"color\": \"Gray\"}}], \"order_status\": \"Shipped\"}</td></tr><tr><td>{\"order_id\": 100, \"customer_id\": 9150, \"order_date\": \"2025-01-04\", \"transaction_timestamp\": \"2025-01-04 06:40:13\", \"total_amount\": 447, \"payment_method\": \"PayPal\", \"items\": [{\"item_id\": 6, \"name\": \"Bluetooth Speaker\", \"category\": \"Electronics\", \"price\": 149, \"quantity\": 3, \"details\": {\"brand\": \"LG\", \"color\": \"Silver\"}}], \"order_status\": \"Shipped\"}</td></tr><tr><td>{\"order_id\": 12, \"customer_id\": 5816, \"order_date\": \"2024-12-06\", \"transaction_timestamp\": \"2024-12-06 20:26:49\", \"total_amount\": 999, \"payment_method\": \"PayPal\", \"items\": [{\"item_id\": 2, \"name\": \"Laptop\", \"category\": \"Electronics\", \"price\": 999, \"quantity\": 1, \"details\": {\"brand\": \"Sony\", \"color\": \"White\"}}], \"order_status\": \"Cancelled\"}</td></tr><tr><td>{\"order_id\": 13, \"customer_id\": 4858, \"order_date\": \"2024-12-17\", \"transaction_timestamp\": \"2024-12-17 03:41:37\", \"total_amount\": 999, \"payment_method\": \"PayPal\", \"items\": [{\"item_id\": 2, \"name\": \"Laptop\", \"category\": \"Electronics\", \"price\": 999, \"quantity\": 1, \"details\": {\"brand\": \"GoPro\", \"color\": \"Black\"}}], \"order_status\": \"Pending\"}</td></tr><tr><td>{\"order_id\": 16, \"customer_id\": 5204, \"order_date\": \"2024-12-08\", \"transaction_timestamp\": \"2024-12-08 22:59:48\", \"total_amount\": 597, \"payment_method\": \"Bank Transfer\", \"items\": [{\"item_id\": 3, \"name\": \"Wireless Headphones\", \"category\": \"Electronics\", \"price\": 199, \"quantity\": 3, \"details\": {\"brand\": \"Sony\", \"color\": \"Silver\"}}], \"order_status\": \"Pending\"}</td></tr><tr><td>{\"order_id\": 17, \"customer_id\": 5204, \"order_date\": \"2024-12-02\", \"transaction_timestamp\": \"2024-12-02 12:00:50\", \"total_amount\": 998, \"payment_method\": \"Bank Transfer\", \"items\": [{\"item_id\": 8, \"name\": \"Gaming Console\", \"category\": \"Electronics\", \"price\": 499, \"quantity\": 2, \"details\": {\"brand\": \"Dell\", \"color\": \"Black\"}}], \"order_status\": \"Pending\"}</td></tr><tr><td>{\"order_id\": 24, \"customer_id\": 1211, \"order_date\": \"2024-12-21\", \"transaction_timestamp\": \"2024-12-21 03:24:26\", \"total_amount\": 1199, \"payment_method\": \"PayPal\", \"items\": [{\"item_id\": 9, \"name\": \"Smart TV\", \"category\": \"Electronics\", \"price\": 1199, \"quantity\": 1, \"details\": {\"brand\": \"GoPro\", \"color\": \"Gray\"}}], \"order_status\": \"Completed\"}</td></tr><tr><td>{\"order_id\": 27, \"customer_id\": 2703, \"order_date\": \"2024-12-02\", \"transaction_timestamp\": \"2024-12-02 11:24:21\", \"total_amount\": 904, \"payment_method\": \"Credit Card\", \"items\": [{\"item_id\": 7, \"name\": \"External Hard Drive\", \"category\": \"Electronics\", \"price\": 129, \"quantity\": 2, \"details\": {\"brand\": \"Dell\", \"color\": \"White\"}}, {\"item_id\": 6, \"name\": \"Bluetooth Speaker\", \"category\": \"Electronics\", \"price\": 149, \"quantity\": 3, \"details\": {\"brand\": \"Canon\", \"color\": \"Black\"}}, {\"item_id\": 3, \"name\": \"Wireless Headphones\", \"category\": \"Electronics\", \"price\": 199, \"quantity\": 1, \"details\": {\"brand\": \"Microsoft\", \"color\": \"Silver\"}}], \"order_status\": \"Completed\"}</td></tr><tr><td>{\"order_id\": 28, \"customer_id\": 2703, \"order_date\": \"2024-12-26\", \"transaction_timestamp\": \"2024-12-26 03:17:50\", \"total_amount\": 129, \"payment_method\": \"Credit Card\", \"items\": [{\"item_id\": 7, \"name\": \"External Hard Drive\", \"category\": \"Electronics\", \"price\": 129, \"quantity\": 1, \"details\": {\"brand\": \"GoPro\", \"color\": \"Blue\"}}], \"order_status\": \"Cancelled\"}</td></tr><tr><td>{\"order_id\": 32, \"customer_id\": 4996, \"order_date\": \"2024-12-28\", \"transaction_timestamp\": \"2024-12-28 08:55:57\", \"total_amount\": 399, \"payment_method\": \"PayPal\", \"items\": [{\"item_id\": 5, \"name\": \"Tablet\", \"category\": \"Electronics\", \"price\": 399, \"quantity\": 1, \"details\": {\"brand\": \"Apple\", \"color\": \"Silver\"}}], \"order_status\": \"Pending\"}</td></tr><tr><td>{\"order_id\": 37, \"customer_id\": 7829, \"order_date\": \"2024-12-22\", \"transaction_timestamp\": \"2024-12-22 10:11:49\", \"total_amount\": 258, \"payment_method\": \"Credit Card\", \"items\": [{\"item_id\": 7, \"name\": \"External Hard Drive\", \"category\": \"Electronics\", \"price\": 129, \"quantity\": 2, \"details\": {\"brand\": \"HP\", \"color\": \"Silver\"}}], \"order_status\": \"Shipped\"}</td></tr><tr><td>{\"order_id\": 38, \"customer_id\": 7829, \"order_date\": \"2024-12-25\", \"transaction_timestamp\": \"2024-12-25 22:05:19\", \"total_amount\": 447, \"payment_method\": \"Credit Card\", \"items\": [{\"item_id\": 6, \"name\": \"Bluetooth Speaker\", \"category\": \"Electronics\", \"price\": 149, \"quantity\": 3, \"details\": {\"brand\": \"Apple\", \"color\": \"Gray\"}}], \"order_status\": \"Shipped\"}</td></tr><tr><td>{\"order_id\": 44, \"customer_id\": 7295, \"order_date\": \"2024-12-20\", \"transaction_timestamp\": \"2024-12-20 08:05:43\", \"total_amount\": 129, \"payment_method\": \"Credit Card\", \"items\": [{\"item_id\": 7, \"name\": \"External Hard Drive\", \"category\": \"Electronics\", \"price\": 129, \"quantity\": 1, \"details\": {\"brand\": \"Bose\", \"color\": \"Blue\"}}], \"order_status\": \"Completed\"}</td></tr><tr><td>{\"order_id\": 49, \"customer_id\": 7803, \"order_date\": \"2024-12-07\", \"transaction_timestamp\": \"2024-12-07 23:24:11\", \"total_amount\": 747, \"payment_method\": \"PayPal\", \"items\": [{\"item_id\": 4, \"name\": \"Smartwatch\", \"category\": \"Electronics\", \"price\": 299, \"quantity\": 1, \"details\": {\"brand\": \"HP\", \"color\": \"White\"}}, {\"item_id\": 4, \"name\": \"Smartwatch\", \"category\": \"Electronics\", \"price\": 299, \"quantity\": 1, \"details\": {\"brand\": \"Canon\", \"color\": \"Blue\"}}, {\"item_id\": 6, \"name\": \"Bluetooth Speaker\", \"category\": \"Electronics\", \"price\": 149, \"quantity\": 1, \"details\": {\"brand\": \"Samsung\", \"color\": \"White\"}}], \"order_status\": \"Cancelled\"}</td></tr><tr><td>{\"order_id\": 54, \"customer_id\": 2054, \"order_date\": \"2024-12-20\", \"transaction_timestamp\": \"2024-12-20 12:04:27\", \"total_amount\": 398, \"payment_method\": \"Credit Card\", \"items\": [{\"item_id\": 3, \"name\": \"Wireless Headphones\", \"category\": \"Electronics\", \"price\": 199, \"quantity\": 2, \"details\": {\"brand\": \"Bose\", \"color\": \"Gray\"}}], \"order_status\": \"Pending\"}</td></tr><tr><td>{\"order_id\": 58, \"customer_id\": 8580, \"order_date\": \"2024-12-09\", \"transaction_timestamp\": \"2024-12-09 22:40:58\", \"total_amount\": 699, \"payment_method\": \"PayPal\", \"items\": [{\"item_id\": 1, \"name\": \"Smartphone\", \"category\": \"Electronics\", \"price\": 699, \"quantity\": 1, \"details\": {\"brand\": \"Microsoft\", \"color\": \"Gray\"}}], \"order_status\": \"Completed\"}</td></tr><tr><td>{\"order_id\": 60, \"customer_id\": 3409, \"order_date\": \"2024-12-13\", \"transaction_timestamp\": \"2024-12-13 13:10:12\", \"total_amount\": 199, \"payment_method\": \"Bank Transfer\", \"items\": [{\"item_id\": 3, \"name\": \"Wireless Headphones\", \"category\": \"Electronics\", \"price\": 199, \"quantity\": 1, \"details\": {\"brand\": \"Samsung\", \"color\": \"Blue\"}}], \"order_status\": \"Shipped\"}</td></tr><tr><td>{\"order_id\": 61, \"customer_id\": 7123, \"order_date\": \"2024-12-07\", \"transaction_timestamp\": \"2024-12-07 07:47:19\", \"total_amount\": 699, \"payment_method\": \"Bank Transfer\", \"items\": [{\"item_id\": 1, \"name\": \"Smartphone\", \"category\": \"Electronics\", \"price\": 699, \"quantity\": 1, \"details\": {\"brand\": \"Canon\", \"color\": \"Black\"}}], \"order_status\": \"Completed\"}</td></tr><tr><td>{\"order_id\": 65, \"customer_id\": 3084, \"order_date\": \"2024-12-09\", \"transaction_timestamp\": \"2024-12-09 13:04:13\", \"total_amount\": 399, \"payment_method\": \"Bank Transfer\", \"items\": [{\"item_id\": 5, \"name\": \"Tablet\", \"category\": \"Electronics\", \"price\": 399, \"quantity\": 1, \"details\": {\"brand\": \"Microsoft\", \"color\": \"Gray\"}}], \"order_status\": \"Cancelled\"}</td></tr><tr><td>{\"order_id\": 67, \"customer_id\": 3084, \"order_date\": \"2024-12-19\", \"transaction_timestamp\": \"2024-12-19 07:11:09\", \"total_amount\": 897, \"payment_method\": \"PayPal\", \"items\": [{\"item_id\": 4, \"name\": \"Smartwatch\", \"category\": \"Electronics\", \"price\": 299, \"quantity\": 3, \"details\": {\"brand\": \"LG\", \"color\": \"Blue\"}}], \"order_status\": \"Shipped\"}</td></tr><tr><td>{\"order_id\": 69, \"customer_id\": 4973, \"order_date\": \"2024-12-30\", \"transaction_timestamp\": \"2024-12-30 02:42:01\", \"total_amount\": 699, \"payment_method\": \"Bank Transfer\", \"items\": [{\"item_id\": 1, \"name\": \"Smartphone\", \"category\": \"Electronics\", \"price\": 699, \"quantity\": 1, \"details\": {\"brand\": \"Dell\", \"color\": \"Gray\"}}], \"order_status\": \"Completed\"}</td></tr><tr><td>{\"order_id\": 70, \"customer_id\": 7997, \"order_date\": \"2024-12-04\", \"transaction_timestamp\": \"2024-12-04 17:17:24\", \"total_amount\": 897, \"payment_method\": \"PayPal\", \"items\": [{\"item_id\": 4, \"name\": \"Smartwatch\", \"category\": \"Electronics\", \"price\": 299, \"quantity\": 3, \"details\": {\"brand\": \"Sony\", \"color\": \"Black\"}}], \"order_status\": \"Shipped\"}</td></tr><tr><td>{\"order_id\": 71, \"customer_id\": 7997, \"order_date\": 2024-12-27, \"transaction_timestamp\": \"2024-12-27 11:16:39\", \"total_amount\": 199, \"payment_method\": \"Bank Transfer\", \"items\": [{\"item_id\": 3, \"name\": \"Wireless Headphones\", \"category\": \"Electronics\", \"price\": 199, \"quantity\": 1, \"details\": {\"brand\": \"Microsoft\", \"color\": \"Black\"}}], \"order_status\": \"Completed\"}</td></tr><tr><td>{\"order_id\": 74, \"customer_id\": 6167, \"order_date\": \"2024-12-22\", \"transaction_timestamp\": \"2024-12-22 15:54:11\", \"total_amount\": 699, \"payment_method\": \"PayPal\", \"items\": [{\"item_id\": 1, \"name\": \"Smartphone\", \"category\": \"Electronics\", \"price\": 699, \"quantity\": 1, \"details\": {\"brand\": \"Samsung\", \"color\": \"Blue\"}}], \"order_status\": \"Pending\"}</td></tr><tr><td>{\"order_id\": 80, \"customer_id\": 9687, \"order_date\": \"2024-12-11\", \"transaction_timestamp\": \"2024-12-11 07:43:54\", \"total_amount\": 998, \"payment_method\": \"Bank Transfer\", \"items\": [{\"item_id\": 8, \"name\": \"Gaming Console\", \"category\": \"Electronics\", \"price\": 499, \"quantity\": 2, \"details\": {\"brand\": \"Samsung\", \"color\": \"White\"}}], \"order_status\": \"Cancelled\"}</td></tr><tr><td>{\"order_id\": 81, \"customer_id\": 9687, \"order_date\": \"2024-12-27\", \"transaction_timestamp\": \"2024-12-27 02:27:45\", \"total_amount\": 699, \"payment_method\": \"PayPal\", \"items\": [{\"item_id\": 1, \"name\": \"Smartphone\", \"category\": \"Electronics\", \"price\": 699, \"quantity\": 1, \"details\": {\"brand\": \"GoPro\", \"color\": \"Blue\"}}], \"order_status\": \"Completed\"}</td></tr><tr><td>{\"order_id\": 82, \"customer_id\": 2344, \"order_date\": \"2024-12-28\", \"transaction_timestamp\": \"2024-12-28 00:54:08\", \"total_amount\": 387, \"payment_method\": \"PayPal\", \"items\": [{\"item_id\": 7, \"name\": \"External Hard Drive\", \"category\": \"Electronics\", \"price\": 129, \"quantity\": 3, \"details\": {\"brand\": \"Sony\", \"color\": \"Blue\"}}], \"order_status\": \"Completed\"}</td></tr><tr><td>{\"order_id\": 91, \"customer_id\": 5592, \"order_date\": \"2024-12-17\", \"transaction_timestamp\": \"2024-12-17 00:09:53\", \"total_amount\": 699, \"payment_method\": \"Bank Transfer\", \"items\": [{\"item_id\": 1, \"name\": \"Smartphone\", \"category\": \"Electronics\", \"price\": 699, \"quantity\": 1, \"details\": {\"brand\": \"Canon\", \"color\": \"Silver\"}}], \"order_status\": \"Cancelled\"}</td></tr><tr><td>{\"order_id\": 93, \"customer_id\": 6627, \"order_date\": \"2024-12-22\", \"transaction_timestamp\": \"2024-12-22 05:07:46\", \"total_amount\": 598, \"payment_method\": \"PayPal\", \"items\": [{\"item_id\": 4, \"name\": \"Smartwatch\", \"category\": \"Electronics\", \"price\": 299, \"quantity\": 2, \"details\": {\"brand\": \"LG\", \"color\": \"Silver\"}}], \"order_status\": \"Pending\"}</td></tr><tr><td>{\"order_id\": 95, \"customer_id\": 6627, \"order_date\": \"2024-12-28\", \"transaction_timestamp\": \"2024-12-28 04:28:30\", \"total_amount\": 946, \"payment_method\": \"Bank Transfer\", \"items\": [{\"item_id\": 4, \"name\": \"Smartwatch\", \"category\": \"Electronics\", \"price\": 299, \"quantity\": 2, \"details\": {\"brand\": \"GoPro\", \"color\": \"White\"}}, {\"item_id\": 3, \"name\": \"Wireless Headphones\", \"category\": \"Electronics\", \"price\": 199, \"quantity\": 1, \"details\": {\"brand\": \"Bose\", \"color\": \"Gray\"}}, {\"item_id\": 6, \"name\": \"Bluetooth Speaker\", \"category\": \"Electronics\", \"price\": 149, \"quantity\": 1, \"details\": {\"brand\": \"Dell\", \"color\": \"Silver\"}}], \"order_status\": \"Completed\"}</td></tr><tr><td>{\"order_id\": 96, \"customer_id\": 6406, \"order_date\": \"2024-12-02\", \"transaction_timestamp\": \"2024-12-02 12:27:45\", \"total_amount\": 149, \"payment_method\": \"PayPal\", \"items\": [{\"item_id\": 6, \"name\": \"Bluetooth Speaker\", \"category\": \"Electronics\", \"price\": 149, \"quantity\": 1, \"details\": {\"brand\": \"Microsoft\", \"color\": \"Black\"}}], \"order_status\": \"Shipped\"}</td></tr><tr><td>{\"order_id\": 97, \"customer_id\": 6406, \"order_date\": \"2024-12-07\", \"transaction_timestamp\": \"2024-12-07 16:14:34\", \"total_amount\": 499, \"payment_method\": \"Bank Transfer\", \"items\": [{\"item_id\": 8, \"name\": \"Gaming Console\", \"category\": \"Electronics\", \"price\": 499, \"quantity\": 1, \"details\": {\"brand\": \"Sony\", \"color\": \"Silver\"}}], \"order_status\": \"Completed\"}</td></tr><tr><td>{\"order_id\": 5, \"customer_id\": 3892, \"order_date\": \"2024-11-16\", \"transaction_timestamp\": \"2024-11-16 23:07:31\", \"total_amount\": 998, \"payment_method\": \"Bank Transfer\", \"items\": [{\"item_id\": 8, \"name\": \"Gaming Console\", \"category\": \"Electronics\", \"price\": 499, \"quantity\": 2, \"details\": {\"brand\": \"Dell\", \"color\": \"Blue\"}}], \"order_status\": \"Cancelled\"}</td></tr><tr><td>{\"order_id\": 7, \"customer_id\": 1987, \"order_date\": \"2024-11-19\", \"transaction_timestamp\": \"2024-11-19 19:18:48\", \"total_amount\": 645, \"payment_method\": \"Credit Card\", \"items\": [{\"item_id\": 7, \"name\": \"External Hard Drive\", \"category\": \"Electronics\", \"price\": 129, \"quantity\": 2, \"details\": {\"brand\": \"LG\", \"color\": \"Blue\"}}, {\"item_id\": 7, \"name\": \"External Hard Drive\", \"category\": \"Electronics\", \"price\": 129, \"quantity\": 3, \"details\": {\"brand\": \"HP\", \"color\": \"Gray\"}}], \"order_status\": \"Pending\"}</td></tr><tr><td>{\"order_id\": 9, \"customer_id\": 9179, \"order_date\": \"2024-11-27\", \"transaction_timestamp\": \"2024-11-27 13:15:29\", \"total_amount\": 999, \"payment_method\": \"Bank Transfer\", \"items\": [{\"item_id\": 2, \"name\": \"Laptop\", \"category\": \"Electronics\", \"price\": 999, \"quantity\": 1, \"details\": {\"brand\": \"Apple\", \"color\": \"Black\"}}], \"order_status\": \"Shipped\"}</td></tr><tr><td>{\"order_id\": 20, \"customer_id\": 8539, \"order_date\": \"2024-11-18\", \"transaction_timestamp\": \"2024-11-18 02:38:21\", \"total_amount\": 798, \"payment_method\": \"PayPal\", \"items\": [{\"item_id\": 5, \"name\": \"Tablet\", \"category\": \"Electronics\", \"price\": 399, \"quantity\": 2, \"details\": {\"brand\": \"Sony\", \"color\": \"Silver\"}}], \"order_status\": \"Pending\"}</td></tr><tr><td>{\"order_id\": 21, \"customer_id\": 8539, \"order_date\": \"2024-11-21\", \"transaction_timestamp\": \"2024-11-21 11:25:35\", \"total_amount\": 298, \"payment_method\": \"Bank Transfer\", \"items\": [{\"item_id\": 6, \"name\": \"Bluetooth Speaker\", \"category\": \"Electronics\", \"price\": 149, \"quantity\": 2, \"details\": {\"brand\": \"GoPro\", \"color\": \"Blue\"}}], \"order_status\": \"Cancelled\"}</td></tr><tr><td>{\"order_id\": 23, \"customer_id\": 4761, \"order_date\": \"2024-11-22\", \"transaction_timestamp\": \"2024-11-22 16:04:05\", \"total_amount\": 997, \"payment_method\": \"PayPal\", \"items\": [{\"item_id\": 5, \"name\": \"Tablet\", \"category\": \"Electronics\", \"price\": 399, \"quantity\": 1, \"details\": {\"brand\": \"Apple\", \"color\": \"Gray\"}}, {\"item_id\": 4, \"name\": \"Smartwatch\", \"category\": \"Electronics\", \"price\": 299, \"quantity\": 2, \"details\": {\"brand\": \"Dell\", \"color\": \"Gray\"}}], \"order_status\": \"Shipped\"}</td></tr><tr><td>{\"order_id\": 25, \"customer_id\": 9706, \"order_date\": \"2024-11-05\", \"transaction_timestamp\": \"2024-11-05 11:45:31\", \"total_amount\": 999, \"payment_method\": \"PayPal\", \"items\": [{\"item_id\": 2, \"name\": \"Laptop\", \"category\": \"Electronics\", \"price\": 999, \"quantity\": 1, \"details\": {\"brand\": \"LG\", \"color\": \"Gray\"}}], \"order_status\": \"Completed\"}</td></tr><tr><td>{\"order_id\": 30, \"customer_id\": 4996, \"order_date\": \"2024-11-12\", \"transaction_timestamp\": \"2024-11-12 03:20:29\", \"total_amount\": 199, \"payment_method\": \"Bank Transfer\", \"items\": [{\"item_id\": 3, \"name\": \"Wireless Headphones\", \"category\": \"Electronics\", \"price\": 199, \"quantity\": 1, \"details\": {\"brand\": \"GoPro\", \"color\": \"White\"}}], \"order_status\": \"Shipped\"}</td></tr><tr><td>{\"order_id\": 35, \"customer_id\": 4914, \"order_date\": \"2024-11-20\", \"transaction_timestamp\": \"2024-11-20 19:09:04\", \"total_amount\": 199, \"payment_method\": \"Bank Transfer\", \"items\": [{\"item_id\": 3, \"name\": \"Wireless Headphones\", \"category\": \"Electronics\", \"price\": 199, \"quantity\": 1, \"details\": {\"brand\": \"Dell\", \"color\": \"Gray\"}}], \"order_status\": \"Shipped\"}</td></tr><tr><td>{\"order_id\": 36, \"customer_id\": 4914, \"order_date\": \"2024-11-02\", \"transaction_timestamp\": \"2024-11-02 10:39:46\", \"total_amount\": 199, \"payment_method\": \"PayPal\", \"items\": [{\"item_id\": 3, \"name\": \"Wireless Headphones\", \"category\": \"Electronics\", \"price\": 199, \"quantity\": 1, \"details\": {\"brand\": \"Canon\", \"color\": \"Silver\"}}], \"order_status\": \"Completed\"}</td></tr><tr><td>{\"order_id\": 42, \"customer_id\": 5028, \"order_date\": 2024-11-08, \"transaction_timestamp\": \"2024-11-08 18:32:25\", \"total_amount\": 149, \"payment_method\": \"Credit Card\", \"items\": [{\"item_id\": 6, \"name\": \"Bluetooth Speaker\", \"category\": \"Electronics\", \"price\": 149, \"quantity\": 1, \"details\": {\"brand\": \"Bose\", \"color\": \"Gray\"}}], \"order_status\": \"Completed\"}</td></tr><tr><td>{\"order_id\": 45, \"customer_id\": 7295, \"order_date\": \"2024-11-07\", \"transaction_timestamp\": \"2024-11-07 15:41:43\", \"total_amount\": 799, \"payment_method\": \"Credit Card\", \"items\": [{\"item_id\": 10, \"name\": \"Drone\", \"category\": \"Electronics\", \"price\": 799, \"quantity\": 1, \"details\": {\"brand\": \"Dell\", \"color\": \"White\"}}], \"order_status\": \"Shipped\"}</td></tr><tr><td>{\"order_id\": 46, \"customer_id\": 7295, \"order_date\": \"2024-11-26\", \"transaction_timestamp\": \"2024-11-26 17:16:53\", \"total_amount\": 199, \"payment_method\": \"PayPal\", \"items\": [{\"item_id\": 3, \"name\": \"Wireless Headphones\", \"category\": \"Electronics\", \"price\": 199, \"quantity\": 1, \"details\": {\"brand\": \"Samsung\", \"color\": \"Black\"}}], \"order_status\": \"Pending\"}</td></tr><tr><td>{\"order_id\": 47, \"customer_id\": 7803, \"order_date\": \"2024-11-22\", \"transaction_timestamp\": \"2024-11-22 02:01:19\", \"total_amount\": 298, \"payment_method\": \"Credit Card\", \"items\": [{\"item_id\": 6, \"name\": \"Bluetooth Speaker\", \"category\": \"Electronics\", \"price\": 149, \"quantity\": 2, \"details\": {\"brand\": \"LG\", \"color\": \"Blue\"}}], \"order_status\": \"Shipped\"}</td></tr><tr><td>{\"order_id\": 48, \"customer_id\": 7803, \"order_date\": \"2024-11-13\", \"transaction_timestamp\": \"2024-11-13 06:35:56\", \"total_amount\": 387, \"payment_method\": \"PayPal\", \"items\": [{\"item_id\": 7, \"name\": \"External Hard Drive\", \"category\": \"Electronics\", \"price\": 129, \"quantity\": 3, \"details\": {\"brand\": \"Apple\", \"color\": \"Black\"}}], \"order_status\": \"Completed\"}</td></tr><tr><td>{\"order_id\": 52, \"customer_id\": 8845, \"order_date\": \"2024-11-19\", \"transaction_timestamp\": \"2024-11-19 21:23:45\", \"total_amount\": 998, \"payment_method\": \"PayPal\", \"items\": [{\"item_id\": 8, \"name\": \"Gaming Console\", \"category\": \"Electronics\", \"price\": 499, \"quantity\": 2, \"details\": {\"brand\": \"GoPro\", \"color\": \"White\"}}], \"order_status\": \"Completed\"}</td></tr><tr><td>{\"order_id\": 57, \"customer_id\": 8580, \"order_date\": \"2024-11-19\", \"transaction_timestamp\": \"2024-11-19 11:32:44\", \"total_amount\": 586, \"payment_method\": \"Bank Transfer\", \"items\": [{\"item_id\": 3, \"name\": \"Wireless Headphones\", \"category\": \"Electronics\", \"price\": 199, \"quantity\": 1, \"details\": {\"brand\": \"HP\", \"color\": \"Silver\"}}, {\"item_id\": 7, \"name\": \"External Hard Drive\", \"category\": \"Electronics\", \"price\": 129, \"quantity\": 3, \"details\": {\"brand\": \"Sony\", \"color\": \"Silver\"}}], \"order_status\": \"Cancelled\"}</td></tr><tr><td>{\"order_id\": 63, \"customer_id\": 7123, \"order_date\": \"2024-11-24\", \"transaction_timestamp\": \"2024-11-24 08:41:28\", \"total_amount\": 646, \"payment_method\": \"Bank Transfer\", \"items\": [{\"item_id\": 3, \"name\": \"Wireless Headphones\", \"category\": \"Electronics\", \"price\": 199, \"quantity\": 1, \"details\": {\"brand\": \"GoPro\", \"color\": \"Blue\"}}, {\"item_id\": 6, \"name\": \"Bluetooth Speaker\", \"category\": \"Electronics\", \"price\": 149, \"quantity\": 3, \"details\": {\"brand\": \"Bose\", \"color\": \"Silver\"}}], \"order_status\": \"Cancelled\"}</td></tr><tr><td>{\"order_id\": 64, \"customer_id\": 2639, \"order_date\": \"2024-11-28\", \"transaction_timestamp\": \"2024-11-28 12:23:21\", \"total_amount\": 984, \"payment_method\": \"Bank Transfer\", \"items\": [{\"item_id\": 7, \"name\": \"External Hard Drive\", \"category\": \"Electronics\", \"price\": 129, \"quantity\": 3, \"details\": {\"brand\": \"Microsoft\", \"color\": \"White\"}}, {\"item_id\": 3, \"name\": \"Wireless Headphones\", \"category\": \"Electronics\", \"price\": 199, \"quantity\": 3, \"details\": {\"brand\": \"Canon\", \"color\": \"Blue\"}}], \"order_status\": \"Completed\"}</td></tr><tr><td>{\"order_id\": 88, \"customer_id\": 9247, \"order_date\": \"2024-11-15\", \"transaction_timestamp\": \"2024-11-15 11:39:44\", \"total_amount\": 387, \"payment_method\": \"Bank Transfer\", \"items\": [{\"item_id\": 7, \"name\": \"External Hard Drive\", \"category\": \"Electronics\", \"price\": 129, \"quantity\": 3, \"details\": {\"brand\": \"Bose\", \"color\": \"White\"}}], \"order_status\": \"Cancelled\"}</td></tr><tr><td>{\"order_id\": 89, \"customer_id\": 9247, \"order_date\": \"2024-11-22\", \"transaction_timestamp\": \"2024-11-22 12:09:15\", \"total_amount\": 149, \"payment_method\": \"Bank Transfer\", \"items\": [{\"item_id\": 6, \"name\": \"Bluetooth Speaker\", \"category\": \"Electronics\", \"price\": 149, \"quantity\": 1, \"details\": {\"brand\": \"GoPro\", \"color\": \"Silver\"}}], \"order_status\": \"Cancelled\"}</td></tr><tr><td>{\"order_id\": 92, \"customer_id\": 5592, \"order_date\": \"2024-11-24\", \"transaction_timestamp\": \"2024-11-24 23:33:21\", \"total_amount\": 258, \"payment_method\": \"PayPal\", \"items\": [{\"item_id\": 7, \"name\": \"External Hard Drive\", \"category\": \"Electronics\", \"price\": 129, \"quantity\": 2, \"details\": {\"brand\": \"Sony\", \"color\": \"Black\"}}], \"order_status\": \"Shipped\"}</td></tr><tr><td>{\"order_id\": 6, \"customer_id\": 1987, \"order_date\": \"2024-10-28\", \"transaction_timestamp\": \"2024-10-28 04:47:27\", \"total_amount\": 799, \"payment_method\": \"Credit Card\", \"items\": [{\"item_id\": 10, \"name\": \"Drone\", \"category\": \"Electronics\", \"price\": 799, \"quantity\": 1, \"details\": {\"brand\": \"GoPro\", \"color\": \"Black\"}}], \"order_status\": \"Pending\"}</td></tr><tr><td>{\"order_id\": 10, \"customer_id\": 5816, \"order_date\": \"2024-10-07\", \"transaction_timestamp\": \"2024-10-07 22:09:27\", \"total_amount\": 399, \"payment_method\": \"Credit Card\", \"items\": [{\"item_id\": 5, \"name\": \"Tablet\", \"category\": \"Electronics\", \"price\": 399, \"quantity\": 1, \"details\": {\"brand\": \"GoPro\", \"color\": \"White\"}}], \"order_status\": \"Pending\"}</td></tr><tr><td>{\"order_id\": 11, \"customer_id\": 5816, \"order_date\": \"2024-10-13\", \"transaction_timestamp\": \"2024-10-13 17:34:19\", \"total_amount\": 897, \"payment_method\": \"Bank Transfer\", \"items\": [{\"item_id\": 4, \"name\": \"Smartwatch\", \"category\": \"Electronics\", \"price\": 299, \"quantity\": 3, \"details\": {\"brand\": \"Canon\", \"color\": \"White\"}}], \"order_status\": \"Pending\"}</td></tr><tr><td>{\"order_id\": 15, \"customer_id\": 7207, \"order_date\": \"2024-10-20\", \"transaction_timestamp\": \"2024-10-20 01:47:25\", \"total_amount\": 1199, \"payment_method\": \"Bank Transfer\", \"items\": [{\"item_id\": 9, \"name\": \"Smart TV\", \"category\": \"Electronics\", \"price\": 1199, \"quantity\": 1, \"details\": {\"brand\": \"GoPro\", \"color\": \"White\"}}], \"order_status\": \"Completed\"}</td></tr><tr><td>{\"order_id\": 19, \"customer_id\": 8539, \"order_date\": \"2024-10-13\", \"transaction_timestamp\": \"2024-10-13 12:40:26\", \"total_amount\": 499, \"payment_method\": \"PayPal\", \"items\": [{\"item_id\": 8, \"name\": \"Gaming Console\", \"category\": \"Electronics\", \"price\": 499, \"quantity\": 1, \"details\": {\"brand\": \"Dell\", \"color\": \"Silver\"}}], \"order_status\": \"Shipped\"}</td></tr><tr><td>{\"order_id\": 39, \"customer_id\": 9263, \"order_date\": \"2024-10-29\", \"transaction_timestamp\": \"2024-10-29 21:39:19\", \"total_amount\": 387, \"payment_method\": \"PayPal\", \"items\": [{\"item_id\": 7, \"name\": \"External Hard Drive\", \"category\": \"Electronics\", \"price\": 129, \"quantity\": 3, \"details\": {\"brand\": \"Sony\", \"color\": \"Black\"}}], \"order_status\": \"Shipped\"}</td></tr><tr><td>{\"order_id\": 55, \"customer_id\": 9018, \"order_date\": \"2024-10-25\", \"transaction_timestamp\": \"2024-10-25 05:49:16\", \"total_amount\": 699, \"payment_method\": \"Bank Transfer\", \"items\": [{\"item_id\": 1, \"name\": \"Smartphone\", \"category\": \"Electronics\", \"price\": 699, \"quantity\": 1, \"details\": {\"brand\": \"HP\", \"color\": \"Black\"}}], \"order_status\": \"Shipped\"}</td></tr><tr><td>{\"order_id\": 59, \"customer_id\": 3409, \"order_date\": \"2024-10-23\", \"transaction_timestamp\": \"2024-10-23 02:51:05\", \"total_amount\": 499, \"payment_method\": \"PayPal\", \"items\": [{\"item_id\": 8, \"name\": \"Gaming Console\", \"category\": \"Electronics\", \"price\": 499, \"quantity\": 1, \"details\": {\"brand\": \"Dell\", \"color\": \"Black\"}}], \"order_status\": \"Pending\"}</td></tr><tr><td>{\"order_id\": 72, \"customer_id\": 3889, \"order_date\": 2024-10-06, \"transaction_timestamp\": \"2024-10-06 10:23:28\", \"total_amount\": 328, \"payment_method\": \"PayPal\", \"items\": [{\"item_id\": 3, \"name\": \"Wireless Headphones\", \"category\": \"Electronics\", \"price\": 199, \"quantity\": 1, \"details\": {\"brand\": \"Microsoft\", \"color\": \"Gray\"}}, {\"item_id\": 7, \"name\": \"External Hard Drive\", \"category\": \"Electronics\", \"price\": 129, \"quantity\": 1, \"details\": {\"brand\": \"Samsung\", \"color\": \"Silver\"}}], \"order_status\": \"Cancelled\"}</td></tr><tr><td>{\"order_id\": 77, \"customer_id\": 9084, \"order_date\": \"2024-10-15\", \"transaction_timestamp\": \"2024-10-15 13:09:33\", \"total_amount\": 398, \"payment_method\": \"Credit Card\", \"items\": [{\"item_id\": 3, \"name\": \"Wireless Headphones\", \"category\": \"Electronics\", \"price\": 199, \"quantity\": 2, \"details\": {\"brand\": \"HP\", \"color\": \"Silver\"}}], \"order_status\": \"Pending\"}</td></tr><tr><td>{\"order_id\": 84, \"customer_id\": 2344, \"order_date\": \"2024-10-25\", \"transaction_timestamp\": \"2024-10-25 03:37:42\", \"total_amount\": 998, \"payment_method\": \"PayPal\", \"items\": [{\"item_id\": 10, \"name\": \"Drone\", \"category\": \"Electronics\", \"price\": 799, \"quantity\": 1, \"details\": {\"brand\": \"Sony\", \"color\": \"Black\"}}, {\"item_id\": 3, \"name\": \"Wireless Headphones\", \"category\": \"Electronics\", \"price\": 199, \"quantity\": 1, \"details\": {\"brand\": \"LG\", \"color\": \"Black\"}}], \"order_status\": \"Completed\"}</td></tr><tr><td>{\"order_id\": 85, \"customer_id\": 5011, \"order_date\": \"2024-10-23\", \"transaction_timestamp\": \"2024-10-23 20:06:42\", \"total_amount\": 998, \"payment_method\": \"Bank Transfer\", \"items\": [{\"item_id\": 8, \"name\": \"Gaming Console\", \"category\": \"Electronics\", \"price\": 499, \"quantity\": 2, \"details\": {\"brand\": \"GoPro\", \"color\": \"Black\"}}], \"order_status\": \"Shipped\"}</td></tr><tr><td>{\"order_id\": 86, \"customer_id\": 5011, \"order_date\": \"2024-10-19\", \"transaction_timestamp\": \"2024-10-19 13:30:47\", \"total_amount\": 1199, \"payment_method\": \"PayPal\", \"items\": [{\"item_id\": 9, \"name\": \"Smart TV\", \"category\": \"Electronics\", \"price\": 1199, \"quantity\": 1, \"details\": {\"brand\": \"Dell\", \"color\": \"White\"}}], \"order_status\": \"Completed\"}</td></tr></tbody></table></div>"
      ]
     },
     "metadata": {
      "application/vnd.databricks.v1+output": {
       "addedWidgets": {},
       "aggData": [],
       "aggError": "",
       "aggOverflow": false,
       "aggSchema": [],
       "aggSeriesLimitReached": false,
       "aggType": "",
       "arguments": {},
       "columnCustomDisplayInfos": {},
       "data": [
        [
         "{\"order_id\": 1, \"customer_id\": 6973, \"order_date\": \"2025-01-05\", \"transaction_timestamp\": \"2025-01-05 10:13:59\", \"total_amount\": 499, \"payment_method\": \"Bank Transfer\", \"items\": [{\"item_id\": 8, \"name\": \"Gaming Console\", \"category\": \"Electronics\", \"price\": 499, \"quantity\": 1, \"details\": {\"brand\": \"Sony\", \"color\": \"Blue\"}}], \"order_status\": \"Completed\"}"
        ],
        [
         "{\"order_id\": 2, \"customer_id\": 3532, \"order_date\": 2025-01-19, \"transaction_timestamp\": \"2025-01-19 00:05:13\", \"total_amount\": 985, \"payment_method\": \"PayPal\", \"items\": [{\"item_id\": 4, \"name\": \"Smartwatch\", \"category\": \"Electronics\", \"price\": 299, \"quantity\": 2, \"details\": {\"brand\": \"Canon\", \"color\": \"Gray\"}}, {\"item_id\": 7, \"name\": \"External Hard Drive\", \"category\": \"Electronics\", \"price\": 129, \"quantity\": 3, \"details\": {\"brand\": \"Dell\", \"color\": \"Blue\"}}], \"order_status\": \"Cancelled\"}"
        ],
        [
         "{\"order_id\": 3, \"customer_id\": 3532, \"order_date\": \"2025-01-08\", \"transaction_timestamp\": \"2025-01-08 23:11:00\", \"total_amount\": 597, \"payment_method\": \"Bank Transfer\", \"items\": [{\"item_id\": 3, \"name\": \"Wireless Headphones\", \"category\": \"Electronics\", \"price\": 199, \"quantity\": 3, \"details\": {\"brand\": \"Apple\", \"color\": \"White\"}}], \"order_status\": \"Completed\"}"
        ],
        [
         "{\"order_id\": 4, \"customer_id\": 3532, \"order_date\": \"2025-01-05\", \"transaction_timestamp\": \"2025-01-05 05:49:26\", \"total_amount\": 999, \"payment_method\": \"Bank Transfer\", \"items\": [{\"item_id\": 2, \"name\": \"Laptop\", \"category\": \"Electronics\", \"price\": 999, \"quantity\": 1, \"details\": {\"brand\": \"Microsoft\", \"color\": \"Black\"}}], \"order_status\": \"Cancelled\"}"
        ],
        [
         "{\"order_id\": 8, \"customer_id\": 9179, \"order_date\": \"2025-01-02\", \"transaction_timestamp\": \"2025-01-02 13:11:15\", \"total_amount\": 399, \"payment_method\": \"PayPal\", \"items\": [{\"item_id\": 5, \"name\": \"Tablet\", \"category\": \"Electronics\", \"price\": 399, \"quantity\": 1, \"details\": {\"brand\": \"LG\", \"color\": \"White\"}}], \"order_status\": \"Completed\"}"
        ],
        [
         "{\"order_id\": 14, \"customer_id\": 7207, \"order_date\": \"2025-01-01\", \"transaction_timestamp\": \"2025-01-01 18:22:26\", \"total_amount\": 597, \"payment_method\": \"PayPal\", \"items\": [{\"item_id\": 3, \"name\": \"Wireless Headphones\", \"category\": \"Electronics\", \"price\": 199, \"quantity\": 3, \"details\": {\"brand\": \"Bose\", \"color\": \"Blue\"}}], \"order_status\": \"Cancelled\"}"
        ],
        [
         "{\"order_id\": 18, \"customer_id\": 4468, \"order_date\": \"2025-01-22\", \"transaction_timestamp\": \"2025-01-22 21:12:08\", \"total_amount\": 799, \"payment_method\": \"Credit Card\", \"items\": [{\"item_id\": 10, \"name\": \"Drone\", \"category\": \"Electronics\", \"price\": 799, \"quantity\": 1, \"details\": {\"brand\": \"Dell\", \"color\": \"Black\"}}], \"order_status\": \"Pending\"}"
        ],
        [
         "{\"order_id\": 22, \"customer_id\": 4761, \"order_date\": 2025-01-01, \"transaction_timestamp\": \"2025-01-01 15:49:19\", \"total_amount\": 199, \"payment_method\": \"PayPal\", \"items\": [{\"item_id\": 3, \"name\": \"Wireless Headphones\", \"category\": \"Electronics\", \"price\": 199, \"quantity\": 1, \"details\": {\"brand\": \"HP\", \"color\": \"Silver\"}}], \"order_status\": \"Pending\"}"
        ],
        [
         "{\"order_id\": 26, \"customer_id\": 7007, \"order_date\": \"2025-01-05\", \"transaction_timestamp\": \"2025-01-05 19:01:25\", \"total_amount\": 699, \"payment_method\": \"Bank Transfer\", \"items\": [{\"item_id\": 1, \"name\": \"Smartphone\", \"category\": \"Electronics\", \"price\": 699, \"quantity\": 1, \"details\": {\"brand\": \"Samsung\", \"color\": \"Silver\"}}], \"order_status\": \"Shipped\"}"
        ],
        [
         "{\"order_id\": 29, \"customer_id\": 5953, \"order_date\": \"2025-01-18\", \"transaction_timestamp\": \"2025-01-18 03:05:04\", \"total_amount\": 129, \"payment_method\": \"Bank Transfer\", \"items\": [{\"item_id\": 7, \"name\": \"External Hard Drive\", \"category\": \"Electronics\", \"price\": 129, \"quantity\": 1, \"details\": {\"brand\": \"Bose\", \"color\": \"Gray\"}}, {\"item_id\": 7, \"name\": \"External Hard Drive\", \"category\": \"Electronics\", \"price\": 129, \"quantity\": 1, \"details\": {\"brand\": \"Bose\", \"color\": \"Gray\"}}], \"order_status\": \"Pending\"}"
        ],
        [
         "{\"order_id\": 31, \"customer_id\": 4996, \"order_date\": \"2025-01-18\", \"transaction_timestamp\": \"2025-01-18 03:13:29\", \"total_amount\": 299, \"payment_method\": \"Bank Transfer\", \"items\": [{\"item_id\": 4, \"name\": \"Smartwatch\", \"category\": \"Electronics\", \"price\": 299, \"quantity\": 1, \"details\": {\"brand\": \"Dell\", \"color\": \"White\"}}], \"order_status\": \"Shipped\"}"
        ],
        [
         "{\"order_id\": 33, \"customer_id\": 9605, \"order_date\": \"2025-01-13\", \"transaction_timestamp\": \"2025-01-13 04:47:43\", \"total_amount\": 897, \"payment_method\": \"PayPal\", \"items\": [{\"item_id\": 4, \"name\": \"Smartwatch\", \"category\": \"Electronics\", \"price\": 299, \"quantity\": 3, \"details\": {\"brand\": \"Canon\", \"color\": \"White\"}}], \"order_status\": \"Completed\"}"
        ],
        [
         "{\"order_id\": 34, \"customer_id\": 9605, \"order_date\": \"2025-01-21\", \"transaction_timestamp\": \"2025-01-21 00:25:01\", \"total_amount\": 926, \"payment_method\": \"PayPal\", \"items\": [{\"item_id\": 6, \"name\": \"Bluetooth Speaker\", \"category\": \"Electronics\", \"price\": 149, \"quantity\": 2, \"details\": {\"brand\": \"Bose\", \"color\": \"Silver\"}}, {\"item_id\": 8, \"name\": \"Gaming Console\", \"category\": \"Electronics\", \"price\": 499, \"quantity\": 1, \"details\": {\"brand\": \"LG\", \"color\": \"Black\"}}, {\"item_id\": 7, \"name\": \"External Hard Drive\", \"category\": \"Electronics\", \"price\": 129, \"quantity\": 1, \"details\": {\"brand\": \"Samsung\", \"color\": \"Black\"}}], \"order_status\": \"Cancelled\"}"
        ],
        [
         "{\"order_id\": 40, \"customer_id\": 6384, \"order_date\": \"2025-01-20\", \"transaction_timestamp\": \"2025-01-20 16:18:35\", \"total_amount\": 298, \"payment_method\": \"PayPal\", \"items\": [{\"item_id\": 6, \"name\": \"Bluetooth Speaker\", \"category\": \"Electronics\", \"price\": 149, \"quantity\": 2, \"details\": {\"brand\": \"Bose\", \"color\": \"Silver\"}}], \"order_status\": \"Completed\"}"
        ],
        [
         "{\"order_id\": 41, \"customer_id\": 6384, \"order_date\": \"2025-01-05\", \"transaction_timestamp\": \"2025-01-05 06:10:22\", \"total_amount\": 999, \"payment_method\": \"Credit Card\", \"items\": [{\"item_id\": 2, \"name\": \"Laptop\", \"category\": \"Electronics\", \"price\": 999, \"quantity\": 1, \"details\": {\"brand\": \"Sony\", \"color\": \"Silver\"}}], \"order_status\": \"Shipped\"}"
        ],
        [
         "{\"order_id\": 43, \"customer_id\": 5028, \"order_date\": \"2025-01-24\", \"transaction_timestamp\": \"2025-01-24 18:10:37\", \"total_amount\": 499, \"payment_method\": \"PayPal\", \"items\": [{\"item_id\": 8, \"name\": \"Gaming Console\", \"category\": \"Electronics\", \"price\": 499, \"quantity\": 1, \"details\": {\"brand\": \"LG\", \"color\": \"Black\"}}], \"order_status\": \"Pending\"}"
        ],
        [
         "{\"order_id\": 50, \"customer_id\": 3712, \"order_date\": \"2025-01-11\", \"transaction_timestamp\": \"2025-01-11 01:19:09\", \"total_amount\": 746, \"payment_method\": \"Credit Card\", \"items\": [{\"item_id\": 6, \"name\": \"Bluetooth Speaker\", \"category\": \"Electronics\", \"price\": 149, \"quantity\": 3, \"details\": {\"brand\": \"Apple\", \"color\": \"Gray\"}}, {\"item_id\": 4, \"name\": \"Smartwatch\", \"category\": \"Electronics\", \"price\": 299, \"quantity\": 1, \"details\": {\"brand\": \"Sony\", \"color\": \"White\"}}], \"order_status\": \"Shipped\"}"
        ],
        [
         "{\"order_id\": 51, \"customer_id\": 8845, \"order_date\": \"2025-01-21\", \"transaction_timestamp\": \"2025-01-21 13:19:59\", \"total_amount\": 149, \"payment_method\": \"PayPal\", \"items\": [{\"item_id\": 6, \"name\": \"Bluetooth Speaker\", \"category\": \"Electronics\", \"price\": 149, \"quantity\": 1, \"details\": {\"brand\": \"Samsung\", \"color\": \"Gray\"}}], \"order_status\": \"Completed\"}"
        ],
        [
         "{\"order_id\": 53, \"customer_id\": 8845, \"order_date\": \"2025-01-21\", \"transaction_timestamp\": \"2025-01-21 08:31:02\", \"total_amount\": 199, \"payment_method\": \"Bank Transfer\", \"items\": [{\"item_id\": 3, \"name\": \"Wireless Headphones\", \"category\": \"Electronics\", \"price\": 199, \"quantity\": 1, \"details\": {\"brand\": \"Apple\", \"color\": \"Black\"}}], \"order_status\": \"Pending\"}"
        ],
        [
         "{\"order_id\": 56, \"customer_id\": 8580, \"order_date\": \"2025-01-01\", \"transaction_timestamp\": \"2025-01-01 12:02:41\", \"total_amount\": 698, \"payment_method\": \"PayPal\", \"items\": [{\"item_id\": 3, \"name\": \"Wireless Headphones\", \"category\": \"Electronics\", \"price\": 199, \"quantity\": 1, \"details\": {\"brand\": \"HP\", \"color\": \"Silver\"}}, {\"item_id\": 8, \"name\": \"Gaming Console\", \"category\": \"Electronics\", \"price\": 499, \"quantity\": 1, \"details\": {\"brand\": \"LG\", \"color\": \"Gray\"}}], \"order_status\": \"Cancelled\"}"
        ],
        [
         "{\"order_id\": 62, \"customer_id\": 7123, \"order_date\": \"2025-01-24\", \"transaction_timestamp\": \"2025-01-24 12:00:54\", \"total_amount\": 985, \"payment_method\": \"Bank Transfer\", \"items\": [{\"item_id\": 7, \"name\": \"External Hard Drive\", \"category\": \"Electronics\", \"price\": 129, \"quantity\": 3, \"details\": {\"brand\": \"Dell\", \"color\": \"White\"}}, {\"item_id\": 4, \"name\": \"Smartwatch\", \"category\": \"Electronics\", \"price\": 299, \"quantity\": 2, \"details\": {\"brand\": \"GoPro\", \"color\": \"Blue\"}}], \"order_status\": \"Completed\"}"
        ],
        [
         "{\"order_id\": 66, \"customer_id\": 3084, \"order_date\": \"2025-01-17\", \"transaction_timestamp\": \"2025-01-17 21:16:11\", \"total_amount\": 598, \"payment_method\": \"Credit Card\", \"items\": [{\"item_id\": 4, \"name\": \"Smartwatch\", \"category\": \"Electronics\", \"price\": 299, \"quantity\": 1, \"details\": {\"brand\": \"Bose\", \"color\": \"Silver\"}}, {\"item_id\": 4, \"name\": \"Smartwatch\", \"category\": \"Electronics\", \"price\": 299, \"quantity\": 1, \"details\": {\"brand\": \"GoPro\", \"color\": \"White\"}}], \"order_status\": \"Cancelled\"}"
        ],
        [
         "{\"order_id\": 68, \"customer_id\": 4973, \"order_date\": \"2025-01-10\", \"transaction_timestamp\": \"2025-01-10 20:35:43\", \"total_amount\": 149, \"payment_method\": \"Bank Transfer\", \"items\": [{\"item_id\": 6, \"name\": \"Bluetooth Speaker\", \"category\": \"Electronics\", \"price\": 149, \"quantity\": 1, \"details\": {\"brand\": \"Bose\", \"color\": \"Gray\"}}], \"order_status\": \"Completed\"}"
        ],
        [
         "{\"order_id\": 73, \"customer_id\": 6167, \"order_date\": \"2025-01-07\", \"transaction_timestamp\": \"2025-01-07 01:02:26\", \"total_amount\": 387, \"payment_method\": \"Credit Card\", \"items\": [{\"item_id\": 7, \"name\": \"External Hard Drive\", \"category\": \"Electronics\", \"price\": 129, \"quantity\": 3, \"details\": {\"brand\": \"GoPro\", \"color\": \"Gray\"}}, {\"item_id\": 7, \"name\": \"External Hard Drive\", \"category\": \"Electronics\", \"price\": 129, \"quantity\": 3, \"details\": {\"brand\": \"GoPro\", \"color\": \"Gray\"}}], \"order_status\": \"Shipped\"}"
        ],
        [
         "{\"order_id\": 75, \"customer_id\": 6167, \"order_date\": \"2025-01-19\", \"transaction_timestamp\": \"2025-01-19 16:23:16\", \"total_amount\": 699, \"payment_method\": \"Credit Card\", \"items\": [{\"item_id\": 1, \"name\": \"Smartphone\", \"category\": \"Electronics\", \"price\": 699, \"quantity\": 1, \"details\": {\"brand\": \"GoPro\", \"color\": \"White\"}}], \"order_status\": \"Shipped\"}"
        ],
        [
         "{\"order_id\": 76, \"customer_id\": 3295, \"order_date\": \"2025-01-06\", \"transaction_timestamp\": \"2025-01-06 02:54:39\", \"total_amount\": 399, \"payment_method\": \"Bank Transfer\", \"items\": [{\"item_id\": 5, \"name\": \"Tablet\", \"category\": \"Electronics\", \"price\": 399, \"quantity\": 1, \"details\": {\"brand\": \"Microsoft\", \"color\": \"Silver\"}}], \"order_status\": \"Completed\"}"
        ],
        [
         "{\"order_id\": 78, \"customer_id\": 9084, \"order_date\": \"2025-01-21\", \"transaction_timestamp\": \"2025-01-21 11:42:51\", \"total_amount\": 798, \"payment_method\": \"PayPal\", \"items\": [{\"item_id\": 5, \"name\": \"Tablet\", \"category\": \"Electronics\", \"price\": 399, \"quantity\": 2, \"details\": {\"brand\": \"Dell\", \"color\": \"White\"}}], \"order_status\": \"Cancelled\"}"
        ],
        [
         "{\"order_id\": 79, \"customer_id\": 9084, \"order_date\": \"2025-01-25\", \"transaction_timestamp\": \"2025-01-25 03:52:05\", \"total_amount\": 998, \"payment_method\": \"Credit Card\", \"items\": [{\"item_id\": 8, \"name\": \"Gaming Console\", \"category\": \"Electronics\", \"price\": 499, \"quantity\": 2, \"details\": {\"brand\": \"Dell\", \"color\": \"Gray\"}}], \"order_status\": \"Cancelled\"}"
        ],
        [
         "{\"order_id\": 83, \"customer_id\": 2344, \"order_date\": \"2025-01-07\", \"transaction_timestamp\": \"2025-01-07 12:48:05\", \"total_amount\": 785, \"payment_method\": \"PayPal\", \"items\": [{\"item_id\": 7, \"name\": \"External Hard Drive\", \"category\": \"Electronics\", \"price\": 129, \"quantity\": 3, \"details\": {\"brand\": \"Canon\", \"color\": \"Gray\"}}, {\"item_id\": 3, \"name\": \"Wireless Headphones\", \"category\": \"Electronics\", \"price\": 199, \"quantity\": 2, \"details\": {\"brand\": \"Sony\", \"color\": \"Black\"}}], \"order_status\": \"Shipped\"}"
        ],
        [
         "{\"order_id\": 87, \"customer_id\": 2141, \"order_date\": \"2025-01-02\", \"transaction_timestamp\": \"2025-01-02 04:28:38\", \"total_amount\": 129, \"payment_method\": \"PayPal\", \"items\": [{\"item_id\": 7, \"name\": \"External Hard Drive\", \"category\": \"Electronics\", \"price\": 129, \"quantity\": 1, \"details\": {\"brand\": \"Apple\", \"color\": \"Blue\"}}], \"order_status\": \"Pending\"}"
        ],
        [
         "{\"order_id\": 90, \"customer_id\": 9247, \"order_date\": \"2025-01-17\", \"transaction_timestamp\": \"2025-01-17 14:30:54\", \"total_amount\": 258, \"payment_method\": \"Credit Card\", \"items\": [{\"item_id\": 7, \"name\": \"External Hard Drive\", \"category\": \"Electronics\", \"price\": 129, \"quantity\": 1, \"details\": {\"brand\": \"Canon\", \"color\": \"White\"}}, {\"item_id\": 7, \"name\": \"External Hard Drive\", \"category\": \"Electronics\", \"price\": 129, \"quantity\": 1, \"details\": {\"brand\": \"Samsung\", \"color\": \"Black\"}}], \"order_status\": \"Pending\"}"
        ],
        [
         "{\"order_id\": 94, \"customer_id\": 6627, \"order_date\": \"2025-01-10\", \"transaction_timestamp\": \"2025-01-10 09:51:48\", \"total_amount\": 895, \"payment_method\": \"Credit Card\", \"items\": [{\"item_id\": 6, \"name\": \"Bluetooth Speaker\", \"category\": \"Electronics\", \"price\": 149, \"quantity\": 2, \"details\": {\"brand\": \"Sony\", \"color\": \"Black\"}}, {\"item_id\": 3, \"name\": \"Wireless Headphones\", \"category\": \"Electronics\", \"price\": 199, \"quantity\": 3, \"details\": {\"brand\": \"Apple\", \"color\": \"Blue\"}}], \"order_status\": \"Pending\"}"
        ],
        [
         "{\"order_id\": 98, \"customer_id\": 9150, \"order_date\": \"2025-01-08\", \"transaction_timestamp\": \"2025-01-08 05:57:55\", \"total_amount\": 985, \"payment_method\": \"Credit Card\", \"items\": [{\"item_id\": 7, \"name\": \"External Hard Drive\", \"category\": \"Electronics\", \"price\": 129, \"quantity\": 3, \"details\": {\"brand\": \"HP\", \"color\": \"Blue\"}}, {\"item_id\": 4, \"name\": \"Smartwatch\", \"category\": \"Electronics\", \"price\": 299, \"quantity\": 2, \"details\": {\"brand\": \"Samsung\", \"color\": \"Gray\"}}], \"order_status\": \"Completed\"}"
        ],
        [
         "{\"order_id\": 99, \"customer_id\": 9150, \"order_date\": \"2025-01-10\", \"transaction_timestamp\": \"2025-01-10 21:43:46\", \"total_amount\": 699, \"payment_method\": \"Credit Card\", \"items\": [{\"item_id\": 1, \"name\": \"Smartphone\", \"category\": \"Electronics\", \"price\": 699, \"quantity\": 1, \"details\": {\"brand\": \"Bose\", \"color\": \"Gray\"}}], \"order_status\": \"Shipped\"}"
        ],
        [
         "{\"order_id\": 100, \"customer_id\": 9150, \"order_date\": \"2025-01-04\", \"transaction_timestamp\": \"2025-01-04 06:40:13\", \"total_amount\": 447, \"payment_method\": \"PayPal\", \"items\": [{\"item_id\": 6, \"name\": \"Bluetooth Speaker\", \"category\": \"Electronics\", \"price\": 149, \"quantity\": 3, \"details\": {\"brand\": \"LG\", \"color\": \"Silver\"}}], \"order_status\": \"Shipped\"}"
        ],
        [
         "{\"order_id\": 12, \"customer_id\": 5816, \"order_date\": \"2024-12-06\", \"transaction_timestamp\": \"2024-12-06 20:26:49\", \"total_amount\": 999, \"payment_method\": \"PayPal\", \"items\": [{\"item_id\": 2, \"name\": \"Laptop\", \"category\": \"Electronics\", \"price\": 999, \"quantity\": 1, \"details\": {\"brand\": \"Sony\", \"color\": \"White\"}}], \"order_status\": \"Cancelled\"}"
        ],
        [
         "{\"order_id\": 13, \"customer_id\": 4858, \"order_date\": \"2024-12-17\", \"transaction_timestamp\": \"2024-12-17 03:41:37\", \"total_amount\": 999, \"payment_method\": \"PayPal\", \"items\": [{\"item_id\": 2, \"name\": \"Laptop\", \"category\": \"Electronics\", \"price\": 999, \"quantity\": 1, \"details\": {\"brand\": \"GoPro\", \"color\": \"Black\"}}], \"order_status\": \"Pending\"}"
        ],
        [
         "{\"order_id\": 16, \"customer_id\": 5204, \"order_date\": \"2024-12-08\", \"transaction_timestamp\": \"2024-12-08 22:59:48\", \"total_amount\": 597, \"payment_method\": \"Bank Transfer\", \"items\": [{\"item_id\": 3, \"name\": \"Wireless Headphones\", \"category\": \"Electronics\", \"price\": 199, \"quantity\": 3, \"details\": {\"brand\": \"Sony\", \"color\": \"Silver\"}}], \"order_status\": \"Pending\"}"
        ],
        [
         "{\"order_id\": 17, \"customer_id\": 5204, \"order_date\": \"2024-12-02\", \"transaction_timestamp\": \"2024-12-02 12:00:50\", \"total_amount\": 998, \"payment_method\": \"Bank Transfer\", \"items\": [{\"item_id\": 8, \"name\": \"Gaming Console\", \"category\": \"Electronics\", \"price\": 499, \"quantity\": 2, \"details\": {\"brand\": \"Dell\", \"color\": \"Black\"}}], \"order_status\": \"Pending\"}"
        ],
        [
         "{\"order_id\": 24, \"customer_id\": 1211, \"order_date\": \"2024-12-21\", \"transaction_timestamp\": \"2024-12-21 03:24:26\", \"total_amount\": 1199, \"payment_method\": \"PayPal\", \"items\": [{\"item_id\": 9, \"name\": \"Smart TV\", \"category\": \"Electronics\", \"price\": 1199, \"quantity\": 1, \"details\": {\"brand\": \"GoPro\", \"color\": \"Gray\"}}], \"order_status\": \"Completed\"}"
        ],
        [
         "{\"order_id\": 27, \"customer_id\": 2703, \"order_date\": \"2024-12-02\", \"transaction_timestamp\": \"2024-12-02 11:24:21\", \"total_amount\": 904, \"payment_method\": \"Credit Card\", \"items\": [{\"item_id\": 7, \"name\": \"External Hard Drive\", \"category\": \"Electronics\", \"price\": 129, \"quantity\": 2, \"details\": {\"brand\": \"Dell\", \"color\": \"White\"}}, {\"item_id\": 6, \"name\": \"Bluetooth Speaker\", \"category\": \"Electronics\", \"price\": 149, \"quantity\": 3, \"details\": {\"brand\": \"Canon\", \"color\": \"Black\"}}, {\"item_id\": 3, \"name\": \"Wireless Headphones\", \"category\": \"Electronics\", \"price\": 199, \"quantity\": 1, \"details\": {\"brand\": \"Microsoft\", \"color\": \"Silver\"}}], \"order_status\": \"Completed\"}"
        ],
        [
         "{\"order_id\": 28, \"customer_id\": 2703, \"order_date\": \"2024-12-26\", \"transaction_timestamp\": \"2024-12-26 03:17:50\", \"total_amount\": 129, \"payment_method\": \"Credit Card\", \"items\": [{\"item_id\": 7, \"name\": \"External Hard Drive\", \"category\": \"Electronics\", \"price\": 129, \"quantity\": 1, \"details\": {\"brand\": \"GoPro\", \"color\": \"Blue\"}}], \"order_status\": \"Cancelled\"}"
        ],
        [
         "{\"order_id\": 32, \"customer_id\": 4996, \"order_date\": \"2024-12-28\", \"transaction_timestamp\": \"2024-12-28 08:55:57\", \"total_amount\": 399, \"payment_method\": \"PayPal\", \"items\": [{\"item_id\": 5, \"name\": \"Tablet\", \"category\": \"Electronics\", \"price\": 399, \"quantity\": 1, \"details\": {\"brand\": \"Apple\", \"color\": \"Silver\"}}], \"order_status\": \"Pending\"}"
        ],
        [
         "{\"order_id\": 37, \"customer_id\": 7829, \"order_date\": \"2024-12-22\", \"transaction_timestamp\": \"2024-12-22 10:11:49\", \"total_amount\": 258, \"payment_method\": \"Credit Card\", \"items\": [{\"item_id\": 7, \"name\": \"External Hard Drive\", \"category\": \"Electronics\", \"price\": 129, \"quantity\": 2, \"details\": {\"brand\": \"HP\", \"color\": \"Silver\"}}], \"order_status\": \"Shipped\"}"
        ],
        [
         "{\"order_id\": 38, \"customer_id\": 7829, \"order_date\": \"2024-12-25\", \"transaction_timestamp\": \"2024-12-25 22:05:19\", \"total_amount\": 447, \"payment_method\": \"Credit Card\", \"items\": [{\"item_id\": 6, \"name\": \"Bluetooth Speaker\", \"category\": \"Electronics\", \"price\": 149, \"quantity\": 3, \"details\": {\"brand\": \"Apple\", \"color\": \"Gray\"}}], \"order_status\": \"Shipped\"}"
        ],
        [
         "{\"order_id\": 44, \"customer_id\": 7295, \"order_date\": \"2024-12-20\", \"transaction_timestamp\": \"2024-12-20 08:05:43\", \"total_amount\": 129, \"payment_method\": \"Credit Card\", \"items\": [{\"item_id\": 7, \"name\": \"External Hard Drive\", \"category\": \"Electronics\", \"price\": 129, \"quantity\": 1, \"details\": {\"brand\": \"Bose\", \"color\": \"Blue\"}}], \"order_status\": \"Completed\"}"
        ],
        [
         "{\"order_id\": 49, \"customer_id\": 7803, \"order_date\": \"2024-12-07\", \"transaction_timestamp\": \"2024-12-07 23:24:11\", \"total_amount\": 747, \"payment_method\": \"PayPal\", \"items\": [{\"item_id\": 4, \"name\": \"Smartwatch\", \"category\": \"Electronics\", \"price\": 299, \"quantity\": 1, \"details\": {\"brand\": \"HP\", \"color\": \"White\"}}, {\"item_id\": 4, \"name\": \"Smartwatch\", \"category\": \"Electronics\", \"price\": 299, \"quantity\": 1, \"details\": {\"brand\": \"Canon\", \"color\": \"Blue\"}}, {\"item_id\": 6, \"name\": \"Bluetooth Speaker\", \"category\": \"Electronics\", \"price\": 149, \"quantity\": 1, \"details\": {\"brand\": \"Samsung\", \"color\": \"White\"}}], \"order_status\": \"Cancelled\"}"
        ],
        [
         "{\"order_id\": 54, \"customer_id\": 2054, \"order_date\": \"2024-12-20\", \"transaction_timestamp\": \"2024-12-20 12:04:27\", \"total_amount\": 398, \"payment_method\": \"Credit Card\", \"items\": [{\"item_id\": 3, \"name\": \"Wireless Headphones\", \"category\": \"Electronics\", \"price\": 199, \"quantity\": 2, \"details\": {\"brand\": \"Bose\", \"color\": \"Gray\"}}], \"order_status\": \"Pending\"}"
        ],
        [
         "{\"order_id\": 58, \"customer_id\": 8580, \"order_date\": \"2024-12-09\", \"transaction_timestamp\": \"2024-12-09 22:40:58\", \"total_amount\": 699, \"payment_method\": \"PayPal\", \"items\": [{\"item_id\": 1, \"name\": \"Smartphone\", \"category\": \"Electronics\", \"price\": 699, \"quantity\": 1, \"details\": {\"brand\": \"Microsoft\", \"color\": \"Gray\"}}], \"order_status\": \"Completed\"}"
        ],
        [
         "{\"order_id\": 60, \"customer_id\": 3409, \"order_date\": \"2024-12-13\", \"transaction_timestamp\": \"2024-12-13 13:10:12\", \"total_amount\": 199, \"payment_method\": \"Bank Transfer\", \"items\": [{\"item_id\": 3, \"name\": \"Wireless Headphones\", \"category\": \"Electronics\", \"price\": 199, \"quantity\": 1, \"details\": {\"brand\": \"Samsung\", \"color\": \"Blue\"}}], \"order_status\": \"Shipped\"}"
        ],
        [
         "{\"order_id\": 61, \"customer_id\": 7123, \"order_date\": \"2024-12-07\", \"transaction_timestamp\": \"2024-12-07 07:47:19\", \"total_amount\": 699, \"payment_method\": \"Bank Transfer\", \"items\": [{\"item_id\": 1, \"name\": \"Smartphone\", \"category\": \"Electronics\", \"price\": 699, \"quantity\": 1, \"details\": {\"brand\": \"Canon\", \"color\": \"Black\"}}], \"order_status\": \"Completed\"}"
        ],
        [
         "{\"order_id\": 65, \"customer_id\": 3084, \"order_date\": \"2024-12-09\", \"transaction_timestamp\": \"2024-12-09 13:04:13\", \"total_amount\": 399, \"payment_method\": \"Bank Transfer\", \"items\": [{\"item_id\": 5, \"name\": \"Tablet\", \"category\": \"Electronics\", \"price\": 399, \"quantity\": 1, \"details\": {\"brand\": \"Microsoft\", \"color\": \"Gray\"}}], \"order_status\": \"Cancelled\"}"
        ],
        [
         "{\"order_id\": 67, \"customer_id\": 3084, \"order_date\": \"2024-12-19\", \"transaction_timestamp\": \"2024-12-19 07:11:09\", \"total_amount\": 897, \"payment_method\": \"PayPal\", \"items\": [{\"item_id\": 4, \"name\": \"Smartwatch\", \"category\": \"Electronics\", \"price\": 299, \"quantity\": 3, \"details\": {\"brand\": \"LG\", \"color\": \"Blue\"}}], \"order_status\": \"Shipped\"}"
        ],
        [
         "{\"order_id\": 69, \"customer_id\": 4973, \"order_date\": \"2024-12-30\", \"transaction_timestamp\": \"2024-12-30 02:42:01\", \"total_amount\": 699, \"payment_method\": \"Bank Transfer\", \"items\": [{\"item_id\": 1, \"name\": \"Smartphone\", \"category\": \"Electronics\", \"price\": 699, \"quantity\": 1, \"details\": {\"brand\": \"Dell\", \"color\": \"Gray\"}}], \"order_status\": \"Completed\"}"
        ],
        [
         "{\"order_id\": 70, \"customer_id\": 7997, \"order_date\": \"2024-12-04\", \"transaction_timestamp\": \"2024-12-04 17:17:24\", \"total_amount\": 897, \"payment_method\": \"PayPal\", \"items\": [{\"item_id\": 4, \"name\": \"Smartwatch\", \"category\": \"Electronics\", \"price\": 299, \"quantity\": 3, \"details\": {\"brand\": \"Sony\", \"color\": \"Black\"}}], \"order_status\": \"Shipped\"}"
        ],
        [
         "{\"order_id\": 71, \"customer_id\": 7997, \"order_date\": 2024-12-27, \"transaction_timestamp\": \"2024-12-27 11:16:39\", \"total_amount\": 199, \"payment_method\": \"Bank Transfer\", \"items\": [{\"item_id\": 3, \"name\": \"Wireless Headphones\", \"category\": \"Electronics\", \"price\": 199, \"quantity\": 1, \"details\": {\"brand\": \"Microsoft\", \"color\": \"Black\"}}], \"order_status\": \"Completed\"}"
        ],
        [
         "{\"order_id\": 74, \"customer_id\": 6167, \"order_date\": \"2024-12-22\", \"transaction_timestamp\": \"2024-12-22 15:54:11\", \"total_amount\": 699, \"payment_method\": \"PayPal\", \"items\": [{\"item_id\": 1, \"name\": \"Smartphone\", \"category\": \"Electronics\", \"price\": 699, \"quantity\": 1, \"details\": {\"brand\": \"Samsung\", \"color\": \"Blue\"}}], \"order_status\": \"Pending\"}"
        ],
        [
         "{\"order_id\": 80, \"customer_id\": 9687, \"order_date\": \"2024-12-11\", \"transaction_timestamp\": \"2024-12-11 07:43:54\", \"total_amount\": 998, \"payment_method\": \"Bank Transfer\", \"items\": [{\"item_id\": 8, \"name\": \"Gaming Console\", \"category\": \"Electronics\", \"price\": 499, \"quantity\": 2, \"details\": {\"brand\": \"Samsung\", \"color\": \"White\"}}], \"order_status\": \"Cancelled\"}"
        ],
        [
         "{\"order_id\": 81, \"customer_id\": 9687, \"order_date\": \"2024-12-27\", \"transaction_timestamp\": \"2024-12-27 02:27:45\", \"total_amount\": 699, \"payment_method\": \"PayPal\", \"items\": [{\"item_id\": 1, \"name\": \"Smartphone\", \"category\": \"Electronics\", \"price\": 699, \"quantity\": 1, \"details\": {\"brand\": \"GoPro\", \"color\": \"Blue\"}}], \"order_status\": \"Completed\"}"
        ],
        [
         "{\"order_id\": 82, \"customer_id\": 2344, \"order_date\": \"2024-12-28\", \"transaction_timestamp\": \"2024-12-28 00:54:08\", \"total_amount\": 387, \"payment_method\": \"PayPal\", \"items\": [{\"item_id\": 7, \"name\": \"External Hard Drive\", \"category\": \"Electronics\", \"price\": 129, \"quantity\": 3, \"details\": {\"brand\": \"Sony\", \"color\": \"Blue\"}}], \"order_status\": \"Completed\"}"
        ],
        [
         "{\"order_id\": 91, \"customer_id\": 5592, \"order_date\": \"2024-12-17\", \"transaction_timestamp\": \"2024-12-17 00:09:53\", \"total_amount\": 699, \"payment_method\": \"Bank Transfer\", \"items\": [{\"item_id\": 1, \"name\": \"Smartphone\", \"category\": \"Electronics\", \"price\": 699, \"quantity\": 1, \"details\": {\"brand\": \"Canon\", \"color\": \"Silver\"}}], \"order_status\": \"Cancelled\"}"
        ],
        [
         "{\"order_id\": 93, \"customer_id\": 6627, \"order_date\": \"2024-12-22\", \"transaction_timestamp\": \"2024-12-22 05:07:46\", \"total_amount\": 598, \"payment_method\": \"PayPal\", \"items\": [{\"item_id\": 4, \"name\": \"Smartwatch\", \"category\": \"Electronics\", \"price\": 299, \"quantity\": 2, \"details\": {\"brand\": \"LG\", \"color\": \"Silver\"}}], \"order_status\": \"Pending\"}"
        ],
        [
         "{\"order_id\": 95, \"customer_id\": 6627, \"order_date\": \"2024-12-28\", \"transaction_timestamp\": \"2024-12-28 04:28:30\", \"total_amount\": 946, \"payment_method\": \"Bank Transfer\", \"items\": [{\"item_id\": 4, \"name\": \"Smartwatch\", \"category\": \"Electronics\", \"price\": 299, \"quantity\": 2, \"details\": {\"brand\": \"GoPro\", \"color\": \"White\"}}, {\"item_id\": 3, \"name\": \"Wireless Headphones\", \"category\": \"Electronics\", \"price\": 199, \"quantity\": 1, \"details\": {\"brand\": \"Bose\", \"color\": \"Gray\"}}, {\"item_id\": 6, \"name\": \"Bluetooth Speaker\", \"category\": \"Electronics\", \"price\": 149, \"quantity\": 1, \"details\": {\"brand\": \"Dell\", \"color\": \"Silver\"}}], \"order_status\": \"Completed\"}"
        ],
        [
         "{\"order_id\": 96, \"customer_id\": 6406, \"order_date\": \"2024-12-02\", \"transaction_timestamp\": \"2024-12-02 12:27:45\", \"total_amount\": 149, \"payment_method\": \"PayPal\", \"items\": [{\"item_id\": 6, \"name\": \"Bluetooth Speaker\", \"category\": \"Electronics\", \"price\": 149, \"quantity\": 1, \"details\": {\"brand\": \"Microsoft\", \"color\": \"Black\"}}], \"order_status\": \"Shipped\"}"
        ],
        [
         "{\"order_id\": 97, \"customer_id\": 6406, \"order_date\": \"2024-12-07\", \"transaction_timestamp\": \"2024-12-07 16:14:34\", \"total_amount\": 499, \"payment_method\": \"Bank Transfer\", \"items\": [{\"item_id\": 8, \"name\": \"Gaming Console\", \"category\": \"Electronics\", \"price\": 499, \"quantity\": 1, \"details\": {\"brand\": \"Sony\", \"color\": \"Silver\"}}], \"order_status\": \"Completed\"}"
        ],
        [
         "{\"order_id\": 5, \"customer_id\": 3892, \"order_date\": \"2024-11-16\", \"transaction_timestamp\": \"2024-11-16 23:07:31\", \"total_amount\": 998, \"payment_method\": \"Bank Transfer\", \"items\": [{\"item_id\": 8, \"name\": \"Gaming Console\", \"category\": \"Electronics\", \"price\": 499, \"quantity\": 2, \"details\": {\"brand\": \"Dell\", \"color\": \"Blue\"}}], \"order_status\": \"Cancelled\"}"
        ],
        [
         "{\"order_id\": 7, \"customer_id\": 1987, \"order_date\": \"2024-11-19\", \"transaction_timestamp\": \"2024-11-19 19:18:48\", \"total_amount\": 645, \"payment_method\": \"Credit Card\", \"items\": [{\"item_id\": 7, \"name\": \"External Hard Drive\", \"category\": \"Electronics\", \"price\": 129, \"quantity\": 2, \"details\": {\"brand\": \"LG\", \"color\": \"Blue\"}}, {\"item_id\": 7, \"name\": \"External Hard Drive\", \"category\": \"Electronics\", \"price\": 129, \"quantity\": 3, \"details\": {\"brand\": \"HP\", \"color\": \"Gray\"}}], \"order_status\": \"Pending\"}"
        ],
        [
         "{\"order_id\": 9, \"customer_id\": 9179, \"order_date\": \"2024-11-27\", \"transaction_timestamp\": \"2024-11-27 13:15:29\", \"total_amount\": 999, \"payment_method\": \"Bank Transfer\", \"items\": [{\"item_id\": 2, \"name\": \"Laptop\", \"category\": \"Electronics\", \"price\": 999, \"quantity\": 1, \"details\": {\"brand\": \"Apple\", \"color\": \"Black\"}}], \"order_status\": \"Shipped\"}"
        ],
        [
         "{\"order_id\": 20, \"customer_id\": 8539, \"order_date\": \"2024-11-18\", \"transaction_timestamp\": \"2024-11-18 02:38:21\", \"total_amount\": 798, \"payment_method\": \"PayPal\", \"items\": [{\"item_id\": 5, \"name\": \"Tablet\", \"category\": \"Electronics\", \"price\": 399, \"quantity\": 2, \"details\": {\"brand\": \"Sony\", \"color\": \"Silver\"}}], \"order_status\": \"Pending\"}"
        ],
        [
         "{\"order_id\": 21, \"customer_id\": 8539, \"order_date\": \"2024-11-21\", \"transaction_timestamp\": \"2024-11-21 11:25:35\", \"total_amount\": 298, \"payment_method\": \"Bank Transfer\", \"items\": [{\"item_id\": 6, \"name\": \"Bluetooth Speaker\", \"category\": \"Electronics\", \"price\": 149, \"quantity\": 2, \"details\": {\"brand\": \"GoPro\", \"color\": \"Blue\"}}], \"order_status\": \"Cancelled\"}"
        ],
        [
         "{\"order_id\": 23, \"customer_id\": 4761, \"order_date\": \"2024-11-22\", \"transaction_timestamp\": \"2024-11-22 16:04:05\", \"total_amount\": 997, \"payment_method\": \"PayPal\", \"items\": [{\"item_id\": 5, \"name\": \"Tablet\", \"category\": \"Electronics\", \"price\": 399, \"quantity\": 1, \"details\": {\"brand\": \"Apple\", \"color\": \"Gray\"}}, {\"item_id\": 4, \"name\": \"Smartwatch\", \"category\": \"Electronics\", \"price\": 299, \"quantity\": 2, \"details\": {\"brand\": \"Dell\", \"color\": \"Gray\"}}], \"order_status\": \"Shipped\"}"
        ],
        [
         "{\"order_id\": 25, \"customer_id\": 9706, \"order_date\": \"2024-11-05\", \"transaction_timestamp\": \"2024-11-05 11:45:31\", \"total_amount\": 999, \"payment_method\": \"PayPal\", \"items\": [{\"item_id\": 2, \"name\": \"Laptop\", \"category\": \"Electronics\", \"price\": 999, \"quantity\": 1, \"details\": {\"brand\": \"LG\", \"color\": \"Gray\"}}], \"order_status\": \"Completed\"}"
        ],
        [
         "{\"order_id\": 30, \"customer_id\": 4996, \"order_date\": \"2024-11-12\", \"transaction_timestamp\": \"2024-11-12 03:20:29\", \"total_amount\": 199, \"payment_method\": \"Bank Transfer\", \"items\": [{\"item_id\": 3, \"name\": \"Wireless Headphones\", \"category\": \"Electronics\", \"price\": 199, \"quantity\": 1, \"details\": {\"brand\": \"GoPro\", \"color\": \"White\"}}], \"order_status\": \"Shipped\"}"
        ],
        [
         "{\"order_id\": 35, \"customer_id\": 4914, \"order_date\": \"2024-11-20\", \"transaction_timestamp\": \"2024-11-20 19:09:04\", \"total_amount\": 199, \"payment_method\": \"Bank Transfer\", \"items\": [{\"item_id\": 3, \"name\": \"Wireless Headphones\", \"category\": \"Electronics\", \"price\": 199, \"quantity\": 1, \"details\": {\"brand\": \"Dell\", \"color\": \"Gray\"}}], \"order_status\": \"Shipped\"}"
        ],
        [
         "{\"order_id\": 36, \"customer_id\": 4914, \"order_date\": \"2024-11-02\", \"transaction_timestamp\": \"2024-11-02 10:39:46\", \"total_amount\": 199, \"payment_method\": \"PayPal\", \"items\": [{\"item_id\": 3, \"name\": \"Wireless Headphones\", \"category\": \"Electronics\", \"price\": 199, \"quantity\": 1, \"details\": {\"brand\": \"Canon\", \"color\": \"Silver\"}}], \"order_status\": \"Completed\"}"
        ],
        [
         "{\"order_id\": 42, \"customer_id\": 5028, \"order_date\": 2024-11-08, \"transaction_timestamp\": \"2024-11-08 18:32:25\", \"total_amount\": 149, \"payment_method\": \"Credit Card\", \"items\": [{\"item_id\": 6, \"name\": \"Bluetooth Speaker\", \"category\": \"Electronics\", \"price\": 149, \"quantity\": 1, \"details\": {\"brand\": \"Bose\", \"color\": \"Gray\"}}], \"order_status\": \"Completed\"}"
        ],
        [
         "{\"order_id\": 45, \"customer_id\": 7295, \"order_date\": \"2024-11-07\", \"transaction_timestamp\": \"2024-11-07 15:41:43\", \"total_amount\": 799, \"payment_method\": \"Credit Card\", \"items\": [{\"item_id\": 10, \"name\": \"Drone\", \"category\": \"Electronics\", \"price\": 799, \"quantity\": 1, \"details\": {\"brand\": \"Dell\", \"color\": \"White\"}}], \"order_status\": \"Shipped\"}"
        ],
        [
         "{\"order_id\": 46, \"customer_id\": 7295, \"order_date\": \"2024-11-26\", \"transaction_timestamp\": \"2024-11-26 17:16:53\", \"total_amount\": 199, \"payment_method\": \"PayPal\", \"items\": [{\"item_id\": 3, \"name\": \"Wireless Headphones\", \"category\": \"Electronics\", \"price\": 199, \"quantity\": 1, \"details\": {\"brand\": \"Samsung\", \"color\": \"Black\"}}], \"order_status\": \"Pending\"}"
        ],
        [
         "{\"order_id\": 47, \"customer_id\": 7803, \"order_date\": \"2024-11-22\", \"transaction_timestamp\": \"2024-11-22 02:01:19\", \"total_amount\": 298, \"payment_method\": \"Credit Card\", \"items\": [{\"item_id\": 6, \"name\": \"Bluetooth Speaker\", \"category\": \"Electronics\", \"price\": 149, \"quantity\": 2, \"details\": {\"brand\": \"LG\", \"color\": \"Blue\"}}], \"order_status\": \"Shipped\"}"
        ],
        [
         "{\"order_id\": 48, \"customer_id\": 7803, \"order_date\": \"2024-11-13\", \"transaction_timestamp\": \"2024-11-13 06:35:56\", \"total_amount\": 387, \"payment_method\": \"PayPal\", \"items\": [{\"item_id\": 7, \"name\": \"External Hard Drive\", \"category\": \"Electronics\", \"price\": 129, \"quantity\": 3, \"details\": {\"brand\": \"Apple\", \"color\": \"Black\"}}], \"order_status\": \"Completed\"}"
        ],
        [
         "{\"order_id\": 52, \"customer_id\": 8845, \"order_date\": \"2024-11-19\", \"transaction_timestamp\": \"2024-11-19 21:23:45\", \"total_amount\": 998, \"payment_method\": \"PayPal\", \"items\": [{\"item_id\": 8, \"name\": \"Gaming Console\", \"category\": \"Electronics\", \"price\": 499, \"quantity\": 2, \"details\": {\"brand\": \"GoPro\", \"color\": \"White\"}}], \"order_status\": \"Completed\"}"
        ],
        [
         "{\"order_id\": 57, \"customer_id\": 8580, \"order_date\": \"2024-11-19\", \"transaction_timestamp\": \"2024-11-19 11:32:44\", \"total_amount\": 586, \"payment_method\": \"Bank Transfer\", \"items\": [{\"item_id\": 3, \"name\": \"Wireless Headphones\", \"category\": \"Electronics\", \"price\": 199, \"quantity\": 1, \"details\": {\"brand\": \"HP\", \"color\": \"Silver\"}}, {\"item_id\": 7, \"name\": \"External Hard Drive\", \"category\": \"Electronics\", \"price\": 129, \"quantity\": 3, \"details\": {\"brand\": \"Sony\", \"color\": \"Silver\"}}], \"order_status\": \"Cancelled\"}"
        ],
        [
         "{\"order_id\": 63, \"customer_id\": 7123, \"order_date\": \"2024-11-24\", \"transaction_timestamp\": \"2024-11-24 08:41:28\", \"total_amount\": 646, \"payment_method\": \"Bank Transfer\", \"items\": [{\"item_id\": 3, \"name\": \"Wireless Headphones\", \"category\": \"Electronics\", \"price\": 199, \"quantity\": 1, \"details\": {\"brand\": \"GoPro\", \"color\": \"Blue\"}}, {\"item_id\": 6, \"name\": \"Bluetooth Speaker\", \"category\": \"Electronics\", \"price\": 149, \"quantity\": 3, \"details\": {\"brand\": \"Bose\", \"color\": \"Silver\"}}], \"order_status\": \"Cancelled\"}"
        ],
        [
         "{\"order_id\": 64, \"customer_id\": 2639, \"order_date\": \"2024-11-28\", \"transaction_timestamp\": \"2024-11-28 12:23:21\", \"total_amount\": 984, \"payment_method\": \"Bank Transfer\", \"items\": [{\"item_id\": 7, \"name\": \"External Hard Drive\", \"category\": \"Electronics\", \"price\": 129, \"quantity\": 3, \"details\": {\"brand\": \"Microsoft\", \"color\": \"White\"}}, {\"item_id\": 3, \"name\": \"Wireless Headphones\", \"category\": \"Electronics\", \"price\": 199, \"quantity\": 3, \"details\": {\"brand\": \"Canon\", \"color\": \"Blue\"}}], \"order_status\": \"Completed\"}"
        ],
        [
         "{\"order_id\": 88, \"customer_id\": 9247, \"order_date\": \"2024-11-15\", \"transaction_timestamp\": \"2024-11-15 11:39:44\", \"total_amount\": 387, \"payment_method\": \"Bank Transfer\", \"items\": [{\"item_id\": 7, \"name\": \"External Hard Drive\", \"category\": \"Electronics\", \"price\": 129, \"quantity\": 3, \"details\": {\"brand\": \"Bose\", \"color\": \"White\"}}], \"order_status\": \"Cancelled\"}"
        ],
        [
         "{\"order_id\": 89, \"customer_id\": 9247, \"order_date\": \"2024-11-22\", \"transaction_timestamp\": \"2024-11-22 12:09:15\", \"total_amount\": 149, \"payment_method\": \"Bank Transfer\", \"items\": [{\"item_id\": 6, \"name\": \"Bluetooth Speaker\", \"category\": \"Electronics\", \"price\": 149, \"quantity\": 1, \"details\": {\"brand\": \"GoPro\", \"color\": \"Silver\"}}], \"order_status\": \"Cancelled\"}"
        ],
        [
         "{\"order_id\": 92, \"customer_id\": 5592, \"order_date\": \"2024-11-24\", \"transaction_timestamp\": \"2024-11-24 23:33:21\", \"total_amount\": 258, \"payment_method\": \"PayPal\", \"items\": [{\"item_id\": 7, \"name\": \"External Hard Drive\", \"category\": \"Electronics\", \"price\": 129, \"quantity\": 2, \"details\": {\"brand\": \"Sony\", \"color\": \"Black\"}}], \"order_status\": \"Shipped\"}"
        ],
        [
         "{\"order_id\": 6, \"customer_id\": 1987, \"order_date\": \"2024-10-28\", \"transaction_timestamp\": \"2024-10-28 04:47:27\", \"total_amount\": 799, \"payment_method\": \"Credit Card\", \"items\": [{\"item_id\": 10, \"name\": \"Drone\", \"category\": \"Electronics\", \"price\": 799, \"quantity\": 1, \"details\": {\"brand\": \"GoPro\", \"color\": \"Black\"}}], \"order_status\": \"Pending\"}"
        ],
        [
         "{\"order_id\": 10, \"customer_id\": 5816, \"order_date\": \"2024-10-07\", \"transaction_timestamp\": \"2024-10-07 22:09:27\", \"total_amount\": 399, \"payment_method\": \"Credit Card\", \"items\": [{\"item_id\": 5, \"name\": \"Tablet\", \"category\": \"Electronics\", \"price\": 399, \"quantity\": 1, \"details\": {\"brand\": \"GoPro\", \"color\": \"White\"}}], \"order_status\": \"Pending\"}"
        ],
        [
         "{\"order_id\": 11, \"customer_id\": 5816, \"order_date\": \"2024-10-13\", \"transaction_timestamp\": \"2024-10-13 17:34:19\", \"total_amount\": 897, \"payment_method\": \"Bank Transfer\", \"items\": [{\"item_id\": 4, \"name\": \"Smartwatch\", \"category\": \"Electronics\", \"price\": 299, \"quantity\": 3, \"details\": {\"brand\": \"Canon\", \"color\": \"White\"}}], \"order_status\": \"Pending\"}"
        ],
        [
         "{\"order_id\": 15, \"customer_id\": 7207, \"order_date\": \"2024-10-20\", \"transaction_timestamp\": \"2024-10-20 01:47:25\", \"total_amount\": 1199, \"payment_method\": \"Bank Transfer\", \"items\": [{\"item_id\": 9, \"name\": \"Smart TV\", \"category\": \"Electronics\", \"price\": 1199, \"quantity\": 1, \"details\": {\"brand\": \"GoPro\", \"color\": \"White\"}}], \"order_status\": \"Completed\"}"
        ],
        [
         "{\"order_id\": 19, \"customer_id\": 8539, \"order_date\": \"2024-10-13\", \"transaction_timestamp\": \"2024-10-13 12:40:26\", \"total_amount\": 499, \"payment_method\": \"PayPal\", \"items\": [{\"item_id\": 8, \"name\": \"Gaming Console\", \"category\": \"Electronics\", \"price\": 499, \"quantity\": 1, \"details\": {\"brand\": \"Dell\", \"color\": \"Silver\"}}], \"order_status\": \"Shipped\"}"
        ],
        [
         "{\"order_id\": 39, \"customer_id\": 9263, \"order_date\": \"2024-10-29\", \"transaction_timestamp\": \"2024-10-29 21:39:19\", \"total_amount\": 387, \"payment_method\": \"PayPal\", \"items\": [{\"item_id\": 7, \"name\": \"External Hard Drive\", \"category\": \"Electronics\", \"price\": 129, \"quantity\": 3, \"details\": {\"brand\": \"Sony\", \"color\": \"Black\"}}], \"order_status\": \"Shipped\"}"
        ],
        [
         "{\"order_id\": 55, \"customer_id\": 9018, \"order_date\": \"2024-10-25\", \"transaction_timestamp\": \"2024-10-25 05:49:16\", \"total_amount\": 699, \"payment_method\": \"Bank Transfer\", \"items\": [{\"item_id\": 1, \"name\": \"Smartphone\", \"category\": \"Electronics\", \"price\": 699, \"quantity\": 1, \"details\": {\"brand\": \"HP\", \"color\": \"Black\"}}], \"order_status\": \"Shipped\"}"
        ],
        [
         "{\"order_id\": 59, \"customer_id\": 3409, \"order_date\": \"2024-10-23\", \"transaction_timestamp\": \"2024-10-23 02:51:05\", \"total_amount\": 499, \"payment_method\": \"PayPal\", \"items\": [{\"item_id\": 8, \"name\": \"Gaming Console\", \"category\": \"Electronics\", \"price\": 499, \"quantity\": 1, \"details\": {\"brand\": \"Dell\", \"color\": \"Black\"}}], \"order_status\": \"Pending\"}"
        ],
        [
         "{\"order_id\": 72, \"customer_id\": 3889, \"order_date\": 2024-10-06, \"transaction_timestamp\": \"2024-10-06 10:23:28\", \"total_amount\": 328, \"payment_method\": \"PayPal\", \"items\": [{\"item_id\": 3, \"name\": \"Wireless Headphones\", \"category\": \"Electronics\", \"price\": 199, \"quantity\": 1, \"details\": {\"brand\": \"Microsoft\", \"color\": \"Gray\"}}, {\"item_id\": 7, \"name\": \"External Hard Drive\", \"category\": \"Electronics\", \"price\": 129, \"quantity\": 1, \"details\": {\"brand\": \"Samsung\", \"color\": \"Silver\"}}], \"order_status\": \"Cancelled\"}"
        ],
        [
         "{\"order_id\": 77, \"customer_id\": 9084, \"order_date\": \"2024-10-15\", \"transaction_timestamp\": \"2024-10-15 13:09:33\", \"total_amount\": 398, \"payment_method\": \"Credit Card\", \"items\": [{\"item_id\": 3, \"name\": \"Wireless Headphones\", \"category\": \"Electronics\", \"price\": 199, \"quantity\": 2, \"details\": {\"brand\": \"HP\", \"color\": \"Silver\"}}], \"order_status\": \"Pending\"}"
        ],
        [
         "{\"order_id\": 84, \"customer_id\": 2344, \"order_date\": \"2024-10-25\", \"transaction_timestamp\": \"2024-10-25 03:37:42\", \"total_amount\": 998, \"payment_method\": \"PayPal\", \"items\": [{\"item_id\": 10, \"name\": \"Drone\", \"category\": \"Electronics\", \"price\": 799, \"quantity\": 1, \"details\": {\"brand\": \"Sony\", \"color\": \"Black\"}}, {\"item_id\": 3, \"name\": \"Wireless Headphones\", \"category\": \"Electronics\", \"price\": 199, \"quantity\": 1, \"details\": {\"brand\": \"LG\", \"color\": \"Black\"}}], \"order_status\": \"Completed\"}"
        ],
        [
         "{\"order_id\": 85, \"customer_id\": 5011, \"order_date\": \"2024-10-23\", \"transaction_timestamp\": \"2024-10-23 20:06:42\", \"total_amount\": 998, \"payment_method\": \"Bank Transfer\", \"items\": [{\"item_id\": 8, \"name\": \"Gaming Console\", \"category\": \"Electronics\", \"price\": 499, \"quantity\": 2, \"details\": {\"brand\": \"GoPro\", \"color\": \"Black\"}}], \"order_status\": \"Shipped\"}"
        ],
        [
         "{\"order_id\": 86, \"customer_id\": 5011, \"order_date\": \"2024-10-19\", \"transaction_timestamp\": \"2024-10-19 13:30:47\", \"total_amount\": 1199, \"payment_method\": \"PayPal\", \"items\": [{\"item_id\": 9, \"name\": \"Smart TV\", \"category\": \"Electronics\", \"price\": 1199, \"quantity\": 1, \"details\": {\"brand\": \"Dell\", \"color\": \"White\"}}], \"order_status\": \"Completed\"}"
        ]
       ],
       "datasetInfos": [
        {
         "name": "_sqldf",
         "schema": {
          "fields": [
           {
            "metadata": {},
            "name": "value",
            "nullable": true,
            "type": "string"
           }
          ],
          "type": "struct"
         },
         "tableIdentifier": null,
         "typeStr": "pyspark.sql.connect.dataframe.DataFrame"
        }
       ],
       "dbfsResultPath": null,
       "isJsonSchema": true,
       "metadata": {
        "createTempViewForImplicitDf": true,
        "dataframeName": "_sqldf",
        "executionCount": 7
       },
       "overflow": false,
       "plotOptions": {
        "customPlotOptions": {},
        "displayType": "table",
        "pivotAggregation": null,
        "pivotColumns": null,
        "xColumns": null,
        "yColumns": null
       },
       "removedWidgets": [],
       "schema": [
        {
         "metadata": "{}",
         "name": "value",
         "type": "\"string\""
        }
       ],
       "type": "table"
      }
     },
     "output_type": "display_data"
    }
   ],
   "source": [
    "%sql\n",
    "select * from text.`/Volumes/gizmobox/landing/operational_data/orders/`"
   ]
  },
  {
   "cell_type": "markdown",
   "metadata": {
    "application/vnd.databricks.v1+cell": {
     "cellMetadata": {},
     "inputWidgets": {},
     "nuid": "88fc025c-e99a-4bac-acde-589d421194d5",
     "showTitle": false,
     "tableResultSettingsMap": {},
     "title": ""
    }
   },
   "source": [
    "#### create orders view in Bronze schema"
   ]
  },
  {
   "cell_type": "code",
   "execution_count": 0,
   "metadata": {
    "application/vnd.databricks.v1+cell": {
     "cellMetadata": {
      "byteLimit": 2048000,
      "implicitDf": true,
      "rowLimit": 10000
     },
     "inputWidgets": {},
     "nuid": "196207ae-c1ee-45f5-8357-bd675eb86706",
     "showTitle": false,
     "tableResultSettingsMap": {},
     "title": ""
    }
   },
   "outputs": [],
   "source": [
    "%sql\n",
    "create or replace view gizmobox.bronze.v_orders as \n",
    "select * from text.`/Volumes/gizmobox/landing/operational_data/orders/`\n",
    "    "
   ]
  },
  {
   "cell_type": "code",
   "execution_count": 0,
   "metadata": {
    "application/vnd.databricks.v1+cell": {
     "cellMetadata": {
      "byteLimit": 2048000,
      "implicitDf": true,
      "rowLimit": 10000
     },
     "inputWidgets": {},
     "nuid": "0125e74d-d50b-443e-83fd-73267f2ac3a4",
     "showTitle": false,
     "tableResultSettingsMap": {},
     "title": ""
    }
   },
   "outputs": [
    {
     "output_type": "display_data",
     "data": {
      "text/html": [
       "<style scoped>\n",
       "  .table-result-container {\n",
       "    max-height: 300px;\n",
       "    overflow: auto;\n",
       "  }\n",
       "  table, th, td {\n",
       "    border: 1px solid black;\n",
       "    border-collapse: collapse;\n",
       "  }\n",
       "  th, td {\n",
       "    padding: 5px;\n",
       "  }\n",
       "  th {\n",
       "    text-align: left;\n",
       "  }\n",
       "</style><div class='table-result-container'><table class='table-result'><thead style='background-color: white'><tr><th>value</th></tr></thead><tbody><tr><td>{\"order_id\": 1, \"customer_id\": 6973, \"order_date\": \"2025-01-05\", \"transaction_timestamp\": \"2025-01-05 10:13:59\", \"total_amount\": 499, \"payment_method\": \"Bank Transfer\", \"items\": [{\"item_id\": 8, \"name\": \"Gaming Console\", \"category\": \"Electronics\", \"price\": 499, \"quantity\": 1, \"details\": {\"brand\": \"Sony\", \"color\": \"Blue\"}}], \"order_status\": \"Completed\"}</td></tr><tr><td>{\"order_id\": 2, \"customer_id\": 3532, \"order_date\": 2025-01-19, \"transaction_timestamp\": \"2025-01-19 00:05:13\", \"total_amount\": 985, \"payment_method\": \"PayPal\", \"items\": [{\"item_id\": 4, \"name\": \"Smartwatch\", \"category\": \"Electronics\", \"price\": 299, \"quantity\": 2, \"details\": {\"brand\": \"Canon\", \"color\": \"Gray\"}}, {\"item_id\": 7, \"name\": \"External Hard Drive\", \"category\": \"Electronics\", \"price\": 129, \"quantity\": 3, \"details\": {\"brand\": \"Dell\", \"color\": \"Blue\"}}], \"order_status\": \"Cancelled\"}</td></tr><tr><td>{\"order_id\": 3, \"customer_id\": 3532, \"order_date\": \"2025-01-08\", \"transaction_timestamp\": \"2025-01-08 23:11:00\", \"total_amount\": 597, \"payment_method\": \"Bank Transfer\", \"items\": [{\"item_id\": 3, \"name\": \"Wireless Headphones\", \"category\": \"Electronics\", \"price\": 199, \"quantity\": 3, \"details\": {\"brand\": \"Apple\", \"color\": \"White\"}}], \"order_status\": \"Completed\"}</td></tr><tr><td>{\"order_id\": 4, \"customer_id\": 3532, \"order_date\": \"2025-01-05\", \"transaction_timestamp\": \"2025-01-05 05:49:26\", \"total_amount\": 999, \"payment_method\": \"Bank Transfer\", \"items\": [{\"item_id\": 2, \"name\": \"Laptop\", \"category\": \"Electronics\", \"price\": 999, \"quantity\": 1, \"details\": {\"brand\": \"Microsoft\", \"color\": \"Black\"}}], \"order_status\": \"Cancelled\"}</td></tr><tr><td>{\"order_id\": 8, \"customer_id\": 9179, \"order_date\": \"2025-01-02\", \"transaction_timestamp\": \"2025-01-02 13:11:15\", \"total_amount\": 399, \"payment_method\": \"PayPal\", \"items\": [{\"item_id\": 5, \"name\": \"Tablet\", \"category\": \"Electronics\", \"price\": 399, \"quantity\": 1, \"details\": {\"brand\": \"LG\", \"color\": \"White\"}}], \"order_status\": \"Completed\"}</td></tr><tr><td>{\"order_id\": 14, \"customer_id\": 7207, \"order_date\": \"2025-01-01\", \"transaction_timestamp\": \"2025-01-01 18:22:26\", \"total_amount\": 597, \"payment_method\": \"PayPal\", \"items\": [{\"item_id\": 3, \"name\": \"Wireless Headphones\", \"category\": \"Electronics\", \"price\": 199, \"quantity\": 3, \"details\": {\"brand\": \"Bose\", \"color\": \"Blue\"}}], \"order_status\": \"Cancelled\"}</td></tr><tr><td>{\"order_id\": 18, \"customer_id\": 4468, \"order_date\": \"2025-01-22\", \"transaction_timestamp\": \"2025-01-22 21:12:08\", \"total_amount\": 799, \"payment_method\": \"Credit Card\", \"items\": [{\"item_id\": 10, \"name\": \"Drone\", \"category\": \"Electronics\", \"price\": 799, \"quantity\": 1, \"details\": {\"brand\": \"Dell\", \"color\": \"Black\"}}], \"order_status\": \"Pending\"}</td></tr><tr><td>{\"order_id\": 22, \"customer_id\": 4761, \"order_date\": 2025-01-01, \"transaction_timestamp\": \"2025-01-01 15:49:19\", \"total_amount\": 199, \"payment_method\": \"PayPal\", \"items\": [{\"item_id\": 3, \"name\": \"Wireless Headphones\", \"category\": \"Electronics\", \"price\": 199, \"quantity\": 1, \"details\": {\"brand\": \"HP\", \"color\": \"Silver\"}}], \"order_status\": \"Pending\"}</td></tr><tr><td>{\"order_id\": 26, \"customer_id\": 7007, \"order_date\": \"2025-01-05\", \"transaction_timestamp\": \"2025-01-05 19:01:25\", \"total_amount\": 699, \"payment_method\": \"Bank Transfer\", \"items\": [{\"item_id\": 1, \"name\": \"Smartphone\", \"category\": \"Electronics\", \"price\": 699, \"quantity\": 1, \"details\": {\"brand\": \"Samsung\", \"color\": \"Silver\"}}], \"order_status\": \"Shipped\"}</td></tr><tr><td>{\"order_id\": 29, \"customer_id\": 5953, \"order_date\": \"2025-01-18\", \"transaction_timestamp\": \"2025-01-18 03:05:04\", \"total_amount\": 129, \"payment_method\": \"Bank Transfer\", \"items\": [{\"item_id\": 7, \"name\": \"External Hard Drive\", \"category\": \"Electronics\", \"price\": 129, \"quantity\": 1, \"details\": {\"brand\": \"Bose\", \"color\": \"Gray\"}}, {\"item_id\": 7, \"name\": \"External Hard Drive\", \"category\": \"Electronics\", \"price\": 129, \"quantity\": 1, \"details\": {\"brand\": \"Bose\", \"color\": \"Gray\"}}], \"order_status\": \"Pending\"}</td></tr><tr><td>{\"order_id\": 31, \"customer_id\": 4996, \"order_date\": \"2025-01-18\", \"transaction_timestamp\": \"2025-01-18 03:13:29\", \"total_amount\": 299, \"payment_method\": \"Bank Transfer\", \"items\": [{\"item_id\": 4, \"name\": \"Smartwatch\", \"category\": \"Electronics\", \"price\": 299, \"quantity\": 1, \"details\": {\"brand\": \"Dell\", \"color\": \"White\"}}], \"order_status\": \"Shipped\"}</td></tr><tr><td>{\"order_id\": 33, \"customer_id\": 9605, \"order_date\": \"2025-01-13\", \"transaction_timestamp\": \"2025-01-13 04:47:43\", \"total_amount\": 897, \"payment_method\": \"PayPal\", \"items\": [{\"item_id\": 4, \"name\": \"Smartwatch\", \"category\": \"Electronics\", \"price\": 299, \"quantity\": 3, \"details\": {\"brand\": \"Canon\", \"color\": \"White\"}}], \"order_status\": \"Completed\"}</td></tr><tr><td>{\"order_id\": 34, \"customer_id\": 9605, \"order_date\": \"2025-01-21\", \"transaction_timestamp\": \"2025-01-21 00:25:01\", \"total_amount\": 926, \"payment_method\": \"PayPal\", \"items\": [{\"item_id\": 6, \"name\": \"Bluetooth Speaker\", \"category\": \"Electronics\", \"price\": 149, \"quantity\": 2, \"details\": {\"brand\": \"Bose\", \"color\": \"Silver\"}}, {\"item_id\": 8, \"name\": \"Gaming Console\", \"category\": \"Electronics\", \"price\": 499, \"quantity\": 1, \"details\": {\"brand\": \"LG\", \"color\": \"Black\"}}, {\"item_id\": 7, \"name\": \"External Hard Drive\", \"category\": \"Electronics\", \"price\": 129, \"quantity\": 1, \"details\": {\"brand\": \"Samsung\", \"color\": \"Black\"}}], \"order_status\": \"Cancelled\"}</td></tr><tr><td>{\"order_id\": 40, \"customer_id\": 6384, \"order_date\": \"2025-01-20\", \"transaction_timestamp\": \"2025-01-20 16:18:35\", \"total_amount\": 298, \"payment_method\": \"PayPal\", \"items\": [{\"item_id\": 6, \"name\": \"Bluetooth Speaker\", \"category\": \"Electronics\", \"price\": 149, \"quantity\": 2, \"details\": {\"brand\": \"Bose\", \"color\": \"Silver\"}}], \"order_status\": \"Completed\"}</td></tr><tr><td>{\"order_id\": 41, \"customer_id\": 6384, \"order_date\": \"2025-01-05\", \"transaction_timestamp\": \"2025-01-05 06:10:22\", \"total_amount\": 999, \"payment_method\": \"Credit Card\", \"items\": [{\"item_id\": 2, \"name\": \"Laptop\", \"category\": \"Electronics\", \"price\": 999, \"quantity\": 1, \"details\": {\"brand\": \"Sony\", \"color\": \"Silver\"}}], \"order_status\": \"Shipped\"}</td></tr><tr><td>{\"order_id\": 43, \"customer_id\": 5028, \"order_date\": \"2025-01-24\", \"transaction_timestamp\": \"2025-01-24 18:10:37\", \"total_amount\": 499, \"payment_method\": \"PayPal\", \"items\": [{\"item_id\": 8, \"name\": \"Gaming Console\", \"category\": \"Electronics\", \"price\": 499, \"quantity\": 1, \"details\": {\"brand\": \"LG\", \"color\": \"Black\"}}], \"order_status\": \"Pending\"}</td></tr><tr><td>{\"order_id\": 50, \"customer_id\": 3712, \"order_date\": \"2025-01-11\", \"transaction_timestamp\": \"2025-01-11 01:19:09\", \"total_amount\": 746, \"payment_method\": \"Credit Card\", \"items\": [{\"item_id\": 6, \"name\": \"Bluetooth Speaker\", \"category\": \"Electronics\", \"price\": 149, \"quantity\": 3, \"details\": {\"brand\": \"Apple\", \"color\": \"Gray\"}}, {\"item_id\": 4, \"name\": \"Smartwatch\", \"category\": \"Electronics\", \"price\": 299, \"quantity\": 1, \"details\": {\"brand\": \"Sony\", \"color\": \"White\"}}], \"order_status\": \"Shipped\"}</td></tr><tr><td>{\"order_id\": 51, \"customer_id\": 8845, \"order_date\": \"2025-01-21\", \"transaction_timestamp\": \"2025-01-21 13:19:59\", \"total_amount\": 149, \"payment_method\": \"PayPal\", \"items\": [{\"item_id\": 6, \"name\": \"Bluetooth Speaker\", \"category\": \"Electronics\", \"price\": 149, \"quantity\": 1, \"details\": {\"brand\": \"Samsung\", \"color\": \"Gray\"}}], \"order_status\": \"Completed\"}</td></tr><tr><td>{\"order_id\": 53, \"customer_id\": 8845, \"order_date\": \"2025-01-21\", \"transaction_timestamp\": \"2025-01-21 08:31:02\", \"total_amount\": 199, \"payment_method\": \"Bank Transfer\", \"items\": [{\"item_id\": 3, \"name\": \"Wireless Headphones\", \"category\": \"Electronics\", \"price\": 199, \"quantity\": 1, \"details\": {\"brand\": \"Apple\", \"color\": \"Black\"}}], \"order_status\": \"Pending\"}</td></tr><tr><td>{\"order_id\": 56, \"customer_id\": 8580, \"order_date\": \"2025-01-01\", \"transaction_timestamp\": \"2025-01-01 12:02:41\", \"total_amount\": 698, \"payment_method\": \"PayPal\", \"items\": [{\"item_id\": 3, \"name\": \"Wireless Headphones\", \"category\": \"Electronics\", \"price\": 199, \"quantity\": 1, \"details\": {\"brand\": \"HP\", \"color\": \"Silver\"}}, {\"item_id\": 8, \"name\": \"Gaming Console\", \"category\": \"Electronics\", \"price\": 499, \"quantity\": 1, \"details\": {\"brand\": \"LG\", \"color\": \"Gray\"}}], \"order_status\": \"Cancelled\"}</td></tr><tr><td>{\"order_id\": 62, \"customer_id\": 7123, \"order_date\": \"2025-01-24\", \"transaction_timestamp\": \"2025-01-24 12:00:54\", \"total_amount\": 985, \"payment_method\": \"Bank Transfer\", \"items\": [{\"item_id\": 7, \"name\": \"External Hard Drive\", \"category\": \"Electronics\", \"price\": 129, \"quantity\": 3, \"details\": {\"brand\": \"Dell\", \"color\": \"White\"}}, {\"item_id\": 4, \"name\": \"Smartwatch\", \"category\": \"Electronics\", \"price\": 299, \"quantity\": 2, \"details\": {\"brand\": \"GoPro\", \"color\": \"Blue\"}}], \"order_status\": \"Completed\"}</td></tr><tr><td>{\"order_id\": 66, \"customer_id\": 3084, \"order_date\": \"2025-01-17\", \"transaction_timestamp\": \"2025-01-17 21:16:11\", \"total_amount\": 598, \"payment_method\": \"Credit Card\", \"items\": [{\"item_id\": 4, \"name\": \"Smartwatch\", \"category\": \"Electronics\", \"price\": 299, \"quantity\": 1, \"details\": {\"brand\": \"Bose\", \"color\": \"Silver\"}}, {\"item_id\": 4, \"name\": \"Smartwatch\", \"category\": \"Electronics\", \"price\": 299, \"quantity\": 1, \"details\": {\"brand\": \"GoPro\", \"color\": \"White\"}}], \"order_status\": \"Cancelled\"}</td></tr><tr><td>{\"order_id\": 68, \"customer_id\": 4973, \"order_date\": \"2025-01-10\", \"transaction_timestamp\": \"2025-01-10 20:35:43\", \"total_amount\": 149, \"payment_method\": \"Bank Transfer\", \"items\": [{\"item_id\": 6, \"name\": \"Bluetooth Speaker\", \"category\": \"Electronics\", \"price\": 149, \"quantity\": 1, \"details\": {\"brand\": \"Bose\", \"color\": \"Gray\"}}], \"order_status\": \"Completed\"}</td></tr><tr><td>{\"order_id\": 73, \"customer_id\": 6167, \"order_date\": \"2025-01-07\", \"transaction_timestamp\": \"2025-01-07 01:02:26\", \"total_amount\": 387, \"payment_method\": \"Credit Card\", \"items\": [{\"item_id\": 7, \"name\": \"External Hard Drive\", \"category\": \"Electronics\", \"price\": 129, \"quantity\": 3, \"details\": {\"brand\": \"GoPro\", \"color\": \"Gray\"}}, {\"item_id\": 7, \"name\": \"External Hard Drive\", \"category\": \"Electronics\", \"price\": 129, \"quantity\": 3, \"details\": {\"brand\": \"GoPro\", \"color\": \"Gray\"}}], \"order_status\": \"Shipped\"}</td></tr><tr><td>{\"order_id\": 75, \"customer_id\": 6167, \"order_date\": \"2025-01-19\", \"transaction_timestamp\": \"2025-01-19 16:23:16\", \"total_amount\": 699, \"payment_method\": \"Credit Card\", \"items\": [{\"item_id\": 1, \"name\": \"Smartphone\", \"category\": \"Electronics\", \"price\": 699, \"quantity\": 1, \"details\": {\"brand\": \"GoPro\", \"color\": \"White\"}}], \"order_status\": \"Shipped\"}</td></tr><tr><td>{\"order_id\": 76, \"customer_id\": 3295, \"order_date\": \"2025-01-06\", \"transaction_timestamp\": \"2025-01-06 02:54:39\", \"total_amount\": 399, \"payment_method\": \"Bank Transfer\", \"items\": [{\"item_id\": 5, \"name\": \"Tablet\", \"category\": \"Electronics\", \"price\": 399, \"quantity\": 1, \"details\": {\"brand\": \"Microsoft\", \"color\": \"Silver\"}}], \"order_status\": \"Completed\"}</td></tr><tr><td>{\"order_id\": 78, \"customer_id\": 9084, \"order_date\": \"2025-01-21\", \"transaction_timestamp\": \"2025-01-21 11:42:51\", \"total_amount\": 798, \"payment_method\": \"PayPal\", \"items\": [{\"item_id\": 5, \"name\": \"Tablet\", \"category\": \"Electronics\", \"price\": 399, \"quantity\": 2, \"details\": {\"brand\": \"Dell\", \"color\": \"White\"}}], \"order_status\": \"Cancelled\"}</td></tr><tr><td>{\"order_id\": 79, \"customer_id\": 9084, \"order_date\": \"2025-01-25\", \"transaction_timestamp\": \"2025-01-25 03:52:05\", \"total_amount\": 998, \"payment_method\": \"Credit Card\", \"items\": [{\"item_id\": 8, \"name\": \"Gaming Console\", \"category\": \"Electronics\", \"price\": 499, \"quantity\": 2, \"details\": {\"brand\": \"Dell\", \"color\": \"Gray\"}}], \"order_status\": \"Cancelled\"}</td></tr><tr><td>{\"order_id\": 83, \"customer_id\": 2344, \"order_date\": \"2025-01-07\", \"transaction_timestamp\": \"2025-01-07 12:48:05\", \"total_amount\": 785, \"payment_method\": \"PayPal\", \"items\": [{\"item_id\": 7, \"name\": \"External Hard Drive\", \"category\": \"Electronics\", \"price\": 129, \"quantity\": 3, \"details\": {\"brand\": \"Canon\", \"color\": \"Gray\"}}, {\"item_id\": 3, \"name\": \"Wireless Headphones\", \"category\": \"Electronics\", \"price\": 199, \"quantity\": 2, \"details\": {\"brand\": \"Sony\", \"color\": \"Black\"}}], \"order_status\": \"Shipped\"}</td></tr><tr><td>{\"order_id\": 87, \"customer_id\": 2141, \"order_date\": \"2025-01-02\", \"transaction_timestamp\": \"2025-01-02 04:28:38\", \"total_amount\": 129, \"payment_method\": \"PayPal\", \"items\": [{\"item_id\": 7, \"name\": \"External Hard Drive\", \"category\": \"Electronics\", \"price\": 129, \"quantity\": 1, \"details\": {\"brand\": \"Apple\", \"color\": \"Blue\"}}], \"order_status\": \"Pending\"}</td></tr><tr><td>{\"order_id\": 90, \"customer_id\": 9247, \"order_date\": \"2025-01-17\", \"transaction_timestamp\": \"2025-01-17 14:30:54\", \"total_amount\": 258, \"payment_method\": \"Credit Card\", \"items\": [{\"item_id\": 7, \"name\": \"External Hard Drive\", \"category\": \"Electronics\", \"price\": 129, \"quantity\": 1, \"details\": {\"brand\": \"Canon\", \"color\": \"White\"}}, {\"item_id\": 7, \"name\": \"External Hard Drive\", \"category\": \"Electronics\", \"price\": 129, \"quantity\": 1, \"details\": {\"brand\": \"Samsung\", \"color\": \"Black\"}}], \"order_status\": \"Pending\"}</td></tr><tr><td>{\"order_id\": 94, \"customer_id\": 6627, \"order_date\": \"2025-01-10\", \"transaction_timestamp\": \"2025-01-10 09:51:48\", \"total_amount\": 895, \"payment_method\": \"Credit Card\", \"items\": [{\"item_id\": 6, \"name\": \"Bluetooth Speaker\", \"category\": \"Electronics\", \"price\": 149, \"quantity\": 2, \"details\": {\"brand\": \"Sony\", \"color\": \"Black\"}}, {\"item_id\": 3, \"name\": \"Wireless Headphones\", \"category\": \"Electronics\", \"price\": 199, \"quantity\": 3, \"details\": {\"brand\": \"Apple\", \"color\": \"Blue\"}}], \"order_status\": \"Pending\"}</td></tr><tr><td>{\"order_id\": 98, \"customer_id\": 9150, \"order_date\": \"2025-01-08\", \"transaction_timestamp\": \"2025-01-08 05:57:55\", \"total_amount\": 985, \"payment_method\": \"Credit Card\", \"items\": [{\"item_id\": 7, \"name\": \"External Hard Drive\", \"category\": \"Electronics\", \"price\": 129, \"quantity\": 3, \"details\": {\"brand\": \"HP\", \"color\": \"Blue\"}}, {\"item_id\": 4, \"name\": \"Smartwatch\", \"category\": \"Electronics\", \"price\": 299, \"quantity\": 2, \"details\": {\"brand\": \"Samsung\", \"color\": \"Gray\"}}], \"order_status\": \"Completed\"}</td></tr><tr><td>{\"order_id\": 99, \"customer_id\": 9150, \"order_date\": \"2025-01-10\", \"transaction_timestamp\": \"2025-01-10 21:43:46\", \"total_amount\": 699, \"payment_method\": \"Credit Card\", \"items\": [{\"item_id\": 1, \"name\": \"Smartphone\", \"category\": \"Electronics\", \"price\": 699, \"quantity\": 1, \"details\": {\"brand\": \"Bose\", \"color\": \"Gray\"}}], \"order_status\": \"Shipped\"}</td></tr><tr><td>{\"order_id\": 100, \"customer_id\": 9150, \"order_date\": \"2025-01-04\", \"transaction_timestamp\": \"2025-01-04 06:40:13\", \"total_amount\": 447, \"payment_method\": \"PayPal\", \"items\": [{\"item_id\": 6, \"name\": \"Bluetooth Speaker\", \"category\": \"Electronics\", \"price\": 149, \"quantity\": 3, \"details\": {\"brand\": \"LG\", \"color\": \"Silver\"}}], \"order_status\": \"Shipped\"}</td></tr><tr><td>{\"order_id\": 12, \"customer_id\": 5816, \"order_date\": \"2024-12-06\", \"transaction_timestamp\": \"2024-12-06 20:26:49\", \"total_amount\": 999, \"payment_method\": \"PayPal\", \"items\": [{\"item_id\": 2, \"name\": \"Laptop\", \"category\": \"Electronics\", \"price\": 999, \"quantity\": 1, \"details\": {\"brand\": \"Sony\", \"color\": \"White\"}}], \"order_status\": \"Cancelled\"}</td></tr><tr><td>{\"order_id\": 13, \"customer_id\": 4858, \"order_date\": \"2024-12-17\", \"transaction_timestamp\": \"2024-12-17 03:41:37\", \"total_amount\": 999, \"payment_method\": \"PayPal\", \"items\": [{\"item_id\": 2, \"name\": \"Laptop\", \"category\": \"Electronics\", \"price\": 999, \"quantity\": 1, \"details\": {\"brand\": \"GoPro\", \"color\": \"Black\"}}], \"order_status\": \"Pending\"}</td></tr><tr><td>{\"order_id\": 16, \"customer_id\": 5204, \"order_date\": \"2024-12-08\", \"transaction_timestamp\": \"2024-12-08 22:59:48\", \"total_amount\": 597, \"payment_method\": \"Bank Transfer\", \"items\": [{\"item_id\": 3, \"name\": \"Wireless Headphones\", \"category\": \"Electronics\", \"price\": 199, \"quantity\": 3, \"details\": {\"brand\": \"Sony\", \"color\": \"Silver\"}}], \"order_status\": \"Pending\"}</td></tr><tr><td>{\"order_id\": 17, \"customer_id\": 5204, \"order_date\": \"2024-12-02\", \"transaction_timestamp\": \"2024-12-02 12:00:50\", \"total_amount\": 998, \"payment_method\": \"Bank Transfer\", \"items\": [{\"item_id\": 8, \"name\": \"Gaming Console\", \"category\": \"Electronics\", \"price\": 499, \"quantity\": 2, \"details\": {\"brand\": \"Dell\", \"color\": \"Black\"}}], \"order_status\": \"Pending\"}</td></tr><tr><td>{\"order_id\": 24, \"customer_id\": 1211, \"order_date\": \"2024-12-21\", \"transaction_timestamp\": \"2024-12-21 03:24:26\", \"total_amount\": 1199, \"payment_method\": \"PayPal\", \"items\": [{\"item_id\": 9, \"name\": \"Smart TV\", \"category\": \"Electronics\", \"price\": 1199, \"quantity\": 1, \"details\": {\"brand\": \"GoPro\", \"color\": \"Gray\"}}], \"order_status\": \"Completed\"}</td></tr><tr><td>{\"order_id\": 27, \"customer_id\": 2703, \"order_date\": \"2024-12-02\", \"transaction_timestamp\": \"2024-12-02 11:24:21\", \"total_amount\": 904, \"payment_method\": \"Credit Card\", \"items\": [{\"item_id\": 7, \"name\": \"External Hard Drive\", \"category\": \"Electronics\", \"price\": 129, \"quantity\": 2, \"details\": {\"brand\": \"Dell\", \"color\": \"White\"}}, {\"item_id\": 6, \"name\": \"Bluetooth Speaker\", \"category\": \"Electronics\", \"price\": 149, \"quantity\": 3, \"details\": {\"brand\": \"Canon\", \"color\": \"Black\"}}, {\"item_id\": 3, \"name\": \"Wireless Headphones\", \"category\": \"Electronics\", \"price\": 199, \"quantity\": 1, \"details\": {\"brand\": \"Microsoft\", \"color\": \"Silver\"}}], \"order_status\": \"Completed\"}</td></tr><tr><td>{\"order_id\": 28, \"customer_id\": 2703, \"order_date\": \"2024-12-26\", \"transaction_timestamp\": \"2024-12-26 03:17:50\", \"total_amount\": 129, \"payment_method\": \"Credit Card\", \"items\": [{\"item_id\": 7, \"name\": \"External Hard Drive\", \"category\": \"Electronics\", \"price\": 129, \"quantity\": 1, \"details\": {\"brand\": \"GoPro\", \"color\": \"Blue\"}}], \"order_status\": \"Cancelled\"}</td></tr><tr><td>{\"order_id\": 32, \"customer_id\": 4996, \"order_date\": \"2024-12-28\", \"transaction_timestamp\": \"2024-12-28 08:55:57\", \"total_amount\": 399, \"payment_method\": \"PayPal\", \"items\": [{\"item_id\": 5, \"name\": \"Tablet\", \"category\": \"Electronics\", \"price\": 399, \"quantity\": 1, \"details\": {\"brand\": \"Apple\", \"color\": \"Silver\"}}], \"order_status\": \"Pending\"}</td></tr><tr><td>{\"order_id\": 37, \"customer_id\": 7829, \"order_date\": \"2024-12-22\", \"transaction_timestamp\": \"2024-12-22 10:11:49\", \"total_amount\": 258, \"payment_method\": \"Credit Card\", \"items\": [{\"item_id\": 7, \"name\": \"External Hard Drive\", \"category\": \"Electronics\", \"price\": 129, \"quantity\": 2, \"details\": {\"brand\": \"HP\", \"color\": \"Silver\"}}], \"order_status\": \"Shipped\"}</td></tr><tr><td>{\"order_id\": 38, \"customer_id\": 7829, \"order_date\": \"2024-12-25\", \"transaction_timestamp\": \"2024-12-25 22:05:19\", \"total_amount\": 447, \"payment_method\": \"Credit Card\", \"items\": [{\"item_id\": 6, \"name\": \"Bluetooth Speaker\", \"category\": \"Electronics\", \"price\": 149, \"quantity\": 3, \"details\": {\"brand\": \"Apple\", \"color\": \"Gray\"}}], \"order_status\": \"Shipped\"}</td></tr><tr><td>{\"order_id\": 44, \"customer_id\": 7295, \"order_date\": \"2024-12-20\", \"transaction_timestamp\": \"2024-12-20 08:05:43\", \"total_amount\": 129, \"payment_method\": \"Credit Card\", \"items\": [{\"item_id\": 7, \"name\": \"External Hard Drive\", \"category\": \"Electronics\", \"price\": 129, \"quantity\": 1, \"details\": {\"brand\": \"Bose\", \"color\": \"Blue\"}}], \"order_status\": \"Completed\"}</td></tr><tr><td>{\"order_id\": 49, \"customer_id\": 7803, \"order_date\": \"2024-12-07\", \"transaction_timestamp\": \"2024-12-07 23:24:11\", \"total_amount\": 747, \"payment_method\": \"PayPal\", \"items\": [{\"item_id\": 4, \"name\": \"Smartwatch\", \"category\": \"Electronics\", \"price\": 299, \"quantity\": 1, \"details\": {\"brand\": \"HP\", \"color\": \"White\"}}, {\"item_id\": 4, \"name\": \"Smartwatch\", \"category\": \"Electronics\", \"price\": 299, \"quantity\": 1, \"details\": {\"brand\": \"Canon\", \"color\": \"Blue\"}}, {\"item_id\": 6, \"name\": \"Bluetooth Speaker\", \"category\": \"Electronics\", \"price\": 149, \"quantity\": 1, \"details\": {\"brand\": \"Samsung\", \"color\": \"White\"}}], \"order_status\": \"Cancelled\"}</td></tr><tr><td>{\"order_id\": 54, \"customer_id\": 2054, \"order_date\": \"2024-12-20\", \"transaction_timestamp\": \"2024-12-20 12:04:27\", \"total_amount\": 398, \"payment_method\": \"Credit Card\", \"items\": [{\"item_id\": 3, \"name\": \"Wireless Headphones\", \"category\": \"Electronics\", \"price\": 199, \"quantity\": 2, \"details\": {\"brand\": \"Bose\", \"color\": \"Gray\"}}], \"order_status\": \"Pending\"}</td></tr><tr><td>{\"order_id\": 58, \"customer_id\": 8580, \"order_date\": \"2024-12-09\", \"transaction_timestamp\": \"2024-12-09 22:40:58\", \"total_amount\": 699, \"payment_method\": \"PayPal\", \"items\": [{\"item_id\": 1, \"name\": \"Smartphone\", \"category\": \"Electronics\", \"price\": 699, \"quantity\": 1, \"details\": {\"brand\": \"Microsoft\", \"color\": \"Gray\"}}], \"order_status\": \"Completed\"}</td></tr><tr><td>{\"order_id\": 60, \"customer_id\": 3409, \"order_date\": \"2024-12-13\", \"transaction_timestamp\": \"2024-12-13 13:10:12\", \"total_amount\": 199, \"payment_method\": \"Bank Transfer\", \"items\": [{\"item_id\": 3, \"name\": \"Wireless Headphones\", \"category\": \"Electronics\", \"price\": 199, \"quantity\": 1, \"details\": {\"brand\": \"Samsung\", \"color\": \"Blue\"}}], \"order_status\": \"Shipped\"}</td></tr><tr><td>{\"order_id\": 61, \"customer_id\": 7123, \"order_date\": \"2024-12-07\", \"transaction_timestamp\": \"2024-12-07 07:47:19\", \"total_amount\": 699, \"payment_method\": \"Bank Transfer\", \"items\": [{\"item_id\": 1, \"name\": \"Smartphone\", \"category\": \"Electronics\", \"price\": 699, \"quantity\": 1, \"details\": {\"brand\": \"Canon\", \"color\": \"Black\"}}], \"order_status\": \"Completed\"}</td></tr><tr><td>{\"order_id\": 65, \"customer_id\": 3084, \"order_date\": \"2024-12-09\", \"transaction_timestamp\": \"2024-12-09 13:04:13\", \"total_amount\": 399, \"payment_method\": \"Bank Transfer\", \"items\": [{\"item_id\": 5, \"name\": \"Tablet\", \"category\": \"Electronics\", \"price\": 399, \"quantity\": 1, \"details\": {\"brand\": \"Microsoft\", \"color\": \"Gray\"}}], \"order_status\": \"Cancelled\"}</td></tr><tr><td>{\"order_id\": 67, \"customer_id\": 3084, \"order_date\": \"2024-12-19\", \"transaction_timestamp\": \"2024-12-19 07:11:09\", \"total_amount\": 897, \"payment_method\": \"PayPal\", \"items\": [{\"item_id\": 4, \"name\": \"Smartwatch\", \"category\": \"Electronics\", \"price\": 299, \"quantity\": 3, \"details\": {\"brand\": \"LG\", \"color\": \"Blue\"}}], \"order_status\": \"Shipped\"}</td></tr><tr><td>{\"order_id\": 69, \"customer_id\": 4973, \"order_date\": \"2024-12-30\", \"transaction_timestamp\": \"2024-12-30 02:42:01\", \"total_amount\": 699, \"payment_method\": \"Bank Transfer\", \"items\": [{\"item_id\": 1, \"name\": \"Smartphone\", \"category\": \"Electronics\", \"price\": 699, \"quantity\": 1, \"details\": {\"brand\": \"Dell\", \"color\": \"Gray\"}}], \"order_status\": \"Completed\"}</td></tr><tr><td>{\"order_id\": 70, \"customer_id\": 7997, \"order_date\": \"2024-12-04\", \"transaction_timestamp\": \"2024-12-04 17:17:24\", \"total_amount\": 897, \"payment_method\": \"PayPal\", \"items\": [{\"item_id\": 4, \"name\": \"Smartwatch\", \"category\": \"Electronics\", \"price\": 299, \"quantity\": 3, \"details\": {\"brand\": \"Sony\", \"color\": \"Black\"}}], \"order_status\": \"Shipped\"}</td></tr><tr><td>{\"order_id\": 71, \"customer_id\": 7997, \"order_date\": 2024-12-27, \"transaction_timestamp\": \"2024-12-27 11:16:39\", \"total_amount\": 199, \"payment_method\": \"Bank Transfer\", \"items\": [{\"item_id\": 3, \"name\": \"Wireless Headphones\", \"category\": \"Electronics\", \"price\": 199, \"quantity\": 1, \"details\": {\"brand\": \"Microsoft\", \"color\": \"Black\"}}], \"order_status\": \"Completed\"}</td></tr><tr><td>{\"order_id\": 74, \"customer_id\": 6167, \"order_date\": \"2024-12-22\", \"transaction_timestamp\": \"2024-12-22 15:54:11\", \"total_amount\": 699, \"payment_method\": \"PayPal\", \"items\": [{\"item_id\": 1, \"name\": \"Smartphone\", \"category\": \"Electronics\", \"price\": 699, \"quantity\": 1, \"details\": {\"brand\": \"Samsung\", \"color\": \"Blue\"}}], \"order_status\": \"Pending\"}</td></tr><tr><td>{\"order_id\": 80, \"customer_id\": 9687, \"order_date\": \"2024-12-11\", \"transaction_timestamp\": \"2024-12-11 07:43:54\", \"total_amount\": 998, \"payment_method\": \"Bank Transfer\", \"items\": [{\"item_id\": 8, \"name\": \"Gaming Console\", \"category\": \"Electronics\", \"price\": 499, \"quantity\": 2, \"details\": {\"brand\": \"Samsung\", \"color\": \"White\"}}], \"order_status\": \"Cancelled\"}</td></tr><tr><td>{\"order_id\": 81, \"customer_id\": 9687, \"order_date\": \"2024-12-27\", \"transaction_timestamp\": \"2024-12-27 02:27:45\", \"total_amount\": 699, \"payment_method\": \"PayPal\", \"items\": [{\"item_id\": 1, \"name\": \"Smartphone\", \"category\": \"Electronics\", \"price\": 699, \"quantity\": 1, \"details\": {\"brand\": \"GoPro\", \"color\": \"Blue\"}}], \"order_status\": \"Completed\"}</td></tr><tr><td>{\"order_id\": 82, \"customer_id\": 2344, \"order_date\": \"2024-12-28\", \"transaction_timestamp\": \"2024-12-28 00:54:08\", \"total_amount\": 387, \"payment_method\": \"PayPal\", \"items\": [{\"item_id\": 7, \"name\": \"External Hard Drive\", \"category\": \"Electronics\", \"price\": 129, \"quantity\": 3, \"details\": {\"brand\": \"Sony\", \"color\": \"Blue\"}}], \"order_status\": \"Completed\"}</td></tr><tr><td>{\"order_id\": 91, \"customer_id\": 5592, \"order_date\": \"2024-12-17\", \"transaction_timestamp\": \"2024-12-17 00:09:53\", \"total_amount\": 699, \"payment_method\": \"Bank Transfer\", \"items\": [{\"item_id\": 1, \"name\": \"Smartphone\", \"category\": \"Electronics\", \"price\": 699, \"quantity\": 1, \"details\": {\"brand\": \"Canon\", \"color\": \"Silver\"}}], \"order_status\": \"Cancelled\"}</td></tr><tr><td>{\"order_id\": 93, \"customer_id\": 6627, \"order_date\": \"2024-12-22\", \"transaction_timestamp\": \"2024-12-22 05:07:46\", \"total_amount\": 598, \"payment_method\": \"PayPal\", \"items\": [{\"item_id\": 4, \"name\": \"Smartwatch\", \"category\": \"Electronics\", \"price\": 299, \"quantity\": 2, \"details\": {\"brand\": \"LG\", \"color\": \"Silver\"}}], \"order_status\": \"Pending\"}</td></tr><tr><td>{\"order_id\": 95, \"customer_id\": 6627, \"order_date\": \"2024-12-28\", \"transaction_timestamp\": \"2024-12-28 04:28:30\", \"total_amount\": 946, \"payment_method\": \"Bank Transfer\", \"items\": [{\"item_id\": 4, \"name\": \"Smartwatch\", \"category\": \"Electronics\", \"price\": 299, \"quantity\": 2, \"details\": {\"brand\": \"GoPro\", \"color\": \"White\"}}, {\"item_id\": 3, \"name\": \"Wireless Headphones\", \"category\": \"Electronics\", \"price\": 199, \"quantity\": 1, \"details\": {\"brand\": \"Bose\", \"color\": \"Gray\"}}, {\"item_id\": 6, \"name\": \"Bluetooth Speaker\", \"category\": \"Electronics\", \"price\": 149, \"quantity\": 1, \"details\": {\"brand\": \"Dell\", \"color\": \"Silver\"}}], \"order_status\": \"Completed\"}</td></tr><tr><td>{\"order_id\": 96, \"customer_id\": 6406, \"order_date\": \"2024-12-02\", \"transaction_timestamp\": \"2024-12-02 12:27:45\", \"total_amount\": 149, \"payment_method\": \"PayPal\", \"items\": [{\"item_id\": 6, \"name\": \"Bluetooth Speaker\", \"category\": \"Electronics\", \"price\": 149, \"quantity\": 1, \"details\": {\"brand\": \"Microsoft\", \"color\": \"Black\"}}], \"order_status\": \"Shipped\"}</td></tr><tr><td>{\"order_id\": 97, \"customer_id\": 6406, \"order_date\": \"2024-12-07\", \"transaction_timestamp\": \"2024-12-07 16:14:34\", \"total_amount\": 499, \"payment_method\": \"Bank Transfer\", \"items\": [{\"item_id\": 8, \"name\": \"Gaming Console\", \"category\": \"Electronics\", \"price\": 499, \"quantity\": 1, \"details\": {\"brand\": \"Sony\", \"color\": \"Silver\"}}], \"order_status\": \"Completed\"}</td></tr><tr><td>{\"order_id\": 5, \"customer_id\": 3892, \"order_date\": \"2024-11-16\", \"transaction_timestamp\": \"2024-11-16 23:07:31\", \"total_amount\": 998, \"payment_method\": \"Bank Transfer\", \"items\": [{\"item_id\": 8, \"name\": \"Gaming Console\", \"category\": \"Electronics\", \"price\": 499, \"quantity\": 2, \"details\": {\"brand\": \"Dell\", \"color\": \"Blue\"}}], \"order_status\": \"Cancelled\"}</td></tr><tr><td>{\"order_id\": 7, \"customer_id\": 1987, \"order_date\": \"2024-11-19\", \"transaction_timestamp\": \"2024-11-19 19:18:48\", \"total_amount\": 645, \"payment_method\": \"Credit Card\", \"items\": [{\"item_id\": 7, \"name\": \"External Hard Drive\", \"category\": \"Electronics\", \"price\": 129, \"quantity\": 2, \"details\": {\"brand\": \"LG\", \"color\": \"Blue\"}}, {\"item_id\": 7, \"name\": \"External Hard Drive\", \"category\": \"Electronics\", \"price\": 129, \"quantity\": 3, \"details\": {\"brand\": \"HP\", \"color\": \"Gray\"}}], \"order_status\": \"Pending\"}</td></tr><tr><td>{\"order_id\": 9, \"customer_id\": 9179, \"order_date\": \"2024-11-27\", \"transaction_timestamp\": \"2024-11-27 13:15:29\", \"total_amount\": 999, \"payment_method\": \"Bank Transfer\", \"items\": [{\"item_id\": 2, \"name\": \"Laptop\", \"category\": \"Electronics\", \"price\": 999, \"quantity\": 1, \"details\": {\"brand\": \"Apple\", \"color\": \"Black\"}}], \"order_status\": \"Shipped\"}</td></tr><tr><td>{\"order_id\": 20, \"customer_id\": 8539, \"order_date\": \"2024-11-18\", \"transaction_timestamp\": \"2024-11-18 02:38:21\", \"total_amount\": 798, \"payment_method\": \"PayPal\", \"items\": [{\"item_id\": 5, \"name\": \"Tablet\", \"category\": \"Electronics\", \"price\": 399, \"quantity\": 2, \"details\": {\"brand\": \"Sony\", \"color\": \"Silver\"}}], \"order_status\": \"Pending\"}</td></tr><tr><td>{\"order_id\": 21, \"customer_id\": 8539, \"order_date\": \"2024-11-21\", \"transaction_timestamp\": \"2024-11-21 11:25:35\", \"total_amount\": 298, \"payment_method\": \"Bank Transfer\", \"items\": [{\"item_id\": 6, \"name\": \"Bluetooth Speaker\", \"category\": \"Electronics\", \"price\": 149, \"quantity\": 2, \"details\": {\"brand\": \"GoPro\", \"color\": \"Blue\"}}], \"order_status\": \"Cancelled\"}</td></tr><tr><td>{\"order_id\": 23, \"customer_id\": 4761, \"order_date\": \"2024-11-22\", \"transaction_timestamp\": \"2024-11-22 16:04:05\", \"total_amount\": 997, \"payment_method\": \"PayPal\", \"items\": [{\"item_id\": 5, \"name\": \"Tablet\", \"category\": \"Electronics\", \"price\": 399, \"quantity\": 1, \"details\": {\"brand\": \"Apple\", \"color\": \"Gray\"}}, {\"item_id\": 4, \"name\": \"Smartwatch\", \"category\": \"Electronics\", \"price\": 299, \"quantity\": 2, \"details\": {\"brand\": \"Dell\", \"color\": \"Gray\"}}], \"order_status\": \"Shipped\"}</td></tr><tr><td>{\"order_id\": 25, \"customer_id\": 9706, \"order_date\": \"2024-11-05\", \"transaction_timestamp\": \"2024-11-05 11:45:31\", \"total_amount\": 999, \"payment_method\": \"PayPal\", \"items\": [{\"item_id\": 2, \"name\": \"Laptop\", \"category\": \"Electronics\", \"price\": 999, \"quantity\": 1, \"details\": {\"brand\": \"LG\", \"color\": \"Gray\"}}], \"order_status\": \"Completed\"}</td></tr><tr><td>{\"order_id\": 30, \"customer_id\": 4996, \"order_date\": \"2024-11-12\", \"transaction_timestamp\": \"2024-11-12 03:20:29\", \"total_amount\": 199, \"payment_method\": \"Bank Transfer\", \"items\": [{\"item_id\": 3, \"name\": \"Wireless Headphones\", \"category\": \"Electronics\", \"price\": 199, \"quantity\": 1, \"details\": {\"brand\": \"GoPro\", \"color\": \"White\"}}], \"order_status\": \"Shipped\"}</td></tr><tr><td>{\"order_id\": 35, \"customer_id\": 4914, \"order_date\": \"2024-11-20\", \"transaction_timestamp\": \"2024-11-20 19:09:04\", \"total_amount\": 199, \"payment_method\": \"Bank Transfer\", \"items\": [{\"item_id\": 3, \"name\": \"Wireless Headphones\", \"category\": \"Electronics\", \"price\": 199, \"quantity\": 1, \"details\": {\"brand\": \"Dell\", \"color\": \"Gray\"}}], \"order_status\": \"Shipped\"}</td></tr><tr><td>{\"order_id\": 36, \"customer_id\": 4914, \"order_date\": \"2024-11-02\", \"transaction_timestamp\": \"2024-11-02 10:39:46\", \"total_amount\": 199, \"payment_method\": \"PayPal\", \"items\": [{\"item_id\": 3, \"name\": \"Wireless Headphones\", \"category\": \"Electronics\", \"price\": 199, \"quantity\": 1, \"details\": {\"brand\": \"Canon\", \"color\": \"Silver\"}}], \"order_status\": \"Completed\"}</td></tr><tr><td>{\"order_id\": 42, \"customer_id\": 5028, \"order_date\": 2024-11-08, \"transaction_timestamp\": \"2024-11-08 18:32:25\", \"total_amount\": 149, \"payment_method\": \"Credit Card\", \"items\": [{\"item_id\": 6, \"name\": \"Bluetooth Speaker\", \"category\": \"Electronics\", \"price\": 149, \"quantity\": 1, \"details\": {\"brand\": \"Bose\", \"color\": \"Gray\"}}], \"order_status\": \"Completed\"}</td></tr><tr><td>{\"order_id\": 45, \"customer_id\": 7295, \"order_date\": \"2024-11-07\", \"transaction_timestamp\": \"2024-11-07 15:41:43\", \"total_amount\": 799, \"payment_method\": \"Credit Card\", \"items\": [{\"item_id\": 10, \"name\": \"Drone\", \"category\": \"Electronics\", \"price\": 799, \"quantity\": 1, \"details\": {\"brand\": \"Dell\", \"color\": \"White\"}}], \"order_status\": \"Shipped\"}</td></tr><tr><td>{\"order_id\": 46, \"customer_id\": 7295, \"order_date\": \"2024-11-26\", \"transaction_timestamp\": \"2024-11-26 17:16:53\", \"total_amount\": 199, \"payment_method\": \"PayPal\", \"items\": [{\"item_id\": 3, \"name\": \"Wireless Headphones\", \"category\": \"Electronics\", \"price\": 199, \"quantity\": 1, \"details\": {\"brand\": \"Samsung\", \"color\": \"Black\"}}], \"order_status\": \"Pending\"}</td></tr><tr><td>{\"order_id\": 47, \"customer_id\": 7803, \"order_date\": \"2024-11-22\", \"transaction_timestamp\": \"2024-11-22 02:01:19\", \"total_amount\": 298, \"payment_method\": \"Credit Card\", \"items\": [{\"item_id\": 6, \"name\": \"Bluetooth Speaker\", \"category\": \"Electronics\", \"price\": 149, \"quantity\": 2, \"details\": {\"brand\": \"LG\", \"color\": \"Blue\"}}], \"order_status\": \"Shipped\"}</td></tr><tr><td>{\"order_id\": 48, \"customer_id\": 7803, \"order_date\": \"2024-11-13\", \"transaction_timestamp\": \"2024-11-13 06:35:56\", \"total_amount\": 387, \"payment_method\": \"PayPal\", \"items\": [{\"item_id\": 7, \"name\": \"External Hard Drive\", \"category\": \"Electronics\", \"price\": 129, \"quantity\": 3, \"details\": {\"brand\": \"Apple\", \"color\": \"Black\"}}], \"order_status\": \"Completed\"}</td></tr><tr><td>{\"order_id\": 52, \"customer_id\": 8845, \"order_date\": \"2024-11-19\", \"transaction_timestamp\": \"2024-11-19 21:23:45\", \"total_amount\": 998, \"payment_method\": \"PayPal\", \"items\": [{\"item_id\": 8, \"name\": \"Gaming Console\", \"category\": \"Electronics\", \"price\": 499, \"quantity\": 2, \"details\": {\"brand\": \"GoPro\", \"color\": \"White\"}}], \"order_status\": \"Completed\"}</td></tr><tr><td>{\"order_id\": 57, \"customer_id\": 8580, \"order_date\": \"2024-11-19\", \"transaction_timestamp\": \"2024-11-19 11:32:44\", \"total_amount\": 586, \"payment_method\": \"Bank Transfer\", \"items\": [{\"item_id\": 3, \"name\": \"Wireless Headphones\", \"category\": \"Electronics\", \"price\": 199, \"quantity\": 1, \"details\": {\"brand\": \"HP\", \"color\": \"Silver\"}}, {\"item_id\": 7, \"name\": \"External Hard Drive\", \"category\": \"Electronics\", \"price\": 129, \"quantity\": 3, \"details\": {\"brand\": \"Sony\", \"color\": \"Silver\"}}], \"order_status\": \"Cancelled\"}</td></tr><tr><td>{\"order_id\": 63, \"customer_id\": 7123, \"order_date\": \"2024-11-24\", \"transaction_timestamp\": \"2024-11-24 08:41:28\", \"total_amount\": 646, \"payment_method\": \"Bank Transfer\", \"items\": [{\"item_id\": 3, \"name\": \"Wireless Headphones\", \"category\": \"Electronics\", \"price\": 199, \"quantity\": 1, \"details\": {\"brand\": \"GoPro\", \"color\": \"Blue\"}}, {\"item_id\": 6, \"name\": \"Bluetooth Speaker\", \"category\": \"Electronics\", \"price\": 149, \"quantity\": 3, \"details\": {\"brand\": \"Bose\", \"color\": \"Silver\"}}], \"order_status\": \"Cancelled\"}</td></tr><tr><td>{\"order_id\": 64, \"customer_id\": 2639, \"order_date\": \"2024-11-28\", \"transaction_timestamp\": \"2024-11-28 12:23:21\", \"total_amount\": 984, \"payment_method\": \"Bank Transfer\", \"items\": [{\"item_id\": 7, \"name\": \"External Hard Drive\", \"category\": \"Electronics\", \"price\": 129, \"quantity\": 3, \"details\": {\"brand\": \"Microsoft\", \"color\": \"White\"}}, {\"item_id\": 3, \"name\": \"Wireless Headphones\", \"category\": \"Electronics\", \"price\": 199, \"quantity\": 3, \"details\": {\"brand\": \"Canon\", \"color\": \"Blue\"}}], \"order_status\": \"Completed\"}</td></tr><tr><td>{\"order_id\": 88, \"customer_id\": 9247, \"order_date\": \"2024-11-15\", \"transaction_timestamp\": \"2024-11-15 11:39:44\", \"total_amount\": 387, \"payment_method\": \"Bank Transfer\", \"items\": [{\"item_id\": 7, \"name\": \"External Hard Drive\", \"category\": \"Electronics\", \"price\": 129, \"quantity\": 3, \"details\": {\"brand\": \"Bose\", \"color\": \"White\"}}], \"order_status\": \"Cancelled\"}</td></tr><tr><td>{\"order_id\": 89, \"customer_id\": 9247, \"order_date\": \"2024-11-22\", \"transaction_timestamp\": \"2024-11-22 12:09:15\", \"total_amount\": 149, \"payment_method\": \"Bank Transfer\", \"items\": [{\"item_id\": 6, \"name\": \"Bluetooth Speaker\", \"category\": \"Electronics\", \"price\": 149, \"quantity\": 1, \"details\": {\"brand\": \"GoPro\", \"color\": \"Silver\"}}], \"order_status\": \"Cancelled\"}</td></tr><tr><td>{\"order_id\": 92, \"customer_id\": 5592, \"order_date\": \"2024-11-24\", \"transaction_timestamp\": \"2024-11-24 23:33:21\", \"total_amount\": 258, \"payment_method\": \"PayPal\", \"items\": [{\"item_id\": 7, \"name\": \"External Hard Drive\", \"category\": \"Electronics\", \"price\": 129, \"quantity\": 2, \"details\": {\"brand\": \"Sony\", \"color\": \"Black\"}}], \"order_status\": \"Shipped\"}</td></tr><tr><td>{\"order_id\": 6, \"customer_id\": 1987, \"order_date\": \"2024-10-28\", \"transaction_timestamp\": \"2024-10-28 04:47:27\", \"total_amount\": 799, \"payment_method\": \"Credit Card\", \"items\": [{\"item_id\": 10, \"name\": \"Drone\", \"category\": \"Electronics\", \"price\": 799, \"quantity\": 1, \"details\": {\"brand\": \"GoPro\", \"color\": \"Black\"}}], \"order_status\": \"Pending\"}</td></tr><tr><td>{\"order_id\": 10, \"customer_id\": 5816, \"order_date\": \"2024-10-07\", \"transaction_timestamp\": \"2024-10-07 22:09:27\", \"total_amount\": 399, \"payment_method\": \"Credit Card\", \"items\": [{\"item_id\": 5, \"name\": \"Tablet\", \"category\": \"Electronics\", \"price\": 399, \"quantity\": 1, \"details\": {\"brand\": \"GoPro\", \"color\": \"White\"}}], \"order_status\": \"Pending\"}</td></tr><tr><td>{\"order_id\": 11, \"customer_id\": 5816, \"order_date\": \"2024-10-13\", \"transaction_timestamp\": \"2024-10-13 17:34:19\", \"total_amount\": 897, \"payment_method\": \"Bank Transfer\", \"items\": [{\"item_id\": 4, \"name\": \"Smartwatch\", \"category\": \"Electronics\", \"price\": 299, \"quantity\": 3, \"details\": {\"brand\": \"Canon\", \"color\": \"White\"}}], \"order_status\": \"Pending\"}</td></tr><tr><td>{\"order_id\": 15, \"customer_id\": 7207, \"order_date\": \"2024-10-20\", \"transaction_timestamp\": \"2024-10-20 01:47:25\", \"total_amount\": 1199, \"payment_method\": \"Bank Transfer\", \"items\": [{\"item_id\": 9, \"name\": \"Smart TV\", \"category\": \"Electronics\", \"price\": 1199, \"quantity\": 1, \"details\": {\"brand\": \"GoPro\", \"color\": \"White\"}}], \"order_status\": \"Completed\"}</td></tr><tr><td>{\"order_id\": 19, \"customer_id\": 8539, \"order_date\": \"2024-10-13\", \"transaction_timestamp\": \"2024-10-13 12:40:26\", \"total_amount\": 499, \"payment_method\": \"PayPal\", \"items\": [{\"item_id\": 8, \"name\": \"Gaming Console\", \"category\": \"Electronics\", \"price\": 499, \"quantity\": 1, \"details\": {\"brand\": \"Dell\", \"color\": \"Silver\"}}], \"order_status\": \"Shipped\"}</td></tr><tr><td>{\"order_id\": 39, \"customer_id\": 9263, \"order_date\": \"2024-10-29\", \"transaction_timestamp\": \"2024-10-29 21:39:19\", \"total_amount\": 387, \"payment_method\": \"PayPal\", \"items\": [{\"item_id\": 7, \"name\": \"External Hard Drive\", \"category\": \"Electronics\", \"price\": 129, \"quantity\": 3, \"details\": {\"brand\": \"Sony\", \"color\": \"Black\"}}], \"order_status\": \"Shipped\"}</td></tr><tr><td>{\"order_id\": 55, \"customer_id\": 9018, \"order_date\": \"2024-10-25\", \"transaction_timestamp\": \"2024-10-25 05:49:16\", \"total_amount\": 699, \"payment_method\": \"Bank Transfer\", \"items\": [{\"item_id\": 1, \"name\": \"Smartphone\", \"category\": \"Electronics\", \"price\": 699, \"quantity\": 1, \"details\": {\"brand\": \"HP\", \"color\": \"Black\"}}], \"order_status\": \"Shipped\"}</td></tr><tr><td>{\"order_id\": 59, \"customer_id\": 3409, \"order_date\": \"2024-10-23\", \"transaction_timestamp\": \"2024-10-23 02:51:05\", \"total_amount\": 499, \"payment_method\": \"PayPal\", \"items\": [{\"item_id\": 8, \"name\": \"Gaming Console\", \"category\": \"Electronics\", \"price\": 499, \"quantity\": 1, \"details\": {\"brand\": \"Dell\", \"color\": \"Black\"}}], \"order_status\": \"Pending\"}</td></tr><tr><td>{\"order_id\": 72, \"customer_id\": 3889, \"order_date\": 2024-10-06, \"transaction_timestamp\": \"2024-10-06 10:23:28\", \"total_amount\": 328, \"payment_method\": \"PayPal\", \"items\": [{\"item_id\": 3, \"name\": \"Wireless Headphones\", \"category\": \"Electronics\", \"price\": 199, \"quantity\": 1, \"details\": {\"brand\": \"Microsoft\", \"color\": \"Gray\"}}, {\"item_id\": 7, \"name\": \"External Hard Drive\", \"category\": \"Electronics\", \"price\": 129, \"quantity\": 1, \"details\": {\"brand\": \"Samsung\", \"color\": \"Silver\"}}], \"order_status\": \"Cancelled\"}</td></tr><tr><td>{\"order_id\": 77, \"customer_id\": 9084, \"order_date\": \"2024-10-15\", \"transaction_timestamp\": \"2024-10-15 13:09:33\", \"total_amount\": 398, \"payment_method\": \"Credit Card\", \"items\": [{\"item_id\": 3, \"name\": \"Wireless Headphones\", \"category\": \"Electronics\", \"price\": 199, \"quantity\": 2, \"details\": {\"brand\": \"HP\", \"color\": \"Silver\"}}], \"order_status\": \"Pending\"}</td></tr><tr><td>{\"order_id\": 84, \"customer_id\": 2344, \"order_date\": \"2024-10-25\", \"transaction_timestamp\": \"2024-10-25 03:37:42\", \"total_amount\": 998, \"payment_method\": \"PayPal\", \"items\": [{\"item_id\": 10, \"name\": \"Drone\", \"category\": \"Electronics\", \"price\": 799, \"quantity\": 1, \"details\": {\"brand\": \"Sony\", \"color\": \"Black\"}}, {\"item_id\": 3, \"name\": \"Wireless Headphones\", \"category\": \"Electronics\", \"price\": 199, \"quantity\": 1, \"details\": {\"brand\": \"LG\", \"color\": \"Black\"}}], \"order_status\": \"Completed\"}</td></tr><tr><td>{\"order_id\": 85, \"customer_id\": 5011, \"order_date\": \"2024-10-23\", \"transaction_timestamp\": \"2024-10-23 20:06:42\", \"total_amount\": 998, \"payment_method\": \"Bank Transfer\", \"items\": [{\"item_id\": 8, \"name\": \"Gaming Console\", \"category\": \"Electronics\", \"price\": 499, \"quantity\": 2, \"details\": {\"brand\": \"GoPro\", \"color\": \"Black\"}}], \"order_status\": \"Shipped\"}</td></tr><tr><td>{\"order_id\": 86, \"customer_id\": 5011, \"order_date\": \"2024-10-19\", \"transaction_timestamp\": \"2024-10-19 13:30:47\", \"total_amount\": 1199, \"payment_method\": \"PayPal\", \"items\": [{\"item_id\": 9, \"name\": \"Smart TV\", \"category\": \"Electronics\", \"price\": 1199, \"quantity\": 1, \"details\": {\"brand\": \"Dell\", \"color\": \"White\"}}], \"order_status\": \"Completed\"}</td></tr></tbody></table></div>"
      ]
     },
     "metadata": {
      "application/vnd.databricks.v1+output": {
       "addedWidgets": {},
       "aggData": [],
       "aggError": "",
       "aggOverflow": false,
       "aggSchema": [],
       "aggSeriesLimitReached": false,
       "aggType": "",
       "arguments": {},
       "columnCustomDisplayInfos": {},
       "data": [
        [
         "{\"order_id\": 1, \"customer_id\": 6973, \"order_date\": \"2025-01-05\", \"transaction_timestamp\": \"2025-01-05 10:13:59\", \"total_amount\": 499, \"payment_method\": \"Bank Transfer\", \"items\": [{\"item_id\": 8, \"name\": \"Gaming Console\", \"category\": \"Electronics\", \"price\": 499, \"quantity\": 1, \"details\": {\"brand\": \"Sony\", \"color\": \"Blue\"}}], \"order_status\": \"Completed\"}"
        ],
        [
         "{\"order_id\": 2, \"customer_id\": 3532, \"order_date\": 2025-01-19, \"transaction_timestamp\": \"2025-01-19 00:05:13\", \"total_amount\": 985, \"payment_method\": \"PayPal\", \"items\": [{\"item_id\": 4, \"name\": \"Smartwatch\", \"category\": \"Electronics\", \"price\": 299, \"quantity\": 2, \"details\": {\"brand\": \"Canon\", \"color\": \"Gray\"}}, {\"item_id\": 7, \"name\": \"External Hard Drive\", \"category\": \"Electronics\", \"price\": 129, \"quantity\": 3, \"details\": {\"brand\": \"Dell\", \"color\": \"Blue\"}}], \"order_status\": \"Cancelled\"}"
        ],
        [
         "{\"order_id\": 3, \"customer_id\": 3532, \"order_date\": \"2025-01-08\", \"transaction_timestamp\": \"2025-01-08 23:11:00\", \"total_amount\": 597, \"payment_method\": \"Bank Transfer\", \"items\": [{\"item_id\": 3, \"name\": \"Wireless Headphones\", \"category\": \"Electronics\", \"price\": 199, \"quantity\": 3, \"details\": {\"brand\": \"Apple\", \"color\": \"White\"}}], \"order_status\": \"Completed\"}"
        ],
        [
         "{\"order_id\": 4, \"customer_id\": 3532, \"order_date\": \"2025-01-05\", \"transaction_timestamp\": \"2025-01-05 05:49:26\", \"total_amount\": 999, \"payment_method\": \"Bank Transfer\", \"items\": [{\"item_id\": 2, \"name\": \"Laptop\", \"category\": \"Electronics\", \"price\": 999, \"quantity\": 1, \"details\": {\"brand\": \"Microsoft\", \"color\": \"Black\"}}], \"order_status\": \"Cancelled\"}"
        ],
        [
         "{\"order_id\": 8, \"customer_id\": 9179, \"order_date\": \"2025-01-02\", \"transaction_timestamp\": \"2025-01-02 13:11:15\", \"total_amount\": 399, \"payment_method\": \"PayPal\", \"items\": [{\"item_id\": 5, \"name\": \"Tablet\", \"category\": \"Electronics\", \"price\": 399, \"quantity\": 1, \"details\": {\"brand\": \"LG\", \"color\": \"White\"}}], \"order_status\": \"Completed\"}"
        ],
        [
         "{\"order_id\": 14, \"customer_id\": 7207, \"order_date\": \"2025-01-01\", \"transaction_timestamp\": \"2025-01-01 18:22:26\", \"total_amount\": 597, \"payment_method\": \"PayPal\", \"items\": [{\"item_id\": 3, \"name\": \"Wireless Headphones\", \"category\": \"Electronics\", \"price\": 199, \"quantity\": 3, \"details\": {\"brand\": \"Bose\", \"color\": \"Blue\"}}], \"order_status\": \"Cancelled\"}"
        ],
        [
         "{\"order_id\": 18, \"customer_id\": 4468, \"order_date\": \"2025-01-22\", \"transaction_timestamp\": \"2025-01-22 21:12:08\", \"total_amount\": 799, \"payment_method\": \"Credit Card\", \"items\": [{\"item_id\": 10, \"name\": \"Drone\", \"category\": \"Electronics\", \"price\": 799, \"quantity\": 1, \"details\": {\"brand\": \"Dell\", \"color\": \"Black\"}}], \"order_status\": \"Pending\"}"
        ],
        [
         "{\"order_id\": 22, \"customer_id\": 4761, \"order_date\": 2025-01-01, \"transaction_timestamp\": \"2025-01-01 15:49:19\", \"total_amount\": 199, \"payment_method\": \"PayPal\", \"items\": [{\"item_id\": 3, \"name\": \"Wireless Headphones\", \"category\": \"Electronics\", \"price\": 199, \"quantity\": 1, \"details\": {\"brand\": \"HP\", \"color\": \"Silver\"}}], \"order_status\": \"Pending\"}"
        ],
        [
         "{\"order_id\": 26, \"customer_id\": 7007, \"order_date\": \"2025-01-05\", \"transaction_timestamp\": \"2025-01-05 19:01:25\", \"total_amount\": 699, \"payment_method\": \"Bank Transfer\", \"items\": [{\"item_id\": 1, \"name\": \"Smartphone\", \"category\": \"Electronics\", \"price\": 699, \"quantity\": 1, \"details\": {\"brand\": \"Samsung\", \"color\": \"Silver\"}}], \"order_status\": \"Shipped\"}"
        ],
        [
         "{\"order_id\": 29, \"customer_id\": 5953, \"order_date\": \"2025-01-18\", \"transaction_timestamp\": \"2025-01-18 03:05:04\", \"total_amount\": 129, \"payment_method\": \"Bank Transfer\", \"items\": [{\"item_id\": 7, \"name\": \"External Hard Drive\", \"category\": \"Electronics\", \"price\": 129, \"quantity\": 1, \"details\": {\"brand\": \"Bose\", \"color\": \"Gray\"}}, {\"item_id\": 7, \"name\": \"External Hard Drive\", \"category\": \"Electronics\", \"price\": 129, \"quantity\": 1, \"details\": {\"brand\": \"Bose\", \"color\": \"Gray\"}}], \"order_status\": \"Pending\"}"
        ],
        [
         "{\"order_id\": 31, \"customer_id\": 4996, \"order_date\": \"2025-01-18\", \"transaction_timestamp\": \"2025-01-18 03:13:29\", \"total_amount\": 299, \"payment_method\": \"Bank Transfer\", \"items\": [{\"item_id\": 4, \"name\": \"Smartwatch\", \"category\": \"Electronics\", \"price\": 299, \"quantity\": 1, \"details\": {\"brand\": \"Dell\", \"color\": \"White\"}}], \"order_status\": \"Shipped\"}"
        ],
        [
         "{\"order_id\": 33, \"customer_id\": 9605, \"order_date\": \"2025-01-13\", \"transaction_timestamp\": \"2025-01-13 04:47:43\", \"total_amount\": 897, \"payment_method\": \"PayPal\", \"items\": [{\"item_id\": 4, \"name\": \"Smartwatch\", \"category\": \"Electronics\", \"price\": 299, \"quantity\": 3, \"details\": {\"brand\": \"Canon\", \"color\": \"White\"}}], \"order_status\": \"Completed\"}"
        ],
        [
         "{\"order_id\": 34, \"customer_id\": 9605, \"order_date\": \"2025-01-21\", \"transaction_timestamp\": \"2025-01-21 00:25:01\", \"total_amount\": 926, \"payment_method\": \"PayPal\", \"items\": [{\"item_id\": 6, \"name\": \"Bluetooth Speaker\", \"category\": \"Electronics\", \"price\": 149, \"quantity\": 2, \"details\": {\"brand\": \"Bose\", \"color\": \"Silver\"}}, {\"item_id\": 8, \"name\": \"Gaming Console\", \"category\": \"Electronics\", \"price\": 499, \"quantity\": 1, \"details\": {\"brand\": \"LG\", \"color\": \"Black\"}}, {\"item_id\": 7, \"name\": \"External Hard Drive\", \"category\": \"Electronics\", \"price\": 129, \"quantity\": 1, \"details\": {\"brand\": \"Samsung\", \"color\": \"Black\"}}], \"order_status\": \"Cancelled\"}"
        ],
        [
         "{\"order_id\": 40, \"customer_id\": 6384, \"order_date\": \"2025-01-20\", \"transaction_timestamp\": \"2025-01-20 16:18:35\", \"total_amount\": 298, \"payment_method\": \"PayPal\", \"items\": [{\"item_id\": 6, \"name\": \"Bluetooth Speaker\", \"category\": \"Electronics\", \"price\": 149, \"quantity\": 2, \"details\": {\"brand\": \"Bose\", \"color\": \"Silver\"}}], \"order_status\": \"Completed\"}"
        ],
        [
         "{\"order_id\": 41, \"customer_id\": 6384, \"order_date\": \"2025-01-05\", \"transaction_timestamp\": \"2025-01-05 06:10:22\", \"total_amount\": 999, \"payment_method\": \"Credit Card\", \"items\": [{\"item_id\": 2, \"name\": \"Laptop\", \"category\": \"Electronics\", \"price\": 999, \"quantity\": 1, \"details\": {\"brand\": \"Sony\", \"color\": \"Silver\"}}], \"order_status\": \"Shipped\"}"
        ],
        [
         "{\"order_id\": 43, \"customer_id\": 5028, \"order_date\": \"2025-01-24\", \"transaction_timestamp\": \"2025-01-24 18:10:37\", \"total_amount\": 499, \"payment_method\": \"PayPal\", \"items\": [{\"item_id\": 8, \"name\": \"Gaming Console\", \"category\": \"Electronics\", \"price\": 499, \"quantity\": 1, \"details\": {\"brand\": \"LG\", \"color\": \"Black\"}}], \"order_status\": \"Pending\"}"
        ],
        [
         "{\"order_id\": 50, \"customer_id\": 3712, \"order_date\": \"2025-01-11\", \"transaction_timestamp\": \"2025-01-11 01:19:09\", \"total_amount\": 746, \"payment_method\": \"Credit Card\", \"items\": [{\"item_id\": 6, \"name\": \"Bluetooth Speaker\", \"category\": \"Electronics\", \"price\": 149, \"quantity\": 3, \"details\": {\"brand\": \"Apple\", \"color\": \"Gray\"}}, {\"item_id\": 4, \"name\": \"Smartwatch\", \"category\": \"Electronics\", \"price\": 299, \"quantity\": 1, \"details\": {\"brand\": \"Sony\", \"color\": \"White\"}}], \"order_status\": \"Shipped\"}"
        ],
        [
         "{\"order_id\": 51, \"customer_id\": 8845, \"order_date\": \"2025-01-21\", \"transaction_timestamp\": \"2025-01-21 13:19:59\", \"total_amount\": 149, \"payment_method\": \"PayPal\", \"items\": [{\"item_id\": 6, \"name\": \"Bluetooth Speaker\", \"category\": \"Electronics\", \"price\": 149, \"quantity\": 1, \"details\": {\"brand\": \"Samsung\", \"color\": \"Gray\"}}], \"order_status\": \"Completed\"}"
        ],
        [
         "{\"order_id\": 53, \"customer_id\": 8845, \"order_date\": \"2025-01-21\", \"transaction_timestamp\": \"2025-01-21 08:31:02\", \"total_amount\": 199, \"payment_method\": \"Bank Transfer\", \"items\": [{\"item_id\": 3, \"name\": \"Wireless Headphones\", \"category\": \"Electronics\", \"price\": 199, \"quantity\": 1, \"details\": {\"brand\": \"Apple\", \"color\": \"Black\"}}], \"order_status\": \"Pending\"}"
        ],
        [
         "{\"order_id\": 56, \"customer_id\": 8580, \"order_date\": \"2025-01-01\", \"transaction_timestamp\": \"2025-01-01 12:02:41\", \"total_amount\": 698, \"payment_method\": \"PayPal\", \"items\": [{\"item_id\": 3, \"name\": \"Wireless Headphones\", \"category\": \"Electronics\", \"price\": 199, \"quantity\": 1, \"details\": {\"brand\": \"HP\", \"color\": \"Silver\"}}, {\"item_id\": 8, \"name\": \"Gaming Console\", \"category\": \"Electronics\", \"price\": 499, \"quantity\": 1, \"details\": {\"brand\": \"LG\", \"color\": \"Gray\"}}], \"order_status\": \"Cancelled\"}"
        ],
        [
         "{\"order_id\": 62, \"customer_id\": 7123, \"order_date\": \"2025-01-24\", \"transaction_timestamp\": \"2025-01-24 12:00:54\", \"total_amount\": 985, \"payment_method\": \"Bank Transfer\", \"items\": [{\"item_id\": 7, \"name\": \"External Hard Drive\", \"category\": \"Electronics\", \"price\": 129, \"quantity\": 3, \"details\": {\"brand\": \"Dell\", \"color\": \"White\"}}, {\"item_id\": 4, \"name\": \"Smartwatch\", \"category\": \"Electronics\", \"price\": 299, \"quantity\": 2, \"details\": {\"brand\": \"GoPro\", \"color\": \"Blue\"}}], \"order_status\": \"Completed\"}"
        ],
        [
         "{\"order_id\": 66, \"customer_id\": 3084, \"order_date\": \"2025-01-17\", \"transaction_timestamp\": \"2025-01-17 21:16:11\", \"total_amount\": 598, \"payment_method\": \"Credit Card\", \"items\": [{\"item_id\": 4, \"name\": \"Smartwatch\", \"category\": \"Electronics\", \"price\": 299, \"quantity\": 1, \"details\": {\"brand\": \"Bose\", \"color\": \"Silver\"}}, {\"item_id\": 4, \"name\": \"Smartwatch\", \"category\": \"Electronics\", \"price\": 299, \"quantity\": 1, \"details\": {\"brand\": \"GoPro\", \"color\": \"White\"}}], \"order_status\": \"Cancelled\"}"
        ],
        [
         "{\"order_id\": 68, \"customer_id\": 4973, \"order_date\": \"2025-01-10\", \"transaction_timestamp\": \"2025-01-10 20:35:43\", \"total_amount\": 149, \"payment_method\": \"Bank Transfer\", \"items\": [{\"item_id\": 6, \"name\": \"Bluetooth Speaker\", \"category\": \"Electronics\", \"price\": 149, \"quantity\": 1, \"details\": {\"brand\": \"Bose\", \"color\": \"Gray\"}}], \"order_status\": \"Completed\"}"
        ],
        [
         "{\"order_id\": 73, \"customer_id\": 6167, \"order_date\": \"2025-01-07\", \"transaction_timestamp\": \"2025-01-07 01:02:26\", \"total_amount\": 387, \"payment_method\": \"Credit Card\", \"items\": [{\"item_id\": 7, \"name\": \"External Hard Drive\", \"category\": \"Electronics\", \"price\": 129, \"quantity\": 3, \"details\": {\"brand\": \"GoPro\", \"color\": \"Gray\"}}, {\"item_id\": 7, \"name\": \"External Hard Drive\", \"category\": \"Electronics\", \"price\": 129, \"quantity\": 3, \"details\": {\"brand\": \"GoPro\", \"color\": \"Gray\"}}], \"order_status\": \"Shipped\"}"
        ],
        [
         "{\"order_id\": 75, \"customer_id\": 6167, \"order_date\": \"2025-01-19\", \"transaction_timestamp\": \"2025-01-19 16:23:16\", \"total_amount\": 699, \"payment_method\": \"Credit Card\", \"items\": [{\"item_id\": 1, \"name\": \"Smartphone\", \"category\": \"Electronics\", \"price\": 699, \"quantity\": 1, \"details\": {\"brand\": \"GoPro\", \"color\": \"White\"}}], \"order_status\": \"Shipped\"}"
        ],
        [
         "{\"order_id\": 76, \"customer_id\": 3295, \"order_date\": \"2025-01-06\", \"transaction_timestamp\": \"2025-01-06 02:54:39\", \"total_amount\": 399, \"payment_method\": \"Bank Transfer\", \"items\": [{\"item_id\": 5, \"name\": \"Tablet\", \"category\": \"Electronics\", \"price\": 399, \"quantity\": 1, \"details\": {\"brand\": \"Microsoft\", \"color\": \"Silver\"}}], \"order_status\": \"Completed\"}"
        ],
        [
         "{\"order_id\": 78, \"customer_id\": 9084, \"order_date\": \"2025-01-21\", \"transaction_timestamp\": \"2025-01-21 11:42:51\", \"total_amount\": 798, \"payment_method\": \"PayPal\", \"items\": [{\"item_id\": 5, \"name\": \"Tablet\", \"category\": \"Electronics\", \"price\": 399, \"quantity\": 2, \"details\": {\"brand\": \"Dell\", \"color\": \"White\"}}], \"order_status\": \"Cancelled\"}"
        ],
        [
         "{\"order_id\": 79, \"customer_id\": 9084, \"order_date\": \"2025-01-25\", \"transaction_timestamp\": \"2025-01-25 03:52:05\", \"total_amount\": 998, \"payment_method\": \"Credit Card\", \"items\": [{\"item_id\": 8, \"name\": \"Gaming Console\", \"category\": \"Electronics\", \"price\": 499, \"quantity\": 2, \"details\": {\"brand\": \"Dell\", \"color\": \"Gray\"}}], \"order_status\": \"Cancelled\"}"
        ],
        [
         "{\"order_id\": 83, \"customer_id\": 2344, \"order_date\": \"2025-01-07\", \"transaction_timestamp\": \"2025-01-07 12:48:05\", \"total_amount\": 785, \"payment_method\": \"PayPal\", \"items\": [{\"item_id\": 7, \"name\": \"External Hard Drive\", \"category\": \"Electronics\", \"price\": 129, \"quantity\": 3, \"details\": {\"brand\": \"Canon\", \"color\": \"Gray\"}}, {\"item_id\": 3, \"name\": \"Wireless Headphones\", \"category\": \"Electronics\", \"price\": 199, \"quantity\": 2, \"details\": {\"brand\": \"Sony\", \"color\": \"Black\"}}], \"order_status\": \"Shipped\"}"
        ],
        [
         "{\"order_id\": 87, \"customer_id\": 2141, \"order_date\": \"2025-01-02\", \"transaction_timestamp\": \"2025-01-02 04:28:38\", \"total_amount\": 129, \"payment_method\": \"PayPal\", \"items\": [{\"item_id\": 7, \"name\": \"External Hard Drive\", \"category\": \"Electronics\", \"price\": 129, \"quantity\": 1, \"details\": {\"brand\": \"Apple\", \"color\": \"Blue\"}}], \"order_status\": \"Pending\"}"
        ],
        [
         "{\"order_id\": 90, \"customer_id\": 9247, \"order_date\": \"2025-01-17\", \"transaction_timestamp\": \"2025-01-17 14:30:54\", \"total_amount\": 258, \"payment_method\": \"Credit Card\", \"items\": [{\"item_id\": 7, \"name\": \"External Hard Drive\", \"category\": \"Electronics\", \"price\": 129, \"quantity\": 1, \"details\": {\"brand\": \"Canon\", \"color\": \"White\"}}, {\"item_id\": 7, \"name\": \"External Hard Drive\", \"category\": \"Electronics\", \"price\": 129, \"quantity\": 1, \"details\": {\"brand\": \"Samsung\", \"color\": \"Black\"}}], \"order_status\": \"Pending\"}"
        ],
        [
         "{\"order_id\": 94, \"customer_id\": 6627, \"order_date\": \"2025-01-10\", \"transaction_timestamp\": \"2025-01-10 09:51:48\", \"total_amount\": 895, \"payment_method\": \"Credit Card\", \"items\": [{\"item_id\": 6, \"name\": \"Bluetooth Speaker\", \"category\": \"Electronics\", \"price\": 149, \"quantity\": 2, \"details\": {\"brand\": \"Sony\", \"color\": \"Black\"}}, {\"item_id\": 3, \"name\": \"Wireless Headphones\", \"category\": \"Electronics\", \"price\": 199, \"quantity\": 3, \"details\": {\"brand\": \"Apple\", \"color\": \"Blue\"}}], \"order_status\": \"Pending\"}"
        ],
        [
         "{\"order_id\": 98, \"customer_id\": 9150, \"order_date\": \"2025-01-08\", \"transaction_timestamp\": \"2025-01-08 05:57:55\", \"total_amount\": 985, \"payment_method\": \"Credit Card\", \"items\": [{\"item_id\": 7, \"name\": \"External Hard Drive\", \"category\": \"Electronics\", \"price\": 129, \"quantity\": 3, \"details\": {\"brand\": \"HP\", \"color\": \"Blue\"}}, {\"item_id\": 4, \"name\": \"Smartwatch\", \"category\": \"Electronics\", \"price\": 299, \"quantity\": 2, \"details\": {\"brand\": \"Samsung\", \"color\": \"Gray\"}}], \"order_status\": \"Completed\"}"
        ],
        [
         "{\"order_id\": 99, \"customer_id\": 9150, \"order_date\": \"2025-01-10\", \"transaction_timestamp\": \"2025-01-10 21:43:46\", \"total_amount\": 699, \"payment_method\": \"Credit Card\", \"items\": [{\"item_id\": 1, \"name\": \"Smartphone\", \"category\": \"Electronics\", \"price\": 699, \"quantity\": 1, \"details\": {\"brand\": \"Bose\", \"color\": \"Gray\"}}], \"order_status\": \"Shipped\"}"
        ],
        [
         "{\"order_id\": 100, \"customer_id\": 9150, \"order_date\": \"2025-01-04\", \"transaction_timestamp\": \"2025-01-04 06:40:13\", \"total_amount\": 447, \"payment_method\": \"PayPal\", \"items\": [{\"item_id\": 6, \"name\": \"Bluetooth Speaker\", \"category\": \"Electronics\", \"price\": 149, \"quantity\": 3, \"details\": {\"brand\": \"LG\", \"color\": \"Silver\"}}], \"order_status\": \"Shipped\"}"
        ],
        [
         "{\"order_id\": 12, \"customer_id\": 5816, \"order_date\": \"2024-12-06\", \"transaction_timestamp\": \"2024-12-06 20:26:49\", \"total_amount\": 999, \"payment_method\": \"PayPal\", \"items\": [{\"item_id\": 2, \"name\": \"Laptop\", \"category\": \"Electronics\", \"price\": 999, \"quantity\": 1, \"details\": {\"brand\": \"Sony\", \"color\": \"White\"}}], \"order_status\": \"Cancelled\"}"
        ],
        [
         "{\"order_id\": 13, \"customer_id\": 4858, \"order_date\": \"2024-12-17\", \"transaction_timestamp\": \"2024-12-17 03:41:37\", \"total_amount\": 999, \"payment_method\": \"PayPal\", \"items\": [{\"item_id\": 2, \"name\": \"Laptop\", \"category\": \"Electronics\", \"price\": 999, \"quantity\": 1, \"details\": {\"brand\": \"GoPro\", \"color\": \"Black\"}}], \"order_status\": \"Pending\"}"
        ],
        [
         "{\"order_id\": 16, \"customer_id\": 5204, \"order_date\": \"2024-12-08\", \"transaction_timestamp\": \"2024-12-08 22:59:48\", \"total_amount\": 597, \"payment_method\": \"Bank Transfer\", \"items\": [{\"item_id\": 3, \"name\": \"Wireless Headphones\", \"category\": \"Electronics\", \"price\": 199, \"quantity\": 3, \"details\": {\"brand\": \"Sony\", \"color\": \"Silver\"}}], \"order_status\": \"Pending\"}"
        ],
        [
         "{\"order_id\": 17, \"customer_id\": 5204, \"order_date\": \"2024-12-02\", \"transaction_timestamp\": \"2024-12-02 12:00:50\", \"total_amount\": 998, \"payment_method\": \"Bank Transfer\", \"items\": [{\"item_id\": 8, \"name\": \"Gaming Console\", \"category\": \"Electronics\", \"price\": 499, \"quantity\": 2, \"details\": {\"brand\": \"Dell\", \"color\": \"Black\"}}], \"order_status\": \"Pending\"}"
        ],
        [
         "{\"order_id\": 24, \"customer_id\": 1211, \"order_date\": \"2024-12-21\", \"transaction_timestamp\": \"2024-12-21 03:24:26\", \"total_amount\": 1199, \"payment_method\": \"PayPal\", \"items\": [{\"item_id\": 9, \"name\": \"Smart TV\", \"category\": \"Electronics\", \"price\": 1199, \"quantity\": 1, \"details\": {\"brand\": \"GoPro\", \"color\": \"Gray\"}}], \"order_status\": \"Completed\"}"
        ],
        [
         "{\"order_id\": 27, \"customer_id\": 2703, \"order_date\": \"2024-12-02\", \"transaction_timestamp\": \"2024-12-02 11:24:21\", \"total_amount\": 904, \"payment_method\": \"Credit Card\", \"items\": [{\"item_id\": 7, \"name\": \"External Hard Drive\", \"category\": \"Electronics\", \"price\": 129, \"quantity\": 2, \"details\": {\"brand\": \"Dell\", \"color\": \"White\"}}, {\"item_id\": 6, \"name\": \"Bluetooth Speaker\", \"category\": \"Electronics\", \"price\": 149, \"quantity\": 3, \"details\": {\"brand\": \"Canon\", \"color\": \"Black\"}}, {\"item_id\": 3, \"name\": \"Wireless Headphones\", \"category\": \"Electronics\", \"price\": 199, \"quantity\": 1, \"details\": {\"brand\": \"Microsoft\", \"color\": \"Silver\"}}], \"order_status\": \"Completed\"}"
        ],
        [
         "{\"order_id\": 28, \"customer_id\": 2703, \"order_date\": \"2024-12-26\", \"transaction_timestamp\": \"2024-12-26 03:17:50\", \"total_amount\": 129, \"payment_method\": \"Credit Card\", \"items\": [{\"item_id\": 7, \"name\": \"External Hard Drive\", \"category\": \"Electronics\", \"price\": 129, \"quantity\": 1, \"details\": {\"brand\": \"GoPro\", \"color\": \"Blue\"}}], \"order_status\": \"Cancelled\"}"
        ],
        [
         "{\"order_id\": 32, \"customer_id\": 4996, \"order_date\": \"2024-12-28\", \"transaction_timestamp\": \"2024-12-28 08:55:57\", \"total_amount\": 399, \"payment_method\": \"PayPal\", \"items\": [{\"item_id\": 5, \"name\": \"Tablet\", \"category\": \"Electronics\", \"price\": 399, \"quantity\": 1, \"details\": {\"brand\": \"Apple\", \"color\": \"Silver\"}}], \"order_status\": \"Pending\"}"
        ],
        [
         "{\"order_id\": 37, \"customer_id\": 7829, \"order_date\": \"2024-12-22\", \"transaction_timestamp\": \"2024-12-22 10:11:49\", \"total_amount\": 258, \"payment_method\": \"Credit Card\", \"items\": [{\"item_id\": 7, \"name\": \"External Hard Drive\", \"category\": \"Electronics\", \"price\": 129, \"quantity\": 2, \"details\": {\"brand\": \"HP\", \"color\": \"Silver\"}}], \"order_status\": \"Shipped\"}"
        ],
        [
         "{\"order_id\": 38, \"customer_id\": 7829, \"order_date\": \"2024-12-25\", \"transaction_timestamp\": \"2024-12-25 22:05:19\", \"total_amount\": 447, \"payment_method\": \"Credit Card\", \"items\": [{\"item_id\": 6, \"name\": \"Bluetooth Speaker\", \"category\": \"Electronics\", \"price\": 149, \"quantity\": 3, \"details\": {\"brand\": \"Apple\", \"color\": \"Gray\"}}], \"order_status\": \"Shipped\"}"
        ],
        [
         "{\"order_id\": 44, \"customer_id\": 7295, \"order_date\": \"2024-12-20\", \"transaction_timestamp\": \"2024-12-20 08:05:43\", \"total_amount\": 129, \"payment_method\": \"Credit Card\", \"items\": [{\"item_id\": 7, \"name\": \"External Hard Drive\", \"category\": \"Electronics\", \"price\": 129, \"quantity\": 1, \"details\": {\"brand\": \"Bose\", \"color\": \"Blue\"}}], \"order_status\": \"Completed\"}"
        ],
        [
         "{\"order_id\": 49, \"customer_id\": 7803, \"order_date\": \"2024-12-07\", \"transaction_timestamp\": \"2024-12-07 23:24:11\", \"total_amount\": 747, \"payment_method\": \"PayPal\", \"items\": [{\"item_id\": 4, \"name\": \"Smartwatch\", \"category\": \"Electronics\", \"price\": 299, \"quantity\": 1, \"details\": {\"brand\": \"HP\", \"color\": \"White\"}}, {\"item_id\": 4, \"name\": \"Smartwatch\", \"category\": \"Electronics\", \"price\": 299, \"quantity\": 1, \"details\": {\"brand\": \"Canon\", \"color\": \"Blue\"}}, {\"item_id\": 6, \"name\": \"Bluetooth Speaker\", \"category\": \"Electronics\", \"price\": 149, \"quantity\": 1, \"details\": {\"brand\": \"Samsung\", \"color\": \"White\"}}], \"order_status\": \"Cancelled\"}"
        ],
        [
         "{\"order_id\": 54, \"customer_id\": 2054, \"order_date\": \"2024-12-20\", \"transaction_timestamp\": \"2024-12-20 12:04:27\", \"total_amount\": 398, \"payment_method\": \"Credit Card\", \"items\": [{\"item_id\": 3, \"name\": \"Wireless Headphones\", \"category\": \"Electronics\", \"price\": 199, \"quantity\": 2, \"details\": {\"brand\": \"Bose\", \"color\": \"Gray\"}}], \"order_status\": \"Pending\"}"
        ],
        [
         "{\"order_id\": 58, \"customer_id\": 8580, \"order_date\": \"2024-12-09\", \"transaction_timestamp\": \"2024-12-09 22:40:58\", \"total_amount\": 699, \"payment_method\": \"PayPal\", \"items\": [{\"item_id\": 1, \"name\": \"Smartphone\", \"category\": \"Electronics\", \"price\": 699, \"quantity\": 1, \"details\": {\"brand\": \"Microsoft\", \"color\": \"Gray\"}}], \"order_status\": \"Completed\"}"
        ],
        [
         "{\"order_id\": 60, \"customer_id\": 3409, \"order_date\": \"2024-12-13\", \"transaction_timestamp\": \"2024-12-13 13:10:12\", \"total_amount\": 199, \"payment_method\": \"Bank Transfer\", \"items\": [{\"item_id\": 3, \"name\": \"Wireless Headphones\", \"category\": \"Electronics\", \"price\": 199, \"quantity\": 1, \"details\": {\"brand\": \"Samsung\", \"color\": \"Blue\"}}], \"order_status\": \"Shipped\"}"
        ],
        [
         "{\"order_id\": 61, \"customer_id\": 7123, \"order_date\": \"2024-12-07\", \"transaction_timestamp\": \"2024-12-07 07:47:19\", \"total_amount\": 699, \"payment_method\": \"Bank Transfer\", \"items\": [{\"item_id\": 1, \"name\": \"Smartphone\", \"category\": \"Electronics\", \"price\": 699, \"quantity\": 1, \"details\": {\"brand\": \"Canon\", \"color\": \"Black\"}}], \"order_status\": \"Completed\"}"
        ],
        [
         "{\"order_id\": 65, \"customer_id\": 3084, \"order_date\": \"2024-12-09\", \"transaction_timestamp\": \"2024-12-09 13:04:13\", \"total_amount\": 399, \"payment_method\": \"Bank Transfer\", \"items\": [{\"item_id\": 5, \"name\": \"Tablet\", \"category\": \"Electronics\", \"price\": 399, \"quantity\": 1, \"details\": {\"brand\": \"Microsoft\", \"color\": \"Gray\"}}], \"order_status\": \"Cancelled\"}"
        ],
        [
         "{\"order_id\": 67, \"customer_id\": 3084, \"order_date\": \"2024-12-19\", \"transaction_timestamp\": \"2024-12-19 07:11:09\", \"total_amount\": 897, \"payment_method\": \"PayPal\", \"items\": [{\"item_id\": 4, \"name\": \"Smartwatch\", \"category\": \"Electronics\", \"price\": 299, \"quantity\": 3, \"details\": {\"brand\": \"LG\", \"color\": \"Blue\"}}], \"order_status\": \"Shipped\"}"
        ],
        [
         "{\"order_id\": 69, \"customer_id\": 4973, \"order_date\": \"2024-12-30\", \"transaction_timestamp\": \"2024-12-30 02:42:01\", \"total_amount\": 699, \"payment_method\": \"Bank Transfer\", \"items\": [{\"item_id\": 1, \"name\": \"Smartphone\", \"category\": \"Electronics\", \"price\": 699, \"quantity\": 1, \"details\": {\"brand\": \"Dell\", \"color\": \"Gray\"}}], \"order_status\": \"Completed\"}"
        ],
        [
         "{\"order_id\": 70, \"customer_id\": 7997, \"order_date\": \"2024-12-04\", \"transaction_timestamp\": \"2024-12-04 17:17:24\", \"total_amount\": 897, \"payment_method\": \"PayPal\", \"items\": [{\"item_id\": 4, \"name\": \"Smartwatch\", \"category\": \"Electronics\", \"price\": 299, \"quantity\": 3, \"details\": {\"brand\": \"Sony\", \"color\": \"Black\"}}], \"order_status\": \"Shipped\"}"
        ],
        [
         "{\"order_id\": 71, \"customer_id\": 7997, \"order_date\": 2024-12-27, \"transaction_timestamp\": \"2024-12-27 11:16:39\", \"total_amount\": 199, \"payment_method\": \"Bank Transfer\", \"items\": [{\"item_id\": 3, \"name\": \"Wireless Headphones\", \"category\": \"Electronics\", \"price\": 199, \"quantity\": 1, \"details\": {\"brand\": \"Microsoft\", \"color\": \"Black\"}}], \"order_status\": \"Completed\"}"
        ],
        [
         "{\"order_id\": 74, \"customer_id\": 6167, \"order_date\": \"2024-12-22\", \"transaction_timestamp\": \"2024-12-22 15:54:11\", \"total_amount\": 699, \"payment_method\": \"PayPal\", \"items\": [{\"item_id\": 1, \"name\": \"Smartphone\", \"category\": \"Electronics\", \"price\": 699, \"quantity\": 1, \"details\": {\"brand\": \"Samsung\", \"color\": \"Blue\"}}], \"order_status\": \"Pending\"}"
        ],
        [
         "{\"order_id\": 80, \"customer_id\": 9687, \"order_date\": \"2024-12-11\", \"transaction_timestamp\": \"2024-12-11 07:43:54\", \"total_amount\": 998, \"payment_method\": \"Bank Transfer\", \"items\": [{\"item_id\": 8, \"name\": \"Gaming Console\", \"category\": \"Electronics\", \"price\": 499, \"quantity\": 2, \"details\": {\"brand\": \"Samsung\", \"color\": \"White\"}}], \"order_status\": \"Cancelled\"}"
        ],
        [
         "{\"order_id\": 81, \"customer_id\": 9687, \"order_date\": \"2024-12-27\", \"transaction_timestamp\": \"2024-12-27 02:27:45\", \"total_amount\": 699, \"payment_method\": \"PayPal\", \"items\": [{\"item_id\": 1, \"name\": \"Smartphone\", \"category\": \"Electronics\", \"price\": 699, \"quantity\": 1, \"details\": {\"brand\": \"GoPro\", \"color\": \"Blue\"}}], \"order_status\": \"Completed\"}"
        ],
        [
         "{\"order_id\": 82, \"customer_id\": 2344, \"order_date\": \"2024-12-28\", \"transaction_timestamp\": \"2024-12-28 00:54:08\", \"total_amount\": 387, \"payment_method\": \"PayPal\", \"items\": [{\"item_id\": 7, \"name\": \"External Hard Drive\", \"category\": \"Electronics\", \"price\": 129, \"quantity\": 3, \"details\": {\"brand\": \"Sony\", \"color\": \"Blue\"}}], \"order_status\": \"Completed\"}"
        ],
        [
         "{\"order_id\": 91, \"customer_id\": 5592, \"order_date\": \"2024-12-17\", \"transaction_timestamp\": \"2024-12-17 00:09:53\", \"total_amount\": 699, \"payment_method\": \"Bank Transfer\", \"items\": [{\"item_id\": 1, \"name\": \"Smartphone\", \"category\": \"Electronics\", \"price\": 699, \"quantity\": 1, \"details\": {\"brand\": \"Canon\", \"color\": \"Silver\"}}], \"order_status\": \"Cancelled\"}"
        ],
        [
         "{\"order_id\": 93, \"customer_id\": 6627, \"order_date\": \"2024-12-22\", \"transaction_timestamp\": \"2024-12-22 05:07:46\", \"total_amount\": 598, \"payment_method\": \"PayPal\", \"items\": [{\"item_id\": 4, \"name\": \"Smartwatch\", \"category\": \"Electronics\", \"price\": 299, \"quantity\": 2, \"details\": {\"brand\": \"LG\", \"color\": \"Silver\"}}], \"order_status\": \"Pending\"}"
        ],
        [
         "{\"order_id\": 95, \"customer_id\": 6627, \"order_date\": \"2024-12-28\", \"transaction_timestamp\": \"2024-12-28 04:28:30\", \"total_amount\": 946, \"payment_method\": \"Bank Transfer\", \"items\": [{\"item_id\": 4, \"name\": \"Smartwatch\", \"category\": \"Electronics\", \"price\": 299, \"quantity\": 2, \"details\": {\"brand\": \"GoPro\", \"color\": \"White\"}}, {\"item_id\": 3, \"name\": \"Wireless Headphones\", \"category\": \"Electronics\", \"price\": 199, \"quantity\": 1, \"details\": {\"brand\": \"Bose\", \"color\": \"Gray\"}}, {\"item_id\": 6, \"name\": \"Bluetooth Speaker\", \"category\": \"Electronics\", \"price\": 149, \"quantity\": 1, \"details\": {\"brand\": \"Dell\", \"color\": \"Silver\"}}], \"order_status\": \"Completed\"}"
        ],
        [
         "{\"order_id\": 96, \"customer_id\": 6406, \"order_date\": \"2024-12-02\", \"transaction_timestamp\": \"2024-12-02 12:27:45\", \"total_amount\": 149, \"payment_method\": \"PayPal\", \"items\": [{\"item_id\": 6, \"name\": \"Bluetooth Speaker\", \"category\": \"Electronics\", \"price\": 149, \"quantity\": 1, \"details\": {\"brand\": \"Microsoft\", \"color\": \"Black\"}}], \"order_status\": \"Shipped\"}"
        ],
        [
         "{\"order_id\": 97, \"customer_id\": 6406, \"order_date\": \"2024-12-07\", \"transaction_timestamp\": \"2024-12-07 16:14:34\", \"total_amount\": 499, \"payment_method\": \"Bank Transfer\", \"items\": [{\"item_id\": 8, \"name\": \"Gaming Console\", \"category\": \"Electronics\", \"price\": 499, \"quantity\": 1, \"details\": {\"brand\": \"Sony\", \"color\": \"Silver\"}}], \"order_status\": \"Completed\"}"
        ],
        [
         "{\"order_id\": 5, \"customer_id\": 3892, \"order_date\": \"2024-11-16\", \"transaction_timestamp\": \"2024-11-16 23:07:31\", \"total_amount\": 998, \"payment_method\": \"Bank Transfer\", \"items\": [{\"item_id\": 8, \"name\": \"Gaming Console\", \"category\": \"Electronics\", \"price\": 499, \"quantity\": 2, \"details\": {\"brand\": \"Dell\", \"color\": \"Blue\"}}], \"order_status\": \"Cancelled\"}"
        ],
        [
         "{\"order_id\": 7, \"customer_id\": 1987, \"order_date\": \"2024-11-19\", \"transaction_timestamp\": \"2024-11-19 19:18:48\", \"total_amount\": 645, \"payment_method\": \"Credit Card\", \"items\": [{\"item_id\": 7, \"name\": \"External Hard Drive\", \"category\": \"Electronics\", \"price\": 129, \"quantity\": 2, \"details\": {\"brand\": \"LG\", \"color\": \"Blue\"}}, {\"item_id\": 7, \"name\": \"External Hard Drive\", \"category\": \"Electronics\", \"price\": 129, \"quantity\": 3, \"details\": {\"brand\": \"HP\", \"color\": \"Gray\"}}], \"order_status\": \"Pending\"}"
        ],
        [
         "{\"order_id\": 9, \"customer_id\": 9179, \"order_date\": \"2024-11-27\", \"transaction_timestamp\": \"2024-11-27 13:15:29\", \"total_amount\": 999, \"payment_method\": \"Bank Transfer\", \"items\": [{\"item_id\": 2, \"name\": \"Laptop\", \"category\": \"Electronics\", \"price\": 999, \"quantity\": 1, \"details\": {\"brand\": \"Apple\", \"color\": \"Black\"}}], \"order_status\": \"Shipped\"}"
        ],
        [
         "{\"order_id\": 20, \"customer_id\": 8539, \"order_date\": \"2024-11-18\", \"transaction_timestamp\": \"2024-11-18 02:38:21\", \"total_amount\": 798, \"payment_method\": \"PayPal\", \"items\": [{\"item_id\": 5, \"name\": \"Tablet\", \"category\": \"Electronics\", \"price\": 399, \"quantity\": 2, \"details\": {\"brand\": \"Sony\", \"color\": \"Silver\"}}], \"order_status\": \"Pending\"}"
        ],
        [
         "{\"order_id\": 21, \"customer_id\": 8539, \"order_date\": \"2024-11-21\", \"transaction_timestamp\": \"2024-11-21 11:25:35\", \"total_amount\": 298, \"payment_method\": \"Bank Transfer\", \"items\": [{\"item_id\": 6, \"name\": \"Bluetooth Speaker\", \"category\": \"Electronics\", \"price\": 149, \"quantity\": 2, \"details\": {\"brand\": \"GoPro\", \"color\": \"Blue\"}}], \"order_status\": \"Cancelled\"}"
        ],
        [
         "{\"order_id\": 23, \"customer_id\": 4761, \"order_date\": \"2024-11-22\", \"transaction_timestamp\": \"2024-11-22 16:04:05\", \"total_amount\": 997, \"payment_method\": \"PayPal\", \"items\": [{\"item_id\": 5, \"name\": \"Tablet\", \"category\": \"Electronics\", \"price\": 399, \"quantity\": 1, \"details\": {\"brand\": \"Apple\", \"color\": \"Gray\"}}, {\"item_id\": 4, \"name\": \"Smartwatch\", \"category\": \"Electronics\", \"price\": 299, \"quantity\": 2, \"details\": {\"brand\": \"Dell\", \"color\": \"Gray\"}}], \"order_status\": \"Shipped\"}"
        ],
        [
         "{\"order_id\": 25, \"customer_id\": 9706, \"order_date\": \"2024-11-05\", \"transaction_timestamp\": \"2024-11-05 11:45:31\", \"total_amount\": 999, \"payment_method\": \"PayPal\", \"items\": [{\"item_id\": 2, \"name\": \"Laptop\", \"category\": \"Electronics\", \"price\": 999, \"quantity\": 1, \"details\": {\"brand\": \"LG\", \"color\": \"Gray\"}}], \"order_status\": \"Completed\"}"
        ],
        [
         "{\"order_id\": 30, \"customer_id\": 4996, \"order_date\": \"2024-11-12\", \"transaction_timestamp\": \"2024-11-12 03:20:29\", \"total_amount\": 199, \"payment_method\": \"Bank Transfer\", \"items\": [{\"item_id\": 3, \"name\": \"Wireless Headphones\", \"category\": \"Electronics\", \"price\": 199, \"quantity\": 1, \"details\": {\"brand\": \"GoPro\", \"color\": \"White\"}}], \"order_status\": \"Shipped\"}"
        ],
        [
         "{\"order_id\": 35, \"customer_id\": 4914, \"order_date\": \"2024-11-20\", \"transaction_timestamp\": \"2024-11-20 19:09:04\", \"total_amount\": 199, \"payment_method\": \"Bank Transfer\", \"items\": [{\"item_id\": 3, \"name\": \"Wireless Headphones\", \"category\": \"Electronics\", \"price\": 199, \"quantity\": 1, \"details\": {\"brand\": \"Dell\", \"color\": \"Gray\"}}], \"order_status\": \"Shipped\"}"
        ],
        [
         "{\"order_id\": 36, \"customer_id\": 4914, \"order_date\": \"2024-11-02\", \"transaction_timestamp\": \"2024-11-02 10:39:46\", \"total_amount\": 199, \"payment_method\": \"PayPal\", \"items\": [{\"item_id\": 3, \"name\": \"Wireless Headphones\", \"category\": \"Electronics\", \"price\": 199, \"quantity\": 1, \"details\": {\"brand\": \"Canon\", \"color\": \"Silver\"}}], \"order_status\": \"Completed\"}"
        ],
        [
         "{\"order_id\": 42, \"customer_id\": 5028, \"order_date\": 2024-11-08, \"transaction_timestamp\": \"2024-11-08 18:32:25\", \"total_amount\": 149, \"payment_method\": \"Credit Card\", \"items\": [{\"item_id\": 6, \"name\": \"Bluetooth Speaker\", \"category\": \"Electronics\", \"price\": 149, \"quantity\": 1, \"details\": {\"brand\": \"Bose\", \"color\": \"Gray\"}}], \"order_status\": \"Completed\"}"
        ],
        [
         "{\"order_id\": 45, \"customer_id\": 7295, \"order_date\": \"2024-11-07\", \"transaction_timestamp\": \"2024-11-07 15:41:43\", \"total_amount\": 799, \"payment_method\": \"Credit Card\", \"items\": [{\"item_id\": 10, \"name\": \"Drone\", \"category\": \"Electronics\", \"price\": 799, \"quantity\": 1, \"details\": {\"brand\": \"Dell\", \"color\": \"White\"}}], \"order_status\": \"Shipped\"}"
        ],
        [
         "{\"order_id\": 46, \"customer_id\": 7295, \"order_date\": \"2024-11-26\", \"transaction_timestamp\": \"2024-11-26 17:16:53\", \"total_amount\": 199, \"payment_method\": \"PayPal\", \"items\": [{\"item_id\": 3, \"name\": \"Wireless Headphones\", \"category\": \"Electronics\", \"price\": 199, \"quantity\": 1, \"details\": {\"brand\": \"Samsung\", \"color\": \"Black\"}}], \"order_status\": \"Pending\"}"
        ],
        [
         "{\"order_id\": 47, \"customer_id\": 7803, \"order_date\": \"2024-11-22\", \"transaction_timestamp\": \"2024-11-22 02:01:19\", \"total_amount\": 298, \"payment_method\": \"Credit Card\", \"items\": [{\"item_id\": 6, \"name\": \"Bluetooth Speaker\", \"category\": \"Electronics\", \"price\": 149, \"quantity\": 2, \"details\": {\"brand\": \"LG\", \"color\": \"Blue\"}}], \"order_status\": \"Shipped\"}"
        ],
        [
         "{\"order_id\": 48, \"customer_id\": 7803, \"order_date\": \"2024-11-13\", \"transaction_timestamp\": \"2024-11-13 06:35:56\", \"total_amount\": 387, \"payment_method\": \"PayPal\", \"items\": [{\"item_id\": 7, \"name\": \"External Hard Drive\", \"category\": \"Electronics\", \"price\": 129, \"quantity\": 3, \"details\": {\"brand\": \"Apple\", \"color\": \"Black\"}}], \"order_status\": \"Completed\"}"
        ],
        [
         "{\"order_id\": 52, \"customer_id\": 8845, \"order_date\": \"2024-11-19\", \"transaction_timestamp\": \"2024-11-19 21:23:45\", \"total_amount\": 998, \"payment_method\": \"PayPal\", \"items\": [{\"item_id\": 8, \"name\": \"Gaming Console\", \"category\": \"Electronics\", \"price\": 499, \"quantity\": 2, \"details\": {\"brand\": \"GoPro\", \"color\": \"White\"}}], \"order_status\": \"Completed\"}"
        ],
        [
         "{\"order_id\": 57, \"customer_id\": 8580, \"order_date\": \"2024-11-19\", \"transaction_timestamp\": \"2024-11-19 11:32:44\", \"total_amount\": 586, \"payment_method\": \"Bank Transfer\", \"items\": [{\"item_id\": 3, \"name\": \"Wireless Headphones\", \"category\": \"Electronics\", \"price\": 199, \"quantity\": 1, \"details\": {\"brand\": \"HP\", \"color\": \"Silver\"}}, {\"item_id\": 7, \"name\": \"External Hard Drive\", \"category\": \"Electronics\", \"price\": 129, \"quantity\": 3, \"details\": {\"brand\": \"Sony\", \"color\": \"Silver\"}}], \"order_status\": \"Cancelled\"}"
        ],
        [
         "{\"order_id\": 63, \"customer_id\": 7123, \"order_date\": \"2024-11-24\", \"transaction_timestamp\": \"2024-11-24 08:41:28\", \"total_amount\": 646, \"payment_method\": \"Bank Transfer\", \"items\": [{\"item_id\": 3, \"name\": \"Wireless Headphones\", \"category\": \"Electronics\", \"price\": 199, \"quantity\": 1, \"details\": {\"brand\": \"GoPro\", \"color\": \"Blue\"}}, {\"item_id\": 6, \"name\": \"Bluetooth Speaker\", \"category\": \"Electronics\", \"price\": 149, \"quantity\": 3, \"details\": {\"brand\": \"Bose\", \"color\": \"Silver\"}}], \"order_status\": \"Cancelled\"}"
        ],
        [
         "{\"order_id\": 64, \"customer_id\": 2639, \"order_date\": \"2024-11-28\", \"transaction_timestamp\": \"2024-11-28 12:23:21\", \"total_amount\": 984, \"payment_method\": \"Bank Transfer\", \"items\": [{\"item_id\": 7, \"name\": \"External Hard Drive\", \"category\": \"Electronics\", \"price\": 129, \"quantity\": 3, \"details\": {\"brand\": \"Microsoft\", \"color\": \"White\"}}, {\"item_id\": 3, \"name\": \"Wireless Headphones\", \"category\": \"Electronics\", \"price\": 199, \"quantity\": 3, \"details\": {\"brand\": \"Canon\", \"color\": \"Blue\"}}], \"order_status\": \"Completed\"}"
        ],
        [
         "{\"order_id\": 88, \"customer_id\": 9247, \"order_date\": \"2024-11-15\", \"transaction_timestamp\": \"2024-11-15 11:39:44\", \"total_amount\": 387, \"payment_method\": \"Bank Transfer\", \"items\": [{\"item_id\": 7, \"name\": \"External Hard Drive\", \"category\": \"Electronics\", \"price\": 129, \"quantity\": 3, \"details\": {\"brand\": \"Bose\", \"color\": \"White\"}}], \"order_status\": \"Cancelled\"}"
        ],
        [
         "{\"order_id\": 89, \"customer_id\": 9247, \"order_date\": \"2024-11-22\", \"transaction_timestamp\": \"2024-11-22 12:09:15\", \"total_amount\": 149, \"payment_method\": \"Bank Transfer\", \"items\": [{\"item_id\": 6, \"name\": \"Bluetooth Speaker\", \"category\": \"Electronics\", \"price\": 149, \"quantity\": 1, \"details\": {\"brand\": \"GoPro\", \"color\": \"Silver\"}}], \"order_status\": \"Cancelled\"}"
        ],
        [
         "{\"order_id\": 92, \"customer_id\": 5592, \"order_date\": \"2024-11-24\", \"transaction_timestamp\": \"2024-11-24 23:33:21\", \"total_amount\": 258, \"payment_method\": \"PayPal\", \"items\": [{\"item_id\": 7, \"name\": \"External Hard Drive\", \"category\": \"Electronics\", \"price\": 129, \"quantity\": 2, \"details\": {\"brand\": \"Sony\", \"color\": \"Black\"}}], \"order_status\": \"Shipped\"}"
        ],
        [
         "{\"order_id\": 6, \"customer_id\": 1987, \"order_date\": \"2024-10-28\", \"transaction_timestamp\": \"2024-10-28 04:47:27\", \"total_amount\": 799, \"payment_method\": \"Credit Card\", \"items\": [{\"item_id\": 10, \"name\": \"Drone\", \"category\": \"Electronics\", \"price\": 799, \"quantity\": 1, \"details\": {\"brand\": \"GoPro\", \"color\": \"Black\"}}], \"order_status\": \"Pending\"}"
        ],
        [
         "{\"order_id\": 10, \"customer_id\": 5816, \"order_date\": \"2024-10-07\", \"transaction_timestamp\": \"2024-10-07 22:09:27\", \"total_amount\": 399, \"payment_method\": \"Credit Card\", \"items\": [{\"item_id\": 5, \"name\": \"Tablet\", \"category\": \"Electronics\", \"price\": 399, \"quantity\": 1, \"details\": {\"brand\": \"GoPro\", \"color\": \"White\"}}], \"order_status\": \"Pending\"}"
        ],
        [
         "{\"order_id\": 11, \"customer_id\": 5816, \"order_date\": \"2024-10-13\", \"transaction_timestamp\": \"2024-10-13 17:34:19\", \"total_amount\": 897, \"payment_method\": \"Bank Transfer\", \"items\": [{\"item_id\": 4, \"name\": \"Smartwatch\", \"category\": \"Electronics\", \"price\": 299, \"quantity\": 3, \"details\": {\"brand\": \"Canon\", \"color\": \"White\"}}], \"order_status\": \"Pending\"}"
        ],
        [
         "{\"order_id\": 15, \"customer_id\": 7207, \"order_date\": \"2024-10-20\", \"transaction_timestamp\": \"2024-10-20 01:47:25\", \"total_amount\": 1199, \"payment_method\": \"Bank Transfer\", \"items\": [{\"item_id\": 9, \"name\": \"Smart TV\", \"category\": \"Electronics\", \"price\": 1199, \"quantity\": 1, \"details\": {\"brand\": \"GoPro\", \"color\": \"White\"}}], \"order_status\": \"Completed\"}"
        ],
        [
         "{\"order_id\": 19, \"customer_id\": 8539, \"order_date\": \"2024-10-13\", \"transaction_timestamp\": \"2024-10-13 12:40:26\", \"total_amount\": 499, \"payment_method\": \"PayPal\", \"items\": [{\"item_id\": 8, \"name\": \"Gaming Console\", \"category\": \"Electronics\", \"price\": 499, \"quantity\": 1, \"details\": {\"brand\": \"Dell\", \"color\": \"Silver\"}}], \"order_status\": \"Shipped\"}"
        ],
        [
         "{\"order_id\": 39, \"customer_id\": 9263, \"order_date\": \"2024-10-29\", \"transaction_timestamp\": \"2024-10-29 21:39:19\", \"total_amount\": 387, \"payment_method\": \"PayPal\", \"items\": [{\"item_id\": 7, \"name\": \"External Hard Drive\", \"category\": \"Electronics\", \"price\": 129, \"quantity\": 3, \"details\": {\"brand\": \"Sony\", \"color\": \"Black\"}}], \"order_status\": \"Shipped\"}"
        ],
        [
         "{\"order_id\": 55, \"customer_id\": 9018, \"order_date\": \"2024-10-25\", \"transaction_timestamp\": \"2024-10-25 05:49:16\", \"total_amount\": 699, \"payment_method\": \"Bank Transfer\", \"items\": [{\"item_id\": 1, \"name\": \"Smartphone\", \"category\": \"Electronics\", \"price\": 699, \"quantity\": 1, \"details\": {\"brand\": \"HP\", \"color\": \"Black\"}}], \"order_status\": \"Shipped\"}"
        ],
        [
         "{\"order_id\": 59, \"customer_id\": 3409, \"order_date\": \"2024-10-23\", \"transaction_timestamp\": \"2024-10-23 02:51:05\", \"total_amount\": 499, \"payment_method\": \"PayPal\", \"items\": [{\"item_id\": 8, \"name\": \"Gaming Console\", \"category\": \"Electronics\", \"price\": 499, \"quantity\": 1, \"details\": {\"brand\": \"Dell\", \"color\": \"Black\"}}], \"order_status\": \"Pending\"}"
        ],
        [
         "{\"order_id\": 72, \"customer_id\": 3889, \"order_date\": 2024-10-06, \"transaction_timestamp\": \"2024-10-06 10:23:28\", \"total_amount\": 328, \"payment_method\": \"PayPal\", \"items\": [{\"item_id\": 3, \"name\": \"Wireless Headphones\", \"category\": \"Electronics\", \"price\": 199, \"quantity\": 1, \"details\": {\"brand\": \"Microsoft\", \"color\": \"Gray\"}}, {\"item_id\": 7, \"name\": \"External Hard Drive\", \"category\": \"Electronics\", \"price\": 129, \"quantity\": 1, \"details\": {\"brand\": \"Samsung\", \"color\": \"Silver\"}}], \"order_status\": \"Cancelled\"}"
        ],
        [
         "{\"order_id\": 77, \"customer_id\": 9084, \"order_date\": \"2024-10-15\", \"transaction_timestamp\": \"2024-10-15 13:09:33\", \"total_amount\": 398, \"payment_method\": \"Credit Card\", \"items\": [{\"item_id\": 3, \"name\": \"Wireless Headphones\", \"category\": \"Electronics\", \"price\": 199, \"quantity\": 2, \"details\": {\"brand\": \"HP\", \"color\": \"Silver\"}}], \"order_status\": \"Pending\"}"
        ],
        [
         "{\"order_id\": 84, \"customer_id\": 2344, \"order_date\": \"2024-10-25\", \"transaction_timestamp\": \"2024-10-25 03:37:42\", \"total_amount\": 998, \"payment_method\": \"PayPal\", \"items\": [{\"item_id\": 10, \"name\": \"Drone\", \"category\": \"Electronics\", \"price\": 799, \"quantity\": 1, \"details\": {\"brand\": \"Sony\", \"color\": \"Black\"}}, {\"item_id\": 3, \"name\": \"Wireless Headphones\", \"category\": \"Electronics\", \"price\": 199, \"quantity\": 1, \"details\": {\"brand\": \"LG\", \"color\": \"Black\"}}], \"order_status\": \"Completed\"}"
        ],
        [
         "{\"order_id\": 85, \"customer_id\": 5011, \"order_date\": \"2024-10-23\", \"transaction_timestamp\": \"2024-10-23 20:06:42\", \"total_amount\": 998, \"payment_method\": \"Bank Transfer\", \"items\": [{\"item_id\": 8, \"name\": \"Gaming Console\", \"category\": \"Electronics\", \"price\": 499, \"quantity\": 2, \"details\": {\"brand\": \"GoPro\", \"color\": \"Black\"}}], \"order_status\": \"Shipped\"}"
        ],
        [
         "{\"order_id\": 86, \"customer_id\": 5011, \"order_date\": \"2024-10-19\", \"transaction_timestamp\": \"2024-10-19 13:30:47\", \"total_amount\": 1199, \"payment_method\": \"PayPal\", \"items\": [{\"item_id\": 9, \"name\": \"Smart TV\", \"category\": \"Electronics\", \"price\": 1199, \"quantity\": 1, \"details\": {\"brand\": \"Dell\", \"color\": \"White\"}}], \"order_status\": \"Completed\"}"
        ]
       ],
       "datasetInfos": [
        {
         "name": "_sqldf",
         "schema": {
          "fields": [
           {
            "metadata": {},
            "name": "value",
            "nullable": true,
            "type": "string"
           }
          ],
          "type": "struct"
         },
         "tableIdentifier": null,
         "typeStr": "pyspark.sql.connect.dataframe.DataFrame"
        }
       ],
       "dbfsResultPath": null,
       "isJsonSchema": true,
       "metadata": {
        "createTempViewForImplicitDf": true,
        "dataframeName": "_sqldf",
        "executionCount": 13
       },
       "overflow": false,
       "plotOptions": {
        "customPlotOptions": {},
        "displayType": "table",
        "pivotAggregation": null,
        "pivotColumns": null,
        "xColumns": null,
        "yColumns": null
       },
       "removedWidgets": [],
       "schema": [
        {
         "metadata": "{}",
         "name": "value",
         "type": "\"string\""
        }
       ],
       "type": "table"
      }
     },
     "output_type": "display_data"
    }
   ],
   "source": [
    "%sql\n",
    "select * from gizmobox.bronze.v_orders"
   ]
  }
 ],
 "metadata": {
  "application/vnd.databricks.v1+notebook": {
   "computePreferences": null,
   "dashboards": [],
   "environmentMetadata": {
    "base_environment": "",
    "environment_version": "3"
   },
   "inputWidgetPreferences": null,
   "language": "python",
   "notebookMetadata": {
    "mostRecentlyExecutedCommandWithImplicitDF": {
     "commandId": 7953112485584566,
     "dataframes": [
      "_sqldf"
     ]
    },
    "pythonIndentUnit": 4
   },
   "notebookName": "2-Extract-from-the-orders-JSON-File",
   "widgets": {}
  },
  "language_info": {
   "name": "python"
  }
 },
 "nbformat": 4,
 "nbformat_minor": 0
}
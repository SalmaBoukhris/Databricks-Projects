{
 "cells": [
  {
   "cell_type": "markdown",
   "metadata": {
    "application/vnd.databricks.v1+cell": {
     "cellMetadata": {},
     "inputWidgets": {},
     "nuid": "25d416c3-4e29-431b-a473-a20ec7a5b49a",
     "showTitle": false,
     "tableResultSettingsMap": {},
     "title": ""
    }
   },
   "source": [
    "#### 1- Remove records with NULL customer_id"
   ]
  },
  {
   "cell_type": "code",
   "execution_count": 0,
   "metadata": {
    "application/vnd.databricks.v1+cell": {
     "cellMetadata": {
      "byteLimit": 2048000,
      "implicitDf": true,
      "rowLimit": 10000
     },
     "inputWidgets": {},
     "nuid": "787cb55b-4b84-4d48-837c-591699d60d76",
     "showTitle": false,
     "tableResultSettingsMap": {},
     "title": ""
    }
   },
   "outputs": [
    {
     "output_type": "display_data",
     "data": {
      "text/html": [
       "<style scoped>\n",
       "  .table-result-container {\n",
       "    max-height: 300px;\n",
       "    overflow: auto;\n",
       "  }\n",
       "  table, th, td {\n",
       "    border: 1px solid black;\n",
       "    border-collapse: collapse;\n",
       "  }\n",
       "  th, td {\n",
       "    padding: 5px;\n",
       "  }\n",
       "  th {\n",
       "    text-align: left;\n",
       "  }\n",
       "</style><div class='table-result-container'><table class='table-result'><thead style='background-color: white'><tr><th>created_timestamp</th><th>customer_id</th><th>customer_name</th><th>date_of_birth</th><th>email</th><th>member_since</th><th>telephone</th><th>file_path</th></tr></thead><tbody><tr><td>2024-10-17 16:12:27</td><td>9179</td><td>Richard Cox</td><td>1996-10-25</td><td>devon84@mail.com</td><td>2024-09-26</td><td>+1 6680703335</td><td>dbfs:/Volumes/gizmobox/landing/operational_data/customers/customers_2024_10.json</td></tr><tr><td>2024-10-01 00:50:29</td><td>4858</td><td>Carla Morton</td><td>2004-06-21</td><td>joseph88@mail.com</td><td>2024-09-15</td><td>+1 8616454195</td><td>dbfs:/Volumes/gizmobox/landing/operational_data/customers/customers_2024_10.json</td></tr><tr><td>2024-10-23 22:03:08</td><td>7207</td><td>Billy Scott</td><td>1997-03-17</td><td>christopher30@mail.com</td><td>2024-09-23</td><td>+1 5544387564</td><td>dbfs:/Volumes/gizmobox/landing/operational_data/customers/customers_2024_10.json</td></tr><tr><td>2024-10-12 06:02:27</td><td>8539</td><td>Lori Mason</td><td>2002-11-01</td><td>stephanie7@mail.com</td><td>2024-09-12</td><td>+1 0498301620</td><td>dbfs:/Volumes/gizmobox/landing/operational_data/customers/customers_2024_10.json</td></tr><tr><td>2024-10-24 13:03:13</td><td>9706</td><td>Jennifer Haas</td><td>2001-04-03</td><td>benjamin55@mail.com</td><td>2024-10-05</td><td>+1 4725460000</td><td>dbfs:/Volumes/gizmobox/landing/operational_data/customers/customers_2024_10.json</td></tr><tr><td>2024-10-08 22:49:25</td><td>9263</td><td>Joseph Keller</td><td>2003-02-11</td><td>null</td><td>2024-10-04</td><td>+1 3817867756</td><td>dbfs:/Volumes/gizmobox/landing/operational_data/customers/customers_2024_10.json</td></tr><tr><td>2024-10-06 19:55:52</td><td>5028</td><td>Jessica Harris</td><td>2004-04-19</td><td>null</td><td>2024-09-10</td><td>+1 8604009935</td><td>dbfs:/Volumes/gizmobox/landing/operational_data/customers/customers_2024_10.json</td></tr><tr><td>2024-10-18 23:24:52</td><td>9018</td><td>William Carter</td><td>2003-09-05</td><td>james70@gmail.com</td><td>2024-10-08</td><td>+1 1448753611</td><td>dbfs:/Volumes/gizmobox/landing/operational_data/customers/customers_2024_10.json</td></tr><tr><td>2024-10-21 13:20:26</td><td>8580</td><td>Shannon Austin</td><td>2002-03-22</td><td>john30@gmail.com</td><td>2024-10-07</td><td>+1 4594705629</td><td>dbfs:/Volumes/gizmobox/landing/operational_data/customers/customers_2024_10.json</td></tr><tr><td>2024-10-02 14:53:40</td><td>3409</td><td>Andrew Phillips</td><td>2003-04-17</td><td>peter73@yahoo.com</td><td>2024-09-30</td><td>+1 4079273853</td><td>dbfs:/Volumes/gizmobox/landing/operational_data/customers/customers_2024_10.json</td></tr><tr><td>2024-10-26 15:14:33</td><td>2344</td><td>Martin Thomas DDS</td><td>2002-05-01</td><td>billy42@outlook.com</td><td>2024-10-13</td><td>+1 0201457151</td><td>dbfs:/Volumes/gizmobox/landing/operational_data/customers/customers_2024_10.json</td></tr><tr><td>2024-10-15 02:48:29</td><td>5011</td><td>Rachel Thomas</td><td>2003-02-17</td><td>lauren59@yahoo.com</td><td>2024-09-24</td><td>+1 5437271621</td><td>dbfs:/Volumes/gizmobox/landing/operational_data/customers/customers_2024_10.json</td></tr><tr><td>2024-10-28 00:57:09</td><td>9247</td><td>Dr. Daniel Hall</td><td>2004-03-21</td><td>tamara30@gmail.com</td><td>2024-10-03</td><td>+1 7544137170</td><td>dbfs:/Volumes/gizmobox/landing/operational_data/customers/customers_2024_10.json</td></tr><tr><td>2024-10-22 05:52:57</td><td>6627</td><td>Candice Rosales</td><td>2004-04-03</td><td>amber79@example.org</td><td>2024-10-15</td><td>+1 4788451559</td><td>dbfs:/Volumes/gizmobox/landing/operational_data/customers/customers_2024_10.json</td></tr><tr><td>2024-10-06 19:55:52</td><td>5028</td><td>Jessica Harris</td><td>2004-04-19</td><td>null</td><td>2024-09-10</td><td>+1 8604009935</td><td>dbfs:/Volumes/gizmobox/landing/operational_data/customers/customers_2024_10.json</td></tr><tr><td>2024-10-08 03:30:53</td><td>5816</td><td>Amy Morales</td><td>1999-12-11</td><td>daniel12@hotmail.com</td><td>2024-09-17</td><td>+46 4407385044</td><td>dbfs:/Volumes/gizmobox/landing/operational_data/customers/customers_2024_10.json</td></tr><tr><td>2024-10-15 01:27:54</td><td>9247</td><td>Dr. Daniel Hall</td><td>2004-03-21</td><td>sheena11@alexander.com</td><td>2024-09-15</td><td>+46 7281991017</td><td>dbfs:/Volumes/gizmobox/landing/operational_data/customers/customers_2024_10.json</td></tr><tr><td>2024-10-09 18:54:00</td><td>3889</td><td>Jennifer Jackson</td><td>1995-10-30</td><td>null</td><td>2024-09-16</td><td>+68 2276996612</td><td>dbfs:/Volumes/gizmobox/landing/operational_data/customers/customers_2024_10.json</td></tr><tr><td>2024-10-10 16:53:44</td><td>9084</td><td>Olivia Lyons</td><td>1997-06-17</td><td>johnsonmichael@yahoo.com</td><td>2024-09-26</td><td>null</td><td>dbfs:/Volumes/gizmobox/landing/operational_data/customers/customers_2024_10.json</td></tr><tr><td>2024-11-14 20:41:18</td><td>3892</td><td>Jason Bridges</td><td>2004-01-01</td><td>nicole29@gmail.com</td><td>2024-10-29</td><td>+1 8220011928</td><td>dbfs:/Volumes/gizmobox/landing/operational_data/customers/customers_2024_11.json</td></tr><tr><td>2024-11-16 01:47:25</td><td>1987</td><td>Amanda Alvarez</td><td>1995-10-11</td><td>eric40@outlook.com</td><td>2024-10-27</td><td>+1 9673066300</td><td>dbfs:/Volumes/gizmobox/landing/operational_data/customers/customers_2024_11.json</td></tr><tr><td>2024-11-19 14:03:09</td><td>5816</td><td>Amy Morales</td><td>1999-12-11</td><td>katelyn82@example.org</td><td>2024-11-04</td><td>+1 4140982719</td><td>dbfs:/Volumes/gizmobox/landing/operational_data/customers/customers_2024_11.json</td></tr><tr><td>2024-11-09 14:52:31</td><td>5204</td><td>Jennifer Nichols DDS</td><td>1997-02-17</td><td>joseph8@example.org</td><td>2024-11-04</td><td>+1 0383356328</td><td>dbfs:/Volumes/gizmobox/landing/operational_data/customers/customers_2024_11.json</td></tr><tr><td>2024-11-23 18:16:18</td><td>4468</td><td>Mrs. Roberta Salas PhD</td><td>1997-05-10</td><td>null</td><td>2024-10-25</td><td>+1 4679955118</td><td>dbfs:/Volumes/gizmobox/landing/operational_data/customers/customers_2024_11.json</td></tr><tr><td>2024-11-14 16:41:14</td><td>4761</td><td>Timothy Smith</td><td>1996-11-07</td><td>joshua40@yahoo.com</td><td>2024-11-03</td><td>+1 9450920858</td><td>dbfs:/Volumes/gizmobox/landing/operational_data/customers/customers_2024_11.json</td></tr><tr><td>2024-11-07 22:20:00</td><td>2703</td><td>Anthony Miller</td><td>1997-11-02</td><td>null</td><td>2024-11-05</td><td>+1 1586310752</td><td>dbfs:/Volumes/gizmobox/landing/operational_data/customers/customers_2024_11.json</td></tr><tr><td>2024-11-12 12:57:38</td><td>4914</td><td>Samantha Johnson</td><td>1997-03-26</td><td>theresa14@mail.com</td><td>2024-10-13</td><td>+1 4095003738</td><td>dbfs:/Volumes/gizmobox/landing/operational_data/customers/customers_2024_11.json</td></tr><tr><td>2024-11-08 02:26:42</td><td>7295</td><td>Lauren Reed</td><td>2001-08-11</td><td>jeanette48@example.org</td><td>2024-10-10</td><td>+1 0104088765</td><td>dbfs:/Volumes/gizmobox/landing/operational_data/customers/customers_2024_11.json</td></tr><tr><td>2024-11-09 20:24:30</td><td>7803</td><td>Katherine Lee</td><td>2000-03-09</td><td>jennifer85@mail.com</td><td>2024-10-27</td><td>+1 3119886866</td><td>dbfs:/Volumes/gizmobox/landing/operational_data/customers/customers_2024_11.json</td></tr><tr><td>2024-11-24 11:14:03</td><td>3712</td><td>Robin Chavez</td><td>1997-03-16</td><td>lisa15@gmail.com</td><td>2024-11-24</td><td>+1 2654756919</td><td>dbfs:/Volumes/gizmobox/landing/operational_data/customers/customers_2024_11.json</td></tr><tr><td>2024-11-03 17:22:56</td><td>2054</td><td>Alan Price</td><td>1998-08-25</td><td>connor40@yahoo.com</td><td>2024-10-14</td><td>+1 3745642936</td><td>dbfs:/Volumes/gizmobox/landing/operational_data/customers/customers_2024_11.json</td></tr><tr><td>2024-11-09 07:14:17</td><td>7123</td><td>Edgar Stevens</td><td>2003-02-15</td><td>kevin68@example.org</td><td>2024-10-27</td><td>+1 0793189847</td><td>dbfs:/Volumes/gizmobox/landing/operational_data/customers/customers_2024_11.json</td></tr><tr><td>2024-11-27 12:56:20</td><td>4996</td><td>Brandon Reed</td><td>1997-05-11</td><td>handerson@barker.info</td><td>2024-11-06</td><td>+43 2750540511</td><td>dbfs:/Volumes/gizmobox/landing/operational_data/customers/customers_2024_11.json</td></tr><tr><td>2024-12-25 11:06:35</td><td>6973</td><td>Tracy Cole</td><td>1998-07-24</td><td>tony46@mail.com</td><td>2024-12-16</td><td>+1 5515836612</td><td>dbfs:/Volumes/gizmobox/landing/operational_data/customers/customers_2024_12.json</td></tr><tr><td>2024-12-26 09:29:16</td><td>3532</td><td>Holly Wilkinson</td><td>2003-03-06</td><td>lindsey61@yahoo.com</td><td>2024-12-22</td><td>null</td><td>dbfs:/Volumes/gizmobox/landing/operational_data/customers/customers_2024_12.json</td></tr><tr><td>2024-12-16 16:54:10</td><td>1211</td><td>Jeremy Ball</td><td>2002-03-26</td><td>megan86@yahoo.com</td><td>2024-12-01</td><td>+1 5793543882</td><td>dbfs:/Volumes/gizmobox/landing/operational_data/customers/customers_2024_12.json</td></tr><tr><td>2024-12-07 18:09:58</td><td>7829</td><td>Daniel Black</td><td>1998-04-13</td><td>sandra54@example.org</td><td>2024-11-16</td><td>+1 0933795082</td><td>dbfs:/Volumes/gizmobox/landing/operational_data/customers/customers_2024_12.json</td></tr><tr><td>2024-12-24 14:46:04</td><td>6384</td><td>Jennifer Carrillo</td><td>1994-12-18</td><td>james34@yahoo.com</td><td>2024-12-22</td><td>+1 5592179843</td><td>dbfs:/Volumes/gizmobox/landing/operational_data/customers/customers_2024_12.json</td></tr><tr><td>2024-12-21 07:08:28</td><td>2639</td><td>Jessica Deleon</td><td>1995-06-04</td><td>jeremiah96@gmail.com</td><td>2024-11-22</td><td>+1 1304435999</td><td>dbfs:/Volumes/gizmobox/landing/operational_data/customers/customers_2024_12.json</td></tr><tr><td>2024-12-20 12:32:29</td><td>3084</td><td>Tyler Simmons</td><td>2003-02-20</td><td>brian94@mail.com</td><td>2024-12-02</td><td>null</td><td>dbfs:/Volumes/gizmobox/landing/operational_data/customers/customers_2024_12.json</td></tr><tr><td>2024-12-22 23:00:48</td><td>7997</td><td>Patricia Abbott</td><td>1997-07-31</td><td>angela97@mail.com</td><td>2024-11-28</td><td>+1 4053366448</td><td>dbfs:/Volumes/gizmobox/landing/operational_data/customers/customers_2024_12.json</td></tr><tr><td>2024-12-05 08:58:52</td><td>9687</td><td>Micheal Perez MD</td><td>2002-07-18</td><td>christopher65@example.org</td><td>2024-11-22</td><td>+1 3079718622</td><td>dbfs:/Volumes/gizmobox/landing/operational_data/customers/customers_2024_12.json</td></tr><tr><td>2024-12-17 15:05:15</td><td>2141</td><td>Zachary Lopez</td><td>2002-09-20</td><td>glenn87@example.org</td><td>2024-12-14</td><td>+1 7431190983</td><td>dbfs:/Volumes/gizmobox/landing/operational_data/customers/customers_2024_12.json</td></tr><tr><td>2024-12-04 13:16:03</td><td>5592</td><td>Richard Neal</td><td>1995-11-05</td><td>eric52@gmail.com</td><td>2024-11-15</td><td>+1 4425187397</td><td>dbfs:/Volumes/gizmobox/landing/operational_data/customers/customers_2024_12.json</td></tr><tr><td>2024-12-13 14:23:27</td><td>6406</td><td>Christopher Ritter</td><td>2004-07-12</td><td>null</td><td>2024-11-24</td><td>+1 1752511241</td><td>dbfs:/Volumes/gizmobox/landing/operational_data/customers/customers_2024_12.json</td></tr><tr><td>2024-12-16 16:54:10</td><td>1211</td><td>Jeremy Ball</td><td>2002-03-26</td><td>megan86@yahoo.com</td><td>2024-12-01</td><td>+1 5793543882</td><td>dbfs:/Volumes/gizmobox/landing/operational_data/customers/customers_2024_12.json</td></tr><tr><td>2024-12-22 23:00:48</td><td>7997</td><td>Patricia Abbott</td><td>1997-07-31</td><td>angela97@mail.com</td><td>2024-11-28</td><td>+1 4053366448</td><td>dbfs:/Volumes/gizmobox/landing/operational_data/customers/customers_2024_12.json</td></tr><tr><td>2025-01-05 17:29:34</td><td>7007</td><td>Joe Castaneda</td><td>1999-04-27</td><td>michael34@mail.com</td><td>2024-12-31</td><td>+1 1767970338</td><td>dbfs:/Volumes/gizmobox/landing/operational_data/customers/customers_2025_01.json</td></tr><tr><td>2025-01-17 15:59:39</td><td>5953</td><td>Kevin Harris</td><td>2003-01-23</td><td>timothy99@mail.com</td><td>2024-12-31</td><td>+1 6517763640</td><td>dbfs:/Volumes/gizmobox/landing/operational_data/customers/customers_2025_01.json</td></tr><tr><td>2025-01-12 20:13:31</td><td>4996</td><td>Brandon Reed</td><td>1997-05-11</td><td>stacey71@yahoo.com</td><td>2024-12-13</td><td>null</td><td>dbfs:/Volumes/gizmobox/landing/operational_data/customers/customers_2025_01.json</td></tr><tr><td>2025-01-14 13:30:57</td><td>9605</td><td>Tiffany Rocha</td><td>2003-04-25</td><td>michael82@yahoo.com</td><td>2024-12-22</td><td>+1 6232811506</td><td>dbfs:/Volumes/gizmobox/landing/operational_data/customers/customers_2025_01.json</td></tr><tr><td>2025-01-16 21:17:22</td><td>8845</td><td>Joseph Robbins</td><td>1997-04-04</td><td>derek53@yahoo.com</td><td>2025-01-12</td><td>+1 9513893820</td><td>dbfs:/Volumes/gizmobox/landing/operational_data/customers/customers_2025_01.json</td></tr><tr><td>2025-01-26 09:46:03</td><td>4973</td><td>Daniel Thompson</td><td>1999-07-17</td><td>connor32@example.org</td><td>2024-12-27</td><td>+1 5823046206</td><td>dbfs:/Volumes/gizmobox/landing/operational_data/customers/customers_2025_01.json</td></tr><tr><td>2025-01-25 13:28:31</td><td>3889</td><td>Jennifer Jackson</td><td>1995-10-30</td><td>catherine77@example.org</td><td>2025-01-07</td><td>+1 5932456755</td><td>dbfs:/Volumes/gizmobox/landing/operational_data/customers/customers_2025_01.json</td></tr><tr><td>2025-01-14 18:31:28</td><td>6167</td><td>Leslie Smith</td><td>2001-10-28</td><td>angela16@mail.com</td><td>2024-12-16</td><td>+1 2978446880</td><td>dbfs:/Volumes/gizmobox/landing/operational_data/customers/customers_2025_01.json</td></tr><tr><td>2025-01-17 07:50:48</td><td>3295</td><td>Drew Hanson</td><td>1996-11-21</td><td>cathy31@gmail.com</td><td>2025-01-01</td><td>+1 6521792889</td><td>dbfs:/Volumes/gizmobox/landing/operational_data/customers/customers_2025_01.json</td></tr><tr><td>2025-01-03 03:28:34</td><td>9084</td><td>Olivia Lyons</td><td>1997-06-17</td><td>patty47@outlook.com</td><td>2024-12-16</td><td>+1 2909899135</td><td>dbfs:/Volumes/gizmobox/landing/operational_data/customers/customers_2025_01.json</td></tr><tr><td>2025-01-23 02:07:26</td><td>9150</td><td>Alison Davis</td><td>2004-01-17</td><td>jacob31@yahoo.com</td><td>2024-12-26</td><td>+1 7119851149</td><td>dbfs:/Volumes/gizmobox/landing/operational_data/customers/customers_2025_01.json</td></tr><tr><td>2025-01-14 13:30:57</td><td>9605</td><td>Tiffany Rocha</td><td>2003-04-25</td><td>michael82@yahoo.com</td><td>2024-12-22</td><td>+1 6232811506</td><td>dbfs:/Volumes/gizmobox/landing/operational_data/customers/customers_2025_01.json</td></tr><tr><td>2025-01-12 20:13:31</td><td>4996</td><td>Brandon Reed</td><td>1997-05-11</td><td>stacey71@yahoo.com</td><td>2024-12-13</td><td>null</td><td>dbfs:/Volumes/gizmobox/landing/operational_data/customers/customers_2025_01.json</td></tr></tbody></table></div>"
      ]
     },
     "metadata": {
      "application/vnd.databricks.v1+output": {
       "addedWidgets": {},
       "aggData": [],
       "aggError": "",
       "aggOverflow": false,
       "aggSchema": [],
       "aggSeriesLimitReached": false,
       "aggType": "",
       "arguments": {},
       "columnCustomDisplayInfos": {},
       "data": [
        [
         "2024-10-17 16:12:27",
         9179,
         "Richard Cox",
         "1996-10-25",
         "devon84@mail.com",
         "2024-09-26",
         "+1 6680703335",
         "dbfs:/Volumes/gizmobox/landing/operational_data/customers/customers_2024_10.json"
        ],
        [
         "2024-10-01 00:50:29",
         4858,
         "Carla Morton",
         "2004-06-21",
         "joseph88@mail.com",
         "2024-09-15",
         "+1 8616454195",
         "dbfs:/Volumes/gizmobox/landing/operational_data/customers/customers_2024_10.json"
        ],
        [
         "2024-10-23 22:03:08",
         7207,
         "Billy Scott",
         "1997-03-17",
         "christopher30@mail.com",
         "2024-09-23",
         "+1 5544387564",
         "dbfs:/Volumes/gizmobox/landing/operational_data/customers/customers_2024_10.json"
        ],
        [
         "2024-10-12 06:02:27",
         8539,
         "Lori Mason",
         "2002-11-01",
         "stephanie7@mail.com",
         "2024-09-12",
         "+1 0498301620",
         "dbfs:/Volumes/gizmobox/landing/operational_data/customers/customers_2024_10.json"
        ],
        [
         "2024-10-24 13:03:13",
         9706,
         "Jennifer Haas",
         "2001-04-03",
         "benjamin55@mail.com",
         "2024-10-05",
         "+1 4725460000",
         "dbfs:/Volumes/gizmobox/landing/operational_data/customers/customers_2024_10.json"
        ],
        [
         "2024-10-08 22:49:25",
         9263,
         "Joseph Keller",
         "2003-02-11",
         null,
         "2024-10-04",
         "+1 3817867756",
         "dbfs:/Volumes/gizmobox/landing/operational_data/customers/customers_2024_10.json"
        ],
        [
         "2024-10-06 19:55:52",
         5028,
         "Jessica Harris",
         "2004-04-19",
         null,
         "2024-09-10",
         "+1 8604009935",
         "dbfs:/Volumes/gizmobox/landing/operational_data/customers/customers_2024_10.json"
        ],
        [
         "2024-10-18 23:24:52",
         9018,
         "William Carter",
         "2003-09-05",
         "james70@gmail.com",
         "2024-10-08",
         "+1 1448753611",
         "dbfs:/Volumes/gizmobox/landing/operational_data/customers/customers_2024_10.json"
        ],
        [
         "2024-10-21 13:20:26",
         8580,
         "Shannon Austin",
         "2002-03-22",
         "john30@gmail.com",
         "2024-10-07",
         "+1 4594705629",
         "dbfs:/Volumes/gizmobox/landing/operational_data/customers/customers_2024_10.json"
        ],
        [
         "2024-10-02 14:53:40",
         3409,
         "Andrew Phillips",
         "2003-04-17",
         "peter73@yahoo.com",
         "2024-09-30",
         "+1 4079273853",
         "dbfs:/Volumes/gizmobox/landing/operational_data/customers/customers_2024_10.json"
        ],
        [
         "2024-10-26 15:14:33",
         2344,
         "Martin Thomas DDS",
         "2002-05-01",
         "billy42@outlook.com",
         "2024-10-13",
         "+1 0201457151",
         "dbfs:/Volumes/gizmobox/landing/operational_data/customers/customers_2024_10.json"
        ],
        [
         "2024-10-15 02:48:29",
         5011,
         "Rachel Thomas",
         "2003-02-17",
         "lauren59@yahoo.com",
         "2024-09-24",
         "+1 5437271621",
         "dbfs:/Volumes/gizmobox/landing/operational_data/customers/customers_2024_10.json"
        ],
        [
         "2024-10-28 00:57:09",
         9247,
         "Dr. Daniel Hall",
         "2004-03-21",
         "tamara30@gmail.com",
         "2024-10-03",
         "+1 7544137170",
         "dbfs:/Volumes/gizmobox/landing/operational_data/customers/customers_2024_10.json"
        ],
        [
         "2024-10-22 05:52:57",
         6627,
         "Candice Rosales",
         "2004-04-03",
         "amber79@example.org",
         "2024-10-15",
         "+1 4788451559",
         "dbfs:/Volumes/gizmobox/landing/operational_data/customers/customers_2024_10.json"
        ],
        [
         "2024-10-06 19:55:52",
         5028,
         "Jessica Harris",
         "2004-04-19",
         null,
         "2024-09-10",
         "+1 8604009935",
         "dbfs:/Volumes/gizmobox/landing/operational_data/customers/customers_2024_10.json"
        ],
        [
         "2024-10-08 03:30:53",
         5816,
         "Amy Morales",
         "1999-12-11",
         "daniel12@hotmail.com",
         "2024-09-17",
         "+46 4407385044",
         "dbfs:/Volumes/gizmobox/landing/operational_data/customers/customers_2024_10.json"
        ],
        [
         "2024-10-15 01:27:54",
         9247,
         "Dr. Daniel Hall",
         "2004-03-21",
         "sheena11@alexander.com",
         "2024-09-15",
         "+46 7281991017",
         "dbfs:/Volumes/gizmobox/landing/operational_data/customers/customers_2024_10.json"
        ],
        [
         "2024-10-09 18:54:00",
         3889,
         "Jennifer Jackson",
         "1995-10-30",
         null,
         "2024-09-16",
         "+68 2276996612",
         "dbfs:/Volumes/gizmobox/landing/operational_data/customers/customers_2024_10.json"
        ],
        [
         "2024-10-10 16:53:44",
         9084,
         "Olivia Lyons",
         "1997-06-17",
         "johnsonmichael@yahoo.com",
         "2024-09-26",
         null,
         "dbfs:/Volumes/gizmobox/landing/operational_data/customers/customers_2024_10.json"
        ],
        [
         "2024-11-14 20:41:18",
         3892,
         "Jason Bridges",
         "2004-01-01",
         "nicole29@gmail.com",
         "2024-10-29",
         "+1 8220011928",
         "dbfs:/Volumes/gizmobox/landing/operational_data/customers/customers_2024_11.json"
        ],
        [
         "2024-11-16 01:47:25",
         1987,
         "Amanda Alvarez",
         "1995-10-11",
         "eric40@outlook.com",
         "2024-10-27",
         "+1 9673066300",
         "dbfs:/Volumes/gizmobox/landing/operational_data/customers/customers_2024_11.json"
        ],
        [
         "2024-11-19 14:03:09",
         5816,
         "Amy Morales",
         "1999-12-11",
         "katelyn82@example.org",
         "2024-11-04",
         "+1 4140982719",
         "dbfs:/Volumes/gizmobox/landing/operational_data/customers/customers_2024_11.json"
        ],
        [
         "2024-11-09 14:52:31",
         5204,
         "Jennifer Nichols DDS",
         "1997-02-17",
         "joseph8@example.org",
         "2024-11-04",
         "+1 0383356328",
         "dbfs:/Volumes/gizmobox/landing/operational_data/customers/customers_2024_11.json"
        ],
        [
         "2024-11-23 18:16:18",
         4468,
         "Mrs. Roberta Salas PhD",
         "1997-05-10",
         null,
         "2024-10-25",
         "+1 4679955118",
         "dbfs:/Volumes/gizmobox/landing/operational_data/customers/customers_2024_11.json"
        ],
        [
         "2024-11-14 16:41:14",
         4761,
         "Timothy Smith",
         "1996-11-07",
         "joshua40@yahoo.com",
         "2024-11-03",
         "+1 9450920858",
         "dbfs:/Volumes/gizmobox/landing/operational_data/customers/customers_2024_11.json"
        ],
        [
         "2024-11-07 22:20:00",
         2703,
         "Anthony Miller",
         "1997-11-02",
         null,
         "2024-11-05",
         "+1 1586310752",
         "dbfs:/Volumes/gizmobox/landing/operational_data/customers/customers_2024_11.json"
        ],
        [
         "2024-11-12 12:57:38",
         4914,
         "Samantha Johnson",
         "1997-03-26",
         "theresa14@mail.com",
         "2024-10-13",
         "+1 4095003738",
         "dbfs:/Volumes/gizmobox/landing/operational_data/customers/customers_2024_11.json"
        ],
        [
         "2024-11-08 02:26:42",
         7295,
         "Lauren Reed",
         "2001-08-11",
         "jeanette48@example.org",
         "2024-10-10",
         "+1 0104088765",
         "dbfs:/Volumes/gizmobox/landing/operational_data/customers/customers_2024_11.json"
        ],
        [
         "2024-11-09 20:24:30",
         7803,
         "Katherine Lee",
         "2000-03-09",
         "jennifer85@mail.com",
         "2024-10-27",
         "+1 3119886866",
         "dbfs:/Volumes/gizmobox/landing/operational_data/customers/customers_2024_11.json"
        ],
        [
         "2024-11-24 11:14:03",
         3712,
         "Robin Chavez",
         "1997-03-16",
         "lisa15@gmail.com",
         "2024-11-24",
         "+1 2654756919",
         "dbfs:/Volumes/gizmobox/landing/operational_data/customers/customers_2024_11.json"
        ],
        [
         "2024-11-03 17:22:56",
         2054,
         "Alan Price",
         "1998-08-25",
         "connor40@yahoo.com",
         "2024-10-14",
         "+1 3745642936",
         "dbfs:/Volumes/gizmobox/landing/operational_data/customers/customers_2024_11.json"
        ],
        [
         "2024-11-09 07:14:17",
         7123,
         "Edgar Stevens",
         "2003-02-15",
         "kevin68@example.org",
         "2024-10-27",
         "+1 0793189847",
         "dbfs:/Volumes/gizmobox/landing/operational_data/customers/customers_2024_11.json"
        ],
        [
         "2024-11-27 12:56:20",
         4996,
         "Brandon Reed",
         "1997-05-11",
         "handerson@barker.info",
         "2024-11-06",
         "+43 2750540511",
         "dbfs:/Volumes/gizmobox/landing/operational_data/customers/customers_2024_11.json"
        ],
        [
         "2024-12-25 11:06:35",
         6973,
         "Tracy Cole",
         "1998-07-24",
         "tony46@mail.com",
         "2024-12-16",
         "+1 5515836612",
         "dbfs:/Volumes/gizmobox/landing/operational_data/customers/customers_2024_12.json"
        ],
        [
         "2024-12-26 09:29:16",
         3532,
         "Holly Wilkinson",
         "2003-03-06",
         "lindsey61@yahoo.com",
         "2024-12-22",
         null,
         "dbfs:/Volumes/gizmobox/landing/operational_data/customers/customers_2024_12.json"
        ],
        [
         "2024-12-16 16:54:10",
         1211,
         "Jeremy Ball",
         "2002-03-26",
         "megan86@yahoo.com",
         "2024-12-01",
         "+1 5793543882",
         "dbfs:/Volumes/gizmobox/landing/operational_data/customers/customers_2024_12.json"
        ],
        [
         "2024-12-07 18:09:58",
         7829,
         "Daniel Black",
         "1998-04-13",
         "sandra54@example.org",
         "2024-11-16",
         "+1 0933795082",
         "dbfs:/Volumes/gizmobox/landing/operational_data/customers/customers_2024_12.json"
        ],
        [
         "2024-12-24 14:46:04",
         6384,
         "Jennifer Carrillo",
         "1994-12-18",
         "james34@yahoo.com",
         "2024-12-22",
         "+1 5592179843",
         "dbfs:/Volumes/gizmobox/landing/operational_data/customers/customers_2024_12.json"
        ],
        [
         "2024-12-21 07:08:28",
         2639,
         "Jessica Deleon",
         "1995-06-04",
         "jeremiah96@gmail.com",
         "2024-11-22",
         "+1 1304435999",
         "dbfs:/Volumes/gizmobox/landing/operational_data/customers/customers_2024_12.json"
        ],
        [
         "2024-12-20 12:32:29",
         3084,
         "Tyler Simmons",
         "2003-02-20",
         "brian94@mail.com",
         "2024-12-02",
         null,
         "dbfs:/Volumes/gizmobox/landing/operational_data/customers/customers_2024_12.json"
        ],
        [
         "2024-12-22 23:00:48",
         7997,
         "Patricia Abbott",
         "1997-07-31",
         "angela97@mail.com",
         "2024-11-28",
         "+1 4053366448",
         "dbfs:/Volumes/gizmobox/landing/operational_data/customers/customers_2024_12.json"
        ],
        [
         "2024-12-05 08:58:52",
         9687,
         "Micheal Perez MD",
         "2002-07-18",
         "christopher65@example.org",
         "2024-11-22",
         "+1 3079718622",
         "dbfs:/Volumes/gizmobox/landing/operational_data/customers/customers_2024_12.json"
        ],
        [
         "2024-12-17 15:05:15",
         2141,
         "Zachary Lopez",
         "2002-09-20",
         "glenn87@example.org",
         "2024-12-14",
         "+1 7431190983",
         "dbfs:/Volumes/gizmobox/landing/operational_data/customers/customers_2024_12.json"
        ],
        [
         "2024-12-04 13:16:03",
         5592,
         "Richard Neal",
         "1995-11-05",
         "eric52@gmail.com",
         "2024-11-15",
         "+1 4425187397",
         "dbfs:/Volumes/gizmobox/landing/operational_data/customers/customers_2024_12.json"
        ],
        [
         "2024-12-13 14:23:27",
         6406,
         "Christopher Ritter",
         "2004-07-12",
         null,
         "2024-11-24",
         "+1 1752511241",
         "dbfs:/Volumes/gizmobox/landing/operational_data/customers/customers_2024_12.json"
        ],
        [
         "2024-12-16 16:54:10",
         1211,
         "Jeremy Ball",
         "2002-03-26",
         "megan86@yahoo.com",
         "2024-12-01",
         "+1 5793543882",
         "dbfs:/Volumes/gizmobox/landing/operational_data/customers/customers_2024_12.json"
        ],
        [
         "2024-12-22 23:00:48",
         7997,
         "Patricia Abbott",
         "1997-07-31",
         "angela97@mail.com",
         "2024-11-28",
         "+1 4053366448",
         "dbfs:/Volumes/gizmobox/landing/operational_data/customers/customers_2024_12.json"
        ],
        [
         "2025-01-05 17:29:34",
         7007,
         "Joe Castaneda",
         "1999-04-27",
         "michael34@mail.com",
         "2024-12-31",
         "+1 1767970338",
         "dbfs:/Volumes/gizmobox/landing/operational_data/customers/customers_2025_01.json"
        ],
        [
         "2025-01-17 15:59:39",
         5953,
         "Kevin Harris",
         "2003-01-23",
         "timothy99@mail.com",
         "2024-12-31",
         "+1 6517763640",
         "dbfs:/Volumes/gizmobox/landing/operational_data/customers/customers_2025_01.json"
        ],
        [
         "2025-01-12 20:13:31",
         4996,
         "Brandon Reed",
         "1997-05-11",
         "stacey71@yahoo.com",
         "2024-12-13",
         null,
         "dbfs:/Volumes/gizmobox/landing/operational_data/customers/customers_2025_01.json"
        ],
        [
         "2025-01-14 13:30:57",
         9605,
         "Tiffany Rocha",
         "2003-04-25",
         "michael82@yahoo.com",
         "2024-12-22",
         "+1 6232811506",
         "dbfs:/Volumes/gizmobox/landing/operational_data/customers/customers_2025_01.json"
        ],
        [
         "2025-01-16 21:17:22",
         8845,
         "Joseph Robbins",
         "1997-04-04",
         "derek53@yahoo.com",
         "2025-01-12",
         "+1 9513893820",
         "dbfs:/Volumes/gizmobox/landing/operational_data/customers/customers_2025_01.json"
        ],
        [
         "2025-01-26 09:46:03",
         4973,
         "Daniel Thompson",
         "1999-07-17",
         "connor32@example.org",
         "2024-12-27",
         "+1 5823046206",
         "dbfs:/Volumes/gizmobox/landing/operational_data/customers/customers_2025_01.json"
        ],
        [
         "2025-01-25 13:28:31",
         3889,
         "Jennifer Jackson",
         "1995-10-30",
         "catherine77@example.org",
         "2025-01-07",
         "+1 5932456755",
         "dbfs:/Volumes/gizmobox/landing/operational_data/customers/customers_2025_01.json"
        ],
        [
         "2025-01-14 18:31:28",
         6167,
         "Leslie Smith",
         "2001-10-28",
         "angela16@mail.com",
         "2024-12-16",
         "+1 2978446880",
         "dbfs:/Volumes/gizmobox/landing/operational_data/customers/customers_2025_01.json"
        ],
        [
         "2025-01-17 07:50:48",
         3295,
         "Drew Hanson",
         "1996-11-21",
         "cathy31@gmail.com",
         "2025-01-01",
         "+1 6521792889",
         "dbfs:/Volumes/gizmobox/landing/operational_data/customers/customers_2025_01.json"
        ],
        [
         "2025-01-03 03:28:34",
         9084,
         "Olivia Lyons",
         "1997-06-17",
         "patty47@outlook.com",
         "2024-12-16",
         "+1 2909899135",
         "dbfs:/Volumes/gizmobox/landing/operational_data/customers/customers_2025_01.json"
        ],
        [
         "2025-01-23 02:07:26",
         9150,
         "Alison Davis",
         "2004-01-17",
         "jacob31@yahoo.com",
         "2024-12-26",
         "+1 7119851149",
         "dbfs:/Volumes/gizmobox/landing/operational_data/customers/customers_2025_01.json"
        ],
        [
         "2025-01-14 13:30:57",
         9605,
         "Tiffany Rocha",
         "2003-04-25",
         "michael82@yahoo.com",
         "2024-12-22",
         "+1 6232811506",
         "dbfs:/Volumes/gizmobox/landing/operational_data/customers/customers_2025_01.json"
        ],
        [
         "2025-01-12 20:13:31",
         4996,
         "Brandon Reed",
         "1997-05-11",
         "stacey71@yahoo.com",
         "2024-12-13",
         null,
         "dbfs:/Volumes/gizmobox/landing/operational_data/customers/customers_2025_01.json"
        ]
       ],
       "datasetInfos": [
        {
         "name": "_sqldf",
         "schema": {
          "fields": [
           {
            "metadata": {},
            "name": "created_timestamp",
            "nullable": true,
            "type": "string"
           },
           {
            "metadata": {},
            "name": "customer_id",
            "nullable": true,
            "type": "long"
           },
           {
            "metadata": {},
            "name": "customer_name",
            "nullable": true,
            "type": "string"
           },
           {
            "metadata": {},
            "name": "date_of_birth",
            "nullable": true,
            "type": "string"
           },
           {
            "metadata": {},
            "name": "email",
            "nullable": true,
            "type": "string"
           },
           {
            "metadata": {},
            "name": "member_since",
            "nullable": true,
            "type": "string"
           },
           {
            "metadata": {},
            "name": "telephone",
            "nullable": true,
            "type": "string"
           },
           {
            "metadata": {},
            "name": "file_path",
            "nullable": false,
            "type": "string"
           }
          ],
          "type": "struct"
         },
         "tableIdentifier": null,
         "typeStr": "pyspark.sql.connect.dataframe.DataFrame"
        }
       ],
       "dbfsResultPath": null,
       "isJsonSchema": true,
       "metadata": {
        "createTempViewForImplicitDf": true,
        "dataframeName": "_sqldf",
        "executionCount": 2
       },
       "overflow": false,
       "plotOptions": {
        "customPlotOptions": {},
        "displayType": "table",
        "pivotAggregation": null,
        "pivotColumns": null,
        "xColumns": null,
        "yColumns": null
       },
       "removedWidgets": [],
       "schema": [
        {
         "metadata": "{}",
         "name": "created_timestamp",
         "type": "\"string\""
        },
        {
         "metadata": "{}",
         "name": "customer_id",
         "type": "\"long\""
        },
        {
         "metadata": "{}",
         "name": "customer_name",
         "type": "\"string\""
        },
        {
         "metadata": "{}",
         "name": "date_of_birth",
         "type": "\"string\""
        },
        {
         "metadata": "{}",
         "name": "email",
         "type": "\"string\""
        },
        {
         "metadata": "{}",
         "name": "member_since",
         "type": "\"string\""
        },
        {
         "metadata": "{}",
         "name": "telephone",
         "type": "\"string\""
        },
        {
         "metadata": "{}",
         "name": "file_path",
         "type": "\"string\""
        }
       ],
       "type": "table"
      }
     },
     "output_type": "display_data"
    }
   ],
   "source": [
    "%sql\n",
    "select *\n",
    "  from gizmobox.bronze.v_customers\n",
    "where customer_id is not null;\n"
   ]
  },
  {
   "cell_type": "markdown",
   "metadata": {
    "application/vnd.databricks.v1+cell": {
     "cellMetadata": {},
     "inputWidgets": {},
     "nuid": "09db3856-9ac1-4964-9c5d-875b3f6ae2f3",
     "showTitle": false,
     "tableResultSettingsMap": {},
     "title": ""
    }
   },
   "source": [
    "#### 2- Remove exact duplicate records"
   ]
  },
  {
   "cell_type": "code",
   "execution_count": 0,
   "metadata": {
    "application/vnd.databricks.v1+cell": {
     "cellMetadata": {
      "byteLimit": 2048000,
      "implicitDf": true,
      "rowLimit": 10000
     },
     "inputWidgets": {},
     "nuid": "03c5bdc1-96f5-473a-bdcb-709312bd3c49",
     "showTitle": false,
     "tableResultSettingsMap": {},
     "title": ""
    }
   },
   "outputs": [
    {
     "output_type": "display_data",
     "data": {
      "text/html": [
       "<style scoped>\n",
       "  .table-result-container {\n",
       "    max-height: 300px;\n",
       "    overflow: auto;\n",
       "  }\n",
       "  table, th, td {\n",
       "    border: 1px solid black;\n",
       "    border-collapse: collapse;\n",
       "  }\n",
       "  th, td {\n",
       "    padding: 5px;\n",
       "  }\n",
       "  th {\n",
       "    text-align: left;\n",
       "  }\n",
       "</style><div class='table-result-container'><table class='table-result'><thead style='background-color: white'><tr><th>created_timestamp</th><th>customer_id</th><th>customer_name</th><th>date_of_birth</th><th>email</th><th>member_since</th><th>telephone</th><th>file_path</th></tr></thead><tbody><tr><td>2024-12-16 16:54:10</td><td>1211</td><td>Jeremy Ball</td><td>2002-03-26</td><td>megan86@yahoo.com</td><td>2024-12-01</td><td>+1 5793543882</td><td>dbfs:/Volumes/gizmobox/landing/operational_data/customers/customers_2024_12.json</td></tr><tr><td>2024-12-16 16:54:10</td><td>1211</td><td>Jeremy Ball</td><td>2002-03-26</td><td>megan86@yahoo.com</td><td>2024-12-01</td><td>+1 5793543882</td><td>dbfs:/Volumes/gizmobox/landing/operational_data/customers/customers_2024_12.json</td></tr><tr><td>2024-11-16 01:47:25</td><td>1987</td><td>Amanda Alvarez</td><td>1995-10-11</td><td>eric40@outlook.com</td><td>2024-10-27</td><td>+1 9673066300</td><td>dbfs:/Volumes/gizmobox/landing/operational_data/customers/customers_2024_11.json</td></tr><tr><td>2024-11-03 17:22:56</td><td>2054</td><td>Alan Price</td><td>1998-08-25</td><td>connor40@yahoo.com</td><td>2024-10-14</td><td>+1 3745642936</td><td>dbfs:/Volumes/gizmobox/landing/operational_data/customers/customers_2024_11.json</td></tr><tr><td>2024-12-17 15:05:15</td><td>2141</td><td>Zachary Lopez</td><td>2002-09-20</td><td>glenn87@example.org</td><td>2024-12-14</td><td>+1 7431190983</td><td>dbfs:/Volumes/gizmobox/landing/operational_data/customers/customers_2024_12.json</td></tr><tr><td>2024-10-26 15:14:33</td><td>2344</td><td>Martin Thomas DDS</td><td>2002-05-01</td><td>billy42@outlook.com</td><td>2024-10-13</td><td>+1 0201457151</td><td>dbfs:/Volumes/gizmobox/landing/operational_data/customers/customers_2024_10.json</td></tr><tr><td>2024-12-21 07:08:28</td><td>2639</td><td>Jessica Deleon</td><td>1995-06-04</td><td>jeremiah96@gmail.com</td><td>2024-11-22</td><td>+1 1304435999</td><td>dbfs:/Volumes/gizmobox/landing/operational_data/customers/customers_2024_12.json</td></tr><tr><td>2024-11-07 22:20:00</td><td>2703</td><td>Anthony Miller</td><td>1997-11-02</td><td>null</td><td>2024-11-05</td><td>+1 1586310752</td><td>dbfs:/Volumes/gizmobox/landing/operational_data/customers/customers_2024_11.json</td></tr><tr><td>2024-12-20 12:32:29</td><td>3084</td><td>Tyler Simmons</td><td>2003-02-20</td><td>brian94@mail.com</td><td>2024-12-02</td><td>null</td><td>dbfs:/Volumes/gizmobox/landing/operational_data/customers/customers_2024_12.json</td></tr><tr><td>2025-01-17 07:50:48</td><td>3295</td><td>Drew Hanson</td><td>1996-11-21</td><td>cathy31@gmail.com</td><td>2025-01-01</td><td>+1 6521792889</td><td>dbfs:/Volumes/gizmobox/landing/operational_data/customers/customers_2025_01.json</td></tr><tr><td>2024-10-02 14:53:40</td><td>3409</td><td>Andrew Phillips</td><td>2003-04-17</td><td>peter73@yahoo.com</td><td>2024-09-30</td><td>+1 4079273853</td><td>dbfs:/Volumes/gizmobox/landing/operational_data/customers/customers_2024_10.json</td></tr><tr><td>2024-12-26 09:29:16</td><td>3532</td><td>Holly Wilkinson</td><td>2003-03-06</td><td>lindsey61@yahoo.com</td><td>2024-12-22</td><td>null</td><td>dbfs:/Volumes/gizmobox/landing/operational_data/customers/customers_2024_12.json</td></tr><tr><td>2024-11-24 11:14:03</td><td>3712</td><td>Robin Chavez</td><td>1997-03-16</td><td>lisa15@gmail.com</td><td>2024-11-24</td><td>+1 2654756919</td><td>dbfs:/Volumes/gizmobox/landing/operational_data/customers/customers_2024_11.json</td></tr><tr><td>2025-01-25 13:28:31</td><td>3889</td><td>Jennifer Jackson</td><td>1995-10-30</td><td>catherine77@example.org</td><td>2025-01-07</td><td>+1 5932456755</td><td>dbfs:/Volumes/gizmobox/landing/operational_data/customers/customers_2025_01.json</td></tr><tr><td>2024-10-09 18:54:00</td><td>3889</td><td>Jennifer Jackson</td><td>1995-10-30</td><td>null</td><td>2024-09-16</td><td>+68 2276996612</td><td>dbfs:/Volumes/gizmobox/landing/operational_data/customers/customers_2024_10.json</td></tr><tr><td>2024-11-14 20:41:18</td><td>3892</td><td>Jason Bridges</td><td>2004-01-01</td><td>nicole29@gmail.com</td><td>2024-10-29</td><td>+1 8220011928</td><td>dbfs:/Volumes/gizmobox/landing/operational_data/customers/customers_2024_11.json</td></tr><tr><td>2024-11-23 18:16:18</td><td>4468</td><td>Mrs. Roberta Salas PhD</td><td>1997-05-10</td><td>null</td><td>2024-10-25</td><td>+1 4679955118</td><td>dbfs:/Volumes/gizmobox/landing/operational_data/customers/customers_2024_11.json</td></tr><tr><td>2024-11-14 16:41:14</td><td>4761</td><td>Timothy Smith</td><td>1996-11-07</td><td>joshua40@yahoo.com</td><td>2024-11-03</td><td>+1 9450920858</td><td>dbfs:/Volumes/gizmobox/landing/operational_data/customers/customers_2024_11.json</td></tr><tr><td>2024-10-01 00:50:29</td><td>4858</td><td>Carla Morton</td><td>2004-06-21</td><td>joseph88@mail.com</td><td>2024-09-15</td><td>+1 8616454195</td><td>dbfs:/Volumes/gizmobox/landing/operational_data/customers/customers_2024_10.json</td></tr><tr><td>2024-11-12 12:57:38</td><td>4914</td><td>Samantha Johnson</td><td>1997-03-26</td><td>theresa14@mail.com</td><td>2024-10-13</td><td>+1 4095003738</td><td>dbfs:/Volumes/gizmobox/landing/operational_data/customers/customers_2024_11.json</td></tr><tr><td>2025-01-26 09:46:03</td><td>4973</td><td>Daniel Thompson</td><td>1999-07-17</td><td>connor32@example.org</td><td>2024-12-27</td><td>+1 5823046206</td><td>dbfs:/Volumes/gizmobox/landing/operational_data/customers/customers_2025_01.json</td></tr><tr><td>2025-01-12 20:13:31</td><td>4996</td><td>Brandon Reed</td><td>1997-05-11</td><td>stacey71@yahoo.com</td><td>2024-12-13</td><td>null</td><td>dbfs:/Volumes/gizmobox/landing/operational_data/customers/customers_2025_01.json</td></tr><tr><td>2025-01-12 20:13:31</td><td>4996</td><td>Brandon Reed</td><td>1997-05-11</td><td>stacey71@yahoo.com</td><td>2024-12-13</td><td>null</td><td>dbfs:/Volumes/gizmobox/landing/operational_data/customers/customers_2025_01.json</td></tr><tr><td>2024-11-27 12:56:20</td><td>4996</td><td>Brandon Reed</td><td>1997-05-11</td><td>handerson@barker.info</td><td>2024-11-06</td><td>+43 2750540511</td><td>dbfs:/Volumes/gizmobox/landing/operational_data/customers/customers_2024_11.json</td></tr><tr><td>2024-10-15 02:48:29</td><td>5011</td><td>Rachel Thomas</td><td>2003-02-17</td><td>lauren59@yahoo.com</td><td>2024-09-24</td><td>+1 5437271621</td><td>dbfs:/Volumes/gizmobox/landing/operational_data/customers/customers_2024_10.json</td></tr><tr><td>2024-10-06 19:55:52</td><td>5028</td><td>Jessica Harris</td><td>2004-04-19</td><td>null</td><td>2024-09-10</td><td>+1 8604009935</td><td>dbfs:/Volumes/gizmobox/landing/operational_data/customers/customers_2024_10.json</td></tr><tr><td>2024-10-06 19:55:52</td><td>5028</td><td>Jessica Harris</td><td>2004-04-19</td><td>null</td><td>2024-09-10</td><td>+1 8604009935</td><td>dbfs:/Volumes/gizmobox/landing/operational_data/customers/customers_2024_10.json</td></tr><tr><td>2024-11-09 14:52:31</td><td>5204</td><td>Jennifer Nichols DDS</td><td>1997-02-17</td><td>joseph8@example.org</td><td>2024-11-04</td><td>+1 0383356328</td><td>dbfs:/Volumes/gizmobox/landing/operational_data/customers/customers_2024_11.json</td></tr><tr><td>2024-12-04 13:16:03</td><td>5592</td><td>Richard Neal</td><td>1995-11-05</td><td>eric52@gmail.com</td><td>2024-11-15</td><td>+1 4425187397</td><td>dbfs:/Volumes/gizmobox/landing/operational_data/customers/customers_2024_12.json</td></tr><tr><td>2024-11-19 14:03:09</td><td>5816</td><td>Amy Morales</td><td>1999-12-11</td><td>katelyn82@example.org</td><td>2024-11-04</td><td>+1 4140982719</td><td>dbfs:/Volumes/gizmobox/landing/operational_data/customers/customers_2024_11.json</td></tr><tr><td>2024-10-08 03:30:53</td><td>5816</td><td>Amy Morales</td><td>1999-12-11</td><td>daniel12@hotmail.com</td><td>2024-09-17</td><td>+46 4407385044</td><td>dbfs:/Volumes/gizmobox/landing/operational_data/customers/customers_2024_10.json</td></tr><tr><td>2025-01-17 15:59:39</td><td>5953</td><td>Kevin Harris</td><td>2003-01-23</td><td>timothy99@mail.com</td><td>2024-12-31</td><td>+1 6517763640</td><td>dbfs:/Volumes/gizmobox/landing/operational_data/customers/customers_2025_01.json</td></tr><tr><td>2025-01-14 18:31:28</td><td>6167</td><td>Leslie Smith</td><td>2001-10-28</td><td>angela16@mail.com</td><td>2024-12-16</td><td>+1 2978446880</td><td>dbfs:/Volumes/gizmobox/landing/operational_data/customers/customers_2025_01.json</td></tr><tr><td>2024-12-24 14:46:04</td><td>6384</td><td>Jennifer Carrillo</td><td>1994-12-18</td><td>james34@yahoo.com</td><td>2024-12-22</td><td>+1 5592179843</td><td>dbfs:/Volumes/gizmobox/landing/operational_data/customers/customers_2024_12.json</td></tr><tr><td>2024-12-13 14:23:27</td><td>6406</td><td>Christopher Ritter</td><td>2004-07-12</td><td>null</td><td>2024-11-24</td><td>+1 1752511241</td><td>dbfs:/Volumes/gizmobox/landing/operational_data/customers/customers_2024_12.json</td></tr><tr><td>2024-10-22 05:52:57</td><td>6627</td><td>Candice Rosales</td><td>2004-04-03</td><td>amber79@example.org</td><td>2024-10-15</td><td>+1 4788451559</td><td>dbfs:/Volumes/gizmobox/landing/operational_data/customers/customers_2024_10.json</td></tr><tr><td>2024-12-25 11:06:35</td><td>6973</td><td>Tracy Cole</td><td>1998-07-24</td><td>tony46@mail.com</td><td>2024-12-16</td><td>+1 5515836612</td><td>dbfs:/Volumes/gizmobox/landing/operational_data/customers/customers_2024_12.json</td></tr><tr><td>2025-01-05 17:29:34</td><td>7007</td><td>Joe Castaneda</td><td>1999-04-27</td><td>michael34@mail.com</td><td>2024-12-31</td><td>+1 1767970338</td><td>dbfs:/Volumes/gizmobox/landing/operational_data/customers/customers_2025_01.json</td></tr><tr><td>2024-11-09 07:14:17</td><td>7123</td><td>Edgar Stevens</td><td>2003-02-15</td><td>kevin68@example.org</td><td>2024-10-27</td><td>+1 0793189847</td><td>dbfs:/Volumes/gizmobox/landing/operational_data/customers/customers_2024_11.json</td></tr><tr><td>2024-10-23 22:03:08</td><td>7207</td><td>Billy Scott</td><td>1997-03-17</td><td>christopher30@mail.com</td><td>2024-09-23</td><td>+1 5544387564</td><td>dbfs:/Volumes/gizmobox/landing/operational_data/customers/customers_2024_10.json</td></tr><tr><td>2024-11-08 02:26:42</td><td>7295</td><td>Lauren Reed</td><td>2001-08-11</td><td>jeanette48@example.org</td><td>2024-10-10</td><td>+1 0104088765</td><td>dbfs:/Volumes/gizmobox/landing/operational_data/customers/customers_2024_11.json</td></tr><tr><td>2024-11-09 20:24:30</td><td>7803</td><td>Katherine Lee</td><td>2000-03-09</td><td>jennifer85@mail.com</td><td>2024-10-27</td><td>+1 3119886866</td><td>dbfs:/Volumes/gizmobox/landing/operational_data/customers/customers_2024_11.json</td></tr><tr><td>2024-12-07 18:09:58</td><td>7829</td><td>Daniel Black</td><td>1998-04-13</td><td>sandra54@example.org</td><td>2024-11-16</td><td>+1 0933795082</td><td>dbfs:/Volumes/gizmobox/landing/operational_data/customers/customers_2024_12.json</td></tr><tr><td>2024-12-22 23:00:48</td><td>7997</td><td>Patricia Abbott</td><td>1997-07-31</td><td>angela97@mail.com</td><td>2024-11-28</td><td>+1 4053366448</td><td>dbfs:/Volumes/gizmobox/landing/operational_data/customers/customers_2024_12.json</td></tr><tr><td>2024-12-22 23:00:48</td><td>7997</td><td>Patricia Abbott</td><td>1997-07-31</td><td>angela97@mail.com</td><td>2024-11-28</td><td>+1 4053366448</td><td>dbfs:/Volumes/gizmobox/landing/operational_data/customers/customers_2024_12.json</td></tr><tr><td>2024-10-12 06:02:27</td><td>8539</td><td>Lori Mason</td><td>2002-11-01</td><td>stephanie7@mail.com</td><td>2024-09-12</td><td>+1 0498301620</td><td>dbfs:/Volumes/gizmobox/landing/operational_data/customers/customers_2024_10.json</td></tr><tr><td>2024-10-21 13:20:26</td><td>8580</td><td>Shannon Austin</td><td>2002-03-22</td><td>john30@gmail.com</td><td>2024-10-07</td><td>+1 4594705629</td><td>dbfs:/Volumes/gizmobox/landing/operational_data/customers/customers_2024_10.json</td></tr><tr><td>2025-01-16 21:17:22</td><td>8845</td><td>Joseph Robbins</td><td>1997-04-04</td><td>derek53@yahoo.com</td><td>2025-01-12</td><td>+1 9513893820</td><td>dbfs:/Volumes/gizmobox/landing/operational_data/customers/customers_2025_01.json</td></tr><tr><td>2024-10-18 23:24:52</td><td>9018</td><td>William Carter</td><td>2003-09-05</td><td>james70@gmail.com</td><td>2024-10-08</td><td>+1 1448753611</td><td>dbfs:/Volumes/gizmobox/landing/operational_data/customers/customers_2024_10.json</td></tr><tr><td>2024-10-10 16:53:44</td><td>9084</td><td>Olivia Lyons</td><td>1997-06-17</td><td>johnsonmichael@yahoo.com</td><td>2024-09-26</td><td>null</td><td>dbfs:/Volumes/gizmobox/landing/operational_data/customers/customers_2024_10.json</td></tr><tr><td>2025-01-03 03:28:34</td><td>9084</td><td>Olivia Lyons</td><td>1997-06-17</td><td>patty47@outlook.com</td><td>2024-12-16</td><td>+1 2909899135</td><td>dbfs:/Volumes/gizmobox/landing/operational_data/customers/customers_2025_01.json</td></tr><tr><td>2025-01-23 02:07:26</td><td>9150</td><td>Alison Davis</td><td>2004-01-17</td><td>jacob31@yahoo.com</td><td>2024-12-26</td><td>+1 7119851149</td><td>dbfs:/Volumes/gizmobox/landing/operational_data/customers/customers_2025_01.json</td></tr><tr><td>2024-10-17 16:12:27</td><td>9179</td><td>Richard Cox</td><td>1996-10-25</td><td>devon84@mail.com</td><td>2024-09-26</td><td>+1 6680703335</td><td>dbfs:/Volumes/gizmobox/landing/operational_data/customers/customers_2024_10.json</td></tr><tr><td>2024-10-28 00:57:09</td><td>9247</td><td>Dr. Daniel Hall</td><td>2004-03-21</td><td>tamara30@gmail.com</td><td>2024-10-03</td><td>+1 7544137170</td><td>dbfs:/Volumes/gizmobox/landing/operational_data/customers/customers_2024_10.json</td></tr><tr><td>2024-10-15 01:27:54</td><td>9247</td><td>Dr. Daniel Hall</td><td>2004-03-21</td><td>sheena11@alexander.com</td><td>2024-09-15</td><td>+46 7281991017</td><td>dbfs:/Volumes/gizmobox/landing/operational_data/customers/customers_2024_10.json</td></tr><tr><td>2024-10-08 22:49:25</td><td>9263</td><td>Joseph Keller</td><td>2003-02-11</td><td>null</td><td>2024-10-04</td><td>+1 3817867756</td><td>dbfs:/Volumes/gizmobox/landing/operational_data/customers/customers_2024_10.json</td></tr><tr><td>2025-01-14 13:30:57</td><td>9605</td><td>Tiffany Rocha</td><td>2003-04-25</td><td>michael82@yahoo.com</td><td>2024-12-22</td><td>+1 6232811506</td><td>dbfs:/Volumes/gizmobox/landing/operational_data/customers/customers_2025_01.json</td></tr><tr><td>2025-01-14 13:30:57</td><td>9605</td><td>Tiffany Rocha</td><td>2003-04-25</td><td>michael82@yahoo.com</td><td>2024-12-22</td><td>+1 6232811506</td><td>dbfs:/Volumes/gizmobox/landing/operational_data/customers/customers_2025_01.json</td></tr><tr><td>2024-12-05 08:58:52</td><td>9687</td><td>Micheal Perez MD</td><td>2002-07-18</td><td>christopher65@example.org</td><td>2024-11-22</td><td>+1 3079718622</td><td>dbfs:/Volumes/gizmobox/landing/operational_data/customers/customers_2024_12.json</td></tr><tr><td>2024-10-24 13:03:13</td><td>9706</td><td>Jennifer Haas</td><td>2001-04-03</td><td>benjamin55@mail.com</td><td>2024-10-05</td><td>+1 4725460000</td><td>dbfs:/Volumes/gizmobox/landing/operational_data/customers/customers_2024_10.json</td></tr></tbody></table></div>"
      ]
     },
     "metadata": {
      "application/vnd.databricks.v1+output": {
       "addedWidgets": {},
       "aggData": [],
       "aggError": "",
       "aggOverflow": false,
       "aggSchema": [],
       "aggSeriesLimitReached": false,
       "aggType": "",
       "arguments": {},
       "columnCustomDisplayInfos": {},
       "data": [
        [
         "2024-12-16 16:54:10",
         1211,
         "Jeremy Ball",
         "2002-03-26",
         "megan86@yahoo.com",
         "2024-12-01",
         "+1 5793543882",
         "dbfs:/Volumes/gizmobox/landing/operational_data/customers/customers_2024_12.json"
        ],
        [
         "2024-12-16 16:54:10",
         1211,
         "Jeremy Ball",
         "2002-03-26",
         "megan86@yahoo.com",
         "2024-12-01",
         "+1 5793543882",
         "dbfs:/Volumes/gizmobox/landing/operational_data/customers/customers_2024_12.json"
        ],
        [
         "2024-11-16 01:47:25",
         1987,
         "Amanda Alvarez",
         "1995-10-11",
         "eric40@outlook.com",
         "2024-10-27",
         "+1 9673066300",
         "dbfs:/Volumes/gizmobox/landing/operational_data/customers/customers_2024_11.json"
        ],
        [
         "2024-11-03 17:22:56",
         2054,
         "Alan Price",
         "1998-08-25",
         "connor40@yahoo.com",
         "2024-10-14",
         "+1 3745642936",
         "dbfs:/Volumes/gizmobox/landing/operational_data/customers/customers_2024_11.json"
        ],
        [
         "2024-12-17 15:05:15",
         2141,
         "Zachary Lopez",
         "2002-09-20",
         "glenn87@example.org",
         "2024-12-14",
         "+1 7431190983",
         "dbfs:/Volumes/gizmobox/landing/operational_data/customers/customers_2024_12.json"
        ],
        [
         "2024-10-26 15:14:33",
         2344,
         "Martin Thomas DDS",
         "2002-05-01",
         "billy42@outlook.com",
         "2024-10-13",
         "+1 0201457151",
         "dbfs:/Volumes/gizmobox/landing/operational_data/customers/customers_2024_10.json"
        ],
        [
         "2024-12-21 07:08:28",
         2639,
         "Jessica Deleon",
         "1995-06-04",
         "jeremiah96@gmail.com",
         "2024-11-22",
         "+1 1304435999",
         "dbfs:/Volumes/gizmobox/landing/operational_data/customers/customers_2024_12.json"
        ],
        [
         "2024-11-07 22:20:00",
         2703,
         "Anthony Miller",
         "1997-11-02",
         null,
         "2024-11-05",
         "+1 1586310752",
         "dbfs:/Volumes/gizmobox/landing/operational_data/customers/customers_2024_11.json"
        ],
        [
         "2024-12-20 12:32:29",
         3084,
         "Tyler Simmons",
         "2003-02-20",
         "brian94@mail.com",
         "2024-12-02",
         null,
         "dbfs:/Volumes/gizmobox/landing/operational_data/customers/customers_2024_12.json"
        ],
        [
         "2025-01-17 07:50:48",
         3295,
         "Drew Hanson",
         "1996-11-21",
         "cathy31@gmail.com",
         "2025-01-01",
         "+1 6521792889",
         "dbfs:/Volumes/gizmobox/landing/operational_data/customers/customers_2025_01.json"
        ],
        [
         "2024-10-02 14:53:40",
         3409,
         "Andrew Phillips",
         "2003-04-17",
         "peter73@yahoo.com",
         "2024-09-30",
         "+1 4079273853",
         "dbfs:/Volumes/gizmobox/landing/operational_data/customers/customers_2024_10.json"
        ],
        [
         "2024-12-26 09:29:16",
         3532,
         "Holly Wilkinson",
         "2003-03-06",
         "lindsey61@yahoo.com",
         "2024-12-22",
         null,
         "dbfs:/Volumes/gizmobox/landing/operational_data/customers/customers_2024_12.json"
        ],
        [
         "2024-11-24 11:14:03",
         3712,
         "Robin Chavez",
         "1997-03-16",
         "lisa15@gmail.com",
         "2024-11-24",
         "+1 2654756919",
         "dbfs:/Volumes/gizmobox/landing/operational_data/customers/customers_2024_11.json"
        ],
        [
         "2025-01-25 13:28:31",
         3889,
         "Jennifer Jackson",
         "1995-10-30",
         "catherine77@example.org",
         "2025-01-07",
         "+1 5932456755",
         "dbfs:/Volumes/gizmobox/landing/operational_data/customers/customers_2025_01.json"
        ],
        [
         "2024-10-09 18:54:00",
         3889,
         "Jennifer Jackson",
         "1995-10-30",
         null,
         "2024-09-16",
         "+68 2276996612",
         "dbfs:/Volumes/gizmobox/landing/operational_data/customers/customers_2024_10.json"
        ],
        [
         "2024-11-14 20:41:18",
         3892,
         "Jason Bridges",
         "2004-01-01",
         "nicole29@gmail.com",
         "2024-10-29",
         "+1 8220011928",
         "dbfs:/Volumes/gizmobox/landing/operational_data/customers/customers_2024_11.json"
        ],
        [
         "2024-11-23 18:16:18",
         4468,
         "Mrs. Roberta Salas PhD",
         "1997-05-10",
         null,
         "2024-10-25",
         "+1 4679955118",
         "dbfs:/Volumes/gizmobox/landing/operational_data/customers/customers_2024_11.json"
        ],
        [
         "2024-11-14 16:41:14",
         4761,
         "Timothy Smith",
         "1996-11-07",
         "joshua40@yahoo.com",
         "2024-11-03",
         "+1 9450920858",
         "dbfs:/Volumes/gizmobox/landing/operational_data/customers/customers_2024_11.json"
        ],
        [
         "2024-10-01 00:50:29",
         4858,
         "Carla Morton",
         "2004-06-21",
         "joseph88@mail.com",
         "2024-09-15",
         "+1 8616454195",
         "dbfs:/Volumes/gizmobox/landing/operational_data/customers/customers_2024_10.json"
        ],
        [
         "2024-11-12 12:57:38",
         4914,
         "Samantha Johnson",
         "1997-03-26",
         "theresa14@mail.com",
         "2024-10-13",
         "+1 4095003738",
         "dbfs:/Volumes/gizmobox/landing/operational_data/customers/customers_2024_11.json"
        ],
        [
         "2025-01-26 09:46:03",
         4973,
         "Daniel Thompson",
         "1999-07-17",
         "connor32@example.org",
         "2024-12-27",
         "+1 5823046206",
         "dbfs:/Volumes/gizmobox/landing/operational_data/customers/customers_2025_01.json"
        ],
        [
         "2025-01-12 20:13:31",
         4996,
         "Brandon Reed",
         "1997-05-11",
         "stacey71@yahoo.com",
         "2024-12-13",
         null,
         "dbfs:/Volumes/gizmobox/landing/operational_data/customers/customers_2025_01.json"
        ],
        [
         "2025-01-12 20:13:31",
         4996,
         "Brandon Reed",
         "1997-05-11",
         "stacey71@yahoo.com",
         "2024-12-13",
         null,
         "dbfs:/Volumes/gizmobox/landing/operational_data/customers/customers_2025_01.json"
        ],
        [
         "2024-11-27 12:56:20",
         4996,
         "Brandon Reed",
         "1997-05-11",
         "handerson@barker.info",
         "2024-11-06",
         "+43 2750540511",
         "dbfs:/Volumes/gizmobox/landing/operational_data/customers/customers_2024_11.json"
        ],
        [
         "2024-10-15 02:48:29",
         5011,
         "Rachel Thomas",
         "2003-02-17",
         "lauren59@yahoo.com",
         "2024-09-24",
         "+1 5437271621",
         "dbfs:/Volumes/gizmobox/landing/operational_data/customers/customers_2024_10.json"
        ],
        [
         "2024-10-06 19:55:52",
         5028,
         "Jessica Harris",
         "2004-04-19",
         null,
         "2024-09-10",
         "+1 8604009935",
         "dbfs:/Volumes/gizmobox/landing/operational_data/customers/customers_2024_10.json"
        ],
        [
         "2024-10-06 19:55:52",
         5028,
         "Jessica Harris",
         "2004-04-19",
         null,
         "2024-09-10",
         "+1 8604009935",
         "dbfs:/Volumes/gizmobox/landing/operational_data/customers/customers_2024_10.json"
        ],
        [
         "2024-11-09 14:52:31",
         5204,
         "Jennifer Nichols DDS",
         "1997-02-17",
         "joseph8@example.org",
         "2024-11-04",
         "+1 0383356328",
         "dbfs:/Volumes/gizmobox/landing/operational_data/customers/customers_2024_11.json"
        ],
        [
         "2024-12-04 13:16:03",
         5592,
         "Richard Neal",
         "1995-11-05",
         "eric52@gmail.com",
         "2024-11-15",
         "+1 4425187397",
         "dbfs:/Volumes/gizmobox/landing/operational_data/customers/customers_2024_12.json"
        ],
        [
         "2024-11-19 14:03:09",
         5816,
         "Amy Morales",
         "1999-12-11",
         "katelyn82@example.org",
         "2024-11-04",
         "+1 4140982719",
         "dbfs:/Volumes/gizmobox/landing/operational_data/customers/customers_2024_11.json"
        ],
        [
         "2024-10-08 03:30:53",
         5816,
         "Amy Morales",
         "1999-12-11",
         "daniel12@hotmail.com",
         "2024-09-17",
         "+46 4407385044",
         "dbfs:/Volumes/gizmobox/landing/operational_data/customers/customers_2024_10.json"
        ],
        [
         "2025-01-17 15:59:39",
         5953,
         "Kevin Harris",
         "2003-01-23",
         "timothy99@mail.com",
         "2024-12-31",
         "+1 6517763640",
         "dbfs:/Volumes/gizmobox/landing/operational_data/customers/customers_2025_01.json"
        ],
        [
         "2025-01-14 18:31:28",
         6167,
         "Leslie Smith",
         "2001-10-28",
         "angela16@mail.com",
         "2024-12-16",
         "+1 2978446880",
         "dbfs:/Volumes/gizmobox/landing/operational_data/customers/customers_2025_01.json"
        ],
        [
         "2024-12-24 14:46:04",
         6384,
         "Jennifer Carrillo",
         "1994-12-18",
         "james34@yahoo.com",
         "2024-12-22",
         "+1 5592179843",
         "dbfs:/Volumes/gizmobox/landing/operational_data/customers/customers_2024_12.json"
        ],
        [
         "2024-12-13 14:23:27",
         6406,
         "Christopher Ritter",
         "2004-07-12",
         null,
         "2024-11-24",
         "+1 1752511241",
         "dbfs:/Volumes/gizmobox/landing/operational_data/customers/customers_2024_12.json"
        ],
        [
         "2024-10-22 05:52:57",
         6627,
         "Candice Rosales",
         "2004-04-03",
         "amber79@example.org",
         "2024-10-15",
         "+1 4788451559",
         "dbfs:/Volumes/gizmobox/landing/operational_data/customers/customers_2024_10.json"
        ],
        [
         "2024-12-25 11:06:35",
         6973,
         "Tracy Cole",
         "1998-07-24",
         "tony46@mail.com",
         "2024-12-16",
         "+1 5515836612",
         "dbfs:/Volumes/gizmobox/landing/operational_data/customers/customers_2024_12.json"
        ],
        [
         "2025-01-05 17:29:34",
         7007,
         "Joe Castaneda",
         "1999-04-27",
         "michael34@mail.com",
         "2024-12-31",
         "+1 1767970338",
         "dbfs:/Volumes/gizmobox/landing/operational_data/customers/customers_2025_01.json"
        ],
        [
         "2024-11-09 07:14:17",
         7123,
         "Edgar Stevens",
         "2003-02-15",
         "kevin68@example.org",
         "2024-10-27",
         "+1 0793189847",
         "dbfs:/Volumes/gizmobox/landing/operational_data/customers/customers_2024_11.json"
        ],
        [
         "2024-10-23 22:03:08",
         7207,
         "Billy Scott",
         "1997-03-17",
         "christopher30@mail.com",
         "2024-09-23",
         "+1 5544387564",
         "dbfs:/Volumes/gizmobox/landing/operational_data/customers/customers_2024_10.json"
        ],
        [
         "2024-11-08 02:26:42",
         7295,
         "Lauren Reed",
         "2001-08-11",
         "jeanette48@example.org",
         "2024-10-10",
         "+1 0104088765",
         "dbfs:/Volumes/gizmobox/landing/operational_data/customers/customers_2024_11.json"
        ],
        [
         "2024-11-09 20:24:30",
         7803,
         "Katherine Lee",
         "2000-03-09",
         "jennifer85@mail.com",
         "2024-10-27",
         "+1 3119886866",
         "dbfs:/Volumes/gizmobox/landing/operational_data/customers/customers_2024_11.json"
        ],
        [
         "2024-12-07 18:09:58",
         7829,
         "Daniel Black",
         "1998-04-13",
         "sandra54@example.org",
         "2024-11-16",
         "+1 0933795082",
         "dbfs:/Volumes/gizmobox/landing/operational_data/customers/customers_2024_12.json"
        ],
        [
         "2024-12-22 23:00:48",
         7997,
         "Patricia Abbott",
         "1997-07-31",
         "angela97@mail.com",
         "2024-11-28",
         "+1 4053366448",
         "dbfs:/Volumes/gizmobox/landing/operational_data/customers/customers_2024_12.json"
        ],
        [
         "2024-12-22 23:00:48",
         7997,
         "Patricia Abbott",
         "1997-07-31",
         "angela97@mail.com",
         "2024-11-28",
         "+1 4053366448",
         "dbfs:/Volumes/gizmobox/landing/operational_data/customers/customers_2024_12.json"
        ],
        [
         "2024-10-12 06:02:27",
         8539,
         "Lori Mason",
         "2002-11-01",
         "stephanie7@mail.com",
         "2024-09-12",
         "+1 0498301620",
         "dbfs:/Volumes/gizmobox/landing/operational_data/customers/customers_2024_10.json"
        ],
        [
         "2024-10-21 13:20:26",
         8580,
         "Shannon Austin",
         "2002-03-22",
         "john30@gmail.com",
         "2024-10-07",
         "+1 4594705629",
         "dbfs:/Volumes/gizmobox/landing/operational_data/customers/customers_2024_10.json"
        ],
        [
         "2025-01-16 21:17:22",
         8845,
         "Joseph Robbins",
         "1997-04-04",
         "derek53@yahoo.com",
         "2025-01-12",
         "+1 9513893820",
         "dbfs:/Volumes/gizmobox/landing/operational_data/customers/customers_2025_01.json"
        ],
        [
         "2024-10-18 23:24:52",
         9018,
         "William Carter",
         "2003-09-05",
         "james70@gmail.com",
         "2024-10-08",
         "+1 1448753611",
         "dbfs:/Volumes/gizmobox/landing/operational_data/customers/customers_2024_10.json"
        ],
        [
         "2024-10-10 16:53:44",
         9084,
         "Olivia Lyons",
         "1997-06-17",
         "johnsonmichael@yahoo.com",
         "2024-09-26",
         null,
         "dbfs:/Volumes/gizmobox/landing/operational_data/customers/customers_2024_10.json"
        ],
        [
         "2025-01-03 03:28:34",
         9084,
         "Olivia Lyons",
         "1997-06-17",
         "patty47@outlook.com",
         "2024-12-16",
         "+1 2909899135",
         "dbfs:/Volumes/gizmobox/landing/operational_data/customers/customers_2025_01.json"
        ],
        [
         "2025-01-23 02:07:26",
         9150,
         "Alison Davis",
         "2004-01-17",
         "jacob31@yahoo.com",
         "2024-12-26",
         "+1 7119851149",
         "dbfs:/Volumes/gizmobox/landing/operational_data/customers/customers_2025_01.json"
        ],
        [
         "2024-10-17 16:12:27",
         9179,
         "Richard Cox",
         "1996-10-25",
         "devon84@mail.com",
         "2024-09-26",
         "+1 6680703335",
         "dbfs:/Volumes/gizmobox/landing/operational_data/customers/customers_2024_10.json"
        ],
        [
         "2024-10-28 00:57:09",
         9247,
         "Dr. Daniel Hall",
         "2004-03-21",
         "tamara30@gmail.com",
         "2024-10-03",
         "+1 7544137170",
         "dbfs:/Volumes/gizmobox/landing/operational_data/customers/customers_2024_10.json"
        ],
        [
         "2024-10-15 01:27:54",
         9247,
         "Dr. Daniel Hall",
         "2004-03-21",
         "sheena11@alexander.com",
         "2024-09-15",
         "+46 7281991017",
         "dbfs:/Volumes/gizmobox/landing/operational_data/customers/customers_2024_10.json"
        ],
        [
         "2024-10-08 22:49:25",
         9263,
         "Joseph Keller",
         "2003-02-11",
         null,
         "2024-10-04",
         "+1 3817867756",
         "dbfs:/Volumes/gizmobox/landing/operational_data/customers/customers_2024_10.json"
        ],
        [
         "2025-01-14 13:30:57",
         9605,
         "Tiffany Rocha",
         "2003-04-25",
         "michael82@yahoo.com",
         "2024-12-22",
         "+1 6232811506",
         "dbfs:/Volumes/gizmobox/landing/operational_data/customers/customers_2025_01.json"
        ],
        [
         "2025-01-14 13:30:57",
         9605,
         "Tiffany Rocha",
         "2003-04-25",
         "michael82@yahoo.com",
         "2024-12-22",
         "+1 6232811506",
         "dbfs:/Volumes/gizmobox/landing/operational_data/customers/customers_2025_01.json"
        ],
        [
         "2024-12-05 08:58:52",
         9687,
         "Micheal Perez MD",
         "2002-07-18",
         "christopher65@example.org",
         "2024-11-22",
         "+1 3079718622",
         "dbfs:/Volumes/gizmobox/landing/operational_data/customers/customers_2024_12.json"
        ],
        [
         "2024-10-24 13:03:13",
         9706,
         "Jennifer Haas",
         "2001-04-03",
         "benjamin55@mail.com",
         "2024-10-05",
         "+1 4725460000",
         "dbfs:/Volumes/gizmobox/landing/operational_data/customers/customers_2024_10.json"
        ]
       ],
       "datasetInfos": [
        {
         "name": "_sqldf",
         "schema": {
          "fields": [
           {
            "metadata": {},
            "name": "created_timestamp",
            "nullable": true,
            "type": "string"
           },
           {
            "metadata": {},
            "name": "customer_id",
            "nullable": true,
            "type": "long"
           },
           {
            "metadata": {},
            "name": "customer_name",
            "nullable": true,
            "type": "string"
           },
           {
            "metadata": {},
            "name": "date_of_birth",
            "nullable": true,
            "type": "string"
           },
           {
            "metadata": {},
            "name": "email",
            "nullable": true,
            "type": "string"
           },
           {
            "metadata": {},
            "name": "member_since",
            "nullable": true,
            "type": "string"
           },
           {
            "metadata": {},
            "name": "telephone",
            "nullable": true,
            "type": "string"
           },
           {
            "metadata": {},
            "name": "file_path",
            "nullable": false,
            "type": "string"
           }
          ],
          "type": "struct"
         },
         "tableIdentifier": null,
         "typeStr": "pyspark.sql.connect.dataframe.DataFrame"
        }
       ],
       "dbfsResultPath": null,
       "isJsonSchema": true,
       "metadata": {
        "createTempViewForImplicitDf": true,
        "dataframeName": "_sqldf",
        "executionCount": 3
       },
       "overflow": false,
       "plotOptions": {
        "customPlotOptions": {},
        "displayType": "table",
        "pivotAggregation": null,
        "pivotColumns": null,
        "xColumns": null,
        "yColumns": null
       },
       "removedWidgets": [],
       "schema": [
        {
         "metadata": "{}",
         "name": "created_timestamp",
         "type": "\"string\""
        },
        {
         "metadata": "{}",
         "name": "customer_id",
         "type": "\"long\""
        },
        {
         "metadata": "{}",
         "name": "customer_name",
         "type": "\"string\""
        },
        {
         "metadata": "{}",
         "name": "date_of_birth",
         "type": "\"string\""
        },
        {
         "metadata": "{}",
         "name": "email",
         "type": "\"string\""
        },
        {
         "metadata": "{}",
         "name": "member_since",
         "type": "\"string\""
        },
        {
         "metadata": "{}",
         "name": "telephone",
         "type": "\"string\""
        },
        {
         "metadata": "{}",
         "name": "file_path",
         "type": "\"string\""
        }
       ],
       "type": "table"
      }
     },
     "output_type": "display_data"
    }
   ],
   "source": [
    "%sql\n",
    "select *\n",
    "  from gizmobox.bronze.v_customers\n",
    "where customer_id is not null\n",
    "order by customer_id;"
   ]
  },
  {
   "cell_type": "markdown",
   "metadata": {
    "application/vnd.databricks.v1+cell": {
     "cellMetadata": {},
     "inputWidgets": {},
     "nuid": "893be962-01fe-4ed0-aa67-2fc420cfe475",
     "showTitle": false,
     "tableResultSettingsMap": {},
     "title": ""
    }
   },
   "source": [
    "#### 3- Remove duplicate records based on created_timestamp"
   ]
  },
  {
   "cell_type": "code",
   "execution_count": 0,
   "metadata": {
    "application/vnd.databricks.v1+cell": {
     "cellMetadata": {
      "byteLimit": 2048000,
      "implicitDf": true,
      "rowLimit": 10000
     },
     "inputWidgets": {},
     "nuid": "2a68b9a2-31d3-4b8f-bbac-d69f8accd410",
     "showTitle": false,
     "tableResultSettingsMap": {},
     "title": ""
    }
   },
   "outputs": [
    {
     "output_type": "display_data",
     "data": {
      "text/html": [
       "<style scoped>\n",
       "  .table-result-container {\n",
       "    max-height: 300px;\n",
       "    overflow: auto;\n",
       "  }\n",
       "  table, th, td {\n",
       "    border: 1px solid black;\n",
       "    border-collapse: collapse;\n",
       "  }\n",
       "  th, td {\n",
       "    padding: 5px;\n",
       "  }\n",
       "  th {\n",
       "    text-align: left;\n",
       "  }\n",
       "</style><div class='table-result-container'><table class='table-result'><thead style='background-color: white'><tr><th>created_timestamp</th><th>customer_id</th><th>customer_name</th><th>date_of_birth</th><th>email</th><th>member_since</th><th>telephone</th><th>file_path</th></tr></thead><tbody><tr><td>2024-12-16 16:54:10</td><td>1211</td><td>Jeremy Ball</td><td>2002-03-26</td><td>megan86@yahoo.com</td><td>2024-12-01</td><td>+1 5793543882</td><td>dbfs:/Volumes/gizmobox/landing/operational_data/customers/customers_2024_12.json</td></tr><tr><td>2024-11-16 01:47:25</td><td>1987</td><td>Amanda Alvarez</td><td>1995-10-11</td><td>eric40@outlook.com</td><td>2024-10-27</td><td>+1 9673066300</td><td>dbfs:/Volumes/gizmobox/landing/operational_data/customers/customers_2024_11.json</td></tr><tr><td>2024-11-03 17:22:56</td><td>2054</td><td>Alan Price</td><td>1998-08-25</td><td>connor40@yahoo.com</td><td>2024-10-14</td><td>+1 3745642936</td><td>dbfs:/Volumes/gizmobox/landing/operational_data/customers/customers_2024_11.json</td></tr><tr><td>2024-12-17 15:05:15</td><td>2141</td><td>Zachary Lopez</td><td>2002-09-20</td><td>glenn87@example.org</td><td>2024-12-14</td><td>+1 7431190983</td><td>dbfs:/Volumes/gizmobox/landing/operational_data/customers/customers_2024_12.json</td></tr><tr><td>2024-10-26 15:14:33</td><td>2344</td><td>Martin Thomas DDS</td><td>2002-05-01</td><td>billy42@outlook.com</td><td>2024-10-13</td><td>+1 0201457151</td><td>dbfs:/Volumes/gizmobox/landing/operational_data/customers/customers_2024_10.json</td></tr><tr><td>2024-12-21 07:08:28</td><td>2639</td><td>Jessica Deleon</td><td>1995-06-04</td><td>jeremiah96@gmail.com</td><td>2024-11-22</td><td>+1 1304435999</td><td>dbfs:/Volumes/gizmobox/landing/operational_data/customers/customers_2024_12.json</td></tr><tr><td>2024-11-07 22:20:00</td><td>2703</td><td>Anthony Miller</td><td>1997-11-02</td><td>null</td><td>2024-11-05</td><td>+1 1586310752</td><td>dbfs:/Volumes/gizmobox/landing/operational_data/customers/customers_2024_11.json</td></tr><tr><td>2024-12-20 12:32:29</td><td>3084</td><td>Tyler Simmons</td><td>2003-02-20</td><td>brian94@mail.com</td><td>2024-12-02</td><td>null</td><td>dbfs:/Volumes/gizmobox/landing/operational_data/customers/customers_2024_12.json</td></tr><tr><td>2025-01-17 07:50:48</td><td>3295</td><td>Drew Hanson</td><td>1996-11-21</td><td>cathy31@gmail.com</td><td>2025-01-01</td><td>+1 6521792889</td><td>dbfs:/Volumes/gizmobox/landing/operational_data/customers/customers_2025_01.json</td></tr><tr><td>2024-10-02 14:53:40</td><td>3409</td><td>Andrew Phillips</td><td>2003-04-17</td><td>peter73@yahoo.com</td><td>2024-09-30</td><td>+1 4079273853</td><td>dbfs:/Volumes/gizmobox/landing/operational_data/customers/customers_2024_10.json</td></tr><tr><td>2024-12-26 09:29:16</td><td>3532</td><td>Holly Wilkinson</td><td>2003-03-06</td><td>lindsey61@yahoo.com</td><td>2024-12-22</td><td>null</td><td>dbfs:/Volumes/gizmobox/landing/operational_data/customers/customers_2024_12.json</td></tr><tr><td>2024-11-24 11:14:03</td><td>3712</td><td>Robin Chavez</td><td>1997-03-16</td><td>lisa15@gmail.com</td><td>2024-11-24</td><td>+1 2654756919</td><td>dbfs:/Volumes/gizmobox/landing/operational_data/customers/customers_2024_11.json</td></tr><tr><td>2024-10-09 18:54:00</td><td>3889</td><td>Jennifer Jackson</td><td>1995-10-30</td><td>null</td><td>2024-09-16</td><td>+68 2276996612</td><td>dbfs:/Volumes/gizmobox/landing/operational_data/customers/customers_2024_10.json</td></tr><tr><td>2025-01-25 13:28:31</td><td>3889</td><td>Jennifer Jackson</td><td>1995-10-30</td><td>catherine77@example.org</td><td>2025-01-07</td><td>+1 5932456755</td><td>dbfs:/Volumes/gizmobox/landing/operational_data/customers/customers_2025_01.json</td></tr><tr><td>2024-11-14 20:41:18</td><td>3892</td><td>Jason Bridges</td><td>2004-01-01</td><td>nicole29@gmail.com</td><td>2024-10-29</td><td>+1 8220011928</td><td>dbfs:/Volumes/gizmobox/landing/operational_data/customers/customers_2024_11.json</td></tr><tr><td>2024-11-23 18:16:18</td><td>4468</td><td>Mrs. Roberta Salas PhD</td><td>1997-05-10</td><td>null</td><td>2024-10-25</td><td>+1 4679955118</td><td>dbfs:/Volumes/gizmobox/landing/operational_data/customers/customers_2024_11.json</td></tr><tr><td>2024-11-14 16:41:14</td><td>4761</td><td>Timothy Smith</td><td>1996-11-07</td><td>joshua40@yahoo.com</td><td>2024-11-03</td><td>+1 9450920858</td><td>dbfs:/Volumes/gizmobox/landing/operational_data/customers/customers_2024_11.json</td></tr><tr><td>2024-10-01 00:50:29</td><td>4858</td><td>Carla Morton</td><td>2004-06-21</td><td>joseph88@mail.com</td><td>2024-09-15</td><td>+1 8616454195</td><td>dbfs:/Volumes/gizmobox/landing/operational_data/customers/customers_2024_10.json</td></tr><tr><td>2024-11-12 12:57:38</td><td>4914</td><td>Samantha Johnson</td><td>1997-03-26</td><td>theresa14@mail.com</td><td>2024-10-13</td><td>+1 4095003738</td><td>dbfs:/Volumes/gizmobox/landing/operational_data/customers/customers_2024_11.json</td></tr><tr><td>2025-01-26 09:46:03</td><td>4973</td><td>Daniel Thompson</td><td>1999-07-17</td><td>connor32@example.org</td><td>2024-12-27</td><td>+1 5823046206</td><td>dbfs:/Volumes/gizmobox/landing/operational_data/customers/customers_2025_01.json</td></tr><tr><td>2024-11-27 12:56:20</td><td>4996</td><td>Brandon Reed</td><td>1997-05-11</td><td>handerson@barker.info</td><td>2024-11-06</td><td>+43 2750540511</td><td>dbfs:/Volumes/gizmobox/landing/operational_data/customers/customers_2024_11.json</td></tr><tr><td>2025-01-12 20:13:31</td><td>4996</td><td>Brandon Reed</td><td>1997-05-11</td><td>stacey71@yahoo.com</td><td>2024-12-13</td><td>null</td><td>dbfs:/Volumes/gizmobox/landing/operational_data/customers/customers_2025_01.json</td></tr><tr><td>2024-10-15 02:48:29</td><td>5011</td><td>Rachel Thomas</td><td>2003-02-17</td><td>lauren59@yahoo.com</td><td>2024-09-24</td><td>+1 5437271621</td><td>dbfs:/Volumes/gizmobox/landing/operational_data/customers/customers_2024_10.json</td></tr><tr><td>2024-10-06 19:55:52</td><td>5028</td><td>Jessica Harris</td><td>2004-04-19</td><td>null</td><td>2024-09-10</td><td>+1 8604009935</td><td>dbfs:/Volumes/gizmobox/landing/operational_data/customers/customers_2024_10.json</td></tr><tr><td>2024-11-09 14:52:31</td><td>5204</td><td>Jennifer Nichols DDS</td><td>1997-02-17</td><td>joseph8@example.org</td><td>2024-11-04</td><td>+1 0383356328</td><td>dbfs:/Volumes/gizmobox/landing/operational_data/customers/customers_2024_11.json</td></tr><tr><td>2024-12-04 13:16:03</td><td>5592</td><td>Richard Neal</td><td>1995-11-05</td><td>eric52@gmail.com</td><td>2024-11-15</td><td>+1 4425187397</td><td>dbfs:/Volumes/gizmobox/landing/operational_data/customers/customers_2024_12.json</td></tr><tr><td>2024-10-08 03:30:53</td><td>5816</td><td>Amy Morales</td><td>1999-12-11</td><td>daniel12@hotmail.com</td><td>2024-09-17</td><td>+46 4407385044</td><td>dbfs:/Volumes/gizmobox/landing/operational_data/customers/customers_2024_10.json</td></tr><tr><td>2024-11-19 14:03:09</td><td>5816</td><td>Amy Morales</td><td>1999-12-11</td><td>katelyn82@example.org</td><td>2024-11-04</td><td>+1 4140982719</td><td>dbfs:/Volumes/gizmobox/landing/operational_data/customers/customers_2024_11.json</td></tr><tr><td>2025-01-17 15:59:39</td><td>5953</td><td>Kevin Harris</td><td>2003-01-23</td><td>timothy99@mail.com</td><td>2024-12-31</td><td>+1 6517763640</td><td>dbfs:/Volumes/gizmobox/landing/operational_data/customers/customers_2025_01.json</td></tr><tr><td>2025-01-14 18:31:28</td><td>6167</td><td>Leslie Smith</td><td>2001-10-28</td><td>angela16@mail.com</td><td>2024-12-16</td><td>+1 2978446880</td><td>dbfs:/Volumes/gizmobox/landing/operational_data/customers/customers_2025_01.json</td></tr><tr><td>2024-12-24 14:46:04</td><td>6384</td><td>Jennifer Carrillo</td><td>1994-12-18</td><td>james34@yahoo.com</td><td>2024-12-22</td><td>+1 5592179843</td><td>dbfs:/Volumes/gizmobox/landing/operational_data/customers/customers_2024_12.json</td></tr><tr><td>2024-12-13 14:23:27</td><td>6406</td><td>Christopher Ritter</td><td>2004-07-12</td><td>null</td><td>2024-11-24</td><td>+1 1752511241</td><td>dbfs:/Volumes/gizmobox/landing/operational_data/customers/customers_2024_12.json</td></tr><tr><td>2024-10-22 05:52:57</td><td>6627</td><td>Candice Rosales</td><td>2004-04-03</td><td>amber79@example.org</td><td>2024-10-15</td><td>+1 4788451559</td><td>dbfs:/Volumes/gizmobox/landing/operational_data/customers/customers_2024_10.json</td></tr><tr><td>2024-12-25 11:06:35</td><td>6973</td><td>Tracy Cole</td><td>1998-07-24</td><td>tony46@mail.com</td><td>2024-12-16</td><td>+1 5515836612</td><td>dbfs:/Volumes/gizmobox/landing/operational_data/customers/customers_2024_12.json</td></tr><tr><td>2025-01-05 17:29:34</td><td>7007</td><td>Joe Castaneda</td><td>1999-04-27</td><td>michael34@mail.com</td><td>2024-12-31</td><td>+1 1767970338</td><td>dbfs:/Volumes/gizmobox/landing/operational_data/customers/customers_2025_01.json</td></tr><tr><td>2024-11-09 07:14:17</td><td>7123</td><td>Edgar Stevens</td><td>2003-02-15</td><td>kevin68@example.org</td><td>2024-10-27</td><td>+1 0793189847</td><td>dbfs:/Volumes/gizmobox/landing/operational_data/customers/customers_2024_11.json</td></tr><tr><td>2024-10-23 22:03:08</td><td>7207</td><td>Billy Scott</td><td>1997-03-17</td><td>christopher30@mail.com</td><td>2024-09-23</td><td>+1 5544387564</td><td>dbfs:/Volumes/gizmobox/landing/operational_data/customers/customers_2024_10.json</td></tr><tr><td>2024-11-08 02:26:42</td><td>7295</td><td>Lauren Reed</td><td>2001-08-11</td><td>jeanette48@example.org</td><td>2024-10-10</td><td>+1 0104088765</td><td>dbfs:/Volumes/gizmobox/landing/operational_data/customers/customers_2024_11.json</td></tr><tr><td>2024-11-09 20:24:30</td><td>7803</td><td>Katherine Lee</td><td>2000-03-09</td><td>jennifer85@mail.com</td><td>2024-10-27</td><td>+1 3119886866</td><td>dbfs:/Volumes/gizmobox/landing/operational_data/customers/customers_2024_11.json</td></tr><tr><td>2024-12-07 18:09:58</td><td>7829</td><td>Daniel Black</td><td>1998-04-13</td><td>sandra54@example.org</td><td>2024-11-16</td><td>+1 0933795082</td><td>dbfs:/Volumes/gizmobox/landing/operational_data/customers/customers_2024_12.json</td></tr><tr><td>2024-12-22 23:00:48</td><td>7997</td><td>Patricia Abbott</td><td>1997-07-31</td><td>angela97@mail.com</td><td>2024-11-28</td><td>+1 4053366448</td><td>dbfs:/Volumes/gizmobox/landing/operational_data/customers/customers_2024_12.json</td></tr><tr><td>2024-10-12 06:02:27</td><td>8539</td><td>Lori Mason</td><td>2002-11-01</td><td>stephanie7@mail.com</td><td>2024-09-12</td><td>+1 0498301620</td><td>dbfs:/Volumes/gizmobox/landing/operational_data/customers/customers_2024_10.json</td></tr><tr><td>2024-10-21 13:20:26</td><td>8580</td><td>Shannon Austin</td><td>2002-03-22</td><td>john30@gmail.com</td><td>2024-10-07</td><td>+1 4594705629</td><td>dbfs:/Volumes/gizmobox/landing/operational_data/customers/customers_2024_10.json</td></tr><tr><td>2025-01-16 21:17:22</td><td>8845</td><td>Joseph Robbins</td><td>1997-04-04</td><td>derek53@yahoo.com</td><td>2025-01-12</td><td>+1 9513893820</td><td>dbfs:/Volumes/gizmobox/landing/operational_data/customers/customers_2025_01.json</td></tr><tr><td>2024-10-18 23:24:52</td><td>9018</td><td>William Carter</td><td>2003-09-05</td><td>james70@gmail.com</td><td>2024-10-08</td><td>+1 1448753611</td><td>dbfs:/Volumes/gizmobox/landing/operational_data/customers/customers_2024_10.json</td></tr><tr><td>2024-10-10 16:53:44</td><td>9084</td><td>Olivia Lyons</td><td>1997-06-17</td><td>johnsonmichael@yahoo.com</td><td>2024-09-26</td><td>null</td><td>dbfs:/Volumes/gizmobox/landing/operational_data/customers/customers_2024_10.json</td></tr><tr><td>2025-01-03 03:28:34</td><td>9084</td><td>Olivia Lyons</td><td>1997-06-17</td><td>patty47@outlook.com</td><td>2024-12-16</td><td>+1 2909899135</td><td>dbfs:/Volumes/gizmobox/landing/operational_data/customers/customers_2025_01.json</td></tr><tr><td>2025-01-23 02:07:26</td><td>9150</td><td>Alison Davis</td><td>2004-01-17</td><td>jacob31@yahoo.com</td><td>2024-12-26</td><td>+1 7119851149</td><td>dbfs:/Volumes/gizmobox/landing/operational_data/customers/customers_2025_01.json</td></tr><tr><td>2024-10-17 16:12:27</td><td>9179</td><td>Richard Cox</td><td>1996-10-25</td><td>devon84@mail.com</td><td>2024-09-26</td><td>+1 6680703335</td><td>dbfs:/Volumes/gizmobox/landing/operational_data/customers/customers_2024_10.json</td></tr><tr><td>2024-10-28 00:57:09</td><td>9247</td><td>Dr. Daniel Hall</td><td>2004-03-21</td><td>tamara30@gmail.com</td><td>2024-10-03</td><td>+1 7544137170</td><td>dbfs:/Volumes/gizmobox/landing/operational_data/customers/customers_2024_10.json</td></tr><tr><td>2024-10-15 01:27:54</td><td>9247</td><td>Dr. Daniel Hall</td><td>2004-03-21</td><td>sheena11@alexander.com</td><td>2024-09-15</td><td>+46 7281991017</td><td>dbfs:/Volumes/gizmobox/landing/operational_data/customers/customers_2024_10.json</td></tr><tr><td>2024-10-08 22:49:25</td><td>9263</td><td>Joseph Keller</td><td>2003-02-11</td><td>null</td><td>2024-10-04</td><td>+1 3817867756</td><td>dbfs:/Volumes/gizmobox/landing/operational_data/customers/customers_2024_10.json</td></tr><tr><td>2025-01-14 13:30:57</td><td>9605</td><td>Tiffany Rocha</td><td>2003-04-25</td><td>michael82@yahoo.com</td><td>2024-12-22</td><td>+1 6232811506</td><td>dbfs:/Volumes/gizmobox/landing/operational_data/customers/customers_2025_01.json</td></tr><tr><td>2024-12-05 08:58:52</td><td>9687</td><td>Micheal Perez MD</td><td>2002-07-18</td><td>christopher65@example.org</td><td>2024-11-22</td><td>+1 3079718622</td><td>dbfs:/Volumes/gizmobox/landing/operational_data/customers/customers_2024_12.json</td></tr><tr><td>2024-10-24 13:03:13</td><td>9706</td><td>Jennifer Haas</td><td>2001-04-03</td><td>benjamin55@mail.com</td><td>2024-10-05</td><td>+1 4725460000</td><td>dbfs:/Volumes/gizmobox/landing/operational_data/customers/customers_2024_10.json</td></tr></tbody></table></div>"
      ]
     },
     "metadata": {
      "application/vnd.databricks.v1+output": {
       "addedWidgets": {},
       "aggData": [],
       "aggError": "",
       "aggOverflow": false,
       "aggSchema": [],
       "aggSeriesLimitReached": false,
       "aggType": "",
       "arguments": {},
       "columnCustomDisplayInfos": {},
       "data": [
        [
         "2024-12-16 16:54:10",
         1211,
         "Jeremy Ball",
         "2002-03-26",
         "megan86@yahoo.com",
         "2024-12-01",
         "+1 5793543882",
         "dbfs:/Volumes/gizmobox/landing/operational_data/customers/customers_2024_12.json"
        ],
        [
         "2024-11-16 01:47:25",
         1987,
         "Amanda Alvarez",
         "1995-10-11",
         "eric40@outlook.com",
         "2024-10-27",
         "+1 9673066300",
         "dbfs:/Volumes/gizmobox/landing/operational_data/customers/customers_2024_11.json"
        ],
        [
         "2024-11-03 17:22:56",
         2054,
         "Alan Price",
         "1998-08-25",
         "connor40@yahoo.com",
         "2024-10-14",
         "+1 3745642936",
         "dbfs:/Volumes/gizmobox/landing/operational_data/customers/customers_2024_11.json"
        ],
        [
         "2024-12-17 15:05:15",
         2141,
         "Zachary Lopez",
         "2002-09-20",
         "glenn87@example.org",
         "2024-12-14",
         "+1 7431190983",
         "dbfs:/Volumes/gizmobox/landing/operational_data/customers/customers_2024_12.json"
        ],
        [
         "2024-10-26 15:14:33",
         2344,
         "Martin Thomas DDS",
         "2002-05-01",
         "billy42@outlook.com",
         "2024-10-13",
         "+1 0201457151",
         "dbfs:/Volumes/gizmobox/landing/operational_data/customers/customers_2024_10.json"
        ],
        [
         "2024-12-21 07:08:28",
         2639,
         "Jessica Deleon",
         "1995-06-04",
         "jeremiah96@gmail.com",
         "2024-11-22",
         "+1 1304435999",
         "dbfs:/Volumes/gizmobox/landing/operational_data/customers/customers_2024_12.json"
        ],
        [
         "2024-11-07 22:20:00",
         2703,
         "Anthony Miller",
         "1997-11-02",
         null,
         "2024-11-05",
         "+1 1586310752",
         "dbfs:/Volumes/gizmobox/landing/operational_data/customers/customers_2024_11.json"
        ],
        [
         "2024-12-20 12:32:29",
         3084,
         "Tyler Simmons",
         "2003-02-20",
         "brian94@mail.com",
         "2024-12-02",
         null,
         "dbfs:/Volumes/gizmobox/landing/operational_data/customers/customers_2024_12.json"
        ],
        [
         "2025-01-17 07:50:48",
         3295,
         "Drew Hanson",
         "1996-11-21",
         "cathy31@gmail.com",
         "2025-01-01",
         "+1 6521792889",
         "dbfs:/Volumes/gizmobox/landing/operational_data/customers/customers_2025_01.json"
        ],
        [
         "2024-10-02 14:53:40",
         3409,
         "Andrew Phillips",
         "2003-04-17",
         "peter73@yahoo.com",
         "2024-09-30",
         "+1 4079273853",
         "dbfs:/Volumes/gizmobox/landing/operational_data/customers/customers_2024_10.json"
        ],
        [
         "2024-12-26 09:29:16",
         3532,
         "Holly Wilkinson",
         "2003-03-06",
         "lindsey61@yahoo.com",
         "2024-12-22",
         null,
         "dbfs:/Volumes/gizmobox/landing/operational_data/customers/customers_2024_12.json"
        ],
        [
         "2024-11-24 11:14:03",
         3712,
         "Robin Chavez",
         "1997-03-16",
         "lisa15@gmail.com",
         "2024-11-24",
         "+1 2654756919",
         "dbfs:/Volumes/gizmobox/landing/operational_data/customers/customers_2024_11.json"
        ],
        [
         "2024-10-09 18:54:00",
         3889,
         "Jennifer Jackson",
         "1995-10-30",
         null,
         "2024-09-16",
         "+68 2276996612",
         "dbfs:/Volumes/gizmobox/landing/operational_data/customers/customers_2024_10.json"
        ],
        [
         "2025-01-25 13:28:31",
         3889,
         "Jennifer Jackson",
         "1995-10-30",
         "catherine77@example.org",
         "2025-01-07",
         "+1 5932456755",
         "dbfs:/Volumes/gizmobox/landing/operational_data/customers/customers_2025_01.json"
        ],
        [
         "2024-11-14 20:41:18",
         3892,
         "Jason Bridges",
         "2004-01-01",
         "nicole29@gmail.com",
         "2024-10-29",
         "+1 8220011928",
         "dbfs:/Volumes/gizmobox/landing/operational_data/customers/customers_2024_11.json"
        ],
        [
         "2024-11-23 18:16:18",
         4468,
         "Mrs. Roberta Salas PhD",
         "1997-05-10",
         null,
         "2024-10-25",
         "+1 4679955118",
         "dbfs:/Volumes/gizmobox/landing/operational_data/customers/customers_2024_11.json"
        ],
        [
         "2024-11-14 16:41:14",
         4761,
         "Timothy Smith",
         "1996-11-07",
         "joshua40@yahoo.com",
         "2024-11-03",
         "+1 9450920858",
         "dbfs:/Volumes/gizmobox/landing/operational_data/customers/customers_2024_11.json"
        ],
        [
         "2024-10-01 00:50:29",
         4858,
         "Carla Morton",
         "2004-06-21",
         "joseph88@mail.com",
         "2024-09-15",
         "+1 8616454195",
         "dbfs:/Volumes/gizmobox/landing/operational_data/customers/customers_2024_10.json"
        ],
        [
         "2024-11-12 12:57:38",
         4914,
         "Samantha Johnson",
         "1997-03-26",
         "theresa14@mail.com",
         "2024-10-13",
         "+1 4095003738",
         "dbfs:/Volumes/gizmobox/landing/operational_data/customers/customers_2024_11.json"
        ],
        [
         "2025-01-26 09:46:03",
         4973,
         "Daniel Thompson",
         "1999-07-17",
         "connor32@example.org",
         "2024-12-27",
         "+1 5823046206",
         "dbfs:/Volumes/gizmobox/landing/operational_data/customers/customers_2025_01.json"
        ],
        [
         "2024-11-27 12:56:20",
         4996,
         "Brandon Reed",
         "1997-05-11",
         "handerson@barker.info",
         "2024-11-06",
         "+43 2750540511",
         "dbfs:/Volumes/gizmobox/landing/operational_data/customers/customers_2024_11.json"
        ],
        [
         "2025-01-12 20:13:31",
         4996,
         "Brandon Reed",
         "1997-05-11",
         "stacey71@yahoo.com",
         "2024-12-13",
         null,
         "dbfs:/Volumes/gizmobox/landing/operational_data/customers/customers_2025_01.json"
        ],
        [
         "2024-10-15 02:48:29",
         5011,
         "Rachel Thomas",
         "2003-02-17",
         "lauren59@yahoo.com",
         "2024-09-24",
         "+1 5437271621",
         "dbfs:/Volumes/gizmobox/landing/operational_data/customers/customers_2024_10.json"
        ],
        [
         "2024-10-06 19:55:52",
         5028,
         "Jessica Harris",
         "2004-04-19",
         null,
         "2024-09-10",
         "+1 8604009935",
         "dbfs:/Volumes/gizmobox/landing/operational_data/customers/customers_2024_10.json"
        ],
        [
         "2024-11-09 14:52:31",
         5204,
         "Jennifer Nichols DDS",
         "1997-02-17",
         "joseph8@example.org",
         "2024-11-04",
         "+1 0383356328",
         "dbfs:/Volumes/gizmobox/landing/operational_data/customers/customers_2024_11.json"
        ],
        [
         "2024-12-04 13:16:03",
         5592,
         "Richard Neal",
         "1995-11-05",
         "eric52@gmail.com",
         "2024-11-15",
         "+1 4425187397",
         "dbfs:/Volumes/gizmobox/landing/operational_data/customers/customers_2024_12.json"
        ],
        [
         "2024-10-08 03:30:53",
         5816,
         "Amy Morales",
         "1999-12-11",
         "daniel12@hotmail.com",
         "2024-09-17",
         "+46 4407385044",
         "dbfs:/Volumes/gizmobox/landing/operational_data/customers/customers_2024_10.json"
        ],
        [
         "2024-11-19 14:03:09",
         5816,
         "Amy Morales",
         "1999-12-11",
         "katelyn82@example.org",
         "2024-11-04",
         "+1 4140982719",
         "dbfs:/Volumes/gizmobox/landing/operational_data/customers/customers_2024_11.json"
        ],
        [
         "2025-01-17 15:59:39",
         5953,
         "Kevin Harris",
         "2003-01-23",
         "timothy99@mail.com",
         "2024-12-31",
         "+1 6517763640",
         "dbfs:/Volumes/gizmobox/landing/operational_data/customers/customers_2025_01.json"
        ],
        [
         "2025-01-14 18:31:28",
         6167,
         "Leslie Smith",
         "2001-10-28",
         "angela16@mail.com",
         "2024-12-16",
         "+1 2978446880",
         "dbfs:/Volumes/gizmobox/landing/operational_data/customers/customers_2025_01.json"
        ],
        [
         "2024-12-24 14:46:04",
         6384,
         "Jennifer Carrillo",
         "1994-12-18",
         "james34@yahoo.com",
         "2024-12-22",
         "+1 5592179843",
         "dbfs:/Volumes/gizmobox/landing/operational_data/customers/customers_2024_12.json"
        ],
        [
         "2024-12-13 14:23:27",
         6406,
         "Christopher Ritter",
         "2004-07-12",
         null,
         "2024-11-24",
         "+1 1752511241",
         "dbfs:/Volumes/gizmobox/landing/operational_data/customers/customers_2024_12.json"
        ],
        [
         "2024-10-22 05:52:57",
         6627,
         "Candice Rosales",
         "2004-04-03",
         "amber79@example.org",
         "2024-10-15",
         "+1 4788451559",
         "dbfs:/Volumes/gizmobox/landing/operational_data/customers/customers_2024_10.json"
        ],
        [
         "2024-12-25 11:06:35",
         6973,
         "Tracy Cole",
         "1998-07-24",
         "tony46@mail.com",
         "2024-12-16",
         "+1 5515836612",
         "dbfs:/Volumes/gizmobox/landing/operational_data/customers/customers_2024_12.json"
        ],
        [
         "2025-01-05 17:29:34",
         7007,
         "Joe Castaneda",
         "1999-04-27",
         "michael34@mail.com",
         "2024-12-31",
         "+1 1767970338",
         "dbfs:/Volumes/gizmobox/landing/operational_data/customers/customers_2025_01.json"
        ],
        [
         "2024-11-09 07:14:17",
         7123,
         "Edgar Stevens",
         "2003-02-15",
         "kevin68@example.org",
         "2024-10-27",
         "+1 0793189847",
         "dbfs:/Volumes/gizmobox/landing/operational_data/customers/customers_2024_11.json"
        ],
        [
         "2024-10-23 22:03:08",
         7207,
         "Billy Scott",
         "1997-03-17",
         "christopher30@mail.com",
         "2024-09-23",
         "+1 5544387564",
         "dbfs:/Volumes/gizmobox/landing/operational_data/customers/customers_2024_10.json"
        ],
        [
         "2024-11-08 02:26:42",
         7295,
         "Lauren Reed",
         "2001-08-11",
         "jeanette48@example.org",
         "2024-10-10",
         "+1 0104088765",
         "dbfs:/Volumes/gizmobox/landing/operational_data/customers/customers_2024_11.json"
        ],
        [
         "2024-11-09 20:24:30",
         7803,
         "Katherine Lee",
         "2000-03-09",
         "jennifer85@mail.com",
         "2024-10-27",
         "+1 3119886866",
         "dbfs:/Volumes/gizmobox/landing/operational_data/customers/customers_2024_11.json"
        ],
        [
         "2024-12-07 18:09:58",
         7829,
         "Daniel Black",
         "1998-04-13",
         "sandra54@example.org",
         "2024-11-16",
         "+1 0933795082",
         "dbfs:/Volumes/gizmobox/landing/operational_data/customers/customers_2024_12.json"
        ],
        [
         "2024-12-22 23:00:48",
         7997,
         "Patricia Abbott",
         "1997-07-31",
         "angela97@mail.com",
         "2024-11-28",
         "+1 4053366448",
         "dbfs:/Volumes/gizmobox/landing/operational_data/customers/customers_2024_12.json"
        ],
        [
         "2024-10-12 06:02:27",
         8539,
         "Lori Mason",
         "2002-11-01",
         "stephanie7@mail.com",
         "2024-09-12",
         "+1 0498301620",
         "dbfs:/Volumes/gizmobox/landing/operational_data/customers/customers_2024_10.json"
        ],
        [
         "2024-10-21 13:20:26",
         8580,
         "Shannon Austin",
         "2002-03-22",
         "john30@gmail.com",
         "2024-10-07",
         "+1 4594705629",
         "dbfs:/Volumes/gizmobox/landing/operational_data/customers/customers_2024_10.json"
        ],
        [
         "2025-01-16 21:17:22",
         8845,
         "Joseph Robbins",
         "1997-04-04",
         "derek53@yahoo.com",
         "2025-01-12",
         "+1 9513893820",
         "dbfs:/Volumes/gizmobox/landing/operational_data/customers/customers_2025_01.json"
        ],
        [
         "2024-10-18 23:24:52",
         9018,
         "William Carter",
         "2003-09-05",
         "james70@gmail.com",
         "2024-10-08",
         "+1 1448753611",
         "dbfs:/Volumes/gizmobox/landing/operational_data/customers/customers_2024_10.json"
        ],
        [
         "2024-10-10 16:53:44",
         9084,
         "Olivia Lyons",
         "1997-06-17",
         "johnsonmichael@yahoo.com",
         "2024-09-26",
         null,
         "dbfs:/Volumes/gizmobox/landing/operational_data/customers/customers_2024_10.json"
        ],
        [
         "2025-01-03 03:28:34",
         9084,
         "Olivia Lyons",
         "1997-06-17",
         "patty47@outlook.com",
         "2024-12-16",
         "+1 2909899135",
         "dbfs:/Volumes/gizmobox/landing/operational_data/customers/customers_2025_01.json"
        ],
        [
         "2025-01-23 02:07:26",
         9150,
         "Alison Davis",
         "2004-01-17",
         "jacob31@yahoo.com",
         "2024-12-26",
         "+1 7119851149",
         "dbfs:/Volumes/gizmobox/landing/operational_data/customers/customers_2025_01.json"
        ],
        [
         "2024-10-17 16:12:27",
         9179,
         "Richard Cox",
         "1996-10-25",
         "devon84@mail.com",
         "2024-09-26",
         "+1 6680703335",
         "dbfs:/Volumes/gizmobox/landing/operational_data/customers/customers_2024_10.json"
        ],
        [
         "2024-10-28 00:57:09",
         9247,
         "Dr. Daniel Hall",
         "2004-03-21",
         "tamara30@gmail.com",
         "2024-10-03",
         "+1 7544137170",
         "dbfs:/Volumes/gizmobox/landing/operational_data/customers/customers_2024_10.json"
        ],
        [
         "2024-10-15 01:27:54",
         9247,
         "Dr. Daniel Hall",
         "2004-03-21",
         "sheena11@alexander.com",
         "2024-09-15",
         "+46 7281991017",
         "dbfs:/Volumes/gizmobox/landing/operational_data/customers/customers_2024_10.json"
        ],
        [
         "2024-10-08 22:49:25",
         9263,
         "Joseph Keller",
         "2003-02-11",
         null,
         "2024-10-04",
         "+1 3817867756",
         "dbfs:/Volumes/gizmobox/landing/operational_data/customers/customers_2024_10.json"
        ],
        [
         "2025-01-14 13:30:57",
         9605,
         "Tiffany Rocha",
         "2003-04-25",
         "michael82@yahoo.com",
         "2024-12-22",
         "+1 6232811506",
         "dbfs:/Volumes/gizmobox/landing/operational_data/customers/customers_2025_01.json"
        ],
        [
         "2024-12-05 08:58:52",
         9687,
         "Micheal Perez MD",
         "2002-07-18",
         "christopher65@example.org",
         "2024-11-22",
         "+1 3079718622",
         "dbfs:/Volumes/gizmobox/landing/operational_data/customers/customers_2024_12.json"
        ],
        [
         "2024-10-24 13:03:13",
         9706,
         "Jennifer Haas",
         "2001-04-03",
         "benjamin55@mail.com",
         "2024-10-05",
         "+1 4725460000",
         "dbfs:/Volumes/gizmobox/landing/operational_data/customers/customers_2024_10.json"
        ]
       ],
       "datasetInfos": [
        {
         "name": "_sqldf",
         "schema": {
          "fields": [
           {
            "metadata": {},
            "name": "created_timestamp",
            "nullable": true,
            "type": "string"
           },
           {
            "metadata": {},
            "name": "customer_id",
            "nullable": true,
            "type": "long"
           },
           {
            "metadata": {},
            "name": "customer_name",
            "nullable": true,
            "type": "string"
           },
           {
            "metadata": {},
            "name": "date_of_birth",
            "nullable": true,
            "type": "string"
           },
           {
            "metadata": {},
            "name": "email",
            "nullable": true,
            "type": "string"
           },
           {
            "metadata": {},
            "name": "member_since",
            "nullable": true,
            "type": "string"
           },
           {
            "metadata": {},
            "name": "telephone",
            "nullable": true,
            "type": "string"
           },
           {
            "metadata": {},
            "name": "file_path",
            "nullable": false,
            "type": "string"
           }
          ],
          "type": "struct"
         },
         "tableIdentifier": null,
         "typeStr": "pyspark.sql.connect.dataframe.DataFrame"
        }
       ],
       "dbfsResultPath": null,
       "isJsonSchema": true,
       "metadata": {
        "createTempViewForImplicitDf": true,
        "dataframeName": "_sqldf",
        "executionCount": 5
       },
       "overflow": false,
       "plotOptions": {
        "customPlotOptions": {},
        "displayType": "table",
        "pivotAggregation": null,
        "pivotColumns": null,
        "xColumns": null,
        "yColumns": null
       },
       "removedWidgets": [],
       "schema": [
        {
         "metadata": "{}",
         "name": "created_timestamp",
         "type": "\"string\""
        },
        {
         "metadata": "{}",
         "name": "customer_id",
         "type": "\"long\""
        },
        {
         "metadata": "{}",
         "name": "customer_name",
         "type": "\"string\""
        },
        {
         "metadata": "{}",
         "name": "date_of_birth",
         "type": "\"string\""
        },
        {
         "metadata": "{}",
         "name": "email",
         "type": "\"string\""
        },
        {
         "metadata": "{}",
         "name": "member_since",
         "type": "\"string\""
        },
        {
         "metadata": "{}",
         "name": "telephone",
         "type": "\"string\""
        },
        {
         "metadata": "{}",
         "name": "file_path",
         "type": "\"string\""
        }
       ],
       "type": "table"
      }
     },
     "output_type": "display_data"
    }
   ],
   "source": [
    "%sql\n",
    "select distinct *\n",
    "  from gizmobox.bronze.v_customers\n",
    "where customer_id is not null\n",
    "order by customer_id;"
   ]
  },
  {
   "cell_type": "code",
   "execution_count": 0,
   "metadata": {
    "application/vnd.databricks.v1+cell": {
     "cellMetadata": {
      "byteLimit": 2048000,
      "implicitDf": true,
      "rowLimit": 10000
     },
     "inputWidgets": {},
     "nuid": "cdd31c19-d684-4239-8901-fd10fdf053d1",
     "showTitle": false,
     "tableResultSettingsMap": {},
     "title": ""
    }
   },
   "outputs": [
    {
     "output_type": "display_data",
     "data": {
      "text/html": [
       "<style scoped>\n",
       "  .table-result-container {\n",
       "    max-height: 300px;\n",
       "    overflow: auto;\n",
       "  }\n",
       "  table, th, td {\n",
       "    border: 1px solid black;\n",
       "    border-collapse: collapse;\n",
       "  }\n",
       "  th, td {\n",
       "    padding: 5px;\n",
       "  }\n",
       "  th {\n",
       "    text-align: left;\n",
       "  }\n",
       "</style><div class='table-result-container'><table class='table-result'><thead style='background-color: white'><tr><th>customer_id</th><th>max(created_timestamp)</th><th>max(customer_name)</th><th>max(date_of_birth)</th><th>max(email)</th><th>max(member_since)</th><th>max(telephone)</th></tr></thead><tbody><tr><td>1211</td><td>2024-12-16 16:54:10</td><td>Jeremy Ball</td><td>2002-03-26</td><td>megan86@yahoo.com</td><td>2024-12-01</td><td>+1 5793543882</td></tr><tr><td>1987</td><td>2024-11-16 01:47:25</td><td>Amanda Alvarez</td><td>1995-10-11</td><td>eric40@outlook.com</td><td>2024-10-27</td><td>+1 9673066300</td></tr><tr><td>2054</td><td>2024-11-03 17:22:56</td><td>Alan Price</td><td>1998-08-25</td><td>connor40@yahoo.com</td><td>2024-10-14</td><td>+1 3745642936</td></tr><tr><td>2141</td><td>2024-12-17 15:05:15</td><td>Zachary Lopez</td><td>2002-09-20</td><td>glenn87@example.org</td><td>2024-12-14</td><td>+1 7431190983</td></tr><tr><td>2344</td><td>2024-10-26 15:14:33</td><td>Martin Thomas DDS</td><td>2002-05-01</td><td>billy42@outlook.com</td><td>2024-10-13</td><td>+1 0201457151</td></tr><tr><td>2639</td><td>2024-12-21 07:08:28</td><td>Jessica Deleon</td><td>1995-06-04</td><td>jeremiah96@gmail.com</td><td>2024-11-22</td><td>+1 1304435999</td></tr><tr><td>2703</td><td>2024-11-07 22:20:00</td><td>Anthony Miller</td><td>1997-11-02</td><td>null</td><td>2024-11-05</td><td>+1 1586310752</td></tr><tr><td>3084</td><td>2024-12-20 12:32:29</td><td>Tyler Simmons</td><td>2003-02-20</td><td>brian94@mail.com</td><td>2024-12-02</td><td>null</td></tr><tr><td>3295</td><td>2025-01-17 07:50:48</td><td>Drew Hanson</td><td>1996-11-21</td><td>cathy31@gmail.com</td><td>2025-01-01</td><td>+1 6521792889</td></tr><tr><td>3409</td><td>2024-10-02 14:53:40</td><td>Andrew Phillips</td><td>2003-04-17</td><td>peter73@yahoo.com</td><td>2024-09-30</td><td>+1 4079273853</td></tr><tr><td>3532</td><td>2024-12-26 09:29:16</td><td>Holly Wilkinson</td><td>2003-03-06</td><td>lindsey61@yahoo.com</td><td>2024-12-22</td><td>null</td></tr><tr><td>3712</td><td>2024-11-24 11:14:03</td><td>Robin Chavez</td><td>1997-03-16</td><td>lisa15@gmail.com</td><td>2024-11-24</td><td>+1 2654756919</td></tr><tr><td>3889</td><td>2025-01-25 13:28:31</td><td>Jennifer Jackson</td><td>1995-10-30</td><td>catherine77@example.org</td><td>2025-01-07</td><td>+68 2276996612</td></tr><tr><td>3892</td><td>2024-11-14 20:41:18</td><td>Jason Bridges</td><td>2004-01-01</td><td>nicole29@gmail.com</td><td>2024-10-29</td><td>+1 8220011928</td></tr><tr><td>4468</td><td>2024-11-23 18:16:18</td><td>Mrs. Roberta Salas PhD</td><td>1997-05-10</td><td>null</td><td>2024-10-25</td><td>+1 4679955118</td></tr><tr><td>4761</td><td>2024-11-14 16:41:14</td><td>Timothy Smith</td><td>1996-11-07</td><td>joshua40@yahoo.com</td><td>2024-11-03</td><td>+1 9450920858</td></tr><tr><td>4858</td><td>2024-10-01 00:50:29</td><td>Carla Morton</td><td>2004-06-21</td><td>joseph88@mail.com</td><td>2024-09-15</td><td>+1 8616454195</td></tr><tr><td>4914</td><td>2024-11-12 12:57:38</td><td>Samantha Johnson</td><td>1997-03-26</td><td>theresa14@mail.com</td><td>2024-10-13</td><td>+1 4095003738</td></tr><tr><td>4973</td><td>2025-01-26 09:46:03</td><td>Daniel Thompson</td><td>1999-07-17</td><td>connor32@example.org</td><td>2024-12-27</td><td>+1 5823046206</td></tr><tr><td>4996</td><td>2025-01-12 20:13:31</td><td>Brandon Reed</td><td>1997-05-11</td><td>stacey71@yahoo.com</td><td>2024-12-13</td><td>+43 2750540511</td></tr><tr><td>5011</td><td>2024-10-15 02:48:29</td><td>Rachel Thomas</td><td>2003-02-17</td><td>lauren59@yahoo.com</td><td>2024-09-24</td><td>+1 5437271621</td></tr><tr><td>5028</td><td>2024-10-06 19:55:52</td><td>Jessica Harris</td><td>2004-04-19</td><td>null</td><td>2024-09-10</td><td>+1 8604009935</td></tr><tr><td>5204</td><td>2024-11-09 14:52:31</td><td>Jennifer Nichols DDS</td><td>1997-02-17</td><td>joseph8@example.org</td><td>2024-11-04</td><td>+1 0383356328</td></tr><tr><td>5592</td><td>2024-12-04 13:16:03</td><td>Richard Neal</td><td>1995-11-05</td><td>eric52@gmail.com</td><td>2024-11-15</td><td>+1 4425187397</td></tr><tr><td>5816</td><td>2024-11-19 14:03:09</td><td>Amy Morales</td><td>1999-12-11</td><td>katelyn82@example.org</td><td>2024-11-04</td><td>+46 4407385044</td></tr><tr><td>5953</td><td>2025-01-17 15:59:39</td><td>Kevin Harris</td><td>2003-01-23</td><td>timothy99@mail.com</td><td>2024-12-31</td><td>+1 6517763640</td></tr><tr><td>6167</td><td>2025-01-14 18:31:28</td><td>Leslie Smith</td><td>2001-10-28</td><td>angela16@mail.com</td><td>2024-12-16</td><td>+1 2978446880</td></tr><tr><td>6384</td><td>2024-12-24 14:46:04</td><td>Jennifer Carrillo</td><td>1994-12-18</td><td>james34@yahoo.com</td><td>2024-12-22</td><td>+1 5592179843</td></tr><tr><td>6406</td><td>2024-12-13 14:23:27</td><td>Christopher Ritter</td><td>2004-07-12</td><td>null</td><td>2024-11-24</td><td>+1 1752511241</td></tr><tr><td>6627</td><td>2024-10-22 05:52:57</td><td>Candice Rosales</td><td>2004-04-03</td><td>amber79@example.org</td><td>2024-10-15</td><td>+1 4788451559</td></tr><tr><td>6973</td><td>2024-12-25 11:06:35</td><td>Tracy Cole</td><td>1998-07-24</td><td>tony46@mail.com</td><td>2024-12-16</td><td>+1 5515836612</td></tr><tr><td>7007</td><td>2025-01-05 17:29:34</td><td>Joe Castaneda</td><td>1999-04-27</td><td>michael34@mail.com</td><td>2024-12-31</td><td>+1 1767970338</td></tr><tr><td>7123</td><td>2024-11-09 07:14:17</td><td>Edgar Stevens</td><td>2003-02-15</td><td>kevin68@example.org</td><td>2024-10-27</td><td>+1 0793189847</td></tr><tr><td>7207</td><td>2024-10-23 22:03:08</td><td>Billy Scott</td><td>1997-03-17</td><td>christopher30@mail.com</td><td>2024-09-23</td><td>+1 5544387564</td></tr><tr><td>7295</td><td>2024-11-08 02:26:42</td><td>Lauren Reed</td><td>2001-08-11</td><td>jeanette48@example.org</td><td>2024-10-10</td><td>+1 0104088765</td></tr><tr><td>7803</td><td>2024-11-09 20:24:30</td><td>Katherine Lee</td><td>2000-03-09</td><td>jennifer85@mail.com</td><td>2024-10-27</td><td>+1 3119886866</td></tr><tr><td>7829</td><td>2024-12-07 18:09:58</td><td>Daniel Black</td><td>1998-04-13</td><td>sandra54@example.org</td><td>2024-11-16</td><td>+1 0933795082</td></tr><tr><td>7997</td><td>2024-12-22 23:00:48</td><td>Patricia Abbott</td><td>1997-07-31</td><td>angela97@mail.com</td><td>2024-11-28</td><td>+1 4053366448</td></tr><tr><td>8539</td><td>2024-10-12 06:02:27</td><td>Lori Mason</td><td>2002-11-01</td><td>stephanie7@mail.com</td><td>2024-09-12</td><td>+1 0498301620</td></tr><tr><td>8580</td><td>2024-10-21 13:20:26</td><td>Shannon Austin</td><td>2002-03-22</td><td>john30@gmail.com</td><td>2024-10-07</td><td>+1 4594705629</td></tr><tr><td>8845</td><td>2025-01-16 21:17:22</td><td>Joseph Robbins</td><td>1997-04-04</td><td>derek53@yahoo.com</td><td>2025-01-12</td><td>+1 9513893820</td></tr><tr><td>9018</td><td>2024-10-18 23:24:52</td><td>William Carter</td><td>2003-09-05</td><td>james70@gmail.com</td><td>2024-10-08</td><td>+1 1448753611</td></tr><tr><td>9084</td><td>2025-01-03 03:28:34</td><td>Olivia Lyons</td><td>1997-06-17</td><td>patty47@outlook.com</td><td>2024-12-16</td><td>+1 2909899135</td></tr><tr><td>9150</td><td>2025-01-23 02:07:26</td><td>Alison Davis</td><td>2004-01-17</td><td>jacob31@yahoo.com</td><td>2024-12-26</td><td>+1 7119851149</td></tr><tr><td>9179</td><td>2024-10-17 16:12:27</td><td>Richard Cox</td><td>1996-10-25</td><td>devon84@mail.com</td><td>2024-09-26</td><td>+1 6680703335</td></tr><tr><td>9247</td><td>2024-10-28 00:57:09</td><td>Dr. Daniel Hall</td><td>2004-03-21</td><td>tamara30@gmail.com</td><td>2024-10-03</td><td>+46 7281991017</td></tr><tr><td>9263</td><td>2024-10-08 22:49:25</td><td>Joseph Keller</td><td>2003-02-11</td><td>null</td><td>2024-10-04</td><td>+1 3817867756</td></tr><tr><td>9605</td><td>2025-01-14 13:30:57</td><td>Tiffany Rocha</td><td>2003-04-25</td><td>michael82@yahoo.com</td><td>2024-12-22</td><td>+1 6232811506</td></tr><tr><td>9687</td><td>2024-12-05 08:58:52</td><td>Micheal Perez MD</td><td>2002-07-18</td><td>christopher65@example.org</td><td>2024-11-22</td><td>+1 3079718622</td></tr><tr><td>9706</td><td>2024-10-24 13:03:13</td><td>Jennifer Haas</td><td>2001-04-03</td><td>benjamin55@mail.com</td><td>2024-10-05</td><td>+1 4725460000</td></tr></tbody></table></div>"
      ]
     },
     "metadata": {
      "application/vnd.databricks.v1+output": {
       "addedWidgets": {},
       "aggData": [],
       "aggError": "",
       "aggOverflow": false,
       "aggSchema": [],
       "aggSeriesLimitReached": false,
       "aggType": "",
       "arguments": {},
       "columnCustomDisplayInfos": {},
       "data": [
        [
         1211,
         "2024-12-16 16:54:10",
         "Jeremy Ball",
         "2002-03-26",
         "megan86@yahoo.com",
         "2024-12-01",
         "+1 5793543882"
        ],
        [
         1987,
         "2024-11-16 01:47:25",
         "Amanda Alvarez",
         "1995-10-11",
         "eric40@outlook.com",
         "2024-10-27",
         "+1 9673066300"
        ],
        [
         2054,
         "2024-11-03 17:22:56",
         "Alan Price",
         "1998-08-25",
         "connor40@yahoo.com",
         "2024-10-14",
         "+1 3745642936"
        ],
        [
         2141,
         "2024-12-17 15:05:15",
         "Zachary Lopez",
         "2002-09-20",
         "glenn87@example.org",
         "2024-12-14",
         "+1 7431190983"
        ],
        [
         2344,
         "2024-10-26 15:14:33",
         "Martin Thomas DDS",
         "2002-05-01",
         "billy42@outlook.com",
         "2024-10-13",
         "+1 0201457151"
        ],
        [
         2639,
         "2024-12-21 07:08:28",
         "Jessica Deleon",
         "1995-06-04",
         "jeremiah96@gmail.com",
         "2024-11-22",
         "+1 1304435999"
        ],
        [
         2703,
         "2024-11-07 22:20:00",
         "Anthony Miller",
         "1997-11-02",
         null,
         "2024-11-05",
         "+1 1586310752"
        ],
        [
         3084,
         "2024-12-20 12:32:29",
         "Tyler Simmons",
         "2003-02-20",
         "brian94@mail.com",
         "2024-12-02",
         null
        ],
        [
         3295,
         "2025-01-17 07:50:48",
         "Drew Hanson",
         "1996-11-21",
         "cathy31@gmail.com",
         "2025-01-01",
         "+1 6521792889"
        ],
        [
         3409,
         "2024-10-02 14:53:40",
         "Andrew Phillips",
         "2003-04-17",
         "peter73@yahoo.com",
         "2024-09-30",
         "+1 4079273853"
        ],
        [
         3532,
         "2024-12-26 09:29:16",
         "Holly Wilkinson",
         "2003-03-06",
         "lindsey61@yahoo.com",
         "2024-12-22",
         null
        ],
        [
         3712,
         "2024-11-24 11:14:03",
         "Robin Chavez",
         "1997-03-16",
         "lisa15@gmail.com",
         "2024-11-24",
         "+1 2654756919"
        ],
        [
         3889,
         "2025-01-25 13:28:31",
         "Jennifer Jackson",
         "1995-10-30",
         "catherine77@example.org",
         "2025-01-07",
         "+68 2276996612"
        ],
        [
         3892,
         "2024-11-14 20:41:18",
         "Jason Bridges",
         "2004-01-01",
         "nicole29@gmail.com",
         "2024-10-29",
         "+1 8220011928"
        ],
        [
         4468,
         "2024-11-23 18:16:18",
         "Mrs. Roberta Salas PhD",
         "1997-05-10",
         null,
         "2024-10-25",
         "+1 4679955118"
        ],
        [
         4761,
         "2024-11-14 16:41:14",
         "Timothy Smith",
         "1996-11-07",
         "joshua40@yahoo.com",
         "2024-11-03",
         "+1 9450920858"
        ],
        [
         4858,
         "2024-10-01 00:50:29",
         "Carla Morton",
         "2004-06-21",
         "joseph88@mail.com",
         "2024-09-15",
         "+1 8616454195"
        ],
        [
         4914,
         "2024-11-12 12:57:38",
         "Samantha Johnson",
         "1997-03-26",
         "theresa14@mail.com",
         "2024-10-13",
         "+1 4095003738"
        ],
        [
         4973,
         "2025-01-26 09:46:03",
         "Daniel Thompson",
         "1999-07-17",
         "connor32@example.org",
         "2024-12-27",
         "+1 5823046206"
        ],
        [
         4996,
         "2025-01-12 20:13:31",
         "Brandon Reed",
         "1997-05-11",
         "stacey71@yahoo.com",
         "2024-12-13",
         "+43 2750540511"
        ],
        [
         5011,
         "2024-10-15 02:48:29",
         "Rachel Thomas",
         "2003-02-17",
         "lauren59@yahoo.com",
         "2024-09-24",
         "+1 5437271621"
        ],
        [
         5028,
         "2024-10-06 19:55:52",
         "Jessica Harris",
         "2004-04-19",
         null,
         "2024-09-10",
         "+1 8604009935"
        ],
        [
         5204,
         "2024-11-09 14:52:31",
         "Jennifer Nichols DDS",
         "1997-02-17",
         "joseph8@example.org",
         "2024-11-04",
         "+1 0383356328"
        ],
        [
         5592,
         "2024-12-04 13:16:03",
         "Richard Neal",
         "1995-11-05",
         "eric52@gmail.com",
         "2024-11-15",
         "+1 4425187397"
        ],
        [
         5816,
         "2024-11-19 14:03:09",
         "Amy Morales",
         "1999-12-11",
         "katelyn82@example.org",
         "2024-11-04",
         "+46 4407385044"
        ],
        [
         5953,
         "2025-01-17 15:59:39",
         "Kevin Harris",
         "2003-01-23",
         "timothy99@mail.com",
         "2024-12-31",
         "+1 6517763640"
        ],
        [
         6167,
         "2025-01-14 18:31:28",
         "Leslie Smith",
         "2001-10-28",
         "angela16@mail.com",
         "2024-12-16",
         "+1 2978446880"
        ],
        [
         6384,
         "2024-12-24 14:46:04",
         "Jennifer Carrillo",
         "1994-12-18",
         "james34@yahoo.com",
         "2024-12-22",
         "+1 5592179843"
        ],
        [
         6406,
         "2024-12-13 14:23:27",
         "Christopher Ritter",
         "2004-07-12",
         null,
         "2024-11-24",
         "+1 1752511241"
        ],
        [
         6627,
         "2024-10-22 05:52:57",
         "Candice Rosales",
         "2004-04-03",
         "amber79@example.org",
         "2024-10-15",
         "+1 4788451559"
        ],
        [
         6973,
         "2024-12-25 11:06:35",
         "Tracy Cole",
         "1998-07-24",
         "tony46@mail.com",
         "2024-12-16",
         "+1 5515836612"
        ],
        [
         7007,
         "2025-01-05 17:29:34",
         "Joe Castaneda",
         "1999-04-27",
         "michael34@mail.com",
         "2024-12-31",
         "+1 1767970338"
        ],
        [
         7123,
         "2024-11-09 07:14:17",
         "Edgar Stevens",
         "2003-02-15",
         "kevin68@example.org",
         "2024-10-27",
         "+1 0793189847"
        ],
        [
         7207,
         "2024-10-23 22:03:08",
         "Billy Scott",
         "1997-03-17",
         "christopher30@mail.com",
         "2024-09-23",
         "+1 5544387564"
        ],
        [
         7295,
         "2024-11-08 02:26:42",
         "Lauren Reed",
         "2001-08-11",
         "jeanette48@example.org",
         "2024-10-10",
         "+1 0104088765"
        ],
        [
         7803,
         "2024-11-09 20:24:30",
         "Katherine Lee",
         "2000-03-09",
         "jennifer85@mail.com",
         "2024-10-27",
         "+1 3119886866"
        ],
        [
         7829,
         "2024-12-07 18:09:58",
         "Daniel Black",
         "1998-04-13",
         "sandra54@example.org",
         "2024-11-16",
         "+1 0933795082"
        ],
        [
         7997,
         "2024-12-22 23:00:48",
         "Patricia Abbott",
         "1997-07-31",
         "angela97@mail.com",
         "2024-11-28",
         "+1 4053366448"
        ],
        [
         8539,
         "2024-10-12 06:02:27",
         "Lori Mason",
         "2002-11-01",
         "stephanie7@mail.com",
         "2024-09-12",
         "+1 0498301620"
        ],
        [
         8580,
         "2024-10-21 13:20:26",
         "Shannon Austin",
         "2002-03-22",
         "john30@gmail.com",
         "2024-10-07",
         "+1 4594705629"
        ],
        [
         8845,
         "2025-01-16 21:17:22",
         "Joseph Robbins",
         "1997-04-04",
         "derek53@yahoo.com",
         "2025-01-12",
         "+1 9513893820"
        ],
        [
         9018,
         "2024-10-18 23:24:52",
         "William Carter",
         "2003-09-05",
         "james70@gmail.com",
         "2024-10-08",
         "+1 1448753611"
        ],
        [
         9084,
         "2025-01-03 03:28:34",
         "Olivia Lyons",
         "1997-06-17",
         "patty47@outlook.com",
         "2024-12-16",
         "+1 2909899135"
        ],
        [
         9150,
         "2025-01-23 02:07:26",
         "Alison Davis",
         "2004-01-17",
         "jacob31@yahoo.com",
         "2024-12-26",
         "+1 7119851149"
        ],
        [
         9179,
         "2024-10-17 16:12:27",
         "Richard Cox",
         "1996-10-25",
         "devon84@mail.com",
         "2024-09-26",
         "+1 6680703335"
        ],
        [
         9247,
         "2024-10-28 00:57:09",
         "Dr. Daniel Hall",
         "2004-03-21",
         "tamara30@gmail.com",
         "2024-10-03",
         "+46 7281991017"
        ],
        [
         9263,
         "2024-10-08 22:49:25",
         "Joseph Keller",
         "2003-02-11",
         null,
         "2024-10-04",
         "+1 3817867756"
        ],
        [
         9605,
         "2025-01-14 13:30:57",
         "Tiffany Rocha",
         "2003-04-25",
         "michael82@yahoo.com",
         "2024-12-22",
         "+1 6232811506"
        ],
        [
         9687,
         "2024-12-05 08:58:52",
         "Micheal Perez MD",
         "2002-07-18",
         "christopher65@example.org",
         "2024-11-22",
         "+1 3079718622"
        ],
        [
         9706,
         "2024-10-24 13:03:13",
         "Jennifer Haas",
         "2001-04-03",
         "benjamin55@mail.com",
         "2024-10-05",
         "+1 4725460000"
        ]
       ],
       "datasetInfos": [
        {
         "name": "_sqldf",
         "schema": {
          "fields": [
           {
            "metadata": {},
            "name": "customer_id",
            "nullable": true,
            "type": "long"
           },
           {
            "metadata": {},
            "name": "max(created_timestamp)",
            "nullable": true,
            "type": "string"
           },
           {
            "metadata": {},
            "name": "max(customer_name)",
            "nullable": true,
            "type": "string"
           },
           {
            "metadata": {},
            "name": "max(date_of_birth)",
            "nullable": true,
            "type": "string"
           },
           {
            "metadata": {},
            "name": "max(email)",
            "nullable": true,
            "type": "string"
           },
           {
            "metadata": {},
            "name": "max(member_since)",
            "nullable": true,
            "type": "string"
           },
           {
            "metadata": {},
            "name": "max(telephone)",
            "nullable": true,
            "type": "string"
           }
          ],
          "type": "struct"
         },
         "tableIdentifier": null,
         "typeStr": "pyspark.sql.connect.dataframe.DataFrame"
        }
       ],
       "dbfsResultPath": null,
       "isJsonSchema": true,
       "metadata": {
        "createTempViewForImplicitDf": true,
        "dataframeName": "_sqldf",
        "executionCount": 12
       },
       "overflow": false,
       "plotOptions": {
        "customPlotOptions": {},
        "displayType": "table",
        "pivotAggregation": null,
        "pivotColumns": null,
        "xColumns": null,
        "yColumns": null
       },
       "removedWidgets": [],
       "schema": [
        {
         "metadata": "{}",
         "name": "customer_id",
         "type": "\"long\""
        },
        {
         "metadata": "{}",
         "name": "max(created_timestamp)",
         "type": "\"string\""
        },
        {
         "metadata": "{}",
         "name": "max(customer_name)",
         "type": "\"string\""
        },
        {
         "metadata": "{}",
         "name": "max(date_of_birth)",
         "type": "\"string\""
        },
        {
         "metadata": "{}",
         "name": "max(email)",
         "type": "\"string\""
        },
        {
         "metadata": "{}",
         "name": "max(member_since)",
         "type": "\"string\""
        },
        {
         "metadata": "{}",
         "name": "max(telephone)",
         "type": "\"string\""
        }
       ],
       "type": "table"
      }
     },
     "output_type": "display_data"
    }
   ],
   "source": [
    "%sql\n",
    "select customer_id,\n",
    "      max(created_timestamp),\n",
    "      max(customer_name),\n",
    "      max(date_of_birth),\n",
    "      max(email),\n",
    "      max(member_since),\n",
    "      max(telephone)\n",
    "  from gizmobox.bronze.v_customers\n",
    "where customer_id is not null\n",
    "group by customer_id\n",
    "order by customer_id;"
   ]
  },
  {
   "cell_type": "code",
   "execution_count": 0,
   "metadata": {
    "application/vnd.databricks.v1+cell": {
     "cellMetadata": {
      "byteLimit": 2048000,
      "implicitDf": true,
      "rowLimit": 10000
     },
     "inputWidgets": {},
     "nuid": "8c196f62-12c3-4cd4-8da0-2e0397f74032",
     "showTitle": false,
     "tableResultSettingsMap": {},
     "title": ""
    }
   },
   "outputs": [],
   "source": [
    "%sql\n",
    "create or replace temporary view v_customers_distinct\n",
    "as\n",
    "select distinct *\n",
    "  from gizmobox.bronze.v_customers\n",
    "where customer_id is not null\n",
    "order by customer_id;\n"
   ]
  },
  {
   "cell_type": "code",
   "execution_count": 0,
   "metadata": {
    "application/vnd.databricks.v1+cell": {
     "cellMetadata": {
      "byteLimit": 2048000,
      "implicitDf": true,
      "rowLimit": 10000
     },
     "inputWidgets": {},
     "nuid": "96e1edfc-c962-476c-ac7d-56729d3015e4",
     "showTitle": false,
     "tableResultSettingsMap": {},
     "title": ""
    }
   },
   "outputs": [
    {
     "output_type": "display_data",
     "data": {
      "text/html": [
       "<style scoped>\n",
       "  .table-result-container {\n",
       "    max-height: 300px;\n",
       "    overflow: auto;\n",
       "  }\n",
       "  table, th, td {\n",
       "    border: 1px solid black;\n",
       "    border-collapse: collapse;\n",
       "  }\n",
       "  th, td {\n",
       "    padding: 5px;\n",
       "  }\n",
       "  th {\n",
       "    text-align: left;\n",
       "  }\n",
       "</style><div class='table-result-container'><table class='table-result'><thead style='background-color: white'><tr><th>customer_id</th><th>max_created_timestamp</th></tr></thead><tbody><tr><td>1211</td><td>2024-12-16 16:54:10</td></tr><tr><td>1987</td><td>2024-11-16 01:47:25</td></tr><tr><td>2054</td><td>2024-11-03 17:22:56</td></tr><tr><td>2141</td><td>2024-12-17 15:05:15</td></tr><tr><td>2344</td><td>2024-10-26 15:14:33</td></tr><tr><td>2639</td><td>2024-12-21 07:08:28</td></tr><tr><td>2703</td><td>2024-11-07 22:20:00</td></tr><tr><td>3084</td><td>2024-12-20 12:32:29</td></tr><tr><td>3295</td><td>2025-01-17 07:50:48</td></tr><tr><td>3409</td><td>2024-10-02 14:53:40</td></tr><tr><td>3532</td><td>2024-12-26 09:29:16</td></tr><tr><td>3712</td><td>2024-11-24 11:14:03</td></tr><tr><td>3889</td><td>2025-01-25 13:28:31</td></tr><tr><td>3892</td><td>2024-11-14 20:41:18</td></tr><tr><td>4468</td><td>2024-11-23 18:16:18</td></tr><tr><td>4761</td><td>2024-11-14 16:41:14</td></tr><tr><td>4858</td><td>2024-10-01 00:50:29</td></tr><tr><td>4914</td><td>2024-11-12 12:57:38</td></tr><tr><td>4973</td><td>2025-01-26 09:46:03</td></tr><tr><td>4996</td><td>2025-01-12 20:13:31</td></tr><tr><td>5011</td><td>2024-10-15 02:48:29</td></tr><tr><td>5028</td><td>2024-10-06 19:55:52</td></tr><tr><td>5204</td><td>2024-11-09 14:52:31</td></tr><tr><td>5592</td><td>2024-12-04 13:16:03</td></tr><tr><td>5816</td><td>2024-11-19 14:03:09</td></tr><tr><td>5953</td><td>2025-01-17 15:59:39</td></tr><tr><td>6167</td><td>2025-01-14 18:31:28</td></tr><tr><td>6384</td><td>2024-12-24 14:46:04</td></tr><tr><td>6406</td><td>2024-12-13 14:23:27</td></tr><tr><td>6627</td><td>2024-10-22 05:52:57</td></tr><tr><td>6973</td><td>2024-12-25 11:06:35</td></tr><tr><td>7007</td><td>2025-01-05 17:29:34</td></tr><tr><td>7123</td><td>2024-11-09 07:14:17</td></tr><tr><td>7207</td><td>2024-10-23 22:03:08</td></tr><tr><td>7295</td><td>2024-11-08 02:26:42</td></tr><tr><td>7803</td><td>2024-11-09 20:24:30</td></tr><tr><td>7829</td><td>2024-12-07 18:09:58</td></tr><tr><td>7997</td><td>2024-12-22 23:00:48</td></tr><tr><td>8539</td><td>2024-10-12 06:02:27</td></tr><tr><td>8580</td><td>2024-10-21 13:20:26</td></tr><tr><td>8845</td><td>2025-01-16 21:17:22</td></tr><tr><td>9018</td><td>2024-10-18 23:24:52</td></tr><tr><td>9084</td><td>2025-01-03 03:28:34</td></tr><tr><td>9150</td><td>2025-01-23 02:07:26</td></tr><tr><td>9179</td><td>2024-10-17 16:12:27</td></tr><tr><td>9247</td><td>2024-10-28 00:57:09</td></tr><tr><td>9263</td><td>2024-10-08 22:49:25</td></tr><tr><td>9605</td><td>2025-01-14 13:30:57</td></tr><tr><td>9687</td><td>2024-12-05 08:58:52</td></tr><tr><td>9706</td><td>2024-10-24 13:03:13</td></tr></tbody></table></div>"
      ]
     },
     "metadata": {
      "application/vnd.databricks.v1+output": {
       "addedWidgets": {},
       "aggData": [],
       "aggError": "",
       "aggOverflow": false,
       "aggSchema": [],
       "aggSeriesLimitReached": false,
       "aggType": "",
       "arguments": {},
       "columnCustomDisplayInfos": {},
       "data": [
        [
         1211,
         "2024-12-16 16:54:10"
        ],
        [
         1987,
         "2024-11-16 01:47:25"
        ],
        [
         2054,
         "2024-11-03 17:22:56"
        ],
        [
         2141,
         "2024-12-17 15:05:15"
        ],
        [
         2344,
         "2024-10-26 15:14:33"
        ],
        [
         2639,
         "2024-12-21 07:08:28"
        ],
        [
         2703,
         "2024-11-07 22:20:00"
        ],
        [
         3084,
         "2024-12-20 12:32:29"
        ],
        [
         3295,
         "2025-01-17 07:50:48"
        ],
        [
         3409,
         "2024-10-02 14:53:40"
        ],
        [
         3532,
         "2024-12-26 09:29:16"
        ],
        [
         3712,
         "2024-11-24 11:14:03"
        ],
        [
         3889,
         "2025-01-25 13:28:31"
        ],
        [
         3892,
         "2024-11-14 20:41:18"
        ],
        [
         4468,
         "2024-11-23 18:16:18"
        ],
        [
         4761,
         "2024-11-14 16:41:14"
        ],
        [
         4858,
         "2024-10-01 00:50:29"
        ],
        [
         4914,
         "2024-11-12 12:57:38"
        ],
        [
         4973,
         "2025-01-26 09:46:03"
        ],
        [
         4996,
         "2025-01-12 20:13:31"
        ],
        [
         5011,
         "2024-10-15 02:48:29"
        ],
        [
         5028,
         "2024-10-06 19:55:52"
        ],
        [
         5204,
         "2024-11-09 14:52:31"
        ],
        [
         5592,
         "2024-12-04 13:16:03"
        ],
        [
         5816,
         "2024-11-19 14:03:09"
        ],
        [
         5953,
         "2025-01-17 15:59:39"
        ],
        [
         6167,
         "2025-01-14 18:31:28"
        ],
        [
         6384,
         "2024-12-24 14:46:04"
        ],
        [
         6406,
         "2024-12-13 14:23:27"
        ],
        [
         6627,
         "2024-10-22 05:52:57"
        ],
        [
         6973,
         "2024-12-25 11:06:35"
        ],
        [
         7007,
         "2025-01-05 17:29:34"
        ],
        [
         7123,
         "2024-11-09 07:14:17"
        ],
        [
         7207,
         "2024-10-23 22:03:08"
        ],
        [
         7295,
         "2024-11-08 02:26:42"
        ],
        [
         7803,
         "2024-11-09 20:24:30"
        ],
        [
         7829,
         "2024-12-07 18:09:58"
        ],
        [
         7997,
         "2024-12-22 23:00:48"
        ],
        [
         8539,
         "2024-10-12 06:02:27"
        ],
        [
         8580,
         "2024-10-21 13:20:26"
        ],
        [
         8845,
         "2025-01-16 21:17:22"
        ],
        [
         9018,
         "2024-10-18 23:24:52"
        ],
        [
         9084,
         "2025-01-03 03:28:34"
        ],
        [
         9150,
         "2025-01-23 02:07:26"
        ],
        [
         9179,
         "2024-10-17 16:12:27"
        ],
        [
         9247,
         "2024-10-28 00:57:09"
        ],
        [
         9263,
         "2024-10-08 22:49:25"
        ],
        [
         9605,
         "2025-01-14 13:30:57"
        ],
        [
         9687,
         "2024-12-05 08:58:52"
        ],
        [
         9706,
         "2024-10-24 13:03:13"
        ]
       ],
       "datasetInfos": [
        {
         "name": "_sqldf",
         "schema": {
          "fields": [
           {
            "metadata": {},
            "name": "customer_id",
            "nullable": true,
            "type": "long"
           },
           {
            "metadata": {},
            "name": "max_created_timestamp",
            "nullable": true,
            "type": "string"
           }
          ],
          "type": "struct"
         },
         "tableIdentifier": null,
         "typeStr": "pyspark.sql.connect.dataframe.DataFrame"
        }
       ],
       "dbfsResultPath": null,
       "isJsonSchema": true,
       "metadata": {
        "createTempViewForImplicitDf": true,
        "dataframeName": "_sqldf",
        "executionCount": 20
       },
       "overflow": false,
       "plotOptions": {
        "customPlotOptions": {},
        "displayType": "table",
        "pivotAggregation": null,
        "pivotColumns": null,
        "xColumns": null,
        "yColumns": null
       },
       "removedWidgets": [],
       "schema": [
        {
         "metadata": "{}",
         "name": "customer_id",
         "type": "\"long\""
        },
        {
         "metadata": "{}",
         "name": "max_created_timestamp",
         "type": "\"string\""
        }
       ],
       "type": "table"
      }
     },
     "output_type": "display_data"
    }
   ],
   "source": [
    "%sql\n",
    "select customer_id,\n",
    "      max(created_timestamp) as max_created_timestamp\n",
    " from v_customers_distinct\n",
    " group by customer_id;\n",
    "\n"
   ]
  },
  {
   "cell_type": "code",
   "execution_count": 0,
   "metadata": {
    "application/vnd.databricks.v1+cell": {
     "cellMetadata": {
      "byteLimit": 2048000,
      "implicitDf": true,
      "rowLimit": 10000
     },
     "inputWidgets": {},
     "nuid": "d22a6aab-0b00-4f81-b24e-6103a6b02f18",
     "showTitle": false,
     "tableResultSettingsMap": {},
     "title": ""
    }
   },
   "outputs": [
    {
     "output_type": "display_data",
     "data": {
      "text/html": [
       "<style scoped>\n",
       "  .table-result-container {\n",
       "    max-height: 300px;\n",
       "    overflow: auto;\n",
       "  }\n",
       "  table, th, td {\n",
       "    border: 1px solid black;\n",
       "    border-collapse: collapse;\n",
       "  }\n",
       "  th, td {\n",
       "    padding: 5px;\n",
       "  }\n",
       "  th {\n",
       "    text-align: left;\n",
       "  }\n",
       "</style><div class='table-result-container'><table class='table-result'><thead style='background-color: white'><tr><th>created_timestamp</th><th>customer_id</th><th>customer_name</th><th>date_of_birth</th><th>email</th><th>member_since</th><th>telephone</th><th>file_path</th></tr></thead><tbody><tr><td>2024-10-01 00:50:29</td><td>4858</td><td>Carla Morton</td><td>2004-06-21</td><td>joseph88@mail.com</td><td>2024-09-15</td><td>+1 8616454195</td><td>dbfs:/Volumes/gizmobox/landing/operational_data/customers/customers_2024_10.json</td></tr><tr><td>2024-10-15 02:48:29</td><td>5011</td><td>Rachel Thomas</td><td>2003-02-17</td><td>lauren59@yahoo.com</td><td>2024-09-24</td><td>+1 5437271621</td><td>dbfs:/Volumes/gizmobox/landing/operational_data/customers/customers_2024_10.json</td></tr><tr><td>2024-10-06 19:55:52</td><td>5028</td><td>Jessica Harris</td><td>2004-04-19</td><td>null</td><td>2024-09-10</td><td>+1 8604009935</td><td>dbfs:/Volumes/gizmobox/landing/operational_data/customers/customers_2024_10.json</td></tr><tr><td>2024-10-26 15:14:33</td><td>2344</td><td>Martin Thomas DDS</td><td>2002-05-01</td><td>billy42@outlook.com</td><td>2024-10-13</td><td>+1 0201457151</td><td>dbfs:/Volumes/gizmobox/landing/operational_data/customers/customers_2024_10.json</td></tr><tr><td>2024-10-28 00:57:09</td><td>9247</td><td>Dr. Daniel Hall</td><td>2004-03-21</td><td>tamara30@gmail.com</td><td>2024-10-03</td><td>+1 7544137170</td><td>dbfs:/Volumes/gizmobox/landing/operational_data/customers/customers_2024_10.json</td></tr><tr><td>2024-10-24 13:03:13</td><td>9706</td><td>Jennifer Haas</td><td>2001-04-03</td><td>benjamin55@mail.com</td><td>2024-10-05</td><td>+1 4725460000</td><td>dbfs:/Volumes/gizmobox/landing/operational_data/customers/customers_2024_10.json</td></tr><tr><td>2024-10-21 13:20:26</td><td>8580</td><td>Shannon Austin</td><td>2002-03-22</td><td>john30@gmail.com</td><td>2024-10-07</td><td>+1 4594705629</td><td>dbfs:/Volumes/gizmobox/landing/operational_data/customers/customers_2024_10.json</td></tr><tr><td>2024-10-23 22:03:08</td><td>7207</td><td>Billy Scott</td><td>1997-03-17</td><td>christopher30@mail.com</td><td>2024-09-23</td><td>+1 5544387564</td><td>dbfs:/Volumes/gizmobox/landing/operational_data/customers/customers_2024_10.json</td></tr><tr><td>2024-10-22 05:52:57</td><td>6627</td><td>Candice Rosales</td><td>2004-04-03</td><td>amber79@example.org</td><td>2024-10-15</td><td>+1 4788451559</td><td>dbfs:/Volumes/gizmobox/landing/operational_data/customers/customers_2024_10.json</td></tr><tr><td>2024-10-18 23:24:52</td><td>9018</td><td>William Carter</td><td>2003-09-05</td><td>james70@gmail.com</td><td>2024-10-08</td><td>+1 1448753611</td><td>dbfs:/Volumes/gizmobox/landing/operational_data/customers/customers_2024_10.json</td></tr><tr><td>2024-10-08 22:49:25</td><td>9263</td><td>Joseph Keller</td><td>2003-02-11</td><td>null</td><td>2024-10-04</td><td>+1 3817867756</td><td>dbfs:/Volumes/gizmobox/landing/operational_data/customers/customers_2024_10.json</td></tr><tr><td>2024-10-02 14:53:40</td><td>3409</td><td>Andrew Phillips</td><td>2003-04-17</td><td>peter73@yahoo.com</td><td>2024-09-30</td><td>+1 4079273853</td><td>dbfs:/Volumes/gizmobox/landing/operational_data/customers/customers_2024_10.json</td></tr><tr><td>2024-10-17 16:12:27</td><td>9179</td><td>Richard Cox</td><td>1996-10-25</td><td>devon84@mail.com</td><td>2024-09-26</td><td>+1 6680703335</td><td>dbfs:/Volumes/gizmobox/landing/operational_data/customers/customers_2024_10.json</td></tr><tr><td>2024-10-12 06:02:27</td><td>8539</td><td>Lori Mason</td><td>2002-11-01</td><td>stephanie7@mail.com</td><td>2024-09-12</td><td>+1 0498301620</td><td>dbfs:/Volumes/gizmobox/landing/operational_data/customers/customers_2024_10.json</td></tr><tr><td>2024-11-09 14:52:31</td><td>5204</td><td>Jennifer Nichols DDS</td><td>1997-02-17</td><td>joseph8@example.org</td><td>2024-11-04</td><td>+1 0383356328</td><td>dbfs:/Volumes/gizmobox/landing/operational_data/customers/customers_2024_11.json</td></tr><tr><td>2024-11-19 14:03:09</td><td>5816</td><td>Amy Morales</td><td>1999-12-11</td><td>katelyn82@example.org</td><td>2024-11-04</td><td>+1 4140982719</td><td>dbfs:/Volumes/gizmobox/landing/operational_data/customers/customers_2024_11.json</td></tr><tr><td>2024-11-09 07:14:17</td><td>7123</td><td>Edgar Stevens</td><td>2003-02-15</td><td>kevin68@example.org</td><td>2024-10-27</td><td>+1 0793189847</td><td>dbfs:/Volumes/gizmobox/landing/operational_data/customers/customers_2024_11.json</td></tr><tr><td>2024-11-07 22:20:00</td><td>2703</td><td>Anthony Miller</td><td>1997-11-02</td><td>null</td><td>2024-11-05</td><td>+1 1586310752</td><td>dbfs:/Volumes/gizmobox/landing/operational_data/customers/customers_2024_11.json</td></tr><tr><td>2024-11-12 12:57:38</td><td>4914</td><td>Samantha Johnson</td><td>1997-03-26</td><td>theresa14@mail.com</td><td>2024-10-13</td><td>+1 4095003738</td><td>dbfs:/Volumes/gizmobox/landing/operational_data/customers/customers_2024_11.json</td></tr><tr><td>2024-11-23 18:16:18</td><td>4468</td><td>Mrs. Roberta Salas PhD</td><td>1997-05-10</td><td>null</td><td>2024-10-25</td><td>+1 4679955118</td><td>dbfs:/Volumes/gizmobox/landing/operational_data/customers/customers_2024_11.json</td></tr><tr><td>2024-11-24 11:14:03</td><td>3712</td><td>Robin Chavez</td><td>1997-03-16</td><td>lisa15@gmail.com</td><td>2024-11-24</td><td>+1 2654756919</td><td>dbfs:/Volumes/gizmobox/landing/operational_data/customers/customers_2024_11.json</td></tr><tr><td>2024-11-03 17:22:56</td><td>2054</td><td>Alan Price</td><td>1998-08-25</td><td>connor40@yahoo.com</td><td>2024-10-14</td><td>+1 3745642936</td><td>dbfs:/Volumes/gizmobox/landing/operational_data/customers/customers_2024_11.json</td></tr><tr><td>2024-11-16 01:47:25</td><td>1987</td><td>Amanda Alvarez</td><td>1995-10-11</td><td>eric40@outlook.com</td><td>2024-10-27</td><td>+1 9673066300</td><td>dbfs:/Volumes/gizmobox/landing/operational_data/customers/customers_2024_11.json</td></tr><tr><td>2024-11-08 02:26:42</td><td>7295</td><td>Lauren Reed</td><td>2001-08-11</td><td>jeanette48@example.org</td><td>2024-10-10</td><td>+1 0104088765</td><td>dbfs:/Volumes/gizmobox/landing/operational_data/customers/customers_2024_11.json</td></tr><tr><td>2024-11-14 16:41:14</td><td>4761</td><td>Timothy Smith</td><td>1996-11-07</td><td>joshua40@yahoo.com</td><td>2024-11-03</td><td>+1 9450920858</td><td>dbfs:/Volumes/gizmobox/landing/operational_data/customers/customers_2024_11.json</td></tr><tr><td>2024-11-14 20:41:18</td><td>3892</td><td>Jason Bridges</td><td>2004-01-01</td><td>nicole29@gmail.com</td><td>2024-10-29</td><td>+1 8220011928</td><td>dbfs:/Volumes/gizmobox/landing/operational_data/customers/customers_2024_11.json</td></tr><tr><td>2024-11-09 20:24:30</td><td>7803</td><td>Katherine Lee</td><td>2000-03-09</td><td>jennifer85@mail.com</td><td>2024-10-27</td><td>+1 3119886866</td><td>dbfs:/Volumes/gizmobox/landing/operational_data/customers/customers_2024_11.json</td></tr><tr><td>2024-12-05 08:58:52</td><td>9687</td><td>Micheal Perez MD</td><td>2002-07-18</td><td>christopher65@example.org</td><td>2024-11-22</td><td>+1 3079718622</td><td>dbfs:/Volumes/gizmobox/landing/operational_data/customers/customers_2024_12.json</td></tr><tr><td>2024-12-24 14:46:04</td><td>6384</td><td>Jennifer Carrillo</td><td>1994-12-18</td><td>james34@yahoo.com</td><td>2024-12-22</td><td>+1 5592179843</td><td>dbfs:/Volumes/gizmobox/landing/operational_data/customers/customers_2024_12.json</td></tr><tr><td>2024-12-04 13:16:03</td><td>5592</td><td>Richard Neal</td><td>1995-11-05</td><td>eric52@gmail.com</td><td>2024-11-15</td><td>+1 4425187397</td><td>dbfs:/Volumes/gizmobox/landing/operational_data/customers/customers_2024_12.json</td></tr><tr><td>2024-12-17 15:05:15</td><td>2141</td><td>Zachary Lopez</td><td>2002-09-20</td><td>glenn87@example.org</td><td>2024-12-14</td><td>+1 7431190983</td><td>dbfs:/Volumes/gizmobox/landing/operational_data/customers/customers_2024_12.json</td></tr><tr><td>2024-12-25 11:06:35</td><td>6973</td><td>Tracy Cole</td><td>1998-07-24</td><td>tony46@mail.com</td><td>2024-12-16</td><td>+1 5515836612</td><td>dbfs:/Volumes/gizmobox/landing/operational_data/customers/customers_2024_12.json</td></tr><tr><td>2024-12-13 14:23:27</td><td>6406</td><td>Christopher Ritter</td><td>2004-07-12</td><td>null</td><td>2024-11-24</td><td>+1 1752511241</td><td>dbfs:/Volumes/gizmobox/landing/operational_data/customers/customers_2024_12.json</td></tr><tr><td>2024-12-22 23:00:48</td><td>7997</td><td>Patricia Abbott</td><td>1997-07-31</td><td>angela97@mail.com</td><td>2024-11-28</td><td>+1 4053366448</td><td>dbfs:/Volumes/gizmobox/landing/operational_data/customers/customers_2024_12.json</td></tr><tr><td>2024-12-07 18:09:58</td><td>7829</td><td>Daniel Black</td><td>1998-04-13</td><td>sandra54@example.org</td><td>2024-11-16</td><td>+1 0933795082</td><td>dbfs:/Volumes/gizmobox/landing/operational_data/customers/customers_2024_12.json</td></tr><tr><td>2024-12-26 09:29:16</td><td>3532</td><td>Holly Wilkinson</td><td>2003-03-06</td><td>lindsey61@yahoo.com</td><td>2024-12-22</td><td>null</td><td>dbfs:/Volumes/gizmobox/landing/operational_data/customers/customers_2024_12.json</td></tr><tr><td>2024-12-16 16:54:10</td><td>1211</td><td>Jeremy Ball</td><td>2002-03-26</td><td>megan86@yahoo.com</td><td>2024-12-01</td><td>+1 5793543882</td><td>dbfs:/Volumes/gizmobox/landing/operational_data/customers/customers_2024_12.json</td></tr><tr><td>2024-12-20 12:32:29</td><td>3084</td><td>Tyler Simmons</td><td>2003-02-20</td><td>brian94@mail.com</td><td>2024-12-02</td><td>null</td><td>dbfs:/Volumes/gizmobox/landing/operational_data/customers/customers_2024_12.json</td></tr><tr><td>2024-12-21 07:08:28</td><td>2639</td><td>Jessica Deleon</td><td>1995-06-04</td><td>jeremiah96@gmail.com</td><td>2024-11-22</td><td>+1 1304435999</td><td>dbfs:/Volumes/gizmobox/landing/operational_data/customers/customers_2024_12.json</td></tr><tr><td>2025-01-14 13:30:57</td><td>9605</td><td>Tiffany Rocha</td><td>2003-04-25</td><td>michael82@yahoo.com</td><td>2024-12-22</td><td>+1 6232811506</td><td>dbfs:/Volumes/gizmobox/landing/operational_data/customers/customers_2025_01.json</td></tr><tr><td>2025-01-25 13:28:31</td><td>3889</td><td>Jennifer Jackson</td><td>1995-10-30</td><td>catherine77@example.org</td><td>2025-01-07</td><td>+1 5932456755</td><td>dbfs:/Volumes/gizmobox/landing/operational_data/customers/customers_2025_01.json</td></tr><tr><td>2025-01-17 07:50:48</td><td>3295</td><td>Drew Hanson</td><td>1996-11-21</td><td>cathy31@gmail.com</td><td>2025-01-01</td><td>+1 6521792889</td><td>dbfs:/Volumes/gizmobox/landing/operational_data/customers/customers_2025_01.json</td></tr><tr><td>2025-01-12 20:13:31</td><td>4996</td><td>Brandon Reed</td><td>1997-05-11</td><td>stacey71@yahoo.com</td><td>2024-12-13</td><td>null</td><td>dbfs:/Volumes/gizmobox/landing/operational_data/customers/customers_2025_01.json</td></tr><tr><td>2025-01-03 03:28:34</td><td>9084</td><td>Olivia Lyons</td><td>1997-06-17</td><td>patty47@outlook.com</td><td>2024-12-16</td><td>+1 2909899135</td><td>dbfs:/Volumes/gizmobox/landing/operational_data/customers/customers_2025_01.json</td></tr><tr><td>2025-01-23 02:07:26</td><td>9150</td><td>Alison Davis</td><td>2004-01-17</td><td>jacob31@yahoo.com</td><td>2024-12-26</td><td>+1 7119851149</td><td>dbfs:/Volumes/gizmobox/landing/operational_data/customers/customers_2025_01.json</td></tr><tr><td>2025-01-14 18:31:28</td><td>6167</td><td>Leslie Smith</td><td>2001-10-28</td><td>angela16@mail.com</td><td>2024-12-16</td><td>+1 2978446880</td><td>dbfs:/Volumes/gizmobox/landing/operational_data/customers/customers_2025_01.json</td></tr><tr><td>2025-01-05 17:29:34</td><td>7007</td><td>Joe Castaneda</td><td>1999-04-27</td><td>michael34@mail.com</td><td>2024-12-31</td><td>+1 1767970338</td><td>dbfs:/Volumes/gizmobox/landing/operational_data/customers/customers_2025_01.json</td></tr><tr><td>2025-01-26 09:46:03</td><td>4973</td><td>Daniel Thompson</td><td>1999-07-17</td><td>connor32@example.org</td><td>2024-12-27</td><td>+1 5823046206</td><td>dbfs:/Volumes/gizmobox/landing/operational_data/customers/customers_2025_01.json</td></tr><tr><td>2025-01-17 15:59:39</td><td>5953</td><td>Kevin Harris</td><td>2003-01-23</td><td>timothy99@mail.com</td><td>2024-12-31</td><td>+1 6517763640</td><td>dbfs:/Volumes/gizmobox/landing/operational_data/customers/customers_2025_01.json</td></tr><tr><td>2025-01-16 21:17:22</td><td>8845</td><td>Joseph Robbins</td><td>1997-04-04</td><td>derek53@yahoo.com</td><td>2025-01-12</td><td>+1 9513893820</td><td>dbfs:/Volumes/gizmobox/landing/operational_data/customers/customers_2025_01.json</td></tr></tbody></table></div>"
      ]
     },
     "metadata": {
      "application/vnd.databricks.v1+output": {
       "addedWidgets": {},
       "aggData": [],
       "aggError": "",
       "aggOverflow": false,
       "aggSchema": [],
       "aggSeriesLimitReached": false,
       "aggType": "",
       "arguments": {},
       "columnCustomDisplayInfos": {},
       "data": [
        [
         "2024-10-01 00:50:29",
         4858,
         "Carla Morton",
         "2004-06-21",
         "joseph88@mail.com",
         "2024-09-15",
         "+1 8616454195",
         "dbfs:/Volumes/gizmobox/landing/operational_data/customers/customers_2024_10.json"
        ],
        [
         "2024-10-15 02:48:29",
         5011,
         "Rachel Thomas",
         "2003-02-17",
         "lauren59@yahoo.com",
         "2024-09-24",
         "+1 5437271621",
         "dbfs:/Volumes/gizmobox/landing/operational_data/customers/customers_2024_10.json"
        ],
        [
         "2024-10-06 19:55:52",
         5028,
         "Jessica Harris",
         "2004-04-19",
         null,
         "2024-09-10",
         "+1 8604009935",
         "dbfs:/Volumes/gizmobox/landing/operational_data/customers/customers_2024_10.json"
        ],
        [
         "2024-10-26 15:14:33",
         2344,
         "Martin Thomas DDS",
         "2002-05-01",
         "billy42@outlook.com",
         "2024-10-13",
         "+1 0201457151",
         "dbfs:/Volumes/gizmobox/landing/operational_data/customers/customers_2024_10.json"
        ],
        [
         "2024-10-28 00:57:09",
         9247,
         "Dr. Daniel Hall",
         "2004-03-21",
         "tamara30@gmail.com",
         "2024-10-03",
         "+1 7544137170",
         "dbfs:/Volumes/gizmobox/landing/operational_data/customers/customers_2024_10.json"
        ],
        [
         "2024-10-24 13:03:13",
         9706,
         "Jennifer Haas",
         "2001-04-03",
         "benjamin55@mail.com",
         "2024-10-05",
         "+1 4725460000",
         "dbfs:/Volumes/gizmobox/landing/operational_data/customers/customers_2024_10.json"
        ],
        [
         "2024-10-21 13:20:26",
         8580,
         "Shannon Austin",
         "2002-03-22",
         "john30@gmail.com",
         "2024-10-07",
         "+1 4594705629",
         "dbfs:/Volumes/gizmobox/landing/operational_data/customers/customers_2024_10.json"
        ],
        [
         "2024-10-23 22:03:08",
         7207,
         "Billy Scott",
         "1997-03-17",
         "christopher30@mail.com",
         "2024-09-23",
         "+1 5544387564",
         "dbfs:/Volumes/gizmobox/landing/operational_data/customers/customers_2024_10.json"
        ],
        [
         "2024-10-22 05:52:57",
         6627,
         "Candice Rosales",
         "2004-04-03",
         "amber79@example.org",
         "2024-10-15",
         "+1 4788451559",
         "dbfs:/Volumes/gizmobox/landing/operational_data/customers/customers_2024_10.json"
        ],
        [
         "2024-10-18 23:24:52",
         9018,
         "William Carter",
         "2003-09-05",
         "james70@gmail.com",
         "2024-10-08",
         "+1 1448753611",
         "dbfs:/Volumes/gizmobox/landing/operational_data/customers/customers_2024_10.json"
        ],
        [
         "2024-10-08 22:49:25",
         9263,
         "Joseph Keller",
         "2003-02-11",
         null,
         "2024-10-04",
         "+1 3817867756",
         "dbfs:/Volumes/gizmobox/landing/operational_data/customers/customers_2024_10.json"
        ],
        [
         "2024-10-02 14:53:40",
         3409,
         "Andrew Phillips",
         "2003-04-17",
         "peter73@yahoo.com",
         "2024-09-30",
         "+1 4079273853",
         "dbfs:/Volumes/gizmobox/landing/operational_data/customers/customers_2024_10.json"
        ],
        [
         "2024-10-17 16:12:27",
         9179,
         "Richard Cox",
         "1996-10-25",
         "devon84@mail.com",
         "2024-09-26",
         "+1 6680703335",
         "dbfs:/Volumes/gizmobox/landing/operational_data/customers/customers_2024_10.json"
        ],
        [
         "2024-10-12 06:02:27",
         8539,
         "Lori Mason",
         "2002-11-01",
         "stephanie7@mail.com",
         "2024-09-12",
         "+1 0498301620",
         "dbfs:/Volumes/gizmobox/landing/operational_data/customers/customers_2024_10.json"
        ],
        [
         "2024-11-09 14:52:31",
         5204,
         "Jennifer Nichols DDS",
         "1997-02-17",
         "joseph8@example.org",
         "2024-11-04",
         "+1 0383356328",
         "dbfs:/Volumes/gizmobox/landing/operational_data/customers/customers_2024_11.json"
        ],
        [
         "2024-11-19 14:03:09",
         5816,
         "Amy Morales",
         "1999-12-11",
         "katelyn82@example.org",
         "2024-11-04",
         "+1 4140982719",
         "dbfs:/Volumes/gizmobox/landing/operational_data/customers/customers_2024_11.json"
        ],
        [
         "2024-11-09 07:14:17",
         7123,
         "Edgar Stevens",
         "2003-02-15",
         "kevin68@example.org",
         "2024-10-27",
         "+1 0793189847",
         "dbfs:/Volumes/gizmobox/landing/operational_data/customers/customers_2024_11.json"
        ],
        [
         "2024-11-07 22:20:00",
         2703,
         "Anthony Miller",
         "1997-11-02",
         null,
         "2024-11-05",
         "+1 1586310752",
         "dbfs:/Volumes/gizmobox/landing/operational_data/customers/customers_2024_11.json"
        ],
        [
         "2024-11-12 12:57:38",
         4914,
         "Samantha Johnson",
         "1997-03-26",
         "theresa14@mail.com",
         "2024-10-13",
         "+1 4095003738",
         "dbfs:/Volumes/gizmobox/landing/operational_data/customers/customers_2024_11.json"
        ],
        [
         "2024-11-23 18:16:18",
         4468,
         "Mrs. Roberta Salas PhD",
         "1997-05-10",
         null,
         "2024-10-25",
         "+1 4679955118",
         "dbfs:/Volumes/gizmobox/landing/operational_data/customers/customers_2024_11.json"
        ],
        [
         "2024-11-24 11:14:03",
         3712,
         "Robin Chavez",
         "1997-03-16",
         "lisa15@gmail.com",
         "2024-11-24",
         "+1 2654756919",
         "dbfs:/Volumes/gizmobox/landing/operational_data/customers/customers_2024_11.json"
        ],
        [
         "2024-11-03 17:22:56",
         2054,
         "Alan Price",
         "1998-08-25",
         "connor40@yahoo.com",
         "2024-10-14",
         "+1 3745642936",
         "dbfs:/Volumes/gizmobox/landing/operational_data/customers/customers_2024_11.json"
        ],
        [
         "2024-11-16 01:47:25",
         1987,
         "Amanda Alvarez",
         "1995-10-11",
         "eric40@outlook.com",
         "2024-10-27",
         "+1 9673066300",
         "dbfs:/Volumes/gizmobox/landing/operational_data/customers/customers_2024_11.json"
        ],
        [
         "2024-11-08 02:26:42",
         7295,
         "Lauren Reed",
         "2001-08-11",
         "jeanette48@example.org",
         "2024-10-10",
         "+1 0104088765",
         "dbfs:/Volumes/gizmobox/landing/operational_data/customers/customers_2024_11.json"
        ],
        [
         "2024-11-14 16:41:14",
         4761,
         "Timothy Smith",
         "1996-11-07",
         "joshua40@yahoo.com",
         "2024-11-03",
         "+1 9450920858",
         "dbfs:/Volumes/gizmobox/landing/operational_data/customers/customers_2024_11.json"
        ],
        [
         "2024-11-14 20:41:18",
         3892,
         "Jason Bridges",
         "2004-01-01",
         "nicole29@gmail.com",
         "2024-10-29",
         "+1 8220011928",
         "dbfs:/Volumes/gizmobox/landing/operational_data/customers/customers_2024_11.json"
        ],
        [
         "2024-11-09 20:24:30",
         7803,
         "Katherine Lee",
         "2000-03-09",
         "jennifer85@mail.com",
         "2024-10-27",
         "+1 3119886866",
         "dbfs:/Volumes/gizmobox/landing/operational_data/customers/customers_2024_11.json"
        ],
        [
         "2024-12-05 08:58:52",
         9687,
         "Micheal Perez MD",
         "2002-07-18",
         "christopher65@example.org",
         "2024-11-22",
         "+1 3079718622",
         "dbfs:/Volumes/gizmobox/landing/operational_data/customers/customers_2024_12.json"
        ],
        [
         "2024-12-24 14:46:04",
         6384,
         "Jennifer Carrillo",
         "1994-12-18",
         "james34@yahoo.com",
         "2024-12-22",
         "+1 5592179843",
         "dbfs:/Volumes/gizmobox/landing/operational_data/customers/customers_2024_12.json"
        ],
        [
         "2024-12-04 13:16:03",
         5592,
         "Richard Neal",
         "1995-11-05",
         "eric52@gmail.com",
         "2024-11-15",
         "+1 4425187397",
         "dbfs:/Volumes/gizmobox/landing/operational_data/customers/customers_2024_12.json"
        ],
        [
         "2024-12-17 15:05:15",
         2141,
         "Zachary Lopez",
         "2002-09-20",
         "glenn87@example.org",
         "2024-12-14",
         "+1 7431190983",
         "dbfs:/Volumes/gizmobox/landing/operational_data/customers/customers_2024_12.json"
        ],
        [
         "2024-12-25 11:06:35",
         6973,
         "Tracy Cole",
         "1998-07-24",
         "tony46@mail.com",
         "2024-12-16",
         "+1 5515836612",
         "dbfs:/Volumes/gizmobox/landing/operational_data/customers/customers_2024_12.json"
        ],
        [
         "2024-12-13 14:23:27",
         6406,
         "Christopher Ritter",
         "2004-07-12",
         null,
         "2024-11-24",
         "+1 1752511241",
         "dbfs:/Volumes/gizmobox/landing/operational_data/customers/customers_2024_12.json"
        ],
        [
         "2024-12-22 23:00:48",
         7997,
         "Patricia Abbott",
         "1997-07-31",
         "angela97@mail.com",
         "2024-11-28",
         "+1 4053366448",
         "dbfs:/Volumes/gizmobox/landing/operational_data/customers/customers_2024_12.json"
        ],
        [
         "2024-12-07 18:09:58",
         7829,
         "Daniel Black",
         "1998-04-13",
         "sandra54@example.org",
         "2024-11-16",
         "+1 0933795082",
         "dbfs:/Volumes/gizmobox/landing/operational_data/customers/customers_2024_12.json"
        ],
        [
         "2024-12-26 09:29:16",
         3532,
         "Holly Wilkinson",
         "2003-03-06",
         "lindsey61@yahoo.com",
         "2024-12-22",
         null,
         "dbfs:/Volumes/gizmobox/landing/operational_data/customers/customers_2024_12.json"
        ],
        [
         "2024-12-16 16:54:10",
         1211,
         "Jeremy Ball",
         "2002-03-26",
         "megan86@yahoo.com",
         "2024-12-01",
         "+1 5793543882",
         "dbfs:/Volumes/gizmobox/landing/operational_data/customers/customers_2024_12.json"
        ],
        [
         "2024-12-20 12:32:29",
         3084,
         "Tyler Simmons",
         "2003-02-20",
         "brian94@mail.com",
         "2024-12-02",
         null,
         "dbfs:/Volumes/gizmobox/landing/operational_data/customers/customers_2024_12.json"
        ],
        [
         "2024-12-21 07:08:28",
         2639,
         "Jessica Deleon",
         "1995-06-04",
         "jeremiah96@gmail.com",
         "2024-11-22",
         "+1 1304435999",
         "dbfs:/Volumes/gizmobox/landing/operational_data/customers/customers_2024_12.json"
        ],
        [
         "2025-01-14 13:30:57",
         9605,
         "Tiffany Rocha",
         "2003-04-25",
         "michael82@yahoo.com",
         "2024-12-22",
         "+1 6232811506",
         "dbfs:/Volumes/gizmobox/landing/operational_data/customers/customers_2025_01.json"
        ],
        [
         "2025-01-25 13:28:31",
         3889,
         "Jennifer Jackson",
         "1995-10-30",
         "catherine77@example.org",
         "2025-01-07",
         "+1 5932456755",
         "dbfs:/Volumes/gizmobox/landing/operational_data/customers/customers_2025_01.json"
        ],
        [
         "2025-01-17 07:50:48",
         3295,
         "Drew Hanson",
         "1996-11-21",
         "cathy31@gmail.com",
         "2025-01-01",
         "+1 6521792889",
         "dbfs:/Volumes/gizmobox/landing/operational_data/customers/customers_2025_01.json"
        ],
        [
         "2025-01-12 20:13:31",
         4996,
         "Brandon Reed",
         "1997-05-11",
         "stacey71@yahoo.com",
         "2024-12-13",
         null,
         "dbfs:/Volumes/gizmobox/landing/operational_data/customers/customers_2025_01.json"
        ],
        [
         "2025-01-03 03:28:34",
         9084,
         "Olivia Lyons",
         "1997-06-17",
         "patty47@outlook.com",
         "2024-12-16",
         "+1 2909899135",
         "dbfs:/Volumes/gizmobox/landing/operational_data/customers/customers_2025_01.json"
        ],
        [
         "2025-01-23 02:07:26",
         9150,
         "Alison Davis",
         "2004-01-17",
         "jacob31@yahoo.com",
         "2024-12-26",
         "+1 7119851149",
         "dbfs:/Volumes/gizmobox/landing/operational_data/customers/customers_2025_01.json"
        ],
        [
         "2025-01-14 18:31:28",
         6167,
         "Leslie Smith",
         "2001-10-28",
         "angela16@mail.com",
         "2024-12-16",
         "+1 2978446880",
         "dbfs:/Volumes/gizmobox/landing/operational_data/customers/customers_2025_01.json"
        ],
        [
         "2025-01-05 17:29:34",
         7007,
         "Joe Castaneda",
         "1999-04-27",
         "michael34@mail.com",
         "2024-12-31",
         "+1 1767970338",
         "dbfs:/Volumes/gizmobox/landing/operational_data/customers/customers_2025_01.json"
        ],
        [
         "2025-01-26 09:46:03",
         4973,
         "Daniel Thompson",
         "1999-07-17",
         "connor32@example.org",
         "2024-12-27",
         "+1 5823046206",
         "dbfs:/Volumes/gizmobox/landing/operational_data/customers/customers_2025_01.json"
        ],
        [
         "2025-01-17 15:59:39",
         5953,
         "Kevin Harris",
         "2003-01-23",
         "timothy99@mail.com",
         "2024-12-31",
         "+1 6517763640",
         "dbfs:/Volumes/gizmobox/landing/operational_data/customers/customers_2025_01.json"
        ],
        [
         "2025-01-16 21:17:22",
         8845,
         "Joseph Robbins",
         "1997-04-04",
         "derek53@yahoo.com",
         "2025-01-12",
         "+1 9513893820",
         "dbfs:/Volumes/gizmobox/landing/operational_data/customers/customers_2025_01.json"
        ]
       ],
       "datasetInfos": [
        {
         "name": "_sqldf",
         "schema": {
          "fields": [
           {
            "metadata": {},
            "name": "created_timestamp",
            "nullable": true,
            "type": "string"
           },
           {
            "metadata": {},
            "name": "customer_id",
            "nullable": true,
            "type": "long"
           },
           {
            "metadata": {},
            "name": "customer_name",
            "nullable": true,
            "type": "string"
           },
           {
            "metadata": {},
            "name": "date_of_birth",
            "nullable": true,
            "type": "string"
           },
           {
            "metadata": {},
            "name": "email",
            "nullable": true,
            "type": "string"
           },
           {
            "metadata": {},
            "name": "member_since",
            "nullable": true,
            "type": "string"
           },
           {
            "metadata": {},
            "name": "telephone",
            "nullable": true,
            "type": "string"
           },
           {
            "metadata": {},
            "name": "file_path",
            "nullable": false,
            "type": "string"
           }
          ],
          "type": "struct"
         },
         "tableIdentifier": null,
         "typeStr": "pyspark.sql.connect.dataframe.DataFrame"
        }
       ],
       "dbfsResultPath": null,
       "isJsonSchema": true,
       "metadata": {
        "createTempViewForImplicitDf": true,
        "dataframeName": "_sqldf",
        "executionCount": 33
       },
       "overflow": false,
       "plotOptions": {
        "customPlotOptions": {},
        "displayType": "table",
        "pivotAggregation": null,
        "pivotColumns": null,
        "xColumns": null,
        "yColumns": null
       },
       "removedWidgets": [],
       "schema": [
        {
         "metadata": "{}",
         "name": "created_timestamp",
         "type": "\"string\""
        },
        {
         "metadata": "{}",
         "name": "customer_id",
         "type": "\"long\""
        },
        {
         "metadata": "{}",
         "name": "customer_name",
         "type": "\"string\""
        },
        {
         "metadata": "{}",
         "name": "date_of_birth",
         "type": "\"string\""
        },
        {
         "metadata": "{}",
         "name": "email",
         "type": "\"string\""
        },
        {
         "metadata": "{}",
         "name": "member_since",
         "type": "\"string\""
        },
        {
         "metadata": "{}",
         "name": "telephone",
         "type": "\"string\""
        },
        {
         "metadata": "{}",
         "name": "file_path",
         "type": "\"string\""
        }
       ],
       "type": "table"
      }
     },
     "output_type": "display_data"
    }
   ],
   "source": [
    "%sql\n",
    "-- common table expression \n",
    "with cte_max as \n",
    "(\n",
    "  select customer_id,\n",
    "      max(created_timestamp) as max_created_timestamp\n",
    " from v_customers_distinct\n",
    " group by customer_id\n",
    ")\n",
    "select t.*\n",
    "  from v_customers_distinct t \n",
    "  join cte_max m\n",
    "   on t.customer_id = m.customer_id\n",
    "   and t.created_timestamp = m.max_created_timestamp"
   ]
  },
  {
   "cell_type": "markdown",
   "metadata": {
    "application/vnd.databricks.v1+cell": {
     "cellMetadata": {},
     "inputWidgets": {},
     "nuid": "ad1d3504-0c5d-4126-a1fc-b6da4e1ba8d5",
     "showTitle": false,
     "tableResultSettingsMap": {},
     "title": ""
    }
   },
   "source": [
    "#### 4- CAST the column values to the correct data type"
   ]
  },
  {
   "cell_type": "code",
   "execution_count": 0,
   "metadata": {
    "application/vnd.databricks.v1+cell": {
     "cellMetadata": {
      "byteLimit": 2048000,
      "implicitDf": true,
      "rowLimit": 10000
     },
     "inputWidgets": {},
     "nuid": "1752477f-cb8b-4a60-a1a2-f5018d2b8045",
     "showTitle": false,
     "tableResultSettingsMap": {},
     "title": ""
    }
   },
   "outputs": [
    {
     "output_type": "display_data",
     "data": {
      "text/html": [
       "<style scoped>\n",
       "  .table-result-container {\n",
       "    max-height: 300px;\n",
       "    overflow: auto;\n",
       "  }\n",
       "  table, th, td {\n",
       "    border: 1px solid black;\n",
       "    border-collapse: collapse;\n",
       "  }\n",
       "  th, td {\n",
       "    padding: 5px;\n",
       "  }\n",
       "  th {\n",
       "    text-align: left;\n",
       "  }\n",
       "</style><div class='table-result-container'><table class='table-result'><thead style='background-color: white'><tr><th>created_timestamp</th><th>customer_id</th><th>customer_name</th><th>date_of_birth</th><th>email</th><th>member_since</th><th>telephone</th></tr></thead><tbody><tr><td>2024-10-01T00:50:29.000Z</td><td>4858</td><td>Carla Morton</td><td>2004-06-21</td><td>joseph88@mail.com</td><td>2024-09-15</td><td>+1 8616454195</td></tr><tr><td>2024-10-15T02:48:29.000Z</td><td>5011</td><td>Rachel Thomas</td><td>2003-02-17</td><td>lauren59@yahoo.com</td><td>2024-09-24</td><td>+1 5437271621</td></tr><tr><td>2024-10-06T19:55:52.000Z</td><td>5028</td><td>Jessica Harris</td><td>2004-04-19</td><td>null</td><td>2024-09-10</td><td>+1 8604009935</td></tr><tr><td>2024-10-26T15:14:33.000Z</td><td>2344</td><td>Martin Thomas DDS</td><td>2002-05-01</td><td>billy42@outlook.com</td><td>2024-10-13</td><td>+1 0201457151</td></tr><tr><td>2024-10-28T00:57:09.000Z</td><td>9247</td><td>Dr. Daniel Hall</td><td>2004-03-21</td><td>tamara30@gmail.com</td><td>2024-10-03</td><td>+1 7544137170</td></tr><tr><td>2024-10-24T13:03:13.000Z</td><td>9706</td><td>Jennifer Haas</td><td>2001-04-03</td><td>benjamin55@mail.com</td><td>2024-10-05</td><td>+1 4725460000</td></tr><tr><td>2024-10-21T13:20:26.000Z</td><td>8580</td><td>Shannon Austin</td><td>2002-03-22</td><td>john30@gmail.com</td><td>2024-10-07</td><td>+1 4594705629</td></tr><tr><td>2024-10-23T22:03:08.000Z</td><td>7207</td><td>Billy Scott</td><td>1997-03-17</td><td>christopher30@mail.com</td><td>2024-09-23</td><td>+1 5544387564</td></tr><tr><td>2024-10-22T05:52:57.000Z</td><td>6627</td><td>Candice Rosales</td><td>2004-04-03</td><td>amber79@example.org</td><td>2024-10-15</td><td>+1 4788451559</td></tr><tr><td>2024-10-18T23:24:52.000Z</td><td>9018</td><td>William Carter</td><td>2003-09-05</td><td>james70@gmail.com</td><td>2024-10-08</td><td>+1 1448753611</td></tr><tr><td>2024-10-08T22:49:25.000Z</td><td>9263</td><td>Joseph Keller</td><td>2003-02-11</td><td>null</td><td>2024-10-04</td><td>+1 3817867756</td></tr><tr><td>2024-10-02T14:53:40.000Z</td><td>3409</td><td>Andrew Phillips</td><td>2003-04-17</td><td>peter73@yahoo.com</td><td>2024-09-30</td><td>+1 4079273853</td></tr><tr><td>2024-10-17T16:12:27.000Z</td><td>9179</td><td>Richard Cox</td><td>1996-10-25</td><td>devon84@mail.com</td><td>2024-09-26</td><td>+1 6680703335</td></tr><tr><td>2024-10-12T06:02:27.000Z</td><td>8539</td><td>Lori Mason</td><td>2002-11-01</td><td>stephanie7@mail.com</td><td>2024-09-12</td><td>+1 0498301620</td></tr><tr><td>2024-11-09T14:52:31.000Z</td><td>5204</td><td>Jennifer Nichols DDS</td><td>1997-02-17</td><td>joseph8@example.org</td><td>2024-11-04</td><td>+1 0383356328</td></tr><tr><td>2024-11-19T14:03:09.000Z</td><td>5816</td><td>Amy Morales</td><td>1999-12-11</td><td>katelyn82@example.org</td><td>2024-11-04</td><td>+1 4140982719</td></tr><tr><td>2024-11-09T07:14:17.000Z</td><td>7123</td><td>Edgar Stevens</td><td>2003-02-15</td><td>kevin68@example.org</td><td>2024-10-27</td><td>+1 0793189847</td></tr><tr><td>2024-11-07T22:20:00.000Z</td><td>2703</td><td>Anthony Miller</td><td>1997-11-02</td><td>null</td><td>2024-11-05</td><td>+1 1586310752</td></tr><tr><td>2024-11-12T12:57:38.000Z</td><td>4914</td><td>Samantha Johnson</td><td>1997-03-26</td><td>theresa14@mail.com</td><td>2024-10-13</td><td>+1 4095003738</td></tr><tr><td>2024-11-23T18:16:18.000Z</td><td>4468</td><td>Mrs. Roberta Salas PhD</td><td>1997-05-10</td><td>null</td><td>2024-10-25</td><td>+1 4679955118</td></tr><tr><td>2024-11-24T11:14:03.000Z</td><td>3712</td><td>Robin Chavez</td><td>1997-03-16</td><td>lisa15@gmail.com</td><td>2024-11-24</td><td>+1 2654756919</td></tr><tr><td>2024-11-03T17:22:56.000Z</td><td>2054</td><td>Alan Price</td><td>1998-08-25</td><td>connor40@yahoo.com</td><td>2024-10-14</td><td>+1 3745642936</td></tr><tr><td>2024-11-16T01:47:25.000Z</td><td>1987</td><td>Amanda Alvarez</td><td>1995-10-11</td><td>eric40@outlook.com</td><td>2024-10-27</td><td>+1 9673066300</td></tr><tr><td>2024-11-08T02:26:42.000Z</td><td>7295</td><td>Lauren Reed</td><td>2001-08-11</td><td>jeanette48@example.org</td><td>2024-10-10</td><td>+1 0104088765</td></tr><tr><td>2024-11-14T16:41:14.000Z</td><td>4761</td><td>Timothy Smith</td><td>1996-11-07</td><td>joshua40@yahoo.com</td><td>2024-11-03</td><td>+1 9450920858</td></tr><tr><td>2024-11-14T20:41:18.000Z</td><td>3892</td><td>Jason Bridges</td><td>2004-01-01</td><td>nicole29@gmail.com</td><td>2024-10-29</td><td>+1 8220011928</td></tr><tr><td>2024-11-09T20:24:30.000Z</td><td>7803</td><td>Katherine Lee</td><td>2000-03-09</td><td>jennifer85@mail.com</td><td>2024-10-27</td><td>+1 3119886866</td></tr><tr><td>2024-12-05T08:58:52.000Z</td><td>9687</td><td>Micheal Perez MD</td><td>2002-07-18</td><td>christopher65@example.org</td><td>2024-11-22</td><td>+1 3079718622</td></tr><tr><td>2024-12-24T14:46:04.000Z</td><td>6384</td><td>Jennifer Carrillo</td><td>1994-12-18</td><td>james34@yahoo.com</td><td>2024-12-22</td><td>+1 5592179843</td></tr><tr><td>2024-12-04T13:16:03.000Z</td><td>5592</td><td>Richard Neal</td><td>1995-11-05</td><td>eric52@gmail.com</td><td>2024-11-15</td><td>+1 4425187397</td></tr><tr><td>2024-12-17T15:05:15.000Z</td><td>2141</td><td>Zachary Lopez</td><td>2002-09-20</td><td>glenn87@example.org</td><td>2024-12-14</td><td>+1 7431190983</td></tr><tr><td>2024-12-25T11:06:35.000Z</td><td>6973</td><td>Tracy Cole</td><td>1998-07-24</td><td>tony46@mail.com</td><td>2024-12-16</td><td>+1 5515836612</td></tr><tr><td>2024-12-13T14:23:27.000Z</td><td>6406</td><td>Christopher Ritter</td><td>2004-07-12</td><td>null</td><td>2024-11-24</td><td>+1 1752511241</td></tr><tr><td>2024-12-22T23:00:48.000Z</td><td>7997</td><td>Patricia Abbott</td><td>1997-07-31</td><td>angela97@mail.com</td><td>2024-11-28</td><td>+1 4053366448</td></tr><tr><td>2024-12-07T18:09:58.000Z</td><td>7829</td><td>Daniel Black</td><td>1998-04-13</td><td>sandra54@example.org</td><td>2024-11-16</td><td>+1 0933795082</td></tr><tr><td>2024-12-26T09:29:16.000Z</td><td>3532</td><td>Holly Wilkinson</td><td>2003-03-06</td><td>lindsey61@yahoo.com</td><td>2024-12-22</td><td>null</td></tr><tr><td>2024-12-16T16:54:10.000Z</td><td>1211</td><td>Jeremy Ball</td><td>2002-03-26</td><td>megan86@yahoo.com</td><td>2024-12-01</td><td>+1 5793543882</td></tr><tr><td>2024-12-20T12:32:29.000Z</td><td>3084</td><td>Tyler Simmons</td><td>2003-02-20</td><td>brian94@mail.com</td><td>2024-12-02</td><td>null</td></tr><tr><td>2024-12-21T07:08:28.000Z</td><td>2639</td><td>Jessica Deleon</td><td>1995-06-04</td><td>jeremiah96@gmail.com</td><td>2024-11-22</td><td>+1 1304435999</td></tr><tr><td>2025-01-14T13:30:57.000Z</td><td>9605</td><td>Tiffany Rocha</td><td>2003-04-25</td><td>michael82@yahoo.com</td><td>2024-12-22</td><td>+1 6232811506</td></tr><tr><td>2025-01-25T13:28:31.000Z</td><td>3889</td><td>Jennifer Jackson</td><td>1995-10-30</td><td>catherine77@example.org</td><td>2025-01-07</td><td>+1 5932456755</td></tr><tr><td>2025-01-17T07:50:48.000Z</td><td>3295</td><td>Drew Hanson</td><td>1996-11-21</td><td>cathy31@gmail.com</td><td>2025-01-01</td><td>+1 6521792889</td></tr><tr><td>2025-01-12T20:13:31.000Z</td><td>4996</td><td>Brandon Reed</td><td>1997-05-11</td><td>stacey71@yahoo.com</td><td>2024-12-13</td><td>null</td></tr><tr><td>2025-01-03T03:28:34.000Z</td><td>9084</td><td>Olivia Lyons</td><td>1997-06-17</td><td>patty47@outlook.com</td><td>2024-12-16</td><td>+1 2909899135</td></tr><tr><td>2025-01-23T02:07:26.000Z</td><td>9150</td><td>Alison Davis</td><td>2004-01-17</td><td>jacob31@yahoo.com</td><td>2024-12-26</td><td>+1 7119851149</td></tr><tr><td>2025-01-14T18:31:28.000Z</td><td>6167</td><td>Leslie Smith</td><td>2001-10-28</td><td>angela16@mail.com</td><td>2024-12-16</td><td>+1 2978446880</td></tr><tr><td>2025-01-05T17:29:34.000Z</td><td>7007</td><td>Joe Castaneda</td><td>1999-04-27</td><td>michael34@mail.com</td><td>2024-12-31</td><td>+1 1767970338</td></tr><tr><td>2025-01-26T09:46:03.000Z</td><td>4973</td><td>Daniel Thompson</td><td>1999-07-17</td><td>connor32@example.org</td><td>2024-12-27</td><td>+1 5823046206</td></tr><tr><td>2025-01-17T15:59:39.000Z</td><td>5953</td><td>Kevin Harris</td><td>2003-01-23</td><td>timothy99@mail.com</td><td>2024-12-31</td><td>+1 6517763640</td></tr><tr><td>2025-01-16T21:17:22.000Z</td><td>8845</td><td>Joseph Robbins</td><td>1997-04-04</td><td>derek53@yahoo.com</td><td>2025-01-12</td><td>+1 9513893820</td></tr></tbody></table></div>"
      ]
     },
     "metadata": {
      "application/vnd.databricks.v1+output": {
       "addedWidgets": {},
       "aggData": [],
       "aggError": "",
       "aggOverflow": false,
       "aggSchema": [],
       "aggSeriesLimitReached": false,
       "aggType": "",
       "arguments": {},
       "columnCustomDisplayInfos": {},
       "data": [
        [
         "2024-10-01T00:50:29.000Z",
         4858,
         "Carla Morton",
         "2004-06-21",
         "joseph88@mail.com",
         "2024-09-15",
         "+1 8616454195"
        ],
        [
         "2024-10-15T02:48:29.000Z",
         5011,
         "Rachel Thomas",
         "2003-02-17",
         "lauren59@yahoo.com",
         "2024-09-24",
         "+1 5437271621"
        ],
        [
         "2024-10-06T19:55:52.000Z",
         5028,
         "Jessica Harris",
         "2004-04-19",
         null,
         "2024-09-10",
         "+1 8604009935"
        ],
        [
         "2024-10-26T15:14:33.000Z",
         2344,
         "Martin Thomas DDS",
         "2002-05-01",
         "billy42@outlook.com",
         "2024-10-13",
         "+1 0201457151"
        ],
        [
         "2024-10-28T00:57:09.000Z",
         9247,
         "Dr. Daniel Hall",
         "2004-03-21",
         "tamara30@gmail.com",
         "2024-10-03",
         "+1 7544137170"
        ],
        [
         "2024-10-24T13:03:13.000Z",
         9706,
         "Jennifer Haas",
         "2001-04-03",
         "benjamin55@mail.com",
         "2024-10-05",
         "+1 4725460000"
        ],
        [
         "2024-10-21T13:20:26.000Z",
         8580,
         "Shannon Austin",
         "2002-03-22",
         "john30@gmail.com",
         "2024-10-07",
         "+1 4594705629"
        ],
        [
         "2024-10-23T22:03:08.000Z",
         7207,
         "Billy Scott",
         "1997-03-17",
         "christopher30@mail.com",
         "2024-09-23",
         "+1 5544387564"
        ],
        [
         "2024-10-22T05:52:57.000Z",
         6627,
         "Candice Rosales",
         "2004-04-03",
         "amber79@example.org",
         "2024-10-15",
         "+1 4788451559"
        ],
        [
         "2024-10-18T23:24:52.000Z",
         9018,
         "William Carter",
         "2003-09-05",
         "james70@gmail.com",
         "2024-10-08",
         "+1 1448753611"
        ],
        [
         "2024-10-08T22:49:25.000Z",
         9263,
         "Joseph Keller",
         "2003-02-11",
         null,
         "2024-10-04",
         "+1 3817867756"
        ],
        [
         "2024-10-02T14:53:40.000Z",
         3409,
         "Andrew Phillips",
         "2003-04-17",
         "peter73@yahoo.com",
         "2024-09-30",
         "+1 4079273853"
        ],
        [
         "2024-10-17T16:12:27.000Z",
         9179,
         "Richard Cox",
         "1996-10-25",
         "devon84@mail.com",
         "2024-09-26",
         "+1 6680703335"
        ],
        [
         "2024-10-12T06:02:27.000Z",
         8539,
         "Lori Mason",
         "2002-11-01",
         "stephanie7@mail.com",
         "2024-09-12",
         "+1 0498301620"
        ],
        [
         "2024-11-09T14:52:31.000Z",
         5204,
         "Jennifer Nichols DDS",
         "1997-02-17",
         "joseph8@example.org",
         "2024-11-04",
         "+1 0383356328"
        ],
        [
         "2024-11-19T14:03:09.000Z",
         5816,
         "Amy Morales",
         "1999-12-11",
         "katelyn82@example.org",
         "2024-11-04",
         "+1 4140982719"
        ],
        [
         "2024-11-09T07:14:17.000Z",
         7123,
         "Edgar Stevens",
         "2003-02-15",
         "kevin68@example.org",
         "2024-10-27",
         "+1 0793189847"
        ],
        [
         "2024-11-07T22:20:00.000Z",
         2703,
         "Anthony Miller",
         "1997-11-02",
         null,
         "2024-11-05",
         "+1 1586310752"
        ],
        [
         "2024-11-12T12:57:38.000Z",
         4914,
         "Samantha Johnson",
         "1997-03-26",
         "theresa14@mail.com",
         "2024-10-13",
         "+1 4095003738"
        ],
        [
         "2024-11-23T18:16:18.000Z",
         4468,
         "Mrs. Roberta Salas PhD",
         "1997-05-10",
         null,
         "2024-10-25",
         "+1 4679955118"
        ],
        [
         "2024-11-24T11:14:03.000Z",
         3712,
         "Robin Chavez",
         "1997-03-16",
         "lisa15@gmail.com",
         "2024-11-24",
         "+1 2654756919"
        ],
        [
         "2024-11-03T17:22:56.000Z",
         2054,
         "Alan Price",
         "1998-08-25",
         "connor40@yahoo.com",
         "2024-10-14",
         "+1 3745642936"
        ],
        [
         "2024-11-16T01:47:25.000Z",
         1987,
         "Amanda Alvarez",
         "1995-10-11",
         "eric40@outlook.com",
         "2024-10-27",
         "+1 9673066300"
        ],
        [
         "2024-11-08T02:26:42.000Z",
         7295,
         "Lauren Reed",
         "2001-08-11",
         "jeanette48@example.org",
         "2024-10-10",
         "+1 0104088765"
        ],
        [
         "2024-11-14T16:41:14.000Z",
         4761,
         "Timothy Smith",
         "1996-11-07",
         "joshua40@yahoo.com",
         "2024-11-03",
         "+1 9450920858"
        ],
        [
         "2024-11-14T20:41:18.000Z",
         3892,
         "Jason Bridges",
         "2004-01-01",
         "nicole29@gmail.com",
         "2024-10-29",
         "+1 8220011928"
        ],
        [
         "2024-11-09T20:24:30.000Z",
         7803,
         "Katherine Lee",
         "2000-03-09",
         "jennifer85@mail.com",
         "2024-10-27",
         "+1 3119886866"
        ],
        [
         "2024-12-05T08:58:52.000Z",
         9687,
         "Micheal Perez MD",
         "2002-07-18",
         "christopher65@example.org",
         "2024-11-22",
         "+1 3079718622"
        ],
        [
         "2024-12-24T14:46:04.000Z",
         6384,
         "Jennifer Carrillo",
         "1994-12-18",
         "james34@yahoo.com",
         "2024-12-22",
         "+1 5592179843"
        ],
        [
         "2024-12-04T13:16:03.000Z",
         5592,
         "Richard Neal",
         "1995-11-05",
         "eric52@gmail.com",
         "2024-11-15",
         "+1 4425187397"
        ],
        [
         "2024-12-17T15:05:15.000Z",
         2141,
         "Zachary Lopez",
         "2002-09-20",
         "glenn87@example.org",
         "2024-12-14",
         "+1 7431190983"
        ],
        [
         "2024-12-25T11:06:35.000Z",
         6973,
         "Tracy Cole",
         "1998-07-24",
         "tony46@mail.com",
         "2024-12-16",
         "+1 5515836612"
        ],
        [
         "2024-12-13T14:23:27.000Z",
         6406,
         "Christopher Ritter",
         "2004-07-12",
         null,
         "2024-11-24",
         "+1 1752511241"
        ],
        [
         "2024-12-22T23:00:48.000Z",
         7997,
         "Patricia Abbott",
         "1997-07-31",
         "angela97@mail.com",
         "2024-11-28",
         "+1 4053366448"
        ],
        [
         "2024-12-07T18:09:58.000Z",
         7829,
         "Daniel Black",
         "1998-04-13",
         "sandra54@example.org",
         "2024-11-16",
         "+1 0933795082"
        ],
        [
         "2024-12-26T09:29:16.000Z",
         3532,
         "Holly Wilkinson",
         "2003-03-06",
         "lindsey61@yahoo.com",
         "2024-12-22",
         null
        ],
        [
         "2024-12-16T16:54:10.000Z",
         1211,
         "Jeremy Ball",
         "2002-03-26",
         "megan86@yahoo.com",
         "2024-12-01",
         "+1 5793543882"
        ],
        [
         "2024-12-20T12:32:29.000Z",
         3084,
         "Tyler Simmons",
         "2003-02-20",
         "brian94@mail.com",
         "2024-12-02",
         null
        ],
        [
         "2024-12-21T07:08:28.000Z",
         2639,
         "Jessica Deleon",
         "1995-06-04",
         "jeremiah96@gmail.com",
         "2024-11-22",
         "+1 1304435999"
        ],
        [
         "2025-01-14T13:30:57.000Z",
         9605,
         "Tiffany Rocha",
         "2003-04-25",
         "michael82@yahoo.com",
         "2024-12-22",
         "+1 6232811506"
        ],
        [
         "2025-01-25T13:28:31.000Z",
         3889,
         "Jennifer Jackson",
         "1995-10-30",
         "catherine77@example.org",
         "2025-01-07",
         "+1 5932456755"
        ],
        [
         "2025-01-17T07:50:48.000Z",
         3295,
         "Drew Hanson",
         "1996-11-21",
         "cathy31@gmail.com",
         "2025-01-01",
         "+1 6521792889"
        ],
        [
         "2025-01-12T20:13:31.000Z",
         4996,
         "Brandon Reed",
         "1997-05-11",
         "stacey71@yahoo.com",
         "2024-12-13",
         null
        ],
        [
         "2025-01-03T03:28:34.000Z",
         9084,
         "Olivia Lyons",
         "1997-06-17",
         "patty47@outlook.com",
         "2024-12-16",
         "+1 2909899135"
        ],
        [
         "2025-01-23T02:07:26.000Z",
         9150,
         "Alison Davis",
         "2004-01-17",
         "jacob31@yahoo.com",
         "2024-12-26",
         "+1 7119851149"
        ],
        [
         "2025-01-14T18:31:28.000Z",
         6167,
         "Leslie Smith",
         "2001-10-28",
         "angela16@mail.com",
         "2024-12-16",
         "+1 2978446880"
        ],
        [
         "2025-01-05T17:29:34.000Z",
         7007,
         "Joe Castaneda",
         "1999-04-27",
         "michael34@mail.com",
         "2024-12-31",
         "+1 1767970338"
        ],
        [
         "2025-01-26T09:46:03.000Z",
         4973,
         "Daniel Thompson",
         "1999-07-17",
         "connor32@example.org",
         "2024-12-27",
         "+1 5823046206"
        ],
        [
         "2025-01-17T15:59:39.000Z",
         5953,
         "Kevin Harris",
         "2003-01-23",
         "timothy99@mail.com",
         "2024-12-31",
         "+1 6517763640"
        ],
        [
         "2025-01-16T21:17:22.000Z",
         8845,
         "Joseph Robbins",
         "1997-04-04",
         "derek53@yahoo.com",
         "2025-01-12",
         "+1 9513893820"
        ]
       ],
       "datasetInfos": [
        {
         "name": "_sqldf",
         "schema": {
          "fields": [
           {
            "metadata": {},
            "name": "created_timestamp",
            "nullable": true,
            "type": "timestamp"
           },
           {
            "metadata": {},
            "name": "customer_id",
            "nullable": true,
            "type": "long"
           },
           {
            "metadata": {},
            "name": "customer_name",
            "nullable": true,
            "type": "string"
           },
           {
            "metadata": {},
            "name": "date_of_birth",
            "nullable": true,
            "type": "date"
           },
           {
            "metadata": {},
            "name": "email",
            "nullable": true,
            "type": "string"
           },
           {
            "metadata": {},
            "name": "member_since",
            "nullable": true,
            "type": "date"
           },
           {
            "metadata": {},
            "name": "telephone",
            "nullable": true,
            "type": "string"
           }
          ],
          "type": "struct"
         },
         "tableIdentifier": null,
         "typeStr": "pyspark.sql.connect.dataframe.DataFrame"
        }
       ],
       "dbfsResultPath": null,
       "isJsonSchema": true,
       "metadata": {
        "createTempViewForImplicitDf": true,
        "dataframeName": "_sqldf",
        "executionCount": 40
       },
       "overflow": false,
       "plotOptions": {
        "customPlotOptions": {},
        "displayType": "table",
        "pivotAggregation": null,
        "pivotColumns": null,
        "xColumns": null,
        "yColumns": null
       },
       "removedWidgets": [],
       "schema": [
        {
         "metadata": "{}",
         "name": "created_timestamp",
         "type": "\"timestamp\""
        },
        {
         "metadata": "{}",
         "name": "customer_id",
         "type": "\"long\""
        },
        {
         "metadata": "{}",
         "name": "customer_name",
         "type": "\"string\""
        },
        {
         "metadata": "{}",
         "name": "date_of_birth",
         "type": "\"date\""
        },
        {
         "metadata": "{}",
         "name": "email",
         "type": "\"string\""
        },
        {
         "metadata": "{}",
         "name": "member_since",
         "type": "\"date\""
        },
        {
         "metadata": "{}",
         "name": "telephone",
         "type": "\"string\""
        }
       ],
       "type": "table"
      }
     },
     "output_type": "display_data"
    }
   ],
   "source": [
    "%sql\n",
    "with cte_max as \n",
    "(\n",
    "  select customer_id,\n",
    "      max(created_timestamp) as max_created_timestamp\n",
    " from v_customers_distinct\n",
    " group by customer_id\n",
    ")\n",
    "select cast(t.created_timestamp as timestamp) as created_timestamp,\n",
    "       t.customer_id,\n",
    "       t.customer_name,\n",
    "       cast(t.date_of_birth as date) as date_of_birth,\n",
    "       t.email,\n",
    "       cast(t.member_since as date) as member_since,  \n",
    "       t.telephone\n",
    "  from v_customers_distinct t \n",
    "  join cte_max m\n",
    "   on t.customer_id = m.customer_id\n",
    "   and t.created_timestamp = m.max_created_timestamp"
   ]
  },
  {
   "cell_type": "markdown",
   "metadata": {
    "application/vnd.databricks.v1+cell": {
     "cellMetadata": {},
     "inputWidgets": {},
     "nuid": "f586515c-9450-4d89-91bc-5cd3ff1d0840",
     "showTitle": false,
     "tableResultSettingsMap": {},
     "title": ""
    }
   },
   "source": [
    "#### 5- Write Data to a delta table "
   ]
  },
  {
   "cell_type": "code",
   "execution_count": 0,
   "metadata": {
    "application/vnd.databricks.v1+cell": {
     "cellMetadata": {
      "byteLimit": 2048000,
      "implicitDf": true,
      "rowLimit": 10000
     },
     "inputWidgets": {},
     "nuid": "fd15d574-31e4-45d6-a76a-f5c1efc54717",
     "showTitle": false,
     "tableResultSettingsMap": {},
     "title": ""
    }
   },
   "outputs": [
    {
     "output_type": "display_data",
     "data": {
      "text/html": [
       "<style scoped>\n",
       "  .table-result-container {\n",
       "    max-height: 300px;\n",
       "    overflow: auto;\n",
       "  }\n",
       "  table, th, td {\n",
       "    border: 1px solid black;\n",
       "    border-collapse: collapse;\n",
       "  }\n",
       "  th, td {\n",
       "    padding: 5px;\n",
       "  }\n",
       "  th {\n",
       "    text-align: left;\n",
       "  }\n",
       "</style><div class='table-result-container'><table class='table-result'><thead style='background-color: white'><tr><th>num_affected_rows</th><th>num_inserted_rows</th></tr></thead><tbody></tbody></table></div>"
      ]
     },
     "metadata": {
      "application/vnd.databricks.v1+output": {
       "addedWidgets": {},
       "aggData": [],
       "aggError": "",
       "aggOverflow": false,
       "aggSchema": [],
       "aggSeriesLimitReached": false,
       "aggType": "",
       "arguments": {},
       "columnCustomDisplayInfos": {},
       "data": [],
       "datasetInfos": [
        {
         "name": "_sqldf",
         "schema": {
          "fields": [
           {
            "metadata": {},
            "name": "num_affected_rows",
            "nullable": true,
            "type": "long"
           },
           {
            "metadata": {},
            "name": "num_inserted_rows",
            "nullable": true,
            "type": "long"
           }
          ],
          "type": "struct"
         },
         "tableIdentifier": null,
         "typeStr": "pyspark.sql.connect.dataframe.DataFrame"
        }
       ],
       "dbfsResultPath": null,
       "isJsonSchema": true,
       "metadata": {
        "createTempViewForImplicitDf": true,
        "dataframeName": "_sqldf",
        "executionCount": 42
       },
       "overflow": false,
       "plotOptions": {
        "customPlotOptions": {},
        "displayType": "table",
        "pivotAggregation": null,
        "pivotColumns": null,
        "xColumns": null,
        "yColumns": null
       },
       "removedWidgets": [],
       "schema": [
        {
         "metadata": "{}",
         "name": "num_affected_rows",
         "type": "\"long\""
        },
        {
         "metadata": "{}",
         "name": "num_inserted_rows",
         "type": "\"long\""
        }
       ],
       "type": "table"
      }
     },
     "output_type": "display_data"
    }
   ],
   "source": [
    "%sql\n",
    "create table gizmobox.silver.customers\n",
    "as\n",
    "with cte_max as \n",
    "(\n",
    "  select customer_id,\n",
    "      max(created_timestamp) as max_created_timestamp\n",
    " from v_customers_distinct\n",
    " group by customer_id\n",
    ")\n",
    "select cast(t.created_timestamp as timestamp) as created_timestamp,\n",
    "       t.customer_id,\n",
    "       t.customer_name,\n",
    "       cast(t.date_of_birth as date) as date_of_birth,\n",
    "       t.email,\n",
    "       cast(t.member_since as date) as member_since,  \n",
    "       t.telephone\n",
    "  from v_customers_distinct t \n",
    "  join cte_max m\n",
    "   on t.customer_id = m.customer_id\n",
    "   and t.created_timestamp = m.max_created_timestamp"
   ]
  },
  {
   "cell_type": "code",
   "execution_count": 0,
   "metadata": {
    "application/vnd.databricks.v1+cell": {
     "cellMetadata": {
      "byteLimit": 2048000,
      "implicitDf": true,
      "rowLimit": 10000
     },
     "inputWidgets": {},
     "nuid": "525001bd-5424-4691-beac-444f60232f0d",
     "showTitle": false,
     "tableResultSettingsMap": {},
     "title": ""
    }
   },
   "outputs": [
    {
     "output_type": "display_data",
     "data": {
      "text/html": [
       "<style scoped>\n",
       "  .table-result-container {\n",
       "    max-height: 300px;\n",
       "    overflow: auto;\n",
       "  }\n",
       "  table, th, td {\n",
       "    border: 1px solid black;\n",
       "    border-collapse: collapse;\n",
       "  }\n",
       "  th, td {\n",
       "    padding: 5px;\n",
       "  }\n",
       "  th {\n",
       "    text-align: left;\n",
       "  }\n",
       "</style><div class='table-result-container'><table class='table-result'><thead style='background-color: white'><tr><th>created_timestamp</th><th>customer_id</th><th>customer_name</th><th>date_of_birth</th><th>email</th><th>member_since</th><th>telephone</th></tr></thead><tbody><tr><td>2024-10-01T00:50:29.000Z</td><td>4858</td><td>Carla Morton</td><td>2004-06-21</td><td>joseph88@mail.com</td><td>2024-09-15</td><td>+1 8616454195</td></tr><tr><td>2024-10-15T02:48:29.000Z</td><td>5011</td><td>Rachel Thomas</td><td>2003-02-17</td><td>lauren59@yahoo.com</td><td>2024-09-24</td><td>+1 5437271621</td></tr><tr><td>2024-10-06T19:55:52.000Z</td><td>5028</td><td>Jessica Harris</td><td>2004-04-19</td><td>null</td><td>2024-09-10</td><td>+1 8604009935</td></tr><tr><td>2024-10-26T15:14:33.000Z</td><td>2344</td><td>Martin Thomas DDS</td><td>2002-05-01</td><td>billy42@outlook.com</td><td>2024-10-13</td><td>+1 0201457151</td></tr><tr><td>2024-10-28T00:57:09.000Z</td><td>9247</td><td>Dr. Daniel Hall</td><td>2004-03-21</td><td>tamara30@gmail.com</td><td>2024-10-03</td><td>+1 7544137170</td></tr><tr><td>2024-10-24T13:03:13.000Z</td><td>9706</td><td>Jennifer Haas</td><td>2001-04-03</td><td>benjamin55@mail.com</td><td>2024-10-05</td><td>+1 4725460000</td></tr><tr><td>2024-10-21T13:20:26.000Z</td><td>8580</td><td>Shannon Austin</td><td>2002-03-22</td><td>john30@gmail.com</td><td>2024-10-07</td><td>+1 4594705629</td></tr><tr><td>2024-10-23T22:03:08.000Z</td><td>7207</td><td>Billy Scott</td><td>1997-03-17</td><td>christopher30@mail.com</td><td>2024-09-23</td><td>+1 5544387564</td></tr><tr><td>2024-10-22T05:52:57.000Z</td><td>6627</td><td>Candice Rosales</td><td>2004-04-03</td><td>amber79@example.org</td><td>2024-10-15</td><td>+1 4788451559</td></tr><tr><td>2024-10-18T23:24:52.000Z</td><td>9018</td><td>William Carter</td><td>2003-09-05</td><td>james70@gmail.com</td><td>2024-10-08</td><td>+1 1448753611</td></tr><tr><td>2024-10-08T22:49:25.000Z</td><td>9263</td><td>Joseph Keller</td><td>2003-02-11</td><td>null</td><td>2024-10-04</td><td>+1 3817867756</td></tr><tr><td>2024-10-02T14:53:40.000Z</td><td>3409</td><td>Andrew Phillips</td><td>2003-04-17</td><td>peter73@yahoo.com</td><td>2024-09-30</td><td>+1 4079273853</td></tr><tr><td>2024-10-17T16:12:27.000Z</td><td>9179</td><td>Richard Cox</td><td>1996-10-25</td><td>devon84@mail.com</td><td>2024-09-26</td><td>+1 6680703335</td></tr><tr><td>2024-10-12T06:02:27.000Z</td><td>8539</td><td>Lori Mason</td><td>2002-11-01</td><td>stephanie7@mail.com</td><td>2024-09-12</td><td>+1 0498301620</td></tr><tr><td>2024-11-09T14:52:31.000Z</td><td>5204</td><td>Jennifer Nichols DDS</td><td>1997-02-17</td><td>joseph8@example.org</td><td>2024-11-04</td><td>+1 0383356328</td></tr><tr><td>2024-11-19T14:03:09.000Z</td><td>5816</td><td>Amy Morales</td><td>1999-12-11</td><td>katelyn82@example.org</td><td>2024-11-04</td><td>+1 4140982719</td></tr><tr><td>2024-11-09T07:14:17.000Z</td><td>7123</td><td>Edgar Stevens</td><td>2003-02-15</td><td>kevin68@example.org</td><td>2024-10-27</td><td>+1 0793189847</td></tr><tr><td>2024-11-07T22:20:00.000Z</td><td>2703</td><td>Anthony Miller</td><td>1997-11-02</td><td>null</td><td>2024-11-05</td><td>+1 1586310752</td></tr><tr><td>2024-11-12T12:57:38.000Z</td><td>4914</td><td>Samantha Johnson</td><td>1997-03-26</td><td>theresa14@mail.com</td><td>2024-10-13</td><td>+1 4095003738</td></tr><tr><td>2024-11-23T18:16:18.000Z</td><td>4468</td><td>Mrs. Roberta Salas PhD</td><td>1997-05-10</td><td>null</td><td>2024-10-25</td><td>+1 4679955118</td></tr><tr><td>2024-11-24T11:14:03.000Z</td><td>3712</td><td>Robin Chavez</td><td>1997-03-16</td><td>lisa15@gmail.com</td><td>2024-11-24</td><td>+1 2654756919</td></tr><tr><td>2024-11-03T17:22:56.000Z</td><td>2054</td><td>Alan Price</td><td>1998-08-25</td><td>connor40@yahoo.com</td><td>2024-10-14</td><td>+1 3745642936</td></tr><tr><td>2024-11-16T01:47:25.000Z</td><td>1987</td><td>Amanda Alvarez</td><td>1995-10-11</td><td>eric40@outlook.com</td><td>2024-10-27</td><td>+1 9673066300</td></tr><tr><td>2024-11-08T02:26:42.000Z</td><td>7295</td><td>Lauren Reed</td><td>2001-08-11</td><td>jeanette48@example.org</td><td>2024-10-10</td><td>+1 0104088765</td></tr><tr><td>2024-11-14T16:41:14.000Z</td><td>4761</td><td>Timothy Smith</td><td>1996-11-07</td><td>joshua40@yahoo.com</td><td>2024-11-03</td><td>+1 9450920858</td></tr><tr><td>2024-11-14T20:41:18.000Z</td><td>3892</td><td>Jason Bridges</td><td>2004-01-01</td><td>nicole29@gmail.com</td><td>2024-10-29</td><td>+1 8220011928</td></tr><tr><td>2024-11-09T20:24:30.000Z</td><td>7803</td><td>Katherine Lee</td><td>2000-03-09</td><td>jennifer85@mail.com</td><td>2024-10-27</td><td>+1 3119886866</td></tr><tr><td>2024-12-05T08:58:52.000Z</td><td>9687</td><td>Micheal Perez MD</td><td>2002-07-18</td><td>christopher65@example.org</td><td>2024-11-22</td><td>+1 3079718622</td></tr><tr><td>2024-12-24T14:46:04.000Z</td><td>6384</td><td>Jennifer Carrillo</td><td>1994-12-18</td><td>james34@yahoo.com</td><td>2024-12-22</td><td>+1 5592179843</td></tr><tr><td>2024-12-04T13:16:03.000Z</td><td>5592</td><td>Richard Neal</td><td>1995-11-05</td><td>eric52@gmail.com</td><td>2024-11-15</td><td>+1 4425187397</td></tr><tr><td>2024-12-17T15:05:15.000Z</td><td>2141</td><td>Zachary Lopez</td><td>2002-09-20</td><td>glenn87@example.org</td><td>2024-12-14</td><td>+1 7431190983</td></tr><tr><td>2024-12-25T11:06:35.000Z</td><td>6973</td><td>Tracy Cole</td><td>1998-07-24</td><td>tony46@mail.com</td><td>2024-12-16</td><td>+1 5515836612</td></tr><tr><td>2024-12-13T14:23:27.000Z</td><td>6406</td><td>Christopher Ritter</td><td>2004-07-12</td><td>null</td><td>2024-11-24</td><td>+1 1752511241</td></tr><tr><td>2024-12-22T23:00:48.000Z</td><td>7997</td><td>Patricia Abbott</td><td>1997-07-31</td><td>angela97@mail.com</td><td>2024-11-28</td><td>+1 4053366448</td></tr><tr><td>2024-12-07T18:09:58.000Z</td><td>7829</td><td>Daniel Black</td><td>1998-04-13</td><td>sandra54@example.org</td><td>2024-11-16</td><td>+1 0933795082</td></tr><tr><td>2024-12-26T09:29:16.000Z</td><td>3532</td><td>Holly Wilkinson</td><td>2003-03-06</td><td>lindsey61@yahoo.com</td><td>2024-12-22</td><td>null</td></tr><tr><td>2024-12-16T16:54:10.000Z</td><td>1211</td><td>Jeremy Ball</td><td>2002-03-26</td><td>megan86@yahoo.com</td><td>2024-12-01</td><td>+1 5793543882</td></tr><tr><td>2024-12-20T12:32:29.000Z</td><td>3084</td><td>Tyler Simmons</td><td>2003-02-20</td><td>brian94@mail.com</td><td>2024-12-02</td><td>null</td></tr><tr><td>2024-12-21T07:08:28.000Z</td><td>2639</td><td>Jessica Deleon</td><td>1995-06-04</td><td>jeremiah96@gmail.com</td><td>2024-11-22</td><td>+1 1304435999</td></tr><tr><td>2025-01-14T13:30:57.000Z</td><td>9605</td><td>Tiffany Rocha</td><td>2003-04-25</td><td>michael82@yahoo.com</td><td>2024-12-22</td><td>+1 6232811506</td></tr><tr><td>2025-01-25T13:28:31.000Z</td><td>3889</td><td>Jennifer Jackson</td><td>1995-10-30</td><td>catherine77@example.org</td><td>2025-01-07</td><td>+1 5932456755</td></tr><tr><td>2025-01-17T07:50:48.000Z</td><td>3295</td><td>Drew Hanson</td><td>1996-11-21</td><td>cathy31@gmail.com</td><td>2025-01-01</td><td>+1 6521792889</td></tr><tr><td>2025-01-12T20:13:31.000Z</td><td>4996</td><td>Brandon Reed</td><td>1997-05-11</td><td>stacey71@yahoo.com</td><td>2024-12-13</td><td>null</td></tr><tr><td>2025-01-03T03:28:34.000Z</td><td>9084</td><td>Olivia Lyons</td><td>1997-06-17</td><td>patty47@outlook.com</td><td>2024-12-16</td><td>+1 2909899135</td></tr><tr><td>2025-01-23T02:07:26.000Z</td><td>9150</td><td>Alison Davis</td><td>2004-01-17</td><td>jacob31@yahoo.com</td><td>2024-12-26</td><td>+1 7119851149</td></tr><tr><td>2025-01-14T18:31:28.000Z</td><td>6167</td><td>Leslie Smith</td><td>2001-10-28</td><td>angela16@mail.com</td><td>2024-12-16</td><td>+1 2978446880</td></tr><tr><td>2025-01-05T17:29:34.000Z</td><td>7007</td><td>Joe Castaneda</td><td>1999-04-27</td><td>michael34@mail.com</td><td>2024-12-31</td><td>+1 1767970338</td></tr><tr><td>2025-01-26T09:46:03.000Z</td><td>4973</td><td>Daniel Thompson</td><td>1999-07-17</td><td>connor32@example.org</td><td>2024-12-27</td><td>+1 5823046206</td></tr><tr><td>2025-01-17T15:59:39.000Z</td><td>5953</td><td>Kevin Harris</td><td>2003-01-23</td><td>timothy99@mail.com</td><td>2024-12-31</td><td>+1 6517763640</td></tr><tr><td>2025-01-16T21:17:22.000Z</td><td>8845</td><td>Joseph Robbins</td><td>1997-04-04</td><td>derek53@yahoo.com</td><td>2025-01-12</td><td>+1 9513893820</td></tr></tbody></table></div>"
      ]
     },
     "metadata": {
      "application/vnd.databricks.v1+output": {
       "addedWidgets": {},
       "aggData": [],
       "aggError": "",
       "aggOverflow": false,
       "aggSchema": [],
       "aggSeriesLimitReached": false,
       "aggType": "",
       "arguments": {},
       "columnCustomDisplayInfos": {},
       "data": [
        [
         "2024-10-01T00:50:29.000Z",
         4858,
         "Carla Morton",
         "2004-06-21",
         "joseph88@mail.com",
         "2024-09-15",
         "+1 8616454195"
        ],
        [
         "2024-10-15T02:48:29.000Z",
         5011,
         "Rachel Thomas",
         "2003-02-17",
         "lauren59@yahoo.com",
         "2024-09-24",
         "+1 5437271621"
        ],
        [
         "2024-10-06T19:55:52.000Z",
         5028,
         "Jessica Harris",
         "2004-04-19",
         null,
         "2024-09-10",
         "+1 8604009935"
        ],
        [
         "2024-10-26T15:14:33.000Z",
         2344,
         "Martin Thomas DDS",
         "2002-05-01",
         "billy42@outlook.com",
         "2024-10-13",
         "+1 0201457151"
        ],
        [
         "2024-10-28T00:57:09.000Z",
         9247,
         "Dr. Daniel Hall",
         "2004-03-21",
         "tamara30@gmail.com",
         "2024-10-03",
         "+1 7544137170"
        ],
        [
         "2024-10-24T13:03:13.000Z",
         9706,
         "Jennifer Haas",
         "2001-04-03",
         "benjamin55@mail.com",
         "2024-10-05",
         "+1 4725460000"
        ],
        [
         "2024-10-21T13:20:26.000Z",
         8580,
         "Shannon Austin",
         "2002-03-22",
         "john30@gmail.com",
         "2024-10-07",
         "+1 4594705629"
        ],
        [
         "2024-10-23T22:03:08.000Z",
         7207,
         "Billy Scott",
         "1997-03-17",
         "christopher30@mail.com",
         "2024-09-23",
         "+1 5544387564"
        ],
        [
         "2024-10-22T05:52:57.000Z",
         6627,
         "Candice Rosales",
         "2004-04-03",
         "amber79@example.org",
         "2024-10-15",
         "+1 4788451559"
        ],
        [
         "2024-10-18T23:24:52.000Z",
         9018,
         "William Carter",
         "2003-09-05",
         "james70@gmail.com",
         "2024-10-08",
         "+1 1448753611"
        ],
        [
         "2024-10-08T22:49:25.000Z",
         9263,
         "Joseph Keller",
         "2003-02-11",
         null,
         "2024-10-04",
         "+1 3817867756"
        ],
        [
         "2024-10-02T14:53:40.000Z",
         3409,
         "Andrew Phillips",
         "2003-04-17",
         "peter73@yahoo.com",
         "2024-09-30",
         "+1 4079273853"
        ],
        [
         "2024-10-17T16:12:27.000Z",
         9179,
         "Richard Cox",
         "1996-10-25",
         "devon84@mail.com",
         "2024-09-26",
         "+1 6680703335"
        ],
        [
         "2024-10-12T06:02:27.000Z",
         8539,
         "Lori Mason",
         "2002-11-01",
         "stephanie7@mail.com",
         "2024-09-12",
         "+1 0498301620"
        ],
        [
         "2024-11-09T14:52:31.000Z",
         5204,
         "Jennifer Nichols DDS",
         "1997-02-17",
         "joseph8@example.org",
         "2024-11-04",
         "+1 0383356328"
        ],
        [
         "2024-11-19T14:03:09.000Z",
         5816,
         "Amy Morales",
         "1999-12-11",
         "katelyn82@example.org",
         "2024-11-04",
         "+1 4140982719"
        ],
        [
         "2024-11-09T07:14:17.000Z",
         7123,
         "Edgar Stevens",
         "2003-02-15",
         "kevin68@example.org",
         "2024-10-27",
         "+1 0793189847"
        ],
        [
         "2024-11-07T22:20:00.000Z",
         2703,
         "Anthony Miller",
         "1997-11-02",
         null,
         "2024-11-05",
         "+1 1586310752"
        ],
        [
         "2024-11-12T12:57:38.000Z",
         4914,
         "Samantha Johnson",
         "1997-03-26",
         "theresa14@mail.com",
         "2024-10-13",
         "+1 4095003738"
        ],
        [
         "2024-11-23T18:16:18.000Z",
         4468,
         "Mrs. Roberta Salas PhD",
         "1997-05-10",
         null,
         "2024-10-25",
         "+1 4679955118"
        ],
        [
         "2024-11-24T11:14:03.000Z",
         3712,
         "Robin Chavez",
         "1997-03-16",
         "lisa15@gmail.com",
         "2024-11-24",
         "+1 2654756919"
        ],
        [
         "2024-11-03T17:22:56.000Z",
         2054,
         "Alan Price",
         "1998-08-25",
         "connor40@yahoo.com",
         "2024-10-14",
         "+1 3745642936"
        ],
        [
         "2024-11-16T01:47:25.000Z",
         1987,
         "Amanda Alvarez",
         "1995-10-11",
         "eric40@outlook.com",
         "2024-10-27",
         "+1 9673066300"
        ],
        [
         "2024-11-08T02:26:42.000Z",
         7295,
         "Lauren Reed",
         "2001-08-11",
         "jeanette48@example.org",
         "2024-10-10",
         "+1 0104088765"
        ],
        [
         "2024-11-14T16:41:14.000Z",
         4761,
         "Timothy Smith",
         "1996-11-07",
         "joshua40@yahoo.com",
         "2024-11-03",
         "+1 9450920858"
        ],
        [
         "2024-11-14T20:41:18.000Z",
         3892,
         "Jason Bridges",
         "2004-01-01",
         "nicole29@gmail.com",
         "2024-10-29",
         "+1 8220011928"
        ],
        [
         "2024-11-09T20:24:30.000Z",
         7803,
         "Katherine Lee",
         "2000-03-09",
         "jennifer85@mail.com",
         "2024-10-27",
         "+1 3119886866"
        ],
        [
         "2024-12-05T08:58:52.000Z",
         9687,
         "Micheal Perez MD",
         "2002-07-18",
         "christopher65@example.org",
         "2024-11-22",
         "+1 3079718622"
        ],
        [
         "2024-12-24T14:46:04.000Z",
         6384,
         "Jennifer Carrillo",
         "1994-12-18",
         "james34@yahoo.com",
         "2024-12-22",
         "+1 5592179843"
        ],
        [
         "2024-12-04T13:16:03.000Z",
         5592,
         "Richard Neal",
         "1995-11-05",
         "eric52@gmail.com",
         "2024-11-15",
         "+1 4425187397"
        ],
        [
         "2024-12-17T15:05:15.000Z",
         2141,
         "Zachary Lopez",
         "2002-09-20",
         "glenn87@example.org",
         "2024-12-14",
         "+1 7431190983"
        ],
        [
         "2024-12-25T11:06:35.000Z",
         6973,
         "Tracy Cole",
         "1998-07-24",
         "tony46@mail.com",
         "2024-12-16",
         "+1 5515836612"
        ],
        [
         "2024-12-13T14:23:27.000Z",
         6406,
         "Christopher Ritter",
         "2004-07-12",
         null,
         "2024-11-24",
         "+1 1752511241"
        ],
        [
         "2024-12-22T23:00:48.000Z",
         7997,
         "Patricia Abbott",
         "1997-07-31",
         "angela97@mail.com",
         "2024-11-28",
         "+1 4053366448"
        ],
        [
         "2024-12-07T18:09:58.000Z",
         7829,
         "Daniel Black",
         "1998-04-13",
         "sandra54@example.org",
         "2024-11-16",
         "+1 0933795082"
        ],
        [
         "2024-12-26T09:29:16.000Z",
         3532,
         "Holly Wilkinson",
         "2003-03-06",
         "lindsey61@yahoo.com",
         "2024-12-22",
         null
        ],
        [
         "2024-12-16T16:54:10.000Z",
         1211,
         "Jeremy Ball",
         "2002-03-26",
         "megan86@yahoo.com",
         "2024-12-01",
         "+1 5793543882"
        ],
        [
         "2024-12-20T12:32:29.000Z",
         3084,
         "Tyler Simmons",
         "2003-02-20",
         "brian94@mail.com",
         "2024-12-02",
         null
        ],
        [
         "2024-12-21T07:08:28.000Z",
         2639,
         "Jessica Deleon",
         "1995-06-04",
         "jeremiah96@gmail.com",
         "2024-11-22",
         "+1 1304435999"
        ],
        [
         "2025-01-14T13:30:57.000Z",
         9605,
         "Tiffany Rocha",
         "2003-04-25",
         "michael82@yahoo.com",
         "2024-12-22",
         "+1 6232811506"
        ],
        [
         "2025-01-25T13:28:31.000Z",
         3889,
         "Jennifer Jackson",
         "1995-10-30",
         "catherine77@example.org",
         "2025-01-07",
         "+1 5932456755"
        ],
        [
         "2025-01-17T07:50:48.000Z",
         3295,
         "Drew Hanson",
         "1996-11-21",
         "cathy31@gmail.com",
         "2025-01-01",
         "+1 6521792889"
        ],
        [
         "2025-01-12T20:13:31.000Z",
         4996,
         "Brandon Reed",
         "1997-05-11",
         "stacey71@yahoo.com",
         "2024-12-13",
         null
        ],
        [
         "2025-01-03T03:28:34.000Z",
         9084,
         "Olivia Lyons",
         "1997-06-17",
         "patty47@outlook.com",
         "2024-12-16",
         "+1 2909899135"
        ],
        [
         "2025-01-23T02:07:26.000Z",
         9150,
         "Alison Davis",
         "2004-01-17",
         "jacob31@yahoo.com",
         "2024-12-26",
         "+1 7119851149"
        ],
        [
         "2025-01-14T18:31:28.000Z",
         6167,
         "Leslie Smith",
         "2001-10-28",
         "angela16@mail.com",
         "2024-12-16",
         "+1 2978446880"
        ],
        [
         "2025-01-05T17:29:34.000Z",
         7007,
         "Joe Castaneda",
         "1999-04-27",
         "michael34@mail.com",
         "2024-12-31",
         "+1 1767970338"
        ],
        [
         "2025-01-26T09:46:03.000Z",
         4973,
         "Daniel Thompson",
         "1999-07-17",
         "connor32@example.org",
         "2024-12-27",
         "+1 5823046206"
        ],
        [
         "2025-01-17T15:59:39.000Z",
         5953,
         "Kevin Harris",
         "2003-01-23",
         "timothy99@mail.com",
         "2024-12-31",
         "+1 6517763640"
        ],
        [
         "2025-01-16T21:17:22.000Z",
         8845,
         "Joseph Robbins",
         "1997-04-04",
         "derek53@yahoo.com",
         "2025-01-12",
         "+1 9513893820"
        ]
       ],
       "datasetInfos": [
        {
         "name": "_sqldf",
         "schema": {
          "fields": [
           {
            "metadata": {},
            "name": "created_timestamp",
            "nullable": true,
            "type": "timestamp"
           },
           {
            "metadata": {},
            "name": "customer_id",
            "nullable": true,
            "type": "long"
           },
           {
            "metadata": {},
            "name": "customer_name",
            "nullable": true,
            "type": "string"
           },
           {
            "metadata": {},
            "name": "date_of_birth",
            "nullable": true,
            "type": "date"
           },
           {
            "metadata": {},
            "name": "email",
            "nullable": true,
            "type": "string"
           },
           {
            "metadata": {},
            "name": "member_since",
            "nullable": true,
            "type": "date"
           },
           {
            "metadata": {},
            "name": "telephone",
            "nullable": true,
            "type": "string"
           }
          ],
          "type": "struct"
         },
         "tableIdentifier": null,
         "typeStr": "pyspark.sql.connect.dataframe.DataFrame"
        }
       ],
       "dbfsResultPath": null,
       "isJsonSchema": true,
       "metadata": {
        "createTempViewForImplicitDf": true,
        "dataframeName": "_sqldf",
        "executionCount": 43
       },
       "overflow": false,
       "plotOptions": {
        "customPlotOptions": {},
        "displayType": "table",
        "pivotAggregation": null,
        "pivotColumns": null,
        "xColumns": null,
        "yColumns": null
       },
       "removedWidgets": [],
       "schema": [
        {
         "metadata": "{}",
         "name": "created_timestamp",
         "type": "\"timestamp\""
        },
        {
         "metadata": "{}",
         "name": "customer_id",
         "type": "\"long\""
        },
        {
         "metadata": "{}",
         "name": "customer_name",
         "type": "\"string\""
        },
        {
         "metadata": "{}",
         "name": "date_of_birth",
         "type": "\"date\""
        },
        {
         "metadata": "{}",
         "name": "email",
         "type": "\"string\""
        },
        {
         "metadata": "{}",
         "name": "member_since",
         "type": "\"date\""
        },
        {
         "metadata": "{}",
         "name": "telephone",
         "type": "\"string\""
        }
       ],
       "type": "table"
      }
     },
     "output_type": "display_data"
    }
   ],
   "source": [
    "%sql\n",
    "select *\n",
    "  from gizmobox.silver.customers"
   ]
  },
  {
   "cell_type": "code",
   "execution_count": 0,
   "metadata": {
    "application/vnd.databricks.v1+cell": {
     "cellMetadata": {
      "byteLimit": 2048000,
      "implicitDf": true,
      "rowLimit": 10000
     },
     "inputWidgets": {},
     "nuid": "2a381260-79e3-4184-a37b-e9169f4f69ad",
     "showTitle": false,
     "tableResultSettingsMap": {},
     "title": ""
    }
   },
   "outputs": [
    {
     "output_type": "display_data",
     "data": {
      "text/html": [
       "<style scoped>\n",
       "  .table-result-container {\n",
       "    max-height: 300px;\n",
       "    overflow: auto;\n",
       "  }\n",
       "  table, th, td {\n",
       "    border: 1px solid black;\n",
       "    border-collapse: collapse;\n",
       "  }\n",
       "  th, td {\n",
       "    padding: 5px;\n",
       "  }\n",
       "  th {\n",
       "    text-align: left;\n",
       "  }\n",
       "</style><div class='table-result-container'><table class='table-result'><thead style='background-color: white'><tr><th>col_name</th><th>data_type</th><th>comment</th></tr></thead><tbody><tr><td>created_timestamp</td><td>timestamp</td><td>null</td></tr><tr><td>customer_id</td><td>bigint</td><td>null</td></tr><tr><td>customer_name</td><td>string</td><td>null</td></tr><tr><td>date_of_birth</td><td>date</td><td>null</td></tr><tr><td>email</td><td>string</td><td>null</td></tr><tr><td>member_since</td><td>date</td><td>null</td></tr><tr><td>telephone</td><td>string</td><td>null</td></tr><tr><td></td><td></td><td></td></tr><tr><td># Delta Statistics Columns</td><td></td><td></td></tr><tr><td>Column Names</td><td>email, created_timestamp, telephone, customer_id, customer_name, member_since, date_of_birth</td><td></td></tr><tr><td>Column Selection Method</td><td>first-32</td><td></td></tr><tr><td></td><td></td><td></td></tr><tr><td># Detailed Table Information</td><td></td><td></td></tr><tr><td>Catalog</td><td>gizmobox</td><td></td></tr><tr><td>Database</td><td>silver</td><td></td></tr><tr><td>Table</td><td>customers</td><td></td></tr><tr><td>Created Time</td><td>Wed Sep 17 02:06:34 UTC 2025</td><td></td></tr><tr><td>Last Access</td><td>UNKNOWN</td><td></td></tr><tr><td>Created By</td><td>Spark </td><td></td></tr><tr><td>Statistics</td><td>5081 bytes, 50 rows</td><td></td></tr><tr><td>Type</td><td>MANAGED</td><td></td></tr><tr><td>Collation</td><td>UTF8_BINARY</td><td></td></tr><tr><td>Location</td><td></td><td></td></tr><tr><td>Provider</td><td>delta</td><td></td></tr><tr><td>Owner</td><td>salmaboukhris.contact@gmail.com</td><td></td></tr><tr><td>Is_managed_location</td><td>true</td><td></td></tr><tr><td>Predictive Optimization</td><td>ENABLE (inherited from METASTORE metastore_aws_us_east_2)</td><td></td></tr><tr><td>Table Properties</td><td>[delta.enableDeletionVectors=true,delta.feature.appendOnly=supported,delta.feature.deletionVectors=supported,delta.feature.invariants=supported,delta.minReaderVersion=3,delta.minWriterVersion=7]</td><td></td></tr></tbody></table></div>"
      ]
     },
     "metadata": {
      "application/vnd.databricks.v1+output": {
       "addedWidgets": {},
       "aggData": [],
       "aggError": "",
       "aggOverflow": false,
       "aggSchema": [],
       "aggSeriesLimitReached": false,
       "aggType": "",
       "arguments": {},
       "columnCustomDisplayInfos": {},
       "data": [
        [
         "created_timestamp",
         "timestamp",
         null
        ],
        [
         "customer_id",
         "bigint",
         null
        ],
        [
         "customer_name",
         "string",
         null
        ],
        [
         "date_of_birth",
         "date",
         null
        ],
        [
         "email",
         "string",
         null
        ],
        [
         "member_since",
         "date",
         null
        ],
        [
         "telephone",
         "string",
         null
        ],
        [
         "",
         "",
         ""
        ],
        [
         "# Delta Statistics Columns",
         "",
         ""
        ],
        [
         "Column Names",
         "email, created_timestamp, telephone, customer_id, customer_name, member_since, date_of_birth",
         ""
        ],
        [
         "Column Selection Method",
         "first-32",
         ""
        ],
        [
         "",
         "",
         ""
        ],
        [
         "# Detailed Table Information",
         "",
         ""
        ],
        [
         "Catalog",
         "gizmobox",
         ""
        ],
        [
         "Database",
         "silver",
         ""
        ],
        [
         "Table",
         "customers",
         ""
        ],
        [
         "Created Time",
         "Wed Sep 17 02:06:34 UTC 2025",
         ""
        ],
        [
         "Last Access",
         "UNKNOWN",
         ""
        ],
        [
         "Created By",
         "Spark ",
         ""
        ],
        [
         "Statistics",
         "5081 bytes, 50 rows",
         ""
        ],
        [
         "Type",
         "MANAGED",
         ""
        ],
        [
         "Collation",
         "UTF8_BINARY",
         ""
        ],
        [
         "Location",
         "",
         ""
        ],
        [
         "Provider",
         "delta",
         ""
        ],
        [
         "Owner",
         "salmaboukhris.contact@gmail.com",
         ""
        ],
        [
         "Is_managed_location",
         "true",
         ""
        ],
        [
         "Predictive Optimization",
         "ENABLE (inherited from METASTORE metastore_aws_us_east_2)",
         ""
        ],
        [
         "Table Properties",
         "[delta.enableDeletionVectors=true,delta.feature.appendOnly=supported,delta.feature.deletionVectors=supported,delta.feature.invariants=supported,delta.minReaderVersion=3,delta.minWriterVersion=7]",
         ""
        ]
       ],
       "datasetInfos": [
        {
         "name": "_sqldf",
         "schema": {
          "fields": [
           {
            "metadata": {},
            "name": "col_name",
            "nullable": false,
            "type": "string"
           },
           {
            "metadata": {},
            "name": "data_type",
            "nullable": false,
            "type": "string"
           },
           {
            "metadata": {},
            "name": "comment",
            "nullable": true,
            "type": "string"
           }
          ],
          "type": "struct"
         },
         "tableIdentifier": null,
         "typeStr": "pyspark.sql.connect.dataframe.DataFrame"
        }
       ],
       "dbfsResultPath": null,
       "isJsonSchema": true,
       "metadata": {
        "createTempViewForImplicitDf": true,
        "dataframeName": "_sqldf",
        "executionCount": 44
       },
       "overflow": false,
       "plotOptions": {
        "customPlotOptions": {},
        "displayType": "table",
        "pivotAggregation": null,
        "pivotColumns": null,
        "xColumns": null,
        "yColumns": null
       },
       "removedWidgets": [],
       "schema": [
        {
         "metadata": "{}",
         "name": "col_name",
         "type": "\"string\""
        },
        {
         "metadata": "{}",
         "name": "data_type",
         "type": "\"string\""
        },
        {
         "metadata": "{}",
         "name": "comment",
         "type": "\"string\""
        }
       ],
       "type": "table"
      }
     },
     "output_type": "display_data"
    }
   ],
   "source": [
    "%sql\n",
    "describe extended gizmobox.silver.customers"
   ]
  }
 ],
 "metadata": {
  "application/vnd.databricks.v1+notebook": {
   "computePreferences": null,
   "dashboards": [],
   "environmentMetadata": {
    "base_environment": "",
    "environment_version": "3"
   },
   "inputWidgetPreferences": null,
   "language": "python",
   "notebookMetadata": {
    "mostRecentlyExecutedCommandWithImplicitDF": {
     "commandId": 7120818431466238,
     "dataframes": [
      "_sqldf"
     ]
    },
    "pythonIndentUnit": 4
   },
   "notebookName": "9-Transform-customer-Data",
   "widgets": {}
  },
  "language_info": {
   "name": "python"
  }
 },
 "nbformat": 4,
 "nbformat_minor": 0
}
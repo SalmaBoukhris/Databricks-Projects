{
 "cells": [
  {
   "cell_type": "markdown",
   "metadata": {
    "application/vnd.databricks.v1+cell": {
     "cellMetadata": {},
     "inputWidgets": {},
     "nuid": "458f79f9-aa7c-4b9c-9abd-b27aa30dc133",
     "showTitle": false,
     "tableResultSettingsMap": {},
     "title": ""
    }
   },
   "source": [
    "### Extract Data using PySpark"
   ]
  },
  {
   "cell_type": "markdown",
   "metadata": {
    "application/vnd.databricks.v1+cell": {
     "cellMetadata": {},
     "inputWidgets": {},
     "nuid": "8d3421f4-e054-4513-892b-63fe7ed69f59",
     "showTitle": false,
     "tableResultSettingsMap": {},
     "title": ""
    }
   },
   "source": [
    "##### 1- Run SQL commands using -spark.sql Functions"
   ]
  },
  {
   "cell_type": "code",
   "execution_count": 0,
   "metadata": {
    "application/vnd.databricks.v1+cell": {
     "cellMetadata": {
      "byteLimit": 2048000,
      "rowLimit": 10000
     },
     "inputWidgets": {},
     "nuid": "e2a015f7-4024-412a-ae49-e0cfe4436c81",
     "showTitle": false,
     "tableResultSettingsMap": {},
     "title": ""
    }
   },
   "outputs": [
    {
     "output_type": "display_data",
     "data": {
      "text/html": [
       "<style scoped>\n",
       "  .table-result-container {\n",
       "    max-height: 300px;\n",
       "    overflow: auto;\n",
       "  }\n",
       "  table, th, td {\n",
       "    border: 1px solid black;\n",
       "    border-collapse: collapse;\n",
       "  }\n",
       "  th, td {\n",
       "    padding: 5px;\n",
       "  }\n",
       "  th {\n",
       "    text-align: left;\n",
       "  }\n",
       "</style><div class='table-result-container'><table class='table-result'><thead style='background-color: white'><tr><th>created_timestamp</th><th>customer_id</th><th>customer_name</th><th>date_of_birth</th><th>email</th><th>member_since</th><th>telephone</th></tr></thead><tbody><tr><td>2024-10-17 16:12:27</td><td>9179</td><td>Richard Cox</td><td>1996-10-25</td><td>devon84@mail.com</td><td>2024-09-26</td><td>+1 6680703335</td></tr><tr><td>2024-10-01 00:50:29</td><td>4858</td><td>Carla Morton</td><td>2004-06-21</td><td>joseph88@mail.com</td><td>2024-09-15</td><td>+1 8616454195</td></tr><tr><td>2024-10-23 22:03:08</td><td>7207</td><td>Billy Scott</td><td>1997-03-17</td><td>christopher30@mail.com</td><td>2024-09-23</td><td>+1 5544387564</td></tr><tr><td>2024-10-12 06:02:27</td><td>8539</td><td>Lori Mason</td><td>2002-11-01</td><td>stephanie7@mail.com</td><td>2024-09-12</td><td>+1 0498301620</td></tr><tr><td>2024-10-24 13:03:13</td><td>9706</td><td>Jennifer Haas</td><td>2001-04-03</td><td>benjamin55@mail.com</td><td>2024-10-05</td><td>+1 4725460000</td></tr><tr><td>2024-10-08 22:49:25</td><td>9263</td><td>Joseph Keller</td><td>2003-02-11</td><td>null</td><td>2024-10-04</td><td>+1 3817867756</td></tr><tr><td>2024-10-06 19:55:52</td><td>5028</td><td>Jessica Harris</td><td>2004-04-19</td><td>null</td><td>2024-09-10</td><td>+1 8604009935</td></tr><tr><td>2024-10-18 23:24:52</td><td>9018</td><td>William Carter</td><td>2003-09-05</td><td>james70@gmail.com</td><td>2024-10-08</td><td>+1 1448753611</td></tr><tr><td>2024-10-21 13:20:26</td><td>8580</td><td>Shannon Austin</td><td>2002-03-22</td><td>john30@gmail.com</td><td>2024-10-07</td><td>+1 4594705629</td></tr><tr><td>2024-10-02 14:53:40</td><td>3409</td><td>Andrew Phillips</td><td>2003-04-17</td><td>peter73@yahoo.com</td><td>2024-09-30</td><td>+1 4079273853</td></tr><tr><td>2024-10-26 15:14:33</td><td>2344</td><td>Martin Thomas DDS</td><td>2002-05-01</td><td>billy42@outlook.com</td><td>2024-10-13</td><td>+1 0201457151</td></tr><tr><td>2024-10-15 02:48:29</td><td>5011</td><td>Rachel Thomas</td><td>2003-02-17</td><td>lauren59@yahoo.com</td><td>2024-09-24</td><td>+1 5437271621</td></tr><tr><td>2024-10-28 00:57:09</td><td>9247</td><td>Dr. Daniel Hall</td><td>2004-03-21</td><td>tamara30@gmail.com</td><td>2024-10-03</td><td>+1 7544137170</td></tr><tr><td>2024-10-22 05:52:57</td><td>6627</td><td>Candice Rosales</td><td>2004-04-03</td><td>amber79@example.org</td><td>2024-10-15</td><td>+1 4788451559</td></tr><tr><td>2024-10-06 19:55:52</td><td>5028</td><td>Jessica Harris</td><td>2004-04-19</td><td>null</td><td>2024-09-10</td><td>+1 8604009935</td></tr><tr><td>2024-10-08 03:30:53</td><td>5816</td><td>Amy Morales</td><td>1999-12-11</td><td>daniel12@hotmail.com</td><td>2024-09-17</td><td>+46 4407385044</td></tr><tr><td>2024-10-15 01:27:54</td><td>9247</td><td>Dr. Daniel Hall</td><td>2004-03-21</td><td>sheena11@alexander.com</td><td>2024-09-15</td><td>+46 7281991017</td></tr><tr><td>2024-10-09 18:54:00</td><td>3889</td><td>Jennifer Jackson</td><td>1995-10-30</td><td>null</td><td>2024-09-16</td><td>+68 2276996612</td></tr><tr><td>2024-10-10 16:53:44</td><td>9084</td><td>Olivia Lyons</td><td>1997-06-17</td><td>johnsonmichael@yahoo.com</td><td>2024-09-26</td><td>null</td></tr><tr><td>2024-10-19 11:53:44</td><td>null</td><td>John Smith</td><td>1998-01-19</td><td>john.smith@outlook.com</td><td>2024-07-16</td><td>+1 8762342456</td></tr><tr><td>2024-11-14 20:41:18</td><td>3892</td><td>Jason Bridges</td><td>2004-01-01</td><td>nicole29@gmail.com</td><td>2024-10-29</td><td>+1 8220011928</td></tr><tr><td>2024-11-16 01:47:25</td><td>1987</td><td>Amanda Alvarez</td><td>1995-10-11</td><td>eric40@outlook.com</td><td>2024-10-27</td><td>+1 9673066300</td></tr><tr><td>2024-11-19 14:03:09</td><td>5816</td><td>Amy Morales</td><td>1999-12-11</td><td>katelyn82@example.org</td><td>2024-11-04</td><td>+1 4140982719</td></tr><tr><td>2024-11-09 14:52:31</td><td>5204</td><td>Jennifer Nichols DDS</td><td>1997-02-17</td><td>joseph8@example.org</td><td>2024-11-04</td><td>+1 0383356328</td></tr><tr><td>2024-11-23 18:16:18</td><td>4468</td><td>Mrs. Roberta Salas PhD</td><td>1997-05-10</td><td>null</td><td>2024-10-25</td><td>+1 4679955118</td></tr><tr><td>2024-11-14 16:41:14</td><td>4761</td><td>Timothy Smith</td><td>1996-11-07</td><td>joshua40@yahoo.com</td><td>2024-11-03</td><td>+1 9450920858</td></tr><tr><td>2024-11-07 22:20:00</td><td>2703</td><td>Anthony Miller</td><td>1997-11-02</td><td>null</td><td>2024-11-05</td><td>+1 1586310752</td></tr><tr><td>2024-11-12 12:57:38</td><td>4914</td><td>Samantha Johnson</td><td>1997-03-26</td><td>theresa14@mail.com</td><td>2024-10-13</td><td>+1 4095003738</td></tr><tr><td>2024-11-08 02:26:42</td><td>7295</td><td>Lauren Reed</td><td>2001-08-11</td><td>jeanette48@example.org</td><td>2024-10-10</td><td>+1 0104088765</td></tr><tr><td>2024-11-09 20:24:30</td><td>7803</td><td>Katherine Lee</td><td>2000-03-09</td><td>jennifer85@mail.com</td><td>2024-10-27</td><td>+1 3119886866</td></tr><tr><td>2024-11-24 11:14:03</td><td>3712</td><td>Robin Chavez</td><td>1997-03-16</td><td>lisa15@gmail.com</td><td>2024-11-24</td><td>+1 2654756919</td></tr><tr><td>2024-11-23 11:14:03</td><td>null</td><td>Andrew Taylor</td><td>1996-01-11</td><td>andrew.taylor@gmail.com</td><td>2024-11-21</td><td>+1 1235447333</td></tr><tr><td>2024-11-03 17:22:56</td><td>2054</td><td>Alan Price</td><td>1998-08-25</td><td>connor40@yahoo.com</td><td>2024-10-14</td><td>+1 3745642936</td></tr><tr><td>2024-11-09 07:14:17</td><td>7123</td><td>Edgar Stevens</td><td>2003-02-15</td><td>kevin68@example.org</td><td>2024-10-27</td><td>+1 0793189847</td></tr><tr><td>2024-11-27 12:56:20</td><td>4996</td><td>Brandon Reed</td><td>1997-05-11</td><td>handerson@barker.info</td><td>2024-11-06</td><td>+43 2750540511</td></tr><tr><td>2024-12-25 11:06:35</td><td>6973</td><td>Tracy Cole</td><td>1998-07-24</td><td>tony46@mail.com</td><td>2024-12-16</td><td>+1 5515836612</td></tr><tr><td>2024-12-26 09:29:16</td><td>3532</td><td>Holly Wilkinson</td><td>2003-03-06</td><td>lindsey61@yahoo.com</td><td>2024-12-22</td><td>null</td></tr><tr><td>2024-12-16 16:54:10</td><td>1211</td><td>Jeremy Ball</td><td>2002-03-26</td><td>megan86@yahoo.com</td><td>2024-12-01</td><td>+1 5793543882</td></tr><tr><td>2024-12-07 18:09:58</td><td>7829</td><td>Daniel Black</td><td>1998-04-13</td><td>sandra54@example.org</td><td>2024-11-16</td><td>+1 0933795082</td></tr><tr><td>2024-12-24 14:46:04</td><td>6384</td><td>Jennifer Carrillo</td><td>1994-12-18</td><td>james34@yahoo.com</td><td>2024-12-22</td><td>+1 5592179843</td></tr><tr><td>2024-12-21 07:08:28</td><td>2639</td><td>Jessica Deleon</td><td>1995-06-04</td><td>jeremiah96@gmail.com</td><td>2024-11-22</td><td>+1 1304435999</td></tr><tr><td>2024-12-20 12:32:29</td><td>3084</td><td>Tyler Simmons</td><td>2003-02-20</td><td>brian94@mail.com</td><td>2024-12-02</td><td>null</td></tr><tr><td>2024-12-22 23:00:48</td><td>7997</td><td>Patricia Abbott</td><td>1997-07-31</td><td>angela97@mail.com</td><td>2024-11-28</td><td>+1 4053366448</td></tr><tr><td>2024-12-05 08:58:52</td><td>9687</td><td>Micheal Perez MD</td><td>2002-07-18</td><td>christopher65@example.org</td><td>2024-11-22</td><td>+1 3079718622</td></tr><tr><td>2024-12-17 15:05:15</td><td>2141</td><td>Zachary Lopez</td><td>2002-09-20</td><td>glenn87@example.org</td><td>2024-12-14</td><td>+1 7431190983</td></tr><tr><td>2024-12-04 13:16:03</td><td>5592</td><td>Richard Neal</td><td>1995-11-05</td><td>eric52@gmail.com</td><td>2024-11-15</td><td>+1 4425187397</td></tr><tr><td>2024-12-13 14:23:27</td><td>6406</td><td>Christopher Ritter</td><td>2004-07-12</td><td>null</td><td>2024-11-24</td><td>+1 1752511241</td></tr><tr><td>2024-12-16 16:54:10</td><td>1211</td><td>Jeremy Ball</td><td>2002-03-26</td><td>megan86@yahoo.com</td><td>2024-12-01</td><td>+1 5793543882</td></tr><tr><td>2024-12-22 23:00:48</td><td>7997</td><td>Patricia Abbott</td><td>1997-07-31</td><td>angela97@mail.com</td><td>2024-11-28</td><td>+1 4053366448</td></tr><tr><td>2025-01-05 17:29:34</td><td>7007</td><td>Joe Castaneda</td><td>1999-04-27</td><td>michael34@mail.com</td><td>2024-12-31</td><td>+1 1767970338</td></tr><tr><td>2025-01-17 15:59:39</td><td>5953</td><td>Kevin Harris</td><td>2003-01-23</td><td>timothy99@mail.com</td><td>2024-12-31</td><td>+1 6517763640</td></tr><tr><td>2025-01-12 20:13:31</td><td>4996</td><td>Brandon Reed</td><td>1997-05-11</td><td>stacey71@yahoo.com</td><td>2024-12-13</td><td>null</td></tr><tr><td>2025-01-14 13:30:57</td><td>9605</td><td>Tiffany Rocha</td><td>2003-04-25</td><td>michael82@yahoo.com</td><td>2024-12-22</td><td>+1 6232811506</td></tr><tr><td>2025-01-16 21:17:22</td><td>8845</td><td>Joseph Robbins</td><td>1997-04-04</td><td>derek53@yahoo.com</td><td>2025-01-12</td><td>+1 9513893820</td></tr><tr><td>2025-01-26 09:46:03</td><td>4973</td><td>Daniel Thompson</td><td>1999-07-17</td><td>connor32@example.org</td><td>2024-12-27</td><td>+1 5823046206</td></tr><tr><td>2025-01-25 13:28:31</td><td>3889</td><td>Jennifer Jackson</td><td>1995-10-30</td><td>catherine77@example.org</td><td>2025-01-07</td><td>+1 5932456755</td></tr><tr><td>2025-01-14 18:31:28</td><td>6167</td><td>Leslie Smith</td><td>2001-10-28</td><td>angela16@mail.com</td><td>2024-12-16</td><td>+1 2978446880</td></tr><tr><td>2025-01-17 07:50:48</td><td>3295</td><td>Drew Hanson</td><td>1996-11-21</td><td>cathy31@gmail.com</td><td>2025-01-01</td><td>+1 6521792889</td></tr><tr><td>2025-01-03 03:28:34</td><td>9084</td><td>Olivia Lyons</td><td>1997-06-17</td><td>patty47@outlook.com</td><td>2024-12-16</td><td>+1 2909899135</td></tr><tr><td>2025-01-23 02:07:26</td><td>9150</td><td>Alison Davis</td><td>2004-01-17</td><td>jacob31@yahoo.com</td><td>2024-12-26</td><td>+1 7119851149</td></tr><tr><td>2025-01-14 13:30:57</td><td>9605</td><td>Tiffany Rocha</td><td>2003-04-25</td><td>michael82@yahoo.com</td><td>2024-12-22</td><td>+1 6232811506</td></tr><tr><td>2025-01-12 20:13:31</td><td>4996</td><td>Brandon Reed</td><td>1997-05-11</td><td>stacey71@yahoo.com</td><td>2024-12-13</td><td>null</td></tr></tbody></table></div>"
      ]
     },
     "metadata": {
      "application/vnd.databricks.v1+output": {
       "addedWidgets": {},
       "aggData": [],
       "aggError": "",
       "aggOverflow": false,
       "aggSchema": [],
       "aggSeriesLimitReached": false,
       "aggType": "",
       "arguments": {},
       "columnCustomDisplayInfos": {},
       "data": [
        [
         "2024-10-17 16:12:27",
         9179,
         "Richard Cox",
         "1996-10-25",
         "devon84@mail.com",
         "2024-09-26",
         "+1 6680703335"
        ],
        [
         "2024-10-01 00:50:29",
         4858,
         "Carla Morton",
         "2004-06-21",
         "joseph88@mail.com",
         "2024-09-15",
         "+1 8616454195"
        ],
        [
         "2024-10-23 22:03:08",
         7207,
         "Billy Scott",
         "1997-03-17",
         "christopher30@mail.com",
         "2024-09-23",
         "+1 5544387564"
        ],
        [
         "2024-10-12 06:02:27",
         8539,
         "Lori Mason",
         "2002-11-01",
         "stephanie7@mail.com",
         "2024-09-12",
         "+1 0498301620"
        ],
        [
         "2024-10-24 13:03:13",
         9706,
         "Jennifer Haas",
         "2001-04-03",
         "benjamin55@mail.com",
         "2024-10-05",
         "+1 4725460000"
        ],
        [
         "2024-10-08 22:49:25",
         9263,
         "Joseph Keller",
         "2003-02-11",
         null,
         "2024-10-04",
         "+1 3817867756"
        ],
        [
         "2024-10-06 19:55:52",
         5028,
         "Jessica Harris",
         "2004-04-19",
         null,
         "2024-09-10",
         "+1 8604009935"
        ],
        [
         "2024-10-18 23:24:52",
         9018,
         "William Carter",
         "2003-09-05",
         "james70@gmail.com",
         "2024-10-08",
         "+1 1448753611"
        ],
        [
         "2024-10-21 13:20:26",
         8580,
         "Shannon Austin",
         "2002-03-22",
         "john30@gmail.com",
         "2024-10-07",
         "+1 4594705629"
        ],
        [
         "2024-10-02 14:53:40",
         3409,
         "Andrew Phillips",
         "2003-04-17",
         "peter73@yahoo.com",
         "2024-09-30",
         "+1 4079273853"
        ],
        [
         "2024-10-26 15:14:33",
         2344,
         "Martin Thomas DDS",
         "2002-05-01",
         "billy42@outlook.com",
         "2024-10-13",
         "+1 0201457151"
        ],
        [
         "2024-10-15 02:48:29",
         5011,
         "Rachel Thomas",
         "2003-02-17",
         "lauren59@yahoo.com",
         "2024-09-24",
         "+1 5437271621"
        ],
        [
         "2024-10-28 00:57:09",
         9247,
         "Dr. Daniel Hall",
         "2004-03-21",
         "tamara30@gmail.com",
         "2024-10-03",
         "+1 7544137170"
        ],
        [
         "2024-10-22 05:52:57",
         6627,
         "Candice Rosales",
         "2004-04-03",
         "amber79@example.org",
         "2024-10-15",
         "+1 4788451559"
        ],
        [
         "2024-10-06 19:55:52",
         5028,
         "Jessica Harris",
         "2004-04-19",
         null,
         "2024-09-10",
         "+1 8604009935"
        ],
        [
         "2024-10-08 03:30:53",
         5816,
         "Amy Morales",
         "1999-12-11",
         "daniel12@hotmail.com",
         "2024-09-17",
         "+46 4407385044"
        ],
        [
         "2024-10-15 01:27:54",
         9247,
         "Dr. Daniel Hall",
         "2004-03-21",
         "sheena11@alexander.com",
         "2024-09-15",
         "+46 7281991017"
        ],
        [
         "2024-10-09 18:54:00",
         3889,
         "Jennifer Jackson",
         "1995-10-30",
         null,
         "2024-09-16",
         "+68 2276996612"
        ],
        [
         "2024-10-10 16:53:44",
         9084,
         "Olivia Lyons",
         "1997-06-17",
         "johnsonmichael@yahoo.com",
         "2024-09-26",
         null
        ],
        [
         "2024-10-19 11:53:44",
         null,
         "John Smith",
         "1998-01-19",
         "john.smith@outlook.com",
         "2024-07-16",
         "+1 8762342456"
        ],
        [
         "2024-11-14 20:41:18",
         3892,
         "Jason Bridges",
         "2004-01-01",
         "nicole29@gmail.com",
         "2024-10-29",
         "+1 8220011928"
        ],
        [
         "2024-11-16 01:47:25",
         1987,
         "Amanda Alvarez",
         "1995-10-11",
         "eric40@outlook.com",
         "2024-10-27",
         "+1 9673066300"
        ],
        [
         "2024-11-19 14:03:09",
         5816,
         "Amy Morales",
         "1999-12-11",
         "katelyn82@example.org",
         "2024-11-04",
         "+1 4140982719"
        ],
        [
         "2024-11-09 14:52:31",
         5204,
         "Jennifer Nichols DDS",
         "1997-02-17",
         "joseph8@example.org",
         "2024-11-04",
         "+1 0383356328"
        ],
        [
         "2024-11-23 18:16:18",
         4468,
         "Mrs. Roberta Salas PhD",
         "1997-05-10",
         null,
         "2024-10-25",
         "+1 4679955118"
        ],
        [
         "2024-11-14 16:41:14",
         4761,
         "Timothy Smith",
         "1996-11-07",
         "joshua40@yahoo.com",
         "2024-11-03",
         "+1 9450920858"
        ],
        [
         "2024-11-07 22:20:00",
         2703,
         "Anthony Miller",
         "1997-11-02",
         null,
         "2024-11-05",
         "+1 1586310752"
        ],
        [
         "2024-11-12 12:57:38",
         4914,
         "Samantha Johnson",
         "1997-03-26",
         "theresa14@mail.com",
         "2024-10-13",
         "+1 4095003738"
        ],
        [
         "2024-11-08 02:26:42",
         7295,
         "Lauren Reed",
         "2001-08-11",
         "jeanette48@example.org",
         "2024-10-10",
         "+1 0104088765"
        ],
        [
         "2024-11-09 20:24:30",
         7803,
         "Katherine Lee",
         "2000-03-09",
         "jennifer85@mail.com",
         "2024-10-27",
         "+1 3119886866"
        ],
        [
         "2024-11-24 11:14:03",
         3712,
         "Robin Chavez",
         "1997-03-16",
         "lisa15@gmail.com",
         "2024-11-24",
         "+1 2654756919"
        ],
        [
         "2024-11-23 11:14:03",
         null,
         "Andrew Taylor",
         "1996-01-11",
         "andrew.taylor@gmail.com",
         "2024-11-21",
         "+1 1235447333"
        ],
        [
         "2024-11-03 17:22:56",
         2054,
         "Alan Price",
         "1998-08-25",
         "connor40@yahoo.com",
         "2024-10-14",
         "+1 3745642936"
        ],
        [
         "2024-11-09 07:14:17",
         7123,
         "Edgar Stevens",
         "2003-02-15",
         "kevin68@example.org",
         "2024-10-27",
         "+1 0793189847"
        ],
        [
         "2024-11-27 12:56:20",
         4996,
         "Brandon Reed",
         "1997-05-11",
         "handerson@barker.info",
         "2024-11-06",
         "+43 2750540511"
        ],
        [
         "2024-12-25 11:06:35",
         6973,
         "Tracy Cole",
         "1998-07-24",
         "tony46@mail.com",
         "2024-12-16",
         "+1 5515836612"
        ],
        [
         "2024-12-26 09:29:16",
         3532,
         "Holly Wilkinson",
         "2003-03-06",
         "lindsey61@yahoo.com",
         "2024-12-22",
         null
        ],
        [
         "2024-12-16 16:54:10",
         1211,
         "Jeremy Ball",
         "2002-03-26",
         "megan86@yahoo.com",
         "2024-12-01",
         "+1 5793543882"
        ],
        [
         "2024-12-07 18:09:58",
         7829,
         "Daniel Black",
         "1998-04-13",
         "sandra54@example.org",
         "2024-11-16",
         "+1 0933795082"
        ],
        [
         "2024-12-24 14:46:04",
         6384,
         "Jennifer Carrillo",
         "1994-12-18",
         "james34@yahoo.com",
         "2024-12-22",
         "+1 5592179843"
        ],
        [
         "2024-12-21 07:08:28",
         2639,
         "Jessica Deleon",
         "1995-06-04",
         "jeremiah96@gmail.com",
         "2024-11-22",
         "+1 1304435999"
        ],
        [
         "2024-12-20 12:32:29",
         3084,
         "Tyler Simmons",
         "2003-02-20",
         "brian94@mail.com",
         "2024-12-02",
         null
        ],
        [
         "2024-12-22 23:00:48",
         7997,
         "Patricia Abbott",
         "1997-07-31",
         "angela97@mail.com",
         "2024-11-28",
         "+1 4053366448"
        ],
        [
         "2024-12-05 08:58:52",
         9687,
         "Micheal Perez MD",
         "2002-07-18",
         "christopher65@example.org",
         "2024-11-22",
         "+1 3079718622"
        ],
        [
         "2024-12-17 15:05:15",
         2141,
         "Zachary Lopez",
         "2002-09-20",
         "glenn87@example.org",
         "2024-12-14",
         "+1 7431190983"
        ],
        [
         "2024-12-04 13:16:03",
         5592,
         "Richard Neal",
         "1995-11-05",
         "eric52@gmail.com",
         "2024-11-15",
         "+1 4425187397"
        ],
        [
         "2024-12-13 14:23:27",
         6406,
         "Christopher Ritter",
         "2004-07-12",
         null,
         "2024-11-24",
         "+1 1752511241"
        ],
        [
         "2024-12-16 16:54:10",
         1211,
         "Jeremy Ball",
         "2002-03-26",
         "megan86@yahoo.com",
         "2024-12-01",
         "+1 5793543882"
        ],
        [
         "2024-12-22 23:00:48",
         7997,
         "Patricia Abbott",
         "1997-07-31",
         "angela97@mail.com",
         "2024-11-28",
         "+1 4053366448"
        ],
        [
         "2025-01-05 17:29:34",
         7007,
         "Joe Castaneda",
         "1999-04-27",
         "michael34@mail.com",
         "2024-12-31",
         "+1 1767970338"
        ],
        [
         "2025-01-17 15:59:39",
         5953,
         "Kevin Harris",
         "2003-01-23",
         "timothy99@mail.com",
         "2024-12-31",
         "+1 6517763640"
        ],
        [
         "2025-01-12 20:13:31",
         4996,
         "Brandon Reed",
         "1997-05-11",
         "stacey71@yahoo.com",
         "2024-12-13",
         null
        ],
        [
         "2025-01-14 13:30:57",
         9605,
         "Tiffany Rocha",
         "2003-04-25",
         "michael82@yahoo.com",
         "2024-12-22",
         "+1 6232811506"
        ],
        [
         "2025-01-16 21:17:22",
         8845,
         "Joseph Robbins",
         "1997-04-04",
         "derek53@yahoo.com",
         "2025-01-12",
         "+1 9513893820"
        ],
        [
         "2025-01-26 09:46:03",
         4973,
         "Daniel Thompson",
         "1999-07-17",
         "connor32@example.org",
         "2024-12-27",
         "+1 5823046206"
        ],
        [
         "2025-01-25 13:28:31",
         3889,
         "Jennifer Jackson",
         "1995-10-30",
         "catherine77@example.org",
         "2025-01-07",
         "+1 5932456755"
        ],
        [
         "2025-01-14 18:31:28",
         6167,
         "Leslie Smith",
         "2001-10-28",
         "angela16@mail.com",
         "2024-12-16",
         "+1 2978446880"
        ],
        [
         "2025-01-17 07:50:48",
         3295,
         "Drew Hanson",
         "1996-11-21",
         "cathy31@gmail.com",
         "2025-01-01",
         "+1 6521792889"
        ],
        [
         "2025-01-03 03:28:34",
         9084,
         "Olivia Lyons",
         "1997-06-17",
         "patty47@outlook.com",
         "2024-12-16",
         "+1 2909899135"
        ],
        [
         "2025-01-23 02:07:26",
         9150,
         "Alison Davis",
         "2004-01-17",
         "jacob31@yahoo.com",
         "2024-12-26",
         "+1 7119851149"
        ],
        [
         "2025-01-14 13:30:57",
         9605,
         "Tiffany Rocha",
         "2003-04-25",
         "michael82@yahoo.com",
         "2024-12-22",
         "+1 6232811506"
        ],
        [
         "2025-01-12 20:13:31",
         4996,
         "Brandon Reed",
         "1997-05-11",
         "stacey71@yahoo.com",
         "2024-12-13",
         null
        ]
       ],
       "datasetInfos": [],
       "dbfsResultPath": null,
       "isJsonSchema": true,
       "metadata": {},
       "overflow": false,
       "plotOptions": {
        "customPlotOptions": {},
        "displayType": "table",
        "pivotAggregation": null,
        "pivotColumns": null,
        "xColumns": null,
        "yColumns": null
       },
       "removedWidgets": [],
       "schema": [
        {
         "metadata": "{}",
         "name": "created_timestamp",
         "type": "\"string\""
        },
        {
         "metadata": "{}",
         "name": "customer_id",
         "type": "\"long\""
        },
        {
         "metadata": "{}",
         "name": "customer_name",
         "type": "\"string\""
        },
        {
         "metadata": "{}",
         "name": "date_of_birth",
         "type": "\"string\""
        },
        {
         "metadata": "{}",
         "name": "email",
         "type": "\"string\""
        },
        {
         "metadata": "{}",
         "name": "member_since",
         "type": "\"string\""
        },
        {
         "metadata": "{}",
         "name": "telephone",
         "type": "\"string\""
        }
       ],
       "type": "table"
      }
     },
     "output_type": "display_data"
    }
   ],
   "source": [
    "df= spark.sql('select * from json. `/Volumes/gizmobox/landing/operational_data/customers`')\n",
    "display(df)"
   ]
  },
  {
   "cell_type": "markdown",
   "metadata": {
    "application/vnd.databricks.v1+cell": {
     "cellMetadata": {},
     "inputWidgets": {},
     "nuid": "f03cf01d-b48a-4a31-813a-b18c45dcbf3d",
     "showTitle": false,
     "tableResultSettingsMap": {},
     "title": ""
    }
   },
   "source": [
    "##### 1.1 Create a temp View"
   ]
  },
  {
   "cell_type": "code",
   "execution_count": 0,
   "metadata": {
    "application/vnd.databricks.v1+cell": {
     "cellMetadata": {
      "byteLimit": 2048000,
      "rowLimit": 10000
     },
     "inputWidgets": {},
     "nuid": "4cb1bdbc-03f6-4f52-813d-ae920ef17ead",
     "showTitle": false,
     "tableResultSettingsMap": {},
     "title": ""
    }
   },
   "outputs": [],
   "source": [
    "df= spark.sql('''create or replace temp view tv_customers\n",
    "              as \n",
    "              select * from json. `/Volumes/gizmobox/landing/operational_data/customers`''')"
   ]
  },
  {
   "cell_type": "code",
   "execution_count": 0,
   "metadata": {
    "application/vnd.databricks.v1+cell": {
     "cellMetadata": {
      "byteLimit": 2048000,
      "implicitDf": true,
      "rowLimit": 10000
     },
     "inputWidgets": {},
     "nuid": "3160ab0f-f7d9-494a-8a09-385f3adf789f",
     "showTitle": false,
     "tableResultSettingsMap": {},
     "title": ""
    }
   },
   "outputs": [
    {
     "output_type": "display_data",
     "data": {
      "text/html": [
       "<style scoped>\n",
       "  .table-result-container {\n",
       "    max-height: 300px;\n",
       "    overflow: auto;\n",
       "  }\n",
       "  table, th, td {\n",
       "    border: 1px solid black;\n",
       "    border-collapse: collapse;\n",
       "  }\n",
       "  th, td {\n",
       "    padding: 5px;\n",
       "  }\n",
       "  th {\n",
       "    text-align: left;\n",
       "  }\n",
       "</style><div class='table-result-container'><table class='table-result'><thead style='background-color: white'><tr><th>created_timestamp</th><th>customer_id</th><th>customer_name</th><th>date_of_birth</th><th>email</th><th>member_since</th><th>telephone</th></tr></thead><tbody><tr><td>2024-10-17 16:12:27</td><td>9179</td><td>Richard Cox</td><td>1996-10-25</td><td>devon84@mail.com</td><td>2024-09-26</td><td>+1 6680703335</td></tr><tr><td>2024-10-01 00:50:29</td><td>4858</td><td>Carla Morton</td><td>2004-06-21</td><td>joseph88@mail.com</td><td>2024-09-15</td><td>+1 8616454195</td></tr><tr><td>2024-10-23 22:03:08</td><td>7207</td><td>Billy Scott</td><td>1997-03-17</td><td>christopher30@mail.com</td><td>2024-09-23</td><td>+1 5544387564</td></tr><tr><td>2024-10-12 06:02:27</td><td>8539</td><td>Lori Mason</td><td>2002-11-01</td><td>stephanie7@mail.com</td><td>2024-09-12</td><td>+1 0498301620</td></tr><tr><td>2024-10-24 13:03:13</td><td>9706</td><td>Jennifer Haas</td><td>2001-04-03</td><td>benjamin55@mail.com</td><td>2024-10-05</td><td>+1 4725460000</td></tr><tr><td>2024-10-08 22:49:25</td><td>9263</td><td>Joseph Keller</td><td>2003-02-11</td><td>null</td><td>2024-10-04</td><td>+1 3817867756</td></tr><tr><td>2024-10-06 19:55:52</td><td>5028</td><td>Jessica Harris</td><td>2004-04-19</td><td>null</td><td>2024-09-10</td><td>+1 8604009935</td></tr><tr><td>2024-10-18 23:24:52</td><td>9018</td><td>William Carter</td><td>2003-09-05</td><td>james70@gmail.com</td><td>2024-10-08</td><td>+1 1448753611</td></tr><tr><td>2024-10-21 13:20:26</td><td>8580</td><td>Shannon Austin</td><td>2002-03-22</td><td>john30@gmail.com</td><td>2024-10-07</td><td>+1 4594705629</td></tr><tr><td>2024-10-02 14:53:40</td><td>3409</td><td>Andrew Phillips</td><td>2003-04-17</td><td>peter73@yahoo.com</td><td>2024-09-30</td><td>+1 4079273853</td></tr><tr><td>2024-10-26 15:14:33</td><td>2344</td><td>Martin Thomas DDS</td><td>2002-05-01</td><td>billy42@outlook.com</td><td>2024-10-13</td><td>+1 0201457151</td></tr><tr><td>2024-10-15 02:48:29</td><td>5011</td><td>Rachel Thomas</td><td>2003-02-17</td><td>lauren59@yahoo.com</td><td>2024-09-24</td><td>+1 5437271621</td></tr><tr><td>2024-10-28 00:57:09</td><td>9247</td><td>Dr. Daniel Hall</td><td>2004-03-21</td><td>tamara30@gmail.com</td><td>2024-10-03</td><td>+1 7544137170</td></tr><tr><td>2024-10-22 05:52:57</td><td>6627</td><td>Candice Rosales</td><td>2004-04-03</td><td>amber79@example.org</td><td>2024-10-15</td><td>+1 4788451559</td></tr><tr><td>2024-10-06 19:55:52</td><td>5028</td><td>Jessica Harris</td><td>2004-04-19</td><td>null</td><td>2024-09-10</td><td>+1 8604009935</td></tr><tr><td>2024-10-08 03:30:53</td><td>5816</td><td>Amy Morales</td><td>1999-12-11</td><td>daniel12@hotmail.com</td><td>2024-09-17</td><td>+46 4407385044</td></tr><tr><td>2024-10-15 01:27:54</td><td>9247</td><td>Dr. Daniel Hall</td><td>2004-03-21</td><td>sheena11@alexander.com</td><td>2024-09-15</td><td>+46 7281991017</td></tr><tr><td>2024-10-09 18:54:00</td><td>3889</td><td>Jennifer Jackson</td><td>1995-10-30</td><td>null</td><td>2024-09-16</td><td>+68 2276996612</td></tr><tr><td>2024-10-10 16:53:44</td><td>9084</td><td>Olivia Lyons</td><td>1997-06-17</td><td>johnsonmichael@yahoo.com</td><td>2024-09-26</td><td>null</td></tr><tr><td>2024-10-19 11:53:44</td><td>null</td><td>John Smith</td><td>1998-01-19</td><td>john.smith@outlook.com</td><td>2024-07-16</td><td>+1 8762342456</td></tr><tr><td>2024-11-14 20:41:18</td><td>3892</td><td>Jason Bridges</td><td>2004-01-01</td><td>nicole29@gmail.com</td><td>2024-10-29</td><td>+1 8220011928</td></tr><tr><td>2024-11-16 01:47:25</td><td>1987</td><td>Amanda Alvarez</td><td>1995-10-11</td><td>eric40@outlook.com</td><td>2024-10-27</td><td>+1 9673066300</td></tr><tr><td>2024-11-19 14:03:09</td><td>5816</td><td>Amy Morales</td><td>1999-12-11</td><td>katelyn82@example.org</td><td>2024-11-04</td><td>+1 4140982719</td></tr><tr><td>2024-11-09 14:52:31</td><td>5204</td><td>Jennifer Nichols DDS</td><td>1997-02-17</td><td>joseph8@example.org</td><td>2024-11-04</td><td>+1 0383356328</td></tr><tr><td>2024-11-23 18:16:18</td><td>4468</td><td>Mrs. Roberta Salas PhD</td><td>1997-05-10</td><td>null</td><td>2024-10-25</td><td>+1 4679955118</td></tr><tr><td>2024-11-14 16:41:14</td><td>4761</td><td>Timothy Smith</td><td>1996-11-07</td><td>joshua40@yahoo.com</td><td>2024-11-03</td><td>+1 9450920858</td></tr><tr><td>2024-11-07 22:20:00</td><td>2703</td><td>Anthony Miller</td><td>1997-11-02</td><td>null</td><td>2024-11-05</td><td>+1 1586310752</td></tr><tr><td>2024-11-12 12:57:38</td><td>4914</td><td>Samantha Johnson</td><td>1997-03-26</td><td>theresa14@mail.com</td><td>2024-10-13</td><td>+1 4095003738</td></tr><tr><td>2024-11-08 02:26:42</td><td>7295</td><td>Lauren Reed</td><td>2001-08-11</td><td>jeanette48@example.org</td><td>2024-10-10</td><td>+1 0104088765</td></tr><tr><td>2024-11-09 20:24:30</td><td>7803</td><td>Katherine Lee</td><td>2000-03-09</td><td>jennifer85@mail.com</td><td>2024-10-27</td><td>+1 3119886866</td></tr><tr><td>2024-11-24 11:14:03</td><td>3712</td><td>Robin Chavez</td><td>1997-03-16</td><td>lisa15@gmail.com</td><td>2024-11-24</td><td>+1 2654756919</td></tr><tr><td>2024-11-23 11:14:03</td><td>null</td><td>Andrew Taylor</td><td>1996-01-11</td><td>andrew.taylor@gmail.com</td><td>2024-11-21</td><td>+1 1235447333</td></tr><tr><td>2024-11-03 17:22:56</td><td>2054</td><td>Alan Price</td><td>1998-08-25</td><td>connor40@yahoo.com</td><td>2024-10-14</td><td>+1 3745642936</td></tr><tr><td>2024-11-09 07:14:17</td><td>7123</td><td>Edgar Stevens</td><td>2003-02-15</td><td>kevin68@example.org</td><td>2024-10-27</td><td>+1 0793189847</td></tr><tr><td>2024-11-27 12:56:20</td><td>4996</td><td>Brandon Reed</td><td>1997-05-11</td><td>handerson@barker.info</td><td>2024-11-06</td><td>+43 2750540511</td></tr><tr><td>2024-12-25 11:06:35</td><td>6973</td><td>Tracy Cole</td><td>1998-07-24</td><td>tony46@mail.com</td><td>2024-12-16</td><td>+1 5515836612</td></tr><tr><td>2024-12-26 09:29:16</td><td>3532</td><td>Holly Wilkinson</td><td>2003-03-06</td><td>lindsey61@yahoo.com</td><td>2024-12-22</td><td>null</td></tr><tr><td>2024-12-16 16:54:10</td><td>1211</td><td>Jeremy Ball</td><td>2002-03-26</td><td>megan86@yahoo.com</td><td>2024-12-01</td><td>+1 5793543882</td></tr><tr><td>2024-12-07 18:09:58</td><td>7829</td><td>Daniel Black</td><td>1998-04-13</td><td>sandra54@example.org</td><td>2024-11-16</td><td>+1 0933795082</td></tr><tr><td>2024-12-24 14:46:04</td><td>6384</td><td>Jennifer Carrillo</td><td>1994-12-18</td><td>james34@yahoo.com</td><td>2024-12-22</td><td>+1 5592179843</td></tr><tr><td>2024-12-21 07:08:28</td><td>2639</td><td>Jessica Deleon</td><td>1995-06-04</td><td>jeremiah96@gmail.com</td><td>2024-11-22</td><td>+1 1304435999</td></tr><tr><td>2024-12-20 12:32:29</td><td>3084</td><td>Tyler Simmons</td><td>2003-02-20</td><td>brian94@mail.com</td><td>2024-12-02</td><td>null</td></tr><tr><td>2024-12-22 23:00:48</td><td>7997</td><td>Patricia Abbott</td><td>1997-07-31</td><td>angela97@mail.com</td><td>2024-11-28</td><td>+1 4053366448</td></tr><tr><td>2024-12-05 08:58:52</td><td>9687</td><td>Micheal Perez MD</td><td>2002-07-18</td><td>christopher65@example.org</td><td>2024-11-22</td><td>+1 3079718622</td></tr><tr><td>2024-12-17 15:05:15</td><td>2141</td><td>Zachary Lopez</td><td>2002-09-20</td><td>glenn87@example.org</td><td>2024-12-14</td><td>+1 7431190983</td></tr><tr><td>2024-12-04 13:16:03</td><td>5592</td><td>Richard Neal</td><td>1995-11-05</td><td>eric52@gmail.com</td><td>2024-11-15</td><td>+1 4425187397</td></tr><tr><td>2024-12-13 14:23:27</td><td>6406</td><td>Christopher Ritter</td><td>2004-07-12</td><td>null</td><td>2024-11-24</td><td>+1 1752511241</td></tr><tr><td>2024-12-16 16:54:10</td><td>1211</td><td>Jeremy Ball</td><td>2002-03-26</td><td>megan86@yahoo.com</td><td>2024-12-01</td><td>+1 5793543882</td></tr><tr><td>2024-12-22 23:00:48</td><td>7997</td><td>Patricia Abbott</td><td>1997-07-31</td><td>angela97@mail.com</td><td>2024-11-28</td><td>+1 4053366448</td></tr><tr><td>2025-01-05 17:29:34</td><td>7007</td><td>Joe Castaneda</td><td>1999-04-27</td><td>michael34@mail.com</td><td>2024-12-31</td><td>+1 1767970338</td></tr><tr><td>2025-01-17 15:59:39</td><td>5953</td><td>Kevin Harris</td><td>2003-01-23</td><td>timothy99@mail.com</td><td>2024-12-31</td><td>+1 6517763640</td></tr><tr><td>2025-01-12 20:13:31</td><td>4996</td><td>Brandon Reed</td><td>1997-05-11</td><td>stacey71@yahoo.com</td><td>2024-12-13</td><td>null</td></tr><tr><td>2025-01-14 13:30:57</td><td>9605</td><td>Tiffany Rocha</td><td>2003-04-25</td><td>michael82@yahoo.com</td><td>2024-12-22</td><td>+1 6232811506</td></tr><tr><td>2025-01-16 21:17:22</td><td>8845</td><td>Joseph Robbins</td><td>1997-04-04</td><td>derek53@yahoo.com</td><td>2025-01-12</td><td>+1 9513893820</td></tr><tr><td>2025-01-26 09:46:03</td><td>4973</td><td>Daniel Thompson</td><td>1999-07-17</td><td>connor32@example.org</td><td>2024-12-27</td><td>+1 5823046206</td></tr><tr><td>2025-01-25 13:28:31</td><td>3889</td><td>Jennifer Jackson</td><td>1995-10-30</td><td>catherine77@example.org</td><td>2025-01-07</td><td>+1 5932456755</td></tr><tr><td>2025-01-14 18:31:28</td><td>6167</td><td>Leslie Smith</td><td>2001-10-28</td><td>angela16@mail.com</td><td>2024-12-16</td><td>+1 2978446880</td></tr><tr><td>2025-01-17 07:50:48</td><td>3295</td><td>Drew Hanson</td><td>1996-11-21</td><td>cathy31@gmail.com</td><td>2025-01-01</td><td>+1 6521792889</td></tr><tr><td>2025-01-03 03:28:34</td><td>9084</td><td>Olivia Lyons</td><td>1997-06-17</td><td>patty47@outlook.com</td><td>2024-12-16</td><td>+1 2909899135</td></tr><tr><td>2025-01-23 02:07:26</td><td>9150</td><td>Alison Davis</td><td>2004-01-17</td><td>jacob31@yahoo.com</td><td>2024-12-26</td><td>+1 7119851149</td></tr><tr><td>2025-01-14 13:30:57</td><td>9605</td><td>Tiffany Rocha</td><td>2003-04-25</td><td>michael82@yahoo.com</td><td>2024-12-22</td><td>+1 6232811506</td></tr><tr><td>2025-01-12 20:13:31</td><td>4996</td><td>Brandon Reed</td><td>1997-05-11</td><td>stacey71@yahoo.com</td><td>2024-12-13</td><td>null</td></tr></tbody></table></div>"
      ]
     },
     "metadata": {
      "application/vnd.databricks.v1+output": {
       "addedWidgets": {},
       "aggData": [],
       "aggError": "",
       "aggOverflow": false,
       "aggSchema": [],
       "aggSeriesLimitReached": false,
       "aggType": "",
       "arguments": {},
       "columnCustomDisplayInfos": {},
       "data": [
        [
         "2024-10-17 16:12:27",
         9179,
         "Richard Cox",
         "1996-10-25",
         "devon84@mail.com",
         "2024-09-26",
         "+1 6680703335"
        ],
        [
         "2024-10-01 00:50:29",
         4858,
         "Carla Morton",
         "2004-06-21",
         "joseph88@mail.com",
         "2024-09-15",
         "+1 8616454195"
        ],
        [
         "2024-10-23 22:03:08",
         7207,
         "Billy Scott",
         "1997-03-17",
         "christopher30@mail.com",
         "2024-09-23",
         "+1 5544387564"
        ],
        [
         "2024-10-12 06:02:27",
         8539,
         "Lori Mason",
         "2002-11-01",
         "stephanie7@mail.com",
         "2024-09-12",
         "+1 0498301620"
        ],
        [
         "2024-10-24 13:03:13",
         9706,
         "Jennifer Haas",
         "2001-04-03",
         "benjamin55@mail.com",
         "2024-10-05",
         "+1 4725460000"
        ],
        [
         "2024-10-08 22:49:25",
         9263,
         "Joseph Keller",
         "2003-02-11",
         null,
         "2024-10-04",
         "+1 3817867756"
        ],
        [
         "2024-10-06 19:55:52",
         5028,
         "Jessica Harris",
         "2004-04-19",
         null,
         "2024-09-10",
         "+1 8604009935"
        ],
        [
         "2024-10-18 23:24:52",
         9018,
         "William Carter",
         "2003-09-05",
         "james70@gmail.com",
         "2024-10-08",
         "+1 1448753611"
        ],
        [
         "2024-10-21 13:20:26",
         8580,
         "Shannon Austin",
         "2002-03-22",
         "john30@gmail.com",
         "2024-10-07",
         "+1 4594705629"
        ],
        [
         "2024-10-02 14:53:40",
         3409,
         "Andrew Phillips",
         "2003-04-17",
         "peter73@yahoo.com",
         "2024-09-30",
         "+1 4079273853"
        ],
        [
         "2024-10-26 15:14:33",
         2344,
         "Martin Thomas DDS",
         "2002-05-01",
         "billy42@outlook.com",
         "2024-10-13",
         "+1 0201457151"
        ],
        [
         "2024-10-15 02:48:29",
         5011,
         "Rachel Thomas",
         "2003-02-17",
         "lauren59@yahoo.com",
         "2024-09-24",
         "+1 5437271621"
        ],
        [
         "2024-10-28 00:57:09",
         9247,
         "Dr. Daniel Hall",
         "2004-03-21",
         "tamara30@gmail.com",
         "2024-10-03",
         "+1 7544137170"
        ],
        [
         "2024-10-22 05:52:57",
         6627,
         "Candice Rosales",
         "2004-04-03",
         "amber79@example.org",
         "2024-10-15",
         "+1 4788451559"
        ],
        [
         "2024-10-06 19:55:52",
         5028,
         "Jessica Harris",
         "2004-04-19",
         null,
         "2024-09-10",
         "+1 8604009935"
        ],
        [
         "2024-10-08 03:30:53",
         5816,
         "Amy Morales",
         "1999-12-11",
         "daniel12@hotmail.com",
         "2024-09-17",
         "+46 4407385044"
        ],
        [
         "2024-10-15 01:27:54",
         9247,
         "Dr. Daniel Hall",
         "2004-03-21",
         "sheena11@alexander.com",
         "2024-09-15",
         "+46 7281991017"
        ],
        [
         "2024-10-09 18:54:00",
         3889,
         "Jennifer Jackson",
         "1995-10-30",
         null,
         "2024-09-16",
         "+68 2276996612"
        ],
        [
         "2024-10-10 16:53:44",
         9084,
         "Olivia Lyons",
         "1997-06-17",
         "johnsonmichael@yahoo.com",
         "2024-09-26",
         null
        ],
        [
         "2024-10-19 11:53:44",
         null,
         "John Smith",
         "1998-01-19",
         "john.smith@outlook.com",
         "2024-07-16",
         "+1 8762342456"
        ],
        [
         "2024-11-14 20:41:18",
         3892,
         "Jason Bridges",
         "2004-01-01",
         "nicole29@gmail.com",
         "2024-10-29",
         "+1 8220011928"
        ],
        [
         "2024-11-16 01:47:25",
         1987,
         "Amanda Alvarez",
         "1995-10-11",
         "eric40@outlook.com",
         "2024-10-27",
         "+1 9673066300"
        ],
        [
         "2024-11-19 14:03:09",
         5816,
         "Amy Morales",
         "1999-12-11",
         "katelyn82@example.org",
         "2024-11-04",
         "+1 4140982719"
        ],
        [
         "2024-11-09 14:52:31",
         5204,
         "Jennifer Nichols DDS",
         "1997-02-17",
         "joseph8@example.org",
         "2024-11-04",
         "+1 0383356328"
        ],
        [
         "2024-11-23 18:16:18",
         4468,
         "Mrs. Roberta Salas PhD",
         "1997-05-10",
         null,
         "2024-10-25",
         "+1 4679955118"
        ],
        [
         "2024-11-14 16:41:14",
         4761,
         "Timothy Smith",
         "1996-11-07",
         "joshua40@yahoo.com",
         "2024-11-03",
         "+1 9450920858"
        ],
        [
         "2024-11-07 22:20:00",
         2703,
         "Anthony Miller",
         "1997-11-02",
         null,
         "2024-11-05",
         "+1 1586310752"
        ],
        [
         "2024-11-12 12:57:38",
         4914,
         "Samantha Johnson",
         "1997-03-26",
         "theresa14@mail.com",
         "2024-10-13",
         "+1 4095003738"
        ],
        [
         "2024-11-08 02:26:42",
         7295,
         "Lauren Reed",
         "2001-08-11",
         "jeanette48@example.org",
         "2024-10-10",
         "+1 0104088765"
        ],
        [
         "2024-11-09 20:24:30",
         7803,
         "Katherine Lee",
         "2000-03-09",
         "jennifer85@mail.com",
         "2024-10-27",
         "+1 3119886866"
        ],
        [
         "2024-11-24 11:14:03",
         3712,
         "Robin Chavez",
         "1997-03-16",
         "lisa15@gmail.com",
         "2024-11-24",
         "+1 2654756919"
        ],
        [
         "2024-11-23 11:14:03",
         null,
         "Andrew Taylor",
         "1996-01-11",
         "andrew.taylor@gmail.com",
         "2024-11-21",
         "+1 1235447333"
        ],
        [
         "2024-11-03 17:22:56",
         2054,
         "Alan Price",
         "1998-08-25",
         "connor40@yahoo.com",
         "2024-10-14",
         "+1 3745642936"
        ],
        [
         "2024-11-09 07:14:17",
         7123,
         "Edgar Stevens",
         "2003-02-15",
         "kevin68@example.org",
         "2024-10-27",
         "+1 0793189847"
        ],
        [
         "2024-11-27 12:56:20",
         4996,
         "Brandon Reed",
         "1997-05-11",
         "handerson@barker.info",
         "2024-11-06",
         "+43 2750540511"
        ],
        [
         "2024-12-25 11:06:35",
         6973,
         "Tracy Cole",
         "1998-07-24",
         "tony46@mail.com",
         "2024-12-16",
         "+1 5515836612"
        ],
        [
         "2024-12-26 09:29:16",
         3532,
         "Holly Wilkinson",
         "2003-03-06",
         "lindsey61@yahoo.com",
         "2024-12-22",
         null
        ],
        [
         "2024-12-16 16:54:10",
         1211,
         "Jeremy Ball",
         "2002-03-26",
         "megan86@yahoo.com",
         "2024-12-01",
         "+1 5793543882"
        ],
        [
         "2024-12-07 18:09:58",
         7829,
         "Daniel Black",
         "1998-04-13",
         "sandra54@example.org",
         "2024-11-16",
         "+1 0933795082"
        ],
        [
         "2024-12-24 14:46:04",
         6384,
         "Jennifer Carrillo",
         "1994-12-18",
         "james34@yahoo.com",
         "2024-12-22",
         "+1 5592179843"
        ],
        [
         "2024-12-21 07:08:28",
         2639,
         "Jessica Deleon",
         "1995-06-04",
         "jeremiah96@gmail.com",
         "2024-11-22",
         "+1 1304435999"
        ],
        [
         "2024-12-20 12:32:29",
         3084,
         "Tyler Simmons",
         "2003-02-20",
         "brian94@mail.com",
         "2024-12-02",
         null
        ],
        [
         "2024-12-22 23:00:48",
         7997,
         "Patricia Abbott",
         "1997-07-31",
         "angela97@mail.com",
         "2024-11-28",
         "+1 4053366448"
        ],
        [
         "2024-12-05 08:58:52",
         9687,
         "Micheal Perez MD",
         "2002-07-18",
         "christopher65@example.org",
         "2024-11-22",
         "+1 3079718622"
        ],
        [
         "2024-12-17 15:05:15",
         2141,
         "Zachary Lopez",
         "2002-09-20",
         "glenn87@example.org",
         "2024-12-14",
         "+1 7431190983"
        ],
        [
         "2024-12-04 13:16:03",
         5592,
         "Richard Neal",
         "1995-11-05",
         "eric52@gmail.com",
         "2024-11-15",
         "+1 4425187397"
        ],
        [
         "2024-12-13 14:23:27",
         6406,
         "Christopher Ritter",
         "2004-07-12",
         null,
         "2024-11-24",
         "+1 1752511241"
        ],
        [
         "2024-12-16 16:54:10",
         1211,
         "Jeremy Ball",
         "2002-03-26",
         "megan86@yahoo.com",
         "2024-12-01",
         "+1 5793543882"
        ],
        [
         "2024-12-22 23:00:48",
         7997,
         "Patricia Abbott",
         "1997-07-31",
         "angela97@mail.com",
         "2024-11-28",
         "+1 4053366448"
        ],
        [
         "2025-01-05 17:29:34",
         7007,
         "Joe Castaneda",
         "1999-04-27",
         "michael34@mail.com",
         "2024-12-31",
         "+1 1767970338"
        ],
        [
         "2025-01-17 15:59:39",
         5953,
         "Kevin Harris",
         "2003-01-23",
         "timothy99@mail.com",
         "2024-12-31",
         "+1 6517763640"
        ],
        [
         "2025-01-12 20:13:31",
         4996,
         "Brandon Reed",
         "1997-05-11",
         "stacey71@yahoo.com",
         "2024-12-13",
         null
        ],
        [
         "2025-01-14 13:30:57",
         9605,
         "Tiffany Rocha",
         "2003-04-25",
         "michael82@yahoo.com",
         "2024-12-22",
         "+1 6232811506"
        ],
        [
         "2025-01-16 21:17:22",
         8845,
         "Joseph Robbins",
         "1997-04-04",
         "derek53@yahoo.com",
         "2025-01-12",
         "+1 9513893820"
        ],
        [
         "2025-01-26 09:46:03",
         4973,
         "Daniel Thompson",
         "1999-07-17",
         "connor32@example.org",
         "2024-12-27",
         "+1 5823046206"
        ],
        [
         "2025-01-25 13:28:31",
         3889,
         "Jennifer Jackson",
         "1995-10-30",
         "catherine77@example.org",
         "2025-01-07",
         "+1 5932456755"
        ],
        [
         "2025-01-14 18:31:28",
         6167,
         "Leslie Smith",
         "2001-10-28",
         "angela16@mail.com",
         "2024-12-16",
         "+1 2978446880"
        ],
        [
         "2025-01-17 07:50:48",
         3295,
         "Drew Hanson",
         "1996-11-21",
         "cathy31@gmail.com",
         "2025-01-01",
         "+1 6521792889"
        ],
        [
         "2025-01-03 03:28:34",
         9084,
         "Olivia Lyons",
         "1997-06-17",
         "patty47@outlook.com",
         "2024-12-16",
         "+1 2909899135"
        ],
        [
         "2025-01-23 02:07:26",
         9150,
         "Alison Davis",
         "2004-01-17",
         "jacob31@yahoo.com",
         "2024-12-26",
         "+1 7119851149"
        ],
        [
         "2025-01-14 13:30:57",
         9605,
         "Tiffany Rocha",
         "2003-04-25",
         "michael82@yahoo.com",
         "2024-12-22",
         "+1 6232811506"
        ],
        [
         "2025-01-12 20:13:31",
         4996,
         "Brandon Reed",
         "1997-05-11",
         "stacey71@yahoo.com",
         "2024-12-13",
         null
        ]
       ],
       "datasetInfos": [
        {
         "name": "_sqldf",
         "schema": {
          "fields": [
           {
            "metadata": {},
            "name": "created_timestamp",
            "nullable": true,
            "type": "string"
           },
           {
            "metadata": {},
            "name": "customer_id",
            "nullable": true,
            "type": "long"
           },
           {
            "metadata": {},
            "name": "customer_name",
            "nullable": true,
            "type": "string"
           },
           {
            "metadata": {},
            "name": "date_of_birth",
            "nullable": true,
            "type": "string"
           },
           {
            "metadata": {},
            "name": "email",
            "nullable": true,
            "type": "string"
           },
           {
            "metadata": {},
            "name": "member_since",
            "nullable": true,
            "type": "string"
           },
           {
            "metadata": {},
            "name": "telephone",
            "nullable": true,
            "type": "string"
           }
          ],
          "type": "struct"
         },
         "tableIdentifier": null,
         "typeStr": "pyspark.sql.connect.dataframe.DataFrame"
        }
       ],
       "dbfsResultPath": null,
       "isJsonSchema": true,
       "metadata": {
        "createTempViewForImplicitDf": true,
        "dataframeName": "_sqldf",
        "executionCount": 14
       },
       "overflow": false,
       "plotOptions": {
        "customPlotOptions": {},
        "displayType": "table",
        "pivotAggregation": null,
        "pivotColumns": null,
        "xColumns": null,
        "yColumns": null
       },
       "removedWidgets": [],
       "schema": [
        {
         "metadata": "{}",
         "name": "created_timestamp",
         "type": "\"string\""
        },
        {
         "metadata": "{}",
         "name": "customer_id",
         "type": "\"long\""
        },
        {
         "metadata": "{}",
         "name": "customer_name",
         "type": "\"string\""
        },
        {
         "metadata": "{}",
         "name": "date_of_birth",
         "type": "\"string\""
        },
        {
         "metadata": "{}",
         "name": "email",
         "type": "\"string\""
        },
        {
         "metadata": "{}",
         "name": "member_since",
         "type": "\"string\""
        },
        {
         "metadata": "{}",
         "name": "telephone",
         "type": "\"string\""
        }
       ],
       "type": "table"
      }
     },
     "output_type": "display_data"
    }
   ],
   "source": [
    "%sql\n",
    "select * from tv_customers;\n"
   ]
  },
  {
   "cell_type": "markdown",
   "metadata": {
    "application/vnd.databricks.v1+cell": {
     "cellMetadata": {},
     "inputWidgets": {},
     "nuid": "c3f5b049-eccb-470c-af57-9d54a5e82341",
     "showTitle": false,
     "tableResultSettingsMap": {},
     "title": ""
    }
   },
   "source": [
    "#### 2-Spark Dataframe Reader API "
   ]
  },
  {
   "cell_type": "code",
   "execution_count": 0,
   "metadata": {
    "application/vnd.databricks.v1+cell": {
     "cellMetadata": {
      "byteLimit": 2048000,
      "rowLimit": 10000
     },
     "inputWidgets": {},
     "nuid": "f6314c46-03f2-4919-bff8-4c29316d5ebc",
     "showTitle": false,
     "tableResultSettingsMap": {},
     "title": ""
    }
   },
   "outputs": [],
   "source": [
    "df= spark.read.format('json').load('/Volumes/gizmobox/landing/operational_data/customers')"
   ]
  },
  {
   "cell_type": "code",
   "execution_count": 0,
   "metadata": {
    "application/vnd.databricks.v1+cell": {
     "cellMetadata": {
      "byteLimit": 2048000,
      "rowLimit": 10000
     },
     "inputWidgets": {},
     "nuid": "2fac37d5-6bc0-483f-ad08-571a6f8dcfc5",
     "showTitle": false,
     "tableResultSettingsMap": {},
     "title": ""
    }
   },
   "outputs": [
    {
     "output_type": "display_data",
     "data": {
      "text/html": [
       "<style scoped>\n",
       "  .table-result-container {\n",
       "    max-height: 300px;\n",
       "    overflow: auto;\n",
       "  }\n",
       "  table, th, td {\n",
       "    border: 1px solid black;\n",
       "    border-collapse: collapse;\n",
       "  }\n",
       "  th, td {\n",
       "    padding: 5px;\n",
       "  }\n",
       "  th {\n",
       "    text-align: left;\n",
       "  }\n",
       "</style><div class='table-result-container'><table class='table-result'><thead style='background-color: white'><tr><th>created_timestamp</th><th>customer_id</th><th>customer_name</th><th>date_of_birth</th><th>email</th><th>member_since</th><th>telephone</th></tr></thead><tbody><tr><td>2024-10-17 16:12:27</td><td>9179</td><td>Richard Cox</td><td>1996-10-25</td><td>devon84@mail.com</td><td>2024-09-26</td><td>+1 6680703335</td></tr><tr><td>2024-10-01 00:50:29</td><td>4858</td><td>Carla Morton</td><td>2004-06-21</td><td>joseph88@mail.com</td><td>2024-09-15</td><td>+1 8616454195</td></tr><tr><td>2024-10-23 22:03:08</td><td>7207</td><td>Billy Scott</td><td>1997-03-17</td><td>christopher30@mail.com</td><td>2024-09-23</td><td>+1 5544387564</td></tr><tr><td>2024-10-12 06:02:27</td><td>8539</td><td>Lori Mason</td><td>2002-11-01</td><td>stephanie7@mail.com</td><td>2024-09-12</td><td>+1 0498301620</td></tr><tr><td>2024-10-24 13:03:13</td><td>9706</td><td>Jennifer Haas</td><td>2001-04-03</td><td>benjamin55@mail.com</td><td>2024-10-05</td><td>+1 4725460000</td></tr><tr><td>2024-10-08 22:49:25</td><td>9263</td><td>Joseph Keller</td><td>2003-02-11</td><td>null</td><td>2024-10-04</td><td>+1 3817867756</td></tr><tr><td>2024-10-06 19:55:52</td><td>5028</td><td>Jessica Harris</td><td>2004-04-19</td><td>null</td><td>2024-09-10</td><td>+1 8604009935</td></tr><tr><td>2024-10-18 23:24:52</td><td>9018</td><td>William Carter</td><td>2003-09-05</td><td>james70@gmail.com</td><td>2024-10-08</td><td>+1 1448753611</td></tr><tr><td>2024-10-21 13:20:26</td><td>8580</td><td>Shannon Austin</td><td>2002-03-22</td><td>john30@gmail.com</td><td>2024-10-07</td><td>+1 4594705629</td></tr><tr><td>2024-10-02 14:53:40</td><td>3409</td><td>Andrew Phillips</td><td>2003-04-17</td><td>peter73@yahoo.com</td><td>2024-09-30</td><td>+1 4079273853</td></tr><tr><td>2024-10-26 15:14:33</td><td>2344</td><td>Martin Thomas DDS</td><td>2002-05-01</td><td>billy42@outlook.com</td><td>2024-10-13</td><td>+1 0201457151</td></tr><tr><td>2024-10-15 02:48:29</td><td>5011</td><td>Rachel Thomas</td><td>2003-02-17</td><td>lauren59@yahoo.com</td><td>2024-09-24</td><td>+1 5437271621</td></tr><tr><td>2024-10-28 00:57:09</td><td>9247</td><td>Dr. Daniel Hall</td><td>2004-03-21</td><td>tamara30@gmail.com</td><td>2024-10-03</td><td>+1 7544137170</td></tr><tr><td>2024-10-22 05:52:57</td><td>6627</td><td>Candice Rosales</td><td>2004-04-03</td><td>amber79@example.org</td><td>2024-10-15</td><td>+1 4788451559</td></tr><tr><td>2024-10-06 19:55:52</td><td>5028</td><td>Jessica Harris</td><td>2004-04-19</td><td>null</td><td>2024-09-10</td><td>+1 8604009935</td></tr><tr><td>2024-10-08 03:30:53</td><td>5816</td><td>Amy Morales</td><td>1999-12-11</td><td>daniel12@hotmail.com</td><td>2024-09-17</td><td>+46 4407385044</td></tr><tr><td>2024-10-15 01:27:54</td><td>9247</td><td>Dr. Daniel Hall</td><td>2004-03-21</td><td>sheena11@alexander.com</td><td>2024-09-15</td><td>+46 7281991017</td></tr><tr><td>2024-10-09 18:54:00</td><td>3889</td><td>Jennifer Jackson</td><td>1995-10-30</td><td>null</td><td>2024-09-16</td><td>+68 2276996612</td></tr><tr><td>2024-10-10 16:53:44</td><td>9084</td><td>Olivia Lyons</td><td>1997-06-17</td><td>johnsonmichael@yahoo.com</td><td>2024-09-26</td><td>null</td></tr><tr><td>2024-10-19 11:53:44</td><td>null</td><td>John Smith</td><td>1998-01-19</td><td>john.smith@outlook.com</td><td>2024-07-16</td><td>+1 8762342456</td></tr><tr><td>2024-11-14 20:41:18</td><td>3892</td><td>Jason Bridges</td><td>2004-01-01</td><td>nicole29@gmail.com</td><td>2024-10-29</td><td>+1 8220011928</td></tr><tr><td>2024-11-16 01:47:25</td><td>1987</td><td>Amanda Alvarez</td><td>1995-10-11</td><td>eric40@outlook.com</td><td>2024-10-27</td><td>+1 9673066300</td></tr><tr><td>2024-11-19 14:03:09</td><td>5816</td><td>Amy Morales</td><td>1999-12-11</td><td>katelyn82@example.org</td><td>2024-11-04</td><td>+1 4140982719</td></tr><tr><td>2024-11-09 14:52:31</td><td>5204</td><td>Jennifer Nichols DDS</td><td>1997-02-17</td><td>joseph8@example.org</td><td>2024-11-04</td><td>+1 0383356328</td></tr><tr><td>2024-11-23 18:16:18</td><td>4468</td><td>Mrs. Roberta Salas PhD</td><td>1997-05-10</td><td>null</td><td>2024-10-25</td><td>+1 4679955118</td></tr><tr><td>2024-11-14 16:41:14</td><td>4761</td><td>Timothy Smith</td><td>1996-11-07</td><td>joshua40@yahoo.com</td><td>2024-11-03</td><td>+1 9450920858</td></tr><tr><td>2024-11-07 22:20:00</td><td>2703</td><td>Anthony Miller</td><td>1997-11-02</td><td>null</td><td>2024-11-05</td><td>+1 1586310752</td></tr><tr><td>2024-11-12 12:57:38</td><td>4914</td><td>Samantha Johnson</td><td>1997-03-26</td><td>theresa14@mail.com</td><td>2024-10-13</td><td>+1 4095003738</td></tr><tr><td>2024-11-08 02:26:42</td><td>7295</td><td>Lauren Reed</td><td>2001-08-11</td><td>jeanette48@example.org</td><td>2024-10-10</td><td>+1 0104088765</td></tr><tr><td>2024-11-09 20:24:30</td><td>7803</td><td>Katherine Lee</td><td>2000-03-09</td><td>jennifer85@mail.com</td><td>2024-10-27</td><td>+1 3119886866</td></tr><tr><td>2024-11-24 11:14:03</td><td>3712</td><td>Robin Chavez</td><td>1997-03-16</td><td>lisa15@gmail.com</td><td>2024-11-24</td><td>+1 2654756919</td></tr><tr><td>2024-11-23 11:14:03</td><td>null</td><td>Andrew Taylor</td><td>1996-01-11</td><td>andrew.taylor@gmail.com</td><td>2024-11-21</td><td>+1 1235447333</td></tr><tr><td>2024-11-03 17:22:56</td><td>2054</td><td>Alan Price</td><td>1998-08-25</td><td>connor40@yahoo.com</td><td>2024-10-14</td><td>+1 3745642936</td></tr><tr><td>2024-11-09 07:14:17</td><td>7123</td><td>Edgar Stevens</td><td>2003-02-15</td><td>kevin68@example.org</td><td>2024-10-27</td><td>+1 0793189847</td></tr><tr><td>2024-11-27 12:56:20</td><td>4996</td><td>Brandon Reed</td><td>1997-05-11</td><td>handerson@barker.info</td><td>2024-11-06</td><td>+43 2750540511</td></tr><tr><td>2024-12-25 11:06:35</td><td>6973</td><td>Tracy Cole</td><td>1998-07-24</td><td>tony46@mail.com</td><td>2024-12-16</td><td>+1 5515836612</td></tr><tr><td>2024-12-26 09:29:16</td><td>3532</td><td>Holly Wilkinson</td><td>2003-03-06</td><td>lindsey61@yahoo.com</td><td>2024-12-22</td><td>null</td></tr><tr><td>2024-12-16 16:54:10</td><td>1211</td><td>Jeremy Ball</td><td>2002-03-26</td><td>megan86@yahoo.com</td><td>2024-12-01</td><td>+1 5793543882</td></tr><tr><td>2024-12-07 18:09:58</td><td>7829</td><td>Daniel Black</td><td>1998-04-13</td><td>sandra54@example.org</td><td>2024-11-16</td><td>+1 0933795082</td></tr><tr><td>2024-12-24 14:46:04</td><td>6384</td><td>Jennifer Carrillo</td><td>1994-12-18</td><td>james34@yahoo.com</td><td>2024-12-22</td><td>+1 5592179843</td></tr><tr><td>2024-12-21 07:08:28</td><td>2639</td><td>Jessica Deleon</td><td>1995-06-04</td><td>jeremiah96@gmail.com</td><td>2024-11-22</td><td>+1 1304435999</td></tr><tr><td>2024-12-20 12:32:29</td><td>3084</td><td>Tyler Simmons</td><td>2003-02-20</td><td>brian94@mail.com</td><td>2024-12-02</td><td>null</td></tr><tr><td>2024-12-22 23:00:48</td><td>7997</td><td>Patricia Abbott</td><td>1997-07-31</td><td>angela97@mail.com</td><td>2024-11-28</td><td>+1 4053366448</td></tr><tr><td>2024-12-05 08:58:52</td><td>9687</td><td>Micheal Perez MD</td><td>2002-07-18</td><td>christopher65@example.org</td><td>2024-11-22</td><td>+1 3079718622</td></tr><tr><td>2024-12-17 15:05:15</td><td>2141</td><td>Zachary Lopez</td><td>2002-09-20</td><td>glenn87@example.org</td><td>2024-12-14</td><td>+1 7431190983</td></tr><tr><td>2024-12-04 13:16:03</td><td>5592</td><td>Richard Neal</td><td>1995-11-05</td><td>eric52@gmail.com</td><td>2024-11-15</td><td>+1 4425187397</td></tr><tr><td>2024-12-13 14:23:27</td><td>6406</td><td>Christopher Ritter</td><td>2004-07-12</td><td>null</td><td>2024-11-24</td><td>+1 1752511241</td></tr><tr><td>2024-12-16 16:54:10</td><td>1211</td><td>Jeremy Ball</td><td>2002-03-26</td><td>megan86@yahoo.com</td><td>2024-12-01</td><td>+1 5793543882</td></tr><tr><td>2024-12-22 23:00:48</td><td>7997</td><td>Patricia Abbott</td><td>1997-07-31</td><td>angela97@mail.com</td><td>2024-11-28</td><td>+1 4053366448</td></tr><tr><td>2025-01-05 17:29:34</td><td>7007</td><td>Joe Castaneda</td><td>1999-04-27</td><td>michael34@mail.com</td><td>2024-12-31</td><td>+1 1767970338</td></tr><tr><td>2025-01-17 15:59:39</td><td>5953</td><td>Kevin Harris</td><td>2003-01-23</td><td>timothy99@mail.com</td><td>2024-12-31</td><td>+1 6517763640</td></tr><tr><td>2025-01-12 20:13:31</td><td>4996</td><td>Brandon Reed</td><td>1997-05-11</td><td>stacey71@yahoo.com</td><td>2024-12-13</td><td>null</td></tr><tr><td>2025-01-14 13:30:57</td><td>9605</td><td>Tiffany Rocha</td><td>2003-04-25</td><td>michael82@yahoo.com</td><td>2024-12-22</td><td>+1 6232811506</td></tr><tr><td>2025-01-16 21:17:22</td><td>8845</td><td>Joseph Robbins</td><td>1997-04-04</td><td>derek53@yahoo.com</td><td>2025-01-12</td><td>+1 9513893820</td></tr><tr><td>2025-01-26 09:46:03</td><td>4973</td><td>Daniel Thompson</td><td>1999-07-17</td><td>connor32@example.org</td><td>2024-12-27</td><td>+1 5823046206</td></tr><tr><td>2025-01-25 13:28:31</td><td>3889</td><td>Jennifer Jackson</td><td>1995-10-30</td><td>catherine77@example.org</td><td>2025-01-07</td><td>+1 5932456755</td></tr><tr><td>2025-01-14 18:31:28</td><td>6167</td><td>Leslie Smith</td><td>2001-10-28</td><td>angela16@mail.com</td><td>2024-12-16</td><td>+1 2978446880</td></tr><tr><td>2025-01-17 07:50:48</td><td>3295</td><td>Drew Hanson</td><td>1996-11-21</td><td>cathy31@gmail.com</td><td>2025-01-01</td><td>+1 6521792889</td></tr><tr><td>2025-01-03 03:28:34</td><td>9084</td><td>Olivia Lyons</td><td>1997-06-17</td><td>patty47@outlook.com</td><td>2024-12-16</td><td>+1 2909899135</td></tr><tr><td>2025-01-23 02:07:26</td><td>9150</td><td>Alison Davis</td><td>2004-01-17</td><td>jacob31@yahoo.com</td><td>2024-12-26</td><td>+1 7119851149</td></tr><tr><td>2025-01-14 13:30:57</td><td>9605</td><td>Tiffany Rocha</td><td>2003-04-25</td><td>michael82@yahoo.com</td><td>2024-12-22</td><td>+1 6232811506</td></tr><tr><td>2025-01-12 20:13:31</td><td>4996</td><td>Brandon Reed</td><td>1997-05-11</td><td>stacey71@yahoo.com</td><td>2024-12-13</td><td>null</td></tr></tbody></table></div>"
      ]
     },
     "metadata": {
      "application/vnd.databricks.v1+output": {
       "addedWidgets": {},
       "aggData": [],
       "aggError": "",
       "aggOverflow": false,
       "aggSchema": [],
       "aggSeriesLimitReached": false,
       "aggType": "",
       "arguments": {},
       "columnCustomDisplayInfos": {},
       "data": [
        [
         "2024-10-17 16:12:27",
         9179,
         "Richard Cox",
         "1996-10-25",
         "devon84@mail.com",
         "2024-09-26",
         "+1 6680703335"
        ],
        [
         "2024-10-01 00:50:29",
         4858,
         "Carla Morton",
         "2004-06-21",
         "joseph88@mail.com",
         "2024-09-15",
         "+1 8616454195"
        ],
        [
         "2024-10-23 22:03:08",
         7207,
         "Billy Scott",
         "1997-03-17",
         "christopher30@mail.com",
         "2024-09-23",
         "+1 5544387564"
        ],
        [
         "2024-10-12 06:02:27",
         8539,
         "Lori Mason",
         "2002-11-01",
         "stephanie7@mail.com",
         "2024-09-12",
         "+1 0498301620"
        ],
        [
         "2024-10-24 13:03:13",
         9706,
         "Jennifer Haas",
         "2001-04-03",
         "benjamin55@mail.com",
         "2024-10-05",
         "+1 4725460000"
        ],
        [
         "2024-10-08 22:49:25",
         9263,
         "Joseph Keller",
         "2003-02-11",
         null,
         "2024-10-04",
         "+1 3817867756"
        ],
        [
         "2024-10-06 19:55:52",
         5028,
         "Jessica Harris",
         "2004-04-19",
         null,
         "2024-09-10",
         "+1 8604009935"
        ],
        [
         "2024-10-18 23:24:52",
         9018,
         "William Carter",
         "2003-09-05",
         "james70@gmail.com",
         "2024-10-08",
         "+1 1448753611"
        ],
        [
         "2024-10-21 13:20:26",
         8580,
         "Shannon Austin",
         "2002-03-22",
         "john30@gmail.com",
         "2024-10-07",
         "+1 4594705629"
        ],
        [
         "2024-10-02 14:53:40",
         3409,
         "Andrew Phillips",
         "2003-04-17",
         "peter73@yahoo.com",
         "2024-09-30",
         "+1 4079273853"
        ],
        [
         "2024-10-26 15:14:33",
         2344,
         "Martin Thomas DDS",
         "2002-05-01",
         "billy42@outlook.com",
         "2024-10-13",
         "+1 0201457151"
        ],
        [
         "2024-10-15 02:48:29",
         5011,
         "Rachel Thomas",
         "2003-02-17",
         "lauren59@yahoo.com",
         "2024-09-24",
         "+1 5437271621"
        ],
        [
         "2024-10-28 00:57:09",
         9247,
         "Dr. Daniel Hall",
         "2004-03-21",
         "tamara30@gmail.com",
         "2024-10-03",
         "+1 7544137170"
        ],
        [
         "2024-10-22 05:52:57",
         6627,
         "Candice Rosales",
         "2004-04-03",
         "amber79@example.org",
         "2024-10-15",
         "+1 4788451559"
        ],
        [
         "2024-10-06 19:55:52",
         5028,
         "Jessica Harris",
         "2004-04-19",
         null,
         "2024-09-10",
         "+1 8604009935"
        ],
        [
         "2024-10-08 03:30:53",
         5816,
         "Amy Morales",
         "1999-12-11",
         "daniel12@hotmail.com",
         "2024-09-17",
         "+46 4407385044"
        ],
        [
         "2024-10-15 01:27:54",
         9247,
         "Dr. Daniel Hall",
         "2004-03-21",
         "sheena11@alexander.com",
         "2024-09-15",
         "+46 7281991017"
        ],
        [
         "2024-10-09 18:54:00",
         3889,
         "Jennifer Jackson",
         "1995-10-30",
         null,
         "2024-09-16",
         "+68 2276996612"
        ],
        [
         "2024-10-10 16:53:44",
         9084,
         "Olivia Lyons",
         "1997-06-17",
         "johnsonmichael@yahoo.com",
         "2024-09-26",
         null
        ],
        [
         "2024-10-19 11:53:44",
         null,
         "John Smith",
         "1998-01-19",
         "john.smith@outlook.com",
         "2024-07-16",
         "+1 8762342456"
        ],
        [
         "2024-11-14 20:41:18",
         3892,
         "Jason Bridges",
         "2004-01-01",
         "nicole29@gmail.com",
         "2024-10-29",
         "+1 8220011928"
        ],
        [
         "2024-11-16 01:47:25",
         1987,
         "Amanda Alvarez",
         "1995-10-11",
         "eric40@outlook.com",
         "2024-10-27",
         "+1 9673066300"
        ],
        [
         "2024-11-19 14:03:09",
         5816,
         "Amy Morales",
         "1999-12-11",
         "katelyn82@example.org",
         "2024-11-04",
         "+1 4140982719"
        ],
        [
         "2024-11-09 14:52:31",
         5204,
         "Jennifer Nichols DDS",
         "1997-02-17",
         "joseph8@example.org",
         "2024-11-04",
         "+1 0383356328"
        ],
        [
         "2024-11-23 18:16:18",
         4468,
         "Mrs. Roberta Salas PhD",
         "1997-05-10",
         null,
         "2024-10-25",
         "+1 4679955118"
        ],
        [
         "2024-11-14 16:41:14",
         4761,
         "Timothy Smith",
         "1996-11-07",
         "joshua40@yahoo.com",
         "2024-11-03",
         "+1 9450920858"
        ],
        [
         "2024-11-07 22:20:00",
         2703,
         "Anthony Miller",
         "1997-11-02",
         null,
         "2024-11-05",
         "+1 1586310752"
        ],
        [
         "2024-11-12 12:57:38",
         4914,
         "Samantha Johnson",
         "1997-03-26",
         "theresa14@mail.com",
         "2024-10-13",
         "+1 4095003738"
        ],
        [
         "2024-11-08 02:26:42",
         7295,
         "Lauren Reed",
         "2001-08-11",
         "jeanette48@example.org",
         "2024-10-10",
         "+1 0104088765"
        ],
        [
         "2024-11-09 20:24:30",
         7803,
         "Katherine Lee",
         "2000-03-09",
         "jennifer85@mail.com",
         "2024-10-27",
         "+1 3119886866"
        ],
        [
         "2024-11-24 11:14:03",
         3712,
         "Robin Chavez",
         "1997-03-16",
         "lisa15@gmail.com",
         "2024-11-24",
         "+1 2654756919"
        ],
        [
         "2024-11-23 11:14:03",
         null,
         "Andrew Taylor",
         "1996-01-11",
         "andrew.taylor@gmail.com",
         "2024-11-21",
         "+1 1235447333"
        ],
        [
         "2024-11-03 17:22:56",
         2054,
         "Alan Price",
         "1998-08-25",
         "connor40@yahoo.com",
         "2024-10-14",
         "+1 3745642936"
        ],
        [
         "2024-11-09 07:14:17",
         7123,
         "Edgar Stevens",
         "2003-02-15",
         "kevin68@example.org",
         "2024-10-27",
         "+1 0793189847"
        ],
        [
         "2024-11-27 12:56:20",
         4996,
         "Brandon Reed",
         "1997-05-11",
         "handerson@barker.info",
         "2024-11-06",
         "+43 2750540511"
        ],
        [
         "2024-12-25 11:06:35",
         6973,
         "Tracy Cole",
         "1998-07-24",
         "tony46@mail.com",
         "2024-12-16",
         "+1 5515836612"
        ],
        [
         "2024-12-26 09:29:16",
         3532,
         "Holly Wilkinson",
         "2003-03-06",
         "lindsey61@yahoo.com",
         "2024-12-22",
         null
        ],
        [
         "2024-12-16 16:54:10",
         1211,
         "Jeremy Ball",
         "2002-03-26",
         "megan86@yahoo.com",
         "2024-12-01",
         "+1 5793543882"
        ],
        [
         "2024-12-07 18:09:58",
         7829,
         "Daniel Black",
         "1998-04-13",
         "sandra54@example.org",
         "2024-11-16",
         "+1 0933795082"
        ],
        [
         "2024-12-24 14:46:04",
         6384,
         "Jennifer Carrillo",
         "1994-12-18",
         "james34@yahoo.com",
         "2024-12-22",
         "+1 5592179843"
        ],
        [
         "2024-12-21 07:08:28",
         2639,
         "Jessica Deleon",
         "1995-06-04",
         "jeremiah96@gmail.com",
         "2024-11-22",
         "+1 1304435999"
        ],
        [
         "2024-12-20 12:32:29",
         3084,
         "Tyler Simmons",
         "2003-02-20",
         "brian94@mail.com",
         "2024-12-02",
         null
        ],
        [
         "2024-12-22 23:00:48",
         7997,
         "Patricia Abbott",
         "1997-07-31",
         "angela97@mail.com",
         "2024-11-28",
         "+1 4053366448"
        ],
        [
         "2024-12-05 08:58:52",
         9687,
         "Micheal Perez MD",
         "2002-07-18",
         "christopher65@example.org",
         "2024-11-22",
         "+1 3079718622"
        ],
        [
         "2024-12-17 15:05:15",
         2141,
         "Zachary Lopez",
         "2002-09-20",
         "glenn87@example.org",
         "2024-12-14",
         "+1 7431190983"
        ],
        [
         "2024-12-04 13:16:03",
         5592,
         "Richard Neal",
         "1995-11-05",
         "eric52@gmail.com",
         "2024-11-15",
         "+1 4425187397"
        ],
        [
         "2024-12-13 14:23:27",
         6406,
         "Christopher Ritter",
         "2004-07-12",
         null,
         "2024-11-24",
         "+1 1752511241"
        ],
        [
         "2024-12-16 16:54:10",
         1211,
         "Jeremy Ball",
         "2002-03-26",
         "megan86@yahoo.com",
         "2024-12-01",
         "+1 5793543882"
        ],
        [
         "2024-12-22 23:00:48",
         7997,
         "Patricia Abbott",
         "1997-07-31",
         "angela97@mail.com",
         "2024-11-28",
         "+1 4053366448"
        ],
        [
         "2025-01-05 17:29:34",
         7007,
         "Joe Castaneda",
         "1999-04-27",
         "michael34@mail.com",
         "2024-12-31",
         "+1 1767970338"
        ],
        [
         "2025-01-17 15:59:39",
         5953,
         "Kevin Harris",
         "2003-01-23",
         "timothy99@mail.com",
         "2024-12-31",
         "+1 6517763640"
        ],
        [
         "2025-01-12 20:13:31",
         4996,
         "Brandon Reed",
         "1997-05-11",
         "stacey71@yahoo.com",
         "2024-12-13",
         null
        ],
        [
         "2025-01-14 13:30:57",
         9605,
         "Tiffany Rocha",
         "2003-04-25",
         "michael82@yahoo.com",
         "2024-12-22",
         "+1 6232811506"
        ],
        [
         "2025-01-16 21:17:22",
         8845,
         "Joseph Robbins",
         "1997-04-04",
         "derek53@yahoo.com",
         "2025-01-12",
         "+1 9513893820"
        ],
        [
         "2025-01-26 09:46:03",
         4973,
         "Daniel Thompson",
         "1999-07-17",
         "connor32@example.org",
         "2024-12-27",
         "+1 5823046206"
        ],
        [
         "2025-01-25 13:28:31",
         3889,
         "Jennifer Jackson",
         "1995-10-30",
         "catherine77@example.org",
         "2025-01-07",
         "+1 5932456755"
        ],
        [
         "2025-01-14 18:31:28",
         6167,
         "Leslie Smith",
         "2001-10-28",
         "angela16@mail.com",
         "2024-12-16",
         "+1 2978446880"
        ],
        [
         "2025-01-17 07:50:48",
         3295,
         "Drew Hanson",
         "1996-11-21",
         "cathy31@gmail.com",
         "2025-01-01",
         "+1 6521792889"
        ],
        [
         "2025-01-03 03:28:34",
         9084,
         "Olivia Lyons",
         "1997-06-17",
         "patty47@outlook.com",
         "2024-12-16",
         "+1 2909899135"
        ],
        [
         "2025-01-23 02:07:26",
         9150,
         "Alison Davis",
         "2004-01-17",
         "jacob31@yahoo.com",
         "2024-12-26",
         "+1 7119851149"
        ],
        [
         "2025-01-14 13:30:57",
         9605,
         "Tiffany Rocha",
         "2003-04-25",
         "michael82@yahoo.com",
         "2024-12-22",
         "+1 6232811506"
        ],
        [
         "2025-01-12 20:13:31",
         4996,
         "Brandon Reed",
         "1997-05-11",
         "stacey71@yahoo.com",
         "2024-12-13",
         null
        ]
       ],
       "datasetInfos": [],
       "dbfsResultPath": null,
       "isJsonSchema": true,
       "metadata": {},
       "overflow": false,
       "plotOptions": {
        "customPlotOptions": {},
        "displayType": "table",
        "pivotAggregation": null,
        "pivotColumns": null,
        "xColumns": null,
        "yColumns": null
       },
       "removedWidgets": [],
       "schema": [
        {
         "metadata": "{}",
         "name": "created_timestamp",
         "type": "\"string\""
        },
        {
         "metadata": "{}",
         "name": "customer_id",
         "type": "\"long\""
        },
        {
         "metadata": "{}",
         "name": "customer_name",
         "type": "\"string\""
        },
        {
         "metadata": "{}",
         "name": "date_of_birth",
         "type": "\"string\""
        },
        {
         "metadata": "{}",
         "name": "email",
         "type": "\"string\""
        },
        {
         "metadata": "{}",
         "name": "member_since",
         "type": "\"string\""
        },
        {
         "metadata": "{}",
         "name": "telephone",
         "type": "\"string\""
        }
       ],
       "type": "table"
      }
     },
     "output_type": "display_data"
    }
   ],
   "source": [
    "display(df)"
   ]
  },
  {
   "cell_type": "markdown",
   "metadata": {
    "application/vnd.databricks.v1+cell": {
     "cellMetadata": {},
     "inputWidgets": {},
     "nuid": "ffcab987-f1f3-4bf0-9cc4-ce648b379fc2",
     "showTitle": false,
     "tableResultSettingsMap": {},
     "title": ""
    }
   },
   "source": [
    "#### 3-Spark.table.Function"
   ]
  },
  {
   "cell_type": "code",
   "execution_count": 0,
   "metadata": {
    "application/vnd.databricks.v1+cell": {
     "cellMetadata": {
      "byteLimit": 2048000,
      "rowLimit": 10000
     },
     "inputWidgets": {},
     "nuid": "5154e735-51d5-46a9-99cc-6b8840133dfe",
     "showTitle": false,
     "tableResultSettingsMap": {},
     "title": ""
    }
   },
   "outputs": [
    {
     "output_type": "display_data",
     "data": {
      "text/html": [
       "<style scoped>\n",
       "  .table-result-container {\n",
       "    max-height: 300px;\n",
       "    overflow: auto;\n",
       "  }\n",
       "  table, th, td {\n",
       "    border: 1px solid black;\n",
       "    border-collapse: collapse;\n",
       "  }\n",
       "  th, td {\n",
       "    padding: 5px;\n",
       "  }\n",
       "  th {\n",
       "    text-align: left;\n",
       "  }\n",
       "</style><div class='table-result-container'><table class='table-result'><thead style='background-color: white'><tr><th>customer_id</th><th>address_type</th><th>address_line_1</th><th>city</th><th>state</th><th>postcode</th><th>_rescued_data</th></tr></thead><tbody><tr><td>9179</td><td>shipping</td><td>9713 Medina Mountains Apt. 813</td><td>Lake Erika</td><td>Mississippi</td><td>91945</td><td>null</td></tr><tr><td>9179</td><td>billing</td><td>084 Anne Hollow Apt. 064</td><td>East Jasontown</td><td>Minnesota</td><td>77329</td><td>null</td></tr><tr><td>5816</td><td>shipping</td><td>8400 Rebecca Lodge Suite 011</td><td>Lake Lisatown</td><td>Montana</td><td>11354</td><td>null</td></tr><tr><td>5816</td><td>billing</td><td>869 Linda Locks Apt. 105</td><td>West Melissabury</td><td>Michigan</td><td>37662</td><td>null</td></tr><tr><td>4858</td><td>shipping</td><td>4838 Jacob Neck</td><td>Jamesview</td><td>Wisconsin</td><td>58657</td><td>null</td></tr><tr><td>4858</td><td>billing</td><td>4558 Cabrera Islands</td><td>Lake David</td><td>Rhode Island</td><td>6133</td><td>null</td></tr><tr><td>7207</td><td>shipping</td><td>75470 Richardson Mission Apt. 147</td><td>New Rachelhaven</td><td>Hawaii</td><td>38857</td><td>null</td></tr><tr><td>7207</td><td>billing</td><td>4450 Michelle Mission Suite 663</td><td>North Justin</td><td>Kentucky</td><td>91757</td><td>null</td></tr><tr><td>8539</td><td>shipping</td><td>331 Monica Route Apt. 022</td><td>Michellechester</td><td>Texas</td><td>14637</td><td>null</td></tr><tr><td>8539</td><td>billing</td><td>48794 Aguirre Ferry Apt. 952</td><td>North Amy</td><td>Washington</td><td>92507</td><td>null</td></tr><tr><td>9706</td><td>shipping</td><td>2856 Jeremy Wall Apt. 985</td><td>East Elizabeth</td><td>Oklahoma</td><td>66460</td><td>null</td></tr><tr><td>9706</td><td>billing</td><td>14540 Moody Tunnel</td><td>West Shellybury</td><td>Kentucky</td><td>83151</td><td>null</td></tr><tr><td>9263</td><td>shipping</td><td>5733 Richards Ferry Suite 995</td><td>East Angelafort</td><td>Indiana</td><td>79556</td><td>null</td></tr><tr><td>9263</td><td>billing</td><td>13677 Garcia Ports</td><td>Shelleyland</td><td>Rhode Island</td><td>3719</td><td>null</td></tr><tr><td>5028</td><td>shipping</td><td>955 Montgomery Mountain Suite 167</td><td>Jameschester</td><td>Kentucky</td><td>9013</td><td>null</td></tr><tr><td>5028</td><td>billing</td><td>5094 Ayala Falls</td><td>Greenmouth</td><td>North Carolina</td><td>2638</td><td>null</td></tr><tr><td>9018</td><td>shipping</td><td>2099 Francisco Spring</td><td>Beanshire</td><td>South Carolina</td><td>87684</td><td>null</td></tr><tr><td>9018</td><td>billing</td><td>207 Tracy Gateway</td><td>Cookberg</td><td>Delaware</td><td>14011</td><td>null</td></tr><tr><td>8580</td><td>shipping</td><td>17549 Lisa Mission Suite 987</td><td>Vasquezstad</td><td>Virginia</td><td>40641</td><td>null</td></tr><tr><td>8580</td><td>billing</td><td>6150 Jessica Park</td><td>Bellmouth</td><td>Pennsylvania</td><td>82370</td><td>null</td></tr><tr><td>3409</td><td>shipping</td><td>918 April Junctions</td><td>New Theresa</td><td>Indiana</td><td>46004</td><td>null</td></tr><tr><td>3409</td><td>billing</td><td>1294 Edward Inlet</td><td>North Alison</td><td>Indiana</td><td>82752</td><td>null</td></tr><tr><td>3889</td><td>shipping</td><td>90408 Connie Pines Suite 258</td><td>Catherinehaven</td><td>Texas</td><td>33736</td><td>null</td></tr><tr><td>3889</td><td>billing</td><td>7908 Walker Track</td><td>North Jose</td><td>Virginia</td><td>84099</td><td>null</td></tr><tr><td>9084</td><td>shipping</td><td>411 Joseph Park</td><td>Ericside</td><td>South Dakota</td><td>45339</td><td>null</td></tr><tr><td>9084</td><td>billing</td><td>649 Jessica Parks</td><td>North Tommyland</td><td>Illinois</td><td>88048</td><td>null</td></tr><tr><td>2344</td><td>shipping</td><td>97619 Sanchez Prairie Suite 359</td><td>Kelleyfurt</td><td>Louisiana</td><td>64906</td><td>null</td></tr><tr><td>2344</td><td>billing</td><td>5008 Corey Landing Apt. 475</td><td>South Christinaburgh</td><td>New Mexico</td><td>3650</td><td>null</td></tr><tr><td>5011</td><td>shipping</td><td>828 Michele Spring</td><td>Duffyshire</td><td>Tennessee</td><td>93025</td><td>null</td></tr><tr><td>5011</td><td>billing</td><td>8066 Smith Ports</td><td>Port Cheryl</td><td>Florida</td><td>97952</td><td>null</td></tr><tr><td>9247</td><td>shipping</td><td>196 Thomas Shore Apt. 768</td><td>Bobbymouth</td><td>Louisiana</td><td>91533</td><td>null</td></tr><tr><td>9247</td><td>billing</td><td>0034 Fleming Hollow Suite 295</td><td>Wadefurt</td><td>Montana</td><td>34460</td><td>null</td></tr><tr><td>6627</td><td>shipping</td><td>76810 Mcintosh Forge Suite 885</td><td>Gregoryport</td><td>South Dakota</td><td>41885</td><td>null</td></tr><tr><td>6627</td><td>billing</td><td>35855 Haas Centers Apt. 931</td><td>West Andreaville</td><td>Virginia</td><td>82397</td><td>null</td></tr><tr><td>3892</td><td>shipping</td><td>5001 Castro Creek</td><td>Watsonberg</td><td>South Dakota</td><td>3805</td><td>null</td></tr><tr><td>3892</td><td>billing</td><td>322 Dan Lock</td><td>Terriport</td><td>Missouri</td><td>25276</td><td>null</td></tr><tr><td>1987</td><td>shipping</td><td>944 Smith Squares</td><td>Port Jennifer</td><td>Maryland</td><td>28646</td><td>null</td></tr><tr><td>1987</td><td>billing</td><td>3440 Beck Parkways</td><td>West Jennifer</td><td>Alaska</td><td>79766</td><td>null</td></tr><tr><td>5204</td><td>shipping</td><td>73225 Davis Island</td><td>Robertville</td><td>Florida</td><td>30994</td><td>null</td></tr><tr><td>5204</td><td>billing</td><td>8191 Jennifer Shoals</td><td>Friedmanstad</td><td>North Dakota</td><td>97678</td><td>null</td></tr><tr><td>4468</td><td>shipping</td><td>96501 Michelle Wall</td><td>Andersonmouth</td><td>New York</td><td>40416</td><td>null</td></tr><tr><td>4468</td><td>billing</td><td>790 Jones Neck</td><td>Jenniferville</td><td>Florida</td><td>72949</td><td>null</td></tr><tr><td>4761</td><td>shipping</td><td>55640 Yolanda Brooks</td><td>Andrewfurt</td><td>Missouri</td><td>30615</td><td>null</td></tr><tr><td>4761</td><td>billing</td><td>492 Jose Knoll Apt. 836</td><td>Lake Sydney</td><td>Wyoming</td><td>51511</td><td>null</td></tr><tr><td>2703</td><td>shipping</td><td>5385 Paul Port Suite 963</td><td>Richardsonton</td><td>Florida</td><td>6432</td><td>null</td></tr><tr><td>2703</td><td>billing</td><td>7639 Derek Streets</td><td>New Mary</td><td>California</td><td>68610</td><td>null</td></tr><tr><td>4996</td><td>shipping</td><td>5566 Good Harbor Suite 047</td><td>North Crystalfurt</td><td>Maine</td><td>30274</td><td>null</td></tr><tr><td>4996</td><td>billing</td><td>102 Coleman Centers</td><td>West Paulberg</td><td>Arizona</td><td>55699</td><td>null</td></tr><tr><td>4914</td><td>shipping</td><td>750 Oliver Shore Suite 402</td><td>Reedbury</td><td>Kentucky</td><td>33755</td><td>null</td></tr><tr><td>4914</td><td>billing</td><td>639 Matthew Forge</td><td>South Lisaburgh</td><td>Alaska</td><td>26693</td><td>null</td></tr><tr><td>7295</td><td>shipping</td><td>240 Tammy Bypass Suite 433</td><td>New Hayden</td><td>Minnesota</td><td>55632</td><td>null</td></tr><tr><td>7295</td><td>billing</td><td>0087 Smith Square Suite 127</td><td>West Kristenside</td><td>Idaho</td><td>795</td><td>null</td></tr><tr><td>7803</td><td>shipping</td><td>39194 Le Underpass</td><td>Davidtown</td><td>Virginia</td><td>41382</td><td>null</td></tr><tr><td>7803</td><td>billing</td><td>529 Bobby Squares Apt. 225</td><td>Lake Michelle</td><td>Kansas</td><td>18094</td><td>null</td></tr><tr><td>3712</td><td>shipping</td><td>35807 Kaylee View</td><td>Lake Melanieburgh</td><td>Utah</td><td>86406</td><td>null</td></tr><tr><td>3712</td><td>billing</td><td>91984 Rodney Fork Suite 290</td><td>Maryland</td><td>Missouri</td><td>37082</td><td>null</td></tr><tr><td>2054</td><td>shipping</td><td>225 Lopez Bridge Suite 386</td><td>South Monica</td><td>Indiana</td><td>34134</td><td>null</td></tr><tr><td>2054</td><td>billing</td><td>890 Brandon Brook Suite 774</td><td>North Nicoleborough</td><td>Wyoming</td><td>15077</td><td>null</td></tr><tr><td>7123</td><td>shipping</td><td>6149 Adam Meadows</td><td>South Lisa</td><td>New York</td><td>96138</td><td>null</td></tr><tr><td>7123</td><td>billing</td><td>3975 Short Trail Suite 332</td><td>North Alexandra</td><td>South Dakota</td><td>47448</td><td>null</td></tr><tr><td>6973</td><td>shipping</td><td>5780 Ashley Row</td><td>Larachester</td><td>Alaska</td><td>96580</td><td>null</td></tr><tr><td>6973</td><td>billing</td><td>757 Amy Motorway</td><td>Stephaniemouth</td><td>Massachusetts</td><td>55102</td><td>null</td></tr><tr><td>3532</td><td>shipping</td><td>18892 Benson Lake</td><td>Mitchellland</td><td>Minnesota</td><td>80110</td><td>null</td></tr><tr><td>3532</td><td>billing</td><td>87297 Davis Bypass Apt. 742</td><td>Mannshire</td><td>Colorado</td><td>19139</td><td>null</td></tr><tr><td>1211</td><td>shipping</td><td>580 Samantha Lodge</td><td>New Christinaborough</td><td>Louisiana</td><td>4251</td><td>null</td></tr><tr><td>1211</td><td>billing</td><td>7938 Cervantes Mountain Suite 159</td><td>Oconnorhaven</td><td>Indiana</td><td>44129</td><td>null</td></tr><tr><td>7829</td><td>shipping</td><td>3242 Kelly Forks Suite 810</td><td>Lake Sierraside</td><td>Nebraska</td><td>10629</td><td>null</td></tr><tr><td>7829</td><td>billing</td><td>0722 Gregory Turnpike</td><td>East Jacksonport</td><td>Indiana</td><td>5138</td><td>null</td></tr><tr><td>6384</td><td>shipping</td><td>750 Lisa Valleys</td><td>Heatherton</td><td>Michigan</td><td>22885</td><td>null</td></tr><tr><td>6384</td><td>billing</td><td>3915 Reyes Islands Apt. 261</td><td>New Emily</td><td>Massachusetts</td><td>95275</td><td>null</td></tr><tr><td>2639</td><td>shipping</td><td>5383 Albert Grove Apt. 804</td><td>North Destinyland</td><td>Illinois</td><td>60150</td><td>null</td></tr><tr><td>2639</td><td>billing</td><td>222 Dominique Springs Apt. 942</td><td>Colechester</td><td>Louisiana</td><td>96258</td><td>null</td></tr><tr><td>3084</td><td>shipping</td><td>3337 Gregory Island</td><td>Mitchellbury</td><td>Tennessee</td><td>70603</td><td>null</td></tr><tr><td>3084</td><td>billing</td><td>78828 Montgomery Branch Suite 316</td><td>South Chelsea</td><td>Wisconsin</td><td>61054</td><td>null</td></tr><tr><td>7997</td><td>shipping</td><td>8166 Anthony Lodge Suite 528</td><td>Richardmouth</td><td>Mississippi</td><td>48790</td><td>null</td></tr><tr><td>7997</td><td>billing</td><td>425 Keith Motorway</td><td>West Lawrencemouth</td><td>Nebraska</td><td>76674</td><td>null</td></tr><tr><td>9687</td><td>shipping</td><td>3044 Scott Row</td><td>North Noah</td><td>Oregon</td><td>73984</td><td>null</td></tr><tr><td>9687</td><td>billing</td><td>146 Smith Coves Apt. 738</td><td>North Lisaton</td><td>West Virginia</td><td>46429</td><td>null</td></tr><tr><td>2141</td><td>shipping</td><td>098 Sellers Station</td><td>South Javierstad</td><td>Texas</td><td>59689</td><td>null</td></tr><tr><td>2141</td><td>billing</td><td>7451 Lisa Stravenue Suite 994</td><td>South Victor</td><td>Kansas</td><td>49835</td><td>null</td></tr><tr><td>5592</td><td>shipping</td><td>754 Ricky Corners Apt. 629</td><td>Jonland</td><td>South Carolina</td><td>2070</td><td>null</td></tr><tr><td>5592</td><td>billing</td><td>9688 Elizabeth Plains</td><td>South Theodoreburgh</td><td>Massachusetts</td><td>97146</td><td>null</td></tr><tr><td>6406</td><td>shipping</td><td>613 Hart Rapid Apt. 447</td><td>Shannonmouth</td><td>Wyoming</td><td>83119</td><td>null</td></tr><tr><td>6406</td><td>billing</td><td>5706 Adam Forges Suite 567</td><td>Josephburgh</td><td>South Dakota</td><td>7359</td><td>null</td></tr><tr><td>7007</td><td>shipping</td><td>64918 Lee Ports Apt. 269</td><td>Jasonview</td><td>Maryland</td><td>18994</td><td>null</td></tr><tr><td>7007</td><td>billing</td><td>201 Danielle Hollow Apt. 665</td><td>Jerryport</td><td>South Dakota</td><td>12363</td><td>null</td></tr><tr><td>5953</td><td>shipping</td><td>1393 White Wells Suite 722</td><td>North Karen</td><td>Connecticut</td><td>47802</td><td>null</td></tr><tr><td>5953</td><td>billing</td><td>470 Casey Pines Suite 957</td><td>Deanmouth</td><td>Arkansas</td><td>96860</td><td>null</td></tr><tr><td>9605</td><td>shipping</td><td>4123 Solomon Oval Apt. 648</td><td>Mccormickside</td><td>Indiana</td><td>90659</td><td>null</td></tr><tr><td>9605</td><td>billing</td><td>67373 David Plains Suite 457</td><td>East Stevenfort</td><td>Nevada</td><td>84183</td><td>null</td></tr><tr><td>8845</td><td>shipping</td><td>95689 Jeffrey Expressway</td><td>East Lanceborough</td><td>Pennsylvania</td><td>79251</td><td>null</td></tr><tr><td>8845</td><td>billing</td><td>556 Christensen Pike</td><td>North Jeremyview</td><td>California</td><td>90786</td><td>null</td></tr><tr><td>4973</td><td>shipping</td><td>3013 Michelle Mountain Apt. 214</td><td>South Patrickburgh</td><td>Arizona</td><td>45875</td><td>null</td></tr><tr><td>4973</td><td>billing</td><td>748 John Curve</td><td>Fritzberg</td><td>Maryland</td><td>36128</td><td>null</td></tr><tr><td>6167</td><td>shipping</td><td>179 Vang Street</td><td>Jessicastad</td><td>Connecticut</td><td>40919</td><td>null</td></tr><tr><td>6167</td><td>billing</td><td>58676 Keith Coves</td><td>New Erichaven</td><td>Kentucky</td><td>25297</td><td>null</td></tr><tr><td>3295</td><td>shipping</td><td>9569 Dennis Way Suite 047</td><td>North Amy</td><td>New York</td><td>17867</td><td>null</td></tr><tr><td>3295</td><td>billing</td><td>36789 Hatfield Landing</td><td>Haydenton</td><td>Tennessee</td><td>60950</td><td>null</td></tr><tr><td>9150</td><td>shipping</td><td>819 Campbell Ville</td><td>South Ian</td><td>California</td><td>35549</td><td>null</td></tr><tr><td>9150</td><td>billing</td><td>48219 Kurt Hollow</td><td>South Ravenberg</td><td>Rhode Island</td><td>8078</td><td>null</td></tr></tbody></table></div>"
      ]
     },
     "metadata": {
      "application/vnd.databricks.v1+output": {
       "addedWidgets": {},
       "aggData": [],
       "aggError": "",
       "aggOverflow": false,
       "aggSchema": [],
       "aggSeriesLimitReached": false,
       "aggType": "",
       "arguments": {},
       "columnCustomDisplayInfos": {},
       "data": [
        [
         9179,
         "shipping",
         "9713 Medina Mountains Apt. 813",
         "Lake Erika",
         "Mississippi",
         91945,
         null
        ],
        [
         9179,
         "billing",
         "084 Anne Hollow Apt. 064",
         "East Jasontown",
         "Minnesota",
         77329,
         null
        ],
        [
         5816,
         "shipping",
         "8400 Rebecca Lodge Suite 011",
         "Lake Lisatown",
         "Montana",
         11354,
         null
        ],
        [
         5816,
         "billing",
         "869 Linda Locks Apt. 105",
         "West Melissabury",
         "Michigan",
         37662,
         null
        ],
        [
         4858,
         "shipping",
         "4838 Jacob Neck",
         "Jamesview",
         "Wisconsin",
         58657,
         null
        ],
        [
         4858,
         "billing",
         "4558 Cabrera Islands",
         "Lake David",
         "Rhode Island",
         6133,
         null
        ],
        [
         7207,
         "shipping",
         "75470 Richardson Mission Apt. 147",
         "New Rachelhaven",
         "Hawaii",
         38857,
         null
        ],
        [
         7207,
         "billing",
         "4450 Michelle Mission Suite 663",
         "North Justin",
         "Kentucky",
         91757,
         null
        ],
        [
         8539,
         "shipping",
         "331 Monica Route Apt. 022",
         "Michellechester",
         "Texas",
         14637,
         null
        ],
        [
         8539,
         "billing",
         "48794 Aguirre Ferry Apt. 952",
         "North Amy",
         "Washington",
         92507,
         null
        ],
        [
         9706,
         "shipping",
         "2856 Jeremy Wall Apt. 985",
         "East Elizabeth",
         "Oklahoma",
         66460,
         null
        ],
        [
         9706,
         "billing",
         "14540 Moody Tunnel",
         "West Shellybury",
         "Kentucky",
         83151,
         null
        ],
        [
         9263,
         "shipping",
         "5733 Richards Ferry Suite 995",
         "East Angelafort",
         "Indiana",
         79556,
         null
        ],
        [
         9263,
         "billing",
         "13677 Garcia Ports",
         "Shelleyland",
         "Rhode Island",
         3719,
         null
        ],
        [
         5028,
         "shipping",
         "955 Montgomery Mountain Suite 167",
         "Jameschester",
         "Kentucky",
         9013,
         null
        ],
        [
         5028,
         "billing",
         "5094 Ayala Falls",
         "Greenmouth",
         "North Carolina",
         2638,
         null
        ],
        [
         9018,
         "shipping",
         "2099 Francisco Spring",
         "Beanshire",
         "South Carolina",
         87684,
         null
        ],
        [
         9018,
         "billing",
         "207 Tracy Gateway",
         "Cookberg",
         "Delaware",
         14011,
         null
        ],
        [
         8580,
         "shipping",
         "17549 Lisa Mission Suite 987",
         "Vasquezstad",
         "Virginia",
         40641,
         null
        ],
        [
         8580,
         "billing",
         "6150 Jessica Park",
         "Bellmouth",
         "Pennsylvania",
         82370,
         null
        ],
        [
         3409,
         "shipping",
         "918 April Junctions",
         "New Theresa",
         "Indiana",
         46004,
         null
        ],
        [
         3409,
         "billing",
         "1294 Edward Inlet",
         "North Alison",
         "Indiana",
         82752,
         null
        ],
        [
         3889,
         "shipping",
         "90408 Connie Pines Suite 258",
         "Catherinehaven",
         "Texas",
         33736,
         null
        ],
        [
         3889,
         "billing",
         "7908 Walker Track",
         "North Jose",
         "Virginia",
         84099,
         null
        ],
        [
         9084,
         "shipping",
         "411 Joseph Park",
         "Ericside",
         "South Dakota",
         45339,
         null
        ],
        [
         9084,
         "billing",
         "649 Jessica Parks",
         "North Tommyland",
         "Illinois",
         88048,
         null
        ],
        [
         2344,
         "shipping",
         "97619 Sanchez Prairie Suite 359",
         "Kelleyfurt",
         "Louisiana",
         64906,
         null
        ],
        [
         2344,
         "billing",
         "5008 Corey Landing Apt. 475",
         "South Christinaburgh",
         "New Mexico",
         3650,
         null
        ],
        [
         5011,
         "shipping",
         "828 Michele Spring",
         "Duffyshire",
         "Tennessee",
         93025,
         null
        ],
        [
         5011,
         "billing",
         "8066 Smith Ports",
         "Port Cheryl",
         "Florida",
         97952,
         null
        ],
        [
         9247,
         "shipping",
         "196 Thomas Shore Apt. 768",
         "Bobbymouth",
         "Louisiana",
         91533,
         null
        ],
        [
         9247,
         "billing",
         "0034 Fleming Hollow Suite 295",
         "Wadefurt",
         "Montana",
         34460,
         null
        ],
        [
         6627,
         "shipping",
         "76810 Mcintosh Forge Suite 885",
         "Gregoryport",
         "South Dakota",
         41885,
         null
        ],
        [
         6627,
         "billing",
         "35855 Haas Centers Apt. 931",
         "West Andreaville",
         "Virginia",
         82397,
         null
        ],
        [
         3892,
         "shipping",
         "5001 Castro Creek",
         "Watsonberg",
         "South Dakota",
         3805,
         null
        ],
        [
         3892,
         "billing",
         "322 Dan Lock",
         "Terriport",
         "Missouri",
         25276,
         null
        ],
        [
         1987,
         "shipping",
         "944 Smith Squares",
         "Port Jennifer",
         "Maryland",
         28646,
         null
        ],
        [
         1987,
         "billing",
         "3440 Beck Parkways",
         "West Jennifer",
         "Alaska",
         79766,
         null
        ],
        [
         5204,
         "shipping",
         "73225 Davis Island",
         "Robertville",
         "Florida",
         30994,
         null
        ],
        [
         5204,
         "billing",
         "8191 Jennifer Shoals",
         "Friedmanstad",
         "North Dakota",
         97678,
         null
        ],
        [
         4468,
         "shipping",
         "96501 Michelle Wall",
         "Andersonmouth",
         "New York",
         40416,
         null
        ],
        [
         4468,
         "billing",
         "790 Jones Neck",
         "Jenniferville",
         "Florida",
         72949,
         null
        ],
        [
         4761,
         "shipping",
         "55640 Yolanda Brooks",
         "Andrewfurt",
         "Missouri",
         30615,
         null
        ],
        [
         4761,
         "billing",
         "492 Jose Knoll Apt. 836",
         "Lake Sydney",
         "Wyoming",
         51511,
         null
        ],
        [
         2703,
         "shipping",
         "5385 Paul Port Suite 963",
         "Richardsonton",
         "Florida",
         6432,
         null
        ],
        [
         2703,
         "billing",
         "7639 Derek Streets",
         "New Mary",
         "California",
         68610,
         null
        ],
        [
         4996,
         "shipping",
         "5566 Good Harbor Suite 047",
         "North Crystalfurt",
         "Maine",
         30274,
         null
        ],
        [
         4996,
         "billing",
         "102 Coleman Centers",
         "West Paulberg",
         "Arizona",
         55699,
         null
        ],
        [
         4914,
         "shipping",
         "750 Oliver Shore Suite 402",
         "Reedbury",
         "Kentucky",
         33755,
         null
        ],
        [
         4914,
         "billing",
         "639 Matthew Forge",
         "South Lisaburgh",
         "Alaska",
         26693,
         null
        ],
        [
         7295,
         "shipping",
         "240 Tammy Bypass Suite 433",
         "New Hayden",
         "Minnesota",
         55632,
         null
        ],
        [
         7295,
         "billing",
         "0087 Smith Square Suite 127",
         "West Kristenside",
         "Idaho",
         795,
         null
        ],
        [
         7803,
         "shipping",
         "39194 Le Underpass",
         "Davidtown",
         "Virginia",
         41382,
         null
        ],
        [
         7803,
         "billing",
         "529 Bobby Squares Apt. 225",
         "Lake Michelle",
         "Kansas",
         18094,
         null
        ],
        [
         3712,
         "shipping",
         "35807 Kaylee View",
         "Lake Melanieburgh",
         "Utah",
         86406,
         null
        ],
        [
         3712,
         "billing",
         "91984 Rodney Fork Suite 290",
         "Maryland",
         "Missouri",
         37082,
         null
        ],
        [
         2054,
         "shipping",
         "225 Lopez Bridge Suite 386",
         "South Monica",
         "Indiana",
         34134,
         null
        ],
        [
         2054,
         "billing",
         "890 Brandon Brook Suite 774",
         "North Nicoleborough",
         "Wyoming",
         15077,
         null
        ],
        [
         7123,
         "shipping",
         "6149 Adam Meadows",
         "South Lisa",
         "New York",
         96138,
         null
        ],
        [
         7123,
         "billing",
         "3975 Short Trail Suite 332",
         "North Alexandra",
         "South Dakota",
         47448,
         null
        ],
        [
         6973,
         "shipping",
         "5780 Ashley Row",
         "Larachester",
         "Alaska",
         96580,
         null
        ],
        [
         6973,
         "billing",
         "757 Amy Motorway",
         "Stephaniemouth",
         "Massachusetts",
         55102,
         null
        ],
        [
         3532,
         "shipping",
         "18892 Benson Lake",
         "Mitchellland",
         "Minnesota",
         80110,
         null
        ],
        [
         3532,
         "billing",
         "87297 Davis Bypass Apt. 742",
         "Mannshire",
         "Colorado",
         19139,
         null
        ],
        [
         1211,
         "shipping",
         "580 Samantha Lodge",
         "New Christinaborough",
         "Louisiana",
         4251,
         null
        ],
        [
         1211,
         "billing",
         "7938 Cervantes Mountain Suite 159",
         "Oconnorhaven",
         "Indiana",
         44129,
         null
        ],
        [
         7829,
         "shipping",
         "3242 Kelly Forks Suite 810",
         "Lake Sierraside",
         "Nebraska",
         10629,
         null
        ],
        [
         7829,
         "billing",
         "0722 Gregory Turnpike",
         "East Jacksonport",
         "Indiana",
         5138,
         null
        ],
        [
         6384,
         "shipping",
         "750 Lisa Valleys",
         "Heatherton",
         "Michigan",
         22885,
         null
        ],
        [
         6384,
         "billing",
         "3915 Reyes Islands Apt. 261",
         "New Emily",
         "Massachusetts",
         95275,
         null
        ],
        [
         2639,
         "shipping",
         "5383 Albert Grove Apt. 804",
         "North Destinyland",
         "Illinois",
         60150,
         null
        ],
        [
         2639,
         "billing",
         "222 Dominique Springs Apt. 942",
         "Colechester",
         "Louisiana",
         96258,
         null
        ],
        [
         3084,
         "shipping",
         "3337 Gregory Island",
         "Mitchellbury",
         "Tennessee",
         70603,
         null
        ],
        [
         3084,
         "billing",
         "78828 Montgomery Branch Suite 316",
         "South Chelsea",
         "Wisconsin",
         61054,
         null
        ],
        [
         7997,
         "shipping",
         "8166 Anthony Lodge Suite 528",
         "Richardmouth",
         "Mississippi",
         48790,
         null
        ],
        [
         7997,
         "billing",
         "425 Keith Motorway",
         "West Lawrencemouth",
         "Nebraska",
         76674,
         null
        ],
        [
         9687,
         "shipping",
         "3044 Scott Row",
         "North Noah",
         "Oregon",
         73984,
         null
        ],
        [
         9687,
         "billing",
         "146 Smith Coves Apt. 738",
         "North Lisaton",
         "West Virginia",
         46429,
         null
        ],
        [
         2141,
         "shipping",
         "098 Sellers Station",
         "South Javierstad",
         "Texas",
         59689,
         null
        ],
        [
         2141,
         "billing",
         "7451 Lisa Stravenue Suite 994",
         "South Victor",
         "Kansas",
         49835,
         null
        ],
        [
         5592,
         "shipping",
         "754 Ricky Corners Apt. 629",
         "Jonland",
         "South Carolina",
         2070,
         null
        ],
        [
         5592,
         "billing",
         "9688 Elizabeth Plains",
         "South Theodoreburgh",
         "Massachusetts",
         97146,
         null
        ],
        [
         6406,
         "shipping",
         "613 Hart Rapid Apt. 447",
         "Shannonmouth",
         "Wyoming",
         83119,
         null
        ],
        [
         6406,
         "billing",
         "5706 Adam Forges Suite 567",
         "Josephburgh",
         "South Dakota",
         7359,
         null
        ],
        [
         7007,
         "shipping",
         "64918 Lee Ports Apt. 269",
         "Jasonview",
         "Maryland",
         18994,
         null
        ],
        [
         7007,
         "billing",
         "201 Danielle Hollow Apt. 665",
         "Jerryport",
         "South Dakota",
         12363,
         null
        ],
        [
         5953,
         "shipping",
         "1393 White Wells Suite 722",
         "North Karen",
         "Connecticut",
         47802,
         null
        ],
        [
         5953,
         "billing",
         "470 Casey Pines Suite 957",
         "Deanmouth",
         "Arkansas",
         96860,
         null
        ],
        [
         9605,
         "shipping",
         "4123 Solomon Oval Apt. 648",
         "Mccormickside",
         "Indiana",
         90659,
         null
        ],
        [
         9605,
         "billing",
         "67373 David Plains Suite 457",
         "East Stevenfort",
         "Nevada",
         84183,
         null
        ],
        [
         8845,
         "shipping",
         "95689 Jeffrey Expressway",
         "East Lanceborough",
         "Pennsylvania",
         79251,
         null
        ],
        [
         8845,
         "billing",
         "556 Christensen Pike",
         "North Jeremyview",
         "California",
         90786,
         null
        ],
        [
         4973,
         "shipping",
         "3013 Michelle Mountain Apt. 214",
         "South Patrickburgh",
         "Arizona",
         45875,
         null
        ],
        [
         4973,
         "billing",
         "748 John Curve",
         "Fritzberg",
         "Maryland",
         36128,
         null
        ],
        [
         6167,
         "shipping",
         "179 Vang Street",
         "Jessicastad",
         "Connecticut",
         40919,
         null
        ],
        [
         6167,
         "billing",
         "58676 Keith Coves",
         "New Erichaven",
         "Kentucky",
         25297,
         null
        ],
        [
         3295,
         "shipping",
         "9569 Dennis Way Suite 047",
         "North Amy",
         "New York",
         17867,
         null
        ],
        [
         3295,
         "billing",
         "36789 Hatfield Landing",
         "Haydenton",
         "Tennessee",
         60950,
         null
        ],
        [
         9150,
         "shipping",
         "819 Campbell Ville",
         "South Ian",
         "California",
         35549,
         null
        ],
        [
         9150,
         "billing",
         "48219 Kurt Hollow",
         "South Ravenberg",
         "Rhode Island",
         8078,
         null
        ]
       ],
       "datasetInfos": [],
       "dbfsResultPath": null,
       "isJsonSchema": true,
       "metadata": {},
       "overflow": false,
       "plotOptions": {
        "customPlotOptions": {},
        "displayType": "table",
        "pivotAggregation": null,
        "pivotColumns": null,
        "xColumns": null,
        "yColumns": null
       },
       "removedWidgets": [],
       "schema": [
        {
         "metadata": "{}",
         "name": "customer_id",
         "type": "\"integer\""
        },
        {
         "metadata": "{}",
         "name": "address_type",
         "type": "\"string\""
        },
        {
         "metadata": "{}",
         "name": "address_line_1",
         "type": "\"string\""
        },
        {
         "metadata": "{}",
         "name": "city",
         "type": "\"string\""
        },
        {
         "metadata": "{}",
         "name": "state",
         "type": "\"string\""
        },
        {
         "metadata": "{}",
         "name": "postcode",
         "type": "\"integer\""
        },
        {
         "metadata": "{}",
         "name": "_rescued_data",
         "type": "\"string\""
        }
       ],
       "type": "table"
      }
     },
     "output_type": "display_data"
    }
   ],
   "source": [
    "df= spark.table('gizmobox.bronze.v_addresses')\n",
    "display(df)"
   ]
  }
 ],
 "metadata": {
  "application/vnd.databricks.v1+notebook": {
   "computePreferences": null,
   "dashboards": [],
   "environmentMetadata": {
    "base_environment": "",
    "environment_version": "3"
   },
   "inputWidgetPreferences": null,
   "language": "python",
   "notebookMetadata": {
    "mostRecentlyExecutedCommandWithImplicitDF": {
     "commandId": 7248714508380006,
     "dataframes": [
      "_sqldf"
     ]
    },
    "pythonIndentUnit": 4
   },
   "notebookName": "7-Extract-data-using-Python",
   "widgets": {}
  },
  "language_info": {
   "name": "python"
  }
 },
 "nbformat": 4,
 "nbformat_minor": 0
}
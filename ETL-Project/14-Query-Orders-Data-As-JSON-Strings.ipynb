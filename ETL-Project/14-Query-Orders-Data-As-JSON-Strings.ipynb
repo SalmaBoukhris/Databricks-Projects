{
 "cells": [
  {
   "cell_type": "markdown",
   "metadata": {
    "application/vnd.databricks.v1+cell": {
     "cellMetadata": {},
     "inputWidgets": {},
     "nuid": "b128745b-08d7-4db4-b4ac-793215600cb4",
     "showTitle": false,
     "tableResultSettingsMap": {},
     "title": ""
    }
   },
   "source": [
    "## Query Orders Data as JSON Strings"
   ]
  },
  {
   "cell_type": "markdown",
   "metadata": {
    "application/vnd.databricks.v1+cell": {
     "cellMetadata": {},
     "inputWidgets": {},
     "nuid": "27f5409c-65c7-4498-94fd-f282d055b3a5",
     "showTitle": false,
     "tableResultSettingsMap": {},
     "title": ""
    }
   },
   "source": [
    "#### 1-Extract Top Level Column Values"
   ]
  },
  {
   "cell_type": "code",
   "execution_count": 0,
   "metadata": {
    "application/vnd.databricks.v1+cell": {
     "cellMetadata": {
      "byteLimit": 2048000,
      "implicitDf": true,
      "rowLimit": 10000
     },
     "inputWidgets": {},
     "nuid": "1b24faba-6c3a-4bb0-96ab-800bae5c6a6b",
     "showTitle": false,
     "tableResultSettingsMap": {},
     "title": ""
    }
   },
   "outputs": [
    {
     "output_type": "display_data",
     "data": {
      "text/html": [
       "<style scoped>\n",
       "  .table-result-container {\n",
       "    max-height: 300px;\n",
       "    overflow: auto;\n",
       "  }\n",
       "  table, th, td {\n",
       "    border: 1px solid black;\n",
       "    border-collapse: collapse;\n",
       "  }\n",
       "  th, td {\n",
       "    padding: 5px;\n",
       "  }\n",
       "  th {\n",
       "    text-align: left;\n",
       "  }\n",
       "</style><div class='table-result-container'><table class='table-result'><thead style='background-color: white'><tr><th>value</th></tr></thead><tbody><tr><td>{\"order_id\": 1, \"customer_id\": 6973, \"order_date\": \"2025-01-05\", \"transaction_timestamp\": \"2025-01-05 10:13:59\", \"total_amount\": 499, \"payment_method\": \"Bank Transfer\", \"items\": [{\"item_id\": 8, \"name\": \"Gaming Console\", \"category\": \"Electronics\", \"price\": 499, \"quantity\": 1, \"details\": {\"brand\": \"Sony\", \"color\": \"Blue\"}}], \"order_status\": \"Completed\"}</td></tr><tr><td>{\"order_id\": 2, \"customer_id\": 3532, \"order_date\": 2025-01-19, \"transaction_timestamp\": \"2025-01-19 00:05:13\", \"total_amount\": 985, \"payment_method\": \"PayPal\", \"items\": [{\"item_id\": 4, \"name\": \"Smartwatch\", \"category\": \"Electronics\", \"price\": 299, \"quantity\": 2, \"details\": {\"brand\": \"Canon\", \"color\": \"Gray\"}}, {\"item_id\": 7, \"name\": \"External Hard Drive\", \"category\": \"Electronics\", \"price\": 129, \"quantity\": 3, \"details\": {\"brand\": \"Dell\", \"color\": \"Blue\"}}], \"order_status\": \"Cancelled\"}</td></tr><tr><td>{\"order_id\": 3, \"customer_id\": 3532, \"order_date\": \"2025-01-08\", \"transaction_timestamp\": \"2025-01-08 23:11:00\", \"total_amount\": 597, \"payment_method\": \"Bank Transfer\", \"items\": [{\"item_id\": 3, \"name\": \"Wireless Headphones\", \"category\": \"Electronics\", \"price\": 199, \"quantity\": 3, \"details\": {\"brand\": \"Apple\", \"color\": \"White\"}}], \"order_status\": \"Completed\"}</td></tr><tr><td>{\"order_id\": 4, \"customer_id\": 3532, \"order_date\": \"2025-01-05\", \"transaction_timestamp\": \"2025-01-05 05:49:26\", \"total_amount\": 999, \"payment_method\": \"Bank Transfer\", \"items\": [{\"item_id\": 2, \"name\": \"Laptop\", \"category\": \"Electronics\", \"price\": 999, \"quantity\": 1, \"details\": {\"brand\": \"Microsoft\", \"color\": \"Black\"}}], \"order_status\": \"Cancelled\"}</td></tr><tr><td>{\"order_id\": 8, \"customer_id\": 9179, \"order_date\": \"2025-01-02\", \"transaction_timestamp\": \"2025-01-02 13:11:15\", \"total_amount\": 399, \"payment_method\": \"PayPal\", \"items\": [{\"item_id\": 5, \"name\": \"Tablet\", \"category\": \"Electronics\", \"price\": 399, \"quantity\": 1, \"details\": {\"brand\": \"LG\", \"color\": \"White\"}}], \"order_status\": \"Completed\"}</td></tr><tr><td>{\"order_id\": 14, \"customer_id\": 7207, \"order_date\": \"2025-01-01\", \"transaction_timestamp\": \"2025-01-01 18:22:26\", \"total_amount\": 597, \"payment_method\": \"PayPal\", \"items\": [{\"item_id\": 3, \"name\": \"Wireless Headphones\", \"category\": \"Electronics\", \"price\": 199, \"quantity\": 3, \"details\": {\"brand\": \"Bose\", \"color\": \"Blue\"}}], \"order_status\": \"Cancelled\"}</td></tr><tr><td>{\"order_id\": 18, \"customer_id\": 4468, \"order_date\": \"2025-01-22\", \"transaction_timestamp\": \"2025-01-22 21:12:08\", \"total_amount\": 799, \"payment_method\": \"Credit Card\", \"items\": [{\"item_id\": 10, \"name\": \"Drone\", \"category\": \"Electronics\", \"price\": 799, \"quantity\": 1, \"details\": {\"brand\": \"Dell\", \"color\": \"Black\"}}], \"order_status\": \"Pending\"}</td></tr><tr><td>{\"order_id\": 22, \"customer_id\": 4761, \"order_date\": 2025-01-01, \"transaction_timestamp\": \"2025-01-01 15:49:19\", \"total_amount\": 199, \"payment_method\": \"PayPal\", \"items\": [{\"item_id\": 3, \"name\": \"Wireless Headphones\", \"category\": \"Electronics\", \"price\": 199, \"quantity\": 1, \"details\": {\"brand\": \"HP\", \"color\": \"Silver\"}}], \"order_status\": \"Pending\"}</td></tr><tr><td>{\"order_id\": 26, \"customer_id\": 7007, \"order_date\": \"2025-01-05\", \"transaction_timestamp\": \"2025-01-05 19:01:25\", \"total_amount\": 699, \"payment_method\": \"Bank Transfer\", \"items\": [{\"item_id\": 1, \"name\": \"Smartphone\", \"category\": \"Electronics\", \"price\": 699, \"quantity\": 1, \"details\": {\"brand\": \"Samsung\", \"color\": \"Silver\"}}], \"order_status\": \"Shipped\"}</td></tr><tr><td>{\"order_id\": 29, \"customer_id\": 5953, \"order_date\": \"2025-01-18\", \"transaction_timestamp\": \"2025-01-18 03:05:04\", \"total_amount\": 129, \"payment_method\": \"Bank Transfer\", \"items\": [{\"item_id\": 7, \"name\": \"External Hard Drive\", \"category\": \"Electronics\", \"price\": 129, \"quantity\": 1, \"details\": {\"brand\": \"Bose\", \"color\": \"Gray\"}}, {\"item_id\": 7, \"name\": \"External Hard Drive\", \"category\": \"Electronics\", \"price\": 129, \"quantity\": 1, \"details\": {\"brand\": \"Bose\", \"color\": \"Gray\"}}], \"order_status\": \"Pending\"}</td></tr><tr><td>{\"order_id\": 31, \"customer_id\": 4996, \"order_date\": \"2025-01-18\", \"transaction_timestamp\": \"2025-01-18 03:13:29\", \"total_amount\": 299, \"payment_method\": \"Bank Transfer\", \"items\": [{\"item_id\": 4, \"name\": \"Smartwatch\", \"category\": \"Electronics\", \"price\": 299, \"quantity\": 1, \"details\": {\"brand\": \"Dell\", \"color\": \"White\"}}], \"order_status\": \"Shipped\"}</td></tr><tr><td>{\"order_id\": 33, \"customer_id\": 9605, \"order_date\": \"2025-01-13\", \"transaction_timestamp\": \"2025-01-13 04:47:43\", \"total_amount\": 897, \"payment_method\": \"PayPal\", \"items\": [{\"item_id\": 4, \"name\": \"Smartwatch\", \"category\": \"Electronics\", \"price\": 299, \"quantity\": 3, \"details\": {\"brand\": \"Canon\", \"color\": \"White\"}}], \"order_status\": \"Completed\"}</td></tr><tr><td>{\"order_id\": 34, \"customer_id\": 9605, \"order_date\": \"2025-01-21\", \"transaction_timestamp\": \"2025-01-21 00:25:01\", \"total_amount\": 926, \"payment_method\": \"PayPal\", \"items\": [{\"item_id\": 6, \"name\": \"Bluetooth Speaker\", \"category\": \"Electronics\", \"price\": 149, \"quantity\": 2, \"details\": {\"brand\": \"Bose\", \"color\": \"Silver\"}}, {\"item_id\": 8, \"name\": \"Gaming Console\", \"category\": \"Electronics\", \"price\": 499, \"quantity\": 1, \"details\": {\"brand\": \"LG\", \"color\": \"Black\"}}, {\"item_id\": 7, \"name\": \"External Hard Drive\", \"category\": \"Electronics\", \"price\": 129, \"quantity\": 1, \"details\": {\"brand\": \"Samsung\", \"color\": \"Black\"}}], \"order_status\": \"Cancelled\"}</td></tr><tr><td>{\"order_id\": 40, \"customer_id\": 6384, \"order_date\": \"2025-01-20\", \"transaction_timestamp\": \"2025-01-20 16:18:35\", \"total_amount\": 298, \"payment_method\": \"PayPal\", \"items\": [{\"item_id\": 6, \"name\": \"Bluetooth Speaker\", \"category\": \"Electronics\", \"price\": 149, \"quantity\": 2, \"details\": {\"brand\": \"Bose\", \"color\": \"Silver\"}}], \"order_status\": \"Completed\"}</td></tr><tr><td>{\"order_id\": 41, \"customer_id\": 6384, \"order_date\": \"2025-01-05\", \"transaction_timestamp\": \"2025-01-05 06:10:22\", \"total_amount\": 999, \"payment_method\": \"Credit Card\", \"items\": [{\"item_id\": 2, \"name\": \"Laptop\", \"category\": \"Electronics\", \"price\": 999, \"quantity\": 1, \"details\": {\"brand\": \"Sony\", \"color\": \"Silver\"}}], \"order_status\": \"Shipped\"}</td></tr><tr><td>{\"order_id\": 43, \"customer_id\": 5028, \"order_date\": \"2025-01-24\", \"transaction_timestamp\": \"2025-01-24 18:10:37\", \"total_amount\": 499, \"payment_method\": \"PayPal\", \"items\": [{\"item_id\": 8, \"name\": \"Gaming Console\", \"category\": \"Electronics\", \"price\": 499, \"quantity\": 1, \"details\": {\"brand\": \"LG\", \"color\": \"Black\"}}], \"order_status\": \"Pending\"}</td></tr><tr><td>{\"order_id\": 50, \"customer_id\": 3712, \"order_date\": \"2025-01-11\", \"transaction_timestamp\": \"2025-01-11 01:19:09\", \"total_amount\": 746, \"payment_method\": \"Credit Card\", \"items\": [{\"item_id\": 6, \"name\": \"Bluetooth Speaker\", \"category\": \"Electronics\", \"price\": 149, \"quantity\": 3, \"details\": {\"brand\": \"Apple\", \"color\": \"Gray\"}}, {\"item_id\": 4, \"name\": \"Smartwatch\", \"category\": \"Electronics\", \"price\": 299, \"quantity\": 1, \"details\": {\"brand\": \"Sony\", \"color\": \"White\"}}], \"order_status\": \"Shipped\"}</td></tr><tr><td>{\"order_id\": 51, \"customer_id\": 8845, \"order_date\": \"2025-01-21\", \"transaction_timestamp\": \"2025-01-21 13:19:59\", \"total_amount\": 149, \"payment_method\": \"PayPal\", \"items\": [{\"item_id\": 6, \"name\": \"Bluetooth Speaker\", \"category\": \"Electronics\", \"price\": 149, \"quantity\": 1, \"details\": {\"brand\": \"Samsung\", \"color\": \"Gray\"}}], \"order_status\": \"Completed\"}</td></tr><tr><td>{\"order_id\": 53, \"customer_id\": 8845, \"order_date\": \"2025-01-21\", \"transaction_timestamp\": \"2025-01-21 08:31:02\", \"total_amount\": 199, \"payment_method\": \"Bank Transfer\", \"items\": [{\"item_id\": 3, \"name\": \"Wireless Headphones\", \"category\": \"Electronics\", \"price\": 199, \"quantity\": 1, \"details\": {\"brand\": \"Apple\", \"color\": \"Black\"}}], \"order_status\": \"Pending\"}</td></tr><tr><td>{\"order_id\": 56, \"customer_id\": 8580, \"order_date\": \"2025-01-01\", \"transaction_timestamp\": \"2025-01-01 12:02:41\", \"total_amount\": 698, \"payment_method\": \"PayPal\", \"items\": [{\"item_id\": 3, \"name\": \"Wireless Headphones\", \"category\": \"Electronics\", \"price\": 199, \"quantity\": 1, \"details\": {\"brand\": \"HP\", \"color\": \"Silver\"}}, {\"item_id\": 8, \"name\": \"Gaming Console\", \"category\": \"Electronics\", \"price\": 499, \"quantity\": 1, \"details\": {\"brand\": \"LG\", \"color\": \"Gray\"}}], \"order_status\": \"Cancelled\"}</td></tr><tr><td>{\"order_id\": 62, \"customer_id\": 7123, \"order_date\": \"2025-01-24\", \"transaction_timestamp\": \"2025-01-24 12:00:54\", \"total_amount\": 985, \"payment_method\": \"Bank Transfer\", \"items\": [{\"item_id\": 7, \"name\": \"External Hard Drive\", \"category\": \"Electronics\", \"price\": 129, \"quantity\": 3, \"details\": {\"brand\": \"Dell\", \"color\": \"White\"}}, {\"item_id\": 4, \"name\": \"Smartwatch\", \"category\": \"Electronics\", \"price\": 299, \"quantity\": 2, \"details\": {\"brand\": \"GoPro\", \"color\": \"Blue\"}}], \"order_status\": \"Completed\"}</td></tr><tr><td>{\"order_id\": 66, \"customer_id\": 3084, \"order_date\": \"2025-01-17\", \"transaction_timestamp\": \"2025-01-17 21:16:11\", \"total_amount\": 598, \"payment_method\": \"Credit Card\", \"items\": [{\"item_id\": 4, \"name\": \"Smartwatch\", \"category\": \"Electronics\", \"price\": 299, \"quantity\": 1, \"details\": {\"brand\": \"Bose\", \"color\": \"Silver\"}}, {\"item_id\": 4, \"name\": \"Smartwatch\", \"category\": \"Electronics\", \"price\": 299, \"quantity\": 1, \"details\": {\"brand\": \"GoPro\", \"color\": \"White\"}}], \"order_status\": \"Cancelled\"}</td></tr><tr><td>{\"order_id\": 68, \"customer_id\": 4973, \"order_date\": \"2025-01-10\", \"transaction_timestamp\": \"2025-01-10 20:35:43\", \"total_amount\": 149, \"payment_method\": \"Bank Transfer\", \"items\": [{\"item_id\": 6, \"name\": \"Bluetooth Speaker\", \"category\": \"Electronics\", \"price\": 149, \"quantity\": 1, \"details\": {\"brand\": \"Bose\", \"color\": \"Gray\"}}], \"order_status\": \"Completed\"}</td></tr><tr><td>{\"order_id\": 73, \"customer_id\": 6167, \"order_date\": \"2025-01-07\", \"transaction_timestamp\": \"2025-01-07 01:02:26\", \"total_amount\": 387, \"payment_method\": \"Credit Card\", \"items\": [{\"item_id\": 7, \"name\": \"External Hard Drive\", \"category\": \"Electronics\", \"price\": 129, \"quantity\": 3, \"details\": {\"brand\": \"GoPro\", \"color\": \"Gray\"}}, {\"item_id\": 7, \"name\": \"External Hard Drive\", \"category\": \"Electronics\", \"price\": 129, \"quantity\": 3, \"details\": {\"brand\": \"GoPro\", \"color\": \"Gray\"}}], \"order_status\": \"Shipped\"}</td></tr><tr><td>{\"order_id\": 75, \"customer_id\": 6167, \"order_date\": \"2025-01-19\", \"transaction_timestamp\": \"2025-01-19 16:23:16\", \"total_amount\": 699, \"payment_method\": \"Credit Card\", \"items\": [{\"item_id\": 1, \"name\": \"Smartphone\", \"category\": \"Electronics\", \"price\": 699, \"quantity\": 1, \"details\": {\"brand\": \"GoPro\", \"color\": \"White\"}}], \"order_status\": \"Shipped\"}</td></tr><tr><td>{\"order_id\": 76, \"customer_id\": 3295, \"order_date\": \"2025-01-06\", \"transaction_timestamp\": \"2025-01-06 02:54:39\", \"total_amount\": 399, \"payment_method\": \"Bank Transfer\", \"items\": [{\"item_id\": 5, \"name\": \"Tablet\", \"category\": \"Electronics\", \"price\": 399, \"quantity\": 1, \"details\": {\"brand\": \"Microsoft\", \"color\": \"Silver\"}}], \"order_status\": \"Completed\"}</td></tr><tr><td>{\"order_id\": 78, \"customer_id\": 9084, \"order_date\": \"2025-01-21\", \"transaction_timestamp\": \"2025-01-21 11:42:51\", \"total_amount\": 798, \"payment_method\": \"PayPal\", \"items\": [{\"item_id\": 5, \"name\": \"Tablet\", \"category\": \"Electronics\", \"price\": 399, \"quantity\": 2, \"details\": {\"brand\": \"Dell\", \"color\": \"White\"}}], \"order_status\": \"Cancelled\"}</td></tr><tr><td>{\"order_id\": 79, \"customer_id\": 9084, \"order_date\": \"2025-01-25\", \"transaction_timestamp\": \"2025-01-25 03:52:05\", \"total_amount\": 998, \"payment_method\": \"Credit Card\", \"items\": [{\"item_id\": 8, \"name\": \"Gaming Console\", \"category\": \"Electronics\", \"price\": 499, \"quantity\": 2, \"details\": {\"brand\": \"Dell\", \"color\": \"Gray\"}}], \"order_status\": \"Cancelled\"}</td></tr><tr><td>{\"order_id\": 83, \"customer_id\": 2344, \"order_date\": \"2025-01-07\", \"transaction_timestamp\": \"2025-01-07 12:48:05\", \"total_amount\": 785, \"payment_method\": \"PayPal\", \"items\": [{\"item_id\": 7, \"name\": \"External Hard Drive\", \"category\": \"Electronics\", \"price\": 129, \"quantity\": 3, \"details\": {\"brand\": \"Canon\", \"color\": \"Gray\"}}, {\"item_id\": 3, \"name\": \"Wireless Headphones\", \"category\": \"Electronics\", \"price\": 199, \"quantity\": 2, \"details\": {\"brand\": \"Sony\", \"color\": \"Black\"}}], \"order_status\": \"Shipped\"}</td></tr><tr><td>{\"order_id\": 87, \"customer_id\": 2141, \"order_date\": \"2025-01-02\", \"transaction_timestamp\": \"2025-01-02 04:28:38\", \"total_amount\": 129, \"payment_method\": \"PayPal\", \"items\": [{\"item_id\": 7, \"name\": \"External Hard Drive\", \"category\": \"Electronics\", \"price\": 129, \"quantity\": 1, \"details\": {\"brand\": \"Apple\", \"color\": \"Blue\"}}], \"order_status\": \"Pending\"}</td></tr><tr><td>{\"order_id\": 90, \"customer_id\": 9247, \"order_date\": \"2025-01-17\", \"transaction_timestamp\": \"2025-01-17 14:30:54\", \"total_amount\": 258, \"payment_method\": \"Credit Card\", \"items\": [{\"item_id\": 7, \"name\": \"External Hard Drive\", \"category\": \"Electronics\", \"price\": 129, \"quantity\": 1, \"details\": {\"brand\": \"Canon\", \"color\": \"White\"}}, {\"item_id\": 7, \"name\": \"External Hard Drive\", \"category\": \"Electronics\", \"price\": 129, \"quantity\": 1, \"details\": {\"brand\": \"Samsung\", \"color\": \"Black\"}}], \"order_status\": \"Pending\"}</td></tr><tr><td>{\"order_id\": 94, \"customer_id\": 6627, \"order_date\": \"2025-01-10\", \"transaction_timestamp\": \"2025-01-10 09:51:48\", \"total_amount\": 895, \"payment_method\": \"Credit Card\", \"items\": [{\"item_id\": 6, \"name\": \"Bluetooth Speaker\", \"category\": \"Electronics\", \"price\": 149, \"quantity\": 2, \"details\": {\"brand\": \"Sony\", \"color\": \"Black\"}}, {\"item_id\": 3, \"name\": \"Wireless Headphones\", \"category\": \"Electronics\", \"price\": 199, \"quantity\": 3, \"details\": {\"brand\": \"Apple\", \"color\": \"Blue\"}}], \"order_status\": \"Pending\"}</td></tr><tr><td>{\"order_id\": 98, \"customer_id\": 9150, \"order_date\": \"2025-01-08\", \"transaction_timestamp\": \"2025-01-08 05:57:55\", \"total_amount\": 985, \"payment_method\": \"Credit Card\", \"items\": [{\"item_id\": 7, \"name\": \"External Hard Drive\", \"category\": \"Electronics\", \"price\": 129, \"quantity\": 3, \"details\": {\"brand\": \"HP\", \"color\": \"Blue\"}}, {\"item_id\": 4, \"name\": \"Smartwatch\", \"category\": \"Electronics\", \"price\": 299, \"quantity\": 2, \"details\": {\"brand\": \"Samsung\", \"color\": \"Gray\"}}], \"order_status\": \"Completed\"}</td></tr><tr><td>{\"order_id\": 99, \"customer_id\": 9150, \"order_date\": \"2025-01-10\", \"transaction_timestamp\": \"2025-01-10 21:43:46\", \"total_amount\": 699, \"payment_method\": \"Credit Card\", \"items\": [{\"item_id\": 1, \"name\": \"Smartphone\", \"category\": \"Electronics\", \"price\": 699, \"quantity\": 1, \"details\": {\"brand\": \"Bose\", \"color\": \"Gray\"}}], \"order_status\": \"Shipped\"}</td></tr><tr><td>{\"order_id\": 100, \"customer_id\": 9150, \"order_date\": \"2025-01-04\", \"transaction_timestamp\": \"2025-01-04 06:40:13\", \"total_amount\": 447, \"payment_method\": \"PayPal\", \"items\": [{\"item_id\": 6, \"name\": \"Bluetooth Speaker\", \"category\": \"Electronics\", \"price\": 149, \"quantity\": 3, \"details\": {\"brand\": \"LG\", \"color\": \"Silver\"}}], \"order_status\": \"Shipped\"}</td></tr><tr><td>{\"order_id\": 12, \"customer_id\": 5816, \"order_date\": \"2024-12-06\", \"transaction_timestamp\": \"2024-12-06 20:26:49\", \"total_amount\": 999, \"payment_method\": \"PayPal\", \"items\": [{\"item_id\": 2, \"name\": \"Laptop\", \"category\": \"Electronics\", \"price\": 999, \"quantity\": 1, \"details\": {\"brand\": \"Sony\", \"color\": \"White\"}}], \"order_status\": \"Cancelled\"}</td></tr><tr><td>{\"order_id\": 13, \"customer_id\": 4858, \"order_date\": \"2024-12-17\", \"transaction_timestamp\": \"2024-12-17 03:41:37\", \"total_amount\": 999, \"payment_method\": \"PayPal\", \"items\": [{\"item_id\": 2, \"name\": \"Laptop\", \"category\": \"Electronics\", \"price\": 999, \"quantity\": 1, \"details\": {\"brand\": \"GoPro\", \"color\": \"Black\"}}], \"order_status\": \"Pending\"}</td></tr><tr><td>{\"order_id\": 16, \"customer_id\": 5204, \"order_date\": \"2024-12-08\", \"transaction_timestamp\": \"2024-12-08 22:59:48\", \"total_amount\": 597, \"payment_method\": \"Bank Transfer\", \"items\": [{\"item_id\": 3, \"name\": \"Wireless Headphones\", \"category\": \"Electronics\", \"price\": 199, \"quantity\": 3, \"details\": {\"brand\": \"Sony\", \"color\": \"Silver\"}}], \"order_status\": \"Pending\"}</td></tr><tr><td>{\"order_id\": 17, \"customer_id\": 5204, \"order_date\": \"2024-12-02\", \"transaction_timestamp\": \"2024-12-02 12:00:50\", \"total_amount\": 998, \"payment_method\": \"Bank Transfer\", \"items\": [{\"item_id\": 8, \"name\": \"Gaming Console\", \"category\": \"Electronics\", \"price\": 499, \"quantity\": 2, \"details\": {\"brand\": \"Dell\", \"color\": \"Black\"}}], \"order_status\": \"Pending\"}</td></tr><tr><td>{\"order_id\": 24, \"customer_id\": 1211, \"order_date\": \"2024-12-21\", \"transaction_timestamp\": \"2024-12-21 03:24:26\", \"total_amount\": 1199, \"payment_method\": \"PayPal\", \"items\": [{\"item_id\": 9, \"name\": \"Smart TV\", \"category\": \"Electronics\", \"price\": 1199, \"quantity\": 1, \"details\": {\"brand\": \"GoPro\", \"color\": \"Gray\"}}], \"order_status\": \"Completed\"}</td></tr><tr><td>{\"order_id\": 27, \"customer_id\": 2703, \"order_date\": \"2024-12-02\", \"transaction_timestamp\": \"2024-12-02 11:24:21\", \"total_amount\": 904, \"payment_method\": \"Credit Card\", \"items\": [{\"item_id\": 7, \"name\": \"External Hard Drive\", \"category\": \"Electronics\", \"price\": 129, \"quantity\": 2, \"details\": {\"brand\": \"Dell\", \"color\": \"White\"}}, {\"item_id\": 6, \"name\": \"Bluetooth Speaker\", \"category\": \"Electronics\", \"price\": 149, \"quantity\": 3, \"details\": {\"brand\": \"Canon\", \"color\": \"Black\"}}, {\"item_id\": 3, \"name\": \"Wireless Headphones\", \"category\": \"Electronics\", \"price\": 199, \"quantity\": 1, \"details\": {\"brand\": \"Microsoft\", \"color\": \"Silver\"}}], \"order_status\": \"Completed\"}</td></tr><tr><td>{\"order_id\": 28, \"customer_id\": 2703, \"order_date\": \"2024-12-26\", \"transaction_timestamp\": \"2024-12-26 03:17:50\", \"total_amount\": 129, \"payment_method\": \"Credit Card\", \"items\": [{\"item_id\": 7, \"name\": \"External Hard Drive\", \"category\": \"Electronics\", \"price\": 129, \"quantity\": 1, \"details\": {\"brand\": \"GoPro\", \"color\": \"Blue\"}}], \"order_status\": \"Cancelled\"}</td></tr><tr><td>{\"order_id\": 32, \"customer_id\": 4996, \"order_date\": \"2024-12-28\", \"transaction_timestamp\": \"2024-12-28 08:55:57\", \"total_amount\": 399, \"payment_method\": \"PayPal\", \"items\": [{\"item_id\": 5, \"name\": \"Tablet\", \"category\": \"Electronics\", \"price\": 399, \"quantity\": 1, \"details\": {\"brand\": \"Apple\", \"color\": \"Silver\"}}], \"order_status\": \"Pending\"}</td></tr><tr><td>{\"order_id\": 37, \"customer_id\": 7829, \"order_date\": \"2024-12-22\", \"transaction_timestamp\": \"2024-12-22 10:11:49\", \"total_amount\": 258, \"payment_method\": \"Credit Card\", \"items\": [{\"item_id\": 7, \"name\": \"External Hard Drive\", \"category\": \"Electronics\", \"price\": 129, \"quantity\": 2, \"details\": {\"brand\": \"HP\", \"color\": \"Silver\"}}], \"order_status\": \"Shipped\"}</td></tr><tr><td>{\"order_id\": 38, \"customer_id\": 7829, \"order_date\": \"2024-12-25\", \"transaction_timestamp\": \"2024-12-25 22:05:19\", \"total_amount\": 447, \"payment_method\": \"Credit Card\", \"items\": [{\"item_id\": 6, \"name\": \"Bluetooth Speaker\", \"category\": \"Electronics\", \"price\": 149, \"quantity\": 3, \"details\": {\"brand\": \"Apple\", \"color\": \"Gray\"}}], \"order_status\": \"Shipped\"}</td></tr><tr><td>{\"order_id\": 44, \"customer_id\": 7295, \"order_date\": \"2024-12-20\", \"transaction_timestamp\": \"2024-12-20 08:05:43\", \"total_amount\": 129, \"payment_method\": \"Credit Card\", \"items\": [{\"item_id\": 7, \"name\": \"External Hard Drive\", \"category\": \"Electronics\", \"price\": 129, \"quantity\": 1, \"details\": {\"brand\": \"Bose\", \"color\": \"Blue\"}}], \"order_status\": \"Completed\"}</td></tr><tr><td>{\"order_id\": 49, \"customer_id\": 7803, \"order_date\": \"2024-12-07\", \"transaction_timestamp\": \"2024-12-07 23:24:11\", \"total_amount\": 747, \"payment_method\": \"PayPal\", \"items\": [{\"item_id\": 4, \"name\": \"Smartwatch\", \"category\": \"Electronics\", \"price\": 299, \"quantity\": 1, \"details\": {\"brand\": \"HP\", \"color\": \"White\"}}, {\"item_id\": 4, \"name\": \"Smartwatch\", \"category\": \"Electronics\", \"price\": 299, \"quantity\": 1, \"details\": {\"brand\": \"Canon\", \"color\": \"Blue\"}}, {\"item_id\": 6, \"name\": \"Bluetooth Speaker\", \"category\": \"Electronics\", \"price\": 149, \"quantity\": 1, \"details\": {\"brand\": \"Samsung\", \"color\": \"White\"}}], \"order_status\": \"Cancelled\"}</td></tr><tr><td>{\"order_id\": 54, \"customer_id\": 2054, \"order_date\": \"2024-12-20\", \"transaction_timestamp\": \"2024-12-20 12:04:27\", \"total_amount\": 398, \"payment_method\": \"Credit Card\", \"items\": [{\"item_id\": 3, \"name\": \"Wireless Headphones\", \"category\": \"Electronics\", \"price\": 199, \"quantity\": 2, \"details\": {\"brand\": \"Bose\", \"color\": \"Gray\"}}], \"order_status\": \"Pending\"}</td></tr><tr><td>{\"order_id\": 58, \"customer_id\": 8580, \"order_date\": \"2024-12-09\", \"transaction_timestamp\": \"2024-12-09 22:40:58\", \"total_amount\": 699, \"payment_method\": \"PayPal\", \"items\": [{\"item_id\": 1, \"name\": \"Smartphone\", \"category\": \"Electronics\", \"price\": 699, \"quantity\": 1, \"details\": {\"brand\": \"Microsoft\", \"color\": \"Gray\"}}], \"order_status\": \"Completed\"}</td></tr><tr><td>{\"order_id\": 60, \"customer_id\": 3409, \"order_date\": \"2024-12-13\", \"transaction_timestamp\": \"2024-12-13 13:10:12\", \"total_amount\": 199, \"payment_method\": \"Bank Transfer\", \"items\": [{\"item_id\": 3, \"name\": \"Wireless Headphones\", \"category\": \"Electronics\", \"price\": 199, \"quantity\": 1, \"details\": {\"brand\": \"Samsung\", \"color\": \"Blue\"}}], \"order_status\": \"Shipped\"}</td></tr><tr><td>{\"order_id\": 61, \"customer_id\": 7123, \"order_date\": \"2024-12-07\", \"transaction_timestamp\": \"2024-12-07 07:47:19\", \"total_amount\": 699, \"payment_method\": \"Bank Transfer\", \"items\": [{\"item_id\": 1, \"name\": \"Smartphone\", \"category\": \"Electronics\", \"price\": 699, \"quantity\": 1, \"details\": {\"brand\": \"Canon\", \"color\": \"Black\"}}], \"order_status\": \"Completed\"}</td></tr><tr><td>{\"order_id\": 65, \"customer_id\": 3084, \"order_date\": \"2024-12-09\", \"transaction_timestamp\": \"2024-12-09 13:04:13\", \"total_amount\": 399, \"payment_method\": \"Bank Transfer\", \"items\": [{\"item_id\": 5, \"name\": \"Tablet\", \"category\": \"Electronics\", \"price\": 399, \"quantity\": 1, \"details\": {\"brand\": \"Microsoft\", \"color\": \"Gray\"}}], \"order_status\": \"Cancelled\"}</td></tr><tr><td>{\"order_id\": 67, \"customer_id\": 3084, \"order_date\": \"2024-12-19\", \"transaction_timestamp\": \"2024-12-19 07:11:09\", \"total_amount\": 897, \"payment_method\": \"PayPal\", \"items\": [{\"item_id\": 4, \"name\": \"Smartwatch\", \"category\": \"Electronics\", \"price\": 299, \"quantity\": 3, \"details\": {\"brand\": \"LG\", \"color\": \"Blue\"}}], \"order_status\": \"Shipped\"}</td></tr><tr><td>{\"order_id\": 69, \"customer_id\": 4973, \"order_date\": \"2024-12-30\", \"transaction_timestamp\": \"2024-12-30 02:42:01\", \"total_amount\": 699, \"payment_method\": \"Bank Transfer\", \"items\": [{\"item_id\": 1, \"name\": \"Smartphone\", \"category\": \"Electronics\", \"price\": 699, \"quantity\": 1, \"details\": {\"brand\": \"Dell\", \"color\": \"Gray\"}}], \"order_status\": \"Completed\"}</td></tr><tr><td>{\"order_id\": 70, \"customer_id\": 7997, \"order_date\": \"2024-12-04\", \"transaction_timestamp\": \"2024-12-04 17:17:24\", \"total_amount\": 897, \"payment_method\": \"PayPal\", \"items\": [{\"item_id\": 4, \"name\": \"Smartwatch\", \"category\": \"Electronics\", \"price\": 299, \"quantity\": 3, \"details\": {\"brand\": \"Sony\", \"color\": \"Black\"}}], \"order_status\": \"Shipped\"}</td></tr><tr><td>{\"order_id\": 71, \"customer_id\": 7997, \"order_date\": 2024-12-27, \"transaction_timestamp\": \"2024-12-27 11:16:39\", \"total_amount\": 199, \"payment_method\": \"Bank Transfer\", \"items\": [{\"item_id\": 3, \"name\": \"Wireless Headphones\", \"category\": \"Electronics\", \"price\": 199, \"quantity\": 1, \"details\": {\"brand\": \"Microsoft\", \"color\": \"Black\"}}], \"order_status\": \"Completed\"}</td></tr><tr><td>{\"order_id\": 74, \"customer_id\": 6167, \"order_date\": \"2024-12-22\", \"transaction_timestamp\": \"2024-12-22 15:54:11\", \"total_amount\": 699, \"payment_method\": \"PayPal\", \"items\": [{\"item_id\": 1, \"name\": \"Smartphone\", \"category\": \"Electronics\", \"price\": 699, \"quantity\": 1, \"details\": {\"brand\": \"Samsung\", \"color\": \"Blue\"}}], \"order_status\": \"Pending\"}</td></tr><tr><td>{\"order_id\": 80, \"customer_id\": 9687, \"order_date\": \"2024-12-11\", \"transaction_timestamp\": \"2024-12-11 07:43:54\", \"total_amount\": 998, \"payment_method\": \"Bank Transfer\", \"items\": [{\"item_id\": 8, \"name\": \"Gaming Console\", \"category\": \"Electronics\", \"price\": 499, \"quantity\": 2, \"details\": {\"brand\": \"Samsung\", \"color\": \"White\"}}], \"order_status\": \"Cancelled\"}</td></tr><tr><td>{\"order_id\": 81, \"customer_id\": 9687, \"order_date\": \"2024-12-27\", \"transaction_timestamp\": \"2024-12-27 02:27:45\", \"total_amount\": 699, \"payment_method\": \"PayPal\", \"items\": [{\"item_id\": 1, \"name\": \"Smartphone\", \"category\": \"Electronics\", \"price\": 699, \"quantity\": 1, \"details\": {\"brand\": \"GoPro\", \"color\": \"Blue\"}}], \"order_status\": \"Completed\"}</td></tr><tr><td>{\"order_id\": 82, \"customer_id\": 2344, \"order_date\": \"2024-12-28\", \"transaction_timestamp\": \"2024-12-28 00:54:08\", \"total_amount\": 387, \"payment_method\": \"PayPal\", \"items\": [{\"item_id\": 7, \"name\": \"External Hard Drive\", \"category\": \"Electronics\", \"price\": 129, \"quantity\": 3, \"details\": {\"brand\": \"Sony\", \"color\": \"Blue\"}}], \"order_status\": \"Completed\"}</td></tr><tr><td>{\"order_id\": 91, \"customer_id\": 5592, \"order_date\": \"2024-12-17\", \"transaction_timestamp\": \"2024-12-17 00:09:53\", \"total_amount\": 699, \"payment_method\": \"Bank Transfer\", \"items\": [{\"item_id\": 1, \"name\": \"Smartphone\", \"category\": \"Electronics\", \"price\": 699, \"quantity\": 1, \"details\": {\"brand\": \"Canon\", \"color\": \"Silver\"}}], \"order_status\": \"Cancelled\"}</td></tr><tr><td>{\"order_id\": 93, \"customer_id\": 6627, \"order_date\": \"2024-12-22\", \"transaction_timestamp\": \"2024-12-22 05:07:46\", \"total_amount\": 598, \"payment_method\": \"PayPal\", \"items\": [{\"item_id\": 4, \"name\": \"Smartwatch\", \"category\": \"Electronics\", \"price\": 299, \"quantity\": 2, \"details\": {\"brand\": \"LG\", \"color\": \"Silver\"}}], \"order_status\": \"Pending\"}</td></tr><tr><td>{\"order_id\": 95, \"customer_id\": 6627, \"order_date\": \"2024-12-28\", \"transaction_timestamp\": \"2024-12-28 04:28:30\", \"total_amount\": 946, \"payment_method\": \"Bank Transfer\", \"items\": [{\"item_id\": 4, \"name\": \"Smartwatch\", \"category\": \"Electronics\", \"price\": 299, \"quantity\": 2, \"details\": {\"brand\": \"GoPro\", \"color\": \"White\"}}, {\"item_id\": 3, \"name\": \"Wireless Headphones\", \"category\": \"Electronics\", \"price\": 199, \"quantity\": 1, \"details\": {\"brand\": \"Bose\", \"color\": \"Gray\"}}, {\"item_id\": 6, \"name\": \"Bluetooth Speaker\", \"category\": \"Electronics\", \"price\": 149, \"quantity\": 1, \"details\": {\"brand\": \"Dell\", \"color\": \"Silver\"}}], \"order_status\": \"Completed\"}</td></tr><tr><td>{\"order_id\": 96, \"customer_id\": 6406, \"order_date\": \"2024-12-02\", \"transaction_timestamp\": \"2024-12-02 12:27:45\", \"total_amount\": 149, \"payment_method\": \"PayPal\", \"items\": [{\"item_id\": 6, \"name\": \"Bluetooth Speaker\", \"category\": \"Electronics\", \"price\": 149, \"quantity\": 1, \"details\": {\"brand\": \"Microsoft\", \"color\": \"Black\"}}], \"order_status\": \"Shipped\"}</td></tr><tr><td>{\"order_id\": 97, \"customer_id\": 6406, \"order_date\": \"2024-12-07\", \"transaction_timestamp\": \"2024-12-07 16:14:34\", \"total_amount\": 499, \"payment_method\": \"Bank Transfer\", \"items\": [{\"item_id\": 8, \"name\": \"Gaming Console\", \"category\": \"Electronics\", \"price\": 499, \"quantity\": 1, \"details\": {\"brand\": \"Sony\", \"color\": \"Silver\"}}], \"order_status\": \"Completed\"}</td></tr><tr><td>{\"order_id\": 5, \"customer_id\": 3892, \"order_date\": \"2024-11-16\", \"transaction_timestamp\": \"2024-11-16 23:07:31\", \"total_amount\": 998, \"payment_method\": \"Bank Transfer\", \"items\": [{\"item_id\": 8, \"name\": \"Gaming Console\", \"category\": \"Electronics\", \"price\": 499, \"quantity\": 2, \"details\": {\"brand\": \"Dell\", \"color\": \"Blue\"}}], \"order_status\": \"Cancelled\"}</td></tr><tr><td>{\"order_id\": 7, \"customer_id\": 1987, \"order_date\": \"2024-11-19\", \"transaction_timestamp\": \"2024-11-19 19:18:48\", \"total_amount\": 645, \"payment_method\": \"Credit Card\", \"items\": [{\"item_id\": 7, \"name\": \"External Hard Drive\", \"category\": \"Electronics\", \"price\": 129, \"quantity\": 2, \"details\": {\"brand\": \"LG\", \"color\": \"Blue\"}}, {\"item_id\": 7, \"name\": \"External Hard Drive\", \"category\": \"Electronics\", \"price\": 129, \"quantity\": 3, \"details\": {\"brand\": \"HP\", \"color\": \"Gray\"}}], \"order_status\": \"Pending\"}</td></tr><tr><td>{\"order_id\": 9, \"customer_id\": 9179, \"order_date\": \"2024-11-27\", \"transaction_timestamp\": \"2024-11-27 13:15:29\", \"total_amount\": 999, \"payment_method\": \"Bank Transfer\", \"items\": [{\"item_id\": 2, \"name\": \"Laptop\", \"category\": \"Electronics\", \"price\": 999, \"quantity\": 1, \"details\": {\"brand\": \"Apple\", \"color\": \"Black\"}}], \"order_status\": \"Shipped\"}</td></tr><tr><td>{\"order_id\": 20, \"customer_id\": 8539, \"order_date\": \"2024-11-18\", \"transaction_timestamp\": \"2024-11-18 02:38:21\", \"total_amount\": 798, \"payment_method\": \"PayPal\", \"items\": [{\"item_id\": 5, \"name\": \"Tablet\", \"category\": \"Electronics\", \"price\": 399, \"quantity\": 2, \"details\": {\"brand\": \"Sony\", \"color\": \"Silver\"}}], \"order_status\": \"Pending\"}</td></tr><tr><td>{\"order_id\": 21, \"customer_id\": 8539, \"order_date\": \"2024-11-21\", \"transaction_timestamp\": \"2024-11-21 11:25:35\", \"total_amount\": 298, \"payment_method\": \"Bank Transfer\", \"items\": [{\"item_id\": 6, \"name\": \"Bluetooth Speaker\", \"category\": \"Electronics\", \"price\": 149, \"quantity\": 2, \"details\": {\"brand\": \"GoPro\", \"color\": \"Blue\"}}], \"order_status\": \"Cancelled\"}</td></tr><tr><td>{\"order_id\": 23, \"customer_id\": 4761, \"order_date\": \"2024-11-22\", \"transaction_timestamp\": \"2024-11-22 16:04:05\", \"total_amount\": 997, \"payment_method\": \"PayPal\", \"items\": [{\"item_id\": 5, \"name\": \"Tablet\", \"category\": \"Electronics\", \"price\": 399, \"quantity\": 1, \"details\": {\"brand\": \"Apple\", \"color\": \"Gray\"}}, {\"item_id\": 4, \"name\": \"Smartwatch\", \"category\": \"Electronics\", \"price\": 299, \"quantity\": 2, \"details\": {\"brand\": \"Dell\", \"color\": \"Gray\"}}], \"order_status\": \"Shipped\"}</td></tr><tr><td>{\"order_id\": 25, \"customer_id\": 9706, \"order_date\": \"2024-11-05\", \"transaction_timestamp\": \"2024-11-05 11:45:31\", \"total_amount\": 999, \"payment_method\": \"PayPal\", \"items\": [{\"item_id\": 2, \"name\": \"Laptop\", \"category\": \"Electronics\", \"price\": 999, \"quantity\": 1, \"details\": {\"brand\": \"LG\", \"color\": \"Gray\"}}], \"order_status\": \"Completed\"}</td></tr><tr><td>{\"order_id\": 30, \"customer_id\": 4996, \"order_date\": \"2024-11-12\", \"transaction_timestamp\": \"2024-11-12 03:20:29\", \"total_amount\": 199, \"payment_method\": \"Bank Transfer\", \"items\": [{\"item_id\": 3, \"name\": \"Wireless Headphones\", \"category\": \"Electronics\", \"price\": 199, \"quantity\": 1, \"details\": {\"brand\": \"GoPro\", \"color\": \"White\"}}], \"order_status\": \"Shipped\"}</td></tr><tr><td>{\"order_id\": 35, \"customer_id\": 4914, \"order_date\": \"2024-11-20\", \"transaction_timestamp\": \"2024-11-20 19:09:04\", \"total_amount\": 199, \"payment_method\": \"Bank Transfer\", \"items\": [{\"item_id\": 3, \"name\": \"Wireless Headphones\", \"category\": \"Electronics\", \"price\": 199, \"quantity\": 1, \"details\": {\"brand\": \"Dell\", \"color\": \"Gray\"}}], \"order_status\": \"Shipped\"}</td></tr><tr><td>{\"order_id\": 36, \"customer_id\": 4914, \"order_date\": \"2024-11-02\", \"transaction_timestamp\": \"2024-11-02 10:39:46\", \"total_amount\": 199, \"payment_method\": \"PayPal\", \"items\": [{\"item_id\": 3, \"name\": \"Wireless Headphones\", \"category\": \"Electronics\", \"price\": 199, \"quantity\": 1, \"details\": {\"brand\": \"Canon\", \"color\": \"Silver\"}}], \"order_status\": \"Completed\"}</td></tr><tr><td>{\"order_id\": 42, \"customer_id\": 5028, \"order_date\": 2024-11-08, \"transaction_timestamp\": \"2024-11-08 18:32:25\", \"total_amount\": 149, \"payment_method\": \"Credit Card\", \"items\": [{\"item_id\": 6, \"name\": \"Bluetooth Speaker\", \"category\": \"Electronics\", \"price\": 149, \"quantity\": 1, \"details\": {\"brand\": \"Bose\", \"color\": \"Gray\"}}], \"order_status\": \"Completed\"}</td></tr><tr><td>{\"order_id\": 45, \"customer_id\": 7295, \"order_date\": \"2024-11-07\", \"transaction_timestamp\": \"2024-11-07 15:41:43\", \"total_amount\": 799, \"payment_method\": \"Credit Card\", \"items\": [{\"item_id\": 10, \"name\": \"Drone\", \"category\": \"Electronics\", \"price\": 799, \"quantity\": 1, \"details\": {\"brand\": \"Dell\", \"color\": \"White\"}}], \"order_status\": \"Shipped\"}</td></tr><tr><td>{\"order_id\": 46, \"customer_id\": 7295, \"order_date\": \"2024-11-26\", \"transaction_timestamp\": \"2024-11-26 17:16:53\", \"total_amount\": 199, \"payment_method\": \"PayPal\", \"items\": [{\"item_id\": 3, \"name\": \"Wireless Headphones\", \"category\": \"Electronics\", \"price\": 199, \"quantity\": 1, \"details\": {\"brand\": \"Samsung\", \"color\": \"Black\"}}], \"order_status\": \"Pending\"}</td></tr><tr><td>{\"order_id\": 47, \"customer_id\": 7803, \"order_date\": \"2024-11-22\", \"transaction_timestamp\": \"2024-11-22 02:01:19\", \"total_amount\": 298, \"payment_method\": \"Credit Card\", \"items\": [{\"item_id\": 6, \"name\": \"Bluetooth Speaker\", \"category\": \"Electronics\", \"price\": 149, \"quantity\": 2, \"details\": {\"brand\": \"LG\", \"color\": \"Blue\"}}], \"order_status\": \"Shipped\"}</td></tr><tr><td>{\"order_id\": 48, \"customer_id\": 7803, \"order_date\": \"2024-11-13\", \"transaction_timestamp\": \"2024-11-13 06:35:56\", \"total_amount\": 387, \"payment_method\": \"PayPal\", \"items\": [{\"item_id\": 7, \"name\": \"External Hard Drive\", \"category\": \"Electronics\", \"price\": 129, \"quantity\": 3, \"details\": {\"brand\": \"Apple\", \"color\": \"Black\"}}], \"order_status\": \"Completed\"}</td></tr><tr><td>{\"order_id\": 52, \"customer_id\": 8845, \"order_date\": \"2024-11-19\", \"transaction_timestamp\": \"2024-11-19 21:23:45\", \"total_amount\": 998, \"payment_method\": \"PayPal\", \"items\": [{\"item_id\": 8, \"name\": \"Gaming Console\", \"category\": \"Electronics\", \"price\": 499, \"quantity\": 2, \"details\": {\"brand\": \"GoPro\", \"color\": \"White\"}}], \"order_status\": \"Completed\"}</td></tr><tr><td>{\"order_id\": 57, \"customer_id\": 8580, \"order_date\": \"2024-11-19\", \"transaction_timestamp\": \"2024-11-19 11:32:44\", \"total_amount\": 586, \"payment_method\": \"Bank Transfer\", \"items\": [{\"item_id\": 3, \"name\": \"Wireless Headphones\", \"category\": \"Electronics\", \"price\": 199, \"quantity\": 1, \"details\": {\"brand\": \"HP\", \"color\": \"Silver\"}}, {\"item_id\": 7, \"name\": \"External Hard Drive\", \"category\": \"Electronics\", \"price\": 129, \"quantity\": 3, \"details\": {\"brand\": \"Sony\", \"color\": \"Silver\"}}], \"order_status\": \"Cancelled\"}</td></tr><tr><td>{\"order_id\": 63, \"customer_id\": 7123, \"order_date\": \"2024-11-24\", \"transaction_timestamp\": \"2024-11-24 08:41:28\", \"total_amount\": 646, \"payment_method\": \"Bank Transfer\", \"items\": [{\"item_id\": 3, \"name\": \"Wireless Headphones\", \"category\": \"Electronics\", \"price\": 199, \"quantity\": 1, \"details\": {\"brand\": \"GoPro\", \"color\": \"Blue\"}}, {\"item_id\": 6, \"name\": \"Bluetooth Speaker\", \"category\": \"Electronics\", \"price\": 149, \"quantity\": 3, \"details\": {\"brand\": \"Bose\", \"color\": \"Silver\"}}], \"order_status\": \"Cancelled\"}</td></tr><tr><td>{\"order_id\": 64, \"customer_id\": 2639, \"order_date\": \"2024-11-28\", \"transaction_timestamp\": \"2024-11-28 12:23:21\", \"total_amount\": 984, \"payment_method\": \"Bank Transfer\", \"items\": [{\"item_id\": 7, \"name\": \"External Hard Drive\", \"category\": \"Electronics\", \"price\": 129, \"quantity\": 3, \"details\": {\"brand\": \"Microsoft\", \"color\": \"White\"}}, {\"item_id\": 3, \"name\": \"Wireless Headphones\", \"category\": \"Electronics\", \"price\": 199, \"quantity\": 3, \"details\": {\"brand\": \"Canon\", \"color\": \"Blue\"}}], \"order_status\": \"Completed\"}</td></tr><tr><td>{\"order_id\": 88, \"customer_id\": 9247, \"order_date\": \"2024-11-15\", \"transaction_timestamp\": \"2024-11-15 11:39:44\", \"total_amount\": 387, \"payment_method\": \"Bank Transfer\", \"items\": [{\"item_id\": 7, \"name\": \"External Hard Drive\", \"category\": \"Electronics\", \"price\": 129, \"quantity\": 3, \"details\": {\"brand\": \"Bose\", \"color\": \"White\"}}], \"order_status\": \"Cancelled\"}</td></tr><tr><td>{\"order_id\": 89, \"customer_id\": 9247, \"order_date\": \"2024-11-22\", \"transaction_timestamp\": \"2024-11-22 12:09:15\", \"total_amount\": 149, \"payment_method\": \"Bank Transfer\", \"items\": [{\"item_id\": 6, \"name\": \"Bluetooth Speaker\", \"category\": \"Electronics\", \"price\": 149, \"quantity\": 1, \"details\": {\"brand\": \"GoPro\", \"color\": \"Silver\"}}], \"order_status\": \"Cancelled\"}</td></tr><tr><td>{\"order_id\": 92, \"customer_id\": 5592, \"order_date\": \"2024-11-24\", \"transaction_timestamp\": \"2024-11-24 23:33:21\", \"total_amount\": 258, \"payment_method\": \"PayPal\", \"items\": [{\"item_id\": 7, \"name\": \"External Hard Drive\", \"category\": \"Electronics\", \"price\": 129, \"quantity\": 2, \"details\": {\"brand\": \"Sony\", \"color\": \"Black\"}}], \"order_status\": \"Shipped\"}</td></tr><tr><td>{\"order_id\": 6, \"customer_id\": 1987, \"order_date\": \"2024-10-28\", \"transaction_timestamp\": \"2024-10-28 04:47:27\", \"total_amount\": 799, \"payment_method\": \"Credit Card\", \"items\": [{\"item_id\": 10, \"name\": \"Drone\", \"category\": \"Electronics\", \"price\": 799, \"quantity\": 1, \"details\": {\"brand\": \"GoPro\", \"color\": \"Black\"}}], \"order_status\": \"Pending\"}</td></tr><tr><td>{\"order_id\": 10, \"customer_id\": 5816, \"order_date\": \"2024-10-07\", \"transaction_timestamp\": \"2024-10-07 22:09:27\", \"total_amount\": 399, \"payment_method\": \"Credit Card\", \"items\": [{\"item_id\": 5, \"name\": \"Tablet\", \"category\": \"Electronics\", \"price\": 399, \"quantity\": 1, \"details\": {\"brand\": \"GoPro\", \"color\": \"White\"}}], \"order_status\": \"Pending\"}</td></tr><tr><td>{\"order_id\": 11, \"customer_id\": 5816, \"order_date\": \"2024-10-13\", \"transaction_timestamp\": \"2024-10-13 17:34:19\", \"total_amount\": 897, \"payment_method\": \"Bank Transfer\", \"items\": [{\"item_id\": 4, \"name\": \"Smartwatch\", \"category\": \"Electronics\", \"price\": 299, \"quantity\": 3, \"details\": {\"brand\": \"Canon\", \"color\": \"White\"}}], \"order_status\": \"Pending\"}</td></tr><tr><td>{\"order_id\": 15, \"customer_id\": 7207, \"order_date\": \"2024-10-20\", \"transaction_timestamp\": \"2024-10-20 01:47:25\", \"total_amount\": 1199, \"payment_method\": \"Bank Transfer\", \"items\": [{\"item_id\": 9, \"name\": \"Smart TV\", \"category\": \"Electronics\", \"price\": 1199, \"quantity\": 1, \"details\": {\"brand\": \"GoPro\", \"color\": \"White\"}}], \"order_status\": \"Completed\"}</td></tr><tr><td>{\"order_id\": 19, \"customer_id\": 8539, \"order_date\": \"2024-10-13\", \"transaction_timestamp\": \"2024-10-13 12:40:26\", \"total_amount\": 499, \"payment_method\": \"PayPal\", \"items\": [{\"item_id\": 8, \"name\": \"Gaming Console\", \"category\": \"Electronics\", \"price\": 499, \"quantity\": 1, \"details\": {\"brand\": \"Dell\", \"color\": \"Silver\"}}], \"order_status\": \"Shipped\"}</td></tr><tr><td>{\"order_id\": 39, \"customer_id\": 9263, \"order_date\": \"2024-10-29\", \"transaction_timestamp\": \"2024-10-29 21:39:19\", \"total_amount\": 387, \"payment_method\": \"PayPal\", \"items\": [{\"item_id\": 7, \"name\": \"External Hard Drive\", \"category\": \"Electronics\", \"price\": 129, \"quantity\": 3, \"details\": {\"brand\": \"Sony\", \"color\": \"Black\"}}], \"order_status\": \"Shipped\"}</td></tr><tr><td>{\"order_id\": 55, \"customer_id\": 9018, \"order_date\": \"2024-10-25\", \"transaction_timestamp\": \"2024-10-25 05:49:16\", \"total_amount\": 699, \"payment_method\": \"Bank Transfer\", \"items\": [{\"item_id\": 1, \"name\": \"Smartphone\", \"category\": \"Electronics\", \"price\": 699, \"quantity\": 1, \"details\": {\"brand\": \"HP\", \"color\": \"Black\"}}], \"order_status\": \"Shipped\"}</td></tr><tr><td>{\"order_id\": 59, \"customer_id\": 3409, \"order_date\": \"2024-10-23\", \"transaction_timestamp\": \"2024-10-23 02:51:05\", \"total_amount\": 499, \"payment_method\": \"PayPal\", \"items\": [{\"item_id\": 8, \"name\": \"Gaming Console\", \"category\": \"Electronics\", \"price\": 499, \"quantity\": 1, \"details\": {\"brand\": \"Dell\", \"color\": \"Black\"}}], \"order_status\": \"Pending\"}</td></tr><tr><td>{\"order_id\": 72, \"customer_id\": 3889, \"order_date\": 2024-10-06, \"transaction_timestamp\": \"2024-10-06 10:23:28\", \"total_amount\": 328, \"payment_method\": \"PayPal\", \"items\": [{\"item_id\": 3, \"name\": \"Wireless Headphones\", \"category\": \"Electronics\", \"price\": 199, \"quantity\": 1, \"details\": {\"brand\": \"Microsoft\", \"color\": \"Gray\"}}, {\"item_id\": 7, \"name\": \"External Hard Drive\", \"category\": \"Electronics\", \"price\": 129, \"quantity\": 1, \"details\": {\"brand\": \"Samsung\", \"color\": \"Silver\"}}], \"order_status\": \"Cancelled\"}</td></tr><tr><td>{\"order_id\": 77, \"customer_id\": 9084, \"order_date\": \"2024-10-15\", \"transaction_timestamp\": \"2024-10-15 13:09:33\", \"total_amount\": 398, \"payment_method\": \"Credit Card\", \"items\": [{\"item_id\": 3, \"name\": \"Wireless Headphones\", \"category\": \"Electronics\", \"price\": 199, \"quantity\": 2, \"details\": {\"brand\": \"HP\", \"color\": \"Silver\"}}], \"order_status\": \"Pending\"}</td></tr><tr><td>{\"order_id\": 84, \"customer_id\": 2344, \"order_date\": \"2024-10-25\", \"transaction_timestamp\": \"2024-10-25 03:37:42\", \"total_amount\": 998, \"payment_method\": \"PayPal\", \"items\": [{\"item_id\": 10, \"name\": \"Drone\", \"category\": \"Electronics\", \"price\": 799, \"quantity\": 1, \"details\": {\"brand\": \"Sony\", \"color\": \"Black\"}}, {\"item_id\": 3, \"name\": \"Wireless Headphones\", \"category\": \"Electronics\", \"price\": 199, \"quantity\": 1, \"details\": {\"brand\": \"LG\", \"color\": \"Black\"}}], \"order_status\": \"Completed\"}</td></tr><tr><td>{\"order_id\": 85, \"customer_id\": 5011, \"order_date\": \"2024-10-23\", \"transaction_timestamp\": \"2024-10-23 20:06:42\", \"total_amount\": 998, \"payment_method\": \"Bank Transfer\", \"items\": [{\"item_id\": 8, \"name\": \"Gaming Console\", \"category\": \"Electronics\", \"price\": 499, \"quantity\": 2, \"details\": {\"brand\": \"GoPro\", \"color\": \"Black\"}}], \"order_status\": \"Shipped\"}</td></tr><tr><td>{\"order_id\": 86, \"customer_id\": 5011, \"order_date\": \"2024-10-19\", \"transaction_timestamp\": \"2024-10-19 13:30:47\", \"total_amount\": 1199, \"payment_method\": \"PayPal\", \"items\": [{\"item_id\": 9, \"name\": \"Smart TV\", \"category\": \"Electronics\", \"price\": 1199, \"quantity\": 1, \"details\": {\"brand\": \"Dell\", \"color\": \"White\"}}], \"order_status\": \"Completed\"}</td></tr></tbody></table></div>"
      ]
     },
     "metadata": {
      "application/vnd.databricks.v1+output": {
       "addedWidgets": {},
       "aggData": [],
       "aggError": "",
       "aggOverflow": false,
       "aggSchema": [],
       "aggSeriesLimitReached": false,
       "aggType": "",
       "arguments": {},
       "columnCustomDisplayInfos": {},
       "data": [
        [
         "{\"order_id\": 1, \"customer_id\": 6973, \"order_date\": \"2025-01-05\", \"transaction_timestamp\": \"2025-01-05 10:13:59\", \"total_amount\": 499, \"payment_method\": \"Bank Transfer\", \"items\": [{\"item_id\": 8, \"name\": \"Gaming Console\", \"category\": \"Electronics\", \"price\": 499, \"quantity\": 1, \"details\": {\"brand\": \"Sony\", \"color\": \"Blue\"}}], \"order_status\": \"Completed\"}"
        ],
        [
         "{\"order_id\": 2, \"customer_id\": 3532, \"order_date\": 2025-01-19, \"transaction_timestamp\": \"2025-01-19 00:05:13\", \"total_amount\": 985, \"payment_method\": \"PayPal\", \"items\": [{\"item_id\": 4, \"name\": \"Smartwatch\", \"category\": \"Electronics\", \"price\": 299, \"quantity\": 2, \"details\": {\"brand\": \"Canon\", \"color\": \"Gray\"}}, {\"item_id\": 7, \"name\": \"External Hard Drive\", \"category\": \"Electronics\", \"price\": 129, \"quantity\": 3, \"details\": {\"brand\": \"Dell\", \"color\": \"Blue\"}}], \"order_status\": \"Cancelled\"}"
        ],
        [
         "{\"order_id\": 3, \"customer_id\": 3532, \"order_date\": \"2025-01-08\", \"transaction_timestamp\": \"2025-01-08 23:11:00\", \"total_amount\": 597, \"payment_method\": \"Bank Transfer\", \"items\": [{\"item_id\": 3, \"name\": \"Wireless Headphones\", \"category\": \"Electronics\", \"price\": 199, \"quantity\": 3, \"details\": {\"brand\": \"Apple\", \"color\": \"White\"}}], \"order_status\": \"Completed\"}"
        ],
        [
         "{\"order_id\": 4, \"customer_id\": 3532, \"order_date\": \"2025-01-05\", \"transaction_timestamp\": \"2025-01-05 05:49:26\", \"total_amount\": 999, \"payment_method\": \"Bank Transfer\", \"items\": [{\"item_id\": 2, \"name\": \"Laptop\", \"category\": \"Electronics\", \"price\": 999, \"quantity\": 1, \"details\": {\"brand\": \"Microsoft\", \"color\": \"Black\"}}], \"order_status\": \"Cancelled\"}"
        ],
        [
         "{\"order_id\": 8, \"customer_id\": 9179, \"order_date\": \"2025-01-02\", \"transaction_timestamp\": \"2025-01-02 13:11:15\", \"total_amount\": 399, \"payment_method\": \"PayPal\", \"items\": [{\"item_id\": 5, \"name\": \"Tablet\", \"category\": \"Electronics\", \"price\": 399, \"quantity\": 1, \"details\": {\"brand\": \"LG\", \"color\": \"White\"}}], \"order_status\": \"Completed\"}"
        ],
        [
         "{\"order_id\": 14, \"customer_id\": 7207, \"order_date\": \"2025-01-01\", \"transaction_timestamp\": \"2025-01-01 18:22:26\", \"total_amount\": 597, \"payment_method\": \"PayPal\", \"items\": [{\"item_id\": 3, \"name\": \"Wireless Headphones\", \"category\": \"Electronics\", \"price\": 199, \"quantity\": 3, \"details\": {\"brand\": \"Bose\", \"color\": \"Blue\"}}], \"order_status\": \"Cancelled\"}"
        ],
        [
         "{\"order_id\": 18, \"customer_id\": 4468, \"order_date\": \"2025-01-22\", \"transaction_timestamp\": \"2025-01-22 21:12:08\", \"total_amount\": 799, \"payment_method\": \"Credit Card\", \"items\": [{\"item_id\": 10, \"name\": \"Drone\", \"category\": \"Electronics\", \"price\": 799, \"quantity\": 1, \"details\": {\"brand\": \"Dell\", \"color\": \"Black\"}}], \"order_status\": \"Pending\"}"
        ],
        [
         "{\"order_id\": 22, \"customer_id\": 4761, \"order_date\": 2025-01-01, \"transaction_timestamp\": \"2025-01-01 15:49:19\", \"total_amount\": 199, \"payment_method\": \"PayPal\", \"items\": [{\"item_id\": 3, \"name\": \"Wireless Headphones\", \"category\": \"Electronics\", \"price\": 199, \"quantity\": 1, \"details\": {\"brand\": \"HP\", \"color\": \"Silver\"}}], \"order_status\": \"Pending\"}"
        ],
        [
         "{\"order_id\": 26, \"customer_id\": 7007, \"order_date\": \"2025-01-05\", \"transaction_timestamp\": \"2025-01-05 19:01:25\", \"total_amount\": 699, \"payment_method\": \"Bank Transfer\", \"items\": [{\"item_id\": 1, \"name\": \"Smartphone\", \"category\": \"Electronics\", \"price\": 699, \"quantity\": 1, \"details\": {\"brand\": \"Samsung\", \"color\": \"Silver\"}}], \"order_status\": \"Shipped\"}"
        ],
        [
         "{\"order_id\": 29, \"customer_id\": 5953, \"order_date\": \"2025-01-18\", \"transaction_timestamp\": \"2025-01-18 03:05:04\", \"total_amount\": 129, \"payment_method\": \"Bank Transfer\", \"items\": [{\"item_id\": 7, \"name\": \"External Hard Drive\", \"category\": \"Electronics\", \"price\": 129, \"quantity\": 1, \"details\": {\"brand\": \"Bose\", \"color\": \"Gray\"}}, {\"item_id\": 7, \"name\": \"External Hard Drive\", \"category\": \"Electronics\", \"price\": 129, \"quantity\": 1, \"details\": {\"brand\": \"Bose\", \"color\": \"Gray\"}}], \"order_status\": \"Pending\"}"
        ],
        [
         "{\"order_id\": 31, \"customer_id\": 4996, \"order_date\": \"2025-01-18\", \"transaction_timestamp\": \"2025-01-18 03:13:29\", \"total_amount\": 299, \"payment_method\": \"Bank Transfer\", \"items\": [{\"item_id\": 4, \"name\": \"Smartwatch\", \"category\": \"Electronics\", \"price\": 299, \"quantity\": 1, \"details\": {\"brand\": \"Dell\", \"color\": \"White\"}}], \"order_status\": \"Shipped\"}"
        ],
        [
         "{\"order_id\": 33, \"customer_id\": 9605, \"order_date\": \"2025-01-13\", \"transaction_timestamp\": \"2025-01-13 04:47:43\", \"total_amount\": 897, \"payment_method\": \"PayPal\", \"items\": [{\"item_id\": 4, \"name\": \"Smartwatch\", \"category\": \"Electronics\", \"price\": 299, \"quantity\": 3, \"details\": {\"brand\": \"Canon\", \"color\": \"White\"}}], \"order_status\": \"Completed\"}"
        ],
        [
         "{\"order_id\": 34, \"customer_id\": 9605, \"order_date\": \"2025-01-21\", \"transaction_timestamp\": \"2025-01-21 00:25:01\", \"total_amount\": 926, \"payment_method\": \"PayPal\", \"items\": [{\"item_id\": 6, \"name\": \"Bluetooth Speaker\", \"category\": \"Electronics\", \"price\": 149, \"quantity\": 2, \"details\": {\"brand\": \"Bose\", \"color\": \"Silver\"}}, {\"item_id\": 8, \"name\": \"Gaming Console\", \"category\": \"Electronics\", \"price\": 499, \"quantity\": 1, \"details\": {\"brand\": \"LG\", \"color\": \"Black\"}}, {\"item_id\": 7, \"name\": \"External Hard Drive\", \"category\": \"Electronics\", \"price\": 129, \"quantity\": 1, \"details\": {\"brand\": \"Samsung\", \"color\": \"Black\"}}], \"order_status\": \"Cancelled\"}"
        ],
        [
         "{\"order_id\": 40, \"customer_id\": 6384, \"order_date\": \"2025-01-20\", \"transaction_timestamp\": \"2025-01-20 16:18:35\", \"total_amount\": 298, \"payment_method\": \"PayPal\", \"items\": [{\"item_id\": 6, \"name\": \"Bluetooth Speaker\", \"category\": \"Electronics\", \"price\": 149, \"quantity\": 2, \"details\": {\"brand\": \"Bose\", \"color\": \"Silver\"}}], \"order_status\": \"Completed\"}"
        ],
        [
         "{\"order_id\": 41, \"customer_id\": 6384, \"order_date\": \"2025-01-05\", \"transaction_timestamp\": \"2025-01-05 06:10:22\", \"total_amount\": 999, \"payment_method\": \"Credit Card\", \"items\": [{\"item_id\": 2, \"name\": \"Laptop\", \"category\": \"Electronics\", \"price\": 999, \"quantity\": 1, \"details\": {\"brand\": \"Sony\", \"color\": \"Silver\"}}], \"order_status\": \"Shipped\"}"
        ],
        [
         "{\"order_id\": 43, \"customer_id\": 5028, \"order_date\": \"2025-01-24\", \"transaction_timestamp\": \"2025-01-24 18:10:37\", \"total_amount\": 499, \"payment_method\": \"PayPal\", \"items\": [{\"item_id\": 8, \"name\": \"Gaming Console\", \"category\": \"Electronics\", \"price\": 499, \"quantity\": 1, \"details\": {\"brand\": \"LG\", \"color\": \"Black\"}}], \"order_status\": \"Pending\"}"
        ],
        [
         "{\"order_id\": 50, \"customer_id\": 3712, \"order_date\": \"2025-01-11\", \"transaction_timestamp\": \"2025-01-11 01:19:09\", \"total_amount\": 746, \"payment_method\": \"Credit Card\", \"items\": [{\"item_id\": 6, \"name\": \"Bluetooth Speaker\", \"category\": \"Electronics\", \"price\": 149, \"quantity\": 3, \"details\": {\"brand\": \"Apple\", \"color\": \"Gray\"}}, {\"item_id\": 4, \"name\": \"Smartwatch\", \"category\": \"Electronics\", \"price\": 299, \"quantity\": 1, \"details\": {\"brand\": \"Sony\", \"color\": \"White\"}}], \"order_status\": \"Shipped\"}"
        ],
        [
         "{\"order_id\": 51, \"customer_id\": 8845, \"order_date\": \"2025-01-21\", \"transaction_timestamp\": \"2025-01-21 13:19:59\", \"total_amount\": 149, \"payment_method\": \"PayPal\", \"items\": [{\"item_id\": 6, \"name\": \"Bluetooth Speaker\", \"category\": \"Electronics\", \"price\": 149, \"quantity\": 1, \"details\": {\"brand\": \"Samsung\", \"color\": \"Gray\"}}], \"order_status\": \"Completed\"}"
        ],
        [
         "{\"order_id\": 53, \"customer_id\": 8845, \"order_date\": \"2025-01-21\", \"transaction_timestamp\": \"2025-01-21 08:31:02\", \"total_amount\": 199, \"payment_method\": \"Bank Transfer\", \"items\": [{\"item_id\": 3, \"name\": \"Wireless Headphones\", \"category\": \"Electronics\", \"price\": 199, \"quantity\": 1, \"details\": {\"brand\": \"Apple\", \"color\": \"Black\"}}], \"order_status\": \"Pending\"}"
        ],
        [
         "{\"order_id\": 56, \"customer_id\": 8580, \"order_date\": \"2025-01-01\", \"transaction_timestamp\": \"2025-01-01 12:02:41\", \"total_amount\": 698, \"payment_method\": \"PayPal\", \"items\": [{\"item_id\": 3, \"name\": \"Wireless Headphones\", \"category\": \"Electronics\", \"price\": 199, \"quantity\": 1, \"details\": {\"brand\": \"HP\", \"color\": \"Silver\"}}, {\"item_id\": 8, \"name\": \"Gaming Console\", \"category\": \"Electronics\", \"price\": 499, \"quantity\": 1, \"details\": {\"brand\": \"LG\", \"color\": \"Gray\"}}], \"order_status\": \"Cancelled\"}"
        ],
        [
         "{\"order_id\": 62, \"customer_id\": 7123, \"order_date\": \"2025-01-24\", \"transaction_timestamp\": \"2025-01-24 12:00:54\", \"total_amount\": 985, \"payment_method\": \"Bank Transfer\", \"items\": [{\"item_id\": 7, \"name\": \"External Hard Drive\", \"category\": \"Electronics\", \"price\": 129, \"quantity\": 3, \"details\": {\"brand\": \"Dell\", \"color\": \"White\"}}, {\"item_id\": 4, \"name\": \"Smartwatch\", \"category\": \"Electronics\", \"price\": 299, \"quantity\": 2, \"details\": {\"brand\": \"GoPro\", \"color\": \"Blue\"}}], \"order_status\": \"Completed\"}"
        ],
        [
         "{\"order_id\": 66, \"customer_id\": 3084, \"order_date\": \"2025-01-17\", \"transaction_timestamp\": \"2025-01-17 21:16:11\", \"total_amount\": 598, \"payment_method\": \"Credit Card\", \"items\": [{\"item_id\": 4, \"name\": \"Smartwatch\", \"category\": \"Electronics\", \"price\": 299, \"quantity\": 1, \"details\": {\"brand\": \"Bose\", \"color\": \"Silver\"}}, {\"item_id\": 4, \"name\": \"Smartwatch\", \"category\": \"Electronics\", \"price\": 299, \"quantity\": 1, \"details\": {\"brand\": \"GoPro\", \"color\": \"White\"}}], \"order_status\": \"Cancelled\"}"
        ],
        [
         "{\"order_id\": 68, \"customer_id\": 4973, \"order_date\": \"2025-01-10\", \"transaction_timestamp\": \"2025-01-10 20:35:43\", \"total_amount\": 149, \"payment_method\": \"Bank Transfer\", \"items\": [{\"item_id\": 6, \"name\": \"Bluetooth Speaker\", \"category\": \"Electronics\", \"price\": 149, \"quantity\": 1, \"details\": {\"brand\": \"Bose\", \"color\": \"Gray\"}}], \"order_status\": \"Completed\"}"
        ],
        [
         "{\"order_id\": 73, \"customer_id\": 6167, \"order_date\": \"2025-01-07\", \"transaction_timestamp\": \"2025-01-07 01:02:26\", \"total_amount\": 387, \"payment_method\": \"Credit Card\", \"items\": [{\"item_id\": 7, \"name\": \"External Hard Drive\", \"category\": \"Electronics\", \"price\": 129, \"quantity\": 3, \"details\": {\"brand\": \"GoPro\", \"color\": \"Gray\"}}, {\"item_id\": 7, \"name\": \"External Hard Drive\", \"category\": \"Electronics\", \"price\": 129, \"quantity\": 3, \"details\": {\"brand\": \"GoPro\", \"color\": \"Gray\"}}], \"order_status\": \"Shipped\"}"
        ],
        [
         "{\"order_id\": 75, \"customer_id\": 6167, \"order_date\": \"2025-01-19\", \"transaction_timestamp\": \"2025-01-19 16:23:16\", \"total_amount\": 699, \"payment_method\": \"Credit Card\", \"items\": [{\"item_id\": 1, \"name\": \"Smartphone\", \"category\": \"Electronics\", \"price\": 699, \"quantity\": 1, \"details\": {\"brand\": \"GoPro\", \"color\": \"White\"}}], \"order_status\": \"Shipped\"}"
        ],
        [
         "{\"order_id\": 76, \"customer_id\": 3295, \"order_date\": \"2025-01-06\", \"transaction_timestamp\": \"2025-01-06 02:54:39\", \"total_amount\": 399, \"payment_method\": \"Bank Transfer\", \"items\": [{\"item_id\": 5, \"name\": \"Tablet\", \"category\": \"Electronics\", \"price\": 399, \"quantity\": 1, \"details\": {\"brand\": \"Microsoft\", \"color\": \"Silver\"}}], \"order_status\": \"Completed\"}"
        ],
        [
         "{\"order_id\": 78, \"customer_id\": 9084, \"order_date\": \"2025-01-21\", \"transaction_timestamp\": \"2025-01-21 11:42:51\", \"total_amount\": 798, \"payment_method\": \"PayPal\", \"items\": [{\"item_id\": 5, \"name\": \"Tablet\", \"category\": \"Electronics\", \"price\": 399, \"quantity\": 2, \"details\": {\"brand\": \"Dell\", \"color\": \"White\"}}], \"order_status\": \"Cancelled\"}"
        ],
        [
         "{\"order_id\": 79, \"customer_id\": 9084, \"order_date\": \"2025-01-25\", \"transaction_timestamp\": \"2025-01-25 03:52:05\", \"total_amount\": 998, \"payment_method\": \"Credit Card\", \"items\": [{\"item_id\": 8, \"name\": \"Gaming Console\", \"category\": \"Electronics\", \"price\": 499, \"quantity\": 2, \"details\": {\"brand\": \"Dell\", \"color\": \"Gray\"}}], \"order_status\": \"Cancelled\"}"
        ],
        [
         "{\"order_id\": 83, \"customer_id\": 2344, \"order_date\": \"2025-01-07\", \"transaction_timestamp\": \"2025-01-07 12:48:05\", \"total_amount\": 785, \"payment_method\": \"PayPal\", \"items\": [{\"item_id\": 7, \"name\": \"External Hard Drive\", \"category\": \"Electronics\", \"price\": 129, \"quantity\": 3, \"details\": {\"brand\": \"Canon\", \"color\": \"Gray\"}}, {\"item_id\": 3, \"name\": \"Wireless Headphones\", \"category\": \"Electronics\", \"price\": 199, \"quantity\": 2, \"details\": {\"brand\": \"Sony\", \"color\": \"Black\"}}], \"order_status\": \"Shipped\"}"
        ],
        [
         "{\"order_id\": 87, \"customer_id\": 2141, \"order_date\": \"2025-01-02\", \"transaction_timestamp\": \"2025-01-02 04:28:38\", \"total_amount\": 129, \"payment_method\": \"PayPal\", \"items\": [{\"item_id\": 7, \"name\": \"External Hard Drive\", \"category\": \"Electronics\", \"price\": 129, \"quantity\": 1, \"details\": {\"brand\": \"Apple\", \"color\": \"Blue\"}}], \"order_status\": \"Pending\"}"
        ],
        [
         "{\"order_id\": 90, \"customer_id\": 9247, \"order_date\": \"2025-01-17\", \"transaction_timestamp\": \"2025-01-17 14:30:54\", \"total_amount\": 258, \"payment_method\": \"Credit Card\", \"items\": [{\"item_id\": 7, \"name\": \"External Hard Drive\", \"category\": \"Electronics\", \"price\": 129, \"quantity\": 1, \"details\": {\"brand\": \"Canon\", \"color\": \"White\"}}, {\"item_id\": 7, \"name\": \"External Hard Drive\", \"category\": \"Electronics\", \"price\": 129, \"quantity\": 1, \"details\": {\"brand\": \"Samsung\", \"color\": \"Black\"}}], \"order_status\": \"Pending\"}"
        ],
        [
         "{\"order_id\": 94, \"customer_id\": 6627, \"order_date\": \"2025-01-10\", \"transaction_timestamp\": \"2025-01-10 09:51:48\", \"total_amount\": 895, \"payment_method\": \"Credit Card\", \"items\": [{\"item_id\": 6, \"name\": \"Bluetooth Speaker\", \"category\": \"Electronics\", \"price\": 149, \"quantity\": 2, \"details\": {\"brand\": \"Sony\", \"color\": \"Black\"}}, {\"item_id\": 3, \"name\": \"Wireless Headphones\", \"category\": \"Electronics\", \"price\": 199, \"quantity\": 3, \"details\": {\"brand\": \"Apple\", \"color\": \"Blue\"}}], \"order_status\": \"Pending\"}"
        ],
        [
         "{\"order_id\": 98, \"customer_id\": 9150, \"order_date\": \"2025-01-08\", \"transaction_timestamp\": \"2025-01-08 05:57:55\", \"total_amount\": 985, \"payment_method\": \"Credit Card\", \"items\": [{\"item_id\": 7, \"name\": \"External Hard Drive\", \"category\": \"Electronics\", \"price\": 129, \"quantity\": 3, \"details\": {\"brand\": \"HP\", \"color\": \"Blue\"}}, {\"item_id\": 4, \"name\": \"Smartwatch\", \"category\": \"Electronics\", \"price\": 299, \"quantity\": 2, \"details\": {\"brand\": \"Samsung\", \"color\": \"Gray\"}}], \"order_status\": \"Completed\"}"
        ],
        [
         "{\"order_id\": 99, \"customer_id\": 9150, \"order_date\": \"2025-01-10\", \"transaction_timestamp\": \"2025-01-10 21:43:46\", \"total_amount\": 699, \"payment_method\": \"Credit Card\", \"items\": [{\"item_id\": 1, \"name\": \"Smartphone\", \"category\": \"Electronics\", \"price\": 699, \"quantity\": 1, \"details\": {\"brand\": \"Bose\", \"color\": \"Gray\"}}], \"order_status\": \"Shipped\"}"
        ],
        [
         "{\"order_id\": 100, \"customer_id\": 9150, \"order_date\": \"2025-01-04\", \"transaction_timestamp\": \"2025-01-04 06:40:13\", \"total_amount\": 447, \"payment_method\": \"PayPal\", \"items\": [{\"item_id\": 6, \"name\": \"Bluetooth Speaker\", \"category\": \"Electronics\", \"price\": 149, \"quantity\": 3, \"details\": {\"brand\": \"LG\", \"color\": \"Silver\"}}], \"order_status\": \"Shipped\"}"
        ],
        [
         "{\"order_id\": 12, \"customer_id\": 5816, \"order_date\": \"2024-12-06\", \"transaction_timestamp\": \"2024-12-06 20:26:49\", \"total_amount\": 999, \"payment_method\": \"PayPal\", \"items\": [{\"item_id\": 2, \"name\": \"Laptop\", \"category\": \"Electronics\", \"price\": 999, \"quantity\": 1, \"details\": {\"brand\": \"Sony\", \"color\": \"White\"}}], \"order_status\": \"Cancelled\"}"
        ],
        [
         "{\"order_id\": 13, \"customer_id\": 4858, \"order_date\": \"2024-12-17\", \"transaction_timestamp\": \"2024-12-17 03:41:37\", \"total_amount\": 999, \"payment_method\": \"PayPal\", \"items\": [{\"item_id\": 2, \"name\": \"Laptop\", \"category\": \"Electronics\", \"price\": 999, \"quantity\": 1, \"details\": {\"brand\": \"GoPro\", \"color\": \"Black\"}}], \"order_status\": \"Pending\"}"
        ],
        [
         "{\"order_id\": 16, \"customer_id\": 5204, \"order_date\": \"2024-12-08\", \"transaction_timestamp\": \"2024-12-08 22:59:48\", \"total_amount\": 597, \"payment_method\": \"Bank Transfer\", \"items\": [{\"item_id\": 3, \"name\": \"Wireless Headphones\", \"category\": \"Electronics\", \"price\": 199, \"quantity\": 3, \"details\": {\"brand\": \"Sony\", \"color\": \"Silver\"}}], \"order_status\": \"Pending\"}"
        ],
        [
         "{\"order_id\": 17, \"customer_id\": 5204, \"order_date\": \"2024-12-02\", \"transaction_timestamp\": \"2024-12-02 12:00:50\", \"total_amount\": 998, \"payment_method\": \"Bank Transfer\", \"items\": [{\"item_id\": 8, \"name\": \"Gaming Console\", \"category\": \"Electronics\", \"price\": 499, \"quantity\": 2, \"details\": {\"brand\": \"Dell\", \"color\": \"Black\"}}], \"order_status\": \"Pending\"}"
        ],
        [
         "{\"order_id\": 24, \"customer_id\": 1211, \"order_date\": \"2024-12-21\", \"transaction_timestamp\": \"2024-12-21 03:24:26\", \"total_amount\": 1199, \"payment_method\": \"PayPal\", \"items\": [{\"item_id\": 9, \"name\": \"Smart TV\", \"category\": \"Electronics\", \"price\": 1199, \"quantity\": 1, \"details\": {\"brand\": \"GoPro\", \"color\": \"Gray\"}}], \"order_status\": \"Completed\"}"
        ],
        [
         "{\"order_id\": 27, \"customer_id\": 2703, \"order_date\": \"2024-12-02\", \"transaction_timestamp\": \"2024-12-02 11:24:21\", \"total_amount\": 904, \"payment_method\": \"Credit Card\", \"items\": [{\"item_id\": 7, \"name\": \"External Hard Drive\", \"category\": \"Electronics\", \"price\": 129, \"quantity\": 2, \"details\": {\"brand\": \"Dell\", \"color\": \"White\"}}, {\"item_id\": 6, \"name\": \"Bluetooth Speaker\", \"category\": \"Electronics\", \"price\": 149, \"quantity\": 3, \"details\": {\"brand\": \"Canon\", \"color\": \"Black\"}}, {\"item_id\": 3, \"name\": \"Wireless Headphones\", \"category\": \"Electronics\", \"price\": 199, \"quantity\": 1, \"details\": {\"brand\": \"Microsoft\", \"color\": \"Silver\"}}], \"order_status\": \"Completed\"}"
        ],
        [
         "{\"order_id\": 28, \"customer_id\": 2703, \"order_date\": \"2024-12-26\", \"transaction_timestamp\": \"2024-12-26 03:17:50\", \"total_amount\": 129, \"payment_method\": \"Credit Card\", \"items\": [{\"item_id\": 7, \"name\": \"External Hard Drive\", \"category\": \"Electronics\", \"price\": 129, \"quantity\": 1, \"details\": {\"brand\": \"GoPro\", \"color\": \"Blue\"}}], \"order_status\": \"Cancelled\"}"
        ],
        [
         "{\"order_id\": 32, \"customer_id\": 4996, \"order_date\": \"2024-12-28\", \"transaction_timestamp\": \"2024-12-28 08:55:57\", \"total_amount\": 399, \"payment_method\": \"PayPal\", \"items\": [{\"item_id\": 5, \"name\": \"Tablet\", \"category\": \"Electronics\", \"price\": 399, \"quantity\": 1, \"details\": {\"brand\": \"Apple\", \"color\": \"Silver\"}}], \"order_status\": \"Pending\"}"
        ],
        [
         "{\"order_id\": 37, \"customer_id\": 7829, \"order_date\": \"2024-12-22\", \"transaction_timestamp\": \"2024-12-22 10:11:49\", \"total_amount\": 258, \"payment_method\": \"Credit Card\", \"items\": [{\"item_id\": 7, \"name\": \"External Hard Drive\", \"category\": \"Electronics\", \"price\": 129, \"quantity\": 2, \"details\": {\"brand\": \"HP\", \"color\": \"Silver\"}}], \"order_status\": \"Shipped\"}"
        ],
        [
         "{\"order_id\": 38, \"customer_id\": 7829, \"order_date\": \"2024-12-25\", \"transaction_timestamp\": \"2024-12-25 22:05:19\", \"total_amount\": 447, \"payment_method\": \"Credit Card\", \"items\": [{\"item_id\": 6, \"name\": \"Bluetooth Speaker\", \"category\": \"Electronics\", \"price\": 149, \"quantity\": 3, \"details\": {\"brand\": \"Apple\", \"color\": \"Gray\"}}], \"order_status\": \"Shipped\"}"
        ],
        [
         "{\"order_id\": 44, \"customer_id\": 7295, \"order_date\": \"2024-12-20\", \"transaction_timestamp\": \"2024-12-20 08:05:43\", \"total_amount\": 129, \"payment_method\": \"Credit Card\", \"items\": [{\"item_id\": 7, \"name\": \"External Hard Drive\", \"category\": \"Electronics\", \"price\": 129, \"quantity\": 1, \"details\": {\"brand\": \"Bose\", \"color\": \"Blue\"}}], \"order_status\": \"Completed\"}"
        ],
        [
         "{\"order_id\": 49, \"customer_id\": 7803, \"order_date\": \"2024-12-07\", \"transaction_timestamp\": \"2024-12-07 23:24:11\", \"total_amount\": 747, \"payment_method\": \"PayPal\", \"items\": [{\"item_id\": 4, \"name\": \"Smartwatch\", \"category\": \"Electronics\", \"price\": 299, \"quantity\": 1, \"details\": {\"brand\": \"HP\", \"color\": \"White\"}}, {\"item_id\": 4, \"name\": \"Smartwatch\", \"category\": \"Electronics\", \"price\": 299, \"quantity\": 1, \"details\": {\"brand\": \"Canon\", \"color\": \"Blue\"}}, {\"item_id\": 6, \"name\": \"Bluetooth Speaker\", \"category\": \"Electronics\", \"price\": 149, \"quantity\": 1, \"details\": {\"brand\": \"Samsung\", \"color\": \"White\"}}], \"order_status\": \"Cancelled\"}"
        ],
        [
         "{\"order_id\": 54, \"customer_id\": 2054, \"order_date\": \"2024-12-20\", \"transaction_timestamp\": \"2024-12-20 12:04:27\", \"total_amount\": 398, \"payment_method\": \"Credit Card\", \"items\": [{\"item_id\": 3, \"name\": \"Wireless Headphones\", \"category\": \"Electronics\", \"price\": 199, \"quantity\": 2, \"details\": {\"brand\": \"Bose\", \"color\": \"Gray\"}}], \"order_status\": \"Pending\"}"
        ],
        [
         "{\"order_id\": 58, \"customer_id\": 8580, \"order_date\": \"2024-12-09\", \"transaction_timestamp\": \"2024-12-09 22:40:58\", \"total_amount\": 699, \"payment_method\": \"PayPal\", \"items\": [{\"item_id\": 1, \"name\": \"Smartphone\", \"category\": \"Electronics\", \"price\": 699, \"quantity\": 1, \"details\": {\"brand\": \"Microsoft\", \"color\": \"Gray\"}}], \"order_status\": \"Completed\"}"
        ],
        [
         "{\"order_id\": 60, \"customer_id\": 3409, \"order_date\": \"2024-12-13\", \"transaction_timestamp\": \"2024-12-13 13:10:12\", \"total_amount\": 199, \"payment_method\": \"Bank Transfer\", \"items\": [{\"item_id\": 3, \"name\": \"Wireless Headphones\", \"category\": \"Electronics\", \"price\": 199, \"quantity\": 1, \"details\": {\"brand\": \"Samsung\", \"color\": \"Blue\"}}], \"order_status\": \"Shipped\"}"
        ],
        [
         "{\"order_id\": 61, \"customer_id\": 7123, \"order_date\": \"2024-12-07\", \"transaction_timestamp\": \"2024-12-07 07:47:19\", \"total_amount\": 699, \"payment_method\": \"Bank Transfer\", \"items\": [{\"item_id\": 1, \"name\": \"Smartphone\", \"category\": \"Electronics\", \"price\": 699, \"quantity\": 1, \"details\": {\"brand\": \"Canon\", \"color\": \"Black\"}}], \"order_status\": \"Completed\"}"
        ],
        [
         "{\"order_id\": 65, \"customer_id\": 3084, \"order_date\": \"2024-12-09\", \"transaction_timestamp\": \"2024-12-09 13:04:13\", \"total_amount\": 399, \"payment_method\": \"Bank Transfer\", \"items\": [{\"item_id\": 5, \"name\": \"Tablet\", \"category\": \"Electronics\", \"price\": 399, \"quantity\": 1, \"details\": {\"brand\": \"Microsoft\", \"color\": \"Gray\"}}], \"order_status\": \"Cancelled\"}"
        ],
        [
         "{\"order_id\": 67, \"customer_id\": 3084, \"order_date\": \"2024-12-19\", \"transaction_timestamp\": \"2024-12-19 07:11:09\", \"total_amount\": 897, \"payment_method\": \"PayPal\", \"items\": [{\"item_id\": 4, \"name\": \"Smartwatch\", \"category\": \"Electronics\", \"price\": 299, \"quantity\": 3, \"details\": {\"brand\": \"LG\", \"color\": \"Blue\"}}], \"order_status\": \"Shipped\"}"
        ],
        [
         "{\"order_id\": 69, \"customer_id\": 4973, \"order_date\": \"2024-12-30\", \"transaction_timestamp\": \"2024-12-30 02:42:01\", \"total_amount\": 699, \"payment_method\": \"Bank Transfer\", \"items\": [{\"item_id\": 1, \"name\": \"Smartphone\", \"category\": \"Electronics\", \"price\": 699, \"quantity\": 1, \"details\": {\"brand\": \"Dell\", \"color\": \"Gray\"}}], \"order_status\": \"Completed\"}"
        ],
        [
         "{\"order_id\": 70, \"customer_id\": 7997, \"order_date\": \"2024-12-04\", \"transaction_timestamp\": \"2024-12-04 17:17:24\", \"total_amount\": 897, \"payment_method\": \"PayPal\", \"items\": [{\"item_id\": 4, \"name\": \"Smartwatch\", \"category\": \"Electronics\", \"price\": 299, \"quantity\": 3, \"details\": {\"brand\": \"Sony\", \"color\": \"Black\"}}], \"order_status\": \"Shipped\"}"
        ],
        [
         "{\"order_id\": 71, \"customer_id\": 7997, \"order_date\": 2024-12-27, \"transaction_timestamp\": \"2024-12-27 11:16:39\", \"total_amount\": 199, \"payment_method\": \"Bank Transfer\", \"items\": [{\"item_id\": 3, \"name\": \"Wireless Headphones\", \"category\": \"Electronics\", \"price\": 199, \"quantity\": 1, \"details\": {\"brand\": \"Microsoft\", \"color\": \"Black\"}}], \"order_status\": \"Completed\"}"
        ],
        [
         "{\"order_id\": 74, \"customer_id\": 6167, \"order_date\": \"2024-12-22\", \"transaction_timestamp\": \"2024-12-22 15:54:11\", \"total_amount\": 699, \"payment_method\": \"PayPal\", \"items\": [{\"item_id\": 1, \"name\": \"Smartphone\", \"category\": \"Electronics\", \"price\": 699, \"quantity\": 1, \"details\": {\"brand\": \"Samsung\", \"color\": \"Blue\"}}], \"order_status\": \"Pending\"}"
        ],
        [
         "{\"order_id\": 80, \"customer_id\": 9687, \"order_date\": \"2024-12-11\", \"transaction_timestamp\": \"2024-12-11 07:43:54\", \"total_amount\": 998, \"payment_method\": \"Bank Transfer\", \"items\": [{\"item_id\": 8, \"name\": \"Gaming Console\", \"category\": \"Electronics\", \"price\": 499, \"quantity\": 2, \"details\": {\"brand\": \"Samsung\", \"color\": \"White\"}}], \"order_status\": \"Cancelled\"}"
        ],
        [
         "{\"order_id\": 81, \"customer_id\": 9687, \"order_date\": \"2024-12-27\", \"transaction_timestamp\": \"2024-12-27 02:27:45\", \"total_amount\": 699, \"payment_method\": \"PayPal\", \"items\": [{\"item_id\": 1, \"name\": \"Smartphone\", \"category\": \"Electronics\", \"price\": 699, \"quantity\": 1, \"details\": {\"brand\": \"GoPro\", \"color\": \"Blue\"}}], \"order_status\": \"Completed\"}"
        ],
        [
         "{\"order_id\": 82, \"customer_id\": 2344, \"order_date\": \"2024-12-28\", \"transaction_timestamp\": \"2024-12-28 00:54:08\", \"total_amount\": 387, \"payment_method\": \"PayPal\", \"items\": [{\"item_id\": 7, \"name\": \"External Hard Drive\", \"category\": \"Electronics\", \"price\": 129, \"quantity\": 3, \"details\": {\"brand\": \"Sony\", \"color\": \"Blue\"}}], \"order_status\": \"Completed\"}"
        ],
        [
         "{\"order_id\": 91, \"customer_id\": 5592, \"order_date\": \"2024-12-17\", \"transaction_timestamp\": \"2024-12-17 00:09:53\", \"total_amount\": 699, \"payment_method\": \"Bank Transfer\", \"items\": [{\"item_id\": 1, \"name\": \"Smartphone\", \"category\": \"Electronics\", \"price\": 699, \"quantity\": 1, \"details\": {\"brand\": \"Canon\", \"color\": \"Silver\"}}], \"order_status\": \"Cancelled\"}"
        ],
        [
         "{\"order_id\": 93, \"customer_id\": 6627, \"order_date\": \"2024-12-22\", \"transaction_timestamp\": \"2024-12-22 05:07:46\", \"total_amount\": 598, \"payment_method\": \"PayPal\", \"items\": [{\"item_id\": 4, \"name\": \"Smartwatch\", \"category\": \"Electronics\", \"price\": 299, \"quantity\": 2, \"details\": {\"brand\": \"LG\", \"color\": \"Silver\"}}], \"order_status\": \"Pending\"}"
        ],
        [
         "{\"order_id\": 95, \"customer_id\": 6627, \"order_date\": \"2024-12-28\", \"transaction_timestamp\": \"2024-12-28 04:28:30\", \"total_amount\": 946, \"payment_method\": \"Bank Transfer\", \"items\": [{\"item_id\": 4, \"name\": \"Smartwatch\", \"category\": \"Electronics\", \"price\": 299, \"quantity\": 2, \"details\": {\"brand\": \"GoPro\", \"color\": \"White\"}}, {\"item_id\": 3, \"name\": \"Wireless Headphones\", \"category\": \"Electronics\", \"price\": 199, \"quantity\": 1, \"details\": {\"brand\": \"Bose\", \"color\": \"Gray\"}}, {\"item_id\": 6, \"name\": \"Bluetooth Speaker\", \"category\": \"Electronics\", \"price\": 149, \"quantity\": 1, \"details\": {\"brand\": \"Dell\", \"color\": \"Silver\"}}], \"order_status\": \"Completed\"}"
        ],
        [
         "{\"order_id\": 96, \"customer_id\": 6406, \"order_date\": \"2024-12-02\", \"transaction_timestamp\": \"2024-12-02 12:27:45\", \"total_amount\": 149, \"payment_method\": \"PayPal\", \"items\": [{\"item_id\": 6, \"name\": \"Bluetooth Speaker\", \"category\": \"Electronics\", \"price\": 149, \"quantity\": 1, \"details\": {\"brand\": \"Microsoft\", \"color\": \"Black\"}}], \"order_status\": \"Shipped\"}"
        ],
        [
         "{\"order_id\": 97, \"customer_id\": 6406, \"order_date\": \"2024-12-07\", \"transaction_timestamp\": \"2024-12-07 16:14:34\", \"total_amount\": 499, \"payment_method\": \"Bank Transfer\", \"items\": [{\"item_id\": 8, \"name\": \"Gaming Console\", \"category\": \"Electronics\", \"price\": 499, \"quantity\": 1, \"details\": {\"brand\": \"Sony\", \"color\": \"Silver\"}}], \"order_status\": \"Completed\"}"
        ],
        [
         "{\"order_id\": 5, \"customer_id\": 3892, \"order_date\": \"2024-11-16\", \"transaction_timestamp\": \"2024-11-16 23:07:31\", \"total_amount\": 998, \"payment_method\": \"Bank Transfer\", \"items\": [{\"item_id\": 8, \"name\": \"Gaming Console\", \"category\": \"Electronics\", \"price\": 499, \"quantity\": 2, \"details\": {\"brand\": \"Dell\", \"color\": \"Blue\"}}], \"order_status\": \"Cancelled\"}"
        ],
        [
         "{\"order_id\": 7, \"customer_id\": 1987, \"order_date\": \"2024-11-19\", \"transaction_timestamp\": \"2024-11-19 19:18:48\", \"total_amount\": 645, \"payment_method\": \"Credit Card\", \"items\": [{\"item_id\": 7, \"name\": \"External Hard Drive\", \"category\": \"Electronics\", \"price\": 129, \"quantity\": 2, \"details\": {\"brand\": \"LG\", \"color\": \"Blue\"}}, {\"item_id\": 7, \"name\": \"External Hard Drive\", \"category\": \"Electronics\", \"price\": 129, \"quantity\": 3, \"details\": {\"brand\": \"HP\", \"color\": \"Gray\"}}], \"order_status\": \"Pending\"}"
        ],
        [
         "{\"order_id\": 9, \"customer_id\": 9179, \"order_date\": \"2024-11-27\", \"transaction_timestamp\": \"2024-11-27 13:15:29\", \"total_amount\": 999, \"payment_method\": \"Bank Transfer\", \"items\": [{\"item_id\": 2, \"name\": \"Laptop\", \"category\": \"Electronics\", \"price\": 999, \"quantity\": 1, \"details\": {\"brand\": \"Apple\", \"color\": \"Black\"}}], \"order_status\": \"Shipped\"}"
        ],
        [
         "{\"order_id\": 20, \"customer_id\": 8539, \"order_date\": \"2024-11-18\", \"transaction_timestamp\": \"2024-11-18 02:38:21\", \"total_amount\": 798, \"payment_method\": \"PayPal\", \"items\": [{\"item_id\": 5, \"name\": \"Tablet\", \"category\": \"Electronics\", \"price\": 399, \"quantity\": 2, \"details\": {\"brand\": \"Sony\", \"color\": \"Silver\"}}], \"order_status\": \"Pending\"}"
        ],
        [
         "{\"order_id\": 21, \"customer_id\": 8539, \"order_date\": \"2024-11-21\", \"transaction_timestamp\": \"2024-11-21 11:25:35\", \"total_amount\": 298, \"payment_method\": \"Bank Transfer\", \"items\": [{\"item_id\": 6, \"name\": \"Bluetooth Speaker\", \"category\": \"Electronics\", \"price\": 149, \"quantity\": 2, \"details\": {\"brand\": \"GoPro\", \"color\": \"Blue\"}}], \"order_status\": \"Cancelled\"}"
        ],
        [
         "{\"order_id\": 23, \"customer_id\": 4761, \"order_date\": \"2024-11-22\", \"transaction_timestamp\": \"2024-11-22 16:04:05\", \"total_amount\": 997, \"payment_method\": \"PayPal\", \"items\": [{\"item_id\": 5, \"name\": \"Tablet\", \"category\": \"Electronics\", \"price\": 399, \"quantity\": 1, \"details\": {\"brand\": \"Apple\", \"color\": \"Gray\"}}, {\"item_id\": 4, \"name\": \"Smartwatch\", \"category\": \"Electronics\", \"price\": 299, \"quantity\": 2, \"details\": {\"brand\": \"Dell\", \"color\": \"Gray\"}}], \"order_status\": \"Shipped\"}"
        ],
        [
         "{\"order_id\": 25, \"customer_id\": 9706, \"order_date\": \"2024-11-05\", \"transaction_timestamp\": \"2024-11-05 11:45:31\", \"total_amount\": 999, \"payment_method\": \"PayPal\", \"items\": [{\"item_id\": 2, \"name\": \"Laptop\", \"category\": \"Electronics\", \"price\": 999, \"quantity\": 1, \"details\": {\"brand\": \"LG\", \"color\": \"Gray\"}}], \"order_status\": \"Completed\"}"
        ],
        [
         "{\"order_id\": 30, \"customer_id\": 4996, \"order_date\": \"2024-11-12\", \"transaction_timestamp\": \"2024-11-12 03:20:29\", \"total_amount\": 199, \"payment_method\": \"Bank Transfer\", \"items\": [{\"item_id\": 3, \"name\": \"Wireless Headphones\", \"category\": \"Electronics\", \"price\": 199, \"quantity\": 1, \"details\": {\"brand\": \"GoPro\", \"color\": \"White\"}}], \"order_status\": \"Shipped\"}"
        ],
        [
         "{\"order_id\": 35, \"customer_id\": 4914, \"order_date\": \"2024-11-20\", \"transaction_timestamp\": \"2024-11-20 19:09:04\", \"total_amount\": 199, \"payment_method\": \"Bank Transfer\", \"items\": [{\"item_id\": 3, \"name\": \"Wireless Headphones\", \"category\": \"Electronics\", \"price\": 199, \"quantity\": 1, \"details\": {\"brand\": \"Dell\", \"color\": \"Gray\"}}], \"order_status\": \"Shipped\"}"
        ],
        [
         "{\"order_id\": 36, \"customer_id\": 4914, \"order_date\": \"2024-11-02\", \"transaction_timestamp\": \"2024-11-02 10:39:46\", \"total_amount\": 199, \"payment_method\": \"PayPal\", \"items\": [{\"item_id\": 3, \"name\": \"Wireless Headphones\", \"category\": \"Electronics\", \"price\": 199, \"quantity\": 1, \"details\": {\"brand\": \"Canon\", \"color\": \"Silver\"}}], \"order_status\": \"Completed\"}"
        ],
        [
         "{\"order_id\": 42, \"customer_id\": 5028, \"order_date\": 2024-11-08, \"transaction_timestamp\": \"2024-11-08 18:32:25\", \"total_amount\": 149, \"payment_method\": \"Credit Card\", \"items\": [{\"item_id\": 6, \"name\": \"Bluetooth Speaker\", \"category\": \"Electronics\", \"price\": 149, \"quantity\": 1, \"details\": {\"brand\": \"Bose\", \"color\": \"Gray\"}}], \"order_status\": \"Completed\"}"
        ],
        [
         "{\"order_id\": 45, \"customer_id\": 7295, \"order_date\": \"2024-11-07\", \"transaction_timestamp\": \"2024-11-07 15:41:43\", \"total_amount\": 799, \"payment_method\": \"Credit Card\", \"items\": [{\"item_id\": 10, \"name\": \"Drone\", \"category\": \"Electronics\", \"price\": 799, \"quantity\": 1, \"details\": {\"brand\": \"Dell\", \"color\": \"White\"}}], \"order_status\": \"Shipped\"}"
        ],
        [
         "{\"order_id\": 46, \"customer_id\": 7295, \"order_date\": \"2024-11-26\", \"transaction_timestamp\": \"2024-11-26 17:16:53\", \"total_amount\": 199, \"payment_method\": \"PayPal\", \"items\": [{\"item_id\": 3, \"name\": \"Wireless Headphones\", \"category\": \"Electronics\", \"price\": 199, \"quantity\": 1, \"details\": {\"brand\": \"Samsung\", \"color\": \"Black\"}}], \"order_status\": \"Pending\"}"
        ],
        [
         "{\"order_id\": 47, \"customer_id\": 7803, \"order_date\": \"2024-11-22\", \"transaction_timestamp\": \"2024-11-22 02:01:19\", \"total_amount\": 298, \"payment_method\": \"Credit Card\", \"items\": [{\"item_id\": 6, \"name\": \"Bluetooth Speaker\", \"category\": \"Electronics\", \"price\": 149, \"quantity\": 2, \"details\": {\"brand\": \"LG\", \"color\": \"Blue\"}}], \"order_status\": \"Shipped\"}"
        ],
        [
         "{\"order_id\": 48, \"customer_id\": 7803, \"order_date\": \"2024-11-13\", \"transaction_timestamp\": \"2024-11-13 06:35:56\", \"total_amount\": 387, \"payment_method\": \"PayPal\", \"items\": [{\"item_id\": 7, \"name\": \"External Hard Drive\", \"category\": \"Electronics\", \"price\": 129, \"quantity\": 3, \"details\": {\"brand\": \"Apple\", \"color\": \"Black\"}}], \"order_status\": \"Completed\"}"
        ],
        [
         "{\"order_id\": 52, \"customer_id\": 8845, \"order_date\": \"2024-11-19\", \"transaction_timestamp\": \"2024-11-19 21:23:45\", \"total_amount\": 998, \"payment_method\": \"PayPal\", \"items\": [{\"item_id\": 8, \"name\": \"Gaming Console\", \"category\": \"Electronics\", \"price\": 499, \"quantity\": 2, \"details\": {\"brand\": \"GoPro\", \"color\": \"White\"}}], \"order_status\": \"Completed\"}"
        ],
        [
         "{\"order_id\": 57, \"customer_id\": 8580, \"order_date\": \"2024-11-19\", \"transaction_timestamp\": \"2024-11-19 11:32:44\", \"total_amount\": 586, \"payment_method\": \"Bank Transfer\", \"items\": [{\"item_id\": 3, \"name\": \"Wireless Headphones\", \"category\": \"Electronics\", \"price\": 199, \"quantity\": 1, \"details\": {\"brand\": \"HP\", \"color\": \"Silver\"}}, {\"item_id\": 7, \"name\": \"External Hard Drive\", \"category\": \"Electronics\", \"price\": 129, \"quantity\": 3, \"details\": {\"brand\": \"Sony\", \"color\": \"Silver\"}}], \"order_status\": \"Cancelled\"}"
        ],
        [
         "{\"order_id\": 63, \"customer_id\": 7123, \"order_date\": \"2024-11-24\", \"transaction_timestamp\": \"2024-11-24 08:41:28\", \"total_amount\": 646, \"payment_method\": \"Bank Transfer\", \"items\": [{\"item_id\": 3, \"name\": \"Wireless Headphones\", \"category\": \"Electronics\", \"price\": 199, \"quantity\": 1, \"details\": {\"brand\": \"GoPro\", \"color\": \"Blue\"}}, {\"item_id\": 6, \"name\": \"Bluetooth Speaker\", \"category\": \"Electronics\", \"price\": 149, \"quantity\": 3, \"details\": {\"brand\": \"Bose\", \"color\": \"Silver\"}}], \"order_status\": \"Cancelled\"}"
        ],
        [
         "{\"order_id\": 64, \"customer_id\": 2639, \"order_date\": \"2024-11-28\", \"transaction_timestamp\": \"2024-11-28 12:23:21\", \"total_amount\": 984, \"payment_method\": \"Bank Transfer\", \"items\": [{\"item_id\": 7, \"name\": \"External Hard Drive\", \"category\": \"Electronics\", \"price\": 129, \"quantity\": 3, \"details\": {\"brand\": \"Microsoft\", \"color\": \"White\"}}, {\"item_id\": 3, \"name\": \"Wireless Headphones\", \"category\": \"Electronics\", \"price\": 199, \"quantity\": 3, \"details\": {\"brand\": \"Canon\", \"color\": \"Blue\"}}], \"order_status\": \"Completed\"}"
        ],
        [
         "{\"order_id\": 88, \"customer_id\": 9247, \"order_date\": \"2024-11-15\", \"transaction_timestamp\": \"2024-11-15 11:39:44\", \"total_amount\": 387, \"payment_method\": \"Bank Transfer\", \"items\": [{\"item_id\": 7, \"name\": \"External Hard Drive\", \"category\": \"Electronics\", \"price\": 129, \"quantity\": 3, \"details\": {\"brand\": \"Bose\", \"color\": \"White\"}}], \"order_status\": \"Cancelled\"}"
        ],
        [
         "{\"order_id\": 89, \"customer_id\": 9247, \"order_date\": \"2024-11-22\", \"transaction_timestamp\": \"2024-11-22 12:09:15\", \"total_amount\": 149, \"payment_method\": \"Bank Transfer\", \"items\": [{\"item_id\": 6, \"name\": \"Bluetooth Speaker\", \"category\": \"Electronics\", \"price\": 149, \"quantity\": 1, \"details\": {\"brand\": \"GoPro\", \"color\": \"Silver\"}}], \"order_status\": \"Cancelled\"}"
        ],
        [
         "{\"order_id\": 92, \"customer_id\": 5592, \"order_date\": \"2024-11-24\", \"transaction_timestamp\": \"2024-11-24 23:33:21\", \"total_amount\": 258, \"payment_method\": \"PayPal\", \"items\": [{\"item_id\": 7, \"name\": \"External Hard Drive\", \"category\": \"Electronics\", \"price\": 129, \"quantity\": 2, \"details\": {\"brand\": \"Sony\", \"color\": \"Black\"}}], \"order_status\": \"Shipped\"}"
        ],
        [
         "{\"order_id\": 6, \"customer_id\": 1987, \"order_date\": \"2024-10-28\", \"transaction_timestamp\": \"2024-10-28 04:47:27\", \"total_amount\": 799, \"payment_method\": \"Credit Card\", \"items\": [{\"item_id\": 10, \"name\": \"Drone\", \"category\": \"Electronics\", \"price\": 799, \"quantity\": 1, \"details\": {\"brand\": \"GoPro\", \"color\": \"Black\"}}], \"order_status\": \"Pending\"}"
        ],
        [
         "{\"order_id\": 10, \"customer_id\": 5816, \"order_date\": \"2024-10-07\", \"transaction_timestamp\": \"2024-10-07 22:09:27\", \"total_amount\": 399, \"payment_method\": \"Credit Card\", \"items\": [{\"item_id\": 5, \"name\": \"Tablet\", \"category\": \"Electronics\", \"price\": 399, \"quantity\": 1, \"details\": {\"brand\": \"GoPro\", \"color\": \"White\"}}], \"order_status\": \"Pending\"}"
        ],
        [
         "{\"order_id\": 11, \"customer_id\": 5816, \"order_date\": \"2024-10-13\", \"transaction_timestamp\": \"2024-10-13 17:34:19\", \"total_amount\": 897, \"payment_method\": \"Bank Transfer\", \"items\": [{\"item_id\": 4, \"name\": \"Smartwatch\", \"category\": \"Electronics\", \"price\": 299, \"quantity\": 3, \"details\": {\"brand\": \"Canon\", \"color\": \"White\"}}], \"order_status\": \"Pending\"}"
        ],
        [
         "{\"order_id\": 15, \"customer_id\": 7207, \"order_date\": \"2024-10-20\", \"transaction_timestamp\": \"2024-10-20 01:47:25\", \"total_amount\": 1199, \"payment_method\": \"Bank Transfer\", \"items\": [{\"item_id\": 9, \"name\": \"Smart TV\", \"category\": \"Electronics\", \"price\": 1199, \"quantity\": 1, \"details\": {\"brand\": \"GoPro\", \"color\": \"White\"}}], \"order_status\": \"Completed\"}"
        ],
        [
         "{\"order_id\": 19, \"customer_id\": 8539, \"order_date\": \"2024-10-13\", \"transaction_timestamp\": \"2024-10-13 12:40:26\", \"total_amount\": 499, \"payment_method\": \"PayPal\", \"items\": [{\"item_id\": 8, \"name\": \"Gaming Console\", \"category\": \"Electronics\", \"price\": 499, \"quantity\": 1, \"details\": {\"brand\": \"Dell\", \"color\": \"Silver\"}}], \"order_status\": \"Shipped\"}"
        ],
        [
         "{\"order_id\": 39, \"customer_id\": 9263, \"order_date\": \"2024-10-29\", \"transaction_timestamp\": \"2024-10-29 21:39:19\", \"total_amount\": 387, \"payment_method\": \"PayPal\", \"items\": [{\"item_id\": 7, \"name\": \"External Hard Drive\", \"category\": \"Electronics\", \"price\": 129, \"quantity\": 3, \"details\": {\"brand\": \"Sony\", \"color\": \"Black\"}}], \"order_status\": \"Shipped\"}"
        ],
        [
         "{\"order_id\": 55, \"customer_id\": 9018, \"order_date\": \"2024-10-25\", \"transaction_timestamp\": \"2024-10-25 05:49:16\", \"total_amount\": 699, \"payment_method\": \"Bank Transfer\", \"items\": [{\"item_id\": 1, \"name\": \"Smartphone\", \"category\": \"Electronics\", \"price\": 699, \"quantity\": 1, \"details\": {\"brand\": \"HP\", \"color\": \"Black\"}}], \"order_status\": \"Shipped\"}"
        ],
        [
         "{\"order_id\": 59, \"customer_id\": 3409, \"order_date\": \"2024-10-23\", \"transaction_timestamp\": \"2024-10-23 02:51:05\", \"total_amount\": 499, \"payment_method\": \"PayPal\", \"items\": [{\"item_id\": 8, \"name\": \"Gaming Console\", \"category\": \"Electronics\", \"price\": 499, \"quantity\": 1, \"details\": {\"brand\": \"Dell\", \"color\": \"Black\"}}], \"order_status\": \"Pending\"}"
        ],
        [
         "{\"order_id\": 72, \"customer_id\": 3889, \"order_date\": 2024-10-06, \"transaction_timestamp\": \"2024-10-06 10:23:28\", \"total_amount\": 328, \"payment_method\": \"PayPal\", \"items\": [{\"item_id\": 3, \"name\": \"Wireless Headphones\", \"category\": \"Electronics\", \"price\": 199, \"quantity\": 1, \"details\": {\"brand\": \"Microsoft\", \"color\": \"Gray\"}}, {\"item_id\": 7, \"name\": \"External Hard Drive\", \"category\": \"Electronics\", \"price\": 129, \"quantity\": 1, \"details\": {\"brand\": \"Samsung\", \"color\": \"Silver\"}}], \"order_status\": \"Cancelled\"}"
        ],
        [
         "{\"order_id\": 77, \"customer_id\": 9084, \"order_date\": \"2024-10-15\", \"transaction_timestamp\": \"2024-10-15 13:09:33\", \"total_amount\": 398, \"payment_method\": \"Credit Card\", \"items\": [{\"item_id\": 3, \"name\": \"Wireless Headphones\", \"category\": \"Electronics\", \"price\": 199, \"quantity\": 2, \"details\": {\"brand\": \"HP\", \"color\": \"Silver\"}}], \"order_status\": \"Pending\"}"
        ],
        [
         "{\"order_id\": 84, \"customer_id\": 2344, \"order_date\": \"2024-10-25\", \"transaction_timestamp\": \"2024-10-25 03:37:42\", \"total_amount\": 998, \"payment_method\": \"PayPal\", \"items\": [{\"item_id\": 10, \"name\": \"Drone\", \"category\": \"Electronics\", \"price\": 799, \"quantity\": 1, \"details\": {\"brand\": \"Sony\", \"color\": \"Black\"}}, {\"item_id\": 3, \"name\": \"Wireless Headphones\", \"category\": \"Electronics\", \"price\": 199, \"quantity\": 1, \"details\": {\"brand\": \"LG\", \"color\": \"Black\"}}], \"order_status\": \"Completed\"}"
        ],
        [
         "{\"order_id\": 85, \"customer_id\": 5011, \"order_date\": \"2024-10-23\", \"transaction_timestamp\": \"2024-10-23 20:06:42\", \"total_amount\": 998, \"payment_method\": \"Bank Transfer\", \"items\": [{\"item_id\": 8, \"name\": \"Gaming Console\", \"category\": \"Electronics\", \"price\": 499, \"quantity\": 2, \"details\": {\"brand\": \"GoPro\", \"color\": \"Black\"}}], \"order_status\": \"Shipped\"}"
        ],
        [
         "{\"order_id\": 86, \"customer_id\": 5011, \"order_date\": \"2024-10-19\", \"transaction_timestamp\": \"2024-10-19 13:30:47\", \"total_amount\": 1199, \"payment_method\": \"PayPal\", \"items\": [{\"item_id\": 9, \"name\": \"Smart TV\", \"category\": \"Electronics\", \"price\": 1199, \"quantity\": 1, \"details\": {\"brand\": \"Dell\", \"color\": \"White\"}}], \"order_status\": \"Completed\"}"
        ]
       ],
       "datasetInfos": [
        {
         "name": "_sqldf",
         "schema": {
          "fields": [
           {
            "metadata": {},
            "name": "value",
            "nullable": true,
            "type": "string"
           }
          ],
          "type": "struct"
         },
         "tableIdentifier": null,
         "typeStr": "pyspark.sql.connect.dataframe.DataFrame"
        }
       ],
       "dbfsResultPath": null,
       "isJsonSchema": true,
       "metadata": {
        "createTempViewForImplicitDf": true,
        "dataframeName": "_sqldf",
        "executionCount": 2
       },
       "overflow": false,
       "plotOptions": {
        "customPlotOptions": {},
        "displayType": "table",
        "pivotAggregation": null,
        "pivotColumns": null,
        "xColumns": null,
        "yColumns": null
       },
       "removedWidgets": [],
       "schema": [
        {
         "metadata": "{}",
         "name": "value",
         "type": "\"string\""
        }
       ],
       "type": "table"
      }
     },
     "output_type": "display_data"
    }
   ],
   "source": [
    "%sql\n",
    "-- for optimim performamnce we need to convert from jason stings to json objects \n",
    "select *\n",
    "   from gizmobox.bronze.v_orders;"
   ]
  },
  {
   "cell_type": "code",
   "execution_count": 0,
   "metadata": {
    "application/vnd.databricks.v1+cell": {
     "cellMetadata": {
      "byteLimit": 2048000,
      "implicitDf": true,
      "rowLimit": 10000
     },
     "inputWidgets": {},
     "nuid": "a690da7b-85a8-40b7-b17c-1db969a09044",
     "showTitle": false,
     "tableResultSettingsMap": {},
     "title": ""
    }
   },
   "outputs": [
    {
     "output_type": "display_data",
     "data": {
      "text/html": [
       "<style scoped>\n",
       "  .table-result-container {\n",
       "    max-height: 300px;\n",
       "    overflow: auto;\n",
       "  }\n",
       "  table, th, td {\n",
       "    border: 1px solid black;\n",
       "    border-collapse: collapse;\n",
       "  }\n",
       "  th, td {\n",
       "    padding: 5px;\n",
       "  }\n",
       "  th {\n",
       "    text-align: left;\n",
       "  }\n",
       "</style><div class='table-result-container'><table class='table-result'><thead style='background-color: white'><tr><th>order_id</th><th>value</th></tr></thead><tbody><tr><td>1</td><td>{\"order_id\": 1, \"customer_id\": 6973, \"order_date\": \"2025-01-05\", \"transaction_timestamp\": \"2025-01-05 10:13:59\", \"total_amount\": 499, \"payment_method\": \"Bank Transfer\", \"items\": [{\"item_id\": 8, \"name\": \"Gaming Console\", \"category\": \"Electronics\", \"price\": 499, \"quantity\": 1, \"details\": {\"brand\": \"Sony\", \"color\": \"Blue\"}}], \"order_status\": \"Completed\"}</td></tr><tr><td>null</td><td>{\"order_id\": 2, \"customer_id\": 3532, \"order_date\": 2025-01-19, \"transaction_timestamp\": \"2025-01-19 00:05:13\", \"total_amount\": 985, \"payment_method\": \"PayPal\", \"items\": [{\"item_id\": 4, \"name\": \"Smartwatch\", \"category\": \"Electronics\", \"price\": 299, \"quantity\": 2, \"details\": {\"brand\": \"Canon\", \"color\": \"Gray\"}}, {\"item_id\": 7, \"name\": \"External Hard Drive\", \"category\": \"Electronics\", \"price\": 129, \"quantity\": 3, \"details\": {\"brand\": \"Dell\", \"color\": \"Blue\"}}], \"order_status\": \"Cancelled\"}</td></tr><tr><td>3</td><td>{\"order_id\": 3, \"customer_id\": 3532, \"order_date\": \"2025-01-08\", \"transaction_timestamp\": \"2025-01-08 23:11:00\", \"total_amount\": 597, \"payment_method\": \"Bank Transfer\", \"items\": [{\"item_id\": 3, \"name\": \"Wireless Headphones\", \"category\": \"Electronics\", \"price\": 199, \"quantity\": 3, \"details\": {\"brand\": \"Apple\", \"color\": \"White\"}}], \"order_status\": \"Completed\"}</td></tr><tr><td>4</td><td>{\"order_id\": 4, \"customer_id\": 3532, \"order_date\": \"2025-01-05\", \"transaction_timestamp\": \"2025-01-05 05:49:26\", \"total_amount\": 999, \"payment_method\": \"Bank Transfer\", \"items\": [{\"item_id\": 2, \"name\": \"Laptop\", \"category\": \"Electronics\", \"price\": 999, \"quantity\": 1, \"details\": {\"brand\": \"Microsoft\", \"color\": \"Black\"}}], \"order_status\": \"Cancelled\"}</td></tr><tr><td>8</td><td>{\"order_id\": 8, \"customer_id\": 9179, \"order_date\": \"2025-01-02\", \"transaction_timestamp\": \"2025-01-02 13:11:15\", \"total_amount\": 399, \"payment_method\": \"PayPal\", \"items\": [{\"item_id\": 5, \"name\": \"Tablet\", \"category\": \"Electronics\", \"price\": 399, \"quantity\": 1, \"details\": {\"brand\": \"LG\", \"color\": \"White\"}}], \"order_status\": \"Completed\"}</td></tr><tr><td>14</td><td>{\"order_id\": 14, \"customer_id\": 7207, \"order_date\": \"2025-01-01\", \"transaction_timestamp\": \"2025-01-01 18:22:26\", \"total_amount\": 597, \"payment_method\": \"PayPal\", \"items\": [{\"item_id\": 3, \"name\": \"Wireless Headphones\", \"category\": \"Electronics\", \"price\": 199, \"quantity\": 3, \"details\": {\"brand\": \"Bose\", \"color\": \"Blue\"}}], \"order_status\": \"Cancelled\"}</td></tr><tr><td>18</td><td>{\"order_id\": 18, \"customer_id\": 4468, \"order_date\": \"2025-01-22\", \"transaction_timestamp\": \"2025-01-22 21:12:08\", \"total_amount\": 799, \"payment_method\": \"Credit Card\", \"items\": [{\"item_id\": 10, \"name\": \"Drone\", \"category\": \"Electronics\", \"price\": 799, \"quantity\": 1, \"details\": {\"brand\": \"Dell\", \"color\": \"Black\"}}], \"order_status\": \"Pending\"}</td></tr><tr><td>null</td><td>{\"order_id\": 22, \"customer_id\": 4761, \"order_date\": 2025-01-01, \"transaction_timestamp\": \"2025-01-01 15:49:19\", \"total_amount\": 199, \"payment_method\": \"PayPal\", \"items\": [{\"item_id\": 3, \"name\": \"Wireless Headphones\", \"category\": \"Electronics\", \"price\": 199, \"quantity\": 1, \"details\": {\"brand\": \"HP\", \"color\": \"Silver\"}}], \"order_status\": \"Pending\"}</td></tr><tr><td>26</td><td>{\"order_id\": 26, \"customer_id\": 7007, \"order_date\": \"2025-01-05\", \"transaction_timestamp\": \"2025-01-05 19:01:25\", \"total_amount\": 699, \"payment_method\": \"Bank Transfer\", \"items\": [{\"item_id\": 1, \"name\": \"Smartphone\", \"category\": \"Electronics\", \"price\": 699, \"quantity\": 1, \"details\": {\"brand\": \"Samsung\", \"color\": \"Silver\"}}], \"order_status\": \"Shipped\"}</td></tr><tr><td>29</td><td>{\"order_id\": 29, \"customer_id\": 5953, \"order_date\": \"2025-01-18\", \"transaction_timestamp\": \"2025-01-18 03:05:04\", \"total_amount\": 129, \"payment_method\": \"Bank Transfer\", \"items\": [{\"item_id\": 7, \"name\": \"External Hard Drive\", \"category\": \"Electronics\", \"price\": 129, \"quantity\": 1, \"details\": {\"brand\": \"Bose\", \"color\": \"Gray\"}}, {\"item_id\": 7, \"name\": \"External Hard Drive\", \"category\": \"Electronics\", \"price\": 129, \"quantity\": 1, \"details\": {\"brand\": \"Bose\", \"color\": \"Gray\"}}], \"order_status\": \"Pending\"}</td></tr><tr><td>31</td><td>{\"order_id\": 31, \"customer_id\": 4996, \"order_date\": \"2025-01-18\", \"transaction_timestamp\": \"2025-01-18 03:13:29\", \"total_amount\": 299, \"payment_method\": \"Bank Transfer\", \"items\": [{\"item_id\": 4, \"name\": \"Smartwatch\", \"category\": \"Electronics\", \"price\": 299, \"quantity\": 1, \"details\": {\"brand\": \"Dell\", \"color\": \"White\"}}], \"order_status\": \"Shipped\"}</td></tr><tr><td>33</td><td>{\"order_id\": 33, \"customer_id\": 9605, \"order_date\": \"2025-01-13\", \"transaction_timestamp\": \"2025-01-13 04:47:43\", \"total_amount\": 897, \"payment_method\": \"PayPal\", \"items\": [{\"item_id\": 4, \"name\": \"Smartwatch\", \"category\": \"Electronics\", \"price\": 299, \"quantity\": 3, \"details\": {\"brand\": \"Canon\", \"color\": \"White\"}}], \"order_status\": \"Completed\"}</td></tr><tr><td>34</td><td>{\"order_id\": 34, \"customer_id\": 9605, \"order_date\": \"2025-01-21\", \"transaction_timestamp\": \"2025-01-21 00:25:01\", \"total_amount\": 926, \"payment_method\": \"PayPal\", \"items\": [{\"item_id\": 6, \"name\": \"Bluetooth Speaker\", \"category\": \"Electronics\", \"price\": 149, \"quantity\": 2, \"details\": {\"brand\": \"Bose\", \"color\": \"Silver\"}}, {\"item_id\": 8, \"name\": \"Gaming Console\", \"category\": \"Electronics\", \"price\": 499, \"quantity\": 1, \"details\": {\"brand\": \"LG\", \"color\": \"Black\"}}, {\"item_id\": 7, \"name\": \"External Hard Drive\", \"category\": \"Electronics\", \"price\": 129, \"quantity\": 1, \"details\": {\"brand\": \"Samsung\", \"color\": \"Black\"}}], \"order_status\": \"Cancelled\"}</td></tr><tr><td>40</td><td>{\"order_id\": 40, \"customer_id\": 6384, \"order_date\": \"2025-01-20\", \"transaction_timestamp\": \"2025-01-20 16:18:35\", \"total_amount\": 298, \"payment_method\": \"PayPal\", \"items\": [{\"item_id\": 6, \"name\": \"Bluetooth Speaker\", \"category\": \"Electronics\", \"price\": 149, \"quantity\": 2, \"details\": {\"brand\": \"Bose\", \"color\": \"Silver\"}}], \"order_status\": \"Completed\"}</td></tr><tr><td>41</td><td>{\"order_id\": 41, \"customer_id\": 6384, \"order_date\": \"2025-01-05\", \"transaction_timestamp\": \"2025-01-05 06:10:22\", \"total_amount\": 999, \"payment_method\": \"Credit Card\", \"items\": [{\"item_id\": 2, \"name\": \"Laptop\", \"category\": \"Electronics\", \"price\": 999, \"quantity\": 1, \"details\": {\"brand\": \"Sony\", \"color\": \"Silver\"}}], \"order_status\": \"Shipped\"}</td></tr><tr><td>43</td><td>{\"order_id\": 43, \"customer_id\": 5028, \"order_date\": \"2025-01-24\", \"transaction_timestamp\": \"2025-01-24 18:10:37\", \"total_amount\": 499, \"payment_method\": \"PayPal\", \"items\": [{\"item_id\": 8, \"name\": \"Gaming Console\", \"category\": \"Electronics\", \"price\": 499, \"quantity\": 1, \"details\": {\"brand\": \"LG\", \"color\": \"Black\"}}], \"order_status\": \"Pending\"}</td></tr><tr><td>50</td><td>{\"order_id\": 50, \"customer_id\": 3712, \"order_date\": \"2025-01-11\", \"transaction_timestamp\": \"2025-01-11 01:19:09\", \"total_amount\": 746, \"payment_method\": \"Credit Card\", \"items\": [{\"item_id\": 6, \"name\": \"Bluetooth Speaker\", \"category\": \"Electronics\", \"price\": 149, \"quantity\": 3, \"details\": {\"brand\": \"Apple\", \"color\": \"Gray\"}}, {\"item_id\": 4, \"name\": \"Smartwatch\", \"category\": \"Electronics\", \"price\": 299, \"quantity\": 1, \"details\": {\"brand\": \"Sony\", \"color\": \"White\"}}], \"order_status\": \"Shipped\"}</td></tr><tr><td>51</td><td>{\"order_id\": 51, \"customer_id\": 8845, \"order_date\": \"2025-01-21\", \"transaction_timestamp\": \"2025-01-21 13:19:59\", \"total_amount\": 149, \"payment_method\": \"PayPal\", \"items\": [{\"item_id\": 6, \"name\": \"Bluetooth Speaker\", \"category\": \"Electronics\", \"price\": 149, \"quantity\": 1, \"details\": {\"brand\": \"Samsung\", \"color\": \"Gray\"}}], \"order_status\": \"Completed\"}</td></tr><tr><td>53</td><td>{\"order_id\": 53, \"customer_id\": 8845, \"order_date\": \"2025-01-21\", \"transaction_timestamp\": \"2025-01-21 08:31:02\", \"total_amount\": 199, \"payment_method\": \"Bank Transfer\", \"items\": [{\"item_id\": 3, \"name\": \"Wireless Headphones\", \"category\": \"Electronics\", \"price\": 199, \"quantity\": 1, \"details\": {\"brand\": \"Apple\", \"color\": \"Black\"}}], \"order_status\": \"Pending\"}</td></tr><tr><td>56</td><td>{\"order_id\": 56, \"customer_id\": 8580, \"order_date\": \"2025-01-01\", \"transaction_timestamp\": \"2025-01-01 12:02:41\", \"total_amount\": 698, \"payment_method\": \"PayPal\", \"items\": [{\"item_id\": 3, \"name\": \"Wireless Headphones\", \"category\": \"Electronics\", \"price\": 199, \"quantity\": 1, \"details\": {\"brand\": \"HP\", \"color\": \"Silver\"}}, {\"item_id\": 8, \"name\": \"Gaming Console\", \"category\": \"Electronics\", \"price\": 499, \"quantity\": 1, \"details\": {\"brand\": \"LG\", \"color\": \"Gray\"}}], \"order_status\": \"Cancelled\"}</td></tr><tr><td>62</td><td>{\"order_id\": 62, \"customer_id\": 7123, \"order_date\": \"2025-01-24\", \"transaction_timestamp\": \"2025-01-24 12:00:54\", \"total_amount\": 985, \"payment_method\": \"Bank Transfer\", \"items\": [{\"item_id\": 7, \"name\": \"External Hard Drive\", \"category\": \"Electronics\", \"price\": 129, \"quantity\": 3, \"details\": {\"brand\": \"Dell\", \"color\": \"White\"}}, {\"item_id\": 4, \"name\": \"Smartwatch\", \"category\": \"Electronics\", \"price\": 299, \"quantity\": 2, \"details\": {\"brand\": \"GoPro\", \"color\": \"Blue\"}}], \"order_status\": \"Completed\"}</td></tr><tr><td>66</td><td>{\"order_id\": 66, \"customer_id\": 3084, \"order_date\": \"2025-01-17\", \"transaction_timestamp\": \"2025-01-17 21:16:11\", \"total_amount\": 598, \"payment_method\": \"Credit Card\", \"items\": [{\"item_id\": 4, \"name\": \"Smartwatch\", \"category\": \"Electronics\", \"price\": 299, \"quantity\": 1, \"details\": {\"brand\": \"Bose\", \"color\": \"Silver\"}}, {\"item_id\": 4, \"name\": \"Smartwatch\", \"category\": \"Electronics\", \"price\": 299, \"quantity\": 1, \"details\": {\"brand\": \"GoPro\", \"color\": \"White\"}}], \"order_status\": \"Cancelled\"}</td></tr><tr><td>68</td><td>{\"order_id\": 68, \"customer_id\": 4973, \"order_date\": \"2025-01-10\", \"transaction_timestamp\": \"2025-01-10 20:35:43\", \"total_amount\": 149, \"payment_method\": \"Bank Transfer\", \"items\": [{\"item_id\": 6, \"name\": \"Bluetooth Speaker\", \"category\": \"Electronics\", \"price\": 149, \"quantity\": 1, \"details\": {\"brand\": \"Bose\", \"color\": \"Gray\"}}], \"order_status\": \"Completed\"}</td></tr><tr><td>73</td><td>{\"order_id\": 73, \"customer_id\": 6167, \"order_date\": \"2025-01-07\", \"transaction_timestamp\": \"2025-01-07 01:02:26\", \"total_amount\": 387, \"payment_method\": \"Credit Card\", \"items\": [{\"item_id\": 7, \"name\": \"External Hard Drive\", \"category\": \"Electronics\", \"price\": 129, \"quantity\": 3, \"details\": {\"brand\": \"GoPro\", \"color\": \"Gray\"}}, {\"item_id\": 7, \"name\": \"External Hard Drive\", \"category\": \"Electronics\", \"price\": 129, \"quantity\": 3, \"details\": {\"brand\": \"GoPro\", \"color\": \"Gray\"}}], \"order_status\": \"Shipped\"}</td></tr><tr><td>75</td><td>{\"order_id\": 75, \"customer_id\": 6167, \"order_date\": \"2025-01-19\", \"transaction_timestamp\": \"2025-01-19 16:23:16\", \"total_amount\": 699, \"payment_method\": \"Credit Card\", \"items\": [{\"item_id\": 1, \"name\": \"Smartphone\", \"category\": \"Electronics\", \"price\": 699, \"quantity\": 1, \"details\": {\"brand\": \"GoPro\", \"color\": \"White\"}}], \"order_status\": \"Shipped\"}</td></tr><tr><td>76</td><td>{\"order_id\": 76, \"customer_id\": 3295, \"order_date\": \"2025-01-06\", \"transaction_timestamp\": \"2025-01-06 02:54:39\", \"total_amount\": 399, \"payment_method\": \"Bank Transfer\", \"items\": [{\"item_id\": 5, \"name\": \"Tablet\", \"category\": \"Electronics\", \"price\": 399, \"quantity\": 1, \"details\": {\"brand\": \"Microsoft\", \"color\": \"Silver\"}}], \"order_status\": \"Completed\"}</td></tr><tr><td>78</td><td>{\"order_id\": 78, \"customer_id\": 9084, \"order_date\": \"2025-01-21\", \"transaction_timestamp\": \"2025-01-21 11:42:51\", \"total_amount\": 798, \"payment_method\": \"PayPal\", \"items\": [{\"item_id\": 5, \"name\": \"Tablet\", \"category\": \"Electronics\", \"price\": 399, \"quantity\": 2, \"details\": {\"brand\": \"Dell\", \"color\": \"White\"}}], \"order_status\": \"Cancelled\"}</td></tr><tr><td>79</td><td>{\"order_id\": 79, \"customer_id\": 9084, \"order_date\": \"2025-01-25\", \"transaction_timestamp\": \"2025-01-25 03:52:05\", \"total_amount\": 998, \"payment_method\": \"Credit Card\", \"items\": [{\"item_id\": 8, \"name\": \"Gaming Console\", \"category\": \"Electronics\", \"price\": 499, \"quantity\": 2, \"details\": {\"brand\": \"Dell\", \"color\": \"Gray\"}}], \"order_status\": \"Cancelled\"}</td></tr><tr><td>83</td><td>{\"order_id\": 83, \"customer_id\": 2344, \"order_date\": \"2025-01-07\", \"transaction_timestamp\": \"2025-01-07 12:48:05\", \"total_amount\": 785, \"payment_method\": \"PayPal\", \"items\": [{\"item_id\": 7, \"name\": \"External Hard Drive\", \"category\": \"Electronics\", \"price\": 129, \"quantity\": 3, \"details\": {\"brand\": \"Canon\", \"color\": \"Gray\"}}, {\"item_id\": 3, \"name\": \"Wireless Headphones\", \"category\": \"Electronics\", \"price\": 199, \"quantity\": 2, \"details\": {\"brand\": \"Sony\", \"color\": \"Black\"}}], \"order_status\": \"Shipped\"}</td></tr><tr><td>87</td><td>{\"order_id\": 87, \"customer_id\": 2141, \"order_date\": \"2025-01-02\", \"transaction_timestamp\": \"2025-01-02 04:28:38\", \"total_amount\": 129, \"payment_method\": \"PayPal\", \"items\": [{\"item_id\": 7, \"name\": \"External Hard Drive\", \"category\": \"Electronics\", \"price\": 129, \"quantity\": 1, \"details\": {\"brand\": \"Apple\", \"color\": \"Blue\"}}], \"order_status\": \"Pending\"}</td></tr><tr><td>90</td><td>{\"order_id\": 90, \"customer_id\": 9247, \"order_date\": \"2025-01-17\", \"transaction_timestamp\": \"2025-01-17 14:30:54\", \"total_amount\": 258, \"payment_method\": \"Credit Card\", \"items\": [{\"item_id\": 7, \"name\": \"External Hard Drive\", \"category\": \"Electronics\", \"price\": 129, \"quantity\": 1, \"details\": {\"brand\": \"Canon\", \"color\": \"White\"}}, {\"item_id\": 7, \"name\": \"External Hard Drive\", \"category\": \"Electronics\", \"price\": 129, \"quantity\": 1, \"details\": {\"brand\": \"Samsung\", \"color\": \"Black\"}}], \"order_status\": \"Pending\"}</td></tr><tr><td>94</td><td>{\"order_id\": 94, \"customer_id\": 6627, \"order_date\": \"2025-01-10\", \"transaction_timestamp\": \"2025-01-10 09:51:48\", \"total_amount\": 895, \"payment_method\": \"Credit Card\", \"items\": [{\"item_id\": 6, \"name\": \"Bluetooth Speaker\", \"category\": \"Electronics\", \"price\": 149, \"quantity\": 2, \"details\": {\"brand\": \"Sony\", \"color\": \"Black\"}}, {\"item_id\": 3, \"name\": \"Wireless Headphones\", \"category\": \"Electronics\", \"price\": 199, \"quantity\": 3, \"details\": {\"brand\": \"Apple\", \"color\": \"Blue\"}}], \"order_status\": \"Pending\"}</td></tr><tr><td>98</td><td>{\"order_id\": 98, \"customer_id\": 9150, \"order_date\": \"2025-01-08\", \"transaction_timestamp\": \"2025-01-08 05:57:55\", \"total_amount\": 985, \"payment_method\": \"Credit Card\", \"items\": [{\"item_id\": 7, \"name\": \"External Hard Drive\", \"category\": \"Electronics\", \"price\": 129, \"quantity\": 3, \"details\": {\"brand\": \"HP\", \"color\": \"Blue\"}}, {\"item_id\": 4, \"name\": \"Smartwatch\", \"category\": \"Electronics\", \"price\": 299, \"quantity\": 2, \"details\": {\"brand\": \"Samsung\", \"color\": \"Gray\"}}], \"order_status\": \"Completed\"}</td></tr><tr><td>99</td><td>{\"order_id\": 99, \"customer_id\": 9150, \"order_date\": \"2025-01-10\", \"transaction_timestamp\": \"2025-01-10 21:43:46\", \"total_amount\": 699, \"payment_method\": \"Credit Card\", \"items\": [{\"item_id\": 1, \"name\": \"Smartphone\", \"category\": \"Electronics\", \"price\": 699, \"quantity\": 1, \"details\": {\"brand\": \"Bose\", \"color\": \"Gray\"}}], \"order_status\": \"Shipped\"}</td></tr><tr><td>100</td><td>{\"order_id\": 100, \"customer_id\": 9150, \"order_date\": \"2025-01-04\", \"transaction_timestamp\": \"2025-01-04 06:40:13\", \"total_amount\": 447, \"payment_method\": \"PayPal\", \"items\": [{\"item_id\": 6, \"name\": \"Bluetooth Speaker\", \"category\": \"Electronics\", \"price\": 149, \"quantity\": 3, \"details\": {\"brand\": \"LG\", \"color\": \"Silver\"}}], \"order_status\": \"Shipped\"}</td></tr><tr><td>12</td><td>{\"order_id\": 12, \"customer_id\": 5816, \"order_date\": \"2024-12-06\", \"transaction_timestamp\": \"2024-12-06 20:26:49\", \"total_amount\": 999, \"payment_method\": \"PayPal\", \"items\": [{\"item_id\": 2, \"name\": \"Laptop\", \"category\": \"Electronics\", \"price\": 999, \"quantity\": 1, \"details\": {\"brand\": \"Sony\", \"color\": \"White\"}}], \"order_status\": \"Cancelled\"}</td></tr><tr><td>13</td><td>{\"order_id\": 13, \"customer_id\": 4858, \"order_date\": \"2024-12-17\", \"transaction_timestamp\": \"2024-12-17 03:41:37\", \"total_amount\": 999, \"payment_method\": \"PayPal\", \"items\": [{\"item_id\": 2, \"name\": \"Laptop\", \"category\": \"Electronics\", \"price\": 999, \"quantity\": 1, \"details\": {\"brand\": \"GoPro\", \"color\": \"Black\"}}], \"order_status\": \"Pending\"}</td></tr><tr><td>16</td><td>{\"order_id\": 16, \"customer_id\": 5204, \"order_date\": \"2024-12-08\", \"transaction_timestamp\": \"2024-12-08 22:59:48\", \"total_amount\": 597, \"payment_method\": \"Bank Transfer\", \"items\": [{\"item_id\": 3, \"name\": \"Wireless Headphones\", \"category\": \"Electronics\", \"price\": 199, \"quantity\": 3, \"details\": {\"brand\": \"Sony\", \"color\": \"Silver\"}}], \"order_status\": \"Pending\"}</td></tr><tr><td>17</td><td>{\"order_id\": 17, \"customer_id\": 5204, \"order_date\": \"2024-12-02\", \"transaction_timestamp\": \"2024-12-02 12:00:50\", \"total_amount\": 998, \"payment_method\": \"Bank Transfer\", \"items\": [{\"item_id\": 8, \"name\": \"Gaming Console\", \"category\": \"Electronics\", \"price\": 499, \"quantity\": 2, \"details\": {\"brand\": \"Dell\", \"color\": \"Black\"}}], \"order_status\": \"Pending\"}</td></tr><tr><td>24</td><td>{\"order_id\": 24, \"customer_id\": 1211, \"order_date\": \"2024-12-21\", \"transaction_timestamp\": \"2024-12-21 03:24:26\", \"total_amount\": 1199, \"payment_method\": \"PayPal\", \"items\": [{\"item_id\": 9, \"name\": \"Smart TV\", \"category\": \"Electronics\", \"price\": 1199, \"quantity\": 1, \"details\": {\"brand\": \"GoPro\", \"color\": \"Gray\"}}], \"order_status\": \"Completed\"}</td></tr><tr><td>27</td><td>{\"order_id\": 27, \"customer_id\": 2703, \"order_date\": \"2024-12-02\", \"transaction_timestamp\": \"2024-12-02 11:24:21\", \"total_amount\": 904, \"payment_method\": \"Credit Card\", \"items\": [{\"item_id\": 7, \"name\": \"External Hard Drive\", \"category\": \"Electronics\", \"price\": 129, \"quantity\": 2, \"details\": {\"brand\": \"Dell\", \"color\": \"White\"}}, {\"item_id\": 6, \"name\": \"Bluetooth Speaker\", \"category\": \"Electronics\", \"price\": 149, \"quantity\": 3, \"details\": {\"brand\": \"Canon\", \"color\": \"Black\"}}, {\"item_id\": 3, \"name\": \"Wireless Headphones\", \"category\": \"Electronics\", \"price\": 199, \"quantity\": 1, \"details\": {\"brand\": \"Microsoft\", \"color\": \"Silver\"}}], \"order_status\": \"Completed\"}</td></tr><tr><td>28</td><td>{\"order_id\": 28, \"customer_id\": 2703, \"order_date\": \"2024-12-26\", \"transaction_timestamp\": \"2024-12-26 03:17:50\", \"total_amount\": 129, \"payment_method\": \"Credit Card\", \"items\": [{\"item_id\": 7, \"name\": \"External Hard Drive\", \"category\": \"Electronics\", \"price\": 129, \"quantity\": 1, \"details\": {\"brand\": \"GoPro\", \"color\": \"Blue\"}}], \"order_status\": \"Cancelled\"}</td></tr><tr><td>32</td><td>{\"order_id\": 32, \"customer_id\": 4996, \"order_date\": \"2024-12-28\", \"transaction_timestamp\": \"2024-12-28 08:55:57\", \"total_amount\": 399, \"payment_method\": \"PayPal\", \"items\": [{\"item_id\": 5, \"name\": \"Tablet\", \"category\": \"Electronics\", \"price\": 399, \"quantity\": 1, \"details\": {\"brand\": \"Apple\", \"color\": \"Silver\"}}], \"order_status\": \"Pending\"}</td></tr><tr><td>37</td><td>{\"order_id\": 37, \"customer_id\": 7829, \"order_date\": \"2024-12-22\", \"transaction_timestamp\": \"2024-12-22 10:11:49\", \"total_amount\": 258, \"payment_method\": \"Credit Card\", \"items\": [{\"item_id\": 7, \"name\": \"External Hard Drive\", \"category\": \"Electronics\", \"price\": 129, \"quantity\": 2, \"details\": {\"brand\": \"HP\", \"color\": \"Silver\"}}], \"order_status\": \"Shipped\"}</td></tr><tr><td>38</td><td>{\"order_id\": 38, \"customer_id\": 7829, \"order_date\": \"2024-12-25\", \"transaction_timestamp\": \"2024-12-25 22:05:19\", \"total_amount\": 447, \"payment_method\": \"Credit Card\", \"items\": [{\"item_id\": 6, \"name\": \"Bluetooth Speaker\", \"category\": \"Electronics\", \"price\": 149, \"quantity\": 3, \"details\": {\"brand\": \"Apple\", \"color\": \"Gray\"}}], \"order_status\": \"Shipped\"}</td></tr><tr><td>44</td><td>{\"order_id\": 44, \"customer_id\": 7295, \"order_date\": \"2024-12-20\", \"transaction_timestamp\": \"2024-12-20 08:05:43\", \"total_amount\": 129, \"payment_method\": \"Credit Card\", \"items\": [{\"item_id\": 7, \"name\": \"External Hard Drive\", \"category\": \"Electronics\", \"price\": 129, \"quantity\": 1, \"details\": {\"brand\": \"Bose\", \"color\": \"Blue\"}}], \"order_status\": \"Completed\"}</td></tr><tr><td>49</td><td>{\"order_id\": 49, \"customer_id\": 7803, \"order_date\": \"2024-12-07\", \"transaction_timestamp\": \"2024-12-07 23:24:11\", \"total_amount\": 747, \"payment_method\": \"PayPal\", \"items\": [{\"item_id\": 4, \"name\": \"Smartwatch\", \"category\": \"Electronics\", \"price\": 299, \"quantity\": 1, \"details\": {\"brand\": \"HP\", \"color\": \"White\"}}, {\"item_id\": 4, \"name\": \"Smartwatch\", \"category\": \"Electronics\", \"price\": 299, \"quantity\": 1, \"details\": {\"brand\": \"Canon\", \"color\": \"Blue\"}}, {\"item_id\": 6, \"name\": \"Bluetooth Speaker\", \"category\": \"Electronics\", \"price\": 149, \"quantity\": 1, \"details\": {\"brand\": \"Samsung\", \"color\": \"White\"}}], \"order_status\": \"Cancelled\"}</td></tr><tr><td>54</td><td>{\"order_id\": 54, \"customer_id\": 2054, \"order_date\": \"2024-12-20\", \"transaction_timestamp\": \"2024-12-20 12:04:27\", \"total_amount\": 398, \"payment_method\": \"Credit Card\", \"items\": [{\"item_id\": 3, \"name\": \"Wireless Headphones\", \"category\": \"Electronics\", \"price\": 199, \"quantity\": 2, \"details\": {\"brand\": \"Bose\", \"color\": \"Gray\"}}], \"order_status\": \"Pending\"}</td></tr><tr><td>58</td><td>{\"order_id\": 58, \"customer_id\": 8580, \"order_date\": \"2024-12-09\", \"transaction_timestamp\": \"2024-12-09 22:40:58\", \"total_amount\": 699, \"payment_method\": \"PayPal\", \"items\": [{\"item_id\": 1, \"name\": \"Smartphone\", \"category\": \"Electronics\", \"price\": 699, \"quantity\": 1, \"details\": {\"brand\": \"Microsoft\", \"color\": \"Gray\"}}], \"order_status\": \"Completed\"}</td></tr><tr><td>60</td><td>{\"order_id\": 60, \"customer_id\": 3409, \"order_date\": \"2024-12-13\", \"transaction_timestamp\": \"2024-12-13 13:10:12\", \"total_amount\": 199, \"payment_method\": \"Bank Transfer\", \"items\": [{\"item_id\": 3, \"name\": \"Wireless Headphones\", \"category\": \"Electronics\", \"price\": 199, \"quantity\": 1, \"details\": {\"brand\": \"Samsung\", \"color\": \"Blue\"}}], \"order_status\": \"Shipped\"}</td></tr><tr><td>61</td><td>{\"order_id\": 61, \"customer_id\": 7123, \"order_date\": \"2024-12-07\", \"transaction_timestamp\": \"2024-12-07 07:47:19\", \"total_amount\": 699, \"payment_method\": \"Bank Transfer\", \"items\": [{\"item_id\": 1, \"name\": \"Smartphone\", \"category\": \"Electronics\", \"price\": 699, \"quantity\": 1, \"details\": {\"brand\": \"Canon\", \"color\": \"Black\"}}], \"order_status\": \"Completed\"}</td></tr><tr><td>65</td><td>{\"order_id\": 65, \"customer_id\": 3084, \"order_date\": \"2024-12-09\", \"transaction_timestamp\": \"2024-12-09 13:04:13\", \"total_amount\": 399, \"payment_method\": \"Bank Transfer\", \"items\": [{\"item_id\": 5, \"name\": \"Tablet\", \"category\": \"Electronics\", \"price\": 399, \"quantity\": 1, \"details\": {\"brand\": \"Microsoft\", \"color\": \"Gray\"}}], \"order_status\": \"Cancelled\"}</td></tr><tr><td>67</td><td>{\"order_id\": 67, \"customer_id\": 3084, \"order_date\": \"2024-12-19\", \"transaction_timestamp\": \"2024-12-19 07:11:09\", \"total_amount\": 897, \"payment_method\": \"PayPal\", \"items\": [{\"item_id\": 4, \"name\": \"Smartwatch\", \"category\": \"Electronics\", \"price\": 299, \"quantity\": 3, \"details\": {\"brand\": \"LG\", \"color\": \"Blue\"}}], \"order_status\": \"Shipped\"}</td></tr><tr><td>69</td><td>{\"order_id\": 69, \"customer_id\": 4973, \"order_date\": \"2024-12-30\", \"transaction_timestamp\": \"2024-12-30 02:42:01\", \"total_amount\": 699, \"payment_method\": \"Bank Transfer\", \"items\": [{\"item_id\": 1, \"name\": \"Smartphone\", \"category\": \"Electronics\", \"price\": 699, \"quantity\": 1, \"details\": {\"brand\": \"Dell\", \"color\": \"Gray\"}}], \"order_status\": \"Completed\"}</td></tr><tr><td>70</td><td>{\"order_id\": 70, \"customer_id\": 7997, \"order_date\": \"2024-12-04\", \"transaction_timestamp\": \"2024-12-04 17:17:24\", \"total_amount\": 897, \"payment_method\": \"PayPal\", \"items\": [{\"item_id\": 4, \"name\": \"Smartwatch\", \"category\": \"Electronics\", \"price\": 299, \"quantity\": 3, \"details\": {\"brand\": \"Sony\", \"color\": \"Black\"}}], \"order_status\": \"Shipped\"}</td></tr><tr><td>null</td><td>{\"order_id\": 71, \"customer_id\": 7997, \"order_date\": 2024-12-27, \"transaction_timestamp\": \"2024-12-27 11:16:39\", \"total_amount\": 199, \"payment_method\": \"Bank Transfer\", \"items\": [{\"item_id\": 3, \"name\": \"Wireless Headphones\", \"category\": \"Electronics\", \"price\": 199, \"quantity\": 1, \"details\": {\"brand\": \"Microsoft\", \"color\": \"Black\"}}], \"order_status\": \"Completed\"}</td></tr><tr><td>74</td><td>{\"order_id\": 74, \"customer_id\": 6167, \"order_date\": \"2024-12-22\", \"transaction_timestamp\": \"2024-12-22 15:54:11\", \"total_amount\": 699, \"payment_method\": \"PayPal\", \"items\": [{\"item_id\": 1, \"name\": \"Smartphone\", \"category\": \"Electronics\", \"price\": 699, \"quantity\": 1, \"details\": {\"brand\": \"Samsung\", \"color\": \"Blue\"}}], \"order_status\": \"Pending\"}</td></tr><tr><td>80</td><td>{\"order_id\": 80, \"customer_id\": 9687, \"order_date\": \"2024-12-11\", \"transaction_timestamp\": \"2024-12-11 07:43:54\", \"total_amount\": 998, \"payment_method\": \"Bank Transfer\", \"items\": [{\"item_id\": 8, \"name\": \"Gaming Console\", \"category\": \"Electronics\", \"price\": 499, \"quantity\": 2, \"details\": {\"brand\": \"Samsung\", \"color\": \"White\"}}], \"order_status\": \"Cancelled\"}</td></tr><tr><td>81</td><td>{\"order_id\": 81, \"customer_id\": 9687, \"order_date\": \"2024-12-27\", \"transaction_timestamp\": \"2024-12-27 02:27:45\", \"total_amount\": 699, \"payment_method\": \"PayPal\", \"items\": [{\"item_id\": 1, \"name\": \"Smartphone\", \"category\": \"Electronics\", \"price\": 699, \"quantity\": 1, \"details\": {\"brand\": \"GoPro\", \"color\": \"Blue\"}}], \"order_status\": \"Completed\"}</td></tr><tr><td>82</td><td>{\"order_id\": 82, \"customer_id\": 2344, \"order_date\": \"2024-12-28\", \"transaction_timestamp\": \"2024-12-28 00:54:08\", \"total_amount\": 387, \"payment_method\": \"PayPal\", \"items\": [{\"item_id\": 7, \"name\": \"External Hard Drive\", \"category\": \"Electronics\", \"price\": 129, \"quantity\": 3, \"details\": {\"brand\": \"Sony\", \"color\": \"Blue\"}}], \"order_status\": \"Completed\"}</td></tr><tr><td>91</td><td>{\"order_id\": 91, \"customer_id\": 5592, \"order_date\": \"2024-12-17\", \"transaction_timestamp\": \"2024-12-17 00:09:53\", \"total_amount\": 699, \"payment_method\": \"Bank Transfer\", \"items\": [{\"item_id\": 1, \"name\": \"Smartphone\", \"category\": \"Electronics\", \"price\": 699, \"quantity\": 1, \"details\": {\"brand\": \"Canon\", \"color\": \"Silver\"}}], \"order_status\": \"Cancelled\"}</td></tr><tr><td>93</td><td>{\"order_id\": 93, \"customer_id\": 6627, \"order_date\": \"2024-12-22\", \"transaction_timestamp\": \"2024-12-22 05:07:46\", \"total_amount\": 598, \"payment_method\": \"PayPal\", \"items\": [{\"item_id\": 4, \"name\": \"Smartwatch\", \"category\": \"Electronics\", \"price\": 299, \"quantity\": 2, \"details\": {\"brand\": \"LG\", \"color\": \"Silver\"}}], \"order_status\": \"Pending\"}</td></tr><tr><td>95</td><td>{\"order_id\": 95, \"customer_id\": 6627, \"order_date\": \"2024-12-28\", \"transaction_timestamp\": \"2024-12-28 04:28:30\", \"total_amount\": 946, \"payment_method\": \"Bank Transfer\", \"items\": [{\"item_id\": 4, \"name\": \"Smartwatch\", \"category\": \"Electronics\", \"price\": 299, \"quantity\": 2, \"details\": {\"brand\": \"GoPro\", \"color\": \"White\"}}, {\"item_id\": 3, \"name\": \"Wireless Headphones\", \"category\": \"Electronics\", \"price\": 199, \"quantity\": 1, \"details\": {\"brand\": \"Bose\", \"color\": \"Gray\"}}, {\"item_id\": 6, \"name\": \"Bluetooth Speaker\", \"category\": \"Electronics\", \"price\": 149, \"quantity\": 1, \"details\": {\"brand\": \"Dell\", \"color\": \"Silver\"}}], \"order_status\": \"Completed\"}</td></tr><tr><td>96</td><td>{\"order_id\": 96, \"customer_id\": 6406, \"order_date\": \"2024-12-02\", \"transaction_timestamp\": \"2024-12-02 12:27:45\", \"total_amount\": 149, \"payment_method\": \"PayPal\", \"items\": [{\"item_id\": 6, \"name\": \"Bluetooth Speaker\", \"category\": \"Electronics\", \"price\": 149, \"quantity\": 1, \"details\": {\"brand\": \"Microsoft\", \"color\": \"Black\"}}], \"order_status\": \"Shipped\"}</td></tr><tr><td>97</td><td>{\"order_id\": 97, \"customer_id\": 6406, \"order_date\": \"2024-12-07\", \"transaction_timestamp\": \"2024-12-07 16:14:34\", \"total_amount\": 499, \"payment_method\": \"Bank Transfer\", \"items\": [{\"item_id\": 8, \"name\": \"Gaming Console\", \"category\": \"Electronics\", \"price\": 499, \"quantity\": 1, \"details\": {\"brand\": \"Sony\", \"color\": \"Silver\"}}], \"order_status\": \"Completed\"}</td></tr><tr><td>5</td><td>{\"order_id\": 5, \"customer_id\": 3892, \"order_date\": \"2024-11-16\", \"transaction_timestamp\": \"2024-11-16 23:07:31\", \"total_amount\": 998, \"payment_method\": \"Bank Transfer\", \"items\": [{\"item_id\": 8, \"name\": \"Gaming Console\", \"category\": \"Electronics\", \"price\": 499, \"quantity\": 2, \"details\": {\"brand\": \"Dell\", \"color\": \"Blue\"}}], \"order_status\": \"Cancelled\"}</td></tr><tr><td>7</td><td>{\"order_id\": 7, \"customer_id\": 1987, \"order_date\": \"2024-11-19\", \"transaction_timestamp\": \"2024-11-19 19:18:48\", \"total_amount\": 645, \"payment_method\": \"Credit Card\", \"items\": [{\"item_id\": 7, \"name\": \"External Hard Drive\", \"category\": \"Electronics\", \"price\": 129, \"quantity\": 2, \"details\": {\"brand\": \"LG\", \"color\": \"Blue\"}}, {\"item_id\": 7, \"name\": \"External Hard Drive\", \"category\": \"Electronics\", \"price\": 129, \"quantity\": 3, \"details\": {\"brand\": \"HP\", \"color\": \"Gray\"}}], \"order_status\": \"Pending\"}</td></tr><tr><td>9</td><td>{\"order_id\": 9, \"customer_id\": 9179, \"order_date\": \"2024-11-27\", \"transaction_timestamp\": \"2024-11-27 13:15:29\", \"total_amount\": 999, \"payment_method\": \"Bank Transfer\", \"items\": [{\"item_id\": 2, \"name\": \"Laptop\", \"category\": \"Electronics\", \"price\": 999, \"quantity\": 1, \"details\": {\"brand\": \"Apple\", \"color\": \"Black\"}}], \"order_status\": \"Shipped\"}</td></tr><tr><td>20</td><td>{\"order_id\": 20, \"customer_id\": 8539, \"order_date\": \"2024-11-18\", \"transaction_timestamp\": \"2024-11-18 02:38:21\", \"total_amount\": 798, \"payment_method\": \"PayPal\", \"items\": [{\"item_id\": 5, \"name\": \"Tablet\", \"category\": \"Electronics\", \"price\": 399, \"quantity\": 2, \"details\": {\"brand\": \"Sony\", \"color\": \"Silver\"}}], \"order_status\": \"Pending\"}</td></tr><tr><td>21</td><td>{\"order_id\": 21, \"customer_id\": 8539, \"order_date\": \"2024-11-21\", \"transaction_timestamp\": \"2024-11-21 11:25:35\", \"total_amount\": 298, \"payment_method\": \"Bank Transfer\", \"items\": [{\"item_id\": 6, \"name\": \"Bluetooth Speaker\", \"category\": \"Electronics\", \"price\": 149, \"quantity\": 2, \"details\": {\"brand\": \"GoPro\", \"color\": \"Blue\"}}], \"order_status\": \"Cancelled\"}</td></tr><tr><td>23</td><td>{\"order_id\": 23, \"customer_id\": 4761, \"order_date\": \"2024-11-22\", \"transaction_timestamp\": \"2024-11-22 16:04:05\", \"total_amount\": 997, \"payment_method\": \"PayPal\", \"items\": [{\"item_id\": 5, \"name\": \"Tablet\", \"category\": \"Electronics\", \"price\": 399, \"quantity\": 1, \"details\": {\"brand\": \"Apple\", \"color\": \"Gray\"}}, {\"item_id\": 4, \"name\": \"Smartwatch\", \"category\": \"Electronics\", \"price\": 299, \"quantity\": 2, \"details\": {\"brand\": \"Dell\", \"color\": \"Gray\"}}], \"order_status\": \"Shipped\"}</td></tr><tr><td>25</td><td>{\"order_id\": 25, \"customer_id\": 9706, \"order_date\": \"2024-11-05\", \"transaction_timestamp\": \"2024-11-05 11:45:31\", \"total_amount\": 999, \"payment_method\": \"PayPal\", \"items\": [{\"item_id\": 2, \"name\": \"Laptop\", \"category\": \"Electronics\", \"price\": 999, \"quantity\": 1, \"details\": {\"brand\": \"LG\", \"color\": \"Gray\"}}], \"order_status\": \"Completed\"}</td></tr><tr><td>30</td><td>{\"order_id\": 30, \"customer_id\": 4996, \"order_date\": \"2024-11-12\", \"transaction_timestamp\": \"2024-11-12 03:20:29\", \"total_amount\": 199, \"payment_method\": \"Bank Transfer\", \"items\": [{\"item_id\": 3, \"name\": \"Wireless Headphones\", \"category\": \"Electronics\", \"price\": 199, \"quantity\": 1, \"details\": {\"brand\": \"GoPro\", \"color\": \"White\"}}], \"order_status\": \"Shipped\"}</td></tr><tr><td>35</td><td>{\"order_id\": 35, \"customer_id\": 4914, \"order_date\": \"2024-11-20\", \"transaction_timestamp\": \"2024-11-20 19:09:04\", \"total_amount\": 199, \"payment_method\": \"Bank Transfer\", \"items\": [{\"item_id\": 3, \"name\": \"Wireless Headphones\", \"category\": \"Electronics\", \"price\": 199, \"quantity\": 1, \"details\": {\"brand\": \"Dell\", \"color\": \"Gray\"}}], \"order_status\": \"Shipped\"}</td></tr><tr><td>36</td><td>{\"order_id\": 36, \"customer_id\": 4914, \"order_date\": \"2024-11-02\", \"transaction_timestamp\": \"2024-11-02 10:39:46\", \"total_amount\": 199, \"payment_method\": \"PayPal\", \"items\": [{\"item_id\": 3, \"name\": \"Wireless Headphones\", \"category\": \"Electronics\", \"price\": 199, \"quantity\": 1, \"details\": {\"brand\": \"Canon\", \"color\": \"Silver\"}}], \"order_status\": \"Completed\"}</td></tr><tr><td>null</td><td>{\"order_id\": 42, \"customer_id\": 5028, \"order_date\": 2024-11-08, \"transaction_timestamp\": \"2024-11-08 18:32:25\", \"total_amount\": 149, \"payment_method\": \"Credit Card\", \"items\": [{\"item_id\": 6, \"name\": \"Bluetooth Speaker\", \"category\": \"Electronics\", \"price\": 149, \"quantity\": 1, \"details\": {\"brand\": \"Bose\", \"color\": \"Gray\"}}], \"order_status\": \"Completed\"}</td></tr><tr><td>45</td><td>{\"order_id\": 45, \"customer_id\": 7295, \"order_date\": \"2024-11-07\", \"transaction_timestamp\": \"2024-11-07 15:41:43\", \"total_amount\": 799, \"payment_method\": \"Credit Card\", \"items\": [{\"item_id\": 10, \"name\": \"Drone\", \"category\": \"Electronics\", \"price\": 799, \"quantity\": 1, \"details\": {\"brand\": \"Dell\", \"color\": \"White\"}}], \"order_status\": \"Shipped\"}</td></tr><tr><td>46</td><td>{\"order_id\": 46, \"customer_id\": 7295, \"order_date\": \"2024-11-26\", \"transaction_timestamp\": \"2024-11-26 17:16:53\", \"total_amount\": 199, \"payment_method\": \"PayPal\", \"items\": [{\"item_id\": 3, \"name\": \"Wireless Headphones\", \"category\": \"Electronics\", \"price\": 199, \"quantity\": 1, \"details\": {\"brand\": \"Samsung\", \"color\": \"Black\"}}], \"order_status\": \"Pending\"}</td></tr><tr><td>47</td><td>{\"order_id\": 47, \"customer_id\": 7803, \"order_date\": \"2024-11-22\", \"transaction_timestamp\": \"2024-11-22 02:01:19\", \"total_amount\": 298, \"payment_method\": \"Credit Card\", \"items\": [{\"item_id\": 6, \"name\": \"Bluetooth Speaker\", \"category\": \"Electronics\", \"price\": 149, \"quantity\": 2, \"details\": {\"brand\": \"LG\", \"color\": \"Blue\"}}], \"order_status\": \"Shipped\"}</td></tr><tr><td>48</td><td>{\"order_id\": 48, \"customer_id\": 7803, \"order_date\": \"2024-11-13\", \"transaction_timestamp\": \"2024-11-13 06:35:56\", \"total_amount\": 387, \"payment_method\": \"PayPal\", \"items\": [{\"item_id\": 7, \"name\": \"External Hard Drive\", \"category\": \"Electronics\", \"price\": 129, \"quantity\": 3, \"details\": {\"brand\": \"Apple\", \"color\": \"Black\"}}], \"order_status\": \"Completed\"}</td></tr><tr><td>52</td><td>{\"order_id\": 52, \"customer_id\": 8845, \"order_date\": \"2024-11-19\", \"transaction_timestamp\": \"2024-11-19 21:23:45\", \"total_amount\": 998, \"payment_method\": \"PayPal\", \"items\": [{\"item_id\": 8, \"name\": \"Gaming Console\", \"category\": \"Electronics\", \"price\": 499, \"quantity\": 2, \"details\": {\"brand\": \"GoPro\", \"color\": \"White\"}}], \"order_status\": \"Completed\"}</td></tr><tr><td>57</td><td>{\"order_id\": 57, \"customer_id\": 8580, \"order_date\": \"2024-11-19\", \"transaction_timestamp\": \"2024-11-19 11:32:44\", \"total_amount\": 586, \"payment_method\": \"Bank Transfer\", \"items\": [{\"item_id\": 3, \"name\": \"Wireless Headphones\", \"category\": \"Electronics\", \"price\": 199, \"quantity\": 1, \"details\": {\"brand\": \"HP\", \"color\": \"Silver\"}}, {\"item_id\": 7, \"name\": \"External Hard Drive\", \"category\": \"Electronics\", \"price\": 129, \"quantity\": 3, \"details\": {\"brand\": \"Sony\", \"color\": \"Silver\"}}], \"order_status\": \"Cancelled\"}</td></tr><tr><td>63</td><td>{\"order_id\": 63, \"customer_id\": 7123, \"order_date\": \"2024-11-24\", \"transaction_timestamp\": \"2024-11-24 08:41:28\", \"total_amount\": 646, \"payment_method\": \"Bank Transfer\", \"items\": [{\"item_id\": 3, \"name\": \"Wireless Headphones\", \"category\": \"Electronics\", \"price\": 199, \"quantity\": 1, \"details\": {\"brand\": \"GoPro\", \"color\": \"Blue\"}}, {\"item_id\": 6, \"name\": \"Bluetooth Speaker\", \"category\": \"Electronics\", \"price\": 149, \"quantity\": 3, \"details\": {\"brand\": \"Bose\", \"color\": \"Silver\"}}], \"order_status\": \"Cancelled\"}</td></tr><tr><td>64</td><td>{\"order_id\": 64, \"customer_id\": 2639, \"order_date\": \"2024-11-28\", \"transaction_timestamp\": \"2024-11-28 12:23:21\", \"total_amount\": 984, \"payment_method\": \"Bank Transfer\", \"items\": [{\"item_id\": 7, \"name\": \"External Hard Drive\", \"category\": \"Electronics\", \"price\": 129, \"quantity\": 3, \"details\": {\"brand\": \"Microsoft\", \"color\": \"White\"}}, {\"item_id\": 3, \"name\": \"Wireless Headphones\", \"category\": \"Electronics\", \"price\": 199, \"quantity\": 3, \"details\": {\"brand\": \"Canon\", \"color\": \"Blue\"}}], \"order_status\": \"Completed\"}</td></tr><tr><td>88</td><td>{\"order_id\": 88, \"customer_id\": 9247, \"order_date\": \"2024-11-15\", \"transaction_timestamp\": \"2024-11-15 11:39:44\", \"total_amount\": 387, \"payment_method\": \"Bank Transfer\", \"items\": [{\"item_id\": 7, \"name\": \"External Hard Drive\", \"category\": \"Electronics\", \"price\": 129, \"quantity\": 3, \"details\": {\"brand\": \"Bose\", \"color\": \"White\"}}], \"order_status\": \"Cancelled\"}</td></tr><tr><td>89</td><td>{\"order_id\": 89, \"customer_id\": 9247, \"order_date\": \"2024-11-22\", \"transaction_timestamp\": \"2024-11-22 12:09:15\", \"total_amount\": 149, \"payment_method\": \"Bank Transfer\", \"items\": [{\"item_id\": 6, \"name\": \"Bluetooth Speaker\", \"category\": \"Electronics\", \"price\": 149, \"quantity\": 1, \"details\": {\"brand\": \"GoPro\", \"color\": \"Silver\"}}], \"order_status\": \"Cancelled\"}</td></tr><tr><td>92</td><td>{\"order_id\": 92, \"customer_id\": 5592, \"order_date\": \"2024-11-24\", \"transaction_timestamp\": \"2024-11-24 23:33:21\", \"total_amount\": 258, \"payment_method\": \"PayPal\", \"items\": [{\"item_id\": 7, \"name\": \"External Hard Drive\", \"category\": \"Electronics\", \"price\": 129, \"quantity\": 2, \"details\": {\"brand\": \"Sony\", \"color\": \"Black\"}}], \"order_status\": \"Shipped\"}</td></tr><tr><td>6</td><td>{\"order_id\": 6, \"customer_id\": 1987, \"order_date\": \"2024-10-28\", \"transaction_timestamp\": \"2024-10-28 04:47:27\", \"total_amount\": 799, \"payment_method\": \"Credit Card\", \"items\": [{\"item_id\": 10, \"name\": \"Drone\", \"category\": \"Electronics\", \"price\": 799, \"quantity\": 1, \"details\": {\"brand\": \"GoPro\", \"color\": \"Black\"}}], \"order_status\": \"Pending\"}</td></tr><tr><td>10</td><td>{\"order_id\": 10, \"customer_id\": 5816, \"order_date\": \"2024-10-07\", \"transaction_timestamp\": \"2024-10-07 22:09:27\", \"total_amount\": 399, \"payment_method\": \"Credit Card\", \"items\": [{\"item_id\": 5, \"name\": \"Tablet\", \"category\": \"Electronics\", \"price\": 399, \"quantity\": 1, \"details\": {\"brand\": \"GoPro\", \"color\": \"White\"}}], \"order_status\": \"Pending\"}</td></tr><tr><td>11</td><td>{\"order_id\": 11, \"customer_id\": 5816, \"order_date\": \"2024-10-13\", \"transaction_timestamp\": \"2024-10-13 17:34:19\", \"total_amount\": 897, \"payment_method\": \"Bank Transfer\", \"items\": [{\"item_id\": 4, \"name\": \"Smartwatch\", \"category\": \"Electronics\", \"price\": 299, \"quantity\": 3, \"details\": {\"brand\": \"Canon\", \"color\": \"White\"}}], \"order_status\": \"Pending\"}</td></tr><tr><td>15</td><td>{\"order_id\": 15, \"customer_id\": 7207, \"order_date\": \"2024-10-20\", \"transaction_timestamp\": \"2024-10-20 01:47:25\", \"total_amount\": 1199, \"payment_method\": \"Bank Transfer\", \"items\": [{\"item_id\": 9, \"name\": \"Smart TV\", \"category\": \"Electronics\", \"price\": 1199, \"quantity\": 1, \"details\": {\"brand\": \"GoPro\", \"color\": \"White\"}}], \"order_status\": \"Completed\"}</td></tr><tr><td>19</td><td>{\"order_id\": 19, \"customer_id\": 8539, \"order_date\": \"2024-10-13\", \"transaction_timestamp\": \"2024-10-13 12:40:26\", \"total_amount\": 499, \"payment_method\": \"PayPal\", \"items\": [{\"item_id\": 8, \"name\": \"Gaming Console\", \"category\": \"Electronics\", \"price\": 499, \"quantity\": 1, \"details\": {\"brand\": \"Dell\", \"color\": \"Silver\"}}], \"order_status\": \"Shipped\"}</td></tr><tr><td>39</td><td>{\"order_id\": 39, \"customer_id\": 9263, \"order_date\": \"2024-10-29\", \"transaction_timestamp\": \"2024-10-29 21:39:19\", \"total_amount\": 387, \"payment_method\": \"PayPal\", \"items\": [{\"item_id\": 7, \"name\": \"External Hard Drive\", \"category\": \"Electronics\", \"price\": 129, \"quantity\": 3, \"details\": {\"brand\": \"Sony\", \"color\": \"Black\"}}], \"order_status\": \"Shipped\"}</td></tr><tr><td>55</td><td>{\"order_id\": 55, \"customer_id\": 9018, \"order_date\": \"2024-10-25\", \"transaction_timestamp\": \"2024-10-25 05:49:16\", \"total_amount\": 699, \"payment_method\": \"Bank Transfer\", \"items\": [{\"item_id\": 1, \"name\": \"Smartphone\", \"category\": \"Electronics\", \"price\": 699, \"quantity\": 1, \"details\": {\"brand\": \"HP\", \"color\": \"Black\"}}], \"order_status\": \"Shipped\"}</td></tr><tr><td>59</td><td>{\"order_id\": 59, \"customer_id\": 3409, \"order_date\": \"2024-10-23\", \"transaction_timestamp\": \"2024-10-23 02:51:05\", \"total_amount\": 499, \"payment_method\": \"PayPal\", \"items\": [{\"item_id\": 8, \"name\": \"Gaming Console\", \"category\": \"Electronics\", \"price\": 499, \"quantity\": 1, \"details\": {\"brand\": \"Dell\", \"color\": \"Black\"}}], \"order_status\": \"Pending\"}</td></tr><tr><td>null</td><td>{\"order_id\": 72, \"customer_id\": 3889, \"order_date\": 2024-10-06, \"transaction_timestamp\": \"2024-10-06 10:23:28\", \"total_amount\": 328, \"payment_method\": \"PayPal\", \"items\": [{\"item_id\": 3, \"name\": \"Wireless Headphones\", \"category\": \"Electronics\", \"price\": 199, \"quantity\": 1, \"details\": {\"brand\": \"Microsoft\", \"color\": \"Gray\"}}, {\"item_id\": 7, \"name\": \"External Hard Drive\", \"category\": \"Electronics\", \"price\": 129, \"quantity\": 1, \"details\": {\"brand\": \"Samsung\", \"color\": \"Silver\"}}], \"order_status\": \"Cancelled\"}</td></tr><tr><td>77</td><td>{\"order_id\": 77, \"customer_id\": 9084, \"order_date\": \"2024-10-15\", \"transaction_timestamp\": \"2024-10-15 13:09:33\", \"total_amount\": 398, \"payment_method\": \"Credit Card\", \"items\": [{\"item_id\": 3, \"name\": \"Wireless Headphones\", \"category\": \"Electronics\", \"price\": 199, \"quantity\": 2, \"details\": {\"brand\": \"HP\", \"color\": \"Silver\"}}], \"order_status\": \"Pending\"}</td></tr><tr><td>84</td><td>{\"order_id\": 84, \"customer_id\": 2344, \"order_date\": \"2024-10-25\", \"transaction_timestamp\": \"2024-10-25 03:37:42\", \"total_amount\": 998, \"payment_method\": \"PayPal\", \"items\": [{\"item_id\": 10, \"name\": \"Drone\", \"category\": \"Electronics\", \"price\": 799, \"quantity\": 1, \"details\": {\"brand\": \"Sony\", \"color\": \"Black\"}}, {\"item_id\": 3, \"name\": \"Wireless Headphones\", \"category\": \"Electronics\", \"price\": 199, \"quantity\": 1, \"details\": {\"brand\": \"LG\", \"color\": \"Black\"}}], \"order_status\": \"Completed\"}</td></tr><tr><td>85</td><td>{\"order_id\": 85, \"customer_id\": 5011, \"order_date\": \"2024-10-23\", \"transaction_timestamp\": \"2024-10-23 20:06:42\", \"total_amount\": 998, \"payment_method\": \"Bank Transfer\", \"items\": [{\"item_id\": 8, \"name\": \"Gaming Console\", \"category\": \"Electronics\", \"price\": 499, \"quantity\": 2, \"details\": {\"brand\": \"GoPro\", \"color\": \"Black\"}}], \"order_status\": \"Shipped\"}</td></tr><tr><td>86</td><td>{\"order_id\": 86, \"customer_id\": 5011, \"order_date\": \"2024-10-19\", \"transaction_timestamp\": \"2024-10-19 13:30:47\", \"total_amount\": 1199, \"payment_method\": \"PayPal\", \"items\": [{\"item_id\": 9, \"name\": \"Smart TV\", \"category\": \"Electronics\", \"price\": 1199, \"quantity\": 1, \"details\": {\"brand\": \"Dell\", \"color\": \"White\"}}], \"order_status\": \"Completed\"}</td></tr></tbody></table></div>"
      ]
     },
     "metadata": {
      "application/vnd.databricks.v1+output": {
       "addedWidgets": {},
       "aggData": [],
       "aggError": "",
       "aggOverflow": false,
       "aggSchema": [],
       "aggSeriesLimitReached": false,
       "aggType": "",
       "arguments": {},
       "columnCustomDisplayInfos": {},
       "data": [
        [
         "1",
         "{\"order_id\": 1, \"customer_id\": 6973, \"order_date\": \"2025-01-05\", \"transaction_timestamp\": \"2025-01-05 10:13:59\", \"total_amount\": 499, \"payment_method\": \"Bank Transfer\", \"items\": [{\"item_id\": 8, \"name\": \"Gaming Console\", \"category\": \"Electronics\", \"price\": 499, \"quantity\": 1, \"details\": {\"brand\": \"Sony\", \"color\": \"Blue\"}}], \"order_status\": \"Completed\"}"
        ],
        [
         null,
         "{\"order_id\": 2, \"customer_id\": 3532, \"order_date\": 2025-01-19, \"transaction_timestamp\": \"2025-01-19 00:05:13\", \"total_amount\": 985, \"payment_method\": \"PayPal\", \"items\": [{\"item_id\": 4, \"name\": \"Smartwatch\", \"category\": \"Electronics\", \"price\": 299, \"quantity\": 2, \"details\": {\"brand\": \"Canon\", \"color\": \"Gray\"}}, {\"item_id\": 7, \"name\": \"External Hard Drive\", \"category\": \"Electronics\", \"price\": 129, \"quantity\": 3, \"details\": {\"brand\": \"Dell\", \"color\": \"Blue\"}}], \"order_status\": \"Cancelled\"}"
        ],
        [
         "3",
         "{\"order_id\": 3, \"customer_id\": 3532, \"order_date\": \"2025-01-08\", \"transaction_timestamp\": \"2025-01-08 23:11:00\", \"total_amount\": 597, \"payment_method\": \"Bank Transfer\", \"items\": [{\"item_id\": 3, \"name\": \"Wireless Headphones\", \"category\": \"Electronics\", \"price\": 199, \"quantity\": 3, \"details\": {\"brand\": \"Apple\", \"color\": \"White\"}}], \"order_status\": \"Completed\"}"
        ],
        [
         "4",
         "{\"order_id\": 4, \"customer_id\": 3532, \"order_date\": \"2025-01-05\", \"transaction_timestamp\": \"2025-01-05 05:49:26\", \"total_amount\": 999, \"payment_method\": \"Bank Transfer\", \"items\": [{\"item_id\": 2, \"name\": \"Laptop\", \"category\": \"Electronics\", \"price\": 999, \"quantity\": 1, \"details\": {\"brand\": \"Microsoft\", \"color\": \"Black\"}}], \"order_status\": \"Cancelled\"}"
        ],
        [
         "8",
         "{\"order_id\": 8, \"customer_id\": 9179, \"order_date\": \"2025-01-02\", \"transaction_timestamp\": \"2025-01-02 13:11:15\", \"total_amount\": 399, \"payment_method\": \"PayPal\", \"items\": [{\"item_id\": 5, \"name\": \"Tablet\", \"category\": \"Electronics\", \"price\": 399, \"quantity\": 1, \"details\": {\"brand\": \"LG\", \"color\": \"White\"}}], \"order_status\": \"Completed\"}"
        ],
        [
         "14",
         "{\"order_id\": 14, \"customer_id\": 7207, \"order_date\": \"2025-01-01\", \"transaction_timestamp\": \"2025-01-01 18:22:26\", \"total_amount\": 597, \"payment_method\": \"PayPal\", \"items\": [{\"item_id\": 3, \"name\": \"Wireless Headphones\", \"category\": \"Electronics\", \"price\": 199, \"quantity\": 3, \"details\": {\"brand\": \"Bose\", \"color\": \"Blue\"}}], \"order_status\": \"Cancelled\"}"
        ],
        [
         "18",
         "{\"order_id\": 18, \"customer_id\": 4468, \"order_date\": \"2025-01-22\", \"transaction_timestamp\": \"2025-01-22 21:12:08\", \"total_amount\": 799, \"payment_method\": \"Credit Card\", \"items\": [{\"item_id\": 10, \"name\": \"Drone\", \"category\": \"Electronics\", \"price\": 799, \"quantity\": 1, \"details\": {\"brand\": \"Dell\", \"color\": \"Black\"}}], \"order_status\": \"Pending\"}"
        ],
        [
         null,
         "{\"order_id\": 22, \"customer_id\": 4761, \"order_date\": 2025-01-01, \"transaction_timestamp\": \"2025-01-01 15:49:19\", \"total_amount\": 199, \"payment_method\": \"PayPal\", \"items\": [{\"item_id\": 3, \"name\": \"Wireless Headphones\", \"category\": \"Electronics\", \"price\": 199, \"quantity\": 1, \"details\": {\"brand\": \"HP\", \"color\": \"Silver\"}}], \"order_status\": \"Pending\"}"
        ],
        [
         "26",
         "{\"order_id\": 26, \"customer_id\": 7007, \"order_date\": \"2025-01-05\", \"transaction_timestamp\": \"2025-01-05 19:01:25\", \"total_amount\": 699, \"payment_method\": \"Bank Transfer\", \"items\": [{\"item_id\": 1, \"name\": \"Smartphone\", \"category\": \"Electronics\", \"price\": 699, \"quantity\": 1, \"details\": {\"brand\": \"Samsung\", \"color\": \"Silver\"}}], \"order_status\": \"Shipped\"}"
        ],
        [
         "29",
         "{\"order_id\": 29, \"customer_id\": 5953, \"order_date\": \"2025-01-18\", \"transaction_timestamp\": \"2025-01-18 03:05:04\", \"total_amount\": 129, \"payment_method\": \"Bank Transfer\", \"items\": [{\"item_id\": 7, \"name\": \"External Hard Drive\", \"category\": \"Electronics\", \"price\": 129, \"quantity\": 1, \"details\": {\"brand\": \"Bose\", \"color\": \"Gray\"}}, {\"item_id\": 7, \"name\": \"External Hard Drive\", \"category\": \"Electronics\", \"price\": 129, \"quantity\": 1, \"details\": {\"brand\": \"Bose\", \"color\": \"Gray\"}}], \"order_status\": \"Pending\"}"
        ],
        [
         "31",
         "{\"order_id\": 31, \"customer_id\": 4996, \"order_date\": \"2025-01-18\", \"transaction_timestamp\": \"2025-01-18 03:13:29\", \"total_amount\": 299, \"payment_method\": \"Bank Transfer\", \"items\": [{\"item_id\": 4, \"name\": \"Smartwatch\", \"category\": \"Electronics\", \"price\": 299, \"quantity\": 1, \"details\": {\"brand\": \"Dell\", \"color\": \"White\"}}], \"order_status\": \"Shipped\"}"
        ],
        [
         "33",
         "{\"order_id\": 33, \"customer_id\": 9605, \"order_date\": \"2025-01-13\", \"transaction_timestamp\": \"2025-01-13 04:47:43\", \"total_amount\": 897, \"payment_method\": \"PayPal\", \"items\": [{\"item_id\": 4, \"name\": \"Smartwatch\", \"category\": \"Electronics\", \"price\": 299, \"quantity\": 3, \"details\": {\"brand\": \"Canon\", \"color\": \"White\"}}], \"order_status\": \"Completed\"}"
        ],
        [
         "34",
         "{\"order_id\": 34, \"customer_id\": 9605, \"order_date\": \"2025-01-21\", \"transaction_timestamp\": \"2025-01-21 00:25:01\", \"total_amount\": 926, \"payment_method\": \"PayPal\", \"items\": [{\"item_id\": 6, \"name\": \"Bluetooth Speaker\", \"category\": \"Electronics\", \"price\": 149, \"quantity\": 2, \"details\": {\"brand\": \"Bose\", \"color\": \"Silver\"}}, {\"item_id\": 8, \"name\": \"Gaming Console\", \"category\": \"Electronics\", \"price\": 499, \"quantity\": 1, \"details\": {\"brand\": \"LG\", \"color\": \"Black\"}}, {\"item_id\": 7, \"name\": \"External Hard Drive\", \"category\": \"Electronics\", \"price\": 129, \"quantity\": 1, \"details\": {\"brand\": \"Samsung\", \"color\": \"Black\"}}], \"order_status\": \"Cancelled\"}"
        ],
        [
         "40",
         "{\"order_id\": 40, \"customer_id\": 6384, \"order_date\": \"2025-01-20\", \"transaction_timestamp\": \"2025-01-20 16:18:35\", \"total_amount\": 298, \"payment_method\": \"PayPal\", \"items\": [{\"item_id\": 6, \"name\": \"Bluetooth Speaker\", \"category\": \"Electronics\", \"price\": 149, \"quantity\": 2, \"details\": {\"brand\": \"Bose\", \"color\": \"Silver\"}}], \"order_status\": \"Completed\"}"
        ],
        [
         "41",
         "{\"order_id\": 41, \"customer_id\": 6384, \"order_date\": \"2025-01-05\", \"transaction_timestamp\": \"2025-01-05 06:10:22\", \"total_amount\": 999, \"payment_method\": \"Credit Card\", \"items\": [{\"item_id\": 2, \"name\": \"Laptop\", \"category\": \"Electronics\", \"price\": 999, \"quantity\": 1, \"details\": {\"brand\": \"Sony\", \"color\": \"Silver\"}}], \"order_status\": \"Shipped\"}"
        ],
        [
         "43",
         "{\"order_id\": 43, \"customer_id\": 5028, \"order_date\": \"2025-01-24\", \"transaction_timestamp\": \"2025-01-24 18:10:37\", \"total_amount\": 499, \"payment_method\": \"PayPal\", \"items\": [{\"item_id\": 8, \"name\": \"Gaming Console\", \"category\": \"Electronics\", \"price\": 499, \"quantity\": 1, \"details\": {\"brand\": \"LG\", \"color\": \"Black\"}}], \"order_status\": \"Pending\"}"
        ],
        [
         "50",
         "{\"order_id\": 50, \"customer_id\": 3712, \"order_date\": \"2025-01-11\", \"transaction_timestamp\": \"2025-01-11 01:19:09\", \"total_amount\": 746, \"payment_method\": \"Credit Card\", \"items\": [{\"item_id\": 6, \"name\": \"Bluetooth Speaker\", \"category\": \"Electronics\", \"price\": 149, \"quantity\": 3, \"details\": {\"brand\": \"Apple\", \"color\": \"Gray\"}}, {\"item_id\": 4, \"name\": \"Smartwatch\", \"category\": \"Electronics\", \"price\": 299, \"quantity\": 1, \"details\": {\"brand\": \"Sony\", \"color\": \"White\"}}], \"order_status\": \"Shipped\"}"
        ],
        [
         "51",
         "{\"order_id\": 51, \"customer_id\": 8845, \"order_date\": \"2025-01-21\", \"transaction_timestamp\": \"2025-01-21 13:19:59\", \"total_amount\": 149, \"payment_method\": \"PayPal\", \"items\": [{\"item_id\": 6, \"name\": \"Bluetooth Speaker\", \"category\": \"Electronics\", \"price\": 149, \"quantity\": 1, \"details\": {\"brand\": \"Samsung\", \"color\": \"Gray\"}}], \"order_status\": \"Completed\"}"
        ],
        [
         "53",
         "{\"order_id\": 53, \"customer_id\": 8845, \"order_date\": \"2025-01-21\", \"transaction_timestamp\": \"2025-01-21 08:31:02\", \"total_amount\": 199, \"payment_method\": \"Bank Transfer\", \"items\": [{\"item_id\": 3, \"name\": \"Wireless Headphones\", \"category\": \"Electronics\", \"price\": 199, \"quantity\": 1, \"details\": {\"brand\": \"Apple\", \"color\": \"Black\"}}], \"order_status\": \"Pending\"}"
        ],
        [
         "56",
         "{\"order_id\": 56, \"customer_id\": 8580, \"order_date\": \"2025-01-01\", \"transaction_timestamp\": \"2025-01-01 12:02:41\", \"total_amount\": 698, \"payment_method\": \"PayPal\", \"items\": [{\"item_id\": 3, \"name\": \"Wireless Headphones\", \"category\": \"Electronics\", \"price\": 199, \"quantity\": 1, \"details\": {\"brand\": \"HP\", \"color\": \"Silver\"}}, {\"item_id\": 8, \"name\": \"Gaming Console\", \"category\": \"Electronics\", \"price\": 499, \"quantity\": 1, \"details\": {\"brand\": \"LG\", \"color\": \"Gray\"}}], \"order_status\": \"Cancelled\"}"
        ],
        [
         "62",
         "{\"order_id\": 62, \"customer_id\": 7123, \"order_date\": \"2025-01-24\", \"transaction_timestamp\": \"2025-01-24 12:00:54\", \"total_amount\": 985, \"payment_method\": \"Bank Transfer\", \"items\": [{\"item_id\": 7, \"name\": \"External Hard Drive\", \"category\": \"Electronics\", \"price\": 129, \"quantity\": 3, \"details\": {\"brand\": \"Dell\", \"color\": \"White\"}}, {\"item_id\": 4, \"name\": \"Smartwatch\", \"category\": \"Electronics\", \"price\": 299, \"quantity\": 2, \"details\": {\"brand\": \"GoPro\", \"color\": \"Blue\"}}], \"order_status\": \"Completed\"}"
        ],
        [
         "66",
         "{\"order_id\": 66, \"customer_id\": 3084, \"order_date\": \"2025-01-17\", \"transaction_timestamp\": \"2025-01-17 21:16:11\", \"total_amount\": 598, \"payment_method\": \"Credit Card\", \"items\": [{\"item_id\": 4, \"name\": \"Smartwatch\", \"category\": \"Electronics\", \"price\": 299, \"quantity\": 1, \"details\": {\"brand\": \"Bose\", \"color\": \"Silver\"}}, {\"item_id\": 4, \"name\": \"Smartwatch\", \"category\": \"Electronics\", \"price\": 299, \"quantity\": 1, \"details\": {\"brand\": \"GoPro\", \"color\": \"White\"}}], \"order_status\": \"Cancelled\"}"
        ],
        [
         "68",
         "{\"order_id\": 68, \"customer_id\": 4973, \"order_date\": \"2025-01-10\", \"transaction_timestamp\": \"2025-01-10 20:35:43\", \"total_amount\": 149, \"payment_method\": \"Bank Transfer\", \"items\": [{\"item_id\": 6, \"name\": \"Bluetooth Speaker\", \"category\": \"Electronics\", \"price\": 149, \"quantity\": 1, \"details\": {\"brand\": \"Bose\", \"color\": \"Gray\"}}], \"order_status\": \"Completed\"}"
        ],
        [
         "73",
         "{\"order_id\": 73, \"customer_id\": 6167, \"order_date\": \"2025-01-07\", \"transaction_timestamp\": \"2025-01-07 01:02:26\", \"total_amount\": 387, \"payment_method\": \"Credit Card\", \"items\": [{\"item_id\": 7, \"name\": \"External Hard Drive\", \"category\": \"Electronics\", \"price\": 129, \"quantity\": 3, \"details\": {\"brand\": \"GoPro\", \"color\": \"Gray\"}}, {\"item_id\": 7, \"name\": \"External Hard Drive\", \"category\": \"Electronics\", \"price\": 129, \"quantity\": 3, \"details\": {\"brand\": \"GoPro\", \"color\": \"Gray\"}}], \"order_status\": \"Shipped\"}"
        ],
        [
         "75",
         "{\"order_id\": 75, \"customer_id\": 6167, \"order_date\": \"2025-01-19\", \"transaction_timestamp\": \"2025-01-19 16:23:16\", \"total_amount\": 699, \"payment_method\": \"Credit Card\", \"items\": [{\"item_id\": 1, \"name\": \"Smartphone\", \"category\": \"Electronics\", \"price\": 699, \"quantity\": 1, \"details\": {\"brand\": \"GoPro\", \"color\": \"White\"}}], \"order_status\": \"Shipped\"}"
        ],
        [
         "76",
         "{\"order_id\": 76, \"customer_id\": 3295, \"order_date\": \"2025-01-06\", \"transaction_timestamp\": \"2025-01-06 02:54:39\", \"total_amount\": 399, \"payment_method\": \"Bank Transfer\", \"items\": [{\"item_id\": 5, \"name\": \"Tablet\", \"category\": \"Electronics\", \"price\": 399, \"quantity\": 1, \"details\": {\"brand\": \"Microsoft\", \"color\": \"Silver\"}}], \"order_status\": \"Completed\"}"
        ],
        [
         "78",
         "{\"order_id\": 78, \"customer_id\": 9084, \"order_date\": \"2025-01-21\", \"transaction_timestamp\": \"2025-01-21 11:42:51\", \"total_amount\": 798, \"payment_method\": \"PayPal\", \"items\": [{\"item_id\": 5, \"name\": \"Tablet\", \"category\": \"Electronics\", \"price\": 399, \"quantity\": 2, \"details\": {\"brand\": \"Dell\", \"color\": \"White\"}}], \"order_status\": \"Cancelled\"}"
        ],
        [
         "79",
         "{\"order_id\": 79, \"customer_id\": 9084, \"order_date\": \"2025-01-25\", \"transaction_timestamp\": \"2025-01-25 03:52:05\", \"total_amount\": 998, \"payment_method\": \"Credit Card\", \"items\": [{\"item_id\": 8, \"name\": \"Gaming Console\", \"category\": \"Electronics\", \"price\": 499, \"quantity\": 2, \"details\": {\"brand\": \"Dell\", \"color\": \"Gray\"}}], \"order_status\": \"Cancelled\"}"
        ],
        [
         "83",
         "{\"order_id\": 83, \"customer_id\": 2344, \"order_date\": \"2025-01-07\", \"transaction_timestamp\": \"2025-01-07 12:48:05\", \"total_amount\": 785, \"payment_method\": \"PayPal\", \"items\": [{\"item_id\": 7, \"name\": \"External Hard Drive\", \"category\": \"Electronics\", \"price\": 129, \"quantity\": 3, \"details\": {\"brand\": \"Canon\", \"color\": \"Gray\"}}, {\"item_id\": 3, \"name\": \"Wireless Headphones\", \"category\": \"Electronics\", \"price\": 199, \"quantity\": 2, \"details\": {\"brand\": \"Sony\", \"color\": \"Black\"}}], \"order_status\": \"Shipped\"}"
        ],
        [
         "87",
         "{\"order_id\": 87, \"customer_id\": 2141, \"order_date\": \"2025-01-02\", \"transaction_timestamp\": \"2025-01-02 04:28:38\", \"total_amount\": 129, \"payment_method\": \"PayPal\", \"items\": [{\"item_id\": 7, \"name\": \"External Hard Drive\", \"category\": \"Electronics\", \"price\": 129, \"quantity\": 1, \"details\": {\"brand\": \"Apple\", \"color\": \"Blue\"}}], \"order_status\": \"Pending\"}"
        ],
        [
         "90",
         "{\"order_id\": 90, \"customer_id\": 9247, \"order_date\": \"2025-01-17\", \"transaction_timestamp\": \"2025-01-17 14:30:54\", \"total_amount\": 258, \"payment_method\": \"Credit Card\", \"items\": [{\"item_id\": 7, \"name\": \"External Hard Drive\", \"category\": \"Electronics\", \"price\": 129, \"quantity\": 1, \"details\": {\"brand\": \"Canon\", \"color\": \"White\"}}, {\"item_id\": 7, \"name\": \"External Hard Drive\", \"category\": \"Electronics\", \"price\": 129, \"quantity\": 1, \"details\": {\"brand\": \"Samsung\", \"color\": \"Black\"}}], \"order_status\": \"Pending\"}"
        ],
        [
         "94",
         "{\"order_id\": 94, \"customer_id\": 6627, \"order_date\": \"2025-01-10\", \"transaction_timestamp\": \"2025-01-10 09:51:48\", \"total_amount\": 895, \"payment_method\": \"Credit Card\", \"items\": [{\"item_id\": 6, \"name\": \"Bluetooth Speaker\", \"category\": \"Electronics\", \"price\": 149, \"quantity\": 2, \"details\": {\"brand\": \"Sony\", \"color\": \"Black\"}}, {\"item_id\": 3, \"name\": \"Wireless Headphones\", \"category\": \"Electronics\", \"price\": 199, \"quantity\": 3, \"details\": {\"brand\": \"Apple\", \"color\": \"Blue\"}}], \"order_status\": \"Pending\"}"
        ],
        [
         "98",
         "{\"order_id\": 98, \"customer_id\": 9150, \"order_date\": \"2025-01-08\", \"transaction_timestamp\": \"2025-01-08 05:57:55\", \"total_amount\": 985, \"payment_method\": \"Credit Card\", \"items\": [{\"item_id\": 7, \"name\": \"External Hard Drive\", \"category\": \"Electronics\", \"price\": 129, \"quantity\": 3, \"details\": {\"brand\": \"HP\", \"color\": \"Blue\"}}, {\"item_id\": 4, \"name\": \"Smartwatch\", \"category\": \"Electronics\", \"price\": 299, \"quantity\": 2, \"details\": {\"brand\": \"Samsung\", \"color\": \"Gray\"}}], \"order_status\": \"Completed\"}"
        ],
        [
         "99",
         "{\"order_id\": 99, \"customer_id\": 9150, \"order_date\": \"2025-01-10\", \"transaction_timestamp\": \"2025-01-10 21:43:46\", \"total_amount\": 699, \"payment_method\": \"Credit Card\", \"items\": [{\"item_id\": 1, \"name\": \"Smartphone\", \"category\": \"Electronics\", \"price\": 699, \"quantity\": 1, \"details\": {\"brand\": \"Bose\", \"color\": \"Gray\"}}], \"order_status\": \"Shipped\"}"
        ],
        [
         "100",
         "{\"order_id\": 100, \"customer_id\": 9150, \"order_date\": \"2025-01-04\", \"transaction_timestamp\": \"2025-01-04 06:40:13\", \"total_amount\": 447, \"payment_method\": \"PayPal\", \"items\": [{\"item_id\": 6, \"name\": \"Bluetooth Speaker\", \"category\": \"Electronics\", \"price\": 149, \"quantity\": 3, \"details\": {\"brand\": \"LG\", \"color\": \"Silver\"}}], \"order_status\": \"Shipped\"}"
        ],
        [
         "12",
         "{\"order_id\": 12, \"customer_id\": 5816, \"order_date\": \"2024-12-06\", \"transaction_timestamp\": \"2024-12-06 20:26:49\", \"total_amount\": 999, \"payment_method\": \"PayPal\", \"items\": [{\"item_id\": 2, \"name\": \"Laptop\", \"category\": \"Electronics\", \"price\": 999, \"quantity\": 1, \"details\": {\"brand\": \"Sony\", \"color\": \"White\"}}], \"order_status\": \"Cancelled\"}"
        ],
        [
         "13",
         "{\"order_id\": 13, \"customer_id\": 4858, \"order_date\": \"2024-12-17\", \"transaction_timestamp\": \"2024-12-17 03:41:37\", \"total_amount\": 999, \"payment_method\": \"PayPal\", \"items\": [{\"item_id\": 2, \"name\": \"Laptop\", \"category\": \"Electronics\", \"price\": 999, \"quantity\": 1, \"details\": {\"brand\": \"GoPro\", \"color\": \"Black\"}}], \"order_status\": \"Pending\"}"
        ],
        [
         "16",
         "{\"order_id\": 16, \"customer_id\": 5204, \"order_date\": \"2024-12-08\", \"transaction_timestamp\": \"2024-12-08 22:59:48\", \"total_amount\": 597, \"payment_method\": \"Bank Transfer\", \"items\": [{\"item_id\": 3, \"name\": \"Wireless Headphones\", \"category\": \"Electronics\", \"price\": 199, \"quantity\": 3, \"details\": {\"brand\": \"Sony\", \"color\": \"Silver\"}}], \"order_status\": \"Pending\"}"
        ],
        [
         "17",
         "{\"order_id\": 17, \"customer_id\": 5204, \"order_date\": \"2024-12-02\", \"transaction_timestamp\": \"2024-12-02 12:00:50\", \"total_amount\": 998, \"payment_method\": \"Bank Transfer\", \"items\": [{\"item_id\": 8, \"name\": \"Gaming Console\", \"category\": \"Electronics\", \"price\": 499, \"quantity\": 2, \"details\": {\"brand\": \"Dell\", \"color\": \"Black\"}}], \"order_status\": \"Pending\"}"
        ],
        [
         "24",
         "{\"order_id\": 24, \"customer_id\": 1211, \"order_date\": \"2024-12-21\", \"transaction_timestamp\": \"2024-12-21 03:24:26\", \"total_amount\": 1199, \"payment_method\": \"PayPal\", \"items\": [{\"item_id\": 9, \"name\": \"Smart TV\", \"category\": \"Electronics\", \"price\": 1199, \"quantity\": 1, \"details\": {\"brand\": \"GoPro\", \"color\": \"Gray\"}}], \"order_status\": \"Completed\"}"
        ],
        [
         "27",
         "{\"order_id\": 27, \"customer_id\": 2703, \"order_date\": \"2024-12-02\", \"transaction_timestamp\": \"2024-12-02 11:24:21\", \"total_amount\": 904, \"payment_method\": \"Credit Card\", \"items\": [{\"item_id\": 7, \"name\": \"External Hard Drive\", \"category\": \"Electronics\", \"price\": 129, \"quantity\": 2, \"details\": {\"brand\": \"Dell\", \"color\": \"White\"}}, {\"item_id\": 6, \"name\": \"Bluetooth Speaker\", \"category\": \"Electronics\", \"price\": 149, \"quantity\": 3, \"details\": {\"brand\": \"Canon\", \"color\": \"Black\"}}, {\"item_id\": 3, \"name\": \"Wireless Headphones\", \"category\": \"Electronics\", \"price\": 199, \"quantity\": 1, \"details\": {\"brand\": \"Microsoft\", \"color\": \"Silver\"}}], \"order_status\": \"Completed\"}"
        ],
        [
         "28",
         "{\"order_id\": 28, \"customer_id\": 2703, \"order_date\": \"2024-12-26\", \"transaction_timestamp\": \"2024-12-26 03:17:50\", \"total_amount\": 129, \"payment_method\": \"Credit Card\", \"items\": [{\"item_id\": 7, \"name\": \"External Hard Drive\", \"category\": \"Electronics\", \"price\": 129, \"quantity\": 1, \"details\": {\"brand\": \"GoPro\", \"color\": \"Blue\"}}], \"order_status\": \"Cancelled\"}"
        ],
        [
         "32",
         "{\"order_id\": 32, \"customer_id\": 4996, \"order_date\": \"2024-12-28\", \"transaction_timestamp\": \"2024-12-28 08:55:57\", \"total_amount\": 399, \"payment_method\": \"PayPal\", \"items\": [{\"item_id\": 5, \"name\": \"Tablet\", \"category\": \"Electronics\", \"price\": 399, \"quantity\": 1, \"details\": {\"brand\": \"Apple\", \"color\": \"Silver\"}}], \"order_status\": \"Pending\"}"
        ],
        [
         "37",
         "{\"order_id\": 37, \"customer_id\": 7829, \"order_date\": \"2024-12-22\", \"transaction_timestamp\": \"2024-12-22 10:11:49\", \"total_amount\": 258, \"payment_method\": \"Credit Card\", \"items\": [{\"item_id\": 7, \"name\": \"External Hard Drive\", \"category\": \"Electronics\", \"price\": 129, \"quantity\": 2, \"details\": {\"brand\": \"HP\", \"color\": \"Silver\"}}], \"order_status\": \"Shipped\"}"
        ],
        [
         "38",
         "{\"order_id\": 38, \"customer_id\": 7829, \"order_date\": \"2024-12-25\", \"transaction_timestamp\": \"2024-12-25 22:05:19\", \"total_amount\": 447, \"payment_method\": \"Credit Card\", \"items\": [{\"item_id\": 6, \"name\": \"Bluetooth Speaker\", \"category\": \"Electronics\", \"price\": 149, \"quantity\": 3, \"details\": {\"brand\": \"Apple\", \"color\": \"Gray\"}}], \"order_status\": \"Shipped\"}"
        ],
        [
         "44",
         "{\"order_id\": 44, \"customer_id\": 7295, \"order_date\": \"2024-12-20\", \"transaction_timestamp\": \"2024-12-20 08:05:43\", \"total_amount\": 129, \"payment_method\": \"Credit Card\", \"items\": [{\"item_id\": 7, \"name\": \"External Hard Drive\", \"category\": \"Electronics\", \"price\": 129, \"quantity\": 1, \"details\": {\"brand\": \"Bose\", \"color\": \"Blue\"}}], \"order_status\": \"Completed\"}"
        ],
        [
         "49",
         "{\"order_id\": 49, \"customer_id\": 7803, \"order_date\": \"2024-12-07\", \"transaction_timestamp\": \"2024-12-07 23:24:11\", \"total_amount\": 747, \"payment_method\": \"PayPal\", \"items\": [{\"item_id\": 4, \"name\": \"Smartwatch\", \"category\": \"Electronics\", \"price\": 299, \"quantity\": 1, \"details\": {\"brand\": \"HP\", \"color\": \"White\"}}, {\"item_id\": 4, \"name\": \"Smartwatch\", \"category\": \"Electronics\", \"price\": 299, \"quantity\": 1, \"details\": {\"brand\": \"Canon\", \"color\": \"Blue\"}}, {\"item_id\": 6, \"name\": \"Bluetooth Speaker\", \"category\": \"Electronics\", \"price\": 149, \"quantity\": 1, \"details\": {\"brand\": \"Samsung\", \"color\": \"White\"}}], \"order_status\": \"Cancelled\"}"
        ],
        [
         "54",
         "{\"order_id\": 54, \"customer_id\": 2054, \"order_date\": \"2024-12-20\", \"transaction_timestamp\": \"2024-12-20 12:04:27\", \"total_amount\": 398, \"payment_method\": \"Credit Card\", \"items\": [{\"item_id\": 3, \"name\": \"Wireless Headphones\", \"category\": \"Electronics\", \"price\": 199, \"quantity\": 2, \"details\": {\"brand\": \"Bose\", \"color\": \"Gray\"}}], \"order_status\": \"Pending\"}"
        ],
        [
         "58",
         "{\"order_id\": 58, \"customer_id\": 8580, \"order_date\": \"2024-12-09\", \"transaction_timestamp\": \"2024-12-09 22:40:58\", \"total_amount\": 699, \"payment_method\": \"PayPal\", \"items\": [{\"item_id\": 1, \"name\": \"Smartphone\", \"category\": \"Electronics\", \"price\": 699, \"quantity\": 1, \"details\": {\"brand\": \"Microsoft\", \"color\": \"Gray\"}}], \"order_status\": \"Completed\"}"
        ],
        [
         "60",
         "{\"order_id\": 60, \"customer_id\": 3409, \"order_date\": \"2024-12-13\", \"transaction_timestamp\": \"2024-12-13 13:10:12\", \"total_amount\": 199, \"payment_method\": \"Bank Transfer\", \"items\": [{\"item_id\": 3, \"name\": \"Wireless Headphones\", \"category\": \"Electronics\", \"price\": 199, \"quantity\": 1, \"details\": {\"brand\": \"Samsung\", \"color\": \"Blue\"}}], \"order_status\": \"Shipped\"}"
        ],
        [
         "61",
         "{\"order_id\": 61, \"customer_id\": 7123, \"order_date\": \"2024-12-07\", \"transaction_timestamp\": \"2024-12-07 07:47:19\", \"total_amount\": 699, \"payment_method\": \"Bank Transfer\", \"items\": [{\"item_id\": 1, \"name\": \"Smartphone\", \"category\": \"Electronics\", \"price\": 699, \"quantity\": 1, \"details\": {\"brand\": \"Canon\", \"color\": \"Black\"}}], \"order_status\": \"Completed\"}"
        ],
        [
         "65",
         "{\"order_id\": 65, \"customer_id\": 3084, \"order_date\": \"2024-12-09\", \"transaction_timestamp\": \"2024-12-09 13:04:13\", \"total_amount\": 399, \"payment_method\": \"Bank Transfer\", \"items\": [{\"item_id\": 5, \"name\": \"Tablet\", \"category\": \"Electronics\", \"price\": 399, \"quantity\": 1, \"details\": {\"brand\": \"Microsoft\", \"color\": \"Gray\"}}], \"order_status\": \"Cancelled\"}"
        ],
        [
         "67",
         "{\"order_id\": 67, \"customer_id\": 3084, \"order_date\": \"2024-12-19\", \"transaction_timestamp\": \"2024-12-19 07:11:09\", \"total_amount\": 897, \"payment_method\": \"PayPal\", \"items\": [{\"item_id\": 4, \"name\": \"Smartwatch\", \"category\": \"Electronics\", \"price\": 299, \"quantity\": 3, \"details\": {\"brand\": \"LG\", \"color\": \"Blue\"}}], \"order_status\": \"Shipped\"}"
        ],
        [
         "69",
         "{\"order_id\": 69, \"customer_id\": 4973, \"order_date\": \"2024-12-30\", \"transaction_timestamp\": \"2024-12-30 02:42:01\", \"total_amount\": 699, \"payment_method\": \"Bank Transfer\", \"items\": [{\"item_id\": 1, \"name\": \"Smartphone\", \"category\": \"Electronics\", \"price\": 699, \"quantity\": 1, \"details\": {\"brand\": \"Dell\", \"color\": \"Gray\"}}], \"order_status\": \"Completed\"}"
        ],
        [
         "70",
         "{\"order_id\": 70, \"customer_id\": 7997, \"order_date\": \"2024-12-04\", \"transaction_timestamp\": \"2024-12-04 17:17:24\", \"total_amount\": 897, \"payment_method\": \"PayPal\", \"items\": [{\"item_id\": 4, \"name\": \"Smartwatch\", \"category\": \"Electronics\", \"price\": 299, \"quantity\": 3, \"details\": {\"brand\": \"Sony\", \"color\": \"Black\"}}], \"order_status\": \"Shipped\"}"
        ],
        [
         null,
         "{\"order_id\": 71, \"customer_id\": 7997, \"order_date\": 2024-12-27, \"transaction_timestamp\": \"2024-12-27 11:16:39\", \"total_amount\": 199, \"payment_method\": \"Bank Transfer\", \"items\": [{\"item_id\": 3, \"name\": \"Wireless Headphones\", \"category\": \"Electronics\", \"price\": 199, \"quantity\": 1, \"details\": {\"brand\": \"Microsoft\", \"color\": \"Black\"}}], \"order_status\": \"Completed\"}"
        ],
        [
         "74",
         "{\"order_id\": 74, \"customer_id\": 6167, \"order_date\": \"2024-12-22\", \"transaction_timestamp\": \"2024-12-22 15:54:11\", \"total_amount\": 699, \"payment_method\": \"PayPal\", \"items\": [{\"item_id\": 1, \"name\": \"Smartphone\", \"category\": \"Electronics\", \"price\": 699, \"quantity\": 1, \"details\": {\"brand\": \"Samsung\", \"color\": \"Blue\"}}], \"order_status\": \"Pending\"}"
        ],
        [
         "80",
         "{\"order_id\": 80, \"customer_id\": 9687, \"order_date\": \"2024-12-11\", \"transaction_timestamp\": \"2024-12-11 07:43:54\", \"total_amount\": 998, \"payment_method\": \"Bank Transfer\", \"items\": [{\"item_id\": 8, \"name\": \"Gaming Console\", \"category\": \"Electronics\", \"price\": 499, \"quantity\": 2, \"details\": {\"brand\": \"Samsung\", \"color\": \"White\"}}], \"order_status\": \"Cancelled\"}"
        ],
        [
         "81",
         "{\"order_id\": 81, \"customer_id\": 9687, \"order_date\": \"2024-12-27\", \"transaction_timestamp\": \"2024-12-27 02:27:45\", \"total_amount\": 699, \"payment_method\": \"PayPal\", \"items\": [{\"item_id\": 1, \"name\": \"Smartphone\", \"category\": \"Electronics\", \"price\": 699, \"quantity\": 1, \"details\": {\"brand\": \"GoPro\", \"color\": \"Blue\"}}], \"order_status\": \"Completed\"}"
        ],
        [
         "82",
         "{\"order_id\": 82, \"customer_id\": 2344, \"order_date\": \"2024-12-28\", \"transaction_timestamp\": \"2024-12-28 00:54:08\", \"total_amount\": 387, \"payment_method\": \"PayPal\", \"items\": [{\"item_id\": 7, \"name\": \"External Hard Drive\", \"category\": \"Electronics\", \"price\": 129, \"quantity\": 3, \"details\": {\"brand\": \"Sony\", \"color\": \"Blue\"}}], \"order_status\": \"Completed\"}"
        ],
        [
         "91",
         "{\"order_id\": 91, \"customer_id\": 5592, \"order_date\": \"2024-12-17\", \"transaction_timestamp\": \"2024-12-17 00:09:53\", \"total_amount\": 699, \"payment_method\": \"Bank Transfer\", \"items\": [{\"item_id\": 1, \"name\": \"Smartphone\", \"category\": \"Electronics\", \"price\": 699, \"quantity\": 1, \"details\": {\"brand\": \"Canon\", \"color\": \"Silver\"}}], \"order_status\": \"Cancelled\"}"
        ],
        [
         "93",
         "{\"order_id\": 93, \"customer_id\": 6627, \"order_date\": \"2024-12-22\", \"transaction_timestamp\": \"2024-12-22 05:07:46\", \"total_amount\": 598, \"payment_method\": \"PayPal\", \"items\": [{\"item_id\": 4, \"name\": \"Smartwatch\", \"category\": \"Electronics\", \"price\": 299, \"quantity\": 2, \"details\": {\"brand\": \"LG\", \"color\": \"Silver\"}}], \"order_status\": \"Pending\"}"
        ],
        [
         "95",
         "{\"order_id\": 95, \"customer_id\": 6627, \"order_date\": \"2024-12-28\", \"transaction_timestamp\": \"2024-12-28 04:28:30\", \"total_amount\": 946, \"payment_method\": \"Bank Transfer\", \"items\": [{\"item_id\": 4, \"name\": \"Smartwatch\", \"category\": \"Electronics\", \"price\": 299, \"quantity\": 2, \"details\": {\"brand\": \"GoPro\", \"color\": \"White\"}}, {\"item_id\": 3, \"name\": \"Wireless Headphones\", \"category\": \"Electronics\", \"price\": 199, \"quantity\": 1, \"details\": {\"brand\": \"Bose\", \"color\": \"Gray\"}}, {\"item_id\": 6, \"name\": \"Bluetooth Speaker\", \"category\": \"Electronics\", \"price\": 149, \"quantity\": 1, \"details\": {\"brand\": \"Dell\", \"color\": \"Silver\"}}], \"order_status\": \"Completed\"}"
        ],
        [
         "96",
         "{\"order_id\": 96, \"customer_id\": 6406, \"order_date\": \"2024-12-02\", \"transaction_timestamp\": \"2024-12-02 12:27:45\", \"total_amount\": 149, \"payment_method\": \"PayPal\", \"items\": [{\"item_id\": 6, \"name\": \"Bluetooth Speaker\", \"category\": \"Electronics\", \"price\": 149, \"quantity\": 1, \"details\": {\"brand\": \"Microsoft\", \"color\": \"Black\"}}], \"order_status\": \"Shipped\"}"
        ],
        [
         "97",
         "{\"order_id\": 97, \"customer_id\": 6406, \"order_date\": \"2024-12-07\", \"transaction_timestamp\": \"2024-12-07 16:14:34\", \"total_amount\": 499, \"payment_method\": \"Bank Transfer\", \"items\": [{\"item_id\": 8, \"name\": \"Gaming Console\", \"category\": \"Electronics\", \"price\": 499, \"quantity\": 1, \"details\": {\"brand\": \"Sony\", \"color\": \"Silver\"}}], \"order_status\": \"Completed\"}"
        ],
        [
         "5",
         "{\"order_id\": 5, \"customer_id\": 3892, \"order_date\": \"2024-11-16\", \"transaction_timestamp\": \"2024-11-16 23:07:31\", \"total_amount\": 998, \"payment_method\": \"Bank Transfer\", \"items\": [{\"item_id\": 8, \"name\": \"Gaming Console\", \"category\": \"Electronics\", \"price\": 499, \"quantity\": 2, \"details\": {\"brand\": \"Dell\", \"color\": \"Blue\"}}], \"order_status\": \"Cancelled\"}"
        ],
        [
         "7",
         "{\"order_id\": 7, \"customer_id\": 1987, \"order_date\": \"2024-11-19\", \"transaction_timestamp\": \"2024-11-19 19:18:48\", \"total_amount\": 645, \"payment_method\": \"Credit Card\", \"items\": [{\"item_id\": 7, \"name\": \"External Hard Drive\", \"category\": \"Electronics\", \"price\": 129, \"quantity\": 2, \"details\": {\"brand\": \"LG\", \"color\": \"Blue\"}}, {\"item_id\": 7, \"name\": \"External Hard Drive\", \"category\": \"Electronics\", \"price\": 129, \"quantity\": 3, \"details\": {\"brand\": \"HP\", \"color\": \"Gray\"}}], \"order_status\": \"Pending\"}"
        ],
        [
         "9",
         "{\"order_id\": 9, \"customer_id\": 9179, \"order_date\": \"2024-11-27\", \"transaction_timestamp\": \"2024-11-27 13:15:29\", \"total_amount\": 999, \"payment_method\": \"Bank Transfer\", \"items\": [{\"item_id\": 2, \"name\": \"Laptop\", \"category\": \"Electronics\", \"price\": 999, \"quantity\": 1, \"details\": {\"brand\": \"Apple\", \"color\": \"Black\"}}], \"order_status\": \"Shipped\"}"
        ],
        [
         "20",
         "{\"order_id\": 20, \"customer_id\": 8539, \"order_date\": \"2024-11-18\", \"transaction_timestamp\": \"2024-11-18 02:38:21\", \"total_amount\": 798, \"payment_method\": \"PayPal\", \"items\": [{\"item_id\": 5, \"name\": \"Tablet\", \"category\": \"Electronics\", \"price\": 399, \"quantity\": 2, \"details\": {\"brand\": \"Sony\", \"color\": \"Silver\"}}], \"order_status\": \"Pending\"}"
        ],
        [
         "21",
         "{\"order_id\": 21, \"customer_id\": 8539, \"order_date\": \"2024-11-21\", \"transaction_timestamp\": \"2024-11-21 11:25:35\", \"total_amount\": 298, \"payment_method\": \"Bank Transfer\", \"items\": [{\"item_id\": 6, \"name\": \"Bluetooth Speaker\", \"category\": \"Electronics\", \"price\": 149, \"quantity\": 2, \"details\": {\"brand\": \"GoPro\", \"color\": \"Blue\"}}], \"order_status\": \"Cancelled\"}"
        ],
        [
         "23",
         "{\"order_id\": 23, \"customer_id\": 4761, \"order_date\": \"2024-11-22\", \"transaction_timestamp\": \"2024-11-22 16:04:05\", \"total_amount\": 997, \"payment_method\": \"PayPal\", \"items\": [{\"item_id\": 5, \"name\": \"Tablet\", \"category\": \"Electronics\", \"price\": 399, \"quantity\": 1, \"details\": {\"brand\": \"Apple\", \"color\": \"Gray\"}}, {\"item_id\": 4, \"name\": \"Smartwatch\", \"category\": \"Electronics\", \"price\": 299, \"quantity\": 2, \"details\": {\"brand\": \"Dell\", \"color\": \"Gray\"}}], \"order_status\": \"Shipped\"}"
        ],
        [
         "25",
         "{\"order_id\": 25, \"customer_id\": 9706, \"order_date\": \"2024-11-05\", \"transaction_timestamp\": \"2024-11-05 11:45:31\", \"total_amount\": 999, \"payment_method\": \"PayPal\", \"items\": [{\"item_id\": 2, \"name\": \"Laptop\", \"category\": \"Electronics\", \"price\": 999, \"quantity\": 1, \"details\": {\"brand\": \"LG\", \"color\": \"Gray\"}}], \"order_status\": \"Completed\"}"
        ],
        [
         "30",
         "{\"order_id\": 30, \"customer_id\": 4996, \"order_date\": \"2024-11-12\", \"transaction_timestamp\": \"2024-11-12 03:20:29\", \"total_amount\": 199, \"payment_method\": \"Bank Transfer\", \"items\": [{\"item_id\": 3, \"name\": \"Wireless Headphones\", \"category\": \"Electronics\", \"price\": 199, \"quantity\": 1, \"details\": {\"brand\": \"GoPro\", \"color\": \"White\"}}], \"order_status\": \"Shipped\"}"
        ],
        [
         "35",
         "{\"order_id\": 35, \"customer_id\": 4914, \"order_date\": \"2024-11-20\", \"transaction_timestamp\": \"2024-11-20 19:09:04\", \"total_amount\": 199, \"payment_method\": \"Bank Transfer\", \"items\": [{\"item_id\": 3, \"name\": \"Wireless Headphones\", \"category\": \"Electronics\", \"price\": 199, \"quantity\": 1, \"details\": {\"brand\": \"Dell\", \"color\": \"Gray\"}}], \"order_status\": \"Shipped\"}"
        ],
        [
         "36",
         "{\"order_id\": 36, \"customer_id\": 4914, \"order_date\": \"2024-11-02\", \"transaction_timestamp\": \"2024-11-02 10:39:46\", \"total_amount\": 199, \"payment_method\": \"PayPal\", \"items\": [{\"item_id\": 3, \"name\": \"Wireless Headphones\", \"category\": \"Electronics\", \"price\": 199, \"quantity\": 1, \"details\": {\"brand\": \"Canon\", \"color\": \"Silver\"}}], \"order_status\": \"Completed\"}"
        ],
        [
         null,
         "{\"order_id\": 42, \"customer_id\": 5028, \"order_date\": 2024-11-08, \"transaction_timestamp\": \"2024-11-08 18:32:25\", \"total_amount\": 149, \"payment_method\": \"Credit Card\", \"items\": [{\"item_id\": 6, \"name\": \"Bluetooth Speaker\", \"category\": \"Electronics\", \"price\": 149, \"quantity\": 1, \"details\": {\"brand\": \"Bose\", \"color\": \"Gray\"}}], \"order_status\": \"Completed\"}"
        ],
        [
         "45",
         "{\"order_id\": 45, \"customer_id\": 7295, \"order_date\": \"2024-11-07\", \"transaction_timestamp\": \"2024-11-07 15:41:43\", \"total_amount\": 799, \"payment_method\": \"Credit Card\", \"items\": [{\"item_id\": 10, \"name\": \"Drone\", \"category\": \"Electronics\", \"price\": 799, \"quantity\": 1, \"details\": {\"brand\": \"Dell\", \"color\": \"White\"}}], \"order_status\": \"Shipped\"}"
        ],
        [
         "46",
         "{\"order_id\": 46, \"customer_id\": 7295, \"order_date\": \"2024-11-26\", \"transaction_timestamp\": \"2024-11-26 17:16:53\", \"total_amount\": 199, \"payment_method\": \"PayPal\", \"items\": [{\"item_id\": 3, \"name\": \"Wireless Headphones\", \"category\": \"Electronics\", \"price\": 199, \"quantity\": 1, \"details\": {\"brand\": \"Samsung\", \"color\": \"Black\"}}], \"order_status\": \"Pending\"}"
        ],
        [
         "47",
         "{\"order_id\": 47, \"customer_id\": 7803, \"order_date\": \"2024-11-22\", \"transaction_timestamp\": \"2024-11-22 02:01:19\", \"total_amount\": 298, \"payment_method\": \"Credit Card\", \"items\": [{\"item_id\": 6, \"name\": \"Bluetooth Speaker\", \"category\": \"Electronics\", \"price\": 149, \"quantity\": 2, \"details\": {\"brand\": \"LG\", \"color\": \"Blue\"}}], \"order_status\": \"Shipped\"}"
        ],
        [
         "48",
         "{\"order_id\": 48, \"customer_id\": 7803, \"order_date\": \"2024-11-13\", \"transaction_timestamp\": \"2024-11-13 06:35:56\", \"total_amount\": 387, \"payment_method\": \"PayPal\", \"items\": [{\"item_id\": 7, \"name\": \"External Hard Drive\", \"category\": \"Electronics\", \"price\": 129, \"quantity\": 3, \"details\": {\"brand\": \"Apple\", \"color\": \"Black\"}}], \"order_status\": \"Completed\"}"
        ],
        [
         "52",
         "{\"order_id\": 52, \"customer_id\": 8845, \"order_date\": \"2024-11-19\", \"transaction_timestamp\": \"2024-11-19 21:23:45\", \"total_amount\": 998, \"payment_method\": \"PayPal\", \"items\": [{\"item_id\": 8, \"name\": \"Gaming Console\", \"category\": \"Electronics\", \"price\": 499, \"quantity\": 2, \"details\": {\"brand\": \"GoPro\", \"color\": \"White\"}}], \"order_status\": \"Completed\"}"
        ],
        [
         "57",
         "{\"order_id\": 57, \"customer_id\": 8580, \"order_date\": \"2024-11-19\", \"transaction_timestamp\": \"2024-11-19 11:32:44\", \"total_amount\": 586, \"payment_method\": \"Bank Transfer\", \"items\": [{\"item_id\": 3, \"name\": \"Wireless Headphones\", \"category\": \"Electronics\", \"price\": 199, \"quantity\": 1, \"details\": {\"brand\": \"HP\", \"color\": \"Silver\"}}, {\"item_id\": 7, \"name\": \"External Hard Drive\", \"category\": \"Electronics\", \"price\": 129, \"quantity\": 3, \"details\": {\"brand\": \"Sony\", \"color\": \"Silver\"}}], \"order_status\": \"Cancelled\"}"
        ],
        [
         "63",
         "{\"order_id\": 63, \"customer_id\": 7123, \"order_date\": \"2024-11-24\", \"transaction_timestamp\": \"2024-11-24 08:41:28\", \"total_amount\": 646, \"payment_method\": \"Bank Transfer\", \"items\": [{\"item_id\": 3, \"name\": \"Wireless Headphones\", \"category\": \"Electronics\", \"price\": 199, \"quantity\": 1, \"details\": {\"brand\": \"GoPro\", \"color\": \"Blue\"}}, {\"item_id\": 6, \"name\": \"Bluetooth Speaker\", \"category\": \"Electronics\", \"price\": 149, \"quantity\": 3, \"details\": {\"brand\": \"Bose\", \"color\": \"Silver\"}}], \"order_status\": \"Cancelled\"}"
        ],
        [
         "64",
         "{\"order_id\": 64, \"customer_id\": 2639, \"order_date\": \"2024-11-28\", \"transaction_timestamp\": \"2024-11-28 12:23:21\", \"total_amount\": 984, \"payment_method\": \"Bank Transfer\", \"items\": [{\"item_id\": 7, \"name\": \"External Hard Drive\", \"category\": \"Electronics\", \"price\": 129, \"quantity\": 3, \"details\": {\"brand\": \"Microsoft\", \"color\": \"White\"}}, {\"item_id\": 3, \"name\": \"Wireless Headphones\", \"category\": \"Electronics\", \"price\": 199, \"quantity\": 3, \"details\": {\"brand\": \"Canon\", \"color\": \"Blue\"}}], \"order_status\": \"Completed\"}"
        ],
        [
         "88",
         "{\"order_id\": 88, \"customer_id\": 9247, \"order_date\": \"2024-11-15\", \"transaction_timestamp\": \"2024-11-15 11:39:44\", \"total_amount\": 387, \"payment_method\": \"Bank Transfer\", \"items\": [{\"item_id\": 7, \"name\": \"External Hard Drive\", \"category\": \"Electronics\", \"price\": 129, \"quantity\": 3, \"details\": {\"brand\": \"Bose\", \"color\": \"White\"}}], \"order_status\": \"Cancelled\"}"
        ],
        [
         "89",
         "{\"order_id\": 89, \"customer_id\": 9247, \"order_date\": \"2024-11-22\", \"transaction_timestamp\": \"2024-11-22 12:09:15\", \"total_amount\": 149, \"payment_method\": \"Bank Transfer\", \"items\": [{\"item_id\": 6, \"name\": \"Bluetooth Speaker\", \"category\": \"Electronics\", \"price\": 149, \"quantity\": 1, \"details\": {\"brand\": \"GoPro\", \"color\": \"Silver\"}}], \"order_status\": \"Cancelled\"}"
        ],
        [
         "92",
         "{\"order_id\": 92, \"customer_id\": 5592, \"order_date\": \"2024-11-24\", \"transaction_timestamp\": \"2024-11-24 23:33:21\", \"total_amount\": 258, \"payment_method\": \"PayPal\", \"items\": [{\"item_id\": 7, \"name\": \"External Hard Drive\", \"category\": \"Electronics\", \"price\": 129, \"quantity\": 2, \"details\": {\"brand\": \"Sony\", \"color\": \"Black\"}}], \"order_status\": \"Shipped\"}"
        ],
        [
         "6",
         "{\"order_id\": 6, \"customer_id\": 1987, \"order_date\": \"2024-10-28\", \"transaction_timestamp\": \"2024-10-28 04:47:27\", \"total_amount\": 799, \"payment_method\": \"Credit Card\", \"items\": [{\"item_id\": 10, \"name\": \"Drone\", \"category\": \"Electronics\", \"price\": 799, \"quantity\": 1, \"details\": {\"brand\": \"GoPro\", \"color\": \"Black\"}}], \"order_status\": \"Pending\"}"
        ],
        [
         "10",
         "{\"order_id\": 10, \"customer_id\": 5816, \"order_date\": \"2024-10-07\", \"transaction_timestamp\": \"2024-10-07 22:09:27\", \"total_amount\": 399, \"payment_method\": \"Credit Card\", \"items\": [{\"item_id\": 5, \"name\": \"Tablet\", \"category\": \"Electronics\", \"price\": 399, \"quantity\": 1, \"details\": {\"brand\": \"GoPro\", \"color\": \"White\"}}], \"order_status\": \"Pending\"}"
        ],
        [
         "11",
         "{\"order_id\": 11, \"customer_id\": 5816, \"order_date\": \"2024-10-13\", \"transaction_timestamp\": \"2024-10-13 17:34:19\", \"total_amount\": 897, \"payment_method\": \"Bank Transfer\", \"items\": [{\"item_id\": 4, \"name\": \"Smartwatch\", \"category\": \"Electronics\", \"price\": 299, \"quantity\": 3, \"details\": {\"brand\": \"Canon\", \"color\": \"White\"}}], \"order_status\": \"Pending\"}"
        ],
        [
         "15",
         "{\"order_id\": 15, \"customer_id\": 7207, \"order_date\": \"2024-10-20\", \"transaction_timestamp\": \"2024-10-20 01:47:25\", \"total_amount\": 1199, \"payment_method\": \"Bank Transfer\", \"items\": [{\"item_id\": 9, \"name\": \"Smart TV\", \"category\": \"Electronics\", \"price\": 1199, \"quantity\": 1, \"details\": {\"brand\": \"GoPro\", \"color\": \"White\"}}], \"order_status\": \"Completed\"}"
        ],
        [
         "19",
         "{\"order_id\": 19, \"customer_id\": 8539, \"order_date\": \"2024-10-13\", \"transaction_timestamp\": \"2024-10-13 12:40:26\", \"total_amount\": 499, \"payment_method\": \"PayPal\", \"items\": [{\"item_id\": 8, \"name\": \"Gaming Console\", \"category\": \"Electronics\", \"price\": 499, \"quantity\": 1, \"details\": {\"brand\": \"Dell\", \"color\": \"Silver\"}}], \"order_status\": \"Shipped\"}"
        ],
        [
         "39",
         "{\"order_id\": 39, \"customer_id\": 9263, \"order_date\": \"2024-10-29\", \"transaction_timestamp\": \"2024-10-29 21:39:19\", \"total_amount\": 387, \"payment_method\": \"PayPal\", \"items\": [{\"item_id\": 7, \"name\": \"External Hard Drive\", \"category\": \"Electronics\", \"price\": 129, \"quantity\": 3, \"details\": {\"brand\": \"Sony\", \"color\": \"Black\"}}], \"order_status\": \"Shipped\"}"
        ],
        [
         "55",
         "{\"order_id\": 55, \"customer_id\": 9018, \"order_date\": \"2024-10-25\", \"transaction_timestamp\": \"2024-10-25 05:49:16\", \"total_amount\": 699, \"payment_method\": \"Bank Transfer\", \"items\": [{\"item_id\": 1, \"name\": \"Smartphone\", \"category\": \"Electronics\", \"price\": 699, \"quantity\": 1, \"details\": {\"brand\": \"HP\", \"color\": \"Black\"}}], \"order_status\": \"Shipped\"}"
        ],
        [
         "59",
         "{\"order_id\": 59, \"customer_id\": 3409, \"order_date\": \"2024-10-23\", \"transaction_timestamp\": \"2024-10-23 02:51:05\", \"total_amount\": 499, \"payment_method\": \"PayPal\", \"items\": [{\"item_id\": 8, \"name\": \"Gaming Console\", \"category\": \"Electronics\", \"price\": 499, \"quantity\": 1, \"details\": {\"brand\": \"Dell\", \"color\": \"Black\"}}], \"order_status\": \"Pending\"}"
        ],
        [
         null,
         "{\"order_id\": 72, \"customer_id\": 3889, \"order_date\": 2024-10-06, \"transaction_timestamp\": \"2024-10-06 10:23:28\", \"total_amount\": 328, \"payment_method\": \"PayPal\", \"items\": [{\"item_id\": 3, \"name\": \"Wireless Headphones\", \"category\": \"Electronics\", \"price\": 199, \"quantity\": 1, \"details\": {\"brand\": \"Microsoft\", \"color\": \"Gray\"}}, {\"item_id\": 7, \"name\": \"External Hard Drive\", \"category\": \"Electronics\", \"price\": 129, \"quantity\": 1, \"details\": {\"brand\": \"Samsung\", \"color\": \"Silver\"}}], \"order_status\": \"Cancelled\"}"
        ],
        [
         "77",
         "{\"order_id\": 77, \"customer_id\": 9084, \"order_date\": \"2024-10-15\", \"transaction_timestamp\": \"2024-10-15 13:09:33\", \"total_amount\": 398, \"payment_method\": \"Credit Card\", \"items\": [{\"item_id\": 3, \"name\": \"Wireless Headphones\", \"category\": \"Electronics\", \"price\": 199, \"quantity\": 2, \"details\": {\"brand\": \"HP\", \"color\": \"Silver\"}}], \"order_status\": \"Pending\"}"
        ],
        [
         "84",
         "{\"order_id\": 84, \"customer_id\": 2344, \"order_date\": \"2024-10-25\", \"transaction_timestamp\": \"2024-10-25 03:37:42\", \"total_amount\": 998, \"payment_method\": \"PayPal\", \"items\": [{\"item_id\": 10, \"name\": \"Drone\", \"category\": \"Electronics\", \"price\": 799, \"quantity\": 1, \"details\": {\"brand\": \"Sony\", \"color\": \"Black\"}}, {\"item_id\": 3, \"name\": \"Wireless Headphones\", \"category\": \"Electronics\", \"price\": 199, \"quantity\": 1, \"details\": {\"brand\": \"LG\", \"color\": \"Black\"}}], \"order_status\": \"Completed\"}"
        ],
        [
         "85",
         "{\"order_id\": 85, \"customer_id\": 5011, \"order_date\": \"2024-10-23\", \"transaction_timestamp\": \"2024-10-23 20:06:42\", \"total_amount\": 998, \"payment_method\": \"Bank Transfer\", \"items\": [{\"item_id\": 8, \"name\": \"Gaming Console\", \"category\": \"Electronics\", \"price\": 499, \"quantity\": 2, \"details\": {\"brand\": \"GoPro\", \"color\": \"Black\"}}], \"order_status\": \"Shipped\"}"
        ],
        [
         "86",
         "{\"order_id\": 86, \"customer_id\": 5011, \"order_date\": \"2024-10-19\", \"transaction_timestamp\": \"2024-10-19 13:30:47\", \"total_amount\": 1199, \"payment_method\": \"PayPal\", \"items\": [{\"item_id\": 9, \"name\": \"Smart TV\", \"category\": \"Electronics\", \"price\": 1199, \"quantity\": 1, \"details\": {\"brand\": \"Dell\", \"color\": \"White\"}}], \"order_status\": \"Completed\"}"
        ]
       ],
       "datasetInfos": [
        {
         "name": "_sqldf",
         "schema": {
          "fields": [
           {
            "metadata": {},
            "name": "order_id",
            "nullable": true,
            "type": "string"
           },
           {
            "metadata": {},
            "name": "value",
            "nullable": true,
            "type": "string"
           }
          ],
          "type": "struct"
         },
         "tableIdentifier": null,
         "typeStr": "pyspark.sql.connect.dataframe.DataFrame"
        }
       ],
       "dbfsResultPath": null,
       "isJsonSchema": true,
       "metadata": {
        "createTempViewForImplicitDf": true,
        "dataframeName": "_sqldf",
        "executionCount": 5
       },
       "overflow": false,
       "plotOptions": {
        "customPlotOptions": {},
        "displayType": "table",
        "pivotAggregation": null,
        "pivotColumns": null,
        "xColumns": null,
        "yColumns": null
       },
       "removedWidgets": [],
       "schema": [
        {
         "metadata": "{}",
         "name": "order_id",
         "type": "\"string\""
        },
        {
         "metadata": "{}",
         "name": "value",
         "type": "\"string\""
        }
       ],
       "type": "table"
      }
     },
     "output_type": "display_data"
    }
   ],
   "source": [
    "%sql\n",
    "select value:order_id as order_id,\n",
    "       value\n",
    "  from gizmobox.bronze.v_orders;"
   ]
  },
  {
   "cell_type": "markdown",
   "metadata": {
    "application/vnd.databricks.v1+cell": {
     "cellMetadata": {},
     "inputWidgets": {},
     "nuid": "26c1b7ec-58da-4ee9-a486-705b13ca4c9e",
     "showTitle": false,
     "tableResultSettingsMap": {},
     "title": ""
    }
   },
   "source": [
    "#### 2-Extract Arrauy elements"
   ]
  },
  {
   "cell_type": "code",
   "execution_count": 0,
   "metadata": {
    "application/vnd.databricks.v1+cell": {
     "cellMetadata": {
      "byteLimit": 2048000,
      "implicitDf": true,
      "rowLimit": 10000
     },
     "inputWidgets": {},
     "nuid": "25a75920-5495-4307-9911-89b0a48e2dca",
     "showTitle": false,
     "tableResultSettingsMap": {
      "0": {
       "dataGridStateBlob": "{\"version\":1,\"tableState\":{\"columnPinning\":{\"left\":[\"#row_number#\"],\"right\":[]},\"columnSizing\":{},\"columnVisibility\":{}},\"settings\":{\"columns\":{}},\"syncTimestamp\":1758172892637}",
       "filterBlob": null,
       "queryPlanFiltersBlob": null,
       "tableResultIndex": 0
      }
     },
     "title": ""
    }
   },
   "outputs": [
    {
     "output_type": "display_data",
     "data": {
      "text/html": [
       "<style scoped>\n",
       "  .table-result-container {\n",
       "    max-height: 300px;\n",
       "    overflow: auto;\n",
       "  }\n",
       "  table, th, td {\n",
       "    border: 1px solid black;\n",
       "    border-collapse: collapse;\n",
       "  }\n",
       "  th, td {\n",
       "    padding: 5px;\n",
       "  }\n",
       "  th {\n",
       "    text-align: left;\n",
       "  }\n",
       "</style><div class='table-result-container'><table class='table-result'><thead style='background-color: white'><tr><th>items_1</th><th>items_2</th><th>value</th></tr></thead><tbody><tr><td>{\"item_id\":8,\"name\":\"Gaming Console\",\"category\":\"Electronics\",\"price\":499,\"quantity\":1,\"details\":{\"brand\":\"Sony\",\"color\":\"Blue\"}}</td><td>null</td><td>{\"order_id\": 1, \"customer_id\": 6973, \"order_date\": \"2025-01-05\", \"transaction_timestamp\": \"2025-01-05 10:13:59\", \"total_amount\": 499, \"payment_method\": \"Bank Transfer\", \"items\": [{\"item_id\": 8, \"name\": \"Gaming Console\", \"category\": \"Electronics\", \"price\": 499, \"quantity\": 1, \"details\": {\"brand\": \"Sony\", \"color\": \"Blue\"}}], \"order_status\": \"Completed\"}</td></tr><tr><td>null</td><td>null</td><td>{\"order_id\": 2, \"customer_id\": 3532, \"order_date\": 2025-01-19, \"transaction_timestamp\": \"2025-01-19 00:05:13\", \"total_amount\": 985, \"payment_method\": \"PayPal\", \"items\": [{\"item_id\": 4, \"name\": \"Smartwatch\", \"category\": \"Electronics\", \"price\": 299, \"quantity\": 2, \"details\": {\"brand\": \"Canon\", \"color\": \"Gray\"}}, {\"item_id\": 7, \"name\": \"External Hard Drive\", \"category\": \"Electronics\", \"price\": 129, \"quantity\": 3, \"details\": {\"brand\": \"Dell\", \"color\": \"Blue\"}}], \"order_status\": \"Cancelled\"}</td></tr><tr><td>{\"item_id\":3,\"name\":\"Wireless Headphones\",\"category\":\"Electronics\",\"price\":199,\"quantity\":3,\"details\":{\"brand\":\"Apple\",\"color\":\"White\"}}</td><td>null</td><td>{\"order_id\": 3, \"customer_id\": 3532, \"order_date\": \"2025-01-08\", \"transaction_timestamp\": \"2025-01-08 23:11:00\", \"total_amount\": 597, \"payment_method\": \"Bank Transfer\", \"items\": [{\"item_id\": 3, \"name\": \"Wireless Headphones\", \"category\": \"Electronics\", \"price\": 199, \"quantity\": 3, \"details\": {\"brand\": \"Apple\", \"color\": \"White\"}}], \"order_status\": \"Completed\"}</td></tr><tr><td>{\"item_id\":2,\"name\":\"Laptop\",\"category\":\"Electronics\",\"price\":999,\"quantity\":1,\"details\":{\"brand\":\"Microsoft\",\"color\":\"Black\"}}</td><td>null</td><td>{\"order_id\": 4, \"customer_id\": 3532, \"order_date\": \"2025-01-05\", \"transaction_timestamp\": \"2025-01-05 05:49:26\", \"total_amount\": 999, \"payment_method\": \"Bank Transfer\", \"items\": [{\"item_id\": 2, \"name\": \"Laptop\", \"category\": \"Electronics\", \"price\": 999, \"quantity\": 1, \"details\": {\"brand\": \"Microsoft\", \"color\": \"Black\"}}], \"order_status\": \"Cancelled\"}</td></tr><tr><td>{\"item_id\":5,\"name\":\"Tablet\",\"category\":\"Electronics\",\"price\":399,\"quantity\":1,\"details\":{\"brand\":\"LG\",\"color\":\"White\"}}</td><td>null</td><td>{\"order_id\": 8, \"customer_id\": 9179, \"order_date\": \"2025-01-02\", \"transaction_timestamp\": \"2025-01-02 13:11:15\", \"total_amount\": 399, \"payment_method\": \"PayPal\", \"items\": [{\"item_id\": 5, \"name\": \"Tablet\", \"category\": \"Electronics\", \"price\": 399, \"quantity\": 1, \"details\": {\"brand\": \"LG\", \"color\": \"White\"}}], \"order_status\": \"Completed\"}</td></tr><tr><td>{\"item_id\":3,\"name\":\"Wireless Headphones\",\"category\":\"Electronics\",\"price\":199,\"quantity\":3,\"details\":{\"brand\":\"Bose\",\"color\":\"Blue\"}}</td><td>null</td><td>{\"order_id\": 14, \"customer_id\": 7207, \"order_date\": \"2025-01-01\", \"transaction_timestamp\": \"2025-01-01 18:22:26\", \"total_amount\": 597, \"payment_method\": \"PayPal\", \"items\": [{\"item_id\": 3, \"name\": \"Wireless Headphones\", \"category\": \"Electronics\", \"price\": 199, \"quantity\": 3, \"details\": {\"brand\": \"Bose\", \"color\": \"Blue\"}}], \"order_status\": \"Cancelled\"}</td></tr><tr><td>{\"item_id\":10,\"name\":\"Drone\",\"category\":\"Electronics\",\"price\":799,\"quantity\":1,\"details\":{\"brand\":\"Dell\",\"color\":\"Black\"}}</td><td>null</td><td>{\"order_id\": 18, \"customer_id\": 4468, \"order_date\": \"2025-01-22\", \"transaction_timestamp\": \"2025-01-22 21:12:08\", \"total_amount\": 799, \"payment_method\": \"Credit Card\", \"items\": [{\"item_id\": 10, \"name\": \"Drone\", \"category\": \"Electronics\", \"price\": 799, \"quantity\": 1, \"details\": {\"brand\": \"Dell\", \"color\": \"Black\"}}], \"order_status\": \"Pending\"}</td></tr><tr><td>null</td><td>null</td><td>{\"order_id\": 22, \"customer_id\": 4761, \"order_date\": 2025-01-01, \"transaction_timestamp\": \"2025-01-01 15:49:19\", \"total_amount\": 199, \"payment_method\": \"PayPal\", \"items\": [{\"item_id\": 3, \"name\": \"Wireless Headphones\", \"category\": \"Electronics\", \"price\": 199, \"quantity\": 1, \"details\": {\"brand\": \"HP\", \"color\": \"Silver\"}}], \"order_status\": \"Pending\"}</td></tr><tr><td>{\"item_id\":1,\"name\":\"Smartphone\",\"category\":\"Electronics\",\"price\":699,\"quantity\":1,\"details\":{\"brand\":\"Samsung\",\"color\":\"Silver\"}}</td><td>null</td><td>{\"order_id\": 26, \"customer_id\": 7007, \"order_date\": \"2025-01-05\", \"transaction_timestamp\": \"2025-01-05 19:01:25\", \"total_amount\": 699, \"payment_method\": \"Bank Transfer\", \"items\": [{\"item_id\": 1, \"name\": \"Smartphone\", \"category\": \"Electronics\", \"price\": 699, \"quantity\": 1, \"details\": {\"brand\": \"Samsung\", \"color\": \"Silver\"}}], \"order_status\": \"Shipped\"}</td></tr><tr><td>{\"item_id\":7,\"name\":\"External Hard Drive\",\"category\":\"Electronics\",\"price\":129,\"quantity\":1,\"details\":{\"brand\":\"Bose\",\"color\":\"Gray\"}}</td><td>{\"item_id\":7,\"name\":\"External Hard Drive\",\"category\":\"Electronics\",\"price\":129,\"quantity\":1,\"details\":{\"brand\":\"Bose\",\"color\":\"Gray\"}}</td><td>{\"order_id\": 29, \"customer_id\": 5953, \"order_date\": \"2025-01-18\", \"transaction_timestamp\": \"2025-01-18 03:05:04\", \"total_amount\": 129, \"payment_method\": \"Bank Transfer\", \"items\": [{\"item_id\": 7, \"name\": \"External Hard Drive\", \"category\": \"Electronics\", \"price\": 129, \"quantity\": 1, \"details\": {\"brand\": \"Bose\", \"color\": \"Gray\"}}, {\"item_id\": 7, \"name\": \"External Hard Drive\", \"category\": \"Electronics\", \"price\": 129, \"quantity\": 1, \"details\": {\"brand\": \"Bose\", \"color\": \"Gray\"}}], \"order_status\": \"Pending\"}</td></tr><tr><td>{\"item_id\":4,\"name\":\"Smartwatch\",\"category\":\"Electronics\",\"price\":299,\"quantity\":1,\"details\":{\"brand\":\"Dell\",\"color\":\"White\"}}</td><td>null</td><td>{\"order_id\": 31, \"customer_id\": 4996, \"order_date\": \"2025-01-18\", \"transaction_timestamp\": \"2025-01-18 03:13:29\", \"total_amount\": 299, \"payment_method\": \"Bank Transfer\", \"items\": [{\"item_id\": 4, \"name\": \"Smartwatch\", \"category\": \"Electronics\", \"price\": 299, \"quantity\": 1, \"details\": {\"brand\": \"Dell\", \"color\": \"White\"}}], \"order_status\": \"Shipped\"}</td></tr><tr><td>{\"item_id\":4,\"name\":\"Smartwatch\",\"category\":\"Electronics\",\"price\":299,\"quantity\":3,\"details\":{\"brand\":\"Canon\",\"color\":\"White\"}}</td><td>null</td><td>{\"order_id\": 33, \"customer_id\": 9605, \"order_date\": \"2025-01-13\", \"transaction_timestamp\": \"2025-01-13 04:47:43\", \"total_amount\": 897, \"payment_method\": \"PayPal\", \"items\": [{\"item_id\": 4, \"name\": \"Smartwatch\", \"category\": \"Electronics\", \"price\": 299, \"quantity\": 3, \"details\": {\"brand\": \"Canon\", \"color\": \"White\"}}], \"order_status\": \"Completed\"}</td></tr><tr><td>{\"item_id\":6,\"name\":\"Bluetooth Speaker\",\"category\":\"Electronics\",\"price\":149,\"quantity\":2,\"details\":{\"brand\":\"Bose\",\"color\":\"Silver\"}}</td><td>{\"item_id\":8,\"name\":\"Gaming Console\",\"category\":\"Electronics\",\"price\":499,\"quantity\":1,\"details\":{\"brand\":\"LG\",\"color\":\"Black\"}}</td><td>{\"order_id\": 34, \"customer_id\": 9605, \"order_date\": \"2025-01-21\", \"transaction_timestamp\": \"2025-01-21 00:25:01\", \"total_amount\": 926, \"payment_method\": \"PayPal\", \"items\": [{\"item_id\": 6, \"name\": \"Bluetooth Speaker\", \"category\": \"Electronics\", \"price\": 149, \"quantity\": 2, \"details\": {\"brand\": \"Bose\", \"color\": \"Silver\"}}, {\"item_id\": 8, \"name\": \"Gaming Console\", \"category\": \"Electronics\", \"price\": 499, \"quantity\": 1, \"details\": {\"brand\": \"LG\", \"color\": \"Black\"}}, {\"item_id\": 7, \"name\": \"External Hard Drive\", \"category\": \"Electronics\", \"price\": 129, \"quantity\": 1, \"details\": {\"brand\": \"Samsung\", \"color\": \"Black\"}}], \"order_status\": \"Cancelled\"}</td></tr><tr><td>{\"item_id\":6,\"name\":\"Bluetooth Speaker\",\"category\":\"Electronics\",\"price\":149,\"quantity\":2,\"details\":{\"brand\":\"Bose\",\"color\":\"Silver\"}}</td><td>null</td><td>{\"order_id\": 40, \"customer_id\": 6384, \"order_date\": \"2025-01-20\", \"transaction_timestamp\": \"2025-01-20 16:18:35\", \"total_amount\": 298, \"payment_method\": \"PayPal\", \"items\": [{\"item_id\": 6, \"name\": \"Bluetooth Speaker\", \"category\": \"Electronics\", \"price\": 149, \"quantity\": 2, \"details\": {\"brand\": \"Bose\", \"color\": \"Silver\"}}], \"order_status\": \"Completed\"}</td></tr><tr><td>{\"item_id\":2,\"name\":\"Laptop\",\"category\":\"Electronics\",\"price\":999,\"quantity\":1,\"details\":{\"brand\":\"Sony\",\"color\":\"Silver\"}}</td><td>null</td><td>{\"order_id\": 41, \"customer_id\": 6384, \"order_date\": \"2025-01-05\", \"transaction_timestamp\": \"2025-01-05 06:10:22\", \"total_amount\": 999, \"payment_method\": \"Credit Card\", \"items\": [{\"item_id\": 2, \"name\": \"Laptop\", \"category\": \"Electronics\", \"price\": 999, \"quantity\": 1, \"details\": {\"brand\": \"Sony\", \"color\": \"Silver\"}}], \"order_status\": \"Shipped\"}</td></tr><tr><td>{\"item_id\":8,\"name\":\"Gaming Console\",\"category\":\"Electronics\",\"price\":499,\"quantity\":1,\"details\":{\"brand\":\"LG\",\"color\":\"Black\"}}</td><td>null</td><td>{\"order_id\": 43, \"customer_id\": 5028, \"order_date\": \"2025-01-24\", \"transaction_timestamp\": \"2025-01-24 18:10:37\", \"total_amount\": 499, \"payment_method\": \"PayPal\", \"items\": [{\"item_id\": 8, \"name\": \"Gaming Console\", \"category\": \"Electronics\", \"price\": 499, \"quantity\": 1, \"details\": {\"brand\": \"LG\", \"color\": \"Black\"}}], \"order_status\": \"Pending\"}</td></tr><tr><td>{\"item_id\":6,\"name\":\"Bluetooth Speaker\",\"category\":\"Electronics\",\"price\":149,\"quantity\":3,\"details\":{\"brand\":\"Apple\",\"color\":\"Gray\"}}</td><td>{\"item_id\":4,\"name\":\"Smartwatch\",\"category\":\"Electronics\",\"price\":299,\"quantity\":1,\"details\":{\"brand\":\"Sony\",\"color\":\"White\"}}</td><td>{\"order_id\": 50, \"customer_id\": 3712, \"order_date\": \"2025-01-11\", \"transaction_timestamp\": \"2025-01-11 01:19:09\", \"total_amount\": 746, \"payment_method\": \"Credit Card\", \"items\": [{\"item_id\": 6, \"name\": \"Bluetooth Speaker\", \"category\": \"Electronics\", \"price\": 149, \"quantity\": 3, \"details\": {\"brand\": \"Apple\", \"color\": \"Gray\"}}, {\"item_id\": 4, \"name\": \"Smartwatch\", \"category\": \"Electronics\", \"price\": 299, \"quantity\": 1, \"details\": {\"brand\": \"Sony\", \"color\": \"White\"}}], \"order_status\": \"Shipped\"}</td></tr><tr><td>{\"item_id\":6,\"name\":\"Bluetooth Speaker\",\"category\":\"Electronics\",\"price\":149,\"quantity\":1,\"details\":{\"brand\":\"Samsung\",\"color\":\"Gray\"}}</td><td>null</td><td>{\"order_id\": 51, \"customer_id\": 8845, \"order_date\": \"2025-01-21\", \"transaction_timestamp\": \"2025-01-21 13:19:59\", \"total_amount\": 149, \"payment_method\": \"PayPal\", \"items\": [{\"item_id\": 6, \"name\": \"Bluetooth Speaker\", \"category\": \"Electronics\", \"price\": 149, \"quantity\": 1, \"details\": {\"brand\": \"Samsung\", \"color\": \"Gray\"}}], \"order_status\": \"Completed\"}</td></tr><tr><td>{\"item_id\":3,\"name\":\"Wireless Headphones\",\"category\":\"Electronics\",\"price\":199,\"quantity\":1,\"details\":{\"brand\":\"Apple\",\"color\":\"Black\"}}</td><td>null</td><td>{\"order_id\": 53, \"customer_id\": 8845, \"order_date\": \"2025-01-21\", \"transaction_timestamp\": \"2025-01-21 08:31:02\", \"total_amount\": 199, \"payment_method\": \"Bank Transfer\", \"items\": [{\"item_id\": 3, \"name\": \"Wireless Headphones\", \"category\": \"Electronics\", \"price\": 199, \"quantity\": 1, \"details\": {\"brand\": \"Apple\", \"color\": \"Black\"}}], \"order_status\": \"Pending\"}</td></tr><tr><td>{\"item_id\":3,\"name\":\"Wireless Headphones\",\"category\":\"Electronics\",\"price\":199,\"quantity\":1,\"details\":{\"brand\":\"HP\",\"color\":\"Silver\"}}</td><td>{\"item_id\":8,\"name\":\"Gaming Console\",\"category\":\"Electronics\",\"price\":499,\"quantity\":1,\"details\":{\"brand\":\"LG\",\"color\":\"Gray\"}}</td><td>{\"order_id\": 56, \"customer_id\": 8580, \"order_date\": \"2025-01-01\", \"transaction_timestamp\": \"2025-01-01 12:02:41\", \"total_amount\": 698, \"payment_method\": \"PayPal\", \"items\": [{\"item_id\": 3, \"name\": \"Wireless Headphones\", \"category\": \"Electronics\", \"price\": 199, \"quantity\": 1, \"details\": {\"brand\": \"HP\", \"color\": \"Silver\"}}, {\"item_id\": 8, \"name\": \"Gaming Console\", \"category\": \"Electronics\", \"price\": 499, \"quantity\": 1, \"details\": {\"brand\": \"LG\", \"color\": \"Gray\"}}], \"order_status\": \"Cancelled\"}</td></tr><tr><td>{\"item_id\":7,\"name\":\"External Hard Drive\",\"category\":\"Electronics\",\"price\":129,\"quantity\":3,\"details\":{\"brand\":\"Dell\",\"color\":\"White\"}}</td><td>{\"item_id\":4,\"name\":\"Smartwatch\",\"category\":\"Electronics\",\"price\":299,\"quantity\":2,\"details\":{\"brand\":\"GoPro\",\"color\":\"Blue\"}}</td><td>{\"order_id\": 62, \"customer_id\": 7123, \"order_date\": \"2025-01-24\", \"transaction_timestamp\": \"2025-01-24 12:00:54\", \"total_amount\": 985, \"payment_method\": \"Bank Transfer\", \"items\": [{\"item_id\": 7, \"name\": \"External Hard Drive\", \"category\": \"Electronics\", \"price\": 129, \"quantity\": 3, \"details\": {\"brand\": \"Dell\", \"color\": \"White\"}}, {\"item_id\": 4, \"name\": \"Smartwatch\", \"category\": \"Electronics\", \"price\": 299, \"quantity\": 2, \"details\": {\"brand\": \"GoPro\", \"color\": \"Blue\"}}], \"order_status\": \"Completed\"}</td></tr><tr><td>{\"item_id\":4,\"name\":\"Smartwatch\",\"category\":\"Electronics\",\"price\":299,\"quantity\":1,\"details\":{\"brand\":\"Bose\",\"color\":\"Silver\"}}</td><td>{\"item_id\":4,\"name\":\"Smartwatch\",\"category\":\"Electronics\",\"price\":299,\"quantity\":1,\"details\":{\"brand\":\"GoPro\",\"color\":\"White\"}}</td><td>{\"order_id\": 66, \"customer_id\": 3084, \"order_date\": \"2025-01-17\", \"transaction_timestamp\": \"2025-01-17 21:16:11\", \"total_amount\": 598, \"payment_method\": \"Credit Card\", \"items\": [{\"item_id\": 4, \"name\": \"Smartwatch\", \"category\": \"Electronics\", \"price\": 299, \"quantity\": 1, \"details\": {\"brand\": \"Bose\", \"color\": \"Silver\"}}, {\"item_id\": 4, \"name\": \"Smartwatch\", \"category\": \"Electronics\", \"price\": 299, \"quantity\": 1, \"details\": {\"brand\": \"GoPro\", \"color\": \"White\"}}], \"order_status\": \"Cancelled\"}</td></tr><tr><td>{\"item_id\":6,\"name\":\"Bluetooth Speaker\",\"category\":\"Electronics\",\"price\":149,\"quantity\":1,\"details\":{\"brand\":\"Bose\",\"color\":\"Gray\"}}</td><td>null</td><td>{\"order_id\": 68, \"customer_id\": 4973, \"order_date\": \"2025-01-10\", \"transaction_timestamp\": \"2025-01-10 20:35:43\", \"total_amount\": 149, \"payment_method\": \"Bank Transfer\", \"items\": [{\"item_id\": 6, \"name\": \"Bluetooth Speaker\", \"category\": \"Electronics\", \"price\": 149, \"quantity\": 1, \"details\": {\"brand\": \"Bose\", \"color\": \"Gray\"}}], \"order_status\": \"Completed\"}</td></tr><tr><td>{\"item_id\":7,\"name\":\"External Hard Drive\",\"category\":\"Electronics\",\"price\":129,\"quantity\":3,\"details\":{\"brand\":\"GoPro\",\"color\":\"Gray\"}}</td><td>{\"item_id\":7,\"name\":\"External Hard Drive\",\"category\":\"Electronics\",\"price\":129,\"quantity\":3,\"details\":{\"brand\":\"GoPro\",\"color\":\"Gray\"}}</td><td>{\"order_id\": 73, \"customer_id\": 6167, \"order_date\": \"2025-01-07\", \"transaction_timestamp\": \"2025-01-07 01:02:26\", \"total_amount\": 387, \"payment_method\": \"Credit Card\", \"items\": [{\"item_id\": 7, \"name\": \"External Hard Drive\", \"category\": \"Electronics\", \"price\": 129, \"quantity\": 3, \"details\": {\"brand\": \"GoPro\", \"color\": \"Gray\"}}, {\"item_id\": 7, \"name\": \"External Hard Drive\", \"category\": \"Electronics\", \"price\": 129, \"quantity\": 3, \"details\": {\"brand\": \"GoPro\", \"color\": \"Gray\"}}], \"order_status\": \"Shipped\"}</td></tr><tr><td>{\"item_id\":1,\"name\":\"Smartphone\",\"category\":\"Electronics\",\"price\":699,\"quantity\":1,\"details\":{\"brand\":\"GoPro\",\"color\":\"White\"}}</td><td>null</td><td>{\"order_id\": 75, \"customer_id\": 6167, \"order_date\": \"2025-01-19\", \"transaction_timestamp\": \"2025-01-19 16:23:16\", \"total_amount\": 699, \"payment_method\": \"Credit Card\", \"items\": [{\"item_id\": 1, \"name\": \"Smartphone\", \"category\": \"Electronics\", \"price\": 699, \"quantity\": 1, \"details\": {\"brand\": \"GoPro\", \"color\": \"White\"}}], \"order_status\": \"Shipped\"}</td></tr><tr><td>{\"item_id\":5,\"name\":\"Tablet\",\"category\":\"Electronics\",\"price\":399,\"quantity\":1,\"details\":{\"brand\":\"Microsoft\",\"color\":\"Silver\"}}</td><td>null</td><td>{\"order_id\": 76, \"customer_id\": 3295, \"order_date\": \"2025-01-06\", \"transaction_timestamp\": \"2025-01-06 02:54:39\", \"total_amount\": 399, \"payment_method\": \"Bank Transfer\", \"items\": [{\"item_id\": 5, \"name\": \"Tablet\", \"category\": \"Electronics\", \"price\": 399, \"quantity\": 1, \"details\": {\"brand\": \"Microsoft\", \"color\": \"Silver\"}}], \"order_status\": \"Completed\"}</td></tr><tr><td>{\"item_id\":5,\"name\":\"Tablet\",\"category\":\"Electronics\",\"price\":399,\"quantity\":2,\"details\":{\"brand\":\"Dell\",\"color\":\"White\"}}</td><td>null</td><td>{\"order_id\": 78, \"customer_id\": 9084, \"order_date\": \"2025-01-21\", \"transaction_timestamp\": \"2025-01-21 11:42:51\", \"total_amount\": 798, \"payment_method\": \"PayPal\", \"items\": [{\"item_id\": 5, \"name\": \"Tablet\", \"category\": \"Electronics\", \"price\": 399, \"quantity\": 2, \"details\": {\"brand\": \"Dell\", \"color\": \"White\"}}], \"order_status\": \"Cancelled\"}</td></tr><tr><td>{\"item_id\":8,\"name\":\"Gaming Console\",\"category\":\"Electronics\",\"price\":499,\"quantity\":2,\"details\":{\"brand\":\"Dell\",\"color\":\"Gray\"}}</td><td>null</td><td>{\"order_id\": 79, \"customer_id\": 9084, \"order_date\": \"2025-01-25\", \"transaction_timestamp\": \"2025-01-25 03:52:05\", \"total_amount\": 998, \"payment_method\": \"Credit Card\", \"items\": [{\"item_id\": 8, \"name\": \"Gaming Console\", \"category\": \"Electronics\", \"price\": 499, \"quantity\": 2, \"details\": {\"brand\": \"Dell\", \"color\": \"Gray\"}}], \"order_status\": \"Cancelled\"}</td></tr><tr><td>{\"item_id\":7,\"name\":\"External Hard Drive\",\"category\":\"Electronics\",\"price\":129,\"quantity\":3,\"details\":{\"brand\":\"Canon\",\"color\":\"Gray\"}}</td><td>{\"item_id\":3,\"name\":\"Wireless Headphones\",\"category\":\"Electronics\",\"price\":199,\"quantity\":2,\"details\":{\"brand\":\"Sony\",\"color\":\"Black\"}}</td><td>{\"order_id\": 83, \"customer_id\": 2344, \"order_date\": \"2025-01-07\", \"transaction_timestamp\": \"2025-01-07 12:48:05\", \"total_amount\": 785, \"payment_method\": \"PayPal\", \"items\": [{\"item_id\": 7, \"name\": \"External Hard Drive\", \"category\": \"Electronics\", \"price\": 129, \"quantity\": 3, \"details\": {\"brand\": \"Canon\", \"color\": \"Gray\"}}, {\"item_id\": 3, \"name\": \"Wireless Headphones\", \"category\": \"Electronics\", \"price\": 199, \"quantity\": 2, \"details\": {\"brand\": \"Sony\", \"color\": \"Black\"}}], \"order_status\": \"Shipped\"}</td></tr><tr><td>{\"item_id\":7,\"name\":\"External Hard Drive\",\"category\":\"Electronics\",\"price\":129,\"quantity\":1,\"details\":{\"brand\":\"Apple\",\"color\":\"Blue\"}}</td><td>null</td><td>{\"order_id\": 87, \"customer_id\": 2141, \"order_date\": \"2025-01-02\", \"transaction_timestamp\": \"2025-01-02 04:28:38\", \"total_amount\": 129, \"payment_method\": \"PayPal\", \"items\": [{\"item_id\": 7, \"name\": \"External Hard Drive\", \"category\": \"Electronics\", \"price\": 129, \"quantity\": 1, \"details\": {\"brand\": \"Apple\", \"color\": \"Blue\"}}], \"order_status\": \"Pending\"}</td></tr><tr><td>{\"item_id\":7,\"name\":\"External Hard Drive\",\"category\":\"Electronics\",\"price\":129,\"quantity\":1,\"details\":{\"brand\":\"Canon\",\"color\":\"White\"}}</td><td>{\"item_id\":7,\"name\":\"External Hard Drive\",\"category\":\"Electronics\",\"price\":129,\"quantity\":1,\"details\":{\"brand\":\"Samsung\",\"color\":\"Black\"}}</td><td>{\"order_id\": 90, \"customer_id\": 9247, \"order_date\": \"2025-01-17\", \"transaction_timestamp\": \"2025-01-17 14:30:54\", \"total_amount\": 258, \"payment_method\": \"Credit Card\", \"items\": [{\"item_id\": 7, \"name\": \"External Hard Drive\", \"category\": \"Electronics\", \"price\": 129, \"quantity\": 1, \"details\": {\"brand\": \"Canon\", \"color\": \"White\"}}, {\"item_id\": 7, \"name\": \"External Hard Drive\", \"category\": \"Electronics\", \"price\": 129, \"quantity\": 1, \"details\": {\"brand\": \"Samsung\", \"color\": \"Black\"}}], \"order_status\": \"Pending\"}</td></tr><tr><td>{\"item_id\":6,\"name\":\"Bluetooth Speaker\",\"category\":\"Electronics\",\"price\":149,\"quantity\":2,\"details\":{\"brand\":\"Sony\",\"color\":\"Black\"}}</td><td>{\"item_id\":3,\"name\":\"Wireless Headphones\",\"category\":\"Electronics\",\"price\":199,\"quantity\":3,\"details\":{\"brand\":\"Apple\",\"color\":\"Blue\"}}</td><td>{\"order_id\": 94, \"customer_id\": 6627, \"order_date\": \"2025-01-10\", \"transaction_timestamp\": \"2025-01-10 09:51:48\", \"total_amount\": 895, \"payment_method\": \"Credit Card\", \"items\": [{\"item_id\": 6, \"name\": \"Bluetooth Speaker\", \"category\": \"Electronics\", \"price\": 149, \"quantity\": 2, \"details\": {\"brand\": \"Sony\", \"color\": \"Black\"}}, {\"item_id\": 3, \"name\": \"Wireless Headphones\", \"category\": \"Electronics\", \"price\": 199, \"quantity\": 3, \"details\": {\"brand\": \"Apple\", \"color\": \"Blue\"}}], \"order_status\": \"Pending\"}</td></tr><tr><td>{\"item_id\":7,\"name\":\"External Hard Drive\",\"category\":\"Electronics\",\"price\":129,\"quantity\":3,\"details\":{\"brand\":\"HP\",\"color\":\"Blue\"}}</td><td>{\"item_id\":4,\"name\":\"Smartwatch\",\"category\":\"Electronics\",\"price\":299,\"quantity\":2,\"details\":{\"brand\":\"Samsung\",\"color\":\"Gray\"}}</td><td>{\"order_id\": 98, \"customer_id\": 9150, \"order_date\": \"2025-01-08\", \"transaction_timestamp\": \"2025-01-08 05:57:55\", \"total_amount\": 985, \"payment_method\": \"Credit Card\", \"items\": [{\"item_id\": 7, \"name\": \"External Hard Drive\", \"category\": \"Electronics\", \"price\": 129, \"quantity\": 3, \"details\": {\"brand\": \"HP\", \"color\": \"Blue\"}}, {\"item_id\": 4, \"name\": \"Smartwatch\", \"category\": \"Electronics\", \"price\": 299, \"quantity\": 2, \"details\": {\"brand\": \"Samsung\", \"color\": \"Gray\"}}], \"order_status\": \"Completed\"}</td></tr><tr><td>{\"item_id\":1,\"name\":\"Smartphone\",\"category\":\"Electronics\",\"price\":699,\"quantity\":1,\"details\":{\"brand\":\"Bose\",\"color\":\"Gray\"}}</td><td>null</td><td>{\"order_id\": 99, \"customer_id\": 9150, \"order_date\": \"2025-01-10\", \"transaction_timestamp\": \"2025-01-10 21:43:46\", \"total_amount\": 699, \"payment_method\": \"Credit Card\", \"items\": [{\"item_id\": 1, \"name\": \"Smartphone\", \"category\": \"Electronics\", \"price\": 699, \"quantity\": 1, \"details\": {\"brand\": \"Bose\", \"color\": \"Gray\"}}], \"order_status\": \"Shipped\"}</td></tr><tr><td>{\"item_id\":6,\"name\":\"Bluetooth Speaker\",\"category\":\"Electronics\",\"price\":149,\"quantity\":3,\"details\":{\"brand\":\"LG\",\"color\":\"Silver\"}}</td><td>null</td><td>{\"order_id\": 100, \"customer_id\": 9150, \"order_date\": \"2025-01-04\", \"transaction_timestamp\": \"2025-01-04 06:40:13\", \"total_amount\": 447, \"payment_method\": \"PayPal\", \"items\": [{\"item_id\": 6, \"name\": \"Bluetooth Speaker\", \"category\": \"Electronics\", \"price\": 149, \"quantity\": 3, \"details\": {\"brand\": \"LG\", \"color\": \"Silver\"}}], \"order_status\": \"Shipped\"}</td></tr><tr><td>{\"item_id\":2,\"name\":\"Laptop\",\"category\":\"Electronics\",\"price\":999,\"quantity\":1,\"details\":{\"brand\":\"Sony\",\"color\":\"White\"}}</td><td>null</td><td>{\"order_id\": 12, \"customer_id\": 5816, \"order_date\": \"2024-12-06\", \"transaction_timestamp\": \"2024-12-06 20:26:49\", \"total_amount\": 999, \"payment_method\": \"PayPal\", \"items\": [{\"item_id\": 2, \"name\": \"Laptop\", \"category\": \"Electronics\", \"price\": 999, \"quantity\": 1, \"details\": {\"brand\": \"Sony\", \"color\": \"White\"}}], \"order_status\": \"Cancelled\"}</td></tr><tr><td>{\"item_id\":2,\"name\":\"Laptop\",\"category\":\"Electronics\",\"price\":999,\"quantity\":1,\"details\":{\"brand\":\"GoPro\",\"color\":\"Black\"}}</td><td>null</td><td>{\"order_id\": 13, \"customer_id\": 4858, \"order_date\": \"2024-12-17\", \"transaction_timestamp\": \"2024-12-17 03:41:37\", \"total_amount\": 999, \"payment_method\": \"PayPal\", \"items\": [{\"item_id\": 2, \"name\": \"Laptop\", \"category\": \"Electronics\", \"price\": 999, \"quantity\": 1, \"details\": {\"brand\": \"GoPro\", \"color\": \"Black\"}}], \"order_status\": \"Pending\"}</td></tr><tr><td>{\"item_id\":3,\"name\":\"Wireless Headphones\",\"category\":\"Electronics\",\"price\":199,\"quantity\":3,\"details\":{\"brand\":\"Sony\",\"color\":\"Silver\"}}</td><td>null</td><td>{\"order_id\": 16, \"customer_id\": 5204, \"order_date\": \"2024-12-08\", \"transaction_timestamp\": \"2024-12-08 22:59:48\", \"total_amount\": 597, \"payment_method\": \"Bank Transfer\", \"items\": [{\"item_id\": 3, \"name\": \"Wireless Headphones\", \"category\": \"Electronics\", \"price\": 199, \"quantity\": 3, \"details\": {\"brand\": \"Sony\", \"color\": \"Silver\"}}], \"order_status\": \"Pending\"}</td></tr><tr><td>{\"item_id\":8,\"name\":\"Gaming Console\",\"category\":\"Electronics\",\"price\":499,\"quantity\":2,\"details\":{\"brand\":\"Dell\",\"color\":\"Black\"}}</td><td>null</td><td>{\"order_id\": 17, \"customer_id\": 5204, \"order_date\": \"2024-12-02\", \"transaction_timestamp\": \"2024-12-02 12:00:50\", \"total_amount\": 998, \"payment_method\": \"Bank Transfer\", \"items\": [{\"item_id\": 8, \"name\": \"Gaming Console\", \"category\": \"Electronics\", \"price\": 499, \"quantity\": 2, \"details\": {\"brand\": \"Dell\", \"color\": \"Black\"}}], \"order_status\": \"Pending\"}</td></tr><tr><td>{\"item_id\":9,\"name\":\"Smart TV\",\"category\":\"Electronics\",\"price\":1199,\"quantity\":1,\"details\":{\"brand\":\"GoPro\",\"color\":\"Gray\"}}</td><td>null</td><td>{\"order_id\": 24, \"customer_id\": 1211, \"order_date\": \"2024-12-21\", \"transaction_timestamp\": \"2024-12-21 03:24:26\", \"total_amount\": 1199, \"payment_method\": \"PayPal\", \"items\": [{\"item_id\": 9, \"name\": \"Smart TV\", \"category\": \"Electronics\", \"price\": 1199, \"quantity\": 1, \"details\": {\"brand\": \"GoPro\", \"color\": \"Gray\"}}], \"order_status\": \"Completed\"}</td></tr><tr><td>{\"item_id\":7,\"name\":\"External Hard Drive\",\"category\":\"Electronics\",\"price\":129,\"quantity\":2,\"details\":{\"brand\":\"Dell\",\"color\":\"White\"}}</td><td>{\"item_id\":6,\"name\":\"Bluetooth Speaker\",\"category\":\"Electronics\",\"price\":149,\"quantity\":3,\"details\":{\"brand\":\"Canon\",\"color\":\"Black\"}}</td><td>{\"order_id\": 27, \"customer_id\": 2703, \"order_date\": \"2024-12-02\", \"transaction_timestamp\": \"2024-12-02 11:24:21\", \"total_amount\": 904, \"payment_method\": \"Credit Card\", \"items\": [{\"item_id\": 7, \"name\": \"External Hard Drive\", \"category\": \"Electronics\", \"price\": 129, \"quantity\": 2, \"details\": {\"brand\": \"Dell\", \"color\": \"White\"}}, {\"item_id\": 6, \"name\": \"Bluetooth Speaker\", \"category\": \"Electronics\", \"price\": 149, \"quantity\": 3, \"details\": {\"brand\": \"Canon\", \"color\": \"Black\"}}, {\"item_id\": 3, \"name\": \"Wireless Headphones\", \"category\": \"Electronics\", \"price\": 199, \"quantity\": 1, \"details\": {\"brand\": \"Microsoft\", \"color\": \"Silver\"}}], \"order_status\": \"Completed\"}</td></tr><tr><td>{\"item_id\":7,\"name\":\"External Hard Drive\",\"category\":\"Electronics\",\"price\":129,\"quantity\":1,\"details\":{\"brand\":\"GoPro\",\"color\":\"Blue\"}}</td><td>null</td><td>{\"order_id\": 28, \"customer_id\": 2703, \"order_date\": \"2024-12-26\", \"transaction_timestamp\": \"2024-12-26 03:17:50\", \"total_amount\": 129, \"payment_method\": \"Credit Card\", \"items\": [{\"item_id\": 7, \"name\": \"External Hard Drive\", \"category\": \"Electronics\", \"price\": 129, \"quantity\": 1, \"details\": {\"brand\": \"GoPro\", \"color\": \"Blue\"}}], \"order_status\": \"Cancelled\"}</td></tr><tr><td>{\"item_id\":5,\"name\":\"Tablet\",\"category\":\"Electronics\",\"price\":399,\"quantity\":1,\"details\":{\"brand\":\"Apple\",\"color\":\"Silver\"}}</td><td>null</td><td>{\"order_id\": 32, \"customer_id\": 4996, \"order_date\": \"2024-12-28\", \"transaction_timestamp\": \"2024-12-28 08:55:57\", \"total_amount\": 399, \"payment_method\": \"PayPal\", \"items\": [{\"item_id\": 5, \"name\": \"Tablet\", \"category\": \"Electronics\", \"price\": 399, \"quantity\": 1, \"details\": {\"brand\": \"Apple\", \"color\": \"Silver\"}}], \"order_status\": \"Pending\"}</td></tr><tr><td>{\"item_id\":7,\"name\":\"External Hard Drive\",\"category\":\"Electronics\",\"price\":129,\"quantity\":2,\"details\":{\"brand\":\"HP\",\"color\":\"Silver\"}}</td><td>null</td><td>{\"order_id\": 37, \"customer_id\": 7829, \"order_date\": \"2024-12-22\", \"transaction_timestamp\": \"2024-12-22 10:11:49\", \"total_amount\": 258, \"payment_method\": \"Credit Card\", \"items\": [{\"item_id\": 7, \"name\": \"External Hard Drive\", \"category\": \"Electronics\", \"price\": 129, \"quantity\": 2, \"details\": {\"brand\": \"HP\", \"color\": \"Silver\"}}], \"order_status\": \"Shipped\"}</td></tr><tr><td>{\"item_id\":6,\"name\":\"Bluetooth Speaker\",\"category\":\"Electronics\",\"price\":149,\"quantity\":3,\"details\":{\"brand\":\"Apple\",\"color\":\"Gray\"}}</td><td>null</td><td>{\"order_id\": 38, \"customer_id\": 7829, \"order_date\": \"2024-12-25\", \"transaction_timestamp\": \"2024-12-25 22:05:19\", \"total_amount\": 447, \"payment_method\": \"Credit Card\", \"items\": [{\"item_id\": 6, \"name\": \"Bluetooth Speaker\", \"category\": \"Electronics\", \"price\": 149, \"quantity\": 3, \"details\": {\"brand\": \"Apple\", \"color\": \"Gray\"}}], \"order_status\": \"Shipped\"}</td></tr><tr><td>{\"item_id\":7,\"name\":\"External Hard Drive\",\"category\":\"Electronics\",\"price\":129,\"quantity\":1,\"details\":{\"brand\":\"Bose\",\"color\":\"Blue\"}}</td><td>null</td><td>{\"order_id\": 44, \"customer_id\": 7295, \"order_date\": \"2024-12-20\", \"transaction_timestamp\": \"2024-12-20 08:05:43\", \"total_amount\": 129, \"payment_method\": \"Credit Card\", \"items\": [{\"item_id\": 7, \"name\": \"External Hard Drive\", \"category\": \"Electronics\", \"price\": 129, \"quantity\": 1, \"details\": {\"brand\": \"Bose\", \"color\": \"Blue\"}}], \"order_status\": \"Completed\"}</td></tr><tr><td>{\"item_id\":4,\"name\":\"Smartwatch\",\"category\":\"Electronics\",\"price\":299,\"quantity\":1,\"details\":{\"brand\":\"HP\",\"color\":\"White\"}}</td><td>{\"item_id\":4,\"name\":\"Smartwatch\",\"category\":\"Electronics\",\"price\":299,\"quantity\":1,\"details\":{\"brand\":\"Canon\",\"color\":\"Blue\"}}</td><td>{\"order_id\": 49, \"customer_id\": 7803, \"order_date\": \"2024-12-07\", \"transaction_timestamp\": \"2024-12-07 23:24:11\", \"total_amount\": 747, \"payment_method\": \"PayPal\", \"items\": [{\"item_id\": 4, \"name\": \"Smartwatch\", \"category\": \"Electronics\", \"price\": 299, \"quantity\": 1, \"details\": {\"brand\": \"HP\", \"color\": \"White\"}}, {\"item_id\": 4, \"name\": \"Smartwatch\", \"category\": \"Electronics\", \"price\": 299, \"quantity\": 1, \"details\": {\"brand\": \"Canon\", \"color\": \"Blue\"}}, {\"item_id\": 6, \"name\": \"Bluetooth Speaker\", \"category\": \"Electronics\", \"price\": 149, \"quantity\": 1, \"details\": {\"brand\": \"Samsung\", \"color\": \"White\"}}], \"order_status\": \"Cancelled\"}</td></tr><tr><td>{\"item_id\":3,\"name\":\"Wireless Headphones\",\"category\":\"Electronics\",\"price\":199,\"quantity\":2,\"details\":{\"brand\":\"Bose\",\"color\":\"Gray\"}}</td><td>null</td><td>{\"order_id\": 54, \"customer_id\": 2054, \"order_date\": \"2024-12-20\", \"transaction_timestamp\": \"2024-12-20 12:04:27\", \"total_amount\": 398, \"payment_method\": \"Credit Card\", \"items\": [{\"item_id\": 3, \"name\": \"Wireless Headphones\", \"category\": \"Electronics\", \"price\": 199, \"quantity\": 2, \"details\": {\"brand\": \"Bose\", \"color\": \"Gray\"}}], \"order_status\": \"Pending\"}</td></tr><tr><td>{\"item_id\":1,\"name\":\"Smartphone\",\"category\":\"Electronics\",\"price\":699,\"quantity\":1,\"details\":{\"brand\":\"Microsoft\",\"color\":\"Gray\"}}</td><td>null</td><td>{\"order_id\": 58, \"customer_id\": 8580, \"order_date\": \"2024-12-09\", \"transaction_timestamp\": \"2024-12-09 22:40:58\", \"total_amount\": 699, \"payment_method\": \"PayPal\", \"items\": [{\"item_id\": 1, \"name\": \"Smartphone\", \"category\": \"Electronics\", \"price\": 699, \"quantity\": 1, \"details\": {\"brand\": \"Microsoft\", \"color\": \"Gray\"}}], \"order_status\": \"Completed\"}</td></tr><tr><td>{\"item_id\":3,\"name\":\"Wireless Headphones\",\"category\":\"Electronics\",\"price\":199,\"quantity\":1,\"details\":{\"brand\":\"Samsung\",\"color\":\"Blue\"}}</td><td>null</td><td>{\"order_id\": 60, \"customer_id\": 3409, \"order_date\": \"2024-12-13\", \"transaction_timestamp\": \"2024-12-13 13:10:12\", \"total_amount\": 199, \"payment_method\": \"Bank Transfer\", \"items\": [{\"item_id\": 3, \"name\": \"Wireless Headphones\", \"category\": \"Electronics\", \"price\": 199, \"quantity\": 1, \"details\": {\"brand\": \"Samsung\", \"color\": \"Blue\"}}], \"order_status\": \"Shipped\"}</td></tr><tr><td>{\"item_id\":1,\"name\":\"Smartphone\",\"category\":\"Electronics\",\"price\":699,\"quantity\":1,\"details\":{\"brand\":\"Canon\",\"color\":\"Black\"}}</td><td>null</td><td>{\"order_id\": 61, \"customer_id\": 7123, \"order_date\": \"2024-12-07\", \"transaction_timestamp\": \"2024-12-07 07:47:19\", \"total_amount\": 699, \"payment_method\": \"Bank Transfer\", \"items\": [{\"item_id\": 1, \"name\": \"Smartphone\", \"category\": \"Electronics\", \"price\": 699, \"quantity\": 1, \"details\": {\"brand\": \"Canon\", \"color\": \"Black\"}}], \"order_status\": \"Completed\"}</td></tr><tr><td>{\"item_id\":5,\"name\":\"Tablet\",\"category\":\"Electronics\",\"price\":399,\"quantity\":1,\"details\":{\"brand\":\"Microsoft\",\"color\":\"Gray\"}}</td><td>null</td><td>{\"order_id\": 65, \"customer_id\": 3084, \"order_date\": \"2024-12-09\", \"transaction_timestamp\": \"2024-12-09 13:04:13\", \"total_amount\": 399, \"payment_method\": \"Bank Transfer\", \"items\": [{\"item_id\": 5, \"name\": \"Tablet\", \"category\": \"Electronics\", \"price\": 399, \"quantity\": 1, \"details\": {\"brand\": \"Microsoft\", \"color\": \"Gray\"}}], \"order_status\": \"Cancelled\"}</td></tr><tr><td>{\"item_id\":4,\"name\":\"Smartwatch\",\"category\":\"Electronics\",\"price\":299,\"quantity\":3,\"details\":{\"brand\":\"LG\",\"color\":\"Blue\"}}</td><td>null</td><td>{\"order_id\": 67, \"customer_id\": 3084, \"order_date\": \"2024-12-19\", \"transaction_timestamp\": \"2024-12-19 07:11:09\", \"total_amount\": 897, \"payment_method\": \"PayPal\", \"items\": [{\"item_id\": 4, \"name\": \"Smartwatch\", \"category\": \"Electronics\", \"price\": 299, \"quantity\": 3, \"details\": {\"brand\": \"LG\", \"color\": \"Blue\"}}], \"order_status\": \"Shipped\"}</td></tr><tr><td>{\"item_id\":1,\"name\":\"Smartphone\",\"category\":\"Electronics\",\"price\":699,\"quantity\":1,\"details\":{\"brand\":\"Dell\",\"color\":\"Gray\"}}</td><td>null</td><td>{\"order_id\": 69, \"customer_id\": 4973, \"order_date\": \"2024-12-30\", \"transaction_timestamp\": \"2024-12-30 02:42:01\", \"total_amount\": 699, \"payment_method\": \"Bank Transfer\", \"items\": [{\"item_id\": 1, \"name\": \"Smartphone\", \"category\": \"Electronics\", \"price\": 699, \"quantity\": 1, \"details\": {\"brand\": \"Dell\", \"color\": \"Gray\"}}], \"order_status\": \"Completed\"}</td></tr><tr><td>{\"item_id\":4,\"name\":\"Smartwatch\",\"category\":\"Electronics\",\"price\":299,\"quantity\":3,\"details\":{\"brand\":\"Sony\",\"color\":\"Black\"}}</td><td>null</td><td>{\"order_id\": 70, \"customer_id\": 7997, \"order_date\": \"2024-12-04\", \"transaction_timestamp\": \"2024-12-04 17:17:24\", \"total_amount\": 897, \"payment_method\": \"PayPal\", \"items\": [{\"item_id\": 4, \"name\": \"Smartwatch\", \"category\": \"Electronics\", \"price\": 299, \"quantity\": 3, \"details\": {\"brand\": \"Sony\", \"color\": \"Black\"}}], \"order_status\": \"Shipped\"}</td></tr><tr><td>null</td><td>null</td><td>{\"order_id\": 71, \"customer_id\": 7997, \"order_date\": 2024-12-27, \"transaction_timestamp\": \"2024-12-27 11:16:39\", \"total_amount\": 199, \"payment_method\": \"Bank Transfer\", \"items\": [{\"item_id\": 3, \"name\": \"Wireless Headphones\", \"category\": \"Electronics\", \"price\": 199, \"quantity\": 1, \"details\": {\"brand\": \"Microsoft\", \"color\": \"Black\"}}], \"order_status\": \"Completed\"}</td></tr><tr><td>{\"item_id\":1,\"name\":\"Smartphone\",\"category\":\"Electronics\",\"price\":699,\"quantity\":1,\"details\":{\"brand\":\"Samsung\",\"color\":\"Blue\"}}</td><td>null</td><td>{\"order_id\": 74, \"customer_id\": 6167, \"order_date\": \"2024-12-22\", \"transaction_timestamp\": \"2024-12-22 15:54:11\", \"total_amount\": 699, \"payment_method\": \"PayPal\", \"items\": [{\"item_id\": 1, \"name\": \"Smartphone\", \"category\": \"Electronics\", \"price\": 699, \"quantity\": 1, \"details\": {\"brand\": \"Samsung\", \"color\": \"Blue\"}}], \"order_status\": \"Pending\"}</td></tr><tr><td>{\"item_id\":8,\"name\":\"Gaming Console\",\"category\":\"Electronics\",\"price\":499,\"quantity\":2,\"details\":{\"brand\":\"Samsung\",\"color\":\"White\"}}</td><td>null</td><td>{\"order_id\": 80, \"customer_id\": 9687, \"order_date\": \"2024-12-11\", \"transaction_timestamp\": \"2024-12-11 07:43:54\", \"total_amount\": 998, \"payment_method\": \"Bank Transfer\", \"items\": [{\"item_id\": 8, \"name\": \"Gaming Console\", \"category\": \"Electronics\", \"price\": 499, \"quantity\": 2, \"details\": {\"brand\": \"Samsung\", \"color\": \"White\"}}], \"order_status\": \"Cancelled\"}</td></tr><tr><td>{\"item_id\":1,\"name\":\"Smartphone\",\"category\":\"Electronics\",\"price\":699,\"quantity\":1,\"details\":{\"brand\":\"GoPro\",\"color\":\"Blue\"}}</td><td>null</td><td>{\"order_id\": 81, \"customer_id\": 9687, \"order_date\": \"2024-12-27\", \"transaction_timestamp\": \"2024-12-27 02:27:45\", \"total_amount\": 699, \"payment_method\": \"PayPal\", \"items\": [{\"item_id\": 1, \"name\": \"Smartphone\", \"category\": \"Electronics\", \"price\": 699, \"quantity\": 1, \"details\": {\"brand\": \"GoPro\", \"color\": \"Blue\"}}], \"order_status\": \"Completed\"}</td></tr><tr><td>{\"item_id\":7,\"name\":\"External Hard Drive\",\"category\":\"Electronics\",\"price\":129,\"quantity\":3,\"details\":{\"brand\":\"Sony\",\"color\":\"Blue\"}}</td><td>null</td><td>{\"order_id\": 82, \"customer_id\": 2344, \"order_date\": \"2024-12-28\", \"transaction_timestamp\": \"2024-12-28 00:54:08\", \"total_amount\": 387, \"payment_method\": \"PayPal\", \"items\": [{\"item_id\": 7, \"name\": \"External Hard Drive\", \"category\": \"Electronics\", \"price\": 129, \"quantity\": 3, \"details\": {\"brand\": \"Sony\", \"color\": \"Blue\"}}], \"order_status\": \"Completed\"}</td></tr><tr><td>{\"item_id\":1,\"name\":\"Smartphone\",\"category\":\"Electronics\",\"price\":699,\"quantity\":1,\"details\":{\"brand\":\"Canon\",\"color\":\"Silver\"}}</td><td>null</td><td>{\"order_id\": 91, \"customer_id\": 5592, \"order_date\": \"2024-12-17\", \"transaction_timestamp\": \"2024-12-17 00:09:53\", \"total_amount\": 699, \"payment_method\": \"Bank Transfer\", \"items\": [{\"item_id\": 1, \"name\": \"Smartphone\", \"category\": \"Electronics\", \"price\": 699, \"quantity\": 1, \"details\": {\"brand\": \"Canon\", \"color\": \"Silver\"}}], \"order_status\": \"Cancelled\"}</td></tr><tr><td>{\"item_id\":4,\"name\":\"Smartwatch\",\"category\":\"Electronics\",\"price\":299,\"quantity\":2,\"details\":{\"brand\":\"LG\",\"color\":\"Silver\"}}</td><td>null</td><td>{\"order_id\": 93, \"customer_id\": 6627, \"order_date\": \"2024-12-22\", \"transaction_timestamp\": \"2024-12-22 05:07:46\", \"total_amount\": 598, \"payment_method\": \"PayPal\", \"items\": [{\"item_id\": 4, \"name\": \"Smartwatch\", \"category\": \"Electronics\", \"price\": 299, \"quantity\": 2, \"details\": {\"brand\": \"LG\", \"color\": \"Silver\"}}], \"order_status\": \"Pending\"}</td></tr><tr><td>{\"item_id\":4,\"name\":\"Smartwatch\",\"category\":\"Electronics\",\"price\":299,\"quantity\":2,\"details\":{\"brand\":\"GoPro\",\"color\":\"White\"}}</td><td>{\"item_id\":3,\"name\":\"Wireless Headphones\",\"category\":\"Electronics\",\"price\":199,\"quantity\":1,\"details\":{\"brand\":\"Bose\",\"color\":\"Gray\"}}</td><td>{\"order_id\": 95, \"customer_id\": 6627, \"order_date\": \"2024-12-28\", \"transaction_timestamp\": \"2024-12-28 04:28:30\", \"total_amount\": 946, \"payment_method\": \"Bank Transfer\", \"items\": [{\"item_id\": 4, \"name\": \"Smartwatch\", \"category\": \"Electronics\", \"price\": 299, \"quantity\": 2, \"details\": {\"brand\": \"GoPro\", \"color\": \"White\"}}, {\"item_id\": 3, \"name\": \"Wireless Headphones\", \"category\": \"Electronics\", \"price\": 199, \"quantity\": 1, \"details\": {\"brand\": \"Bose\", \"color\": \"Gray\"}}, {\"item_id\": 6, \"name\": \"Bluetooth Speaker\", \"category\": \"Electronics\", \"price\": 149, \"quantity\": 1, \"details\": {\"brand\": \"Dell\", \"color\": \"Silver\"}}], \"order_status\": \"Completed\"}</td></tr><tr><td>{\"item_id\":6,\"name\":\"Bluetooth Speaker\",\"category\":\"Electronics\",\"price\":149,\"quantity\":1,\"details\":{\"brand\":\"Microsoft\",\"color\":\"Black\"}}</td><td>null</td><td>{\"order_id\": 96, \"customer_id\": 6406, \"order_date\": \"2024-12-02\", \"transaction_timestamp\": \"2024-12-02 12:27:45\", \"total_amount\": 149, \"payment_method\": \"PayPal\", \"items\": [{\"item_id\": 6, \"name\": \"Bluetooth Speaker\", \"category\": \"Electronics\", \"price\": 149, \"quantity\": 1, \"details\": {\"brand\": \"Microsoft\", \"color\": \"Black\"}}], \"order_status\": \"Shipped\"}</td></tr><tr><td>{\"item_id\":8,\"name\":\"Gaming Console\",\"category\":\"Electronics\",\"price\":499,\"quantity\":1,\"details\":{\"brand\":\"Sony\",\"color\":\"Silver\"}}</td><td>null</td><td>{\"order_id\": 97, \"customer_id\": 6406, \"order_date\": \"2024-12-07\", \"transaction_timestamp\": \"2024-12-07 16:14:34\", \"total_amount\": 499, \"payment_method\": \"Bank Transfer\", \"items\": [{\"item_id\": 8, \"name\": \"Gaming Console\", \"category\": \"Electronics\", \"price\": 499, \"quantity\": 1, \"details\": {\"brand\": \"Sony\", \"color\": \"Silver\"}}], \"order_status\": \"Completed\"}</td></tr><tr><td>{\"item_id\":8,\"name\":\"Gaming Console\",\"category\":\"Electronics\",\"price\":499,\"quantity\":2,\"details\":{\"brand\":\"Dell\",\"color\":\"Blue\"}}</td><td>null</td><td>{\"order_id\": 5, \"customer_id\": 3892, \"order_date\": \"2024-11-16\", \"transaction_timestamp\": \"2024-11-16 23:07:31\", \"total_amount\": 998, \"payment_method\": \"Bank Transfer\", \"items\": [{\"item_id\": 8, \"name\": \"Gaming Console\", \"category\": \"Electronics\", \"price\": 499, \"quantity\": 2, \"details\": {\"brand\": \"Dell\", \"color\": \"Blue\"}}], \"order_status\": \"Cancelled\"}</td></tr><tr><td>{\"item_id\":7,\"name\":\"External Hard Drive\",\"category\":\"Electronics\",\"price\":129,\"quantity\":2,\"details\":{\"brand\":\"LG\",\"color\":\"Blue\"}}</td><td>{\"item_id\":7,\"name\":\"External Hard Drive\",\"category\":\"Electronics\",\"price\":129,\"quantity\":3,\"details\":{\"brand\":\"HP\",\"color\":\"Gray\"}}</td><td>{\"order_id\": 7, \"customer_id\": 1987, \"order_date\": \"2024-11-19\", \"transaction_timestamp\": \"2024-11-19 19:18:48\", \"total_amount\": 645, \"payment_method\": \"Credit Card\", \"items\": [{\"item_id\": 7, \"name\": \"External Hard Drive\", \"category\": \"Electronics\", \"price\": 129, \"quantity\": 2, \"details\": {\"brand\": \"LG\", \"color\": \"Blue\"}}, {\"item_id\": 7, \"name\": \"External Hard Drive\", \"category\": \"Electronics\", \"price\": 129, \"quantity\": 3, \"details\": {\"brand\": \"HP\", \"color\": \"Gray\"}}], \"order_status\": \"Pending\"}</td></tr><tr><td>{\"item_id\":2,\"name\":\"Laptop\",\"category\":\"Electronics\",\"price\":999,\"quantity\":1,\"details\":{\"brand\":\"Apple\",\"color\":\"Black\"}}</td><td>null</td><td>{\"order_id\": 9, \"customer_id\": 9179, \"order_date\": \"2024-11-27\", \"transaction_timestamp\": \"2024-11-27 13:15:29\", \"total_amount\": 999, \"payment_method\": \"Bank Transfer\", \"items\": [{\"item_id\": 2, \"name\": \"Laptop\", \"category\": \"Electronics\", \"price\": 999, \"quantity\": 1, \"details\": {\"brand\": \"Apple\", \"color\": \"Black\"}}], \"order_status\": \"Shipped\"}</td></tr><tr><td>{\"item_id\":5,\"name\":\"Tablet\",\"category\":\"Electronics\",\"price\":399,\"quantity\":2,\"details\":{\"brand\":\"Sony\",\"color\":\"Silver\"}}</td><td>null</td><td>{\"order_id\": 20, \"customer_id\": 8539, \"order_date\": \"2024-11-18\", \"transaction_timestamp\": \"2024-11-18 02:38:21\", \"total_amount\": 798, \"payment_method\": \"PayPal\", \"items\": [{\"item_id\": 5, \"name\": \"Tablet\", \"category\": \"Electronics\", \"price\": 399, \"quantity\": 2, \"details\": {\"brand\": \"Sony\", \"color\": \"Silver\"}}], \"order_status\": \"Pending\"}</td></tr><tr><td>{\"item_id\":6,\"name\":\"Bluetooth Speaker\",\"category\":\"Electronics\",\"price\":149,\"quantity\":2,\"details\":{\"brand\":\"GoPro\",\"color\":\"Blue\"}}</td><td>null</td><td>{\"order_id\": 21, \"customer_id\": 8539, \"order_date\": \"2024-11-21\", \"transaction_timestamp\": \"2024-11-21 11:25:35\", \"total_amount\": 298, \"payment_method\": \"Bank Transfer\", \"items\": [{\"item_id\": 6, \"name\": \"Bluetooth Speaker\", \"category\": \"Electronics\", \"price\": 149, \"quantity\": 2, \"details\": {\"brand\": \"GoPro\", \"color\": \"Blue\"}}], \"order_status\": \"Cancelled\"}</td></tr><tr><td>{\"item_id\":5,\"name\":\"Tablet\",\"category\":\"Electronics\",\"price\":399,\"quantity\":1,\"details\":{\"brand\":\"Apple\",\"color\":\"Gray\"}}</td><td>{\"item_id\":4,\"name\":\"Smartwatch\",\"category\":\"Electronics\",\"price\":299,\"quantity\":2,\"details\":{\"brand\":\"Dell\",\"color\":\"Gray\"}}</td><td>{\"order_id\": 23, \"customer_id\": 4761, \"order_date\": \"2024-11-22\", \"transaction_timestamp\": \"2024-11-22 16:04:05\", \"total_amount\": 997, \"payment_method\": \"PayPal\", \"items\": [{\"item_id\": 5, \"name\": \"Tablet\", \"category\": \"Electronics\", \"price\": 399, \"quantity\": 1, \"details\": {\"brand\": \"Apple\", \"color\": \"Gray\"}}, {\"item_id\": 4, \"name\": \"Smartwatch\", \"category\": \"Electronics\", \"price\": 299, \"quantity\": 2, \"details\": {\"brand\": \"Dell\", \"color\": \"Gray\"}}], \"order_status\": \"Shipped\"}</td></tr><tr><td>{\"item_id\":2,\"name\":\"Laptop\",\"category\":\"Electronics\",\"price\":999,\"quantity\":1,\"details\":{\"brand\":\"LG\",\"color\":\"Gray\"}}</td><td>null</td><td>{\"order_id\": 25, \"customer_id\": 9706, \"order_date\": \"2024-11-05\", \"transaction_timestamp\": \"2024-11-05 11:45:31\", \"total_amount\": 999, \"payment_method\": \"PayPal\", \"items\": [{\"item_id\": 2, \"name\": \"Laptop\", \"category\": \"Electronics\", \"price\": 999, \"quantity\": 1, \"details\": {\"brand\": \"LG\", \"color\": \"Gray\"}}], \"order_status\": \"Completed\"}</td></tr><tr><td>{\"item_id\":3,\"name\":\"Wireless Headphones\",\"category\":\"Electronics\",\"price\":199,\"quantity\":1,\"details\":{\"brand\":\"GoPro\",\"color\":\"White\"}}</td><td>null</td><td>{\"order_id\": 30, \"customer_id\": 4996, \"order_date\": \"2024-11-12\", \"transaction_timestamp\": \"2024-11-12 03:20:29\", \"total_amount\": 199, \"payment_method\": \"Bank Transfer\", \"items\": [{\"item_id\": 3, \"name\": \"Wireless Headphones\", \"category\": \"Electronics\", \"price\": 199, \"quantity\": 1, \"details\": {\"brand\": \"GoPro\", \"color\": \"White\"}}], \"order_status\": \"Shipped\"}</td></tr><tr><td>{\"item_id\":3,\"name\":\"Wireless Headphones\",\"category\":\"Electronics\",\"price\":199,\"quantity\":1,\"details\":{\"brand\":\"Dell\",\"color\":\"Gray\"}}</td><td>null</td><td>{\"order_id\": 35, \"customer_id\": 4914, \"order_date\": \"2024-11-20\", \"transaction_timestamp\": \"2024-11-20 19:09:04\", \"total_amount\": 199, \"payment_method\": \"Bank Transfer\", \"items\": [{\"item_id\": 3, \"name\": \"Wireless Headphones\", \"category\": \"Electronics\", \"price\": 199, \"quantity\": 1, \"details\": {\"brand\": \"Dell\", \"color\": \"Gray\"}}], \"order_status\": \"Shipped\"}</td></tr><tr><td>{\"item_id\":3,\"name\":\"Wireless Headphones\",\"category\":\"Electronics\",\"price\":199,\"quantity\":1,\"details\":{\"brand\":\"Canon\",\"color\":\"Silver\"}}</td><td>null</td><td>{\"order_id\": 36, \"customer_id\": 4914, \"order_date\": \"2024-11-02\", \"transaction_timestamp\": \"2024-11-02 10:39:46\", \"total_amount\": 199, \"payment_method\": \"PayPal\", \"items\": [{\"item_id\": 3, \"name\": \"Wireless Headphones\", \"category\": \"Electronics\", \"price\": 199, \"quantity\": 1, \"details\": {\"brand\": \"Canon\", \"color\": \"Silver\"}}], \"order_status\": \"Completed\"}</td></tr><tr><td>null</td><td>null</td><td>{\"order_id\": 42, \"customer_id\": 5028, \"order_date\": 2024-11-08, \"transaction_timestamp\": \"2024-11-08 18:32:25\", \"total_amount\": 149, \"payment_method\": \"Credit Card\", \"items\": [{\"item_id\": 6, \"name\": \"Bluetooth Speaker\", \"category\": \"Electronics\", \"price\": 149, \"quantity\": 1, \"details\": {\"brand\": \"Bose\", \"color\": \"Gray\"}}], \"order_status\": \"Completed\"}</td></tr><tr><td>{\"item_id\":10,\"name\":\"Drone\",\"category\":\"Electronics\",\"price\":799,\"quantity\":1,\"details\":{\"brand\":\"Dell\",\"color\":\"White\"}}</td><td>null</td><td>{\"order_id\": 45, \"customer_id\": 7295, \"order_date\": \"2024-11-07\", \"transaction_timestamp\": \"2024-11-07 15:41:43\", \"total_amount\": 799, \"payment_method\": \"Credit Card\", \"items\": [{\"item_id\": 10, \"name\": \"Drone\", \"category\": \"Electronics\", \"price\": 799, \"quantity\": 1, \"details\": {\"brand\": \"Dell\", \"color\": \"White\"}}], \"order_status\": \"Shipped\"}</td></tr><tr><td>{\"item_id\":3,\"name\":\"Wireless Headphones\",\"category\":\"Electronics\",\"price\":199,\"quantity\":1,\"details\":{\"brand\":\"Samsung\",\"color\":\"Black\"}}</td><td>null</td><td>{\"order_id\": 46, \"customer_id\": 7295, \"order_date\": \"2024-11-26\", \"transaction_timestamp\": \"2024-11-26 17:16:53\", \"total_amount\": 199, \"payment_method\": \"PayPal\", \"items\": [{\"item_id\": 3, \"name\": \"Wireless Headphones\", \"category\": \"Electronics\", \"price\": 199, \"quantity\": 1, \"details\": {\"brand\": \"Samsung\", \"color\": \"Black\"}}], \"order_status\": \"Pending\"}</td></tr><tr><td>{\"item_id\":6,\"name\":\"Bluetooth Speaker\",\"category\":\"Electronics\",\"price\":149,\"quantity\":2,\"details\":{\"brand\":\"LG\",\"color\":\"Blue\"}}</td><td>null</td><td>{\"order_id\": 47, \"customer_id\": 7803, \"order_date\": \"2024-11-22\", \"transaction_timestamp\": \"2024-11-22 02:01:19\", \"total_amount\": 298, \"payment_method\": \"Credit Card\", \"items\": [{\"item_id\": 6, \"name\": \"Bluetooth Speaker\", \"category\": \"Electronics\", \"price\": 149, \"quantity\": 2, \"details\": {\"brand\": \"LG\", \"color\": \"Blue\"}}], \"order_status\": \"Shipped\"}</td></tr><tr><td>{\"item_id\":7,\"name\":\"External Hard Drive\",\"category\":\"Electronics\",\"price\":129,\"quantity\":3,\"details\":{\"brand\":\"Apple\",\"color\":\"Black\"}}</td><td>null</td><td>{\"order_id\": 48, \"customer_id\": 7803, \"order_date\": \"2024-11-13\", \"transaction_timestamp\": \"2024-11-13 06:35:56\", \"total_amount\": 387, \"payment_method\": \"PayPal\", \"items\": [{\"item_id\": 7, \"name\": \"External Hard Drive\", \"category\": \"Electronics\", \"price\": 129, \"quantity\": 3, \"details\": {\"brand\": \"Apple\", \"color\": \"Black\"}}], \"order_status\": \"Completed\"}</td></tr><tr><td>{\"item_id\":8,\"name\":\"Gaming Console\",\"category\":\"Electronics\",\"price\":499,\"quantity\":2,\"details\":{\"brand\":\"GoPro\",\"color\":\"White\"}}</td><td>null</td><td>{\"order_id\": 52, \"customer_id\": 8845, \"order_date\": \"2024-11-19\", \"transaction_timestamp\": \"2024-11-19 21:23:45\", \"total_amount\": 998, \"payment_method\": \"PayPal\", \"items\": [{\"item_id\": 8, \"name\": \"Gaming Console\", \"category\": \"Electronics\", \"price\": 499, \"quantity\": 2, \"details\": {\"brand\": \"GoPro\", \"color\": \"White\"}}], \"order_status\": \"Completed\"}</td></tr><tr><td>{\"item_id\":3,\"name\":\"Wireless Headphones\",\"category\":\"Electronics\",\"price\":199,\"quantity\":1,\"details\":{\"brand\":\"HP\",\"color\":\"Silver\"}}</td><td>{\"item_id\":7,\"name\":\"External Hard Drive\",\"category\":\"Electronics\",\"price\":129,\"quantity\":3,\"details\":{\"brand\":\"Sony\",\"color\":\"Silver\"}}</td><td>{\"order_id\": 57, \"customer_id\": 8580, \"order_date\": \"2024-11-19\", \"transaction_timestamp\": \"2024-11-19 11:32:44\", \"total_amount\": 586, \"payment_method\": \"Bank Transfer\", \"items\": [{\"item_id\": 3, \"name\": \"Wireless Headphones\", \"category\": \"Electronics\", \"price\": 199, \"quantity\": 1, \"details\": {\"brand\": \"HP\", \"color\": \"Silver\"}}, {\"item_id\": 7, \"name\": \"External Hard Drive\", \"category\": \"Electronics\", \"price\": 129, \"quantity\": 3, \"details\": {\"brand\": \"Sony\", \"color\": \"Silver\"}}], \"order_status\": \"Cancelled\"}</td></tr><tr><td>{\"item_id\":3,\"name\":\"Wireless Headphones\",\"category\":\"Electronics\",\"price\":199,\"quantity\":1,\"details\":{\"brand\":\"GoPro\",\"color\":\"Blue\"}}</td><td>{\"item_id\":6,\"name\":\"Bluetooth Speaker\",\"category\":\"Electronics\",\"price\":149,\"quantity\":3,\"details\":{\"brand\":\"Bose\",\"color\":\"Silver\"}}</td><td>{\"order_id\": 63, \"customer_id\": 7123, \"order_date\": \"2024-11-24\", \"transaction_timestamp\": \"2024-11-24 08:41:28\", \"total_amount\": 646, \"payment_method\": \"Bank Transfer\", \"items\": [{\"item_id\": 3, \"name\": \"Wireless Headphones\", \"category\": \"Electronics\", \"price\": 199, \"quantity\": 1, \"details\": {\"brand\": \"GoPro\", \"color\": \"Blue\"}}, {\"item_id\": 6, \"name\": \"Bluetooth Speaker\", \"category\": \"Electronics\", \"price\": 149, \"quantity\": 3, \"details\": {\"brand\": \"Bose\", \"color\": \"Silver\"}}], \"order_status\": \"Cancelled\"}</td></tr><tr><td>{\"item_id\":7,\"name\":\"External Hard Drive\",\"category\":\"Electronics\",\"price\":129,\"quantity\":3,\"details\":{\"brand\":\"Microsoft\",\"color\":\"White\"}}</td><td>{\"item_id\":3,\"name\":\"Wireless Headphones\",\"category\":\"Electronics\",\"price\":199,\"quantity\":3,\"details\":{\"brand\":\"Canon\",\"color\":\"Blue\"}}</td><td>{\"order_id\": 64, \"customer_id\": 2639, \"order_date\": \"2024-11-28\", \"transaction_timestamp\": \"2024-11-28 12:23:21\", \"total_amount\": 984, \"payment_method\": \"Bank Transfer\", \"items\": [{\"item_id\": 7, \"name\": \"External Hard Drive\", \"category\": \"Electronics\", \"price\": 129, \"quantity\": 3, \"details\": {\"brand\": \"Microsoft\", \"color\": \"White\"}}, {\"item_id\": 3, \"name\": \"Wireless Headphones\", \"category\": \"Electronics\", \"price\": 199, \"quantity\": 3, \"details\": {\"brand\": \"Canon\", \"color\": \"Blue\"}}], \"order_status\": \"Completed\"}</td></tr><tr><td>{\"item_id\":7,\"name\":\"External Hard Drive\",\"category\":\"Electronics\",\"price\":129,\"quantity\":3,\"details\":{\"brand\":\"Bose\",\"color\":\"White\"}}</td><td>null</td><td>{\"order_id\": 88, \"customer_id\": 9247, \"order_date\": \"2024-11-15\", \"transaction_timestamp\": \"2024-11-15 11:39:44\", \"total_amount\": 387, \"payment_method\": \"Bank Transfer\", \"items\": [{\"item_id\": 7, \"name\": \"External Hard Drive\", \"category\": \"Electronics\", \"price\": 129, \"quantity\": 3, \"details\": {\"brand\": \"Bose\", \"color\": \"White\"}}], \"order_status\": \"Cancelled\"}</td></tr><tr><td>{\"item_id\":6,\"name\":\"Bluetooth Speaker\",\"category\":\"Electronics\",\"price\":149,\"quantity\":1,\"details\":{\"brand\":\"GoPro\",\"color\":\"Silver\"}}</td><td>null</td><td>{\"order_id\": 89, \"customer_id\": 9247, \"order_date\": \"2024-11-22\", \"transaction_timestamp\": \"2024-11-22 12:09:15\", \"total_amount\": 149, \"payment_method\": \"Bank Transfer\", \"items\": [{\"item_id\": 6, \"name\": \"Bluetooth Speaker\", \"category\": \"Electronics\", \"price\": 149, \"quantity\": 1, \"details\": {\"brand\": \"GoPro\", \"color\": \"Silver\"}}], \"order_status\": \"Cancelled\"}</td></tr><tr><td>{\"item_id\":7,\"name\":\"External Hard Drive\",\"category\":\"Electronics\",\"price\":129,\"quantity\":2,\"details\":{\"brand\":\"Sony\",\"color\":\"Black\"}}</td><td>null</td><td>{\"order_id\": 92, \"customer_id\": 5592, \"order_date\": \"2024-11-24\", \"transaction_timestamp\": \"2024-11-24 23:33:21\", \"total_amount\": 258, \"payment_method\": \"PayPal\", \"items\": [{\"item_id\": 7, \"name\": \"External Hard Drive\", \"category\": \"Electronics\", \"price\": 129, \"quantity\": 2, \"details\": {\"brand\": \"Sony\", \"color\": \"Black\"}}], \"order_status\": \"Shipped\"}</td></tr><tr><td>{\"item_id\":10,\"name\":\"Drone\",\"category\":\"Electronics\",\"price\":799,\"quantity\":1,\"details\":{\"brand\":\"GoPro\",\"color\":\"Black\"}}</td><td>null</td><td>{\"order_id\": 6, \"customer_id\": 1987, \"order_date\": \"2024-10-28\", \"transaction_timestamp\": \"2024-10-28 04:47:27\", \"total_amount\": 799, \"payment_method\": \"Credit Card\", \"items\": [{\"item_id\": 10, \"name\": \"Drone\", \"category\": \"Electronics\", \"price\": 799, \"quantity\": 1, \"details\": {\"brand\": \"GoPro\", \"color\": \"Black\"}}], \"order_status\": \"Pending\"}</td></tr><tr><td>{\"item_id\":5,\"name\":\"Tablet\",\"category\":\"Electronics\",\"price\":399,\"quantity\":1,\"details\":{\"brand\":\"GoPro\",\"color\":\"White\"}}</td><td>null</td><td>{\"order_id\": 10, \"customer_id\": 5816, \"order_date\": \"2024-10-07\", \"transaction_timestamp\": \"2024-10-07 22:09:27\", \"total_amount\": 399, \"payment_method\": \"Credit Card\", \"items\": [{\"item_id\": 5, \"name\": \"Tablet\", \"category\": \"Electronics\", \"price\": 399, \"quantity\": 1, \"details\": {\"brand\": \"GoPro\", \"color\": \"White\"}}], \"order_status\": \"Pending\"}</td></tr><tr><td>{\"item_id\":4,\"name\":\"Smartwatch\",\"category\":\"Electronics\",\"price\":299,\"quantity\":3,\"details\":{\"brand\":\"Canon\",\"color\":\"White\"}}</td><td>null</td><td>{\"order_id\": 11, \"customer_id\": 5816, \"order_date\": \"2024-10-13\", \"transaction_timestamp\": \"2024-10-13 17:34:19\", \"total_amount\": 897, \"payment_method\": \"Bank Transfer\", \"items\": [{\"item_id\": 4, \"name\": \"Smartwatch\", \"category\": \"Electronics\", \"price\": 299, \"quantity\": 3, \"details\": {\"brand\": \"Canon\", \"color\": \"White\"}}], \"order_status\": \"Pending\"}</td></tr><tr><td>{\"item_id\":9,\"name\":\"Smart TV\",\"category\":\"Electronics\",\"price\":1199,\"quantity\":1,\"details\":{\"brand\":\"GoPro\",\"color\":\"White\"}}</td><td>null</td><td>{\"order_id\": 15, \"customer_id\": 7207, \"order_date\": \"2024-10-20\", \"transaction_timestamp\": \"2024-10-20 01:47:25\", \"total_amount\": 1199, \"payment_method\": \"Bank Transfer\", \"items\": [{\"item_id\": 9, \"name\": \"Smart TV\", \"category\": \"Electronics\", \"price\": 1199, \"quantity\": 1, \"details\": {\"brand\": \"GoPro\", \"color\": \"White\"}}], \"order_status\": \"Completed\"}</td></tr><tr><td>{\"item_id\":8,\"name\":\"Gaming Console\",\"category\":\"Electronics\",\"price\":499,\"quantity\":1,\"details\":{\"brand\":\"Dell\",\"color\":\"Silver\"}}</td><td>null</td><td>{\"order_id\": 19, \"customer_id\": 8539, \"order_date\": \"2024-10-13\", \"transaction_timestamp\": \"2024-10-13 12:40:26\", \"total_amount\": 499, \"payment_method\": \"PayPal\", \"items\": [{\"item_id\": 8, \"name\": \"Gaming Console\", \"category\": \"Electronics\", \"price\": 499, \"quantity\": 1, \"details\": {\"brand\": \"Dell\", \"color\": \"Silver\"}}], \"order_status\": \"Shipped\"}</td></tr><tr><td>{\"item_id\":7,\"name\":\"External Hard Drive\",\"category\":\"Electronics\",\"price\":129,\"quantity\":3,\"details\":{\"brand\":\"Sony\",\"color\":\"Black\"}}</td><td>null</td><td>{\"order_id\": 39, \"customer_id\": 9263, \"order_date\": \"2024-10-29\", \"transaction_timestamp\": \"2024-10-29 21:39:19\", \"total_amount\": 387, \"payment_method\": \"PayPal\", \"items\": [{\"item_id\": 7, \"name\": \"External Hard Drive\", \"category\": \"Electronics\", \"price\": 129, \"quantity\": 3, \"details\": {\"brand\": \"Sony\", \"color\": \"Black\"}}], \"order_status\": \"Shipped\"}</td></tr><tr><td>{\"item_id\":1,\"name\":\"Smartphone\",\"category\":\"Electronics\",\"price\":699,\"quantity\":1,\"details\":{\"brand\":\"HP\",\"color\":\"Black\"}}</td><td>null</td><td>{\"order_id\": 55, \"customer_id\": 9018, \"order_date\": \"2024-10-25\", \"transaction_timestamp\": \"2024-10-25 05:49:16\", \"total_amount\": 699, \"payment_method\": \"Bank Transfer\", \"items\": [{\"item_id\": 1, \"name\": \"Smartphone\", \"category\": \"Electronics\", \"price\": 699, \"quantity\": 1, \"details\": {\"brand\": \"HP\", \"color\": \"Black\"}}], \"order_status\": \"Shipped\"}</td></tr><tr><td>{\"item_id\":8,\"name\":\"Gaming Console\",\"category\":\"Electronics\",\"price\":499,\"quantity\":1,\"details\":{\"brand\":\"Dell\",\"color\":\"Black\"}}</td><td>null</td><td>{\"order_id\": 59, \"customer_id\": 3409, \"order_date\": \"2024-10-23\", \"transaction_timestamp\": \"2024-10-23 02:51:05\", \"total_amount\": 499, \"payment_method\": \"PayPal\", \"items\": [{\"item_id\": 8, \"name\": \"Gaming Console\", \"category\": \"Electronics\", \"price\": 499, \"quantity\": 1, \"details\": {\"brand\": \"Dell\", \"color\": \"Black\"}}], \"order_status\": \"Pending\"}</td></tr><tr><td>null</td><td>null</td><td>{\"order_id\": 72, \"customer_id\": 3889, \"order_date\": 2024-10-06, \"transaction_timestamp\": \"2024-10-06 10:23:28\", \"total_amount\": 328, \"payment_method\": \"PayPal\", \"items\": [{\"item_id\": 3, \"name\": \"Wireless Headphones\", \"category\": \"Electronics\", \"price\": 199, \"quantity\": 1, \"details\": {\"brand\": \"Microsoft\", \"color\": \"Gray\"}}, {\"item_id\": 7, \"name\": \"External Hard Drive\", \"category\": \"Electronics\", \"price\": 129, \"quantity\": 1, \"details\": {\"brand\": \"Samsung\", \"color\": \"Silver\"}}], \"order_status\": \"Cancelled\"}</td></tr><tr><td>{\"item_id\":3,\"name\":\"Wireless Headphones\",\"category\":\"Electronics\",\"price\":199,\"quantity\":2,\"details\":{\"brand\":\"HP\",\"color\":\"Silver\"}}</td><td>null</td><td>{\"order_id\": 77, \"customer_id\": 9084, \"order_date\": \"2024-10-15\", \"transaction_timestamp\": \"2024-10-15 13:09:33\", \"total_amount\": 398, \"payment_method\": \"Credit Card\", \"items\": [{\"item_id\": 3, \"name\": \"Wireless Headphones\", \"category\": \"Electronics\", \"price\": 199, \"quantity\": 2, \"details\": {\"brand\": \"HP\", \"color\": \"Silver\"}}], \"order_status\": \"Pending\"}</td></tr><tr><td>{\"item_id\":10,\"name\":\"Drone\",\"category\":\"Electronics\",\"price\":799,\"quantity\":1,\"details\":{\"brand\":\"Sony\",\"color\":\"Black\"}}</td><td>{\"item_id\":3,\"name\":\"Wireless Headphones\",\"category\":\"Electronics\",\"price\":199,\"quantity\":1,\"details\":{\"brand\":\"LG\",\"color\":\"Black\"}}</td><td>{\"order_id\": 84, \"customer_id\": 2344, \"order_date\": \"2024-10-25\", \"transaction_timestamp\": \"2024-10-25 03:37:42\", \"total_amount\": 998, \"payment_method\": \"PayPal\", \"items\": [{\"item_id\": 10, \"name\": \"Drone\", \"category\": \"Electronics\", \"price\": 799, \"quantity\": 1, \"details\": {\"brand\": \"Sony\", \"color\": \"Black\"}}, {\"item_id\": 3, \"name\": \"Wireless Headphones\", \"category\": \"Electronics\", \"price\": 199, \"quantity\": 1, \"details\": {\"brand\": \"LG\", \"color\": \"Black\"}}], \"order_status\": \"Completed\"}</td></tr><tr><td>{\"item_id\":8,\"name\":\"Gaming Console\",\"category\":\"Electronics\",\"price\":499,\"quantity\":2,\"details\":{\"brand\":\"GoPro\",\"color\":\"Black\"}}</td><td>null</td><td>{\"order_id\": 85, \"customer_id\": 5011, \"order_date\": \"2024-10-23\", \"transaction_timestamp\": \"2024-10-23 20:06:42\", \"total_amount\": 998, \"payment_method\": \"Bank Transfer\", \"items\": [{\"item_id\": 8, \"name\": \"Gaming Console\", \"category\": \"Electronics\", \"price\": 499, \"quantity\": 2, \"details\": {\"brand\": \"GoPro\", \"color\": \"Black\"}}], \"order_status\": \"Shipped\"}</td></tr><tr><td>{\"item_id\":9,\"name\":\"Smart TV\",\"category\":\"Electronics\",\"price\":1199,\"quantity\":1,\"details\":{\"brand\":\"Dell\",\"color\":\"White\"}}</td><td>null</td><td>{\"order_id\": 86, \"customer_id\": 5011, \"order_date\": \"2024-10-19\", \"transaction_timestamp\": \"2024-10-19 13:30:47\", \"total_amount\": 1199, \"payment_method\": \"PayPal\", \"items\": [{\"item_id\": 9, \"name\": \"Smart TV\", \"category\": \"Electronics\", \"price\": 1199, \"quantity\": 1, \"details\": {\"brand\": \"Dell\", \"color\": \"White\"}}], \"order_status\": \"Completed\"}</td></tr></tbody></table></div>"
      ]
     },
     "metadata": {
      "application/vnd.databricks.v1+output": {
       "addedWidgets": {},
       "aggData": [],
       "aggError": "",
       "aggOverflow": false,
       "aggSchema": [],
       "aggSeriesLimitReached": false,
       "aggType": "",
       "arguments": {},
       "columnCustomDisplayInfos": {},
       "data": [
        [
         "{\"item_id\":8,\"name\":\"Gaming Console\",\"category\":\"Electronics\",\"price\":499,\"quantity\":1,\"details\":{\"brand\":\"Sony\",\"color\":\"Blue\"}}",
         null,
         "{\"order_id\": 1, \"customer_id\": 6973, \"order_date\": \"2025-01-05\", \"transaction_timestamp\": \"2025-01-05 10:13:59\", \"total_amount\": 499, \"payment_method\": \"Bank Transfer\", \"items\": [{\"item_id\": 8, \"name\": \"Gaming Console\", \"category\": \"Electronics\", \"price\": 499, \"quantity\": 1, \"details\": {\"brand\": \"Sony\", \"color\": \"Blue\"}}], \"order_status\": \"Completed\"}"
        ],
        [
         null,
         null,
         "{\"order_id\": 2, \"customer_id\": 3532, \"order_date\": 2025-01-19, \"transaction_timestamp\": \"2025-01-19 00:05:13\", \"total_amount\": 985, \"payment_method\": \"PayPal\", \"items\": [{\"item_id\": 4, \"name\": \"Smartwatch\", \"category\": \"Electronics\", \"price\": 299, \"quantity\": 2, \"details\": {\"brand\": \"Canon\", \"color\": \"Gray\"}}, {\"item_id\": 7, \"name\": \"External Hard Drive\", \"category\": \"Electronics\", \"price\": 129, \"quantity\": 3, \"details\": {\"brand\": \"Dell\", \"color\": \"Blue\"}}], \"order_status\": \"Cancelled\"}"
        ],
        [
         "{\"item_id\":3,\"name\":\"Wireless Headphones\",\"category\":\"Electronics\",\"price\":199,\"quantity\":3,\"details\":{\"brand\":\"Apple\",\"color\":\"White\"}}",
         null,
         "{\"order_id\": 3, \"customer_id\": 3532, \"order_date\": \"2025-01-08\", \"transaction_timestamp\": \"2025-01-08 23:11:00\", \"total_amount\": 597, \"payment_method\": \"Bank Transfer\", \"items\": [{\"item_id\": 3, \"name\": \"Wireless Headphones\", \"category\": \"Electronics\", \"price\": 199, \"quantity\": 3, \"details\": {\"brand\": \"Apple\", \"color\": \"White\"}}], \"order_status\": \"Completed\"}"
        ],
        [
         "{\"item_id\":2,\"name\":\"Laptop\",\"category\":\"Electronics\",\"price\":999,\"quantity\":1,\"details\":{\"brand\":\"Microsoft\",\"color\":\"Black\"}}",
         null,
         "{\"order_id\": 4, \"customer_id\": 3532, \"order_date\": \"2025-01-05\", \"transaction_timestamp\": \"2025-01-05 05:49:26\", \"total_amount\": 999, \"payment_method\": \"Bank Transfer\", \"items\": [{\"item_id\": 2, \"name\": \"Laptop\", \"category\": \"Electronics\", \"price\": 999, \"quantity\": 1, \"details\": {\"brand\": \"Microsoft\", \"color\": \"Black\"}}], \"order_status\": \"Cancelled\"}"
        ],
        [
         "{\"item_id\":5,\"name\":\"Tablet\",\"category\":\"Electronics\",\"price\":399,\"quantity\":1,\"details\":{\"brand\":\"LG\",\"color\":\"White\"}}",
         null,
         "{\"order_id\": 8, \"customer_id\": 9179, \"order_date\": \"2025-01-02\", \"transaction_timestamp\": \"2025-01-02 13:11:15\", \"total_amount\": 399, \"payment_method\": \"PayPal\", \"items\": [{\"item_id\": 5, \"name\": \"Tablet\", \"category\": \"Electronics\", \"price\": 399, \"quantity\": 1, \"details\": {\"brand\": \"LG\", \"color\": \"White\"}}], \"order_status\": \"Completed\"}"
        ],
        [
         "{\"item_id\":3,\"name\":\"Wireless Headphones\",\"category\":\"Electronics\",\"price\":199,\"quantity\":3,\"details\":{\"brand\":\"Bose\",\"color\":\"Blue\"}}",
         null,
         "{\"order_id\": 14, \"customer_id\": 7207, \"order_date\": \"2025-01-01\", \"transaction_timestamp\": \"2025-01-01 18:22:26\", \"total_amount\": 597, \"payment_method\": \"PayPal\", \"items\": [{\"item_id\": 3, \"name\": \"Wireless Headphones\", \"category\": \"Electronics\", \"price\": 199, \"quantity\": 3, \"details\": {\"brand\": \"Bose\", \"color\": \"Blue\"}}], \"order_status\": \"Cancelled\"}"
        ],
        [
         "{\"item_id\":10,\"name\":\"Drone\",\"category\":\"Electronics\",\"price\":799,\"quantity\":1,\"details\":{\"brand\":\"Dell\",\"color\":\"Black\"}}",
         null,
         "{\"order_id\": 18, \"customer_id\": 4468, \"order_date\": \"2025-01-22\", \"transaction_timestamp\": \"2025-01-22 21:12:08\", \"total_amount\": 799, \"payment_method\": \"Credit Card\", \"items\": [{\"item_id\": 10, \"name\": \"Drone\", \"category\": \"Electronics\", \"price\": 799, \"quantity\": 1, \"details\": {\"brand\": \"Dell\", \"color\": \"Black\"}}], \"order_status\": \"Pending\"}"
        ],
        [
         null,
         null,
         "{\"order_id\": 22, \"customer_id\": 4761, \"order_date\": 2025-01-01, \"transaction_timestamp\": \"2025-01-01 15:49:19\", \"total_amount\": 199, \"payment_method\": \"PayPal\", \"items\": [{\"item_id\": 3, \"name\": \"Wireless Headphones\", \"category\": \"Electronics\", \"price\": 199, \"quantity\": 1, \"details\": {\"brand\": \"HP\", \"color\": \"Silver\"}}], \"order_status\": \"Pending\"}"
        ],
        [
         "{\"item_id\":1,\"name\":\"Smartphone\",\"category\":\"Electronics\",\"price\":699,\"quantity\":1,\"details\":{\"brand\":\"Samsung\",\"color\":\"Silver\"}}",
         null,
         "{\"order_id\": 26, \"customer_id\": 7007, \"order_date\": \"2025-01-05\", \"transaction_timestamp\": \"2025-01-05 19:01:25\", \"total_amount\": 699, \"payment_method\": \"Bank Transfer\", \"items\": [{\"item_id\": 1, \"name\": \"Smartphone\", \"category\": \"Electronics\", \"price\": 699, \"quantity\": 1, \"details\": {\"brand\": \"Samsung\", \"color\": \"Silver\"}}], \"order_status\": \"Shipped\"}"
        ],
        [
         "{\"item_id\":7,\"name\":\"External Hard Drive\",\"category\":\"Electronics\",\"price\":129,\"quantity\":1,\"details\":{\"brand\":\"Bose\",\"color\":\"Gray\"}}",
         "{\"item_id\":7,\"name\":\"External Hard Drive\",\"category\":\"Electronics\",\"price\":129,\"quantity\":1,\"details\":{\"brand\":\"Bose\",\"color\":\"Gray\"}}",
         "{\"order_id\": 29, \"customer_id\": 5953, \"order_date\": \"2025-01-18\", \"transaction_timestamp\": \"2025-01-18 03:05:04\", \"total_amount\": 129, \"payment_method\": \"Bank Transfer\", \"items\": [{\"item_id\": 7, \"name\": \"External Hard Drive\", \"category\": \"Electronics\", \"price\": 129, \"quantity\": 1, \"details\": {\"brand\": \"Bose\", \"color\": \"Gray\"}}, {\"item_id\": 7, \"name\": \"External Hard Drive\", \"category\": \"Electronics\", \"price\": 129, \"quantity\": 1, \"details\": {\"brand\": \"Bose\", \"color\": \"Gray\"}}], \"order_status\": \"Pending\"}"
        ],
        [
         "{\"item_id\":4,\"name\":\"Smartwatch\",\"category\":\"Electronics\",\"price\":299,\"quantity\":1,\"details\":{\"brand\":\"Dell\",\"color\":\"White\"}}",
         null,
         "{\"order_id\": 31, \"customer_id\": 4996, \"order_date\": \"2025-01-18\", \"transaction_timestamp\": \"2025-01-18 03:13:29\", \"total_amount\": 299, \"payment_method\": \"Bank Transfer\", \"items\": [{\"item_id\": 4, \"name\": \"Smartwatch\", \"category\": \"Electronics\", \"price\": 299, \"quantity\": 1, \"details\": {\"brand\": \"Dell\", \"color\": \"White\"}}], \"order_status\": \"Shipped\"}"
        ],
        [
         "{\"item_id\":4,\"name\":\"Smartwatch\",\"category\":\"Electronics\",\"price\":299,\"quantity\":3,\"details\":{\"brand\":\"Canon\",\"color\":\"White\"}}",
         null,
         "{\"order_id\": 33, \"customer_id\": 9605, \"order_date\": \"2025-01-13\", \"transaction_timestamp\": \"2025-01-13 04:47:43\", \"total_amount\": 897, \"payment_method\": \"PayPal\", \"items\": [{\"item_id\": 4, \"name\": \"Smartwatch\", \"category\": \"Electronics\", \"price\": 299, \"quantity\": 3, \"details\": {\"brand\": \"Canon\", \"color\": \"White\"}}], \"order_status\": \"Completed\"}"
        ],
        [
         "{\"item_id\":6,\"name\":\"Bluetooth Speaker\",\"category\":\"Electronics\",\"price\":149,\"quantity\":2,\"details\":{\"brand\":\"Bose\",\"color\":\"Silver\"}}",
         "{\"item_id\":8,\"name\":\"Gaming Console\",\"category\":\"Electronics\",\"price\":499,\"quantity\":1,\"details\":{\"brand\":\"LG\",\"color\":\"Black\"}}",
         "{\"order_id\": 34, \"customer_id\": 9605, \"order_date\": \"2025-01-21\", \"transaction_timestamp\": \"2025-01-21 00:25:01\", \"total_amount\": 926, \"payment_method\": \"PayPal\", \"items\": [{\"item_id\": 6, \"name\": \"Bluetooth Speaker\", \"category\": \"Electronics\", \"price\": 149, \"quantity\": 2, \"details\": {\"brand\": \"Bose\", \"color\": \"Silver\"}}, {\"item_id\": 8, \"name\": \"Gaming Console\", \"category\": \"Electronics\", \"price\": 499, \"quantity\": 1, \"details\": {\"brand\": \"LG\", \"color\": \"Black\"}}, {\"item_id\": 7, \"name\": \"External Hard Drive\", \"category\": \"Electronics\", \"price\": 129, \"quantity\": 1, \"details\": {\"brand\": \"Samsung\", \"color\": \"Black\"}}], \"order_status\": \"Cancelled\"}"
        ],
        [
         "{\"item_id\":6,\"name\":\"Bluetooth Speaker\",\"category\":\"Electronics\",\"price\":149,\"quantity\":2,\"details\":{\"brand\":\"Bose\",\"color\":\"Silver\"}}",
         null,
         "{\"order_id\": 40, \"customer_id\": 6384, \"order_date\": \"2025-01-20\", \"transaction_timestamp\": \"2025-01-20 16:18:35\", \"total_amount\": 298, \"payment_method\": \"PayPal\", \"items\": [{\"item_id\": 6, \"name\": \"Bluetooth Speaker\", \"category\": \"Electronics\", \"price\": 149, \"quantity\": 2, \"details\": {\"brand\": \"Bose\", \"color\": \"Silver\"}}], \"order_status\": \"Completed\"}"
        ],
        [
         "{\"item_id\":2,\"name\":\"Laptop\",\"category\":\"Electronics\",\"price\":999,\"quantity\":1,\"details\":{\"brand\":\"Sony\",\"color\":\"Silver\"}}",
         null,
         "{\"order_id\": 41, \"customer_id\": 6384, \"order_date\": \"2025-01-05\", \"transaction_timestamp\": \"2025-01-05 06:10:22\", \"total_amount\": 999, \"payment_method\": \"Credit Card\", \"items\": [{\"item_id\": 2, \"name\": \"Laptop\", \"category\": \"Electronics\", \"price\": 999, \"quantity\": 1, \"details\": {\"brand\": \"Sony\", \"color\": \"Silver\"}}], \"order_status\": \"Shipped\"}"
        ],
        [
         "{\"item_id\":8,\"name\":\"Gaming Console\",\"category\":\"Electronics\",\"price\":499,\"quantity\":1,\"details\":{\"brand\":\"LG\",\"color\":\"Black\"}}",
         null,
         "{\"order_id\": 43, \"customer_id\": 5028, \"order_date\": \"2025-01-24\", \"transaction_timestamp\": \"2025-01-24 18:10:37\", \"total_amount\": 499, \"payment_method\": \"PayPal\", \"items\": [{\"item_id\": 8, \"name\": \"Gaming Console\", \"category\": \"Electronics\", \"price\": 499, \"quantity\": 1, \"details\": {\"brand\": \"LG\", \"color\": \"Black\"}}], \"order_status\": \"Pending\"}"
        ],
        [
         "{\"item_id\":6,\"name\":\"Bluetooth Speaker\",\"category\":\"Electronics\",\"price\":149,\"quantity\":3,\"details\":{\"brand\":\"Apple\",\"color\":\"Gray\"}}",
         "{\"item_id\":4,\"name\":\"Smartwatch\",\"category\":\"Electronics\",\"price\":299,\"quantity\":1,\"details\":{\"brand\":\"Sony\",\"color\":\"White\"}}",
         "{\"order_id\": 50, \"customer_id\": 3712, \"order_date\": \"2025-01-11\", \"transaction_timestamp\": \"2025-01-11 01:19:09\", \"total_amount\": 746, \"payment_method\": \"Credit Card\", \"items\": [{\"item_id\": 6, \"name\": \"Bluetooth Speaker\", \"category\": \"Electronics\", \"price\": 149, \"quantity\": 3, \"details\": {\"brand\": \"Apple\", \"color\": \"Gray\"}}, {\"item_id\": 4, \"name\": \"Smartwatch\", \"category\": \"Electronics\", \"price\": 299, \"quantity\": 1, \"details\": {\"brand\": \"Sony\", \"color\": \"White\"}}], \"order_status\": \"Shipped\"}"
        ],
        [
         "{\"item_id\":6,\"name\":\"Bluetooth Speaker\",\"category\":\"Electronics\",\"price\":149,\"quantity\":1,\"details\":{\"brand\":\"Samsung\",\"color\":\"Gray\"}}",
         null,
         "{\"order_id\": 51, \"customer_id\": 8845, \"order_date\": \"2025-01-21\", \"transaction_timestamp\": \"2025-01-21 13:19:59\", \"total_amount\": 149, \"payment_method\": \"PayPal\", \"items\": [{\"item_id\": 6, \"name\": \"Bluetooth Speaker\", \"category\": \"Electronics\", \"price\": 149, \"quantity\": 1, \"details\": {\"brand\": \"Samsung\", \"color\": \"Gray\"}}], \"order_status\": \"Completed\"}"
        ],
        [
         "{\"item_id\":3,\"name\":\"Wireless Headphones\",\"category\":\"Electronics\",\"price\":199,\"quantity\":1,\"details\":{\"brand\":\"Apple\",\"color\":\"Black\"}}",
         null,
         "{\"order_id\": 53, \"customer_id\": 8845, \"order_date\": \"2025-01-21\", \"transaction_timestamp\": \"2025-01-21 08:31:02\", \"total_amount\": 199, \"payment_method\": \"Bank Transfer\", \"items\": [{\"item_id\": 3, \"name\": \"Wireless Headphones\", \"category\": \"Electronics\", \"price\": 199, \"quantity\": 1, \"details\": {\"brand\": \"Apple\", \"color\": \"Black\"}}], \"order_status\": \"Pending\"}"
        ],
        [
         "{\"item_id\":3,\"name\":\"Wireless Headphones\",\"category\":\"Electronics\",\"price\":199,\"quantity\":1,\"details\":{\"brand\":\"HP\",\"color\":\"Silver\"}}",
         "{\"item_id\":8,\"name\":\"Gaming Console\",\"category\":\"Electronics\",\"price\":499,\"quantity\":1,\"details\":{\"brand\":\"LG\",\"color\":\"Gray\"}}",
         "{\"order_id\": 56, \"customer_id\": 8580, \"order_date\": \"2025-01-01\", \"transaction_timestamp\": \"2025-01-01 12:02:41\", \"total_amount\": 698, \"payment_method\": \"PayPal\", \"items\": [{\"item_id\": 3, \"name\": \"Wireless Headphones\", \"category\": \"Electronics\", \"price\": 199, \"quantity\": 1, \"details\": {\"brand\": \"HP\", \"color\": \"Silver\"}}, {\"item_id\": 8, \"name\": \"Gaming Console\", \"category\": \"Electronics\", \"price\": 499, \"quantity\": 1, \"details\": {\"brand\": \"LG\", \"color\": \"Gray\"}}], \"order_status\": \"Cancelled\"}"
        ],
        [
         "{\"item_id\":7,\"name\":\"External Hard Drive\",\"category\":\"Electronics\",\"price\":129,\"quantity\":3,\"details\":{\"brand\":\"Dell\",\"color\":\"White\"}}",
         "{\"item_id\":4,\"name\":\"Smartwatch\",\"category\":\"Electronics\",\"price\":299,\"quantity\":2,\"details\":{\"brand\":\"GoPro\",\"color\":\"Blue\"}}",
         "{\"order_id\": 62, \"customer_id\": 7123, \"order_date\": \"2025-01-24\", \"transaction_timestamp\": \"2025-01-24 12:00:54\", \"total_amount\": 985, \"payment_method\": \"Bank Transfer\", \"items\": [{\"item_id\": 7, \"name\": \"External Hard Drive\", \"category\": \"Electronics\", \"price\": 129, \"quantity\": 3, \"details\": {\"brand\": \"Dell\", \"color\": \"White\"}}, {\"item_id\": 4, \"name\": \"Smartwatch\", \"category\": \"Electronics\", \"price\": 299, \"quantity\": 2, \"details\": {\"brand\": \"GoPro\", \"color\": \"Blue\"}}], \"order_status\": \"Completed\"}"
        ],
        [
         "{\"item_id\":4,\"name\":\"Smartwatch\",\"category\":\"Electronics\",\"price\":299,\"quantity\":1,\"details\":{\"brand\":\"Bose\",\"color\":\"Silver\"}}",
         "{\"item_id\":4,\"name\":\"Smartwatch\",\"category\":\"Electronics\",\"price\":299,\"quantity\":1,\"details\":{\"brand\":\"GoPro\",\"color\":\"White\"}}",
         "{\"order_id\": 66, \"customer_id\": 3084, \"order_date\": \"2025-01-17\", \"transaction_timestamp\": \"2025-01-17 21:16:11\", \"total_amount\": 598, \"payment_method\": \"Credit Card\", \"items\": [{\"item_id\": 4, \"name\": \"Smartwatch\", \"category\": \"Electronics\", \"price\": 299, \"quantity\": 1, \"details\": {\"brand\": \"Bose\", \"color\": \"Silver\"}}, {\"item_id\": 4, \"name\": \"Smartwatch\", \"category\": \"Electronics\", \"price\": 299, \"quantity\": 1, \"details\": {\"brand\": \"GoPro\", \"color\": \"White\"}}], \"order_status\": \"Cancelled\"}"
        ],
        [
         "{\"item_id\":6,\"name\":\"Bluetooth Speaker\",\"category\":\"Electronics\",\"price\":149,\"quantity\":1,\"details\":{\"brand\":\"Bose\",\"color\":\"Gray\"}}",
         null,
         "{\"order_id\": 68, \"customer_id\": 4973, \"order_date\": \"2025-01-10\", \"transaction_timestamp\": \"2025-01-10 20:35:43\", \"total_amount\": 149, \"payment_method\": \"Bank Transfer\", \"items\": [{\"item_id\": 6, \"name\": \"Bluetooth Speaker\", \"category\": \"Electronics\", \"price\": 149, \"quantity\": 1, \"details\": {\"brand\": \"Bose\", \"color\": \"Gray\"}}], \"order_status\": \"Completed\"}"
        ],
        [
         "{\"item_id\":7,\"name\":\"External Hard Drive\",\"category\":\"Electronics\",\"price\":129,\"quantity\":3,\"details\":{\"brand\":\"GoPro\",\"color\":\"Gray\"}}",
         "{\"item_id\":7,\"name\":\"External Hard Drive\",\"category\":\"Electronics\",\"price\":129,\"quantity\":3,\"details\":{\"brand\":\"GoPro\",\"color\":\"Gray\"}}",
         "{\"order_id\": 73, \"customer_id\": 6167, \"order_date\": \"2025-01-07\", \"transaction_timestamp\": \"2025-01-07 01:02:26\", \"total_amount\": 387, \"payment_method\": \"Credit Card\", \"items\": [{\"item_id\": 7, \"name\": \"External Hard Drive\", \"category\": \"Electronics\", \"price\": 129, \"quantity\": 3, \"details\": {\"brand\": \"GoPro\", \"color\": \"Gray\"}}, {\"item_id\": 7, \"name\": \"External Hard Drive\", \"category\": \"Electronics\", \"price\": 129, \"quantity\": 3, \"details\": {\"brand\": \"GoPro\", \"color\": \"Gray\"}}], \"order_status\": \"Shipped\"}"
        ],
        [
         "{\"item_id\":1,\"name\":\"Smartphone\",\"category\":\"Electronics\",\"price\":699,\"quantity\":1,\"details\":{\"brand\":\"GoPro\",\"color\":\"White\"}}",
         null,
         "{\"order_id\": 75, \"customer_id\": 6167, \"order_date\": \"2025-01-19\", \"transaction_timestamp\": \"2025-01-19 16:23:16\", \"total_amount\": 699, \"payment_method\": \"Credit Card\", \"items\": [{\"item_id\": 1, \"name\": \"Smartphone\", \"category\": \"Electronics\", \"price\": 699, \"quantity\": 1, \"details\": {\"brand\": \"GoPro\", \"color\": \"White\"}}], \"order_status\": \"Shipped\"}"
        ],
        [
         "{\"item_id\":5,\"name\":\"Tablet\",\"category\":\"Electronics\",\"price\":399,\"quantity\":1,\"details\":{\"brand\":\"Microsoft\",\"color\":\"Silver\"}}",
         null,
         "{\"order_id\": 76, \"customer_id\": 3295, \"order_date\": \"2025-01-06\", \"transaction_timestamp\": \"2025-01-06 02:54:39\", \"total_amount\": 399, \"payment_method\": \"Bank Transfer\", \"items\": [{\"item_id\": 5, \"name\": \"Tablet\", \"category\": \"Electronics\", \"price\": 399, \"quantity\": 1, \"details\": {\"brand\": \"Microsoft\", \"color\": \"Silver\"}}], \"order_status\": \"Completed\"}"
        ],
        [
         "{\"item_id\":5,\"name\":\"Tablet\",\"category\":\"Electronics\",\"price\":399,\"quantity\":2,\"details\":{\"brand\":\"Dell\",\"color\":\"White\"}}",
         null,
         "{\"order_id\": 78, \"customer_id\": 9084, \"order_date\": \"2025-01-21\", \"transaction_timestamp\": \"2025-01-21 11:42:51\", \"total_amount\": 798, \"payment_method\": \"PayPal\", \"items\": [{\"item_id\": 5, \"name\": \"Tablet\", \"category\": \"Electronics\", \"price\": 399, \"quantity\": 2, \"details\": {\"brand\": \"Dell\", \"color\": \"White\"}}], \"order_status\": \"Cancelled\"}"
        ],
        [
         "{\"item_id\":8,\"name\":\"Gaming Console\",\"category\":\"Electronics\",\"price\":499,\"quantity\":2,\"details\":{\"brand\":\"Dell\",\"color\":\"Gray\"}}",
         null,
         "{\"order_id\": 79, \"customer_id\": 9084, \"order_date\": \"2025-01-25\", \"transaction_timestamp\": \"2025-01-25 03:52:05\", \"total_amount\": 998, \"payment_method\": \"Credit Card\", \"items\": [{\"item_id\": 8, \"name\": \"Gaming Console\", \"category\": \"Electronics\", \"price\": 499, \"quantity\": 2, \"details\": {\"brand\": \"Dell\", \"color\": \"Gray\"}}], \"order_status\": \"Cancelled\"}"
        ],
        [
         "{\"item_id\":7,\"name\":\"External Hard Drive\",\"category\":\"Electronics\",\"price\":129,\"quantity\":3,\"details\":{\"brand\":\"Canon\",\"color\":\"Gray\"}}",
         "{\"item_id\":3,\"name\":\"Wireless Headphones\",\"category\":\"Electronics\",\"price\":199,\"quantity\":2,\"details\":{\"brand\":\"Sony\",\"color\":\"Black\"}}",
         "{\"order_id\": 83, \"customer_id\": 2344, \"order_date\": \"2025-01-07\", \"transaction_timestamp\": \"2025-01-07 12:48:05\", \"total_amount\": 785, \"payment_method\": \"PayPal\", \"items\": [{\"item_id\": 7, \"name\": \"External Hard Drive\", \"category\": \"Electronics\", \"price\": 129, \"quantity\": 3, \"details\": {\"brand\": \"Canon\", \"color\": \"Gray\"}}, {\"item_id\": 3, \"name\": \"Wireless Headphones\", \"category\": \"Electronics\", \"price\": 199, \"quantity\": 2, \"details\": {\"brand\": \"Sony\", \"color\": \"Black\"}}], \"order_status\": \"Shipped\"}"
        ],
        [
         "{\"item_id\":7,\"name\":\"External Hard Drive\",\"category\":\"Electronics\",\"price\":129,\"quantity\":1,\"details\":{\"brand\":\"Apple\",\"color\":\"Blue\"}}",
         null,
         "{\"order_id\": 87, \"customer_id\": 2141, \"order_date\": \"2025-01-02\", \"transaction_timestamp\": \"2025-01-02 04:28:38\", \"total_amount\": 129, \"payment_method\": \"PayPal\", \"items\": [{\"item_id\": 7, \"name\": \"External Hard Drive\", \"category\": \"Electronics\", \"price\": 129, \"quantity\": 1, \"details\": {\"brand\": \"Apple\", \"color\": \"Blue\"}}], \"order_status\": \"Pending\"}"
        ],
        [
         "{\"item_id\":7,\"name\":\"External Hard Drive\",\"category\":\"Electronics\",\"price\":129,\"quantity\":1,\"details\":{\"brand\":\"Canon\",\"color\":\"White\"}}",
         "{\"item_id\":7,\"name\":\"External Hard Drive\",\"category\":\"Electronics\",\"price\":129,\"quantity\":1,\"details\":{\"brand\":\"Samsung\",\"color\":\"Black\"}}",
         "{\"order_id\": 90, \"customer_id\": 9247, \"order_date\": \"2025-01-17\", \"transaction_timestamp\": \"2025-01-17 14:30:54\", \"total_amount\": 258, \"payment_method\": \"Credit Card\", \"items\": [{\"item_id\": 7, \"name\": \"External Hard Drive\", \"category\": \"Electronics\", \"price\": 129, \"quantity\": 1, \"details\": {\"brand\": \"Canon\", \"color\": \"White\"}}, {\"item_id\": 7, \"name\": \"External Hard Drive\", \"category\": \"Electronics\", \"price\": 129, \"quantity\": 1, \"details\": {\"brand\": \"Samsung\", \"color\": \"Black\"}}], \"order_status\": \"Pending\"}"
        ],
        [
         "{\"item_id\":6,\"name\":\"Bluetooth Speaker\",\"category\":\"Electronics\",\"price\":149,\"quantity\":2,\"details\":{\"brand\":\"Sony\",\"color\":\"Black\"}}",
         "{\"item_id\":3,\"name\":\"Wireless Headphones\",\"category\":\"Electronics\",\"price\":199,\"quantity\":3,\"details\":{\"brand\":\"Apple\",\"color\":\"Blue\"}}",
         "{\"order_id\": 94, \"customer_id\": 6627, \"order_date\": \"2025-01-10\", \"transaction_timestamp\": \"2025-01-10 09:51:48\", \"total_amount\": 895, \"payment_method\": \"Credit Card\", \"items\": [{\"item_id\": 6, \"name\": \"Bluetooth Speaker\", \"category\": \"Electronics\", \"price\": 149, \"quantity\": 2, \"details\": {\"brand\": \"Sony\", \"color\": \"Black\"}}, {\"item_id\": 3, \"name\": \"Wireless Headphones\", \"category\": \"Electronics\", \"price\": 199, \"quantity\": 3, \"details\": {\"brand\": \"Apple\", \"color\": \"Blue\"}}], \"order_status\": \"Pending\"}"
        ],
        [
         "{\"item_id\":7,\"name\":\"External Hard Drive\",\"category\":\"Electronics\",\"price\":129,\"quantity\":3,\"details\":{\"brand\":\"HP\",\"color\":\"Blue\"}}",
         "{\"item_id\":4,\"name\":\"Smartwatch\",\"category\":\"Electronics\",\"price\":299,\"quantity\":2,\"details\":{\"brand\":\"Samsung\",\"color\":\"Gray\"}}",
         "{\"order_id\": 98, \"customer_id\": 9150, \"order_date\": \"2025-01-08\", \"transaction_timestamp\": \"2025-01-08 05:57:55\", \"total_amount\": 985, \"payment_method\": \"Credit Card\", \"items\": [{\"item_id\": 7, \"name\": \"External Hard Drive\", \"category\": \"Electronics\", \"price\": 129, \"quantity\": 3, \"details\": {\"brand\": \"HP\", \"color\": \"Blue\"}}, {\"item_id\": 4, \"name\": \"Smartwatch\", \"category\": \"Electronics\", \"price\": 299, \"quantity\": 2, \"details\": {\"brand\": \"Samsung\", \"color\": \"Gray\"}}], \"order_status\": \"Completed\"}"
        ],
        [
         "{\"item_id\":1,\"name\":\"Smartphone\",\"category\":\"Electronics\",\"price\":699,\"quantity\":1,\"details\":{\"brand\":\"Bose\",\"color\":\"Gray\"}}",
         null,
         "{\"order_id\": 99, \"customer_id\": 9150, \"order_date\": \"2025-01-10\", \"transaction_timestamp\": \"2025-01-10 21:43:46\", \"total_amount\": 699, \"payment_method\": \"Credit Card\", \"items\": [{\"item_id\": 1, \"name\": \"Smartphone\", \"category\": \"Electronics\", \"price\": 699, \"quantity\": 1, \"details\": {\"brand\": \"Bose\", \"color\": \"Gray\"}}], \"order_status\": \"Shipped\"}"
        ],
        [
         "{\"item_id\":6,\"name\":\"Bluetooth Speaker\",\"category\":\"Electronics\",\"price\":149,\"quantity\":3,\"details\":{\"brand\":\"LG\",\"color\":\"Silver\"}}",
         null,
         "{\"order_id\": 100, \"customer_id\": 9150, \"order_date\": \"2025-01-04\", \"transaction_timestamp\": \"2025-01-04 06:40:13\", \"total_amount\": 447, \"payment_method\": \"PayPal\", \"items\": [{\"item_id\": 6, \"name\": \"Bluetooth Speaker\", \"category\": \"Electronics\", \"price\": 149, \"quantity\": 3, \"details\": {\"brand\": \"LG\", \"color\": \"Silver\"}}], \"order_status\": \"Shipped\"}"
        ],
        [
         "{\"item_id\":2,\"name\":\"Laptop\",\"category\":\"Electronics\",\"price\":999,\"quantity\":1,\"details\":{\"brand\":\"Sony\",\"color\":\"White\"}}",
         null,
         "{\"order_id\": 12, \"customer_id\": 5816, \"order_date\": \"2024-12-06\", \"transaction_timestamp\": \"2024-12-06 20:26:49\", \"total_amount\": 999, \"payment_method\": \"PayPal\", \"items\": [{\"item_id\": 2, \"name\": \"Laptop\", \"category\": \"Electronics\", \"price\": 999, \"quantity\": 1, \"details\": {\"brand\": \"Sony\", \"color\": \"White\"}}], \"order_status\": \"Cancelled\"}"
        ],
        [
         "{\"item_id\":2,\"name\":\"Laptop\",\"category\":\"Electronics\",\"price\":999,\"quantity\":1,\"details\":{\"brand\":\"GoPro\",\"color\":\"Black\"}}",
         null,
         "{\"order_id\": 13, \"customer_id\": 4858, \"order_date\": \"2024-12-17\", \"transaction_timestamp\": \"2024-12-17 03:41:37\", \"total_amount\": 999, \"payment_method\": \"PayPal\", \"items\": [{\"item_id\": 2, \"name\": \"Laptop\", \"category\": \"Electronics\", \"price\": 999, \"quantity\": 1, \"details\": {\"brand\": \"GoPro\", \"color\": \"Black\"}}], \"order_status\": \"Pending\"}"
        ],
        [
         "{\"item_id\":3,\"name\":\"Wireless Headphones\",\"category\":\"Electronics\",\"price\":199,\"quantity\":3,\"details\":{\"brand\":\"Sony\",\"color\":\"Silver\"}}",
         null,
         "{\"order_id\": 16, \"customer_id\": 5204, \"order_date\": \"2024-12-08\", \"transaction_timestamp\": \"2024-12-08 22:59:48\", \"total_amount\": 597, \"payment_method\": \"Bank Transfer\", \"items\": [{\"item_id\": 3, \"name\": \"Wireless Headphones\", \"category\": \"Electronics\", \"price\": 199, \"quantity\": 3, \"details\": {\"brand\": \"Sony\", \"color\": \"Silver\"}}], \"order_status\": \"Pending\"}"
        ],
        [
         "{\"item_id\":8,\"name\":\"Gaming Console\",\"category\":\"Electronics\",\"price\":499,\"quantity\":2,\"details\":{\"brand\":\"Dell\",\"color\":\"Black\"}}",
         null,
         "{\"order_id\": 17, \"customer_id\": 5204, \"order_date\": \"2024-12-02\", \"transaction_timestamp\": \"2024-12-02 12:00:50\", \"total_amount\": 998, \"payment_method\": \"Bank Transfer\", \"items\": [{\"item_id\": 8, \"name\": \"Gaming Console\", \"category\": \"Electronics\", \"price\": 499, \"quantity\": 2, \"details\": {\"brand\": \"Dell\", \"color\": \"Black\"}}], \"order_status\": \"Pending\"}"
        ],
        [
         "{\"item_id\":9,\"name\":\"Smart TV\",\"category\":\"Electronics\",\"price\":1199,\"quantity\":1,\"details\":{\"brand\":\"GoPro\",\"color\":\"Gray\"}}",
         null,
         "{\"order_id\": 24, \"customer_id\": 1211, \"order_date\": \"2024-12-21\", \"transaction_timestamp\": \"2024-12-21 03:24:26\", \"total_amount\": 1199, \"payment_method\": \"PayPal\", \"items\": [{\"item_id\": 9, \"name\": \"Smart TV\", \"category\": \"Electronics\", \"price\": 1199, \"quantity\": 1, \"details\": {\"brand\": \"GoPro\", \"color\": \"Gray\"}}], \"order_status\": \"Completed\"}"
        ],
        [
         "{\"item_id\":7,\"name\":\"External Hard Drive\",\"category\":\"Electronics\",\"price\":129,\"quantity\":2,\"details\":{\"brand\":\"Dell\",\"color\":\"White\"}}",
         "{\"item_id\":6,\"name\":\"Bluetooth Speaker\",\"category\":\"Electronics\",\"price\":149,\"quantity\":3,\"details\":{\"brand\":\"Canon\",\"color\":\"Black\"}}",
         "{\"order_id\": 27, \"customer_id\": 2703, \"order_date\": \"2024-12-02\", \"transaction_timestamp\": \"2024-12-02 11:24:21\", \"total_amount\": 904, \"payment_method\": \"Credit Card\", \"items\": [{\"item_id\": 7, \"name\": \"External Hard Drive\", \"category\": \"Electronics\", \"price\": 129, \"quantity\": 2, \"details\": {\"brand\": \"Dell\", \"color\": \"White\"}}, {\"item_id\": 6, \"name\": \"Bluetooth Speaker\", \"category\": \"Electronics\", \"price\": 149, \"quantity\": 3, \"details\": {\"brand\": \"Canon\", \"color\": \"Black\"}}, {\"item_id\": 3, \"name\": \"Wireless Headphones\", \"category\": \"Electronics\", \"price\": 199, \"quantity\": 1, \"details\": {\"brand\": \"Microsoft\", \"color\": \"Silver\"}}], \"order_status\": \"Completed\"}"
        ],
        [
         "{\"item_id\":7,\"name\":\"External Hard Drive\",\"category\":\"Electronics\",\"price\":129,\"quantity\":1,\"details\":{\"brand\":\"GoPro\",\"color\":\"Blue\"}}",
         null,
         "{\"order_id\": 28, \"customer_id\": 2703, \"order_date\": \"2024-12-26\", \"transaction_timestamp\": \"2024-12-26 03:17:50\", \"total_amount\": 129, \"payment_method\": \"Credit Card\", \"items\": [{\"item_id\": 7, \"name\": \"External Hard Drive\", \"category\": \"Electronics\", \"price\": 129, \"quantity\": 1, \"details\": {\"brand\": \"GoPro\", \"color\": \"Blue\"}}], \"order_status\": \"Cancelled\"}"
        ],
        [
         "{\"item_id\":5,\"name\":\"Tablet\",\"category\":\"Electronics\",\"price\":399,\"quantity\":1,\"details\":{\"brand\":\"Apple\",\"color\":\"Silver\"}}",
         null,
         "{\"order_id\": 32, \"customer_id\": 4996, \"order_date\": \"2024-12-28\", \"transaction_timestamp\": \"2024-12-28 08:55:57\", \"total_amount\": 399, \"payment_method\": \"PayPal\", \"items\": [{\"item_id\": 5, \"name\": \"Tablet\", \"category\": \"Electronics\", \"price\": 399, \"quantity\": 1, \"details\": {\"brand\": \"Apple\", \"color\": \"Silver\"}}], \"order_status\": \"Pending\"}"
        ],
        [
         "{\"item_id\":7,\"name\":\"External Hard Drive\",\"category\":\"Electronics\",\"price\":129,\"quantity\":2,\"details\":{\"brand\":\"HP\",\"color\":\"Silver\"}}",
         null,
         "{\"order_id\": 37, \"customer_id\": 7829, \"order_date\": \"2024-12-22\", \"transaction_timestamp\": \"2024-12-22 10:11:49\", \"total_amount\": 258, \"payment_method\": \"Credit Card\", \"items\": [{\"item_id\": 7, \"name\": \"External Hard Drive\", \"category\": \"Electronics\", \"price\": 129, \"quantity\": 2, \"details\": {\"brand\": \"HP\", \"color\": \"Silver\"}}], \"order_status\": \"Shipped\"}"
        ],
        [
         "{\"item_id\":6,\"name\":\"Bluetooth Speaker\",\"category\":\"Electronics\",\"price\":149,\"quantity\":3,\"details\":{\"brand\":\"Apple\",\"color\":\"Gray\"}}",
         null,
         "{\"order_id\": 38, \"customer_id\": 7829, \"order_date\": \"2024-12-25\", \"transaction_timestamp\": \"2024-12-25 22:05:19\", \"total_amount\": 447, \"payment_method\": \"Credit Card\", \"items\": [{\"item_id\": 6, \"name\": \"Bluetooth Speaker\", \"category\": \"Electronics\", \"price\": 149, \"quantity\": 3, \"details\": {\"brand\": \"Apple\", \"color\": \"Gray\"}}], \"order_status\": \"Shipped\"}"
        ],
        [
         "{\"item_id\":7,\"name\":\"External Hard Drive\",\"category\":\"Electronics\",\"price\":129,\"quantity\":1,\"details\":{\"brand\":\"Bose\",\"color\":\"Blue\"}}",
         null,
         "{\"order_id\": 44, \"customer_id\": 7295, \"order_date\": \"2024-12-20\", \"transaction_timestamp\": \"2024-12-20 08:05:43\", \"total_amount\": 129, \"payment_method\": \"Credit Card\", \"items\": [{\"item_id\": 7, \"name\": \"External Hard Drive\", \"category\": \"Electronics\", \"price\": 129, \"quantity\": 1, \"details\": {\"brand\": \"Bose\", \"color\": \"Blue\"}}], \"order_status\": \"Completed\"}"
        ],
        [
         "{\"item_id\":4,\"name\":\"Smartwatch\",\"category\":\"Electronics\",\"price\":299,\"quantity\":1,\"details\":{\"brand\":\"HP\",\"color\":\"White\"}}",
         "{\"item_id\":4,\"name\":\"Smartwatch\",\"category\":\"Electronics\",\"price\":299,\"quantity\":1,\"details\":{\"brand\":\"Canon\",\"color\":\"Blue\"}}",
         "{\"order_id\": 49, \"customer_id\": 7803, \"order_date\": \"2024-12-07\", \"transaction_timestamp\": \"2024-12-07 23:24:11\", \"total_amount\": 747, \"payment_method\": \"PayPal\", \"items\": [{\"item_id\": 4, \"name\": \"Smartwatch\", \"category\": \"Electronics\", \"price\": 299, \"quantity\": 1, \"details\": {\"brand\": \"HP\", \"color\": \"White\"}}, {\"item_id\": 4, \"name\": \"Smartwatch\", \"category\": \"Electronics\", \"price\": 299, \"quantity\": 1, \"details\": {\"brand\": \"Canon\", \"color\": \"Blue\"}}, {\"item_id\": 6, \"name\": \"Bluetooth Speaker\", \"category\": \"Electronics\", \"price\": 149, \"quantity\": 1, \"details\": {\"brand\": \"Samsung\", \"color\": \"White\"}}], \"order_status\": \"Cancelled\"}"
        ],
        [
         "{\"item_id\":3,\"name\":\"Wireless Headphones\",\"category\":\"Electronics\",\"price\":199,\"quantity\":2,\"details\":{\"brand\":\"Bose\",\"color\":\"Gray\"}}",
         null,
         "{\"order_id\": 54, \"customer_id\": 2054, \"order_date\": \"2024-12-20\", \"transaction_timestamp\": \"2024-12-20 12:04:27\", \"total_amount\": 398, \"payment_method\": \"Credit Card\", \"items\": [{\"item_id\": 3, \"name\": \"Wireless Headphones\", \"category\": \"Electronics\", \"price\": 199, \"quantity\": 2, \"details\": {\"brand\": \"Bose\", \"color\": \"Gray\"}}], \"order_status\": \"Pending\"}"
        ],
        [
         "{\"item_id\":1,\"name\":\"Smartphone\",\"category\":\"Electronics\",\"price\":699,\"quantity\":1,\"details\":{\"brand\":\"Microsoft\",\"color\":\"Gray\"}}",
         null,
         "{\"order_id\": 58, \"customer_id\": 8580, \"order_date\": \"2024-12-09\", \"transaction_timestamp\": \"2024-12-09 22:40:58\", \"total_amount\": 699, \"payment_method\": \"PayPal\", \"items\": [{\"item_id\": 1, \"name\": \"Smartphone\", \"category\": \"Electronics\", \"price\": 699, \"quantity\": 1, \"details\": {\"brand\": \"Microsoft\", \"color\": \"Gray\"}}], \"order_status\": \"Completed\"}"
        ],
        [
         "{\"item_id\":3,\"name\":\"Wireless Headphones\",\"category\":\"Electronics\",\"price\":199,\"quantity\":1,\"details\":{\"brand\":\"Samsung\",\"color\":\"Blue\"}}",
         null,
         "{\"order_id\": 60, \"customer_id\": 3409, \"order_date\": \"2024-12-13\", \"transaction_timestamp\": \"2024-12-13 13:10:12\", \"total_amount\": 199, \"payment_method\": \"Bank Transfer\", \"items\": [{\"item_id\": 3, \"name\": \"Wireless Headphones\", \"category\": \"Electronics\", \"price\": 199, \"quantity\": 1, \"details\": {\"brand\": \"Samsung\", \"color\": \"Blue\"}}], \"order_status\": \"Shipped\"}"
        ],
        [
         "{\"item_id\":1,\"name\":\"Smartphone\",\"category\":\"Electronics\",\"price\":699,\"quantity\":1,\"details\":{\"brand\":\"Canon\",\"color\":\"Black\"}}",
         null,
         "{\"order_id\": 61, \"customer_id\": 7123, \"order_date\": \"2024-12-07\", \"transaction_timestamp\": \"2024-12-07 07:47:19\", \"total_amount\": 699, \"payment_method\": \"Bank Transfer\", \"items\": [{\"item_id\": 1, \"name\": \"Smartphone\", \"category\": \"Electronics\", \"price\": 699, \"quantity\": 1, \"details\": {\"brand\": \"Canon\", \"color\": \"Black\"}}], \"order_status\": \"Completed\"}"
        ],
        [
         "{\"item_id\":5,\"name\":\"Tablet\",\"category\":\"Electronics\",\"price\":399,\"quantity\":1,\"details\":{\"brand\":\"Microsoft\",\"color\":\"Gray\"}}",
         null,
         "{\"order_id\": 65, \"customer_id\": 3084, \"order_date\": \"2024-12-09\", \"transaction_timestamp\": \"2024-12-09 13:04:13\", \"total_amount\": 399, \"payment_method\": \"Bank Transfer\", \"items\": [{\"item_id\": 5, \"name\": \"Tablet\", \"category\": \"Electronics\", \"price\": 399, \"quantity\": 1, \"details\": {\"brand\": \"Microsoft\", \"color\": \"Gray\"}}], \"order_status\": \"Cancelled\"}"
        ],
        [
         "{\"item_id\":4,\"name\":\"Smartwatch\",\"category\":\"Electronics\",\"price\":299,\"quantity\":3,\"details\":{\"brand\":\"LG\",\"color\":\"Blue\"}}",
         null,
         "{\"order_id\": 67, \"customer_id\": 3084, \"order_date\": \"2024-12-19\", \"transaction_timestamp\": \"2024-12-19 07:11:09\", \"total_amount\": 897, \"payment_method\": \"PayPal\", \"items\": [{\"item_id\": 4, \"name\": \"Smartwatch\", \"category\": \"Electronics\", \"price\": 299, \"quantity\": 3, \"details\": {\"brand\": \"LG\", \"color\": \"Blue\"}}], \"order_status\": \"Shipped\"}"
        ],
        [
         "{\"item_id\":1,\"name\":\"Smartphone\",\"category\":\"Electronics\",\"price\":699,\"quantity\":1,\"details\":{\"brand\":\"Dell\",\"color\":\"Gray\"}}",
         null,
         "{\"order_id\": 69, \"customer_id\": 4973, \"order_date\": \"2024-12-30\", \"transaction_timestamp\": \"2024-12-30 02:42:01\", \"total_amount\": 699, \"payment_method\": \"Bank Transfer\", \"items\": [{\"item_id\": 1, \"name\": \"Smartphone\", \"category\": \"Electronics\", \"price\": 699, \"quantity\": 1, \"details\": {\"brand\": \"Dell\", \"color\": \"Gray\"}}], \"order_status\": \"Completed\"}"
        ],
        [
         "{\"item_id\":4,\"name\":\"Smartwatch\",\"category\":\"Electronics\",\"price\":299,\"quantity\":3,\"details\":{\"brand\":\"Sony\",\"color\":\"Black\"}}",
         null,
         "{\"order_id\": 70, \"customer_id\": 7997, \"order_date\": \"2024-12-04\", \"transaction_timestamp\": \"2024-12-04 17:17:24\", \"total_amount\": 897, \"payment_method\": \"PayPal\", \"items\": [{\"item_id\": 4, \"name\": \"Smartwatch\", \"category\": \"Electronics\", \"price\": 299, \"quantity\": 3, \"details\": {\"brand\": \"Sony\", \"color\": \"Black\"}}], \"order_status\": \"Shipped\"}"
        ],
        [
         null,
         null,
         "{\"order_id\": 71, \"customer_id\": 7997, \"order_date\": 2024-12-27, \"transaction_timestamp\": \"2024-12-27 11:16:39\", \"total_amount\": 199, \"payment_method\": \"Bank Transfer\", \"items\": [{\"item_id\": 3, \"name\": \"Wireless Headphones\", \"category\": \"Electronics\", \"price\": 199, \"quantity\": 1, \"details\": {\"brand\": \"Microsoft\", \"color\": \"Black\"}}], \"order_status\": \"Completed\"}"
        ],
        [
         "{\"item_id\":1,\"name\":\"Smartphone\",\"category\":\"Electronics\",\"price\":699,\"quantity\":1,\"details\":{\"brand\":\"Samsung\",\"color\":\"Blue\"}}",
         null,
         "{\"order_id\": 74, \"customer_id\": 6167, \"order_date\": \"2024-12-22\", \"transaction_timestamp\": \"2024-12-22 15:54:11\", \"total_amount\": 699, \"payment_method\": \"PayPal\", \"items\": [{\"item_id\": 1, \"name\": \"Smartphone\", \"category\": \"Electronics\", \"price\": 699, \"quantity\": 1, \"details\": {\"brand\": \"Samsung\", \"color\": \"Blue\"}}], \"order_status\": \"Pending\"}"
        ],
        [
         "{\"item_id\":8,\"name\":\"Gaming Console\",\"category\":\"Electronics\",\"price\":499,\"quantity\":2,\"details\":{\"brand\":\"Samsung\",\"color\":\"White\"}}",
         null,
         "{\"order_id\": 80, \"customer_id\": 9687, \"order_date\": \"2024-12-11\", \"transaction_timestamp\": \"2024-12-11 07:43:54\", \"total_amount\": 998, \"payment_method\": \"Bank Transfer\", \"items\": [{\"item_id\": 8, \"name\": \"Gaming Console\", \"category\": \"Electronics\", \"price\": 499, \"quantity\": 2, \"details\": {\"brand\": \"Samsung\", \"color\": \"White\"}}], \"order_status\": \"Cancelled\"}"
        ],
        [
         "{\"item_id\":1,\"name\":\"Smartphone\",\"category\":\"Electronics\",\"price\":699,\"quantity\":1,\"details\":{\"brand\":\"GoPro\",\"color\":\"Blue\"}}",
         null,
         "{\"order_id\": 81, \"customer_id\": 9687, \"order_date\": \"2024-12-27\", \"transaction_timestamp\": \"2024-12-27 02:27:45\", \"total_amount\": 699, \"payment_method\": \"PayPal\", \"items\": [{\"item_id\": 1, \"name\": \"Smartphone\", \"category\": \"Electronics\", \"price\": 699, \"quantity\": 1, \"details\": {\"brand\": \"GoPro\", \"color\": \"Blue\"}}], \"order_status\": \"Completed\"}"
        ],
        [
         "{\"item_id\":7,\"name\":\"External Hard Drive\",\"category\":\"Electronics\",\"price\":129,\"quantity\":3,\"details\":{\"brand\":\"Sony\",\"color\":\"Blue\"}}",
         null,
         "{\"order_id\": 82, \"customer_id\": 2344, \"order_date\": \"2024-12-28\", \"transaction_timestamp\": \"2024-12-28 00:54:08\", \"total_amount\": 387, \"payment_method\": \"PayPal\", \"items\": [{\"item_id\": 7, \"name\": \"External Hard Drive\", \"category\": \"Electronics\", \"price\": 129, \"quantity\": 3, \"details\": {\"brand\": \"Sony\", \"color\": \"Blue\"}}], \"order_status\": \"Completed\"}"
        ],
        [
         "{\"item_id\":1,\"name\":\"Smartphone\",\"category\":\"Electronics\",\"price\":699,\"quantity\":1,\"details\":{\"brand\":\"Canon\",\"color\":\"Silver\"}}",
         null,
         "{\"order_id\": 91, \"customer_id\": 5592, \"order_date\": \"2024-12-17\", \"transaction_timestamp\": \"2024-12-17 00:09:53\", \"total_amount\": 699, \"payment_method\": \"Bank Transfer\", \"items\": [{\"item_id\": 1, \"name\": \"Smartphone\", \"category\": \"Electronics\", \"price\": 699, \"quantity\": 1, \"details\": {\"brand\": \"Canon\", \"color\": \"Silver\"}}], \"order_status\": \"Cancelled\"}"
        ],
        [
         "{\"item_id\":4,\"name\":\"Smartwatch\",\"category\":\"Electronics\",\"price\":299,\"quantity\":2,\"details\":{\"brand\":\"LG\",\"color\":\"Silver\"}}",
         null,
         "{\"order_id\": 93, \"customer_id\": 6627, \"order_date\": \"2024-12-22\", \"transaction_timestamp\": \"2024-12-22 05:07:46\", \"total_amount\": 598, \"payment_method\": \"PayPal\", \"items\": [{\"item_id\": 4, \"name\": \"Smartwatch\", \"category\": \"Electronics\", \"price\": 299, \"quantity\": 2, \"details\": {\"brand\": \"LG\", \"color\": \"Silver\"}}], \"order_status\": \"Pending\"}"
        ],
        [
         "{\"item_id\":4,\"name\":\"Smartwatch\",\"category\":\"Electronics\",\"price\":299,\"quantity\":2,\"details\":{\"brand\":\"GoPro\",\"color\":\"White\"}}",
         "{\"item_id\":3,\"name\":\"Wireless Headphones\",\"category\":\"Electronics\",\"price\":199,\"quantity\":1,\"details\":{\"brand\":\"Bose\",\"color\":\"Gray\"}}",
         "{\"order_id\": 95, \"customer_id\": 6627, \"order_date\": \"2024-12-28\", \"transaction_timestamp\": \"2024-12-28 04:28:30\", \"total_amount\": 946, \"payment_method\": \"Bank Transfer\", \"items\": [{\"item_id\": 4, \"name\": \"Smartwatch\", \"category\": \"Electronics\", \"price\": 299, \"quantity\": 2, \"details\": {\"brand\": \"GoPro\", \"color\": \"White\"}}, {\"item_id\": 3, \"name\": \"Wireless Headphones\", \"category\": \"Electronics\", \"price\": 199, \"quantity\": 1, \"details\": {\"brand\": \"Bose\", \"color\": \"Gray\"}}, {\"item_id\": 6, \"name\": \"Bluetooth Speaker\", \"category\": \"Electronics\", \"price\": 149, \"quantity\": 1, \"details\": {\"brand\": \"Dell\", \"color\": \"Silver\"}}], \"order_status\": \"Completed\"}"
        ],
        [
         "{\"item_id\":6,\"name\":\"Bluetooth Speaker\",\"category\":\"Electronics\",\"price\":149,\"quantity\":1,\"details\":{\"brand\":\"Microsoft\",\"color\":\"Black\"}}",
         null,
         "{\"order_id\": 96, \"customer_id\": 6406, \"order_date\": \"2024-12-02\", \"transaction_timestamp\": \"2024-12-02 12:27:45\", \"total_amount\": 149, \"payment_method\": \"PayPal\", \"items\": [{\"item_id\": 6, \"name\": \"Bluetooth Speaker\", \"category\": \"Electronics\", \"price\": 149, \"quantity\": 1, \"details\": {\"brand\": \"Microsoft\", \"color\": \"Black\"}}], \"order_status\": \"Shipped\"}"
        ],
        [
         "{\"item_id\":8,\"name\":\"Gaming Console\",\"category\":\"Electronics\",\"price\":499,\"quantity\":1,\"details\":{\"brand\":\"Sony\",\"color\":\"Silver\"}}",
         null,
         "{\"order_id\": 97, \"customer_id\": 6406, \"order_date\": \"2024-12-07\", \"transaction_timestamp\": \"2024-12-07 16:14:34\", \"total_amount\": 499, \"payment_method\": \"Bank Transfer\", \"items\": [{\"item_id\": 8, \"name\": \"Gaming Console\", \"category\": \"Electronics\", \"price\": 499, \"quantity\": 1, \"details\": {\"brand\": \"Sony\", \"color\": \"Silver\"}}], \"order_status\": \"Completed\"}"
        ],
        [
         "{\"item_id\":8,\"name\":\"Gaming Console\",\"category\":\"Electronics\",\"price\":499,\"quantity\":2,\"details\":{\"brand\":\"Dell\",\"color\":\"Blue\"}}",
         null,
         "{\"order_id\": 5, \"customer_id\": 3892, \"order_date\": \"2024-11-16\", \"transaction_timestamp\": \"2024-11-16 23:07:31\", \"total_amount\": 998, \"payment_method\": \"Bank Transfer\", \"items\": [{\"item_id\": 8, \"name\": \"Gaming Console\", \"category\": \"Electronics\", \"price\": 499, \"quantity\": 2, \"details\": {\"brand\": \"Dell\", \"color\": \"Blue\"}}], \"order_status\": \"Cancelled\"}"
        ],
        [
         "{\"item_id\":7,\"name\":\"External Hard Drive\",\"category\":\"Electronics\",\"price\":129,\"quantity\":2,\"details\":{\"brand\":\"LG\",\"color\":\"Blue\"}}",
         "{\"item_id\":7,\"name\":\"External Hard Drive\",\"category\":\"Electronics\",\"price\":129,\"quantity\":3,\"details\":{\"brand\":\"HP\",\"color\":\"Gray\"}}",
         "{\"order_id\": 7, \"customer_id\": 1987, \"order_date\": \"2024-11-19\", \"transaction_timestamp\": \"2024-11-19 19:18:48\", \"total_amount\": 645, \"payment_method\": \"Credit Card\", \"items\": [{\"item_id\": 7, \"name\": \"External Hard Drive\", \"category\": \"Electronics\", \"price\": 129, \"quantity\": 2, \"details\": {\"brand\": \"LG\", \"color\": \"Blue\"}}, {\"item_id\": 7, \"name\": \"External Hard Drive\", \"category\": \"Electronics\", \"price\": 129, \"quantity\": 3, \"details\": {\"brand\": \"HP\", \"color\": \"Gray\"}}], \"order_status\": \"Pending\"}"
        ],
        [
         "{\"item_id\":2,\"name\":\"Laptop\",\"category\":\"Electronics\",\"price\":999,\"quantity\":1,\"details\":{\"brand\":\"Apple\",\"color\":\"Black\"}}",
         null,
         "{\"order_id\": 9, \"customer_id\": 9179, \"order_date\": \"2024-11-27\", \"transaction_timestamp\": \"2024-11-27 13:15:29\", \"total_amount\": 999, \"payment_method\": \"Bank Transfer\", \"items\": [{\"item_id\": 2, \"name\": \"Laptop\", \"category\": \"Electronics\", \"price\": 999, \"quantity\": 1, \"details\": {\"brand\": \"Apple\", \"color\": \"Black\"}}], \"order_status\": \"Shipped\"}"
        ],
        [
         "{\"item_id\":5,\"name\":\"Tablet\",\"category\":\"Electronics\",\"price\":399,\"quantity\":2,\"details\":{\"brand\":\"Sony\",\"color\":\"Silver\"}}",
         null,
         "{\"order_id\": 20, \"customer_id\": 8539, \"order_date\": \"2024-11-18\", \"transaction_timestamp\": \"2024-11-18 02:38:21\", \"total_amount\": 798, \"payment_method\": \"PayPal\", \"items\": [{\"item_id\": 5, \"name\": \"Tablet\", \"category\": \"Electronics\", \"price\": 399, \"quantity\": 2, \"details\": {\"brand\": \"Sony\", \"color\": \"Silver\"}}], \"order_status\": \"Pending\"}"
        ],
        [
         "{\"item_id\":6,\"name\":\"Bluetooth Speaker\",\"category\":\"Electronics\",\"price\":149,\"quantity\":2,\"details\":{\"brand\":\"GoPro\",\"color\":\"Blue\"}}",
         null,
         "{\"order_id\": 21, \"customer_id\": 8539, \"order_date\": \"2024-11-21\", \"transaction_timestamp\": \"2024-11-21 11:25:35\", \"total_amount\": 298, \"payment_method\": \"Bank Transfer\", \"items\": [{\"item_id\": 6, \"name\": \"Bluetooth Speaker\", \"category\": \"Electronics\", \"price\": 149, \"quantity\": 2, \"details\": {\"brand\": \"GoPro\", \"color\": \"Blue\"}}], \"order_status\": \"Cancelled\"}"
        ],
        [
         "{\"item_id\":5,\"name\":\"Tablet\",\"category\":\"Electronics\",\"price\":399,\"quantity\":1,\"details\":{\"brand\":\"Apple\",\"color\":\"Gray\"}}",
         "{\"item_id\":4,\"name\":\"Smartwatch\",\"category\":\"Electronics\",\"price\":299,\"quantity\":2,\"details\":{\"brand\":\"Dell\",\"color\":\"Gray\"}}",
         "{\"order_id\": 23, \"customer_id\": 4761, \"order_date\": \"2024-11-22\", \"transaction_timestamp\": \"2024-11-22 16:04:05\", \"total_amount\": 997, \"payment_method\": \"PayPal\", \"items\": [{\"item_id\": 5, \"name\": \"Tablet\", \"category\": \"Electronics\", \"price\": 399, \"quantity\": 1, \"details\": {\"brand\": \"Apple\", \"color\": \"Gray\"}}, {\"item_id\": 4, \"name\": \"Smartwatch\", \"category\": \"Electronics\", \"price\": 299, \"quantity\": 2, \"details\": {\"brand\": \"Dell\", \"color\": \"Gray\"}}], \"order_status\": \"Shipped\"}"
        ],
        [
         "{\"item_id\":2,\"name\":\"Laptop\",\"category\":\"Electronics\",\"price\":999,\"quantity\":1,\"details\":{\"brand\":\"LG\",\"color\":\"Gray\"}}",
         null,
         "{\"order_id\": 25, \"customer_id\": 9706, \"order_date\": \"2024-11-05\", \"transaction_timestamp\": \"2024-11-05 11:45:31\", \"total_amount\": 999, \"payment_method\": \"PayPal\", \"items\": [{\"item_id\": 2, \"name\": \"Laptop\", \"category\": \"Electronics\", \"price\": 999, \"quantity\": 1, \"details\": {\"brand\": \"LG\", \"color\": \"Gray\"}}], \"order_status\": \"Completed\"}"
        ],
        [
         "{\"item_id\":3,\"name\":\"Wireless Headphones\",\"category\":\"Electronics\",\"price\":199,\"quantity\":1,\"details\":{\"brand\":\"GoPro\",\"color\":\"White\"}}",
         null,
         "{\"order_id\": 30, \"customer_id\": 4996, \"order_date\": \"2024-11-12\", \"transaction_timestamp\": \"2024-11-12 03:20:29\", \"total_amount\": 199, \"payment_method\": \"Bank Transfer\", \"items\": [{\"item_id\": 3, \"name\": \"Wireless Headphones\", \"category\": \"Electronics\", \"price\": 199, \"quantity\": 1, \"details\": {\"brand\": \"GoPro\", \"color\": \"White\"}}], \"order_status\": \"Shipped\"}"
        ],
        [
         "{\"item_id\":3,\"name\":\"Wireless Headphones\",\"category\":\"Electronics\",\"price\":199,\"quantity\":1,\"details\":{\"brand\":\"Dell\",\"color\":\"Gray\"}}",
         null,
         "{\"order_id\": 35, \"customer_id\": 4914, \"order_date\": \"2024-11-20\", \"transaction_timestamp\": \"2024-11-20 19:09:04\", \"total_amount\": 199, \"payment_method\": \"Bank Transfer\", \"items\": [{\"item_id\": 3, \"name\": \"Wireless Headphones\", \"category\": \"Electronics\", \"price\": 199, \"quantity\": 1, \"details\": {\"brand\": \"Dell\", \"color\": \"Gray\"}}], \"order_status\": \"Shipped\"}"
        ],
        [
         "{\"item_id\":3,\"name\":\"Wireless Headphones\",\"category\":\"Electronics\",\"price\":199,\"quantity\":1,\"details\":{\"brand\":\"Canon\",\"color\":\"Silver\"}}",
         null,
         "{\"order_id\": 36, \"customer_id\": 4914, \"order_date\": \"2024-11-02\", \"transaction_timestamp\": \"2024-11-02 10:39:46\", \"total_amount\": 199, \"payment_method\": \"PayPal\", \"items\": [{\"item_id\": 3, \"name\": \"Wireless Headphones\", \"category\": \"Electronics\", \"price\": 199, \"quantity\": 1, \"details\": {\"brand\": \"Canon\", \"color\": \"Silver\"}}], \"order_status\": \"Completed\"}"
        ],
        [
         null,
         null,
         "{\"order_id\": 42, \"customer_id\": 5028, \"order_date\": 2024-11-08, \"transaction_timestamp\": \"2024-11-08 18:32:25\", \"total_amount\": 149, \"payment_method\": \"Credit Card\", \"items\": [{\"item_id\": 6, \"name\": \"Bluetooth Speaker\", \"category\": \"Electronics\", \"price\": 149, \"quantity\": 1, \"details\": {\"brand\": \"Bose\", \"color\": \"Gray\"}}], \"order_status\": \"Completed\"}"
        ],
        [
         "{\"item_id\":10,\"name\":\"Drone\",\"category\":\"Electronics\",\"price\":799,\"quantity\":1,\"details\":{\"brand\":\"Dell\",\"color\":\"White\"}}",
         null,
         "{\"order_id\": 45, \"customer_id\": 7295, \"order_date\": \"2024-11-07\", \"transaction_timestamp\": \"2024-11-07 15:41:43\", \"total_amount\": 799, \"payment_method\": \"Credit Card\", \"items\": [{\"item_id\": 10, \"name\": \"Drone\", \"category\": \"Electronics\", \"price\": 799, \"quantity\": 1, \"details\": {\"brand\": \"Dell\", \"color\": \"White\"}}], \"order_status\": \"Shipped\"}"
        ],
        [
         "{\"item_id\":3,\"name\":\"Wireless Headphones\",\"category\":\"Electronics\",\"price\":199,\"quantity\":1,\"details\":{\"brand\":\"Samsung\",\"color\":\"Black\"}}",
         null,
         "{\"order_id\": 46, \"customer_id\": 7295, \"order_date\": \"2024-11-26\", \"transaction_timestamp\": \"2024-11-26 17:16:53\", \"total_amount\": 199, \"payment_method\": \"PayPal\", \"items\": [{\"item_id\": 3, \"name\": \"Wireless Headphones\", \"category\": \"Electronics\", \"price\": 199, \"quantity\": 1, \"details\": {\"brand\": \"Samsung\", \"color\": \"Black\"}}], \"order_status\": \"Pending\"}"
        ],
        [
         "{\"item_id\":6,\"name\":\"Bluetooth Speaker\",\"category\":\"Electronics\",\"price\":149,\"quantity\":2,\"details\":{\"brand\":\"LG\",\"color\":\"Blue\"}}",
         null,
         "{\"order_id\": 47, \"customer_id\": 7803, \"order_date\": \"2024-11-22\", \"transaction_timestamp\": \"2024-11-22 02:01:19\", \"total_amount\": 298, \"payment_method\": \"Credit Card\", \"items\": [{\"item_id\": 6, \"name\": \"Bluetooth Speaker\", \"category\": \"Electronics\", \"price\": 149, \"quantity\": 2, \"details\": {\"brand\": \"LG\", \"color\": \"Blue\"}}], \"order_status\": \"Shipped\"}"
        ],
        [
         "{\"item_id\":7,\"name\":\"External Hard Drive\",\"category\":\"Electronics\",\"price\":129,\"quantity\":3,\"details\":{\"brand\":\"Apple\",\"color\":\"Black\"}}",
         null,
         "{\"order_id\": 48, \"customer_id\": 7803, \"order_date\": \"2024-11-13\", \"transaction_timestamp\": \"2024-11-13 06:35:56\", \"total_amount\": 387, \"payment_method\": \"PayPal\", \"items\": [{\"item_id\": 7, \"name\": \"External Hard Drive\", \"category\": \"Electronics\", \"price\": 129, \"quantity\": 3, \"details\": {\"brand\": \"Apple\", \"color\": \"Black\"}}], \"order_status\": \"Completed\"}"
        ],
        [
         "{\"item_id\":8,\"name\":\"Gaming Console\",\"category\":\"Electronics\",\"price\":499,\"quantity\":2,\"details\":{\"brand\":\"GoPro\",\"color\":\"White\"}}",
         null,
         "{\"order_id\": 52, \"customer_id\": 8845, \"order_date\": \"2024-11-19\", \"transaction_timestamp\": \"2024-11-19 21:23:45\", \"total_amount\": 998, \"payment_method\": \"PayPal\", \"items\": [{\"item_id\": 8, \"name\": \"Gaming Console\", \"category\": \"Electronics\", \"price\": 499, \"quantity\": 2, \"details\": {\"brand\": \"GoPro\", \"color\": \"White\"}}], \"order_status\": \"Completed\"}"
        ],
        [
         "{\"item_id\":3,\"name\":\"Wireless Headphones\",\"category\":\"Electronics\",\"price\":199,\"quantity\":1,\"details\":{\"brand\":\"HP\",\"color\":\"Silver\"}}",
         "{\"item_id\":7,\"name\":\"External Hard Drive\",\"category\":\"Electronics\",\"price\":129,\"quantity\":3,\"details\":{\"brand\":\"Sony\",\"color\":\"Silver\"}}",
         "{\"order_id\": 57, \"customer_id\": 8580, \"order_date\": \"2024-11-19\", \"transaction_timestamp\": \"2024-11-19 11:32:44\", \"total_amount\": 586, \"payment_method\": \"Bank Transfer\", \"items\": [{\"item_id\": 3, \"name\": \"Wireless Headphones\", \"category\": \"Electronics\", \"price\": 199, \"quantity\": 1, \"details\": {\"brand\": \"HP\", \"color\": \"Silver\"}}, {\"item_id\": 7, \"name\": \"External Hard Drive\", \"category\": \"Electronics\", \"price\": 129, \"quantity\": 3, \"details\": {\"brand\": \"Sony\", \"color\": \"Silver\"}}], \"order_status\": \"Cancelled\"}"
        ],
        [
         "{\"item_id\":3,\"name\":\"Wireless Headphones\",\"category\":\"Electronics\",\"price\":199,\"quantity\":1,\"details\":{\"brand\":\"GoPro\",\"color\":\"Blue\"}}",
         "{\"item_id\":6,\"name\":\"Bluetooth Speaker\",\"category\":\"Electronics\",\"price\":149,\"quantity\":3,\"details\":{\"brand\":\"Bose\",\"color\":\"Silver\"}}",
         "{\"order_id\": 63, \"customer_id\": 7123, \"order_date\": \"2024-11-24\", \"transaction_timestamp\": \"2024-11-24 08:41:28\", \"total_amount\": 646, \"payment_method\": \"Bank Transfer\", \"items\": [{\"item_id\": 3, \"name\": \"Wireless Headphones\", \"category\": \"Electronics\", \"price\": 199, \"quantity\": 1, \"details\": {\"brand\": \"GoPro\", \"color\": \"Blue\"}}, {\"item_id\": 6, \"name\": \"Bluetooth Speaker\", \"category\": \"Electronics\", \"price\": 149, \"quantity\": 3, \"details\": {\"brand\": \"Bose\", \"color\": \"Silver\"}}], \"order_status\": \"Cancelled\"}"
        ],
        [
         "{\"item_id\":7,\"name\":\"External Hard Drive\",\"category\":\"Electronics\",\"price\":129,\"quantity\":3,\"details\":{\"brand\":\"Microsoft\",\"color\":\"White\"}}",
         "{\"item_id\":3,\"name\":\"Wireless Headphones\",\"category\":\"Electronics\",\"price\":199,\"quantity\":3,\"details\":{\"brand\":\"Canon\",\"color\":\"Blue\"}}",
         "{\"order_id\": 64, \"customer_id\": 2639, \"order_date\": \"2024-11-28\", \"transaction_timestamp\": \"2024-11-28 12:23:21\", \"total_amount\": 984, \"payment_method\": \"Bank Transfer\", \"items\": [{\"item_id\": 7, \"name\": \"External Hard Drive\", \"category\": \"Electronics\", \"price\": 129, \"quantity\": 3, \"details\": {\"brand\": \"Microsoft\", \"color\": \"White\"}}, {\"item_id\": 3, \"name\": \"Wireless Headphones\", \"category\": \"Electronics\", \"price\": 199, \"quantity\": 3, \"details\": {\"brand\": \"Canon\", \"color\": \"Blue\"}}], \"order_status\": \"Completed\"}"
        ],
        [
         "{\"item_id\":7,\"name\":\"External Hard Drive\",\"category\":\"Electronics\",\"price\":129,\"quantity\":3,\"details\":{\"brand\":\"Bose\",\"color\":\"White\"}}",
         null,
         "{\"order_id\": 88, \"customer_id\": 9247, \"order_date\": \"2024-11-15\", \"transaction_timestamp\": \"2024-11-15 11:39:44\", \"total_amount\": 387, \"payment_method\": \"Bank Transfer\", \"items\": [{\"item_id\": 7, \"name\": \"External Hard Drive\", \"category\": \"Electronics\", \"price\": 129, \"quantity\": 3, \"details\": {\"brand\": \"Bose\", \"color\": \"White\"}}], \"order_status\": \"Cancelled\"}"
        ],
        [
         "{\"item_id\":6,\"name\":\"Bluetooth Speaker\",\"category\":\"Electronics\",\"price\":149,\"quantity\":1,\"details\":{\"brand\":\"GoPro\",\"color\":\"Silver\"}}",
         null,
         "{\"order_id\": 89, \"customer_id\": 9247, \"order_date\": \"2024-11-22\", \"transaction_timestamp\": \"2024-11-22 12:09:15\", \"total_amount\": 149, \"payment_method\": \"Bank Transfer\", \"items\": [{\"item_id\": 6, \"name\": \"Bluetooth Speaker\", \"category\": \"Electronics\", \"price\": 149, \"quantity\": 1, \"details\": {\"brand\": \"GoPro\", \"color\": \"Silver\"}}], \"order_status\": \"Cancelled\"}"
        ],
        [
         "{\"item_id\":7,\"name\":\"External Hard Drive\",\"category\":\"Electronics\",\"price\":129,\"quantity\":2,\"details\":{\"brand\":\"Sony\",\"color\":\"Black\"}}",
         null,
         "{\"order_id\": 92, \"customer_id\": 5592, \"order_date\": \"2024-11-24\", \"transaction_timestamp\": \"2024-11-24 23:33:21\", \"total_amount\": 258, \"payment_method\": \"PayPal\", \"items\": [{\"item_id\": 7, \"name\": \"External Hard Drive\", \"category\": \"Electronics\", \"price\": 129, \"quantity\": 2, \"details\": {\"brand\": \"Sony\", \"color\": \"Black\"}}], \"order_status\": \"Shipped\"}"
        ],
        [
         "{\"item_id\":10,\"name\":\"Drone\",\"category\":\"Electronics\",\"price\":799,\"quantity\":1,\"details\":{\"brand\":\"GoPro\",\"color\":\"Black\"}}",
         null,
         "{\"order_id\": 6, \"customer_id\": 1987, \"order_date\": \"2024-10-28\", \"transaction_timestamp\": \"2024-10-28 04:47:27\", \"total_amount\": 799, \"payment_method\": \"Credit Card\", \"items\": [{\"item_id\": 10, \"name\": \"Drone\", \"category\": \"Electronics\", \"price\": 799, \"quantity\": 1, \"details\": {\"brand\": \"GoPro\", \"color\": \"Black\"}}], \"order_status\": \"Pending\"}"
        ],
        [
         "{\"item_id\":5,\"name\":\"Tablet\",\"category\":\"Electronics\",\"price\":399,\"quantity\":1,\"details\":{\"brand\":\"GoPro\",\"color\":\"White\"}}",
         null,
         "{\"order_id\": 10, \"customer_id\": 5816, \"order_date\": \"2024-10-07\", \"transaction_timestamp\": \"2024-10-07 22:09:27\", \"total_amount\": 399, \"payment_method\": \"Credit Card\", \"items\": [{\"item_id\": 5, \"name\": \"Tablet\", \"category\": \"Electronics\", \"price\": 399, \"quantity\": 1, \"details\": {\"brand\": \"GoPro\", \"color\": \"White\"}}], \"order_status\": \"Pending\"}"
        ],
        [
         "{\"item_id\":4,\"name\":\"Smartwatch\",\"category\":\"Electronics\",\"price\":299,\"quantity\":3,\"details\":{\"brand\":\"Canon\",\"color\":\"White\"}}",
         null,
         "{\"order_id\": 11, \"customer_id\": 5816, \"order_date\": \"2024-10-13\", \"transaction_timestamp\": \"2024-10-13 17:34:19\", \"total_amount\": 897, \"payment_method\": \"Bank Transfer\", \"items\": [{\"item_id\": 4, \"name\": \"Smartwatch\", \"category\": \"Electronics\", \"price\": 299, \"quantity\": 3, \"details\": {\"brand\": \"Canon\", \"color\": \"White\"}}], \"order_status\": \"Pending\"}"
        ],
        [
         "{\"item_id\":9,\"name\":\"Smart TV\",\"category\":\"Electronics\",\"price\":1199,\"quantity\":1,\"details\":{\"brand\":\"GoPro\",\"color\":\"White\"}}",
         null,
         "{\"order_id\": 15, \"customer_id\": 7207, \"order_date\": \"2024-10-20\", \"transaction_timestamp\": \"2024-10-20 01:47:25\", \"total_amount\": 1199, \"payment_method\": \"Bank Transfer\", \"items\": [{\"item_id\": 9, \"name\": \"Smart TV\", \"category\": \"Electronics\", \"price\": 1199, \"quantity\": 1, \"details\": {\"brand\": \"GoPro\", \"color\": \"White\"}}], \"order_status\": \"Completed\"}"
        ],
        [
         "{\"item_id\":8,\"name\":\"Gaming Console\",\"category\":\"Electronics\",\"price\":499,\"quantity\":1,\"details\":{\"brand\":\"Dell\",\"color\":\"Silver\"}}",
         null,
         "{\"order_id\": 19, \"customer_id\": 8539, \"order_date\": \"2024-10-13\", \"transaction_timestamp\": \"2024-10-13 12:40:26\", \"total_amount\": 499, \"payment_method\": \"PayPal\", \"items\": [{\"item_id\": 8, \"name\": \"Gaming Console\", \"category\": \"Electronics\", \"price\": 499, \"quantity\": 1, \"details\": {\"brand\": \"Dell\", \"color\": \"Silver\"}}], \"order_status\": \"Shipped\"}"
        ],
        [
         "{\"item_id\":7,\"name\":\"External Hard Drive\",\"category\":\"Electronics\",\"price\":129,\"quantity\":3,\"details\":{\"brand\":\"Sony\",\"color\":\"Black\"}}",
         null,
         "{\"order_id\": 39, \"customer_id\": 9263, \"order_date\": \"2024-10-29\", \"transaction_timestamp\": \"2024-10-29 21:39:19\", \"total_amount\": 387, \"payment_method\": \"PayPal\", \"items\": [{\"item_id\": 7, \"name\": \"External Hard Drive\", \"category\": \"Electronics\", \"price\": 129, \"quantity\": 3, \"details\": {\"brand\": \"Sony\", \"color\": \"Black\"}}], \"order_status\": \"Shipped\"}"
        ],
        [
         "{\"item_id\":1,\"name\":\"Smartphone\",\"category\":\"Electronics\",\"price\":699,\"quantity\":1,\"details\":{\"brand\":\"HP\",\"color\":\"Black\"}}",
         null,
         "{\"order_id\": 55, \"customer_id\": 9018, \"order_date\": \"2024-10-25\", \"transaction_timestamp\": \"2024-10-25 05:49:16\", \"total_amount\": 699, \"payment_method\": \"Bank Transfer\", \"items\": [{\"item_id\": 1, \"name\": \"Smartphone\", \"category\": \"Electronics\", \"price\": 699, \"quantity\": 1, \"details\": {\"brand\": \"HP\", \"color\": \"Black\"}}], \"order_status\": \"Shipped\"}"
        ],
        [
         "{\"item_id\":8,\"name\":\"Gaming Console\",\"category\":\"Electronics\",\"price\":499,\"quantity\":1,\"details\":{\"brand\":\"Dell\",\"color\":\"Black\"}}",
         null,
         "{\"order_id\": 59, \"customer_id\": 3409, \"order_date\": \"2024-10-23\", \"transaction_timestamp\": \"2024-10-23 02:51:05\", \"total_amount\": 499, \"payment_method\": \"PayPal\", \"items\": [{\"item_id\": 8, \"name\": \"Gaming Console\", \"category\": \"Electronics\", \"price\": 499, \"quantity\": 1, \"details\": {\"brand\": \"Dell\", \"color\": \"Black\"}}], \"order_status\": \"Pending\"}"
        ],
        [
         null,
         null,
         "{\"order_id\": 72, \"customer_id\": 3889, \"order_date\": 2024-10-06, \"transaction_timestamp\": \"2024-10-06 10:23:28\", \"total_amount\": 328, \"payment_method\": \"PayPal\", \"items\": [{\"item_id\": 3, \"name\": \"Wireless Headphones\", \"category\": \"Electronics\", \"price\": 199, \"quantity\": 1, \"details\": {\"brand\": \"Microsoft\", \"color\": \"Gray\"}}, {\"item_id\": 7, \"name\": \"External Hard Drive\", \"category\": \"Electronics\", \"price\": 129, \"quantity\": 1, \"details\": {\"brand\": \"Samsung\", \"color\": \"Silver\"}}], \"order_status\": \"Cancelled\"}"
        ],
        [
         "{\"item_id\":3,\"name\":\"Wireless Headphones\",\"category\":\"Electronics\",\"price\":199,\"quantity\":2,\"details\":{\"brand\":\"HP\",\"color\":\"Silver\"}}",
         null,
         "{\"order_id\": 77, \"customer_id\": 9084, \"order_date\": \"2024-10-15\", \"transaction_timestamp\": \"2024-10-15 13:09:33\", \"total_amount\": 398, \"payment_method\": \"Credit Card\", \"items\": [{\"item_id\": 3, \"name\": \"Wireless Headphones\", \"category\": \"Electronics\", \"price\": 199, \"quantity\": 2, \"details\": {\"brand\": \"HP\", \"color\": \"Silver\"}}], \"order_status\": \"Pending\"}"
        ],
        [
         "{\"item_id\":10,\"name\":\"Drone\",\"category\":\"Electronics\",\"price\":799,\"quantity\":1,\"details\":{\"brand\":\"Sony\",\"color\":\"Black\"}}",
         "{\"item_id\":3,\"name\":\"Wireless Headphones\",\"category\":\"Electronics\",\"price\":199,\"quantity\":1,\"details\":{\"brand\":\"LG\",\"color\":\"Black\"}}",
         "{\"order_id\": 84, \"customer_id\": 2344, \"order_date\": \"2024-10-25\", \"transaction_timestamp\": \"2024-10-25 03:37:42\", \"total_amount\": 998, \"payment_method\": \"PayPal\", \"items\": [{\"item_id\": 10, \"name\": \"Drone\", \"category\": \"Electronics\", \"price\": 799, \"quantity\": 1, \"details\": {\"brand\": \"Sony\", \"color\": \"Black\"}}, {\"item_id\": 3, \"name\": \"Wireless Headphones\", \"category\": \"Electronics\", \"price\": 199, \"quantity\": 1, \"details\": {\"brand\": \"LG\", \"color\": \"Black\"}}], \"order_status\": \"Completed\"}"
        ],
        [
         "{\"item_id\":8,\"name\":\"Gaming Console\",\"category\":\"Electronics\",\"price\":499,\"quantity\":2,\"details\":{\"brand\":\"GoPro\",\"color\":\"Black\"}}",
         null,
         "{\"order_id\": 85, \"customer_id\": 5011, \"order_date\": \"2024-10-23\", \"transaction_timestamp\": \"2024-10-23 20:06:42\", \"total_amount\": 998, \"payment_method\": \"Bank Transfer\", \"items\": [{\"item_id\": 8, \"name\": \"Gaming Console\", \"category\": \"Electronics\", \"price\": 499, \"quantity\": 2, \"details\": {\"brand\": \"GoPro\", \"color\": \"Black\"}}], \"order_status\": \"Shipped\"}"
        ],
        [
         "{\"item_id\":9,\"name\":\"Smart TV\",\"category\":\"Electronics\",\"price\":1199,\"quantity\":1,\"details\":{\"brand\":\"Dell\",\"color\":\"White\"}}",
         null,
         "{\"order_id\": 86, \"customer_id\": 5011, \"order_date\": \"2024-10-19\", \"transaction_timestamp\": \"2024-10-19 13:30:47\", \"total_amount\": 1199, \"payment_method\": \"PayPal\", \"items\": [{\"item_id\": 9, \"name\": \"Smart TV\", \"category\": \"Electronics\", \"price\": 1199, \"quantity\": 1, \"details\": {\"brand\": \"Dell\", \"color\": \"White\"}}], \"order_status\": \"Completed\"}"
        ]
       ],
       "datasetInfos": [
        {
         "name": "_sqldf",
         "schema": {
          "fields": [
           {
            "metadata": {},
            "name": "items_1",
            "nullable": true,
            "type": "string"
           },
           {
            "metadata": {},
            "name": "items_2",
            "nullable": true,
            "type": "string"
           },
           {
            "metadata": {},
            "name": "value",
            "nullable": true,
            "type": "string"
           }
          ],
          "type": "struct"
         },
         "tableIdentifier": null,
         "typeStr": "pyspark.sql.connect.dataframe.DataFrame"
        }
       ],
       "dbfsResultPath": null,
       "isJsonSchema": true,
       "metadata": {
        "createTempViewForImplicitDf": true,
        "dataframeName": "_sqldf",
        "executionCount": 9
       },
       "overflow": false,
       "plotOptions": {
        "customPlotOptions": {},
        "displayType": "table",
        "pivotAggregation": null,
        "pivotColumns": null,
        "xColumns": null,
        "yColumns": null
       },
       "removedWidgets": [],
       "schema": [
        {
         "metadata": "{}",
         "name": "items_1",
         "type": "\"string\""
        },
        {
         "metadata": "{}",
         "name": "items_2",
         "type": "\"string\""
        },
        {
         "metadata": "{}",
         "name": "value",
         "type": "\"string\""
        }
       ],
       "type": "table"
      }
     },
     "output_type": "display_data"
    }
   ],
   "source": [
    "%sql\n",
    "select value:items[0] as items_1,\n",
    "       value:items[1] as items_2,\n",
    "       value\n",
    "  from gizmobox.bronze.v_orders;"
   ]
  },
  {
   "cell_type": "markdown",
   "metadata": {
    "application/vnd.databricks.v1+cell": {
     "cellMetadata": {},
     "inputWidgets": {},
     "nuid": "0d61eedb-e93c-436d-ae18-4d2f8ffb13db",
     "showTitle": false,
     "tableResultSettingsMap": {},
     "title": ""
    }
   },
   "source": [
    "#### 3-Extract Nested Column Values"
   ]
  },
  {
   "cell_type": "code",
   "execution_count": 0,
   "metadata": {
    "application/vnd.databricks.v1+cell": {
     "cellMetadata": {
      "byteLimit": 2048000,
      "implicitDf": true,
      "rowLimit": 10000
     },
     "inputWidgets": {},
     "nuid": "fde8ddfd-56a6-45e8-ae5f-3ccbab8c75f9",
     "showTitle": false,
     "tableResultSettingsMap": {},
     "title": ""
    }
   },
   "outputs": [
    {
     "output_type": "display_data",
     "data": {
      "text/html": [
       "<style scoped>\n",
       "  .table-result-container {\n",
       "    max-height: 300px;\n",
       "    overflow: auto;\n",
       "  }\n",
       "  table, th, td {\n",
       "    border: 1px solid black;\n",
       "    border-collapse: collapse;\n",
       "  }\n",
       "  th, td {\n",
       "    padding: 5px;\n",
       "  }\n",
       "  th {\n",
       "    text-align: left;\n",
       "  }\n",
       "</style><div class='table-result-container'><table class='table-result'><thead style='background-color: white'><tr><th>items_1_item_id</th><th>items_1</th><th>items_2</th><th>value</th></tr></thead><tbody><tr><td>8</td><td>{\"item_id\":8,\"name\":\"Gaming Console\",\"category\":\"Electronics\",\"price\":499,\"quantity\":1,\"details\":{\"brand\":\"Sony\",\"color\":\"Blue\"}}</td><td>null</td><td>{\"order_id\": 1, \"customer_id\": 6973, \"order_date\": \"2025-01-05\", \"transaction_timestamp\": \"2025-01-05 10:13:59\", \"total_amount\": 499, \"payment_method\": \"Bank Transfer\", \"items\": [{\"item_id\": 8, \"name\": \"Gaming Console\", \"category\": \"Electronics\", \"price\": 499, \"quantity\": 1, \"details\": {\"brand\": \"Sony\", \"color\": \"Blue\"}}], \"order_status\": \"Completed\"}</td></tr><tr><td>null</td><td>null</td><td>null</td><td>{\"order_id\": 2, \"customer_id\": 3532, \"order_date\": 2025-01-19, \"transaction_timestamp\": \"2025-01-19 00:05:13\", \"total_amount\": 985, \"payment_method\": \"PayPal\", \"items\": [{\"item_id\": 4, \"name\": \"Smartwatch\", \"category\": \"Electronics\", \"price\": 299, \"quantity\": 2, \"details\": {\"brand\": \"Canon\", \"color\": \"Gray\"}}, {\"item_id\": 7, \"name\": \"External Hard Drive\", \"category\": \"Electronics\", \"price\": 129, \"quantity\": 3, \"details\": {\"brand\": \"Dell\", \"color\": \"Blue\"}}], \"order_status\": \"Cancelled\"}</td></tr><tr><td>3</td><td>{\"item_id\":3,\"name\":\"Wireless Headphones\",\"category\":\"Electronics\",\"price\":199,\"quantity\":3,\"details\":{\"brand\":\"Apple\",\"color\":\"White\"}}</td><td>null</td><td>{\"order_id\": 3, \"customer_id\": 3532, \"order_date\": \"2025-01-08\", \"transaction_timestamp\": \"2025-01-08 23:11:00\", \"total_amount\": 597, \"payment_method\": \"Bank Transfer\", \"items\": [{\"item_id\": 3, \"name\": \"Wireless Headphones\", \"category\": \"Electronics\", \"price\": 199, \"quantity\": 3, \"details\": {\"brand\": \"Apple\", \"color\": \"White\"}}], \"order_status\": \"Completed\"}</td></tr><tr><td>2</td><td>{\"item_id\":2,\"name\":\"Laptop\",\"category\":\"Electronics\",\"price\":999,\"quantity\":1,\"details\":{\"brand\":\"Microsoft\",\"color\":\"Black\"}}</td><td>null</td><td>{\"order_id\": 4, \"customer_id\": 3532, \"order_date\": \"2025-01-05\", \"transaction_timestamp\": \"2025-01-05 05:49:26\", \"total_amount\": 999, \"payment_method\": \"Bank Transfer\", \"items\": [{\"item_id\": 2, \"name\": \"Laptop\", \"category\": \"Electronics\", \"price\": 999, \"quantity\": 1, \"details\": {\"brand\": \"Microsoft\", \"color\": \"Black\"}}], \"order_status\": \"Cancelled\"}</td></tr><tr><td>5</td><td>{\"item_id\":5,\"name\":\"Tablet\",\"category\":\"Electronics\",\"price\":399,\"quantity\":1,\"details\":{\"brand\":\"LG\",\"color\":\"White\"}}</td><td>null</td><td>{\"order_id\": 8, \"customer_id\": 9179, \"order_date\": \"2025-01-02\", \"transaction_timestamp\": \"2025-01-02 13:11:15\", \"total_amount\": 399, \"payment_method\": \"PayPal\", \"items\": [{\"item_id\": 5, \"name\": \"Tablet\", \"category\": \"Electronics\", \"price\": 399, \"quantity\": 1, \"details\": {\"brand\": \"LG\", \"color\": \"White\"}}], \"order_status\": \"Completed\"}</td></tr><tr><td>3</td><td>{\"item_id\":3,\"name\":\"Wireless Headphones\",\"category\":\"Electronics\",\"price\":199,\"quantity\":3,\"details\":{\"brand\":\"Bose\",\"color\":\"Blue\"}}</td><td>null</td><td>{\"order_id\": 14, \"customer_id\": 7207, \"order_date\": \"2025-01-01\", \"transaction_timestamp\": \"2025-01-01 18:22:26\", \"total_amount\": 597, \"payment_method\": \"PayPal\", \"items\": [{\"item_id\": 3, \"name\": \"Wireless Headphones\", \"category\": \"Electronics\", \"price\": 199, \"quantity\": 3, \"details\": {\"brand\": \"Bose\", \"color\": \"Blue\"}}], \"order_status\": \"Cancelled\"}</td></tr><tr><td>10</td><td>{\"item_id\":10,\"name\":\"Drone\",\"category\":\"Electronics\",\"price\":799,\"quantity\":1,\"details\":{\"brand\":\"Dell\",\"color\":\"Black\"}}</td><td>null</td><td>{\"order_id\": 18, \"customer_id\": 4468, \"order_date\": \"2025-01-22\", \"transaction_timestamp\": \"2025-01-22 21:12:08\", \"total_amount\": 799, \"payment_method\": \"Credit Card\", \"items\": [{\"item_id\": 10, \"name\": \"Drone\", \"category\": \"Electronics\", \"price\": 799, \"quantity\": 1, \"details\": {\"brand\": \"Dell\", \"color\": \"Black\"}}], \"order_status\": \"Pending\"}</td></tr><tr><td>null</td><td>null</td><td>null</td><td>{\"order_id\": 22, \"customer_id\": 4761, \"order_date\": 2025-01-01, \"transaction_timestamp\": \"2025-01-01 15:49:19\", \"total_amount\": 199, \"payment_method\": \"PayPal\", \"items\": [{\"item_id\": 3, \"name\": \"Wireless Headphones\", \"category\": \"Electronics\", \"price\": 199, \"quantity\": 1, \"details\": {\"brand\": \"HP\", \"color\": \"Silver\"}}], \"order_status\": \"Pending\"}</td></tr><tr><td>1</td><td>{\"item_id\":1,\"name\":\"Smartphone\",\"category\":\"Electronics\",\"price\":699,\"quantity\":1,\"details\":{\"brand\":\"Samsung\",\"color\":\"Silver\"}}</td><td>null</td><td>{\"order_id\": 26, \"customer_id\": 7007, \"order_date\": \"2025-01-05\", \"transaction_timestamp\": \"2025-01-05 19:01:25\", \"total_amount\": 699, \"payment_method\": \"Bank Transfer\", \"items\": [{\"item_id\": 1, \"name\": \"Smartphone\", \"category\": \"Electronics\", \"price\": 699, \"quantity\": 1, \"details\": {\"brand\": \"Samsung\", \"color\": \"Silver\"}}], \"order_status\": \"Shipped\"}</td></tr><tr><td>7</td><td>{\"item_id\":7,\"name\":\"External Hard Drive\",\"category\":\"Electronics\",\"price\":129,\"quantity\":1,\"details\":{\"brand\":\"Bose\",\"color\":\"Gray\"}}</td><td>{\"item_id\":7,\"name\":\"External Hard Drive\",\"category\":\"Electronics\",\"price\":129,\"quantity\":1,\"details\":{\"brand\":\"Bose\",\"color\":\"Gray\"}}</td><td>{\"order_id\": 29, \"customer_id\": 5953, \"order_date\": \"2025-01-18\", \"transaction_timestamp\": \"2025-01-18 03:05:04\", \"total_amount\": 129, \"payment_method\": \"Bank Transfer\", \"items\": [{\"item_id\": 7, \"name\": \"External Hard Drive\", \"category\": \"Electronics\", \"price\": 129, \"quantity\": 1, \"details\": {\"brand\": \"Bose\", \"color\": \"Gray\"}}, {\"item_id\": 7, \"name\": \"External Hard Drive\", \"category\": \"Electronics\", \"price\": 129, \"quantity\": 1, \"details\": {\"brand\": \"Bose\", \"color\": \"Gray\"}}], \"order_status\": \"Pending\"}</td></tr><tr><td>4</td><td>{\"item_id\":4,\"name\":\"Smartwatch\",\"category\":\"Electronics\",\"price\":299,\"quantity\":1,\"details\":{\"brand\":\"Dell\",\"color\":\"White\"}}</td><td>null</td><td>{\"order_id\": 31, \"customer_id\": 4996, \"order_date\": \"2025-01-18\", \"transaction_timestamp\": \"2025-01-18 03:13:29\", \"total_amount\": 299, \"payment_method\": \"Bank Transfer\", \"items\": [{\"item_id\": 4, \"name\": \"Smartwatch\", \"category\": \"Electronics\", \"price\": 299, \"quantity\": 1, \"details\": {\"brand\": \"Dell\", \"color\": \"White\"}}], \"order_status\": \"Shipped\"}</td></tr><tr><td>4</td><td>{\"item_id\":4,\"name\":\"Smartwatch\",\"category\":\"Electronics\",\"price\":299,\"quantity\":3,\"details\":{\"brand\":\"Canon\",\"color\":\"White\"}}</td><td>null</td><td>{\"order_id\": 33, \"customer_id\": 9605, \"order_date\": \"2025-01-13\", \"transaction_timestamp\": \"2025-01-13 04:47:43\", \"total_amount\": 897, \"payment_method\": \"PayPal\", \"items\": [{\"item_id\": 4, \"name\": \"Smartwatch\", \"category\": \"Electronics\", \"price\": 299, \"quantity\": 3, \"details\": {\"brand\": \"Canon\", \"color\": \"White\"}}], \"order_status\": \"Completed\"}</td></tr><tr><td>6</td><td>{\"item_id\":6,\"name\":\"Bluetooth Speaker\",\"category\":\"Electronics\",\"price\":149,\"quantity\":2,\"details\":{\"brand\":\"Bose\",\"color\":\"Silver\"}}</td><td>{\"item_id\":8,\"name\":\"Gaming Console\",\"category\":\"Electronics\",\"price\":499,\"quantity\":1,\"details\":{\"brand\":\"LG\",\"color\":\"Black\"}}</td><td>{\"order_id\": 34, \"customer_id\": 9605, \"order_date\": \"2025-01-21\", \"transaction_timestamp\": \"2025-01-21 00:25:01\", \"total_amount\": 926, \"payment_method\": \"PayPal\", \"items\": [{\"item_id\": 6, \"name\": \"Bluetooth Speaker\", \"category\": \"Electronics\", \"price\": 149, \"quantity\": 2, \"details\": {\"brand\": \"Bose\", \"color\": \"Silver\"}}, {\"item_id\": 8, \"name\": \"Gaming Console\", \"category\": \"Electronics\", \"price\": 499, \"quantity\": 1, \"details\": {\"brand\": \"LG\", \"color\": \"Black\"}}, {\"item_id\": 7, \"name\": \"External Hard Drive\", \"category\": \"Electronics\", \"price\": 129, \"quantity\": 1, \"details\": {\"brand\": \"Samsung\", \"color\": \"Black\"}}], \"order_status\": \"Cancelled\"}</td></tr><tr><td>6</td><td>{\"item_id\":6,\"name\":\"Bluetooth Speaker\",\"category\":\"Electronics\",\"price\":149,\"quantity\":2,\"details\":{\"brand\":\"Bose\",\"color\":\"Silver\"}}</td><td>null</td><td>{\"order_id\": 40, \"customer_id\": 6384, \"order_date\": \"2025-01-20\", \"transaction_timestamp\": \"2025-01-20 16:18:35\", \"total_amount\": 298, \"payment_method\": \"PayPal\", \"items\": [{\"item_id\": 6, \"name\": \"Bluetooth Speaker\", \"category\": \"Electronics\", \"price\": 149, \"quantity\": 2, \"details\": {\"brand\": \"Bose\", \"color\": \"Silver\"}}], \"order_status\": \"Completed\"}</td></tr><tr><td>2</td><td>{\"item_id\":2,\"name\":\"Laptop\",\"category\":\"Electronics\",\"price\":999,\"quantity\":1,\"details\":{\"brand\":\"Sony\",\"color\":\"Silver\"}}</td><td>null</td><td>{\"order_id\": 41, \"customer_id\": 6384, \"order_date\": \"2025-01-05\", \"transaction_timestamp\": \"2025-01-05 06:10:22\", \"total_amount\": 999, \"payment_method\": \"Credit Card\", \"items\": [{\"item_id\": 2, \"name\": \"Laptop\", \"category\": \"Electronics\", \"price\": 999, \"quantity\": 1, \"details\": {\"brand\": \"Sony\", \"color\": \"Silver\"}}], \"order_status\": \"Shipped\"}</td></tr><tr><td>8</td><td>{\"item_id\":8,\"name\":\"Gaming Console\",\"category\":\"Electronics\",\"price\":499,\"quantity\":1,\"details\":{\"brand\":\"LG\",\"color\":\"Black\"}}</td><td>null</td><td>{\"order_id\": 43, \"customer_id\": 5028, \"order_date\": \"2025-01-24\", \"transaction_timestamp\": \"2025-01-24 18:10:37\", \"total_amount\": 499, \"payment_method\": \"PayPal\", \"items\": [{\"item_id\": 8, \"name\": \"Gaming Console\", \"category\": \"Electronics\", \"price\": 499, \"quantity\": 1, \"details\": {\"brand\": \"LG\", \"color\": \"Black\"}}], \"order_status\": \"Pending\"}</td></tr><tr><td>6</td><td>{\"item_id\":6,\"name\":\"Bluetooth Speaker\",\"category\":\"Electronics\",\"price\":149,\"quantity\":3,\"details\":{\"brand\":\"Apple\",\"color\":\"Gray\"}}</td><td>{\"item_id\":4,\"name\":\"Smartwatch\",\"category\":\"Electronics\",\"price\":299,\"quantity\":1,\"details\":{\"brand\":\"Sony\",\"color\":\"White\"}}</td><td>{\"order_id\": 50, \"customer_id\": 3712, \"order_date\": \"2025-01-11\", \"transaction_timestamp\": \"2025-01-11 01:19:09\", \"total_amount\": 746, \"payment_method\": \"Credit Card\", \"items\": [{\"item_id\": 6, \"name\": \"Bluetooth Speaker\", \"category\": \"Electronics\", \"price\": 149, \"quantity\": 3, \"details\": {\"brand\": \"Apple\", \"color\": \"Gray\"}}, {\"item_id\": 4, \"name\": \"Smartwatch\", \"category\": \"Electronics\", \"price\": 299, \"quantity\": 1, \"details\": {\"brand\": \"Sony\", \"color\": \"White\"}}], \"order_status\": \"Shipped\"}</td></tr><tr><td>6</td><td>{\"item_id\":6,\"name\":\"Bluetooth Speaker\",\"category\":\"Electronics\",\"price\":149,\"quantity\":1,\"details\":{\"brand\":\"Samsung\",\"color\":\"Gray\"}}</td><td>null</td><td>{\"order_id\": 51, \"customer_id\": 8845, \"order_date\": \"2025-01-21\", \"transaction_timestamp\": \"2025-01-21 13:19:59\", \"total_amount\": 149, \"payment_method\": \"PayPal\", \"items\": [{\"item_id\": 6, \"name\": \"Bluetooth Speaker\", \"category\": \"Electronics\", \"price\": 149, \"quantity\": 1, \"details\": {\"brand\": \"Samsung\", \"color\": \"Gray\"}}], \"order_status\": \"Completed\"}</td></tr><tr><td>3</td><td>{\"item_id\":3,\"name\":\"Wireless Headphones\",\"category\":\"Electronics\",\"price\":199,\"quantity\":1,\"details\":{\"brand\":\"Apple\",\"color\":\"Black\"}}</td><td>null</td><td>{\"order_id\": 53, \"customer_id\": 8845, \"order_date\": \"2025-01-21\", \"transaction_timestamp\": \"2025-01-21 08:31:02\", \"total_amount\": 199, \"payment_method\": \"Bank Transfer\", \"items\": [{\"item_id\": 3, \"name\": \"Wireless Headphones\", \"category\": \"Electronics\", \"price\": 199, \"quantity\": 1, \"details\": {\"brand\": \"Apple\", \"color\": \"Black\"}}], \"order_status\": \"Pending\"}</td></tr><tr><td>3</td><td>{\"item_id\":3,\"name\":\"Wireless Headphones\",\"category\":\"Electronics\",\"price\":199,\"quantity\":1,\"details\":{\"brand\":\"HP\",\"color\":\"Silver\"}}</td><td>{\"item_id\":8,\"name\":\"Gaming Console\",\"category\":\"Electronics\",\"price\":499,\"quantity\":1,\"details\":{\"brand\":\"LG\",\"color\":\"Gray\"}}</td><td>{\"order_id\": 56, \"customer_id\": 8580, \"order_date\": \"2025-01-01\", \"transaction_timestamp\": \"2025-01-01 12:02:41\", \"total_amount\": 698, \"payment_method\": \"PayPal\", \"items\": [{\"item_id\": 3, \"name\": \"Wireless Headphones\", \"category\": \"Electronics\", \"price\": 199, \"quantity\": 1, \"details\": {\"brand\": \"HP\", \"color\": \"Silver\"}}, {\"item_id\": 8, \"name\": \"Gaming Console\", \"category\": \"Electronics\", \"price\": 499, \"quantity\": 1, \"details\": {\"brand\": \"LG\", \"color\": \"Gray\"}}], \"order_status\": \"Cancelled\"}</td></tr><tr><td>7</td><td>{\"item_id\":7,\"name\":\"External Hard Drive\",\"category\":\"Electronics\",\"price\":129,\"quantity\":3,\"details\":{\"brand\":\"Dell\",\"color\":\"White\"}}</td><td>{\"item_id\":4,\"name\":\"Smartwatch\",\"category\":\"Electronics\",\"price\":299,\"quantity\":2,\"details\":{\"brand\":\"GoPro\",\"color\":\"Blue\"}}</td><td>{\"order_id\": 62, \"customer_id\": 7123, \"order_date\": \"2025-01-24\", \"transaction_timestamp\": \"2025-01-24 12:00:54\", \"total_amount\": 985, \"payment_method\": \"Bank Transfer\", \"items\": [{\"item_id\": 7, \"name\": \"External Hard Drive\", \"category\": \"Electronics\", \"price\": 129, \"quantity\": 3, \"details\": {\"brand\": \"Dell\", \"color\": \"White\"}}, {\"item_id\": 4, \"name\": \"Smartwatch\", \"category\": \"Electronics\", \"price\": 299, \"quantity\": 2, \"details\": {\"brand\": \"GoPro\", \"color\": \"Blue\"}}], \"order_status\": \"Completed\"}</td></tr><tr><td>4</td><td>{\"item_id\":4,\"name\":\"Smartwatch\",\"category\":\"Electronics\",\"price\":299,\"quantity\":1,\"details\":{\"brand\":\"Bose\",\"color\":\"Silver\"}}</td><td>{\"item_id\":4,\"name\":\"Smartwatch\",\"category\":\"Electronics\",\"price\":299,\"quantity\":1,\"details\":{\"brand\":\"GoPro\",\"color\":\"White\"}}</td><td>{\"order_id\": 66, \"customer_id\": 3084, \"order_date\": \"2025-01-17\", \"transaction_timestamp\": \"2025-01-17 21:16:11\", \"total_amount\": 598, \"payment_method\": \"Credit Card\", \"items\": [{\"item_id\": 4, \"name\": \"Smartwatch\", \"category\": \"Electronics\", \"price\": 299, \"quantity\": 1, \"details\": {\"brand\": \"Bose\", \"color\": \"Silver\"}}, {\"item_id\": 4, \"name\": \"Smartwatch\", \"category\": \"Electronics\", \"price\": 299, \"quantity\": 1, \"details\": {\"brand\": \"GoPro\", \"color\": \"White\"}}], \"order_status\": \"Cancelled\"}</td></tr><tr><td>6</td><td>{\"item_id\":6,\"name\":\"Bluetooth Speaker\",\"category\":\"Electronics\",\"price\":149,\"quantity\":1,\"details\":{\"brand\":\"Bose\",\"color\":\"Gray\"}}</td><td>null</td><td>{\"order_id\": 68, \"customer_id\": 4973, \"order_date\": \"2025-01-10\", \"transaction_timestamp\": \"2025-01-10 20:35:43\", \"total_amount\": 149, \"payment_method\": \"Bank Transfer\", \"items\": [{\"item_id\": 6, \"name\": \"Bluetooth Speaker\", \"category\": \"Electronics\", \"price\": 149, \"quantity\": 1, \"details\": {\"brand\": \"Bose\", \"color\": \"Gray\"}}], \"order_status\": \"Completed\"}</td></tr><tr><td>7</td><td>{\"item_id\":7,\"name\":\"External Hard Drive\",\"category\":\"Electronics\",\"price\":129,\"quantity\":3,\"details\":{\"brand\":\"GoPro\",\"color\":\"Gray\"}}</td><td>{\"item_id\":7,\"name\":\"External Hard Drive\",\"category\":\"Electronics\",\"price\":129,\"quantity\":3,\"details\":{\"brand\":\"GoPro\",\"color\":\"Gray\"}}</td><td>{\"order_id\": 73, \"customer_id\": 6167, \"order_date\": \"2025-01-07\", \"transaction_timestamp\": \"2025-01-07 01:02:26\", \"total_amount\": 387, \"payment_method\": \"Credit Card\", \"items\": [{\"item_id\": 7, \"name\": \"External Hard Drive\", \"category\": \"Electronics\", \"price\": 129, \"quantity\": 3, \"details\": {\"brand\": \"GoPro\", \"color\": \"Gray\"}}, {\"item_id\": 7, \"name\": \"External Hard Drive\", \"category\": \"Electronics\", \"price\": 129, \"quantity\": 3, \"details\": {\"brand\": \"GoPro\", \"color\": \"Gray\"}}], \"order_status\": \"Shipped\"}</td></tr><tr><td>1</td><td>{\"item_id\":1,\"name\":\"Smartphone\",\"category\":\"Electronics\",\"price\":699,\"quantity\":1,\"details\":{\"brand\":\"GoPro\",\"color\":\"White\"}}</td><td>null</td><td>{\"order_id\": 75, \"customer_id\": 6167, \"order_date\": \"2025-01-19\", \"transaction_timestamp\": \"2025-01-19 16:23:16\", \"total_amount\": 699, \"payment_method\": \"Credit Card\", \"items\": [{\"item_id\": 1, \"name\": \"Smartphone\", \"category\": \"Electronics\", \"price\": 699, \"quantity\": 1, \"details\": {\"brand\": \"GoPro\", \"color\": \"White\"}}], \"order_status\": \"Shipped\"}</td></tr><tr><td>5</td><td>{\"item_id\":5,\"name\":\"Tablet\",\"category\":\"Electronics\",\"price\":399,\"quantity\":1,\"details\":{\"brand\":\"Microsoft\",\"color\":\"Silver\"}}</td><td>null</td><td>{\"order_id\": 76, \"customer_id\": 3295, \"order_date\": \"2025-01-06\", \"transaction_timestamp\": \"2025-01-06 02:54:39\", \"total_amount\": 399, \"payment_method\": \"Bank Transfer\", \"items\": [{\"item_id\": 5, \"name\": \"Tablet\", \"category\": \"Electronics\", \"price\": 399, \"quantity\": 1, \"details\": {\"brand\": \"Microsoft\", \"color\": \"Silver\"}}], \"order_status\": \"Completed\"}</td></tr><tr><td>5</td><td>{\"item_id\":5,\"name\":\"Tablet\",\"category\":\"Electronics\",\"price\":399,\"quantity\":2,\"details\":{\"brand\":\"Dell\",\"color\":\"White\"}}</td><td>null</td><td>{\"order_id\": 78, \"customer_id\": 9084, \"order_date\": \"2025-01-21\", \"transaction_timestamp\": \"2025-01-21 11:42:51\", \"total_amount\": 798, \"payment_method\": \"PayPal\", \"items\": [{\"item_id\": 5, \"name\": \"Tablet\", \"category\": \"Electronics\", \"price\": 399, \"quantity\": 2, \"details\": {\"brand\": \"Dell\", \"color\": \"White\"}}], \"order_status\": \"Cancelled\"}</td></tr><tr><td>8</td><td>{\"item_id\":8,\"name\":\"Gaming Console\",\"category\":\"Electronics\",\"price\":499,\"quantity\":2,\"details\":{\"brand\":\"Dell\",\"color\":\"Gray\"}}</td><td>null</td><td>{\"order_id\": 79, \"customer_id\": 9084, \"order_date\": \"2025-01-25\", \"transaction_timestamp\": \"2025-01-25 03:52:05\", \"total_amount\": 998, \"payment_method\": \"Credit Card\", \"items\": [{\"item_id\": 8, \"name\": \"Gaming Console\", \"category\": \"Electronics\", \"price\": 499, \"quantity\": 2, \"details\": {\"brand\": \"Dell\", \"color\": \"Gray\"}}], \"order_status\": \"Cancelled\"}</td></tr><tr><td>7</td><td>{\"item_id\":7,\"name\":\"External Hard Drive\",\"category\":\"Electronics\",\"price\":129,\"quantity\":3,\"details\":{\"brand\":\"Canon\",\"color\":\"Gray\"}}</td><td>{\"item_id\":3,\"name\":\"Wireless Headphones\",\"category\":\"Electronics\",\"price\":199,\"quantity\":2,\"details\":{\"brand\":\"Sony\",\"color\":\"Black\"}}</td><td>{\"order_id\": 83, \"customer_id\": 2344, \"order_date\": \"2025-01-07\", \"transaction_timestamp\": \"2025-01-07 12:48:05\", \"total_amount\": 785, \"payment_method\": \"PayPal\", \"items\": [{\"item_id\": 7, \"name\": \"External Hard Drive\", \"category\": \"Electronics\", \"price\": 129, \"quantity\": 3, \"details\": {\"brand\": \"Canon\", \"color\": \"Gray\"}}, {\"item_id\": 3, \"name\": \"Wireless Headphones\", \"category\": \"Electronics\", \"price\": 199, \"quantity\": 2, \"details\": {\"brand\": \"Sony\", \"color\": \"Black\"}}], \"order_status\": \"Shipped\"}</td></tr><tr><td>7</td><td>{\"item_id\":7,\"name\":\"External Hard Drive\",\"category\":\"Electronics\",\"price\":129,\"quantity\":1,\"details\":{\"brand\":\"Apple\",\"color\":\"Blue\"}}</td><td>null</td><td>{\"order_id\": 87, \"customer_id\": 2141, \"order_date\": \"2025-01-02\", \"transaction_timestamp\": \"2025-01-02 04:28:38\", \"total_amount\": 129, \"payment_method\": \"PayPal\", \"items\": [{\"item_id\": 7, \"name\": \"External Hard Drive\", \"category\": \"Electronics\", \"price\": 129, \"quantity\": 1, \"details\": {\"brand\": \"Apple\", \"color\": \"Blue\"}}], \"order_status\": \"Pending\"}</td></tr><tr><td>7</td><td>{\"item_id\":7,\"name\":\"External Hard Drive\",\"category\":\"Electronics\",\"price\":129,\"quantity\":1,\"details\":{\"brand\":\"Canon\",\"color\":\"White\"}}</td><td>{\"item_id\":7,\"name\":\"External Hard Drive\",\"category\":\"Electronics\",\"price\":129,\"quantity\":1,\"details\":{\"brand\":\"Samsung\",\"color\":\"Black\"}}</td><td>{\"order_id\": 90, \"customer_id\": 9247, \"order_date\": \"2025-01-17\", \"transaction_timestamp\": \"2025-01-17 14:30:54\", \"total_amount\": 258, \"payment_method\": \"Credit Card\", \"items\": [{\"item_id\": 7, \"name\": \"External Hard Drive\", \"category\": \"Electronics\", \"price\": 129, \"quantity\": 1, \"details\": {\"brand\": \"Canon\", \"color\": \"White\"}}, {\"item_id\": 7, \"name\": \"External Hard Drive\", \"category\": \"Electronics\", \"price\": 129, \"quantity\": 1, \"details\": {\"brand\": \"Samsung\", \"color\": \"Black\"}}], \"order_status\": \"Pending\"}</td></tr><tr><td>6</td><td>{\"item_id\":6,\"name\":\"Bluetooth Speaker\",\"category\":\"Electronics\",\"price\":149,\"quantity\":2,\"details\":{\"brand\":\"Sony\",\"color\":\"Black\"}}</td><td>{\"item_id\":3,\"name\":\"Wireless Headphones\",\"category\":\"Electronics\",\"price\":199,\"quantity\":3,\"details\":{\"brand\":\"Apple\",\"color\":\"Blue\"}}</td><td>{\"order_id\": 94, \"customer_id\": 6627, \"order_date\": \"2025-01-10\", \"transaction_timestamp\": \"2025-01-10 09:51:48\", \"total_amount\": 895, \"payment_method\": \"Credit Card\", \"items\": [{\"item_id\": 6, \"name\": \"Bluetooth Speaker\", \"category\": \"Electronics\", \"price\": 149, \"quantity\": 2, \"details\": {\"brand\": \"Sony\", \"color\": \"Black\"}}, {\"item_id\": 3, \"name\": \"Wireless Headphones\", \"category\": \"Electronics\", \"price\": 199, \"quantity\": 3, \"details\": {\"brand\": \"Apple\", \"color\": \"Blue\"}}], \"order_status\": \"Pending\"}</td></tr><tr><td>7</td><td>{\"item_id\":7,\"name\":\"External Hard Drive\",\"category\":\"Electronics\",\"price\":129,\"quantity\":3,\"details\":{\"brand\":\"HP\",\"color\":\"Blue\"}}</td><td>{\"item_id\":4,\"name\":\"Smartwatch\",\"category\":\"Electronics\",\"price\":299,\"quantity\":2,\"details\":{\"brand\":\"Samsung\",\"color\":\"Gray\"}}</td><td>{\"order_id\": 98, \"customer_id\": 9150, \"order_date\": \"2025-01-08\", \"transaction_timestamp\": \"2025-01-08 05:57:55\", \"total_amount\": 985, \"payment_method\": \"Credit Card\", \"items\": [{\"item_id\": 7, \"name\": \"External Hard Drive\", \"category\": \"Electronics\", \"price\": 129, \"quantity\": 3, \"details\": {\"brand\": \"HP\", \"color\": \"Blue\"}}, {\"item_id\": 4, \"name\": \"Smartwatch\", \"category\": \"Electronics\", \"price\": 299, \"quantity\": 2, \"details\": {\"brand\": \"Samsung\", \"color\": \"Gray\"}}], \"order_status\": \"Completed\"}</td></tr><tr><td>1</td><td>{\"item_id\":1,\"name\":\"Smartphone\",\"category\":\"Electronics\",\"price\":699,\"quantity\":1,\"details\":{\"brand\":\"Bose\",\"color\":\"Gray\"}}</td><td>null</td><td>{\"order_id\": 99, \"customer_id\": 9150, \"order_date\": \"2025-01-10\", \"transaction_timestamp\": \"2025-01-10 21:43:46\", \"total_amount\": 699, \"payment_method\": \"Credit Card\", \"items\": [{\"item_id\": 1, \"name\": \"Smartphone\", \"category\": \"Electronics\", \"price\": 699, \"quantity\": 1, \"details\": {\"brand\": \"Bose\", \"color\": \"Gray\"}}], \"order_status\": \"Shipped\"}</td></tr><tr><td>6</td><td>{\"item_id\":6,\"name\":\"Bluetooth Speaker\",\"category\":\"Electronics\",\"price\":149,\"quantity\":3,\"details\":{\"brand\":\"LG\",\"color\":\"Silver\"}}</td><td>null</td><td>{\"order_id\": 100, \"customer_id\": 9150, \"order_date\": \"2025-01-04\", \"transaction_timestamp\": \"2025-01-04 06:40:13\", \"total_amount\": 447, \"payment_method\": \"PayPal\", \"items\": [{\"item_id\": 6, \"name\": \"Bluetooth Speaker\", \"category\": \"Electronics\", \"price\": 149, \"quantity\": 3, \"details\": {\"brand\": \"LG\", \"color\": \"Silver\"}}], \"order_status\": \"Shipped\"}</td></tr><tr><td>2</td><td>{\"item_id\":2,\"name\":\"Laptop\",\"category\":\"Electronics\",\"price\":999,\"quantity\":1,\"details\":{\"brand\":\"Sony\",\"color\":\"White\"}}</td><td>null</td><td>{\"order_id\": 12, \"customer_id\": 5816, \"order_date\": \"2024-12-06\", \"transaction_timestamp\": \"2024-12-06 20:26:49\", \"total_amount\": 999, \"payment_method\": \"PayPal\", \"items\": [{\"item_id\": 2, \"name\": \"Laptop\", \"category\": \"Electronics\", \"price\": 999, \"quantity\": 1, \"details\": {\"brand\": \"Sony\", \"color\": \"White\"}}], \"order_status\": \"Cancelled\"}</td></tr><tr><td>2</td><td>{\"item_id\":2,\"name\":\"Laptop\",\"category\":\"Electronics\",\"price\":999,\"quantity\":1,\"details\":{\"brand\":\"GoPro\",\"color\":\"Black\"}}</td><td>null</td><td>{\"order_id\": 13, \"customer_id\": 4858, \"order_date\": \"2024-12-17\", \"transaction_timestamp\": \"2024-12-17 03:41:37\", \"total_amount\": 999, \"payment_method\": \"PayPal\", \"items\": [{\"item_id\": 2, \"name\": \"Laptop\", \"category\": \"Electronics\", \"price\": 999, \"quantity\": 1, \"details\": {\"brand\": \"GoPro\", \"color\": \"Black\"}}], \"order_status\": \"Pending\"}</td></tr><tr><td>3</td><td>{\"item_id\":3,\"name\":\"Wireless Headphones\",\"category\":\"Electronics\",\"price\":199,\"quantity\":3,\"details\":{\"brand\":\"Sony\",\"color\":\"Silver\"}}</td><td>null</td><td>{\"order_id\": 16, \"customer_id\": 5204, \"order_date\": \"2024-12-08\", \"transaction_timestamp\": \"2024-12-08 22:59:48\", \"total_amount\": 597, \"payment_method\": \"Bank Transfer\", \"items\": [{\"item_id\": 3, \"name\": \"Wireless Headphones\", \"category\": \"Electronics\", \"price\": 199, \"quantity\": 3, \"details\": {\"brand\": \"Sony\", \"color\": \"Silver\"}}], \"order_status\": \"Pending\"}</td></tr><tr><td>8</td><td>{\"item_id\":8,\"name\":\"Gaming Console\",\"category\":\"Electronics\",\"price\":499,\"quantity\":2,\"details\":{\"brand\":\"Dell\",\"color\":\"Black\"}}</td><td>null</td><td>{\"order_id\": 17, \"customer_id\": 5204, \"order_date\": \"2024-12-02\", \"transaction_timestamp\": \"2024-12-02 12:00:50\", \"total_amount\": 998, \"payment_method\": \"Bank Transfer\", \"items\": [{\"item_id\": 8, \"name\": \"Gaming Console\", \"category\": \"Electronics\", \"price\": 499, \"quantity\": 2, \"details\": {\"brand\": \"Dell\", \"color\": \"Black\"}}], \"order_status\": \"Pending\"}</td></tr><tr><td>9</td><td>{\"item_id\":9,\"name\":\"Smart TV\",\"category\":\"Electronics\",\"price\":1199,\"quantity\":1,\"details\":{\"brand\":\"GoPro\",\"color\":\"Gray\"}}</td><td>null</td><td>{\"order_id\": 24, \"customer_id\": 1211, \"order_date\": \"2024-12-21\", \"transaction_timestamp\": \"2024-12-21 03:24:26\", \"total_amount\": 1199, \"payment_method\": \"PayPal\", \"items\": [{\"item_id\": 9, \"name\": \"Smart TV\", \"category\": \"Electronics\", \"price\": 1199, \"quantity\": 1, \"details\": {\"brand\": \"GoPro\", \"color\": \"Gray\"}}], \"order_status\": \"Completed\"}</td></tr><tr><td>7</td><td>{\"item_id\":7,\"name\":\"External Hard Drive\",\"category\":\"Electronics\",\"price\":129,\"quantity\":2,\"details\":{\"brand\":\"Dell\",\"color\":\"White\"}}</td><td>{\"item_id\":6,\"name\":\"Bluetooth Speaker\",\"category\":\"Electronics\",\"price\":149,\"quantity\":3,\"details\":{\"brand\":\"Canon\",\"color\":\"Black\"}}</td><td>{\"order_id\": 27, \"customer_id\": 2703, \"order_date\": \"2024-12-02\", \"transaction_timestamp\": \"2024-12-02 11:24:21\", \"total_amount\": 904, \"payment_method\": \"Credit Card\", \"items\": [{\"item_id\": 7, \"name\": \"External Hard Drive\", \"category\": \"Electronics\", \"price\": 129, \"quantity\": 2, \"details\": {\"brand\": \"Dell\", \"color\": \"White\"}}, {\"item_id\": 6, \"name\": \"Bluetooth Speaker\", \"category\": \"Electronics\", \"price\": 149, \"quantity\": 3, \"details\": {\"brand\": \"Canon\", \"color\": \"Black\"}}, {\"item_id\": 3, \"name\": \"Wireless Headphones\", \"category\": \"Electronics\", \"price\": 199, \"quantity\": 1, \"details\": {\"brand\": \"Microsoft\", \"color\": \"Silver\"}}], \"order_status\": \"Completed\"}</td></tr><tr><td>7</td><td>{\"item_id\":7,\"name\":\"External Hard Drive\",\"category\":\"Electronics\",\"price\":129,\"quantity\":1,\"details\":{\"brand\":\"GoPro\",\"color\":\"Blue\"}}</td><td>null</td><td>{\"order_id\": 28, \"customer_id\": 2703, \"order_date\": \"2024-12-26\", \"transaction_timestamp\": \"2024-12-26 03:17:50\", \"total_amount\": 129, \"payment_method\": \"Credit Card\", \"items\": [{\"item_id\": 7, \"name\": \"External Hard Drive\", \"category\": \"Electronics\", \"price\": 129, \"quantity\": 1, \"details\": {\"brand\": \"GoPro\", \"color\": \"Blue\"}}], \"order_status\": \"Cancelled\"}</td></tr><tr><td>5</td><td>{\"item_id\":5,\"name\":\"Tablet\",\"category\":\"Electronics\",\"price\":399,\"quantity\":1,\"details\":{\"brand\":\"Apple\",\"color\":\"Silver\"}}</td><td>null</td><td>{\"order_id\": 32, \"customer_id\": 4996, \"order_date\": \"2024-12-28\", \"transaction_timestamp\": \"2024-12-28 08:55:57\", \"total_amount\": 399, \"payment_method\": \"PayPal\", \"items\": [{\"item_id\": 5, \"name\": \"Tablet\", \"category\": \"Electronics\", \"price\": 399, \"quantity\": 1, \"details\": {\"brand\": \"Apple\", \"color\": \"Silver\"}}], \"order_status\": \"Pending\"}</td></tr><tr><td>7</td><td>{\"item_id\":7,\"name\":\"External Hard Drive\",\"category\":\"Electronics\",\"price\":129,\"quantity\":2,\"details\":{\"brand\":\"HP\",\"color\":\"Silver\"}}</td><td>null</td><td>{\"order_id\": 37, \"customer_id\": 7829, \"order_date\": \"2024-12-22\", \"transaction_timestamp\": \"2024-12-22 10:11:49\", \"total_amount\": 258, \"payment_method\": \"Credit Card\", \"items\": [{\"item_id\": 7, \"name\": \"External Hard Drive\", \"category\": \"Electronics\", \"price\": 129, \"quantity\": 2, \"details\": {\"brand\": \"HP\", \"color\": \"Silver\"}}], \"order_status\": \"Shipped\"}</td></tr><tr><td>6</td><td>{\"item_id\":6,\"name\":\"Bluetooth Speaker\",\"category\":\"Electronics\",\"price\":149,\"quantity\":3,\"details\":{\"brand\":\"Apple\",\"color\":\"Gray\"}}</td><td>null</td><td>{\"order_id\": 38, \"customer_id\": 7829, \"order_date\": \"2024-12-25\", \"transaction_timestamp\": \"2024-12-25 22:05:19\", \"total_amount\": 447, \"payment_method\": \"Credit Card\", \"items\": [{\"item_id\": 6, \"name\": \"Bluetooth Speaker\", \"category\": \"Electronics\", \"price\": 149, \"quantity\": 3, \"details\": {\"brand\": \"Apple\", \"color\": \"Gray\"}}], \"order_status\": \"Shipped\"}</td></tr><tr><td>7</td><td>{\"item_id\":7,\"name\":\"External Hard Drive\",\"category\":\"Electronics\",\"price\":129,\"quantity\":1,\"details\":{\"brand\":\"Bose\",\"color\":\"Blue\"}}</td><td>null</td><td>{\"order_id\": 44, \"customer_id\": 7295, \"order_date\": \"2024-12-20\", \"transaction_timestamp\": \"2024-12-20 08:05:43\", \"total_amount\": 129, \"payment_method\": \"Credit Card\", \"items\": [{\"item_id\": 7, \"name\": \"External Hard Drive\", \"category\": \"Electronics\", \"price\": 129, \"quantity\": 1, \"details\": {\"brand\": \"Bose\", \"color\": \"Blue\"}}], \"order_status\": \"Completed\"}</td></tr><tr><td>4</td><td>{\"item_id\":4,\"name\":\"Smartwatch\",\"category\":\"Electronics\",\"price\":299,\"quantity\":1,\"details\":{\"brand\":\"HP\",\"color\":\"White\"}}</td><td>{\"item_id\":4,\"name\":\"Smartwatch\",\"category\":\"Electronics\",\"price\":299,\"quantity\":1,\"details\":{\"brand\":\"Canon\",\"color\":\"Blue\"}}</td><td>{\"order_id\": 49, \"customer_id\": 7803, \"order_date\": \"2024-12-07\", \"transaction_timestamp\": \"2024-12-07 23:24:11\", \"total_amount\": 747, \"payment_method\": \"PayPal\", \"items\": [{\"item_id\": 4, \"name\": \"Smartwatch\", \"category\": \"Electronics\", \"price\": 299, \"quantity\": 1, \"details\": {\"brand\": \"HP\", \"color\": \"White\"}}, {\"item_id\": 4, \"name\": \"Smartwatch\", \"category\": \"Electronics\", \"price\": 299, \"quantity\": 1, \"details\": {\"brand\": \"Canon\", \"color\": \"Blue\"}}, {\"item_id\": 6, \"name\": \"Bluetooth Speaker\", \"category\": \"Electronics\", \"price\": 149, \"quantity\": 1, \"details\": {\"brand\": \"Samsung\", \"color\": \"White\"}}], \"order_status\": \"Cancelled\"}</td></tr><tr><td>3</td><td>{\"item_id\":3,\"name\":\"Wireless Headphones\",\"category\":\"Electronics\",\"price\":199,\"quantity\":2,\"details\":{\"brand\":\"Bose\",\"color\":\"Gray\"}}</td><td>null</td><td>{\"order_id\": 54, \"customer_id\": 2054, \"order_date\": \"2024-12-20\", \"transaction_timestamp\": \"2024-12-20 12:04:27\", \"total_amount\": 398, \"payment_method\": \"Credit Card\", \"items\": [{\"item_id\": 3, \"name\": \"Wireless Headphones\", \"category\": \"Electronics\", \"price\": 199, \"quantity\": 2, \"details\": {\"brand\": \"Bose\", \"color\": \"Gray\"}}], \"order_status\": \"Pending\"}</td></tr><tr><td>1</td><td>{\"item_id\":1,\"name\":\"Smartphone\",\"category\":\"Electronics\",\"price\":699,\"quantity\":1,\"details\":{\"brand\":\"Microsoft\",\"color\":\"Gray\"}}</td><td>null</td><td>{\"order_id\": 58, \"customer_id\": 8580, \"order_date\": \"2024-12-09\", \"transaction_timestamp\": \"2024-12-09 22:40:58\", \"total_amount\": 699, \"payment_method\": \"PayPal\", \"items\": [{\"item_id\": 1, \"name\": \"Smartphone\", \"category\": \"Electronics\", \"price\": 699, \"quantity\": 1, \"details\": {\"brand\": \"Microsoft\", \"color\": \"Gray\"}}], \"order_status\": \"Completed\"}</td></tr><tr><td>3</td><td>{\"item_id\":3,\"name\":\"Wireless Headphones\",\"category\":\"Electronics\",\"price\":199,\"quantity\":1,\"details\":{\"brand\":\"Samsung\",\"color\":\"Blue\"}}</td><td>null</td><td>{\"order_id\": 60, \"customer_id\": 3409, \"order_date\": \"2024-12-13\", \"transaction_timestamp\": \"2024-12-13 13:10:12\", \"total_amount\": 199, \"payment_method\": \"Bank Transfer\", \"items\": [{\"item_id\": 3, \"name\": \"Wireless Headphones\", \"category\": \"Electronics\", \"price\": 199, \"quantity\": 1, \"details\": {\"brand\": \"Samsung\", \"color\": \"Blue\"}}], \"order_status\": \"Shipped\"}</td></tr><tr><td>1</td><td>{\"item_id\":1,\"name\":\"Smartphone\",\"category\":\"Electronics\",\"price\":699,\"quantity\":1,\"details\":{\"brand\":\"Canon\",\"color\":\"Black\"}}</td><td>null</td><td>{\"order_id\": 61, \"customer_id\": 7123, \"order_date\": \"2024-12-07\", \"transaction_timestamp\": \"2024-12-07 07:47:19\", \"total_amount\": 699, \"payment_method\": \"Bank Transfer\", \"items\": [{\"item_id\": 1, \"name\": \"Smartphone\", \"category\": \"Electronics\", \"price\": 699, \"quantity\": 1, \"details\": {\"brand\": \"Canon\", \"color\": \"Black\"}}], \"order_status\": \"Completed\"}</td></tr><tr><td>5</td><td>{\"item_id\":5,\"name\":\"Tablet\",\"category\":\"Electronics\",\"price\":399,\"quantity\":1,\"details\":{\"brand\":\"Microsoft\",\"color\":\"Gray\"}}</td><td>null</td><td>{\"order_id\": 65, \"customer_id\": 3084, \"order_date\": \"2024-12-09\", \"transaction_timestamp\": \"2024-12-09 13:04:13\", \"total_amount\": 399, \"payment_method\": \"Bank Transfer\", \"items\": [{\"item_id\": 5, \"name\": \"Tablet\", \"category\": \"Electronics\", \"price\": 399, \"quantity\": 1, \"details\": {\"brand\": \"Microsoft\", \"color\": \"Gray\"}}], \"order_status\": \"Cancelled\"}</td></tr><tr><td>4</td><td>{\"item_id\":4,\"name\":\"Smartwatch\",\"category\":\"Electronics\",\"price\":299,\"quantity\":3,\"details\":{\"brand\":\"LG\",\"color\":\"Blue\"}}</td><td>null</td><td>{\"order_id\": 67, \"customer_id\": 3084, \"order_date\": \"2024-12-19\", \"transaction_timestamp\": \"2024-12-19 07:11:09\", \"total_amount\": 897, \"payment_method\": \"PayPal\", \"items\": [{\"item_id\": 4, \"name\": \"Smartwatch\", \"category\": \"Electronics\", \"price\": 299, \"quantity\": 3, \"details\": {\"brand\": \"LG\", \"color\": \"Blue\"}}], \"order_status\": \"Shipped\"}</td></tr><tr><td>1</td><td>{\"item_id\":1,\"name\":\"Smartphone\",\"category\":\"Electronics\",\"price\":699,\"quantity\":1,\"details\":{\"brand\":\"Dell\",\"color\":\"Gray\"}}</td><td>null</td><td>{\"order_id\": 69, \"customer_id\": 4973, \"order_date\": \"2024-12-30\", \"transaction_timestamp\": \"2024-12-30 02:42:01\", \"total_amount\": 699, \"payment_method\": \"Bank Transfer\", \"items\": [{\"item_id\": 1, \"name\": \"Smartphone\", \"category\": \"Electronics\", \"price\": 699, \"quantity\": 1, \"details\": {\"brand\": \"Dell\", \"color\": \"Gray\"}}], \"order_status\": \"Completed\"}</td></tr><tr><td>4</td><td>{\"item_id\":4,\"name\":\"Smartwatch\",\"category\":\"Electronics\",\"price\":299,\"quantity\":3,\"details\":{\"brand\":\"Sony\",\"color\":\"Black\"}}</td><td>null</td><td>{\"order_id\": 70, \"customer_id\": 7997, \"order_date\": \"2024-12-04\", \"transaction_timestamp\": \"2024-12-04 17:17:24\", \"total_amount\": 897, \"payment_method\": \"PayPal\", \"items\": [{\"item_id\": 4, \"name\": \"Smartwatch\", \"category\": \"Electronics\", \"price\": 299, \"quantity\": 3, \"details\": {\"brand\": \"Sony\", \"color\": \"Black\"}}], \"order_status\": \"Shipped\"}</td></tr><tr><td>null</td><td>null</td><td>null</td><td>{\"order_id\": 71, \"customer_id\": 7997, \"order_date\": 2024-12-27, \"transaction_timestamp\": \"2024-12-27 11:16:39\", \"total_amount\": 199, \"payment_method\": \"Bank Transfer\", \"items\": [{\"item_id\": 3, \"name\": \"Wireless Headphones\", \"category\": \"Electronics\", \"price\": 199, \"quantity\": 1, \"details\": {\"brand\": \"Microsoft\", \"color\": \"Black\"}}], \"order_status\": \"Completed\"}</td></tr><tr><td>1</td><td>{\"item_id\":1,\"name\":\"Smartphone\",\"category\":\"Electronics\",\"price\":699,\"quantity\":1,\"details\":{\"brand\":\"Samsung\",\"color\":\"Blue\"}}</td><td>null</td><td>{\"order_id\": 74, \"customer_id\": 6167, \"order_date\": \"2024-12-22\", \"transaction_timestamp\": \"2024-12-22 15:54:11\", \"total_amount\": 699, \"payment_method\": \"PayPal\", \"items\": [{\"item_id\": 1, \"name\": \"Smartphone\", \"category\": \"Electronics\", \"price\": 699, \"quantity\": 1, \"details\": {\"brand\": \"Samsung\", \"color\": \"Blue\"}}], \"order_status\": \"Pending\"}</td></tr><tr><td>8</td><td>{\"item_id\":8,\"name\":\"Gaming Console\",\"category\":\"Electronics\",\"price\":499,\"quantity\":2,\"details\":{\"brand\":\"Samsung\",\"color\":\"White\"}}</td><td>null</td><td>{\"order_id\": 80, \"customer_id\": 9687, \"order_date\": \"2024-12-11\", \"transaction_timestamp\": \"2024-12-11 07:43:54\", \"total_amount\": 998, \"payment_method\": \"Bank Transfer\", \"items\": [{\"item_id\": 8, \"name\": \"Gaming Console\", \"category\": \"Electronics\", \"price\": 499, \"quantity\": 2, \"details\": {\"brand\": \"Samsung\", \"color\": \"White\"}}], \"order_status\": \"Cancelled\"}</td></tr><tr><td>1</td><td>{\"item_id\":1,\"name\":\"Smartphone\",\"category\":\"Electronics\",\"price\":699,\"quantity\":1,\"details\":{\"brand\":\"GoPro\",\"color\":\"Blue\"}}</td><td>null</td><td>{\"order_id\": 81, \"customer_id\": 9687, \"order_date\": \"2024-12-27\", \"transaction_timestamp\": \"2024-12-27 02:27:45\", \"total_amount\": 699, \"payment_method\": \"PayPal\", \"items\": [{\"item_id\": 1, \"name\": \"Smartphone\", \"category\": \"Electronics\", \"price\": 699, \"quantity\": 1, \"details\": {\"brand\": \"GoPro\", \"color\": \"Blue\"}}], \"order_status\": \"Completed\"}</td></tr><tr><td>7</td><td>{\"item_id\":7,\"name\":\"External Hard Drive\",\"category\":\"Electronics\",\"price\":129,\"quantity\":3,\"details\":{\"brand\":\"Sony\",\"color\":\"Blue\"}}</td><td>null</td><td>{\"order_id\": 82, \"customer_id\": 2344, \"order_date\": \"2024-12-28\", \"transaction_timestamp\": \"2024-12-28 00:54:08\", \"total_amount\": 387, \"payment_method\": \"PayPal\", \"items\": [{\"item_id\": 7, \"name\": \"External Hard Drive\", \"category\": \"Electronics\", \"price\": 129, \"quantity\": 3, \"details\": {\"brand\": \"Sony\", \"color\": \"Blue\"}}], \"order_status\": \"Completed\"}</td></tr><tr><td>1</td><td>{\"item_id\":1,\"name\":\"Smartphone\",\"category\":\"Electronics\",\"price\":699,\"quantity\":1,\"details\":{\"brand\":\"Canon\",\"color\":\"Silver\"}}</td><td>null</td><td>{\"order_id\": 91, \"customer_id\": 5592, \"order_date\": \"2024-12-17\", \"transaction_timestamp\": \"2024-12-17 00:09:53\", \"total_amount\": 699, \"payment_method\": \"Bank Transfer\", \"items\": [{\"item_id\": 1, \"name\": \"Smartphone\", \"category\": \"Electronics\", \"price\": 699, \"quantity\": 1, \"details\": {\"brand\": \"Canon\", \"color\": \"Silver\"}}], \"order_status\": \"Cancelled\"}</td></tr><tr><td>4</td><td>{\"item_id\":4,\"name\":\"Smartwatch\",\"category\":\"Electronics\",\"price\":299,\"quantity\":2,\"details\":{\"brand\":\"LG\",\"color\":\"Silver\"}}</td><td>null</td><td>{\"order_id\": 93, \"customer_id\": 6627, \"order_date\": \"2024-12-22\", \"transaction_timestamp\": \"2024-12-22 05:07:46\", \"total_amount\": 598, \"payment_method\": \"PayPal\", \"items\": [{\"item_id\": 4, \"name\": \"Smartwatch\", \"category\": \"Electronics\", \"price\": 299, \"quantity\": 2, \"details\": {\"brand\": \"LG\", \"color\": \"Silver\"}}], \"order_status\": \"Pending\"}</td></tr><tr><td>4</td><td>{\"item_id\":4,\"name\":\"Smartwatch\",\"category\":\"Electronics\",\"price\":299,\"quantity\":2,\"details\":{\"brand\":\"GoPro\",\"color\":\"White\"}}</td><td>{\"item_id\":3,\"name\":\"Wireless Headphones\",\"category\":\"Electronics\",\"price\":199,\"quantity\":1,\"details\":{\"brand\":\"Bose\",\"color\":\"Gray\"}}</td><td>{\"order_id\": 95, \"customer_id\": 6627, \"order_date\": \"2024-12-28\", \"transaction_timestamp\": \"2024-12-28 04:28:30\", \"total_amount\": 946, \"payment_method\": \"Bank Transfer\", \"items\": [{\"item_id\": 4, \"name\": \"Smartwatch\", \"category\": \"Electronics\", \"price\": 299, \"quantity\": 2, \"details\": {\"brand\": \"GoPro\", \"color\": \"White\"}}, {\"item_id\": 3, \"name\": \"Wireless Headphones\", \"category\": \"Electronics\", \"price\": 199, \"quantity\": 1, \"details\": {\"brand\": \"Bose\", \"color\": \"Gray\"}}, {\"item_id\": 6, \"name\": \"Bluetooth Speaker\", \"category\": \"Electronics\", \"price\": 149, \"quantity\": 1, \"details\": {\"brand\": \"Dell\", \"color\": \"Silver\"}}], \"order_status\": \"Completed\"}</td></tr><tr><td>6</td><td>{\"item_id\":6,\"name\":\"Bluetooth Speaker\",\"category\":\"Electronics\",\"price\":149,\"quantity\":1,\"details\":{\"brand\":\"Microsoft\",\"color\":\"Black\"}}</td><td>null</td><td>{\"order_id\": 96, \"customer_id\": 6406, \"order_date\": \"2024-12-02\", \"transaction_timestamp\": \"2024-12-02 12:27:45\", \"total_amount\": 149, \"payment_method\": \"PayPal\", \"items\": [{\"item_id\": 6, \"name\": \"Bluetooth Speaker\", \"category\": \"Electronics\", \"price\": 149, \"quantity\": 1, \"details\": {\"brand\": \"Microsoft\", \"color\": \"Black\"}}], \"order_status\": \"Shipped\"}</td></tr><tr><td>8</td><td>{\"item_id\":8,\"name\":\"Gaming Console\",\"category\":\"Electronics\",\"price\":499,\"quantity\":1,\"details\":{\"brand\":\"Sony\",\"color\":\"Silver\"}}</td><td>null</td><td>{\"order_id\": 97, \"customer_id\": 6406, \"order_date\": \"2024-12-07\", \"transaction_timestamp\": \"2024-12-07 16:14:34\", \"total_amount\": 499, \"payment_method\": \"Bank Transfer\", \"items\": [{\"item_id\": 8, \"name\": \"Gaming Console\", \"category\": \"Electronics\", \"price\": 499, \"quantity\": 1, \"details\": {\"brand\": \"Sony\", \"color\": \"Silver\"}}], \"order_status\": \"Completed\"}</td></tr><tr><td>8</td><td>{\"item_id\":8,\"name\":\"Gaming Console\",\"category\":\"Electronics\",\"price\":499,\"quantity\":2,\"details\":{\"brand\":\"Dell\",\"color\":\"Blue\"}}</td><td>null</td><td>{\"order_id\": 5, \"customer_id\": 3892, \"order_date\": \"2024-11-16\", \"transaction_timestamp\": \"2024-11-16 23:07:31\", \"total_amount\": 998, \"payment_method\": \"Bank Transfer\", \"items\": [{\"item_id\": 8, \"name\": \"Gaming Console\", \"category\": \"Electronics\", \"price\": 499, \"quantity\": 2, \"details\": {\"brand\": \"Dell\", \"color\": \"Blue\"}}], \"order_status\": \"Cancelled\"}</td></tr><tr><td>7</td><td>{\"item_id\":7,\"name\":\"External Hard Drive\",\"category\":\"Electronics\",\"price\":129,\"quantity\":2,\"details\":{\"brand\":\"LG\",\"color\":\"Blue\"}}</td><td>{\"item_id\":7,\"name\":\"External Hard Drive\",\"category\":\"Electronics\",\"price\":129,\"quantity\":3,\"details\":{\"brand\":\"HP\",\"color\":\"Gray\"}}</td><td>{\"order_id\": 7, \"customer_id\": 1987, \"order_date\": \"2024-11-19\", \"transaction_timestamp\": \"2024-11-19 19:18:48\", \"total_amount\": 645, \"payment_method\": \"Credit Card\", \"items\": [{\"item_id\": 7, \"name\": \"External Hard Drive\", \"category\": \"Electronics\", \"price\": 129, \"quantity\": 2, \"details\": {\"brand\": \"LG\", \"color\": \"Blue\"}}, {\"item_id\": 7, \"name\": \"External Hard Drive\", \"category\": \"Electronics\", \"price\": 129, \"quantity\": 3, \"details\": {\"brand\": \"HP\", \"color\": \"Gray\"}}], \"order_status\": \"Pending\"}</td></tr><tr><td>2</td><td>{\"item_id\":2,\"name\":\"Laptop\",\"category\":\"Electronics\",\"price\":999,\"quantity\":1,\"details\":{\"brand\":\"Apple\",\"color\":\"Black\"}}</td><td>null</td><td>{\"order_id\": 9, \"customer_id\": 9179, \"order_date\": \"2024-11-27\", \"transaction_timestamp\": \"2024-11-27 13:15:29\", \"total_amount\": 999, \"payment_method\": \"Bank Transfer\", \"items\": [{\"item_id\": 2, \"name\": \"Laptop\", \"category\": \"Electronics\", \"price\": 999, \"quantity\": 1, \"details\": {\"brand\": \"Apple\", \"color\": \"Black\"}}], \"order_status\": \"Shipped\"}</td></tr><tr><td>5</td><td>{\"item_id\":5,\"name\":\"Tablet\",\"category\":\"Electronics\",\"price\":399,\"quantity\":2,\"details\":{\"brand\":\"Sony\",\"color\":\"Silver\"}}</td><td>null</td><td>{\"order_id\": 20, \"customer_id\": 8539, \"order_date\": \"2024-11-18\", \"transaction_timestamp\": \"2024-11-18 02:38:21\", \"total_amount\": 798, \"payment_method\": \"PayPal\", \"items\": [{\"item_id\": 5, \"name\": \"Tablet\", \"category\": \"Electronics\", \"price\": 399, \"quantity\": 2, \"details\": {\"brand\": \"Sony\", \"color\": \"Silver\"}}], \"order_status\": \"Pending\"}</td></tr><tr><td>6</td><td>{\"item_id\":6,\"name\":\"Bluetooth Speaker\",\"category\":\"Electronics\",\"price\":149,\"quantity\":2,\"details\":{\"brand\":\"GoPro\",\"color\":\"Blue\"}}</td><td>null</td><td>{\"order_id\": 21, \"customer_id\": 8539, \"order_date\": \"2024-11-21\", \"transaction_timestamp\": \"2024-11-21 11:25:35\", \"total_amount\": 298, \"payment_method\": \"Bank Transfer\", \"items\": [{\"item_id\": 6, \"name\": \"Bluetooth Speaker\", \"category\": \"Electronics\", \"price\": 149, \"quantity\": 2, \"details\": {\"brand\": \"GoPro\", \"color\": \"Blue\"}}], \"order_status\": \"Cancelled\"}</td></tr><tr><td>5</td><td>{\"item_id\":5,\"name\":\"Tablet\",\"category\":\"Electronics\",\"price\":399,\"quantity\":1,\"details\":{\"brand\":\"Apple\",\"color\":\"Gray\"}}</td><td>{\"item_id\":4,\"name\":\"Smartwatch\",\"category\":\"Electronics\",\"price\":299,\"quantity\":2,\"details\":{\"brand\":\"Dell\",\"color\":\"Gray\"}}</td><td>{\"order_id\": 23, \"customer_id\": 4761, \"order_date\": \"2024-11-22\", \"transaction_timestamp\": \"2024-11-22 16:04:05\", \"total_amount\": 997, \"payment_method\": \"PayPal\", \"items\": [{\"item_id\": 5, \"name\": \"Tablet\", \"category\": \"Electronics\", \"price\": 399, \"quantity\": 1, \"details\": {\"brand\": \"Apple\", \"color\": \"Gray\"}}, {\"item_id\": 4, \"name\": \"Smartwatch\", \"category\": \"Electronics\", \"price\": 299, \"quantity\": 2, \"details\": {\"brand\": \"Dell\", \"color\": \"Gray\"}}], \"order_status\": \"Shipped\"}</td></tr><tr><td>2</td><td>{\"item_id\":2,\"name\":\"Laptop\",\"category\":\"Electronics\",\"price\":999,\"quantity\":1,\"details\":{\"brand\":\"LG\",\"color\":\"Gray\"}}</td><td>null</td><td>{\"order_id\": 25, \"customer_id\": 9706, \"order_date\": \"2024-11-05\", \"transaction_timestamp\": \"2024-11-05 11:45:31\", \"total_amount\": 999, \"payment_method\": \"PayPal\", \"items\": [{\"item_id\": 2, \"name\": \"Laptop\", \"category\": \"Electronics\", \"price\": 999, \"quantity\": 1, \"details\": {\"brand\": \"LG\", \"color\": \"Gray\"}}], \"order_status\": \"Completed\"}</td></tr><tr><td>3</td><td>{\"item_id\":3,\"name\":\"Wireless Headphones\",\"category\":\"Electronics\",\"price\":199,\"quantity\":1,\"details\":{\"brand\":\"GoPro\",\"color\":\"White\"}}</td><td>null</td><td>{\"order_id\": 30, \"customer_id\": 4996, \"order_date\": \"2024-11-12\", \"transaction_timestamp\": \"2024-11-12 03:20:29\", \"total_amount\": 199, \"payment_method\": \"Bank Transfer\", \"items\": [{\"item_id\": 3, \"name\": \"Wireless Headphones\", \"category\": \"Electronics\", \"price\": 199, \"quantity\": 1, \"details\": {\"brand\": \"GoPro\", \"color\": \"White\"}}], \"order_status\": \"Shipped\"}</td></tr><tr><td>3</td><td>{\"item_id\":3,\"name\":\"Wireless Headphones\",\"category\":\"Electronics\",\"price\":199,\"quantity\":1,\"details\":{\"brand\":\"Dell\",\"color\":\"Gray\"}}</td><td>null</td><td>{\"order_id\": 35, \"customer_id\": 4914, \"order_date\": \"2024-11-20\", \"transaction_timestamp\": \"2024-11-20 19:09:04\", \"total_amount\": 199, \"payment_method\": \"Bank Transfer\", \"items\": [{\"item_id\": 3, \"name\": \"Wireless Headphones\", \"category\": \"Electronics\", \"price\": 199, \"quantity\": 1, \"details\": {\"brand\": \"Dell\", \"color\": \"Gray\"}}], \"order_status\": \"Shipped\"}</td></tr><tr><td>3</td><td>{\"item_id\":3,\"name\":\"Wireless Headphones\",\"category\":\"Electronics\",\"price\":199,\"quantity\":1,\"details\":{\"brand\":\"Canon\",\"color\":\"Silver\"}}</td><td>null</td><td>{\"order_id\": 36, \"customer_id\": 4914, \"order_date\": \"2024-11-02\", \"transaction_timestamp\": \"2024-11-02 10:39:46\", \"total_amount\": 199, \"payment_method\": \"PayPal\", \"items\": [{\"item_id\": 3, \"name\": \"Wireless Headphones\", \"category\": \"Electronics\", \"price\": 199, \"quantity\": 1, \"details\": {\"brand\": \"Canon\", \"color\": \"Silver\"}}], \"order_status\": \"Completed\"}</td></tr><tr><td>null</td><td>null</td><td>null</td><td>{\"order_id\": 42, \"customer_id\": 5028, \"order_date\": 2024-11-08, \"transaction_timestamp\": \"2024-11-08 18:32:25\", \"total_amount\": 149, \"payment_method\": \"Credit Card\", \"items\": [{\"item_id\": 6, \"name\": \"Bluetooth Speaker\", \"category\": \"Electronics\", \"price\": 149, \"quantity\": 1, \"details\": {\"brand\": \"Bose\", \"color\": \"Gray\"}}], \"order_status\": \"Completed\"}</td></tr><tr><td>10</td><td>{\"item_id\":10,\"name\":\"Drone\",\"category\":\"Electronics\",\"price\":799,\"quantity\":1,\"details\":{\"brand\":\"Dell\",\"color\":\"White\"}}</td><td>null</td><td>{\"order_id\": 45, \"customer_id\": 7295, \"order_date\": \"2024-11-07\", \"transaction_timestamp\": \"2024-11-07 15:41:43\", \"total_amount\": 799, \"payment_method\": \"Credit Card\", \"items\": [{\"item_id\": 10, \"name\": \"Drone\", \"category\": \"Electronics\", \"price\": 799, \"quantity\": 1, \"details\": {\"brand\": \"Dell\", \"color\": \"White\"}}], \"order_status\": \"Shipped\"}</td></tr><tr><td>3</td><td>{\"item_id\":3,\"name\":\"Wireless Headphones\",\"category\":\"Electronics\",\"price\":199,\"quantity\":1,\"details\":{\"brand\":\"Samsung\",\"color\":\"Black\"}}</td><td>null</td><td>{\"order_id\": 46, \"customer_id\": 7295, \"order_date\": \"2024-11-26\", \"transaction_timestamp\": \"2024-11-26 17:16:53\", \"total_amount\": 199, \"payment_method\": \"PayPal\", \"items\": [{\"item_id\": 3, \"name\": \"Wireless Headphones\", \"category\": \"Electronics\", \"price\": 199, \"quantity\": 1, \"details\": {\"brand\": \"Samsung\", \"color\": \"Black\"}}], \"order_status\": \"Pending\"}</td></tr><tr><td>6</td><td>{\"item_id\":6,\"name\":\"Bluetooth Speaker\",\"category\":\"Electronics\",\"price\":149,\"quantity\":2,\"details\":{\"brand\":\"LG\",\"color\":\"Blue\"}}</td><td>null</td><td>{\"order_id\": 47, \"customer_id\": 7803, \"order_date\": \"2024-11-22\", \"transaction_timestamp\": \"2024-11-22 02:01:19\", \"total_amount\": 298, \"payment_method\": \"Credit Card\", \"items\": [{\"item_id\": 6, \"name\": \"Bluetooth Speaker\", \"category\": \"Electronics\", \"price\": 149, \"quantity\": 2, \"details\": {\"brand\": \"LG\", \"color\": \"Blue\"}}], \"order_status\": \"Shipped\"}</td></tr><tr><td>7</td><td>{\"item_id\":7,\"name\":\"External Hard Drive\",\"category\":\"Electronics\",\"price\":129,\"quantity\":3,\"details\":{\"brand\":\"Apple\",\"color\":\"Black\"}}</td><td>null</td><td>{\"order_id\": 48, \"customer_id\": 7803, \"order_date\": \"2024-11-13\", \"transaction_timestamp\": \"2024-11-13 06:35:56\", \"total_amount\": 387, \"payment_method\": \"PayPal\", \"items\": [{\"item_id\": 7, \"name\": \"External Hard Drive\", \"category\": \"Electronics\", \"price\": 129, \"quantity\": 3, \"details\": {\"brand\": \"Apple\", \"color\": \"Black\"}}], \"order_status\": \"Completed\"}</td></tr><tr><td>8</td><td>{\"item_id\":8,\"name\":\"Gaming Console\",\"category\":\"Electronics\",\"price\":499,\"quantity\":2,\"details\":{\"brand\":\"GoPro\",\"color\":\"White\"}}</td><td>null</td><td>{\"order_id\": 52, \"customer_id\": 8845, \"order_date\": \"2024-11-19\", \"transaction_timestamp\": \"2024-11-19 21:23:45\", \"total_amount\": 998, \"payment_method\": \"PayPal\", \"items\": [{\"item_id\": 8, \"name\": \"Gaming Console\", \"category\": \"Electronics\", \"price\": 499, \"quantity\": 2, \"details\": {\"brand\": \"GoPro\", \"color\": \"White\"}}], \"order_status\": \"Completed\"}</td></tr><tr><td>3</td><td>{\"item_id\":3,\"name\":\"Wireless Headphones\",\"category\":\"Electronics\",\"price\":199,\"quantity\":1,\"details\":{\"brand\":\"HP\",\"color\":\"Silver\"}}</td><td>{\"item_id\":7,\"name\":\"External Hard Drive\",\"category\":\"Electronics\",\"price\":129,\"quantity\":3,\"details\":{\"brand\":\"Sony\",\"color\":\"Silver\"}}</td><td>{\"order_id\": 57, \"customer_id\": 8580, \"order_date\": \"2024-11-19\", \"transaction_timestamp\": \"2024-11-19 11:32:44\", \"total_amount\": 586, \"payment_method\": \"Bank Transfer\", \"items\": [{\"item_id\": 3, \"name\": \"Wireless Headphones\", \"category\": \"Electronics\", \"price\": 199, \"quantity\": 1, \"details\": {\"brand\": \"HP\", \"color\": \"Silver\"}}, {\"item_id\": 7, \"name\": \"External Hard Drive\", \"category\": \"Electronics\", \"price\": 129, \"quantity\": 3, \"details\": {\"brand\": \"Sony\", \"color\": \"Silver\"}}], \"order_status\": \"Cancelled\"}</td></tr><tr><td>3</td><td>{\"item_id\":3,\"name\":\"Wireless Headphones\",\"category\":\"Electronics\",\"price\":199,\"quantity\":1,\"details\":{\"brand\":\"GoPro\",\"color\":\"Blue\"}}</td><td>{\"item_id\":6,\"name\":\"Bluetooth Speaker\",\"category\":\"Electronics\",\"price\":149,\"quantity\":3,\"details\":{\"brand\":\"Bose\",\"color\":\"Silver\"}}</td><td>{\"order_id\": 63, \"customer_id\": 7123, \"order_date\": \"2024-11-24\", \"transaction_timestamp\": \"2024-11-24 08:41:28\", \"total_amount\": 646, \"payment_method\": \"Bank Transfer\", \"items\": [{\"item_id\": 3, \"name\": \"Wireless Headphones\", \"category\": \"Electronics\", \"price\": 199, \"quantity\": 1, \"details\": {\"brand\": \"GoPro\", \"color\": \"Blue\"}}, {\"item_id\": 6, \"name\": \"Bluetooth Speaker\", \"category\": \"Electronics\", \"price\": 149, \"quantity\": 3, \"details\": {\"brand\": \"Bose\", \"color\": \"Silver\"}}], \"order_status\": \"Cancelled\"}</td></tr><tr><td>7</td><td>{\"item_id\":7,\"name\":\"External Hard Drive\",\"category\":\"Electronics\",\"price\":129,\"quantity\":3,\"details\":{\"brand\":\"Microsoft\",\"color\":\"White\"}}</td><td>{\"item_id\":3,\"name\":\"Wireless Headphones\",\"category\":\"Electronics\",\"price\":199,\"quantity\":3,\"details\":{\"brand\":\"Canon\",\"color\":\"Blue\"}}</td><td>{\"order_id\": 64, \"customer_id\": 2639, \"order_date\": \"2024-11-28\", \"transaction_timestamp\": \"2024-11-28 12:23:21\", \"total_amount\": 984, \"payment_method\": \"Bank Transfer\", \"items\": [{\"item_id\": 7, \"name\": \"External Hard Drive\", \"category\": \"Electronics\", \"price\": 129, \"quantity\": 3, \"details\": {\"brand\": \"Microsoft\", \"color\": \"White\"}}, {\"item_id\": 3, \"name\": \"Wireless Headphones\", \"category\": \"Electronics\", \"price\": 199, \"quantity\": 3, \"details\": {\"brand\": \"Canon\", \"color\": \"Blue\"}}], \"order_status\": \"Completed\"}</td></tr><tr><td>7</td><td>{\"item_id\":7,\"name\":\"External Hard Drive\",\"category\":\"Electronics\",\"price\":129,\"quantity\":3,\"details\":{\"brand\":\"Bose\",\"color\":\"White\"}}</td><td>null</td><td>{\"order_id\": 88, \"customer_id\": 9247, \"order_date\": \"2024-11-15\", \"transaction_timestamp\": \"2024-11-15 11:39:44\", \"total_amount\": 387, \"payment_method\": \"Bank Transfer\", \"items\": [{\"item_id\": 7, \"name\": \"External Hard Drive\", \"category\": \"Electronics\", \"price\": 129, \"quantity\": 3, \"details\": {\"brand\": \"Bose\", \"color\": \"White\"}}], \"order_status\": \"Cancelled\"}</td></tr><tr><td>6</td><td>{\"item_id\":6,\"name\":\"Bluetooth Speaker\",\"category\":\"Electronics\",\"price\":149,\"quantity\":1,\"details\":{\"brand\":\"GoPro\",\"color\":\"Silver\"}}</td><td>null</td><td>{\"order_id\": 89, \"customer_id\": 9247, \"order_date\": \"2024-11-22\", \"transaction_timestamp\": \"2024-11-22 12:09:15\", \"total_amount\": 149, \"payment_method\": \"Bank Transfer\", \"items\": [{\"item_id\": 6, \"name\": \"Bluetooth Speaker\", \"category\": \"Electronics\", \"price\": 149, \"quantity\": 1, \"details\": {\"brand\": \"GoPro\", \"color\": \"Silver\"}}], \"order_status\": \"Cancelled\"}</td></tr><tr><td>7</td><td>{\"item_id\":7,\"name\":\"External Hard Drive\",\"category\":\"Electronics\",\"price\":129,\"quantity\":2,\"details\":{\"brand\":\"Sony\",\"color\":\"Black\"}}</td><td>null</td><td>{\"order_id\": 92, \"customer_id\": 5592, \"order_date\": \"2024-11-24\", \"transaction_timestamp\": \"2024-11-24 23:33:21\", \"total_amount\": 258, \"payment_method\": \"PayPal\", \"items\": [{\"item_id\": 7, \"name\": \"External Hard Drive\", \"category\": \"Electronics\", \"price\": 129, \"quantity\": 2, \"details\": {\"brand\": \"Sony\", \"color\": \"Black\"}}], \"order_status\": \"Shipped\"}</td></tr><tr><td>10</td><td>{\"item_id\":10,\"name\":\"Drone\",\"category\":\"Electronics\",\"price\":799,\"quantity\":1,\"details\":{\"brand\":\"GoPro\",\"color\":\"Black\"}}</td><td>null</td><td>{\"order_id\": 6, \"customer_id\": 1987, \"order_date\": \"2024-10-28\", \"transaction_timestamp\": \"2024-10-28 04:47:27\", \"total_amount\": 799, \"payment_method\": \"Credit Card\", \"items\": [{\"item_id\": 10, \"name\": \"Drone\", \"category\": \"Electronics\", \"price\": 799, \"quantity\": 1, \"details\": {\"brand\": \"GoPro\", \"color\": \"Black\"}}], \"order_status\": \"Pending\"}</td></tr><tr><td>5</td><td>{\"item_id\":5,\"name\":\"Tablet\",\"category\":\"Electronics\",\"price\":399,\"quantity\":1,\"details\":{\"brand\":\"GoPro\",\"color\":\"White\"}}</td><td>null</td><td>{\"order_id\": 10, \"customer_id\": 5816, \"order_date\": \"2024-10-07\", \"transaction_timestamp\": \"2024-10-07 22:09:27\", \"total_amount\": 399, \"payment_method\": \"Credit Card\", \"items\": [{\"item_id\": 5, \"name\": \"Tablet\", \"category\": \"Electronics\", \"price\": 399, \"quantity\": 1, \"details\": {\"brand\": \"GoPro\", \"color\": \"White\"}}], \"order_status\": \"Pending\"}</td></tr><tr><td>4</td><td>{\"item_id\":4,\"name\":\"Smartwatch\",\"category\":\"Electronics\",\"price\":299,\"quantity\":3,\"details\":{\"brand\":\"Canon\",\"color\":\"White\"}}</td><td>null</td><td>{\"order_id\": 11, \"customer_id\": 5816, \"order_date\": \"2024-10-13\", \"transaction_timestamp\": \"2024-10-13 17:34:19\", \"total_amount\": 897, \"payment_method\": \"Bank Transfer\", \"items\": [{\"item_id\": 4, \"name\": \"Smartwatch\", \"category\": \"Electronics\", \"price\": 299, \"quantity\": 3, \"details\": {\"brand\": \"Canon\", \"color\": \"White\"}}], \"order_status\": \"Pending\"}</td></tr><tr><td>9</td><td>{\"item_id\":9,\"name\":\"Smart TV\",\"category\":\"Electronics\",\"price\":1199,\"quantity\":1,\"details\":{\"brand\":\"GoPro\",\"color\":\"White\"}}</td><td>null</td><td>{\"order_id\": 15, \"customer_id\": 7207, \"order_date\": \"2024-10-20\", \"transaction_timestamp\": \"2024-10-20 01:47:25\", \"total_amount\": 1199, \"payment_method\": \"Bank Transfer\", \"items\": [{\"item_id\": 9, \"name\": \"Smart TV\", \"category\": \"Electronics\", \"price\": 1199, \"quantity\": 1, \"details\": {\"brand\": \"GoPro\", \"color\": \"White\"}}], \"order_status\": \"Completed\"}</td></tr><tr><td>8</td><td>{\"item_id\":8,\"name\":\"Gaming Console\",\"category\":\"Electronics\",\"price\":499,\"quantity\":1,\"details\":{\"brand\":\"Dell\",\"color\":\"Silver\"}}</td><td>null</td><td>{\"order_id\": 19, \"customer_id\": 8539, \"order_date\": \"2024-10-13\", \"transaction_timestamp\": \"2024-10-13 12:40:26\", \"total_amount\": 499, \"payment_method\": \"PayPal\", \"items\": [{\"item_id\": 8, \"name\": \"Gaming Console\", \"category\": \"Electronics\", \"price\": 499, \"quantity\": 1, \"details\": {\"brand\": \"Dell\", \"color\": \"Silver\"}}], \"order_status\": \"Shipped\"}</td></tr><tr><td>7</td><td>{\"item_id\":7,\"name\":\"External Hard Drive\",\"category\":\"Electronics\",\"price\":129,\"quantity\":3,\"details\":{\"brand\":\"Sony\",\"color\":\"Black\"}}</td><td>null</td><td>{\"order_id\": 39, \"customer_id\": 9263, \"order_date\": \"2024-10-29\", \"transaction_timestamp\": \"2024-10-29 21:39:19\", \"total_amount\": 387, \"payment_method\": \"PayPal\", \"items\": [{\"item_id\": 7, \"name\": \"External Hard Drive\", \"category\": \"Electronics\", \"price\": 129, \"quantity\": 3, \"details\": {\"brand\": \"Sony\", \"color\": \"Black\"}}], \"order_status\": \"Shipped\"}</td></tr><tr><td>1</td><td>{\"item_id\":1,\"name\":\"Smartphone\",\"category\":\"Electronics\",\"price\":699,\"quantity\":1,\"details\":{\"brand\":\"HP\",\"color\":\"Black\"}}</td><td>null</td><td>{\"order_id\": 55, \"customer_id\": 9018, \"order_date\": \"2024-10-25\", \"transaction_timestamp\": \"2024-10-25 05:49:16\", \"total_amount\": 699, \"payment_method\": \"Bank Transfer\", \"items\": [{\"item_id\": 1, \"name\": \"Smartphone\", \"category\": \"Electronics\", \"price\": 699, \"quantity\": 1, \"details\": {\"brand\": \"HP\", \"color\": \"Black\"}}], \"order_status\": \"Shipped\"}</td></tr><tr><td>8</td><td>{\"item_id\":8,\"name\":\"Gaming Console\",\"category\":\"Electronics\",\"price\":499,\"quantity\":1,\"details\":{\"brand\":\"Dell\",\"color\":\"Black\"}}</td><td>null</td><td>{\"order_id\": 59, \"customer_id\": 3409, \"order_date\": \"2024-10-23\", \"transaction_timestamp\": \"2024-10-23 02:51:05\", \"total_amount\": 499, \"payment_method\": \"PayPal\", \"items\": [{\"item_id\": 8, \"name\": \"Gaming Console\", \"category\": \"Electronics\", \"price\": 499, \"quantity\": 1, \"details\": {\"brand\": \"Dell\", \"color\": \"Black\"}}], \"order_status\": \"Pending\"}</td></tr><tr><td>null</td><td>null</td><td>null</td><td>{\"order_id\": 72, \"customer_id\": 3889, \"order_date\": 2024-10-06, \"transaction_timestamp\": \"2024-10-06 10:23:28\", \"total_amount\": 328, \"payment_method\": \"PayPal\", \"items\": [{\"item_id\": 3, \"name\": \"Wireless Headphones\", \"category\": \"Electronics\", \"price\": 199, \"quantity\": 1, \"details\": {\"brand\": \"Microsoft\", \"color\": \"Gray\"}}, {\"item_id\": 7, \"name\": \"External Hard Drive\", \"category\": \"Electronics\", \"price\": 129, \"quantity\": 1, \"details\": {\"brand\": \"Samsung\", \"color\": \"Silver\"}}], \"order_status\": \"Cancelled\"}</td></tr><tr><td>3</td><td>{\"item_id\":3,\"name\":\"Wireless Headphones\",\"category\":\"Electronics\",\"price\":199,\"quantity\":2,\"details\":{\"brand\":\"HP\",\"color\":\"Silver\"}}</td><td>null</td><td>{\"order_id\": 77, \"customer_id\": 9084, \"order_date\": \"2024-10-15\", \"transaction_timestamp\": \"2024-10-15 13:09:33\", \"total_amount\": 398, \"payment_method\": \"Credit Card\", \"items\": [{\"item_id\": 3, \"name\": \"Wireless Headphones\", \"category\": \"Electronics\", \"price\": 199, \"quantity\": 2, \"details\": {\"brand\": \"HP\", \"color\": \"Silver\"}}], \"order_status\": \"Pending\"}</td></tr><tr><td>10</td><td>{\"item_id\":10,\"name\":\"Drone\",\"category\":\"Electronics\",\"price\":799,\"quantity\":1,\"details\":{\"brand\":\"Sony\",\"color\":\"Black\"}}</td><td>{\"item_id\":3,\"name\":\"Wireless Headphones\",\"category\":\"Electronics\",\"price\":199,\"quantity\":1,\"details\":{\"brand\":\"LG\",\"color\":\"Black\"}}</td><td>{\"order_id\": 84, \"customer_id\": 2344, \"order_date\": \"2024-10-25\", \"transaction_timestamp\": \"2024-10-25 03:37:42\", \"total_amount\": 998, \"payment_method\": \"PayPal\", \"items\": [{\"item_id\": 10, \"name\": \"Drone\", \"category\": \"Electronics\", \"price\": 799, \"quantity\": 1, \"details\": {\"brand\": \"Sony\", \"color\": \"Black\"}}, {\"item_id\": 3, \"name\": \"Wireless Headphones\", \"category\": \"Electronics\", \"price\": 199, \"quantity\": 1, \"details\": {\"brand\": \"LG\", \"color\": \"Black\"}}], \"order_status\": \"Completed\"}</td></tr><tr><td>8</td><td>{\"item_id\":8,\"name\":\"Gaming Console\",\"category\":\"Electronics\",\"price\":499,\"quantity\":2,\"details\":{\"brand\":\"GoPro\",\"color\":\"Black\"}}</td><td>null</td><td>{\"order_id\": 85, \"customer_id\": 5011, \"order_date\": \"2024-10-23\", \"transaction_timestamp\": \"2024-10-23 20:06:42\", \"total_amount\": 998, \"payment_method\": \"Bank Transfer\", \"items\": [{\"item_id\": 8, \"name\": \"Gaming Console\", \"category\": \"Electronics\", \"price\": 499, \"quantity\": 2, \"details\": {\"brand\": \"GoPro\", \"color\": \"Black\"}}], \"order_status\": \"Shipped\"}</td></tr><tr><td>9</td><td>{\"item_id\":9,\"name\":\"Smart TV\",\"category\":\"Electronics\",\"price\":1199,\"quantity\":1,\"details\":{\"brand\":\"Dell\",\"color\":\"White\"}}</td><td>null</td><td>{\"order_id\": 86, \"customer_id\": 5011, \"order_date\": \"2024-10-19\", \"transaction_timestamp\": \"2024-10-19 13:30:47\", \"total_amount\": 1199, \"payment_method\": \"PayPal\", \"items\": [{\"item_id\": 9, \"name\": \"Smart TV\", \"category\": \"Electronics\", \"price\": 1199, \"quantity\": 1, \"details\": {\"brand\": \"Dell\", \"color\": \"White\"}}], \"order_status\": \"Completed\"}</td></tr></tbody></table></div>"
      ]
     },
     "metadata": {
      "application/vnd.databricks.v1+output": {
       "addedWidgets": {},
       "aggData": [],
       "aggError": "",
       "aggOverflow": false,
       "aggSchema": [],
       "aggSeriesLimitReached": false,
       "aggType": "",
       "arguments": {},
       "columnCustomDisplayInfos": {},
       "data": [
        [
         "8",
         "{\"item_id\":8,\"name\":\"Gaming Console\",\"category\":\"Electronics\",\"price\":499,\"quantity\":1,\"details\":{\"brand\":\"Sony\",\"color\":\"Blue\"}}",
         null,
         "{\"order_id\": 1, \"customer_id\": 6973, \"order_date\": \"2025-01-05\", \"transaction_timestamp\": \"2025-01-05 10:13:59\", \"total_amount\": 499, \"payment_method\": \"Bank Transfer\", \"items\": [{\"item_id\": 8, \"name\": \"Gaming Console\", \"category\": \"Electronics\", \"price\": 499, \"quantity\": 1, \"details\": {\"brand\": \"Sony\", \"color\": \"Blue\"}}], \"order_status\": \"Completed\"}"
        ],
        [
         null,
         null,
         null,
         "{\"order_id\": 2, \"customer_id\": 3532, \"order_date\": 2025-01-19, \"transaction_timestamp\": \"2025-01-19 00:05:13\", \"total_amount\": 985, \"payment_method\": \"PayPal\", \"items\": [{\"item_id\": 4, \"name\": \"Smartwatch\", \"category\": \"Electronics\", \"price\": 299, \"quantity\": 2, \"details\": {\"brand\": \"Canon\", \"color\": \"Gray\"}}, {\"item_id\": 7, \"name\": \"External Hard Drive\", \"category\": \"Electronics\", \"price\": 129, \"quantity\": 3, \"details\": {\"brand\": \"Dell\", \"color\": \"Blue\"}}], \"order_status\": \"Cancelled\"}"
        ],
        [
         "3",
         "{\"item_id\":3,\"name\":\"Wireless Headphones\",\"category\":\"Electronics\",\"price\":199,\"quantity\":3,\"details\":{\"brand\":\"Apple\",\"color\":\"White\"}}",
         null,
         "{\"order_id\": 3, \"customer_id\": 3532, \"order_date\": \"2025-01-08\", \"transaction_timestamp\": \"2025-01-08 23:11:00\", \"total_amount\": 597, \"payment_method\": \"Bank Transfer\", \"items\": [{\"item_id\": 3, \"name\": \"Wireless Headphones\", \"category\": \"Electronics\", \"price\": 199, \"quantity\": 3, \"details\": {\"brand\": \"Apple\", \"color\": \"White\"}}], \"order_status\": \"Completed\"}"
        ],
        [
         "2",
         "{\"item_id\":2,\"name\":\"Laptop\",\"category\":\"Electronics\",\"price\":999,\"quantity\":1,\"details\":{\"brand\":\"Microsoft\",\"color\":\"Black\"}}",
         null,
         "{\"order_id\": 4, \"customer_id\": 3532, \"order_date\": \"2025-01-05\", \"transaction_timestamp\": \"2025-01-05 05:49:26\", \"total_amount\": 999, \"payment_method\": \"Bank Transfer\", \"items\": [{\"item_id\": 2, \"name\": \"Laptop\", \"category\": \"Electronics\", \"price\": 999, \"quantity\": 1, \"details\": {\"brand\": \"Microsoft\", \"color\": \"Black\"}}], \"order_status\": \"Cancelled\"}"
        ],
        [
         "5",
         "{\"item_id\":5,\"name\":\"Tablet\",\"category\":\"Electronics\",\"price\":399,\"quantity\":1,\"details\":{\"brand\":\"LG\",\"color\":\"White\"}}",
         null,
         "{\"order_id\": 8, \"customer_id\": 9179, \"order_date\": \"2025-01-02\", \"transaction_timestamp\": \"2025-01-02 13:11:15\", \"total_amount\": 399, \"payment_method\": \"PayPal\", \"items\": [{\"item_id\": 5, \"name\": \"Tablet\", \"category\": \"Electronics\", \"price\": 399, \"quantity\": 1, \"details\": {\"brand\": \"LG\", \"color\": \"White\"}}], \"order_status\": \"Completed\"}"
        ],
        [
         "3",
         "{\"item_id\":3,\"name\":\"Wireless Headphones\",\"category\":\"Electronics\",\"price\":199,\"quantity\":3,\"details\":{\"brand\":\"Bose\",\"color\":\"Blue\"}}",
         null,
         "{\"order_id\": 14, \"customer_id\": 7207, \"order_date\": \"2025-01-01\", \"transaction_timestamp\": \"2025-01-01 18:22:26\", \"total_amount\": 597, \"payment_method\": \"PayPal\", \"items\": [{\"item_id\": 3, \"name\": \"Wireless Headphones\", \"category\": \"Electronics\", \"price\": 199, \"quantity\": 3, \"details\": {\"brand\": \"Bose\", \"color\": \"Blue\"}}], \"order_status\": \"Cancelled\"}"
        ],
        [
         "10",
         "{\"item_id\":10,\"name\":\"Drone\",\"category\":\"Electronics\",\"price\":799,\"quantity\":1,\"details\":{\"brand\":\"Dell\",\"color\":\"Black\"}}",
         null,
         "{\"order_id\": 18, \"customer_id\": 4468, \"order_date\": \"2025-01-22\", \"transaction_timestamp\": \"2025-01-22 21:12:08\", \"total_amount\": 799, \"payment_method\": \"Credit Card\", \"items\": [{\"item_id\": 10, \"name\": \"Drone\", \"category\": \"Electronics\", \"price\": 799, \"quantity\": 1, \"details\": {\"brand\": \"Dell\", \"color\": \"Black\"}}], \"order_status\": \"Pending\"}"
        ],
        [
         null,
         null,
         null,
         "{\"order_id\": 22, \"customer_id\": 4761, \"order_date\": 2025-01-01, \"transaction_timestamp\": \"2025-01-01 15:49:19\", \"total_amount\": 199, \"payment_method\": \"PayPal\", \"items\": [{\"item_id\": 3, \"name\": \"Wireless Headphones\", \"category\": \"Electronics\", \"price\": 199, \"quantity\": 1, \"details\": {\"brand\": \"HP\", \"color\": \"Silver\"}}], \"order_status\": \"Pending\"}"
        ],
        [
         "1",
         "{\"item_id\":1,\"name\":\"Smartphone\",\"category\":\"Electronics\",\"price\":699,\"quantity\":1,\"details\":{\"brand\":\"Samsung\",\"color\":\"Silver\"}}",
         null,
         "{\"order_id\": 26, \"customer_id\": 7007, \"order_date\": \"2025-01-05\", \"transaction_timestamp\": \"2025-01-05 19:01:25\", \"total_amount\": 699, \"payment_method\": \"Bank Transfer\", \"items\": [{\"item_id\": 1, \"name\": \"Smartphone\", \"category\": \"Electronics\", \"price\": 699, \"quantity\": 1, \"details\": {\"brand\": \"Samsung\", \"color\": \"Silver\"}}], \"order_status\": \"Shipped\"}"
        ],
        [
         "7",
         "{\"item_id\":7,\"name\":\"External Hard Drive\",\"category\":\"Electronics\",\"price\":129,\"quantity\":1,\"details\":{\"brand\":\"Bose\",\"color\":\"Gray\"}}",
         "{\"item_id\":7,\"name\":\"External Hard Drive\",\"category\":\"Electronics\",\"price\":129,\"quantity\":1,\"details\":{\"brand\":\"Bose\",\"color\":\"Gray\"}}",
         "{\"order_id\": 29, \"customer_id\": 5953, \"order_date\": \"2025-01-18\", \"transaction_timestamp\": \"2025-01-18 03:05:04\", \"total_amount\": 129, \"payment_method\": \"Bank Transfer\", \"items\": [{\"item_id\": 7, \"name\": \"External Hard Drive\", \"category\": \"Electronics\", \"price\": 129, \"quantity\": 1, \"details\": {\"brand\": \"Bose\", \"color\": \"Gray\"}}, {\"item_id\": 7, \"name\": \"External Hard Drive\", \"category\": \"Electronics\", \"price\": 129, \"quantity\": 1, \"details\": {\"brand\": \"Bose\", \"color\": \"Gray\"}}], \"order_status\": \"Pending\"}"
        ],
        [
         "4",
         "{\"item_id\":4,\"name\":\"Smartwatch\",\"category\":\"Electronics\",\"price\":299,\"quantity\":1,\"details\":{\"brand\":\"Dell\",\"color\":\"White\"}}",
         null,
         "{\"order_id\": 31, \"customer_id\": 4996, \"order_date\": \"2025-01-18\", \"transaction_timestamp\": \"2025-01-18 03:13:29\", \"total_amount\": 299, \"payment_method\": \"Bank Transfer\", \"items\": [{\"item_id\": 4, \"name\": \"Smartwatch\", \"category\": \"Electronics\", \"price\": 299, \"quantity\": 1, \"details\": {\"brand\": \"Dell\", \"color\": \"White\"}}], \"order_status\": \"Shipped\"}"
        ],
        [
         "4",
         "{\"item_id\":4,\"name\":\"Smartwatch\",\"category\":\"Electronics\",\"price\":299,\"quantity\":3,\"details\":{\"brand\":\"Canon\",\"color\":\"White\"}}",
         null,
         "{\"order_id\": 33, \"customer_id\": 9605, \"order_date\": \"2025-01-13\", \"transaction_timestamp\": \"2025-01-13 04:47:43\", \"total_amount\": 897, \"payment_method\": \"PayPal\", \"items\": [{\"item_id\": 4, \"name\": \"Smartwatch\", \"category\": \"Electronics\", \"price\": 299, \"quantity\": 3, \"details\": {\"brand\": \"Canon\", \"color\": \"White\"}}], \"order_status\": \"Completed\"}"
        ],
        [
         "6",
         "{\"item_id\":6,\"name\":\"Bluetooth Speaker\",\"category\":\"Electronics\",\"price\":149,\"quantity\":2,\"details\":{\"brand\":\"Bose\",\"color\":\"Silver\"}}",
         "{\"item_id\":8,\"name\":\"Gaming Console\",\"category\":\"Electronics\",\"price\":499,\"quantity\":1,\"details\":{\"brand\":\"LG\",\"color\":\"Black\"}}",
         "{\"order_id\": 34, \"customer_id\": 9605, \"order_date\": \"2025-01-21\", \"transaction_timestamp\": \"2025-01-21 00:25:01\", \"total_amount\": 926, \"payment_method\": \"PayPal\", \"items\": [{\"item_id\": 6, \"name\": \"Bluetooth Speaker\", \"category\": \"Electronics\", \"price\": 149, \"quantity\": 2, \"details\": {\"brand\": \"Bose\", \"color\": \"Silver\"}}, {\"item_id\": 8, \"name\": \"Gaming Console\", \"category\": \"Electronics\", \"price\": 499, \"quantity\": 1, \"details\": {\"brand\": \"LG\", \"color\": \"Black\"}}, {\"item_id\": 7, \"name\": \"External Hard Drive\", \"category\": \"Electronics\", \"price\": 129, \"quantity\": 1, \"details\": {\"brand\": \"Samsung\", \"color\": \"Black\"}}], \"order_status\": \"Cancelled\"}"
        ],
        [
         "6",
         "{\"item_id\":6,\"name\":\"Bluetooth Speaker\",\"category\":\"Electronics\",\"price\":149,\"quantity\":2,\"details\":{\"brand\":\"Bose\",\"color\":\"Silver\"}}",
         null,
         "{\"order_id\": 40, \"customer_id\": 6384, \"order_date\": \"2025-01-20\", \"transaction_timestamp\": \"2025-01-20 16:18:35\", \"total_amount\": 298, \"payment_method\": \"PayPal\", \"items\": [{\"item_id\": 6, \"name\": \"Bluetooth Speaker\", \"category\": \"Electronics\", \"price\": 149, \"quantity\": 2, \"details\": {\"brand\": \"Bose\", \"color\": \"Silver\"}}], \"order_status\": \"Completed\"}"
        ],
        [
         "2",
         "{\"item_id\":2,\"name\":\"Laptop\",\"category\":\"Electronics\",\"price\":999,\"quantity\":1,\"details\":{\"brand\":\"Sony\",\"color\":\"Silver\"}}",
         null,
         "{\"order_id\": 41, \"customer_id\": 6384, \"order_date\": \"2025-01-05\", \"transaction_timestamp\": \"2025-01-05 06:10:22\", \"total_amount\": 999, \"payment_method\": \"Credit Card\", \"items\": [{\"item_id\": 2, \"name\": \"Laptop\", \"category\": \"Electronics\", \"price\": 999, \"quantity\": 1, \"details\": {\"brand\": \"Sony\", \"color\": \"Silver\"}}], \"order_status\": \"Shipped\"}"
        ],
        [
         "8",
         "{\"item_id\":8,\"name\":\"Gaming Console\",\"category\":\"Electronics\",\"price\":499,\"quantity\":1,\"details\":{\"brand\":\"LG\",\"color\":\"Black\"}}",
         null,
         "{\"order_id\": 43, \"customer_id\": 5028, \"order_date\": \"2025-01-24\", \"transaction_timestamp\": \"2025-01-24 18:10:37\", \"total_amount\": 499, \"payment_method\": \"PayPal\", \"items\": [{\"item_id\": 8, \"name\": \"Gaming Console\", \"category\": \"Electronics\", \"price\": 499, \"quantity\": 1, \"details\": {\"brand\": \"LG\", \"color\": \"Black\"}}], \"order_status\": \"Pending\"}"
        ],
        [
         "6",
         "{\"item_id\":6,\"name\":\"Bluetooth Speaker\",\"category\":\"Electronics\",\"price\":149,\"quantity\":3,\"details\":{\"brand\":\"Apple\",\"color\":\"Gray\"}}",
         "{\"item_id\":4,\"name\":\"Smartwatch\",\"category\":\"Electronics\",\"price\":299,\"quantity\":1,\"details\":{\"brand\":\"Sony\",\"color\":\"White\"}}",
         "{\"order_id\": 50, \"customer_id\": 3712, \"order_date\": \"2025-01-11\", \"transaction_timestamp\": \"2025-01-11 01:19:09\", \"total_amount\": 746, \"payment_method\": \"Credit Card\", \"items\": [{\"item_id\": 6, \"name\": \"Bluetooth Speaker\", \"category\": \"Electronics\", \"price\": 149, \"quantity\": 3, \"details\": {\"brand\": \"Apple\", \"color\": \"Gray\"}}, {\"item_id\": 4, \"name\": \"Smartwatch\", \"category\": \"Electronics\", \"price\": 299, \"quantity\": 1, \"details\": {\"brand\": \"Sony\", \"color\": \"White\"}}], \"order_status\": \"Shipped\"}"
        ],
        [
         "6",
         "{\"item_id\":6,\"name\":\"Bluetooth Speaker\",\"category\":\"Electronics\",\"price\":149,\"quantity\":1,\"details\":{\"brand\":\"Samsung\",\"color\":\"Gray\"}}",
         null,
         "{\"order_id\": 51, \"customer_id\": 8845, \"order_date\": \"2025-01-21\", \"transaction_timestamp\": \"2025-01-21 13:19:59\", \"total_amount\": 149, \"payment_method\": \"PayPal\", \"items\": [{\"item_id\": 6, \"name\": \"Bluetooth Speaker\", \"category\": \"Electronics\", \"price\": 149, \"quantity\": 1, \"details\": {\"brand\": \"Samsung\", \"color\": \"Gray\"}}], \"order_status\": \"Completed\"}"
        ],
        [
         "3",
         "{\"item_id\":3,\"name\":\"Wireless Headphones\",\"category\":\"Electronics\",\"price\":199,\"quantity\":1,\"details\":{\"brand\":\"Apple\",\"color\":\"Black\"}}",
         null,
         "{\"order_id\": 53, \"customer_id\": 8845, \"order_date\": \"2025-01-21\", \"transaction_timestamp\": \"2025-01-21 08:31:02\", \"total_amount\": 199, \"payment_method\": \"Bank Transfer\", \"items\": [{\"item_id\": 3, \"name\": \"Wireless Headphones\", \"category\": \"Electronics\", \"price\": 199, \"quantity\": 1, \"details\": {\"brand\": \"Apple\", \"color\": \"Black\"}}], \"order_status\": \"Pending\"}"
        ],
        [
         "3",
         "{\"item_id\":3,\"name\":\"Wireless Headphones\",\"category\":\"Electronics\",\"price\":199,\"quantity\":1,\"details\":{\"brand\":\"HP\",\"color\":\"Silver\"}}",
         "{\"item_id\":8,\"name\":\"Gaming Console\",\"category\":\"Electronics\",\"price\":499,\"quantity\":1,\"details\":{\"brand\":\"LG\",\"color\":\"Gray\"}}",
         "{\"order_id\": 56, \"customer_id\": 8580, \"order_date\": \"2025-01-01\", \"transaction_timestamp\": \"2025-01-01 12:02:41\", \"total_amount\": 698, \"payment_method\": \"PayPal\", \"items\": [{\"item_id\": 3, \"name\": \"Wireless Headphones\", \"category\": \"Electronics\", \"price\": 199, \"quantity\": 1, \"details\": {\"brand\": \"HP\", \"color\": \"Silver\"}}, {\"item_id\": 8, \"name\": \"Gaming Console\", \"category\": \"Electronics\", \"price\": 499, \"quantity\": 1, \"details\": {\"brand\": \"LG\", \"color\": \"Gray\"}}], \"order_status\": \"Cancelled\"}"
        ],
        [
         "7",
         "{\"item_id\":7,\"name\":\"External Hard Drive\",\"category\":\"Electronics\",\"price\":129,\"quantity\":3,\"details\":{\"brand\":\"Dell\",\"color\":\"White\"}}",
         "{\"item_id\":4,\"name\":\"Smartwatch\",\"category\":\"Electronics\",\"price\":299,\"quantity\":2,\"details\":{\"brand\":\"GoPro\",\"color\":\"Blue\"}}",
         "{\"order_id\": 62, \"customer_id\": 7123, \"order_date\": \"2025-01-24\", \"transaction_timestamp\": \"2025-01-24 12:00:54\", \"total_amount\": 985, \"payment_method\": \"Bank Transfer\", \"items\": [{\"item_id\": 7, \"name\": \"External Hard Drive\", \"category\": \"Electronics\", \"price\": 129, \"quantity\": 3, \"details\": {\"brand\": \"Dell\", \"color\": \"White\"}}, {\"item_id\": 4, \"name\": \"Smartwatch\", \"category\": \"Electronics\", \"price\": 299, \"quantity\": 2, \"details\": {\"brand\": \"GoPro\", \"color\": \"Blue\"}}], \"order_status\": \"Completed\"}"
        ],
        [
         "4",
         "{\"item_id\":4,\"name\":\"Smartwatch\",\"category\":\"Electronics\",\"price\":299,\"quantity\":1,\"details\":{\"brand\":\"Bose\",\"color\":\"Silver\"}}",
         "{\"item_id\":4,\"name\":\"Smartwatch\",\"category\":\"Electronics\",\"price\":299,\"quantity\":1,\"details\":{\"brand\":\"GoPro\",\"color\":\"White\"}}",
         "{\"order_id\": 66, \"customer_id\": 3084, \"order_date\": \"2025-01-17\", \"transaction_timestamp\": \"2025-01-17 21:16:11\", \"total_amount\": 598, \"payment_method\": \"Credit Card\", \"items\": [{\"item_id\": 4, \"name\": \"Smartwatch\", \"category\": \"Electronics\", \"price\": 299, \"quantity\": 1, \"details\": {\"brand\": \"Bose\", \"color\": \"Silver\"}}, {\"item_id\": 4, \"name\": \"Smartwatch\", \"category\": \"Electronics\", \"price\": 299, \"quantity\": 1, \"details\": {\"brand\": \"GoPro\", \"color\": \"White\"}}], \"order_status\": \"Cancelled\"}"
        ],
        [
         "6",
         "{\"item_id\":6,\"name\":\"Bluetooth Speaker\",\"category\":\"Electronics\",\"price\":149,\"quantity\":1,\"details\":{\"brand\":\"Bose\",\"color\":\"Gray\"}}",
         null,
         "{\"order_id\": 68, \"customer_id\": 4973, \"order_date\": \"2025-01-10\", \"transaction_timestamp\": \"2025-01-10 20:35:43\", \"total_amount\": 149, \"payment_method\": \"Bank Transfer\", \"items\": [{\"item_id\": 6, \"name\": \"Bluetooth Speaker\", \"category\": \"Electronics\", \"price\": 149, \"quantity\": 1, \"details\": {\"brand\": \"Bose\", \"color\": \"Gray\"}}], \"order_status\": \"Completed\"}"
        ],
        [
         "7",
         "{\"item_id\":7,\"name\":\"External Hard Drive\",\"category\":\"Electronics\",\"price\":129,\"quantity\":3,\"details\":{\"brand\":\"GoPro\",\"color\":\"Gray\"}}",
         "{\"item_id\":7,\"name\":\"External Hard Drive\",\"category\":\"Electronics\",\"price\":129,\"quantity\":3,\"details\":{\"brand\":\"GoPro\",\"color\":\"Gray\"}}",
         "{\"order_id\": 73, \"customer_id\": 6167, \"order_date\": \"2025-01-07\", \"transaction_timestamp\": \"2025-01-07 01:02:26\", \"total_amount\": 387, \"payment_method\": \"Credit Card\", \"items\": [{\"item_id\": 7, \"name\": \"External Hard Drive\", \"category\": \"Electronics\", \"price\": 129, \"quantity\": 3, \"details\": {\"brand\": \"GoPro\", \"color\": \"Gray\"}}, {\"item_id\": 7, \"name\": \"External Hard Drive\", \"category\": \"Electronics\", \"price\": 129, \"quantity\": 3, \"details\": {\"brand\": \"GoPro\", \"color\": \"Gray\"}}], \"order_status\": \"Shipped\"}"
        ],
        [
         "1",
         "{\"item_id\":1,\"name\":\"Smartphone\",\"category\":\"Electronics\",\"price\":699,\"quantity\":1,\"details\":{\"brand\":\"GoPro\",\"color\":\"White\"}}",
         null,
         "{\"order_id\": 75, \"customer_id\": 6167, \"order_date\": \"2025-01-19\", \"transaction_timestamp\": \"2025-01-19 16:23:16\", \"total_amount\": 699, \"payment_method\": \"Credit Card\", \"items\": [{\"item_id\": 1, \"name\": \"Smartphone\", \"category\": \"Electronics\", \"price\": 699, \"quantity\": 1, \"details\": {\"brand\": \"GoPro\", \"color\": \"White\"}}], \"order_status\": \"Shipped\"}"
        ],
        [
         "5",
         "{\"item_id\":5,\"name\":\"Tablet\",\"category\":\"Electronics\",\"price\":399,\"quantity\":1,\"details\":{\"brand\":\"Microsoft\",\"color\":\"Silver\"}}",
         null,
         "{\"order_id\": 76, \"customer_id\": 3295, \"order_date\": \"2025-01-06\", \"transaction_timestamp\": \"2025-01-06 02:54:39\", \"total_amount\": 399, \"payment_method\": \"Bank Transfer\", \"items\": [{\"item_id\": 5, \"name\": \"Tablet\", \"category\": \"Electronics\", \"price\": 399, \"quantity\": 1, \"details\": {\"brand\": \"Microsoft\", \"color\": \"Silver\"}}], \"order_status\": \"Completed\"}"
        ],
        [
         "5",
         "{\"item_id\":5,\"name\":\"Tablet\",\"category\":\"Electronics\",\"price\":399,\"quantity\":2,\"details\":{\"brand\":\"Dell\",\"color\":\"White\"}}",
         null,
         "{\"order_id\": 78, \"customer_id\": 9084, \"order_date\": \"2025-01-21\", \"transaction_timestamp\": \"2025-01-21 11:42:51\", \"total_amount\": 798, \"payment_method\": \"PayPal\", \"items\": [{\"item_id\": 5, \"name\": \"Tablet\", \"category\": \"Electronics\", \"price\": 399, \"quantity\": 2, \"details\": {\"brand\": \"Dell\", \"color\": \"White\"}}], \"order_status\": \"Cancelled\"}"
        ],
        [
         "8",
         "{\"item_id\":8,\"name\":\"Gaming Console\",\"category\":\"Electronics\",\"price\":499,\"quantity\":2,\"details\":{\"brand\":\"Dell\",\"color\":\"Gray\"}}",
         null,
         "{\"order_id\": 79, \"customer_id\": 9084, \"order_date\": \"2025-01-25\", \"transaction_timestamp\": \"2025-01-25 03:52:05\", \"total_amount\": 998, \"payment_method\": \"Credit Card\", \"items\": [{\"item_id\": 8, \"name\": \"Gaming Console\", \"category\": \"Electronics\", \"price\": 499, \"quantity\": 2, \"details\": {\"brand\": \"Dell\", \"color\": \"Gray\"}}], \"order_status\": \"Cancelled\"}"
        ],
        [
         "7",
         "{\"item_id\":7,\"name\":\"External Hard Drive\",\"category\":\"Electronics\",\"price\":129,\"quantity\":3,\"details\":{\"brand\":\"Canon\",\"color\":\"Gray\"}}",
         "{\"item_id\":3,\"name\":\"Wireless Headphones\",\"category\":\"Electronics\",\"price\":199,\"quantity\":2,\"details\":{\"brand\":\"Sony\",\"color\":\"Black\"}}",
         "{\"order_id\": 83, \"customer_id\": 2344, \"order_date\": \"2025-01-07\", \"transaction_timestamp\": \"2025-01-07 12:48:05\", \"total_amount\": 785, \"payment_method\": \"PayPal\", \"items\": [{\"item_id\": 7, \"name\": \"External Hard Drive\", \"category\": \"Electronics\", \"price\": 129, \"quantity\": 3, \"details\": {\"brand\": \"Canon\", \"color\": \"Gray\"}}, {\"item_id\": 3, \"name\": \"Wireless Headphones\", \"category\": \"Electronics\", \"price\": 199, \"quantity\": 2, \"details\": {\"brand\": \"Sony\", \"color\": \"Black\"}}], \"order_status\": \"Shipped\"}"
        ],
        [
         "7",
         "{\"item_id\":7,\"name\":\"External Hard Drive\",\"category\":\"Electronics\",\"price\":129,\"quantity\":1,\"details\":{\"brand\":\"Apple\",\"color\":\"Blue\"}}",
         null,
         "{\"order_id\": 87, \"customer_id\": 2141, \"order_date\": \"2025-01-02\", \"transaction_timestamp\": \"2025-01-02 04:28:38\", \"total_amount\": 129, \"payment_method\": \"PayPal\", \"items\": [{\"item_id\": 7, \"name\": \"External Hard Drive\", \"category\": \"Electronics\", \"price\": 129, \"quantity\": 1, \"details\": {\"brand\": \"Apple\", \"color\": \"Blue\"}}], \"order_status\": \"Pending\"}"
        ],
        [
         "7",
         "{\"item_id\":7,\"name\":\"External Hard Drive\",\"category\":\"Electronics\",\"price\":129,\"quantity\":1,\"details\":{\"brand\":\"Canon\",\"color\":\"White\"}}",
         "{\"item_id\":7,\"name\":\"External Hard Drive\",\"category\":\"Electronics\",\"price\":129,\"quantity\":1,\"details\":{\"brand\":\"Samsung\",\"color\":\"Black\"}}",
         "{\"order_id\": 90, \"customer_id\": 9247, \"order_date\": \"2025-01-17\", \"transaction_timestamp\": \"2025-01-17 14:30:54\", \"total_amount\": 258, \"payment_method\": \"Credit Card\", \"items\": [{\"item_id\": 7, \"name\": \"External Hard Drive\", \"category\": \"Electronics\", \"price\": 129, \"quantity\": 1, \"details\": {\"brand\": \"Canon\", \"color\": \"White\"}}, {\"item_id\": 7, \"name\": \"External Hard Drive\", \"category\": \"Electronics\", \"price\": 129, \"quantity\": 1, \"details\": {\"brand\": \"Samsung\", \"color\": \"Black\"}}], \"order_status\": \"Pending\"}"
        ],
        [
         "6",
         "{\"item_id\":6,\"name\":\"Bluetooth Speaker\",\"category\":\"Electronics\",\"price\":149,\"quantity\":2,\"details\":{\"brand\":\"Sony\",\"color\":\"Black\"}}",
         "{\"item_id\":3,\"name\":\"Wireless Headphones\",\"category\":\"Electronics\",\"price\":199,\"quantity\":3,\"details\":{\"brand\":\"Apple\",\"color\":\"Blue\"}}",
         "{\"order_id\": 94, \"customer_id\": 6627, \"order_date\": \"2025-01-10\", \"transaction_timestamp\": \"2025-01-10 09:51:48\", \"total_amount\": 895, \"payment_method\": \"Credit Card\", \"items\": [{\"item_id\": 6, \"name\": \"Bluetooth Speaker\", \"category\": \"Electronics\", \"price\": 149, \"quantity\": 2, \"details\": {\"brand\": \"Sony\", \"color\": \"Black\"}}, {\"item_id\": 3, \"name\": \"Wireless Headphones\", \"category\": \"Electronics\", \"price\": 199, \"quantity\": 3, \"details\": {\"brand\": \"Apple\", \"color\": \"Blue\"}}], \"order_status\": \"Pending\"}"
        ],
        [
         "7",
         "{\"item_id\":7,\"name\":\"External Hard Drive\",\"category\":\"Electronics\",\"price\":129,\"quantity\":3,\"details\":{\"brand\":\"HP\",\"color\":\"Blue\"}}",
         "{\"item_id\":4,\"name\":\"Smartwatch\",\"category\":\"Electronics\",\"price\":299,\"quantity\":2,\"details\":{\"brand\":\"Samsung\",\"color\":\"Gray\"}}",
         "{\"order_id\": 98, \"customer_id\": 9150, \"order_date\": \"2025-01-08\", \"transaction_timestamp\": \"2025-01-08 05:57:55\", \"total_amount\": 985, \"payment_method\": \"Credit Card\", \"items\": [{\"item_id\": 7, \"name\": \"External Hard Drive\", \"category\": \"Electronics\", \"price\": 129, \"quantity\": 3, \"details\": {\"brand\": \"HP\", \"color\": \"Blue\"}}, {\"item_id\": 4, \"name\": \"Smartwatch\", \"category\": \"Electronics\", \"price\": 299, \"quantity\": 2, \"details\": {\"brand\": \"Samsung\", \"color\": \"Gray\"}}], \"order_status\": \"Completed\"}"
        ],
        [
         "1",
         "{\"item_id\":1,\"name\":\"Smartphone\",\"category\":\"Electronics\",\"price\":699,\"quantity\":1,\"details\":{\"brand\":\"Bose\",\"color\":\"Gray\"}}",
         null,
         "{\"order_id\": 99, \"customer_id\": 9150, \"order_date\": \"2025-01-10\", \"transaction_timestamp\": \"2025-01-10 21:43:46\", \"total_amount\": 699, \"payment_method\": \"Credit Card\", \"items\": [{\"item_id\": 1, \"name\": \"Smartphone\", \"category\": \"Electronics\", \"price\": 699, \"quantity\": 1, \"details\": {\"brand\": \"Bose\", \"color\": \"Gray\"}}], \"order_status\": \"Shipped\"}"
        ],
        [
         "6",
         "{\"item_id\":6,\"name\":\"Bluetooth Speaker\",\"category\":\"Electronics\",\"price\":149,\"quantity\":3,\"details\":{\"brand\":\"LG\",\"color\":\"Silver\"}}",
         null,
         "{\"order_id\": 100, \"customer_id\": 9150, \"order_date\": \"2025-01-04\", \"transaction_timestamp\": \"2025-01-04 06:40:13\", \"total_amount\": 447, \"payment_method\": \"PayPal\", \"items\": [{\"item_id\": 6, \"name\": \"Bluetooth Speaker\", \"category\": \"Electronics\", \"price\": 149, \"quantity\": 3, \"details\": {\"brand\": \"LG\", \"color\": \"Silver\"}}], \"order_status\": \"Shipped\"}"
        ],
        [
         "2",
         "{\"item_id\":2,\"name\":\"Laptop\",\"category\":\"Electronics\",\"price\":999,\"quantity\":1,\"details\":{\"brand\":\"Sony\",\"color\":\"White\"}}",
         null,
         "{\"order_id\": 12, \"customer_id\": 5816, \"order_date\": \"2024-12-06\", \"transaction_timestamp\": \"2024-12-06 20:26:49\", \"total_amount\": 999, \"payment_method\": \"PayPal\", \"items\": [{\"item_id\": 2, \"name\": \"Laptop\", \"category\": \"Electronics\", \"price\": 999, \"quantity\": 1, \"details\": {\"brand\": \"Sony\", \"color\": \"White\"}}], \"order_status\": \"Cancelled\"}"
        ],
        [
         "2",
         "{\"item_id\":2,\"name\":\"Laptop\",\"category\":\"Electronics\",\"price\":999,\"quantity\":1,\"details\":{\"brand\":\"GoPro\",\"color\":\"Black\"}}",
         null,
         "{\"order_id\": 13, \"customer_id\": 4858, \"order_date\": \"2024-12-17\", \"transaction_timestamp\": \"2024-12-17 03:41:37\", \"total_amount\": 999, \"payment_method\": \"PayPal\", \"items\": [{\"item_id\": 2, \"name\": \"Laptop\", \"category\": \"Electronics\", \"price\": 999, \"quantity\": 1, \"details\": {\"brand\": \"GoPro\", \"color\": \"Black\"}}], \"order_status\": \"Pending\"}"
        ],
        [
         "3",
         "{\"item_id\":3,\"name\":\"Wireless Headphones\",\"category\":\"Electronics\",\"price\":199,\"quantity\":3,\"details\":{\"brand\":\"Sony\",\"color\":\"Silver\"}}",
         null,
         "{\"order_id\": 16, \"customer_id\": 5204, \"order_date\": \"2024-12-08\", \"transaction_timestamp\": \"2024-12-08 22:59:48\", \"total_amount\": 597, \"payment_method\": \"Bank Transfer\", \"items\": [{\"item_id\": 3, \"name\": \"Wireless Headphones\", \"category\": \"Electronics\", \"price\": 199, \"quantity\": 3, \"details\": {\"brand\": \"Sony\", \"color\": \"Silver\"}}], \"order_status\": \"Pending\"}"
        ],
        [
         "8",
         "{\"item_id\":8,\"name\":\"Gaming Console\",\"category\":\"Electronics\",\"price\":499,\"quantity\":2,\"details\":{\"brand\":\"Dell\",\"color\":\"Black\"}}",
         null,
         "{\"order_id\": 17, \"customer_id\": 5204, \"order_date\": \"2024-12-02\", \"transaction_timestamp\": \"2024-12-02 12:00:50\", \"total_amount\": 998, \"payment_method\": \"Bank Transfer\", \"items\": [{\"item_id\": 8, \"name\": \"Gaming Console\", \"category\": \"Electronics\", \"price\": 499, \"quantity\": 2, \"details\": {\"brand\": \"Dell\", \"color\": \"Black\"}}], \"order_status\": \"Pending\"}"
        ],
        [
         "9",
         "{\"item_id\":9,\"name\":\"Smart TV\",\"category\":\"Electronics\",\"price\":1199,\"quantity\":1,\"details\":{\"brand\":\"GoPro\",\"color\":\"Gray\"}}",
         null,
         "{\"order_id\": 24, \"customer_id\": 1211, \"order_date\": \"2024-12-21\", \"transaction_timestamp\": \"2024-12-21 03:24:26\", \"total_amount\": 1199, \"payment_method\": \"PayPal\", \"items\": [{\"item_id\": 9, \"name\": \"Smart TV\", \"category\": \"Electronics\", \"price\": 1199, \"quantity\": 1, \"details\": {\"brand\": \"GoPro\", \"color\": \"Gray\"}}], \"order_status\": \"Completed\"}"
        ],
        [
         "7",
         "{\"item_id\":7,\"name\":\"External Hard Drive\",\"category\":\"Electronics\",\"price\":129,\"quantity\":2,\"details\":{\"brand\":\"Dell\",\"color\":\"White\"}}",
         "{\"item_id\":6,\"name\":\"Bluetooth Speaker\",\"category\":\"Electronics\",\"price\":149,\"quantity\":3,\"details\":{\"brand\":\"Canon\",\"color\":\"Black\"}}",
         "{\"order_id\": 27, \"customer_id\": 2703, \"order_date\": \"2024-12-02\", \"transaction_timestamp\": \"2024-12-02 11:24:21\", \"total_amount\": 904, \"payment_method\": \"Credit Card\", \"items\": [{\"item_id\": 7, \"name\": \"External Hard Drive\", \"category\": \"Electronics\", \"price\": 129, \"quantity\": 2, \"details\": {\"brand\": \"Dell\", \"color\": \"White\"}}, {\"item_id\": 6, \"name\": \"Bluetooth Speaker\", \"category\": \"Electronics\", \"price\": 149, \"quantity\": 3, \"details\": {\"brand\": \"Canon\", \"color\": \"Black\"}}, {\"item_id\": 3, \"name\": \"Wireless Headphones\", \"category\": \"Electronics\", \"price\": 199, \"quantity\": 1, \"details\": {\"brand\": \"Microsoft\", \"color\": \"Silver\"}}], \"order_status\": \"Completed\"}"
        ],
        [
         "7",
         "{\"item_id\":7,\"name\":\"External Hard Drive\",\"category\":\"Electronics\",\"price\":129,\"quantity\":1,\"details\":{\"brand\":\"GoPro\",\"color\":\"Blue\"}}",
         null,
         "{\"order_id\": 28, \"customer_id\": 2703, \"order_date\": \"2024-12-26\", \"transaction_timestamp\": \"2024-12-26 03:17:50\", \"total_amount\": 129, \"payment_method\": \"Credit Card\", \"items\": [{\"item_id\": 7, \"name\": \"External Hard Drive\", \"category\": \"Electronics\", \"price\": 129, \"quantity\": 1, \"details\": {\"brand\": \"GoPro\", \"color\": \"Blue\"}}], \"order_status\": \"Cancelled\"}"
        ],
        [
         "5",
         "{\"item_id\":5,\"name\":\"Tablet\",\"category\":\"Electronics\",\"price\":399,\"quantity\":1,\"details\":{\"brand\":\"Apple\",\"color\":\"Silver\"}}",
         null,
         "{\"order_id\": 32, \"customer_id\": 4996, \"order_date\": \"2024-12-28\", \"transaction_timestamp\": \"2024-12-28 08:55:57\", \"total_amount\": 399, \"payment_method\": \"PayPal\", \"items\": [{\"item_id\": 5, \"name\": \"Tablet\", \"category\": \"Electronics\", \"price\": 399, \"quantity\": 1, \"details\": {\"brand\": \"Apple\", \"color\": \"Silver\"}}], \"order_status\": \"Pending\"}"
        ],
        [
         "7",
         "{\"item_id\":7,\"name\":\"External Hard Drive\",\"category\":\"Electronics\",\"price\":129,\"quantity\":2,\"details\":{\"brand\":\"HP\",\"color\":\"Silver\"}}",
         null,
         "{\"order_id\": 37, \"customer_id\": 7829, \"order_date\": \"2024-12-22\", \"transaction_timestamp\": \"2024-12-22 10:11:49\", \"total_amount\": 258, \"payment_method\": \"Credit Card\", \"items\": [{\"item_id\": 7, \"name\": \"External Hard Drive\", \"category\": \"Electronics\", \"price\": 129, \"quantity\": 2, \"details\": {\"brand\": \"HP\", \"color\": \"Silver\"}}], \"order_status\": \"Shipped\"}"
        ],
        [
         "6",
         "{\"item_id\":6,\"name\":\"Bluetooth Speaker\",\"category\":\"Electronics\",\"price\":149,\"quantity\":3,\"details\":{\"brand\":\"Apple\",\"color\":\"Gray\"}}",
         null,
         "{\"order_id\": 38, \"customer_id\": 7829, \"order_date\": \"2024-12-25\", \"transaction_timestamp\": \"2024-12-25 22:05:19\", \"total_amount\": 447, \"payment_method\": \"Credit Card\", \"items\": [{\"item_id\": 6, \"name\": \"Bluetooth Speaker\", \"category\": \"Electronics\", \"price\": 149, \"quantity\": 3, \"details\": {\"brand\": \"Apple\", \"color\": \"Gray\"}}], \"order_status\": \"Shipped\"}"
        ],
        [
         "7",
         "{\"item_id\":7,\"name\":\"External Hard Drive\",\"category\":\"Electronics\",\"price\":129,\"quantity\":1,\"details\":{\"brand\":\"Bose\",\"color\":\"Blue\"}}",
         null,
         "{\"order_id\": 44, \"customer_id\": 7295, \"order_date\": \"2024-12-20\", \"transaction_timestamp\": \"2024-12-20 08:05:43\", \"total_amount\": 129, \"payment_method\": \"Credit Card\", \"items\": [{\"item_id\": 7, \"name\": \"External Hard Drive\", \"category\": \"Electronics\", \"price\": 129, \"quantity\": 1, \"details\": {\"brand\": \"Bose\", \"color\": \"Blue\"}}], \"order_status\": \"Completed\"}"
        ],
        [
         "4",
         "{\"item_id\":4,\"name\":\"Smartwatch\",\"category\":\"Electronics\",\"price\":299,\"quantity\":1,\"details\":{\"brand\":\"HP\",\"color\":\"White\"}}",
         "{\"item_id\":4,\"name\":\"Smartwatch\",\"category\":\"Electronics\",\"price\":299,\"quantity\":1,\"details\":{\"brand\":\"Canon\",\"color\":\"Blue\"}}",
         "{\"order_id\": 49, \"customer_id\": 7803, \"order_date\": \"2024-12-07\", \"transaction_timestamp\": \"2024-12-07 23:24:11\", \"total_amount\": 747, \"payment_method\": \"PayPal\", \"items\": [{\"item_id\": 4, \"name\": \"Smartwatch\", \"category\": \"Electronics\", \"price\": 299, \"quantity\": 1, \"details\": {\"brand\": \"HP\", \"color\": \"White\"}}, {\"item_id\": 4, \"name\": \"Smartwatch\", \"category\": \"Electronics\", \"price\": 299, \"quantity\": 1, \"details\": {\"brand\": \"Canon\", \"color\": \"Blue\"}}, {\"item_id\": 6, \"name\": \"Bluetooth Speaker\", \"category\": \"Electronics\", \"price\": 149, \"quantity\": 1, \"details\": {\"brand\": \"Samsung\", \"color\": \"White\"}}], \"order_status\": \"Cancelled\"}"
        ],
        [
         "3",
         "{\"item_id\":3,\"name\":\"Wireless Headphones\",\"category\":\"Electronics\",\"price\":199,\"quantity\":2,\"details\":{\"brand\":\"Bose\",\"color\":\"Gray\"}}",
         null,
         "{\"order_id\": 54, \"customer_id\": 2054, \"order_date\": \"2024-12-20\", \"transaction_timestamp\": \"2024-12-20 12:04:27\", \"total_amount\": 398, \"payment_method\": \"Credit Card\", \"items\": [{\"item_id\": 3, \"name\": \"Wireless Headphones\", \"category\": \"Electronics\", \"price\": 199, \"quantity\": 2, \"details\": {\"brand\": \"Bose\", \"color\": \"Gray\"}}], \"order_status\": \"Pending\"}"
        ],
        [
         "1",
         "{\"item_id\":1,\"name\":\"Smartphone\",\"category\":\"Electronics\",\"price\":699,\"quantity\":1,\"details\":{\"brand\":\"Microsoft\",\"color\":\"Gray\"}}",
         null,
         "{\"order_id\": 58, \"customer_id\": 8580, \"order_date\": \"2024-12-09\", \"transaction_timestamp\": \"2024-12-09 22:40:58\", \"total_amount\": 699, \"payment_method\": \"PayPal\", \"items\": [{\"item_id\": 1, \"name\": \"Smartphone\", \"category\": \"Electronics\", \"price\": 699, \"quantity\": 1, \"details\": {\"brand\": \"Microsoft\", \"color\": \"Gray\"}}], \"order_status\": \"Completed\"}"
        ],
        [
         "3",
         "{\"item_id\":3,\"name\":\"Wireless Headphones\",\"category\":\"Electronics\",\"price\":199,\"quantity\":1,\"details\":{\"brand\":\"Samsung\",\"color\":\"Blue\"}}",
         null,
         "{\"order_id\": 60, \"customer_id\": 3409, \"order_date\": \"2024-12-13\", \"transaction_timestamp\": \"2024-12-13 13:10:12\", \"total_amount\": 199, \"payment_method\": \"Bank Transfer\", \"items\": [{\"item_id\": 3, \"name\": \"Wireless Headphones\", \"category\": \"Electronics\", \"price\": 199, \"quantity\": 1, \"details\": {\"brand\": \"Samsung\", \"color\": \"Blue\"}}], \"order_status\": \"Shipped\"}"
        ],
        [
         "1",
         "{\"item_id\":1,\"name\":\"Smartphone\",\"category\":\"Electronics\",\"price\":699,\"quantity\":1,\"details\":{\"brand\":\"Canon\",\"color\":\"Black\"}}",
         null,
         "{\"order_id\": 61, \"customer_id\": 7123, \"order_date\": \"2024-12-07\", \"transaction_timestamp\": \"2024-12-07 07:47:19\", \"total_amount\": 699, \"payment_method\": \"Bank Transfer\", \"items\": [{\"item_id\": 1, \"name\": \"Smartphone\", \"category\": \"Electronics\", \"price\": 699, \"quantity\": 1, \"details\": {\"brand\": \"Canon\", \"color\": \"Black\"}}], \"order_status\": \"Completed\"}"
        ],
        [
         "5",
         "{\"item_id\":5,\"name\":\"Tablet\",\"category\":\"Electronics\",\"price\":399,\"quantity\":1,\"details\":{\"brand\":\"Microsoft\",\"color\":\"Gray\"}}",
         null,
         "{\"order_id\": 65, \"customer_id\": 3084, \"order_date\": \"2024-12-09\", \"transaction_timestamp\": \"2024-12-09 13:04:13\", \"total_amount\": 399, \"payment_method\": \"Bank Transfer\", \"items\": [{\"item_id\": 5, \"name\": \"Tablet\", \"category\": \"Electronics\", \"price\": 399, \"quantity\": 1, \"details\": {\"brand\": \"Microsoft\", \"color\": \"Gray\"}}], \"order_status\": \"Cancelled\"}"
        ],
        [
         "4",
         "{\"item_id\":4,\"name\":\"Smartwatch\",\"category\":\"Electronics\",\"price\":299,\"quantity\":3,\"details\":{\"brand\":\"LG\",\"color\":\"Blue\"}}",
         null,
         "{\"order_id\": 67, \"customer_id\": 3084, \"order_date\": \"2024-12-19\", \"transaction_timestamp\": \"2024-12-19 07:11:09\", \"total_amount\": 897, \"payment_method\": \"PayPal\", \"items\": [{\"item_id\": 4, \"name\": \"Smartwatch\", \"category\": \"Electronics\", \"price\": 299, \"quantity\": 3, \"details\": {\"brand\": \"LG\", \"color\": \"Blue\"}}], \"order_status\": \"Shipped\"}"
        ],
        [
         "1",
         "{\"item_id\":1,\"name\":\"Smartphone\",\"category\":\"Electronics\",\"price\":699,\"quantity\":1,\"details\":{\"brand\":\"Dell\",\"color\":\"Gray\"}}",
         null,
         "{\"order_id\": 69, \"customer_id\": 4973, \"order_date\": \"2024-12-30\", \"transaction_timestamp\": \"2024-12-30 02:42:01\", \"total_amount\": 699, \"payment_method\": \"Bank Transfer\", \"items\": [{\"item_id\": 1, \"name\": \"Smartphone\", \"category\": \"Electronics\", \"price\": 699, \"quantity\": 1, \"details\": {\"brand\": \"Dell\", \"color\": \"Gray\"}}], \"order_status\": \"Completed\"}"
        ],
        [
         "4",
         "{\"item_id\":4,\"name\":\"Smartwatch\",\"category\":\"Electronics\",\"price\":299,\"quantity\":3,\"details\":{\"brand\":\"Sony\",\"color\":\"Black\"}}",
         null,
         "{\"order_id\": 70, \"customer_id\": 7997, \"order_date\": \"2024-12-04\", \"transaction_timestamp\": \"2024-12-04 17:17:24\", \"total_amount\": 897, \"payment_method\": \"PayPal\", \"items\": [{\"item_id\": 4, \"name\": \"Smartwatch\", \"category\": \"Electronics\", \"price\": 299, \"quantity\": 3, \"details\": {\"brand\": \"Sony\", \"color\": \"Black\"}}], \"order_status\": \"Shipped\"}"
        ],
        [
         null,
         null,
         null,
         "{\"order_id\": 71, \"customer_id\": 7997, \"order_date\": 2024-12-27, \"transaction_timestamp\": \"2024-12-27 11:16:39\", \"total_amount\": 199, \"payment_method\": \"Bank Transfer\", \"items\": [{\"item_id\": 3, \"name\": \"Wireless Headphones\", \"category\": \"Electronics\", \"price\": 199, \"quantity\": 1, \"details\": {\"brand\": \"Microsoft\", \"color\": \"Black\"}}], \"order_status\": \"Completed\"}"
        ],
        [
         "1",
         "{\"item_id\":1,\"name\":\"Smartphone\",\"category\":\"Electronics\",\"price\":699,\"quantity\":1,\"details\":{\"brand\":\"Samsung\",\"color\":\"Blue\"}}",
         null,
         "{\"order_id\": 74, \"customer_id\": 6167, \"order_date\": \"2024-12-22\", \"transaction_timestamp\": \"2024-12-22 15:54:11\", \"total_amount\": 699, \"payment_method\": \"PayPal\", \"items\": [{\"item_id\": 1, \"name\": \"Smartphone\", \"category\": \"Electronics\", \"price\": 699, \"quantity\": 1, \"details\": {\"brand\": \"Samsung\", \"color\": \"Blue\"}}], \"order_status\": \"Pending\"}"
        ],
        [
         "8",
         "{\"item_id\":8,\"name\":\"Gaming Console\",\"category\":\"Electronics\",\"price\":499,\"quantity\":2,\"details\":{\"brand\":\"Samsung\",\"color\":\"White\"}}",
         null,
         "{\"order_id\": 80, \"customer_id\": 9687, \"order_date\": \"2024-12-11\", \"transaction_timestamp\": \"2024-12-11 07:43:54\", \"total_amount\": 998, \"payment_method\": \"Bank Transfer\", \"items\": [{\"item_id\": 8, \"name\": \"Gaming Console\", \"category\": \"Electronics\", \"price\": 499, \"quantity\": 2, \"details\": {\"brand\": \"Samsung\", \"color\": \"White\"}}], \"order_status\": \"Cancelled\"}"
        ],
        [
         "1",
         "{\"item_id\":1,\"name\":\"Smartphone\",\"category\":\"Electronics\",\"price\":699,\"quantity\":1,\"details\":{\"brand\":\"GoPro\",\"color\":\"Blue\"}}",
         null,
         "{\"order_id\": 81, \"customer_id\": 9687, \"order_date\": \"2024-12-27\", \"transaction_timestamp\": \"2024-12-27 02:27:45\", \"total_amount\": 699, \"payment_method\": \"PayPal\", \"items\": [{\"item_id\": 1, \"name\": \"Smartphone\", \"category\": \"Electronics\", \"price\": 699, \"quantity\": 1, \"details\": {\"brand\": \"GoPro\", \"color\": \"Blue\"}}], \"order_status\": \"Completed\"}"
        ],
        [
         "7",
         "{\"item_id\":7,\"name\":\"External Hard Drive\",\"category\":\"Electronics\",\"price\":129,\"quantity\":3,\"details\":{\"brand\":\"Sony\",\"color\":\"Blue\"}}",
         null,
         "{\"order_id\": 82, \"customer_id\": 2344, \"order_date\": \"2024-12-28\", \"transaction_timestamp\": \"2024-12-28 00:54:08\", \"total_amount\": 387, \"payment_method\": \"PayPal\", \"items\": [{\"item_id\": 7, \"name\": \"External Hard Drive\", \"category\": \"Electronics\", \"price\": 129, \"quantity\": 3, \"details\": {\"brand\": \"Sony\", \"color\": \"Blue\"}}], \"order_status\": \"Completed\"}"
        ],
        [
         "1",
         "{\"item_id\":1,\"name\":\"Smartphone\",\"category\":\"Electronics\",\"price\":699,\"quantity\":1,\"details\":{\"brand\":\"Canon\",\"color\":\"Silver\"}}",
         null,
         "{\"order_id\": 91, \"customer_id\": 5592, \"order_date\": \"2024-12-17\", \"transaction_timestamp\": \"2024-12-17 00:09:53\", \"total_amount\": 699, \"payment_method\": \"Bank Transfer\", \"items\": [{\"item_id\": 1, \"name\": \"Smartphone\", \"category\": \"Electronics\", \"price\": 699, \"quantity\": 1, \"details\": {\"brand\": \"Canon\", \"color\": \"Silver\"}}], \"order_status\": \"Cancelled\"}"
        ],
        [
         "4",
         "{\"item_id\":4,\"name\":\"Smartwatch\",\"category\":\"Electronics\",\"price\":299,\"quantity\":2,\"details\":{\"brand\":\"LG\",\"color\":\"Silver\"}}",
         null,
         "{\"order_id\": 93, \"customer_id\": 6627, \"order_date\": \"2024-12-22\", \"transaction_timestamp\": \"2024-12-22 05:07:46\", \"total_amount\": 598, \"payment_method\": \"PayPal\", \"items\": [{\"item_id\": 4, \"name\": \"Smartwatch\", \"category\": \"Electronics\", \"price\": 299, \"quantity\": 2, \"details\": {\"brand\": \"LG\", \"color\": \"Silver\"}}], \"order_status\": \"Pending\"}"
        ],
        [
         "4",
         "{\"item_id\":4,\"name\":\"Smartwatch\",\"category\":\"Electronics\",\"price\":299,\"quantity\":2,\"details\":{\"brand\":\"GoPro\",\"color\":\"White\"}}",
         "{\"item_id\":3,\"name\":\"Wireless Headphones\",\"category\":\"Electronics\",\"price\":199,\"quantity\":1,\"details\":{\"brand\":\"Bose\",\"color\":\"Gray\"}}",
         "{\"order_id\": 95, \"customer_id\": 6627, \"order_date\": \"2024-12-28\", \"transaction_timestamp\": \"2024-12-28 04:28:30\", \"total_amount\": 946, \"payment_method\": \"Bank Transfer\", \"items\": [{\"item_id\": 4, \"name\": \"Smartwatch\", \"category\": \"Electronics\", \"price\": 299, \"quantity\": 2, \"details\": {\"brand\": \"GoPro\", \"color\": \"White\"}}, {\"item_id\": 3, \"name\": \"Wireless Headphones\", \"category\": \"Electronics\", \"price\": 199, \"quantity\": 1, \"details\": {\"brand\": \"Bose\", \"color\": \"Gray\"}}, {\"item_id\": 6, \"name\": \"Bluetooth Speaker\", \"category\": \"Electronics\", \"price\": 149, \"quantity\": 1, \"details\": {\"brand\": \"Dell\", \"color\": \"Silver\"}}], \"order_status\": \"Completed\"}"
        ],
        [
         "6",
         "{\"item_id\":6,\"name\":\"Bluetooth Speaker\",\"category\":\"Electronics\",\"price\":149,\"quantity\":1,\"details\":{\"brand\":\"Microsoft\",\"color\":\"Black\"}}",
         null,
         "{\"order_id\": 96, \"customer_id\": 6406, \"order_date\": \"2024-12-02\", \"transaction_timestamp\": \"2024-12-02 12:27:45\", \"total_amount\": 149, \"payment_method\": \"PayPal\", \"items\": [{\"item_id\": 6, \"name\": \"Bluetooth Speaker\", \"category\": \"Electronics\", \"price\": 149, \"quantity\": 1, \"details\": {\"brand\": \"Microsoft\", \"color\": \"Black\"}}], \"order_status\": \"Shipped\"}"
        ],
        [
         "8",
         "{\"item_id\":8,\"name\":\"Gaming Console\",\"category\":\"Electronics\",\"price\":499,\"quantity\":1,\"details\":{\"brand\":\"Sony\",\"color\":\"Silver\"}}",
         null,
         "{\"order_id\": 97, \"customer_id\": 6406, \"order_date\": \"2024-12-07\", \"transaction_timestamp\": \"2024-12-07 16:14:34\", \"total_amount\": 499, \"payment_method\": \"Bank Transfer\", \"items\": [{\"item_id\": 8, \"name\": \"Gaming Console\", \"category\": \"Electronics\", \"price\": 499, \"quantity\": 1, \"details\": {\"brand\": \"Sony\", \"color\": \"Silver\"}}], \"order_status\": \"Completed\"}"
        ],
        [
         "8",
         "{\"item_id\":8,\"name\":\"Gaming Console\",\"category\":\"Electronics\",\"price\":499,\"quantity\":2,\"details\":{\"brand\":\"Dell\",\"color\":\"Blue\"}}",
         null,
         "{\"order_id\": 5, \"customer_id\": 3892, \"order_date\": \"2024-11-16\", \"transaction_timestamp\": \"2024-11-16 23:07:31\", \"total_amount\": 998, \"payment_method\": \"Bank Transfer\", \"items\": [{\"item_id\": 8, \"name\": \"Gaming Console\", \"category\": \"Electronics\", \"price\": 499, \"quantity\": 2, \"details\": {\"brand\": \"Dell\", \"color\": \"Blue\"}}], \"order_status\": \"Cancelled\"}"
        ],
        [
         "7",
         "{\"item_id\":7,\"name\":\"External Hard Drive\",\"category\":\"Electronics\",\"price\":129,\"quantity\":2,\"details\":{\"brand\":\"LG\",\"color\":\"Blue\"}}",
         "{\"item_id\":7,\"name\":\"External Hard Drive\",\"category\":\"Electronics\",\"price\":129,\"quantity\":3,\"details\":{\"brand\":\"HP\",\"color\":\"Gray\"}}",
         "{\"order_id\": 7, \"customer_id\": 1987, \"order_date\": \"2024-11-19\", \"transaction_timestamp\": \"2024-11-19 19:18:48\", \"total_amount\": 645, \"payment_method\": \"Credit Card\", \"items\": [{\"item_id\": 7, \"name\": \"External Hard Drive\", \"category\": \"Electronics\", \"price\": 129, \"quantity\": 2, \"details\": {\"brand\": \"LG\", \"color\": \"Blue\"}}, {\"item_id\": 7, \"name\": \"External Hard Drive\", \"category\": \"Electronics\", \"price\": 129, \"quantity\": 3, \"details\": {\"brand\": \"HP\", \"color\": \"Gray\"}}], \"order_status\": \"Pending\"}"
        ],
        [
         "2",
         "{\"item_id\":2,\"name\":\"Laptop\",\"category\":\"Electronics\",\"price\":999,\"quantity\":1,\"details\":{\"brand\":\"Apple\",\"color\":\"Black\"}}",
         null,
         "{\"order_id\": 9, \"customer_id\": 9179, \"order_date\": \"2024-11-27\", \"transaction_timestamp\": \"2024-11-27 13:15:29\", \"total_amount\": 999, \"payment_method\": \"Bank Transfer\", \"items\": [{\"item_id\": 2, \"name\": \"Laptop\", \"category\": \"Electronics\", \"price\": 999, \"quantity\": 1, \"details\": {\"brand\": \"Apple\", \"color\": \"Black\"}}], \"order_status\": \"Shipped\"}"
        ],
        [
         "5",
         "{\"item_id\":5,\"name\":\"Tablet\",\"category\":\"Electronics\",\"price\":399,\"quantity\":2,\"details\":{\"brand\":\"Sony\",\"color\":\"Silver\"}}",
         null,
         "{\"order_id\": 20, \"customer_id\": 8539, \"order_date\": \"2024-11-18\", \"transaction_timestamp\": \"2024-11-18 02:38:21\", \"total_amount\": 798, \"payment_method\": \"PayPal\", \"items\": [{\"item_id\": 5, \"name\": \"Tablet\", \"category\": \"Electronics\", \"price\": 399, \"quantity\": 2, \"details\": {\"brand\": \"Sony\", \"color\": \"Silver\"}}], \"order_status\": \"Pending\"}"
        ],
        [
         "6",
         "{\"item_id\":6,\"name\":\"Bluetooth Speaker\",\"category\":\"Electronics\",\"price\":149,\"quantity\":2,\"details\":{\"brand\":\"GoPro\",\"color\":\"Blue\"}}",
         null,
         "{\"order_id\": 21, \"customer_id\": 8539, \"order_date\": \"2024-11-21\", \"transaction_timestamp\": \"2024-11-21 11:25:35\", \"total_amount\": 298, \"payment_method\": \"Bank Transfer\", \"items\": [{\"item_id\": 6, \"name\": \"Bluetooth Speaker\", \"category\": \"Electronics\", \"price\": 149, \"quantity\": 2, \"details\": {\"brand\": \"GoPro\", \"color\": \"Blue\"}}], \"order_status\": \"Cancelled\"}"
        ],
        [
         "5",
         "{\"item_id\":5,\"name\":\"Tablet\",\"category\":\"Electronics\",\"price\":399,\"quantity\":1,\"details\":{\"brand\":\"Apple\",\"color\":\"Gray\"}}",
         "{\"item_id\":4,\"name\":\"Smartwatch\",\"category\":\"Electronics\",\"price\":299,\"quantity\":2,\"details\":{\"brand\":\"Dell\",\"color\":\"Gray\"}}",
         "{\"order_id\": 23, \"customer_id\": 4761, \"order_date\": \"2024-11-22\", \"transaction_timestamp\": \"2024-11-22 16:04:05\", \"total_amount\": 997, \"payment_method\": \"PayPal\", \"items\": [{\"item_id\": 5, \"name\": \"Tablet\", \"category\": \"Electronics\", \"price\": 399, \"quantity\": 1, \"details\": {\"brand\": \"Apple\", \"color\": \"Gray\"}}, {\"item_id\": 4, \"name\": \"Smartwatch\", \"category\": \"Electronics\", \"price\": 299, \"quantity\": 2, \"details\": {\"brand\": \"Dell\", \"color\": \"Gray\"}}], \"order_status\": \"Shipped\"}"
        ],
        [
         "2",
         "{\"item_id\":2,\"name\":\"Laptop\",\"category\":\"Electronics\",\"price\":999,\"quantity\":1,\"details\":{\"brand\":\"LG\",\"color\":\"Gray\"}}",
         null,
         "{\"order_id\": 25, \"customer_id\": 9706, \"order_date\": \"2024-11-05\", \"transaction_timestamp\": \"2024-11-05 11:45:31\", \"total_amount\": 999, \"payment_method\": \"PayPal\", \"items\": [{\"item_id\": 2, \"name\": \"Laptop\", \"category\": \"Electronics\", \"price\": 999, \"quantity\": 1, \"details\": {\"brand\": \"LG\", \"color\": \"Gray\"}}], \"order_status\": \"Completed\"}"
        ],
        [
         "3",
         "{\"item_id\":3,\"name\":\"Wireless Headphones\",\"category\":\"Electronics\",\"price\":199,\"quantity\":1,\"details\":{\"brand\":\"GoPro\",\"color\":\"White\"}}",
         null,
         "{\"order_id\": 30, \"customer_id\": 4996, \"order_date\": \"2024-11-12\", \"transaction_timestamp\": \"2024-11-12 03:20:29\", \"total_amount\": 199, \"payment_method\": \"Bank Transfer\", \"items\": [{\"item_id\": 3, \"name\": \"Wireless Headphones\", \"category\": \"Electronics\", \"price\": 199, \"quantity\": 1, \"details\": {\"brand\": \"GoPro\", \"color\": \"White\"}}], \"order_status\": \"Shipped\"}"
        ],
        [
         "3",
         "{\"item_id\":3,\"name\":\"Wireless Headphones\",\"category\":\"Electronics\",\"price\":199,\"quantity\":1,\"details\":{\"brand\":\"Dell\",\"color\":\"Gray\"}}",
         null,
         "{\"order_id\": 35, \"customer_id\": 4914, \"order_date\": \"2024-11-20\", \"transaction_timestamp\": \"2024-11-20 19:09:04\", \"total_amount\": 199, \"payment_method\": \"Bank Transfer\", \"items\": [{\"item_id\": 3, \"name\": \"Wireless Headphones\", \"category\": \"Electronics\", \"price\": 199, \"quantity\": 1, \"details\": {\"brand\": \"Dell\", \"color\": \"Gray\"}}], \"order_status\": \"Shipped\"}"
        ],
        [
         "3",
         "{\"item_id\":3,\"name\":\"Wireless Headphones\",\"category\":\"Electronics\",\"price\":199,\"quantity\":1,\"details\":{\"brand\":\"Canon\",\"color\":\"Silver\"}}",
         null,
         "{\"order_id\": 36, \"customer_id\": 4914, \"order_date\": \"2024-11-02\", \"transaction_timestamp\": \"2024-11-02 10:39:46\", \"total_amount\": 199, \"payment_method\": \"PayPal\", \"items\": [{\"item_id\": 3, \"name\": \"Wireless Headphones\", \"category\": \"Electronics\", \"price\": 199, \"quantity\": 1, \"details\": {\"brand\": \"Canon\", \"color\": \"Silver\"}}], \"order_status\": \"Completed\"}"
        ],
        [
         null,
         null,
         null,
         "{\"order_id\": 42, \"customer_id\": 5028, \"order_date\": 2024-11-08, \"transaction_timestamp\": \"2024-11-08 18:32:25\", \"total_amount\": 149, \"payment_method\": \"Credit Card\", \"items\": [{\"item_id\": 6, \"name\": \"Bluetooth Speaker\", \"category\": \"Electronics\", \"price\": 149, \"quantity\": 1, \"details\": {\"brand\": \"Bose\", \"color\": \"Gray\"}}], \"order_status\": \"Completed\"}"
        ],
        [
         "10",
         "{\"item_id\":10,\"name\":\"Drone\",\"category\":\"Electronics\",\"price\":799,\"quantity\":1,\"details\":{\"brand\":\"Dell\",\"color\":\"White\"}}",
         null,
         "{\"order_id\": 45, \"customer_id\": 7295, \"order_date\": \"2024-11-07\", \"transaction_timestamp\": \"2024-11-07 15:41:43\", \"total_amount\": 799, \"payment_method\": \"Credit Card\", \"items\": [{\"item_id\": 10, \"name\": \"Drone\", \"category\": \"Electronics\", \"price\": 799, \"quantity\": 1, \"details\": {\"brand\": \"Dell\", \"color\": \"White\"}}], \"order_status\": \"Shipped\"}"
        ],
        [
         "3",
         "{\"item_id\":3,\"name\":\"Wireless Headphones\",\"category\":\"Electronics\",\"price\":199,\"quantity\":1,\"details\":{\"brand\":\"Samsung\",\"color\":\"Black\"}}",
         null,
         "{\"order_id\": 46, \"customer_id\": 7295, \"order_date\": \"2024-11-26\", \"transaction_timestamp\": \"2024-11-26 17:16:53\", \"total_amount\": 199, \"payment_method\": \"PayPal\", \"items\": [{\"item_id\": 3, \"name\": \"Wireless Headphones\", \"category\": \"Electronics\", \"price\": 199, \"quantity\": 1, \"details\": {\"brand\": \"Samsung\", \"color\": \"Black\"}}], \"order_status\": \"Pending\"}"
        ],
        [
         "6",
         "{\"item_id\":6,\"name\":\"Bluetooth Speaker\",\"category\":\"Electronics\",\"price\":149,\"quantity\":2,\"details\":{\"brand\":\"LG\",\"color\":\"Blue\"}}",
         null,
         "{\"order_id\": 47, \"customer_id\": 7803, \"order_date\": \"2024-11-22\", \"transaction_timestamp\": \"2024-11-22 02:01:19\", \"total_amount\": 298, \"payment_method\": \"Credit Card\", \"items\": [{\"item_id\": 6, \"name\": \"Bluetooth Speaker\", \"category\": \"Electronics\", \"price\": 149, \"quantity\": 2, \"details\": {\"brand\": \"LG\", \"color\": \"Blue\"}}], \"order_status\": \"Shipped\"}"
        ],
        [
         "7",
         "{\"item_id\":7,\"name\":\"External Hard Drive\",\"category\":\"Electronics\",\"price\":129,\"quantity\":3,\"details\":{\"brand\":\"Apple\",\"color\":\"Black\"}}",
         null,
         "{\"order_id\": 48, \"customer_id\": 7803, \"order_date\": \"2024-11-13\", \"transaction_timestamp\": \"2024-11-13 06:35:56\", \"total_amount\": 387, \"payment_method\": \"PayPal\", \"items\": [{\"item_id\": 7, \"name\": \"External Hard Drive\", \"category\": \"Electronics\", \"price\": 129, \"quantity\": 3, \"details\": {\"brand\": \"Apple\", \"color\": \"Black\"}}], \"order_status\": \"Completed\"}"
        ],
        [
         "8",
         "{\"item_id\":8,\"name\":\"Gaming Console\",\"category\":\"Electronics\",\"price\":499,\"quantity\":2,\"details\":{\"brand\":\"GoPro\",\"color\":\"White\"}}",
         null,
         "{\"order_id\": 52, \"customer_id\": 8845, \"order_date\": \"2024-11-19\", \"transaction_timestamp\": \"2024-11-19 21:23:45\", \"total_amount\": 998, \"payment_method\": \"PayPal\", \"items\": [{\"item_id\": 8, \"name\": \"Gaming Console\", \"category\": \"Electronics\", \"price\": 499, \"quantity\": 2, \"details\": {\"brand\": \"GoPro\", \"color\": \"White\"}}], \"order_status\": \"Completed\"}"
        ],
        [
         "3",
         "{\"item_id\":3,\"name\":\"Wireless Headphones\",\"category\":\"Electronics\",\"price\":199,\"quantity\":1,\"details\":{\"brand\":\"HP\",\"color\":\"Silver\"}}",
         "{\"item_id\":7,\"name\":\"External Hard Drive\",\"category\":\"Electronics\",\"price\":129,\"quantity\":3,\"details\":{\"brand\":\"Sony\",\"color\":\"Silver\"}}",
         "{\"order_id\": 57, \"customer_id\": 8580, \"order_date\": \"2024-11-19\", \"transaction_timestamp\": \"2024-11-19 11:32:44\", \"total_amount\": 586, \"payment_method\": \"Bank Transfer\", \"items\": [{\"item_id\": 3, \"name\": \"Wireless Headphones\", \"category\": \"Electronics\", \"price\": 199, \"quantity\": 1, \"details\": {\"brand\": \"HP\", \"color\": \"Silver\"}}, {\"item_id\": 7, \"name\": \"External Hard Drive\", \"category\": \"Electronics\", \"price\": 129, \"quantity\": 3, \"details\": {\"brand\": \"Sony\", \"color\": \"Silver\"}}], \"order_status\": \"Cancelled\"}"
        ],
        [
         "3",
         "{\"item_id\":3,\"name\":\"Wireless Headphones\",\"category\":\"Electronics\",\"price\":199,\"quantity\":1,\"details\":{\"brand\":\"GoPro\",\"color\":\"Blue\"}}",
         "{\"item_id\":6,\"name\":\"Bluetooth Speaker\",\"category\":\"Electronics\",\"price\":149,\"quantity\":3,\"details\":{\"brand\":\"Bose\",\"color\":\"Silver\"}}",
         "{\"order_id\": 63, \"customer_id\": 7123, \"order_date\": \"2024-11-24\", \"transaction_timestamp\": \"2024-11-24 08:41:28\", \"total_amount\": 646, \"payment_method\": \"Bank Transfer\", \"items\": [{\"item_id\": 3, \"name\": \"Wireless Headphones\", \"category\": \"Electronics\", \"price\": 199, \"quantity\": 1, \"details\": {\"brand\": \"GoPro\", \"color\": \"Blue\"}}, {\"item_id\": 6, \"name\": \"Bluetooth Speaker\", \"category\": \"Electronics\", \"price\": 149, \"quantity\": 3, \"details\": {\"brand\": \"Bose\", \"color\": \"Silver\"}}], \"order_status\": \"Cancelled\"}"
        ],
        [
         "7",
         "{\"item_id\":7,\"name\":\"External Hard Drive\",\"category\":\"Electronics\",\"price\":129,\"quantity\":3,\"details\":{\"brand\":\"Microsoft\",\"color\":\"White\"}}",
         "{\"item_id\":3,\"name\":\"Wireless Headphones\",\"category\":\"Electronics\",\"price\":199,\"quantity\":3,\"details\":{\"brand\":\"Canon\",\"color\":\"Blue\"}}",
         "{\"order_id\": 64, \"customer_id\": 2639, \"order_date\": \"2024-11-28\", \"transaction_timestamp\": \"2024-11-28 12:23:21\", \"total_amount\": 984, \"payment_method\": \"Bank Transfer\", \"items\": [{\"item_id\": 7, \"name\": \"External Hard Drive\", \"category\": \"Electronics\", \"price\": 129, \"quantity\": 3, \"details\": {\"brand\": \"Microsoft\", \"color\": \"White\"}}, {\"item_id\": 3, \"name\": \"Wireless Headphones\", \"category\": \"Electronics\", \"price\": 199, \"quantity\": 3, \"details\": {\"brand\": \"Canon\", \"color\": \"Blue\"}}], \"order_status\": \"Completed\"}"
        ],
        [
         "7",
         "{\"item_id\":7,\"name\":\"External Hard Drive\",\"category\":\"Electronics\",\"price\":129,\"quantity\":3,\"details\":{\"brand\":\"Bose\",\"color\":\"White\"}}",
         null,
         "{\"order_id\": 88, \"customer_id\": 9247, \"order_date\": \"2024-11-15\", \"transaction_timestamp\": \"2024-11-15 11:39:44\", \"total_amount\": 387, \"payment_method\": \"Bank Transfer\", \"items\": [{\"item_id\": 7, \"name\": \"External Hard Drive\", \"category\": \"Electronics\", \"price\": 129, \"quantity\": 3, \"details\": {\"brand\": \"Bose\", \"color\": \"White\"}}], \"order_status\": \"Cancelled\"}"
        ],
        [
         "6",
         "{\"item_id\":6,\"name\":\"Bluetooth Speaker\",\"category\":\"Electronics\",\"price\":149,\"quantity\":1,\"details\":{\"brand\":\"GoPro\",\"color\":\"Silver\"}}",
         null,
         "{\"order_id\": 89, \"customer_id\": 9247, \"order_date\": \"2024-11-22\", \"transaction_timestamp\": \"2024-11-22 12:09:15\", \"total_amount\": 149, \"payment_method\": \"Bank Transfer\", \"items\": [{\"item_id\": 6, \"name\": \"Bluetooth Speaker\", \"category\": \"Electronics\", \"price\": 149, \"quantity\": 1, \"details\": {\"brand\": \"GoPro\", \"color\": \"Silver\"}}], \"order_status\": \"Cancelled\"}"
        ],
        [
         "7",
         "{\"item_id\":7,\"name\":\"External Hard Drive\",\"category\":\"Electronics\",\"price\":129,\"quantity\":2,\"details\":{\"brand\":\"Sony\",\"color\":\"Black\"}}",
         null,
         "{\"order_id\": 92, \"customer_id\": 5592, \"order_date\": \"2024-11-24\", \"transaction_timestamp\": \"2024-11-24 23:33:21\", \"total_amount\": 258, \"payment_method\": \"PayPal\", \"items\": [{\"item_id\": 7, \"name\": \"External Hard Drive\", \"category\": \"Electronics\", \"price\": 129, \"quantity\": 2, \"details\": {\"brand\": \"Sony\", \"color\": \"Black\"}}], \"order_status\": \"Shipped\"}"
        ],
        [
         "10",
         "{\"item_id\":10,\"name\":\"Drone\",\"category\":\"Electronics\",\"price\":799,\"quantity\":1,\"details\":{\"brand\":\"GoPro\",\"color\":\"Black\"}}",
         null,
         "{\"order_id\": 6, \"customer_id\": 1987, \"order_date\": \"2024-10-28\", \"transaction_timestamp\": \"2024-10-28 04:47:27\", \"total_amount\": 799, \"payment_method\": \"Credit Card\", \"items\": [{\"item_id\": 10, \"name\": \"Drone\", \"category\": \"Electronics\", \"price\": 799, \"quantity\": 1, \"details\": {\"brand\": \"GoPro\", \"color\": \"Black\"}}], \"order_status\": \"Pending\"}"
        ],
        [
         "5",
         "{\"item_id\":5,\"name\":\"Tablet\",\"category\":\"Electronics\",\"price\":399,\"quantity\":1,\"details\":{\"brand\":\"GoPro\",\"color\":\"White\"}}",
         null,
         "{\"order_id\": 10, \"customer_id\": 5816, \"order_date\": \"2024-10-07\", \"transaction_timestamp\": \"2024-10-07 22:09:27\", \"total_amount\": 399, \"payment_method\": \"Credit Card\", \"items\": [{\"item_id\": 5, \"name\": \"Tablet\", \"category\": \"Electronics\", \"price\": 399, \"quantity\": 1, \"details\": {\"brand\": \"GoPro\", \"color\": \"White\"}}], \"order_status\": \"Pending\"}"
        ],
        [
         "4",
         "{\"item_id\":4,\"name\":\"Smartwatch\",\"category\":\"Electronics\",\"price\":299,\"quantity\":3,\"details\":{\"brand\":\"Canon\",\"color\":\"White\"}}",
         null,
         "{\"order_id\": 11, \"customer_id\": 5816, \"order_date\": \"2024-10-13\", \"transaction_timestamp\": \"2024-10-13 17:34:19\", \"total_amount\": 897, \"payment_method\": \"Bank Transfer\", \"items\": [{\"item_id\": 4, \"name\": \"Smartwatch\", \"category\": \"Electronics\", \"price\": 299, \"quantity\": 3, \"details\": {\"brand\": \"Canon\", \"color\": \"White\"}}], \"order_status\": \"Pending\"}"
        ],
        [
         "9",
         "{\"item_id\":9,\"name\":\"Smart TV\",\"category\":\"Electronics\",\"price\":1199,\"quantity\":1,\"details\":{\"brand\":\"GoPro\",\"color\":\"White\"}}",
         null,
         "{\"order_id\": 15, \"customer_id\": 7207, \"order_date\": \"2024-10-20\", \"transaction_timestamp\": \"2024-10-20 01:47:25\", \"total_amount\": 1199, \"payment_method\": \"Bank Transfer\", \"items\": [{\"item_id\": 9, \"name\": \"Smart TV\", \"category\": \"Electronics\", \"price\": 1199, \"quantity\": 1, \"details\": {\"brand\": \"GoPro\", \"color\": \"White\"}}], \"order_status\": \"Completed\"}"
        ],
        [
         "8",
         "{\"item_id\":8,\"name\":\"Gaming Console\",\"category\":\"Electronics\",\"price\":499,\"quantity\":1,\"details\":{\"brand\":\"Dell\",\"color\":\"Silver\"}}",
         null,
         "{\"order_id\": 19, \"customer_id\": 8539, \"order_date\": \"2024-10-13\", \"transaction_timestamp\": \"2024-10-13 12:40:26\", \"total_amount\": 499, \"payment_method\": \"PayPal\", \"items\": [{\"item_id\": 8, \"name\": \"Gaming Console\", \"category\": \"Electronics\", \"price\": 499, \"quantity\": 1, \"details\": {\"brand\": \"Dell\", \"color\": \"Silver\"}}], \"order_status\": \"Shipped\"}"
        ],
        [
         "7",
         "{\"item_id\":7,\"name\":\"External Hard Drive\",\"category\":\"Electronics\",\"price\":129,\"quantity\":3,\"details\":{\"brand\":\"Sony\",\"color\":\"Black\"}}",
         null,
         "{\"order_id\": 39, \"customer_id\": 9263, \"order_date\": \"2024-10-29\", \"transaction_timestamp\": \"2024-10-29 21:39:19\", \"total_amount\": 387, \"payment_method\": \"PayPal\", \"items\": [{\"item_id\": 7, \"name\": \"External Hard Drive\", \"category\": \"Electronics\", \"price\": 129, \"quantity\": 3, \"details\": {\"brand\": \"Sony\", \"color\": \"Black\"}}], \"order_status\": \"Shipped\"}"
        ],
        [
         "1",
         "{\"item_id\":1,\"name\":\"Smartphone\",\"category\":\"Electronics\",\"price\":699,\"quantity\":1,\"details\":{\"brand\":\"HP\",\"color\":\"Black\"}}",
         null,
         "{\"order_id\": 55, \"customer_id\": 9018, \"order_date\": \"2024-10-25\", \"transaction_timestamp\": \"2024-10-25 05:49:16\", \"total_amount\": 699, \"payment_method\": \"Bank Transfer\", \"items\": [{\"item_id\": 1, \"name\": \"Smartphone\", \"category\": \"Electronics\", \"price\": 699, \"quantity\": 1, \"details\": {\"brand\": \"HP\", \"color\": \"Black\"}}], \"order_status\": \"Shipped\"}"
        ],
        [
         "8",
         "{\"item_id\":8,\"name\":\"Gaming Console\",\"category\":\"Electronics\",\"price\":499,\"quantity\":1,\"details\":{\"brand\":\"Dell\",\"color\":\"Black\"}}",
         null,
         "{\"order_id\": 59, \"customer_id\": 3409, \"order_date\": \"2024-10-23\", \"transaction_timestamp\": \"2024-10-23 02:51:05\", \"total_amount\": 499, \"payment_method\": \"PayPal\", \"items\": [{\"item_id\": 8, \"name\": \"Gaming Console\", \"category\": \"Electronics\", \"price\": 499, \"quantity\": 1, \"details\": {\"brand\": \"Dell\", \"color\": \"Black\"}}], \"order_status\": \"Pending\"}"
        ],
        [
         null,
         null,
         null,
         "{\"order_id\": 72, \"customer_id\": 3889, \"order_date\": 2024-10-06, \"transaction_timestamp\": \"2024-10-06 10:23:28\", \"total_amount\": 328, \"payment_method\": \"PayPal\", \"items\": [{\"item_id\": 3, \"name\": \"Wireless Headphones\", \"category\": \"Electronics\", \"price\": 199, \"quantity\": 1, \"details\": {\"brand\": \"Microsoft\", \"color\": \"Gray\"}}, {\"item_id\": 7, \"name\": \"External Hard Drive\", \"category\": \"Electronics\", \"price\": 129, \"quantity\": 1, \"details\": {\"brand\": \"Samsung\", \"color\": \"Silver\"}}], \"order_status\": \"Cancelled\"}"
        ],
        [
         "3",
         "{\"item_id\":3,\"name\":\"Wireless Headphones\",\"category\":\"Electronics\",\"price\":199,\"quantity\":2,\"details\":{\"brand\":\"HP\",\"color\":\"Silver\"}}",
         null,
         "{\"order_id\": 77, \"customer_id\": 9084, \"order_date\": \"2024-10-15\", \"transaction_timestamp\": \"2024-10-15 13:09:33\", \"total_amount\": 398, \"payment_method\": \"Credit Card\", \"items\": [{\"item_id\": 3, \"name\": \"Wireless Headphones\", \"category\": \"Electronics\", \"price\": 199, \"quantity\": 2, \"details\": {\"brand\": \"HP\", \"color\": \"Silver\"}}], \"order_status\": \"Pending\"}"
        ],
        [
         "10",
         "{\"item_id\":10,\"name\":\"Drone\",\"category\":\"Electronics\",\"price\":799,\"quantity\":1,\"details\":{\"brand\":\"Sony\",\"color\":\"Black\"}}",
         "{\"item_id\":3,\"name\":\"Wireless Headphones\",\"category\":\"Electronics\",\"price\":199,\"quantity\":1,\"details\":{\"brand\":\"LG\",\"color\":\"Black\"}}",
         "{\"order_id\": 84, \"customer_id\": 2344, \"order_date\": \"2024-10-25\", \"transaction_timestamp\": \"2024-10-25 03:37:42\", \"total_amount\": 998, \"payment_method\": \"PayPal\", \"items\": [{\"item_id\": 10, \"name\": \"Drone\", \"category\": \"Electronics\", \"price\": 799, \"quantity\": 1, \"details\": {\"brand\": \"Sony\", \"color\": \"Black\"}}, {\"item_id\": 3, \"name\": \"Wireless Headphones\", \"category\": \"Electronics\", \"price\": 199, \"quantity\": 1, \"details\": {\"brand\": \"LG\", \"color\": \"Black\"}}], \"order_status\": \"Completed\"}"
        ],
        [
         "8",
         "{\"item_id\":8,\"name\":\"Gaming Console\",\"category\":\"Electronics\",\"price\":499,\"quantity\":2,\"details\":{\"brand\":\"GoPro\",\"color\":\"Black\"}}",
         null,
         "{\"order_id\": 85, \"customer_id\": 5011, \"order_date\": \"2024-10-23\", \"transaction_timestamp\": \"2024-10-23 20:06:42\", \"total_amount\": 998, \"payment_method\": \"Bank Transfer\", \"items\": [{\"item_id\": 8, \"name\": \"Gaming Console\", \"category\": \"Electronics\", \"price\": 499, \"quantity\": 2, \"details\": {\"brand\": \"GoPro\", \"color\": \"Black\"}}], \"order_status\": \"Shipped\"}"
        ],
        [
         "9",
         "{\"item_id\":9,\"name\":\"Smart TV\",\"category\":\"Electronics\",\"price\":1199,\"quantity\":1,\"details\":{\"brand\":\"Dell\",\"color\":\"White\"}}",
         null,
         "{\"order_id\": 86, \"customer_id\": 5011, \"order_date\": \"2024-10-19\", \"transaction_timestamp\": \"2024-10-19 13:30:47\", \"total_amount\": 1199, \"payment_method\": \"PayPal\", \"items\": [{\"item_id\": 9, \"name\": \"Smart TV\", \"category\": \"Electronics\", \"price\": 1199, \"quantity\": 1, \"details\": {\"brand\": \"Dell\", \"color\": \"White\"}}], \"order_status\": \"Completed\"}"
        ]
       ],
       "datasetInfos": [
        {
         "name": "_sqldf",
         "schema": {
          "fields": [
           {
            "metadata": {},
            "name": "items_1_item_id",
            "nullable": true,
            "type": "string"
           },
           {
            "metadata": {},
            "name": "items_1",
            "nullable": true,
            "type": "string"
           },
           {
            "metadata": {},
            "name": "items_2",
            "nullable": true,
            "type": "string"
           },
           {
            "metadata": {},
            "name": "value",
            "nullable": true,
            "type": "string"
           }
          ],
          "type": "struct"
         },
         "tableIdentifier": null,
         "typeStr": "pyspark.sql.connect.dataframe.DataFrame"
        }
       ],
       "dbfsResultPath": null,
       "isJsonSchema": true,
       "metadata": {
        "createTempViewForImplicitDf": true,
        "dataframeName": "_sqldf",
        "executionCount": 12
       },
       "overflow": false,
       "plotOptions": {
        "customPlotOptions": {},
        "displayType": "table",
        "pivotAggregation": null,
        "pivotColumns": null,
        "xColumns": null,
        "yColumns": null
       },
       "removedWidgets": [],
       "schema": [
        {
         "metadata": "{}",
         "name": "items_1_item_id",
         "type": "\"string\""
        },
        {
         "metadata": "{}",
         "name": "items_1",
         "type": "\"string\""
        },
        {
         "metadata": "{}",
         "name": "items_2",
         "type": "\"string\""
        },
        {
         "metadata": "{}",
         "name": "value",
         "type": "\"string\""
        }
       ],
       "type": "table"
      }
     },
     "output_type": "display_data"
    }
   ],
   "source": [
    "%sql\n",
    "select value:items[0].item_id as items_1_item_id,\n",
    "       value:items[0] as items_1,\n",
    "       value:items[1] as items_2,\n",
    "       value\n",
    "  from gizmobox.bronze.v_orders;"
   ]
  },
  {
   "cell_type": "markdown",
   "metadata": {
    "application/vnd.databricks.v1+cell": {
     "cellMetadata": {},
     "inputWidgets": {},
     "nuid": "2d879b0b-d515-4435-9f8e-a93c83f9c55f",
     "showTitle": false,
     "tableResultSettingsMap": {},
     "title": ""
    }
   },
   "source": [
    "#### 4-CAST Column Values to Specific Data Type"
   ]
  },
  {
   "cell_type": "code",
   "execution_count": 0,
   "metadata": {
    "application/vnd.databricks.v1+cell": {
     "cellMetadata": {
      "byteLimit": 2048000,
      "implicitDf": true,
      "rowLimit": 10000
     },
     "inputWidgets": {},
     "nuid": "c023c879-96fd-4d6b-857f-3cb01d9b383c",
     "showTitle": false,
     "tableResultSettingsMap": {},
     "title": ""
    }
   },
   "outputs": [
    {
     "output_type": "display_data",
     "data": {
      "text/html": [
       "<style scoped>\n",
       "  .table-result-container {\n",
       "    max-height: 300px;\n",
       "    overflow: auto;\n",
       "  }\n",
       "  table, th, td {\n",
       "    border: 1px solid black;\n",
       "    border-collapse: collapse;\n",
       "  }\n",
       "  th, td {\n",
       "    padding: 5px;\n",
       "  }\n",
       "  th {\n",
       "    text-align: left;\n",
       "  }\n",
       "</style><div class='table-result-container'><table class='table-result'><thead style='background-color: white'><tr><th>items_1_item_id</th><th>items_1</th><th>items_2</th><th>value</th></tr></thead><tbody><tr><td>8</td><td>{\"item_id\":8,\"name\":\"Gaming Console\",\"category\":\"Electronics\",\"price\":499,\"quantity\":1,\"details\":{\"brand\":\"Sony\",\"color\":\"Blue\"}}</td><td>null</td><td>{\"order_id\": 1, \"customer_id\": 6973, \"order_date\": \"2025-01-05\", \"transaction_timestamp\": \"2025-01-05 10:13:59\", \"total_amount\": 499, \"payment_method\": \"Bank Transfer\", \"items\": [{\"item_id\": 8, \"name\": \"Gaming Console\", \"category\": \"Electronics\", \"price\": 499, \"quantity\": 1, \"details\": {\"brand\": \"Sony\", \"color\": \"Blue\"}}], \"order_status\": \"Completed\"}</td></tr><tr><td>null</td><td>null</td><td>null</td><td>{\"order_id\": 2, \"customer_id\": 3532, \"order_date\": 2025-01-19, \"transaction_timestamp\": \"2025-01-19 00:05:13\", \"total_amount\": 985, \"payment_method\": \"PayPal\", \"items\": [{\"item_id\": 4, \"name\": \"Smartwatch\", \"category\": \"Electronics\", \"price\": 299, \"quantity\": 2, \"details\": {\"brand\": \"Canon\", \"color\": \"Gray\"}}, {\"item_id\": 7, \"name\": \"External Hard Drive\", \"category\": \"Electronics\", \"price\": 129, \"quantity\": 3, \"details\": {\"brand\": \"Dell\", \"color\": \"Blue\"}}], \"order_status\": \"Cancelled\"}</td></tr><tr><td>3</td><td>{\"item_id\":3,\"name\":\"Wireless Headphones\",\"category\":\"Electronics\",\"price\":199,\"quantity\":3,\"details\":{\"brand\":\"Apple\",\"color\":\"White\"}}</td><td>null</td><td>{\"order_id\": 3, \"customer_id\": 3532, \"order_date\": \"2025-01-08\", \"transaction_timestamp\": \"2025-01-08 23:11:00\", \"total_amount\": 597, \"payment_method\": \"Bank Transfer\", \"items\": [{\"item_id\": 3, \"name\": \"Wireless Headphones\", \"category\": \"Electronics\", \"price\": 199, \"quantity\": 3, \"details\": {\"brand\": \"Apple\", \"color\": \"White\"}}], \"order_status\": \"Completed\"}</td></tr><tr><td>2</td><td>{\"item_id\":2,\"name\":\"Laptop\",\"category\":\"Electronics\",\"price\":999,\"quantity\":1,\"details\":{\"brand\":\"Microsoft\",\"color\":\"Black\"}}</td><td>null</td><td>{\"order_id\": 4, \"customer_id\": 3532, \"order_date\": \"2025-01-05\", \"transaction_timestamp\": \"2025-01-05 05:49:26\", \"total_amount\": 999, \"payment_method\": \"Bank Transfer\", \"items\": [{\"item_id\": 2, \"name\": \"Laptop\", \"category\": \"Electronics\", \"price\": 999, \"quantity\": 1, \"details\": {\"brand\": \"Microsoft\", \"color\": \"Black\"}}], \"order_status\": \"Cancelled\"}</td></tr><tr><td>5</td><td>{\"item_id\":5,\"name\":\"Tablet\",\"category\":\"Electronics\",\"price\":399,\"quantity\":1,\"details\":{\"brand\":\"LG\",\"color\":\"White\"}}</td><td>null</td><td>{\"order_id\": 8, \"customer_id\": 9179, \"order_date\": \"2025-01-02\", \"transaction_timestamp\": \"2025-01-02 13:11:15\", \"total_amount\": 399, \"payment_method\": \"PayPal\", \"items\": [{\"item_id\": 5, \"name\": \"Tablet\", \"category\": \"Electronics\", \"price\": 399, \"quantity\": 1, \"details\": {\"brand\": \"LG\", \"color\": \"White\"}}], \"order_status\": \"Completed\"}</td></tr><tr><td>3</td><td>{\"item_id\":3,\"name\":\"Wireless Headphones\",\"category\":\"Electronics\",\"price\":199,\"quantity\":3,\"details\":{\"brand\":\"Bose\",\"color\":\"Blue\"}}</td><td>null</td><td>{\"order_id\": 14, \"customer_id\": 7207, \"order_date\": \"2025-01-01\", \"transaction_timestamp\": \"2025-01-01 18:22:26\", \"total_amount\": 597, \"payment_method\": \"PayPal\", \"items\": [{\"item_id\": 3, \"name\": \"Wireless Headphones\", \"category\": \"Electronics\", \"price\": 199, \"quantity\": 3, \"details\": {\"brand\": \"Bose\", \"color\": \"Blue\"}}], \"order_status\": \"Cancelled\"}</td></tr><tr><td>10</td><td>{\"item_id\":10,\"name\":\"Drone\",\"category\":\"Electronics\",\"price\":799,\"quantity\":1,\"details\":{\"brand\":\"Dell\",\"color\":\"Black\"}}</td><td>null</td><td>{\"order_id\": 18, \"customer_id\": 4468, \"order_date\": \"2025-01-22\", \"transaction_timestamp\": \"2025-01-22 21:12:08\", \"total_amount\": 799, \"payment_method\": \"Credit Card\", \"items\": [{\"item_id\": 10, \"name\": \"Drone\", \"category\": \"Electronics\", \"price\": 799, \"quantity\": 1, \"details\": {\"brand\": \"Dell\", \"color\": \"Black\"}}], \"order_status\": \"Pending\"}</td></tr><tr><td>null</td><td>null</td><td>null</td><td>{\"order_id\": 22, \"customer_id\": 4761, \"order_date\": 2025-01-01, \"transaction_timestamp\": \"2025-01-01 15:49:19\", \"total_amount\": 199, \"payment_method\": \"PayPal\", \"items\": [{\"item_id\": 3, \"name\": \"Wireless Headphones\", \"category\": \"Electronics\", \"price\": 199, \"quantity\": 1, \"details\": {\"brand\": \"HP\", \"color\": \"Silver\"}}], \"order_status\": \"Pending\"}</td></tr><tr><td>1</td><td>{\"item_id\":1,\"name\":\"Smartphone\",\"category\":\"Electronics\",\"price\":699,\"quantity\":1,\"details\":{\"brand\":\"Samsung\",\"color\":\"Silver\"}}</td><td>null</td><td>{\"order_id\": 26, \"customer_id\": 7007, \"order_date\": \"2025-01-05\", \"transaction_timestamp\": \"2025-01-05 19:01:25\", \"total_amount\": 699, \"payment_method\": \"Bank Transfer\", \"items\": [{\"item_id\": 1, \"name\": \"Smartphone\", \"category\": \"Electronics\", \"price\": 699, \"quantity\": 1, \"details\": {\"brand\": \"Samsung\", \"color\": \"Silver\"}}], \"order_status\": \"Shipped\"}</td></tr><tr><td>7</td><td>{\"item_id\":7,\"name\":\"External Hard Drive\",\"category\":\"Electronics\",\"price\":129,\"quantity\":1,\"details\":{\"brand\":\"Bose\",\"color\":\"Gray\"}}</td><td>{\"item_id\":7,\"name\":\"External Hard Drive\",\"category\":\"Electronics\",\"price\":129,\"quantity\":1,\"details\":{\"brand\":\"Bose\",\"color\":\"Gray\"}}</td><td>{\"order_id\": 29, \"customer_id\": 5953, \"order_date\": \"2025-01-18\", \"transaction_timestamp\": \"2025-01-18 03:05:04\", \"total_amount\": 129, \"payment_method\": \"Bank Transfer\", \"items\": [{\"item_id\": 7, \"name\": \"External Hard Drive\", \"category\": \"Electronics\", \"price\": 129, \"quantity\": 1, \"details\": {\"brand\": \"Bose\", \"color\": \"Gray\"}}, {\"item_id\": 7, \"name\": \"External Hard Drive\", \"category\": \"Electronics\", \"price\": 129, \"quantity\": 1, \"details\": {\"brand\": \"Bose\", \"color\": \"Gray\"}}], \"order_status\": \"Pending\"}</td></tr><tr><td>4</td><td>{\"item_id\":4,\"name\":\"Smartwatch\",\"category\":\"Electronics\",\"price\":299,\"quantity\":1,\"details\":{\"brand\":\"Dell\",\"color\":\"White\"}}</td><td>null</td><td>{\"order_id\": 31, \"customer_id\": 4996, \"order_date\": \"2025-01-18\", \"transaction_timestamp\": \"2025-01-18 03:13:29\", \"total_amount\": 299, \"payment_method\": \"Bank Transfer\", \"items\": [{\"item_id\": 4, \"name\": \"Smartwatch\", \"category\": \"Electronics\", \"price\": 299, \"quantity\": 1, \"details\": {\"brand\": \"Dell\", \"color\": \"White\"}}], \"order_status\": \"Shipped\"}</td></tr><tr><td>4</td><td>{\"item_id\":4,\"name\":\"Smartwatch\",\"category\":\"Electronics\",\"price\":299,\"quantity\":3,\"details\":{\"brand\":\"Canon\",\"color\":\"White\"}}</td><td>null</td><td>{\"order_id\": 33, \"customer_id\": 9605, \"order_date\": \"2025-01-13\", \"transaction_timestamp\": \"2025-01-13 04:47:43\", \"total_amount\": 897, \"payment_method\": \"PayPal\", \"items\": [{\"item_id\": 4, \"name\": \"Smartwatch\", \"category\": \"Electronics\", \"price\": 299, \"quantity\": 3, \"details\": {\"brand\": \"Canon\", \"color\": \"White\"}}], \"order_status\": \"Completed\"}</td></tr><tr><td>6</td><td>{\"item_id\":6,\"name\":\"Bluetooth Speaker\",\"category\":\"Electronics\",\"price\":149,\"quantity\":2,\"details\":{\"brand\":\"Bose\",\"color\":\"Silver\"}}</td><td>{\"item_id\":8,\"name\":\"Gaming Console\",\"category\":\"Electronics\",\"price\":499,\"quantity\":1,\"details\":{\"brand\":\"LG\",\"color\":\"Black\"}}</td><td>{\"order_id\": 34, \"customer_id\": 9605, \"order_date\": \"2025-01-21\", \"transaction_timestamp\": \"2025-01-21 00:25:01\", \"total_amount\": 926, \"payment_method\": \"PayPal\", \"items\": [{\"item_id\": 6, \"name\": \"Bluetooth Speaker\", \"category\": \"Electronics\", \"price\": 149, \"quantity\": 2, \"details\": {\"brand\": \"Bose\", \"color\": \"Silver\"}}, {\"item_id\": 8, \"name\": \"Gaming Console\", \"category\": \"Electronics\", \"price\": 499, \"quantity\": 1, \"details\": {\"brand\": \"LG\", \"color\": \"Black\"}}, {\"item_id\": 7, \"name\": \"External Hard Drive\", \"category\": \"Electronics\", \"price\": 129, \"quantity\": 1, \"details\": {\"brand\": \"Samsung\", \"color\": \"Black\"}}], \"order_status\": \"Cancelled\"}</td></tr><tr><td>6</td><td>{\"item_id\":6,\"name\":\"Bluetooth Speaker\",\"category\":\"Electronics\",\"price\":149,\"quantity\":2,\"details\":{\"brand\":\"Bose\",\"color\":\"Silver\"}}</td><td>null</td><td>{\"order_id\": 40, \"customer_id\": 6384, \"order_date\": \"2025-01-20\", \"transaction_timestamp\": \"2025-01-20 16:18:35\", \"total_amount\": 298, \"payment_method\": \"PayPal\", \"items\": [{\"item_id\": 6, \"name\": \"Bluetooth Speaker\", \"category\": \"Electronics\", \"price\": 149, \"quantity\": 2, \"details\": {\"brand\": \"Bose\", \"color\": \"Silver\"}}], \"order_status\": \"Completed\"}</td></tr><tr><td>2</td><td>{\"item_id\":2,\"name\":\"Laptop\",\"category\":\"Electronics\",\"price\":999,\"quantity\":1,\"details\":{\"brand\":\"Sony\",\"color\":\"Silver\"}}</td><td>null</td><td>{\"order_id\": 41, \"customer_id\": 6384, \"order_date\": \"2025-01-05\", \"transaction_timestamp\": \"2025-01-05 06:10:22\", \"total_amount\": 999, \"payment_method\": \"Credit Card\", \"items\": [{\"item_id\": 2, \"name\": \"Laptop\", \"category\": \"Electronics\", \"price\": 999, \"quantity\": 1, \"details\": {\"brand\": \"Sony\", \"color\": \"Silver\"}}], \"order_status\": \"Shipped\"}</td></tr><tr><td>8</td><td>{\"item_id\":8,\"name\":\"Gaming Console\",\"category\":\"Electronics\",\"price\":499,\"quantity\":1,\"details\":{\"brand\":\"LG\",\"color\":\"Black\"}}</td><td>null</td><td>{\"order_id\": 43, \"customer_id\": 5028, \"order_date\": \"2025-01-24\", \"transaction_timestamp\": \"2025-01-24 18:10:37\", \"total_amount\": 499, \"payment_method\": \"PayPal\", \"items\": [{\"item_id\": 8, \"name\": \"Gaming Console\", \"category\": \"Electronics\", \"price\": 499, \"quantity\": 1, \"details\": {\"brand\": \"LG\", \"color\": \"Black\"}}], \"order_status\": \"Pending\"}</td></tr><tr><td>6</td><td>{\"item_id\":6,\"name\":\"Bluetooth Speaker\",\"category\":\"Electronics\",\"price\":149,\"quantity\":3,\"details\":{\"brand\":\"Apple\",\"color\":\"Gray\"}}</td><td>{\"item_id\":4,\"name\":\"Smartwatch\",\"category\":\"Electronics\",\"price\":299,\"quantity\":1,\"details\":{\"brand\":\"Sony\",\"color\":\"White\"}}</td><td>{\"order_id\": 50, \"customer_id\": 3712, \"order_date\": \"2025-01-11\", \"transaction_timestamp\": \"2025-01-11 01:19:09\", \"total_amount\": 746, \"payment_method\": \"Credit Card\", \"items\": [{\"item_id\": 6, \"name\": \"Bluetooth Speaker\", \"category\": \"Electronics\", \"price\": 149, \"quantity\": 3, \"details\": {\"brand\": \"Apple\", \"color\": \"Gray\"}}, {\"item_id\": 4, \"name\": \"Smartwatch\", \"category\": \"Electronics\", \"price\": 299, \"quantity\": 1, \"details\": {\"brand\": \"Sony\", \"color\": \"White\"}}], \"order_status\": \"Shipped\"}</td></tr><tr><td>6</td><td>{\"item_id\":6,\"name\":\"Bluetooth Speaker\",\"category\":\"Electronics\",\"price\":149,\"quantity\":1,\"details\":{\"brand\":\"Samsung\",\"color\":\"Gray\"}}</td><td>null</td><td>{\"order_id\": 51, \"customer_id\": 8845, \"order_date\": \"2025-01-21\", \"transaction_timestamp\": \"2025-01-21 13:19:59\", \"total_amount\": 149, \"payment_method\": \"PayPal\", \"items\": [{\"item_id\": 6, \"name\": \"Bluetooth Speaker\", \"category\": \"Electronics\", \"price\": 149, \"quantity\": 1, \"details\": {\"brand\": \"Samsung\", \"color\": \"Gray\"}}], \"order_status\": \"Completed\"}</td></tr><tr><td>3</td><td>{\"item_id\":3,\"name\":\"Wireless Headphones\",\"category\":\"Electronics\",\"price\":199,\"quantity\":1,\"details\":{\"brand\":\"Apple\",\"color\":\"Black\"}}</td><td>null</td><td>{\"order_id\": 53, \"customer_id\": 8845, \"order_date\": \"2025-01-21\", \"transaction_timestamp\": \"2025-01-21 08:31:02\", \"total_amount\": 199, \"payment_method\": \"Bank Transfer\", \"items\": [{\"item_id\": 3, \"name\": \"Wireless Headphones\", \"category\": \"Electronics\", \"price\": 199, \"quantity\": 1, \"details\": {\"brand\": \"Apple\", \"color\": \"Black\"}}], \"order_status\": \"Pending\"}</td></tr><tr><td>3</td><td>{\"item_id\":3,\"name\":\"Wireless Headphones\",\"category\":\"Electronics\",\"price\":199,\"quantity\":1,\"details\":{\"brand\":\"HP\",\"color\":\"Silver\"}}</td><td>{\"item_id\":8,\"name\":\"Gaming Console\",\"category\":\"Electronics\",\"price\":499,\"quantity\":1,\"details\":{\"brand\":\"LG\",\"color\":\"Gray\"}}</td><td>{\"order_id\": 56, \"customer_id\": 8580, \"order_date\": \"2025-01-01\", \"transaction_timestamp\": \"2025-01-01 12:02:41\", \"total_amount\": 698, \"payment_method\": \"PayPal\", \"items\": [{\"item_id\": 3, \"name\": \"Wireless Headphones\", \"category\": \"Electronics\", \"price\": 199, \"quantity\": 1, \"details\": {\"brand\": \"HP\", \"color\": \"Silver\"}}, {\"item_id\": 8, \"name\": \"Gaming Console\", \"category\": \"Electronics\", \"price\": 499, \"quantity\": 1, \"details\": {\"brand\": \"LG\", \"color\": \"Gray\"}}], \"order_status\": \"Cancelled\"}</td></tr><tr><td>7</td><td>{\"item_id\":7,\"name\":\"External Hard Drive\",\"category\":\"Electronics\",\"price\":129,\"quantity\":3,\"details\":{\"brand\":\"Dell\",\"color\":\"White\"}}</td><td>{\"item_id\":4,\"name\":\"Smartwatch\",\"category\":\"Electronics\",\"price\":299,\"quantity\":2,\"details\":{\"brand\":\"GoPro\",\"color\":\"Blue\"}}</td><td>{\"order_id\": 62, \"customer_id\": 7123, \"order_date\": \"2025-01-24\", \"transaction_timestamp\": \"2025-01-24 12:00:54\", \"total_amount\": 985, \"payment_method\": \"Bank Transfer\", \"items\": [{\"item_id\": 7, \"name\": \"External Hard Drive\", \"category\": \"Electronics\", \"price\": 129, \"quantity\": 3, \"details\": {\"brand\": \"Dell\", \"color\": \"White\"}}, {\"item_id\": 4, \"name\": \"Smartwatch\", \"category\": \"Electronics\", \"price\": 299, \"quantity\": 2, \"details\": {\"brand\": \"GoPro\", \"color\": \"Blue\"}}], \"order_status\": \"Completed\"}</td></tr><tr><td>4</td><td>{\"item_id\":4,\"name\":\"Smartwatch\",\"category\":\"Electronics\",\"price\":299,\"quantity\":1,\"details\":{\"brand\":\"Bose\",\"color\":\"Silver\"}}</td><td>{\"item_id\":4,\"name\":\"Smartwatch\",\"category\":\"Electronics\",\"price\":299,\"quantity\":1,\"details\":{\"brand\":\"GoPro\",\"color\":\"White\"}}</td><td>{\"order_id\": 66, \"customer_id\": 3084, \"order_date\": \"2025-01-17\", \"transaction_timestamp\": \"2025-01-17 21:16:11\", \"total_amount\": 598, \"payment_method\": \"Credit Card\", \"items\": [{\"item_id\": 4, \"name\": \"Smartwatch\", \"category\": \"Electronics\", \"price\": 299, \"quantity\": 1, \"details\": {\"brand\": \"Bose\", \"color\": \"Silver\"}}, {\"item_id\": 4, \"name\": \"Smartwatch\", \"category\": \"Electronics\", \"price\": 299, \"quantity\": 1, \"details\": {\"brand\": \"GoPro\", \"color\": \"White\"}}], \"order_status\": \"Cancelled\"}</td></tr><tr><td>6</td><td>{\"item_id\":6,\"name\":\"Bluetooth Speaker\",\"category\":\"Electronics\",\"price\":149,\"quantity\":1,\"details\":{\"brand\":\"Bose\",\"color\":\"Gray\"}}</td><td>null</td><td>{\"order_id\": 68, \"customer_id\": 4973, \"order_date\": \"2025-01-10\", \"transaction_timestamp\": \"2025-01-10 20:35:43\", \"total_amount\": 149, \"payment_method\": \"Bank Transfer\", \"items\": [{\"item_id\": 6, \"name\": \"Bluetooth Speaker\", \"category\": \"Electronics\", \"price\": 149, \"quantity\": 1, \"details\": {\"brand\": \"Bose\", \"color\": \"Gray\"}}], \"order_status\": \"Completed\"}</td></tr><tr><td>7</td><td>{\"item_id\":7,\"name\":\"External Hard Drive\",\"category\":\"Electronics\",\"price\":129,\"quantity\":3,\"details\":{\"brand\":\"GoPro\",\"color\":\"Gray\"}}</td><td>{\"item_id\":7,\"name\":\"External Hard Drive\",\"category\":\"Electronics\",\"price\":129,\"quantity\":3,\"details\":{\"brand\":\"GoPro\",\"color\":\"Gray\"}}</td><td>{\"order_id\": 73, \"customer_id\": 6167, \"order_date\": \"2025-01-07\", \"transaction_timestamp\": \"2025-01-07 01:02:26\", \"total_amount\": 387, \"payment_method\": \"Credit Card\", \"items\": [{\"item_id\": 7, \"name\": \"External Hard Drive\", \"category\": \"Electronics\", \"price\": 129, \"quantity\": 3, \"details\": {\"brand\": \"GoPro\", \"color\": \"Gray\"}}, {\"item_id\": 7, \"name\": \"External Hard Drive\", \"category\": \"Electronics\", \"price\": 129, \"quantity\": 3, \"details\": {\"brand\": \"GoPro\", \"color\": \"Gray\"}}], \"order_status\": \"Shipped\"}</td></tr><tr><td>1</td><td>{\"item_id\":1,\"name\":\"Smartphone\",\"category\":\"Electronics\",\"price\":699,\"quantity\":1,\"details\":{\"brand\":\"GoPro\",\"color\":\"White\"}}</td><td>null</td><td>{\"order_id\": 75, \"customer_id\": 6167, \"order_date\": \"2025-01-19\", \"transaction_timestamp\": \"2025-01-19 16:23:16\", \"total_amount\": 699, \"payment_method\": \"Credit Card\", \"items\": [{\"item_id\": 1, \"name\": \"Smartphone\", \"category\": \"Electronics\", \"price\": 699, \"quantity\": 1, \"details\": {\"brand\": \"GoPro\", \"color\": \"White\"}}], \"order_status\": \"Shipped\"}</td></tr><tr><td>5</td><td>{\"item_id\":5,\"name\":\"Tablet\",\"category\":\"Electronics\",\"price\":399,\"quantity\":1,\"details\":{\"brand\":\"Microsoft\",\"color\":\"Silver\"}}</td><td>null</td><td>{\"order_id\": 76, \"customer_id\": 3295, \"order_date\": \"2025-01-06\", \"transaction_timestamp\": \"2025-01-06 02:54:39\", \"total_amount\": 399, \"payment_method\": \"Bank Transfer\", \"items\": [{\"item_id\": 5, \"name\": \"Tablet\", \"category\": \"Electronics\", \"price\": 399, \"quantity\": 1, \"details\": {\"brand\": \"Microsoft\", \"color\": \"Silver\"}}], \"order_status\": \"Completed\"}</td></tr><tr><td>5</td><td>{\"item_id\":5,\"name\":\"Tablet\",\"category\":\"Electronics\",\"price\":399,\"quantity\":2,\"details\":{\"brand\":\"Dell\",\"color\":\"White\"}}</td><td>null</td><td>{\"order_id\": 78, \"customer_id\": 9084, \"order_date\": \"2025-01-21\", \"transaction_timestamp\": \"2025-01-21 11:42:51\", \"total_amount\": 798, \"payment_method\": \"PayPal\", \"items\": [{\"item_id\": 5, \"name\": \"Tablet\", \"category\": \"Electronics\", \"price\": 399, \"quantity\": 2, \"details\": {\"brand\": \"Dell\", \"color\": \"White\"}}], \"order_status\": \"Cancelled\"}</td></tr><tr><td>8</td><td>{\"item_id\":8,\"name\":\"Gaming Console\",\"category\":\"Electronics\",\"price\":499,\"quantity\":2,\"details\":{\"brand\":\"Dell\",\"color\":\"Gray\"}}</td><td>null</td><td>{\"order_id\": 79, \"customer_id\": 9084, \"order_date\": \"2025-01-25\", \"transaction_timestamp\": \"2025-01-25 03:52:05\", \"total_amount\": 998, \"payment_method\": \"Credit Card\", \"items\": [{\"item_id\": 8, \"name\": \"Gaming Console\", \"category\": \"Electronics\", \"price\": 499, \"quantity\": 2, \"details\": {\"brand\": \"Dell\", \"color\": \"Gray\"}}], \"order_status\": \"Cancelled\"}</td></tr><tr><td>7</td><td>{\"item_id\":7,\"name\":\"External Hard Drive\",\"category\":\"Electronics\",\"price\":129,\"quantity\":3,\"details\":{\"brand\":\"Canon\",\"color\":\"Gray\"}}</td><td>{\"item_id\":3,\"name\":\"Wireless Headphones\",\"category\":\"Electronics\",\"price\":199,\"quantity\":2,\"details\":{\"brand\":\"Sony\",\"color\":\"Black\"}}</td><td>{\"order_id\": 83, \"customer_id\": 2344, \"order_date\": \"2025-01-07\", \"transaction_timestamp\": \"2025-01-07 12:48:05\", \"total_amount\": 785, \"payment_method\": \"PayPal\", \"items\": [{\"item_id\": 7, \"name\": \"External Hard Drive\", \"category\": \"Electronics\", \"price\": 129, \"quantity\": 3, \"details\": {\"brand\": \"Canon\", \"color\": \"Gray\"}}, {\"item_id\": 3, \"name\": \"Wireless Headphones\", \"category\": \"Electronics\", \"price\": 199, \"quantity\": 2, \"details\": {\"brand\": \"Sony\", \"color\": \"Black\"}}], \"order_status\": \"Shipped\"}</td></tr><tr><td>7</td><td>{\"item_id\":7,\"name\":\"External Hard Drive\",\"category\":\"Electronics\",\"price\":129,\"quantity\":1,\"details\":{\"brand\":\"Apple\",\"color\":\"Blue\"}}</td><td>null</td><td>{\"order_id\": 87, \"customer_id\": 2141, \"order_date\": \"2025-01-02\", \"transaction_timestamp\": \"2025-01-02 04:28:38\", \"total_amount\": 129, \"payment_method\": \"PayPal\", \"items\": [{\"item_id\": 7, \"name\": \"External Hard Drive\", \"category\": \"Electronics\", \"price\": 129, \"quantity\": 1, \"details\": {\"brand\": \"Apple\", \"color\": \"Blue\"}}], \"order_status\": \"Pending\"}</td></tr><tr><td>7</td><td>{\"item_id\":7,\"name\":\"External Hard Drive\",\"category\":\"Electronics\",\"price\":129,\"quantity\":1,\"details\":{\"brand\":\"Canon\",\"color\":\"White\"}}</td><td>{\"item_id\":7,\"name\":\"External Hard Drive\",\"category\":\"Electronics\",\"price\":129,\"quantity\":1,\"details\":{\"brand\":\"Samsung\",\"color\":\"Black\"}}</td><td>{\"order_id\": 90, \"customer_id\": 9247, \"order_date\": \"2025-01-17\", \"transaction_timestamp\": \"2025-01-17 14:30:54\", \"total_amount\": 258, \"payment_method\": \"Credit Card\", \"items\": [{\"item_id\": 7, \"name\": \"External Hard Drive\", \"category\": \"Electronics\", \"price\": 129, \"quantity\": 1, \"details\": {\"brand\": \"Canon\", \"color\": \"White\"}}, {\"item_id\": 7, \"name\": \"External Hard Drive\", \"category\": \"Electronics\", \"price\": 129, \"quantity\": 1, \"details\": {\"brand\": \"Samsung\", \"color\": \"Black\"}}], \"order_status\": \"Pending\"}</td></tr><tr><td>6</td><td>{\"item_id\":6,\"name\":\"Bluetooth Speaker\",\"category\":\"Electronics\",\"price\":149,\"quantity\":2,\"details\":{\"brand\":\"Sony\",\"color\":\"Black\"}}</td><td>{\"item_id\":3,\"name\":\"Wireless Headphones\",\"category\":\"Electronics\",\"price\":199,\"quantity\":3,\"details\":{\"brand\":\"Apple\",\"color\":\"Blue\"}}</td><td>{\"order_id\": 94, \"customer_id\": 6627, \"order_date\": \"2025-01-10\", \"transaction_timestamp\": \"2025-01-10 09:51:48\", \"total_amount\": 895, \"payment_method\": \"Credit Card\", \"items\": [{\"item_id\": 6, \"name\": \"Bluetooth Speaker\", \"category\": \"Electronics\", \"price\": 149, \"quantity\": 2, \"details\": {\"brand\": \"Sony\", \"color\": \"Black\"}}, {\"item_id\": 3, \"name\": \"Wireless Headphones\", \"category\": \"Electronics\", \"price\": 199, \"quantity\": 3, \"details\": {\"brand\": \"Apple\", \"color\": \"Blue\"}}], \"order_status\": \"Pending\"}</td></tr><tr><td>7</td><td>{\"item_id\":7,\"name\":\"External Hard Drive\",\"category\":\"Electronics\",\"price\":129,\"quantity\":3,\"details\":{\"brand\":\"HP\",\"color\":\"Blue\"}}</td><td>{\"item_id\":4,\"name\":\"Smartwatch\",\"category\":\"Electronics\",\"price\":299,\"quantity\":2,\"details\":{\"brand\":\"Samsung\",\"color\":\"Gray\"}}</td><td>{\"order_id\": 98, \"customer_id\": 9150, \"order_date\": \"2025-01-08\", \"transaction_timestamp\": \"2025-01-08 05:57:55\", \"total_amount\": 985, \"payment_method\": \"Credit Card\", \"items\": [{\"item_id\": 7, \"name\": \"External Hard Drive\", \"category\": \"Electronics\", \"price\": 129, \"quantity\": 3, \"details\": {\"brand\": \"HP\", \"color\": \"Blue\"}}, {\"item_id\": 4, \"name\": \"Smartwatch\", \"category\": \"Electronics\", \"price\": 299, \"quantity\": 2, \"details\": {\"brand\": \"Samsung\", \"color\": \"Gray\"}}], \"order_status\": \"Completed\"}</td></tr><tr><td>1</td><td>{\"item_id\":1,\"name\":\"Smartphone\",\"category\":\"Electronics\",\"price\":699,\"quantity\":1,\"details\":{\"brand\":\"Bose\",\"color\":\"Gray\"}}</td><td>null</td><td>{\"order_id\": 99, \"customer_id\": 9150, \"order_date\": \"2025-01-10\", \"transaction_timestamp\": \"2025-01-10 21:43:46\", \"total_amount\": 699, \"payment_method\": \"Credit Card\", \"items\": [{\"item_id\": 1, \"name\": \"Smartphone\", \"category\": \"Electronics\", \"price\": 699, \"quantity\": 1, \"details\": {\"brand\": \"Bose\", \"color\": \"Gray\"}}], \"order_status\": \"Shipped\"}</td></tr><tr><td>6</td><td>{\"item_id\":6,\"name\":\"Bluetooth Speaker\",\"category\":\"Electronics\",\"price\":149,\"quantity\":3,\"details\":{\"brand\":\"LG\",\"color\":\"Silver\"}}</td><td>null</td><td>{\"order_id\": 100, \"customer_id\": 9150, \"order_date\": \"2025-01-04\", \"transaction_timestamp\": \"2025-01-04 06:40:13\", \"total_amount\": 447, \"payment_method\": \"PayPal\", \"items\": [{\"item_id\": 6, \"name\": \"Bluetooth Speaker\", \"category\": \"Electronics\", \"price\": 149, \"quantity\": 3, \"details\": {\"brand\": \"LG\", \"color\": \"Silver\"}}], \"order_status\": \"Shipped\"}</td></tr><tr><td>2</td><td>{\"item_id\":2,\"name\":\"Laptop\",\"category\":\"Electronics\",\"price\":999,\"quantity\":1,\"details\":{\"brand\":\"Sony\",\"color\":\"White\"}}</td><td>null</td><td>{\"order_id\": 12, \"customer_id\": 5816, \"order_date\": \"2024-12-06\", \"transaction_timestamp\": \"2024-12-06 20:26:49\", \"total_amount\": 999, \"payment_method\": \"PayPal\", \"items\": [{\"item_id\": 2, \"name\": \"Laptop\", \"category\": \"Electronics\", \"price\": 999, \"quantity\": 1, \"details\": {\"brand\": \"Sony\", \"color\": \"White\"}}], \"order_status\": \"Cancelled\"}</td></tr><tr><td>2</td><td>{\"item_id\":2,\"name\":\"Laptop\",\"category\":\"Electronics\",\"price\":999,\"quantity\":1,\"details\":{\"brand\":\"GoPro\",\"color\":\"Black\"}}</td><td>null</td><td>{\"order_id\": 13, \"customer_id\": 4858, \"order_date\": \"2024-12-17\", \"transaction_timestamp\": \"2024-12-17 03:41:37\", \"total_amount\": 999, \"payment_method\": \"PayPal\", \"items\": [{\"item_id\": 2, \"name\": \"Laptop\", \"category\": \"Electronics\", \"price\": 999, \"quantity\": 1, \"details\": {\"brand\": \"GoPro\", \"color\": \"Black\"}}], \"order_status\": \"Pending\"}</td></tr><tr><td>3</td><td>{\"item_id\":3,\"name\":\"Wireless Headphones\",\"category\":\"Electronics\",\"price\":199,\"quantity\":3,\"details\":{\"brand\":\"Sony\",\"color\":\"Silver\"}}</td><td>null</td><td>{\"order_id\": 16, \"customer_id\": 5204, \"order_date\": \"2024-12-08\", \"transaction_timestamp\": \"2024-12-08 22:59:48\", \"total_amount\": 597, \"payment_method\": \"Bank Transfer\", \"items\": [{\"item_id\": 3, \"name\": \"Wireless Headphones\", \"category\": \"Electronics\", \"price\": 199, \"quantity\": 3, \"details\": {\"brand\": \"Sony\", \"color\": \"Silver\"}}], \"order_status\": \"Pending\"}</td></tr><tr><td>8</td><td>{\"item_id\":8,\"name\":\"Gaming Console\",\"category\":\"Electronics\",\"price\":499,\"quantity\":2,\"details\":{\"brand\":\"Dell\",\"color\":\"Black\"}}</td><td>null</td><td>{\"order_id\": 17, \"customer_id\": 5204, \"order_date\": \"2024-12-02\", \"transaction_timestamp\": \"2024-12-02 12:00:50\", \"total_amount\": 998, \"payment_method\": \"Bank Transfer\", \"items\": [{\"item_id\": 8, \"name\": \"Gaming Console\", \"category\": \"Electronics\", \"price\": 499, \"quantity\": 2, \"details\": {\"brand\": \"Dell\", \"color\": \"Black\"}}], \"order_status\": \"Pending\"}</td></tr><tr><td>9</td><td>{\"item_id\":9,\"name\":\"Smart TV\",\"category\":\"Electronics\",\"price\":1199,\"quantity\":1,\"details\":{\"brand\":\"GoPro\",\"color\":\"Gray\"}}</td><td>null</td><td>{\"order_id\": 24, \"customer_id\": 1211, \"order_date\": \"2024-12-21\", \"transaction_timestamp\": \"2024-12-21 03:24:26\", \"total_amount\": 1199, \"payment_method\": \"PayPal\", \"items\": [{\"item_id\": 9, \"name\": \"Smart TV\", \"category\": \"Electronics\", \"price\": 1199, \"quantity\": 1, \"details\": {\"brand\": \"GoPro\", \"color\": \"Gray\"}}], \"order_status\": \"Completed\"}</td></tr><tr><td>7</td><td>{\"item_id\":7,\"name\":\"External Hard Drive\",\"category\":\"Electronics\",\"price\":129,\"quantity\":2,\"details\":{\"brand\":\"Dell\",\"color\":\"White\"}}</td><td>{\"item_id\":6,\"name\":\"Bluetooth Speaker\",\"category\":\"Electronics\",\"price\":149,\"quantity\":3,\"details\":{\"brand\":\"Canon\",\"color\":\"Black\"}}</td><td>{\"order_id\": 27, \"customer_id\": 2703, \"order_date\": \"2024-12-02\", \"transaction_timestamp\": \"2024-12-02 11:24:21\", \"total_amount\": 904, \"payment_method\": \"Credit Card\", \"items\": [{\"item_id\": 7, \"name\": \"External Hard Drive\", \"category\": \"Electronics\", \"price\": 129, \"quantity\": 2, \"details\": {\"brand\": \"Dell\", \"color\": \"White\"}}, {\"item_id\": 6, \"name\": \"Bluetooth Speaker\", \"category\": \"Electronics\", \"price\": 149, \"quantity\": 3, \"details\": {\"brand\": \"Canon\", \"color\": \"Black\"}}, {\"item_id\": 3, \"name\": \"Wireless Headphones\", \"category\": \"Electronics\", \"price\": 199, \"quantity\": 1, \"details\": {\"brand\": \"Microsoft\", \"color\": \"Silver\"}}], \"order_status\": \"Completed\"}</td></tr><tr><td>7</td><td>{\"item_id\":7,\"name\":\"External Hard Drive\",\"category\":\"Electronics\",\"price\":129,\"quantity\":1,\"details\":{\"brand\":\"GoPro\",\"color\":\"Blue\"}}</td><td>null</td><td>{\"order_id\": 28, \"customer_id\": 2703, \"order_date\": \"2024-12-26\", \"transaction_timestamp\": \"2024-12-26 03:17:50\", \"total_amount\": 129, \"payment_method\": \"Credit Card\", \"items\": [{\"item_id\": 7, \"name\": \"External Hard Drive\", \"category\": \"Electronics\", \"price\": 129, \"quantity\": 1, \"details\": {\"brand\": \"GoPro\", \"color\": \"Blue\"}}], \"order_status\": \"Cancelled\"}</td></tr><tr><td>5</td><td>{\"item_id\":5,\"name\":\"Tablet\",\"category\":\"Electronics\",\"price\":399,\"quantity\":1,\"details\":{\"brand\":\"Apple\",\"color\":\"Silver\"}}</td><td>null</td><td>{\"order_id\": 32, \"customer_id\": 4996, \"order_date\": \"2024-12-28\", \"transaction_timestamp\": \"2024-12-28 08:55:57\", \"total_amount\": 399, \"payment_method\": \"PayPal\", \"items\": [{\"item_id\": 5, \"name\": \"Tablet\", \"category\": \"Electronics\", \"price\": 399, \"quantity\": 1, \"details\": {\"brand\": \"Apple\", \"color\": \"Silver\"}}], \"order_status\": \"Pending\"}</td></tr><tr><td>7</td><td>{\"item_id\":7,\"name\":\"External Hard Drive\",\"category\":\"Electronics\",\"price\":129,\"quantity\":2,\"details\":{\"brand\":\"HP\",\"color\":\"Silver\"}}</td><td>null</td><td>{\"order_id\": 37, \"customer_id\": 7829, \"order_date\": \"2024-12-22\", \"transaction_timestamp\": \"2024-12-22 10:11:49\", \"total_amount\": 258, \"payment_method\": \"Credit Card\", \"items\": [{\"item_id\": 7, \"name\": \"External Hard Drive\", \"category\": \"Electronics\", \"price\": 129, \"quantity\": 2, \"details\": {\"brand\": \"HP\", \"color\": \"Silver\"}}], \"order_status\": \"Shipped\"}</td></tr><tr><td>6</td><td>{\"item_id\":6,\"name\":\"Bluetooth Speaker\",\"category\":\"Electronics\",\"price\":149,\"quantity\":3,\"details\":{\"brand\":\"Apple\",\"color\":\"Gray\"}}</td><td>null</td><td>{\"order_id\": 38, \"customer_id\": 7829, \"order_date\": \"2024-12-25\", \"transaction_timestamp\": \"2024-12-25 22:05:19\", \"total_amount\": 447, \"payment_method\": \"Credit Card\", \"items\": [{\"item_id\": 6, \"name\": \"Bluetooth Speaker\", \"category\": \"Electronics\", \"price\": 149, \"quantity\": 3, \"details\": {\"brand\": \"Apple\", \"color\": \"Gray\"}}], \"order_status\": \"Shipped\"}</td></tr><tr><td>7</td><td>{\"item_id\":7,\"name\":\"External Hard Drive\",\"category\":\"Electronics\",\"price\":129,\"quantity\":1,\"details\":{\"brand\":\"Bose\",\"color\":\"Blue\"}}</td><td>null</td><td>{\"order_id\": 44, \"customer_id\": 7295, \"order_date\": \"2024-12-20\", \"transaction_timestamp\": \"2024-12-20 08:05:43\", \"total_amount\": 129, \"payment_method\": \"Credit Card\", \"items\": [{\"item_id\": 7, \"name\": \"External Hard Drive\", \"category\": \"Electronics\", \"price\": 129, \"quantity\": 1, \"details\": {\"brand\": \"Bose\", \"color\": \"Blue\"}}], \"order_status\": \"Completed\"}</td></tr><tr><td>4</td><td>{\"item_id\":4,\"name\":\"Smartwatch\",\"category\":\"Electronics\",\"price\":299,\"quantity\":1,\"details\":{\"brand\":\"HP\",\"color\":\"White\"}}</td><td>{\"item_id\":4,\"name\":\"Smartwatch\",\"category\":\"Electronics\",\"price\":299,\"quantity\":1,\"details\":{\"brand\":\"Canon\",\"color\":\"Blue\"}}</td><td>{\"order_id\": 49, \"customer_id\": 7803, \"order_date\": \"2024-12-07\", \"transaction_timestamp\": \"2024-12-07 23:24:11\", \"total_amount\": 747, \"payment_method\": \"PayPal\", \"items\": [{\"item_id\": 4, \"name\": \"Smartwatch\", \"category\": \"Electronics\", \"price\": 299, \"quantity\": 1, \"details\": {\"brand\": \"HP\", \"color\": \"White\"}}, {\"item_id\": 4, \"name\": \"Smartwatch\", \"category\": \"Electronics\", \"price\": 299, \"quantity\": 1, \"details\": {\"brand\": \"Canon\", \"color\": \"Blue\"}}, {\"item_id\": 6, \"name\": \"Bluetooth Speaker\", \"category\": \"Electronics\", \"price\": 149, \"quantity\": 1, \"details\": {\"brand\": \"Samsung\", \"color\": \"White\"}}], \"order_status\": \"Cancelled\"}</td></tr><tr><td>3</td><td>{\"item_id\":3,\"name\":\"Wireless Headphones\",\"category\":\"Electronics\",\"price\":199,\"quantity\":2,\"details\":{\"brand\":\"Bose\",\"color\":\"Gray\"}}</td><td>null</td><td>{\"order_id\": 54, \"customer_id\": 2054, \"order_date\": \"2024-12-20\", \"transaction_timestamp\": \"2024-12-20 12:04:27\", \"total_amount\": 398, \"payment_method\": \"Credit Card\", \"items\": [{\"item_id\": 3, \"name\": \"Wireless Headphones\", \"category\": \"Electronics\", \"price\": 199, \"quantity\": 2, \"details\": {\"brand\": \"Bose\", \"color\": \"Gray\"}}], \"order_status\": \"Pending\"}</td></tr><tr><td>1</td><td>{\"item_id\":1,\"name\":\"Smartphone\",\"category\":\"Electronics\",\"price\":699,\"quantity\":1,\"details\":{\"brand\":\"Microsoft\",\"color\":\"Gray\"}}</td><td>null</td><td>{\"order_id\": 58, \"customer_id\": 8580, \"order_date\": \"2024-12-09\", \"transaction_timestamp\": \"2024-12-09 22:40:58\", \"total_amount\": 699, \"payment_method\": \"PayPal\", \"items\": [{\"item_id\": 1, \"name\": \"Smartphone\", \"category\": \"Electronics\", \"price\": 699, \"quantity\": 1, \"details\": {\"brand\": \"Microsoft\", \"color\": \"Gray\"}}], \"order_status\": \"Completed\"}</td></tr><tr><td>3</td><td>{\"item_id\":3,\"name\":\"Wireless Headphones\",\"category\":\"Electronics\",\"price\":199,\"quantity\":1,\"details\":{\"brand\":\"Samsung\",\"color\":\"Blue\"}}</td><td>null</td><td>{\"order_id\": 60, \"customer_id\": 3409, \"order_date\": \"2024-12-13\", \"transaction_timestamp\": \"2024-12-13 13:10:12\", \"total_amount\": 199, \"payment_method\": \"Bank Transfer\", \"items\": [{\"item_id\": 3, \"name\": \"Wireless Headphones\", \"category\": \"Electronics\", \"price\": 199, \"quantity\": 1, \"details\": {\"brand\": \"Samsung\", \"color\": \"Blue\"}}], \"order_status\": \"Shipped\"}</td></tr><tr><td>1</td><td>{\"item_id\":1,\"name\":\"Smartphone\",\"category\":\"Electronics\",\"price\":699,\"quantity\":1,\"details\":{\"brand\":\"Canon\",\"color\":\"Black\"}}</td><td>null</td><td>{\"order_id\": 61, \"customer_id\": 7123, \"order_date\": \"2024-12-07\", \"transaction_timestamp\": \"2024-12-07 07:47:19\", \"total_amount\": 699, \"payment_method\": \"Bank Transfer\", \"items\": [{\"item_id\": 1, \"name\": \"Smartphone\", \"category\": \"Electronics\", \"price\": 699, \"quantity\": 1, \"details\": {\"brand\": \"Canon\", \"color\": \"Black\"}}], \"order_status\": \"Completed\"}</td></tr><tr><td>5</td><td>{\"item_id\":5,\"name\":\"Tablet\",\"category\":\"Electronics\",\"price\":399,\"quantity\":1,\"details\":{\"brand\":\"Microsoft\",\"color\":\"Gray\"}}</td><td>null</td><td>{\"order_id\": 65, \"customer_id\": 3084, \"order_date\": \"2024-12-09\", \"transaction_timestamp\": \"2024-12-09 13:04:13\", \"total_amount\": 399, \"payment_method\": \"Bank Transfer\", \"items\": [{\"item_id\": 5, \"name\": \"Tablet\", \"category\": \"Electronics\", \"price\": 399, \"quantity\": 1, \"details\": {\"brand\": \"Microsoft\", \"color\": \"Gray\"}}], \"order_status\": \"Cancelled\"}</td></tr><tr><td>4</td><td>{\"item_id\":4,\"name\":\"Smartwatch\",\"category\":\"Electronics\",\"price\":299,\"quantity\":3,\"details\":{\"brand\":\"LG\",\"color\":\"Blue\"}}</td><td>null</td><td>{\"order_id\": 67, \"customer_id\": 3084, \"order_date\": \"2024-12-19\", \"transaction_timestamp\": \"2024-12-19 07:11:09\", \"total_amount\": 897, \"payment_method\": \"PayPal\", \"items\": [{\"item_id\": 4, \"name\": \"Smartwatch\", \"category\": \"Electronics\", \"price\": 299, \"quantity\": 3, \"details\": {\"brand\": \"LG\", \"color\": \"Blue\"}}], \"order_status\": \"Shipped\"}</td></tr><tr><td>1</td><td>{\"item_id\":1,\"name\":\"Smartphone\",\"category\":\"Electronics\",\"price\":699,\"quantity\":1,\"details\":{\"brand\":\"Dell\",\"color\":\"Gray\"}}</td><td>null</td><td>{\"order_id\": 69, \"customer_id\": 4973, \"order_date\": \"2024-12-30\", \"transaction_timestamp\": \"2024-12-30 02:42:01\", \"total_amount\": 699, \"payment_method\": \"Bank Transfer\", \"items\": [{\"item_id\": 1, \"name\": \"Smartphone\", \"category\": \"Electronics\", \"price\": 699, \"quantity\": 1, \"details\": {\"brand\": \"Dell\", \"color\": \"Gray\"}}], \"order_status\": \"Completed\"}</td></tr><tr><td>4</td><td>{\"item_id\":4,\"name\":\"Smartwatch\",\"category\":\"Electronics\",\"price\":299,\"quantity\":3,\"details\":{\"brand\":\"Sony\",\"color\":\"Black\"}}</td><td>null</td><td>{\"order_id\": 70, \"customer_id\": 7997, \"order_date\": \"2024-12-04\", \"transaction_timestamp\": \"2024-12-04 17:17:24\", \"total_amount\": 897, \"payment_method\": \"PayPal\", \"items\": [{\"item_id\": 4, \"name\": \"Smartwatch\", \"category\": \"Electronics\", \"price\": 299, \"quantity\": 3, \"details\": {\"brand\": \"Sony\", \"color\": \"Black\"}}], \"order_status\": \"Shipped\"}</td></tr><tr><td>null</td><td>null</td><td>null</td><td>{\"order_id\": 71, \"customer_id\": 7997, \"order_date\": 2024-12-27, \"transaction_timestamp\": \"2024-12-27 11:16:39\", \"total_amount\": 199, \"payment_method\": \"Bank Transfer\", \"items\": [{\"item_id\": 3, \"name\": \"Wireless Headphones\", \"category\": \"Electronics\", \"price\": 199, \"quantity\": 1, \"details\": {\"brand\": \"Microsoft\", \"color\": \"Black\"}}], \"order_status\": \"Completed\"}</td></tr><tr><td>1</td><td>{\"item_id\":1,\"name\":\"Smartphone\",\"category\":\"Electronics\",\"price\":699,\"quantity\":1,\"details\":{\"brand\":\"Samsung\",\"color\":\"Blue\"}}</td><td>null</td><td>{\"order_id\": 74, \"customer_id\": 6167, \"order_date\": \"2024-12-22\", \"transaction_timestamp\": \"2024-12-22 15:54:11\", \"total_amount\": 699, \"payment_method\": \"PayPal\", \"items\": [{\"item_id\": 1, \"name\": \"Smartphone\", \"category\": \"Electronics\", \"price\": 699, \"quantity\": 1, \"details\": {\"brand\": \"Samsung\", \"color\": \"Blue\"}}], \"order_status\": \"Pending\"}</td></tr><tr><td>8</td><td>{\"item_id\":8,\"name\":\"Gaming Console\",\"category\":\"Electronics\",\"price\":499,\"quantity\":2,\"details\":{\"brand\":\"Samsung\",\"color\":\"White\"}}</td><td>null</td><td>{\"order_id\": 80, \"customer_id\": 9687, \"order_date\": \"2024-12-11\", \"transaction_timestamp\": \"2024-12-11 07:43:54\", \"total_amount\": 998, \"payment_method\": \"Bank Transfer\", \"items\": [{\"item_id\": 8, \"name\": \"Gaming Console\", \"category\": \"Electronics\", \"price\": 499, \"quantity\": 2, \"details\": {\"brand\": \"Samsung\", \"color\": \"White\"}}], \"order_status\": \"Cancelled\"}</td></tr><tr><td>1</td><td>{\"item_id\":1,\"name\":\"Smartphone\",\"category\":\"Electronics\",\"price\":699,\"quantity\":1,\"details\":{\"brand\":\"GoPro\",\"color\":\"Blue\"}}</td><td>null</td><td>{\"order_id\": 81, \"customer_id\": 9687, \"order_date\": \"2024-12-27\", \"transaction_timestamp\": \"2024-12-27 02:27:45\", \"total_amount\": 699, \"payment_method\": \"PayPal\", \"items\": [{\"item_id\": 1, \"name\": \"Smartphone\", \"category\": \"Electronics\", \"price\": 699, \"quantity\": 1, \"details\": {\"brand\": \"GoPro\", \"color\": \"Blue\"}}], \"order_status\": \"Completed\"}</td></tr><tr><td>7</td><td>{\"item_id\":7,\"name\":\"External Hard Drive\",\"category\":\"Electronics\",\"price\":129,\"quantity\":3,\"details\":{\"brand\":\"Sony\",\"color\":\"Blue\"}}</td><td>null</td><td>{\"order_id\": 82, \"customer_id\": 2344, \"order_date\": \"2024-12-28\", \"transaction_timestamp\": \"2024-12-28 00:54:08\", \"total_amount\": 387, \"payment_method\": \"PayPal\", \"items\": [{\"item_id\": 7, \"name\": \"External Hard Drive\", \"category\": \"Electronics\", \"price\": 129, \"quantity\": 3, \"details\": {\"brand\": \"Sony\", \"color\": \"Blue\"}}], \"order_status\": \"Completed\"}</td></tr><tr><td>1</td><td>{\"item_id\":1,\"name\":\"Smartphone\",\"category\":\"Electronics\",\"price\":699,\"quantity\":1,\"details\":{\"brand\":\"Canon\",\"color\":\"Silver\"}}</td><td>null</td><td>{\"order_id\": 91, \"customer_id\": 5592, \"order_date\": \"2024-12-17\", \"transaction_timestamp\": \"2024-12-17 00:09:53\", \"total_amount\": 699, \"payment_method\": \"Bank Transfer\", \"items\": [{\"item_id\": 1, \"name\": \"Smartphone\", \"category\": \"Electronics\", \"price\": 699, \"quantity\": 1, \"details\": {\"brand\": \"Canon\", \"color\": \"Silver\"}}], \"order_status\": \"Cancelled\"}</td></tr><tr><td>4</td><td>{\"item_id\":4,\"name\":\"Smartwatch\",\"category\":\"Electronics\",\"price\":299,\"quantity\":2,\"details\":{\"brand\":\"LG\",\"color\":\"Silver\"}}</td><td>null</td><td>{\"order_id\": 93, \"customer_id\": 6627, \"order_date\": \"2024-12-22\", \"transaction_timestamp\": \"2024-12-22 05:07:46\", \"total_amount\": 598, \"payment_method\": \"PayPal\", \"items\": [{\"item_id\": 4, \"name\": \"Smartwatch\", \"category\": \"Electronics\", \"price\": 299, \"quantity\": 2, \"details\": {\"brand\": \"LG\", \"color\": \"Silver\"}}], \"order_status\": \"Pending\"}</td></tr><tr><td>4</td><td>{\"item_id\":4,\"name\":\"Smartwatch\",\"category\":\"Electronics\",\"price\":299,\"quantity\":2,\"details\":{\"brand\":\"GoPro\",\"color\":\"White\"}}</td><td>{\"item_id\":3,\"name\":\"Wireless Headphones\",\"category\":\"Electronics\",\"price\":199,\"quantity\":1,\"details\":{\"brand\":\"Bose\",\"color\":\"Gray\"}}</td><td>{\"order_id\": 95, \"customer_id\": 6627, \"order_date\": \"2024-12-28\", \"transaction_timestamp\": \"2024-12-28 04:28:30\", \"total_amount\": 946, \"payment_method\": \"Bank Transfer\", \"items\": [{\"item_id\": 4, \"name\": \"Smartwatch\", \"category\": \"Electronics\", \"price\": 299, \"quantity\": 2, \"details\": {\"brand\": \"GoPro\", \"color\": \"White\"}}, {\"item_id\": 3, \"name\": \"Wireless Headphones\", \"category\": \"Electronics\", \"price\": 199, \"quantity\": 1, \"details\": {\"brand\": \"Bose\", \"color\": \"Gray\"}}, {\"item_id\": 6, \"name\": \"Bluetooth Speaker\", \"category\": \"Electronics\", \"price\": 149, \"quantity\": 1, \"details\": {\"brand\": \"Dell\", \"color\": \"Silver\"}}], \"order_status\": \"Completed\"}</td></tr><tr><td>6</td><td>{\"item_id\":6,\"name\":\"Bluetooth Speaker\",\"category\":\"Electronics\",\"price\":149,\"quantity\":1,\"details\":{\"brand\":\"Microsoft\",\"color\":\"Black\"}}</td><td>null</td><td>{\"order_id\": 96, \"customer_id\": 6406, \"order_date\": \"2024-12-02\", \"transaction_timestamp\": \"2024-12-02 12:27:45\", \"total_amount\": 149, \"payment_method\": \"PayPal\", \"items\": [{\"item_id\": 6, \"name\": \"Bluetooth Speaker\", \"category\": \"Electronics\", \"price\": 149, \"quantity\": 1, \"details\": {\"brand\": \"Microsoft\", \"color\": \"Black\"}}], \"order_status\": \"Shipped\"}</td></tr><tr><td>8</td><td>{\"item_id\":8,\"name\":\"Gaming Console\",\"category\":\"Electronics\",\"price\":499,\"quantity\":1,\"details\":{\"brand\":\"Sony\",\"color\":\"Silver\"}}</td><td>null</td><td>{\"order_id\": 97, \"customer_id\": 6406, \"order_date\": \"2024-12-07\", \"transaction_timestamp\": \"2024-12-07 16:14:34\", \"total_amount\": 499, \"payment_method\": \"Bank Transfer\", \"items\": [{\"item_id\": 8, \"name\": \"Gaming Console\", \"category\": \"Electronics\", \"price\": 499, \"quantity\": 1, \"details\": {\"brand\": \"Sony\", \"color\": \"Silver\"}}], \"order_status\": \"Completed\"}</td></tr><tr><td>8</td><td>{\"item_id\":8,\"name\":\"Gaming Console\",\"category\":\"Electronics\",\"price\":499,\"quantity\":2,\"details\":{\"brand\":\"Dell\",\"color\":\"Blue\"}}</td><td>null</td><td>{\"order_id\": 5, \"customer_id\": 3892, \"order_date\": \"2024-11-16\", \"transaction_timestamp\": \"2024-11-16 23:07:31\", \"total_amount\": 998, \"payment_method\": \"Bank Transfer\", \"items\": [{\"item_id\": 8, \"name\": \"Gaming Console\", \"category\": \"Electronics\", \"price\": 499, \"quantity\": 2, \"details\": {\"brand\": \"Dell\", \"color\": \"Blue\"}}], \"order_status\": \"Cancelled\"}</td></tr><tr><td>7</td><td>{\"item_id\":7,\"name\":\"External Hard Drive\",\"category\":\"Electronics\",\"price\":129,\"quantity\":2,\"details\":{\"brand\":\"LG\",\"color\":\"Blue\"}}</td><td>{\"item_id\":7,\"name\":\"External Hard Drive\",\"category\":\"Electronics\",\"price\":129,\"quantity\":3,\"details\":{\"brand\":\"HP\",\"color\":\"Gray\"}}</td><td>{\"order_id\": 7, \"customer_id\": 1987, \"order_date\": \"2024-11-19\", \"transaction_timestamp\": \"2024-11-19 19:18:48\", \"total_amount\": 645, \"payment_method\": \"Credit Card\", \"items\": [{\"item_id\": 7, \"name\": \"External Hard Drive\", \"category\": \"Electronics\", \"price\": 129, \"quantity\": 2, \"details\": {\"brand\": \"LG\", \"color\": \"Blue\"}}, {\"item_id\": 7, \"name\": \"External Hard Drive\", \"category\": \"Electronics\", \"price\": 129, \"quantity\": 3, \"details\": {\"brand\": \"HP\", \"color\": \"Gray\"}}], \"order_status\": \"Pending\"}</td></tr><tr><td>2</td><td>{\"item_id\":2,\"name\":\"Laptop\",\"category\":\"Electronics\",\"price\":999,\"quantity\":1,\"details\":{\"brand\":\"Apple\",\"color\":\"Black\"}}</td><td>null</td><td>{\"order_id\": 9, \"customer_id\": 9179, \"order_date\": \"2024-11-27\", \"transaction_timestamp\": \"2024-11-27 13:15:29\", \"total_amount\": 999, \"payment_method\": \"Bank Transfer\", \"items\": [{\"item_id\": 2, \"name\": \"Laptop\", \"category\": \"Electronics\", \"price\": 999, \"quantity\": 1, \"details\": {\"brand\": \"Apple\", \"color\": \"Black\"}}], \"order_status\": \"Shipped\"}</td></tr><tr><td>5</td><td>{\"item_id\":5,\"name\":\"Tablet\",\"category\":\"Electronics\",\"price\":399,\"quantity\":2,\"details\":{\"brand\":\"Sony\",\"color\":\"Silver\"}}</td><td>null</td><td>{\"order_id\": 20, \"customer_id\": 8539, \"order_date\": \"2024-11-18\", \"transaction_timestamp\": \"2024-11-18 02:38:21\", \"total_amount\": 798, \"payment_method\": \"PayPal\", \"items\": [{\"item_id\": 5, \"name\": \"Tablet\", \"category\": \"Electronics\", \"price\": 399, \"quantity\": 2, \"details\": {\"brand\": \"Sony\", \"color\": \"Silver\"}}], \"order_status\": \"Pending\"}</td></tr><tr><td>6</td><td>{\"item_id\":6,\"name\":\"Bluetooth Speaker\",\"category\":\"Electronics\",\"price\":149,\"quantity\":2,\"details\":{\"brand\":\"GoPro\",\"color\":\"Blue\"}}</td><td>null</td><td>{\"order_id\": 21, \"customer_id\": 8539, \"order_date\": \"2024-11-21\", \"transaction_timestamp\": \"2024-11-21 11:25:35\", \"total_amount\": 298, \"payment_method\": \"Bank Transfer\", \"items\": [{\"item_id\": 6, \"name\": \"Bluetooth Speaker\", \"category\": \"Electronics\", \"price\": 149, \"quantity\": 2, \"details\": {\"brand\": \"GoPro\", \"color\": \"Blue\"}}], \"order_status\": \"Cancelled\"}</td></tr><tr><td>5</td><td>{\"item_id\":5,\"name\":\"Tablet\",\"category\":\"Electronics\",\"price\":399,\"quantity\":1,\"details\":{\"brand\":\"Apple\",\"color\":\"Gray\"}}</td><td>{\"item_id\":4,\"name\":\"Smartwatch\",\"category\":\"Electronics\",\"price\":299,\"quantity\":2,\"details\":{\"brand\":\"Dell\",\"color\":\"Gray\"}}</td><td>{\"order_id\": 23, \"customer_id\": 4761, \"order_date\": \"2024-11-22\", \"transaction_timestamp\": \"2024-11-22 16:04:05\", \"total_amount\": 997, \"payment_method\": \"PayPal\", \"items\": [{\"item_id\": 5, \"name\": \"Tablet\", \"category\": \"Electronics\", \"price\": 399, \"quantity\": 1, \"details\": {\"brand\": \"Apple\", \"color\": \"Gray\"}}, {\"item_id\": 4, \"name\": \"Smartwatch\", \"category\": \"Electronics\", \"price\": 299, \"quantity\": 2, \"details\": {\"brand\": \"Dell\", \"color\": \"Gray\"}}], \"order_status\": \"Shipped\"}</td></tr><tr><td>2</td><td>{\"item_id\":2,\"name\":\"Laptop\",\"category\":\"Electronics\",\"price\":999,\"quantity\":1,\"details\":{\"brand\":\"LG\",\"color\":\"Gray\"}}</td><td>null</td><td>{\"order_id\": 25, \"customer_id\": 9706, \"order_date\": \"2024-11-05\", \"transaction_timestamp\": \"2024-11-05 11:45:31\", \"total_amount\": 999, \"payment_method\": \"PayPal\", \"items\": [{\"item_id\": 2, \"name\": \"Laptop\", \"category\": \"Electronics\", \"price\": 999, \"quantity\": 1, \"details\": {\"brand\": \"LG\", \"color\": \"Gray\"}}], \"order_status\": \"Completed\"}</td></tr><tr><td>3</td><td>{\"item_id\":3,\"name\":\"Wireless Headphones\",\"category\":\"Electronics\",\"price\":199,\"quantity\":1,\"details\":{\"brand\":\"GoPro\",\"color\":\"White\"}}</td><td>null</td><td>{\"order_id\": 30, \"customer_id\": 4996, \"order_date\": \"2024-11-12\", \"transaction_timestamp\": \"2024-11-12 03:20:29\", \"total_amount\": 199, \"payment_method\": \"Bank Transfer\", \"items\": [{\"item_id\": 3, \"name\": \"Wireless Headphones\", \"category\": \"Electronics\", \"price\": 199, \"quantity\": 1, \"details\": {\"brand\": \"GoPro\", \"color\": \"White\"}}], \"order_status\": \"Shipped\"}</td></tr><tr><td>3</td><td>{\"item_id\":3,\"name\":\"Wireless Headphones\",\"category\":\"Electronics\",\"price\":199,\"quantity\":1,\"details\":{\"brand\":\"Dell\",\"color\":\"Gray\"}}</td><td>null</td><td>{\"order_id\": 35, \"customer_id\": 4914, \"order_date\": \"2024-11-20\", \"transaction_timestamp\": \"2024-11-20 19:09:04\", \"total_amount\": 199, \"payment_method\": \"Bank Transfer\", \"items\": [{\"item_id\": 3, \"name\": \"Wireless Headphones\", \"category\": \"Electronics\", \"price\": 199, \"quantity\": 1, \"details\": {\"brand\": \"Dell\", \"color\": \"Gray\"}}], \"order_status\": \"Shipped\"}</td></tr><tr><td>3</td><td>{\"item_id\":3,\"name\":\"Wireless Headphones\",\"category\":\"Electronics\",\"price\":199,\"quantity\":1,\"details\":{\"brand\":\"Canon\",\"color\":\"Silver\"}}</td><td>null</td><td>{\"order_id\": 36, \"customer_id\": 4914, \"order_date\": \"2024-11-02\", \"transaction_timestamp\": \"2024-11-02 10:39:46\", \"total_amount\": 199, \"payment_method\": \"PayPal\", \"items\": [{\"item_id\": 3, \"name\": \"Wireless Headphones\", \"category\": \"Electronics\", \"price\": 199, \"quantity\": 1, \"details\": {\"brand\": \"Canon\", \"color\": \"Silver\"}}], \"order_status\": \"Completed\"}</td></tr><tr><td>null</td><td>null</td><td>null</td><td>{\"order_id\": 42, \"customer_id\": 5028, \"order_date\": 2024-11-08, \"transaction_timestamp\": \"2024-11-08 18:32:25\", \"total_amount\": 149, \"payment_method\": \"Credit Card\", \"items\": [{\"item_id\": 6, \"name\": \"Bluetooth Speaker\", \"category\": \"Electronics\", \"price\": 149, \"quantity\": 1, \"details\": {\"brand\": \"Bose\", \"color\": \"Gray\"}}], \"order_status\": \"Completed\"}</td></tr><tr><td>10</td><td>{\"item_id\":10,\"name\":\"Drone\",\"category\":\"Electronics\",\"price\":799,\"quantity\":1,\"details\":{\"brand\":\"Dell\",\"color\":\"White\"}}</td><td>null</td><td>{\"order_id\": 45, \"customer_id\": 7295, \"order_date\": \"2024-11-07\", \"transaction_timestamp\": \"2024-11-07 15:41:43\", \"total_amount\": 799, \"payment_method\": \"Credit Card\", \"items\": [{\"item_id\": 10, \"name\": \"Drone\", \"category\": \"Electronics\", \"price\": 799, \"quantity\": 1, \"details\": {\"brand\": \"Dell\", \"color\": \"White\"}}], \"order_status\": \"Shipped\"}</td></tr><tr><td>3</td><td>{\"item_id\":3,\"name\":\"Wireless Headphones\",\"category\":\"Electronics\",\"price\":199,\"quantity\":1,\"details\":{\"brand\":\"Samsung\",\"color\":\"Black\"}}</td><td>null</td><td>{\"order_id\": 46, \"customer_id\": 7295, \"order_date\": \"2024-11-26\", \"transaction_timestamp\": \"2024-11-26 17:16:53\", \"total_amount\": 199, \"payment_method\": \"PayPal\", \"items\": [{\"item_id\": 3, \"name\": \"Wireless Headphones\", \"category\": \"Electronics\", \"price\": 199, \"quantity\": 1, \"details\": {\"brand\": \"Samsung\", \"color\": \"Black\"}}], \"order_status\": \"Pending\"}</td></tr><tr><td>6</td><td>{\"item_id\":6,\"name\":\"Bluetooth Speaker\",\"category\":\"Electronics\",\"price\":149,\"quantity\":2,\"details\":{\"brand\":\"LG\",\"color\":\"Blue\"}}</td><td>null</td><td>{\"order_id\": 47, \"customer_id\": 7803, \"order_date\": \"2024-11-22\", \"transaction_timestamp\": \"2024-11-22 02:01:19\", \"total_amount\": 298, \"payment_method\": \"Credit Card\", \"items\": [{\"item_id\": 6, \"name\": \"Bluetooth Speaker\", \"category\": \"Electronics\", \"price\": 149, \"quantity\": 2, \"details\": {\"brand\": \"LG\", \"color\": \"Blue\"}}], \"order_status\": \"Shipped\"}</td></tr><tr><td>7</td><td>{\"item_id\":7,\"name\":\"External Hard Drive\",\"category\":\"Electronics\",\"price\":129,\"quantity\":3,\"details\":{\"brand\":\"Apple\",\"color\":\"Black\"}}</td><td>null</td><td>{\"order_id\": 48, \"customer_id\": 7803, \"order_date\": \"2024-11-13\", \"transaction_timestamp\": \"2024-11-13 06:35:56\", \"total_amount\": 387, \"payment_method\": \"PayPal\", \"items\": [{\"item_id\": 7, \"name\": \"External Hard Drive\", \"category\": \"Electronics\", \"price\": 129, \"quantity\": 3, \"details\": {\"brand\": \"Apple\", \"color\": \"Black\"}}], \"order_status\": \"Completed\"}</td></tr><tr><td>8</td><td>{\"item_id\":8,\"name\":\"Gaming Console\",\"category\":\"Electronics\",\"price\":499,\"quantity\":2,\"details\":{\"brand\":\"GoPro\",\"color\":\"White\"}}</td><td>null</td><td>{\"order_id\": 52, \"customer_id\": 8845, \"order_date\": \"2024-11-19\", \"transaction_timestamp\": \"2024-11-19 21:23:45\", \"total_amount\": 998, \"payment_method\": \"PayPal\", \"items\": [{\"item_id\": 8, \"name\": \"Gaming Console\", \"category\": \"Electronics\", \"price\": 499, \"quantity\": 2, \"details\": {\"brand\": \"GoPro\", \"color\": \"White\"}}], \"order_status\": \"Completed\"}</td></tr><tr><td>3</td><td>{\"item_id\":3,\"name\":\"Wireless Headphones\",\"category\":\"Electronics\",\"price\":199,\"quantity\":1,\"details\":{\"brand\":\"HP\",\"color\":\"Silver\"}}</td><td>{\"item_id\":7,\"name\":\"External Hard Drive\",\"category\":\"Electronics\",\"price\":129,\"quantity\":3,\"details\":{\"brand\":\"Sony\",\"color\":\"Silver\"}}</td><td>{\"order_id\": 57, \"customer_id\": 8580, \"order_date\": \"2024-11-19\", \"transaction_timestamp\": \"2024-11-19 11:32:44\", \"total_amount\": 586, \"payment_method\": \"Bank Transfer\", \"items\": [{\"item_id\": 3, \"name\": \"Wireless Headphones\", \"category\": \"Electronics\", \"price\": 199, \"quantity\": 1, \"details\": {\"brand\": \"HP\", \"color\": \"Silver\"}}, {\"item_id\": 7, \"name\": \"External Hard Drive\", \"category\": \"Electronics\", \"price\": 129, \"quantity\": 3, \"details\": {\"brand\": \"Sony\", \"color\": \"Silver\"}}], \"order_status\": \"Cancelled\"}</td></tr><tr><td>3</td><td>{\"item_id\":3,\"name\":\"Wireless Headphones\",\"category\":\"Electronics\",\"price\":199,\"quantity\":1,\"details\":{\"brand\":\"GoPro\",\"color\":\"Blue\"}}</td><td>{\"item_id\":6,\"name\":\"Bluetooth Speaker\",\"category\":\"Electronics\",\"price\":149,\"quantity\":3,\"details\":{\"brand\":\"Bose\",\"color\":\"Silver\"}}</td><td>{\"order_id\": 63, \"customer_id\": 7123, \"order_date\": \"2024-11-24\", \"transaction_timestamp\": \"2024-11-24 08:41:28\", \"total_amount\": 646, \"payment_method\": \"Bank Transfer\", \"items\": [{\"item_id\": 3, \"name\": \"Wireless Headphones\", \"category\": \"Electronics\", \"price\": 199, \"quantity\": 1, \"details\": {\"brand\": \"GoPro\", \"color\": \"Blue\"}}, {\"item_id\": 6, \"name\": \"Bluetooth Speaker\", \"category\": \"Electronics\", \"price\": 149, \"quantity\": 3, \"details\": {\"brand\": \"Bose\", \"color\": \"Silver\"}}], \"order_status\": \"Cancelled\"}</td></tr><tr><td>7</td><td>{\"item_id\":7,\"name\":\"External Hard Drive\",\"category\":\"Electronics\",\"price\":129,\"quantity\":3,\"details\":{\"brand\":\"Microsoft\",\"color\":\"White\"}}</td><td>{\"item_id\":3,\"name\":\"Wireless Headphones\",\"category\":\"Electronics\",\"price\":199,\"quantity\":3,\"details\":{\"brand\":\"Canon\",\"color\":\"Blue\"}}</td><td>{\"order_id\": 64, \"customer_id\": 2639, \"order_date\": \"2024-11-28\", \"transaction_timestamp\": \"2024-11-28 12:23:21\", \"total_amount\": 984, \"payment_method\": \"Bank Transfer\", \"items\": [{\"item_id\": 7, \"name\": \"External Hard Drive\", \"category\": \"Electronics\", \"price\": 129, \"quantity\": 3, \"details\": {\"brand\": \"Microsoft\", \"color\": \"White\"}}, {\"item_id\": 3, \"name\": \"Wireless Headphones\", \"category\": \"Electronics\", \"price\": 199, \"quantity\": 3, \"details\": {\"brand\": \"Canon\", \"color\": \"Blue\"}}], \"order_status\": \"Completed\"}</td></tr><tr><td>7</td><td>{\"item_id\":7,\"name\":\"External Hard Drive\",\"category\":\"Electronics\",\"price\":129,\"quantity\":3,\"details\":{\"brand\":\"Bose\",\"color\":\"White\"}}</td><td>null</td><td>{\"order_id\": 88, \"customer_id\": 9247, \"order_date\": \"2024-11-15\", \"transaction_timestamp\": \"2024-11-15 11:39:44\", \"total_amount\": 387, \"payment_method\": \"Bank Transfer\", \"items\": [{\"item_id\": 7, \"name\": \"External Hard Drive\", \"category\": \"Electronics\", \"price\": 129, \"quantity\": 3, \"details\": {\"brand\": \"Bose\", \"color\": \"White\"}}], \"order_status\": \"Cancelled\"}</td></tr><tr><td>6</td><td>{\"item_id\":6,\"name\":\"Bluetooth Speaker\",\"category\":\"Electronics\",\"price\":149,\"quantity\":1,\"details\":{\"brand\":\"GoPro\",\"color\":\"Silver\"}}</td><td>null</td><td>{\"order_id\": 89, \"customer_id\": 9247, \"order_date\": \"2024-11-22\", \"transaction_timestamp\": \"2024-11-22 12:09:15\", \"total_amount\": 149, \"payment_method\": \"Bank Transfer\", \"items\": [{\"item_id\": 6, \"name\": \"Bluetooth Speaker\", \"category\": \"Electronics\", \"price\": 149, \"quantity\": 1, \"details\": {\"brand\": \"GoPro\", \"color\": \"Silver\"}}], \"order_status\": \"Cancelled\"}</td></tr><tr><td>7</td><td>{\"item_id\":7,\"name\":\"External Hard Drive\",\"category\":\"Electronics\",\"price\":129,\"quantity\":2,\"details\":{\"brand\":\"Sony\",\"color\":\"Black\"}}</td><td>null</td><td>{\"order_id\": 92, \"customer_id\": 5592, \"order_date\": \"2024-11-24\", \"transaction_timestamp\": \"2024-11-24 23:33:21\", \"total_amount\": 258, \"payment_method\": \"PayPal\", \"items\": [{\"item_id\": 7, \"name\": \"External Hard Drive\", \"category\": \"Electronics\", \"price\": 129, \"quantity\": 2, \"details\": {\"brand\": \"Sony\", \"color\": \"Black\"}}], \"order_status\": \"Shipped\"}</td></tr><tr><td>10</td><td>{\"item_id\":10,\"name\":\"Drone\",\"category\":\"Electronics\",\"price\":799,\"quantity\":1,\"details\":{\"brand\":\"GoPro\",\"color\":\"Black\"}}</td><td>null</td><td>{\"order_id\": 6, \"customer_id\": 1987, \"order_date\": \"2024-10-28\", \"transaction_timestamp\": \"2024-10-28 04:47:27\", \"total_amount\": 799, \"payment_method\": \"Credit Card\", \"items\": [{\"item_id\": 10, \"name\": \"Drone\", \"category\": \"Electronics\", \"price\": 799, \"quantity\": 1, \"details\": {\"brand\": \"GoPro\", \"color\": \"Black\"}}], \"order_status\": \"Pending\"}</td></tr><tr><td>5</td><td>{\"item_id\":5,\"name\":\"Tablet\",\"category\":\"Electronics\",\"price\":399,\"quantity\":1,\"details\":{\"brand\":\"GoPro\",\"color\":\"White\"}}</td><td>null</td><td>{\"order_id\": 10, \"customer_id\": 5816, \"order_date\": \"2024-10-07\", \"transaction_timestamp\": \"2024-10-07 22:09:27\", \"total_amount\": 399, \"payment_method\": \"Credit Card\", \"items\": [{\"item_id\": 5, \"name\": \"Tablet\", \"category\": \"Electronics\", \"price\": 399, \"quantity\": 1, \"details\": {\"brand\": \"GoPro\", \"color\": \"White\"}}], \"order_status\": \"Pending\"}</td></tr><tr><td>4</td><td>{\"item_id\":4,\"name\":\"Smartwatch\",\"category\":\"Electronics\",\"price\":299,\"quantity\":3,\"details\":{\"brand\":\"Canon\",\"color\":\"White\"}}</td><td>null</td><td>{\"order_id\": 11, \"customer_id\": 5816, \"order_date\": \"2024-10-13\", \"transaction_timestamp\": \"2024-10-13 17:34:19\", \"total_amount\": 897, \"payment_method\": \"Bank Transfer\", \"items\": [{\"item_id\": 4, \"name\": \"Smartwatch\", \"category\": \"Electronics\", \"price\": 299, \"quantity\": 3, \"details\": {\"brand\": \"Canon\", \"color\": \"White\"}}], \"order_status\": \"Pending\"}</td></tr><tr><td>9</td><td>{\"item_id\":9,\"name\":\"Smart TV\",\"category\":\"Electronics\",\"price\":1199,\"quantity\":1,\"details\":{\"brand\":\"GoPro\",\"color\":\"White\"}}</td><td>null</td><td>{\"order_id\": 15, \"customer_id\": 7207, \"order_date\": \"2024-10-20\", \"transaction_timestamp\": \"2024-10-20 01:47:25\", \"total_amount\": 1199, \"payment_method\": \"Bank Transfer\", \"items\": [{\"item_id\": 9, \"name\": \"Smart TV\", \"category\": \"Electronics\", \"price\": 1199, \"quantity\": 1, \"details\": {\"brand\": \"GoPro\", \"color\": \"White\"}}], \"order_status\": \"Completed\"}</td></tr><tr><td>8</td><td>{\"item_id\":8,\"name\":\"Gaming Console\",\"category\":\"Electronics\",\"price\":499,\"quantity\":1,\"details\":{\"brand\":\"Dell\",\"color\":\"Silver\"}}</td><td>null</td><td>{\"order_id\": 19, \"customer_id\": 8539, \"order_date\": \"2024-10-13\", \"transaction_timestamp\": \"2024-10-13 12:40:26\", \"total_amount\": 499, \"payment_method\": \"PayPal\", \"items\": [{\"item_id\": 8, \"name\": \"Gaming Console\", \"category\": \"Electronics\", \"price\": 499, \"quantity\": 1, \"details\": {\"brand\": \"Dell\", \"color\": \"Silver\"}}], \"order_status\": \"Shipped\"}</td></tr><tr><td>7</td><td>{\"item_id\":7,\"name\":\"External Hard Drive\",\"category\":\"Electronics\",\"price\":129,\"quantity\":3,\"details\":{\"brand\":\"Sony\",\"color\":\"Black\"}}</td><td>null</td><td>{\"order_id\": 39, \"customer_id\": 9263, \"order_date\": \"2024-10-29\", \"transaction_timestamp\": \"2024-10-29 21:39:19\", \"total_amount\": 387, \"payment_method\": \"PayPal\", \"items\": [{\"item_id\": 7, \"name\": \"External Hard Drive\", \"category\": \"Electronics\", \"price\": 129, \"quantity\": 3, \"details\": {\"brand\": \"Sony\", \"color\": \"Black\"}}], \"order_status\": \"Shipped\"}</td></tr><tr><td>1</td><td>{\"item_id\":1,\"name\":\"Smartphone\",\"category\":\"Electronics\",\"price\":699,\"quantity\":1,\"details\":{\"brand\":\"HP\",\"color\":\"Black\"}}</td><td>null</td><td>{\"order_id\": 55, \"customer_id\": 9018, \"order_date\": \"2024-10-25\", \"transaction_timestamp\": \"2024-10-25 05:49:16\", \"total_amount\": 699, \"payment_method\": \"Bank Transfer\", \"items\": [{\"item_id\": 1, \"name\": \"Smartphone\", \"category\": \"Electronics\", \"price\": 699, \"quantity\": 1, \"details\": {\"brand\": \"HP\", \"color\": \"Black\"}}], \"order_status\": \"Shipped\"}</td></tr><tr><td>8</td><td>{\"item_id\":8,\"name\":\"Gaming Console\",\"category\":\"Electronics\",\"price\":499,\"quantity\":1,\"details\":{\"brand\":\"Dell\",\"color\":\"Black\"}}</td><td>null</td><td>{\"order_id\": 59, \"customer_id\": 3409, \"order_date\": \"2024-10-23\", \"transaction_timestamp\": \"2024-10-23 02:51:05\", \"total_amount\": 499, \"payment_method\": \"PayPal\", \"items\": [{\"item_id\": 8, \"name\": \"Gaming Console\", \"category\": \"Electronics\", \"price\": 499, \"quantity\": 1, \"details\": {\"brand\": \"Dell\", \"color\": \"Black\"}}], \"order_status\": \"Pending\"}</td></tr><tr><td>null</td><td>null</td><td>null</td><td>{\"order_id\": 72, \"customer_id\": 3889, \"order_date\": 2024-10-06, \"transaction_timestamp\": \"2024-10-06 10:23:28\", \"total_amount\": 328, \"payment_method\": \"PayPal\", \"items\": [{\"item_id\": 3, \"name\": \"Wireless Headphones\", \"category\": \"Electronics\", \"price\": 199, \"quantity\": 1, \"details\": {\"brand\": \"Microsoft\", \"color\": \"Gray\"}}, {\"item_id\": 7, \"name\": \"External Hard Drive\", \"category\": \"Electronics\", \"price\": 129, \"quantity\": 1, \"details\": {\"brand\": \"Samsung\", \"color\": \"Silver\"}}], \"order_status\": \"Cancelled\"}</td></tr><tr><td>3</td><td>{\"item_id\":3,\"name\":\"Wireless Headphones\",\"category\":\"Electronics\",\"price\":199,\"quantity\":2,\"details\":{\"brand\":\"HP\",\"color\":\"Silver\"}}</td><td>null</td><td>{\"order_id\": 77, \"customer_id\": 9084, \"order_date\": \"2024-10-15\", \"transaction_timestamp\": \"2024-10-15 13:09:33\", \"total_amount\": 398, \"payment_method\": \"Credit Card\", \"items\": [{\"item_id\": 3, \"name\": \"Wireless Headphones\", \"category\": \"Electronics\", \"price\": 199, \"quantity\": 2, \"details\": {\"brand\": \"HP\", \"color\": \"Silver\"}}], \"order_status\": \"Pending\"}</td></tr><tr><td>10</td><td>{\"item_id\":10,\"name\":\"Drone\",\"category\":\"Electronics\",\"price\":799,\"quantity\":1,\"details\":{\"brand\":\"Sony\",\"color\":\"Black\"}}</td><td>{\"item_id\":3,\"name\":\"Wireless Headphones\",\"category\":\"Electronics\",\"price\":199,\"quantity\":1,\"details\":{\"brand\":\"LG\",\"color\":\"Black\"}}</td><td>{\"order_id\": 84, \"customer_id\": 2344, \"order_date\": \"2024-10-25\", \"transaction_timestamp\": \"2024-10-25 03:37:42\", \"total_amount\": 998, \"payment_method\": \"PayPal\", \"items\": [{\"item_id\": 10, \"name\": \"Drone\", \"category\": \"Electronics\", \"price\": 799, \"quantity\": 1, \"details\": {\"brand\": \"Sony\", \"color\": \"Black\"}}, {\"item_id\": 3, \"name\": \"Wireless Headphones\", \"category\": \"Electronics\", \"price\": 199, \"quantity\": 1, \"details\": {\"brand\": \"LG\", \"color\": \"Black\"}}], \"order_status\": \"Completed\"}</td></tr><tr><td>8</td><td>{\"item_id\":8,\"name\":\"Gaming Console\",\"category\":\"Electronics\",\"price\":499,\"quantity\":2,\"details\":{\"brand\":\"GoPro\",\"color\":\"Black\"}}</td><td>null</td><td>{\"order_id\": 85, \"customer_id\": 5011, \"order_date\": \"2024-10-23\", \"transaction_timestamp\": \"2024-10-23 20:06:42\", \"total_amount\": 998, \"payment_method\": \"Bank Transfer\", \"items\": [{\"item_id\": 8, \"name\": \"Gaming Console\", \"category\": \"Electronics\", \"price\": 499, \"quantity\": 2, \"details\": {\"brand\": \"GoPro\", \"color\": \"Black\"}}], \"order_status\": \"Shipped\"}</td></tr><tr><td>9</td><td>{\"item_id\":9,\"name\":\"Smart TV\",\"category\":\"Electronics\",\"price\":1199,\"quantity\":1,\"details\":{\"brand\":\"Dell\",\"color\":\"White\"}}</td><td>null</td><td>{\"order_id\": 86, \"customer_id\": 5011, \"order_date\": \"2024-10-19\", \"transaction_timestamp\": \"2024-10-19 13:30:47\", \"total_amount\": 1199, \"payment_method\": \"PayPal\", \"items\": [{\"item_id\": 9, \"name\": \"Smart TV\", \"category\": \"Electronics\", \"price\": 1199, \"quantity\": 1, \"details\": {\"brand\": \"Dell\", \"color\": \"White\"}}], \"order_status\": \"Completed\"}</td></tr></tbody></table></div>"
      ]
     },
     "metadata": {
      "application/vnd.databricks.v1+output": {
       "addedWidgets": {},
       "aggData": [],
       "aggError": "",
       "aggOverflow": false,
       "aggSchema": [],
       "aggSeriesLimitReached": false,
       "aggType": "",
       "arguments": {},
       "columnCustomDisplayInfos": {},
       "data": [
        [
         8,
         "{\"item_id\":8,\"name\":\"Gaming Console\",\"category\":\"Electronics\",\"price\":499,\"quantity\":1,\"details\":{\"brand\":\"Sony\",\"color\":\"Blue\"}}",
         null,
         "{\"order_id\": 1, \"customer_id\": 6973, \"order_date\": \"2025-01-05\", \"transaction_timestamp\": \"2025-01-05 10:13:59\", \"total_amount\": 499, \"payment_method\": \"Bank Transfer\", \"items\": [{\"item_id\": 8, \"name\": \"Gaming Console\", \"category\": \"Electronics\", \"price\": 499, \"quantity\": 1, \"details\": {\"brand\": \"Sony\", \"color\": \"Blue\"}}], \"order_status\": \"Completed\"}"
        ],
        [
         null,
         null,
         null,
         "{\"order_id\": 2, \"customer_id\": 3532, \"order_date\": 2025-01-19, \"transaction_timestamp\": \"2025-01-19 00:05:13\", \"total_amount\": 985, \"payment_method\": \"PayPal\", \"items\": [{\"item_id\": 4, \"name\": \"Smartwatch\", \"category\": \"Electronics\", \"price\": 299, \"quantity\": 2, \"details\": {\"brand\": \"Canon\", \"color\": \"Gray\"}}, {\"item_id\": 7, \"name\": \"External Hard Drive\", \"category\": \"Electronics\", \"price\": 129, \"quantity\": 3, \"details\": {\"brand\": \"Dell\", \"color\": \"Blue\"}}], \"order_status\": \"Cancelled\"}"
        ],
        [
         3,
         "{\"item_id\":3,\"name\":\"Wireless Headphones\",\"category\":\"Electronics\",\"price\":199,\"quantity\":3,\"details\":{\"brand\":\"Apple\",\"color\":\"White\"}}",
         null,
         "{\"order_id\": 3, \"customer_id\": 3532, \"order_date\": \"2025-01-08\", \"transaction_timestamp\": \"2025-01-08 23:11:00\", \"total_amount\": 597, \"payment_method\": \"Bank Transfer\", \"items\": [{\"item_id\": 3, \"name\": \"Wireless Headphones\", \"category\": \"Electronics\", \"price\": 199, \"quantity\": 3, \"details\": {\"brand\": \"Apple\", \"color\": \"White\"}}], \"order_status\": \"Completed\"}"
        ],
        [
         2,
         "{\"item_id\":2,\"name\":\"Laptop\",\"category\":\"Electronics\",\"price\":999,\"quantity\":1,\"details\":{\"brand\":\"Microsoft\",\"color\":\"Black\"}}",
         null,
         "{\"order_id\": 4, \"customer_id\": 3532, \"order_date\": \"2025-01-05\", \"transaction_timestamp\": \"2025-01-05 05:49:26\", \"total_amount\": 999, \"payment_method\": \"Bank Transfer\", \"items\": [{\"item_id\": 2, \"name\": \"Laptop\", \"category\": \"Electronics\", \"price\": 999, \"quantity\": 1, \"details\": {\"brand\": \"Microsoft\", \"color\": \"Black\"}}], \"order_status\": \"Cancelled\"}"
        ],
        [
         5,
         "{\"item_id\":5,\"name\":\"Tablet\",\"category\":\"Electronics\",\"price\":399,\"quantity\":1,\"details\":{\"brand\":\"LG\",\"color\":\"White\"}}",
         null,
         "{\"order_id\": 8, \"customer_id\": 9179, \"order_date\": \"2025-01-02\", \"transaction_timestamp\": \"2025-01-02 13:11:15\", \"total_amount\": 399, \"payment_method\": \"PayPal\", \"items\": [{\"item_id\": 5, \"name\": \"Tablet\", \"category\": \"Electronics\", \"price\": 399, \"quantity\": 1, \"details\": {\"brand\": \"LG\", \"color\": \"White\"}}], \"order_status\": \"Completed\"}"
        ],
        [
         3,
         "{\"item_id\":3,\"name\":\"Wireless Headphones\",\"category\":\"Electronics\",\"price\":199,\"quantity\":3,\"details\":{\"brand\":\"Bose\",\"color\":\"Blue\"}}",
         null,
         "{\"order_id\": 14, \"customer_id\": 7207, \"order_date\": \"2025-01-01\", \"transaction_timestamp\": \"2025-01-01 18:22:26\", \"total_amount\": 597, \"payment_method\": \"PayPal\", \"items\": [{\"item_id\": 3, \"name\": \"Wireless Headphones\", \"category\": \"Electronics\", \"price\": 199, \"quantity\": 3, \"details\": {\"brand\": \"Bose\", \"color\": \"Blue\"}}], \"order_status\": \"Cancelled\"}"
        ],
        [
         10,
         "{\"item_id\":10,\"name\":\"Drone\",\"category\":\"Electronics\",\"price\":799,\"quantity\":1,\"details\":{\"brand\":\"Dell\",\"color\":\"Black\"}}",
         null,
         "{\"order_id\": 18, \"customer_id\": 4468, \"order_date\": \"2025-01-22\", \"transaction_timestamp\": \"2025-01-22 21:12:08\", \"total_amount\": 799, \"payment_method\": \"Credit Card\", \"items\": [{\"item_id\": 10, \"name\": \"Drone\", \"category\": \"Electronics\", \"price\": 799, \"quantity\": 1, \"details\": {\"brand\": \"Dell\", \"color\": \"Black\"}}], \"order_status\": \"Pending\"}"
        ],
        [
         null,
         null,
         null,
         "{\"order_id\": 22, \"customer_id\": 4761, \"order_date\": 2025-01-01, \"transaction_timestamp\": \"2025-01-01 15:49:19\", \"total_amount\": 199, \"payment_method\": \"PayPal\", \"items\": [{\"item_id\": 3, \"name\": \"Wireless Headphones\", \"category\": \"Electronics\", \"price\": 199, \"quantity\": 1, \"details\": {\"brand\": \"HP\", \"color\": \"Silver\"}}], \"order_status\": \"Pending\"}"
        ],
        [
         1,
         "{\"item_id\":1,\"name\":\"Smartphone\",\"category\":\"Electronics\",\"price\":699,\"quantity\":1,\"details\":{\"brand\":\"Samsung\",\"color\":\"Silver\"}}",
         null,
         "{\"order_id\": 26, \"customer_id\": 7007, \"order_date\": \"2025-01-05\", \"transaction_timestamp\": \"2025-01-05 19:01:25\", \"total_amount\": 699, \"payment_method\": \"Bank Transfer\", \"items\": [{\"item_id\": 1, \"name\": \"Smartphone\", \"category\": \"Electronics\", \"price\": 699, \"quantity\": 1, \"details\": {\"brand\": \"Samsung\", \"color\": \"Silver\"}}], \"order_status\": \"Shipped\"}"
        ],
        [
         7,
         "{\"item_id\":7,\"name\":\"External Hard Drive\",\"category\":\"Electronics\",\"price\":129,\"quantity\":1,\"details\":{\"brand\":\"Bose\",\"color\":\"Gray\"}}",
         "{\"item_id\":7,\"name\":\"External Hard Drive\",\"category\":\"Electronics\",\"price\":129,\"quantity\":1,\"details\":{\"brand\":\"Bose\",\"color\":\"Gray\"}}",
         "{\"order_id\": 29, \"customer_id\": 5953, \"order_date\": \"2025-01-18\", \"transaction_timestamp\": \"2025-01-18 03:05:04\", \"total_amount\": 129, \"payment_method\": \"Bank Transfer\", \"items\": [{\"item_id\": 7, \"name\": \"External Hard Drive\", \"category\": \"Electronics\", \"price\": 129, \"quantity\": 1, \"details\": {\"brand\": \"Bose\", \"color\": \"Gray\"}}, {\"item_id\": 7, \"name\": \"External Hard Drive\", \"category\": \"Electronics\", \"price\": 129, \"quantity\": 1, \"details\": {\"brand\": \"Bose\", \"color\": \"Gray\"}}], \"order_status\": \"Pending\"}"
        ],
        [
         4,
         "{\"item_id\":4,\"name\":\"Smartwatch\",\"category\":\"Electronics\",\"price\":299,\"quantity\":1,\"details\":{\"brand\":\"Dell\",\"color\":\"White\"}}",
         null,
         "{\"order_id\": 31, \"customer_id\": 4996, \"order_date\": \"2025-01-18\", \"transaction_timestamp\": \"2025-01-18 03:13:29\", \"total_amount\": 299, \"payment_method\": \"Bank Transfer\", \"items\": [{\"item_id\": 4, \"name\": \"Smartwatch\", \"category\": \"Electronics\", \"price\": 299, \"quantity\": 1, \"details\": {\"brand\": \"Dell\", \"color\": \"White\"}}], \"order_status\": \"Shipped\"}"
        ],
        [
         4,
         "{\"item_id\":4,\"name\":\"Smartwatch\",\"category\":\"Electronics\",\"price\":299,\"quantity\":3,\"details\":{\"brand\":\"Canon\",\"color\":\"White\"}}",
         null,
         "{\"order_id\": 33, \"customer_id\": 9605, \"order_date\": \"2025-01-13\", \"transaction_timestamp\": \"2025-01-13 04:47:43\", \"total_amount\": 897, \"payment_method\": \"PayPal\", \"items\": [{\"item_id\": 4, \"name\": \"Smartwatch\", \"category\": \"Electronics\", \"price\": 299, \"quantity\": 3, \"details\": {\"brand\": \"Canon\", \"color\": \"White\"}}], \"order_status\": \"Completed\"}"
        ],
        [
         6,
         "{\"item_id\":6,\"name\":\"Bluetooth Speaker\",\"category\":\"Electronics\",\"price\":149,\"quantity\":2,\"details\":{\"brand\":\"Bose\",\"color\":\"Silver\"}}",
         "{\"item_id\":8,\"name\":\"Gaming Console\",\"category\":\"Electronics\",\"price\":499,\"quantity\":1,\"details\":{\"brand\":\"LG\",\"color\":\"Black\"}}",
         "{\"order_id\": 34, \"customer_id\": 9605, \"order_date\": \"2025-01-21\", \"transaction_timestamp\": \"2025-01-21 00:25:01\", \"total_amount\": 926, \"payment_method\": \"PayPal\", \"items\": [{\"item_id\": 6, \"name\": \"Bluetooth Speaker\", \"category\": \"Electronics\", \"price\": 149, \"quantity\": 2, \"details\": {\"brand\": \"Bose\", \"color\": \"Silver\"}}, {\"item_id\": 8, \"name\": \"Gaming Console\", \"category\": \"Electronics\", \"price\": 499, \"quantity\": 1, \"details\": {\"brand\": \"LG\", \"color\": \"Black\"}}, {\"item_id\": 7, \"name\": \"External Hard Drive\", \"category\": \"Electronics\", \"price\": 129, \"quantity\": 1, \"details\": {\"brand\": \"Samsung\", \"color\": \"Black\"}}], \"order_status\": \"Cancelled\"}"
        ],
        [
         6,
         "{\"item_id\":6,\"name\":\"Bluetooth Speaker\",\"category\":\"Electronics\",\"price\":149,\"quantity\":2,\"details\":{\"brand\":\"Bose\",\"color\":\"Silver\"}}",
         null,
         "{\"order_id\": 40, \"customer_id\": 6384, \"order_date\": \"2025-01-20\", \"transaction_timestamp\": \"2025-01-20 16:18:35\", \"total_amount\": 298, \"payment_method\": \"PayPal\", \"items\": [{\"item_id\": 6, \"name\": \"Bluetooth Speaker\", \"category\": \"Electronics\", \"price\": 149, \"quantity\": 2, \"details\": {\"brand\": \"Bose\", \"color\": \"Silver\"}}], \"order_status\": \"Completed\"}"
        ],
        [
         2,
         "{\"item_id\":2,\"name\":\"Laptop\",\"category\":\"Electronics\",\"price\":999,\"quantity\":1,\"details\":{\"brand\":\"Sony\",\"color\":\"Silver\"}}",
         null,
         "{\"order_id\": 41, \"customer_id\": 6384, \"order_date\": \"2025-01-05\", \"transaction_timestamp\": \"2025-01-05 06:10:22\", \"total_amount\": 999, \"payment_method\": \"Credit Card\", \"items\": [{\"item_id\": 2, \"name\": \"Laptop\", \"category\": \"Electronics\", \"price\": 999, \"quantity\": 1, \"details\": {\"brand\": \"Sony\", \"color\": \"Silver\"}}], \"order_status\": \"Shipped\"}"
        ],
        [
         8,
         "{\"item_id\":8,\"name\":\"Gaming Console\",\"category\":\"Electronics\",\"price\":499,\"quantity\":1,\"details\":{\"brand\":\"LG\",\"color\":\"Black\"}}",
         null,
         "{\"order_id\": 43, \"customer_id\": 5028, \"order_date\": \"2025-01-24\", \"transaction_timestamp\": \"2025-01-24 18:10:37\", \"total_amount\": 499, \"payment_method\": \"PayPal\", \"items\": [{\"item_id\": 8, \"name\": \"Gaming Console\", \"category\": \"Electronics\", \"price\": 499, \"quantity\": 1, \"details\": {\"brand\": \"LG\", \"color\": \"Black\"}}], \"order_status\": \"Pending\"}"
        ],
        [
         6,
         "{\"item_id\":6,\"name\":\"Bluetooth Speaker\",\"category\":\"Electronics\",\"price\":149,\"quantity\":3,\"details\":{\"brand\":\"Apple\",\"color\":\"Gray\"}}",
         "{\"item_id\":4,\"name\":\"Smartwatch\",\"category\":\"Electronics\",\"price\":299,\"quantity\":1,\"details\":{\"brand\":\"Sony\",\"color\":\"White\"}}",
         "{\"order_id\": 50, \"customer_id\": 3712, \"order_date\": \"2025-01-11\", \"transaction_timestamp\": \"2025-01-11 01:19:09\", \"total_amount\": 746, \"payment_method\": \"Credit Card\", \"items\": [{\"item_id\": 6, \"name\": \"Bluetooth Speaker\", \"category\": \"Electronics\", \"price\": 149, \"quantity\": 3, \"details\": {\"brand\": \"Apple\", \"color\": \"Gray\"}}, {\"item_id\": 4, \"name\": \"Smartwatch\", \"category\": \"Electronics\", \"price\": 299, \"quantity\": 1, \"details\": {\"brand\": \"Sony\", \"color\": \"White\"}}], \"order_status\": \"Shipped\"}"
        ],
        [
         6,
         "{\"item_id\":6,\"name\":\"Bluetooth Speaker\",\"category\":\"Electronics\",\"price\":149,\"quantity\":1,\"details\":{\"brand\":\"Samsung\",\"color\":\"Gray\"}}",
         null,
         "{\"order_id\": 51, \"customer_id\": 8845, \"order_date\": \"2025-01-21\", \"transaction_timestamp\": \"2025-01-21 13:19:59\", \"total_amount\": 149, \"payment_method\": \"PayPal\", \"items\": [{\"item_id\": 6, \"name\": \"Bluetooth Speaker\", \"category\": \"Electronics\", \"price\": 149, \"quantity\": 1, \"details\": {\"brand\": \"Samsung\", \"color\": \"Gray\"}}], \"order_status\": \"Completed\"}"
        ],
        [
         3,
         "{\"item_id\":3,\"name\":\"Wireless Headphones\",\"category\":\"Electronics\",\"price\":199,\"quantity\":1,\"details\":{\"brand\":\"Apple\",\"color\":\"Black\"}}",
         null,
         "{\"order_id\": 53, \"customer_id\": 8845, \"order_date\": \"2025-01-21\", \"transaction_timestamp\": \"2025-01-21 08:31:02\", \"total_amount\": 199, \"payment_method\": \"Bank Transfer\", \"items\": [{\"item_id\": 3, \"name\": \"Wireless Headphones\", \"category\": \"Electronics\", \"price\": 199, \"quantity\": 1, \"details\": {\"brand\": \"Apple\", \"color\": \"Black\"}}], \"order_status\": \"Pending\"}"
        ],
        [
         3,
         "{\"item_id\":3,\"name\":\"Wireless Headphones\",\"category\":\"Electronics\",\"price\":199,\"quantity\":1,\"details\":{\"brand\":\"HP\",\"color\":\"Silver\"}}",
         "{\"item_id\":8,\"name\":\"Gaming Console\",\"category\":\"Electronics\",\"price\":499,\"quantity\":1,\"details\":{\"brand\":\"LG\",\"color\":\"Gray\"}}",
         "{\"order_id\": 56, \"customer_id\": 8580, \"order_date\": \"2025-01-01\", \"transaction_timestamp\": \"2025-01-01 12:02:41\", \"total_amount\": 698, \"payment_method\": \"PayPal\", \"items\": [{\"item_id\": 3, \"name\": \"Wireless Headphones\", \"category\": \"Electronics\", \"price\": 199, \"quantity\": 1, \"details\": {\"brand\": \"HP\", \"color\": \"Silver\"}}, {\"item_id\": 8, \"name\": \"Gaming Console\", \"category\": \"Electronics\", \"price\": 499, \"quantity\": 1, \"details\": {\"brand\": \"LG\", \"color\": \"Gray\"}}], \"order_status\": \"Cancelled\"}"
        ],
        [
         7,
         "{\"item_id\":7,\"name\":\"External Hard Drive\",\"category\":\"Electronics\",\"price\":129,\"quantity\":3,\"details\":{\"brand\":\"Dell\",\"color\":\"White\"}}",
         "{\"item_id\":4,\"name\":\"Smartwatch\",\"category\":\"Electronics\",\"price\":299,\"quantity\":2,\"details\":{\"brand\":\"GoPro\",\"color\":\"Blue\"}}",
         "{\"order_id\": 62, \"customer_id\": 7123, \"order_date\": \"2025-01-24\", \"transaction_timestamp\": \"2025-01-24 12:00:54\", \"total_amount\": 985, \"payment_method\": \"Bank Transfer\", \"items\": [{\"item_id\": 7, \"name\": \"External Hard Drive\", \"category\": \"Electronics\", \"price\": 129, \"quantity\": 3, \"details\": {\"brand\": \"Dell\", \"color\": \"White\"}}, {\"item_id\": 4, \"name\": \"Smartwatch\", \"category\": \"Electronics\", \"price\": 299, \"quantity\": 2, \"details\": {\"brand\": \"GoPro\", \"color\": \"Blue\"}}], \"order_status\": \"Completed\"}"
        ],
        [
         4,
         "{\"item_id\":4,\"name\":\"Smartwatch\",\"category\":\"Electronics\",\"price\":299,\"quantity\":1,\"details\":{\"brand\":\"Bose\",\"color\":\"Silver\"}}",
         "{\"item_id\":4,\"name\":\"Smartwatch\",\"category\":\"Electronics\",\"price\":299,\"quantity\":1,\"details\":{\"brand\":\"GoPro\",\"color\":\"White\"}}",
         "{\"order_id\": 66, \"customer_id\": 3084, \"order_date\": \"2025-01-17\", \"transaction_timestamp\": \"2025-01-17 21:16:11\", \"total_amount\": 598, \"payment_method\": \"Credit Card\", \"items\": [{\"item_id\": 4, \"name\": \"Smartwatch\", \"category\": \"Electronics\", \"price\": 299, \"quantity\": 1, \"details\": {\"brand\": \"Bose\", \"color\": \"Silver\"}}, {\"item_id\": 4, \"name\": \"Smartwatch\", \"category\": \"Electronics\", \"price\": 299, \"quantity\": 1, \"details\": {\"brand\": \"GoPro\", \"color\": \"White\"}}], \"order_status\": \"Cancelled\"}"
        ],
        [
         6,
         "{\"item_id\":6,\"name\":\"Bluetooth Speaker\",\"category\":\"Electronics\",\"price\":149,\"quantity\":1,\"details\":{\"brand\":\"Bose\",\"color\":\"Gray\"}}",
         null,
         "{\"order_id\": 68, \"customer_id\": 4973, \"order_date\": \"2025-01-10\", \"transaction_timestamp\": \"2025-01-10 20:35:43\", \"total_amount\": 149, \"payment_method\": \"Bank Transfer\", \"items\": [{\"item_id\": 6, \"name\": \"Bluetooth Speaker\", \"category\": \"Electronics\", \"price\": 149, \"quantity\": 1, \"details\": {\"brand\": \"Bose\", \"color\": \"Gray\"}}], \"order_status\": \"Completed\"}"
        ],
        [
         7,
         "{\"item_id\":7,\"name\":\"External Hard Drive\",\"category\":\"Electronics\",\"price\":129,\"quantity\":3,\"details\":{\"brand\":\"GoPro\",\"color\":\"Gray\"}}",
         "{\"item_id\":7,\"name\":\"External Hard Drive\",\"category\":\"Electronics\",\"price\":129,\"quantity\":3,\"details\":{\"brand\":\"GoPro\",\"color\":\"Gray\"}}",
         "{\"order_id\": 73, \"customer_id\": 6167, \"order_date\": \"2025-01-07\", \"transaction_timestamp\": \"2025-01-07 01:02:26\", \"total_amount\": 387, \"payment_method\": \"Credit Card\", \"items\": [{\"item_id\": 7, \"name\": \"External Hard Drive\", \"category\": \"Electronics\", \"price\": 129, \"quantity\": 3, \"details\": {\"brand\": \"GoPro\", \"color\": \"Gray\"}}, {\"item_id\": 7, \"name\": \"External Hard Drive\", \"category\": \"Electronics\", \"price\": 129, \"quantity\": 3, \"details\": {\"brand\": \"GoPro\", \"color\": \"Gray\"}}], \"order_status\": \"Shipped\"}"
        ],
        [
         1,
         "{\"item_id\":1,\"name\":\"Smartphone\",\"category\":\"Electronics\",\"price\":699,\"quantity\":1,\"details\":{\"brand\":\"GoPro\",\"color\":\"White\"}}",
         null,
         "{\"order_id\": 75, \"customer_id\": 6167, \"order_date\": \"2025-01-19\", \"transaction_timestamp\": \"2025-01-19 16:23:16\", \"total_amount\": 699, \"payment_method\": \"Credit Card\", \"items\": [{\"item_id\": 1, \"name\": \"Smartphone\", \"category\": \"Electronics\", \"price\": 699, \"quantity\": 1, \"details\": {\"brand\": \"GoPro\", \"color\": \"White\"}}], \"order_status\": \"Shipped\"}"
        ],
        [
         5,
         "{\"item_id\":5,\"name\":\"Tablet\",\"category\":\"Electronics\",\"price\":399,\"quantity\":1,\"details\":{\"brand\":\"Microsoft\",\"color\":\"Silver\"}}",
         null,
         "{\"order_id\": 76, \"customer_id\": 3295, \"order_date\": \"2025-01-06\", \"transaction_timestamp\": \"2025-01-06 02:54:39\", \"total_amount\": 399, \"payment_method\": \"Bank Transfer\", \"items\": [{\"item_id\": 5, \"name\": \"Tablet\", \"category\": \"Electronics\", \"price\": 399, \"quantity\": 1, \"details\": {\"brand\": \"Microsoft\", \"color\": \"Silver\"}}], \"order_status\": \"Completed\"}"
        ],
        [
         5,
         "{\"item_id\":5,\"name\":\"Tablet\",\"category\":\"Electronics\",\"price\":399,\"quantity\":2,\"details\":{\"brand\":\"Dell\",\"color\":\"White\"}}",
         null,
         "{\"order_id\": 78, \"customer_id\": 9084, \"order_date\": \"2025-01-21\", \"transaction_timestamp\": \"2025-01-21 11:42:51\", \"total_amount\": 798, \"payment_method\": \"PayPal\", \"items\": [{\"item_id\": 5, \"name\": \"Tablet\", \"category\": \"Electronics\", \"price\": 399, \"quantity\": 2, \"details\": {\"brand\": \"Dell\", \"color\": \"White\"}}], \"order_status\": \"Cancelled\"}"
        ],
        [
         8,
         "{\"item_id\":8,\"name\":\"Gaming Console\",\"category\":\"Electronics\",\"price\":499,\"quantity\":2,\"details\":{\"brand\":\"Dell\",\"color\":\"Gray\"}}",
         null,
         "{\"order_id\": 79, \"customer_id\": 9084, \"order_date\": \"2025-01-25\", \"transaction_timestamp\": \"2025-01-25 03:52:05\", \"total_amount\": 998, \"payment_method\": \"Credit Card\", \"items\": [{\"item_id\": 8, \"name\": \"Gaming Console\", \"category\": \"Electronics\", \"price\": 499, \"quantity\": 2, \"details\": {\"brand\": \"Dell\", \"color\": \"Gray\"}}], \"order_status\": \"Cancelled\"}"
        ],
        [
         7,
         "{\"item_id\":7,\"name\":\"External Hard Drive\",\"category\":\"Electronics\",\"price\":129,\"quantity\":3,\"details\":{\"brand\":\"Canon\",\"color\":\"Gray\"}}",
         "{\"item_id\":3,\"name\":\"Wireless Headphones\",\"category\":\"Electronics\",\"price\":199,\"quantity\":2,\"details\":{\"brand\":\"Sony\",\"color\":\"Black\"}}",
         "{\"order_id\": 83, \"customer_id\": 2344, \"order_date\": \"2025-01-07\", \"transaction_timestamp\": \"2025-01-07 12:48:05\", \"total_amount\": 785, \"payment_method\": \"PayPal\", \"items\": [{\"item_id\": 7, \"name\": \"External Hard Drive\", \"category\": \"Electronics\", \"price\": 129, \"quantity\": 3, \"details\": {\"brand\": \"Canon\", \"color\": \"Gray\"}}, {\"item_id\": 3, \"name\": \"Wireless Headphones\", \"category\": \"Electronics\", \"price\": 199, \"quantity\": 2, \"details\": {\"brand\": \"Sony\", \"color\": \"Black\"}}], \"order_status\": \"Shipped\"}"
        ],
        [
         7,
         "{\"item_id\":7,\"name\":\"External Hard Drive\",\"category\":\"Electronics\",\"price\":129,\"quantity\":1,\"details\":{\"brand\":\"Apple\",\"color\":\"Blue\"}}",
         null,
         "{\"order_id\": 87, \"customer_id\": 2141, \"order_date\": \"2025-01-02\", \"transaction_timestamp\": \"2025-01-02 04:28:38\", \"total_amount\": 129, \"payment_method\": \"PayPal\", \"items\": [{\"item_id\": 7, \"name\": \"External Hard Drive\", \"category\": \"Electronics\", \"price\": 129, \"quantity\": 1, \"details\": {\"brand\": \"Apple\", \"color\": \"Blue\"}}], \"order_status\": \"Pending\"}"
        ],
        [
         7,
         "{\"item_id\":7,\"name\":\"External Hard Drive\",\"category\":\"Electronics\",\"price\":129,\"quantity\":1,\"details\":{\"brand\":\"Canon\",\"color\":\"White\"}}",
         "{\"item_id\":7,\"name\":\"External Hard Drive\",\"category\":\"Electronics\",\"price\":129,\"quantity\":1,\"details\":{\"brand\":\"Samsung\",\"color\":\"Black\"}}",
         "{\"order_id\": 90, \"customer_id\": 9247, \"order_date\": \"2025-01-17\", \"transaction_timestamp\": \"2025-01-17 14:30:54\", \"total_amount\": 258, \"payment_method\": \"Credit Card\", \"items\": [{\"item_id\": 7, \"name\": \"External Hard Drive\", \"category\": \"Electronics\", \"price\": 129, \"quantity\": 1, \"details\": {\"brand\": \"Canon\", \"color\": \"White\"}}, {\"item_id\": 7, \"name\": \"External Hard Drive\", \"category\": \"Electronics\", \"price\": 129, \"quantity\": 1, \"details\": {\"brand\": \"Samsung\", \"color\": \"Black\"}}], \"order_status\": \"Pending\"}"
        ],
        [
         6,
         "{\"item_id\":6,\"name\":\"Bluetooth Speaker\",\"category\":\"Electronics\",\"price\":149,\"quantity\":2,\"details\":{\"brand\":\"Sony\",\"color\":\"Black\"}}",
         "{\"item_id\":3,\"name\":\"Wireless Headphones\",\"category\":\"Electronics\",\"price\":199,\"quantity\":3,\"details\":{\"brand\":\"Apple\",\"color\":\"Blue\"}}",
         "{\"order_id\": 94, \"customer_id\": 6627, \"order_date\": \"2025-01-10\", \"transaction_timestamp\": \"2025-01-10 09:51:48\", \"total_amount\": 895, \"payment_method\": \"Credit Card\", \"items\": [{\"item_id\": 6, \"name\": \"Bluetooth Speaker\", \"category\": \"Electronics\", \"price\": 149, \"quantity\": 2, \"details\": {\"brand\": \"Sony\", \"color\": \"Black\"}}, {\"item_id\": 3, \"name\": \"Wireless Headphones\", \"category\": \"Electronics\", \"price\": 199, \"quantity\": 3, \"details\": {\"brand\": \"Apple\", \"color\": \"Blue\"}}], \"order_status\": \"Pending\"}"
        ],
        [
         7,
         "{\"item_id\":7,\"name\":\"External Hard Drive\",\"category\":\"Electronics\",\"price\":129,\"quantity\":3,\"details\":{\"brand\":\"HP\",\"color\":\"Blue\"}}",
         "{\"item_id\":4,\"name\":\"Smartwatch\",\"category\":\"Electronics\",\"price\":299,\"quantity\":2,\"details\":{\"brand\":\"Samsung\",\"color\":\"Gray\"}}",
         "{\"order_id\": 98, \"customer_id\": 9150, \"order_date\": \"2025-01-08\", \"transaction_timestamp\": \"2025-01-08 05:57:55\", \"total_amount\": 985, \"payment_method\": \"Credit Card\", \"items\": [{\"item_id\": 7, \"name\": \"External Hard Drive\", \"category\": \"Electronics\", \"price\": 129, \"quantity\": 3, \"details\": {\"brand\": \"HP\", \"color\": \"Blue\"}}, {\"item_id\": 4, \"name\": \"Smartwatch\", \"category\": \"Electronics\", \"price\": 299, \"quantity\": 2, \"details\": {\"brand\": \"Samsung\", \"color\": \"Gray\"}}], \"order_status\": \"Completed\"}"
        ],
        [
         1,
         "{\"item_id\":1,\"name\":\"Smartphone\",\"category\":\"Electronics\",\"price\":699,\"quantity\":1,\"details\":{\"brand\":\"Bose\",\"color\":\"Gray\"}}",
         null,
         "{\"order_id\": 99, \"customer_id\": 9150, \"order_date\": \"2025-01-10\", \"transaction_timestamp\": \"2025-01-10 21:43:46\", \"total_amount\": 699, \"payment_method\": \"Credit Card\", \"items\": [{\"item_id\": 1, \"name\": \"Smartphone\", \"category\": \"Electronics\", \"price\": 699, \"quantity\": 1, \"details\": {\"brand\": \"Bose\", \"color\": \"Gray\"}}], \"order_status\": \"Shipped\"}"
        ],
        [
         6,
         "{\"item_id\":6,\"name\":\"Bluetooth Speaker\",\"category\":\"Electronics\",\"price\":149,\"quantity\":3,\"details\":{\"brand\":\"LG\",\"color\":\"Silver\"}}",
         null,
         "{\"order_id\": 100, \"customer_id\": 9150, \"order_date\": \"2025-01-04\", \"transaction_timestamp\": \"2025-01-04 06:40:13\", \"total_amount\": 447, \"payment_method\": \"PayPal\", \"items\": [{\"item_id\": 6, \"name\": \"Bluetooth Speaker\", \"category\": \"Electronics\", \"price\": 149, \"quantity\": 3, \"details\": {\"brand\": \"LG\", \"color\": \"Silver\"}}], \"order_status\": \"Shipped\"}"
        ],
        [
         2,
         "{\"item_id\":2,\"name\":\"Laptop\",\"category\":\"Electronics\",\"price\":999,\"quantity\":1,\"details\":{\"brand\":\"Sony\",\"color\":\"White\"}}",
         null,
         "{\"order_id\": 12, \"customer_id\": 5816, \"order_date\": \"2024-12-06\", \"transaction_timestamp\": \"2024-12-06 20:26:49\", \"total_amount\": 999, \"payment_method\": \"PayPal\", \"items\": [{\"item_id\": 2, \"name\": \"Laptop\", \"category\": \"Electronics\", \"price\": 999, \"quantity\": 1, \"details\": {\"brand\": \"Sony\", \"color\": \"White\"}}], \"order_status\": \"Cancelled\"}"
        ],
        [
         2,
         "{\"item_id\":2,\"name\":\"Laptop\",\"category\":\"Electronics\",\"price\":999,\"quantity\":1,\"details\":{\"brand\":\"GoPro\",\"color\":\"Black\"}}",
         null,
         "{\"order_id\": 13, \"customer_id\": 4858, \"order_date\": \"2024-12-17\", \"transaction_timestamp\": \"2024-12-17 03:41:37\", \"total_amount\": 999, \"payment_method\": \"PayPal\", \"items\": [{\"item_id\": 2, \"name\": \"Laptop\", \"category\": \"Electronics\", \"price\": 999, \"quantity\": 1, \"details\": {\"brand\": \"GoPro\", \"color\": \"Black\"}}], \"order_status\": \"Pending\"}"
        ],
        [
         3,
         "{\"item_id\":3,\"name\":\"Wireless Headphones\",\"category\":\"Electronics\",\"price\":199,\"quantity\":3,\"details\":{\"brand\":\"Sony\",\"color\":\"Silver\"}}",
         null,
         "{\"order_id\": 16, \"customer_id\": 5204, \"order_date\": \"2024-12-08\", \"transaction_timestamp\": \"2024-12-08 22:59:48\", \"total_amount\": 597, \"payment_method\": \"Bank Transfer\", \"items\": [{\"item_id\": 3, \"name\": \"Wireless Headphones\", \"category\": \"Electronics\", \"price\": 199, \"quantity\": 3, \"details\": {\"brand\": \"Sony\", \"color\": \"Silver\"}}], \"order_status\": \"Pending\"}"
        ],
        [
         8,
         "{\"item_id\":8,\"name\":\"Gaming Console\",\"category\":\"Electronics\",\"price\":499,\"quantity\":2,\"details\":{\"brand\":\"Dell\",\"color\":\"Black\"}}",
         null,
         "{\"order_id\": 17, \"customer_id\": 5204, \"order_date\": \"2024-12-02\", \"transaction_timestamp\": \"2024-12-02 12:00:50\", \"total_amount\": 998, \"payment_method\": \"Bank Transfer\", \"items\": [{\"item_id\": 8, \"name\": \"Gaming Console\", \"category\": \"Electronics\", \"price\": 499, \"quantity\": 2, \"details\": {\"brand\": \"Dell\", \"color\": \"Black\"}}], \"order_status\": \"Pending\"}"
        ],
        [
         9,
         "{\"item_id\":9,\"name\":\"Smart TV\",\"category\":\"Electronics\",\"price\":1199,\"quantity\":1,\"details\":{\"brand\":\"GoPro\",\"color\":\"Gray\"}}",
         null,
         "{\"order_id\": 24, \"customer_id\": 1211, \"order_date\": \"2024-12-21\", \"transaction_timestamp\": \"2024-12-21 03:24:26\", \"total_amount\": 1199, \"payment_method\": \"PayPal\", \"items\": [{\"item_id\": 9, \"name\": \"Smart TV\", \"category\": \"Electronics\", \"price\": 1199, \"quantity\": 1, \"details\": {\"brand\": \"GoPro\", \"color\": \"Gray\"}}], \"order_status\": \"Completed\"}"
        ],
        [
         7,
         "{\"item_id\":7,\"name\":\"External Hard Drive\",\"category\":\"Electronics\",\"price\":129,\"quantity\":2,\"details\":{\"brand\":\"Dell\",\"color\":\"White\"}}",
         "{\"item_id\":6,\"name\":\"Bluetooth Speaker\",\"category\":\"Electronics\",\"price\":149,\"quantity\":3,\"details\":{\"brand\":\"Canon\",\"color\":\"Black\"}}",
         "{\"order_id\": 27, \"customer_id\": 2703, \"order_date\": \"2024-12-02\", \"transaction_timestamp\": \"2024-12-02 11:24:21\", \"total_amount\": 904, \"payment_method\": \"Credit Card\", \"items\": [{\"item_id\": 7, \"name\": \"External Hard Drive\", \"category\": \"Electronics\", \"price\": 129, \"quantity\": 2, \"details\": {\"brand\": \"Dell\", \"color\": \"White\"}}, {\"item_id\": 6, \"name\": \"Bluetooth Speaker\", \"category\": \"Electronics\", \"price\": 149, \"quantity\": 3, \"details\": {\"brand\": \"Canon\", \"color\": \"Black\"}}, {\"item_id\": 3, \"name\": \"Wireless Headphones\", \"category\": \"Electronics\", \"price\": 199, \"quantity\": 1, \"details\": {\"brand\": \"Microsoft\", \"color\": \"Silver\"}}], \"order_status\": \"Completed\"}"
        ],
        [
         7,
         "{\"item_id\":7,\"name\":\"External Hard Drive\",\"category\":\"Electronics\",\"price\":129,\"quantity\":1,\"details\":{\"brand\":\"GoPro\",\"color\":\"Blue\"}}",
         null,
         "{\"order_id\": 28, \"customer_id\": 2703, \"order_date\": \"2024-12-26\", \"transaction_timestamp\": \"2024-12-26 03:17:50\", \"total_amount\": 129, \"payment_method\": \"Credit Card\", \"items\": [{\"item_id\": 7, \"name\": \"External Hard Drive\", \"category\": \"Electronics\", \"price\": 129, \"quantity\": 1, \"details\": {\"brand\": \"GoPro\", \"color\": \"Blue\"}}], \"order_status\": \"Cancelled\"}"
        ],
        [
         5,
         "{\"item_id\":5,\"name\":\"Tablet\",\"category\":\"Electronics\",\"price\":399,\"quantity\":1,\"details\":{\"brand\":\"Apple\",\"color\":\"Silver\"}}",
         null,
         "{\"order_id\": 32, \"customer_id\": 4996, \"order_date\": \"2024-12-28\", \"transaction_timestamp\": \"2024-12-28 08:55:57\", \"total_amount\": 399, \"payment_method\": \"PayPal\", \"items\": [{\"item_id\": 5, \"name\": \"Tablet\", \"category\": \"Electronics\", \"price\": 399, \"quantity\": 1, \"details\": {\"brand\": \"Apple\", \"color\": \"Silver\"}}], \"order_status\": \"Pending\"}"
        ],
        [
         7,
         "{\"item_id\":7,\"name\":\"External Hard Drive\",\"category\":\"Electronics\",\"price\":129,\"quantity\":2,\"details\":{\"brand\":\"HP\",\"color\":\"Silver\"}}",
         null,
         "{\"order_id\": 37, \"customer_id\": 7829, \"order_date\": \"2024-12-22\", \"transaction_timestamp\": \"2024-12-22 10:11:49\", \"total_amount\": 258, \"payment_method\": \"Credit Card\", \"items\": [{\"item_id\": 7, \"name\": \"External Hard Drive\", \"category\": \"Electronics\", \"price\": 129, \"quantity\": 2, \"details\": {\"brand\": \"HP\", \"color\": \"Silver\"}}], \"order_status\": \"Shipped\"}"
        ],
        [
         6,
         "{\"item_id\":6,\"name\":\"Bluetooth Speaker\",\"category\":\"Electronics\",\"price\":149,\"quantity\":3,\"details\":{\"brand\":\"Apple\",\"color\":\"Gray\"}}",
         null,
         "{\"order_id\": 38, \"customer_id\": 7829, \"order_date\": \"2024-12-25\", \"transaction_timestamp\": \"2024-12-25 22:05:19\", \"total_amount\": 447, \"payment_method\": \"Credit Card\", \"items\": [{\"item_id\": 6, \"name\": \"Bluetooth Speaker\", \"category\": \"Electronics\", \"price\": 149, \"quantity\": 3, \"details\": {\"brand\": \"Apple\", \"color\": \"Gray\"}}], \"order_status\": \"Shipped\"}"
        ],
        [
         7,
         "{\"item_id\":7,\"name\":\"External Hard Drive\",\"category\":\"Electronics\",\"price\":129,\"quantity\":1,\"details\":{\"brand\":\"Bose\",\"color\":\"Blue\"}}",
         null,
         "{\"order_id\": 44, \"customer_id\": 7295, \"order_date\": \"2024-12-20\", \"transaction_timestamp\": \"2024-12-20 08:05:43\", \"total_amount\": 129, \"payment_method\": \"Credit Card\", \"items\": [{\"item_id\": 7, \"name\": \"External Hard Drive\", \"category\": \"Electronics\", \"price\": 129, \"quantity\": 1, \"details\": {\"brand\": \"Bose\", \"color\": \"Blue\"}}], \"order_status\": \"Completed\"}"
        ],
        [
         4,
         "{\"item_id\":4,\"name\":\"Smartwatch\",\"category\":\"Electronics\",\"price\":299,\"quantity\":1,\"details\":{\"brand\":\"HP\",\"color\":\"White\"}}",
         "{\"item_id\":4,\"name\":\"Smartwatch\",\"category\":\"Electronics\",\"price\":299,\"quantity\":1,\"details\":{\"brand\":\"Canon\",\"color\":\"Blue\"}}",
         "{\"order_id\": 49, \"customer_id\": 7803, \"order_date\": \"2024-12-07\", \"transaction_timestamp\": \"2024-12-07 23:24:11\", \"total_amount\": 747, \"payment_method\": \"PayPal\", \"items\": [{\"item_id\": 4, \"name\": \"Smartwatch\", \"category\": \"Electronics\", \"price\": 299, \"quantity\": 1, \"details\": {\"brand\": \"HP\", \"color\": \"White\"}}, {\"item_id\": 4, \"name\": \"Smartwatch\", \"category\": \"Electronics\", \"price\": 299, \"quantity\": 1, \"details\": {\"brand\": \"Canon\", \"color\": \"Blue\"}}, {\"item_id\": 6, \"name\": \"Bluetooth Speaker\", \"category\": \"Electronics\", \"price\": 149, \"quantity\": 1, \"details\": {\"brand\": \"Samsung\", \"color\": \"White\"}}], \"order_status\": \"Cancelled\"}"
        ],
        [
         3,
         "{\"item_id\":3,\"name\":\"Wireless Headphones\",\"category\":\"Electronics\",\"price\":199,\"quantity\":2,\"details\":{\"brand\":\"Bose\",\"color\":\"Gray\"}}",
         null,
         "{\"order_id\": 54, \"customer_id\": 2054, \"order_date\": \"2024-12-20\", \"transaction_timestamp\": \"2024-12-20 12:04:27\", \"total_amount\": 398, \"payment_method\": \"Credit Card\", \"items\": [{\"item_id\": 3, \"name\": \"Wireless Headphones\", \"category\": \"Electronics\", \"price\": 199, \"quantity\": 2, \"details\": {\"brand\": \"Bose\", \"color\": \"Gray\"}}], \"order_status\": \"Pending\"}"
        ],
        [
         1,
         "{\"item_id\":1,\"name\":\"Smartphone\",\"category\":\"Electronics\",\"price\":699,\"quantity\":1,\"details\":{\"brand\":\"Microsoft\",\"color\":\"Gray\"}}",
         null,
         "{\"order_id\": 58, \"customer_id\": 8580, \"order_date\": \"2024-12-09\", \"transaction_timestamp\": \"2024-12-09 22:40:58\", \"total_amount\": 699, \"payment_method\": \"PayPal\", \"items\": [{\"item_id\": 1, \"name\": \"Smartphone\", \"category\": \"Electronics\", \"price\": 699, \"quantity\": 1, \"details\": {\"brand\": \"Microsoft\", \"color\": \"Gray\"}}], \"order_status\": \"Completed\"}"
        ],
        [
         3,
         "{\"item_id\":3,\"name\":\"Wireless Headphones\",\"category\":\"Electronics\",\"price\":199,\"quantity\":1,\"details\":{\"brand\":\"Samsung\",\"color\":\"Blue\"}}",
         null,
         "{\"order_id\": 60, \"customer_id\": 3409, \"order_date\": \"2024-12-13\", \"transaction_timestamp\": \"2024-12-13 13:10:12\", \"total_amount\": 199, \"payment_method\": \"Bank Transfer\", \"items\": [{\"item_id\": 3, \"name\": \"Wireless Headphones\", \"category\": \"Electronics\", \"price\": 199, \"quantity\": 1, \"details\": {\"brand\": \"Samsung\", \"color\": \"Blue\"}}], \"order_status\": \"Shipped\"}"
        ],
        [
         1,
         "{\"item_id\":1,\"name\":\"Smartphone\",\"category\":\"Electronics\",\"price\":699,\"quantity\":1,\"details\":{\"brand\":\"Canon\",\"color\":\"Black\"}}",
         null,
         "{\"order_id\": 61, \"customer_id\": 7123, \"order_date\": \"2024-12-07\", \"transaction_timestamp\": \"2024-12-07 07:47:19\", \"total_amount\": 699, \"payment_method\": \"Bank Transfer\", \"items\": [{\"item_id\": 1, \"name\": \"Smartphone\", \"category\": \"Electronics\", \"price\": 699, \"quantity\": 1, \"details\": {\"brand\": \"Canon\", \"color\": \"Black\"}}], \"order_status\": \"Completed\"}"
        ],
        [
         5,
         "{\"item_id\":5,\"name\":\"Tablet\",\"category\":\"Electronics\",\"price\":399,\"quantity\":1,\"details\":{\"brand\":\"Microsoft\",\"color\":\"Gray\"}}",
         null,
         "{\"order_id\": 65, \"customer_id\": 3084, \"order_date\": \"2024-12-09\", \"transaction_timestamp\": \"2024-12-09 13:04:13\", \"total_amount\": 399, \"payment_method\": \"Bank Transfer\", \"items\": [{\"item_id\": 5, \"name\": \"Tablet\", \"category\": \"Electronics\", \"price\": 399, \"quantity\": 1, \"details\": {\"brand\": \"Microsoft\", \"color\": \"Gray\"}}], \"order_status\": \"Cancelled\"}"
        ],
        [
         4,
         "{\"item_id\":4,\"name\":\"Smartwatch\",\"category\":\"Electronics\",\"price\":299,\"quantity\":3,\"details\":{\"brand\":\"LG\",\"color\":\"Blue\"}}",
         null,
         "{\"order_id\": 67, \"customer_id\": 3084, \"order_date\": \"2024-12-19\", \"transaction_timestamp\": \"2024-12-19 07:11:09\", \"total_amount\": 897, \"payment_method\": \"PayPal\", \"items\": [{\"item_id\": 4, \"name\": \"Smartwatch\", \"category\": \"Electronics\", \"price\": 299, \"quantity\": 3, \"details\": {\"brand\": \"LG\", \"color\": \"Blue\"}}], \"order_status\": \"Shipped\"}"
        ],
        [
         1,
         "{\"item_id\":1,\"name\":\"Smartphone\",\"category\":\"Electronics\",\"price\":699,\"quantity\":1,\"details\":{\"brand\":\"Dell\",\"color\":\"Gray\"}}",
         null,
         "{\"order_id\": 69, \"customer_id\": 4973, \"order_date\": \"2024-12-30\", \"transaction_timestamp\": \"2024-12-30 02:42:01\", \"total_amount\": 699, \"payment_method\": \"Bank Transfer\", \"items\": [{\"item_id\": 1, \"name\": \"Smartphone\", \"category\": \"Electronics\", \"price\": 699, \"quantity\": 1, \"details\": {\"brand\": \"Dell\", \"color\": \"Gray\"}}], \"order_status\": \"Completed\"}"
        ],
        [
         4,
         "{\"item_id\":4,\"name\":\"Smartwatch\",\"category\":\"Electronics\",\"price\":299,\"quantity\":3,\"details\":{\"brand\":\"Sony\",\"color\":\"Black\"}}",
         null,
         "{\"order_id\": 70, \"customer_id\": 7997, \"order_date\": \"2024-12-04\", \"transaction_timestamp\": \"2024-12-04 17:17:24\", \"total_amount\": 897, \"payment_method\": \"PayPal\", \"items\": [{\"item_id\": 4, \"name\": \"Smartwatch\", \"category\": \"Electronics\", \"price\": 299, \"quantity\": 3, \"details\": {\"brand\": \"Sony\", \"color\": \"Black\"}}], \"order_status\": \"Shipped\"}"
        ],
        [
         null,
         null,
         null,
         "{\"order_id\": 71, \"customer_id\": 7997, \"order_date\": 2024-12-27, \"transaction_timestamp\": \"2024-12-27 11:16:39\", \"total_amount\": 199, \"payment_method\": \"Bank Transfer\", \"items\": [{\"item_id\": 3, \"name\": \"Wireless Headphones\", \"category\": \"Electronics\", \"price\": 199, \"quantity\": 1, \"details\": {\"brand\": \"Microsoft\", \"color\": \"Black\"}}], \"order_status\": \"Completed\"}"
        ],
        [
         1,
         "{\"item_id\":1,\"name\":\"Smartphone\",\"category\":\"Electronics\",\"price\":699,\"quantity\":1,\"details\":{\"brand\":\"Samsung\",\"color\":\"Blue\"}}",
         null,
         "{\"order_id\": 74, \"customer_id\": 6167, \"order_date\": \"2024-12-22\", \"transaction_timestamp\": \"2024-12-22 15:54:11\", \"total_amount\": 699, \"payment_method\": \"PayPal\", \"items\": [{\"item_id\": 1, \"name\": \"Smartphone\", \"category\": \"Electronics\", \"price\": 699, \"quantity\": 1, \"details\": {\"brand\": \"Samsung\", \"color\": \"Blue\"}}], \"order_status\": \"Pending\"}"
        ],
        [
         8,
         "{\"item_id\":8,\"name\":\"Gaming Console\",\"category\":\"Electronics\",\"price\":499,\"quantity\":2,\"details\":{\"brand\":\"Samsung\",\"color\":\"White\"}}",
         null,
         "{\"order_id\": 80, \"customer_id\": 9687, \"order_date\": \"2024-12-11\", \"transaction_timestamp\": \"2024-12-11 07:43:54\", \"total_amount\": 998, \"payment_method\": \"Bank Transfer\", \"items\": [{\"item_id\": 8, \"name\": \"Gaming Console\", \"category\": \"Electronics\", \"price\": 499, \"quantity\": 2, \"details\": {\"brand\": \"Samsung\", \"color\": \"White\"}}], \"order_status\": \"Cancelled\"}"
        ],
        [
         1,
         "{\"item_id\":1,\"name\":\"Smartphone\",\"category\":\"Electronics\",\"price\":699,\"quantity\":1,\"details\":{\"brand\":\"GoPro\",\"color\":\"Blue\"}}",
         null,
         "{\"order_id\": 81, \"customer_id\": 9687, \"order_date\": \"2024-12-27\", \"transaction_timestamp\": \"2024-12-27 02:27:45\", \"total_amount\": 699, \"payment_method\": \"PayPal\", \"items\": [{\"item_id\": 1, \"name\": \"Smartphone\", \"category\": \"Electronics\", \"price\": 699, \"quantity\": 1, \"details\": {\"brand\": \"GoPro\", \"color\": \"Blue\"}}], \"order_status\": \"Completed\"}"
        ],
        [
         7,
         "{\"item_id\":7,\"name\":\"External Hard Drive\",\"category\":\"Electronics\",\"price\":129,\"quantity\":3,\"details\":{\"brand\":\"Sony\",\"color\":\"Blue\"}}",
         null,
         "{\"order_id\": 82, \"customer_id\": 2344, \"order_date\": \"2024-12-28\", \"transaction_timestamp\": \"2024-12-28 00:54:08\", \"total_amount\": 387, \"payment_method\": \"PayPal\", \"items\": [{\"item_id\": 7, \"name\": \"External Hard Drive\", \"category\": \"Electronics\", \"price\": 129, \"quantity\": 3, \"details\": {\"brand\": \"Sony\", \"color\": \"Blue\"}}], \"order_status\": \"Completed\"}"
        ],
        [
         1,
         "{\"item_id\":1,\"name\":\"Smartphone\",\"category\":\"Electronics\",\"price\":699,\"quantity\":1,\"details\":{\"brand\":\"Canon\",\"color\":\"Silver\"}}",
         null,
         "{\"order_id\": 91, \"customer_id\": 5592, \"order_date\": \"2024-12-17\", \"transaction_timestamp\": \"2024-12-17 00:09:53\", \"total_amount\": 699, \"payment_method\": \"Bank Transfer\", \"items\": [{\"item_id\": 1, \"name\": \"Smartphone\", \"category\": \"Electronics\", \"price\": 699, \"quantity\": 1, \"details\": {\"brand\": \"Canon\", \"color\": \"Silver\"}}], \"order_status\": \"Cancelled\"}"
        ],
        [
         4,
         "{\"item_id\":4,\"name\":\"Smartwatch\",\"category\":\"Electronics\",\"price\":299,\"quantity\":2,\"details\":{\"brand\":\"LG\",\"color\":\"Silver\"}}",
         null,
         "{\"order_id\": 93, \"customer_id\": 6627, \"order_date\": \"2024-12-22\", \"transaction_timestamp\": \"2024-12-22 05:07:46\", \"total_amount\": 598, \"payment_method\": \"PayPal\", \"items\": [{\"item_id\": 4, \"name\": \"Smartwatch\", \"category\": \"Electronics\", \"price\": 299, \"quantity\": 2, \"details\": {\"brand\": \"LG\", \"color\": \"Silver\"}}], \"order_status\": \"Pending\"}"
        ],
        [
         4,
         "{\"item_id\":4,\"name\":\"Smartwatch\",\"category\":\"Electronics\",\"price\":299,\"quantity\":2,\"details\":{\"brand\":\"GoPro\",\"color\":\"White\"}}",
         "{\"item_id\":3,\"name\":\"Wireless Headphones\",\"category\":\"Electronics\",\"price\":199,\"quantity\":1,\"details\":{\"brand\":\"Bose\",\"color\":\"Gray\"}}",
         "{\"order_id\": 95, \"customer_id\": 6627, \"order_date\": \"2024-12-28\", \"transaction_timestamp\": \"2024-12-28 04:28:30\", \"total_amount\": 946, \"payment_method\": \"Bank Transfer\", \"items\": [{\"item_id\": 4, \"name\": \"Smartwatch\", \"category\": \"Electronics\", \"price\": 299, \"quantity\": 2, \"details\": {\"brand\": \"GoPro\", \"color\": \"White\"}}, {\"item_id\": 3, \"name\": \"Wireless Headphones\", \"category\": \"Electronics\", \"price\": 199, \"quantity\": 1, \"details\": {\"brand\": \"Bose\", \"color\": \"Gray\"}}, {\"item_id\": 6, \"name\": \"Bluetooth Speaker\", \"category\": \"Electronics\", \"price\": 149, \"quantity\": 1, \"details\": {\"brand\": \"Dell\", \"color\": \"Silver\"}}], \"order_status\": \"Completed\"}"
        ],
        [
         6,
         "{\"item_id\":6,\"name\":\"Bluetooth Speaker\",\"category\":\"Electronics\",\"price\":149,\"quantity\":1,\"details\":{\"brand\":\"Microsoft\",\"color\":\"Black\"}}",
         null,
         "{\"order_id\": 96, \"customer_id\": 6406, \"order_date\": \"2024-12-02\", \"transaction_timestamp\": \"2024-12-02 12:27:45\", \"total_amount\": 149, \"payment_method\": \"PayPal\", \"items\": [{\"item_id\": 6, \"name\": \"Bluetooth Speaker\", \"category\": \"Electronics\", \"price\": 149, \"quantity\": 1, \"details\": {\"brand\": \"Microsoft\", \"color\": \"Black\"}}], \"order_status\": \"Shipped\"}"
        ],
        [
         8,
         "{\"item_id\":8,\"name\":\"Gaming Console\",\"category\":\"Electronics\",\"price\":499,\"quantity\":1,\"details\":{\"brand\":\"Sony\",\"color\":\"Silver\"}}",
         null,
         "{\"order_id\": 97, \"customer_id\": 6406, \"order_date\": \"2024-12-07\", \"transaction_timestamp\": \"2024-12-07 16:14:34\", \"total_amount\": 499, \"payment_method\": \"Bank Transfer\", \"items\": [{\"item_id\": 8, \"name\": \"Gaming Console\", \"category\": \"Electronics\", \"price\": 499, \"quantity\": 1, \"details\": {\"brand\": \"Sony\", \"color\": \"Silver\"}}], \"order_status\": \"Completed\"}"
        ],
        [
         8,
         "{\"item_id\":8,\"name\":\"Gaming Console\",\"category\":\"Electronics\",\"price\":499,\"quantity\":2,\"details\":{\"brand\":\"Dell\",\"color\":\"Blue\"}}",
         null,
         "{\"order_id\": 5, \"customer_id\": 3892, \"order_date\": \"2024-11-16\", \"transaction_timestamp\": \"2024-11-16 23:07:31\", \"total_amount\": 998, \"payment_method\": \"Bank Transfer\", \"items\": [{\"item_id\": 8, \"name\": \"Gaming Console\", \"category\": \"Electronics\", \"price\": 499, \"quantity\": 2, \"details\": {\"brand\": \"Dell\", \"color\": \"Blue\"}}], \"order_status\": \"Cancelled\"}"
        ],
        [
         7,
         "{\"item_id\":7,\"name\":\"External Hard Drive\",\"category\":\"Electronics\",\"price\":129,\"quantity\":2,\"details\":{\"brand\":\"LG\",\"color\":\"Blue\"}}",
         "{\"item_id\":7,\"name\":\"External Hard Drive\",\"category\":\"Electronics\",\"price\":129,\"quantity\":3,\"details\":{\"brand\":\"HP\",\"color\":\"Gray\"}}",
         "{\"order_id\": 7, \"customer_id\": 1987, \"order_date\": \"2024-11-19\", \"transaction_timestamp\": \"2024-11-19 19:18:48\", \"total_amount\": 645, \"payment_method\": \"Credit Card\", \"items\": [{\"item_id\": 7, \"name\": \"External Hard Drive\", \"category\": \"Electronics\", \"price\": 129, \"quantity\": 2, \"details\": {\"brand\": \"LG\", \"color\": \"Blue\"}}, {\"item_id\": 7, \"name\": \"External Hard Drive\", \"category\": \"Electronics\", \"price\": 129, \"quantity\": 3, \"details\": {\"brand\": \"HP\", \"color\": \"Gray\"}}], \"order_status\": \"Pending\"}"
        ],
        [
         2,
         "{\"item_id\":2,\"name\":\"Laptop\",\"category\":\"Electronics\",\"price\":999,\"quantity\":1,\"details\":{\"brand\":\"Apple\",\"color\":\"Black\"}}",
         null,
         "{\"order_id\": 9, \"customer_id\": 9179, \"order_date\": \"2024-11-27\", \"transaction_timestamp\": \"2024-11-27 13:15:29\", \"total_amount\": 999, \"payment_method\": \"Bank Transfer\", \"items\": [{\"item_id\": 2, \"name\": \"Laptop\", \"category\": \"Electronics\", \"price\": 999, \"quantity\": 1, \"details\": {\"brand\": \"Apple\", \"color\": \"Black\"}}], \"order_status\": \"Shipped\"}"
        ],
        [
         5,
         "{\"item_id\":5,\"name\":\"Tablet\",\"category\":\"Electronics\",\"price\":399,\"quantity\":2,\"details\":{\"brand\":\"Sony\",\"color\":\"Silver\"}}",
         null,
         "{\"order_id\": 20, \"customer_id\": 8539, \"order_date\": \"2024-11-18\", \"transaction_timestamp\": \"2024-11-18 02:38:21\", \"total_amount\": 798, \"payment_method\": \"PayPal\", \"items\": [{\"item_id\": 5, \"name\": \"Tablet\", \"category\": \"Electronics\", \"price\": 399, \"quantity\": 2, \"details\": {\"brand\": \"Sony\", \"color\": \"Silver\"}}], \"order_status\": \"Pending\"}"
        ],
        [
         6,
         "{\"item_id\":6,\"name\":\"Bluetooth Speaker\",\"category\":\"Electronics\",\"price\":149,\"quantity\":2,\"details\":{\"brand\":\"GoPro\",\"color\":\"Blue\"}}",
         null,
         "{\"order_id\": 21, \"customer_id\": 8539, \"order_date\": \"2024-11-21\", \"transaction_timestamp\": \"2024-11-21 11:25:35\", \"total_amount\": 298, \"payment_method\": \"Bank Transfer\", \"items\": [{\"item_id\": 6, \"name\": \"Bluetooth Speaker\", \"category\": \"Electronics\", \"price\": 149, \"quantity\": 2, \"details\": {\"brand\": \"GoPro\", \"color\": \"Blue\"}}], \"order_status\": \"Cancelled\"}"
        ],
        [
         5,
         "{\"item_id\":5,\"name\":\"Tablet\",\"category\":\"Electronics\",\"price\":399,\"quantity\":1,\"details\":{\"brand\":\"Apple\",\"color\":\"Gray\"}}",
         "{\"item_id\":4,\"name\":\"Smartwatch\",\"category\":\"Electronics\",\"price\":299,\"quantity\":2,\"details\":{\"brand\":\"Dell\",\"color\":\"Gray\"}}",
         "{\"order_id\": 23, \"customer_id\": 4761, \"order_date\": \"2024-11-22\", \"transaction_timestamp\": \"2024-11-22 16:04:05\", \"total_amount\": 997, \"payment_method\": \"PayPal\", \"items\": [{\"item_id\": 5, \"name\": \"Tablet\", \"category\": \"Electronics\", \"price\": 399, \"quantity\": 1, \"details\": {\"brand\": \"Apple\", \"color\": \"Gray\"}}, {\"item_id\": 4, \"name\": \"Smartwatch\", \"category\": \"Electronics\", \"price\": 299, \"quantity\": 2, \"details\": {\"brand\": \"Dell\", \"color\": \"Gray\"}}], \"order_status\": \"Shipped\"}"
        ],
        [
         2,
         "{\"item_id\":2,\"name\":\"Laptop\",\"category\":\"Electronics\",\"price\":999,\"quantity\":1,\"details\":{\"brand\":\"LG\",\"color\":\"Gray\"}}",
         null,
         "{\"order_id\": 25, \"customer_id\": 9706, \"order_date\": \"2024-11-05\", \"transaction_timestamp\": \"2024-11-05 11:45:31\", \"total_amount\": 999, \"payment_method\": \"PayPal\", \"items\": [{\"item_id\": 2, \"name\": \"Laptop\", \"category\": \"Electronics\", \"price\": 999, \"quantity\": 1, \"details\": {\"brand\": \"LG\", \"color\": \"Gray\"}}], \"order_status\": \"Completed\"}"
        ],
        [
         3,
         "{\"item_id\":3,\"name\":\"Wireless Headphones\",\"category\":\"Electronics\",\"price\":199,\"quantity\":1,\"details\":{\"brand\":\"GoPro\",\"color\":\"White\"}}",
         null,
         "{\"order_id\": 30, \"customer_id\": 4996, \"order_date\": \"2024-11-12\", \"transaction_timestamp\": \"2024-11-12 03:20:29\", \"total_amount\": 199, \"payment_method\": \"Bank Transfer\", \"items\": [{\"item_id\": 3, \"name\": \"Wireless Headphones\", \"category\": \"Electronics\", \"price\": 199, \"quantity\": 1, \"details\": {\"brand\": \"GoPro\", \"color\": \"White\"}}], \"order_status\": \"Shipped\"}"
        ],
        [
         3,
         "{\"item_id\":3,\"name\":\"Wireless Headphones\",\"category\":\"Electronics\",\"price\":199,\"quantity\":1,\"details\":{\"brand\":\"Dell\",\"color\":\"Gray\"}}",
         null,
         "{\"order_id\": 35, \"customer_id\": 4914, \"order_date\": \"2024-11-20\", \"transaction_timestamp\": \"2024-11-20 19:09:04\", \"total_amount\": 199, \"payment_method\": \"Bank Transfer\", \"items\": [{\"item_id\": 3, \"name\": \"Wireless Headphones\", \"category\": \"Electronics\", \"price\": 199, \"quantity\": 1, \"details\": {\"brand\": \"Dell\", \"color\": \"Gray\"}}], \"order_status\": \"Shipped\"}"
        ],
        [
         3,
         "{\"item_id\":3,\"name\":\"Wireless Headphones\",\"category\":\"Electronics\",\"price\":199,\"quantity\":1,\"details\":{\"brand\":\"Canon\",\"color\":\"Silver\"}}",
         null,
         "{\"order_id\": 36, \"customer_id\": 4914, \"order_date\": \"2024-11-02\", \"transaction_timestamp\": \"2024-11-02 10:39:46\", \"total_amount\": 199, \"payment_method\": \"PayPal\", \"items\": [{\"item_id\": 3, \"name\": \"Wireless Headphones\", \"category\": \"Electronics\", \"price\": 199, \"quantity\": 1, \"details\": {\"brand\": \"Canon\", \"color\": \"Silver\"}}], \"order_status\": \"Completed\"}"
        ],
        [
         null,
         null,
         null,
         "{\"order_id\": 42, \"customer_id\": 5028, \"order_date\": 2024-11-08, \"transaction_timestamp\": \"2024-11-08 18:32:25\", \"total_amount\": 149, \"payment_method\": \"Credit Card\", \"items\": [{\"item_id\": 6, \"name\": \"Bluetooth Speaker\", \"category\": \"Electronics\", \"price\": 149, \"quantity\": 1, \"details\": {\"brand\": \"Bose\", \"color\": \"Gray\"}}], \"order_status\": \"Completed\"}"
        ],
        [
         10,
         "{\"item_id\":10,\"name\":\"Drone\",\"category\":\"Electronics\",\"price\":799,\"quantity\":1,\"details\":{\"brand\":\"Dell\",\"color\":\"White\"}}",
         null,
         "{\"order_id\": 45, \"customer_id\": 7295, \"order_date\": \"2024-11-07\", \"transaction_timestamp\": \"2024-11-07 15:41:43\", \"total_amount\": 799, \"payment_method\": \"Credit Card\", \"items\": [{\"item_id\": 10, \"name\": \"Drone\", \"category\": \"Electronics\", \"price\": 799, \"quantity\": 1, \"details\": {\"brand\": \"Dell\", \"color\": \"White\"}}], \"order_status\": \"Shipped\"}"
        ],
        [
         3,
         "{\"item_id\":3,\"name\":\"Wireless Headphones\",\"category\":\"Electronics\",\"price\":199,\"quantity\":1,\"details\":{\"brand\":\"Samsung\",\"color\":\"Black\"}}",
         null,
         "{\"order_id\": 46, \"customer_id\": 7295, \"order_date\": \"2024-11-26\", \"transaction_timestamp\": \"2024-11-26 17:16:53\", \"total_amount\": 199, \"payment_method\": \"PayPal\", \"items\": [{\"item_id\": 3, \"name\": \"Wireless Headphones\", \"category\": \"Electronics\", \"price\": 199, \"quantity\": 1, \"details\": {\"brand\": \"Samsung\", \"color\": \"Black\"}}], \"order_status\": \"Pending\"}"
        ],
        [
         6,
         "{\"item_id\":6,\"name\":\"Bluetooth Speaker\",\"category\":\"Electronics\",\"price\":149,\"quantity\":2,\"details\":{\"brand\":\"LG\",\"color\":\"Blue\"}}",
         null,
         "{\"order_id\": 47, \"customer_id\": 7803, \"order_date\": \"2024-11-22\", \"transaction_timestamp\": \"2024-11-22 02:01:19\", \"total_amount\": 298, \"payment_method\": \"Credit Card\", \"items\": [{\"item_id\": 6, \"name\": \"Bluetooth Speaker\", \"category\": \"Electronics\", \"price\": 149, \"quantity\": 2, \"details\": {\"brand\": \"LG\", \"color\": \"Blue\"}}], \"order_status\": \"Shipped\"}"
        ],
        [
         7,
         "{\"item_id\":7,\"name\":\"External Hard Drive\",\"category\":\"Electronics\",\"price\":129,\"quantity\":3,\"details\":{\"brand\":\"Apple\",\"color\":\"Black\"}}",
         null,
         "{\"order_id\": 48, \"customer_id\": 7803, \"order_date\": \"2024-11-13\", \"transaction_timestamp\": \"2024-11-13 06:35:56\", \"total_amount\": 387, \"payment_method\": \"PayPal\", \"items\": [{\"item_id\": 7, \"name\": \"External Hard Drive\", \"category\": \"Electronics\", \"price\": 129, \"quantity\": 3, \"details\": {\"brand\": \"Apple\", \"color\": \"Black\"}}], \"order_status\": \"Completed\"}"
        ],
        [
         8,
         "{\"item_id\":8,\"name\":\"Gaming Console\",\"category\":\"Electronics\",\"price\":499,\"quantity\":2,\"details\":{\"brand\":\"GoPro\",\"color\":\"White\"}}",
         null,
         "{\"order_id\": 52, \"customer_id\": 8845, \"order_date\": \"2024-11-19\", \"transaction_timestamp\": \"2024-11-19 21:23:45\", \"total_amount\": 998, \"payment_method\": \"PayPal\", \"items\": [{\"item_id\": 8, \"name\": \"Gaming Console\", \"category\": \"Electronics\", \"price\": 499, \"quantity\": 2, \"details\": {\"brand\": \"GoPro\", \"color\": \"White\"}}], \"order_status\": \"Completed\"}"
        ],
        [
         3,
         "{\"item_id\":3,\"name\":\"Wireless Headphones\",\"category\":\"Electronics\",\"price\":199,\"quantity\":1,\"details\":{\"brand\":\"HP\",\"color\":\"Silver\"}}",
         "{\"item_id\":7,\"name\":\"External Hard Drive\",\"category\":\"Electronics\",\"price\":129,\"quantity\":3,\"details\":{\"brand\":\"Sony\",\"color\":\"Silver\"}}",
         "{\"order_id\": 57, \"customer_id\": 8580, \"order_date\": \"2024-11-19\", \"transaction_timestamp\": \"2024-11-19 11:32:44\", \"total_amount\": 586, \"payment_method\": \"Bank Transfer\", \"items\": [{\"item_id\": 3, \"name\": \"Wireless Headphones\", \"category\": \"Electronics\", \"price\": 199, \"quantity\": 1, \"details\": {\"brand\": \"HP\", \"color\": \"Silver\"}}, {\"item_id\": 7, \"name\": \"External Hard Drive\", \"category\": \"Electronics\", \"price\": 129, \"quantity\": 3, \"details\": {\"brand\": \"Sony\", \"color\": \"Silver\"}}], \"order_status\": \"Cancelled\"}"
        ],
        [
         3,
         "{\"item_id\":3,\"name\":\"Wireless Headphones\",\"category\":\"Electronics\",\"price\":199,\"quantity\":1,\"details\":{\"brand\":\"GoPro\",\"color\":\"Blue\"}}",
         "{\"item_id\":6,\"name\":\"Bluetooth Speaker\",\"category\":\"Electronics\",\"price\":149,\"quantity\":3,\"details\":{\"brand\":\"Bose\",\"color\":\"Silver\"}}",
         "{\"order_id\": 63, \"customer_id\": 7123, \"order_date\": \"2024-11-24\", \"transaction_timestamp\": \"2024-11-24 08:41:28\", \"total_amount\": 646, \"payment_method\": \"Bank Transfer\", \"items\": [{\"item_id\": 3, \"name\": \"Wireless Headphones\", \"category\": \"Electronics\", \"price\": 199, \"quantity\": 1, \"details\": {\"brand\": \"GoPro\", \"color\": \"Blue\"}}, {\"item_id\": 6, \"name\": \"Bluetooth Speaker\", \"category\": \"Electronics\", \"price\": 149, \"quantity\": 3, \"details\": {\"brand\": \"Bose\", \"color\": \"Silver\"}}], \"order_status\": \"Cancelled\"}"
        ],
        [
         7,
         "{\"item_id\":7,\"name\":\"External Hard Drive\",\"category\":\"Electronics\",\"price\":129,\"quantity\":3,\"details\":{\"brand\":\"Microsoft\",\"color\":\"White\"}}",
         "{\"item_id\":3,\"name\":\"Wireless Headphones\",\"category\":\"Electronics\",\"price\":199,\"quantity\":3,\"details\":{\"brand\":\"Canon\",\"color\":\"Blue\"}}",
         "{\"order_id\": 64, \"customer_id\": 2639, \"order_date\": \"2024-11-28\", \"transaction_timestamp\": \"2024-11-28 12:23:21\", \"total_amount\": 984, \"payment_method\": \"Bank Transfer\", \"items\": [{\"item_id\": 7, \"name\": \"External Hard Drive\", \"category\": \"Electronics\", \"price\": 129, \"quantity\": 3, \"details\": {\"brand\": \"Microsoft\", \"color\": \"White\"}}, {\"item_id\": 3, \"name\": \"Wireless Headphones\", \"category\": \"Electronics\", \"price\": 199, \"quantity\": 3, \"details\": {\"brand\": \"Canon\", \"color\": \"Blue\"}}], \"order_status\": \"Completed\"}"
        ],
        [
         7,
         "{\"item_id\":7,\"name\":\"External Hard Drive\",\"category\":\"Electronics\",\"price\":129,\"quantity\":3,\"details\":{\"brand\":\"Bose\",\"color\":\"White\"}}",
         null,
         "{\"order_id\": 88, \"customer_id\": 9247, \"order_date\": \"2024-11-15\", \"transaction_timestamp\": \"2024-11-15 11:39:44\", \"total_amount\": 387, \"payment_method\": \"Bank Transfer\", \"items\": [{\"item_id\": 7, \"name\": \"External Hard Drive\", \"category\": \"Electronics\", \"price\": 129, \"quantity\": 3, \"details\": {\"brand\": \"Bose\", \"color\": \"White\"}}], \"order_status\": \"Cancelled\"}"
        ],
        [
         6,
         "{\"item_id\":6,\"name\":\"Bluetooth Speaker\",\"category\":\"Electronics\",\"price\":149,\"quantity\":1,\"details\":{\"brand\":\"GoPro\",\"color\":\"Silver\"}}",
         null,
         "{\"order_id\": 89, \"customer_id\": 9247, \"order_date\": \"2024-11-22\", \"transaction_timestamp\": \"2024-11-22 12:09:15\", \"total_amount\": 149, \"payment_method\": \"Bank Transfer\", \"items\": [{\"item_id\": 6, \"name\": \"Bluetooth Speaker\", \"category\": \"Electronics\", \"price\": 149, \"quantity\": 1, \"details\": {\"brand\": \"GoPro\", \"color\": \"Silver\"}}], \"order_status\": \"Cancelled\"}"
        ],
        [
         7,
         "{\"item_id\":7,\"name\":\"External Hard Drive\",\"category\":\"Electronics\",\"price\":129,\"quantity\":2,\"details\":{\"brand\":\"Sony\",\"color\":\"Black\"}}",
         null,
         "{\"order_id\": 92, \"customer_id\": 5592, \"order_date\": \"2024-11-24\", \"transaction_timestamp\": \"2024-11-24 23:33:21\", \"total_amount\": 258, \"payment_method\": \"PayPal\", \"items\": [{\"item_id\": 7, \"name\": \"External Hard Drive\", \"category\": \"Electronics\", \"price\": 129, \"quantity\": 2, \"details\": {\"brand\": \"Sony\", \"color\": \"Black\"}}], \"order_status\": \"Shipped\"}"
        ],
        [
         10,
         "{\"item_id\":10,\"name\":\"Drone\",\"category\":\"Electronics\",\"price\":799,\"quantity\":1,\"details\":{\"brand\":\"GoPro\",\"color\":\"Black\"}}",
         null,
         "{\"order_id\": 6, \"customer_id\": 1987, \"order_date\": \"2024-10-28\", \"transaction_timestamp\": \"2024-10-28 04:47:27\", \"total_amount\": 799, \"payment_method\": \"Credit Card\", \"items\": [{\"item_id\": 10, \"name\": \"Drone\", \"category\": \"Electronics\", \"price\": 799, \"quantity\": 1, \"details\": {\"brand\": \"GoPro\", \"color\": \"Black\"}}], \"order_status\": \"Pending\"}"
        ],
        [
         5,
         "{\"item_id\":5,\"name\":\"Tablet\",\"category\":\"Electronics\",\"price\":399,\"quantity\":1,\"details\":{\"brand\":\"GoPro\",\"color\":\"White\"}}",
         null,
         "{\"order_id\": 10, \"customer_id\": 5816, \"order_date\": \"2024-10-07\", \"transaction_timestamp\": \"2024-10-07 22:09:27\", \"total_amount\": 399, \"payment_method\": \"Credit Card\", \"items\": [{\"item_id\": 5, \"name\": \"Tablet\", \"category\": \"Electronics\", \"price\": 399, \"quantity\": 1, \"details\": {\"brand\": \"GoPro\", \"color\": \"White\"}}], \"order_status\": \"Pending\"}"
        ],
        [
         4,
         "{\"item_id\":4,\"name\":\"Smartwatch\",\"category\":\"Electronics\",\"price\":299,\"quantity\":3,\"details\":{\"brand\":\"Canon\",\"color\":\"White\"}}",
         null,
         "{\"order_id\": 11, \"customer_id\": 5816, \"order_date\": \"2024-10-13\", \"transaction_timestamp\": \"2024-10-13 17:34:19\", \"total_amount\": 897, \"payment_method\": \"Bank Transfer\", \"items\": [{\"item_id\": 4, \"name\": \"Smartwatch\", \"category\": \"Electronics\", \"price\": 299, \"quantity\": 3, \"details\": {\"brand\": \"Canon\", \"color\": \"White\"}}], \"order_status\": \"Pending\"}"
        ],
        [
         9,
         "{\"item_id\":9,\"name\":\"Smart TV\",\"category\":\"Electronics\",\"price\":1199,\"quantity\":1,\"details\":{\"brand\":\"GoPro\",\"color\":\"White\"}}",
         null,
         "{\"order_id\": 15, \"customer_id\": 7207, \"order_date\": \"2024-10-20\", \"transaction_timestamp\": \"2024-10-20 01:47:25\", \"total_amount\": 1199, \"payment_method\": \"Bank Transfer\", \"items\": [{\"item_id\": 9, \"name\": \"Smart TV\", \"category\": \"Electronics\", \"price\": 1199, \"quantity\": 1, \"details\": {\"brand\": \"GoPro\", \"color\": \"White\"}}], \"order_status\": \"Completed\"}"
        ],
        [
         8,
         "{\"item_id\":8,\"name\":\"Gaming Console\",\"category\":\"Electronics\",\"price\":499,\"quantity\":1,\"details\":{\"brand\":\"Dell\",\"color\":\"Silver\"}}",
         null,
         "{\"order_id\": 19, \"customer_id\": 8539, \"order_date\": \"2024-10-13\", \"transaction_timestamp\": \"2024-10-13 12:40:26\", \"total_amount\": 499, \"payment_method\": \"PayPal\", \"items\": [{\"item_id\": 8, \"name\": \"Gaming Console\", \"category\": \"Electronics\", \"price\": 499, \"quantity\": 1, \"details\": {\"brand\": \"Dell\", \"color\": \"Silver\"}}], \"order_status\": \"Shipped\"}"
        ],
        [
         7,
         "{\"item_id\":7,\"name\":\"External Hard Drive\",\"category\":\"Electronics\",\"price\":129,\"quantity\":3,\"details\":{\"brand\":\"Sony\",\"color\":\"Black\"}}",
         null,
         "{\"order_id\": 39, \"customer_id\": 9263, \"order_date\": \"2024-10-29\", \"transaction_timestamp\": \"2024-10-29 21:39:19\", \"total_amount\": 387, \"payment_method\": \"PayPal\", \"items\": [{\"item_id\": 7, \"name\": \"External Hard Drive\", \"category\": \"Electronics\", \"price\": 129, \"quantity\": 3, \"details\": {\"brand\": \"Sony\", \"color\": \"Black\"}}], \"order_status\": \"Shipped\"}"
        ],
        [
         1,
         "{\"item_id\":1,\"name\":\"Smartphone\",\"category\":\"Electronics\",\"price\":699,\"quantity\":1,\"details\":{\"brand\":\"HP\",\"color\":\"Black\"}}",
         null,
         "{\"order_id\": 55, \"customer_id\": 9018, \"order_date\": \"2024-10-25\", \"transaction_timestamp\": \"2024-10-25 05:49:16\", \"total_amount\": 699, \"payment_method\": \"Bank Transfer\", \"items\": [{\"item_id\": 1, \"name\": \"Smartphone\", \"category\": \"Electronics\", \"price\": 699, \"quantity\": 1, \"details\": {\"brand\": \"HP\", \"color\": \"Black\"}}], \"order_status\": \"Shipped\"}"
        ],
        [
         8,
         "{\"item_id\":8,\"name\":\"Gaming Console\",\"category\":\"Electronics\",\"price\":499,\"quantity\":1,\"details\":{\"brand\":\"Dell\",\"color\":\"Black\"}}",
         null,
         "{\"order_id\": 59, \"customer_id\": 3409, \"order_date\": \"2024-10-23\", \"transaction_timestamp\": \"2024-10-23 02:51:05\", \"total_amount\": 499, \"payment_method\": \"PayPal\", \"items\": [{\"item_id\": 8, \"name\": \"Gaming Console\", \"category\": \"Electronics\", \"price\": 499, \"quantity\": 1, \"details\": {\"brand\": \"Dell\", \"color\": \"Black\"}}], \"order_status\": \"Pending\"}"
        ],
        [
         null,
         null,
         null,
         "{\"order_id\": 72, \"customer_id\": 3889, \"order_date\": 2024-10-06, \"transaction_timestamp\": \"2024-10-06 10:23:28\", \"total_amount\": 328, \"payment_method\": \"PayPal\", \"items\": [{\"item_id\": 3, \"name\": \"Wireless Headphones\", \"category\": \"Electronics\", \"price\": 199, \"quantity\": 1, \"details\": {\"brand\": \"Microsoft\", \"color\": \"Gray\"}}, {\"item_id\": 7, \"name\": \"External Hard Drive\", \"category\": \"Electronics\", \"price\": 129, \"quantity\": 1, \"details\": {\"brand\": \"Samsung\", \"color\": \"Silver\"}}], \"order_status\": \"Cancelled\"}"
        ],
        [
         3,
         "{\"item_id\":3,\"name\":\"Wireless Headphones\",\"category\":\"Electronics\",\"price\":199,\"quantity\":2,\"details\":{\"brand\":\"HP\",\"color\":\"Silver\"}}",
         null,
         "{\"order_id\": 77, \"customer_id\": 9084, \"order_date\": \"2024-10-15\", \"transaction_timestamp\": \"2024-10-15 13:09:33\", \"total_amount\": 398, \"payment_method\": \"Credit Card\", \"items\": [{\"item_id\": 3, \"name\": \"Wireless Headphones\", \"category\": \"Electronics\", \"price\": 199, \"quantity\": 2, \"details\": {\"brand\": \"HP\", \"color\": \"Silver\"}}], \"order_status\": \"Pending\"}"
        ],
        [
         10,
         "{\"item_id\":10,\"name\":\"Drone\",\"category\":\"Electronics\",\"price\":799,\"quantity\":1,\"details\":{\"brand\":\"Sony\",\"color\":\"Black\"}}",
         "{\"item_id\":3,\"name\":\"Wireless Headphones\",\"category\":\"Electronics\",\"price\":199,\"quantity\":1,\"details\":{\"brand\":\"LG\",\"color\":\"Black\"}}",
         "{\"order_id\": 84, \"customer_id\": 2344, \"order_date\": \"2024-10-25\", \"transaction_timestamp\": \"2024-10-25 03:37:42\", \"total_amount\": 998, \"payment_method\": \"PayPal\", \"items\": [{\"item_id\": 10, \"name\": \"Drone\", \"category\": \"Electronics\", \"price\": 799, \"quantity\": 1, \"details\": {\"brand\": \"Sony\", \"color\": \"Black\"}}, {\"item_id\": 3, \"name\": \"Wireless Headphones\", \"category\": \"Electronics\", \"price\": 199, \"quantity\": 1, \"details\": {\"brand\": \"LG\", \"color\": \"Black\"}}], \"order_status\": \"Completed\"}"
        ],
        [
         8,
         "{\"item_id\":8,\"name\":\"Gaming Console\",\"category\":\"Electronics\",\"price\":499,\"quantity\":2,\"details\":{\"brand\":\"GoPro\",\"color\":\"Black\"}}",
         null,
         "{\"order_id\": 85, \"customer_id\": 5011, \"order_date\": \"2024-10-23\", \"transaction_timestamp\": \"2024-10-23 20:06:42\", \"total_amount\": 998, \"payment_method\": \"Bank Transfer\", \"items\": [{\"item_id\": 8, \"name\": \"Gaming Console\", \"category\": \"Electronics\", \"price\": 499, \"quantity\": 2, \"details\": {\"brand\": \"GoPro\", \"color\": \"Black\"}}], \"order_status\": \"Shipped\"}"
        ],
        [
         9,
         "{\"item_id\":9,\"name\":\"Smart TV\",\"category\":\"Electronics\",\"price\":1199,\"quantity\":1,\"details\":{\"brand\":\"Dell\",\"color\":\"White\"}}",
         null,
         "{\"order_id\": 86, \"customer_id\": 5011, \"order_date\": \"2024-10-19\", \"transaction_timestamp\": \"2024-10-19 13:30:47\", \"total_amount\": 1199, \"payment_method\": \"PayPal\", \"items\": [{\"item_id\": 9, \"name\": \"Smart TV\", \"category\": \"Electronics\", \"price\": 1199, \"quantity\": 1, \"details\": {\"brand\": \"Dell\", \"color\": \"White\"}}], \"order_status\": \"Completed\"}"
        ]
       ],
       "datasetInfos": [
        {
         "name": "_sqldf",
         "schema": {
          "fields": [
           {
            "metadata": {},
            "name": "items_1_item_id",
            "nullable": true,
            "type": "integer"
           },
           {
            "metadata": {},
            "name": "items_1",
            "nullable": true,
            "type": "string"
           },
           {
            "metadata": {},
            "name": "items_2",
            "nullable": true,
            "type": "string"
           },
           {
            "metadata": {},
            "name": "value",
            "nullable": true,
            "type": "string"
           }
          ],
          "type": "struct"
         },
         "tableIdentifier": null,
         "typeStr": "pyspark.sql.connect.dataframe.DataFrame"
        }
       ],
       "dbfsResultPath": null,
       "isJsonSchema": true,
       "metadata": {
        "createTempViewForImplicitDf": true,
        "dataframeName": "_sqldf",
        "executionCount": 14
       },
       "overflow": false,
       "plotOptions": {
        "customPlotOptions": {},
        "displayType": "table",
        "pivotAggregation": null,
        "pivotColumns": null,
        "xColumns": null,
        "yColumns": null
       },
       "removedWidgets": [],
       "schema": [
        {
         "metadata": "{}",
         "name": "items_1_item_id",
         "type": "\"integer\""
        },
        {
         "metadata": "{}",
         "name": "items_1",
         "type": "\"string\""
        },
        {
         "metadata": "{}",
         "name": "items_2",
         "type": "\"string\""
        },
        {
         "metadata": "{}",
         "name": "value",
         "type": "\"string\""
        }
       ],
       "type": "table"
      }
     },
     "output_type": "display_data"
    }
   ],
   "source": [
    "%sql\n",
    "select value:items[0].item_id::integer  as items_1_item_id,\n",
    "       value:items[0] as items_1,\n",
    "       value:items[1] as items_2,\n",
    "       value\n",
    "  from gizmobox.bronze.v_orders;"
   ]
  }
 ],
 "metadata": {
  "application/vnd.databricks.v1+notebook": {
   "computePreferences": null,
   "dashboards": [],
   "environmentMetadata": {
    "base_environment": "",
    "environment_version": "3"
   },
   "inputWidgetPreferences": null,
   "language": "python",
   "notebookMetadata": {
    "mostRecentlyExecutedCommandWithImplicitDF": {
     "commandId": 4711023518250133,
     "dataframes": [
      "_sqldf"
     ]
    },
    "pythonIndentUnit": 4
   },
   "notebookName": "14-Query-Orders-Data-As-JSON-Strings",
   "widgets": {}
  },
  "language_info": {
   "name": "python"
  }
 },
 "nbformat": 4,
 "nbformat_minor": 0
}
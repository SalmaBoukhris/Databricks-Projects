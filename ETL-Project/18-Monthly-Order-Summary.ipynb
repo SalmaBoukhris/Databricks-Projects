{
 "cells": [
  {
   "cell_type": "markdown",
   "metadata": {
    "application/vnd.databricks.v1+cell": {
     "cellMetadata": {},
     "inputWidgets": {},
     "nuid": "87280a54-5b0d-4204-b02d-a81d784c4289",
     "showTitle": false,
     "tableResultSettingsMap": {},
     "title": ""
    }
   },
   "source": [
    "## Monthly Order Summary"
   ]
  },
  {
   "cell_type": "code",
   "execution_count": 0,
   "metadata": {
    "application/vnd.databricks.v1+cell": {
     "cellMetadata": {
      "byteLimit": 2048000,
      "implicitDf": true,
      "rowLimit": 10000
     },
     "inputWidgets": {},
     "nuid": "07eaa126-e510-4eca-adef-702f5421224c",
     "showTitle": false,
     "tableResultSettingsMap": {},
     "title": ""
    }
   },
   "outputs": [
    {
     "output_type": "display_data",
     "data": {
      "text/html": [
       "<style scoped>\n",
       "  .table-result-container {\n",
       "    max-height: 300px;\n",
       "    overflow: auto;\n",
       "  }\n",
       "  table, th, td {\n",
       "    border: 1px solid black;\n",
       "    border-collapse: collapse;\n",
       "  }\n",
       "  th, td {\n",
       "    padding: 5px;\n",
       "  }\n",
       "  th {\n",
       "    text-align: left;\n",
       "  }\n",
       "</style><div class='table-result-container'><table class='table-result'><thead style='background-color: white'><tr><th>order_id</th><th>order_status</th><th>payment_method</th><th>total_amount</th><th>order_date</th><th>order_time</th><th>customer_id</th><th>item_id</th><th>name</th><th>price</th><th>quantity</th><th>category</th><th>brand</th><th>color</th></tr></thead><tbody><tr><td>6</td><td>Pending</td><td>Credit Card</td><td>799</td><td>2024-10-28</td><td>04:47:27</td><td>1987</td><td>10</td><td>Drone</td><td>799</td><td>1</td><td>Electronics</td><td>GoPro</td><td>Black</td></tr><tr><td>10</td><td>Pending</td><td>Credit Card</td><td>399</td><td>2024-10-07</td><td>22:09:27</td><td>5816</td><td>5</td><td>Tablet</td><td>399</td><td>1</td><td>Electronics</td><td>GoPro</td><td>White</td></tr><tr><td>11</td><td>Pending</td><td>Bank Transfer</td><td>897</td><td>2024-10-13</td><td>17:34:19</td><td>5816</td><td>4</td><td>Smartwatch</td><td>299</td><td>3</td><td>Electronics</td><td>Canon</td><td>White</td></tr><tr><td>15</td><td>Completed</td><td>Bank Transfer</td><td>1199</td><td>2024-10-20</td><td>01:47:25</td><td>7207</td><td>9</td><td>Smart TV</td><td>1199</td><td>1</td><td>Electronics</td><td>GoPro</td><td>White</td></tr><tr><td>19</td><td>Shipped</td><td>PayPal</td><td>499</td><td>2024-10-13</td><td>12:40:26</td><td>8539</td><td>8</td><td>Gaming Console</td><td>499</td><td>1</td><td>Electronics</td><td>Dell</td><td>Silver</td></tr><tr><td>39</td><td>Shipped</td><td>PayPal</td><td>387</td><td>2024-10-29</td><td>21:39:19</td><td>9263</td><td>7</td><td>External Hard Drive</td><td>129</td><td>3</td><td>Electronics</td><td>Sony</td><td>Black</td></tr><tr><td>55</td><td>Shipped</td><td>Bank Transfer</td><td>699</td><td>2024-10-25</td><td>05:49:16</td><td>9018</td><td>1</td><td>Smartphone</td><td>699</td><td>1</td><td>Electronics</td><td>HP</td><td>Black</td></tr><tr><td>59</td><td>Pending</td><td>PayPal</td><td>499</td><td>2024-10-23</td><td>02:51:05</td><td>3409</td><td>8</td><td>Gaming Console</td><td>499</td><td>1</td><td>Electronics</td><td>Dell</td><td>Black</td></tr><tr><td>72</td><td>Cancelled</td><td>PayPal</td><td>328</td><td>2024-10-06</td><td>10:23:28</td><td>3889</td><td>3</td><td>Wireless Headphones</td><td>199</td><td>1</td><td>Electronics</td><td>Microsoft</td><td>Gray</td></tr><tr><td>72</td><td>Cancelled</td><td>PayPal</td><td>328</td><td>2024-10-06</td><td>10:23:28</td><td>3889</td><td>7</td><td>External Hard Drive</td><td>129</td><td>1</td><td>Electronics</td><td>Samsung</td><td>Silver</td></tr><tr><td>77</td><td>Pending</td><td>Credit Card</td><td>398</td><td>2024-10-15</td><td>13:09:33</td><td>9084</td><td>3</td><td>Wireless Headphones</td><td>199</td><td>2</td><td>Electronics</td><td>HP</td><td>Silver</td></tr><tr><td>84</td><td>Completed</td><td>PayPal</td><td>998</td><td>2024-10-25</td><td>03:37:42</td><td>2344</td><td>10</td><td>Drone</td><td>799</td><td>1</td><td>Electronics</td><td>Sony</td><td>Black</td></tr><tr><td>84</td><td>Completed</td><td>PayPal</td><td>998</td><td>2024-10-25</td><td>03:37:42</td><td>2344</td><td>3</td><td>Wireless Headphones</td><td>199</td><td>1</td><td>Electronics</td><td>LG</td><td>Black</td></tr><tr><td>85</td><td>Shipped</td><td>Bank Transfer</td><td>998</td><td>2024-10-23</td><td>20:06:42</td><td>5011</td><td>8</td><td>Gaming Console</td><td>499</td><td>2</td><td>Electronics</td><td>GoPro</td><td>Black</td></tr><tr><td>86</td><td>Completed</td><td>PayPal</td><td>1199</td><td>2024-10-19</td><td>13:30:47</td><td>5011</td><td>9</td><td>Smart TV</td><td>1199</td><td>1</td><td>Electronics</td><td>Dell</td><td>White</td></tr><tr><td>5</td><td>Cancelled</td><td>Bank Transfer</td><td>998</td><td>2024-11-16</td><td>23:07:31</td><td>3892</td><td>8</td><td>Gaming Console</td><td>499</td><td>2</td><td>Electronics</td><td>Dell</td><td>Blue</td></tr><tr><td>7</td><td>Pending</td><td>Credit Card</td><td>645</td><td>2024-11-19</td><td>19:18:48</td><td>1987</td><td>7</td><td>External Hard Drive</td><td>129</td><td>2</td><td>Electronics</td><td>LG</td><td>Blue</td></tr><tr><td>7</td><td>Pending</td><td>Credit Card</td><td>645</td><td>2024-11-19</td><td>19:18:48</td><td>1987</td><td>7</td><td>External Hard Drive</td><td>129</td><td>3</td><td>Electronics</td><td>HP</td><td>Gray</td></tr><tr><td>9</td><td>Shipped</td><td>Bank Transfer</td><td>999</td><td>2024-11-27</td><td>13:15:29</td><td>9179</td><td>2</td><td>Laptop</td><td>999</td><td>1</td><td>Electronics</td><td>Apple</td><td>Black</td></tr><tr><td>20</td><td>Pending</td><td>PayPal</td><td>798</td><td>2024-11-18</td><td>02:38:21</td><td>8539</td><td>5</td><td>Tablet</td><td>399</td><td>2</td><td>Electronics</td><td>Sony</td><td>Silver</td></tr><tr><td>21</td><td>Cancelled</td><td>Bank Transfer</td><td>298</td><td>2024-11-21</td><td>11:25:35</td><td>8539</td><td>6</td><td>Bluetooth Speaker</td><td>149</td><td>2</td><td>Electronics</td><td>GoPro</td><td>Blue</td></tr><tr><td>23</td><td>Shipped</td><td>PayPal</td><td>997</td><td>2024-11-22</td><td>16:04:05</td><td>4761</td><td>5</td><td>Tablet</td><td>399</td><td>1</td><td>Electronics</td><td>Apple</td><td>Gray</td></tr><tr><td>23</td><td>Shipped</td><td>PayPal</td><td>997</td><td>2024-11-22</td><td>16:04:05</td><td>4761</td><td>4</td><td>Smartwatch</td><td>299</td><td>2</td><td>Electronics</td><td>Dell</td><td>Gray</td></tr><tr><td>25</td><td>Completed</td><td>PayPal</td><td>999</td><td>2024-11-05</td><td>11:45:31</td><td>9706</td><td>2</td><td>Laptop</td><td>999</td><td>1</td><td>Electronics</td><td>LG</td><td>Gray</td></tr><tr><td>30</td><td>Shipped</td><td>Bank Transfer</td><td>199</td><td>2024-11-12</td><td>03:20:29</td><td>4996</td><td>3</td><td>Wireless Headphones</td><td>199</td><td>1</td><td>Electronics</td><td>GoPro</td><td>White</td></tr><tr><td>35</td><td>Shipped</td><td>Bank Transfer</td><td>199</td><td>2024-11-20</td><td>19:09:04</td><td>4914</td><td>3</td><td>Wireless Headphones</td><td>199</td><td>1</td><td>Electronics</td><td>Dell</td><td>Gray</td></tr><tr><td>36</td><td>Completed</td><td>PayPal</td><td>199</td><td>2024-11-02</td><td>10:39:46</td><td>4914</td><td>3</td><td>Wireless Headphones</td><td>199</td><td>1</td><td>Electronics</td><td>Canon</td><td>Silver</td></tr><tr><td>42</td><td>Completed</td><td>Credit Card</td><td>149</td><td>2024-11-08</td><td>18:32:25</td><td>5028</td><td>6</td><td>Bluetooth Speaker</td><td>149</td><td>1</td><td>Electronics</td><td>Bose</td><td>Gray</td></tr><tr><td>45</td><td>Shipped</td><td>Credit Card</td><td>799</td><td>2024-11-07</td><td>15:41:43</td><td>7295</td><td>10</td><td>Drone</td><td>799</td><td>1</td><td>Electronics</td><td>Dell</td><td>White</td></tr><tr><td>46</td><td>Pending</td><td>PayPal</td><td>199</td><td>2024-11-26</td><td>17:16:53</td><td>7295</td><td>3</td><td>Wireless Headphones</td><td>199</td><td>1</td><td>Electronics</td><td>Samsung</td><td>Black</td></tr><tr><td>47</td><td>Shipped</td><td>Credit Card</td><td>298</td><td>2024-11-22</td><td>02:01:19</td><td>7803</td><td>6</td><td>Bluetooth Speaker</td><td>149</td><td>2</td><td>Electronics</td><td>LG</td><td>Blue</td></tr><tr><td>48</td><td>Completed</td><td>PayPal</td><td>387</td><td>2024-11-13</td><td>06:35:56</td><td>7803</td><td>7</td><td>External Hard Drive</td><td>129</td><td>3</td><td>Electronics</td><td>Apple</td><td>Black</td></tr><tr><td>52</td><td>Completed</td><td>PayPal</td><td>998</td><td>2024-11-19</td><td>21:23:45</td><td>8845</td><td>8</td><td>Gaming Console</td><td>499</td><td>2</td><td>Electronics</td><td>GoPro</td><td>White</td></tr><tr><td>57</td><td>Cancelled</td><td>Bank Transfer</td><td>586</td><td>2024-11-19</td><td>11:32:44</td><td>8580</td><td>3</td><td>Wireless Headphones</td><td>199</td><td>1</td><td>Electronics</td><td>HP</td><td>Silver</td></tr><tr><td>57</td><td>Cancelled</td><td>Bank Transfer</td><td>586</td><td>2024-11-19</td><td>11:32:44</td><td>8580</td><td>7</td><td>External Hard Drive</td><td>129</td><td>3</td><td>Electronics</td><td>Sony</td><td>Silver</td></tr><tr><td>63</td><td>Cancelled</td><td>Bank Transfer</td><td>646</td><td>2024-11-24</td><td>08:41:28</td><td>7123</td><td>3</td><td>Wireless Headphones</td><td>199</td><td>1</td><td>Electronics</td><td>GoPro</td><td>Blue</td></tr><tr><td>63</td><td>Cancelled</td><td>Bank Transfer</td><td>646</td><td>2024-11-24</td><td>08:41:28</td><td>7123</td><td>6</td><td>Bluetooth Speaker</td><td>149</td><td>3</td><td>Electronics</td><td>Bose</td><td>Silver</td></tr><tr><td>64</td><td>Completed</td><td>Bank Transfer</td><td>984</td><td>2024-11-28</td><td>12:23:21</td><td>2639</td><td>7</td><td>External Hard Drive</td><td>129</td><td>3</td><td>Electronics</td><td>Microsoft</td><td>White</td></tr><tr><td>64</td><td>Completed</td><td>Bank Transfer</td><td>984</td><td>2024-11-28</td><td>12:23:21</td><td>2639</td><td>3</td><td>Wireless Headphones</td><td>199</td><td>3</td><td>Electronics</td><td>Canon</td><td>Blue</td></tr><tr><td>88</td><td>Cancelled</td><td>Bank Transfer</td><td>387</td><td>2024-11-15</td><td>11:39:44</td><td>9247</td><td>7</td><td>External Hard Drive</td><td>129</td><td>3</td><td>Electronics</td><td>Bose</td><td>White</td></tr><tr><td>89</td><td>Cancelled</td><td>Bank Transfer</td><td>149</td><td>2024-11-22</td><td>12:09:15</td><td>9247</td><td>6</td><td>Bluetooth Speaker</td><td>149</td><td>1</td><td>Electronics</td><td>GoPro</td><td>Silver</td></tr><tr><td>92</td><td>Shipped</td><td>PayPal</td><td>258</td><td>2024-11-24</td><td>23:33:21</td><td>5592</td><td>7</td><td>External Hard Drive</td><td>129</td><td>2</td><td>Electronics</td><td>Sony</td><td>Black</td></tr><tr><td>12</td><td>Cancelled</td><td>PayPal</td><td>999</td><td>2024-12-06</td><td>20:26:49</td><td>5816</td><td>2</td><td>Laptop</td><td>999</td><td>1</td><td>Electronics</td><td>Sony</td><td>White</td></tr><tr><td>13</td><td>Pending</td><td>PayPal</td><td>999</td><td>2024-12-17</td><td>03:41:37</td><td>4858</td><td>2</td><td>Laptop</td><td>999</td><td>1</td><td>Electronics</td><td>GoPro</td><td>Black</td></tr><tr><td>16</td><td>Pending</td><td>Bank Transfer</td><td>597</td><td>2024-12-08</td><td>22:59:48</td><td>5204</td><td>3</td><td>Wireless Headphones</td><td>199</td><td>3</td><td>Electronics</td><td>Sony</td><td>Silver</td></tr><tr><td>17</td><td>Pending</td><td>Bank Transfer</td><td>998</td><td>2024-12-02</td><td>12:00:50</td><td>5204</td><td>8</td><td>Gaming Console</td><td>499</td><td>2</td><td>Electronics</td><td>Dell</td><td>Black</td></tr><tr><td>24</td><td>Completed</td><td>PayPal</td><td>1199</td><td>2024-12-21</td><td>03:24:26</td><td>1211</td><td>9</td><td>Smart TV</td><td>1199</td><td>1</td><td>Electronics</td><td>GoPro</td><td>Gray</td></tr><tr><td>27</td><td>Completed</td><td>Credit Card</td><td>904</td><td>2024-12-02</td><td>11:24:21</td><td>2703</td><td>7</td><td>External Hard Drive</td><td>129</td><td>2</td><td>Electronics</td><td>Dell</td><td>White</td></tr><tr><td>27</td><td>Completed</td><td>Credit Card</td><td>904</td><td>2024-12-02</td><td>11:24:21</td><td>2703</td><td>6</td><td>Bluetooth Speaker</td><td>149</td><td>3</td><td>Electronics</td><td>Canon</td><td>Black</td></tr><tr><td>27</td><td>Completed</td><td>Credit Card</td><td>904</td><td>2024-12-02</td><td>11:24:21</td><td>2703</td><td>3</td><td>Wireless Headphones</td><td>199</td><td>1</td><td>Electronics</td><td>Microsoft</td><td>Silver</td></tr><tr><td>28</td><td>Cancelled</td><td>Credit Card</td><td>129</td><td>2024-12-26</td><td>03:17:50</td><td>2703</td><td>7</td><td>External Hard Drive</td><td>129</td><td>1</td><td>Electronics</td><td>GoPro</td><td>Blue</td></tr><tr><td>32</td><td>Pending</td><td>PayPal</td><td>399</td><td>2024-12-28</td><td>08:55:57</td><td>4996</td><td>5</td><td>Tablet</td><td>399</td><td>1</td><td>Electronics</td><td>Apple</td><td>Silver</td></tr><tr><td>37</td><td>Shipped</td><td>Credit Card</td><td>258</td><td>2024-12-22</td><td>10:11:49</td><td>7829</td><td>7</td><td>External Hard Drive</td><td>129</td><td>2</td><td>Electronics</td><td>HP</td><td>Silver</td></tr><tr><td>38</td><td>Shipped</td><td>Credit Card</td><td>447</td><td>2024-12-25</td><td>22:05:19</td><td>7829</td><td>6</td><td>Bluetooth Speaker</td><td>149</td><td>3</td><td>Electronics</td><td>Apple</td><td>Gray</td></tr><tr><td>44</td><td>Completed</td><td>Credit Card</td><td>129</td><td>2024-12-20</td><td>08:05:43</td><td>7295</td><td>7</td><td>External Hard Drive</td><td>129</td><td>1</td><td>Electronics</td><td>Bose</td><td>Blue</td></tr><tr><td>49</td><td>Cancelled</td><td>PayPal</td><td>747</td><td>2024-12-07</td><td>23:24:11</td><td>7803</td><td>4</td><td>Smartwatch</td><td>299</td><td>1</td><td>Electronics</td><td>HP</td><td>White</td></tr><tr><td>49</td><td>Cancelled</td><td>PayPal</td><td>747</td><td>2024-12-07</td><td>23:24:11</td><td>7803</td><td>4</td><td>Smartwatch</td><td>299</td><td>1</td><td>Electronics</td><td>Canon</td><td>Blue</td></tr><tr><td>49</td><td>Cancelled</td><td>PayPal</td><td>747</td><td>2024-12-07</td><td>23:24:11</td><td>7803</td><td>6</td><td>Bluetooth Speaker</td><td>149</td><td>1</td><td>Electronics</td><td>Samsung</td><td>White</td></tr><tr><td>54</td><td>Pending</td><td>Credit Card</td><td>398</td><td>2024-12-20</td><td>12:04:27</td><td>2054</td><td>3</td><td>Wireless Headphones</td><td>199</td><td>2</td><td>Electronics</td><td>Bose</td><td>Gray</td></tr><tr><td>58</td><td>Completed</td><td>PayPal</td><td>699</td><td>2024-12-09</td><td>22:40:58</td><td>8580</td><td>1</td><td>Smartphone</td><td>699</td><td>1</td><td>Electronics</td><td>Microsoft</td><td>Gray</td></tr><tr><td>60</td><td>Shipped</td><td>Bank Transfer</td><td>199</td><td>2024-12-13</td><td>13:10:12</td><td>3409</td><td>3</td><td>Wireless Headphones</td><td>199</td><td>1</td><td>Electronics</td><td>Samsung</td><td>Blue</td></tr><tr><td>61</td><td>Completed</td><td>Bank Transfer</td><td>699</td><td>2024-12-07</td><td>07:47:19</td><td>7123</td><td>1</td><td>Smartphone</td><td>699</td><td>1</td><td>Electronics</td><td>Canon</td><td>Black</td></tr><tr><td>65</td><td>Cancelled</td><td>Bank Transfer</td><td>399</td><td>2024-12-09</td><td>13:04:13</td><td>3084</td><td>5</td><td>Tablet</td><td>399</td><td>1</td><td>Electronics</td><td>Microsoft</td><td>Gray</td></tr><tr><td>67</td><td>Shipped</td><td>PayPal</td><td>897</td><td>2024-12-19</td><td>07:11:09</td><td>3084</td><td>4</td><td>Smartwatch</td><td>299</td><td>3</td><td>Electronics</td><td>LG</td><td>Blue</td></tr><tr><td>69</td><td>Completed</td><td>Bank Transfer</td><td>699</td><td>2024-12-30</td><td>02:42:01</td><td>4973</td><td>1</td><td>Smartphone</td><td>699</td><td>1</td><td>Electronics</td><td>Dell</td><td>Gray</td></tr><tr><td>70</td><td>Shipped</td><td>PayPal</td><td>897</td><td>2024-12-04</td><td>17:17:24</td><td>7997</td><td>4</td><td>Smartwatch</td><td>299</td><td>3</td><td>Electronics</td><td>Sony</td><td>Black</td></tr><tr><td>71</td><td>Completed</td><td>Bank Transfer</td><td>199</td><td>2024-12-27</td><td>11:16:39</td><td>7997</td><td>3</td><td>Wireless Headphones</td><td>199</td><td>1</td><td>Electronics</td><td>Microsoft</td><td>Black</td></tr><tr><td>74</td><td>Pending</td><td>PayPal</td><td>699</td><td>2024-12-22</td><td>15:54:11</td><td>6167</td><td>1</td><td>Smartphone</td><td>699</td><td>1</td><td>Electronics</td><td>Samsung</td><td>Blue</td></tr><tr><td>80</td><td>Cancelled</td><td>Bank Transfer</td><td>998</td><td>2024-12-11</td><td>07:43:54</td><td>9687</td><td>8</td><td>Gaming Console</td><td>499</td><td>2</td><td>Electronics</td><td>Samsung</td><td>White</td></tr><tr><td>81</td><td>Completed</td><td>PayPal</td><td>699</td><td>2024-12-27</td><td>02:27:45</td><td>9687</td><td>1</td><td>Smartphone</td><td>699</td><td>1</td><td>Electronics</td><td>GoPro</td><td>Blue</td></tr><tr><td>82</td><td>Completed</td><td>PayPal</td><td>387</td><td>2024-12-28</td><td>00:54:08</td><td>2344</td><td>7</td><td>External Hard Drive</td><td>129</td><td>3</td><td>Electronics</td><td>Sony</td><td>Blue</td></tr><tr><td>91</td><td>Cancelled</td><td>Bank Transfer</td><td>699</td><td>2024-12-17</td><td>00:09:53</td><td>5592</td><td>1</td><td>Smartphone</td><td>699</td><td>1</td><td>Electronics</td><td>Canon</td><td>Silver</td></tr><tr><td>93</td><td>Pending</td><td>PayPal</td><td>598</td><td>2024-12-22</td><td>05:07:46</td><td>6627</td><td>4</td><td>Smartwatch</td><td>299</td><td>2</td><td>Electronics</td><td>LG</td><td>Silver</td></tr><tr><td>95</td><td>Completed</td><td>Bank Transfer</td><td>946</td><td>2024-12-28</td><td>04:28:30</td><td>6627</td><td>4</td><td>Smartwatch</td><td>299</td><td>2</td><td>Electronics</td><td>GoPro</td><td>White</td></tr><tr><td>95</td><td>Completed</td><td>Bank Transfer</td><td>946</td><td>2024-12-28</td><td>04:28:30</td><td>6627</td><td>3</td><td>Wireless Headphones</td><td>199</td><td>1</td><td>Electronics</td><td>Bose</td><td>Gray</td></tr><tr><td>95</td><td>Completed</td><td>Bank Transfer</td><td>946</td><td>2024-12-28</td><td>04:28:30</td><td>6627</td><td>6</td><td>Bluetooth Speaker</td><td>149</td><td>1</td><td>Electronics</td><td>Dell</td><td>Silver</td></tr><tr><td>96</td><td>Shipped</td><td>PayPal</td><td>149</td><td>2024-12-02</td><td>12:27:45</td><td>6406</td><td>6</td><td>Bluetooth Speaker</td><td>149</td><td>1</td><td>Electronics</td><td>Microsoft</td><td>Black</td></tr><tr><td>97</td><td>Completed</td><td>Bank Transfer</td><td>499</td><td>2024-12-07</td><td>16:14:34</td><td>6406</td><td>8</td><td>Gaming Console</td><td>499</td><td>1</td><td>Electronics</td><td>Sony</td><td>Silver</td></tr><tr><td>1</td><td>Completed</td><td>Bank Transfer</td><td>499</td><td>2025-01-05</td><td>10:13:59</td><td>6973</td><td>8</td><td>Gaming Console</td><td>499</td><td>1</td><td>Electronics</td><td>Sony</td><td>Blue</td></tr><tr><td>2</td><td>Cancelled</td><td>PayPal</td><td>985</td><td>2025-01-19</td><td>00:05:13</td><td>3532</td><td>4</td><td>Smartwatch</td><td>299</td><td>2</td><td>Electronics</td><td>Canon</td><td>Gray</td></tr><tr><td>2</td><td>Cancelled</td><td>PayPal</td><td>985</td><td>2025-01-19</td><td>00:05:13</td><td>3532</td><td>7</td><td>External Hard Drive</td><td>129</td><td>3</td><td>Electronics</td><td>Dell</td><td>Blue</td></tr><tr><td>3</td><td>Completed</td><td>Bank Transfer</td><td>597</td><td>2025-01-08</td><td>23:11:00</td><td>3532</td><td>3</td><td>Wireless Headphones</td><td>199</td><td>3</td><td>Electronics</td><td>Apple</td><td>White</td></tr><tr><td>4</td><td>Cancelled</td><td>Bank Transfer</td><td>999</td><td>2025-01-05</td><td>05:49:26</td><td>3532</td><td>2</td><td>Laptop</td><td>999</td><td>1</td><td>Electronics</td><td>Microsoft</td><td>Black</td></tr><tr><td>8</td><td>Completed</td><td>PayPal</td><td>399</td><td>2025-01-02</td><td>13:11:15</td><td>9179</td><td>5</td><td>Tablet</td><td>399</td><td>1</td><td>Electronics</td><td>LG</td><td>White</td></tr><tr><td>14</td><td>Cancelled</td><td>PayPal</td><td>597</td><td>2025-01-01</td><td>18:22:26</td><td>7207</td><td>3</td><td>Wireless Headphones</td><td>199</td><td>3</td><td>Electronics</td><td>Bose</td><td>Blue</td></tr><tr><td>18</td><td>Pending</td><td>Credit Card</td><td>799</td><td>2025-01-22</td><td>21:12:08</td><td>4468</td><td>10</td><td>Drone</td><td>799</td><td>1</td><td>Electronics</td><td>Dell</td><td>Black</td></tr><tr><td>22</td><td>Pending</td><td>PayPal</td><td>199</td><td>2025-01-01</td><td>15:49:19</td><td>4761</td><td>3</td><td>Wireless Headphones</td><td>199</td><td>1</td><td>Electronics</td><td>HP</td><td>Silver</td></tr><tr><td>26</td><td>Shipped</td><td>Bank Transfer</td><td>699</td><td>2025-01-05</td><td>19:01:25</td><td>7007</td><td>1</td><td>Smartphone</td><td>699</td><td>1</td><td>Electronics</td><td>Samsung</td><td>Silver</td></tr><tr><td>29</td><td>Pending</td><td>Bank Transfer</td><td>129</td><td>2025-01-18</td><td>03:05:04</td><td>5953</td><td>7</td><td>External Hard Drive</td><td>129</td><td>1</td><td>Electronics</td><td>Bose</td><td>Gray</td></tr><tr><td>31</td><td>Shipped</td><td>Bank Transfer</td><td>299</td><td>2025-01-18</td><td>03:13:29</td><td>4996</td><td>4</td><td>Smartwatch</td><td>299</td><td>1</td><td>Electronics</td><td>Dell</td><td>White</td></tr><tr><td>33</td><td>Completed</td><td>PayPal</td><td>897</td><td>2025-01-13</td><td>04:47:43</td><td>9605</td><td>4</td><td>Smartwatch</td><td>299</td><td>3</td><td>Electronics</td><td>Canon</td><td>White</td></tr><tr><td>34</td><td>Cancelled</td><td>PayPal</td><td>926</td><td>2025-01-21</td><td>00:25:01</td><td>9605</td><td>6</td><td>Bluetooth Speaker</td><td>149</td><td>2</td><td>Electronics</td><td>Bose</td><td>Silver</td></tr><tr><td>34</td><td>Cancelled</td><td>PayPal</td><td>926</td><td>2025-01-21</td><td>00:25:01</td><td>9605</td><td>8</td><td>Gaming Console</td><td>499</td><td>1</td><td>Electronics</td><td>LG</td><td>Black</td></tr><tr><td>34</td><td>Cancelled</td><td>PayPal</td><td>926</td><td>2025-01-21</td><td>00:25:01</td><td>9605</td><td>7</td><td>External Hard Drive</td><td>129</td><td>1</td><td>Electronics</td><td>Samsung</td><td>Black</td></tr><tr><td>40</td><td>Completed</td><td>PayPal</td><td>298</td><td>2025-01-20</td><td>16:18:35</td><td>6384</td><td>6</td><td>Bluetooth Speaker</td><td>149</td><td>2</td><td>Electronics</td><td>Bose</td><td>Silver</td></tr><tr><td>41</td><td>Shipped</td><td>Credit Card</td><td>999</td><td>2025-01-05</td><td>06:10:22</td><td>6384</td><td>2</td><td>Laptop</td><td>999</td><td>1</td><td>Electronics</td><td>Sony</td><td>Silver</td></tr><tr><td>43</td><td>Pending</td><td>PayPal</td><td>499</td><td>2025-01-24</td><td>18:10:37</td><td>5028</td><td>8</td><td>Gaming Console</td><td>499</td><td>1</td><td>Electronics</td><td>LG</td><td>Black</td></tr><tr><td>50</td><td>Shipped</td><td>Credit Card</td><td>746</td><td>2025-01-11</td><td>01:19:09</td><td>3712</td><td>6</td><td>Bluetooth Speaker</td><td>149</td><td>3</td><td>Electronics</td><td>Apple</td><td>Gray</td></tr><tr><td>50</td><td>Shipped</td><td>Credit Card</td><td>746</td><td>2025-01-11</td><td>01:19:09</td><td>3712</td><td>4</td><td>Smartwatch</td><td>299</td><td>1</td><td>Electronics</td><td>Sony</td><td>White</td></tr><tr><td>51</td><td>Completed</td><td>PayPal</td><td>149</td><td>2025-01-21</td><td>13:19:59</td><td>8845</td><td>6</td><td>Bluetooth Speaker</td><td>149</td><td>1</td><td>Electronics</td><td>Samsung</td><td>Gray</td></tr><tr><td>53</td><td>Pending</td><td>Bank Transfer</td><td>199</td><td>2025-01-21</td><td>08:31:02</td><td>8845</td><td>3</td><td>Wireless Headphones</td><td>199</td><td>1</td><td>Electronics</td><td>Apple</td><td>Black</td></tr><tr><td>56</td><td>Cancelled</td><td>PayPal</td><td>698</td><td>2025-01-01</td><td>12:02:41</td><td>8580</td><td>3</td><td>Wireless Headphones</td><td>199</td><td>1</td><td>Electronics</td><td>HP</td><td>Silver</td></tr><tr><td>56</td><td>Cancelled</td><td>PayPal</td><td>698</td><td>2025-01-01</td><td>12:02:41</td><td>8580</td><td>8</td><td>Gaming Console</td><td>499</td><td>1</td><td>Electronics</td><td>LG</td><td>Gray</td></tr><tr><td>62</td><td>Completed</td><td>Bank Transfer</td><td>985</td><td>2025-01-24</td><td>12:00:54</td><td>7123</td><td>7</td><td>External Hard Drive</td><td>129</td><td>3</td><td>Electronics</td><td>Dell</td><td>White</td></tr><tr><td>62</td><td>Completed</td><td>Bank Transfer</td><td>985</td><td>2025-01-24</td><td>12:00:54</td><td>7123</td><td>4</td><td>Smartwatch</td><td>299</td><td>2</td><td>Electronics</td><td>GoPro</td><td>Blue</td></tr><tr><td>66</td><td>Cancelled</td><td>Credit Card</td><td>598</td><td>2025-01-17</td><td>21:16:11</td><td>3084</td><td>4</td><td>Smartwatch</td><td>299</td><td>1</td><td>Electronics</td><td>Bose</td><td>Silver</td></tr><tr><td>66</td><td>Cancelled</td><td>Credit Card</td><td>598</td><td>2025-01-17</td><td>21:16:11</td><td>3084</td><td>4</td><td>Smartwatch</td><td>299</td><td>1</td><td>Electronics</td><td>GoPro</td><td>White</td></tr><tr><td>68</td><td>Completed</td><td>Bank Transfer</td><td>149</td><td>2025-01-10</td><td>20:35:43</td><td>4973</td><td>6</td><td>Bluetooth Speaker</td><td>149</td><td>1</td><td>Electronics</td><td>Bose</td><td>Gray</td></tr><tr><td>73</td><td>Shipped</td><td>Credit Card</td><td>387</td><td>2025-01-07</td><td>01:02:26</td><td>6167</td><td>7</td><td>External Hard Drive</td><td>129</td><td>3</td><td>Electronics</td><td>GoPro</td><td>Gray</td></tr><tr><td>75</td><td>Shipped</td><td>Credit Card</td><td>699</td><td>2025-01-19</td><td>16:23:16</td><td>6167</td><td>1</td><td>Smartphone</td><td>699</td><td>1</td><td>Electronics</td><td>GoPro</td><td>White</td></tr><tr><td>76</td><td>Completed</td><td>Bank Transfer</td><td>399</td><td>2025-01-06</td><td>02:54:39</td><td>3295</td><td>5</td><td>Tablet</td><td>399</td><td>1</td><td>Electronics</td><td>Microsoft</td><td>Silver</td></tr><tr><td>78</td><td>Cancelled</td><td>PayPal</td><td>798</td><td>2025-01-21</td><td>11:42:51</td><td>9084</td><td>5</td><td>Tablet</td><td>399</td><td>2</td><td>Electronics</td><td>Dell</td><td>White</td></tr><tr><td>79</td><td>Cancelled</td><td>Credit Card</td><td>998</td><td>2025-01-25</td><td>03:52:05</td><td>9084</td><td>8</td><td>Gaming Console</td><td>499</td><td>2</td><td>Electronics</td><td>Dell</td><td>Gray</td></tr><tr><td>83</td><td>Shipped</td><td>PayPal</td><td>785</td><td>2025-01-07</td><td>12:48:05</td><td>2344</td><td>7</td><td>External Hard Drive</td><td>129</td><td>3</td><td>Electronics</td><td>Canon</td><td>Gray</td></tr><tr><td>83</td><td>Shipped</td><td>PayPal</td><td>785</td><td>2025-01-07</td><td>12:48:05</td><td>2344</td><td>3</td><td>Wireless Headphones</td><td>199</td><td>2</td><td>Electronics</td><td>Sony</td><td>Black</td></tr><tr><td>87</td><td>Pending</td><td>PayPal</td><td>129</td><td>2025-01-02</td><td>04:28:38</td><td>2141</td><td>7</td><td>External Hard Drive</td><td>129</td><td>1</td><td>Electronics</td><td>Apple</td><td>Blue</td></tr><tr><td>90</td><td>Pending</td><td>Credit Card</td><td>258</td><td>2025-01-17</td><td>14:30:54</td><td>9247</td><td>7</td><td>External Hard Drive</td><td>129</td><td>1</td><td>Electronics</td><td>Canon</td><td>White</td></tr><tr><td>90</td><td>Pending</td><td>Credit Card</td><td>258</td><td>2025-01-17</td><td>14:30:54</td><td>9247</td><td>7</td><td>External Hard Drive</td><td>129</td><td>1</td><td>Electronics</td><td>Samsung</td><td>Black</td></tr><tr><td>94</td><td>Pending</td><td>Credit Card</td><td>895</td><td>2025-01-10</td><td>09:51:48</td><td>6627</td><td>6</td><td>Bluetooth Speaker</td><td>149</td><td>2</td><td>Electronics</td><td>Sony</td><td>Black</td></tr><tr><td>94</td><td>Pending</td><td>Credit Card</td><td>895</td><td>2025-01-10</td><td>09:51:48</td><td>6627</td><td>3</td><td>Wireless Headphones</td><td>199</td><td>3</td><td>Electronics</td><td>Apple</td><td>Blue</td></tr><tr><td>98</td><td>Completed</td><td>Credit Card</td><td>985</td><td>2025-01-08</td><td>05:57:55</td><td>9150</td><td>7</td><td>External Hard Drive</td><td>129</td><td>3</td><td>Electronics</td><td>HP</td><td>Blue</td></tr><tr><td>98</td><td>Completed</td><td>Credit Card</td><td>985</td><td>2025-01-08</td><td>05:57:55</td><td>9150</td><td>4</td><td>Smartwatch</td><td>299</td><td>2</td><td>Electronics</td><td>Samsung</td><td>Gray</td></tr><tr><td>99</td><td>Shipped</td><td>Credit Card</td><td>699</td><td>2025-01-10</td><td>21:43:46</td><td>9150</td><td>1</td><td>Smartphone</td><td>699</td><td>1</td><td>Electronics</td><td>Bose</td><td>Gray</td></tr><tr><td>100</td><td>Shipped</td><td>PayPal</td><td>447</td><td>2025-01-04</td><td>06:40:13</td><td>9150</td><td>6</td><td>Bluetooth Speaker</td><td>149</td><td>3</td><td>Electronics</td><td>LG</td><td>Silver</td></tr></tbody></table></div>"
      ]
     },
     "metadata": {
      "application/vnd.databricks.v1+output": {
       "addedWidgets": {},
       "aggData": [],
       "aggError": "",
       "aggOverflow": false,
       "aggSchema": [],
       "aggSeriesLimitReached": false,
       "aggType": "",
       "arguments": {},
       "columnCustomDisplayInfos": {},
       "data": [
        [
         6,
         "Pending",
         "Credit Card",
         799,
         "2024-10-28",
         "04:47:27",
         1987,
         10,
         "Drone",
         799,
         1,
         "Electronics",
         "GoPro",
         "Black"
        ],
        [
         10,
         "Pending",
         "Credit Card",
         399,
         "2024-10-07",
         "22:09:27",
         5816,
         5,
         "Tablet",
         399,
         1,
         "Electronics",
         "GoPro",
         "White"
        ],
        [
         11,
         "Pending",
         "Bank Transfer",
         897,
         "2024-10-13",
         "17:34:19",
         5816,
         4,
         "Smartwatch",
         299,
         3,
         "Electronics",
         "Canon",
         "White"
        ],
        [
         15,
         "Completed",
         "Bank Transfer",
         1199,
         "2024-10-20",
         "01:47:25",
         7207,
         9,
         "Smart TV",
         1199,
         1,
         "Electronics",
         "GoPro",
         "White"
        ],
        [
         19,
         "Shipped",
         "PayPal",
         499,
         "2024-10-13",
         "12:40:26",
         8539,
         8,
         "Gaming Console",
         499,
         1,
         "Electronics",
         "Dell",
         "Silver"
        ],
        [
         39,
         "Shipped",
         "PayPal",
         387,
         "2024-10-29",
         "21:39:19",
         9263,
         7,
         "External Hard Drive",
         129,
         3,
         "Electronics",
         "Sony",
         "Black"
        ],
        [
         55,
         "Shipped",
         "Bank Transfer",
         699,
         "2024-10-25",
         "05:49:16",
         9018,
         1,
         "Smartphone",
         699,
         1,
         "Electronics",
         "HP",
         "Black"
        ],
        [
         59,
         "Pending",
         "PayPal",
         499,
         "2024-10-23",
         "02:51:05",
         3409,
         8,
         "Gaming Console",
         499,
         1,
         "Electronics",
         "Dell",
         "Black"
        ],
        [
         72,
         "Cancelled",
         "PayPal",
         328,
         "2024-10-06",
         "10:23:28",
         3889,
         3,
         "Wireless Headphones",
         199,
         1,
         "Electronics",
         "Microsoft",
         "Gray"
        ],
        [
         72,
         "Cancelled",
         "PayPal",
         328,
         "2024-10-06",
         "10:23:28",
         3889,
         7,
         "External Hard Drive",
         129,
         1,
         "Electronics",
         "Samsung",
         "Silver"
        ],
        [
         77,
         "Pending",
         "Credit Card",
         398,
         "2024-10-15",
         "13:09:33",
         9084,
         3,
         "Wireless Headphones",
         199,
         2,
         "Electronics",
         "HP",
         "Silver"
        ],
        [
         84,
         "Completed",
         "PayPal",
         998,
         "2024-10-25",
         "03:37:42",
         2344,
         10,
         "Drone",
         799,
         1,
         "Electronics",
         "Sony",
         "Black"
        ],
        [
         84,
         "Completed",
         "PayPal",
         998,
         "2024-10-25",
         "03:37:42",
         2344,
         3,
         "Wireless Headphones",
         199,
         1,
         "Electronics",
         "LG",
         "Black"
        ],
        [
         85,
         "Shipped",
         "Bank Transfer",
         998,
         "2024-10-23",
         "20:06:42",
         5011,
         8,
         "Gaming Console",
         499,
         2,
         "Electronics",
         "GoPro",
         "Black"
        ],
        [
         86,
         "Completed",
         "PayPal",
         1199,
         "2024-10-19",
         "13:30:47",
         5011,
         9,
         "Smart TV",
         1199,
         1,
         "Electronics",
         "Dell",
         "White"
        ],
        [
         5,
         "Cancelled",
         "Bank Transfer",
         998,
         "2024-11-16",
         "23:07:31",
         3892,
         8,
         "Gaming Console",
         499,
         2,
         "Electronics",
         "Dell",
         "Blue"
        ],
        [
         7,
         "Pending",
         "Credit Card",
         645,
         "2024-11-19",
         "19:18:48",
         1987,
         7,
         "External Hard Drive",
         129,
         2,
         "Electronics",
         "LG",
         "Blue"
        ],
        [
         7,
         "Pending",
         "Credit Card",
         645,
         "2024-11-19",
         "19:18:48",
         1987,
         7,
         "External Hard Drive",
         129,
         3,
         "Electronics",
         "HP",
         "Gray"
        ],
        [
         9,
         "Shipped",
         "Bank Transfer",
         999,
         "2024-11-27",
         "13:15:29",
         9179,
         2,
         "Laptop",
         999,
         1,
         "Electronics",
         "Apple",
         "Black"
        ],
        [
         20,
         "Pending",
         "PayPal",
         798,
         "2024-11-18",
         "02:38:21",
         8539,
         5,
         "Tablet",
         399,
         2,
         "Electronics",
         "Sony",
         "Silver"
        ],
        [
         21,
         "Cancelled",
         "Bank Transfer",
         298,
         "2024-11-21",
         "11:25:35",
         8539,
         6,
         "Bluetooth Speaker",
         149,
         2,
         "Electronics",
         "GoPro",
         "Blue"
        ],
        [
         23,
         "Shipped",
         "PayPal",
         997,
         "2024-11-22",
         "16:04:05",
         4761,
         5,
         "Tablet",
         399,
         1,
         "Electronics",
         "Apple",
         "Gray"
        ],
        [
         23,
         "Shipped",
         "PayPal",
         997,
         "2024-11-22",
         "16:04:05",
         4761,
         4,
         "Smartwatch",
         299,
         2,
         "Electronics",
         "Dell",
         "Gray"
        ],
        [
         25,
         "Completed",
         "PayPal",
         999,
         "2024-11-05",
         "11:45:31",
         9706,
         2,
         "Laptop",
         999,
         1,
         "Electronics",
         "LG",
         "Gray"
        ],
        [
         30,
         "Shipped",
         "Bank Transfer",
         199,
         "2024-11-12",
         "03:20:29",
         4996,
         3,
         "Wireless Headphones",
         199,
         1,
         "Electronics",
         "GoPro",
         "White"
        ],
        [
         35,
         "Shipped",
         "Bank Transfer",
         199,
         "2024-11-20",
         "19:09:04",
         4914,
         3,
         "Wireless Headphones",
         199,
         1,
         "Electronics",
         "Dell",
         "Gray"
        ],
        [
         36,
         "Completed",
         "PayPal",
         199,
         "2024-11-02",
         "10:39:46",
         4914,
         3,
         "Wireless Headphones",
         199,
         1,
         "Electronics",
         "Canon",
         "Silver"
        ],
        [
         42,
         "Completed",
         "Credit Card",
         149,
         "2024-11-08",
         "18:32:25",
         5028,
         6,
         "Bluetooth Speaker",
         149,
         1,
         "Electronics",
         "Bose",
         "Gray"
        ],
        [
         45,
         "Shipped",
         "Credit Card",
         799,
         "2024-11-07",
         "15:41:43",
         7295,
         10,
         "Drone",
         799,
         1,
         "Electronics",
         "Dell",
         "White"
        ],
        [
         46,
         "Pending",
         "PayPal",
         199,
         "2024-11-26",
         "17:16:53",
         7295,
         3,
         "Wireless Headphones",
         199,
         1,
         "Electronics",
         "Samsung",
         "Black"
        ],
        [
         47,
         "Shipped",
         "Credit Card",
         298,
         "2024-11-22",
         "02:01:19",
         7803,
         6,
         "Bluetooth Speaker",
         149,
         2,
         "Electronics",
         "LG",
         "Blue"
        ],
        [
         48,
         "Completed",
         "PayPal",
         387,
         "2024-11-13",
         "06:35:56",
         7803,
         7,
         "External Hard Drive",
         129,
         3,
         "Electronics",
         "Apple",
         "Black"
        ],
        [
         52,
         "Completed",
         "PayPal",
         998,
         "2024-11-19",
         "21:23:45",
         8845,
         8,
         "Gaming Console",
         499,
         2,
         "Electronics",
         "GoPro",
         "White"
        ],
        [
         57,
         "Cancelled",
         "Bank Transfer",
         586,
         "2024-11-19",
         "11:32:44",
         8580,
         3,
         "Wireless Headphones",
         199,
         1,
         "Electronics",
         "HP",
         "Silver"
        ],
        [
         57,
         "Cancelled",
         "Bank Transfer",
         586,
         "2024-11-19",
         "11:32:44",
         8580,
         7,
         "External Hard Drive",
         129,
         3,
         "Electronics",
         "Sony",
         "Silver"
        ],
        [
         63,
         "Cancelled",
         "Bank Transfer",
         646,
         "2024-11-24",
         "08:41:28",
         7123,
         3,
         "Wireless Headphones",
         199,
         1,
         "Electronics",
         "GoPro",
         "Blue"
        ],
        [
         63,
         "Cancelled",
         "Bank Transfer",
         646,
         "2024-11-24",
         "08:41:28",
         7123,
         6,
         "Bluetooth Speaker",
         149,
         3,
         "Electronics",
         "Bose",
         "Silver"
        ],
        [
         64,
         "Completed",
         "Bank Transfer",
         984,
         "2024-11-28",
         "12:23:21",
         2639,
         7,
         "External Hard Drive",
         129,
         3,
         "Electronics",
         "Microsoft",
         "White"
        ],
        [
         64,
         "Completed",
         "Bank Transfer",
         984,
         "2024-11-28",
         "12:23:21",
         2639,
         3,
         "Wireless Headphones",
         199,
         3,
         "Electronics",
         "Canon",
         "Blue"
        ],
        [
         88,
         "Cancelled",
         "Bank Transfer",
         387,
         "2024-11-15",
         "11:39:44",
         9247,
         7,
         "External Hard Drive",
         129,
         3,
         "Electronics",
         "Bose",
         "White"
        ],
        [
         89,
         "Cancelled",
         "Bank Transfer",
         149,
         "2024-11-22",
         "12:09:15",
         9247,
         6,
         "Bluetooth Speaker",
         149,
         1,
         "Electronics",
         "GoPro",
         "Silver"
        ],
        [
         92,
         "Shipped",
         "PayPal",
         258,
         "2024-11-24",
         "23:33:21",
         5592,
         7,
         "External Hard Drive",
         129,
         2,
         "Electronics",
         "Sony",
         "Black"
        ],
        [
         12,
         "Cancelled",
         "PayPal",
         999,
         "2024-12-06",
         "20:26:49",
         5816,
         2,
         "Laptop",
         999,
         1,
         "Electronics",
         "Sony",
         "White"
        ],
        [
         13,
         "Pending",
         "PayPal",
         999,
         "2024-12-17",
         "03:41:37",
         4858,
         2,
         "Laptop",
         999,
         1,
         "Electronics",
         "GoPro",
         "Black"
        ],
        [
         16,
         "Pending",
         "Bank Transfer",
         597,
         "2024-12-08",
         "22:59:48",
         5204,
         3,
         "Wireless Headphones",
         199,
         3,
         "Electronics",
         "Sony",
         "Silver"
        ],
        [
         17,
         "Pending",
         "Bank Transfer",
         998,
         "2024-12-02",
         "12:00:50",
         5204,
         8,
         "Gaming Console",
         499,
         2,
         "Electronics",
         "Dell",
         "Black"
        ],
        [
         24,
         "Completed",
         "PayPal",
         1199,
         "2024-12-21",
         "03:24:26",
         1211,
         9,
         "Smart TV",
         1199,
         1,
         "Electronics",
         "GoPro",
         "Gray"
        ],
        [
         27,
         "Completed",
         "Credit Card",
         904,
         "2024-12-02",
         "11:24:21",
         2703,
         7,
         "External Hard Drive",
         129,
         2,
         "Electronics",
         "Dell",
         "White"
        ],
        [
         27,
         "Completed",
         "Credit Card",
         904,
         "2024-12-02",
         "11:24:21",
         2703,
         6,
         "Bluetooth Speaker",
         149,
         3,
         "Electronics",
         "Canon",
         "Black"
        ],
        [
         27,
         "Completed",
         "Credit Card",
         904,
         "2024-12-02",
         "11:24:21",
         2703,
         3,
         "Wireless Headphones",
         199,
         1,
         "Electronics",
         "Microsoft",
         "Silver"
        ],
        [
         28,
         "Cancelled",
         "Credit Card",
         129,
         "2024-12-26",
         "03:17:50",
         2703,
         7,
         "External Hard Drive",
         129,
         1,
         "Electronics",
         "GoPro",
         "Blue"
        ],
        [
         32,
         "Pending",
         "PayPal",
         399,
         "2024-12-28",
         "08:55:57",
         4996,
         5,
         "Tablet",
         399,
         1,
         "Electronics",
         "Apple",
         "Silver"
        ],
        [
         37,
         "Shipped",
         "Credit Card",
         258,
         "2024-12-22",
         "10:11:49",
         7829,
         7,
         "External Hard Drive",
         129,
         2,
         "Electronics",
         "HP",
         "Silver"
        ],
        [
         38,
         "Shipped",
         "Credit Card",
         447,
         "2024-12-25",
         "22:05:19",
         7829,
         6,
         "Bluetooth Speaker",
         149,
         3,
         "Electronics",
         "Apple",
         "Gray"
        ],
        [
         44,
         "Completed",
         "Credit Card",
         129,
         "2024-12-20",
         "08:05:43",
         7295,
         7,
         "External Hard Drive",
         129,
         1,
         "Electronics",
         "Bose",
         "Blue"
        ],
        [
         49,
         "Cancelled",
         "PayPal",
         747,
         "2024-12-07",
         "23:24:11",
         7803,
         4,
         "Smartwatch",
         299,
         1,
         "Electronics",
         "HP",
         "White"
        ],
        [
         49,
         "Cancelled",
         "PayPal",
         747,
         "2024-12-07",
         "23:24:11",
         7803,
         4,
         "Smartwatch",
         299,
         1,
         "Electronics",
         "Canon",
         "Blue"
        ],
        [
         49,
         "Cancelled",
         "PayPal",
         747,
         "2024-12-07",
         "23:24:11",
         7803,
         6,
         "Bluetooth Speaker",
         149,
         1,
         "Electronics",
         "Samsung",
         "White"
        ],
        [
         54,
         "Pending",
         "Credit Card",
         398,
         "2024-12-20",
         "12:04:27",
         2054,
         3,
         "Wireless Headphones",
         199,
         2,
         "Electronics",
         "Bose",
         "Gray"
        ],
        [
         58,
         "Completed",
         "PayPal",
         699,
         "2024-12-09",
         "22:40:58",
         8580,
         1,
         "Smartphone",
         699,
         1,
         "Electronics",
         "Microsoft",
         "Gray"
        ],
        [
         60,
         "Shipped",
         "Bank Transfer",
         199,
         "2024-12-13",
         "13:10:12",
         3409,
         3,
         "Wireless Headphones",
         199,
         1,
         "Electronics",
         "Samsung",
         "Blue"
        ],
        [
         61,
         "Completed",
         "Bank Transfer",
         699,
         "2024-12-07",
         "07:47:19",
         7123,
         1,
         "Smartphone",
         699,
         1,
         "Electronics",
         "Canon",
         "Black"
        ],
        [
         65,
         "Cancelled",
         "Bank Transfer",
         399,
         "2024-12-09",
         "13:04:13",
         3084,
         5,
         "Tablet",
         399,
         1,
         "Electronics",
         "Microsoft",
         "Gray"
        ],
        [
         67,
         "Shipped",
         "PayPal",
         897,
         "2024-12-19",
         "07:11:09",
         3084,
         4,
         "Smartwatch",
         299,
         3,
         "Electronics",
         "LG",
         "Blue"
        ],
        [
         69,
         "Completed",
         "Bank Transfer",
         699,
         "2024-12-30",
         "02:42:01",
         4973,
         1,
         "Smartphone",
         699,
         1,
         "Electronics",
         "Dell",
         "Gray"
        ],
        [
         70,
         "Shipped",
         "PayPal",
         897,
         "2024-12-04",
         "17:17:24",
         7997,
         4,
         "Smartwatch",
         299,
         3,
         "Electronics",
         "Sony",
         "Black"
        ],
        [
         71,
         "Completed",
         "Bank Transfer",
         199,
         "2024-12-27",
         "11:16:39",
         7997,
         3,
         "Wireless Headphones",
         199,
         1,
         "Electronics",
         "Microsoft",
         "Black"
        ],
        [
         74,
         "Pending",
         "PayPal",
         699,
         "2024-12-22",
         "15:54:11",
         6167,
         1,
         "Smartphone",
         699,
         1,
         "Electronics",
         "Samsung",
         "Blue"
        ],
        [
         80,
         "Cancelled",
         "Bank Transfer",
         998,
         "2024-12-11",
         "07:43:54",
         9687,
         8,
         "Gaming Console",
         499,
         2,
         "Electronics",
         "Samsung",
         "White"
        ],
        [
         81,
         "Completed",
         "PayPal",
         699,
         "2024-12-27",
         "02:27:45",
         9687,
         1,
         "Smartphone",
         699,
         1,
         "Electronics",
         "GoPro",
         "Blue"
        ],
        [
         82,
         "Completed",
         "PayPal",
         387,
         "2024-12-28",
         "00:54:08",
         2344,
         7,
         "External Hard Drive",
         129,
         3,
         "Electronics",
         "Sony",
         "Blue"
        ],
        [
         91,
         "Cancelled",
         "Bank Transfer",
         699,
         "2024-12-17",
         "00:09:53",
         5592,
         1,
         "Smartphone",
         699,
         1,
         "Electronics",
         "Canon",
         "Silver"
        ],
        [
         93,
         "Pending",
         "PayPal",
         598,
         "2024-12-22",
         "05:07:46",
         6627,
         4,
         "Smartwatch",
         299,
         2,
         "Electronics",
         "LG",
         "Silver"
        ],
        [
         95,
         "Completed",
         "Bank Transfer",
         946,
         "2024-12-28",
         "04:28:30",
         6627,
         4,
         "Smartwatch",
         299,
         2,
         "Electronics",
         "GoPro",
         "White"
        ],
        [
         95,
         "Completed",
         "Bank Transfer",
         946,
         "2024-12-28",
         "04:28:30",
         6627,
         3,
         "Wireless Headphones",
         199,
         1,
         "Electronics",
         "Bose",
         "Gray"
        ],
        [
         95,
         "Completed",
         "Bank Transfer",
         946,
         "2024-12-28",
         "04:28:30",
         6627,
         6,
         "Bluetooth Speaker",
         149,
         1,
         "Electronics",
         "Dell",
         "Silver"
        ],
        [
         96,
         "Shipped",
         "PayPal",
         149,
         "2024-12-02",
         "12:27:45",
         6406,
         6,
         "Bluetooth Speaker",
         149,
         1,
         "Electronics",
         "Microsoft",
         "Black"
        ],
        [
         97,
         "Completed",
         "Bank Transfer",
         499,
         "2024-12-07",
         "16:14:34",
         6406,
         8,
         "Gaming Console",
         499,
         1,
         "Electronics",
         "Sony",
         "Silver"
        ],
        [
         1,
         "Completed",
         "Bank Transfer",
         499,
         "2025-01-05",
         "10:13:59",
         6973,
         8,
         "Gaming Console",
         499,
         1,
         "Electronics",
         "Sony",
         "Blue"
        ],
        [
         2,
         "Cancelled",
         "PayPal",
         985,
         "2025-01-19",
         "00:05:13",
         3532,
         4,
         "Smartwatch",
         299,
         2,
         "Electronics",
         "Canon",
         "Gray"
        ],
        [
         2,
         "Cancelled",
         "PayPal",
         985,
         "2025-01-19",
         "00:05:13",
         3532,
         7,
         "External Hard Drive",
         129,
         3,
         "Electronics",
         "Dell",
         "Blue"
        ],
        [
         3,
         "Completed",
         "Bank Transfer",
         597,
         "2025-01-08",
         "23:11:00",
         3532,
         3,
         "Wireless Headphones",
         199,
         3,
         "Electronics",
         "Apple",
         "White"
        ],
        [
         4,
         "Cancelled",
         "Bank Transfer",
         999,
         "2025-01-05",
         "05:49:26",
         3532,
         2,
         "Laptop",
         999,
         1,
         "Electronics",
         "Microsoft",
         "Black"
        ],
        [
         8,
         "Completed",
         "PayPal",
         399,
         "2025-01-02",
         "13:11:15",
         9179,
         5,
         "Tablet",
         399,
         1,
         "Electronics",
         "LG",
         "White"
        ],
        [
         14,
         "Cancelled",
         "PayPal",
         597,
         "2025-01-01",
         "18:22:26",
         7207,
         3,
         "Wireless Headphones",
         199,
         3,
         "Electronics",
         "Bose",
         "Blue"
        ],
        [
         18,
         "Pending",
         "Credit Card",
         799,
         "2025-01-22",
         "21:12:08",
         4468,
         10,
         "Drone",
         799,
         1,
         "Electronics",
         "Dell",
         "Black"
        ],
        [
         22,
         "Pending",
         "PayPal",
         199,
         "2025-01-01",
         "15:49:19",
         4761,
         3,
         "Wireless Headphones",
         199,
         1,
         "Electronics",
         "HP",
         "Silver"
        ],
        [
         26,
         "Shipped",
         "Bank Transfer",
         699,
         "2025-01-05",
         "19:01:25",
         7007,
         1,
         "Smartphone",
         699,
         1,
         "Electronics",
         "Samsung",
         "Silver"
        ],
        [
         29,
         "Pending",
         "Bank Transfer",
         129,
         "2025-01-18",
         "03:05:04",
         5953,
         7,
         "External Hard Drive",
         129,
         1,
         "Electronics",
         "Bose",
         "Gray"
        ],
        [
         31,
         "Shipped",
         "Bank Transfer",
         299,
         "2025-01-18",
         "03:13:29",
         4996,
         4,
         "Smartwatch",
         299,
         1,
         "Electronics",
         "Dell",
         "White"
        ],
        [
         33,
         "Completed",
         "PayPal",
         897,
         "2025-01-13",
         "04:47:43",
         9605,
         4,
         "Smartwatch",
         299,
         3,
         "Electronics",
         "Canon",
         "White"
        ],
        [
         34,
         "Cancelled",
         "PayPal",
         926,
         "2025-01-21",
         "00:25:01",
         9605,
         6,
         "Bluetooth Speaker",
         149,
         2,
         "Electronics",
         "Bose",
         "Silver"
        ],
        [
         34,
         "Cancelled",
         "PayPal",
         926,
         "2025-01-21",
         "00:25:01",
         9605,
         8,
         "Gaming Console",
         499,
         1,
         "Electronics",
         "LG",
         "Black"
        ],
        [
         34,
         "Cancelled",
         "PayPal",
         926,
         "2025-01-21",
         "00:25:01",
         9605,
         7,
         "External Hard Drive",
         129,
         1,
         "Electronics",
         "Samsung",
         "Black"
        ],
        [
         40,
         "Completed",
         "PayPal",
         298,
         "2025-01-20",
         "16:18:35",
         6384,
         6,
         "Bluetooth Speaker",
         149,
         2,
         "Electronics",
         "Bose",
         "Silver"
        ],
        [
         41,
         "Shipped",
         "Credit Card",
         999,
         "2025-01-05",
         "06:10:22",
         6384,
         2,
         "Laptop",
         999,
         1,
         "Electronics",
         "Sony",
         "Silver"
        ],
        [
         43,
         "Pending",
         "PayPal",
         499,
         "2025-01-24",
         "18:10:37",
         5028,
         8,
         "Gaming Console",
         499,
         1,
         "Electronics",
         "LG",
         "Black"
        ],
        [
         50,
         "Shipped",
         "Credit Card",
         746,
         "2025-01-11",
         "01:19:09",
         3712,
         6,
         "Bluetooth Speaker",
         149,
         3,
         "Electronics",
         "Apple",
         "Gray"
        ],
        [
         50,
         "Shipped",
         "Credit Card",
         746,
         "2025-01-11",
         "01:19:09",
         3712,
         4,
         "Smartwatch",
         299,
         1,
         "Electronics",
         "Sony",
         "White"
        ],
        [
         51,
         "Completed",
         "PayPal",
         149,
         "2025-01-21",
         "13:19:59",
         8845,
         6,
         "Bluetooth Speaker",
         149,
         1,
         "Electronics",
         "Samsung",
         "Gray"
        ],
        [
         53,
         "Pending",
         "Bank Transfer",
         199,
         "2025-01-21",
         "08:31:02",
         8845,
         3,
         "Wireless Headphones",
         199,
         1,
         "Electronics",
         "Apple",
         "Black"
        ],
        [
         56,
         "Cancelled",
         "PayPal",
         698,
         "2025-01-01",
         "12:02:41",
         8580,
         3,
         "Wireless Headphones",
         199,
         1,
         "Electronics",
         "HP",
         "Silver"
        ],
        [
         56,
         "Cancelled",
         "PayPal",
         698,
         "2025-01-01",
         "12:02:41",
         8580,
         8,
         "Gaming Console",
         499,
         1,
         "Electronics",
         "LG",
         "Gray"
        ],
        [
         62,
         "Completed",
         "Bank Transfer",
         985,
         "2025-01-24",
         "12:00:54",
         7123,
         7,
         "External Hard Drive",
         129,
         3,
         "Electronics",
         "Dell",
         "White"
        ],
        [
         62,
         "Completed",
         "Bank Transfer",
         985,
         "2025-01-24",
         "12:00:54",
         7123,
         4,
         "Smartwatch",
         299,
         2,
         "Electronics",
         "GoPro",
         "Blue"
        ],
        [
         66,
         "Cancelled",
         "Credit Card",
         598,
         "2025-01-17",
         "21:16:11",
         3084,
         4,
         "Smartwatch",
         299,
         1,
         "Electronics",
         "Bose",
         "Silver"
        ],
        [
         66,
         "Cancelled",
         "Credit Card",
         598,
         "2025-01-17",
         "21:16:11",
         3084,
         4,
         "Smartwatch",
         299,
         1,
         "Electronics",
         "GoPro",
         "White"
        ],
        [
         68,
         "Completed",
         "Bank Transfer",
         149,
         "2025-01-10",
         "20:35:43",
         4973,
         6,
         "Bluetooth Speaker",
         149,
         1,
         "Electronics",
         "Bose",
         "Gray"
        ],
        [
         73,
         "Shipped",
         "Credit Card",
         387,
         "2025-01-07",
         "01:02:26",
         6167,
         7,
         "External Hard Drive",
         129,
         3,
         "Electronics",
         "GoPro",
         "Gray"
        ],
        [
         75,
         "Shipped",
         "Credit Card",
         699,
         "2025-01-19",
         "16:23:16",
         6167,
         1,
         "Smartphone",
         699,
         1,
         "Electronics",
         "GoPro",
         "White"
        ],
        [
         76,
         "Completed",
         "Bank Transfer",
         399,
         "2025-01-06",
         "02:54:39",
         3295,
         5,
         "Tablet",
         399,
         1,
         "Electronics",
         "Microsoft",
         "Silver"
        ],
        [
         78,
         "Cancelled",
         "PayPal",
         798,
         "2025-01-21",
         "11:42:51",
         9084,
         5,
         "Tablet",
         399,
         2,
         "Electronics",
         "Dell",
         "White"
        ],
        [
         79,
         "Cancelled",
         "Credit Card",
         998,
         "2025-01-25",
         "03:52:05",
         9084,
         8,
         "Gaming Console",
         499,
         2,
         "Electronics",
         "Dell",
         "Gray"
        ],
        [
         83,
         "Shipped",
         "PayPal",
         785,
         "2025-01-07",
         "12:48:05",
         2344,
         7,
         "External Hard Drive",
         129,
         3,
         "Electronics",
         "Canon",
         "Gray"
        ],
        [
         83,
         "Shipped",
         "PayPal",
         785,
         "2025-01-07",
         "12:48:05",
         2344,
         3,
         "Wireless Headphones",
         199,
         2,
         "Electronics",
         "Sony",
         "Black"
        ],
        [
         87,
         "Pending",
         "PayPal",
         129,
         "2025-01-02",
         "04:28:38",
         2141,
         7,
         "External Hard Drive",
         129,
         1,
         "Electronics",
         "Apple",
         "Blue"
        ],
        [
         90,
         "Pending",
         "Credit Card",
         258,
         "2025-01-17",
         "14:30:54",
         9247,
         7,
         "External Hard Drive",
         129,
         1,
         "Electronics",
         "Canon",
         "White"
        ],
        [
         90,
         "Pending",
         "Credit Card",
         258,
         "2025-01-17",
         "14:30:54",
         9247,
         7,
         "External Hard Drive",
         129,
         1,
         "Electronics",
         "Samsung",
         "Black"
        ],
        [
         94,
         "Pending",
         "Credit Card",
         895,
         "2025-01-10",
         "09:51:48",
         6627,
         6,
         "Bluetooth Speaker",
         149,
         2,
         "Electronics",
         "Sony",
         "Black"
        ],
        [
         94,
         "Pending",
         "Credit Card",
         895,
         "2025-01-10",
         "09:51:48",
         6627,
         3,
         "Wireless Headphones",
         199,
         3,
         "Electronics",
         "Apple",
         "Blue"
        ],
        [
         98,
         "Completed",
         "Credit Card",
         985,
         "2025-01-08",
         "05:57:55",
         9150,
         7,
         "External Hard Drive",
         129,
         3,
         "Electronics",
         "HP",
         "Blue"
        ],
        [
         98,
         "Completed",
         "Credit Card",
         985,
         "2025-01-08",
         "05:57:55",
         9150,
         4,
         "Smartwatch",
         299,
         2,
         "Electronics",
         "Samsung",
         "Gray"
        ],
        [
         99,
         "Shipped",
         "Credit Card",
         699,
         "2025-01-10",
         "21:43:46",
         9150,
         1,
         "Smartphone",
         699,
         1,
         "Electronics",
         "Bose",
         "Gray"
        ],
        [
         100,
         "Shipped",
         "PayPal",
         447,
         "2025-01-04",
         "06:40:13",
         9150,
         6,
         "Bluetooth Speaker",
         149,
         3,
         "Electronics",
         "LG",
         "Silver"
        ]
       ],
       "datasetInfos": [
        {
         "name": "_sqldf",
         "schema": {
          "fields": [
           {
            "metadata": {},
            "name": "order_id",
            "nullable": true,
            "type": "long"
           },
           {
            "metadata": {},
            "name": "order_status",
            "nullable": true,
            "type": "string"
           },
           {
            "metadata": {},
            "name": "payment_method",
            "nullable": true,
            "type": "string"
           },
           {
            "metadata": {},
            "name": "total_amount",
            "nullable": true,
            "type": "long"
           },
           {
            "metadata": {},
            "name": "order_date",
            "nullable": true,
            "type": "date"
           },
           {
            "metadata": {},
            "name": "order_time",
            "nullable": true,
            "type": "string"
           },
           {
            "metadata": {},
            "name": "customer_id",
            "nullable": true,
            "type": "long"
           },
           {
            "metadata": {},
            "name": "item_id",
            "nullable": true,
            "type": "long"
           },
           {
            "metadata": {},
            "name": "name",
            "nullable": true,
            "type": "string"
           },
           {
            "metadata": {},
            "name": "price",
            "nullable": true,
            "type": "long"
           },
           {
            "metadata": {},
            "name": "quantity",
            "nullable": true,
            "type": "long"
           },
           {
            "metadata": {},
            "name": "category",
            "nullable": true,
            "type": "string"
           },
           {
            "metadata": {},
            "name": "brand",
            "nullable": true,
            "type": "string"
           },
           {
            "metadata": {},
            "name": "color",
            "nullable": true,
            "type": "string"
           }
          ],
          "type": "struct"
         },
         "tableIdentifier": null,
         "typeStr": "pyspark.sql.connect.dataframe.DataFrame"
        }
       ],
       "dbfsResultPath": null,
       "isJsonSchema": true,
       "metadata": {
        "createTempViewForImplicitDf": true,
        "dataframeName": "_sqldf",
        "executionCount": 2
       },
       "overflow": false,
       "plotOptions": {
        "customPlotOptions": {},
        "displayType": "table",
        "pivotAggregation": null,
        "pivotColumns": null,
        "xColumns": null,
        "yColumns": null
       },
       "removedWidgets": [],
       "schema": [
        {
         "metadata": "{}",
         "name": "order_id",
         "type": "\"long\""
        },
        {
         "metadata": "{}",
         "name": "order_status",
         "type": "\"string\""
        },
        {
         "metadata": "{}",
         "name": "payment_method",
         "type": "\"string\""
        },
        {
         "metadata": "{}",
         "name": "total_amount",
         "type": "\"long\""
        },
        {
         "metadata": "{}",
         "name": "order_date",
         "type": "\"date\""
        },
        {
         "metadata": "{}",
         "name": "order_time",
         "type": "\"string\""
        },
        {
         "metadata": "{}",
         "name": "customer_id",
         "type": "\"long\""
        },
        {
         "metadata": "{}",
         "name": "item_id",
         "type": "\"long\""
        },
        {
         "metadata": "{}",
         "name": "name",
         "type": "\"string\""
        },
        {
         "metadata": "{}",
         "name": "price",
         "type": "\"long\""
        },
        {
         "metadata": "{}",
         "name": "quantity",
         "type": "\"long\""
        },
        {
         "metadata": "{}",
         "name": "category",
         "type": "\"string\""
        },
        {
         "metadata": "{}",
         "name": "brand",
         "type": "\"string\""
        },
        {
         "metadata": "{}",
         "name": "color",
         "type": "\"string\""
        }
       ],
       "type": "table"
      }
     },
     "output_type": "display_data"
    }
   ],
   "source": [
    "%sql \n",
    "select * from gizmobox.silver.orders;"
   ]
  },
  {
   "cell_type": "code",
   "execution_count": 0,
   "metadata": {
    "application/vnd.databricks.v1+cell": {
     "cellMetadata": {
      "byteLimit": 2048000,
      "implicitDf": true,
      "rowLimit": 10000
     },
     "inputWidgets": {},
     "nuid": "c6f5b906-ed5a-4677-aa7b-0096d5d4e641",
     "showTitle": false,
     "tableResultSettingsMap": {
      "0": {
       "dataGridStateBlob": "{\"version\":1,\"tableState\":{\"columnPinning\":{\"left\":[\"#row_number#\"],\"right\":[]},\"columnSizing\":{},\"columnVisibility\":{}},\"settings\":{\"columns\":{}},\"syncTimestamp\":1758227318519}",
       "filterBlob": null,
       "queryPlanFiltersBlob": null,
       "tableResultIndex": 0
      }
     },
     "title": ""
    }
   },
   "outputs": [
    {
     "output_type": "display_data",
     "data": {
      "text/html": [
       "<style scoped>\n",
       "  .table-result-container {\n",
       "    max-height: 300px;\n",
       "    overflow: auto;\n",
       "  }\n",
       "  table, th, td {\n",
       "    border: 1px solid black;\n",
       "    border-collapse: collapse;\n",
       "  }\n",
       "  th, td {\n",
       "    padding: 5px;\n",
       "  }\n",
       "  th {\n",
       "    text-align: left;\n",
       "  }\n",
       "</style><div class='table-result-container'><table class='table-result'><thead style='background-color: white'><tr><th>order_month</th><th>customer_id</th><th>total_orders</th><th>total_items_bought</th><th>total_amount</th></tr></thead><tbody><tr><td>2024-10</td><td>1987</td><td>1</td><td>1</td><td>799</td></tr><tr><td>2024-10</td><td>5816</td><td>2</td><td>4</td><td>1296</td></tr><tr><td>2024-10</td><td>7207</td><td>1</td><td>1</td><td>1199</td></tr><tr><td>2024-10</td><td>8539</td><td>1</td><td>1</td><td>499</td></tr><tr><td>2024-10</td><td>9263</td><td>1</td><td>3</td><td>387</td></tr><tr><td>2024-10</td><td>9018</td><td>1</td><td>1</td><td>699</td></tr><tr><td>2024-10</td><td>3409</td><td>1</td><td>1</td><td>499</td></tr><tr><td>2024-10</td><td>3889</td><td>1</td><td>2</td><td>328</td></tr><tr><td>2024-10</td><td>9084</td><td>1</td><td>2</td><td>398</td></tr><tr><td>2024-10</td><td>2344</td><td>1</td><td>2</td><td>998</td></tr><tr><td>2024-10</td><td>5011</td><td>2</td><td>3</td><td>2197</td></tr><tr><td>2024-11</td><td>3892</td><td>1</td><td>2</td><td>998</td></tr><tr><td>2024-11</td><td>1987</td><td>1</td><td>5</td><td>645</td></tr><tr><td>2024-11</td><td>9179</td><td>1</td><td>1</td><td>999</td></tr><tr><td>2024-11</td><td>8539</td><td>2</td><td>4</td><td>1096</td></tr><tr><td>2024-11</td><td>4761</td><td>1</td><td>3</td><td>997</td></tr><tr><td>2024-11</td><td>9706</td><td>1</td><td>1</td><td>999</td></tr><tr><td>2024-11</td><td>4996</td><td>1</td><td>1</td><td>199</td></tr><tr><td>2024-11</td><td>4914</td><td>2</td><td>2</td><td>398</td></tr><tr><td>2024-11</td><td>5028</td><td>1</td><td>1</td><td>149</td></tr><tr><td>2024-11</td><td>7295</td><td>2</td><td>2</td><td>998</td></tr><tr><td>2024-11</td><td>7803</td><td>2</td><td>5</td><td>685</td></tr><tr><td>2024-11</td><td>8845</td><td>1</td><td>2</td><td>998</td></tr><tr><td>2024-11</td><td>8580</td><td>1</td><td>4</td><td>586</td></tr><tr><td>2024-11</td><td>7123</td><td>1</td><td>4</td><td>646</td></tr><tr><td>2024-11</td><td>2639</td><td>1</td><td>6</td><td>984</td></tr><tr><td>2024-11</td><td>9247</td><td>2</td><td>4</td><td>536</td></tr><tr><td>2024-11</td><td>5592</td><td>1</td><td>2</td><td>258</td></tr><tr><td>2024-12</td><td>5816</td><td>1</td><td>1</td><td>999</td></tr><tr><td>2024-12</td><td>4858</td><td>1</td><td>1</td><td>999</td></tr><tr><td>2024-12</td><td>5204</td><td>2</td><td>5</td><td>1595</td></tr><tr><td>2024-12</td><td>1211</td><td>1</td><td>1</td><td>1199</td></tr><tr><td>2024-12</td><td>2703</td><td>2</td><td>7</td><td>1033</td></tr><tr><td>2024-12</td><td>4996</td><td>1</td><td>1</td><td>399</td></tr><tr><td>2024-12</td><td>7829</td><td>2</td><td>5</td><td>705</td></tr><tr><td>2024-12</td><td>7295</td><td>1</td><td>1</td><td>129</td></tr><tr><td>2024-12</td><td>7803</td><td>1</td><td>3</td><td>747</td></tr><tr><td>2024-12</td><td>2054</td><td>1</td><td>2</td><td>398</td></tr><tr><td>2024-12</td><td>8580</td><td>1</td><td>1</td><td>699</td></tr><tr><td>2024-12</td><td>3409</td><td>1</td><td>1</td><td>199</td></tr><tr><td>2024-12</td><td>7123</td><td>1</td><td>1</td><td>699</td></tr><tr><td>2024-12</td><td>3084</td><td>2</td><td>4</td><td>1296</td></tr><tr><td>2024-12</td><td>4973</td><td>1</td><td>1</td><td>699</td></tr><tr><td>2024-12</td><td>7997</td><td>2</td><td>4</td><td>1096</td></tr><tr><td>2024-12</td><td>6167</td><td>1</td><td>1</td><td>699</td></tr><tr><td>2024-12</td><td>9687</td><td>2</td><td>3</td><td>1697</td></tr><tr><td>2024-12</td><td>2344</td><td>1</td><td>3</td><td>387</td></tr><tr><td>2024-12</td><td>5592</td><td>1</td><td>1</td><td>699</td></tr><tr><td>2024-12</td><td>6627</td><td>2</td><td>6</td><td>1544</td></tr><tr><td>2024-12</td><td>6406</td><td>2</td><td>2</td><td>648</td></tr><tr><td>2025-01</td><td>6973</td><td>1</td><td>1</td><td>499</td></tr><tr><td>2025-01</td><td>3532</td><td>3</td><td>9</td><td>2581</td></tr><tr><td>2025-01</td><td>9179</td><td>1</td><td>1</td><td>399</td></tr><tr><td>2025-01</td><td>7207</td><td>1</td><td>3</td><td>597</td></tr><tr><td>2025-01</td><td>4468</td><td>1</td><td>1</td><td>799</td></tr><tr><td>2025-01</td><td>4761</td><td>1</td><td>1</td><td>199</td></tr><tr><td>2025-01</td><td>7007</td><td>1</td><td>1</td><td>699</td></tr><tr><td>2025-01</td><td>5953</td><td>1</td><td>1</td><td>129</td></tr><tr><td>2025-01</td><td>4996</td><td>1</td><td>1</td><td>299</td></tr><tr><td>2025-01</td><td>9605</td><td>2</td><td>7</td><td>1823</td></tr><tr><td>2025-01</td><td>6384</td><td>2</td><td>3</td><td>1297</td></tr><tr><td>2025-01</td><td>5028</td><td>1</td><td>1</td><td>499</td></tr><tr><td>2025-01</td><td>3712</td><td>1</td><td>4</td><td>746</td></tr><tr><td>2025-01</td><td>8845</td><td>2</td><td>2</td><td>348</td></tr><tr><td>2025-01</td><td>8580</td><td>1</td><td>2</td><td>698</td></tr><tr><td>2025-01</td><td>7123</td><td>1</td><td>5</td><td>985</td></tr><tr><td>2025-01</td><td>3084</td><td>1</td><td>2</td><td>598</td></tr><tr><td>2025-01</td><td>4973</td><td>1</td><td>1</td><td>149</td></tr><tr><td>2025-01</td><td>6167</td><td>2</td><td>4</td><td>1086</td></tr><tr><td>2025-01</td><td>3295</td><td>1</td><td>1</td><td>399</td></tr><tr><td>2025-01</td><td>9084</td><td>2</td><td>4</td><td>1796</td></tr><tr><td>2025-01</td><td>2344</td><td>1</td><td>5</td><td>785</td></tr><tr><td>2025-01</td><td>2141</td><td>1</td><td>1</td><td>129</td></tr><tr><td>2025-01</td><td>9247</td><td>1</td><td>2</td><td>258</td></tr><tr><td>2025-01</td><td>6627</td><td>1</td><td>5</td><td>895</td></tr><tr><td>2025-01</td><td>9150</td><td>3</td><td>9</td><td>2131</td></tr></tbody></table></div>"
      ]
     },
     "metadata": {
      "application/vnd.databricks.v1+output": {
       "addedWidgets": {},
       "aggData": [],
       "aggError": "",
       "aggOverflow": false,
       "aggSchema": [],
       "aggSeriesLimitReached": false,
       "aggType": "",
       "arguments": {},
       "columnCustomDisplayInfos": {},
       "data": [
        [
         "2024-10",
         1987,
         1,
         1,
         799
        ],
        [
         "2024-10",
         5816,
         2,
         4,
         1296
        ],
        [
         "2024-10",
         7207,
         1,
         1,
         1199
        ],
        [
         "2024-10",
         8539,
         1,
         1,
         499
        ],
        [
         "2024-10",
         9263,
         1,
         3,
         387
        ],
        [
         "2024-10",
         9018,
         1,
         1,
         699
        ],
        [
         "2024-10",
         3409,
         1,
         1,
         499
        ],
        [
         "2024-10",
         3889,
         1,
         2,
         328
        ],
        [
         "2024-10",
         9084,
         1,
         2,
         398
        ],
        [
         "2024-10",
         2344,
         1,
         2,
         998
        ],
        [
         "2024-10",
         5011,
         2,
         3,
         2197
        ],
        [
         "2024-11",
         3892,
         1,
         2,
         998
        ],
        [
         "2024-11",
         1987,
         1,
         5,
         645
        ],
        [
         "2024-11",
         9179,
         1,
         1,
         999
        ],
        [
         "2024-11",
         8539,
         2,
         4,
         1096
        ],
        [
         "2024-11",
         4761,
         1,
         3,
         997
        ],
        [
         "2024-11",
         9706,
         1,
         1,
         999
        ],
        [
         "2024-11",
         4996,
         1,
         1,
         199
        ],
        [
         "2024-11",
         4914,
         2,
         2,
         398
        ],
        [
         "2024-11",
         5028,
         1,
         1,
         149
        ],
        [
         "2024-11",
         7295,
         2,
         2,
         998
        ],
        [
         "2024-11",
         7803,
         2,
         5,
         685
        ],
        [
         "2024-11",
         8845,
         1,
         2,
         998
        ],
        [
         "2024-11",
         8580,
         1,
         4,
         586
        ],
        [
         "2024-11",
         7123,
         1,
         4,
         646
        ],
        [
         "2024-11",
         2639,
         1,
         6,
         984
        ],
        [
         "2024-11",
         9247,
         2,
         4,
         536
        ],
        [
         "2024-11",
         5592,
         1,
         2,
         258
        ],
        [
         "2024-12",
         5816,
         1,
         1,
         999
        ],
        [
         "2024-12",
         4858,
         1,
         1,
         999
        ],
        [
         "2024-12",
         5204,
         2,
         5,
         1595
        ],
        [
         "2024-12",
         1211,
         1,
         1,
         1199
        ],
        [
         "2024-12",
         2703,
         2,
         7,
         1033
        ],
        [
         "2024-12",
         4996,
         1,
         1,
         399
        ],
        [
         "2024-12",
         7829,
         2,
         5,
         705
        ],
        [
         "2024-12",
         7295,
         1,
         1,
         129
        ],
        [
         "2024-12",
         7803,
         1,
         3,
         747
        ],
        [
         "2024-12",
         2054,
         1,
         2,
         398
        ],
        [
         "2024-12",
         8580,
         1,
         1,
         699
        ],
        [
         "2024-12",
         3409,
         1,
         1,
         199
        ],
        [
         "2024-12",
         7123,
         1,
         1,
         699
        ],
        [
         "2024-12",
         3084,
         2,
         4,
         1296
        ],
        [
         "2024-12",
         4973,
         1,
         1,
         699
        ],
        [
         "2024-12",
         7997,
         2,
         4,
         1096
        ],
        [
         "2024-12",
         6167,
         1,
         1,
         699
        ],
        [
         "2024-12",
         9687,
         2,
         3,
         1697
        ],
        [
         "2024-12",
         2344,
         1,
         3,
         387
        ],
        [
         "2024-12",
         5592,
         1,
         1,
         699
        ],
        [
         "2024-12",
         6627,
         2,
         6,
         1544
        ],
        [
         "2024-12",
         6406,
         2,
         2,
         648
        ],
        [
         "2025-01",
         6973,
         1,
         1,
         499
        ],
        [
         "2025-01",
         3532,
         3,
         9,
         2581
        ],
        [
         "2025-01",
         9179,
         1,
         1,
         399
        ],
        [
         "2025-01",
         7207,
         1,
         3,
         597
        ],
        [
         "2025-01",
         4468,
         1,
         1,
         799
        ],
        [
         "2025-01",
         4761,
         1,
         1,
         199
        ],
        [
         "2025-01",
         7007,
         1,
         1,
         699
        ],
        [
         "2025-01",
         5953,
         1,
         1,
         129
        ],
        [
         "2025-01",
         4996,
         1,
         1,
         299
        ],
        [
         "2025-01",
         9605,
         2,
         7,
         1823
        ],
        [
         "2025-01",
         6384,
         2,
         3,
         1297
        ],
        [
         "2025-01",
         5028,
         1,
         1,
         499
        ],
        [
         "2025-01",
         3712,
         1,
         4,
         746
        ],
        [
         "2025-01",
         8845,
         2,
         2,
         348
        ],
        [
         "2025-01",
         8580,
         1,
         2,
         698
        ],
        [
         "2025-01",
         7123,
         1,
         5,
         985
        ],
        [
         "2025-01",
         3084,
         1,
         2,
         598
        ],
        [
         "2025-01",
         4973,
         1,
         1,
         149
        ],
        [
         "2025-01",
         6167,
         2,
         4,
         1086
        ],
        [
         "2025-01",
         3295,
         1,
         1,
         399
        ],
        [
         "2025-01",
         9084,
         2,
         4,
         1796
        ],
        [
         "2025-01",
         2344,
         1,
         5,
         785
        ],
        [
         "2025-01",
         2141,
         1,
         1,
         129
        ],
        [
         "2025-01",
         9247,
         1,
         2,
         258
        ],
        [
         "2025-01",
         6627,
         1,
         5,
         895
        ],
        [
         "2025-01",
         9150,
         3,
         9,
         2131
        ]
       ],
       "datasetInfos": [
        {
         "name": "_sqldf",
         "schema": {
          "fields": [
           {
            "metadata": {},
            "name": "order_month",
            "nullable": true,
            "type": "string"
           },
           {
            "metadata": {},
            "name": "customer_id",
            "nullable": true,
            "type": "long"
           },
           {
            "metadata": {},
            "name": "total_orders",
            "nullable": false,
            "type": "long"
           },
           {
            "metadata": {},
            "name": "total_items_bought",
            "nullable": true,
            "type": "long"
           },
           {
            "metadata": {},
            "name": "total_amount",
            "nullable": true,
            "type": "long"
           }
          ],
          "type": "struct"
         },
         "tableIdentifier": null,
         "typeStr": "pyspark.sql.connect.dataframe.DataFrame"
        }
       ],
       "dbfsResultPath": null,
       "isJsonSchema": true,
       "metadata": {
        "createTempViewForImplicitDf": true,
        "dataframeName": "_sqldf",
        "executionCount": 12
       },
       "overflow": false,
       "plotOptions": {
        "customPlotOptions": {},
        "displayType": "table",
        "pivotAggregation": null,
        "pivotColumns": null,
        "xColumns": null,
        "yColumns": null
       },
       "removedWidgets": [],
       "schema": [
        {
         "metadata": "{}",
         "name": "order_month",
         "type": "\"string\""
        },
        {
         "metadata": "{}",
         "name": "customer_id",
         "type": "\"long\""
        },
        {
         "metadata": "{}",
         "name": "total_orders",
         "type": "\"long\""
        },
        {
         "metadata": "{}",
         "name": "total_items_bought",
         "type": "\"long\""
        },
        {
         "metadata": "{}",
         "name": "total_amount",
         "type": "\"long\""
        }
       ],
       "type": "table"
      }
     },
     "output_type": "display_data"
    }
   ],
   "source": [
    "%sql\n",
    "select date_format(order_date, 'yyyy-MM') as order_month,\n",
    "       customer_id,\n",
    "       Count(distinct order_id) as total_orders,\n",
    "       sum(quantity) as total_items_bought,\n",
    "       sum(price*quantity) as total_amount\n",
    "from gizmobox.silver.orders\n",
    "group by order_month, customer_id;"
   ]
  },
  {
   "cell_type": "code",
   "execution_count": 0,
   "metadata": {
    "application/vnd.databricks.v1+cell": {
     "cellMetadata": {
      "byteLimit": 2048000,
      "implicitDf": true,
      "rowLimit": 10000
     },
     "inputWidgets": {},
     "nuid": "5cc9cd1a-d8f5-4163-9df5-705ea48593f4",
     "showTitle": false,
     "tableResultSettingsMap": {},
     "title": ""
    }
   },
   "outputs": [
    {
     "output_type": "display_data",
     "data": {
      "text/html": [
       "<style scoped>\n",
       "  .table-result-container {\n",
       "    max-height: 300px;\n",
       "    overflow: auto;\n",
       "  }\n",
       "  table, th, td {\n",
       "    border: 1px solid black;\n",
       "    border-collapse: collapse;\n",
       "  }\n",
       "  th, td {\n",
       "    padding: 5px;\n",
       "  }\n",
       "  th {\n",
       "    text-align: left;\n",
       "  }\n",
       "</style><div class='table-result-container'><table class='table-result'><thead style='background-color: white'><tr><th>order_id</th><th>order_status</th><th>payment_method</th><th>total_amount</th><th>order_date</th><th>order_time</th><th>customer_id</th><th>item_id</th><th>name</th><th>price</th><th>quantity</th><th>category</th><th>brand</th><th>color</th></tr></thead><tbody><tr><td>10</td><td>Pending</td><td>Credit Card</td><td>399</td><td>2024-10-07</td><td>22:09:27</td><td>5816</td><td>5</td><td>Tablet</td><td>399</td><td>1</td><td>Electronics</td><td>GoPro</td><td>White</td></tr><tr><td>11</td><td>Pending</td><td>Bank Transfer</td><td>897</td><td>2024-10-13</td><td>17:34:19</td><td>5816</td><td>4</td><td>Smartwatch</td><td>299</td><td>3</td><td>Electronics</td><td>Canon</td><td>White</td></tr><tr><td>12</td><td>Cancelled</td><td>PayPal</td><td>999</td><td>2024-12-06</td><td>20:26:49</td><td>5816</td><td>2</td><td>Laptop</td><td>999</td><td>1</td><td>Electronics</td><td>Sony</td><td>White</td></tr></tbody></table></div>"
      ]
     },
     "metadata": {
      "application/vnd.databricks.v1+output": {
       "addedWidgets": {},
       "aggData": [],
       "aggError": "",
       "aggOverflow": false,
       "aggSchema": [],
       "aggSeriesLimitReached": false,
       "aggType": "",
       "arguments": {},
       "columnCustomDisplayInfos": {},
       "data": [
        [
         10,
         "Pending",
         "Credit Card",
         399,
         "2024-10-07",
         "22:09:27",
         5816,
         5,
         "Tablet",
         399,
         1,
         "Electronics",
         "GoPro",
         "White"
        ],
        [
         11,
         "Pending",
         "Bank Transfer",
         897,
         "2024-10-13",
         "17:34:19",
         5816,
         4,
         "Smartwatch",
         299,
         3,
         "Electronics",
         "Canon",
         "White"
        ],
        [
         12,
         "Cancelled",
         "PayPal",
         999,
         "2024-12-06",
         "20:26:49",
         5816,
         2,
         "Laptop",
         999,
         1,
         "Electronics",
         "Sony",
         "White"
        ]
       ],
       "datasetInfos": [
        {
         "name": "_sqldf",
         "schema": {
          "fields": [
           {
            "metadata": {},
            "name": "order_id",
            "nullable": true,
            "type": "long"
           },
           {
            "metadata": {},
            "name": "order_status",
            "nullable": true,
            "type": "string"
           },
           {
            "metadata": {},
            "name": "payment_method",
            "nullable": true,
            "type": "string"
           },
           {
            "metadata": {},
            "name": "total_amount",
            "nullable": true,
            "type": "long"
           },
           {
            "metadata": {},
            "name": "order_date",
            "nullable": true,
            "type": "date"
           },
           {
            "metadata": {},
            "name": "order_time",
            "nullable": true,
            "type": "string"
           },
           {
            "metadata": {},
            "name": "customer_id",
            "nullable": true,
            "type": "long"
           },
           {
            "metadata": {},
            "name": "item_id",
            "nullable": true,
            "type": "long"
           },
           {
            "metadata": {},
            "name": "name",
            "nullable": true,
            "type": "string"
           },
           {
            "metadata": {},
            "name": "price",
            "nullable": true,
            "type": "long"
           },
           {
            "metadata": {},
            "name": "quantity",
            "nullable": true,
            "type": "long"
           },
           {
            "metadata": {},
            "name": "category",
            "nullable": true,
            "type": "string"
           },
           {
            "metadata": {},
            "name": "brand",
            "nullable": true,
            "type": "string"
           },
           {
            "metadata": {},
            "name": "color",
            "nullable": true,
            "type": "string"
           }
          ],
          "type": "struct"
         },
         "tableIdentifier": null,
         "typeStr": "pyspark.sql.connect.dataframe.DataFrame"
        }
       ],
       "dbfsResultPath": null,
       "isJsonSchema": true,
       "metadata": {
        "createTempViewForImplicitDf": true,
        "dataframeName": "_sqldf",
        "executionCount": 14
       },
       "overflow": false,
       "plotOptions": {
        "customPlotOptions": {},
        "displayType": "table",
        "pivotAggregation": null,
        "pivotColumns": null,
        "xColumns": null,
        "yColumns": null
       },
       "removedWidgets": [],
       "schema": [
        {
         "metadata": "{}",
         "name": "order_id",
         "type": "\"long\""
        },
        {
         "metadata": "{}",
         "name": "order_status",
         "type": "\"string\""
        },
        {
         "metadata": "{}",
         "name": "payment_method",
         "type": "\"string\""
        },
        {
         "metadata": "{}",
         "name": "total_amount",
         "type": "\"long\""
        },
        {
         "metadata": "{}",
         "name": "order_date",
         "type": "\"date\""
        },
        {
         "metadata": "{}",
         "name": "order_time",
         "type": "\"string\""
        },
        {
         "metadata": "{}",
         "name": "customer_id",
         "type": "\"long\""
        },
        {
         "metadata": "{}",
         "name": "item_id",
         "type": "\"long\""
        },
        {
         "metadata": "{}",
         "name": "name",
         "type": "\"string\""
        },
        {
         "metadata": "{}",
         "name": "price",
         "type": "\"long\""
        },
        {
         "metadata": "{}",
         "name": "quantity",
         "type": "\"long\""
        },
        {
         "metadata": "{}",
         "name": "category",
         "type": "\"string\""
        },
        {
         "metadata": "{}",
         "name": "brand",
         "type": "\"string\""
        },
        {
         "metadata": "{}",
         "name": "color",
         "type": "\"string\""
        }
       ],
       "type": "table"
      }
     },
     "output_type": "display_data"
    }
   ],
   "source": [
    "%sql\n",
    "-- verification \n",
    "select * from gizmobox.silver.orders where customer_id=5816;"
   ]
  },
  {
   "cell_type": "code",
   "execution_count": 0,
   "metadata": {
    "application/vnd.databricks.v1+cell": {
     "cellMetadata": {
      "byteLimit": 2048000,
      "implicitDf": true,
      "rowLimit": 10000
     },
     "inputWidgets": {},
     "nuid": "615d6eb3-4387-43b0-b421-69f55c96c8af",
     "showTitle": false,
     "tableResultSettingsMap": {},
     "title": ""
    }
   },
   "outputs": [
    {
     "output_type": "display_data",
     "data": {
      "text/html": [
       "<style scoped>\n",
       "  .table-result-container {\n",
       "    max-height: 300px;\n",
       "    overflow: auto;\n",
       "  }\n",
       "  table, th, td {\n",
       "    border: 1px solid black;\n",
       "    border-collapse: collapse;\n",
       "  }\n",
       "  th, td {\n",
       "    padding: 5px;\n",
       "  }\n",
       "  th {\n",
       "    text-align: left;\n",
       "  }\n",
       "</style><div class='table-result-container'><table class='table-result'><thead style='background-color: white'><tr><th>num_affected_rows</th><th>num_inserted_rows</th></tr></thead><tbody></tbody></table></div>"
      ]
     },
     "metadata": {
      "application/vnd.databricks.v1+output": {
       "addedWidgets": {},
       "aggData": [],
       "aggError": "",
       "aggOverflow": false,
       "aggSchema": [],
       "aggSeriesLimitReached": false,
       "aggType": "",
       "arguments": {},
       "columnCustomDisplayInfos": {},
       "data": [],
       "datasetInfos": [
        {
         "name": "_sqldf",
         "schema": {
          "fields": [
           {
            "metadata": {},
            "name": "num_affected_rows",
            "nullable": true,
            "type": "long"
           },
           {
            "metadata": {},
            "name": "num_inserted_rows",
            "nullable": true,
            "type": "long"
           }
          ],
          "type": "struct"
         },
         "tableIdentifier": null,
         "typeStr": "pyspark.sql.connect.dataframe.DataFrame"
        }
       ],
       "dbfsResultPath": null,
       "isJsonSchema": true,
       "metadata": {
        "createTempViewForImplicitDf": true,
        "dataframeName": "_sqldf",
        "executionCount": 18
       },
       "overflow": false,
       "plotOptions": {
        "customPlotOptions": {},
        "displayType": "table",
        "pivotAggregation": null,
        "pivotColumns": null,
        "xColumns": null,
        "yColumns": null
       },
       "removedWidgets": [],
       "schema": [
        {
         "metadata": "{}",
         "name": "num_affected_rows",
         "type": "\"long\""
        },
        {
         "metadata": "{}",
         "name": "num_inserted_rows",
         "type": "\"long\""
        }
       ],
       "type": "table"
      }
     },
     "output_type": "display_data"
    }
   ],
   "source": [
    "%sql\n",
    "create table if not exists gizmobox.gold.order_summary_monthly\n",
    "as\n",
    "select date_format(order_date, 'yyyy-MM') as order_month,\n",
    "       customer_id,\n",
    "       Count(distinct order_id) as total_orders,\n",
    "       sum(quantity) as total_items_bought,\n",
    "       sum(price*quantity) as total_amount\n",
    "from gizmobox.silver.orders\n",
    "group by order_month, customer_id;"
   ]
  },
  {
   "cell_type": "code",
   "execution_count": 0,
   "metadata": {
    "application/vnd.databricks.v1+cell": {
     "cellMetadata": {
      "byteLimit": 2048000,
      "implicitDf": true,
      "rowLimit": 10000
     },
     "inputWidgets": {},
     "nuid": "62c7c94a-ad83-4873-a030-e228f95ddcd4",
     "showTitle": false,
     "tableResultSettingsMap": {},
     "title": ""
    }
   },
   "outputs": [
    {
     "output_type": "display_data",
     "data": {
      "text/html": [
       "<style scoped>\n",
       "  .table-result-container {\n",
       "    max-height: 300px;\n",
       "    overflow: auto;\n",
       "  }\n",
       "  table, th, td {\n",
       "    border: 1px solid black;\n",
       "    border-collapse: collapse;\n",
       "  }\n",
       "  th, td {\n",
       "    padding: 5px;\n",
       "  }\n",
       "  th {\n",
       "    text-align: left;\n",
       "  }\n",
       "</style><div class='table-result-container'><table class='table-result'><thead style='background-color: white'><tr><th>order_month</th><th>customer_id</th><th>total_orders</th><th>total_items_bought</th><th>total_amount</th></tr></thead><tbody><tr><td>2024-11</td><td>4761</td><td>1</td><td>3</td><td>997</td></tr><tr><td>2024-11</td><td>7123</td><td>1</td><td>4</td><td>646</td></tr><tr><td>2024-10</td><td>9084</td><td>1</td><td>2</td><td>398</td></tr><tr><td>2025-01</td><td>2141</td><td>1</td><td>1</td><td>129</td></tr><tr><td>2025-01</td><td>6973</td><td>1</td><td>1</td><td>499</td></tr><tr><td>2024-11</td><td>9706</td><td>1</td><td>1</td><td>999</td></tr><tr><td>2025-01</td><td>9247</td><td>1</td><td>2</td><td>258</td></tr><tr><td>2024-10</td><td>2344</td><td>1</td><td>2</td><td>998</td></tr><tr><td>2025-01</td><td>3295</td><td>1</td><td>1</td><td>399</td></tr><tr><td>2025-01</td><td>4761</td><td>1</td><td>1</td><td>199</td></tr><tr><td>2024-11</td><td>2639</td><td>1</td><td>6</td><td>984</td></tr><tr><td>2024-10</td><td>5816</td><td>2</td><td>4</td><td>1296</td></tr><tr><td>2024-12</td><td>6167</td><td>1</td><td>1</td><td>699</td></tr><tr><td>2025-01</td><td>7007</td><td>1</td><td>1</td><td>699</td></tr><tr><td>2024-10</td><td>5011</td><td>2</td><td>3</td><td>2197</td></tr><tr><td>2024-12</td><td>2054</td><td>1</td><td>2</td><td>398</td></tr><tr><td>2024-10</td><td>8539</td><td>1</td><td>1</td><td>499</td></tr><tr><td>2025-01</td><td>5953</td><td>1</td><td>1</td><td>129</td></tr><tr><td>2024-10</td><td>9263</td><td>1</td><td>3</td><td>387</td></tr><tr><td>2025-01</td><td>6384</td><td>2</td><td>3</td><td>1297</td></tr><tr><td>2024-11</td><td>8580</td><td>1</td><td>4</td><td>586</td></tr><tr><td>2024-11</td><td>9247</td><td>2</td><td>4</td><td>536</td></tr><tr><td>2025-01</td><td>9150</td><td>3</td><td>9</td><td>2131</td></tr><tr><td>2024-12</td><td>3409</td><td>1</td><td>1</td><td>199</td></tr><tr><td>2025-01</td><td>9084</td><td>2</td><td>4</td><td>1796</td></tr><tr><td>2024-10</td><td>1987</td><td>1</td><td>1</td><td>799</td></tr><tr><td>2025-01</td><td>3084</td><td>1</td><td>2</td><td>598</td></tr><tr><td>2024-12</td><td>4858</td><td>1</td><td>1</td><td>999</td></tr><tr><td>2024-12</td><td>5592</td><td>1</td><td>1</td><td>699</td></tr><tr><td>2024-12</td><td>7803</td><td>1</td><td>3</td><td>747</td></tr><tr><td>2025-01</td><td>9179</td><td>1</td><td>1</td><td>399</td></tr><tr><td>2024-10</td><td>7207</td><td>1</td><td>1</td><td>1199</td></tr><tr><td>2024-11</td><td>5592</td><td>1</td><td>2</td><td>258</td></tr><tr><td>2025-01</td><td>9605</td><td>2</td><td>7</td><td>1823</td></tr><tr><td>2025-01</td><td>2344</td><td>1</td><td>5</td><td>785</td></tr><tr><td>2025-01</td><td>3712</td><td>1</td><td>4</td><td>746</td></tr><tr><td>2024-11</td><td>9179</td><td>1</td><td>1</td><td>999</td></tr><tr><td>2025-01</td><td>4468</td><td>1</td><td>1</td><td>799</td></tr><tr><td>2025-01</td><td>3532</td><td>3</td><td>9</td><td>2581</td></tr><tr><td>2024-12</td><td>4996</td><td>1</td><td>1</td><td>399</td></tr><tr><td>2024-12</td><td>3084</td><td>2</td><td>4</td><td>1296</td></tr><tr><td>2024-12</td><td>7123</td><td>1</td><td>1</td><td>699</td></tr><tr><td>2025-01</td><td>7207</td><td>1</td><td>3</td><td>597</td></tr><tr><td>2025-01</td><td>6167</td><td>2</td><td>4</td><td>1086</td></tr><tr><td>2024-12</td><td>2344</td><td>1</td><td>3</td><td>387</td></tr><tr><td>2024-11</td><td>8539</td><td>2</td><td>4</td><td>1096</td></tr><tr><td>2024-11</td><td>3892</td><td>1</td><td>2</td><td>998</td></tr><tr><td>2025-01</td><td>6627</td><td>1</td><td>5</td><td>895</td></tr><tr><td>2024-12</td><td>2703</td><td>2</td><td>7</td><td>1033</td></tr><tr><td>2024-12</td><td>6406</td><td>2</td><td>2</td><td>648</td></tr><tr><td>2025-01</td><td>7123</td><td>1</td><td>5</td><td>985</td></tr><tr><td>2025-01</td><td>8845</td><td>2</td><td>2</td><td>348</td></tr><tr><td>2025-01</td><td>4973</td><td>1</td><td>1</td><td>149</td></tr><tr><td>2024-12</td><td>5816</td><td>1</td><td>1</td><td>999</td></tr><tr><td>2024-10</td><td>9018</td><td>1</td><td>1</td><td>699</td></tr><tr><td>2024-11</td><td>7295</td><td>2</td><td>2</td><td>998</td></tr><tr><td>2024-11</td><td>8845</td><td>1</td><td>2</td><td>998</td></tr><tr><td>2024-10</td><td>3889</td><td>1</td><td>2</td><td>328</td></tr><tr><td>2024-12</td><td>6627</td><td>2</td><td>6</td><td>1544</td></tr><tr><td>2024-12</td><td>9687</td><td>2</td><td>3</td><td>1697</td></tr><tr><td>2024-11</td><td>4914</td><td>2</td><td>2</td><td>398</td></tr><tr><td>2024-12</td><td>7997</td><td>2</td><td>4</td><td>1096</td></tr><tr><td>2024-12</td><td>8580</td><td>1</td><td>1</td><td>699</td></tr><tr><td>2024-12</td><td>7295</td><td>1</td><td>1</td><td>129</td></tr><tr><td>2024-10</td><td>3409</td><td>1</td><td>1</td><td>499</td></tr><tr><td>2024-12</td><td>5204</td><td>2</td><td>5</td><td>1595</td></tr><tr><td>2024-12</td><td>1211</td><td>1</td><td>1</td><td>1199</td></tr><tr><td>2025-01</td><td>8580</td><td>1</td><td>2</td><td>698</td></tr><tr><td>2024-11</td><td>1987</td><td>1</td><td>5</td><td>645</td></tr><tr><td>2024-11</td><td>7803</td><td>2</td><td>5</td><td>685</td></tr><tr><td>2025-01</td><td>4996</td><td>1</td><td>1</td><td>299</td></tr><tr><td>2024-11</td><td>4996</td><td>1</td><td>1</td><td>199</td></tr><tr><td>2024-12</td><td>7829</td><td>2</td><td>5</td><td>705</td></tr><tr><td>2025-01</td><td>5028</td><td>1</td><td>1</td><td>499</td></tr><tr><td>2024-12</td><td>4973</td><td>1</td><td>1</td><td>699</td></tr><tr><td>2024-11</td><td>5028</td><td>1</td><td>1</td><td>149</td></tr></tbody></table></div>"
      ]
     },
     "metadata": {
      "application/vnd.databricks.v1+output": {
       "addedWidgets": {},
       "aggData": [],
       "aggError": "",
       "aggOverflow": false,
       "aggSchema": [],
       "aggSeriesLimitReached": false,
       "aggType": "",
       "arguments": {},
       "columnCustomDisplayInfos": {},
       "data": [
        [
         "2024-11",
         4761,
         1,
         3,
         997
        ],
        [
         "2024-11",
         7123,
         1,
         4,
         646
        ],
        [
         "2024-10",
         9084,
         1,
         2,
         398
        ],
        [
         "2025-01",
         2141,
         1,
         1,
         129
        ],
        [
         "2025-01",
         6973,
         1,
         1,
         499
        ],
        [
         "2024-11",
         9706,
         1,
         1,
         999
        ],
        [
         "2025-01",
         9247,
         1,
         2,
         258
        ],
        [
         "2024-10",
         2344,
         1,
         2,
         998
        ],
        [
         "2025-01",
         3295,
         1,
         1,
         399
        ],
        [
         "2025-01",
         4761,
         1,
         1,
         199
        ],
        [
         "2024-11",
         2639,
         1,
         6,
         984
        ],
        [
         "2024-10",
         5816,
         2,
         4,
         1296
        ],
        [
         "2024-12",
         6167,
         1,
         1,
         699
        ],
        [
         "2025-01",
         7007,
         1,
         1,
         699
        ],
        [
         "2024-10",
         5011,
         2,
         3,
         2197
        ],
        [
         "2024-12",
         2054,
         1,
         2,
         398
        ],
        [
         "2024-10",
         8539,
         1,
         1,
         499
        ],
        [
         "2025-01",
         5953,
         1,
         1,
         129
        ],
        [
         "2024-10",
         9263,
         1,
         3,
         387
        ],
        [
         "2025-01",
         6384,
         2,
         3,
         1297
        ],
        [
         "2024-11",
         8580,
         1,
         4,
         586
        ],
        [
         "2024-11",
         9247,
         2,
         4,
         536
        ],
        [
         "2025-01",
         9150,
         3,
         9,
         2131
        ],
        [
         "2024-12",
         3409,
         1,
         1,
         199
        ],
        [
         "2025-01",
         9084,
         2,
         4,
         1796
        ],
        [
         "2024-10",
         1987,
         1,
         1,
         799
        ],
        [
         "2025-01",
         3084,
         1,
         2,
         598
        ],
        [
         "2024-12",
         4858,
         1,
         1,
         999
        ],
        [
         "2024-12",
         5592,
         1,
         1,
         699
        ],
        [
         "2024-12",
         7803,
         1,
         3,
         747
        ],
        [
         "2025-01",
         9179,
         1,
         1,
         399
        ],
        [
         "2024-10",
         7207,
         1,
         1,
         1199
        ],
        [
         "2024-11",
         5592,
         1,
         2,
         258
        ],
        [
         "2025-01",
         9605,
         2,
         7,
         1823
        ],
        [
         "2025-01",
         2344,
         1,
         5,
         785
        ],
        [
         "2025-01",
         3712,
         1,
         4,
         746
        ],
        [
         "2024-11",
         9179,
         1,
         1,
         999
        ],
        [
         "2025-01",
         4468,
         1,
         1,
         799
        ],
        [
         "2025-01",
         3532,
         3,
         9,
         2581
        ],
        [
         "2024-12",
         4996,
         1,
         1,
         399
        ],
        [
         "2024-12",
         3084,
         2,
         4,
         1296
        ],
        [
         "2024-12",
         7123,
         1,
         1,
         699
        ],
        [
         "2025-01",
         7207,
         1,
         3,
         597
        ],
        [
         "2025-01",
         6167,
         2,
         4,
         1086
        ],
        [
         "2024-12",
         2344,
         1,
         3,
         387
        ],
        [
         "2024-11",
         8539,
         2,
         4,
         1096
        ],
        [
         "2024-11",
         3892,
         1,
         2,
         998
        ],
        [
         "2025-01",
         6627,
         1,
         5,
         895
        ],
        [
         "2024-12",
         2703,
         2,
         7,
         1033
        ],
        [
         "2024-12",
         6406,
         2,
         2,
         648
        ],
        [
         "2025-01",
         7123,
         1,
         5,
         985
        ],
        [
         "2025-01",
         8845,
         2,
         2,
         348
        ],
        [
         "2025-01",
         4973,
         1,
         1,
         149
        ],
        [
         "2024-12",
         5816,
         1,
         1,
         999
        ],
        [
         "2024-10",
         9018,
         1,
         1,
         699
        ],
        [
         "2024-11",
         7295,
         2,
         2,
         998
        ],
        [
         "2024-11",
         8845,
         1,
         2,
         998
        ],
        [
         "2024-10",
         3889,
         1,
         2,
         328
        ],
        [
         "2024-12",
         6627,
         2,
         6,
         1544
        ],
        [
         "2024-12",
         9687,
         2,
         3,
         1697
        ],
        [
         "2024-11",
         4914,
         2,
         2,
         398
        ],
        [
         "2024-12",
         7997,
         2,
         4,
         1096
        ],
        [
         "2024-12",
         8580,
         1,
         1,
         699
        ],
        [
         "2024-12",
         7295,
         1,
         1,
         129
        ],
        [
         "2024-10",
         3409,
         1,
         1,
         499
        ],
        [
         "2024-12",
         5204,
         2,
         5,
         1595
        ],
        [
         "2024-12",
         1211,
         1,
         1,
         1199
        ],
        [
         "2025-01",
         8580,
         1,
         2,
         698
        ],
        [
         "2024-11",
         1987,
         1,
         5,
         645
        ],
        [
         "2024-11",
         7803,
         2,
         5,
         685
        ],
        [
         "2025-01",
         4996,
         1,
         1,
         299
        ],
        [
         "2024-11",
         4996,
         1,
         1,
         199
        ],
        [
         "2024-12",
         7829,
         2,
         5,
         705
        ],
        [
         "2025-01",
         5028,
         1,
         1,
         499
        ],
        [
         "2024-12",
         4973,
         1,
         1,
         699
        ],
        [
         "2024-11",
         5028,
         1,
         1,
         149
        ]
       ],
       "datasetInfos": [
        {
         "name": "_sqldf",
         "schema": {
          "fields": [
           {
            "metadata": {},
            "name": "order_month",
            "nullable": true,
            "type": "string"
           },
           {
            "metadata": {},
            "name": "customer_id",
            "nullable": true,
            "type": "long"
           },
           {
            "metadata": {},
            "name": "total_orders",
            "nullable": true,
            "type": "long"
           },
           {
            "metadata": {},
            "name": "total_items_bought",
            "nullable": true,
            "type": "long"
           },
           {
            "metadata": {},
            "name": "total_amount",
            "nullable": true,
            "type": "long"
           }
          ],
          "type": "struct"
         },
         "tableIdentifier": null,
         "typeStr": "pyspark.sql.connect.dataframe.DataFrame"
        }
       ],
       "dbfsResultPath": null,
       "isJsonSchema": true,
       "metadata": {
        "createTempViewForImplicitDf": true,
        "dataframeName": "_sqldf",
        "executionCount": 19
       },
       "overflow": false,
       "plotOptions": {
        "customPlotOptions": {},
        "displayType": "table",
        "pivotAggregation": null,
        "pivotColumns": null,
        "xColumns": null,
        "yColumns": null
       },
       "removedWidgets": [],
       "schema": [
        {
         "metadata": "{}",
         "name": "order_month",
         "type": "\"string\""
        },
        {
         "metadata": "{}",
         "name": "customer_id",
         "type": "\"long\""
        },
        {
         "metadata": "{}",
         "name": "total_orders",
         "type": "\"long\""
        },
        {
         "metadata": "{}",
         "name": "total_items_bought",
         "type": "\"long\""
        },
        {
         "metadata": "{}",
         "name": "total_amount",
         "type": "\"long\""
        }
       ],
       "type": "table"
      }
     },
     "output_type": "display_data"
    }
   ],
   "source": [
    "%sql\n",
    "select * from gizmobox.gold.order_summary_monthly;\n",
    "    \n"
   ]
  },
  {
   "cell_type": "markdown",
   "metadata": {
    "application/vnd.databricks.v1+cell": {
     "cellMetadata": {},
     "inputWidgets": {},
     "nuid": "75640037-0b3c-4eb3-ad6d-84068cc835d8",
     "showTitle": false,
     "tableResultSettingsMap": {},
     "title": ""
    }
   },
   "source": []
  }
 ],
 "metadata": {
  "application/vnd.databricks.v1+notebook": {
   "computePreferences": null,
   "dashboards": [],
   "environmentMetadata": {
    "base_environment": "",
    "environment_version": "3"
   },
   "inputWidgetPreferences": null,
   "language": "python",
   "notebookMetadata": {
    "mostRecentlyExecutedCommandWithImplicitDF": {
     "commandId": 8026278857225570,
     "dataframes": [
      "_sqldf"
     ]
    },
    "pythonIndentUnit": 4
   },
   "notebookName": "18-Monthly-Order-Summary",
   "widgets": {}
  },
  "language_info": {
   "name": "python"
  }
 },
 "nbformat": 4,
 "nbformat_minor": 0
}
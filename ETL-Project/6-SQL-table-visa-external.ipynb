{
 "cells": [
  {
   "cell_type": "markdown",
   "metadata": {
    "application/vnd.databricks.v1+cell": {
     "cellMetadata": {},
     "inputWidgets": {},
     "nuid": "cee49cc6-2cda-40bc-a775-77d71b95cc5b",
     "showTitle": false,
     "tableResultSettingsMap": {},
     "title": ""
    }
   },
   "source": [
    "####### we need to create a sql database in the Azure account "
   ]
  },
  {
   "cell_type": "code",
   "execution_count": 0,
   "metadata": {
    "application/vnd.databricks.v1+cell": {
     "cellMetadata": {},
     "inputWidgets": {},
     "nuid": "878e7de3-e7e1-485a-a12b-42194c2e25d6",
     "showTitle": false,
     "tableResultSettingsMap": {},
     "title": ""
    }
   },
   "outputs": [],
   "source": [
    "%sql\n",
    "-- 1- create bronze schema in Hive Metastore \n",
    "create schema if not exists hive_metastore.default;"
   ]
  },
  {
   "cell_type": "code",
   "execution_count": 0,
   "metadata": {
    "application/vnd.databricks.v1+cell": {
     "cellMetadata": {},
     "inputWidgets": {},
     "nuid": "cedf95b4-8393-4ec5-8f90-f79ea3eb06c8",
     "showTitle": false,
     "tableResultSettingsMap": {},
     "title": ""
    }
   },
   "outputs": [],
   "source": [
    "%sql\n",
    "-- 2- create External Table "
   ]
  },
  {
   "cell_type": "code",
   "execution_count": 0,
   "metadata": {
    "application/vnd.databricks.v1+cell": {
     "cellMetadata": {
      "byteLimit": 2048000,
      "implicitDf": true,
      "rowLimit": 10000
     },
     "inputWidgets": {},
     "nuid": "4ec616a2-93b1-4dd7-bd78-ec97cb425461",
     "showTitle": false,
     "tableResultSettingsMap": {},
     "title": ""
    }
   },
   "outputs": [
    {
     "output_type": "display_data",
     "data": {
      "text/html": [
       "<style scoped>\n",
       "  .table-result-container {\n",
       "    max-height: 300px;\n",
       "    overflow: auto;\n",
       "  }\n",
       "  table, th, td {\n",
       "    border: 1px solid black;\n",
       "    border-collapse: collapse;\n",
       "  }\n",
       "  th, td {\n",
       "    padding: 5px;\n",
       "  }\n",
       "  th {\n",
       "    text-align: left;\n",
       "  }\n",
       "</style><div class='table-result-container'><table class='table-result'><thead style='background-color: white'><tr><th>num_affected_rows</th><th>num_inserted_rows</th></tr></thead><tbody><tr><td>10</td><td>10</td></tr></tbody></table></div>"
      ]
     },
     "metadata": {
      "application/vnd.databricks.v1+output": {
       "addedWidgets": {},
       "aggData": [],
       "aggError": "",
       "aggOverflow": false,
       "aggSchema": [],
       "aggSeriesLimitReached": false,
       "aggType": "",
       "arguments": {},
       "columnCustomDisplayInfos": {},
       "data": [
        [
         10,
         10
        ]
       ],
       "datasetInfos": [
        {
         "name": "_sqldf",
         "schema": {
          "fields": [
           {
            "metadata": {},
            "name": "num_affected_rows",
            "nullable": true,
            "type": "long"
           },
           {
            "metadata": {},
            "name": "num_inserted_rows",
            "nullable": true,
            "type": "long"
           }
          ],
          "type": "struct"
         },
         "tableIdentifier": null,
         "typeStr": "pyspark.sql.connect.dataframe.DataFrame"
        }
       ],
       "dbfsResultPath": null,
       "isJsonSchema": true,
       "metadata": {
        "createTempViewForImplicitDf": true,
        "dataframeName": "_sqldf",
        "executionCount": 9
       },
       "overflow": false,
       "plotOptions": {
        "customPlotOptions": {},
        "displayType": "table",
        "pivotAggregation": null,
        "pivotColumns": null,
        "xColumns": null,
        "yColumns": null
       },
       "removedWidgets": [],
       "schema": [
        {
         "metadata": "{}",
         "name": "num_affected_rows",
         "type": "\"long\""
        },
        {
         "metadata": "{}",
         "name": "num_inserted_rows",
         "type": "\"long\""
        }
       ],
       "type": "table"
      }
     },
     "output_type": "display_data"
    }
   ],
   "source": [
    "%sql\n",
    "-- without Azure \n",
    "-- Tell Databricks to use Unity Catalog, not Hive\n",
    "USE CATALOG gizmobox;\n",
    "USE SCHEMA bronze;   -- or: USE SCHEMA gizmobox.bronze;\n",
    "\n",
    "-- Create the managed Delta table\n",
    "CREATE OR REPLACE TABLE gizmobox.bronze.refunds (\n",
    "  refund_id INT,\n",
    "  payment_id INT,\n",
    "  refund_timestamp TIMESTAMP,\n",
    "  refund_amount DECIMAL(10,2),\n",
    "  refund_reason STRING\n",
    ") USING DELTA;\n",
    "\n",
    "-- Load your sample rows\n",
    "INSERT INTO gizmobox.bronze.refunds\n",
    "(refund_id, payment_id, refund_timestamp, refund_amount, refund_reason) VALUES\n",
    "(1, 66,'2025-01-10 11:30:00',  85.75,'Payment Error:Retailer'),\n",
    "(2, 69,'2025-01-01 12:40:15', 120.50,'Order Cancelled:Customer'),\n",
    "(3, 72,'2025-01-06 14:45:30',  65.00,'Product Returned:Customer'),\n",
    "(4, 73,'2025-01-07 16:10:45', 210.99,'Order Cancelled:Customer'),\n",
    "(5, 75,'2025-01-09 18:25:00',  45.20,'Payment Error:Retailer'),\n",
    "(6, 80,'2025-01-10 09:35:20', 130.15,'Order Cancelled:Customer'),\n",
    "(7, 83,'2025-01-12 11:20:40', 100.00,'Product Returned:Customer'),\n",
    "(8, 85,'2025-01-14 13:15:30',  89.99,'Order Cancelled:Customer'),\n",
    "(9, 89,'2025-01-15 15:00:00',  78.50,'Payment Error:Retailer'),\n",
    "(10,91,'2025-01-17 16:45:15', 250.75,'Product Returned:Customer');\n"
   ]
  },
  {
   "cell_type": "code",
   "execution_count": 0,
   "metadata": {
    "application/vnd.databricks.v1+cell": {
     "cellMetadata": {
      "byteLimit": 2048000,
      "implicitDf": true,
      "rowLimit": 10000
     },
     "inputWidgets": {},
     "nuid": "2ef8e2da-7930-40e3-a4b0-e8ff338feb16",
     "showTitle": false,
     "tableResultSettingsMap": {},
     "title": ""
    }
   },
   "outputs": [
    {
     "output_type": "display_data",
     "data": {
      "text/html": [
       "<style scoped>\n",
       "  .table-result-container {\n",
       "    max-height: 300px;\n",
       "    overflow: auto;\n",
       "  }\n",
       "  table, th, td {\n",
       "    border: 1px solid black;\n",
       "    border-collapse: collapse;\n",
       "  }\n",
       "  th, td {\n",
       "    padding: 5px;\n",
       "  }\n",
       "  th {\n",
       "    text-align: left;\n",
       "  }\n",
       "</style><div class='table-result-container'><table class='table-result'><thead style='background-color: white'><tr><th>refund_id</th><th>payment_id</th><th>refund_timestamp</th><th>refund_amount</th><th>refund_reason</th></tr></thead><tbody><tr><td>1</td><td>66</td><td>2025-01-10T11:30:00.000Z</td><td>85.75</td><td>Payment Error:Retailer</td></tr><tr><td>2</td><td>69</td><td>2025-01-01T12:40:15.000Z</td><td>120.50</td><td>Order Cancelled:Customer</td></tr><tr><td>3</td><td>72</td><td>2025-01-06T14:45:30.000Z</td><td>65.00</td><td>Product Returned:Customer</td></tr><tr><td>4</td><td>73</td><td>2025-01-07T16:10:45.000Z</td><td>210.99</td><td>Order Cancelled:Customer</td></tr><tr><td>5</td><td>75</td><td>2025-01-09T18:25:00.000Z</td><td>45.20</td><td>Payment Error:Retailer</td></tr><tr><td>6</td><td>80</td><td>2025-01-10T09:35:20.000Z</td><td>130.15</td><td>Order Cancelled:Customer</td></tr><tr><td>7</td><td>83</td><td>2025-01-12T11:20:40.000Z</td><td>100.00</td><td>Product Returned:Customer</td></tr><tr><td>8</td><td>85</td><td>2025-01-14T13:15:30.000Z</td><td>89.99</td><td>Order Cancelled:Customer</td></tr><tr><td>9</td><td>89</td><td>2025-01-15T15:00:00.000Z</td><td>78.50</td><td>Payment Error:Retailer</td></tr><tr><td>10</td><td>91</td><td>2025-01-17T16:45:15.000Z</td><td>250.75</td><td>Product Returned:Customer</td></tr></tbody></table></div>"
      ]
     },
     "metadata": {
      "application/vnd.databricks.v1+output": {
       "addedWidgets": {},
       "aggData": [],
       "aggError": "",
       "aggOverflow": false,
       "aggSchema": [],
       "aggSeriesLimitReached": false,
       "aggType": "",
       "arguments": {},
       "columnCustomDisplayInfos": {},
       "data": [
        [
         1,
         66,
         "2025-01-10T11:30:00.000Z",
         "85.75",
         "Payment Error:Retailer"
        ],
        [
         2,
         69,
         "2025-01-01T12:40:15.000Z",
         "120.50",
         "Order Cancelled:Customer"
        ],
        [
         3,
         72,
         "2025-01-06T14:45:30.000Z",
         "65.00",
         "Product Returned:Customer"
        ],
        [
         4,
         73,
         "2025-01-07T16:10:45.000Z",
         "210.99",
         "Order Cancelled:Customer"
        ],
        [
         5,
         75,
         "2025-01-09T18:25:00.000Z",
         "45.20",
         "Payment Error:Retailer"
        ],
        [
         6,
         80,
         "2025-01-10T09:35:20.000Z",
         "130.15",
         "Order Cancelled:Customer"
        ],
        [
         7,
         83,
         "2025-01-12T11:20:40.000Z",
         "100.00",
         "Product Returned:Customer"
        ],
        [
         8,
         85,
         "2025-01-14T13:15:30.000Z",
         "89.99",
         "Order Cancelled:Customer"
        ],
        [
         9,
         89,
         "2025-01-15T15:00:00.000Z",
         "78.50",
         "Payment Error:Retailer"
        ],
        [
         10,
         91,
         "2025-01-17T16:45:15.000Z",
         "250.75",
         "Product Returned:Customer"
        ]
       ],
       "datasetInfos": [
        {
         "name": "_sqldf",
         "schema": {
          "fields": [
           {
            "metadata": {},
            "name": "refund_id",
            "nullable": true,
            "type": "integer"
           },
           {
            "metadata": {},
            "name": "payment_id",
            "nullable": true,
            "type": "integer"
           },
           {
            "metadata": {},
            "name": "refund_timestamp",
            "nullable": true,
            "type": "timestamp"
           },
           {
            "metadata": {},
            "name": "refund_amount",
            "nullable": true,
            "type": "decimal(10,2)"
           },
           {
            "metadata": {},
            "name": "refund_reason",
            "nullable": true,
            "type": "string"
           }
          ],
          "type": "struct"
         },
         "tableIdentifier": null,
         "typeStr": "pyspark.sql.connect.dataframe.DataFrame"
        }
       ],
       "dbfsResultPath": null,
       "isJsonSchema": true,
       "metadata": {
        "createTempViewForImplicitDf": true,
        "dataframeName": "_sqldf",
        "executionCount": 10
       },
       "overflow": false,
       "plotOptions": {
        "customPlotOptions": {},
        "displayType": "table",
        "pivotAggregation": null,
        "pivotColumns": null,
        "xColumns": null,
        "yColumns": null
       },
       "removedWidgets": [],
       "schema": [
        {
         "metadata": "{}",
         "name": "refund_id",
         "type": "\"integer\""
        },
        {
         "metadata": "{}",
         "name": "payment_id",
         "type": "\"integer\""
        },
        {
         "metadata": "{}",
         "name": "refund_timestamp",
         "type": "\"timestamp\""
        },
        {
         "metadata": "{}",
         "name": "refund_amount",
         "type": "\"decimal(10,2)\""
        },
        {
         "metadata": "{}",
         "name": "refund_reason",
         "type": "\"string\""
        }
       ],
       "type": "table"
      }
     },
     "output_type": "display_data"
    }
   ],
   "source": [
    "%sql\n",
    "SELECT * FROM gizmobox.bronze.refunds"
   ]
  },
  {
   "cell_type": "markdown",
   "metadata": {
    "application/vnd.databricks.v1+cell": {
     "cellMetadata": {},
     "inputWidgets": {},
     "nuid": "2c0a7b25-28f9-4f1b-acb3-082eebc65e1b",
     "showTitle": false,
     "tableResultSettingsMap": {},
     "title": ""
    }
   },
   "source": [
    "#### 2- create external table "
   ]
  },
  {
   "cell_type": "code",
   "execution_count": 0,
   "metadata": {
    "application/vnd.databricks.v1+cell": {
     "cellMetadata": {
      "byteLimit": 2048000,
      "rowLimit": 10000
     },
     "inputWidgets": {},
     "nuid": "57080c4f-bdd4-4606-b92f-340947e67571",
     "showTitle": false,
     "tableResultSettingsMap": {},
     "title": ""
    }
   },
   "outputs": [
    {
     "output_type": "display_data",
     "data": {
      "text/plain": [
       ""
      ]
     },
     "metadata": {
      "application/vnd.databricks.v1+output": {
       "addedWidgets": {},
       "arguments": {},
       "datasetInfos": [],
       "jupyterProps": {
        "ename": "UsageError",
        "evalue": "%%sql is a cell magic, but the cell body is empty."
       },
       "metadata": {
        "errorSummary": "<span class='ansi-red-fg'>UsageError</span>: %%sql is a cell magic, but the cell body is empty."
       },
       "removedWidgets": [],
       "sqlProps": null,
       "stackFrames": [],
       "type": "baseError"
      }
     },
     "output_type": "display_data"
    }
   ],
   "source": [
    "%sql\n",
    "create    table if not exists hive_metastore.bronze.refunds\n",
    "using  jdbc\n",
    "options (\n",
    "url = \"jdbc:sqlserver://gizmobox.database.windows.net:1433;database=gizmobox-db\",\n",
    "dbtable = 'refunds',\n",
    "user = 'gizmoboxadm',\n",
    "password = 'gizmobox1234567890'\n",
    ");"
   ]
  },
  {
   "cell_type": "code",
   "execution_count": 0,
   "metadata": {
    "application/vnd.databricks.v1+cell": {
     "cellMetadata": {},
     "inputWidgets": {},
     "nuid": "1f6692e9-bfd0-4fa1-84fc-bba142258d08",
     "showTitle": false,
     "tableResultSettingsMap": {},
     "title": ""
    }
   },
   "outputs": [],
   "source": [
    "%sql\n",
    "select * from hive_metastore.bronze.refunds;"
   ]
  },
  {
   "cell_type": "code",
   "execution_count": 0,
   "metadata": {
    "application/vnd.databricks.v1+cell": {
     "cellMetadata": {
      "byteLimit": 2048000,
      "implicitDf": true,
      "rowLimit": 10000
     },
     "inputWidgets": {},
     "nuid": "c9a9513e-7f17-4aec-aa7d-1ad27ff837a3",
     "showTitle": false,
     "tableResultSettingsMap": {},
     "title": ""
    }
   },
   "outputs": [
    {
     "output_type": "display_data",
     "data": {
      "text/html": [
       "<style scoped>\n",
       "  .table-result-container {\n",
       "    max-height: 300px;\n",
       "    overflow: auto;\n",
       "  }\n",
       "  table, th, td {\n",
       "    border: 1px solid black;\n",
       "    border-collapse: collapse;\n",
       "  }\n",
       "  th, td {\n",
       "    padding: 5px;\n",
       "  }\n",
       "  th {\n",
       "    text-align: left;\n",
       "  }\n",
       "</style><div class='table-result-container'><table class='table-result'><thead style='background-color: white'><tr><th>refund_id</th><th>payment_id</th><th>refund_timestamp</th><th>refund_amount</th><th>refund_reason</th></tr></thead><tbody><tr><td>1</td><td>66</td><td>2025-01-10T11:30:00.000Z</td><td>85.75</td><td>Payment Error:Retailer</td></tr><tr><td>2</td><td>69</td><td>2025-01-01T12:40:15.000Z</td><td>120.50</td><td>Order Cancelled:Customer</td></tr><tr><td>3</td><td>72</td><td>2025-01-06T14:45:30.000Z</td><td>65.00</td><td>Product Returned:Customer</td></tr><tr><td>4</td><td>73</td><td>2025-01-07T16:10:45.000Z</td><td>210.99</td><td>Order Cancelled:Customer</td></tr><tr><td>5</td><td>75</td><td>2025-01-09T18:25:00.000Z</td><td>45.20</td><td>Payment Error:Retailer</td></tr><tr><td>6</td><td>80</td><td>2025-01-10T09:35:20.000Z</td><td>130.15</td><td>Order Cancelled:Customer</td></tr><tr><td>7</td><td>83</td><td>2025-01-12T11:20:40.000Z</td><td>100.00</td><td>Product Returned:Customer</td></tr><tr><td>8</td><td>85</td><td>2025-01-14T13:15:30.000Z</td><td>89.99</td><td>Order Cancelled:Customer</td></tr><tr><td>9</td><td>89</td><td>2025-01-15T15:00:00.000Z</td><td>78.50</td><td>Payment Error:Retailer</td></tr><tr><td>10</td><td>91</td><td>2025-01-17T16:45:15.000Z</td><td>250.75</td><td>Product Returned:Customer</td></tr></tbody></table></div>"
      ]
     },
     "metadata": {
      "application/vnd.databricks.v1+output": {
       "addedWidgets": {},
       "aggData": [],
       "aggError": "",
       "aggOverflow": false,
       "aggSchema": [],
       "aggSeriesLimitReached": false,
       "aggType": "",
       "arguments": {},
       "columnCustomDisplayInfos": {},
       "data": [
        [
         1,
         66,
         "2025-01-10T11:30:00.000Z",
         "85.75",
         "Payment Error:Retailer"
        ],
        [
         2,
         69,
         "2025-01-01T12:40:15.000Z",
         "120.50",
         "Order Cancelled:Customer"
        ],
        [
         3,
         72,
         "2025-01-06T14:45:30.000Z",
         "65.00",
         "Product Returned:Customer"
        ],
        [
         4,
         73,
         "2025-01-07T16:10:45.000Z",
         "210.99",
         "Order Cancelled:Customer"
        ],
        [
         5,
         75,
         "2025-01-09T18:25:00.000Z",
         "45.20",
         "Payment Error:Retailer"
        ],
        [
         6,
         80,
         "2025-01-10T09:35:20.000Z",
         "130.15",
         "Order Cancelled:Customer"
        ],
        [
         7,
         83,
         "2025-01-12T11:20:40.000Z",
         "100.00",
         "Product Returned:Customer"
        ],
        [
         8,
         85,
         "2025-01-14T13:15:30.000Z",
         "89.99",
         "Order Cancelled:Customer"
        ],
        [
         9,
         89,
         "2025-01-15T15:00:00.000Z",
         "78.50",
         "Payment Error:Retailer"
        ],
        [
         10,
         91,
         "2025-01-17T16:45:15.000Z",
         "250.75",
         "Product Returned:Customer"
        ]
       ],
       "datasetInfos": [
        {
         "name": "_sqldf",
         "schema": {
          "fields": [
           {
            "metadata": {},
            "name": "refund_id",
            "nullable": true,
            "type": "integer"
           },
           {
            "metadata": {},
            "name": "payment_id",
            "nullable": true,
            "type": "integer"
           },
           {
            "metadata": {},
            "name": "refund_timestamp",
            "nullable": true,
            "type": "timestamp"
           },
           {
            "metadata": {},
            "name": "refund_amount",
            "nullable": true,
            "type": "decimal(10,2)"
           },
           {
            "metadata": {},
            "name": "refund_reason",
            "nullable": true,
            "type": "string"
           }
          ],
          "type": "struct"
         },
         "tableIdentifier": null,
         "typeStr": "pyspark.sql.connect.dataframe.DataFrame"
        }
       ],
       "dbfsResultPath": null,
       "isJsonSchema": true,
       "metadata": {
        "createTempViewForImplicitDf": true,
        "dataframeName": "_sqldf",
        "executionCount": 17
       },
       "overflow": false,
       "plotOptions": {
        "customPlotOptions": {},
        "displayType": "table",
        "pivotAggregation": null,
        "pivotColumns": null,
        "xColumns": null,
        "yColumns": null
       },
       "removedWidgets": [],
       "schema": [
        {
         "metadata": "{}",
         "name": "refund_id",
         "type": "\"integer\""
        },
        {
         "metadata": "{}",
         "name": "payment_id",
         "type": "\"integer\""
        },
        {
         "metadata": "{}",
         "name": "refund_timestamp",
         "type": "\"timestamp\""
        },
        {
         "metadata": "{}",
         "name": "refund_amount",
         "type": "\"decimal(10,2)\""
        },
        {
         "metadata": "{}",
         "name": "refund_reason",
         "type": "\"string\""
        }
       ],
       "type": "table"
      }
     },
     "output_type": "display_data"
    }
   ],
   "source": [
    "%sql\n",
    "select * from gizmobox.bronze.refunds;"
   ]
  },
  {
   "cell_type": "code",
   "execution_count": 0,
   "metadata": {
    "application/vnd.databricks.v1+cell": {
     "cellMetadata": {
      "byteLimit": 2048000,
      "implicitDf": true,
      "rowLimit": 10000
     },
     "inputWidgets": {},
     "nuid": "9a9116a2-85a0-4f07-b6fd-27c5c581a38d",
     "showTitle": false,
     "tableResultSettingsMap": {},
     "title": ""
    }
   },
   "outputs": [
    {
     "output_type": "display_data",
     "data": {
      "text/html": [
       "<style scoped>\n",
       "  .table-result-container {\n",
       "    max-height: 300px;\n",
       "    overflow: auto;\n",
       "  }\n",
       "  table, th, td {\n",
       "    border: 1px solid black;\n",
       "    border-collapse: collapse;\n",
       "  }\n",
       "  th, td {\n",
       "    padding: 5px;\n",
       "  }\n",
       "  th {\n",
       "    text-align: left;\n",
       "  }\n",
       "</style><div class='table-result-container'><table class='table-result'><thead style='background-color: white'><tr><th>col_name</th><th>data_type</th><th>comment</th></tr></thead><tbody><tr><td>refund_id</td><td>int</td><td>null</td></tr><tr><td>payment_id</td><td>int</td><td>null</td></tr><tr><td>refund_timestamp</td><td>timestamp</td><td>null</td></tr><tr><td>refund_amount</td><td>decimal(10,2)</td><td>null</td></tr><tr><td>refund_reason</td><td>string</td><td>null</td></tr><tr><td></td><td></td><td></td></tr><tr><td># Delta Statistics Columns</td><td></td><td></td></tr><tr><td>Column Names</td><td>refund_id, refund_timestamp, refund_amount, refund_reason, payment_id</td><td></td></tr><tr><td>Column Selection Method</td><td>first-32</td><td></td></tr><tr><td></td><td></td><td></td></tr><tr><td># Detailed Table Information</td><td></td><td></td></tr><tr><td>Catalog</td><td>gizmobox</td><td></td></tr><tr><td>Database</td><td>bronze</td><td></td></tr><tr><td>Table</td><td>refunds</td><td></td></tr><tr><td>Created Time</td><td>Tue Sep 16 19:53:07 UTC 2025</td><td></td></tr><tr><td>Last Access</td><td>UNKNOWN</td><td></td></tr><tr><td>Created By</td><td>Spark </td><td></td></tr><tr><td>Statistics</td><td>1924 bytes, 10 rows</td><td></td></tr><tr><td>Type</td><td>MANAGED</td><td></td></tr><tr><td>Collation</td><td>UTF8_BINARY</td><td></td></tr><tr><td>Location</td><td></td><td></td></tr><tr><td>Provider</td><td>delta</td><td></td></tr><tr><td>Owner</td><td>salmaboukhris.contact@gmail.com</td><td></td></tr><tr><td>Is_managed_location</td><td>true</td><td></td></tr><tr><td>Predictive Optimization</td><td>ENABLE (inherited from METASTORE metastore_aws_us_east_2)</td><td></td></tr><tr><td>Table Properties</td><td>[delta.enableDeletionVectors=true,delta.feature.appendOnly=supported,delta.feature.deletionVectors=supported,delta.feature.invariants=supported,delta.minReaderVersion=3,delta.minWriterVersion=7]</td><td></td></tr></tbody></table></div>"
      ]
     },
     "metadata": {
      "application/vnd.databricks.v1+output": {
       "addedWidgets": {},
       "aggData": [],
       "aggError": "",
       "aggOverflow": false,
       "aggSchema": [],
       "aggSeriesLimitReached": false,
       "aggType": "",
       "arguments": {},
       "columnCustomDisplayInfos": {},
       "data": [
        [
         "refund_id",
         "int",
         null
        ],
        [
         "payment_id",
         "int",
         null
        ],
        [
         "refund_timestamp",
         "timestamp",
         null
        ],
        [
         "refund_amount",
         "decimal(10,2)",
         null
        ],
        [
         "refund_reason",
         "string",
         null
        ],
        [
         "",
         "",
         ""
        ],
        [
         "# Delta Statistics Columns",
         "",
         ""
        ],
        [
         "Column Names",
         "refund_id, refund_timestamp, refund_amount, refund_reason, payment_id",
         ""
        ],
        [
         "Column Selection Method",
         "first-32",
         ""
        ],
        [
         "",
         "",
         ""
        ],
        [
         "# Detailed Table Information",
         "",
         ""
        ],
        [
         "Catalog",
         "gizmobox",
         ""
        ],
        [
         "Database",
         "bronze",
         ""
        ],
        [
         "Table",
         "refunds",
         ""
        ],
        [
         "Created Time",
         "Tue Sep 16 19:53:07 UTC 2025",
         ""
        ],
        [
         "Last Access",
         "UNKNOWN",
         ""
        ],
        [
         "Created By",
         "Spark ",
         ""
        ],
        [
         "Statistics",
         "1924 bytes, 10 rows",
         ""
        ],
        [
         "Type",
         "MANAGED",
         ""
        ],
        [
         "Collation",
         "UTF8_BINARY",
         ""
        ],
        [
         "Location",
         "",
         ""
        ],
        [
         "Provider",
         "delta",
         ""
        ],
        [
         "Owner",
         "salmaboukhris.contact@gmail.com",
         ""
        ],
        [
         "Is_managed_location",
         "true",
         ""
        ],
        [
         "Predictive Optimization",
         "ENABLE (inherited from METASTORE metastore_aws_us_east_2)",
         ""
        ],
        [
         "Table Properties",
         "[delta.enableDeletionVectors=true,delta.feature.appendOnly=supported,delta.feature.deletionVectors=supported,delta.feature.invariants=supported,delta.minReaderVersion=3,delta.minWriterVersion=7]",
         ""
        ]
       ],
       "datasetInfos": [
        {
         "name": "_sqldf",
         "schema": {
          "fields": [
           {
            "metadata": {},
            "name": "col_name",
            "nullable": false,
            "type": "string"
           },
           {
            "metadata": {},
            "name": "data_type",
            "nullable": false,
            "type": "string"
           },
           {
            "metadata": {},
            "name": "comment",
            "nullable": true,
            "type": "string"
           }
          ],
          "type": "struct"
         },
         "tableIdentifier": null,
         "typeStr": "pyspark.sql.connect.dataframe.DataFrame"
        }
       ],
       "dbfsResultPath": null,
       "isJsonSchema": true,
       "metadata": {
        "createTempViewForImplicitDf": true,
        "dataframeName": "_sqldf",
        "executionCount": 18
       },
       "overflow": false,
       "plotOptions": {
        "customPlotOptions": {},
        "displayType": "table",
        "pivotAggregation": null,
        "pivotColumns": null,
        "xColumns": null,
        "yColumns": null
       },
       "removedWidgets": [],
       "schema": [
        {
         "metadata": "{}",
         "name": "col_name",
         "type": "\"string\""
        },
        {
         "metadata": "{}",
         "name": "data_type",
         "type": "\"string\""
        },
        {
         "metadata": "{}",
         "name": "comment",
         "type": "\"string\""
        }
       ],
       "type": "table"
      }
     },
     "output_type": "display_data"
    }
   ],
   "source": [
    "%sql\n",
    "desc extended gizmobox.bronze.refunds;"
   ]
  }
 ],
 "metadata": {
  "application/vnd.databricks.v1+notebook": {
   "computePreferences": null,
   "dashboards": [],
   "environmentMetadata": {
    "base_environment": "",
    "environment_version": "3"
   },
   "inputWidgetPreferences": null,
   "language": "python",
   "notebookMetadata": {
    "mostRecentlyExecutedCommandWithImplicitDF": {
     "commandId": 7248714508379990,
     "dataframes": [
      "_sqldf"
     ]
    },
    "pythonIndentUnit": 4
   },
   "notebookName": "6-SQL-table-visa-external",
   "widgets": {}
  },
  "language_info": {
   "name": "python"
  }
 },
 "nbformat": 4,
 "nbformat_minor": 0
}
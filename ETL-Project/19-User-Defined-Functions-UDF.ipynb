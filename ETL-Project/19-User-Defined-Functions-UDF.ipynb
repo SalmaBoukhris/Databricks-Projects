{
 "cells": [
  {
   "cell_type": "markdown",
   "metadata": {
    "application/vnd.databricks.v1+cell": {
     "cellMetadata": {},
     "inputWidgets": {},
     "nuid": "6f2d3e53-3d08-4fc8-8ae4-415bc6462cba",
     "showTitle": false,
     "tableResultSettingsMap": {},
     "title": ""
    }
   },
   "source": [
    "## User Defined Functions UDF"
   ]
  },
  {
   "cell_type": "code",
   "execution_count": 0,
   "metadata": {
    "application/vnd.databricks.v1+cell": {
     "cellMetadata": {
      "byteLimit": 2048000,
      "implicitDf": true,
      "rowLimit": 10000
     },
     "inputWidgets": {},
     "nuid": "c4936eb1-f581-4aee-8d7a-3f7df2286cc7",
     "showTitle": false,
     "tableResultSettingsMap": {},
     "title": ""
    }
   },
   "outputs": [],
   "source": [
    "%sql\n",
    "create or replace function gizmobox.default.get_fulname(firstname string, surname string) \n",
    "returns string \n",
    "return concat(initcap(firstname), ' ', initcap(surname));"
   ]
  },
  {
   "cell_type": "code",
   "execution_count": 0,
   "metadata": {
    "application/vnd.databricks.v1+cell": {
     "cellMetadata": {
      "byteLimit": 2048000,
      "implicitDf": true,
      "rowLimit": 10000
     },
     "inputWidgets": {},
     "nuid": "fe6985bc-41de-410c-9a84-4847ccab2174",
     "showTitle": false,
     "tableResultSettingsMap": {},
     "title": ""
    }
   },
   "outputs": [
    {
     "output_type": "display_data",
     "data": {
      "text/html": [
       "<style scoped>\n",
       "  .table-result-container {\n",
       "    max-height: 300px;\n",
       "    overflow: auto;\n",
       "  }\n",
       "  table, th, td {\n",
       "    border: 1px solid black;\n",
       "    border-collapse: collapse;\n",
       "  }\n",
       "  th, td {\n",
       "    padding: 5px;\n",
       "  }\n",
       "  th {\n",
       "    text-align: left;\n",
       "  }\n",
       "</style><div class='table-result-container'><table class='table-result'><thead style='background-color: white'><tr><th>fulname</th></tr></thead><tbody><tr><td>John Smith</td></tr></tbody></table></div>"
      ]
     },
     "metadata": {
      "application/vnd.databricks.v1+output": {
       "addedWidgets": {},
       "aggData": [],
       "aggError": "",
       "aggOverflow": false,
       "aggSchema": [],
       "aggSeriesLimitReached": false,
       "aggType": "",
       "arguments": {},
       "columnCustomDisplayInfos": {},
       "data": [
        [
         "John Smith"
        ]
       ],
       "datasetInfos": [
        {
         "name": "_sqldf",
         "schema": {
          "fields": [
           {
            "metadata": {},
            "name": "fulname",
            "nullable": false,
            "type": "string"
           }
          ],
          "type": "struct"
         },
         "tableIdentifier": null,
         "typeStr": "pyspark.sql.connect.dataframe.DataFrame"
        }
       ],
       "dbfsResultPath": null,
       "isJsonSchema": true,
       "metadata": {
        "createTempViewForImplicitDf": true,
        "dataframeName": "_sqldf",
        "executionCount": 5
       },
       "overflow": false,
       "plotOptions": {
        "customPlotOptions": {},
        "displayType": "table",
        "pivotAggregation": null,
        "pivotColumns": null,
        "xColumns": null,
        "yColumns": null
       },
       "removedWidgets": [],
       "schema": [
        {
         "metadata": "{}",
         "name": "fulname",
         "type": "\"string\""
        }
       ],
       "type": "table"
      }
     },
     "output_type": "display_data"
    }
   ],
   "source": [
    "%sql\n",
    "select gizmobox.default.get_fulname('john', 'smith') as fulname;"
   ]
  },
  {
   "cell_type": "code",
   "execution_count": 0,
   "metadata": {
    "application/vnd.databricks.v1+cell": {
     "cellMetadata": {
      "byteLimit": 2048000,
      "implicitDf": true,
      "rowLimit": 10000
     },
     "inputWidgets": {},
     "nuid": "683dfce2-8e05-408a-8c52-ec708f2c77c1",
     "showTitle": false,
     "tableResultSettingsMap": {},
     "title": ""
    }
   },
   "outputs": [
    {
     "output_type": "display_data",
     "data": {
      "text/html": [
       "<style scoped>\n",
       "  .table-result-container {\n",
       "    max-height: 300px;\n",
       "    overflow: auto;\n",
       "  }\n",
       "  table, th, td {\n",
       "    border: 1px solid black;\n",
       "    border-collapse: collapse;\n",
       "  }\n",
       "  th, td {\n",
       "    padding: 5px;\n",
       "  }\n",
       "  th {\n",
       "    text-align: left;\n",
       "  }\n",
       "</style><div class='table-result-container'><table class='table-result'><thead style='background-color: white'><tr><th>function_desc</th></tr></thead><tbody><tr><td>Function:      gizmobox.default.get_fulname</td></tr><tr><td>Type:          SCALAR</td></tr><tr><td>Input:         firstname STRING</td></tr><tr><td>               surname   STRING</td></tr><tr><td>Returns:       STRING</td></tr><tr><td>Collation:     UTF8_BINARY</td></tr><tr><td>Deterministic: true</td></tr><tr><td>Data Access:   CONTAINS SQL</td></tr><tr><td>Configs:       spark.connect.session.connectML.enabled=false</td></tr><tr><td>               spark.databricks.docingest.batchEval.size=8</td></tr><tr><td>               spark.databricks.docingest.client.v2.enabled=true</td></tr><tr><td>               spark.databricks.sql.expression.aiFunctions.repartition=0</td></tr><tr><td>               spark.databricks.sql.functions.aiForecast.enabled=false</td></tr><tr><td>               spark.databricks.sql.functions.aiFunctions.adaptiveThreadPool.clusterSizeBasedGlobalParallelism.scaleFactor=512.0</td></tr><tr><td>               spark.databricks.sql.functions.aiFunctions.adaptiveThreadPool.debugLogEnabled=true</td></tr><tr><td>               spark.databricks.sql.functions.aiFunctions.adaptiveThreadPool.dynamicPoolSizeEnabled=false</td></tr><tr><td>               spark.databricks.sql.functions.aiFunctions.adaptiveThreadPool.enabled=true</td></tr><tr><td>               spark.databricks.sql.functions.aiFunctions.adaptiveThreadPool.maxPoolSize=2048</td></tr><tr><td>               spark.databricks.sql.functions.aiFunctions.adaptiveThreadPool.scaleUpThresholdCurrentQpsIncreaseRatio=0.0</td></tr><tr><td>               spark.databricks.sql.functions.aiFunctions.adaptiveThreadPool.scaleUpThresholdSuccessRatio=0.95</td></tr><tr><td>               spark.databricks.sql.functions.aiFunctions.adaptiveThreadPool.scaleUpThresholdTotalQpsIncreaseRatio=0.0</td></tr><tr><td>               spark.databricks.sql.functions.aiFunctions.adaptiveThreadPool.taskWaitTimeInSeconds=1000</td></tr><tr><td>               spark.databricks.sql.functions.aiFunctions.adaptiveThreadPool.threadKeepAliveTimeInSeconds=600</td></tr><tr><td>               spark.databricks.sql.functions.aiFunctions.adaptiveThreadPool.useDynamicTaskQueueExecutor=false</td></tr><tr><td>               spark.databricks.sql.functions.aiFunctions.batch.aiQuery.embedding.request.size=40</td></tr><tr><td>               spark.databricks.sql.functions.aiFunctions.batch.execution.size=2048</td></tr><tr><td>               spark.databricks.sql.functions.aiFunctions.batchInferenceApi.enabled=true</td></tr><tr><td>               spark.databricks.sql.functions.aiFunctions.batchSession.enabled=true</td></tr><tr><td>               spark.databricks.sql.functions.aiFunctions.batchSession.terminate.enabled=true</td></tr><tr><td>               spark.databricks.sql.functions.aiFunctions.createBatchSessionOnExecutor=false</td></tr><tr><td>               spark.databricks.sql.functions.aiFunctions.decimal.dataType.enabled=true</td></tr><tr><td>               spark.databricks.sql.functions.aiFunctions.embeddingsEndpointName=databricks-gte-large-en</td></tr><tr><td>               spark.databricks.sql.functions.aiFunctions.extract.tileMetadata.enabled=true</td></tr><tr><td>               spark.databricks.sql.functions.aiFunctions.model.parameters.enabled=true</td></tr><tr><td>               spark.databricks.sql.functions.aiFunctions.modelEndpointTypeParsing.enabled=true</td></tr><tr><td>               spark.databricks.sql.functions.aiFunctions.purposeBuiltFunctions.batch.execution.enabled=true</td></tr><tr><td>               spark.databricks.sql.functions.aiFunctions.purposeBuiltFunctions.translate.instruction=### Instruction\n",
       "\n",
       "Translate the provided text to %s, and output only the translated text\n",
       "in the target language in this format: <DBSQLAI>translated text</DBSQLAI>.\n",
       "\n",
       "If the text is already in the target language, output the provided text.\n",
       "\n",
       "### Text\n",
       "\n",
       "%s</td></tr><tr><td>               spark.databricks.sql.functions.aiFunctions.remoteHttpClient.maxConnections=2048</td></tr><tr><td>               spark.databricks.sql.functions.aiFunctions.remoteHttpClient.timeoutInSeconds=360</td></tr><tr><td>               spark.databricks.sql.functions.aiFunctions.safe.inference.enabled=true</td></tr><tr><td>               spark.databricks.sql.functions.aiFunctions.useDedicatedHttpClient=true</td></tr><tr><td>               spark.databricks.sql.functions.aiFunctions.vectorSearch.initialRetryIntervalMillis=1000</td></tr><tr><td>               spark.databricks.sql.functions.aiFunctions.vectorSearch.maxRetryInterval=120000</td></tr><tr><td>               spark.databricks.sql.functions.aiFunctions.vectorSearch.retryIntervalMultiplierFactor=2.0</td></tr><tr><td>               spark.databricks.sql.functions.aiGen.endpointName=databricks-meta-llama-3-3-70b-instruct</td></tr><tr><td>               spark.databricks.sql.functions.aiQuery.openAI.oSeries.model.list=o1-mini,o1,o3-mini,o3,o4-mini,gpt-5,gpt-5-mini,gpt-5-nano</td></tr><tr><td>               spark.databricks.sql.functions.vectorSearch.enabled=true</td></tr><tr><td>               spark.databricks.sql.functions.vectorSearch.use.indexIdentifierOnly=true</td></tr><tr><td>               spark.sql.ansi.enabled=true</td></tr><tr><td>               spark.sql.artifact.isolation.enabled=true</td></tr><tr><td>               spark.sql.cte.recursion.enabled=true</td></tr><tr><td>               spark.sql.defaultStorage.useDefaultStorageForCreateCatalogWithoutLocation.enabled=true</td></tr><tr><td>               spark.sql.functions.remoteHttpClient.retryOn400TimeoutError=true</td></tr><tr><td>               spark.sql.hive.convertCTAS=true</td></tr><tr><td>               spark.sql.insertIntoReplaceUsing.disallowMisalignedColumns.enabled=true</td></tr><tr><td>               spark.sql.legacy.codingErrorAction=true</td></tr><tr><td>               spark.sql.legacy.createHiveTableByDefault=false</td></tr><tr><td>               spark.sql.orc.compression.codec=snappy</td></tr><tr><td>               spark.sql.parquet.compression.codec=snappy</td></tr><tr><td>               spark.sql.readSideCharPadding=true</td></tr><tr><td>               spark.sql.scripting.enabled=true</td></tr><tr><td>               spark.sql.shuffleDependency.skipMigration.enabled=true</td></tr><tr><td>               spark.sql.sources.commitProtocolClass=com.databricks.sql.transaction.directory.DirectoryAtomicCommitProtocol</td></tr><tr><td>               spark.sql.sources.default=delta</td></tr><tr><td>               spark.sql.stableDerivedColumnAlias.enabled=true</td></tr><tr><td>               spark.sql.streaming.stateStore.providerClass=com.databricks.sql.streaming.state.RocksDBStateStoreProvider</td></tr><tr><td>               spark.sql.streaming.statefulOperator.stateRebalancing.enabled=false</td></tr><tr><td>               spark.sql.streaming.stopTimeout=15s</td></tr><tr><td>               spark.sql.variable.substitute=false</td></tr><tr><td>Owner:         salmaboukhris.contact@gmail.com</td></tr><tr><td>Create Time:   Thu Sep 18 21:46:38 UTC 2025</td></tr><tr><td>Body:          concat(initcap(firstname), ' ', initcap(surname))</td></tr></tbody></table></div>"
      ]
     },
     "metadata": {
      "application/vnd.databricks.v1+output": {
       "addedWidgets": {},
       "aggData": [],
       "aggError": "",
       "aggOverflow": false,
       "aggSchema": [],
       "aggSeriesLimitReached": false,
       "aggType": "",
       "arguments": {},
       "columnCustomDisplayInfos": {},
       "data": [
        [
         "Function:      gizmobox.default.get_fulname"
        ],
        [
         "Type:          SCALAR"
        ],
        [
         "Input:         firstname STRING"
        ],
        [
         "               surname   STRING"
        ],
        [
         "Returns:       STRING"
        ],
        [
         "Collation:     UTF8_BINARY"
        ],
        [
         "Deterministic: true"
        ],
        [
         "Data Access:   CONTAINS SQL"
        ],
        [
         "Configs:       spark.connect.session.connectML.enabled=false"
        ],
        [
         "               spark.databricks.docingest.batchEval.size=8"
        ],
        [
         "               spark.databricks.docingest.client.v2.enabled=true"
        ],
        [
         "               spark.databricks.sql.expression.aiFunctions.repartition=0"
        ],
        [
         "               spark.databricks.sql.functions.aiForecast.enabled=false"
        ],
        [
         "               spark.databricks.sql.functions.aiFunctions.adaptiveThreadPool.clusterSizeBasedGlobalParallelism.scaleFactor=512.0"
        ],
        [
         "               spark.databricks.sql.functions.aiFunctions.adaptiveThreadPool.debugLogEnabled=true"
        ],
        [
         "               spark.databricks.sql.functions.aiFunctions.adaptiveThreadPool.dynamicPoolSizeEnabled=false"
        ],
        [
         "               spark.databricks.sql.functions.aiFunctions.adaptiveThreadPool.enabled=true"
        ],
        [
         "               spark.databricks.sql.functions.aiFunctions.adaptiveThreadPool.maxPoolSize=2048"
        ],
        [
         "               spark.databricks.sql.functions.aiFunctions.adaptiveThreadPool.scaleUpThresholdCurrentQpsIncreaseRatio=0.0"
        ],
        [
         "               spark.databricks.sql.functions.aiFunctions.adaptiveThreadPool.scaleUpThresholdSuccessRatio=0.95"
        ],
        [
         "               spark.databricks.sql.functions.aiFunctions.adaptiveThreadPool.scaleUpThresholdTotalQpsIncreaseRatio=0.0"
        ],
        [
         "               spark.databricks.sql.functions.aiFunctions.adaptiveThreadPool.taskWaitTimeInSeconds=1000"
        ],
        [
         "               spark.databricks.sql.functions.aiFunctions.adaptiveThreadPool.threadKeepAliveTimeInSeconds=600"
        ],
        [
         "               spark.databricks.sql.functions.aiFunctions.adaptiveThreadPool.useDynamicTaskQueueExecutor=false"
        ],
        [
         "               spark.databricks.sql.functions.aiFunctions.batch.aiQuery.embedding.request.size=40"
        ],
        [
         "               spark.databricks.sql.functions.aiFunctions.batch.execution.size=2048"
        ],
        [
         "               spark.databricks.sql.functions.aiFunctions.batchInferenceApi.enabled=true"
        ],
        [
         "               spark.databricks.sql.functions.aiFunctions.batchSession.enabled=true"
        ],
        [
         "               spark.databricks.sql.functions.aiFunctions.batchSession.terminate.enabled=true"
        ],
        [
         "               spark.databricks.sql.functions.aiFunctions.createBatchSessionOnExecutor=false"
        ],
        [
         "               spark.databricks.sql.functions.aiFunctions.decimal.dataType.enabled=true"
        ],
        [
         "               spark.databricks.sql.functions.aiFunctions.embeddingsEndpointName=databricks-gte-large-en"
        ],
        [
         "               spark.databricks.sql.functions.aiFunctions.extract.tileMetadata.enabled=true"
        ],
        [
         "               spark.databricks.sql.functions.aiFunctions.model.parameters.enabled=true"
        ],
        [
         "               spark.databricks.sql.functions.aiFunctions.modelEndpointTypeParsing.enabled=true"
        ],
        [
         "               spark.databricks.sql.functions.aiFunctions.purposeBuiltFunctions.batch.execution.enabled=true"
        ],
        [
         "               spark.databricks.sql.functions.aiFunctions.purposeBuiltFunctions.translate.instruction=### Instruction\n\nTranslate the provided text to %s, and output only the translated text\nin the target language in this format: <DBSQLAI>translated text</DBSQLAI>.\n\nIf the text is already in the target language, output the provided text.\n\n### Text\n\n%s"
        ],
        [
         "               spark.databricks.sql.functions.aiFunctions.remoteHttpClient.maxConnections=2048"
        ],
        [
         "               spark.databricks.sql.functions.aiFunctions.remoteHttpClient.timeoutInSeconds=360"
        ],
        [
         "               spark.databricks.sql.functions.aiFunctions.safe.inference.enabled=true"
        ],
        [
         "               spark.databricks.sql.functions.aiFunctions.useDedicatedHttpClient=true"
        ],
        [
         "               spark.databricks.sql.functions.aiFunctions.vectorSearch.initialRetryIntervalMillis=1000"
        ],
        [
         "               spark.databricks.sql.functions.aiFunctions.vectorSearch.maxRetryInterval=120000"
        ],
        [
         "               spark.databricks.sql.functions.aiFunctions.vectorSearch.retryIntervalMultiplierFactor=2.0"
        ],
        [
         "               spark.databricks.sql.functions.aiGen.endpointName=databricks-meta-llama-3-3-70b-instruct"
        ],
        [
         "               spark.databricks.sql.functions.aiQuery.openAI.oSeries.model.list=o1-mini,o1,o3-mini,o3,o4-mini,gpt-5,gpt-5-mini,gpt-5-nano"
        ],
        [
         "               spark.databricks.sql.functions.vectorSearch.enabled=true"
        ],
        [
         "               spark.databricks.sql.functions.vectorSearch.use.indexIdentifierOnly=true"
        ],
        [
         "               spark.sql.ansi.enabled=true"
        ],
        [
         "               spark.sql.artifact.isolation.enabled=true"
        ],
        [
         "               spark.sql.cte.recursion.enabled=true"
        ],
        [
         "               spark.sql.defaultStorage.useDefaultStorageForCreateCatalogWithoutLocation.enabled=true"
        ],
        [
         "               spark.sql.functions.remoteHttpClient.retryOn400TimeoutError=true"
        ],
        [
         "               spark.sql.hive.convertCTAS=true"
        ],
        [
         "               spark.sql.insertIntoReplaceUsing.disallowMisalignedColumns.enabled=true"
        ],
        [
         "               spark.sql.legacy.codingErrorAction=true"
        ],
        [
         "               spark.sql.legacy.createHiveTableByDefault=false"
        ],
        [
         "               spark.sql.orc.compression.codec=snappy"
        ],
        [
         "               spark.sql.parquet.compression.codec=snappy"
        ],
        [
         "               spark.sql.readSideCharPadding=true"
        ],
        [
         "               spark.sql.scripting.enabled=true"
        ],
        [
         "               spark.sql.shuffleDependency.skipMigration.enabled=true"
        ],
        [
         "               spark.sql.sources.commitProtocolClass=com.databricks.sql.transaction.directory.DirectoryAtomicCommitProtocol"
        ],
        [
         "               spark.sql.sources.default=delta"
        ],
        [
         "               spark.sql.stableDerivedColumnAlias.enabled=true"
        ],
        [
         "               spark.sql.streaming.stateStore.providerClass=com.databricks.sql.streaming.state.RocksDBStateStoreProvider"
        ],
        [
         "               spark.sql.streaming.statefulOperator.stateRebalancing.enabled=false"
        ],
        [
         "               spark.sql.streaming.stopTimeout=15s"
        ],
        [
         "               spark.sql.variable.substitute=false"
        ],
        [
         "Owner:         salmaboukhris.contact@gmail.com"
        ],
        [
         "Create Time:   Thu Sep 18 21:46:38 UTC 2025"
        ],
        [
         "Body:          concat(initcap(firstname), ' ', initcap(surname))"
        ]
       ],
       "datasetInfos": [
        {
         "name": "_sqldf",
         "schema": {
          "fields": [
           {
            "metadata": {},
            "name": "function_desc",
            "nullable": false,
            "type": "string"
           }
          ],
          "type": "struct"
         },
         "tableIdentifier": null,
         "typeStr": "pyspark.sql.connect.dataframe.DataFrame"
        }
       ],
       "dbfsResultPath": null,
       "isJsonSchema": true,
       "metadata": {
        "createTempViewForImplicitDf": true,
        "dataframeName": "_sqldf",
        "executionCount": 6
       },
       "overflow": false,
       "plotOptions": {
        "customPlotOptions": {},
        "displayType": "table",
        "pivotAggregation": null,
        "pivotColumns": null,
        "xColumns": null,
        "yColumns": null
       },
       "removedWidgets": [],
       "schema": [
        {
         "metadata": "{}",
         "name": "function_desc",
         "type": "\"string\""
        }
       ],
       "type": "table"
      }
     },
     "output_type": "display_data"
    }
   ],
   "source": [
    "%sql\n",
    "desc function extended gizmobox.default.get_fulname;"
   ]
  },
  {
   "cell_type": "code",
   "execution_count": 0,
   "metadata": {
    "application/vnd.databricks.v1+cell": {
     "cellMetadata": {
      "byteLimit": 2048000,
      "implicitDf": true,
      "rowLimit": 10000
     },
     "inputWidgets": {},
     "nuid": "21501d73-49bb-4b53-babe-630eb033ffc0",
     "showTitle": false,
     "tableResultSettingsMap": {},
     "title": ""
    }
   },
   "outputs": [],
   "source": [
    "%sql\n",
    "create or replace function gizmobox.default.get_payment_status(payment_status integer) \n",
    "returns string \n",
    "return  case payment_status\n",
    "         when 1 then 'Success'\n",
    "         when 2 then 'Failed'\n",
    "         when 3 then 'Cancelled'\n",
    "         when 4 then 'Unpaid'\n",
    "        end;"
   ]
  },
  {
   "cell_type": "code",
   "execution_count": 0,
   "metadata": {
    "application/vnd.databricks.v1+cell": {
     "cellMetadata": {
      "byteLimit": 2048000,
      "implicitDf": true,
      "rowLimit": 10000
     },
     "inputWidgets": {},
     "nuid": "ec9f9bea-32ee-4026-89c2-ff5efc7ee861",
     "showTitle": false,
     "tableResultSettingsMap": {},
     "title": ""
    }
   },
   "outputs": [
    {
     "output_type": "display_data",
     "data": {
      "text/html": [
       "<style scoped>\n",
       "  .table-result-container {\n",
       "    max-height: 300px;\n",
       "    overflow: auto;\n",
       "  }\n",
       "  table, th, td {\n",
       "    border: 1px solid black;\n",
       "    border-collapse: collapse;\n",
       "  }\n",
       "  th, td {\n",
       "    padding: 5px;\n",
       "  }\n",
       "  th {\n",
       "    text-align: left;\n",
       "  }\n",
       "</style><div class='table-result-container'><table class='table-result'><thead style='background-color: white'><tr><th>payment_id</th><th>order_id</th><th>payment_date</th><th>payment_time</th><th>payment_status</th><th>payment_method</th></tr></thead><tbody><tr><td>1</td><td>6</td><td>2024-10-30</td><td>04:47:27</td><td>Success</td><td>Credit Card</td></tr><tr><td>2</td><td>10</td><td>2024-10-09</td><td>22:09:27</td><td>Failed</td><td>Credit Card</td></tr><tr><td>3</td><td>11</td><td>2024-10-15</td><td>17:34:19</td><td>Unpaid</td><td>Bank Transfer</td></tr><tr><td>4</td><td>15</td><td>2024-10-22</td><td>01:47:25</td><td>Success</td><td>Bank Transfer</td></tr><tr><td>5</td><td>19</td><td>2024-10-15</td><td>12:40:26</td><td>Failed</td><td>PayPal</td></tr><tr><td>6</td><td>39</td><td>2024-10-31</td><td>21:39:19</td><td>Unpaid</td><td>PayPal</td></tr><tr><td>7</td><td>55</td><td>2024-10-27</td><td>05:49:16</td><td>Success</td><td>Bank Transfer</td></tr><tr><td>8</td><td>59</td><td>2024-10-25</td><td>02:51:05</td><td>Failed</td><td>PayPal</td></tr><tr><td>9</td><td>72</td><td>2024-10-08</td><td>10:23:28</td><td>Cancelled</td><td>PayPal</td></tr><tr><td>10</td><td>77</td><td>2024-10-17</td><td>13:09:33</td><td>Success</td><td>Credit Card</td></tr><tr><td>11</td><td>84</td><td>2024-10-27</td><td>03:37:42</td><td>Success</td><td>PayPal</td></tr><tr><td>12</td><td>85</td><td>2024-10-25</td><td>20:06:42</td><td>Unpaid</td><td>Bank Transfer</td></tr><tr><td>13</td><td>86</td><td>2024-10-21</td><td>13:30:47</td><td>Success</td><td>PayPal</td></tr><tr><td>14</td><td>5</td><td>2024-11-16</td><td>23:07:31</td><td>Success</td><td>Bank Transfer</td></tr><tr><td>15</td><td>7</td><td>2024-11-19</td><td>19:18:48</td><td>Failed</td><td>Credit Card</td></tr><tr><td>16</td><td>9</td><td>2024-11-27</td><td>13:15:29</td><td>Unpaid</td><td>Bank Transfer</td></tr><tr><td>17</td><td>20</td><td>2024-11-18</td><td>02:38:21</td><td>Success</td><td>PayPal</td></tr><tr><td>18</td><td>21</td><td>2024-11-21</td><td>11:25:35</td><td>Success</td><td>Bank Transfer</td></tr><tr><td>19</td><td>23</td><td>2024-11-22</td><td>16:04:05</td><td>Success</td><td>PayPal</td></tr><tr><td>20</td><td>25</td><td>2024-11-05</td><td>11:45:31</td><td>Failed</td><td>PayPal</td></tr><tr><td>21</td><td>30</td><td>2024-11-12</td><td>03:20:29</td><td>Success</td><td>Bank Transfer</td></tr><tr><td>22</td><td>35</td><td>2024-11-20</td><td>19:09:04</td><td>Unpaid</td><td>Bank Transfer</td></tr><tr><td>23</td><td>36</td><td>2024-11-02</td><td>10:39:46</td><td>Success</td><td>PayPal</td></tr><tr><td>24</td><td>38</td><td>2024-11-15</td><td>15:12:23</td><td>Success</td><td>Credit Card</td></tr><tr><td>25</td><td>42</td><td>2024-11-26</td><td>09:40:55</td><td>Failed</td><td>PayPal</td></tr><tr><td>26</td><td>47</td><td>2024-11-28</td><td>12:18:39</td><td>Unpaid</td><td>Bank Transfer</td></tr><tr><td>27</td><td>52</td><td>2024-11-17</td><td>07:45:14</td><td>Success</td><td>PayPal</td></tr><tr><td>28</td><td>56</td><td>2024-11-23</td><td>14:03:20</td><td>Success</td><td>Credit Card</td></tr><tr><td>29</td><td>59</td><td>2024-11-19</td><td>18:22:33</td><td>Failed</td><td>PayPal</td></tr><tr><td>30</td><td>63</td><td>2024-11-20</td><td>20:40:09</td><td>Success</td><td>Bank Transfer</td></tr><tr><td>31</td><td>67</td><td>2024-11-13</td><td>16:50:26</td><td>Unpaid</td><td>Credit Card</td></tr><tr><td>32</td><td>71</td><td>2024-11-18</td><td>11:09:18</td><td>Success</td><td>PayPal</td></tr><tr><td>33</td><td>74</td><td>2024-11-12</td><td>08:05:46</td><td>Failed</td><td>Bank Transfer</td></tr><tr><td>34</td><td>12</td><td>2024-12-06</td><td>22:30:12</td><td>Success</td><td>PayPal</td></tr><tr><td>35</td><td>13</td><td>2024-12-17</td><td>05:25:34</td><td>Failed</td><td>PayPal</td></tr><tr><td>36</td><td>16</td><td>2024-12-09</td><td>10:45:56</td><td>Unpaid</td><td>Bank Transfer</td></tr><tr><td>37</td><td>17</td><td>2024-12-02</td><td>13:50:20</td><td>Success</td><td>Bank Transfer</td></tr><tr><td>38</td><td>24</td><td>2024-12-22</td><td>08:30:55</td><td>Success</td><td>PayPal</td></tr><tr><td>39</td><td>27</td><td>2024-12-03</td><td>11:45:30</td><td>Failed</td><td>Credit Card</td></tr><tr><td>40</td><td>28</td><td>2024-12-27</td><td>05:40:10</td><td>Unpaid</td><td>Credit Card</td></tr><tr><td>41</td><td>32</td><td>2024-12-29</td><td>09:20:40</td><td>Success</td><td>PayPal</td></tr><tr><td>42</td><td>37</td><td>2024-12-23</td><td>12:10:05</td><td>Failed</td><td>Credit Card</td></tr><tr><td>43</td><td>38</td><td>2024-12-26</td><td>20:15:15</td><td>Success</td><td>Credit Card</td></tr><tr><td>44</td><td>44</td><td>2024-12-21</td><td>14:25:45</td><td>Success</td><td>Credit Card</td></tr><tr><td>45</td><td>49</td><td>2024-12-08</td><td>16:40:35</td><td>Unpaid</td><td>PayPal</td></tr><tr><td>46</td><td>54</td><td>2024-12-21</td><td>13:10:25</td><td>Failed</td><td>Credit Card</td></tr><tr><td>47</td><td>58</td><td>2024-12-10</td><td>11:50:20</td><td>Success</td><td>PayPal</td></tr><tr><td>48</td><td>60</td><td>2024-12-14</td><td>18:30:15</td><td>Success</td><td>Bank Transfer</td></tr><tr><td>49</td><td>61</td><td>2024-12-08</td><td>14:45:50</td><td>Failed</td><td>Bank Transfer</td></tr><tr><td>50</td><td>65</td><td>2024-12-10</td><td>12:35:05</td><td>Unpaid</td><td>Bank Transfer</td></tr><tr><td>51</td><td>67</td><td>2024-12-20</td><td>09:40:25</td><td>Success</td><td>PayPal</td></tr><tr><td>52</td><td>69</td><td>2024-12-31</td><td>10:15:50</td><td>Success</td><td>Bank Transfer</td></tr><tr><td>53</td><td>70</td><td>2024-12-05</td><td>13:50:35</td><td>Failed</td><td>PayPal</td></tr><tr><td>54</td><td>71</td><td>2024-12-28</td><td>11:05:40</td><td>Success</td><td>Bank Transfer</td></tr><tr><td>55</td><td>74</td><td>2024-12-23</td><td>14:25:25</td><td>Success</td><td>PayPal</td></tr><tr><td>56</td><td>80</td><td>2024-12-12</td><td>08:30:55</td><td>Unpaid</td><td>Bank Transfer</td></tr><tr><td>57</td><td>81</td><td>2024-12-28</td><td>16:45:30</td><td>Success</td><td>PayPal</td></tr><tr><td>58</td><td>82</td><td>2024-12-29</td><td>18:50:10</td><td>Failed</td><td>PayPal</td></tr><tr><td>59</td><td>91</td><td>2024-12-18</td><td>19:20:40</td><td>Unpaid</td><td>Bank Transfer</td></tr><tr><td>60</td><td>93</td><td>2024-12-23</td><td>11:10:05</td><td>Success</td><td>PayPal</td></tr><tr><td>61</td><td>95</td><td>2024-12-29</td><td>13:15:15</td><td>Failed</td><td>Bank Transfer</td></tr><tr><td>62</td><td>96</td><td>2024-12-03</td><td>15:25:45</td><td>Success</td><td>PayPal</td></tr><tr><td>63</td><td>97</td><td>2024-12-08</td><td>12:10:35</td><td>Unpaid</td><td>Bank Transfer</td></tr><tr><td>64</td><td>1</td><td>2025-01-05</td><td>13:13:59</td><td>Success</td><td>Bank Transfer</td></tr><tr><td>65</td><td>2</td><td>2025-01-19</td><td>05:05:13</td><td>Failed</td><td>PayPal</td></tr><tr><td>66</td><td>3</td><td>2025-01-08</td><td>23:45:00</td><td>Unpaid</td><td>Bank Transfer</td></tr><tr><td>67</td><td>4</td><td>2025-01-05</td><td>10:49:26</td><td>Success</td><td>Bank Transfer</td></tr><tr><td>68</td><td>8</td><td>2025-01-02</td><td>16:11:15</td><td>Failed</td><td>PayPal</td></tr><tr><td>69</td><td>14</td><td>2025-01-01</td><td>22:22:26</td><td>Unpaid</td><td>PayPal</td></tr><tr><td>70</td><td>18</td><td>2025-01-22</td><td>23:12:08</td><td>Success</td><td>Credit Card</td></tr><tr><td>71</td><td>22</td><td>2025-01-01</td><td>18:49:19</td><td>Success</td><td>PayPal</td></tr><tr><td>72</td><td>26</td><td>2025-01-05</td><td>22:01:25</td><td>Failed</td><td>Bank Transfer</td></tr><tr><td>73</td><td>29</td><td>2025-01-18</td><td>05:05:04</td><td>Unpaid</td><td>Bank Transfer</td></tr><tr><td>74</td><td>34</td><td>2025-01-12</td><td>11:30:15</td><td>Success</td><td>Credit Card</td></tr><tr><td>75</td><td>36</td><td>2025-01-16</td><td>23:15:43</td><td>Failed</td><td>PayPal</td></tr><tr><td>76</td><td>40</td><td>2025-01-08</td><td>13:22:51</td><td>Unpaid</td><td>Bank Transfer</td></tr><tr><td>77</td><td>45</td><td>2025-01-03</td><td>15:10:25</td><td>Success</td><td>PayPal</td></tr><tr><td>78</td><td>47</td><td>2025-01-11</td><td>20:20:20</td><td>Success</td><td>Bank Transfer</td></tr><tr><td>79</td><td>50</td><td>2025-01-17</td><td>12:30:00</td><td>Failed</td><td>Bank Transfer</td></tr><tr><td>80</td><td>53</td><td>2025-01-15</td><td>07:40:19</td><td>Unpaid</td><td>Credit Card</td></tr><tr><td>81</td><td>58</td><td>2025-01-04</td><td>18:49:33</td><td>Success</td><td>PayPal</td></tr><tr><td>82</td><td>60</td><td>2025-01-20</td><td>14:10:25</td><td>Failed</td><td>Bank Transfer</td></tr><tr><td>83</td><td>65</td><td>2025-01-06</td><td>20:30:10</td><td>Unpaid</td><td>PayPal</td></tr><tr><td>84</td><td>67</td><td>2025-01-14</td><td>16:00:00</td><td>Success</td><td>Bank Transfer</td></tr><tr><td>85</td><td>71</td><td>2025-01-07</td><td>19:15:15</td><td>Failed</td><td>Credit Card</td></tr><tr><td>86</td><td>75</td><td>2025-01-21</td><td>12:50:30</td><td>Success</td><td>PayPal</td></tr><tr><td>87</td><td>80</td><td>2025-01-19</td><td>09:40:40</td><td>Unpaid</td><td>PayPal</td></tr><tr><td>88</td><td>82</td><td>2025-01-10</td><td>08:20:00</td><td>Success</td><td>Credit Card</td></tr><tr><td>89</td><td>85</td><td>2025-01-16</td><td>15:50:45</td><td>Failed</td><td>Bank Transfer</td></tr><tr><td>90</td><td>90</td><td>2025-01-22</td><td>21:00:15</td><td>Success</td><td>Bank Transfer</td></tr><tr><td>91</td><td>92</td><td>2025-01-03</td><td>16:20:25</td><td>Unpaid</td><td>PayPal</td></tr></tbody></table></div>"
      ]
     },
     "metadata": {
      "application/vnd.databricks.v1+output": {
       "addedWidgets": {},
       "aggData": [],
       "aggError": "",
       "aggOverflow": false,
       "aggSchema": [],
       "aggSeriesLimitReached": false,
       "aggType": "",
       "arguments": {},
       "columnCustomDisplayInfos": {},
       "data": [
        [
         1,
         6,
         "2024-10-30",
         "04:47:27",
         "Success",
         "Credit Card"
        ],
        [
         2,
         10,
         "2024-10-09",
         "22:09:27",
         "Failed",
         "Credit Card"
        ],
        [
         3,
         11,
         "2024-10-15",
         "17:34:19",
         "Unpaid",
         "Bank Transfer"
        ],
        [
         4,
         15,
         "2024-10-22",
         "01:47:25",
         "Success",
         "Bank Transfer"
        ],
        [
         5,
         19,
         "2024-10-15",
         "12:40:26",
         "Failed",
         "PayPal"
        ],
        [
         6,
         39,
         "2024-10-31",
         "21:39:19",
         "Unpaid",
         "PayPal"
        ],
        [
         7,
         55,
         "2024-10-27",
         "05:49:16",
         "Success",
         "Bank Transfer"
        ],
        [
         8,
         59,
         "2024-10-25",
         "02:51:05",
         "Failed",
         "PayPal"
        ],
        [
         9,
         72,
         "2024-10-08",
         "10:23:28",
         "Cancelled",
         "PayPal"
        ],
        [
         10,
         77,
         "2024-10-17",
         "13:09:33",
         "Success",
         "Credit Card"
        ],
        [
         11,
         84,
         "2024-10-27",
         "03:37:42",
         "Success",
         "PayPal"
        ],
        [
         12,
         85,
         "2024-10-25",
         "20:06:42",
         "Unpaid",
         "Bank Transfer"
        ],
        [
         13,
         86,
         "2024-10-21",
         "13:30:47",
         "Success",
         "PayPal"
        ],
        [
         14,
         5,
         "2024-11-16",
         "23:07:31",
         "Success",
         "Bank Transfer"
        ],
        [
         15,
         7,
         "2024-11-19",
         "19:18:48",
         "Failed",
         "Credit Card"
        ],
        [
         16,
         9,
         "2024-11-27",
         "13:15:29",
         "Unpaid",
         "Bank Transfer"
        ],
        [
         17,
         20,
         "2024-11-18",
         "02:38:21",
         "Success",
         "PayPal"
        ],
        [
         18,
         21,
         "2024-11-21",
         "11:25:35",
         "Success",
         "Bank Transfer"
        ],
        [
         19,
         23,
         "2024-11-22",
         "16:04:05",
         "Success",
         "PayPal"
        ],
        [
         20,
         25,
         "2024-11-05",
         "11:45:31",
         "Failed",
         "PayPal"
        ],
        [
         21,
         30,
         "2024-11-12",
         "03:20:29",
         "Success",
         "Bank Transfer"
        ],
        [
         22,
         35,
         "2024-11-20",
         "19:09:04",
         "Unpaid",
         "Bank Transfer"
        ],
        [
         23,
         36,
         "2024-11-02",
         "10:39:46",
         "Success",
         "PayPal"
        ],
        [
         24,
         38,
         "2024-11-15",
         "15:12:23",
         "Success",
         "Credit Card"
        ],
        [
         25,
         42,
         "2024-11-26",
         "09:40:55",
         "Failed",
         "PayPal"
        ],
        [
         26,
         47,
         "2024-11-28",
         "12:18:39",
         "Unpaid",
         "Bank Transfer"
        ],
        [
         27,
         52,
         "2024-11-17",
         "07:45:14",
         "Success",
         "PayPal"
        ],
        [
         28,
         56,
         "2024-11-23",
         "14:03:20",
         "Success",
         "Credit Card"
        ],
        [
         29,
         59,
         "2024-11-19",
         "18:22:33",
         "Failed",
         "PayPal"
        ],
        [
         30,
         63,
         "2024-11-20",
         "20:40:09",
         "Success",
         "Bank Transfer"
        ],
        [
         31,
         67,
         "2024-11-13",
         "16:50:26",
         "Unpaid",
         "Credit Card"
        ],
        [
         32,
         71,
         "2024-11-18",
         "11:09:18",
         "Success",
         "PayPal"
        ],
        [
         33,
         74,
         "2024-11-12",
         "08:05:46",
         "Failed",
         "Bank Transfer"
        ],
        [
         34,
         12,
         "2024-12-06",
         "22:30:12",
         "Success",
         "PayPal"
        ],
        [
         35,
         13,
         "2024-12-17",
         "05:25:34",
         "Failed",
         "PayPal"
        ],
        [
         36,
         16,
         "2024-12-09",
         "10:45:56",
         "Unpaid",
         "Bank Transfer"
        ],
        [
         37,
         17,
         "2024-12-02",
         "13:50:20",
         "Success",
         "Bank Transfer"
        ],
        [
         38,
         24,
         "2024-12-22",
         "08:30:55",
         "Success",
         "PayPal"
        ],
        [
         39,
         27,
         "2024-12-03",
         "11:45:30",
         "Failed",
         "Credit Card"
        ],
        [
         40,
         28,
         "2024-12-27",
         "05:40:10",
         "Unpaid",
         "Credit Card"
        ],
        [
         41,
         32,
         "2024-12-29",
         "09:20:40",
         "Success",
         "PayPal"
        ],
        [
         42,
         37,
         "2024-12-23",
         "12:10:05",
         "Failed",
         "Credit Card"
        ],
        [
         43,
         38,
         "2024-12-26",
         "20:15:15",
         "Success",
         "Credit Card"
        ],
        [
         44,
         44,
         "2024-12-21",
         "14:25:45",
         "Success",
         "Credit Card"
        ],
        [
         45,
         49,
         "2024-12-08",
         "16:40:35",
         "Unpaid",
         "PayPal"
        ],
        [
         46,
         54,
         "2024-12-21",
         "13:10:25",
         "Failed",
         "Credit Card"
        ],
        [
         47,
         58,
         "2024-12-10",
         "11:50:20",
         "Success",
         "PayPal"
        ],
        [
         48,
         60,
         "2024-12-14",
         "18:30:15",
         "Success",
         "Bank Transfer"
        ],
        [
         49,
         61,
         "2024-12-08",
         "14:45:50",
         "Failed",
         "Bank Transfer"
        ],
        [
         50,
         65,
         "2024-12-10",
         "12:35:05",
         "Unpaid",
         "Bank Transfer"
        ],
        [
         51,
         67,
         "2024-12-20",
         "09:40:25",
         "Success",
         "PayPal"
        ],
        [
         52,
         69,
         "2024-12-31",
         "10:15:50",
         "Success",
         "Bank Transfer"
        ],
        [
         53,
         70,
         "2024-12-05",
         "13:50:35",
         "Failed",
         "PayPal"
        ],
        [
         54,
         71,
         "2024-12-28",
         "11:05:40",
         "Success",
         "Bank Transfer"
        ],
        [
         55,
         74,
         "2024-12-23",
         "14:25:25",
         "Success",
         "PayPal"
        ],
        [
         56,
         80,
         "2024-12-12",
         "08:30:55",
         "Unpaid",
         "Bank Transfer"
        ],
        [
         57,
         81,
         "2024-12-28",
         "16:45:30",
         "Success",
         "PayPal"
        ],
        [
         58,
         82,
         "2024-12-29",
         "18:50:10",
         "Failed",
         "PayPal"
        ],
        [
         59,
         91,
         "2024-12-18",
         "19:20:40",
         "Unpaid",
         "Bank Transfer"
        ],
        [
         60,
         93,
         "2024-12-23",
         "11:10:05",
         "Success",
         "PayPal"
        ],
        [
         61,
         95,
         "2024-12-29",
         "13:15:15",
         "Failed",
         "Bank Transfer"
        ],
        [
         62,
         96,
         "2024-12-03",
         "15:25:45",
         "Success",
         "PayPal"
        ],
        [
         63,
         97,
         "2024-12-08",
         "12:10:35",
         "Unpaid",
         "Bank Transfer"
        ],
        [
         64,
         1,
         "2025-01-05",
         "13:13:59",
         "Success",
         "Bank Transfer"
        ],
        [
         65,
         2,
         "2025-01-19",
         "05:05:13",
         "Failed",
         "PayPal"
        ],
        [
         66,
         3,
         "2025-01-08",
         "23:45:00",
         "Unpaid",
         "Bank Transfer"
        ],
        [
         67,
         4,
         "2025-01-05",
         "10:49:26",
         "Success",
         "Bank Transfer"
        ],
        [
         68,
         8,
         "2025-01-02",
         "16:11:15",
         "Failed",
         "PayPal"
        ],
        [
         69,
         14,
         "2025-01-01",
         "22:22:26",
         "Unpaid",
         "PayPal"
        ],
        [
         70,
         18,
         "2025-01-22",
         "23:12:08",
         "Success",
         "Credit Card"
        ],
        [
         71,
         22,
         "2025-01-01",
         "18:49:19",
         "Success",
         "PayPal"
        ],
        [
         72,
         26,
         "2025-01-05",
         "22:01:25",
         "Failed",
         "Bank Transfer"
        ],
        [
         73,
         29,
         "2025-01-18",
         "05:05:04",
         "Unpaid",
         "Bank Transfer"
        ],
        [
         74,
         34,
         "2025-01-12",
         "11:30:15",
         "Success",
         "Credit Card"
        ],
        [
         75,
         36,
         "2025-01-16",
         "23:15:43",
         "Failed",
         "PayPal"
        ],
        [
         76,
         40,
         "2025-01-08",
         "13:22:51",
         "Unpaid",
         "Bank Transfer"
        ],
        [
         77,
         45,
         "2025-01-03",
         "15:10:25",
         "Success",
         "PayPal"
        ],
        [
         78,
         47,
         "2025-01-11",
         "20:20:20",
         "Success",
         "Bank Transfer"
        ],
        [
         79,
         50,
         "2025-01-17",
         "12:30:00",
         "Failed",
         "Bank Transfer"
        ],
        [
         80,
         53,
         "2025-01-15",
         "07:40:19",
         "Unpaid",
         "Credit Card"
        ],
        [
         81,
         58,
         "2025-01-04",
         "18:49:33",
         "Success",
         "PayPal"
        ],
        [
         82,
         60,
         "2025-01-20",
         "14:10:25",
         "Failed",
         "Bank Transfer"
        ],
        [
         83,
         65,
         "2025-01-06",
         "20:30:10",
         "Unpaid",
         "PayPal"
        ],
        [
         84,
         67,
         "2025-01-14",
         "16:00:00",
         "Success",
         "Bank Transfer"
        ],
        [
         85,
         71,
         "2025-01-07",
         "19:15:15",
         "Failed",
         "Credit Card"
        ],
        [
         86,
         75,
         "2025-01-21",
         "12:50:30",
         "Success",
         "PayPal"
        ],
        [
         87,
         80,
         "2025-01-19",
         "09:40:40",
         "Unpaid",
         "PayPal"
        ],
        [
         88,
         82,
         "2025-01-10",
         "08:20:00",
         "Success",
         "Credit Card"
        ],
        [
         89,
         85,
         "2025-01-16",
         "15:50:45",
         "Failed",
         "Bank Transfer"
        ],
        [
         90,
         90,
         "2025-01-22",
         "21:00:15",
         "Success",
         "Bank Transfer"
        ],
        [
         91,
         92,
         "2025-01-03",
         "16:20:25",
         "Unpaid",
         "PayPal"
        ]
       ],
       "datasetInfos": [
        {
         "name": "_sqldf",
         "schema": {
          "fields": [
           {
            "metadata": {},
            "name": "payment_id",
            "nullable": true,
            "type": "integer"
           },
           {
            "metadata": {},
            "name": "order_id",
            "nullable": true,
            "type": "integer"
           },
           {
            "metadata": {},
            "name": "payment_date",
            "nullable": true,
            "type": "date"
           },
           {
            "metadata": {},
            "name": "payment_time",
            "nullable": true,
            "type": "string"
           },
           {
            "metadata": {},
            "name": "payment_status",
            "nullable": true,
            "type": "string"
           },
           {
            "metadata": {},
            "name": "payment_method",
            "nullable": true,
            "type": "string"
           }
          ],
          "type": "struct"
         },
         "tableIdentifier": null,
         "typeStr": "pyspark.sql.connect.dataframe.DataFrame"
        }
       ],
       "dbfsResultPath": null,
       "isJsonSchema": true,
       "metadata": {
        "createTempViewForImplicitDf": true,
        "dataframeName": "_sqldf",
        "executionCount": 15
       },
       "overflow": false,
       "plotOptions": {
        "customPlotOptions": {},
        "displayType": "table",
        "pivotAggregation": null,
        "pivotColumns": null,
        "xColumns": null,
        "yColumns": null
       },
       "removedWidgets": [],
       "schema": [
        {
         "metadata": "{}",
         "name": "payment_id",
         "type": "\"integer\""
        },
        {
         "metadata": "{}",
         "name": "order_id",
         "type": "\"integer\""
        },
        {
         "metadata": "{}",
         "name": "payment_date",
         "type": "\"date\""
        },
        {
         "metadata": "{}",
         "name": "payment_time",
         "type": "\"string\""
        },
        {
         "metadata": "{}",
         "name": "payment_status",
         "type": "\"string\""
        },
        {
         "metadata": "{}",
         "name": "payment_method",
         "type": "\"string\""
        }
       ],
       "type": "table"
      }
     },
     "output_type": "display_data"
    }
   ],
   "source": [
    "%sql\n",
    "select  payment_id,\n",
    "        order_id,\n",
    "        cast(date_format(payment_timestamp, 'yyyy-MM-dd')as date)  as  payment_date, \n",
    "        date_format(payment_timestamp, 'HH:mm:ss') as payment_time, \n",
    "        gizmobox.default.get_payment_status(payment_status) as payment_status,\n",
    "        payment_method\n",
    "  From gizmobox.bronze.payments;"
   ]
  }
 ],
 "metadata": {
  "application/vnd.databricks.v1+notebook": {
   "computePreferences": null,
   "dashboards": [],
   "environmentMetadata": {
    "base_environment": "",
    "environment_version": "3"
   },
   "inputWidgetPreferences": null,
   "language": "python",
   "notebookMetadata": {
    "mostRecentlyExecutedCommandWithImplicitDF": {
     "commandId": 8159824786914086,
     "dataframes": [
      "_sqldf"
     ]
    },
    "pythonIndentUnit": 4
   },
   "notebookName": "19-User-Defined-Functions-UDF",
   "widgets": {}
  },
  "language_info": {
   "name": "python"
  }
 },
 "nbformat": 4,
 "nbformat_minor": 0
}
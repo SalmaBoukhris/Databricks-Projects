{
 "cells": [
  {
   "cell_type": "markdown",
   "metadata": {
    "application/vnd.databricks.v1+cell": {
     "cellMetadata": {},
     "inputWidgets": {},
     "nuid": "5eacea4c-f64c-4fdd-9a48-06841d936985",
     "showTitle": false,
     "tableResultSettingsMap": {},
     "title": ""
    }
   },
   "source": [
    "#### 1-Demeonstrate limitations of CSV file format in SELECT statement"
   ]
  },
  {
   "cell_type": "code",
   "execution_count": 0,
   "metadata": {
    "application/vnd.databricks.v1+cell": {
     "cellMetadata": {
      "byteLimit": 2048000,
      "implicitDf": true,
      "rowLimit": 10000
     },
     "inputWidgets": {},
     "nuid": "a6e13499-ce04-456f-87bb-c9447d3323a8",
     "showTitle": false,
     "tableResultSettingsMap": {},
     "title": ""
    }
   },
   "outputs": [
    {
     "output_type": "display_data",
     "data": {
      "text/html": [
       "<style scoped>\n",
       "  .table-result-container {\n",
       "    max-height: 300px;\n",
       "    overflow: auto;\n",
       "  }\n",
       "  table, th, td {\n",
       "    border: 1px solid black;\n",
       "    border-collapse: collapse;\n",
       "  }\n",
       "  th, td {\n",
       "    padding: 5px;\n",
       "  }\n",
       "  th {\n",
       "    text-align: left;\n",
       "  }\n",
       "</style><div class='table-result-container'><table class='table-result'><thead style='background-color: white'><tr><th>_c0</th></tr></thead><tbody><tr><td>customer_id\taddress_type\taddress_line_1\tcity\tstate\tpostcode</td></tr><tr><td>9179\tshipping\t9713 Medina Mountains Apt. 813\tLake Erika\tMississippi\t91945</td></tr><tr><td>9179\tbilling\t084 Anne Hollow Apt. 064\tEast Jasontown\tMinnesota\t77329</td></tr><tr><td>5816\tshipping\t8400 Rebecca Lodge Suite 011\tLake Lisatown\tMontana\t11354</td></tr><tr><td>5816\tbilling\t869 Linda Locks Apt. 105\tWest Melissabury\tMichigan\t37662</td></tr><tr><td>4858\tshipping\t4838 Jacob Neck\tJamesview\tWisconsin\t58657</td></tr><tr><td>4858\tbilling\t4558 Cabrera Islands\tLake David\tRhode Island\t06133</td></tr><tr><td>7207\tshipping\t75470 Richardson Mission Apt. 147\tNew Rachelhaven\tHawaii\t38857</td></tr><tr><td>7207\tbilling\t4450 Michelle Mission Suite 663\tNorth Justin\tKentucky\t91757</td></tr><tr><td>8539\tshipping\t331 Monica Route Apt. 022\tMichellechester\tTexas\t14637</td></tr><tr><td>8539\tbilling\t48794 Aguirre Ferry Apt. 952\tNorth Amy\tWashington\t92507</td></tr><tr><td>9706\tshipping\t2856 Jeremy Wall Apt. 985\tEast Elizabeth\tOklahoma\t66460</td></tr><tr><td>9706\tbilling\t14540 Moody Tunnel\tWest Shellybury\tKentucky\t83151</td></tr><tr><td>9263\tshipping\t5733 Richards Ferry Suite 995\tEast Angelafort\tIndiana\t79556</td></tr><tr><td>9263\tbilling\t13677 Garcia Ports\tShelleyland\tRhode Island\t03719</td></tr><tr><td>5028\tshipping\t955 Montgomery Mountain Suite 167\tJameschester\tKentucky\t09013</td></tr><tr><td>5028\tbilling\t5094 Ayala Falls\tGreenmouth\tNorth Carolina\t02638</td></tr><tr><td>9018\tshipping\t2099 Francisco Spring\tBeanshire\tSouth Carolina\t87684</td></tr><tr><td>9018\tbilling\t207 Tracy Gateway\tCookberg\tDelaware\t14011</td></tr><tr><td>8580\tshipping\t17549 Lisa Mission Suite 987\tVasquezstad\tVirginia\t40641</td></tr><tr><td>8580\tbilling\t6150 Jessica Park\tBellmouth\tPennsylvania\t82370</td></tr><tr><td>3409\tshipping\t918 April Junctions\tNew Theresa\tIndiana\t46004</td></tr><tr><td>3409\tbilling\t1294 Edward Inlet\tNorth Alison\tIndiana\t82752</td></tr><tr><td>3889\tshipping\t90408 Connie Pines Suite 258\tCatherinehaven\tTexas\t33736</td></tr><tr><td>3889\tbilling\t7908 Walker Track\tNorth Jose\tVirginia\t84099</td></tr><tr><td>9084\tshipping\t411 Joseph Park\tEricside\tSouth Dakota\t45339</td></tr><tr><td>9084\tbilling\t649 Jessica Parks\tNorth Tommyland\tIllinois\t88048</td></tr><tr><td>2344\tshipping\t97619 Sanchez Prairie Suite 359\tKelleyfurt\tLouisiana\t64906</td></tr><tr><td>2344\tbilling\t5008 Corey Landing Apt. 475\tSouth Christinaburgh\tNew Mexico\t03650</td></tr><tr><td>5011\tshipping\t828 Michele Spring\tDuffyshire\tTennessee\t93025</td></tr><tr><td>5011\tbilling\t8066 Smith Ports\tPort Cheryl\tFlorida\t97952</td></tr><tr><td>9247\tshipping\t196 Thomas Shore Apt. 768\tBobbymouth\tLouisiana\t91533</td></tr><tr><td>9247\tbilling\t0034 Fleming Hollow Suite 295\tWadefurt\tMontana\t34460</td></tr><tr><td>6627\tshipping\t76810 Mcintosh Forge Suite 885\tGregoryport\tSouth Dakota\t41885</td></tr><tr><td>6627\tbilling\t35855 Haas Centers Apt. 931\tWest Andreaville\tVirginia\t82397</td></tr><tr><td>customer_id\taddress_type\taddress_line_1\tcity\tstate\tpostcode</td></tr><tr><td>3892\tshipping\t5001 Castro Creek\tWatsonberg\tSouth Dakota\t03805</td></tr><tr><td>3892\tbilling\t322 Dan Lock\tTerriport\tMissouri\t25276</td></tr><tr><td>1987\tshipping\t944 Smith Squares\tPort Jennifer\tMaryland\t28646</td></tr><tr><td>1987\tbilling\t3440 Beck Parkways\tWest Jennifer\tAlaska\t79766</td></tr><tr><td>5204\tshipping\t73225 Davis Island\tRobertville\tFlorida\t30994</td></tr><tr><td>5204\tbilling\t8191 Jennifer Shoals\tFriedmanstad\tNorth Dakota\t97678</td></tr><tr><td>4468\tshipping\t96501 Michelle Wall\tAndersonmouth\tNew York\t40416</td></tr><tr><td>4468\tbilling\t790 Jones Neck\tJenniferville\tFlorida\t72949</td></tr><tr><td>4761\tshipping\t55640 Yolanda Brooks\tAndrewfurt\tMissouri\t30615</td></tr><tr><td>4761\tbilling\t492 Jose Knoll Apt. 836\tLake Sydney\tWyoming\t51511</td></tr><tr><td>2703\tshipping\t5385 Paul Port Suite 963\tRichardsonton\tFlorida\t06432</td></tr><tr><td>2703\tbilling\t7639 Derek Streets\tNew Mary\tCalifornia\t68610</td></tr><tr><td>4996\tshipping\t5566 Good Harbor Suite 047\tNorth Crystalfurt\tMaine\t30274</td></tr><tr><td>4996\tbilling\t102 Coleman Centers\tWest Paulberg\tArizona\t55699</td></tr><tr><td>4914\tshipping\t750 Oliver Shore Suite 402\tReedbury\tKentucky\t33755</td></tr><tr><td>4914\tbilling\t639 Matthew Forge\tSouth Lisaburgh\tAlaska\t26693</td></tr><tr><td>7295\tshipping\t240 Tammy Bypass Suite 433\tNew Hayden\tMinnesota\t55632</td></tr><tr><td>7295\tbilling\t0087 Smith Square Suite 127\tWest Kristenside\tIdaho\t00795</td></tr><tr><td>7803\tshipping\t39194 Le Underpass\tDavidtown\tVirginia\t41382</td></tr><tr><td>7803\tbilling\t529 Bobby Squares Apt. 225\tLake Michelle\tKansas\t18094</td></tr><tr><td>3712\tshipping\t35807 Kaylee View\tLake Melanieburgh\tUtah\t86406</td></tr><tr><td>3712\tbilling\t91984 Rodney Fork Suite 290\tMaryland\tMissouri\t37082</td></tr><tr><td>2054\tshipping\t225 Lopez Bridge Suite 386\tSouth Monica\tIndiana\t34134</td></tr><tr><td>2054\tbilling\t890 Brandon Brook Suite 774\tNorth Nicoleborough\tWyoming\t15077</td></tr><tr><td>7123\tshipping\t6149 Adam Meadows\tSouth Lisa\tNew York\t96138</td></tr><tr><td>7123\tbilling\t3975 Short Trail Suite 332\tNorth Alexandra\tSouth Dakota\t47448</td></tr><tr><td>customer_id\taddress_type\taddress_line_1\tcity\tstate\tpostcode</td></tr><tr><td>6973\tshipping\t5780 Ashley Row\tLarachester\tAlaska\t96580</td></tr><tr><td>6973\tbilling\t757 Amy Motorway\tStephaniemouth\tMassachusetts\t55102</td></tr><tr><td>3532\tshipping\t18892 Benson Lake\tMitchellland\tMinnesota\t80110</td></tr><tr><td>3532\tbilling\t87297 Davis Bypass Apt. 742\tMannshire\tColorado\t19139</td></tr><tr><td>1211\tshipping\t580 Samantha Lodge\tNew Christinaborough\tLouisiana\t04251</td></tr><tr><td>1211\tbilling\t7938 Cervantes Mountain Suite 159\tOconnorhaven\tIndiana\t44129</td></tr><tr><td>7829\tshipping\t3242 Kelly Forks Suite 810\tLake Sierraside\tNebraska\t10629</td></tr><tr><td>7829\tbilling\t0722 Gregory Turnpike\tEast Jacksonport\tIndiana\t05138</td></tr><tr><td>6384\tshipping\t750 Lisa Valleys\tHeatherton\tMichigan\t22885</td></tr><tr><td>6384\tbilling\t3915 Reyes Islands Apt. 261\tNew Emily\tMassachusetts\t95275</td></tr><tr><td>2639\tshipping\t5383 Albert Grove Apt. 804\tNorth Destinyland\tIllinois\t60150</td></tr><tr><td>2639\tbilling\t222 Dominique Springs Apt. 942\tColechester\tLouisiana\t96258</td></tr><tr><td>3084\tshipping\t3337 Gregory Island\tMitchellbury\tTennessee\t70603</td></tr><tr><td>3084\tbilling\t78828 Montgomery Branch Suite 316\tSouth Chelsea\tWisconsin\t61054</td></tr><tr><td>7997\tshipping\t8166 Anthony Lodge Suite 528\tRichardmouth\tMississippi\t48790</td></tr><tr><td>7997\tbilling\t425 Keith Motorway\tWest Lawrencemouth\tNebraska\t76674</td></tr><tr><td>9687\tshipping\t3044 Scott Row\tNorth Noah\tOregon\t73984</td></tr><tr><td>9687\tbilling\t146 Smith Coves Apt. 738\tNorth Lisaton\tWest Virginia\t46429</td></tr><tr><td>2141\tshipping\t098 Sellers Station\tSouth Javierstad\tTexas\t59689</td></tr><tr><td>2141\tbilling\t7451 Lisa Stravenue Suite 994\tSouth Victor\tKansas\t49835</td></tr><tr><td>5592\tshipping\t754 Ricky Corners Apt. 629\tJonland\tSouth Carolina\t02070</td></tr><tr><td>5592\tbilling\t9688 Elizabeth Plains\tSouth Theodoreburgh\tMassachusetts\t97146</td></tr><tr><td>6406\tshipping\t613 Hart Rapid Apt. 447\tShannonmouth\tWyoming\t83119</td></tr><tr><td>6406\tbilling\t5706 Adam Forges Suite 567\tJosephburgh\tSouth Dakota\t07359</td></tr><tr><td>customer_id\taddress_type\taddress_line_1\tcity\tstate\tpostcode</td></tr><tr><td>7007\tshipping\t64918 Lee Ports Apt. 269\tJasonview\tMaryland\t18994</td></tr><tr><td>7007\tbilling\t201 Danielle Hollow Apt. 665\tJerryport\tSouth Dakota\t12363</td></tr><tr><td>5953\tshipping\t1393 White Wells Suite 722\tNorth Karen\tConnecticut\t47802</td></tr><tr><td>5953\tbilling\t470 Casey Pines Suite 957\tDeanmouth\tArkansas\t96860</td></tr><tr><td>9605\tshipping\t4123 Solomon Oval Apt. 648\tMccormickside\tIndiana\t90659</td></tr><tr><td>9605\tbilling\t67373 David Plains Suite 457\tEast Stevenfort\tNevada\t84183</td></tr><tr><td>8845\tshipping\t95689 Jeffrey Expressway\tEast Lanceborough\tPennsylvania\t79251</td></tr><tr><td>8845\tbilling\t556 Christensen Pike\tNorth Jeremyview\tCalifornia\t90786</td></tr><tr><td>4973\tshipping\t3013 Michelle Mountain Apt. 214\tSouth Patrickburgh\tArizona\t45875</td></tr><tr><td>4973\tbilling\t748 John Curve\tFritzberg\tMaryland\t36128</td></tr><tr><td>6167\tshipping\t179 Vang Street\tJessicastad\tConnecticut\t40919</td></tr><tr><td>6167\tbilling\t58676 Keith Coves\tNew Erichaven\tKentucky\t25297</td></tr><tr><td>3295\tshipping\t9569 Dennis Way Suite 047\tNorth Amy\tNew York\t17867</td></tr><tr><td>3295\tbilling\t36789 Hatfield Landing\tHaydenton\tTennessee\t60950</td></tr><tr><td>9150\tshipping\t819 Campbell Ville\tSouth Ian\tCalifornia\t35549</td></tr><tr><td>9150\tbilling\t48219 Kurt Hollow\tSouth Ravenberg\tRhode Island\t08078</td></tr></tbody></table></div>"
      ]
     },
     "metadata": {
      "application/vnd.databricks.v1+output": {
       "addedWidgets": {},
       "aggData": [],
       "aggError": "",
       "aggOverflow": false,
       "aggSchema": [],
       "aggSeriesLimitReached": false,
       "aggType": "",
       "arguments": {},
       "columnCustomDisplayInfos": {},
       "data": [
        [
         "customer_id\taddress_type\taddress_line_1\tcity\tstate\tpostcode"
        ],
        [
         "9179\tshipping\t9713 Medina Mountains Apt. 813\tLake Erika\tMississippi\t91945"
        ],
        [
         "9179\tbilling\t084 Anne Hollow Apt. 064\tEast Jasontown\tMinnesota\t77329"
        ],
        [
         "5816\tshipping\t8400 Rebecca Lodge Suite 011\tLake Lisatown\tMontana\t11354"
        ],
        [
         "5816\tbilling\t869 Linda Locks Apt. 105\tWest Melissabury\tMichigan\t37662"
        ],
        [
         "4858\tshipping\t4838 Jacob Neck\tJamesview\tWisconsin\t58657"
        ],
        [
         "4858\tbilling\t4558 Cabrera Islands\tLake David\tRhode Island\t06133"
        ],
        [
         "7207\tshipping\t75470 Richardson Mission Apt. 147\tNew Rachelhaven\tHawaii\t38857"
        ],
        [
         "7207\tbilling\t4450 Michelle Mission Suite 663\tNorth Justin\tKentucky\t91757"
        ],
        [
         "8539\tshipping\t331 Monica Route Apt. 022\tMichellechester\tTexas\t14637"
        ],
        [
         "8539\tbilling\t48794 Aguirre Ferry Apt. 952\tNorth Amy\tWashington\t92507"
        ],
        [
         "9706\tshipping\t2856 Jeremy Wall Apt. 985\tEast Elizabeth\tOklahoma\t66460"
        ],
        [
         "9706\tbilling\t14540 Moody Tunnel\tWest Shellybury\tKentucky\t83151"
        ],
        [
         "9263\tshipping\t5733 Richards Ferry Suite 995\tEast Angelafort\tIndiana\t79556"
        ],
        [
         "9263\tbilling\t13677 Garcia Ports\tShelleyland\tRhode Island\t03719"
        ],
        [
         "5028\tshipping\t955 Montgomery Mountain Suite 167\tJameschester\tKentucky\t09013"
        ],
        [
         "5028\tbilling\t5094 Ayala Falls\tGreenmouth\tNorth Carolina\t02638"
        ],
        [
         "9018\tshipping\t2099 Francisco Spring\tBeanshire\tSouth Carolina\t87684"
        ],
        [
         "9018\tbilling\t207 Tracy Gateway\tCookberg\tDelaware\t14011"
        ],
        [
         "8580\tshipping\t17549 Lisa Mission Suite 987\tVasquezstad\tVirginia\t40641"
        ],
        [
         "8580\tbilling\t6150 Jessica Park\tBellmouth\tPennsylvania\t82370"
        ],
        [
         "3409\tshipping\t918 April Junctions\tNew Theresa\tIndiana\t46004"
        ],
        [
         "3409\tbilling\t1294 Edward Inlet\tNorth Alison\tIndiana\t82752"
        ],
        [
         "3889\tshipping\t90408 Connie Pines Suite 258\tCatherinehaven\tTexas\t33736"
        ],
        [
         "3889\tbilling\t7908 Walker Track\tNorth Jose\tVirginia\t84099"
        ],
        [
         "9084\tshipping\t411 Joseph Park\tEricside\tSouth Dakota\t45339"
        ],
        [
         "9084\tbilling\t649 Jessica Parks\tNorth Tommyland\tIllinois\t88048"
        ],
        [
         "2344\tshipping\t97619 Sanchez Prairie Suite 359\tKelleyfurt\tLouisiana\t64906"
        ],
        [
         "2344\tbilling\t5008 Corey Landing Apt. 475\tSouth Christinaburgh\tNew Mexico\t03650"
        ],
        [
         "5011\tshipping\t828 Michele Spring\tDuffyshire\tTennessee\t93025"
        ],
        [
         "5011\tbilling\t8066 Smith Ports\tPort Cheryl\tFlorida\t97952"
        ],
        [
         "9247\tshipping\t196 Thomas Shore Apt. 768\tBobbymouth\tLouisiana\t91533"
        ],
        [
         "9247\tbilling\t0034 Fleming Hollow Suite 295\tWadefurt\tMontana\t34460"
        ],
        [
         "6627\tshipping\t76810 Mcintosh Forge Suite 885\tGregoryport\tSouth Dakota\t41885"
        ],
        [
         "6627\tbilling\t35855 Haas Centers Apt. 931\tWest Andreaville\tVirginia\t82397"
        ],
        [
         "customer_id\taddress_type\taddress_line_1\tcity\tstate\tpostcode"
        ],
        [
         "3892\tshipping\t5001 Castro Creek\tWatsonberg\tSouth Dakota\t03805"
        ],
        [
         "3892\tbilling\t322 Dan Lock\tTerriport\tMissouri\t25276"
        ],
        [
         "1987\tshipping\t944 Smith Squares\tPort Jennifer\tMaryland\t28646"
        ],
        [
         "1987\tbilling\t3440 Beck Parkways\tWest Jennifer\tAlaska\t79766"
        ],
        [
         "5204\tshipping\t73225 Davis Island\tRobertville\tFlorida\t30994"
        ],
        [
         "5204\tbilling\t8191 Jennifer Shoals\tFriedmanstad\tNorth Dakota\t97678"
        ],
        [
         "4468\tshipping\t96501 Michelle Wall\tAndersonmouth\tNew York\t40416"
        ],
        [
         "4468\tbilling\t790 Jones Neck\tJenniferville\tFlorida\t72949"
        ],
        [
         "4761\tshipping\t55640 Yolanda Brooks\tAndrewfurt\tMissouri\t30615"
        ],
        [
         "4761\tbilling\t492 Jose Knoll Apt. 836\tLake Sydney\tWyoming\t51511"
        ],
        [
         "2703\tshipping\t5385 Paul Port Suite 963\tRichardsonton\tFlorida\t06432"
        ],
        [
         "2703\tbilling\t7639 Derek Streets\tNew Mary\tCalifornia\t68610"
        ],
        [
         "4996\tshipping\t5566 Good Harbor Suite 047\tNorth Crystalfurt\tMaine\t30274"
        ],
        [
         "4996\tbilling\t102 Coleman Centers\tWest Paulberg\tArizona\t55699"
        ],
        [
         "4914\tshipping\t750 Oliver Shore Suite 402\tReedbury\tKentucky\t33755"
        ],
        [
         "4914\tbilling\t639 Matthew Forge\tSouth Lisaburgh\tAlaska\t26693"
        ],
        [
         "7295\tshipping\t240 Tammy Bypass Suite 433\tNew Hayden\tMinnesota\t55632"
        ],
        [
         "7295\tbilling\t0087 Smith Square Suite 127\tWest Kristenside\tIdaho\t00795"
        ],
        [
         "7803\tshipping\t39194 Le Underpass\tDavidtown\tVirginia\t41382"
        ],
        [
         "7803\tbilling\t529 Bobby Squares Apt. 225\tLake Michelle\tKansas\t18094"
        ],
        [
         "3712\tshipping\t35807 Kaylee View\tLake Melanieburgh\tUtah\t86406"
        ],
        [
         "3712\tbilling\t91984 Rodney Fork Suite 290\tMaryland\tMissouri\t37082"
        ],
        [
         "2054\tshipping\t225 Lopez Bridge Suite 386\tSouth Monica\tIndiana\t34134"
        ],
        [
         "2054\tbilling\t890 Brandon Brook Suite 774\tNorth Nicoleborough\tWyoming\t15077"
        ],
        [
         "7123\tshipping\t6149 Adam Meadows\tSouth Lisa\tNew York\t96138"
        ],
        [
         "7123\tbilling\t3975 Short Trail Suite 332\tNorth Alexandra\tSouth Dakota\t47448"
        ],
        [
         "customer_id\taddress_type\taddress_line_1\tcity\tstate\tpostcode"
        ],
        [
         "6973\tshipping\t5780 Ashley Row\tLarachester\tAlaska\t96580"
        ],
        [
         "6973\tbilling\t757 Amy Motorway\tStephaniemouth\tMassachusetts\t55102"
        ],
        [
         "3532\tshipping\t18892 Benson Lake\tMitchellland\tMinnesota\t80110"
        ],
        [
         "3532\tbilling\t87297 Davis Bypass Apt. 742\tMannshire\tColorado\t19139"
        ],
        [
         "1211\tshipping\t580 Samantha Lodge\tNew Christinaborough\tLouisiana\t04251"
        ],
        [
         "1211\tbilling\t7938 Cervantes Mountain Suite 159\tOconnorhaven\tIndiana\t44129"
        ],
        [
         "7829\tshipping\t3242 Kelly Forks Suite 810\tLake Sierraside\tNebraska\t10629"
        ],
        [
         "7829\tbilling\t0722 Gregory Turnpike\tEast Jacksonport\tIndiana\t05138"
        ],
        [
         "6384\tshipping\t750 Lisa Valleys\tHeatherton\tMichigan\t22885"
        ],
        [
         "6384\tbilling\t3915 Reyes Islands Apt. 261\tNew Emily\tMassachusetts\t95275"
        ],
        [
         "2639\tshipping\t5383 Albert Grove Apt. 804\tNorth Destinyland\tIllinois\t60150"
        ],
        [
         "2639\tbilling\t222 Dominique Springs Apt. 942\tColechester\tLouisiana\t96258"
        ],
        [
         "3084\tshipping\t3337 Gregory Island\tMitchellbury\tTennessee\t70603"
        ],
        [
         "3084\tbilling\t78828 Montgomery Branch Suite 316\tSouth Chelsea\tWisconsin\t61054"
        ],
        [
         "7997\tshipping\t8166 Anthony Lodge Suite 528\tRichardmouth\tMississippi\t48790"
        ],
        [
         "7997\tbilling\t425 Keith Motorway\tWest Lawrencemouth\tNebraska\t76674"
        ],
        [
         "9687\tshipping\t3044 Scott Row\tNorth Noah\tOregon\t73984"
        ],
        [
         "9687\tbilling\t146 Smith Coves Apt. 738\tNorth Lisaton\tWest Virginia\t46429"
        ],
        [
         "2141\tshipping\t098 Sellers Station\tSouth Javierstad\tTexas\t59689"
        ],
        [
         "2141\tbilling\t7451 Lisa Stravenue Suite 994\tSouth Victor\tKansas\t49835"
        ],
        [
         "5592\tshipping\t754 Ricky Corners Apt. 629\tJonland\tSouth Carolina\t02070"
        ],
        [
         "5592\tbilling\t9688 Elizabeth Plains\tSouth Theodoreburgh\tMassachusetts\t97146"
        ],
        [
         "6406\tshipping\t613 Hart Rapid Apt. 447\tShannonmouth\tWyoming\t83119"
        ],
        [
         "6406\tbilling\t5706 Adam Forges Suite 567\tJosephburgh\tSouth Dakota\t07359"
        ],
        [
         "customer_id\taddress_type\taddress_line_1\tcity\tstate\tpostcode"
        ],
        [
         "7007\tshipping\t64918 Lee Ports Apt. 269\tJasonview\tMaryland\t18994"
        ],
        [
         "7007\tbilling\t201 Danielle Hollow Apt. 665\tJerryport\tSouth Dakota\t12363"
        ],
        [
         "5953\tshipping\t1393 White Wells Suite 722\tNorth Karen\tConnecticut\t47802"
        ],
        [
         "5953\tbilling\t470 Casey Pines Suite 957\tDeanmouth\tArkansas\t96860"
        ],
        [
         "9605\tshipping\t4123 Solomon Oval Apt. 648\tMccormickside\tIndiana\t90659"
        ],
        [
         "9605\tbilling\t67373 David Plains Suite 457\tEast Stevenfort\tNevada\t84183"
        ],
        [
         "8845\tshipping\t95689 Jeffrey Expressway\tEast Lanceborough\tPennsylvania\t79251"
        ],
        [
         "8845\tbilling\t556 Christensen Pike\tNorth Jeremyview\tCalifornia\t90786"
        ],
        [
         "4973\tshipping\t3013 Michelle Mountain Apt. 214\tSouth Patrickburgh\tArizona\t45875"
        ],
        [
         "4973\tbilling\t748 John Curve\tFritzberg\tMaryland\t36128"
        ],
        [
         "6167\tshipping\t179 Vang Street\tJessicastad\tConnecticut\t40919"
        ],
        [
         "6167\tbilling\t58676 Keith Coves\tNew Erichaven\tKentucky\t25297"
        ],
        [
         "3295\tshipping\t9569 Dennis Way Suite 047\tNorth Amy\tNew York\t17867"
        ],
        [
         "3295\tbilling\t36789 Hatfield Landing\tHaydenton\tTennessee\t60950"
        ],
        [
         "9150\tshipping\t819 Campbell Ville\tSouth Ian\tCalifornia\t35549"
        ],
        [
         "9150\tbilling\t48219 Kurt Hollow\tSouth Ravenberg\tRhode Island\t08078"
        ]
       ],
       "datasetInfos": [
        {
         "name": "_sqldf",
         "schema": {
          "fields": [
           {
            "metadata": {},
            "name": "_c0",
            "nullable": true,
            "type": "string"
           }
          ],
          "type": "struct"
         },
         "tableIdentifier": null,
         "typeStr": "pyspark.sql.connect.dataframe.DataFrame"
        }
       ],
       "dbfsResultPath": null,
       "isJsonSchema": true,
       "metadata": {
        "createTempViewForImplicitDf": true,
        "dataframeName": "_sqldf",
        "executionCount": 2
       },
       "overflow": false,
       "plotOptions": {
        "customPlotOptions": {},
        "displayType": "table",
        "pivotAggregation": null,
        "pivotColumns": null,
        "xColumns": null,
        "yColumns": null
       },
       "removedWidgets": [],
       "schema": [
        {
         "metadata": "{}",
         "name": "_c0",
         "type": "\"string\""
        }
       ],
       "type": "table"
      }
     },
     "output_type": "display_data"
    }
   ],
   "source": [
    "%sql\n",
    "select * from csv.`/Volumes/gizmobox/landing/operational_data/addresses`"
   ]
  },
  {
   "cell_type": "markdown",
   "metadata": {
    "application/vnd.databricks.v1+cell": {
     "cellMetadata": {},
     "inputWidgets": {},
     "nuid": "b0f3483c-3d07-4461-a12c-5730da8ce948",
     "showTitle": false,
     "tableResultSettingsMap": {},
     "title": ""
    }
   },
   "source": [
    "#### 2-Use read_files function to overcome the limitations \n",
    "\n",
    "###### https://learn.microsoft.com/en-us/azure/databricks/sql/language-manual/functions/read_files"
   ]
  },
  {
   "cell_type": "code",
   "execution_count": 0,
   "metadata": {
    "application/vnd.databricks.v1+cell": {
     "cellMetadata": {
      "byteLimit": 2048000,
      "implicitDf": true,
      "rowLimit": 10000
     },
     "inputWidgets": {},
     "nuid": "7c70ccf1-ef6e-4745-89fb-428ae0636414",
     "showTitle": false,
     "tableResultSettingsMap": {},
     "title": ""
    }
   },
   "outputs": [
    {
     "output_type": "display_data",
     "data": {
      "text/html": [
       "<style scoped>\n",
       "  .table-result-container {\n",
       "    max-height: 300px;\n",
       "    overflow: auto;\n",
       "  }\n",
       "  table, th, td {\n",
       "    border: 1px solid black;\n",
       "    border-collapse: collapse;\n",
       "  }\n",
       "  th, td {\n",
       "    padding: 5px;\n",
       "  }\n",
       "  th {\n",
       "    text-align: left;\n",
       "  }\n",
       "</style><div class='table-result-container'><table class='table-result'><thead style='background-color: white'><tr><th>customer_id</th><th>address_type</th><th>address_line_1</th><th>city</th><th>state</th><th>postcode</th><th>_rescued_data</th></tr></thead><tbody><tr><td>9179</td><td>shipping</td><td>9713 Medina Mountains Apt. 813</td><td>Lake Erika</td><td>Mississippi</td><td>91945</td><td>null</td></tr><tr><td>9179</td><td>billing</td><td>084 Anne Hollow Apt. 064</td><td>East Jasontown</td><td>Minnesota</td><td>77329</td><td>null</td></tr><tr><td>5816</td><td>shipping</td><td>8400 Rebecca Lodge Suite 011</td><td>Lake Lisatown</td><td>Montana</td><td>11354</td><td>null</td></tr><tr><td>5816</td><td>billing</td><td>869 Linda Locks Apt. 105</td><td>West Melissabury</td><td>Michigan</td><td>37662</td><td>null</td></tr><tr><td>4858</td><td>shipping</td><td>4838 Jacob Neck</td><td>Jamesview</td><td>Wisconsin</td><td>58657</td><td>null</td></tr><tr><td>4858</td><td>billing</td><td>4558 Cabrera Islands</td><td>Lake David</td><td>Rhode Island</td><td>6133</td><td>null</td></tr><tr><td>7207</td><td>shipping</td><td>75470 Richardson Mission Apt. 147</td><td>New Rachelhaven</td><td>Hawaii</td><td>38857</td><td>null</td></tr><tr><td>7207</td><td>billing</td><td>4450 Michelle Mission Suite 663</td><td>North Justin</td><td>Kentucky</td><td>91757</td><td>null</td></tr><tr><td>8539</td><td>shipping</td><td>331 Monica Route Apt. 022</td><td>Michellechester</td><td>Texas</td><td>14637</td><td>null</td></tr><tr><td>8539</td><td>billing</td><td>48794 Aguirre Ferry Apt. 952</td><td>North Amy</td><td>Washington</td><td>92507</td><td>null</td></tr><tr><td>9706</td><td>shipping</td><td>2856 Jeremy Wall Apt. 985</td><td>East Elizabeth</td><td>Oklahoma</td><td>66460</td><td>null</td></tr><tr><td>9706</td><td>billing</td><td>14540 Moody Tunnel</td><td>West Shellybury</td><td>Kentucky</td><td>83151</td><td>null</td></tr><tr><td>9263</td><td>shipping</td><td>5733 Richards Ferry Suite 995</td><td>East Angelafort</td><td>Indiana</td><td>79556</td><td>null</td></tr><tr><td>9263</td><td>billing</td><td>13677 Garcia Ports</td><td>Shelleyland</td><td>Rhode Island</td><td>3719</td><td>null</td></tr><tr><td>5028</td><td>shipping</td><td>955 Montgomery Mountain Suite 167</td><td>Jameschester</td><td>Kentucky</td><td>9013</td><td>null</td></tr><tr><td>5028</td><td>billing</td><td>5094 Ayala Falls</td><td>Greenmouth</td><td>North Carolina</td><td>2638</td><td>null</td></tr><tr><td>9018</td><td>shipping</td><td>2099 Francisco Spring</td><td>Beanshire</td><td>South Carolina</td><td>87684</td><td>null</td></tr><tr><td>9018</td><td>billing</td><td>207 Tracy Gateway</td><td>Cookberg</td><td>Delaware</td><td>14011</td><td>null</td></tr><tr><td>8580</td><td>shipping</td><td>17549 Lisa Mission Suite 987</td><td>Vasquezstad</td><td>Virginia</td><td>40641</td><td>null</td></tr><tr><td>8580</td><td>billing</td><td>6150 Jessica Park</td><td>Bellmouth</td><td>Pennsylvania</td><td>82370</td><td>null</td></tr><tr><td>3409</td><td>shipping</td><td>918 April Junctions</td><td>New Theresa</td><td>Indiana</td><td>46004</td><td>null</td></tr><tr><td>3409</td><td>billing</td><td>1294 Edward Inlet</td><td>North Alison</td><td>Indiana</td><td>82752</td><td>null</td></tr><tr><td>3889</td><td>shipping</td><td>90408 Connie Pines Suite 258</td><td>Catherinehaven</td><td>Texas</td><td>33736</td><td>null</td></tr><tr><td>3889</td><td>billing</td><td>7908 Walker Track</td><td>North Jose</td><td>Virginia</td><td>84099</td><td>null</td></tr><tr><td>9084</td><td>shipping</td><td>411 Joseph Park</td><td>Ericside</td><td>South Dakota</td><td>45339</td><td>null</td></tr><tr><td>9084</td><td>billing</td><td>649 Jessica Parks</td><td>North Tommyland</td><td>Illinois</td><td>88048</td><td>null</td></tr><tr><td>2344</td><td>shipping</td><td>97619 Sanchez Prairie Suite 359</td><td>Kelleyfurt</td><td>Louisiana</td><td>64906</td><td>null</td></tr><tr><td>2344</td><td>billing</td><td>5008 Corey Landing Apt. 475</td><td>South Christinaburgh</td><td>New Mexico</td><td>3650</td><td>null</td></tr><tr><td>5011</td><td>shipping</td><td>828 Michele Spring</td><td>Duffyshire</td><td>Tennessee</td><td>93025</td><td>null</td></tr><tr><td>5011</td><td>billing</td><td>8066 Smith Ports</td><td>Port Cheryl</td><td>Florida</td><td>97952</td><td>null</td></tr><tr><td>9247</td><td>shipping</td><td>196 Thomas Shore Apt. 768</td><td>Bobbymouth</td><td>Louisiana</td><td>91533</td><td>null</td></tr><tr><td>9247</td><td>billing</td><td>0034 Fleming Hollow Suite 295</td><td>Wadefurt</td><td>Montana</td><td>34460</td><td>null</td></tr><tr><td>6627</td><td>shipping</td><td>76810 Mcintosh Forge Suite 885</td><td>Gregoryport</td><td>South Dakota</td><td>41885</td><td>null</td></tr><tr><td>6627</td><td>billing</td><td>35855 Haas Centers Apt. 931</td><td>West Andreaville</td><td>Virginia</td><td>82397</td><td>null</td></tr><tr><td>3892</td><td>shipping</td><td>5001 Castro Creek</td><td>Watsonberg</td><td>South Dakota</td><td>3805</td><td>null</td></tr><tr><td>3892</td><td>billing</td><td>322 Dan Lock</td><td>Terriport</td><td>Missouri</td><td>25276</td><td>null</td></tr><tr><td>1987</td><td>shipping</td><td>944 Smith Squares</td><td>Port Jennifer</td><td>Maryland</td><td>28646</td><td>null</td></tr><tr><td>1987</td><td>billing</td><td>3440 Beck Parkways</td><td>West Jennifer</td><td>Alaska</td><td>79766</td><td>null</td></tr><tr><td>5204</td><td>shipping</td><td>73225 Davis Island</td><td>Robertville</td><td>Florida</td><td>30994</td><td>null</td></tr><tr><td>5204</td><td>billing</td><td>8191 Jennifer Shoals</td><td>Friedmanstad</td><td>North Dakota</td><td>97678</td><td>null</td></tr><tr><td>4468</td><td>shipping</td><td>96501 Michelle Wall</td><td>Andersonmouth</td><td>New York</td><td>40416</td><td>null</td></tr><tr><td>4468</td><td>billing</td><td>790 Jones Neck</td><td>Jenniferville</td><td>Florida</td><td>72949</td><td>null</td></tr><tr><td>4761</td><td>shipping</td><td>55640 Yolanda Brooks</td><td>Andrewfurt</td><td>Missouri</td><td>30615</td><td>null</td></tr><tr><td>4761</td><td>billing</td><td>492 Jose Knoll Apt. 836</td><td>Lake Sydney</td><td>Wyoming</td><td>51511</td><td>null</td></tr><tr><td>2703</td><td>shipping</td><td>5385 Paul Port Suite 963</td><td>Richardsonton</td><td>Florida</td><td>6432</td><td>null</td></tr><tr><td>2703</td><td>billing</td><td>7639 Derek Streets</td><td>New Mary</td><td>California</td><td>68610</td><td>null</td></tr><tr><td>4996</td><td>shipping</td><td>5566 Good Harbor Suite 047</td><td>North Crystalfurt</td><td>Maine</td><td>30274</td><td>null</td></tr><tr><td>4996</td><td>billing</td><td>102 Coleman Centers</td><td>West Paulberg</td><td>Arizona</td><td>55699</td><td>null</td></tr><tr><td>4914</td><td>shipping</td><td>750 Oliver Shore Suite 402</td><td>Reedbury</td><td>Kentucky</td><td>33755</td><td>null</td></tr><tr><td>4914</td><td>billing</td><td>639 Matthew Forge</td><td>South Lisaburgh</td><td>Alaska</td><td>26693</td><td>null</td></tr><tr><td>7295</td><td>shipping</td><td>240 Tammy Bypass Suite 433</td><td>New Hayden</td><td>Minnesota</td><td>55632</td><td>null</td></tr><tr><td>7295</td><td>billing</td><td>0087 Smith Square Suite 127</td><td>West Kristenside</td><td>Idaho</td><td>795</td><td>null</td></tr><tr><td>7803</td><td>shipping</td><td>39194 Le Underpass</td><td>Davidtown</td><td>Virginia</td><td>41382</td><td>null</td></tr><tr><td>7803</td><td>billing</td><td>529 Bobby Squares Apt. 225</td><td>Lake Michelle</td><td>Kansas</td><td>18094</td><td>null</td></tr><tr><td>3712</td><td>shipping</td><td>35807 Kaylee View</td><td>Lake Melanieburgh</td><td>Utah</td><td>86406</td><td>null</td></tr><tr><td>3712</td><td>billing</td><td>91984 Rodney Fork Suite 290</td><td>Maryland</td><td>Missouri</td><td>37082</td><td>null</td></tr><tr><td>2054</td><td>shipping</td><td>225 Lopez Bridge Suite 386</td><td>South Monica</td><td>Indiana</td><td>34134</td><td>null</td></tr><tr><td>2054</td><td>billing</td><td>890 Brandon Brook Suite 774</td><td>North Nicoleborough</td><td>Wyoming</td><td>15077</td><td>null</td></tr><tr><td>7123</td><td>shipping</td><td>6149 Adam Meadows</td><td>South Lisa</td><td>New York</td><td>96138</td><td>null</td></tr><tr><td>7123</td><td>billing</td><td>3975 Short Trail Suite 332</td><td>North Alexandra</td><td>South Dakota</td><td>47448</td><td>null</td></tr><tr><td>6973</td><td>shipping</td><td>5780 Ashley Row</td><td>Larachester</td><td>Alaska</td><td>96580</td><td>null</td></tr><tr><td>6973</td><td>billing</td><td>757 Amy Motorway</td><td>Stephaniemouth</td><td>Massachusetts</td><td>55102</td><td>null</td></tr><tr><td>3532</td><td>shipping</td><td>18892 Benson Lake</td><td>Mitchellland</td><td>Minnesota</td><td>80110</td><td>null</td></tr><tr><td>3532</td><td>billing</td><td>87297 Davis Bypass Apt. 742</td><td>Mannshire</td><td>Colorado</td><td>19139</td><td>null</td></tr><tr><td>1211</td><td>shipping</td><td>580 Samantha Lodge</td><td>New Christinaborough</td><td>Louisiana</td><td>4251</td><td>null</td></tr><tr><td>1211</td><td>billing</td><td>7938 Cervantes Mountain Suite 159</td><td>Oconnorhaven</td><td>Indiana</td><td>44129</td><td>null</td></tr><tr><td>7829</td><td>shipping</td><td>3242 Kelly Forks Suite 810</td><td>Lake Sierraside</td><td>Nebraska</td><td>10629</td><td>null</td></tr><tr><td>7829</td><td>billing</td><td>0722 Gregory Turnpike</td><td>East Jacksonport</td><td>Indiana</td><td>5138</td><td>null</td></tr><tr><td>6384</td><td>shipping</td><td>750 Lisa Valleys</td><td>Heatherton</td><td>Michigan</td><td>22885</td><td>null</td></tr><tr><td>6384</td><td>billing</td><td>3915 Reyes Islands Apt. 261</td><td>New Emily</td><td>Massachusetts</td><td>95275</td><td>null</td></tr><tr><td>2639</td><td>shipping</td><td>5383 Albert Grove Apt. 804</td><td>North Destinyland</td><td>Illinois</td><td>60150</td><td>null</td></tr><tr><td>2639</td><td>billing</td><td>222 Dominique Springs Apt. 942</td><td>Colechester</td><td>Louisiana</td><td>96258</td><td>null</td></tr><tr><td>3084</td><td>shipping</td><td>3337 Gregory Island</td><td>Mitchellbury</td><td>Tennessee</td><td>70603</td><td>null</td></tr><tr><td>3084</td><td>billing</td><td>78828 Montgomery Branch Suite 316</td><td>South Chelsea</td><td>Wisconsin</td><td>61054</td><td>null</td></tr><tr><td>7997</td><td>shipping</td><td>8166 Anthony Lodge Suite 528</td><td>Richardmouth</td><td>Mississippi</td><td>48790</td><td>null</td></tr><tr><td>7997</td><td>billing</td><td>425 Keith Motorway</td><td>West Lawrencemouth</td><td>Nebraska</td><td>76674</td><td>null</td></tr><tr><td>9687</td><td>shipping</td><td>3044 Scott Row</td><td>North Noah</td><td>Oregon</td><td>73984</td><td>null</td></tr><tr><td>9687</td><td>billing</td><td>146 Smith Coves Apt. 738</td><td>North Lisaton</td><td>West Virginia</td><td>46429</td><td>null</td></tr><tr><td>2141</td><td>shipping</td><td>098 Sellers Station</td><td>South Javierstad</td><td>Texas</td><td>59689</td><td>null</td></tr><tr><td>2141</td><td>billing</td><td>7451 Lisa Stravenue Suite 994</td><td>South Victor</td><td>Kansas</td><td>49835</td><td>null</td></tr><tr><td>5592</td><td>shipping</td><td>754 Ricky Corners Apt. 629</td><td>Jonland</td><td>South Carolina</td><td>2070</td><td>null</td></tr><tr><td>5592</td><td>billing</td><td>9688 Elizabeth Plains</td><td>South Theodoreburgh</td><td>Massachusetts</td><td>97146</td><td>null</td></tr><tr><td>6406</td><td>shipping</td><td>613 Hart Rapid Apt. 447</td><td>Shannonmouth</td><td>Wyoming</td><td>83119</td><td>null</td></tr><tr><td>6406</td><td>billing</td><td>5706 Adam Forges Suite 567</td><td>Josephburgh</td><td>South Dakota</td><td>7359</td><td>null</td></tr><tr><td>7007</td><td>shipping</td><td>64918 Lee Ports Apt. 269</td><td>Jasonview</td><td>Maryland</td><td>18994</td><td>null</td></tr><tr><td>7007</td><td>billing</td><td>201 Danielle Hollow Apt. 665</td><td>Jerryport</td><td>South Dakota</td><td>12363</td><td>null</td></tr><tr><td>5953</td><td>shipping</td><td>1393 White Wells Suite 722</td><td>North Karen</td><td>Connecticut</td><td>47802</td><td>null</td></tr><tr><td>5953</td><td>billing</td><td>470 Casey Pines Suite 957</td><td>Deanmouth</td><td>Arkansas</td><td>96860</td><td>null</td></tr><tr><td>9605</td><td>shipping</td><td>4123 Solomon Oval Apt. 648</td><td>Mccormickside</td><td>Indiana</td><td>90659</td><td>null</td></tr><tr><td>9605</td><td>billing</td><td>67373 David Plains Suite 457</td><td>East Stevenfort</td><td>Nevada</td><td>84183</td><td>null</td></tr><tr><td>8845</td><td>shipping</td><td>95689 Jeffrey Expressway</td><td>East Lanceborough</td><td>Pennsylvania</td><td>79251</td><td>null</td></tr><tr><td>8845</td><td>billing</td><td>556 Christensen Pike</td><td>North Jeremyview</td><td>California</td><td>90786</td><td>null</td></tr><tr><td>4973</td><td>shipping</td><td>3013 Michelle Mountain Apt. 214</td><td>South Patrickburgh</td><td>Arizona</td><td>45875</td><td>null</td></tr><tr><td>4973</td><td>billing</td><td>748 John Curve</td><td>Fritzberg</td><td>Maryland</td><td>36128</td><td>null</td></tr><tr><td>6167</td><td>shipping</td><td>179 Vang Street</td><td>Jessicastad</td><td>Connecticut</td><td>40919</td><td>null</td></tr><tr><td>6167</td><td>billing</td><td>58676 Keith Coves</td><td>New Erichaven</td><td>Kentucky</td><td>25297</td><td>null</td></tr><tr><td>3295</td><td>shipping</td><td>9569 Dennis Way Suite 047</td><td>North Amy</td><td>New York</td><td>17867</td><td>null</td></tr><tr><td>3295</td><td>billing</td><td>36789 Hatfield Landing</td><td>Haydenton</td><td>Tennessee</td><td>60950</td><td>null</td></tr><tr><td>9150</td><td>shipping</td><td>819 Campbell Ville</td><td>South Ian</td><td>California</td><td>35549</td><td>null</td></tr><tr><td>9150</td><td>billing</td><td>48219 Kurt Hollow</td><td>South Ravenberg</td><td>Rhode Island</td><td>8078</td><td>null</td></tr></tbody></table></div>"
      ]
     },
     "metadata": {
      "application/vnd.databricks.v1+output": {
       "addedWidgets": {},
       "aggData": [],
       "aggError": "",
       "aggOverflow": false,
       "aggSchema": [],
       "aggSeriesLimitReached": false,
       "aggType": "",
       "arguments": {},
       "columnCustomDisplayInfos": {},
       "data": [
        [
         9179,
         "shipping",
         "9713 Medina Mountains Apt. 813",
         "Lake Erika",
         "Mississippi",
         91945,
         null
        ],
        [
         9179,
         "billing",
         "084 Anne Hollow Apt. 064",
         "East Jasontown",
         "Minnesota",
         77329,
         null
        ],
        [
         5816,
         "shipping",
         "8400 Rebecca Lodge Suite 011",
         "Lake Lisatown",
         "Montana",
         11354,
         null
        ],
        [
         5816,
         "billing",
         "869 Linda Locks Apt. 105",
         "West Melissabury",
         "Michigan",
         37662,
         null
        ],
        [
         4858,
         "shipping",
         "4838 Jacob Neck",
         "Jamesview",
         "Wisconsin",
         58657,
         null
        ],
        [
         4858,
         "billing",
         "4558 Cabrera Islands",
         "Lake David",
         "Rhode Island",
         6133,
         null
        ],
        [
         7207,
         "shipping",
         "75470 Richardson Mission Apt. 147",
         "New Rachelhaven",
         "Hawaii",
         38857,
         null
        ],
        [
         7207,
         "billing",
         "4450 Michelle Mission Suite 663",
         "North Justin",
         "Kentucky",
         91757,
         null
        ],
        [
         8539,
         "shipping",
         "331 Monica Route Apt. 022",
         "Michellechester",
         "Texas",
         14637,
         null
        ],
        [
         8539,
         "billing",
         "48794 Aguirre Ferry Apt. 952",
         "North Amy",
         "Washington",
         92507,
         null
        ],
        [
         9706,
         "shipping",
         "2856 Jeremy Wall Apt. 985",
         "East Elizabeth",
         "Oklahoma",
         66460,
         null
        ],
        [
         9706,
         "billing",
         "14540 Moody Tunnel",
         "West Shellybury",
         "Kentucky",
         83151,
         null
        ],
        [
         9263,
         "shipping",
         "5733 Richards Ferry Suite 995",
         "East Angelafort",
         "Indiana",
         79556,
         null
        ],
        [
         9263,
         "billing",
         "13677 Garcia Ports",
         "Shelleyland",
         "Rhode Island",
         3719,
         null
        ],
        [
         5028,
         "shipping",
         "955 Montgomery Mountain Suite 167",
         "Jameschester",
         "Kentucky",
         9013,
         null
        ],
        [
         5028,
         "billing",
         "5094 Ayala Falls",
         "Greenmouth",
         "North Carolina",
         2638,
         null
        ],
        [
         9018,
         "shipping",
         "2099 Francisco Spring",
         "Beanshire",
         "South Carolina",
         87684,
         null
        ],
        [
         9018,
         "billing",
         "207 Tracy Gateway",
         "Cookberg",
         "Delaware",
         14011,
         null
        ],
        [
         8580,
         "shipping",
         "17549 Lisa Mission Suite 987",
         "Vasquezstad",
         "Virginia",
         40641,
         null
        ],
        [
         8580,
         "billing",
         "6150 Jessica Park",
         "Bellmouth",
         "Pennsylvania",
         82370,
         null
        ],
        [
         3409,
         "shipping",
         "918 April Junctions",
         "New Theresa",
         "Indiana",
         46004,
         null
        ],
        [
         3409,
         "billing",
         "1294 Edward Inlet",
         "North Alison",
         "Indiana",
         82752,
         null
        ],
        [
         3889,
         "shipping",
         "90408 Connie Pines Suite 258",
         "Catherinehaven",
         "Texas",
         33736,
         null
        ],
        [
         3889,
         "billing",
         "7908 Walker Track",
         "North Jose",
         "Virginia",
         84099,
         null
        ],
        [
         9084,
         "shipping",
         "411 Joseph Park",
         "Ericside",
         "South Dakota",
         45339,
         null
        ],
        [
         9084,
         "billing",
         "649 Jessica Parks",
         "North Tommyland",
         "Illinois",
         88048,
         null
        ],
        [
         2344,
         "shipping",
         "97619 Sanchez Prairie Suite 359",
         "Kelleyfurt",
         "Louisiana",
         64906,
         null
        ],
        [
         2344,
         "billing",
         "5008 Corey Landing Apt. 475",
         "South Christinaburgh",
         "New Mexico",
         3650,
         null
        ],
        [
         5011,
         "shipping",
         "828 Michele Spring",
         "Duffyshire",
         "Tennessee",
         93025,
         null
        ],
        [
         5011,
         "billing",
         "8066 Smith Ports",
         "Port Cheryl",
         "Florida",
         97952,
         null
        ],
        [
         9247,
         "shipping",
         "196 Thomas Shore Apt. 768",
         "Bobbymouth",
         "Louisiana",
         91533,
         null
        ],
        [
         9247,
         "billing",
         "0034 Fleming Hollow Suite 295",
         "Wadefurt",
         "Montana",
         34460,
         null
        ],
        [
         6627,
         "shipping",
         "76810 Mcintosh Forge Suite 885",
         "Gregoryport",
         "South Dakota",
         41885,
         null
        ],
        [
         6627,
         "billing",
         "35855 Haas Centers Apt. 931",
         "West Andreaville",
         "Virginia",
         82397,
         null
        ],
        [
         3892,
         "shipping",
         "5001 Castro Creek",
         "Watsonberg",
         "South Dakota",
         3805,
         null
        ],
        [
         3892,
         "billing",
         "322 Dan Lock",
         "Terriport",
         "Missouri",
         25276,
         null
        ],
        [
         1987,
         "shipping",
         "944 Smith Squares",
         "Port Jennifer",
         "Maryland",
         28646,
         null
        ],
        [
         1987,
         "billing",
         "3440 Beck Parkways",
         "West Jennifer",
         "Alaska",
         79766,
         null
        ],
        [
         5204,
         "shipping",
         "73225 Davis Island",
         "Robertville",
         "Florida",
         30994,
         null
        ],
        [
         5204,
         "billing",
         "8191 Jennifer Shoals",
         "Friedmanstad",
         "North Dakota",
         97678,
         null
        ],
        [
         4468,
         "shipping",
         "96501 Michelle Wall",
         "Andersonmouth",
         "New York",
         40416,
         null
        ],
        [
         4468,
         "billing",
         "790 Jones Neck",
         "Jenniferville",
         "Florida",
         72949,
         null
        ],
        [
         4761,
         "shipping",
         "55640 Yolanda Brooks",
         "Andrewfurt",
         "Missouri",
         30615,
         null
        ],
        [
         4761,
         "billing",
         "492 Jose Knoll Apt. 836",
         "Lake Sydney",
         "Wyoming",
         51511,
         null
        ],
        [
         2703,
         "shipping",
         "5385 Paul Port Suite 963",
         "Richardsonton",
         "Florida",
         6432,
         null
        ],
        [
         2703,
         "billing",
         "7639 Derek Streets",
         "New Mary",
         "California",
         68610,
         null
        ],
        [
         4996,
         "shipping",
         "5566 Good Harbor Suite 047",
         "North Crystalfurt",
         "Maine",
         30274,
         null
        ],
        [
         4996,
         "billing",
         "102 Coleman Centers",
         "West Paulberg",
         "Arizona",
         55699,
         null
        ],
        [
         4914,
         "shipping",
         "750 Oliver Shore Suite 402",
         "Reedbury",
         "Kentucky",
         33755,
         null
        ],
        [
         4914,
         "billing",
         "639 Matthew Forge",
         "South Lisaburgh",
         "Alaska",
         26693,
         null
        ],
        [
         7295,
         "shipping",
         "240 Tammy Bypass Suite 433",
         "New Hayden",
         "Minnesota",
         55632,
         null
        ],
        [
         7295,
         "billing",
         "0087 Smith Square Suite 127",
         "West Kristenside",
         "Idaho",
         795,
         null
        ],
        [
         7803,
         "shipping",
         "39194 Le Underpass",
         "Davidtown",
         "Virginia",
         41382,
         null
        ],
        [
         7803,
         "billing",
         "529 Bobby Squares Apt. 225",
         "Lake Michelle",
         "Kansas",
         18094,
         null
        ],
        [
         3712,
         "shipping",
         "35807 Kaylee View",
         "Lake Melanieburgh",
         "Utah",
         86406,
         null
        ],
        [
         3712,
         "billing",
         "91984 Rodney Fork Suite 290",
         "Maryland",
         "Missouri",
         37082,
         null
        ],
        [
         2054,
         "shipping",
         "225 Lopez Bridge Suite 386",
         "South Monica",
         "Indiana",
         34134,
         null
        ],
        [
         2054,
         "billing",
         "890 Brandon Brook Suite 774",
         "North Nicoleborough",
         "Wyoming",
         15077,
         null
        ],
        [
         7123,
         "shipping",
         "6149 Adam Meadows",
         "South Lisa",
         "New York",
         96138,
         null
        ],
        [
         7123,
         "billing",
         "3975 Short Trail Suite 332",
         "North Alexandra",
         "South Dakota",
         47448,
         null
        ],
        [
         6973,
         "shipping",
         "5780 Ashley Row",
         "Larachester",
         "Alaska",
         96580,
         null
        ],
        [
         6973,
         "billing",
         "757 Amy Motorway",
         "Stephaniemouth",
         "Massachusetts",
         55102,
         null
        ],
        [
         3532,
         "shipping",
         "18892 Benson Lake",
         "Mitchellland",
         "Minnesota",
         80110,
         null
        ],
        [
         3532,
         "billing",
         "87297 Davis Bypass Apt. 742",
         "Mannshire",
         "Colorado",
         19139,
         null
        ],
        [
         1211,
         "shipping",
         "580 Samantha Lodge",
         "New Christinaborough",
         "Louisiana",
         4251,
         null
        ],
        [
         1211,
         "billing",
         "7938 Cervantes Mountain Suite 159",
         "Oconnorhaven",
         "Indiana",
         44129,
         null
        ],
        [
         7829,
         "shipping",
         "3242 Kelly Forks Suite 810",
         "Lake Sierraside",
         "Nebraska",
         10629,
         null
        ],
        [
         7829,
         "billing",
         "0722 Gregory Turnpike",
         "East Jacksonport",
         "Indiana",
         5138,
         null
        ],
        [
         6384,
         "shipping",
         "750 Lisa Valleys",
         "Heatherton",
         "Michigan",
         22885,
         null
        ],
        [
         6384,
         "billing",
         "3915 Reyes Islands Apt. 261",
         "New Emily",
         "Massachusetts",
         95275,
         null
        ],
        [
         2639,
         "shipping",
         "5383 Albert Grove Apt. 804",
         "North Destinyland",
         "Illinois",
         60150,
         null
        ],
        [
         2639,
         "billing",
         "222 Dominique Springs Apt. 942",
         "Colechester",
         "Louisiana",
         96258,
         null
        ],
        [
         3084,
         "shipping",
         "3337 Gregory Island",
         "Mitchellbury",
         "Tennessee",
         70603,
         null
        ],
        [
         3084,
         "billing",
         "78828 Montgomery Branch Suite 316",
         "South Chelsea",
         "Wisconsin",
         61054,
         null
        ],
        [
         7997,
         "shipping",
         "8166 Anthony Lodge Suite 528",
         "Richardmouth",
         "Mississippi",
         48790,
         null
        ],
        [
         7997,
         "billing",
         "425 Keith Motorway",
         "West Lawrencemouth",
         "Nebraska",
         76674,
         null
        ],
        [
         9687,
         "shipping",
         "3044 Scott Row",
         "North Noah",
         "Oregon",
         73984,
         null
        ],
        [
         9687,
         "billing",
         "146 Smith Coves Apt. 738",
         "North Lisaton",
         "West Virginia",
         46429,
         null
        ],
        [
         2141,
         "shipping",
         "098 Sellers Station",
         "South Javierstad",
         "Texas",
         59689,
         null
        ],
        [
         2141,
         "billing",
         "7451 Lisa Stravenue Suite 994",
         "South Victor",
         "Kansas",
         49835,
         null
        ],
        [
         5592,
         "shipping",
         "754 Ricky Corners Apt. 629",
         "Jonland",
         "South Carolina",
         2070,
         null
        ],
        [
         5592,
         "billing",
         "9688 Elizabeth Plains",
         "South Theodoreburgh",
         "Massachusetts",
         97146,
         null
        ],
        [
         6406,
         "shipping",
         "613 Hart Rapid Apt. 447",
         "Shannonmouth",
         "Wyoming",
         83119,
         null
        ],
        [
         6406,
         "billing",
         "5706 Adam Forges Suite 567",
         "Josephburgh",
         "South Dakota",
         7359,
         null
        ],
        [
         7007,
         "shipping",
         "64918 Lee Ports Apt. 269",
         "Jasonview",
         "Maryland",
         18994,
         null
        ],
        [
         7007,
         "billing",
         "201 Danielle Hollow Apt. 665",
         "Jerryport",
         "South Dakota",
         12363,
         null
        ],
        [
         5953,
         "shipping",
         "1393 White Wells Suite 722",
         "North Karen",
         "Connecticut",
         47802,
         null
        ],
        [
         5953,
         "billing",
         "470 Casey Pines Suite 957",
         "Deanmouth",
         "Arkansas",
         96860,
         null
        ],
        [
         9605,
         "shipping",
         "4123 Solomon Oval Apt. 648",
         "Mccormickside",
         "Indiana",
         90659,
         null
        ],
        [
         9605,
         "billing",
         "67373 David Plains Suite 457",
         "East Stevenfort",
         "Nevada",
         84183,
         null
        ],
        [
         8845,
         "shipping",
         "95689 Jeffrey Expressway",
         "East Lanceborough",
         "Pennsylvania",
         79251,
         null
        ],
        [
         8845,
         "billing",
         "556 Christensen Pike",
         "North Jeremyview",
         "California",
         90786,
         null
        ],
        [
         4973,
         "shipping",
         "3013 Michelle Mountain Apt. 214",
         "South Patrickburgh",
         "Arizona",
         45875,
         null
        ],
        [
         4973,
         "billing",
         "748 John Curve",
         "Fritzberg",
         "Maryland",
         36128,
         null
        ],
        [
         6167,
         "shipping",
         "179 Vang Street",
         "Jessicastad",
         "Connecticut",
         40919,
         null
        ],
        [
         6167,
         "billing",
         "58676 Keith Coves",
         "New Erichaven",
         "Kentucky",
         25297,
         null
        ],
        [
         3295,
         "shipping",
         "9569 Dennis Way Suite 047",
         "North Amy",
         "New York",
         17867,
         null
        ],
        [
         3295,
         "billing",
         "36789 Hatfield Landing",
         "Haydenton",
         "Tennessee",
         60950,
         null
        ],
        [
         9150,
         "shipping",
         "819 Campbell Ville",
         "South Ian",
         "California",
         35549,
         null
        ],
        [
         9150,
         "billing",
         "48219 Kurt Hollow",
         "South Ravenberg",
         "Rhode Island",
         8078,
         null
        ]
       ],
       "datasetInfos": [
        {
         "name": "_sqldf",
         "schema": {
          "fields": [
           {
            "metadata": {},
            "name": "customer_id",
            "nullable": true,
            "type": "integer"
           },
           {
            "metadata": {},
            "name": "address_type",
            "nullable": true,
            "type": "string"
           },
           {
            "metadata": {},
            "name": "address_line_1",
            "nullable": true,
            "type": "string"
           },
           {
            "metadata": {},
            "name": "city",
            "nullable": true,
            "type": "string"
           },
           {
            "metadata": {},
            "name": "state",
            "nullable": true,
            "type": "string"
           },
           {
            "metadata": {},
            "name": "postcode",
            "nullable": true,
            "type": "integer"
           },
           {
            "metadata": {},
            "name": "_rescued_data",
            "nullable": true,
            "type": "string"
           }
          ],
          "type": "struct"
         },
         "tableIdentifier": null,
         "typeStr": "pyspark.sql.connect.dataframe.DataFrame"
        }
       ],
       "dbfsResultPath": null,
       "isJsonSchema": true,
       "metadata": {
        "createTempViewForImplicitDf": true,
        "dataframeName": "_sqldf",
        "executionCount": 12
       },
       "overflow": false,
       "plotOptions": {
        "customPlotOptions": {},
        "displayType": "table",
        "pivotAggregation": null,
        "pivotColumns": null,
        "xColumns": null,
        "yColumns": null
       },
       "removedWidgets": [],
       "schema": [
        {
         "metadata": "{}",
         "name": "customer_id",
         "type": "\"integer\""
        },
        {
         "metadata": "{}",
         "name": "address_type",
         "type": "\"string\""
        },
        {
         "metadata": "{}",
         "name": "address_line_1",
         "type": "\"string\""
        },
        {
         "metadata": "{}",
         "name": "city",
         "type": "\"string\""
        },
        {
         "metadata": "{}",
         "name": "state",
         "type": "\"string\""
        },
        {
         "metadata": "{}",
         "name": "postcode",
         "type": "\"integer\""
        },
        {
         "metadata": "{}",
         "name": "_rescued_data",
         "type": "\"string\""
        }
       ],
       "type": "table"
      }
     },
     "output_type": "display_data"
    }
   ],
   "source": [
    "%sql\n",
    "SELECT *\n",
    "FROM read_files(\n",
    "  'dbfs:/Volumes/gizmobox/landing/operational_data/addresses/*.tsv',\n",
    "  format      => 'csv',\n",
    "  header      => true,\n",
    "  delimiter   => '\\t',\n",
    "  inferSchema => true\n",
    ");"
   ]
  },
  {
   "cell_type": "markdown",
   "metadata": {
    "application/vnd.databricks.v1+cell": {
     "cellMetadata": {},
     "inputWidgets": {},
     "nuid": "c3a7d54b-983c-4513-88c0-f90e6ec43095",
     "showTitle": false,
     "tableResultSettingsMap": {},
     "title": ""
    }
   },
   "source": [
    "#### 3- create addresses view in the Bronze Layer "
   ]
  },
  {
   "cell_type": "code",
   "execution_count": 0,
   "metadata": {
    "application/vnd.databricks.v1+cell": {
     "cellMetadata": {
      "byteLimit": 2048000,
      "implicitDf": true,
      "rowLimit": 10000
     },
     "inputWidgets": {},
     "nuid": "c728d990-f3c3-4b79-b6e0-f3326960e5ff",
     "showTitle": false,
     "tableResultSettingsMap": {},
     "title": ""
    }
   },
   "outputs": [],
   "source": [
    "%sql\n",
    "create or replace view gizmobox.bronze.v_addresses as\n",
    "SELECT *\n",
    "FROM read_files('dbfs:/Volumes/gizmobox/landing/operational_data/addresses',\n",
    "  format      => 'csv',\n",
    "  header      => true,\n",
    "  delimiter   => '\\t',\n",
    "  inferSchema => true);`"
   ]
  },
  {
   "cell_type": "code",
   "execution_count": 0,
   "metadata": {
    "application/vnd.databricks.v1+cell": {
     "cellMetadata": {
      "byteLimit": 2048000,
      "implicitDf": true,
      "rowLimit": 10000
     },
     "inputWidgets": {},
     "nuid": "4d1b73c5-6860-4ab5-92bc-b613bc57a830",
     "showTitle": false,
     "tableResultSettingsMap": {},
     "title": ""
    }
   },
   "outputs": [
    {
     "output_type": "display_data",
     "data": {
      "text/html": [
       "<style scoped>\n",
       "  .table-result-container {\n",
       "    max-height: 300px;\n",
       "    overflow: auto;\n",
       "  }\n",
       "  table, th, td {\n",
       "    border: 1px solid black;\n",
       "    border-collapse: collapse;\n",
       "  }\n",
       "  th, td {\n",
       "    padding: 5px;\n",
       "  }\n",
       "  th {\n",
       "    text-align: left;\n",
       "  }\n",
       "</style><div class='table-result-container'><table class='table-result'><thead style='background-color: white'><tr><th>customer_id</th><th>address_type</th><th>address_line_1</th><th>city</th><th>state</th><th>postcode</th><th>_rescued_data</th></tr></thead><tbody><tr><td>9179</td><td>shipping</td><td>9713 Medina Mountains Apt. 813</td><td>Lake Erika</td><td>Mississippi</td><td>91945</td><td>null</td></tr><tr><td>9179</td><td>billing</td><td>084 Anne Hollow Apt. 064</td><td>East Jasontown</td><td>Minnesota</td><td>77329</td><td>null</td></tr><tr><td>5816</td><td>shipping</td><td>8400 Rebecca Lodge Suite 011</td><td>Lake Lisatown</td><td>Montana</td><td>11354</td><td>null</td></tr><tr><td>5816</td><td>billing</td><td>869 Linda Locks Apt. 105</td><td>West Melissabury</td><td>Michigan</td><td>37662</td><td>null</td></tr><tr><td>4858</td><td>shipping</td><td>4838 Jacob Neck</td><td>Jamesview</td><td>Wisconsin</td><td>58657</td><td>null</td></tr><tr><td>4858</td><td>billing</td><td>4558 Cabrera Islands</td><td>Lake David</td><td>Rhode Island</td><td>6133</td><td>null</td></tr><tr><td>7207</td><td>shipping</td><td>75470 Richardson Mission Apt. 147</td><td>New Rachelhaven</td><td>Hawaii</td><td>38857</td><td>null</td></tr><tr><td>7207</td><td>billing</td><td>4450 Michelle Mission Suite 663</td><td>North Justin</td><td>Kentucky</td><td>91757</td><td>null</td></tr><tr><td>8539</td><td>shipping</td><td>331 Monica Route Apt. 022</td><td>Michellechester</td><td>Texas</td><td>14637</td><td>null</td></tr><tr><td>8539</td><td>billing</td><td>48794 Aguirre Ferry Apt. 952</td><td>North Amy</td><td>Washington</td><td>92507</td><td>null</td></tr><tr><td>9706</td><td>shipping</td><td>2856 Jeremy Wall Apt. 985</td><td>East Elizabeth</td><td>Oklahoma</td><td>66460</td><td>null</td></tr><tr><td>9706</td><td>billing</td><td>14540 Moody Tunnel</td><td>West Shellybury</td><td>Kentucky</td><td>83151</td><td>null</td></tr><tr><td>9263</td><td>shipping</td><td>5733 Richards Ferry Suite 995</td><td>East Angelafort</td><td>Indiana</td><td>79556</td><td>null</td></tr><tr><td>9263</td><td>billing</td><td>13677 Garcia Ports</td><td>Shelleyland</td><td>Rhode Island</td><td>3719</td><td>null</td></tr><tr><td>5028</td><td>shipping</td><td>955 Montgomery Mountain Suite 167</td><td>Jameschester</td><td>Kentucky</td><td>9013</td><td>null</td></tr><tr><td>5028</td><td>billing</td><td>5094 Ayala Falls</td><td>Greenmouth</td><td>North Carolina</td><td>2638</td><td>null</td></tr><tr><td>9018</td><td>shipping</td><td>2099 Francisco Spring</td><td>Beanshire</td><td>South Carolina</td><td>87684</td><td>null</td></tr><tr><td>9018</td><td>billing</td><td>207 Tracy Gateway</td><td>Cookberg</td><td>Delaware</td><td>14011</td><td>null</td></tr><tr><td>8580</td><td>shipping</td><td>17549 Lisa Mission Suite 987</td><td>Vasquezstad</td><td>Virginia</td><td>40641</td><td>null</td></tr><tr><td>8580</td><td>billing</td><td>6150 Jessica Park</td><td>Bellmouth</td><td>Pennsylvania</td><td>82370</td><td>null</td></tr><tr><td>3409</td><td>shipping</td><td>918 April Junctions</td><td>New Theresa</td><td>Indiana</td><td>46004</td><td>null</td></tr><tr><td>3409</td><td>billing</td><td>1294 Edward Inlet</td><td>North Alison</td><td>Indiana</td><td>82752</td><td>null</td></tr><tr><td>3889</td><td>shipping</td><td>90408 Connie Pines Suite 258</td><td>Catherinehaven</td><td>Texas</td><td>33736</td><td>null</td></tr><tr><td>3889</td><td>billing</td><td>7908 Walker Track</td><td>North Jose</td><td>Virginia</td><td>84099</td><td>null</td></tr><tr><td>9084</td><td>shipping</td><td>411 Joseph Park</td><td>Ericside</td><td>South Dakota</td><td>45339</td><td>null</td></tr><tr><td>9084</td><td>billing</td><td>649 Jessica Parks</td><td>North Tommyland</td><td>Illinois</td><td>88048</td><td>null</td></tr><tr><td>2344</td><td>shipping</td><td>97619 Sanchez Prairie Suite 359</td><td>Kelleyfurt</td><td>Louisiana</td><td>64906</td><td>null</td></tr><tr><td>2344</td><td>billing</td><td>5008 Corey Landing Apt. 475</td><td>South Christinaburgh</td><td>New Mexico</td><td>3650</td><td>null</td></tr><tr><td>5011</td><td>shipping</td><td>828 Michele Spring</td><td>Duffyshire</td><td>Tennessee</td><td>93025</td><td>null</td></tr><tr><td>5011</td><td>billing</td><td>8066 Smith Ports</td><td>Port Cheryl</td><td>Florida</td><td>97952</td><td>null</td></tr><tr><td>9247</td><td>shipping</td><td>196 Thomas Shore Apt. 768</td><td>Bobbymouth</td><td>Louisiana</td><td>91533</td><td>null</td></tr><tr><td>9247</td><td>billing</td><td>0034 Fleming Hollow Suite 295</td><td>Wadefurt</td><td>Montana</td><td>34460</td><td>null</td></tr><tr><td>6627</td><td>shipping</td><td>76810 Mcintosh Forge Suite 885</td><td>Gregoryport</td><td>South Dakota</td><td>41885</td><td>null</td></tr><tr><td>6627</td><td>billing</td><td>35855 Haas Centers Apt. 931</td><td>West Andreaville</td><td>Virginia</td><td>82397</td><td>null</td></tr><tr><td>3892</td><td>shipping</td><td>5001 Castro Creek</td><td>Watsonberg</td><td>South Dakota</td><td>3805</td><td>null</td></tr><tr><td>3892</td><td>billing</td><td>322 Dan Lock</td><td>Terriport</td><td>Missouri</td><td>25276</td><td>null</td></tr><tr><td>1987</td><td>shipping</td><td>944 Smith Squares</td><td>Port Jennifer</td><td>Maryland</td><td>28646</td><td>null</td></tr><tr><td>1987</td><td>billing</td><td>3440 Beck Parkways</td><td>West Jennifer</td><td>Alaska</td><td>79766</td><td>null</td></tr><tr><td>5204</td><td>shipping</td><td>73225 Davis Island</td><td>Robertville</td><td>Florida</td><td>30994</td><td>null</td></tr><tr><td>5204</td><td>billing</td><td>8191 Jennifer Shoals</td><td>Friedmanstad</td><td>North Dakota</td><td>97678</td><td>null</td></tr><tr><td>4468</td><td>shipping</td><td>96501 Michelle Wall</td><td>Andersonmouth</td><td>New York</td><td>40416</td><td>null</td></tr><tr><td>4468</td><td>billing</td><td>790 Jones Neck</td><td>Jenniferville</td><td>Florida</td><td>72949</td><td>null</td></tr><tr><td>4761</td><td>shipping</td><td>55640 Yolanda Brooks</td><td>Andrewfurt</td><td>Missouri</td><td>30615</td><td>null</td></tr><tr><td>4761</td><td>billing</td><td>492 Jose Knoll Apt. 836</td><td>Lake Sydney</td><td>Wyoming</td><td>51511</td><td>null</td></tr><tr><td>2703</td><td>shipping</td><td>5385 Paul Port Suite 963</td><td>Richardsonton</td><td>Florida</td><td>6432</td><td>null</td></tr><tr><td>2703</td><td>billing</td><td>7639 Derek Streets</td><td>New Mary</td><td>California</td><td>68610</td><td>null</td></tr><tr><td>4996</td><td>shipping</td><td>5566 Good Harbor Suite 047</td><td>North Crystalfurt</td><td>Maine</td><td>30274</td><td>null</td></tr><tr><td>4996</td><td>billing</td><td>102 Coleman Centers</td><td>West Paulberg</td><td>Arizona</td><td>55699</td><td>null</td></tr><tr><td>4914</td><td>shipping</td><td>750 Oliver Shore Suite 402</td><td>Reedbury</td><td>Kentucky</td><td>33755</td><td>null</td></tr><tr><td>4914</td><td>billing</td><td>639 Matthew Forge</td><td>South Lisaburgh</td><td>Alaska</td><td>26693</td><td>null</td></tr><tr><td>7295</td><td>shipping</td><td>240 Tammy Bypass Suite 433</td><td>New Hayden</td><td>Minnesota</td><td>55632</td><td>null</td></tr><tr><td>7295</td><td>billing</td><td>0087 Smith Square Suite 127</td><td>West Kristenside</td><td>Idaho</td><td>795</td><td>null</td></tr><tr><td>7803</td><td>shipping</td><td>39194 Le Underpass</td><td>Davidtown</td><td>Virginia</td><td>41382</td><td>null</td></tr><tr><td>7803</td><td>billing</td><td>529 Bobby Squares Apt. 225</td><td>Lake Michelle</td><td>Kansas</td><td>18094</td><td>null</td></tr><tr><td>3712</td><td>shipping</td><td>35807 Kaylee View</td><td>Lake Melanieburgh</td><td>Utah</td><td>86406</td><td>null</td></tr><tr><td>3712</td><td>billing</td><td>91984 Rodney Fork Suite 290</td><td>Maryland</td><td>Missouri</td><td>37082</td><td>null</td></tr><tr><td>2054</td><td>shipping</td><td>225 Lopez Bridge Suite 386</td><td>South Monica</td><td>Indiana</td><td>34134</td><td>null</td></tr><tr><td>2054</td><td>billing</td><td>890 Brandon Brook Suite 774</td><td>North Nicoleborough</td><td>Wyoming</td><td>15077</td><td>null</td></tr><tr><td>7123</td><td>shipping</td><td>6149 Adam Meadows</td><td>South Lisa</td><td>New York</td><td>96138</td><td>null</td></tr><tr><td>7123</td><td>billing</td><td>3975 Short Trail Suite 332</td><td>North Alexandra</td><td>South Dakota</td><td>47448</td><td>null</td></tr><tr><td>6973</td><td>shipping</td><td>5780 Ashley Row</td><td>Larachester</td><td>Alaska</td><td>96580</td><td>null</td></tr><tr><td>6973</td><td>billing</td><td>757 Amy Motorway</td><td>Stephaniemouth</td><td>Massachusetts</td><td>55102</td><td>null</td></tr><tr><td>3532</td><td>shipping</td><td>18892 Benson Lake</td><td>Mitchellland</td><td>Minnesota</td><td>80110</td><td>null</td></tr><tr><td>3532</td><td>billing</td><td>87297 Davis Bypass Apt. 742</td><td>Mannshire</td><td>Colorado</td><td>19139</td><td>null</td></tr><tr><td>1211</td><td>shipping</td><td>580 Samantha Lodge</td><td>New Christinaborough</td><td>Louisiana</td><td>4251</td><td>null</td></tr><tr><td>1211</td><td>billing</td><td>7938 Cervantes Mountain Suite 159</td><td>Oconnorhaven</td><td>Indiana</td><td>44129</td><td>null</td></tr><tr><td>7829</td><td>shipping</td><td>3242 Kelly Forks Suite 810</td><td>Lake Sierraside</td><td>Nebraska</td><td>10629</td><td>null</td></tr><tr><td>7829</td><td>billing</td><td>0722 Gregory Turnpike</td><td>East Jacksonport</td><td>Indiana</td><td>5138</td><td>null</td></tr><tr><td>6384</td><td>shipping</td><td>750 Lisa Valleys</td><td>Heatherton</td><td>Michigan</td><td>22885</td><td>null</td></tr><tr><td>6384</td><td>billing</td><td>3915 Reyes Islands Apt. 261</td><td>New Emily</td><td>Massachusetts</td><td>95275</td><td>null</td></tr><tr><td>2639</td><td>shipping</td><td>5383 Albert Grove Apt. 804</td><td>North Destinyland</td><td>Illinois</td><td>60150</td><td>null</td></tr><tr><td>2639</td><td>billing</td><td>222 Dominique Springs Apt. 942</td><td>Colechester</td><td>Louisiana</td><td>96258</td><td>null</td></tr><tr><td>3084</td><td>shipping</td><td>3337 Gregory Island</td><td>Mitchellbury</td><td>Tennessee</td><td>70603</td><td>null</td></tr><tr><td>3084</td><td>billing</td><td>78828 Montgomery Branch Suite 316</td><td>South Chelsea</td><td>Wisconsin</td><td>61054</td><td>null</td></tr><tr><td>7997</td><td>shipping</td><td>8166 Anthony Lodge Suite 528</td><td>Richardmouth</td><td>Mississippi</td><td>48790</td><td>null</td></tr><tr><td>7997</td><td>billing</td><td>425 Keith Motorway</td><td>West Lawrencemouth</td><td>Nebraska</td><td>76674</td><td>null</td></tr><tr><td>9687</td><td>shipping</td><td>3044 Scott Row</td><td>North Noah</td><td>Oregon</td><td>73984</td><td>null</td></tr><tr><td>9687</td><td>billing</td><td>146 Smith Coves Apt. 738</td><td>North Lisaton</td><td>West Virginia</td><td>46429</td><td>null</td></tr><tr><td>2141</td><td>shipping</td><td>098 Sellers Station</td><td>South Javierstad</td><td>Texas</td><td>59689</td><td>null</td></tr><tr><td>2141</td><td>billing</td><td>7451 Lisa Stravenue Suite 994</td><td>South Victor</td><td>Kansas</td><td>49835</td><td>null</td></tr><tr><td>5592</td><td>shipping</td><td>754 Ricky Corners Apt. 629</td><td>Jonland</td><td>South Carolina</td><td>2070</td><td>null</td></tr><tr><td>5592</td><td>billing</td><td>9688 Elizabeth Plains</td><td>South Theodoreburgh</td><td>Massachusetts</td><td>97146</td><td>null</td></tr><tr><td>6406</td><td>shipping</td><td>613 Hart Rapid Apt. 447</td><td>Shannonmouth</td><td>Wyoming</td><td>83119</td><td>null</td></tr><tr><td>6406</td><td>billing</td><td>5706 Adam Forges Suite 567</td><td>Josephburgh</td><td>South Dakota</td><td>7359</td><td>null</td></tr><tr><td>7007</td><td>shipping</td><td>64918 Lee Ports Apt. 269</td><td>Jasonview</td><td>Maryland</td><td>18994</td><td>null</td></tr><tr><td>7007</td><td>billing</td><td>201 Danielle Hollow Apt. 665</td><td>Jerryport</td><td>South Dakota</td><td>12363</td><td>null</td></tr><tr><td>5953</td><td>shipping</td><td>1393 White Wells Suite 722</td><td>North Karen</td><td>Connecticut</td><td>47802</td><td>null</td></tr><tr><td>5953</td><td>billing</td><td>470 Casey Pines Suite 957</td><td>Deanmouth</td><td>Arkansas</td><td>96860</td><td>null</td></tr><tr><td>9605</td><td>shipping</td><td>4123 Solomon Oval Apt. 648</td><td>Mccormickside</td><td>Indiana</td><td>90659</td><td>null</td></tr><tr><td>9605</td><td>billing</td><td>67373 David Plains Suite 457</td><td>East Stevenfort</td><td>Nevada</td><td>84183</td><td>null</td></tr><tr><td>8845</td><td>shipping</td><td>95689 Jeffrey Expressway</td><td>East Lanceborough</td><td>Pennsylvania</td><td>79251</td><td>null</td></tr><tr><td>8845</td><td>billing</td><td>556 Christensen Pike</td><td>North Jeremyview</td><td>California</td><td>90786</td><td>null</td></tr><tr><td>4973</td><td>shipping</td><td>3013 Michelle Mountain Apt. 214</td><td>South Patrickburgh</td><td>Arizona</td><td>45875</td><td>null</td></tr><tr><td>4973</td><td>billing</td><td>748 John Curve</td><td>Fritzberg</td><td>Maryland</td><td>36128</td><td>null</td></tr><tr><td>6167</td><td>shipping</td><td>179 Vang Street</td><td>Jessicastad</td><td>Connecticut</td><td>40919</td><td>null</td></tr><tr><td>6167</td><td>billing</td><td>58676 Keith Coves</td><td>New Erichaven</td><td>Kentucky</td><td>25297</td><td>null</td></tr><tr><td>3295</td><td>shipping</td><td>9569 Dennis Way Suite 047</td><td>North Amy</td><td>New York</td><td>17867</td><td>null</td></tr><tr><td>3295</td><td>billing</td><td>36789 Hatfield Landing</td><td>Haydenton</td><td>Tennessee</td><td>60950</td><td>null</td></tr><tr><td>9150</td><td>shipping</td><td>819 Campbell Ville</td><td>South Ian</td><td>California</td><td>35549</td><td>null</td></tr><tr><td>9150</td><td>billing</td><td>48219 Kurt Hollow</td><td>South Ravenberg</td><td>Rhode Island</td><td>8078</td><td>null</td></tr></tbody></table></div>"
      ]
     },
     "metadata": {
      "application/vnd.databricks.v1+output": {
       "addedWidgets": {},
       "aggData": [],
       "aggError": "",
       "aggOverflow": false,
       "aggSchema": [],
       "aggSeriesLimitReached": false,
       "aggType": "",
       "arguments": {},
       "columnCustomDisplayInfos": {},
       "data": [
        [
         9179,
         "shipping",
         "9713 Medina Mountains Apt. 813",
         "Lake Erika",
         "Mississippi",
         91945,
         null
        ],
        [
         9179,
         "billing",
         "084 Anne Hollow Apt. 064",
         "East Jasontown",
         "Minnesota",
         77329,
         null
        ],
        [
         5816,
         "shipping",
         "8400 Rebecca Lodge Suite 011",
         "Lake Lisatown",
         "Montana",
         11354,
         null
        ],
        [
         5816,
         "billing",
         "869 Linda Locks Apt. 105",
         "West Melissabury",
         "Michigan",
         37662,
         null
        ],
        [
         4858,
         "shipping",
         "4838 Jacob Neck",
         "Jamesview",
         "Wisconsin",
         58657,
         null
        ],
        [
         4858,
         "billing",
         "4558 Cabrera Islands",
         "Lake David",
         "Rhode Island",
         6133,
         null
        ],
        [
         7207,
         "shipping",
         "75470 Richardson Mission Apt. 147",
         "New Rachelhaven",
         "Hawaii",
         38857,
         null
        ],
        [
         7207,
         "billing",
         "4450 Michelle Mission Suite 663",
         "North Justin",
         "Kentucky",
         91757,
         null
        ],
        [
         8539,
         "shipping",
         "331 Monica Route Apt. 022",
         "Michellechester",
         "Texas",
         14637,
         null
        ],
        [
         8539,
         "billing",
         "48794 Aguirre Ferry Apt. 952",
         "North Amy",
         "Washington",
         92507,
         null
        ],
        [
         9706,
         "shipping",
         "2856 Jeremy Wall Apt. 985",
         "East Elizabeth",
         "Oklahoma",
         66460,
         null
        ],
        [
         9706,
         "billing",
         "14540 Moody Tunnel",
         "West Shellybury",
         "Kentucky",
         83151,
         null
        ],
        [
         9263,
         "shipping",
         "5733 Richards Ferry Suite 995",
         "East Angelafort",
         "Indiana",
         79556,
         null
        ],
        [
         9263,
         "billing",
         "13677 Garcia Ports",
         "Shelleyland",
         "Rhode Island",
         3719,
         null
        ],
        [
         5028,
         "shipping",
         "955 Montgomery Mountain Suite 167",
         "Jameschester",
         "Kentucky",
         9013,
         null
        ],
        [
         5028,
         "billing",
         "5094 Ayala Falls",
         "Greenmouth",
         "North Carolina",
         2638,
         null
        ],
        [
         9018,
         "shipping",
         "2099 Francisco Spring",
         "Beanshire",
         "South Carolina",
         87684,
         null
        ],
        [
         9018,
         "billing",
         "207 Tracy Gateway",
         "Cookberg",
         "Delaware",
         14011,
         null
        ],
        [
         8580,
         "shipping",
         "17549 Lisa Mission Suite 987",
         "Vasquezstad",
         "Virginia",
         40641,
         null
        ],
        [
         8580,
         "billing",
         "6150 Jessica Park",
         "Bellmouth",
         "Pennsylvania",
         82370,
         null
        ],
        [
         3409,
         "shipping",
         "918 April Junctions",
         "New Theresa",
         "Indiana",
         46004,
         null
        ],
        [
         3409,
         "billing",
         "1294 Edward Inlet",
         "North Alison",
         "Indiana",
         82752,
         null
        ],
        [
         3889,
         "shipping",
         "90408 Connie Pines Suite 258",
         "Catherinehaven",
         "Texas",
         33736,
         null
        ],
        [
         3889,
         "billing",
         "7908 Walker Track",
         "North Jose",
         "Virginia",
         84099,
         null
        ],
        [
         9084,
         "shipping",
         "411 Joseph Park",
         "Ericside",
         "South Dakota",
         45339,
         null
        ],
        [
         9084,
         "billing",
         "649 Jessica Parks",
         "North Tommyland",
         "Illinois",
         88048,
         null
        ],
        [
         2344,
         "shipping",
         "97619 Sanchez Prairie Suite 359",
         "Kelleyfurt",
         "Louisiana",
         64906,
         null
        ],
        [
         2344,
         "billing",
         "5008 Corey Landing Apt. 475",
         "South Christinaburgh",
         "New Mexico",
         3650,
         null
        ],
        [
         5011,
         "shipping",
         "828 Michele Spring",
         "Duffyshire",
         "Tennessee",
         93025,
         null
        ],
        [
         5011,
         "billing",
         "8066 Smith Ports",
         "Port Cheryl",
         "Florida",
         97952,
         null
        ],
        [
         9247,
         "shipping",
         "196 Thomas Shore Apt. 768",
         "Bobbymouth",
         "Louisiana",
         91533,
         null
        ],
        [
         9247,
         "billing",
         "0034 Fleming Hollow Suite 295",
         "Wadefurt",
         "Montana",
         34460,
         null
        ],
        [
         6627,
         "shipping",
         "76810 Mcintosh Forge Suite 885",
         "Gregoryport",
         "South Dakota",
         41885,
         null
        ],
        [
         6627,
         "billing",
         "35855 Haas Centers Apt. 931",
         "West Andreaville",
         "Virginia",
         82397,
         null
        ],
        [
         3892,
         "shipping",
         "5001 Castro Creek",
         "Watsonberg",
         "South Dakota",
         3805,
         null
        ],
        [
         3892,
         "billing",
         "322 Dan Lock",
         "Terriport",
         "Missouri",
         25276,
         null
        ],
        [
         1987,
         "shipping",
         "944 Smith Squares",
         "Port Jennifer",
         "Maryland",
         28646,
         null
        ],
        [
         1987,
         "billing",
         "3440 Beck Parkways",
         "West Jennifer",
         "Alaska",
         79766,
         null
        ],
        [
         5204,
         "shipping",
         "73225 Davis Island",
         "Robertville",
         "Florida",
         30994,
         null
        ],
        [
         5204,
         "billing",
         "8191 Jennifer Shoals",
         "Friedmanstad",
         "North Dakota",
         97678,
         null
        ],
        [
         4468,
         "shipping",
         "96501 Michelle Wall",
         "Andersonmouth",
         "New York",
         40416,
         null
        ],
        [
         4468,
         "billing",
         "790 Jones Neck",
         "Jenniferville",
         "Florida",
         72949,
         null
        ],
        [
         4761,
         "shipping",
         "55640 Yolanda Brooks",
         "Andrewfurt",
         "Missouri",
         30615,
         null
        ],
        [
         4761,
         "billing",
         "492 Jose Knoll Apt. 836",
         "Lake Sydney",
         "Wyoming",
         51511,
         null
        ],
        [
         2703,
         "shipping",
         "5385 Paul Port Suite 963",
         "Richardsonton",
         "Florida",
         6432,
         null
        ],
        [
         2703,
         "billing",
         "7639 Derek Streets",
         "New Mary",
         "California",
         68610,
         null
        ],
        [
         4996,
         "shipping",
         "5566 Good Harbor Suite 047",
         "North Crystalfurt",
         "Maine",
         30274,
         null
        ],
        [
         4996,
         "billing",
         "102 Coleman Centers",
         "West Paulberg",
         "Arizona",
         55699,
         null
        ],
        [
         4914,
         "shipping",
         "750 Oliver Shore Suite 402",
         "Reedbury",
         "Kentucky",
         33755,
         null
        ],
        [
         4914,
         "billing",
         "639 Matthew Forge",
         "South Lisaburgh",
         "Alaska",
         26693,
         null
        ],
        [
         7295,
         "shipping",
         "240 Tammy Bypass Suite 433",
         "New Hayden",
         "Minnesota",
         55632,
         null
        ],
        [
         7295,
         "billing",
         "0087 Smith Square Suite 127",
         "West Kristenside",
         "Idaho",
         795,
         null
        ],
        [
         7803,
         "shipping",
         "39194 Le Underpass",
         "Davidtown",
         "Virginia",
         41382,
         null
        ],
        [
         7803,
         "billing",
         "529 Bobby Squares Apt. 225",
         "Lake Michelle",
         "Kansas",
         18094,
         null
        ],
        [
         3712,
         "shipping",
         "35807 Kaylee View",
         "Lake Melanieburgh",
         "Utah",
         86406,
         null
        ],
        [
         3712,
         "billing",
         "91984 Rodney Fork Suite 290",
         "Maryland",
         "Missouri",
         37082,
         null
        ],
        [
         2054,
         "shipping",
         "225 Lopez Bridge Suite 386",
         "South Monica",
         "Indiana",
         34134,
         null
        ],
        [
         2054,
         "billing",
         "890 Brandon Brook Suite 774",
         "North Nicoleborough",
         "Wyoming",
         15077,
         null
        ],
        [
         7123,
         "shipping",
         "6149 Adam Meadows",
         "South Lisa",
         "New York",
         96138,
         null
        ],
        [
         7123,
         "billing",
         "3975 Short Trail Suite 332",
         "North Alexandra",
         "South Dakota",
         47448,
         null
        ],
        [
         6973,
         "shipping",
         "5780 Ashley Row",
         "Larachester",
         "Alaska",
         96580,
         null
        ],
        [
         6973,
         "billing",
         "757 Amy Motorway",
         "Stephaniemouth",
         "Massachusetts",
         55102,
         null
        ],
        [
         3532,
         "shipping",
         "18892 Benson Lake",
         "Mitchellland",
         "Minnesota",
         80110,
         null
        ],
        [
         3532,
         "billing",
         "87297 Davis Bypass Apt. 742",
         "Mannshire",
         "Colorado",
         19139,
         null
        ],
        [
         1211,
         "shipping",
         "580 Samantha Lodge",
         "New Christinaborough",
         "Louisiana",
         4251,
         null
        ],
        [
         1211,
         "billing",
         "7938 Cervantes Mountain Suite 159",
         "Oconnorhaven",
         "Indiana",
         44129,
         null
        ],
        [
         7829,
         "shipping",
         "3242 Kelly Forks Suite 810",
         "Lake Sierraside",
         "Nebraska",
         10629,
         null
        ],
        [
         7829,
         "billing",
         "0722 Gregory Turnpike",
         "East Jacksonport",
         "Indiana",
         5138,
         null
        ],
        [
         6384,
         "shipping",
         "750 Lisa Valleys",
         "Heatherton",
         "Michigan",
         22885,
         null
        ],
        [
         6384,
         "billing",
         "3915 Reyes Islands Apt. 261",
         "New Emily",
         "Massachusetts",
         95275,
         null
        ],
        [
         2639,
         "shipping",
         "5383 Albert Grove Apt. 804",
         "North Destinyland",
         "Illinois",
         60150,
         null
        ],
        [
         2639,
         "billing",
         "222 Dominique Springs Apt. 942",
         "Colechester",
         "Louisiana",
         96258,
         null
        ],
        [
         3084,
         "shipping",
         "3337 Gregory Island",
         "Mitchellbury",
         "Tennessee",
         70603,
         null
        ],
        [
         3084,
         "billing",
         "78828 Montgomery Branch Suite 316",
         "South Chelsea",
         "Wisconsin",
         61054,
         null
        ],
        [
         7997,
         "shipping",
         "8166 Anthony Lodge Suite 528",
         "Richardmouth",
         "Mississippi",
         48790,
         null
        ],
        [
         7997,
         "billing",
         "425 Keith Motorway",
         "West Lawrencemouth",
         "Nebraska",
         76674,
         null
        ],
        [
         9687,
         "shipping",
         "3044 Scott Row",
         "North Noah",
         "Oregon",
         73984,
         null
        ],
        [
         9687,
         "billing",
         "146 Smith Coves Apt. 738",
         "North Lisaton",
         "West Virginia",
         46429,
         null
        ],
        [
         2141,
         "shipping",
         "098 Sellers Station",
         "South Javierstad",
         "Texas",
         59689,
         null
        ],
        [
         2141,
         "billing",
         "7451 Lisa Stravenue Suite 994",
         "South Victor",
         "Kansas",
         49835,
         null
        ],
        [
         5592,
         "shipping",
         "754 Ricky Corners Apt. 629",
         "Jonland",
         "South Carolina",
         2070,
         null
        ],
        [
         5592,
         "billing",
         "9688 Elizabeth Plains",
         "South Theodoreburgh",
         "Massachusetts",
         97146,
         null
        ],
        [
         6406,
         "shipping",
         "613 Hart Rapid Apt. 447",
         "Shannonmouth",
         "Wyoming",
         83119,
         null
        ],
        [
         6406,
         "billing",
         "5706 Adam Forges Suite 567",
         "Josephburgh",
         "South Dakota",
         7359,
         null
        ],
        [
         7007,
         "shipping",
         "64918 Lee Ports Apt. 269",
         "Jasonview",
         "Maryland",
         18994,
         null
        ],
        [
         7007,
         "billing",
         "201 Danielle Hollow Apt. 665",
         "Jerryport",
         "South Dakota",
         12363,
         null
        ],
        [
         5953,
         "shipping",
         "1393 White Wells Suite 722",
         "North Karen",
         "Connecticut",
         47802,
         null
        ],
        [
         5953,
         "billing",
         "470 Casey Pines Suite 957",
         "Deanmouth",
         "Arkansas",
         96860,
         null
        ],
        [
         9605,
         "shipping",
         "4123 Solomon Oval Apt. 648",
         "Mccormickside",
         "Indiana",
         90659,
         null
        ],
        [
         9605,
         "billing",
         "67373 David Plains Suite 457",
         "East Stevenfort",
         "Nevada",
         84183,
         null
        ],
        [
         8845,
         "shipping",
         "95689 Jeffrey Expressway",
         "East Lanceborough",
         "Pennsylvania",
         79251,
         null
        ],
        [
         8845,
         "billing",
         "556 Christensen Pike",
         "North Jeremyview",
         "California",
         90786,
         null
        ],
        [
         4973,
         "shipping",
         "3013 Michelle Mountain Apt. 214",
         "South Patrickburgh",
         "Arizona",
         45875,
         null
        ],
        [
         4973,
         "billing",
         "748 John Curve",
         "Fritzberg",
         "Maryland",
         36128,
         null
        ],
        [
         6167,
         "shipping",
         "179 Vang Street",
         "Jessicastad",
         "Connecticut",
         40919,
         null
        ],
        [
         6167,
         "billing",
         "58676 Keith Coves",
         "New Erichaven",
         "Kentucky",
         25297,
         null
        ],
        [
         3295,
         "shipping",
         "9569 Dennis Way Suite 047",
         "North Amy",
         "New York",
         17867,
         null
        ],
        [
         3295,
         "billing",
         "36789 Hatfield Landing",
         "Haydenton",
         "Tennessee",
         60950,
         null
        ],
        [
         9150,
         "shipping",
         "819 Campbell Ville",
         "South Ian",
         "California",
         35549,
         null
        ],
        [
         9150,
         "billing",
         "48219 Kurt Hollow",
         "South Ravenberg",
         "Rhode Island",
         8078,
         null
        ]
       ],
       "datasetInfos": [
        {
         "name": "_sqldf",
         "schema": {
          "fields": [
           {
            "metadata": {},
            "name": "customer_id",
            "nullable": true,
            "type": "integer"
           },
           {
            "metadata": {},
            "name": "address_type",
            "nullable": true,
            "type": "string"
           },
           {
            "metadata": {},
            "name": "address_line_1",
            "nullable": true,
            "type": "string"
           },
           {
            "metadata": {},
            "name": "city",
            "nullable": true,
            "type": "string"
           },
           {
            "metadata": {},
            "name": "state",
            "nullable": true,
            "type": "string"
           },
           {
            "metadata": {},
            "name": "postcode",
            "nullable": true,
            "type": "integer"
           },
           {
            "metadata": {},
            "name": "_rescued_data",
            "nullable": true,
            "type": "string"
           }
          ],
          "type": "struct"
         },
         "tableIdentifier": null,
         "typeStr": "pyspark.sql.connect.dataframe.DataFrame"
        }
       ],
       "dbfsResultPath": null,
       "isJsonSchema": true,
       "metadata": {
        "createTempViewForImplicitDf": true,
        "dataframeName": "_sqldf",
        "executionCount": 20
       },
       "overflow": false,
       "plotOptions": {
        "customPlotOptions": {},
        "displayType": "table",
        "pivotAggregation": null,
        "pivotColumns": null,
        "xColumns": null,
        "yColumns": null
       },
       "removedWidgets": [],
       "schema": [
        {
         "metadata": "{}",
         "name": "customer_id",
         "type": "\"integer\""
        },
        {
         "metadata": "{}",
         "name": "address_type",
         "type": "\"string\""
        },
        {
         "metadata": "{}",
         "name": "address_line_1",
         "type": "\"string\""
        },
        {
         "metadata": "{}",
         "name": "city",
         "type": "\"string\""
        },
        {
         "metadata": "{}",
         "name": "state",
         "type": "\"string\""
        },
        {
         "metadata": "{}",
         "name": "postcode",
         "type": "\"integer\""
        },
        {
         "metadata": "{}",
         "name": "_rescued_data",
         "type": "\"string\""
        }
       ],
       "type": "table"
      }
     },
     "output_type": "display_data"
    }
   ],
   "source": [
    "%sql\n",
    "select * from gizmobox.bronze.v_addresses"
   ]
  }
 ],
 "metadata": {
  "application/vnd.databricks.v1+notebook": {
   "computePreferences": null,
   "dashboards": [],
   "environmentMetadata": {
    "base_environment": "",
    "environment_version": "3"
   },
   "inputWidgetPreferences": null,
   "language": "python",
   "notebookMetadata": {
    "mostRecentlyExecutedCommandWithImplicitDF": {
     "commandId": 7953112485584594,
     "dataframes": [
      "_sqldf"
     ]
    },
    "pythonIndentUnit": 4
   },
   "notebookName": "4-Extract-data-from-the-Address-Files",
   "widgets": {}
  },
  "language_info": {
   "name": "python"
  }
 },
 "nbformat": 4,
 "nbformat_minor": 0
}